{
  "nbformat": 4,
  "nbformat_minor": 0,
  "metadata": {
    "colab": {
      "name": "Untitled9.ipynb",
      "provenance": [],
      "authorship_tag": "ABX9TyOCxhSGRyYFdnb6JQl5gfdI",
      "include_colab_link": true
    },
    "kernelspec": {
      "name": "ir",
      "display_name": "R"
    },
    "language_info": {
      "name": "R"
    }
  },
  "cells": [
    {
      "cell_type": "markdown",
      "metadata": {
        "id": "view-in-github",
        "colab_type": "text"
      },
      "source": [
        "<a href=\"https://colab.research.google.com/github/mjiii25/jeonju/blob/main/%EB%8D%B0%EC%9D%B4%ED%84%B0%20%EC%A0%95%EB%A6%AC.ipynb\" target=\"_parent\"><img src=\"https://colab.research.google.com/assets/colab-badge.svg\" alt=\"Open In Colab\"/></a>"
      ]
    },
    {
      "cell_type": "markdown",
      "metadata": {
        "id": "dVi2ZRXabTIG"
      },
      "source": [
        "# R 실행\n",
        "\n",
        "https://gist.github.com/jobdiogenes/235620928c84e604c6e56211ccf681f0"
      ]
    },
    {
      "cell_type": "code",
      "metadata": {
        "colab": {
          "base_uri": "https://localhost:8080/"
        },
        "id": "IoDbJVG7alub",
        "outputId": "afcfb712-bb23-4b45-8e13-effbfe6537dc"
      },
      "source": [
        "# Check if is running in Colab and redefine is_interactive()\n",
        "if (file.exists(\"/usr/local/lib/python3.7/dist-packages/google/colab/_ipython.py\")) {\n",
        "  install.packages(\"R.utils\")\n",
        "  library(\"R.utils\")\n",
        "  library(\"httr\")\n",
        "  my_check <- function() {return(TRUE)}\n",
        "  reassignInPackage(\"is_interactive\", pkgName = \"httr\", my_check) \n",
        "  options(rlang_interactive=TRUE)\n",
        "}"
      ],
      "execution_count": null,
      "outputs": [
        {
          "output_type": "stream",
          "text": [
            "Installing package into ‘/usr/local/lib/R/site-library’\n",
            "(as ‘lib’ is unspecified)\n",
            "\n",
            "also installing the dependencies ‘R.oo’, ‘R.methodsS3’\n",
            "\n",
            "\n",
            "Loading required package: R.oo\n",
            "\n",
            "Loading required package: R.methodsS3\n",
            "\n",
            "R.methodsS3 v1.8.1 (2020-08-26 16:20:06 UTC) successfully loaded. See ?R.methodsS3 for help.\n",
            "\n",
            "R.oo v1.24.0 (2020-08-26 16:11:58 UTC) successfully loaded. See ?R.oo for help.\n",
            "\n",
            "\n",
            "Attaching package: ‘R.oo’\n",
            "\n",
            "\n",
            "The following object is masked from ‘package:R.methodsS3’:\n",
            "\n",
            "    throw\n",
            "\n",
            "\n",
            "The following objects are masked from ‘package:methods’:\n",
            "\n",
            "    getClasses, getMethods\n",
            "\n",
            "\n",
            "The following objects are masked from ‘package:base’:\n",
            "\n",
            "    attach, detach, load, save\n",
            "\n",
            "\n",
            "R.utils v2.10.1 (2020-08-26 22:50:31 UTC) successfully loaded. See ?R.utils for help.\n",
            "\n",
            "\n",
            "Attaching package: ‘R.utils’\n",
            "\n",
            "\n",
            "The following object is masked from ‘package:utils’:\n",
            "\n",
            "    timestamp\n",
            "\n",
            "\n",
            "The following objects are masked from ‘package:base’:\n",
            "\n",
            "    cat, commandArgs, getOption, inherits, isOpen, nullfile, parse,\n",
            "    warnings\n",
            "\n",
            "\n"
          ],
          "name": "stderr"
        }
      ]
    },
    {
      "cell_type": "code",
      "metadata": {
        "id": "va2I2kGQasIw"
      },
      "source": [
        "# If ts not available we need to install . put other packages if you need.\n",
        "packages <- c(\"googledrive\", \"googlesheets4\")\n",
        "if (length(setdiff(packages, rownames(installed.packages()))) > 0) {\n",
        "  install.packages(setdiff(packages, rownames(installed.packages())))  \n",
        "}"
      ],
      "execution_count": null,
      "outputs": []
    },
    {
      "cell_type": "code",
      "metadata": {
        "colab": {
          "base_uri": "https://localhost:8080/"
        },
        "id": "1S362jWsawQ-",
        "outputId": "1c31f803-2363-4db1-9b68-97e73d6df6e6"
      },
      "source": [
        "library(\"googledrive\")\n",
        "library(\"googlesheets4\")"
      ],
      "execution_count": null,
      "outputs": [
        {
          "output_type": "stream",
          "text": [
            "\n",
            "Attaching package: ‘googlesheets4’\n",
            "\n",
            "\n",
            "The following objects are masked from ‘package:googledrive’:\n",
            "\n",
            "    request_generate, request_make\n",
            "\n",
            "\n"
          ],
          "name": "stderr"
        }
      ]
    },
    {
      "cell_type": "code",
      "metadata": {
        "colab": {
          "base_uri": "https://localhost:8080/"
        },
        "id": "IyDQWX6may1K",
        "outputId": "c975e60a-9ebd-4fb8-bbee-462db0295a02"
      },
      "source": [
        "# call authentication forcing interactive login and save in cache. \n",
        "drive_auth(use_oob = TRUE, cache = TRUE)"
      ],
      "execution_count": null,
      "outputs": [
        {
          "output_type": "stream",
          "text": [
            "Please point your browser to the following url: \n",
            "\n",
            "https://accounts.google.com/o/oauth2/auth?client_id=603366585132-dpeg5tt0et3go5of2374d83ifevk5086.apps.googleusercontent.com&scope=https%3A%2F%2Fwww.googleapis.com%2Fauth%2Fdrive%20https%3A%2F%2Fwww.googleapis.com%2Fauth%2Fuserinfo.email&redirect_uri=urn%3Aietf%3Awg%3Aoauth%3A2.0%3Aoob&response_type=code\n",
            "\n"
          ],
          "name": "stderr"
        },
        {
          "output_type": "stream",
          "text": [
            "Enter authorization code: 4/1AY0e-g4J1WemvT9vVcsyEpoqBw5vyhNgbTXLsbaiuJAv7lAzsOA859OLEhg\n"
          ],
          "name": "stdout"
        }
      ]
    },
    {
      "cell_type": "code",
      "metadata": {
        "id": "VHB7jRfca8T6"
      },
      "source": [
        "# Find Google Sheets anf get the id of the first sheet \n",
        "Sheets <- drive_find(type = \"spreadsheet\")\n",
        "first_id <- Sheets$id[1]"
      ],
      "execution_count": null,
      "outputs": []
    },
    {
      "cell_type": "code",
      "metadata": {
        "colab": {
          "base_uri": "https://localhost:8080/"
        },
        "id": "xWH8JGGObArO",
        "outputId": "e90ee4cb-6691-4680-98d9-ae12a59dc50d"
      },
      "source": [
        "# reuse token to Sheet Auth. \n",
        "sheets_auth(token = drive_token())"
      ],
      "execution_count": null,
      "outputs": [
        {
          "output_type": "stream",
          "text": [
            "Warning message:\n",
            "“`sheets_auth()` was deprecated in googlesheets4 0.2.0.\n",
            "Please use `gs4_auth()` instead.\n",
            "\u001b[90mThis warning is displayed once every 8 hours.\u001b[39m\n",
            "\u001b[90mCall `lifecycle::last_warnings()` to see where this warning was generated.\u001b[39m”\n"
          ],
          "name": "stderr"
        }
      ]
    },
    {
      "cell_type": "code",
      "metadata": {
        "colab": {
          "base_uri": "https://localhost:8080/",
          "height": 1000
        },
        "id": "VCko-jGkbDnG",
        "outputId": "d99df270-aef5-43ad-ee84-f9579ca72551"
      },
      "source": [
        "# show data\n",
        "sheets_read(first_id)"
      ],
      "execution_count": null,
      "outputs": [
        {
          "output_type": "stream",
          "text": [
            "Warning message:\n",
            "“`sheets_read()` was deprecated in googlesheets4 0.2.0.\n",
            "Please use `range_read()` instead.\n",
            "\u001b[90mThis warning is displayed once every 8 hours.\u001b[39m\n",
            "\u001b[90mCall `lifecycle::last_warnings()` to see where this warning was generated.\u001b[39m”\n",
            "Reading from \"gu_usage\"\n",
            "\n",
            "Range \"gu_usage\"\n",
            "\n"
          ],
          "name": "stderr"
        },
        {
          "output_type": "display_data",
          "data": {
            "text/plain": [
              "    province gu       gu_eng       date       count \n",
              "1   서울     종로구   Jongno       2020-07-01  85935\n",
              "2   서울     중구     Jung         2020-07-01  52417\n",
              "3   서울     용산구   Yongsan      2020-07-01  58354\n",
              "4   서울     성동구   Seongdong    2020-07-01 106216\n",
              "5   서울     광진구   Kwangjin     2020-07-01 125735\n",
              "6   서울     동대문구 Dongdaemun   2020-07-01  93487\n",
              "7   서울     중랑구   Jungnang     2020-07-01  76841\n",
              "8   서울     성북구   Seongbuk     2020-07-01  81364\n",
              "9   서울     강북구   Gangbuk      2020-07-01  54503\n",
              "10  서울     도봉구   Dobong       2020-07-01  58420\n",
              "11  서울     노원구   Nowon        2020-07-01 157281\n",
              "12  서울     은평구   Eunpyeong    2020-07-01  81923\n",
              "13  서울     서대문구 Seodaemun    2020-07-01  65144\n",
              "14  서울     마포구   Mapo         2020-07-01 155009\n",
              "15  서울     양천구   Yangcheon    2020-07-01 119956\n",
              "16  서울     강서구   Gangseo      2020-07-01 224984\n",
              "17  서울     구로구   Guro         2020-07-01 106619\n",
              "18  서울     금천구   Geumcheon    2020-07-01  43940\n",
              "19  서울     영등포구 Yeongdeungpo 2020-07-01 209515\n",
              "20  서울     동작구   Dongjak      2020-07-01  67929\n",
              "21  서울     관악구   Gwanak       2020-07-01  92451\n",
              "22  서울     서초구   Seocho       2020-07-01 101631\n",
              "23  서울     강남구   Gangnam      2020-07-01  79194\n",
              "24  서울     송파구   Songpa       2020-07-01 185529\n",
              "25  서울     강동구   Gangdong     2020-07-01  97719\n",
              "26  서울     종로구   Jongno       2020-08-01  65729\n",
              "27  서울     중구     Jung         2020-08-01  40401\n",
              "28  서울     용산구   Yongsan      2020-08-01  36762\n",
              "29  서울     성동구   Seongdong    2020-08-01  65323\n",
              "30  서울     광진구   Kwangjin     2020-08-01  75051\n",
              "⋮   ⋮        ⋮        ⋮            ⋮          ⋮     \n",
              "146 서울     관악구   Gwanak       2020-12-01 41420 \n",
              "147 서울     서초구   Seocho       2020-12-01 43259 \n",
              "148 서울     강남구   Gangnam      2020-12-01 38004 \n",
              "149 서울     송파구   Songpa       2020-12-01 85064 \n",
              "150 서울     강동구   Gangdong     2020-12-01 42373 \n",
              "151 서울     종로구   Jongno       2021-01-01 35643 \n",
              "152 서울     중구     Jung         2021-01-01 20396 \n",
              "153 서울     용산구   Yongsan      2021-01-01 18203 \n",
              "154 서울     성동구   Seongdong    2021-01-01 35822 \n",
              "155 서울     광진구   Kwangjin     2021-01-01 38357 \n",
              "156 서울     동대문구 Dongdaemun   2021-01-01 33426 \n",
              "157 서울     중랑구   Jungnang     2021-01-01 22773 \n",
              "158 서울     성북구   Seongbuk     2021-01-01 26138 \n",
              "159 서울     강북구   Gangbuk      2021-01-01 16101 \n",
              "160 서울     도봉구   Dobong       2021-01-01 16620 \n",
              "161 서울     노원구   Nowon        2021-01-01 41994 \n",
              "162 서울     은평구   Eunpyeong    2021-01-01 25442 \n",
              "163 서울     서대문구 Seodaemun    2021-01-01 23065 \n",
              "164 서울     마포구   Mapo         2021-01-01 48660 \n",
              "165 서울     양천구   Yangcheon    2021-01-01 43330 \n",
              "166 서울     강서구   Gangseo      2021-01-01 75019 \n",
              "167 서울     구로구   Guro         2021-01-01 31633 \n",
              "168 서울     금천구   Geumcheon    2021-01-01 13494 \n",
              "169 서울     영등포구 Yeongdeungpo 2021-01-01 64359 \n",
              "170 서울     동작구   Dongjak      2021-01-01 18950 \n",
              "171 서울     관악구   Gwanak       2021-01-01 27457 \n",
              "172 서울     서초구   Seocho       2021-01-01 29483 \n",
              "173 서울     강남구   Gangnam      2021-01-01 24706 \n",
              "174 서울     송파구   Songpa       2021-01-01 54819 \n",
              "175 서울     강동구   Gangdong     2021-01-01 26158 "
            ],
            "text/latex": "A tibble: 175 × 5\n\\begin{tabular}{lllll}\n province & gu & gu\\_eng & date & count\\\\\n <chr> & <chr> & <chr> & <dttm> & <dbl>\\\\\n\\hline\n\t 서울 & 종로구   & Jongno       & 2020-07-01 &  85935\\\\\n\t 서울 & 중구     & Jung         & 2020-07-01 &  52417\\\\\n\t 서울 & 용산구   & Yongsan      & 2020-07-01 &  58354\\\\\n\t 서울 & 성동구   & Seongdong    & 2020-07-01 & 106216\\\\\n\t 서울 & 광진구   & Kwangjin     & 2020-07-01 & 125735\\\\\n\t 서울 & 동대문구 & Dongdaemun   & 2020-07-01 &  93487\\\\\n\t 서울 & 중랑구   & Jungnang     & 2020-07-01 &  76841\\\\\n\t 서울 & 성북구   & Seongbuk     & 2020-07-01 &  81364\\\\\n\t 서울 & 강북구   & Gangbuk      & 2020-07-01 &  54503\\\\\n\t 서울 & 도봉구   & Dobong       & 2020-07-01 &  58420\\\\\n\t 서울 & 노원구   & Nowon        & 2020-07-01 & 157281\\\\\n\t 서울 & 은평구   & Eunpyeong    & 2020-07-01 &  81923\\\\\n\t 서울 & 서대문구 & Seodaemun    & 2020-07-01 &  65144\\\\\n\t 서울 & 마포구   & Mapo         & 2020-07-01 & 155009\\\\\n\t 서울 & 양천구   & Yangcheon    & 2020-07-01 & 119956\\\\\n\t 서울 & 강서구   & Gangseo      & 2020-07-01 & 224984\\\\\n\t 서울 & 구로구   & Guro         & 2020-07-01 & 106619\\\\\n\t 서울 & 금천구   & Geumcheon    & 2020-07-01 &  43940\\\\\n\t 서울 & 영등포구 & Yeongdeungpo & 2020-07-01 & 209515\\\\\n\t 서울 & 동작구   & Dongjak      & 2020-07-01 &  67929\\\\\n\t 서울 & 관악구   & Gwanak       & 2020-07-01 &  92451\\\\\n\t 서울 & 서초구   & Seocho       & 2020-07-01 & 101631\\\\\n\t 서울 & 강남구   & Gangnam      & 2020-07-01 &  79194\\\\\n\t 서울 & 송파구   & Songpa       & 2020-07-01 & 185529\\\\\n\t 서울 & 강동구   & Gangdong     & 2020-07-01 &  97719\\\\\n\t 서울 & 종로구   & Jongno       & 2020-08-01 &  65729\\\\\n\t 서울 & 중구     & Jung         & 2020-08-01 &  40401\\\\\n\t 서울 & 용산구   & Yongsan      & 2020-08-01 &  36762\\\\\n\t 서울 & 성동구   & Seongdong    & 2020-08-01 &  65323\\\\\n\t 서울 & 광진구   & Kwangjin     & 2020-08-01 &  75051\\\\\n\t ⋮ & ⋮ & ⋮ & ⋮ & ⋮\\\\\n\t 서울 & 관악구   & Gwanak       & 2020-12-01 & 41420\\\\\n\t 서울 & 서초구   & Seocho       & 2020-12-01 & 43259\\\\\n\t 서울 & 강남구   & Gangnam      & 2020-12-01 & 38004\\\\\n\t 서울 & 송파구   & Songpa       & 2020-12-01 & 85064\\\\\n\t 서울 & 강동구   & Gangdong     & 2020-12-01 & 42373\\\\\n\t 서울 & 종로구   & Jongno       & 2021-01-01 & 35643\\\\\n\t 서울 & 중구     & Jung         & 2021-01-01 & 20396\\\\\n\t 서울 & 용산구   & Yongsan      & 2021-01-01 & 18203\\\\\n\t 서울 & 성동구   & Seongdong    & 2021-01-01 & 35822\\\\\n\t 서울 & 광진구   & Kwangjin     & 2021-01-01 & 38357\\\\\n\t 서울 & 동대문구 & Dongdaemun   & 2021-01-01 & 33426\\\\\n\t 서울 & 중랑구   & Jungnang     & 2021-01-01 & 22773\\\\\n\t 서울 & 성북구   & Seongbuk     & 2021-01-01 & 26138\\\\\n\t 서울 & 강북구   & Gangbuk      & 2021-01-01 & 16101\\\\\n\t 서울 & 도봉구   & Dobong       & 2021-01-01 & 16620\\\\\n\t 서울 & 노원구   & Nowon        & 2021-01-01 & 41994\\\\\n\t 서울 & 은평구   & Eunpyeong    & 2021-01-01 & 25442\\\\\n\t 서울 & 서대문구 & Seodaemun    & 2021-01-01 & 23065\\\\\n\t 서울 & 마포구   & Mapo         & 2021-01-01 & 48660\\\\\n\t 서울 & 양천구   & Yangcheon    & 2021-01-01 & 43330\\\\\n\t 서울 & 강서구   & Gangseo      & 2021-01-01 & 75019\\\\\n\t 서울 & 구로구   & Guro         & 2021-01-01 & 31633\\\\\n\t 서울 & 금천구   & Geumcheon    & 2021-01-01 & 13494\\\\\n\t 서울 & 영등포구 & Yeongdeungpo & 2021-01-01 & 64359\\\\\n\t 서울 & 동작구   & Dongjak      & 2021-01-01 & 18950\\\\\n\t 서울 & 관악구   & Gwanak       & 2021-01-01 & 27457\\\\\n\t 서울 & 서초구   & Seocho       & 2021-01-01 & 29483\\\\\n\t 서울 & 강남구   & Gangnam      & 2021-01-01 & 24706\\\\\n\t 서울 & 송파구   & Songpa       & 2021-01-01 & 54819\\\\\n\t 서울 & 강동구   & Gangdong     & 2021-01-01 & 26158\\\\\n\\end{tabular}\n",
            "text/markdown": "\nA tibble: 175 × 5\n\n| province &lt;chr&gt; | gu &lt;chr&gt; | gu_eng &lt;chr&gt; | date &lt;dttm&gt; | count &lt;dbl&gt; |\n|---|---|---|---|---|\n| 서울 | 종로구   | Jongno       | 2020-07-01 |  85935 |\n| 서울 | 중구     | Jung         | 2020-07-01 |  52417 |\n| 서울 | 용산구   | Yongsan      | 2020-07-01 |  58354 |\n| 서울 | 성동구   | Seongdong    | 2020-07-01 | 106216 |\n| 서울 | 광진구   | Kwangjin     | 2020-07-01 | 125735 |\n| 서울 | 동대문구 | Dongdaemun   | 2020-07-01 |  93487 |\n| 서울 | 중랑구   | Jungnang     | 2020-07-01 |  76841 |\n| 서울 | 성북구   | Seongbuk     | 2020-07-01 |  81364 |\n| 서울 | 강북구   | Gangbuk      | 2020-07-01 |  54503 |\n| 서울 | 도봉구   | Dobong       | 2020-07-01 |  58420 |\n| 서울 | 노원구   | Nowon        | 2020-07-01 | 157281 |\n| 서울 | 은평구   | Eunpyeong    | 2020-07-01 |  81923 |\n| 서울 | 서대문구 | Seodaemun    | 2020-07-01 |  65144 |\n| 서울 | 마포구   | Mapo         | 2020-07-01 | 155009 |\n| 서울 | 양천구   | Yangcheon    | 2020-07-01 | 119956 |\n| 서울 | 강서구   | Gangseo      | 2020-07-01 | 224984 |\n| 서울 | 구로구   | Guro         | 2020-07-01 | 106619 |\n| 서울 | 금천구   | Geumcheon    | 2020-07-01 |  43940 |\n| 서울 | 영등포구 | Yeongdeungpo | 2020-07-01 | 209515 |\n| 서울 | 동작구   | Dongjak      | 2020-07-01 |  67929 |\n| 서울 | 관악구   | Gwanak       | 2020-07-01 |  92451 |\n| 서울 | 서초구   | Seocho       | 2020-07-01 | 101631 |\n| 서울 | 강남구   | Gangnam      | 2020-07-01 |  79194 |\n| 서울 | 송파구   | Songpa       | 2020-07-01 | 185529 |\n| 서울 | 강동구   | Gangdong     | 2020-07-01 |  97719 |\n| 서울 | 종로구   | Jongno       | 2020-08-01 |  65729 |\n| 서울 | 중구     | Jung         | 2020-08-01 |  40401 |\n| 서울 | 용산구   | Yongsan      | 2020-08-01 |  36762 |\n| 서울 | 성동구   | Seongdong    | 2020-08-01 |  65323 |\n| 서울 | 광진구   | Kwangjin     | 2020-08-01 |  75051 |\n| ⋮ | ⋮ | ⋮ | ⋮ | ⋮ |\n| 서울 | 관악구   | Gwanak       | 2020-12-01 | 41420 |\n| 서울 | 서초구   | Seocho       | 2020-12-01 | 43259 |\n| 서울 | 강남구   | Gangnam      | 2020-12-01 | 38004 |\n| 서울 | 송파구   | Songpa       | 2020-12-01 | 85064 |\n| 서울 | 강동구   | Gangdong     | 2020-12-01 | 42373 |\n| 서울 | 종로구   | Jongno       | 2021-01-01 | 35643 |\n| 서울 | 중구     | Jung         | 2021-01-01 | 20396 |\n| 서울 | 용산구   | Yongsan      | 2021-01-01 | 18203 |\n| 서울 | 성동구   | Seongdong    | 2021-01-01 | 35822 |\n| 서울 | 광진구   | Kwangjin     | 2021-01-01 | 38357 |\n| 서울 | 동대문구 | Dongdaemun   | 2021-01-01 | 33426 |\n| 서울 | 중랑구   | Jungnang     | 2021-01-01 | 22773 |\n| 서울 | 성북구   | Seongbuk     | 2021-01-01 | 26138 |\n| 서울 | 강북구   | Gangbuk      | 2021-01-01 | 16101 |\n| 서울 | 도봉구   | Dobong       | 2021-01-01 | 16620 |\n| 서울 | 노원구   | Nowon        | 2021-01-01 | 41994 |\n| 서울 | 은평구   | Eunpyeong    | 2021-01-01 | 25442 |\n| 서울 | 서대문구 | Seodaemun    | 2021-01-01 | 23065 |\n| 서울 | 마포구   | Mapo         | 2021-01-01 | 48660 |\n| 서울 | 양천구   | Yangcheon    | 2021-01-01 | 43330 |\n| 서울 | 강서구   | Gangseo      | 2021-01-01 | 75019 |\n| 서울 | 구로구   | Guro         | 2021-01-01 | 31633 |\n| 서울 | 금천구   | Geumcheon    | 2021-01-01 | 13494 |\n| 서울 | 영등포구 | Yeongdeungpo | 2021-01-01 | 64359 |\n| 서울 | 동작구   | Dongjak      | 2021-01-01 | 18950 |\n| 서울 | 관악구   | Gwanak       | 2021-01-01 | 27457 |\n| 서울 | 서초구   | Seocho       | 2021-01-01 | 29483 |\n| 서울 | 강남구   | Gangnam      | 2021-01-01 | 24706 |\n| 서울 | 송파구   | Songpa       | 2021-01-01 | 54819 |\n| 서울 | 강동구   | Gangdong     | 2021-01-01 | 26158 |\n\n",
            "text/html": [
              "<table class=\"dataframe\">\n",
              "<caption>A tibble: 175 × 5</caption>\n",
              "<thead>\n",
              "\t<tr><th scope=col>province</th><th scope=col>gu</th><th scope=col>gu_eng</th><th scope=col>date</th><th scope=col>count</th></tr>\n",
              "\t<tr><th scope=col>&lt;chr&gt;</th><th scope=col>&lt;chr&gt;</th><th scope=col>&lt;chr&gt;</th><th scope=col>&lt;dttm&gt;</th><th scope=col>&lt;dbl&gt;</th></tr>\n",
              "</thead>\n",
              "<tbody>\n",
              "\t<tr><td>서울</td><td>종로구  </td><td>Jongno      </td><td>2020-07-01</td><td> 85935</td></tr>\n",
              "\t<tr><td>서울</td><td>중구    </td><td>Jung        </td><td>2020-07-01</td><td> 52417</td></tr>\n",
              "\t<tr><td>서울</td><td>용산구  </td><td>Yongsan     </td><td>2020-07-01</td><td> 58354</td></tr>\n",
              "\t<tr><td>서울</td><td>성동구  </td><td>Seongdong   </td><td>2020-07-01</td><td>106216</td></tr>\n",
              "\t<tr><td>서울</td><td>광진구  </td><td>Kwangjin    </td><td>2020-07-01</td><td>125735</td></tr>\n",
              "\t<tr><td>서울</td><td>동대문구</td><td>Dongdaemun  </td><td>2020-07-01</td><td> 93487</td></tr>\n",
              "\t<tr><td>서울</td><td>중랑구  </td><td>Jungnang    </td><td>2020-07-01</td><td> 76841</td></tr>\n",
              "\t<tr><td>서울</td><td>성북구  </td><td>Seongbuk    </td><td>2020-07-01</td><td> 81364</td></tr>\n",
              "\t<tr><td>서울</td><td>강북구  </td><td>Gangbuk     </td><td>2020-07-01</td><td> 54503</td></tr>\n",
              "\t<tr><td>서울</td><td>도봉구  </td><td>Dobong      </td><td>2020-07-01</td><td> 58420</td></tr>\n",
              "\t<tr><td>서울</td><td>노원구  </td><td>Nowon       </td><td>2020-07-01</td><td>157281</td></tr>\n",
              "\t<tr><td>서울</td><td>은평구  </td><td>Eunpyeong   </td><td>2020-07-01</td><td> 81923</td></tr>\n",
              "\t<tr><td>서울</td><td>서대문구</td><td>Seodaemun   </td><td>2020-07-01</td><td> 65144</td></tr>\n",
              "\t<tr><td>서울</td><td>마포구  </td><td>Mapo        </td><td>2020-07-01</td><td>155009</td></tr>\n",
              "\t<tr><td>서울</td><td>양천구  </td><td>Yangcheon   </td><td>2020-07-01</td><td>119956</td></tr>\n",
              "\t<tr><td>서울</td><td>강서구  </td><td>Gangseo     </td><td>2020-07-01</td><td>224984</td></tr>\n",
              "\t<tr><td>서울</td><td>구로구  </td><td>Guro        </td><td>2020-07-01</td><td>106619</td></tr>\n",
              "\t<tr><td>서울</td><td>금천구  </td><td>Geumcheon   </td><td>2020-07-01</td><td> 43940</td></tr>\n",
              "\t<tr><td>서울</td><td>영등포구</td><td>Yeongdeungpo</td><td>2020-07-01</td><td>209515</td></tr>\n",
              "\t<tr><td>서울</td><td>동작구  </td><td>Dongjak     </td><td>2020-07-01</td><td> 67929</td></tr>\n",
              "\t<tr><td>서울</td><td>관악구  </td><td>Gwanak      </td><td>2020-07-01</td><td> 92451</td></tr>\n",
              "\t<tr><td>서울</td><td>서초구  </td><td>Seocho      </td><td>2020-07-01</td><td>101631</td></tr>\n",
              "\t<tr><td>서울</td><td>강남구  </td><td>Gangnam     </td><td>2020-07-01</td><td> 79194</td></tr>\n",
              "\t<tr><td>서울</td><td>송파구  </td><td>Songpa      </td><td>2020-07-01</td><td>185529</td></tr>\n",
              "\t<tr><td>서울</td><td>강동구  </td><td>Gangdong    </td><td>2020-07-01</td><td> 97719</td></tr>\n",
              "\t<tr><td>서울</td><td>종로구  </td><td>Jongno      </td><td>2020-08-01</td><td> 65729</td></tr>\n",
              "\t<tr><td>서울</td><td>중구    </td><td>Jung        </td><td>2020-08-01</td><td> 40401</td></tr>\n",
              "\t<tr><td>서울</td><td>용산구  </td><td>Yongsan     </td><td>2020-08-01</td><td> 36762</td></tr>\n",
              "\t<tr><td>서울</td><td>성동구  </td><td>Seongdong   </td><td>2020-08-01</td><td> 65323</td></tr>\n",
              "\t<tr><td>서울</td><td>광진구  </td><td>Kwangjin    </td><td>2020-08-01</td><td> 75051</td></tr>\n",
              "\t<tr><td>⋮</td><td>⋮</td><td>⋮</td><td>⋮</td><td>⋮</td></tr>\n",
              "\t<tr><td>서울</td><td>관악구  </td><td>Gwanak      </td><td>2020-12-01</td><td>41420</td></tr>\n",
              "\t<tr><td>서울</td><td>서초구  </td><td>Seocho      </td><td>2020-12-01</td><td>43259</td></tr>\n",
              "\t<tr><td>서울</td><td>강남구  </td><td>Gangnam     </td><td>2020-12-01</td><td>38004</td></tr>\n",
              "\t<tr><td>서울</td><td>송파구  </td><td>Songpa      </td><td>2020-12-01</td><td>85064</td></tr>\n",
              "\t<tr><td>서울</td><td>강동구  </td><td>Gangdong    </td><td>2020-12-01</td><td>42373</td></tr>\n",
              "\t<tr><td>서울</td><td>종로구  </td><td>Jongno      </td><td>2021-01-01</td><td>35643</td></tr>\n",
              "\t<tr><td>서울</td><td>중구    </td><td>Jung        </td><td>2021-01-01</td><td>20396</td></tr>\n",
              "\t<tr><td>서울</td><td>용산구  </td><td>Yongsan     </td><td>2021-01-01</td><td>18203</td></tr>\n",
              "\t<tr><td>서울</td><td>성동구  </td><td>Seongdong   </td><td>2021-01-01</td><td>35822</td></tr>\n",
              "\t<tr><td>서울</td><td>광진구  </td><td>Kwangjin    </td><td>2021-01-01</td><td>38357</td></tr>\n",
              "\t<tr><td>서울</td><td>동대문구</td><td>Dongdaemun  </td><td>2021-01-01</td><td>33426</td></tr>\n",
              "\t<tr><td>서울</td><td>중랑구  </td><td>Jungnang    </td><td>2021-01-01</td><td>22773</td></tr>\n",
              "\t<tr><td>서울</td><td>성북구  </td><td>Seongbuk    </td><td>2021-01-01</td><td>26138</td></tr>\n",
              "\t<tr><td>서울</td><td>강북구  </td><td>Gangbuk     </td><td>2021-01-01</td><td>16101</td></tr>\n",
              "\t<tr><td>서울</td><td>도봉구  </td><td>Dobong      </td><td>2021-01-01</td><td>16620</td></tr>\n",
              "\t<tr><td>서울</td><td>노원구  </td><td>Nowon       </td><td>2021-01-01</td><td>41994</td></tr>\n",
              "\t<tr><td>서울</td><td>은평구  </td><td>Eunpyeong   </td><td>2021-01-01</td><td>25442</td></tr>\n",
              "\t<tr><td>서울</td><td>서대문구</td><td>Seodaemun   </td><td>2021-01-01</td><td>23065</td></tr>\n",
              "\t<tr><td>서울</td><td>마포구  </td><td>Mapo        </td><td>2021-01-01</td><td>48660</td></tr>\n",
              "\t<tr><td>서울</td><td>양천구  </td><td>Yangcheon   </td><td>2021-01-01</td><td>43330</td></tr>\n",
              "\t<tr><td>서울</td><td>강서구  </td><td>Gangseo     </td><td>2021-01-01</td><td>75019</td></tr>\n",
              "\t<tr><td>서울</td><td>구로구  </td><td>Guro        </td><td>2021-01-01</td><td>31633</td></tr>\n",
              "\t<tr><td>서울</td><td>금천구  </td><td>Geumcheon   </td><td>2021-01-01</td><td>13494</td></tr>\n",
              "\t<tr><td>서울</td><td>영등포구</td><td>Yeongdeungpo</td><td>2021-01-01</td><td>64359</td></tr>\n",
              "\t<tr><td>서울</td><td>동작구  </td><td>Dongjak     </td><td>2021-01-01</td><td>18950</td></tr>\n",
              "\t<tr><td>서울</td><td>관악구  </td><td>Gwanak      </td><td>2021-01-01</td><td>27457</td></tr>\n",
              "\t<tr><td>서울</td><td>서초구  </td><td>Seocho      </td><td>2021-01-01</td><td>29483</td></tr>\n",
              "\t<tr><td>서울</td><td>강남구  </td><td>Gangnam     </td><td>2021-01-01</td><td>24706</td></tr>\n",
              "\t<tr><td>서울</td><td>송파구  </td><td>Songpa      </td><td>2021-01-01</td><td>54819</td></tr>\n",
              "\t<tr><td>서울</td><td>강동구  </td><td>Gangdong    </td><td>2021-01-01</td><td>26158</td></tr>\n",
              "</tbody>\n",
              "</table>\n"
            ]
          },
          "metadata": {
            "tags": []
          }
        }
      ]
    },
    {
      "cell_type": "markdown",
      "metadata": {
        "id": "0aNUPF33bKpu"
      },
      "source": [
        "# **데이터 정리** "
      ]
    },
    {
      "cell_type": "markdown",
      "metadata": {
        "id": "NH3gnYgofR62"
      },
      "source": [
        "## 데이터 불러오기 + 패키지 실행"
      ]
    },
    {
      "cell_type": "code",
      "metadata": {
        "id": "DAh-FMwfdkkX",
        "colab": {
          "base_uri": "https://localhost:8080/"
        },
        "outputId": "b38553bf-77b3-4991-e225-890e9672e66f"
      },
      "source": [
        "pop <- read.csv('(중복)2019_전주시 동별 인구.csv', header=TRUE, stringsAsFactors=FALSE, fileEncoding = \"euc-kr\")\n",
        "rest <- read.csv('(중복)동별 음식점 및 주점업 사업체수(2018).csv', header=TRUE, stringsAsFactors=FALSE, fileEncoding = \"euc-kr\")\n",
        "bicycle <- read.csv('(행정동)12_04_03_E_자전거보관소정보.csv', header=TRUE, stringsAsFactors=FALSE, fileEncoding = \"euc-kr\")\n",
        "bigstore <- read.csv('(행정동)대규모점포현황_2020.csv', header=TRUE, stringsAsFactors=FALSE, fileEncoding = \"euc-kr\")\n",
        "cvstore <- read.csv('(행정동)동별 체인화 편의점 + 사업체수 (2018년).csv', header=TRUE, stringsAsFactors=FALSE, fileEncoding = \"euc-kr\")\n",
        "univ <- read.csv('(행정동)전주시 대학교.csv', header=TRUE, stringsAsFactors=FALSE, fileEncoding = \"euc-kr\")\n",
        "region <- read.csv('(행정동)전주시 행정동 면적.csv', header=TRUE, stringsAsFactors=FALSE, fileEncoding = \"euc-kr\")\n",
        "store <- read.csv('전북 상권정보.csv', header=TRUE, stringsAsFactors=FALSE, fileEncoding = \"euc-kr\")\n",
        "\n",
        "library(dplyr)"
      ],
      "execution_count": 58,
      "outputs": [
        {
          "output_type": "stream",
          "text": [
            "Warning message in scan(file = file, what = what, sep = sep, quote = quote, dec = dec, :\n",
            "“invalid input found on input connection '전북 상권정보.csv'”\n"
          ],
          "name": "stderr"
        }
      ]
    },
    {
      "cell_type": "markdown",
      "metadata": {
        "id": "AQ_aX69pAfxi"
      },
      "source": [
        "▼ jjdong : 전주시에 있는 행정동 데이터셋"
      ]
    },
    {
      "cell_type": "code",
      "metadata": {
        "colab": {
          "base_uri": "https://localhost:8080/",
          "height": 51
        },
        "id": "g1U1SxfLdt7o",
        "outputId": "ab947209-5387-4e6e-ba54-2d60d6174a3a"
      },
      "source": [
        "jjdong <- read.csv('전주 행정동_가나다순.csv', header=TRUE, stringsAsFactors=FALSE, fileEncoding = \"euc-kr\")\n",
        "jjdong <- jjdong$행정동\n",
        "str(jjdong)\n",
        "head(jjdong)"
      ],
      "execution_count": 59,
      "outputs": [
        {
          "output_type": "stream",
          "text": [
            " chr [1:35] \"금암1동\" \"금암2동\" \"노송동\" \"덕진동\" \"동서학동\" \"삼천1동\" ...\n"
          ],
          "name": "stdout"
        },
        {
          "output_type": "display_data",
          "data": {
            "text/plain": [
              "[1] \"금암1동\"  \"금암2동\"  \"노송동\"   \"덕진동\"   \"동서학동\" \"삼천1동\" "
            ],
            "text/latex": "\\begin{enumerate*}\n\\item '금암1동'\n\\item '금암2동'\n\\item '노송동'\n\\item '덕진동'\n\\item '동서학동'\n\\item '삼천1동'\n\\end{enumerate*}\n",
            "text/markdown": "1. '금암1동'\n2. '금암2동'\n3. '노송동'\n4. '덕진동'\n5. '동서학동'\n6. '삼천1동'\n\n\n",
            "text/html": [
              "<style>\n",
              ".list-inline {list-style: none; margin:0; padding: 0}\n",
              ".list-inline>li {display: inline-block}\n",
              ".list-inline>li:not(:last-child)::after {content: \"\\00b7\"; padding: 0 .5ex}\n",
              "</style>\n",
              "<ol class=list-inline><li>'금암1동'</li><li>'금암2동'</li><li>'노송동'</li><li>'덕진동'</li><li>'동서학동'</li><li>'삼천1동'</li></ol>\n"
            ]
          },
          "metadata": {
            "tags": []
          }
        }
      ]
    },
    {
      "cell_type": "markdown",
      "metadata": {
        "id": "HFvSwbe8AoFf"
      },
      "source": [
        "## 인구수"
      ]
    },
    {
      "cell_type": "code",
      "metadata": {
        "colab": {
          "base_uri": "https://localhost:8080/",
          "height": 342
        },
        "id": "dwZF_tyL9VNu",
        "outputId": "3601535a-c138-43a4-9095-efa04f85b354"
      },
      "source": [
        "str(pop)\n",
        "head(pop)"
      ],
      "execution_count": 60,
      "outputs": [
        {
          "output_type": "stream",
          "text": [
            "'data.frame':\t35 obs. of  3 variables:\n",
            " $ 구  : chr  \"완산구\" \"완산구\" \"완산구\" \"완산구\" ...\n",
            " $ 동  : chr  \"중앙동\" \"풍남동\" \"노송동\" \"완산동\" ...\n",
            " $ 인구: int  8073 4521 13189 5148 6784 9223 15288 20030 13204 46295 ...\n"
          ],
          "name": "stdout"
        },
        {
          "output_type": "display_data",
          "data": {
            "text/plain": [
              "  구     동       인구 \n",
              "1 완산구 중앙동    8073\n",
              "2 완산구 풍남동    4521\n",
              "3 완산구 노송동   13189\n",
              "4 완산구 완산동    5148\n",
              "5 완산구 동서학동  6784\n",
              "6 완산구 서서학동  9223"
            ],
            "text/latex": "A data.frame: 6 × 3\n\\begin{tabular}{r|lll}\n  & 구 & 동 & 인구\\\\\n  & <chr> & <chr> & <int>\\\\\n\\hline\n\t1 & 완산구 & 중앙동   &  8073\\\\\n\t2 & 완산구 & 풍남동   &  4521\\\\\n\t3 & 완산구 & 노송동   & 13189\\\\\n\t4 & 완산구 & 완산동   &  5148\\\\\n\t5 & 완산구 & 동서학동 &  6784\\\\\n\t6 & 완산구 & 서서학동 &  9223\\\\\n\\end{tabular}\n",
            "text/markdown": "\nA data.frame: 6 × 3\n\n| <!--/--> | 구 &lt;chr&gt; | 동 &lt;chr&gt; | 인구 &lt;int&gt; |\n|---|---|---|---|\n| 1 | 완산구 | 중앙동   |  8073 |\n| 2 | 완산구 | 풍남동   |  4521 |\n| 3 | 완산구 | 노송동   | 13189 |\n| 4 | 완산구 | 완산동   |  5148 |\n| 5 | 완산구 | 동서학동 |  6784 |\n| 6 | 완산구 | 서서학동 |  9223 |\n\n",
            "text/html": [
              "<table class=\"dataframe\">\n",
              "<caption>A data.frame: 6 × 3</caption>\n",
              "<thead>\n",
              "\t<tr><th></th><th scope=col>구</th><th scope=col>동</th><th scope=col>인구</th></tr>\n",
              "\t<tr><th></th><th scope=col>&lt;chr&gt;</th><th scope=col>&lt;chr&gt;</th><th scope=col>&lt;int&gt;</th></tr>\n",
              "</thead>\n",
              "<tbody>\n",
              "\t<tr><th scope=row>1</th><td>완산구</td><td>중앙동  </td><td> 8073</td></tr>\n",
              "\t<tr><th scope=row>2</th><td>완산구</td><td>풍남동  </td><td> 4521</td></tr>\n",
              "\t<tr><th scope=row>3</th><td>완산구</td><td>노송동  </td><td>13189</td></tr>\n",
              "\t<tr><th scope=row>4</th><td>완산구</td><td>완산동  </td><td> 5148</td></tr>\n",
              "\t<tr><th scope=row>5</th><td>완산구</td><td>동서학동</td><td> 6784</td></tr>\n",
              "\t<tr><th scope=row>6</th><td>완산구</td><td>서서학동</td><td> 9223</td></tr>\n",
              "</tbody>\n",
              "</table>\n"
            ]
          },
          "metadata": {
            "tags": []
          }
        }
      ]
    },
    {
      "cell_type": "markdown",
      "metadata": {
        "id": "RvqunIUCAsUh"
      },
      "source": [
        "1 동이랑 인구 불러오기\n",
        "\n",
        "2 \"동\"을 \"행정동\"으로 바꾸기\n",
        "\n",
        "3 행정동을 기준으로 오름차순 정렬하기\n",
        "\n",
        "▼"
      ]
    },
    {
      "cell_type": "code",
      "metadata": {
        "colab": {
          "base_uri": "https://localhost:8080/",
          "height": 271
        },
        "id": "ph0rxA749mJX",
        "outputId": "17bb4021-bf17-4b38-c970-4165a599c4ff"
      },
      "source": [
        "pop <- pop[,c(2,3)]\n",
        "names(pop)[1] <- \"행정동\"\n",
        "pop <- arrange(pop, pop$행정동)\n",
        "head(pop)"
      ],
      "execution_count": 61,
      "outputs": [
        {
          "output_type": "display_data",
          "data": {
            "text/plain": [
              "  행정동   인구 \n",
              "1 금암1동   8824\n",
              "2 금암2동  10714\n",
              "3 노송동   13189\n",
              "4 덕진동   21215\n",
              "5 동산동   30208\n",
              "6 동서학동  6784"
            ],
            "text/latex": "A data.frame: 6 × 2\n\\begin{tabular}{r|ll}\n  & 행정동 & 인구\\\\\n  & <chr> & <int>\\\\\n\\hline\n\t1 & 금암1동  &  8824\\\\\n\t2 & 금암2동  & 10714\\\\\n\t3 & 노송동   & 13189\\\\\n\t4 & 덕진동   & 21215\\\\\n\t5 & 동산동   & 30208\\\\\n\t6 & 동서학동 &  6784\\\\\n\\end{tabular}\n",
            "text/markdown": "\nA data.frame: 6 × 2\n\n| <!--/--> | 행정동 &lt;chr&gt; | 인구 &lt;int&gt; |\n|---|---|---|\n| 1 | 금암1동  |  8824 |\n| 2 | 금암2동  | 10714 |\n| 3 | 노송동   | 13189 |\n| 4 | 덕진동   | 21215 |\n| 5 | 동산동   | 30208 |\n| 6 | 동서학동 |  6784 |\n\n",
            "text/html": [
              "<table class=\"dataframe\">\n",
              "<caption>A data.frame: 6 × 2</caption>\n",
              "<thead>\n",
              "\t<tr><th></th><th scope=col>행정동</th><th scope=col>인구</th></tr>\n",
              "\t<tr><th></th><th scope=col>&lt;chr&gt;</th><th scope=col>&lt;int&gt;</th></tr>\n",
              "</thead>\n",
              "<tbody>\n",
              "\t<tr><th scope=row>1</th><td>금암1동 </td><td> 8824</td></tr>\n",
              "\t<tr><th scope=row>2</th><td>금암2동 </td><td>10714</td></tr>\n",
              "\t<tr><th scope=row>3</th><td>노송동  </td><td>13189</td></tr>\n",
              "\t<tr><th scope=row>4</th><td>덕진동  </td><td>21215</td></tr>\n",
              "\t<tr><th scope=row>5</th><td>동산동  </td><td>30208</td></tr>\n",
              "\t<tr><th scope=row>6</th><td>동서학동</td><td> 6784</td></tr>\n",
              "</tbody>\n",
              "</table>\n"
            ]
          },
          "metadata": {
            "tags": []
          }
        }
      ]
    },
    {
      "cell_type": "markdown",
      "metadata": {
        "id": "ndFrR5ewBIjr"
      },
      "source": [
        "▼ 인구수 데이터에 누락된 동이 있는지 확인해본 결과, pop에 있지 않은 jjdong과 jjdong에 있지 않은 pop의 요소가 각각 하나씩 있음을 알 수 있다. (FALSE로 나타남)"
      ]
    },
    {
      "cell_type": "code",
      "metadata": {
        "colab": {
          "base_uri": "https://localhost:8080/",
          "height": 122
        },
        "id": "qjreheys9vzD",
        "outputId": "0b16c1f6-5c65-4c7d-babe-4c87aab2dbd9"
      },
      "source": [
        "table(pop$행정동 %in% jjdong)\n",
        "table(jjdong %in% pop$행정동)"
      ],
      "execution_count": 62,
      "outputs": [
        {
          "output_type": "display_data",
          "data": {
            "text/plain": [
              "\n",
              "FALSE  TRUE \n",
              "    1    34 "
            ]
          },
          "metadata": {
            "tags": []
          }
        },
        {
          "output_type": "display_data",
          "data": {
            "text/plain": [
              "\n",
              "FALSE  TRUE \n",
              "    1    34 "
            ]
          },
          "metadata": {
            "tags": []
          }
        }
      ]
    },
    {
      "cell_type": "markdown",
      "metadata": {
        "id": "Hn_JrUeoBdjv"
      },
      "source": [
        "▼ pop에는 jjdong에 없는 '동산동'이 있고 jjdong에는 pop에 없는 '여의동'이 있는 것을 확인할 수 있다."
      ]
    },
    {
      "cell_type": "code",
      "metadata": {
        "colab": {
          "base_uri": "https://localhost:8080/",
          "height": 151
        },
        "id": "7RW0PwD-9yEd",
        "outputId": "efceb88e-ed71-45a2-c594-e0c1adb71a61"
      },
      "source": [
        "pop$행정동[pop$행정동 %in% jjdong == FALSE] #jjdong에는 없는 pop의 행정동\n",
        "jjdong[jjdong %in% pop$행정동 == FALSE] #pop에는 없는 jjdong의 행정동\n",
        "\n",
        "pop$행정동\n",
        "jjdong"
      ],
      "execution_count": 63,
      "outputs": [
        {
          "output_type": "display_data",
          "data": {
            "text/plain": [
              "[1] \"동산동\""
            ],
            "text/latex": "'동산동'",
            "text/markdown": "'동산동'",
            "text/html": [
              "'동산동'"
            ]
          },
          "metadata": {
            "tags": []
          }
        },
        {
          "output_type": "display_data",
          "data": {
            "text/plain": [
              "[1] \"여의동\""
            ],
            "text/latex": "'여의동'",
            "text/markdown": "'여의동'",
            "text/html": [
              "'여의동'"
            ]
          },
          "metadata": {
            "tags": []
          }
        },
        {
          "output_type": "display_data",
          "data": {
            "text/plain": [
              " [1] \"금암1동\"   \"금암2동\"   \"노송동\"    \"덕진동\"    \"동산동\"    \"동서학동\" \n",
              " [7] \"삼천1동\"   \"삼천2동\"   \"삼천3동\"   \"서서학동\"  \"서신동\"    \"송천1동\"  \n",
              "[13] \"송천2동\"   \"완산동\"    \"우아1동\"   \"우아2동\"   \"인후1동\"   \"인후2동\"  \n",
              "[19] \"인후3동\"   \"조촌동\"    \"중앙동\"    \"중화산1동\" \"중화산2동\" \"진북동\"   \n",
              "[25] \"팔복동\"    \"평화1동\"   \"평화2동\"   \"풍남동\"    \"혁신동\"    \"호성동\"   \n",
              "[31] \"효자1동\"   \"효자2동\"   \"효자3동\"   \"효자4동\"   \"효자5동\"  "
            ],
            "text/latex": "\\begin{enumerate*}\n\\item '금암1동'\n\\item '금암2동'\n\\item '노송동'\n\\item '덕진동'\n\\item '동산동'\n\\item '동서학동'\n\\item '삼천1동'\n\\item '삼천2동'\n\\item '삼천3동'\n\\item '서서학동'\n\\item '서신동'\n\\item '송천1동'\n\\item '송천2동'\n\\item '완산동'\n\\item '우아1동'\n\\item '우아2동'\n\\item '인후1동'\n\\item '인후2동'\n\\item '인후3동'\n\\item '조촌동'\n\\item '중앙동'\n\\item '중화산1동'\n\\item '중화산2동'\n\\item '진북동'\n\\item '팔복동'\n\\item '평화1동'\n\\item '평화2동'\n\\item '풍남동'\n\\item '혁신동'\n\\item '호성동'\n\\item '효자1동'\n\\item '효자2동'\n\\item '효자3동'\n\\item '효자4동'\n\\item '효자5동'\n\\end{enumerate*}\n",
            "text/markdown": "1. '금암1동'\n2. '금암2동'\n3. '노송동'\n4. '덕진동'\n5. '동산동'\n6. '동서학동'\n7. '삼천1동'\n8. '삼천2동'\n9. '삼천3동'\n10. '서서학동'\n11. '서신동'\n12. '송천1동'\n13. '송천2동'\n14. '완산동'\n15. '우아1동'\n16. '우아2동'\n17. '인후1동'\n18. '인후2동'\n19. '인후3동'\n20. '조촌동'\n21. '중앙동'\n22. '중화산1동'\n23. '중화산2동'\n24. '진북동'\n25. '팔복동'\n26. '평화1동'\n27. '평화2동'\n28. '풍남동'\n29. '혁신동'\n30. '호성동'\n31. '효자1동'\n32. '효자2동'\n33. '효자3동'\n34. '효자4동'\n35. '효자5동'\n\n\n",
            "text/html": [
              "<style>\n",
              ".list-inline {list-style: none; margin:0; padding: 0}\n",
              ".list-inline>li {display: inline-block}\n",
              ".list-inline>li:not(:last-child)::after {content: \"\\00b7\"; padding: 0 .5ex}\n",
              "</style>\n",
              "<ol class=list-inline><li>'금암1동'</li><li>'금암2동'</li><li>'노송동'</li><li>'덕진동'</li><li>'동산동'</li><li>'동서학동'</li><li>'삼천1동'</li><li>'삼천2동'</li><li>'삼천3동'</li><li>'서서학동'</li><li>'서신동'</li><li>'송천1동'</li><li>'송천2동'</li><li>'완산동'</li><li>'우아1동'</li><li>'우아2동'</li><li>'인후1동'</li><li>'인후2동'</li><li>'인후3동'</li><li>'조촌동'</li><li>'중앙동'</li><li>'중화산1동'</li><li>'중화산2동'</li><li>'진북동'</li><li>'팔복동'</li><li>'평화1동'</li><li>'평화2동'</li><li>'풍남동'</li><li>'혁신동'</li><li>'호성동'</li><li>'효자1동'</li><li>'효자2동'</li><li>'효자3동'</li><li>'효자4동'</li><li>'효자5동'</li></ol>\n"
            ]
          },
          "metadata": {
            "tags": []
          }
        },
        {
          "output_type": "display_data",
          "data": {
            "text/plain": [
              " [1] \"금암1동\"   \"금암2동\"   \"노송동\"    \"덕진동\"    \"동서학동\"  \"삼천1동\"  \n",
              " [7] \"삼천2동\"   \"삼천3동\"   \"서서학동\"  \"서신동\"    \"송천1동\"   \"송천2동\"  \n",
              "[13] \"여의동\"    \"완산동\"    \"우아1동\"   \"우아2동\"   \"인후1동\"   \"인후2동\"  \n",
              "[19] \"인후3동\"   \"조촌동\"    \"중앙동\"    \"중화산1동\" \"중화산2동\" \"진북동\"   \n",
              "[25] \"팔복동\"    \"평화1동\"   \"평화2동\"   \"풍남동\"    \"혁신동\"    \"호성동\"   \n",
              "[31] \"효자1동\"   \"효자2동\"   \"효자3동\"   \"효자4동\"   \"효자5동\"  "
            ],
            "text/latex": "\\begin{enumerate*}\n\\item '금암1동'\n\\item '금암2동'\n\\item '노송동'\n\\item '덕진동'\n\\item '동서학동'\n\\item '삼천1동'\n\\item '삼천2동'\n\\item '삼천3동'\n\\item '서서학동'\n\\item '서신동'\n\\item '송천1동'\n\\item '송천2동'\n\\item '여의동'\n\\item '완산동'\n\\item '우아1동'\n\\item '우아2동'\n\\item '인후1동'\n\\item '인후2동'\n\\item '인후3동'\n\\item '조촌동'\n\\item '중앙동'\n\\item '중화산1동'\n\\item '중화산2동'\n\\item '진북동'\n\\item '팔복동'\n\\item '평화1동'\n\\item '평화2동'\n\\item '풍남동'\n\\item '혁신동'\n\\item '호성동'\n\\item '효자1동'\n\\item '효자2동'\n\\item '효자3동'\n\\item '효자4동'\n\\item '효자5동'\n\\end{enumerate*}\n",
            "text/markdown": "1. '금암1동'\n2. '금암2동'\n3. '노송동'\n4. '덕진동'\n5. '동서학동'\n6. '삼천1동'\n7. '삼천2동'\n8. '삼천3동'\n9. '서서학동'\n10. '서신동'\n11. '송천1동'\n12. '송천2동'\n13. '여의동'\n14. '완산동'\n15. '우아1동'\n16. '우아2동'\n17. '인후1동'\n18. '인후2동'\n19. '인후3동'\n20. '조촌동'\n21. '중앙동'\n22. '중화산1동'\n23. '중화산2동'\n24. '진북동'\n25. '팔복동'\n26. '평화1동'\n27. '평화2동'\n28. '풍남동'\n29. '혁신동'\n30. '호성동'\n31. '효자1동'\n32. '효자2동'\n33. '효자3동'\n34. '효자4동'\n35. '효자5동'\n\n\n",
            "text/html": [
              "<style>\n",
              ".list-inline {list-style: none; margin:0; padding: 0}\n",
              ".list-inline>li {display: inline-block}\n",
              ".list-inline>li:not(:last-child)::after {content: \"\\00b7\"; padding: 0 .5ex}\n",
              "</style>\n",
              "<ol class=list-inline><li>'금암1동'</li><li>'금암2동'</li><li>'노송동'</li><li>'덕진동'</li><li>'동서학동'</li><li>'삼천1동'</li><li>'삼천2동'</li><li>'삼천3동'</li><li>'서서학동'</li><li>'서신동'</li><li>'송천1동'</li><li>'송천2동'</li><li>'여의동'</li><li>'완산동'</li><li>'우아1동'</li><li>'우아2동'</li><li>'인후1동'</li><li>'인후2동'</li><li>'인후3동'</li><li>'조촌동'</li><li>'중앙동'</li><li>'중화산1동'</li><li>'중화산2동'</li><li>'진북동'</li><li>'팔복동'</li><li>'평화1동'</li><li>'평화2동'</li><li>'풍남동'</li><li>'혁신동'</li><li>'호성동'</li><li>'효자1동'</li><li>'효자2동'</li><li>'효자3동'</li><li>'효자4동'</li><li>'효자5동'</li></ol>\n"
            ]
          },
          "metadata": {
            "tags": []
          }
        }
      ]
    },
    {
      "cell_type": "markdown",
      "metadata": {
        "id": "N8DW1y9VBrom"
      },
      "source": [
        "1 실제로 2019년 8월에 전주시에서 '동산동'을 '여의동'으로 변경했기 때문에 이런 차이가 발생하는 것임. pop의 '동산동'을 '여의동'으로 바꿔준다.\n",
        "\n",
        "2 정리한 자료를 다시 행정동을 기준으로 오름차순 정렬하면\n",
        "\n",
        "3 pop이 잘 정리된 것을 확인할 수 있다.\n",
        "\n",
        "▼ "
      ]
    },
    {
      "cell_type": "code",
      "metadata": {
        "colab": {
          "base_uri": "https://localhost:8080/",
          "height": 1000
        },
        "id": "4eW1M0mE986_",
        "outputId": "0d10fbf7-ecdc-49ae-9751-617fa6d87e12"
      },
      "source": [
        "pop$행정동[which(pop$행정동 == \"동산동\")] <- \"여의동\" ## 19년 8월에 동산동을 여의동으로 변경, https://www.hani.co.kr/arti/area/honam/905848.html?_fr=mt2\n",
        "pop <- arrange(pop, pop$행정동)\n",
        "pop"
      ],
      "execution_count": 64,
      "outputs": [
        {
          "output_type": "display_data",
          "data": {
            "text/plain": [
              "   행정동    인구 \n",
              "1  금암1동    8824\n",
              "2  금암2동   10714\n",
              "3  노송동    13189\n",
              "4  덕진동    21215\n",
              "5  동서학동   6784\n",
              "6  삼천1동   12799\n",
              "7  삼천2동   14447\n",
              "8  삼천3동   23323\n",
              "9  서서학동   9223\n",
              "10 서신동    40408\n",
              "11 송천1동   59376\n",
              "12 송천2동   26748\n",
              "13 여의동    30208\n",
              "14 완산동     5148\n",
              "15 우아1동   10096\n",
              "16 우아2동   15125\n",
              "17 인후1동   19047\n",
              "18 인후2동   12094\n",
              "19 인후3동   32426\n",
              "20 조촌동    12133\n",
              "21 중앙동     8073\n",
              "22 중화산1동 15288\n",
              "23 중화산2동 20030\n",
              "24 진북동    14924\n",
              "25 팔복동     8300\n",
              "26 평화1동   13204\n",
              "27 평화2동   46295\n",
              "28 풍남동     4521\n",
              "29 혁신동    17925\n",
              "30 호성동    21154\n",
              "31 효자1동   11784\n",
              "32 효자2동   10861\n",
              "33 효자3동   15758\n",
              "34 효자4동   33756\n",
              "35 효자5동   37898"
            ],
            "text/latex": "A data.frame: 35 × 2\n\\begin{tabular}{ll}\n 행정동 & 인구\\\\\n <chr> & <int>\\\\\n\\hline\n\t 금암1동   &  8824\\\\\n\t 금암2동   & 10714\\\\\n\t 노송동    & 13189\\\\\n\t 덕진동    & 21215\\\\\n\t 동서학동  &  6784\\\\\n\t 삼천1동   & 12799\\\\\n\t 삼천2동   & 14447\\\\\n\t 삼천3동   & 23323\\\\\n\t 서서학동  &  9223\\\\\n\t 서신동    & 40408\\\\\n\t 송천1동   & 59376\\\\\n\t 송천2동   & 26748\\\\\n\t 여의동    & 30208\\\\\n\t 완산동    &  5148\\\\\n\t 우아1동   & 10096\\\\\n\t 우아2동   & 15125\\\\\n\t 인후1동   & 19047\\\\\n\t 인후2동   & 12094\\\\\n\t 인후3동   & 32426\\\\\n\t 조촌동    & 12133\\\\\n\t 중앙동    &  8073\\\\\n\t 중화산1동 & 15288\\\\\n\t 중화산2동 & 20030\\\\\n\t 진북동    & 14924\\\\\n\t 팔복동    &  8300\\\\\n\t 평화1동   & 13204\\\\\n\t 평화2동   & 46295\\\\\n\t 풍남동    &  4521\\\\\n\t 혁신동    & 17925\\\\\n\t 호성동    & 21154\\\\\n\t 효자1동   & 11784\\\\\n\t 효자2동   & 10861\\\\\n\t 효자3동   & 15758\\\\\n\t 효자4동   & 33756\\\\\n\t 효자5동   & 37898\\\\\n\\end{tabular}\n",
            "text/markdown": "\nA data.frame: 35 × 2\n\n| 행정동 &lt;chr&gt; | 인구 &lt;int&gt; |\n|---|---|\n| 금암1동   |  8824 |\n| 금암2동   | 10714 |\n| 노송동    | 13189 |\n| 덕진동    | 21215 |\n| 동서학동  |  6784 |\n| 삼천1동   | 12799 |\n| 삼천2동   | 14447 |\n| 삼천3동   | 23323 |\n| 서서학동  |  9223 |\n| 서신동    | 40408 |\n| 송천1동   | 59376 |\n| 송천2동   | 26748 |\n| 여의동    | 30208 |\n| 완산동    |  5148 |\n| 우아1동   | 10096 |\n| 우아2동   | 15125 |\n| 인후1동   | 19047 |\n| 인후2동   | 12094 |\n| 인후3동   | 32426 |\n| 조촌동    | 12133 |\n| 중앙동    |  8073 |\n| 중화산1동 | 15288 |\n| 중화산2동 | 20030 |\n| 진북동    | 14924 |\n| 팔복동    |  8300 |\n| 평화1동   | 13204 |\n| 평화2동   | 46295 |\n| 풍남동    |  4521 |\n| 혁신동    | 17925 |\n| 호성동    | 21154 |\n| 효자1동   | 11784 |\n| 효자2동   | 10861 |\n| 효자3동   | 15758 |\n| 효자4동   | 33756 |\n| 효자5동   | 37898 |\n\n",
            "text/html": [
              "<table class=\"dataframe\">\n",
              "<caption>A data.frame: 35 × 2</caption>\n",
              "<thead>\n",
              "\t<tr><th scope=col>행정동</th><th scope=col>인구</th></tr>\n",
              "\t<tr><th scope=col>&lt;chr&gt;</th><th scope=col>&lt;int&gt;</th></tr>\n",
              "</thead>\n",
              "<tbody>\n",
              "\t<tr><td>금암1동  </td><td> 8824</td></tr>\n",
              "\t<tr><td>금암2동  </td><td>10714</td></tr>\n",
              "\t<tr><td>노송동   </td><td>13189</td></tr>\n",
              "\t<tr><td>덕진동   </td><td>21215</td></tr>\n",
              "\t<tr><td>동서학동 </td><td> 6784</td></tr>\n",
              "\t<tr><td>삼천1동  </td><td>12799</td></tr>\n",
              "\t<tr><td>삼천2동  </td><td>14447</td></tr>\n",
              "\t<tr><td>삼천3동  </td><td>23323</td></tr>\n",
              "\t<tr><td>서서학동 </td><td> 9223</td></tr>\n",
              "\t<tr><td>서신동   </td><td>40408</td></tr>\n",
              "\t<tr><td>송천1동  </td><td>59376</td></tr>\n",
              "\t<tr><td>송천2동  </td><td>26748</td></tr>\n",
              "\t<tr><td>여의동   </td><td>30208</td></tr>\n",
              "\t<tr><td>완산동   </td><td> 5148</td></tr>\n",
              "\t<tr><td>우아1동  </td><td>10096</td></tr>\n",
              "\t<tr><td>우아2동  </td><td>15125</td></tr>\n",
              "\t<tr><td>인후1동  </td><td>19047</td></tr>\n",
              "\t<tr><td>인후2동  </td><td>12094</td></tr>\n",
              "\t<tr><td>인후3동  </td><td>32426</td></tr>\n",
              "\t<tr><td>조촌동   </td><td>12133</td></tr>\n",
              "\t<tr><td>중앙동   </td><td> 8073</td></tr>\n",
              "\t<tr><td>중화산1동</td><td>15288</td></tr>\n",
              "\t<tr><td>중화산2동</td><td>20030</td></tr>\n",
              "\t<tr><td>진북동   </td><td>14924</td></tr>\n",
              "\t<tr><td>팔복동   </td><td> 8300</td></tr>\n",
              "\t<tr><td>평화1동  </td><td>13204</td></tr>\n",
              "\t<tr><td>평화2동  </td><td>46295</td></tr>\n",
              "\t<tr><td>풍남동   </td><td> 4521</td></tr>\n",
              "\t<tr><td>혁신동   </td><td>17925</td></tr>\n",
              "\t<tr><td>호성동   </td><td>21154</td></tr>\n",
              "\t<tr><td>효자1동  </td><td>11784</td></tr>\n",
              "\t<tr><td>효자2동  </td><td>10861</td></tr>\n",
              "\t<tr><td>효자3동  </td><td>15758</td></tr>\n",
              "\t<tr><td>효자4동  </td><td>33756</td></tr>\n",
              "\t<tr><td>효자5동  </td><td>37898</td></tr>\n",
              "</tbody>\n",
              "</table>\n"
            ]
          },
          "metadata": {
            "tags": []
          }
        }
      ]
    },
    {
      "cell_type": "markdown",
      "metadata": {
        "id": "Sf15X4rlCHJL"
      },
      "source": [
        "## 음식점수"
      ]
    },
    {
      "cell_type": "code",
      "metadata": {
        "colab": {
          "base_uri": "https://localhost:8080/",
          "height": 377
        },
        "id": "IMCPwrVY-BNm",
        "outputId": "8caea162-53fa-4780-ee95-ebc48d948b24"
      },
      "source": [
        "str(rest)\n",
        "head(rest)"
      ],
      "execution_count": 65,
      "outputs": [
        {
          "output_type": "stream",
          "text": [
            "'data.frame':\t35 obs. of  5 variables:\n",
            " $ 구     : chr  \"완산구\" \"완산구\" \"완산구\" \"완산구\" ...\n",
            " $ 항목   : chr  \"효자5동\" \"중앙동\" \"서신동\" \"중화산2동\" ...\n",
            " $ 순위   : int  1 2 3 4 5 6 7 8 9 10 ...\n",
            " $ 값     : int  805 567 560 491 488 378 372 227 219 216 ...\n",
            " $ 비율...: num  15.4 10.8 10.7 9.4 9.3 7.2 7.1 4.3 4.2 4.1 ...\n"
          ],
          "name": "stdout"
        },
        {
          "output_type": "display_data",
          "data": {
            "text/plain": [
              "  구     항목      순위 값  비율...\n",
              "1 완산구 효자5동   1    805 15.4   \n",
              "2 완산구 중앙동    2    567 10.8   \n",
              "3 완산구 서신동    3    560 10.7   \n",
              "4 완산구 중화산2동 4    491  9.4   \n",
              "5 완산구 풍남동    5    488  9.3   \n",
              "6 완산구 효자4동   6    378  7.2   "
            ],
            "text/latex": "A data.frame: 6 × 5\n\\begin{tabular}{r|lllll}\n  & 구 & 항목 & 순위 & 값 & 비율...\\\\\n  & <chr> & <chr> & <int> & <int> & <dbl>\\\\\n\\hline\n\t1 & 완산구 & 효자5동   & 1 & 805 & 15.4\\\\\n\t2 & 완산구 & 중앙동    & 2 & 567 & 10.8\\\\\n\t3 & 완산구 & 서신동    & 3 & 560 & 10.7\\\\\n\t4 & 완산구 & 중화산2동 & 4 & 491 &  9.4\\\\\n\t5 & 완산구 & 풍남동    & 5 & 488 &  9.3\\\\\n\t6 & 완산구 & 효자4동   & 6 & 378 &  7.2\\\\\n\\end{tabular}\n",
            "text/markdown": "\nA data.frame: 6 × 5\n\n| <!--/--> | 구 &lt;chr&gt; | 항목 &lt;chr&gt; | 순위 &lt;int&gt; | 값 &lt;int&gt; | 비율... &lt;dbl&gt; |\n|---|---|---|---|---|---|\n| 1 | 완산구 | 효자5동   | 1 | 805 | 15.4 |\n| 2 | 완산구 | 중앙동    | 2 | 567 | 10.8 |\n| 3 | 완산구 | 서신동    | 3 | 560 | 10.7 |\n| 4 | 완산구 | 중화산2동 | 4 | 491 |  9.4 |\n| 5 | 완산구 | 풍남동    | 5 | 488 |  9.3 |\n| 6 | 완산구 | 효자4동   | 6 | 378 |  7.2 |\n\n",
            "text/html": [
              "<table class=\"dataframe\">\n",
              "<caption>A data.frame: 6 × 5</caption>\n",
              "<thead>\n",
              "\t<tr><th></th><th scope=col>구</th><th scope=col>항목</th><th scope=col>순위</th><th scope=col>값</th><th scope=col>비율...</th></tr>\n",
              "\t<tr><th></th><th scope=col>&lt;chr&gt;</th><th scope=col>&lt;chr&gt;</th><th scope=col>&lt;int&gt;</th><th scope=col>&lt;int&gt;</th><th scope=col>&lt;dbl&gt;</th></tr>\n",
              "</thead>\n",
              "<tbody>\n",
              "\t<tr><th scope=row>1</th><td>완산구</td><td>효자5동  </td><td>1</td><td>805</td><td>15.4</td></tr>\n",
              "\t<tr><th scope=row>2</th><td>완산구</td><td>중앙동   </td><td>2</td><td>567</td><td>10.8</td></tr>\n",
              "\t<tr><th scope=row>3</th><td>완산구</td><td>서신동   </td><td>3</td><td>560</td><td>10.7</td></tr>\n",
              "\t<tr><th scope=row>4</th><td>완산구</td><td>중화산2동</td><td>4</td><td>491</td><td> 9.4</td></tr>\n",
              "\t<tr><th scope=row>5</th><td>완산구</td><td>풍남동   </td><td>5</td><td>488</td><td> 9.3</td></tr>\n",
              "\t<tr><th scope=row>6</th><td>완산구</td><td>효자4동  </td><td>6</td><td>378</td><td> 7.2</td></tr>\n",
              "</tbody>\n",
              "</table>\n"
            ]
          },
          "metadata": {
            "tags": []
          }
        }
      ]
    },
    {
      "cell_type": "markdown",
      "metadata": {
        "id": "xuYA6ZzQCJlC"
      },
      "source": [
        "1 rest 데이터 중 동이 나와있는 '항목'과 음식점수가 나와있는 '값'을 추출\n",
        "\n",
        "2 '항목'과 '값'을 '행정동'과 '음식점수'로 변경\n",
        "\n",
        "3  행정동을 기준으로 오름차순 정렬\n",
        "\n",
        "▼ "
      ]
    },
    {
      "cell_type": "code",
      "metadata": {
        "colab": {
          "base_uri": "https://localhost:8080/",
          "height": 271
        },
        "id": "b2aECSBG-Efd",
        "outputId": "21eabe14-19d6-49b2-cbe2-d2ff595f47f4"
      },
      "source": [
        "rest <- rest[,c(2,4)]\n",
        "names(rest) <- c(\"행정동\", \"음식점수\")\n",
        "rest <- arrange(rest, rest$행정동)\n",
        "head(rest)"
      ],
      "execution_count": 66,
      "outputs": [
        {
          "output_type": "display_data",
          "data": {
            "text/plain": [
              "  행정동   음식점수\n",
              "1 금암1동  323     \n",
              "2 금암2동  119     \n",
              "3 노송동   193     \n",
              "4 덕진동   468     \n",
              "5 동서학동  67     \n",
              "6 삼천1동   97     "
            ],
            "text/latex": "A data.frame: 6 × 2\n\\begin{tabular}{r|ll}\n  & 행정동 & 음식점수\\\\\n  & <chr> & <int>\\\\\n\\hline\n\t1 & 금암1동  & 323\\\\\n\t2 & 금암2동  & 119\\\\\n\t3 & 노송동   & 193\\\\\n\t4 & 덕진동   & 468\\\\\n\t5 & 동서학동 &  67\\\\\n\t6 & 삼천1동  &  97\\\\\n\\end{tabular}\n",
            "text/markdown": "\nA data.frame: 6 × 2\n\n| <!--/--> | 행정동 &lt;chr&gt; | 음식점수 &lt;int&gt; |\n|---|---|---|\n| 1 | 금암1동  | 323 |\n| 2 | 금암2동  | 119 |\n| 3 | 노송동   | 193 |\n| 4 | 덕진동   | 468 |\n| 5 | 동서학동 |  67 |\n| 6 | 삼천1동  |  97 |\n\n",
            "text/html": [
              "<table class=\"dataframe\">\n",
              "<caption>A data.frame: 6 × 2</caption>\n",
              "<thead>\n",
              "\t<tr><th></th><th scope=col>행정동</th><th scope=col>음식점수</th></tr>\n",
              "\t<tr><th></th><th scope=col>&lt;chr&gt;</th><th scope=col>&lt;int&gt;</th></tr>\n",
              "</thead>\n",
              "<tbody>\n",
              "\t<tr><th scope=row>1</th><td>금암1동 </td><td>323</td></tr>\n",
              "\t<tr><th scope=row>2</th><td>금암2동 </td><td>119</td></tr>\n",
              "\t<tr><th scope=row>3</th><td>노송동  </td><td>193</td></tr>\n",
              "\t<tr><th scope=row>4</th><td>덕진동  </td><td>468</td></tr>\n",
              "\t<tr><th scope=row>5</th><td>동서학동</td><td> 67</td></tr>\n",
              "\t<tr><th scope=row>6</th><td>삼천1동 </td><td> 97</td></tr>\n",
              "</tbody>\n",
              "</table>\n"
            ]
          },
          "metadata": {
            "tags": []
          }
        }
      ]
    },
    {
      "cell_type": "markdown",
      "metadata": {
        "id": "TXdDQPPHCZDm"
      },
      "source": [
        "▼  pop에서와 마찬가지로 rest에서도 누락된 행정동이 있는지 확인해봤을 때, rest와 jjdong의 행정동이 모두 일치하는 것으로 보아 누락된 행정동은 없다고 볼 수 있다."
      ]
    },
    {
      "cell_type": "code",
      "metadata": {
        "colab": {
          "base_uri": "https://localhost:8080/",
          "height": 223
        },
        "id": "t4w9dEaf-H3P",
        "outputId": "110131cf-d42f-4806-eb37-4a50b169e2af"
      },
      "source": [
        "table(rest$행정동 %in% jjdong)\n",
        "table(jjdong %in% rest$행정동)\n",
        "\n",
        "jjdong[jjdong %in% rest$행정동 == FALSE]\n",
        "\n",
        "rest$행정동\n",
        "jjdong"
      ],
      "execution_count": 67,
      "outputs": [
        {
          "output_type": "display_data",
          "data": {
            "text/plain": [
              "\n",
              "TRUE \n",
              "  35 "
            ]
          },
          "metadata": {
            "tags": []
          }
        },
        {
          "output_type": "display_data",
          "data": {
            "text/plain": [
              "\n",
              "TRUE \n",
              "  35 "
            ]
          },
          "metadata": {
            "tags": []
          }
        },
        {
          "output_type": "display_data",
          "data": {
            "text/plain": [
              "character(0)"
            ],
            "text/latex": "",
            "text/markdown": "",
            "text/html": [
              ""
            ]
          },
          "metadata": {
            "tags": []
          }
        },
        {
          "output_type": "display_data",
          "data": {
            "text/plain": [
              " [1] \"금암1동\"   \"금암2동\"   \"노송동\"    \"덕진동\"    \"동서학동\"  \"삼천1동\"  \n",
              " [7] \"삼천2동\"   \"삼천3동\"   \"서서학동\"  \"서신동\"    \"송천1동\"   \"송천2동\"  \n",
              "[13] \"여의동\"    \"완산동\"    \"우아1동\"   \"우아2동\"   \"인후1동\"   \"인후2동\"  \n",
              "[19] \"인후3동\"   \"조촌동\"    \"중앙동\"    \"중화산1동\" \"중화산2동\" \"진북동\"   \n",
              "[25] \"팔복동\"    \"평화1동\"   \"평화2동\"   \"풍남동\"    \"혁신동\"    \"호성동\"   \n",
              "[31] \"효자1동\"   \"효자2동\"   \"효자3동\"   \"효자4동\"   \"효자5동\"  "
            ],
            "text/latex": "\\begin{enumerate*}\n\\item '금암1동'\n\\item '금암2동'\n\\item '노송동'\n\\item '덕진동'\n\\item '동서학동'\n\\item '삼천1동'\n\\item '삼천2동'\n\\item '삼천3동'\n\\item '서서학동'\n\\item '서신동'\n\\item '송천1동'\n\\item '송천2동'\n\\item '여의동'\n\\item '완산동'\n\\item '우아1동'\n\\item '우아2동'\n\\item '인후1동'\n\\item '인후2동'\n\\item '인후3동'\n\\item '조촌동'\n\\item '중앙동'\n\\item '중화산1동'\n\\item '중화산2동'\n\\item '진북동'\n\\item '팔복동'\n\\item '평화1동'\n\\item '평화2동'\n\\item '풍남동'\n\\item '혁신동'\n\\item '호성동'\n\\item '효자1동'\n\\item '효자2동'\n\\item '효자3동'\n\\item '효자4동'\n\\item '효자5동'\n\\end{enumerate*}\n",
            "text/markdown": "1. '금암1동'\n2. '금암2동'\n3. '노송동'\n4. '덕진동'\n5. '동서학동'\n6. '삼천1동'\n7. '삼천2동'\n8. '삼천3동'\n9. '서서학동'\n10. '서신동'\n11. '송천1동'\n12. '송천2동'\n13. '여의동'\n14. '완산동'\n15. '우아1동'\n16. '우아2동'\n17. '인후1동'\n18. '인후2동'\n19. '인후3동'\n20. '조촌동'\n21. '중앙동'\n22. '중화산1동'\n23. '중화산2동'\n24. '진북동'\n25. '팔복동'\n26. '평화1동'\n27. '평화2동'\n28. '풍남동'\n29. '혁신동'\n30. '호성동'\n31. '효자1동'\n32. '효자2동'\n33. '효자3동'\n34. '효자4동'\n35. '효자5동'\n\n\n",
            "text/html": [
              "<style>\n",
              ".list-inline {list-style: none; margin:0; padding: 0}\n",
              ".list-inline>li {display: inline-block}\n",
              ".list-inline>li:not(:last-child)::after {content: \"\\00b7\"; padding: 0 .5ex}\n",
              "</style>\n",
              "<ol class=list-inline><li>'금암1동'</li><li>'금암2동'</li><li>'노송동'</li><li>'덕진동'</li><li>'동서학동'</li><li>'삼천1동'</li><li>'삼천2동'</li><li>'삼천3동'</li><li>'서서학동'</li><li>'서신동'</li><li>'송천1동'</li><li>'송천2동'</li><li>'여의동'</li><li>'완산동'</li><li>'우아1동'</li><li>'우아2동'</li><li>'인후1동'</li><li>'인후2동'</li><li>'인후3동'</li><li>'조촌동'</li><li>'중앙동'</li><li>'중화산1동'</li><li>'중화산2동'</li><li>'진북동'</li><li>'팔복동'</li><li>'평화1동'</li><li>'평화2동'</li><li>'풍남동'</li><li>'혁신동'</li><li>'호성동'</li><li>'효자1동'</li><li>'효자2동'</li><li>'효자3동'</li><li>'효자4동'</li><li>'효자5동'</li></ol>\n"
            ]
          },
          "metadata": {
            "tags": []
          }
        },
        {
          "output_type": "display_data",
          "data": {
            "text/plain": [
              " [1] \"금암1동\"   \"금암2동\"   \"노송동\"    \"덕진동\"    \"동서학동\"  \"삼천1동\"  \n",
              " [7] \"삼천2동\"   \"삼천3동\"   \"서서학동\"  \"서신동\"    \"송천1동\"   \"송천2동\"  \n",
              "[13] \"여의동\"    \"완산동\"    \"우아1동\"   \"우아2동\"   \"인후1동\"   \"인후2동\"  \n",
              "[19] \"인후3동\"   \"조촌동\"    \"중앙동\"    \"중화산1동\" \"중화산2동\" \"진북동\"   \n",
              "[25] \"팔복동\"    \"평화1동\"   \"평화2동\"   \"풍남동\"    \"혁신동\"    \"호성동\"   \n",
              "[31] \"효자1동\"   \"효자2동\"   \"효자3동\"   \"효자4동\"   \"효자5동\"  "
            ],
            "text/latex": "\\begin{enumerate*}\n\\item '금암1동'\n\\item '금암2동'\n\\item '노송동'\n\\item '덕진동'\n\\item '동서학동'\n\\item '삼천1동'\n\\item '삼천2동'\n\\item '삼천3동'\n\\item '서서학동'\n\\item '서신동'\n\\item '송천1동'\n\\item '송천2동'\n\\item '여의동'\n\\item '완산동'\n\\item '우아1동'\n\\item '우아2동'\n\\item '인후1동'\n\\item '인후2동'\n\\item '인후3동'\n\\item '조촌동'\n\\item '중앙동'\n\\item '중화산1동'\n\\item '중화산2동'\n\\item '진북동'\n\\item '팔복동'\n\\item '평화1동'\n\\item '평화2동'\n\\item '풍남동'\n\\item '혁신동'\n\\item '호성동'\n\\item '효자1동'\n\\item '효자2동'\n\\item '효자3동'\n\\item '효자4동'\n\\item '효자5동'\n\\end{enumerate*}\n",
            "text/markdown": "1. '금암1동'\n2. '금암2동'\n3. '노송동'\n4. '덕진동'\n5. '동서학동'\n6. '삼천1동'\n7. '삼천2동'\n8. '삼천3동'\n9. '서서학동'\n10. '서신동'\n11. '송천1동'\n12. '송천2동'\n13. '여의동'\n14. '완산동'\n15. '우아1동'\n16. '우아2동'\n17. '인후1동'\n18. '인후2동'\n19. '인후3동'\n20. '조촌동'\n21. '중앙동'\n22. '중화산1동'\n23. '중화산2동'\n24. '진북동'\n25. '팔복동'\n26. '평화1동'\n27. '평화2동'\n28. '풍남동'\n29. '혁신동'\n30. '호성동'\n31. '효자1동'\n32. '효자2동'\n33. '효자3동'\n34. '효자4동'\n35. '효자5동'\n\n\n",
            "text/html": [
              "<style>\n",
              ".list-inline {list-style: none; margin:0; padding: 0}\n",
              ".list-inline>li {display: inline-block}\n",
              ".list-inline>li:not(:last-child)::after {content: \"\\00b7\"; padding: 0 .5ex}\n",
              "</style>\n",
              "<ol class=list-inline><li>'금암1동'</li><li>'금암2동'</li><li>'노송동'</li><li>'덕진동'</li><li>'동서학동'</li><li>'삼천1동'</li><li>'삼천2동'</li><li>'삼천3동'</li><li>'서서학동'</li><li>'서신동'</li><li>'송천1동'</li><li>'송천2동'</li><li>'여의동'</li><li>'완산동'</li><li>'우아1동'</li><li>'우아2동'</li><li>'인후1동'</li><li>'인후2동'</li><li>'인후3동'</li><li>'조촌동'</li><li>'중앙동'</li><li>'중화산1동'</li><li>'중화산2동'</li><li>'진북동'</li><li>'팔복동'</li><li>'평화1동'</li><li>'평화2동'</li><li>'풍남동'</li><li>'혁신동'</li><li>'호성동'</li><li>'효자1동'</li><li>'효자2동'</li><li>'효자3동'</li><li>'효자4동'</li><li>'효자5동'</li></ol>\n"
            ]
          },
          "metadata": {
            "tags": []
          }
        }
      ]
    },
    {
      "cell_type": "code",
      "metadata": {
        "colab": {
          "base_uri": "https://localhost:8080/",
          "height": 1000
        },
        "id": "FbI5HXEU-SHs",
        "outputId": "4f5f0a07-6df5-4804-8a2d-b5e14d945ab9"
      },
      "source": [
        "rest"
      ],
      "execution_count": 68,
      "outputs": [
        {
          "output_type": "display_data",
          "data": {
            "text/plain": [
              "   행정동    음식점수\n",
              "1  금암1동   323     \n",
              "2  금암2동   119     \n",
              "3  노송동    193     \n",
              "4  덕진동    468     \n",
              "5  동서학동   67     \n",
              "6  삼천1동    97     \n",
              "7  삼천2동   216     \n",
              "8  삼천3동   219     \n",
              "9  서서학동   54     \n",
              "10 서신동    560     \n",
              "11 송천1동   347     \n",
              "12 송천2동   288     \n",
              "13 여의동    184     \n",
              "14 완산동     17     \n",
              "15 우아1동   227     \n",
              "16 우아2동   389     \n",
              "17 인후1동   147     \n",
              "18 인후2동   174     \n",
              "19 인후3동   335     \n",
              "20 조촌동     90     \n",
              "21 중앙동    567     \n",
              "22 중화산1동 227     \n",
              "23 중화산2동 491     \n",
              "24 진북동    145     \n",
              "25 팔복동    120     \n",
              "26 평화1동   108     \n",
              "27 평화2동   372     \n",
              "28 풍남동    488     \n",
              "29 혁신동    176     \n",
              "30 호성동    121     \n",
              "31 효자1동    72     \n",
              "32 효자2동   144     \n",
              "33 효자3동   156     \n",
              "34 효자4동   378     \n",
              "35 효자5동   805     "
            ],
            "text/latex": "A data.frame: 35 × 2\n\\begin{tabular}{ll}\n 행정동 & 음식점수\\\\\n <chr> & <int>\\\\\n\\hline\n\t 금암1동   & 323\\\\\n\t 금암2동   & 119\\\\\n\t 노송동    & 193\\\\\n\t 덕진동    & 468\\\\\n\t 동서학동  &  67\\\\\n\t 삼천1동   &  97\\\\\n\t 삼천2동   & 216\\\\\n\t 삼천3동   & 219\\\\\n\t 서서학동  &  54\\\\\n\t 서신동    & 560\\\\\n\t 송천1동   & 347\\\\\n\t 송천2동   & 288\\\\\n\t 여의동    & 184\\\\\n\t 완산동    &  17\\\\\n\t 우아1동   & 227\\\\\n\t 우아2동   & 389\\\\\n\t 인후1동   & 147\\\\\n\t 인후2동   & 174\\\\\n\t 인후3동   & 335\\\\\n\t 조촌동    &  90\\\\\n\t 중앙동    & 567\\\\\n\t 중화산1동 & 227\\\\\n\t 중화산2동 & 491\\\\\n\t 진북동    & 145\\\\\n\t 팔복동    & 120\\\\\n\t 평화1동   & 108\\\\\n\t 평화2동   & 372\\\\\n\t 풍남동    & 488\\\\\n\t 혁신동    & 176\\\\\n\t 호성동    & 121\\\\\n\t 효자1동   &  72\\\\\n\t 효자2동   & 144\\\\\n\t 효자3동   & 156\\\\\n\t 효자4동   & 378\\\\\n\t 효자5동   & 805\\\\\n\\end{tabular}\n",
            "text/markdown": "\nA data.frame: 35 × 2\n\n| 행정동 &lt;chr&gt; | 음식점수 &lt;int&gt; |\n|---|---|\n| 금암1동   | 323 |\n| 금암2동   | 119 |\n| 노송동    | 193 |\n| 덕진동    | 468 |\n| 동서학동  |  67 |\n| 삼천1동   |  97 |\n| 삼천2동   | 216 |\n| 삼천3동   | 219 |\n| 서서학동  |  54 |\n| 서신동    | 560 |\n| 송천1동   | 347 |\n| 송천2동   | 288 |\n| 여의동    | 184 |\n| 완산동    |  17 |\n| 우아1동   | 227 |\n| 우아2동   | 389 |\n| 인후1동   | 147 |\n| 인후2동   | 174 |\n| 인후3동   | 335 |\n| 조촌동    |  90 |\n| 중앙동    | 567 |\n| 중화산1동 | 227 |\n| 중화산2동 | 491 |\n| 진북동    | 145 |\n| 팔복동    | 120 |\n| 평화1동   | 108 |\n| 평화2동   | 372 |\n| 풍남동    | 488 |\n| 혁신동    | 176 |\n| 호성동    | 121 |\n| 효자1동   |  72 |\n| 효자2동   | 144 |\n| 효자3동   | 156 |\n| 효자4동   | 378 |\n| 효자5동   | 805 |\n\n",
            "text/html": [
              "<table class=\"dataframe\">\n",
              "<caption>A data.frame: 35 × 2</caption>\n",
              "<thead>\n",
              "\t<tr><th scope=col>행정동</th><th scope=col>음식점수</th></tr>\n",
              "\t<tr><th scope=col>&lt;chr&gt;</th><th scope=col>&lt;int&gt;</th></tr>\n",
              "</thead>\n",
              "<tbody>\n",
              "\t<tr><td>금암1동  </td><td>323</td></tr>\n",
              "\t<tr><td>금암2동  </td><td>119</td></tr>\n",
              "\t<tr><td>노송동   </td><td>193</td></tr>\n",
              "\t<tr><td>덕진동   </td><td>468</td></tr>\n",
              "\t<tr><td>동서학동 </td><td> 67</td></tr>\n",
              "\t<tr><td>삼천1동  </td><td> 97</td></tr>\n",
              "\t<tr><td>삼천2동  </td><td>216</td></tr>\n",
              "\t<tr><td>삼천3동  </td><td>219</td></tr>\n",
              "\t<tr><td>서서학동 </td><td> 54</td></tr>\n",
              "\t<tr><td>서신동   </td><td>560</td></tr>\n",
              "\t<tr><td>송천1동  </td><td>347</td></tr>\n",
              "\t<tr><td>송천2동  </td><td>288</td></tr>\n",
              "\t<tr><td>여의동   </td><td>184</td></tr>\n",
              "\t<tr><td>완산동   </td><td> 17</td></tr>\n",
              "\t<tr><td>우아1동  </td><td>227</td></tr>\n",
              "\t<tr><td>우아2동  </td><td>389</td></tr>\n",
              "\t<tr><td>인후1동  </td><td>147</td></tr>\n",
              "\t<tr><td>인후2동  </td><td>174</td></tr>\n",
              "\t<tr><td>인후3동  </td><td>335</td></tr>\n",
              "\t<tr><td>조촌동   </td><td> 90</td></tr>\n",
              "\t<tr><td>중앙동   </td><td>567</td></tr>\n",
              "\t<tr><td>중화산1동</td><td>227</td></tr>\n",
              "\t<tr><td>중화산2동</td><td>491</td></tr>\n",
              "\t<tr><td>진북동   </td><td>145</td></tr>\n",
              "\t<tr><td>팔복동   </td><td>120</td></tr>\n",
              "\t<tr><td>평화1동  </td><td>108</td></tr>\n",
              "\t<tr><td>평화2동  </td><td>372</td></tr>\n",
              "\t<tr><td>풍남동   </td><td>488</td></tr>\n",
              "\t<tr><td>혁신동   </td><td>176</td></tr>\n",
              "\t<tr><td>호성동   </td><td>121</td></tr>\n",
              "\t<tr><td>효자1동  </td><td> 72</td></tr>\n",
              "\t<tr><td>효자2동  </td><td>144</td></tr>\n",
              "\t<tr><td>효자3동  </td><td>156</td></tr>\n",
              "\t<tr><td>효자4동  </td><td>378</td></tr>\n",
              "\t<tr><td>효자5동  </td><td>805</td></tr>\n",
              "</tbody>\n",
              "</table>\n"
            ]
          },
          "metadata": {
            "tags": []
          }
        }
      ]
    },
    {
      "cell_type": "markdown",
      "metadata": {
        "id": "v7Bzgs9LCsQr"
      },
      "source": [
        "## 자전거 보관대 수"
      ]
    },
    {
      "cell_type": "code",
      "metadata": {
        "colab": {
          "base_uri": "https://localhost:8080/",
          "height": 1000
        },
        "id": "8jAYC13J-Vso",
        "outputId": "a8e62a1a-bd80-4567-c431-7790783fa390"
      },
      "source": [
        "str(bicycle)\n",
        "head(bicycle)"
      ],
      "execution_count": 69,
      "outputs": [
        {
          "output_type": "stream",
          "text": [
            "'data.frame':\t179 obs. of  17 variables:\n",
            " $ 번호              : int  1 2 3 4 5 6 7 8 9 10 ...\n",
            " $ 자전거보관소명    : chr  \"자전거 보관대\" \"자전거 보관대\" \"자전거 보관대\" \"자전거 보관대\" ...\n",
            " $ 소재지도로명주소  : chr  \"전라북도 전주시 덕진구 여암2길 9\" \"전라북도 전주시 덕진구 송천중앙로 116\" \"전라북도 전주시 덕진구 송천중앙로162\" \"전라북도 전주시 덕진구 송천중앙로 153\" ...\n",
            " $ 소재지지번주소    : chr  \"전라북도 전주시 덕진구 반월동 248-32\" \"전라북도 전주시 덕진구 송천동1가 395-28\" \"전라북도 전주시 덕진구 송천동1가 113-12\" \"전라북도 전주시 덕진구 송천동1가 481-4\" ...\n",
            " $ 행정동            : chr  \"조촌동\" \"송천1동\" \"송천2동\" \"송천2동\" ...\n",
            " $ 위도              : num  35.9 35.9 35.9 35.9 35.9 ...\n",
            " $ 경도              : num  127 127 127 127 127 ...\n",
            " $ 보관대수          : int  6 7 7 10 10 6 7 7 10 30 ...\n",
            " $ 설치연도          : int  NA NA NA NA NA NA NA NA NA NA ...\n",
            " $ 설치형태          : chr  \"거치형\" \"휀스형\" \"거치형\" \"휀스형\" ...\n",
            " $ 차양막설치여부    : chr  \"N\" \"Y\" \"N\" \"Y\" ...\n",
            " $ 공기주입기비치여부: chr  \"N\" \"N\" \"N\" \"N\" ...\n",
            " $ 공기주입기유형    : logi  NA NA NA NA NA NA ...\n",
            " $ 수리대설치여부    : chr  \"N\" \"N\" \"N\" \"N\" ...\n",
            " $ 관리기관전화번호  : chr  \"063-281-2602\" \"063-281-2603\" \"063-281-2604\" \"063-281-2605\" ...\n",
            " $ 관리기관명        : chr  \"전라북도 전주시청 자전거정책과\" \"전라북도 전주시청 자전거정책과\" \"전라북도 전주시청 자전거정책과\" \"전라북도 전주시청 자전거정책과\" ...\n",
            " $ 데이터기준일자    : chr  \"2020-08-31\" \"2020-08-31\" \"2020-08-31\" \"2020-08-31\" ...\n"
          ],
          "name": "stdout"
        },
        {
          "output_type": "display_data",
          "data": {
            "text/plain": [
              "  번호 자전거보관소명 소재지도로명주소                     \n",
              "1 1    자전거 보관대  전라북도 전주시 덕진구 여암2길 9     \n",
              "2 2    자전거 보관대  전라북도 전주시 덕진구 송천중앙로 116\n",
              "3 3    자전거 보관대  전라북도 전주시 덕진구 송천중앙로162 \n",
              "4 4    자전거 보관대  전라북도 전주시 덕진구 송천중앙로 153\n",
              "5 5    자전거 보관대  전라북도 전주시 덕진구 천마산로 40   \n",
              "6 6    자전거 보관대  전라북도 전주시 덕진구 견훤왕궁로 277\n",
              "  소재지지번주소                           행정동  위도     경도     보관대수\n",
              "1 전라북도 전주시 덕진구 반월동 248-32     조촌동  35.87201 127.0757  6      \n",
              "2 전라북도 전주시 덕진구 송천동1가 395-28  송천1동 35.85710 127.1210  7      \n",
              "3 전라북도 전주시 덕진구 송천동1가 113-12  송천2동 35.86099 127.1217  7      \n",
              "4 전라북도 전주시 덕진구 송천동1가 481-4   송천2동 35.86063 127.1209 10      \n",
              "5 전라북도 전주시 덕진구 송천동1가 107-172 송천2동 35.86335 127.1257 10      \n",
              "6 전라북도 전주시 덕진구 금암동 1600-6     금암2동 35.84259 127.1441  6      \n",
              "  설치연도 설치형태 차양막설치여부 공기주입기비치여부 공기주입기유형\n",
              "1 NA       거치형   N              N                  NA            \n",
              "2 NA       휀스형   Y              N                  NA            \n",
              "3 NA       거치형   N              N                  NA            \n",
              "4 NA       휀스형   Y              N                  NA            \n",
              "5 NA       휀스형   Y              N                  NA            \n",
              "6 NA       거치형   N              N                  NA            \n",
              "  수리대설치여부 관리기관전화번호 관리기관명                     데이터기준일자\n",
              "1 N              063-281-2602     전라북도 전주시청 자전거정책과 2020-08-31    \n",
              "2 N              063-281-2603     전라북도 전주시청 자전거정책과 2020-08-31    \n",
              "3 N              063-281-2604     전라북도 전주시청 자전거정책과 2020-08-31    \n",
              "4 N              063-281-2605     전라북도 전주시청 자전거정책과 2020-08-31    \n",
              "5 N              063-281-2606     전라북도 전주시청 자전거정책과 2020-08-31    \n",
              "6 N              063-281-2607     전라북도 전주시청 자전거정책과 2020-08-31    "
            ],
            "text/latex": "A data.frame: 6 × 17\n\\begin{tabular}{r|lllllllllllllllll}\n  & 번호 & 자전거보관소명 & 소재지도로명주소 & 소재지지번주소 & 행정동 & 위도 & 경도 & 보관대수 & 설치연도 & 설치형태 & 차양막설치여부 & 공기주입기비치여부 & 공기주입기유형 & 수리대설치여부 & 관리기관전화번호 & 관리기관명 & 데이터기준일자\\\\\n  & <int> & <chr> & <chr> & <chr> & <chr> & <dbl> & <dbl> & <int> & <int> & <chr> & <chr> & <chr> & <lgl> & <chr> & <chr> & <chr> & <chr>\\\\\n\\hline\n\t1 & 1 & 자전거 보관대 & 전라북도 전주시 덕진구 여암2길 9      & 전라북도 전주시 덕진구 반월동 248-32     & 조촌동  & 35.87201 & 127.0757 &  6 & NA & 거치형 & N & N & NA & N & 063-281-2602 & 전라북도 전주시청 자전거정책과 & 2020-08-31\\\\\n\t2 & 2 & 자전거 보관대 & 전라북도 전주시 덕진구 송천중앙로 116 & 전라북도 전주시 덕진구 송천동1가 395-28  & 송천1동 & 35.85710 & 127.1210 &  7 & NA & 휀스형 & Y & N & NA & N & 063-281-2603 & 전라북도 전주시청 자전거정책과 & 2020-08-31\\\\\n\t3 & 3 & 자전거 보관대 & 전라북도 전주시 덕진구 송천중앙로162  & 전라북도 전주시 덕진구 송천동1가 113-12  & 송천2동 & 35.86099 & 127.1217 &  7 & NA & 거치형 & N & N & NA & N & 063-281-2604 & 전라북도 전주시청 자전거정책과 & 2020-08-31\\\\\n\t4 & 4 & 자전거 보관대 & 전라북도 전주시 덕진구 송천중앙로 153 & 전라북도 전주시 덕진구 송천동1가 481-4   & 송천2동 & 35.86063 & 127.1209 & 10 & NA & 휀스형 & Y & N & NA & N & 063-281-2605 & 전라북도 전주시청 자전거정책과 & 2020-08-31\\\\\n\t5 & 5 & 자전거 보관대 & 전라북도 전주시 덕진구 천마산로 40    & 전라북도 전주시 덕진구 송천동1가 107-172 & 송천2동 & 35.86335 & 127.1257 & 10 & NA & 휀스형 & Y & N & NA & N & 063-281-2606 & 전라북도 전주시청 자전거정책과 & 2020-08-31\\\\\n\t6 & 6 & 자전거 보관대 & 전라북도 전주시 덕진구 견훤왕궁로 277 & 전라북도 전주시 덕진구 금암동 1600-6     & 금암2동 & 35.84259 & 127.1441 &  6 & NA & 거치형 & N & N & NA & N & 063-281-2607 & 전라북도 전주시청 자전거정책과 & 2020-08-31\\\\\n\\end{tabular}\n",
            "text/markdown": "\nA data.frame: 6 × 17\n\n| <!--/--> | 번호 &lt;int&gt; | 자전거보관소명 &lt;chr&gt; | 소재지도로명주소 &lt;chr&gt; | 소재지지번주소 &lt;chr&gt; | 행정동 &lt;chr&gt; | 위도 &lt;dbl&gt; | 경도 &lt;dbl&gt; | 보관대수 &lt;int&gt; | 설치연도 &lt;int&gt; | 설치형태 &lt;chr&gt; | 차양막설치여부 &lt;chr&gt; | 공기주입기비치여부 &lt;chr&gt; | 공기주입기유형 &lt;lgl&gt; | 수리대설치여부 &lt;chr&gt; | 관리기관전화번호 &lt;chr&gt; | 관리기관명 &lt;chr&gt; | 데이터기준일자 &lt;chr&gt; |\n|---|---|---|---|---|---|---|---|---|---|---|---|---|---|---|---|---|---|\n| 1 | 1 | 자전거 보관대 | 전라북도 전주시 덕진구 여암2길 9      | 전라북도 전주시 덕진구 반월동 248-32     | 조촌동  | 35.87201 | 127.0757 |  6 | NA | 거치형 | N | N | NA | N | 063-281-2602 | 전라북도 전주시청 자전거정책과 | 2020-08-31 |\n| 2 | 2 | 자전거 보관대 | 전라북도 전주시 덕진구 송천중앙로 116 | 전라북도 전주시 덕진구 송천동1가 395-28  | 송천1동 | 35.85710 | 127.1210 |  7 | NA | 휀스형 | Y | N | NA | N | 063-281-2603 | 전라북도 전주시청 자전거정책과 | 2020-08-31 |\n| 3 | 3 | 자전거 보관대 | 전라북도 전주시 덕진구 송천중앙로162  | 전라북도 전주시 덕진구 송천동1가 113-12  | 송천2동 | 35.86099 | 127.1217 |  7 | NA | 거치형 | N | N | NA | N | 063-281-2604 | 전라북도 전주시청 자전거정책과 | 2020-08-31 |\n| 4 | 4 | 자전거 보관대 | 전라북도 전주시 덕진구 송천중앙로 153 | 전라북도 전주시 덕진구 송천동1가 481-4   | 송천2동 | 35.86063 | 127.1209 | 10 | NA | 휀스형 | Y | N | NA | N | 063-281-2605 | 전라북도 전주시청 자전거정책과 | 2020-08-31 |\n| 5 | 5 | 자전거 보관대 | 전라북도 전주시 덕진구 천마산로 40    | 전라북도 전주시 덕진구 송천동1가 107-172 | 송천2동 | 35.86335 | 127.1257 | 10 | NA | 휀스형 | Y | N | NA | N | 063-281-2606 | 전라북도 전주시청 자전거정책과 | 2020-08-31 |\n| 6 | 6 | 자전거 보관대 | 전라북도 전주시 덕진구 견훤왕궁로 277 | 전라북도 전주시 덕진구 금암동 1600-6     | 금암2동 | 35.84259 | 127.1441 |  6 | NA | 거치형 | N | N | NA | N | 063-281-2607 | 전라북도 전주시청 자전거정책과 | 2020-08-31 |\n\n",
            "text/html": [
              "<table class=\"dataframe\">\n",
              "<caption>A data.frame: 6 × 17</caption>\n",
              "<thead>\n",
              "\t<tr><th></th><th scope=col>번호</th><th scope=col>자전거보관소명</th><th scope=col>소재지도로명주소</th><th scope=col>소재지지번주소</th><th scope=col>행정동</th><th scope=col>위도</th><th scope=col>경도</th><th scope=col>보관대수</th><th scope=col>설치연도</th><th scope=col>설치형태</th><th scope=col>차양막설치여부</th><th scope=col>공기주입기비치여부</th><th scope=col>공기주입기유형</th><th scope=col>수리대설치여부</th><th scope=col>관리기관전화번호</th><th scope=col>관리기관명</th><th scope=col>데이터기준일자</th></tr>\n",
              "\t<tr><th></th><th scope=col>&lt;int&gt;</th><th scope=col>&lt;chr&gt;</th><th scope=col>&lt;chr&gt;</th><th scope=col>&lt;chr&gt;</th><th scope=col>&lt;chr&gt;</th><th scope=col>&lt;dbl&gt;</th><th scope=col>&lt;dbl&gt;</th><th scope=col>&lt;int&gt;</th><th scope=col>&lt;int&gt;</th><th scope=col>&lt;chr&gt;</th><th scope=col>&lt;chr&gt;</th><th scope=col>&lt;chr&gt;</th><th scope=col>&lt;lgl&gt;</th><th scope=col>&lt;chr&gt;</th><th scope=col>&lt;chr&gt;</th><th scope=col>&lt;chr&gt;</th><th scope=col>&lt;chr&gt;</th></tr>\n",
              "</thead>\n",
              "<tbody>\n",
              "\t<tr><th scope=row>1</th><td>1</td><td>자전거 보관대</td><td>전라북도 전주시 덕진구 여암2길 9     </td><td>전라북도 전주시 덕진구 반월동 248-32    </td><td>조촌동 </td><td>35.87201</td><td>127.0757</td><td> 6</td><td>NA</td><td>거치형</td><td>N</td><td>N</td><td>NA</td><td>N</td><td>063-281-2602</td><td>전라북도 전주시청 자전거정책과</td><td>2020-08-31</td></tr>\n",
              "\t<tr><th scope=row>2</th><td>2</td><td>자전거 보관대</td><td>전라북도 전주시 덕진구 송천중앙로 116</td><td>전라북도 전주시 덕진구 송천동1가 395-28 </td><td>송천1동</td><td>35.85710</td><td>127.1210</td><td> 7</td><td>NA</td><td>휀스형</td><td>Y</td><td>N</td><td>NA</td><td>N</td><td>063-281-2603</td><td>전라북도 전주시청 자전거정책과</td><td>2020-08-31</td></tr>\n",
              "\t<tr><th scope=row>3</th><td>3</td><td>자전거 보관대</td><td>전라북도 전주시 덕진구 송천중앙로162 </td><td>전라북도 전주시 덕진구 송천동1가 113-12 </td><td>송천2동</td><td>35.86099</td><td>127.1217</td><td> 7</td><td>NA</td><td>거치형</td><td>N</td><td>N</td><td>NA</td><td>N</td><td>063-281-2604</td><td>전라북도 전주시청 자전거정책과</td><td>2020-08-31</td></tr>\n",
              "\t<tr><th scope=row>4</th><td>4</td><td>자전거 보관대</td><td>전라북도 전주시 덕진구 송천중앙로 153</td><td>전라북도 전주시 덕진구 송천동1가 481-4  </td><td>송천2동</td><td>35.86063</td><td>127.1209</td><td>10</td><td>NA</td><td>휀스형</td><td>Y</td><td>N</td><td>NA</td><td>N</td><td>063-281-2605</td><td>전라북도 전주시청 자전거정책과</td><td>2020-08-31</td></tr>\n",
              "\t<tr><th scope=row>5</th><td>5</td><td>자전거 보관대</td><td>전라북도 전주시 덕진구 천마산로 40   </td><td>전라북도 전주시 덕진구 송천동1가 107-172</td><td>송천2동</td><td>35.86335</td><td>127.1257</td><td>10</td><td>NA</td><td>휀스형</td><td>Y</td><td>N</td><td>NA</td><td>N</td><td>063-281-2606</td><td>전라북도 전주시청 자전거정책과</td><td>2020-08-31</td></tr>\n",
              "\t<tr><th scope=row>6</th><td>6</td><td>자전거 보관대</td><td>전라북도 전주시 덕진구 견훤왕궁로 277</td><td>전라북도 전주시 덕진구 금암동 1600-6    </td><td>금암2동</td><td>35.84259</td><td>127.1441</td><td> 6</td><td>NA</td><td>거치형</td><td>N</td><td>N</td><td>NA</td><td>N</td><td>063-281-2607</td><td>전라북도 전주시청 자전거정책과</td><td>2020-08-31</td></tr>\n",
              "</tbody>\n",
              "</table>\n"
            ]
          },
          "metadata": {
            "tags": []
          }
        }
      ]
    },
    {
      "cell_type": "markdown",
      "metadata": {
        "id": "e9kbB6Z2CvF7"
      },
      "source": [
        "▼  '번호', '행정동', '보관대수'만 뽑아서 다시 bicycle에 저장"
      ]
    },
    {
      "cell_type": "code",
      "metadata": {
        "colab": {
          "base_uri": "https://localhost:8080/",
          "height": 271
        },
        "id": "tBv5RFp--Z5M",
        "outputId": "53bcc443-dd61-41c6-f58c-c7d5ab2a2c75"
      },
      "source": [
        "bicycle <- bicycle[, c(1,5,8)]\n",
        "head(bicycle)"
      ],
      "execution_count": 70,
      "outputs": [
        {
          "output_type": "display_data",
          "data": {
            "text/plain": [
              "  번호 행정동  보관대수\n",
              "1 1    조촌동   6      \n",
              "2 2    송천1동  7      \n",
              "3 3    송천2동  7      \n",
              "4 4    송천2동 10      \n",
              "5 5    송천2동 10      \n",
              "6 6    금암2동  6      "
            ],
            "text/latex": "A data.frame: 6 × 3\n\\begin{tabular}{r|lll}\n  & 번호 & 행정동 & 보관대수\\\\\n  & <int> & <chr> & <int>\\\\\n\\hline\n\t1 & 1 & 조촌동  &  6\\\\\n\t2 & 2 & 송천1동 &  7\\\\\n\t3 & 3 & 송천2동 &  7\\\\\n\t4 & 4 & 송천2동 & 10\\\\\n\t5 & 5 & 송천2동 & 10\\\\\n\t6 & 6 & 금암2동 &  6\\\\\n\\end{tabular}\n",
            "text/markdown": "\nA data.frame: 6 × 3\n\n| <!--/--> | 번호 &lt;int&gt; | 행정동 &lt;chr&gt; | 보관대수 &lt;int&gt; |\n|---|---|---|---|\n| 1 | 1 | 조촌동  |  6 |\n| 2 | 2 | 송천1동 |  7 |\n| 3 | 3 | 송천2동 |  7 |\n| 4 | 4 | 송천2동 | 10 |\n| 5 | 5 | 송천2동 | 10 |\n| 6 | 6 | 금암2동 |  6 |\n\n",
            "text/html": [
              "<table class=\"dataframe\">\n",
              "<caption>A data.frame: 6 × 3</caption>\n",
              "<thead>\n",
              "\t<tr><th></th><th scope=col>번호</th><th scope=col>행정동</th><th scope=col>보관대수</th></tr>\n",
              "\t<tr><th></th><th scope=col>&lt;int&gt;</th><th scope=col>&lt;chr&gt;</th><th scope=col>&lt;int&gt;</th></tr>\n",
              "</thead>\n",
              "<tbody>\n",
              "\t<tr><th scope=row>1</th><td>1</td><td>조촌동 </td><td> 6</td></tr>\n",
              "\t<tr><th scope=row>2</th><td>2</td><td>송천1동</td><td> 7</td></tr>\n",
              "\t<tr><th scope=row>3</th><td>3</td><td>송천2동</td><td> 7</td></tr>\n",
              "\t<tr><th scope=row>4</th><td>4</td><td>송천2동</td><td>10</td></tr>\n",
              "\t<tr><th scope=row>5</th><td>5</td><td>송천2동</td><td>10</td></tr>\n",
              "\t<tr><th scope=row>6</th><td>6</td><td>금암2동</td><td> 6</td></tr>\n",
              "</tbody>\n",
              "</table>\n"
            ]
          },
          "metadata": {
            "tags": []
          }
        }
      ]
    },
    {
      "cell_type": "markdown",
      "metadata": {
        "id": "SBfSGqZ7C7D-"
      },
      "source": [
        "▼ dplyr 패키지 이용해서 행정동을 기준으로 그룹화하고, 그 안에서 행정동별 자전거보관대의 수를 합친 결과를 출력한다."
      ]
    },
    {
      "cell_type": "code",
      "metadata": {
        "colab": {
          "base_uri": "https://localhost:8080/",
          "height": 271
        },
        "id": "70Rk61ss-k3B",
        "outputId": "561e5a57-355c-461a-ff91-b129604f89a9"
      },
      "source": [
        "bicycle <- bicycle %>% group_by(행정동) %>% summarise(자전거보관대수 = sum(보관대수))\n",
        "head(bicycle)"
      ],
      "execution_count": 71,
      "outputs": [
        {
          "output_type": "display_data",
          "data": {
            "text/plain": [
              "  행정동   자전거보관대수\n",
              "1 금암1동  253           \n",
              "2 금암2동   20           \n",
              "3 노송동   138           \n",
              "4 덕진동   237           \n",
              "5 동서학동   7           \n",
              "6 삼천2동   21           "
            ],
            "text/latex": "A tibble: 6 × 2\n\\begin{tabular}{ll}\n 행정동 & 자전거보관대수\\\\\n <chr> & <int>\\\\\n\\hline\n\t 금암1동  & 253\\\\\n\t 금암2동  &  20\\\\\n\t 노송동   & 138\\\\\n\t 덕진동   & 237\\\\\n\t 동서학동 &   7\\\\\n\t 삼천2동  &  21\\\\\n\\end{tabular}\n",
            "text/markdown": "\nA tibble: 6 × 2\n\n| 행정동 &lt;chr&gt; | 자전거보관대수 &lt;int&gt; |\n|---|---|\n| 금암1동  | 253 |\n| 금암2동  |  20 |\n| 노송동   | 138 |\n| 덕진동   | 237 |\n| 동서학동 |   7 |\n| 삼천2동  |  21 |\n\n",
            "text/html": [
              "<table class=\"dataframe\">\n",
              "<caption>A tibble: 6 × 2</caption>\n",
              "<thead>\n",
              "\t<tr><th scope=col>행정동</th><th scope=col>자전거보관대수</th></tr>\n",
              "\t<tr><th scope=col>&lt;chr&gt;</th><th scope=col>&lt;int&gt;</th></tr>\n",
              "</thead>\n",
              "<tbody>\n",
              "\t<tr><td>금암1동 </td><td>253</td></tr>\n",
              "\t<tr><td>금암2동 </td><td> 20</td></tr>\n",
              "\t<tr><td>노송동  </td><td>138</td></tr>\n",
              "\t<tr><td>덕진동  </td><td>237</td></tr>\n",
              "\t<tr><td>동서학동</td><td>  7</td></tr>\n",
              "\t<tr><td>삼천2동 </td><td> 21</td></tr>\n",
              "</tbody>\n",
              "</table>\n"
            ]
          },
          "metadata": {
            "tags": []
          }
        }
      ]
    },
    {
      "cell_type": "markdown",
      "metadata": {
        "id": "T1S52-yqDEhb"
      },
      "source": [
        "1 bicycle을 데이터프레임으로 바꿔주고\n",
        "\n",
        "2 행정동을 기준으로 오름차순 정렬\n",
        "\n",
        "▼ "
      ]
    },
    {
      "cell_type": "code",
      "metadata": {
        "colab": {
          "base_uri": "https://localhost:8080/",
          "height": 952
        },
        "id": "c3MKchk7-o3M",
        "outputId": "c9d726a0-5ac0-4aad-bb86-201a5fb107a4"
      },
      "source": [
        "bicycle <- as.data.frame(bicycle)\n",
        "bicycle <- arrange(bicycle, bicycle$행정동)\n",
        "bicycle"
      ],
      "execution_count": 72,
      "outputs": [
        {
          "output_type": "display_data",
          "data": {
            "text/plain": [
              "   행정동    자전거보관대수\n",
              "1  금암1동   253           \n",
              "2  금암2동    20           \n",
              "3  노송동    138           \n",
              "4  덕진동    237           \n",
              "5  동서학동    7           \n",
              "6  삼천2동    21           \n",
              "7  삼천3동    62           \n",
              "8  서서학동    7           \n",
              "9  서신동    126           \n",
              "10 송천1동    31           \n",
              "11 송천2동    27           \n",
              "12 완산동      7           \n",
              "13 우아2동   110           \n",
              "14 인후1동    78           \n",
              "15 인후2동    60           \n",
              "16 인후3동    20           \n",
              "17 조촌동     23           \n",
              "18 중앙동     68           \n",
              "19 중화산2동 119           \n",
              "20 진북동    125           \n",
              "21 팔복동     31           \n",
              "22 평화1동    95           \n",
              "23 평화2동    46           \n",
              "24 풍남동     24           \n",
              "25 효자1동    76           \n",
              "26 효자2동    65           \n",
              "27 효자3동    10           \n",
              "28 효자4동    42           \n",
              "29 효자5동    73           "
            ],
            "text/latex": "A data.frame: 29 × 2\n\\begin{tabular}{ll}\n 행정동 & 자전거보관대수\\\\\n <chr> & <int>\\\\\n\\hline\n\t 금암1동   & 253\\\\\n\t 금암2동   &  20\\\\\n\t 노송동    & 138\\\\\n\t 덕진동    & 237\\\\\n\t 동서학동  &   7\\\\\n\t 삼천2동   &  21\\\\\n\t 삼천3동   &  62\\\\\n\t 서서학동  &   7\\\\\n\t 서신동    & 126\\\\\n\t 송천1동   &  31\\\\\n\t 송천2동   &  27\\\\\n\t 완산동    &   7\\\\\n\t 우아2동   & 110\\\\\n\t 인후1동   &  78\\\\\n\t 인후2동   &  60\\\\\n\t 인후3동   &  20\\\\\n\t 조촌동    &  23\\\\\n\t 중앙동    &  68\\\\\n\t 중화산2동 & 119\\\\\n\t 진북동    & 125\\\\\n\t 팔복동    &  31\\\\\n\t 평화1동   &  95\\\\\n\t 평화2동   &  46\\\\\n\t 풍남동    &  24\\\\\n\t 효자1동   &  76\\\\\n\t 효자2동   &  65\\\\\n\t 효자3동   &  10\\\\\n\t 효자4동   &  42\\\\\n\t 효자5동   &  73\\\\\n\\end{tabular}\n",
            "text/markdown": "\nA data.frame: 29 × 2\n\n| 행정동 &lt;chr&gt; | 자전거보관대수 &lt;int&gt; |\n|---|---|\n| 금암1동   | 253 |\n| 금암2동   |  20 |\n| 노송동    | 138 |\n| 덕진동    | 237 |\n| 동서학동  |   7 |\n| 삼천2동   |  21 |\n| 삼천3동   |  62 |\n| 서서학동  |   7 |\n| 서신동    | 126 |\n| 송천1동   |  31 |\n| 송천2동   |  27 |\n| 완산동    |   7 |\n| 우아2동   | 110 |\n| 인후1동   |  78 |\n| 인후2동   |  60 |\n| 인후3동   |  20 |\n| 조촌동    |  23 |\n| 중앙동    |  68 |\n| 중화산2동 | 119 |\n| 진북동    | 125 |\n| 팔복동    |  31 |\n| 평화1동   |  95 |\n| 평화2동   |  46 |\n| 풍남동    |  24 |\n| 효자1동   |  76 |\n| 효자2동   |  65 |\n| 효자3동   |  10 |\n| 효자4동   |  42 |\n| 효자5동   |  73 |\n\n",
            "text/html": [
              "<table class=\"dataframe\">\n",
              "<caption>A data.frame: 29 × 2</caption>\n",
              "<thead>\n",
              "\t<tr><th scope=col>행정동</th><th scope=col>자전거보관대수</th></tr>\n",
              "\t<tr><th scope=col>&lt;chr&gt;</th><th scope=col>&lt;int&gt;</th></tr>\n",
              "</thead>\n",
              "<tbody>\n",
              "\t<tr><td>금암1동  </td><td>253</td></tr>\n",
              "\t<tr><td>금암2동  </td><td> 20</td></tr>\n",
              "\t<tr><td>노송동   </td><td>138</td></tr>\n",
              "\t<tr><td>덕진동   </td><td>237</td></tr>\n",
              "\t<tr><td>동서학동 </td><td>  7</td></tr>\n",
              "\t<tr><td>삼천2동  </td><td> 21</td></tr>\n",
              "\t<tr><td>삼천3동  </td><td> 62</td></tr>\n",
              "\t<tr><td>서서학동 </td><td>  7</td></tr>\n",
              "\t<tr><td>서신동   </td><td>126</td></tr>\n",
              "\t<tr><td>송천1동  </td><td> 31</td></tr>\n",
              "\t<tr><td>송천2동  </td><td> 27</td></tr>\n",
              "\t<tr><td>완산동   </td><td>  7</td></tr>\n",
              "\t<tr><td>우아2동  </td><td>110</td></tr>\n",
              "\t<tr><td>인후1동  </td><td> 78</td></tr>\n",
              "\t<tr><td>인후2동  </td><td> 60</td></tr>\n",
              "\t<tr><td>인후3동  </td><td> 20</td></tr>\n",
              "\t<tr><td>조촌동   </td><td> 23</td></tr>\n",
              "\t<tr><td>중앙동   </td><td> 68</td></tr>\n",
              "\t<tr><td>중화산2동</td><td>119</td></tr>\n",
              "\t<tr><td>진북동   </td><td>125</td></tr>\n",
              "\t<tr><td>팔복동   </td><td> 31</td></tr>\n",
              "\t<tr><td>평화1동  </td><td> 95</td></tr>\n",
              "\t<tr><td>평화2동  </td><td> 46</td></tr>\n",
              "\t<tr><td>풍남동   </td><td> 24</td></tr>\n",
              "\t<tr><td>효자1동  </td><td> 76</td></tr>\n",
              "\t<tr><td>효자2동  </td><td> 65</td></tr>\n",
              "\t<tr><td>효자3동  </td><td> 10</td></tr>\n",
              "\t<tr><td>효자4동  </td><td> 42</td></tr>\n",
              "\t<tr><td>효자5동  </td><td> 73</td></tr>\n",
              "</tbody>\n",
              "</table>\n"
            ]
          },
          "metadata": {
            "tags": []
          }
        }
      ]
    },
    {
      "cell_type": "markdown",
      "metadata": {
        "id": "nBA8euk1DLtv"
      },
      "source": [
        "▼ bicycle에서 누락된 행정동이 '삼천1동', '여의동', '우아1동', '중화산1동', '혁신동', '호성동' 이렇게 해서 총 6개!"
      ]
    },
    {
      "cell_type": "code",
      "metadata": {
        "colab": {
          "base_uri": "https://localhost:8080/",
          "height": 139
        },
        "id": "c_bglu6E-uTY",
        "outputId": "e8e33313-90ac-47e5-d2e3-dcdc8cda539c"
      },
      "source": [
        "table(bicycle$행정동 %in% jjdong)\n",
        "table(jjdong %in% bicycle$행정동)\n",
        "\n",
        "\n",
        "jjdong[jjdong %in% bicycle$행정동 == FALSE]"
      ],
      "execution_count": 73,
      "outputs": [
        {
          "output_type": "display_data",
          "data": {
            "text/plain": [
              "\n",
              "TRUE \n",
              "  29 "
            ]
          },
          "metadata": {
            "tags": []
          }
        },
        {
          "output_type": "display_data",
          "data": {
            "text/plain": [
              "\n",
              "FALSE  TRUE \n",
              "    6    29 "
            ]
          },
          "metadata": {
            "tags": []
          }
        },
        {
          "output_type": "display_data",
          "data": {
            "text/plain": [
              "[1] \"삼천1동\"   \"여의동\"    \"우아1동\"   \"중화산1동\" \"혁신동\"    \"호성동\"   "
            ],
            "text/latex": "\\begin{enumerate*}\n\\item '삼천1동'\n\\item '여의동'\n\\item '우아1동'\n\\item '중화산1동'\n\\item '혁신동'\n\\item '호성동'\n\\end{enumerate*}\n",
            "text/markdown": "1. '삼천1동'\n2. '여의동'\n3. '우아1동'\n4. '중화산1동'\n5. '혁신동'\n6. '호성동'\n\n\n",
            "text/html": [
              "<style>\n",
              ".list-inline {list-style: none; margin:0; padding: 0}\n",
              ".list-inline>li {display: inline-block}\n",
              ".list-inline>li:not(:last-child)::after {content: \"\\00b7\"; padding: 0 .5ex}\n",
              "</style>\n",
              "<ol class=list-inline><li>'삼천1동'</li><li>'여의동'</li><li>'우아1동'</li><li>'중화산1동'</li><li>'혁신동'</li><li>'호성동'</li></ol>\n"
            ]
          },
          "metadata": {
            "tags": []
          }
        }
      ]
    },
    {
      "cell_type": "markdown",
      "metadata": {
        "id": "Jhe75DntDcEl"
      },
      "source": [
        "▼ jjdong[jjdong %in% bicycle$행정동 == FALSE] 을 '행정동'으로, 이에 해당하는 NA값을 '자전거보관대수'로 저장하는 데이터프레임 add를 만든다."
      ]
    },
    {
      "cell_type": "code",
      "metadata": {
        "colab": {
          "base_uri": "https://localhost:8080/",
          "height": 271
        },
        "id": "m1kNoXbo-7cG",
        "outputId": "94e84e12-44bd-487b-8d90-6a2ec8cf36ad"
      },
      "source": [
        "add <- data.frame(행정동 = jjdong[jjdong %in% bicycle$행정동 == FALSE], 자전거보관대수 = rep(NA, length(jjdong[jjdong %in% bicycle$행정동 == FALSE])))\n",
        "head(add)"
      ],
      "execution_count": 74,
      "outputs": [
        {
          "output_type": "display_data",
          "data": {
            "text/plain": [
              "  행정동    자전거보관대수\n",
              "1 삼천1동   NA            \n",
              "2 여의동    NA            \n",
              "3 우아1동   NA            \n",
              "4 중화산1동 NA            \n",
              "5 혁신동    NA            \n",
              "6 호성동    NA            "
            ],
            "text/latex": "A data.frame: 6 × 2\n\\begin{tabular}{r|ll}\n  & 행정동 & 자전거보관대수\\\\\n  & <chr> & <lgl>\\\\\n\\hline\n\t1 & 삼천1동   & NA\\\\\n\t2 & 여의동    & NA\\\\\n\t3 & 우아1동   & NA\\\\\n\t4 & 중화산1동 & NA\\\\\n\t5 & 혁신동    & NA\\\\\n\t6 & 호성동    & NA\\\\\n\\end{tabular}\n",
            "text/markdown": "\nA data.frame: 6 × 2\n\n| <!--/--> | 행정동 &lt;chr&gt; | 자전거보관대수 &lt;lgl&gt; |\n|---|---|---|\n| 1 | 삼천1동   | NA |\n| 2 | 여의동    | NA |\n| 3 | 우아1동   | NA |\n| 4 | 중화산1동 | NA |\n| 5 | 혁신동    | NA |\n| 6 | 호성동    | NA |\n\n",
            "text/html": [
              "<table class=\"dataframe\">\n",
              "<caption>A data.frame: 6 × 2</caption>\n",
              "<thead>\n",
              "\t<tr><th></th><th scope=col>행정동</th><th scope=col>자전거보관대수</th></tr>\n",
              "\t<tr><th></th><th scope=col>&lt;chr&gt;</th><th scope=col>&lt;lgl&gt;</th></tr>\n",
              "</thead>\n",
              "<tbody>\n",
              "\t<tr><th scope=row>1</th><td>삼천1동  </td><td>NA</td></tr>\n",
              "\t<tr><th scope=row>2</th><td>여의동   </td><td>NA</td></tr>\n",
              "\t<tr><th scope=row>3</th><td>우아1동  </td><td>NA</td></tr>\n",
              "\t<tr><th scope=row>4</th><td>중화산1동</td><td>NA</td></tr>\n",
              "\t<tr><th scope=row>5</th><td>혁신동   </td><td>NA</td></tr>\n",
              "\t<tr><th scope=row>6</th><td>호성동   </td><td>NA</td></tr>\n",
              "</tbody>\n",
              "</table>\n"
            ]
          },
          "metadata": {
            "tags": []
          }
        }
      ]
    },
    {
      "cell_type": "markdown",
      "metadata": {
        "id": "yzJRdqKeDqrx"
      },
      "source": [
        "1 bicycle과 add를 행을 기준으로 합쳐서 다시 bicycle에 저장\n",
        "\n",
        "2 행정동을 기준으로 오름차순 정렬\n",
        "\n",
        "▼"
      ]
    },
    {
      "cell_type": "code",
      "metadata": {
        "colab": {
          "base_uri": "https://localhost:8080/",
          "height": 1000
        },
        "id": "eFHe37hg--73",
        "outputId": "d10d5a71-1393-4df3-fd64-0bd86c715bfb"
      },
      "source": [
        "bicycle <- rbind(bicycle, add)\n",
        "bicycle <- arrange(bicycle, bicycle$행정동)\n",
        "bicycle"
      ],
      "execution_count": 75,
      "outputs": [
        {
          "output_type": "display_data",
          "data": {
            "text/plain": [
              "   행정동    자전거보관대수\n",
              "1  금암1동   253           \n",
              "2  금암2동    20           \n",
              "3  노송동    138           \n",
              "4  덕진동    237           \n",
              "5  동서학동    7           \n",
              "6  삼천1동    NA           \n",
              "7  삼천2동    21           \n",
              "8  삼천3동    62           \n",
              "9  서서학동    7           \n",
              "10 서신동    126           \n",
              "11 송천1동    31           \n",
              "12 송천2동    27           \n",
              "13 여의동     NA           \n",
              "14 완산동      7           \n",
              "15 우아1동    NA           \n",
              "16 우아2동   110           \n",
              "17 인후1동    78           \n",
              "18 인후2동    60           \n",
              "19 인후3동    20           \n",
              "20 조촌동     23           \n",
              "21 중앙동     68           \n",
              "22 중화산1동  NA           \n",
              "23 중화산2동 119           \n",
              "24 진북동    125           \n",
              "25 팔복동     31           \n",
              "26 평화1동    95           \n",
              "27 평화2동    46           \n",
              "28 풍남동     24           \n",
              "29 혁신동     NA           \n",
              "30 호성동     NA           \n",
              "31 효자1동    76           \n",
              "32 효자2동    65           \n",
              "33 효자3동    10           \n",
              "34 효자4동    42           \n",
              "35 효자5동    73           "
            ],
            "text/latex": "A data.frame: 35 × 2\n\\begin{tabular}{ll}\n 행정동 & 자전거보관대수\\\\\n <chr> & <int>\\\\\n\\hline\n\t 금암1동   & 253\\\\\n\t 금암2동   &  20\\\\\n\t 노송동    & 138\\\\\n\t 덕진동    & 237\\\\\n\t 동서학동  &   7\\\\\n\t 삼천1동   &  NA\\\\\n\t 삼천2동   &  21\\\\\n\t 삼천3동   &  62\\\\\n\t 서서학동  &   7\\\\\n\t 서신동    & 126\\\\\n\t 송천1동   &  31\\\\\n\t 송천2동   &  27\\\\\n\t 여의동    &  NA\\\\\n\t 완산동    &   7\\\\\n\t 우아1동   &  NA\\\\\n\t 우아2동   & 110\\\\\n\t 인후1동   &  78\\\\\n\t 인후2동   &  60\\\\\n\t 인후3동   &  20\\\\\n\t 조촌동    &  23\\\\\n\t 중앙동    &  68\\\\\n\t 중화산1동 &  NA\\\\\n\t 중화산2동 & 119\\\\\n\t 진북동    & 125\\\\\n\t 팔복동    &  31\\\\\n\t 평화1동   &  95\\\\\n\t 평화2동   &  46\\\\\n\t 풍남동    &  24\\\\\n\t 혁신동    &  NA\\\\\n\t 호성동    &  NA\\\\\n\t 효자1동   &  76\\\\\n\t 효자2동   &  65\\\\\n\t 효자3동   &  10\\\\\n\t 효자4동   &  42\\\\\n\t 효자5동   &  73\\\\\n\\end{tabular}\n",
            "text/markdown": "\nA data.frame: 35 × 2\n\n| 행정동 &lt;chr&gt; | 자전거보관대수 &lt;int&gt; |\n|---|---|\n| 금암1동   | 253 |\n| 금암2동   |  20 |\n| 노송동    | 138 |\n| 덕진동    | 237 |\n| 동서학동  |   7 |\n| 삼천1동   |  NA |\n| 삼천2동   |  21 |\n| 삼천3동   |  62 |\n| 서서학동  |   7 |\n| 서신동    | 126 |\n| 송천1동   |  31 |\n| 송천2동   |  27 |\n| 여의동    |  NA |\n| 완산동    |   7 |\n| 우아1동   |  NA |\n| 우아2동   | 110 |\n| 인후1동   |  78 |\n| 인후2동   |  60 |\n| 인후3동   |  20 |\n| 조촌동    |  23 |\n| 중앙동    |  68 |\n| 중화산1동 |  NA |\n| 중화산2동 | 119 |\n| 진북동    | 125 |\n| 팔복동    |  31 |\n| 평화1동   |  95 |\n| 평화2동   |  46 |\n| 풍남동    |  24 |\n| 혁신동    |  NA |\n| 호성동    |  NA |\n| 효자1동   |  76 |\n| 효자2동   |  65 |\n| 효자3동   |  10 |\n| 효자4동   |  42 |\n| 효자5동   |  73 |\n\n",
            "text/html": [
              "<table class=\"dataframe\">\n",
              "<caption>A data.frame: 35 × 2</caption>\n",
              "<thead>\n",
              "\t<tr><th scope=col>행정동</th><th scope=col>자전거보관대수</th></tr>\n",
              "\t<tr><th scope=col>&lt;chr&gt;</th><th scope=col>&lt;int&gt;</th></tr>\n",
              "</thead>\n",
              "<tbody>\n",
              "\t<tr><td>금암1동  </td><td>253</td></tr>\n",
              "\t<tr><td>금암2동  </td><td> 20</td></tr>\n",
              "\t<tr><td>노송동   </td><td>138</td></tr>\n",
              "\t<tr><td>덕진동   </td><td>237</td></tr>\n",
              "\t<tr><td>동서학동 </td><td>  7</td></tr>\n",
              "\t<tr><td>삼천1동  </td><td> NA</td></tr>\n",
              "\t<tr><td>삼천2동  </td><td> 21</td></tr>\n",
              "\t<tr><td>삼천3동  </td><td> 62</td></tr>\n",
              "\t<tr><td>서서학동 </td><td>  7</td></tr>\n",
              "\t<tr><td>서신동   </td><td>126</td></tr>\n",
              "\t<tr><td>송천1동  </td><td> 31</td></tr>\n",
              "\t<tr><td>송천2동  </td><td> 27</td></tr>\n",
              "\t<tr><td>여의동   </td><td> NA</td></tr>\n",
              "\t<tr><td>완산동   </td><td>  7</td></tr>\n",
              "\t<tr><td>우아1동  </td><td> NA</td></tr>\n",
              "\t<tr><td>우아2동  </td><td>110</td></tr>\n",
              "\t<tr><td>인후1동  </td><td> 78</td></tr>\n",
              "\t<tr><td>인후2동  </td><td> 60</td></tr>\n",
              "\t<tr><td>인후3동  </td><td> 20</td></tr>\n",
              "\t<tr><td>조촌동   </td><td> 23</td></tr>\n",
              "\t<tr><td>중앙동   </td><td> 68</td></tr>\n",
              "\t<tr><td>중화산1동</td><td> NA</td></tr>\n",
              "\t<tr><td>중화산2동</td><td>119</td></tr>\n",
              "\t<tr><td>진북동   </td><td>125</td></tr>\n",
              "\t<tr><td>팔복동   </td><td> 31</td></tr>\n",
              "\t<tr><td>평화1동  </td><td> 95</td></tr>\n",
              "\t<tr><td>평화2동  </td><td> 46</td></tr>\n",
              "\t<tr><td>풍남동   </td><td> 24</td></tr>\n",
              "\t<tr><td>혁신동   </td><td> NA</td></tr>\n",
              "\t<tr><td>호성동   </td><td> NA</td></tr>\n",
              "\t<tr><td>효자1동  </td><td> 76</td></tr>\n",
              "\t<tr><td>효자2동  </td><td> 65</td></tr>\n",
              "\t<tr><td>효자3동  </td><td> 10</td></tr>\n",
              "\t<tr><td>효자4동  </td><td> 42</td></tr>\n",
              "\t<tr><td>효자5동  </td><td> 73</td></tr>\n",
              "</tbody>\n",
              "</table>\n"
            ]
          },
          "metadata": {
            "tags": []
          }
        }
      ]
    },
    {
      "cell_type": "markdown",
      "metadata": {
        "id": "PY76dnQXD7fJ"
      },
      "source": [
        "## 대규모점포 수"
      ]
    },
    {
      "cell_type": "code",
      "metadata": {
        "colab": {
          "base_uri": "https://localhost:8080/",
          "height": 377
        },
        "id": "pNLuyeE4_CCN",
        "outputId": "b972f437-129e-4343-ce7c-00ff453de537"
      },
      "source": [
        "str(bigstore)\n",
        "head(bigstore)"
      ],
      "execution_count": 76,
      "outputs": [
        {
          "output_type": "stream",
          "text": [
            "'data.frame':\t43 obs. of  5 variables:\n",
            " $ 분류   : chr  \"대규모점포\" \"대규모점포\" \"대규모점포\" \"대규모점포\" ...\n",
            " $ store  : chr  \"롯데백화점 전주점\" \"E-마트\" \"홈플러스 완산점\" \"홈플러스 전주점\" ...\n",
            " $ address: chr  \"전주시 완산구 온고을로 2\" \"전주시 완산구 당산로 111\" \"전주시 완산구 기린대로 170\" \"전주시 덕진구 백제대로 771\" ...\n",
            " $ 행정동 : chr  \"서신동\" \"서신동\" \"노송동\" \"우아1동\" ...\n",
            " $ 면적   : int  28179 6571 13121 8471 22657 10430 10387 6115 7721 21317 ...\n"
          ],
          "name": "stdout"
        },
        {
          "output_type": "display_data",
          "data": {
            "text/plain": [
              "  분류       store             address                    행정동  면적 \n",
              "1 대규모점포 롯데백화점 전주점 전주시 완산구 온고을로 2   서신동  28179\n",
              "2 대규모점포 E-마트            전주시 완산구 당산로 111   서신동   6571\n",
              "3 대규모점포 홈플러스 완산점   전주시 완산구 기린대로 170 노송동  13121\n",
              "4 대규모점포 홈플러스 전주점   전주시 덕진구 백제대로 771 우아1동  8471\n",
              "5 대규모점포 홈플러스 효자점   전주시 완산구 용머리로 31  효자3동 22657\n",
              "6 대규모점포 롯데마트 전주점   전주시 완산구 우전로 240   효자4동 10430"
            ],
            "text/latex": "A data.frame: 6 × 5\n\\begin{tabular}{r|lllll}\n  & 분류 & store & address & 행정동 & 면적\\\\\n  & <chr> & <chr> & <chr> & <chr> & <int>\\\\\n\\hline\n\t1 & 대규모점포 & 롯데백화점 전주점 & 전주시 완산구 온고을로 2   & 서신동  & 28179\\\\\n\t2 & 대규모점포 & E-마트            & 전주시 완산구 당산로 111   & 서신동  &  6571\\\\\n\t3 & 대규모점포 & 홈플러스 완산점   & 전주시 완산구 기린대로 170 & 노송동  & 13121\\\\\n\t4 & 대규모점포 & 홈플러스 전주점   & 전주시 덕진구 백제대로 771 & 우아1동 &  8471\\\\\n\t5 & 대규모점포 & 홈플러스 효자점   & 전주시 완산구 용머리로 31  & 효자3동 & 22657\\\\\n\t6 & 대규모점포 & 롯데마트 전주점   & 전주시 완산구 우전로 240   & 효자4동 & 10430\\\\\n\\end{tabular}\n",
            "text/markdown": "\nA data.frame: 6 × 5\n\n| <!--/--> | 분류 &lt;chr&gt; | store &lt;chr&gt; | address &lt;chr&gt; | 행정동 &lt;chr&gt; | 면적 &lt;int&gt; |\n|---|---|---|---|---|---|\n| 1 | 대규모점포 | 롯데백화점 전주점 | 전주시 완산구 온고을로 2   | 서신동  | 28179 |\n| 2 | 대규모점포 | E-마트            | 전주시 완산구 당산로 111   | 서신동  |  6571 |\n| 3 | 대규모점포 | 홈플러스 완산점   | 전주시 완산구 기린대로 170 | 노송동  | 13121 |\n| 4 | 대규모점포 | 홈플러스 전주점   | 전주시 덕진구 백제대로 771 | 우아1동 |  8471 |\n| 5 | 대규모점포 | 홈플러스 효자점   | 전주시 완산구 용머리로 31  | 효자3동 | 22657 |\n| 6 | 대규모점포 | 롯데마트 전주점   | 전주시 완산구 우전로 240   | 효자4동 | 10430 |\n\n",
            "text/html": [
              "<table class=\"dataframe\">\n",
              "<caption>A data.frame: 6 × 5</caption>\n",
              "<thead>\n",
              "\t<tr><th></th><th scope=col>분류</th><th scope=col>store</th><th scope=col>address</th><th scope=col>행정동</th><th scope=col>면적</th></tr>\n",
              "\t<tr><th></th><th scope=col>&lt;chr&gt;</th><th scope=col>&lt;chr&gt;</th><th scope=col>&lt;chr&gt;</th><th scope=col>&lt;chr&gt;</th><th scope=col>&lt;int&gt;</th></tr>\n",
              "</thead>\n",
              "<tbody>\n",
              "\t<tr><th scope=row>1</th><td>대규모점포</td><td>롯데백화점 전주점</td><td>전주시 완산구 온고을로 2  </td><td>서신동 </td><td>28179</td></tr>\n",
              "\t<tr><th scope=row>2</th><td>대규모점포</td><td>E-마트           </td><td>전주시 완산구 당산로 111  </td><td>서신동 </td><td> 6571</td></tr>\n",
              "\t<tr><th scope=row>3</th><td>대규모점포</td><td>홈플러스 완산점  </td><td>전주시 완산구 기린대로 170</td><td>노송동 </td><td>13121</td></tr>\n",
              "\t<tr><th scope=row>4</th><td>대규모점포</td><td>홈플러스 전주점  </td><td>전주시 덕진구 백제대로 771</td><td>우아1동</td><td> 8471</td></tr>\n",
              "\t<tr><th scope=row>5</th><td>대규모점포</td><td>홈플러스 효자점  </td><td>전주시 완산구 용머리로 31 </td><td>효자3동</td><td>22657</td></tr>\n",
              "\t<tr><th scope=row>6</th><td>대규모점포</td><td>롯데마트 전주점  </td><td>전주시 완산구 우전로 240  </td><td>효자4동</td><td>10430</td></tr>\n",
              "</tbody>\n",
              "</table>\n"
            ]
          },
          "metadata": {
            "tags": []
          }
        }
      ]
    },
    {
      "cell_type": "code",
      "metadata": {
        "colab": {
          "base_uri": "https://localhost:8080/",
          "height": 271
        },
        "id": "U-78S9gu_F65",
        "outputId": "cf1c3813-be5a-4226-bcf8-de25f73fd369"
      },
      "source": [
        "bigstore <- bigstore[,c(2,4,5)]\n",
        "bigstore$count <- rep(1,nrow(bigstore))\n",
        "head(bigstore)"
      ],
      "execution_count": 77,
      "outputs": [
        {
          "output_type": "display_data",
          "data": {
            "text/plain": [
              "  store             행정동  면적  count\n",
              "1 롯데백화점 전주점 서신동  28179 1    \n",
              "2 E-마트            서신동   6571 1    \n",
              "3 홈플러스 완산점   노송동  13121 1    \n",
              "4 홈플러스 전주점   우아1동  8471 1    \n",
              "5 홈플러스 효자점   효자3동 22657 1    \n",
              "6 롯데마트 전주점   효자4동 10430 1    "
            ],
            "text/latex": "A data.frame: 6 × 4\n\\begin{tabular}{r|llll}\n  & store & 행정동 & 면적 & count\\\\\n  & <chr> & <chr> & <int> & <dbl>\\\\\n\\hline\n\t1 & 롯데백화점 전주점 & 서신동  & 28179 & 1\\\\\n\t2 & E-마트            & 서신동  &  6571 & 1\\\\\n\t3 & 홈플러스 완산점   & 노송동  & 13121 & 1\\\\\n\t4 & 홈플러스 전주점   & 우아1동 &  8471 & 1\\\\\n\t5 & 홈플러스 효자점   & 효자3동 & 22657 & 1\\\\\n\t6 & 롯데마트 전주점   & 효자4동 & 10430 & 1\\\\\n\\end{tabular}\n",
            "text/markdown": "\nA data.frame: 6 × 4\n\n| <!--/--> | store &lt;chr&gt; | 행정동 &lt;chr&gt; | 면적 &lt;int&gt; | count &lt;dbl&gt; |\n|---|---|---|---|---|\n| 1 | 롯데백화점 전주점 | 서신동  | 28179 | 1 |\n| 2 | E-마트            | 서신동  |  6571 | 1 |\n| 3 | 홈플러스 완산점   | 노송동  | 13121 | 1 |\n| 4 | 홈플러스 전주점   | 우아1동 |  8471 | 1 |\n| 5 | 홈플러스 효자점   | 효자3동 | 22657 | 1 |\n| 6 | 롯데마트 전주점   | 효자4동 | 10430 | 1 |\n\n",
            "text/html": [
              "<table class=\"dataframe\">\n",
              "<caption>A data.frame: 6 × 4</caption>\n",
              "<thead>\n",
              "\t<tr><th></th><th scope=col>store</th><th scope=col>행정동</th><th scope=col>면적</th><th scope=col>count</th></tr>\n",
              "\t<tr><th></th><th scope=col>&lt;chr&gt;</th><th scope=col>&lt;chr&gt;</th><th scope=col>&lt;int&gt;</th><th scope=col>&lt;dbl&gt;</th></tr>\n",
              "</thead>\n",
              "<tbody>\n",
              "\t<tr><th scope=row>1</th><td>롯데백화점 전주점</td><td>서신동 </td><td>28179</td><td>1</td></tr>\n",
              "\t<tr><th scope=row>2</th><td>E-마트           </td><td>서신동 </td><td> 6571</td><td>1</td></tr>\n",
              "\t<tr><th scope=row>3</th><td>홈플러스 완산점  </td><td>노송동 </td><td>13121</td><td>1</td></tr>\n",
              "\t<tr><th scope=row>4</th><td>홈플러스 전주점  </td><td>우아1동</td><td> 8471</td><td>1</td></tr>\n",
              "\t<tr><th scope=row>5</th><td>홈플러스 효자점  </td><td>효자3동</td><td>22657</td><td>1</td></tr>\n",
              "\t<tr><th scope=row>6</th><td>롯데마트 전주점  </td><td>효자4동</td><td>10430</td><td>1</td></tr>\n",
              "</tbody>\n",
              "</table>\n"
            ]
          },
          "metadata": {
            "tags": []
          }
        }
      ]
    },
    {
      "cell_type": "code",
      "metadata": {
        "colab": {
          "base_uri": "https://localhost:8080/",
          "height": 656
        },
        "id": "-EMLTcPh_KyP",
        "outputId": "795d6e49-642a-4fe1-d304-fda38960d80b"
      },
      "source": [
        "bigstore <- bigstore %>% group_by(행정동) %>% summarise(대규모점포수 = sum(count))\n",
        "bigstore <- as.data.frame(bigstore)\n",
        "bigstore <- arrange(bigstore, bigstore$행정동)\n",
        "bigstore"
      ],
      "execution_count": 78,
      "outputs": [
        {
          "output_type": "display_data",
          "data": {
            "text/plain": [
              "   행정동    대규모점포수\n",
              "1  금암1동   1           \n",
              "2  노송동    2           \n",
              "3  덕진동    1           \n",
              "4  삼천3동   2           \n",
              "5  서신동    4           \n",
              "6  송천1동   3           \n",
              "7  여의동    3           \n",
              "8  우아1동   1           \n",
              "9  인후1동   1           \n",
              "10 인후2동   1           \n",
              "11 인후3동   1           \n",
              "12 중앙동    4           \n",
              "13 중화산1동 1           \n",
              "14 평화2동   3           \n",
              "15 풍남동    2           \n",
              "16 호성동    1           \n",
              "17 효자1동   2           \n",
              "18 효자3동   2           \n",
              "19 효자4동   8           "
            ],
            "text/latex": "A data.frame: 19 × 2\n\\begin{tabular}{ll}\n 행정동 & 대규모점포수\\\\\n <chr> & <dbl>\\\\\n\\hline\n\t 금암1동   & 1\\\\\n\t 노송동    & 2\\\\\n\t 덕진동    & 1\\\\\n\t 삼천3동   & 2\\\\\n\t 서신동    & 4\\\\\n\t 송천1동   & 3\\\\\n\t 여의동    & 3\\\\\n\t 우아1동   & 1\\\\\n\t 인후1동   & 1\\\\\n\t 인후2동   & 1\\\\\n\t 인후3동   & 1\\\\\n\t 중앙동    & 4\\\\\n\t 중화산1동 & 1\\\\\n\t 평화2동   & 3\\\\\n\t 풍남동    & 2\\\\\n\t 호성동    & 1\\\\\n\t 효자1동   & 2\\\\\n\t 효자3동   & 2\\\\\n\t 효자4동   & 8\\\\\n\\end{tabular}\n",
            "text/markdown": "\nA data.frame: 19 × 2\n\n| 행정동 &lt;chr&gt; | 대규모점포수 &lt;dbl&gt; |\n|---|---|\n| 금암1동   | 1 |\n| 노송동    | 2 |\n| 덕진동    | 1 |\n| 삼천3동   | 2 |\n| 서신동    | 4 |\n| 송천1동   | 3 |\n| 여의동    | 3 |\n| 우아1동   | 1 |\n| 인후1동   | 1 |\n| 인후2동   | 1 |\n| 인후3동   | 1 |\n| 중앙동    | 4 |\n| 중화산1동 | 1 |\n| 평화2동   | 3 |\n| 풍남동    | 2 |\n| 호성동    | 1 |\n| 효자1동   | 2 |\n| 효자3동   | 2 |\n| 효자4동   | 8 |\n\n",
            "text/html": [
              "<table class=\"dataframe\">\n",
              "<caption>A data.frame: 19 × 2</caption>\n",
              "<thead>\n",
              "\t<tr><th scope=col>행정동</th><th scope=col>대규모점포수</th></tr>\n",
              "\t<tr><th scope=col>&lt;chr&gt;</th><th scope=col>&lt;dbl&gt;</th></tr>\n",
              "</thead>\n",
              "<tbody>\n",
              "\t<tr><td>금암1동  </td><td>1</td></tr>\n",
              "\t<tr><td>노송동   </td><td>2</td></tr>\n",
              "\t<tr><td>덕진동   </td><td>1</td></tr>\n",
              "\t<tr><td>삼천3동  </td><td>2</td></tr>\n",
              "\t<tr><td>서신동   </td><td>4</td></tr>\n",
              "\t<tr><td>송천1동  </td><td>3</td></tr>\n",
              "\t<tr><td>여의동   </td><td>3</td></tr>\n",
              "\t<tr><td>우아1동  </td><td>1</td></tr>\n",
              "\t<tr><td>인후1동  </td><td>1</td></tr>\n",
              "\t<tr><td>인후2동  </td><td>1</td></tr>\n",
              "\t<tr><td>인후3동  </td><td>1</td></tr>\n",
              "\t<tr><td>중앙동   </td><td>4</td></tr>\n",
              "\t<tr><td>중화산1동</td><td>1</td></tr>\n",
              "\t<tr><td>평화2동  </td><td>3</td></tr>\n",
              "\t<tr><td>풍남동   </td><td>2</td></tr>\n",
              "\t<tr><td>호성동   </td><td>1</td></tr>\n",
              "\t<tr><td>효자1동  </td><td>2</td></tr>\n",
              "\t<tr><td>효자3동  </td><td>2</td></tr>\n",
              "\t<tr><td>효자4동  </td><td>8</td></tr>\n",
              "</tbody>\n",
              "</table>\n"
            ]
          },
          "metadata": {
            "tags": []
          }
        }
      ]
    },
    {
      "cell_type": "code",
      "metadata": {
        "colab": {
          "base_uri": "https://localhost:8080/",
          "height": 139
        },
        "id": "5rxUoEBS_Ofj",
        "outputId": "4e3c254a-03df-4f69-bb1c-582f7cf0f7bf"
      },
      "source": [
        "table(bigstore$행정동 %in% jjdong)\n",
        "table(jjdong %in% bigstore$행정동)\n",
        "\n",
        "\n",
        "jjdong[jjdong %in% bigstore$행정동 == FALSE]"
      ],
      "execution_count": 79,
      "outputs": [
        {
          "output_type": "display_data",
          "data": {
            "text/plain": [
              "\n",
              "TRUE \n",
              "  19 "
            ]
          },
          "metadata": {
            "tags": []
          }
        },
        {
          "output_type": "display_data",
          "data": {
            "text/plain": [
              "\n",
              "FALSE  TRUE \n",
              "   16    19 "
            ]
          },
          "metadata": {
            "tags": []
          }
        },
        {
          "output_type": "display_data",
          "data": {
            "text/plain": [
              " [1] \"금암2동\"   \"동서학동\"  \"삼천1동\"   \"삼천2동\"   \"서서학동\"  \"송천2동\"  \n",
              " [7] \"완산동\"    \"우아2동\"   \"조촌동\"    \"중화산2동\" \"진북동\"    \"팔복동\"   \n",
              "[13] \"평화1동\"   \"혁신동\"    \"효자2동\"   \"효자5동\"  "
            ],
            "text/latex": "\\begin{enumerate*}\n\\item '금암2동'\n\\item '동서학동'\n\\item '삼천1동'\n\\item '삼천2동'\n\\item '서서학동'\n\\item '송천2동'\n\\item '완산동'\n\\item '우아2동'\n\\item '조촌동'\n\\item '중화산2동'\n\\item '진북동'\n\\item '팔복동'\n\\item '평화1동'\n\\item '혁신동'\n\\item '효자2동'\n\\item '효자5동'\n\\end{enumerate*}\n",
            "text/markdown": "1. '금암2동'\n2. '동서학동'\n3. '삼천1동'\n4. '삼천2동'\n5. '서서학동'\n6. '송천2동'\n7. '완산동'\n8. '우아2동'\n9. '조촌동'\n10. '중화산2동'\n11. '진북동'\n12. '팔복동'\n13. '평화1동'\n14. '혁신동'\n15. '효자2동'\n16. '효자5동'\n\n\n",
            "text/html": [
              "<style>\n",
              ".list-inline {list-style: none; margin:0; padding: 0}\n",
              ".list-inline>li {display: inline-block}\n",
              ".list-inline>li:not(:last-child)::after {content: \"\\00b7\"; padding: 0 .5ex}\n",
              "</style>\n",
              "<ol class=list-inline><li>'금암2동'</li><li>'동서학동'</li><li>'삼천1동'</li><li>'삼천2동'</li><li>'서서학동'</li><li>'송천2동'</li><li>'완산동'</li><li>'우아2동'</li><li>'조촌동'</li><li>'중화산2동'</li><li>'진북동'</li><li>'팔복동'</li><li>'평화1동'</li><li>'혁신동'</li><li>'효자2동'</li><li>'효자5동'</li></ol>\n"
            ]
          },
          "metadata": {
            "tags": []
          }
        }
      ]
    },
    {
      "cell_type": "code",
      "metadata": {
        "colab": {
          "base_uri": "https://localhost:8080/",
          "height": 1000
        },
        "id": "qwX1gyfk_RwO",
        "outputId": "ca51080f-9637-40ec-bb84-30a837ad4f5d"
      },
      "source": [
        "add <- data.frame(행정동 = jjdong[jjdong %in% bigstore$행정동 == FALSE], 대규모점포수 = rep(0, length(jjdong[jjdong %in% bigstore$행정동 == FALSE])))\n",
        "bigstore <- rbind(bigstore, add)\n",
        "bigstore <- arrange(bigstore, bigstore$행정동)\n",
        "bigstore"
      ],
      "execution_count": 80,
      "outputs": [
        {
          "output_type": "display_data",
          "data": {
            "text/plain": [
              "   행정동    대규모점포수\n",
              "1  금암1동   1           \n",
              "2  금암2동   0           \n",
              "3  노송동    2           \n",
              "4  덕진동    1           \n",
              "5  동서학동  0           \n",
              "6  삼천1동   0           \n",
              "7  삼천2동   0           \n",
              "8  삼천3동   2           \n",
              "9  서서학동  0           \n",
              "10 서신동    4           \n",
              "11 송천1동   3           \n",
              "12 송천2동   0           \n",
              "13 여의동    3           \n",
              "14 완산동    0           \n",
              "15 우아1동   1           \n",
              "16 우아2동   0           \n",
              "17 인후1동   1           \n",
              "18 인후2동   1           \n",
              "19 인후3동   1           \n",
              "20 조촌동    0           \n",
              "21 중앙동    4           \n",
              "22 중화산1동 1           \n",
              "23 중화산2동 0           \n",
              "24 진북동    0           \n",
              "25 팔복동    0           \n",
              "26 평화1동   0           \n",
              "27 평화2동   3           \n",
              "28 풍남동    2           \n",
              "29 혁신동    0           \n",
              "30 호성동    1           \n",
              "31 효자1동   2           \n",
              "32 효자2동   0           \n",
              "33 효자3동   2           \n",
              "34 효자4동   8           \n",
              "35 효자5동   0           "
            ],
            "text/latex": "A data.frame: 35 × 2\n\\begin{tabular}{ll}\n 행정동 & 대규모점포수\\\\\n <chr> & <dbl>\\\\\n\\hline\n\t 금암1동   & 1\\\\\n\t 금암2동   & 0\\\\\n\t 노송동    & 2\\\\\n\t 덕진동    & 1\\\\\n\t 동서학동  & 0\\\\\n\t 삼천1동   & 0\\\\\n\t 삼천2동   & 0\\\\\n\t 삼천3동   & 2\\\\\n\t 서서학동  & 0\\\\\n\t 서신동    & 4\\\\\n\t 송천1동   & 3\\\\\n\t 송천2동   & 0\\\\\n\t 여의동    & 3\\\\\n\t 완산동    & 0\\\\\n\t 우아1동   & 1\\\\\n\t 우아2동   & 0\\\\\n\t 인후1동   & 1\\\\\n\t 인후2동   & 1\\\\\n\t 인후3동   & 1\\\\\n\t 조촌동    & 0\\\\\n\t 중앙동    & 4\\\\\n\t 중화산1동 & 1\\\\\n\t 중화산2동 & 0\\\\\n\t 진북동    & 0\\\\\n\t 팔복동    & 0\\\\\n\t 평화1동   & 0\\\\\n\t 평화2동   & 3\\\\\n\t 풍남동    & 2\\\\\n\t 혁신동    & 0\\\\\n\t 호성동    & 1\\\\\n\t 효자1동   & 2\\\\\n\t 효자2동   & 0\\\\\n\t 효자3동   & 2\\\\\n\t 효자4동   & 8\\\\\n\t 효자5동   & 0\\\\\n\\end{tabular}\n",
            "text/markdown": "\nA data.frame: 35 × 2\n\n| 행정동 &lt;chr&gt; | 대규모점포수 &lt;dbl&gt; |\n|---|---|\n| 금암1동   | 1 |\n| 금암2동   | 0 |\n| 노송동    | 2 |\n| 덕진동    | 1 |\n| 동서학동  | 0 |\n| 삼천1동   | 0 |\n| 삼천2동   | 0 |\n| 삼천3동   | 2 |\n| 서서학동  | 0 |\n| 서신동    | 4 |\n| 송천1동   | 3 |\n| 송천2동   | 0 |\n| 여의동    | 3 |\n| 완산동    | 0 |\n| 우아1동   | 1 |\n| 우아2동   | 0 |\n| 인후1동   | 1 |\n| 인후2동   | 1 |\n| 인후3동   | 1 |\n| 조촌동    | 0 |\n| 중앙동    | 4 |\n| 중화산1동 | 1 |\n| 중화산2동 | 0 |\n| 진북동    | 0 |\n| 팔복동    | 0 |\n| 평화1동   | 0 |\n| 평화2동   | 3 |\n| 풍남동    | 2 |\n| 혁신동    | 0 |\n| 호성동    | 1 |\n| 효자1동   | 2 |\n| 효자2동   | 0 |\n| 효자3동   | 2 |\n| 효자4동   | 8 |\n| 효자5동   | 0 |\n\n",
            "text/html": [
              "<table class=\"dataframe\">\n",
              "<caption>A data.frame: 35 × 2</caption>\n",
              "<thead>\n",
              "\t<tr><th scope=col>행정동</th><th scope=col>대규모점포수</th></tr>\n",
              "\t<tr><th scope=col>&lt;chr&gt;</th><th scope=col>&lt;dbl&gt;</th></tr>\n",
              "</thead>\n",
              "<tbody>\n",
              "\t<tr><td>금암1동  </td><td>1</td></tr>\n",
              "\t<tr><td>금암2동  </td><td>0</td></tr>\n",
              "\t<tr><td>노송동   </td><td>2</td></tr>\n",
              "\t<tr><td>덕진동   </td><td>1</td></tr>\n",
              "\t<tr><td>동서학동 </td><td>0</td></tr>\n",
              "\t<tr><td>삼천1동  </td><td>0</td></tr>\n",
              "\t<tr><td>삼천2동  </td><td>0</td></tr>\n",
              "\t<tr><td>삼천3동  </td><td>2</td></tr>\n",
              "\t<tr><td>서서학동 </td><td>0</td></tr>\n",
              "\t<tr><td>서신동   </td><td>4</td></tr>\n",
              "\t<tr><td>송천1동  </td><td>3</td></tr>\n",
              "\t<tr><td>송천2동  </td><td>0</td></tr>\n",
              "\t<tr><td>여의동   </td><td>3</td></tr>\n",
              "\t<tr><td>완산동   </td><td>0</td></tr>\n",
              "\t<tr><td>우아1동  </td><td>1</td></tr>\n",
              "\t<tr><td>우아2동  </td><td>0</td></tr>\n",
              "\t<tr><td>인후1동  </td><td>1</td></tr>\n",
              "\t<tr><td>인후2동  </td><td>1</td></tr>\n",
              "\t<tr><td>인후3동  </td><td>1</td></tr>\n",
              "\t<tr><td>조촌동   </td><td>0</td></tr>\n",
              "\t<tr><td>중앙동   </td><td>4</td></tr>\n",
              "\t<tr><td>중화산1동</td><td>1</td></tr>\n",
              "\t<tr><td>중화산2동</td><td>0</td></tr>\n",
              "\t<tr><td>진북동   </td><td>0</td></tr>\n",
              "\t<tr><td>팔복동   </td><td>0</td></tr>\n",
              "\t<tr><td>평화1동  </td><td>0</td></tr>\n",
              "\t<tr><td>평화2동  </td><td>3</td></tr>\n",
              "\t<tr><td>풍남동   </td><td>2</td></tr>\n",
              "\t<tr><td>혁신동   </td><td>0</td></tr>\n",
              "\t<tr><td>호성동   </td><td>1</td></tr>\n",
              "\t<tr><td>효자1동  </td><td>2</td></tr>\n",
              "\t<tr><td>효자2동  </td><td>0</td></tr>\n",
              "\t<tr><td>효자3동  </td><td>2</td></tr>\n",
              "\t<tr><td>효자4동  </td><td>8</td></tr>\n",
              "\t<tr><td>효자5동  </td><td>0</td></tr>\n",
              "</tbody>\n",
              "</table>\n"
            ]
          },
          "metadata": {
            "tags": []
          }
        }
      ]
    },
    {
      "cell_type": "markdown",
      "metadata": {
        "id": "xeTlygNnD_uo"
      },
      "source": [
        "## 편의점 수"
      ]
    },
    {
      "cell_type": "code",
      "metadata": {
        "colab": {
          "base_uri": "https://localhost:8080/",
          "height": 377
        },
        "id": "LBBggsQY_UpD",
        "outputId": "f13ed3e6-83e8-4571-8892-2c9f3c234539"
      },
      "source": [
        "str(cvstore)\n",
        "head(cvstore)"
      ],
      "execution_count": 81,
      "outputs": [
        {
          "output_type": "stream",
          "text": [
            "'data.frame':\t31 obs. of  5 variables:\n",
            " $ 구         : chr  \"완산구\" \"완산구\" \"완산구\" \"완산구\" ...\n",
            " $ 동         : chr  \"효자5동\" \"효자4동\" \"서신동\" \"평화2동\" ...\n",
            " $ 순위.구.내.: int  1 2 3 4 5 6 7 8 9 10 ...\n",
            " $ 편의점수   : int  60 36 31 21 20 19 17 16 13 9 ...\n",
            " $ 비율...    : num  21.7 13 11.2 7.6 7.2 6.9 6.2 5.8 4.7 3.3 ...\n"
          ],
          "name": "stdout"
        },
        {
          "output_type": "display_data",
          "data": {
            "text/plain": [
              "  구     동        순위.구.내. 편의점수 비율...\n",
              "1 완산구 효자5동   1           60       21.7   \n",
              "2 완산구 효자4동   2           36       13.0   \n",
              "3 완산구 서신동    3           31       11.2   \n",
              "4 완산구 평화2동   4           21        7.6   \n",
              "5 완산구 중화산2동 5           20        7.2   \n",
              "6 완산구 중화산1동 6           19        6.9   "
            ],
            "text/latex": "A data.frame: 6 × 5\n\\begin{tabular}{r|lllll}\n  & 구 & 동 & 순위.구.내. & 편의점수 & 비율...\\\\\n  & <chr> & <chr> & <int> & <int> & <dbl>\\\\\n\\hline\n\t1 & 완산구 & 효자5동   & 1 & 60 & 21.7\\\\\n\t2 & 완산구 & 효자4동   & 2 & 36 & 13.0\\\\\n\t3 & 완산구 & 서신동    & 3 & 31 & 11.2\\\\\n\t4 & 완산구 & 평화2동   & 4 & 21 &  7.6\\\\\n\t5 & 완산구 & 중화산2동 & 5 & 20 &  7.2\\\\\n\t6 & 완산구 & 중화산1동 & 6 & 19 &  6.9\\\\\n\\end{tabular}\n",
            "text/markdown": "\nA data.frame: 6 × 5\n\n| <!--/--> | 구 &lt;chr&gt; | 동 &lt;chr&gt; | 순위.구.내. &lt;int&gt; | 편의점수 &lt;int&gt; | 비율... &lt;dbl&gt; |\n|---|---|---|---|---|---|\n| 1 | 완산구 | 효자5동   | 1 | 60 | 21.7 |\n| 2 | 완산구 | 효자4동   | 2 | 36 | 13.0 |\n| 3 | 완산구 | 서신동    | 3 | 31 | 11.2 |\n| 4 | 완산구 | 평화2동   | 4 | 21 |  7.6 |\n| 5 | 완산구 | 중화산2동 | 5 | 20 |  7.2 |\n| 6 | 완산구 | 중화산1동 | 6 | 19 |  6.9 |\n\n",
            "text/html": [
              "<table class=\"dataframe\">\n",
              "<caption>A data.frame: 6 × 5</caption>\n",
              "<thead>\n",
              "\t<tr><th></th><th scope=col>구</th><th scope=col>동</th><th scope=col>순위.구.내.</th><th scope=col>편의점수</th><th scope=col>비율...</th></tr>\n",
              "\t<tr><th></th><th scope=col>&lt;chr&gt;</th><th scope=col>&lt;chr&gt;</th><th scope=col>&lt;int&gt;</th><th scope=col>&lt;int&gt;</th><th scope=col>&lt;dbl&gt;</th></tr>\n",
              "</thead>\n",
              "<tbody>\n",
              "\t<tr><th scope=row>1</th><td>완산구</td><td>효자5동  </td><td>1</td><td>60</td><td>21.7</td></tr>\n",
              "\t<tr><th scope=row>2</th><td>완산구</td><td>효자4동  </td><td>2</td><td>36</td><td>13.0</td></tr>\n",
              "\t<tr><th scope=row>3</th><td>완산구</td><td>서신동   </td><td>3</td><td>31</td><td>11.2</td></tr>\n",
              "\t<tr><th scope=row>4</th><td>완산구</td><td>평화2동  </td><td>4</td><td>21</td><td> 7.6</td></tr>\n",
              "\t<tr><th scope=row>5</th><td>완산구</td><td>중화산2동</td><td>5</td><td>20</td><td> 7.2</td></tr>\n",
              "\t<tr><th scope=row>6</th><td>완산구</td><td>중화산1동</td><td>6</td><td>19</td><td> 6.9</td></tr>\n",
              "</tbody>\n",
              "</table>\n"
            ]
          },
          "metadata": {
            "tags": []
          }
        }
      ]
    },
    {
      "cell_type": "code",
      "metadata": {
        "colab": {
          "base_uri": "https://localhost:8080/",
          "height": 1000
        },
        "id": "UnPCRXAR_XrW",
        "outputId": "86b75eb5-45dc-45fb-8752-94dac41fd4cd"
      },
      "source": [
        "cvstore <- cvstore[,c(2,4)]\n",
        "names(cvstore)[1] <- \"행정동\"\n",
        "cvstore <- arrange(cvstore, cvstore$행정동)\n",
        "cvstore"
      ],
      "execution_count": 82,
      "outputs": [
        {
          "output_type": "display_data",
          "data": {
            "text/plain": [
              "   행정동    편의점수\n",
              "1  금암1동   25      \n",
              "2  금암2동    8      \n",
              "3  노송동     5      \n",
              "4  덕진동    29      \n",
              "5  동서학동   6      \n",
              "6  삼천2동    9      \n",
              "7  삼천3동   13      \n",
              "8  서신동    31      \n",
              "9  송천1동   30      \n",
              "10 송천2동   14      \n",
              "11 여의동    22      \n",
              "12 우아1동   14      \n",
              "13 우아2동   36      \n",
              "14 인후1동    8      \n",
              "15 인후2동    7      \n",
              "16 인후3동   30      \n",
              "17 조촌동     7      \n",
              "18 중앙동    17      \n",
              "19 중화산1동 19      \n",
              "20 중화산2동 20      \n",
              "21 진북동     8      \n",
              "22 팔복동    10      \n",
              "23 평화1동    8      \n",
              "24 평화2동   21      \n",
              "25 풍남동    16      \n",
              "26 혁신동    11      \n",
              "27 호성동     9      \n",
              "28 효자2동    6      \n",
              "29 효자3동    9      \n",
              "30 효자4동   36      \n",
              "31 효자5동   60      "
            ],
            "text/latex": "A data.frame: 31 × 2\n\\begin{tabular}{ll}\n 행정동 & 편의점수\\\\\n <chr> & <int>\\\\\n\\hline\n\t 금암1동   & 25\\\\\n\t 금암2동   &  8\\\\\n\t 노송동    &  5\\\\\n\t 덕진동    & 29\\\\\n\t 동서학동  &  6\\\\\n\t 삼천2동   &  9\\\\\n\t 삼천3동   & 13\\\\\n\t 서신동    & 31\\\\\n\t 송천1동   & 30\\\\\n\t 송천2동   & 14\\\\\n\t 여의동    & 22\\\\\n\t 우아1동   & 14\\\\\n\t 우아2동   & 36\\\\\n\t 인후1동   &  8\\\\\n\t 인후2동   &  7\\\\\n\t 인후3동   & 30\\\\\n\t 조촌동    &  7\\\\\n\t 중앙동    & 17\\\\\n\t 중화산1동 & 19\\\\\n\t 중화산2동 & 20\\\\\n\t 진북동    &  8\\\\\n\t 팔복동    & 10\\\\\n\t 평화1동   &  8\\\\\n\t 평화2동   & 21\\\\\n\t 풍남동    & 16\\\\\n\t 혁신동    & 11\\\\\n\t 호성동    &  9\\\\\n\t 효자2동   &  6\\\\\n\t 효자3동   &  9\\\\\n\t 효자4동   & 36\\\\\n\t 효자5동   & 60\\\\\n\\end{tabular}\n",
            "text/markdown": "\nA data.frame: 31 × 2\n\n| 행정동 &lt;chr&gt; | 편의점수 &lt;int&gt; |\n|---|---|\n| 금암1동   | 25 |\n| 금암2동   |  8 |\n| 노송동    |  5 |\n| 덕진동    | 29 |\n| 동서학동  |  6 |\n| 삼천2동   |  9 |\n| 삼천3동   | 13 |\n| 서신동    | 31 |\n| 송천1동   | 30 |\n| 송천2동   | 14 |\n| 여의동    | 22 |\n| 우아1동   | 14 |\n| 우아2동   | 36 |\n| 인후1동   |  8 |\n| 인후2동   |  7 |\n| 인후3동   | 30 |\n| 조촌동    |  7 |\n| 중앙동    | 17 |\n| 중화산1동 | 19 |\n| 중화산2동 | 20 |\n| 진북동    |  8 |\n| 팔복동    | 10 |\n| 평화1동   |  8 |\n| 평화2동   | 21 |\n| 풍남동    | 16 |\n| 혁신동    | 11 |\n| 호성동    |  9 |\n| 효자2동   |  6 |\n| 효자3동   |  9 |\n| 효자4동   | 36 |\n| 효자5동   | 60 |\n\n",
            "text/html": [
              "<table class=\"dataframe\">\n",
              "<caption>A data.frame: 31 × 2</caption>\n",
              "<thead>\n",
              "\t<tr><th scope=col>행정동</th><th scope=col>편의점수</th></tr>\n",
              "\t<tr><th scope=col>&lt;chr&gt;</th><th scope=col>&lt;int&gt;</th></tr>\n",
              "</thead>\n",
              "<tbody>\n",
              "\t<tr><td>금암1동  </td><td>25</td></tr>\n",
              "\t<tr><td>금암2동  </td><td> 8</td></tr>\n",
              "\t<tr><td>노송동   </td><td> 5</td></tr>\n",
              "\t<tr><td>덕진동   </td><td>29</td></tr>\n",
              "\t<tr><td>동서학동 </td><td> 6</td></tr>\n",
              "\t<tr><td>삼천2동  </td><td> 9</td></tr>\n",
              "\t<tr><td>삼천3동  </td><td>13</td></tr>\n",
              "\t<tr><td>서신동   </td><td>31</td></tr>\n",
              "\t<tr><td>송천1동  </td><td>30</td></tr>\n",
              "\t<tr><td>송천2동  </td><td>14</td></tr>\n",
              "\t<tr><td>여의동   </td><td>22</td></tr>\n",
              "\t<tr><td>우아1동  </td><td>14</td></tr>\n",
              "\t<tr><td>우아2동  </td><td>36</td></tr>\n",
              "\t<tr><td>인후1동  </td><td> 8</td></tr>\n",
              "\t<tr><td>인후2동  </td><td> 7</td></tr>\n",
              "\t<tr><td>인후3동  </td><td>30</td></tr>\n",
              "\t<tr><td>조촌동   </td><td> 7</td></tr>\n",
              "\t<tr><td>중앙동   </td><td>17</td></tr>\n",
              "\t<tr><td>중화산1동</td><td>19</td></tr>\n",
              "\t<tr><td>중화산2동</td><td>20</td></tr>\n",
              "\t<tr><td>진북동   </td><td> 8</td></tr>\n",
              "\t<tr><td>팔복동   </td><td>10</td></tr>\n",
              "\t<tr><td>평화1동  </td><td> 8</td></tr>\n",
              "\t<tr><td>평화2동  </td><td>21</td></tr>\n",
              "\t<tr><td>풍남동   </td><td>16</td></tr>\n",
              "\t<tr><td>혁신동   </td><td>11</td></tr>\n",
              "\t<tr><td>호성동   </td><td> 9</td></tr>\n",
              "\t<tr><td>효자2동  </td><td> 6</td></tr>\n",
              "\t<tr><td>효자3동  </td><td> 9</td></tr>\n",
              "\t<tr><td>효자4동  </td><td>36</td></tr>\n",
              "\t<tr><td>효자5동  </td><td>60</td></tr>\n",
              "</tbody>\n",
              "</table>\n"
            ]
          },
          "metadata": {
            "tags": []
          }
        }
      ]
    },
    {
      "cell_type": "code",
      "metadata": {
        "colab": {
          "base_uri": "https://localhost:8080/",
          "height": 139
        },
        "id": "QNQfWG-Y_bug",
        "outputId": "16891c9d-3969-43aa-f2a0-741890d0baf4"
      },
      "source": [
        "table(cvstore$행정동 %in% jjdong)\n",
        "table(jjdong %in% cvstore$행정동)\n",
        "\n",
        "jjdong[jjdong %in% cvstore$행정동 == FALSE] #cvstore에는 없는 jjdong의 행정동"
      ],
      "execution_count": 83,
      "outputs": [
        {
          "output_type": "display_data",
          "data": {
            "text/plain": [
              "\n",
              "TRUE \n",
              "  31 "
            ]
          },
          "metadata": {
            "tags": []
          }
        },
        {
          "output_type": "display_data",
          "data": {
            "text/plain": [
              "\n",
              "FALSE  TRUE \n",
              "    4    31 "
            ]
          },
          "metadata": {
            "tags": []
          }
        },
        {
          "output_type": "display_data",
          "data": {
            "text/plain": [
              "[1] \"삼천1동\"  \"서서학동\" \"완산동\"   \"효자1동\" "
            ],
            "text/latex": "\\begin{enumerate*}\n\\item '삼천1동'\n\\item '서서학동'\n\\item '완산동'\n\\item '효자1동'\n\\end{enumerate*}\n",
            "text/markdown": "1. '삼천1동'\n2. '서서학동'\n3. '완산동'\n4. '효자1동'\n\n\n",
            "text/html": [
              "<style>\n",
              ".list-inline {list-style: none; margin:0; padding: 0}\n",
              ".list-inline>li {display: inline-block}\n",
              ".list-inline>li:not(:last-child)::after {content: \"\\00b7\"; padding: 0 .5ex}\n",
              "</style>\n",
              "<ol class=list-inline><li>'삼천1동'</li><li>'서서학동'</li><li>'완산동'</li><li>'효자1동'</li></ol>\n"
            ]
          },
          "metadata": {
            "tags": []
          }
        }
      ]
    },
    {
      "cell_type": "code",
      "metadata": {
        "colab": {
          "base_uri": "https://localhost:8080/",
          "height": 1000
        },
        "id": "3Jn20LEl_ln4",
        "outputId": "1bc5406d-5c82-401a-d698-45baf15f21f9"
      },
      "source": [
        "add <- data.frame(행정동 = jjdong[jjdong %in% cvstore$행정동 == FALSE], 편의점수 = rep(NA, length(jjdong[jjdong %in% cvstore$행정동 == FALSE])))\n",
        "cvstore<- rbind(cvstore, add)\n",
        "cvstore <- arrange(cvstore, cvstore$행정동)\n",
        "cvstore"
      ],
      "execution_count": 84,
      "outputs": [
        {
          "output_type": "display_data",
          "data": {
            "text/plain": [
              "   행정동    편의점수\n",
              "1  금암1동   25      \n",
              "2  금암2동    8      \n",
              "3  노송동     5      \n",
              "4  덕진동    29      \n",
              "5  동서학동   6      \n",
              "6  삼천1동   NA      \n",
              "7  삼천2동    9      \n",
              "8  삼천3동   13      \n",
              "9  서서학동  NA      \n",
              "10 서신동    31      \n",
              "11 송천1동   30      \n",
              "12 송천2동   14      \n",
              "13 여의동    22      \n",
              "14 완산동    NA      \n",
              "15 우아1동   14      \n",
              "16 우아2동   36      \n",
              "17 인후1동    8      \n",
              "18 인후2동    7      \n",
              "19 인후3동   30      \n",
              "20 조촌동     7      \n",
              "21 중앙동    17      \n",
              "22 중화산1동 19      \n",
              "23 중화산2동 20      \n",
              "24 진북동     8      \n",
              "25 팔복동    10      \n",
              "26 평화1동    8      \n",
              "27 평화2동   21      \n",
              "28 풍남동    16      \n",
              "29 혁신동    11      \n",
              "30 호성동     9      \n",
              "31 효자1동   NA      \n",
              "32 효자2동    6      \n",
              "33 효자3동    9      \n",
              "34 효자4동   36      \n",
              "35 효자5동   60      "
            ],
            "text/latex": "A data.frame: 35 × 2\n\\begin{tabular}{ll}\n 행정동 & 편의점수\\\\\n <chr> & <int>\\\\\n\\hline\n\t 금암1동   & 25\\\\\n\t 금암2동   &  8\\\\\n\t 노송동    &  5\\\\\n\t 덕진동    & 29\\\\\n\t 동서학동  &  6\\\\\n\t 삼천1동   & NA\\\\\n\t 삼천2동   &  9\\\\\n\t 삼천3동   & 13\\\\\n\t 서서학동  & NA\\\\\n\t 서신동    & 31\\\\\n\t 송천1동   & 30\\\\\n\t 송천2동   & 14\\\\\n\t 여의동    & 22\\\\\n\t 완산동    & NA\\\\\n\t 우아1동   & 14\\\\\n\t 우아2동   & 36\\\\\n\t 인후1동   &  8\\\\\n\t 인후2동   &  7\\\\\n\t 인후3동   & 30\\\\\n\t 조촌동    &  7\\\\\n\t 중앙동    & 17\\\\\n\t 중화산1동 & 19\\\\\n\t 중화산2동 & 20\\\\\n\t 진북동    &  8\\\\\n\t 팔복동    & 10\\\\\n\t 평화1동   &  8\\\\\n\t 평화2동   & 21\\\\\n\t 풍남동    & 16\\\\\n\t 혁신동    & 11\\\\\n\t 호성동    &  9\\\\\n\t 효자1동   & NA\\\\\n\t 효자2동   &  6\\\\\n\t 효자3동   &  9\\\\\n\t 효자4동   & 36\\\\\n\t 효자5동   & 60\\\\\n\\end{tabular}\n",
            "text/markdown": "\nA data.frame: 35 × 2\n\n| 행정동 &lt;chr&gt; | 편의점수 &lt;int&gt; |\n|---|---|\n| 금암1동   | 25 |\n| 금암2동   |  8 |\n| 노송동    |  5 |\n| 덕진동    | 29 |\n| 동서학동  |  6 |\n| 삼천1동   | NA |\n| 삼천2동   |  9 |\n| 삼천3동   | 13 |\n| 서서학동  | NA |\n| 서신동    | 31 |\n| 송천1동   | 30 |\n| 송천2동   | 14 |\n| 여의동    | 22 |\n| 완산동    | NA |\n| 우아1동   | 14 |\n| 우아2동   | 36 |\n| 인후1동   |  8 |\n| 인후2동   |  7 |\n| 인후3동   | 30 |\n| 조촌동    |  7 |\n| 중앙동    | 17 |\n| 중화산1동 | 19 |\n| 중화산2동 | 20 |\n| 진북동    |  8 |\n| 팔복동    | 10 |\n| 평화1동   |  8 |\n| 평화2동   | 21 |\n| 풍남동    | 16 |\n| 혁신동    | 11 |\n| 호성동    |  9 |\n| 효자1동   | NA |\n| 효자2동   |  6 |\n| 효자3동   |  9 |\n| 효자4동   | 36 |\n| 효자5동   | 60 |\n\n",
            "text/html": [
              "<table class=\"dataframe\">\n",
              "<caption>A data.frame: 35 × 2</caption>\n",
              "<thead>\n",
              "\t<tr><th scope=col>행정동</th><th scope=col>편의점수</th></tr>\n",
              "\t<tr><th scope=col>&lt;chr&gt;</th><th scope=col>&lt;int&gt;</th></tr>\n",
              "</thead>\n",
              "<tbody>\n",
              "\t<tr><td>금암1동  </td><td>25</td></tr>\n",
              "\t<tr><td>금암2동  </td><td> 8</td></tr>\n",
              "\t<tr><td>노송동   </td><td> 5</td></tr>\n",
              "\t<tr><td>덕진동   </td><td>29</td></tr>\n",
              "\t<tr><td>동서학동 </td><td> 6</td></tr>\n",
              "\t<tr><td>삼천1동  </td><td>NA</td></tr>\n",
              "\t<tr><td>삼천2동  </td><td> 9</td></tr>\n",
              "\t<tr><td>삼천3동  </td><td>13</td></tr>\n",
              "\t<tr><td>서서학동 </td><td>NA</td></tr>\n",
              "\t<tr><td>서신동   </td><td>31</td></tr>\n",
              "\t<tr><td>송천1동  </td><td>30</td></tr>\n",
              "\t<tr><td>송천2동  </td><td>14</td></tr>\n",
              "\t<tr><td>여의동   </td><td>22</td></tr>\n",
              "\t<tr><td>완산동   </td><td>NA</td></tr>\n",
              "\t<tr><td>우아1동  </td><td>14</td></tr>\n",
              "\t<tr><td>우아2동  </td><td>36</td></tr>\n",
              "\t<tr><td>인후1동  </td><td> 8</td></tr>\n",
              "\t<tr><td>인후2동  </td><td> 7</td></tr>\n",
              "\t<tr><td>인후3동  </td><td>30</td></tr>\n",
              "\t<tr><td>조촌동   </td><td> 7</td></tr>\n",
              "\t<tr><td>중앙동   </td><td>17</td></tr>\n",
              "\t<tr><td>중화산1동</td><td>19</td></tr>\n",
              "\t<tr><td>중화산2동</td><td>20</td></tr>\n",
              "\t<tr><td>진북동   </td><td> 8</td></tr>\n",
              "\t<tr><td>팔복동   </td><td>10</td></tr>\n",
              "\t<tr><td>평화1동  </td><td> 8</td></tr>\n",
              "\t<tr><td>평화2동  </td><td>21</td></tr>\n",
              "\t<tr><td>풍남동   </td><td>16</td></tr>\n",
              "\t<tr><td>혁신동   </td><td>11</td></tr>\n",
              "\t<tr><td>호성동   </td><td> 9</td></tr>\n",
              "\t<tr><td>효자1동  </td><td>NA</td></tr>\n",
              "\t<tr><td>효자2동  </td><td> 6</td></tr>\n",
              "\t<tr><td>효자3동  </td><td> 9</td></tr>\n",
              "\t<tr><td>효자4동  </td><td>36</td></tr>\n",
              "\t<tr><td>효자5동  </td><td>60</td></tr>\n",
              "</tbody>\n",
              "</table>\n"
            ]
          },
          "metadata": {
            "tags": []
          }
        }
      ]
    },
    {
      "cell_type": "markdown",
      "metadata": {
        "id": "SYiWzCpuEEDQ"
      },
      "source": [
        "## 대학교 수"
      ]
    },
    {
      "cell_type": "code",
      "metadata": {
        "colab": {
          "base_uri": "https://localhost:8080/",
          "height": 362
        },
        "id": "DzR9HepA_oy9",
        "outputId": "fd113ec9-df3e-44fd-f0b7-f65363b2a43a"
      },
      "source": [
        "str(univ)\n",
        "head(univ)"
      ],
      "execution_count": 85,
      "outputs": [
        {
          "output_type": "stream",
          "text": [
            "'data.frame':\t7 obs. of  3 variables:\n",
            " $ 대학교: chr  \"전북대학교 전주캠퍼스\" \"전주교육대학교\" \"예수대학교\" \"전주대학교\" ...\n",
            " $ 위치  : chr  \"전라북도 전주시 덕진구 백제대로 567\" \"전라북도 전주시 완산구 서학로 50 \" \"전라북도 전주시 완산구 서원로 383 \" \"전라북도 전주시 완산구 천잠로 303\" ...\n",
            " $ 행정동: chr  \"덕진동\" \"동서학동\" \"중화산1동\" \"효자4동\" ...\n"
          ],
          "name": "stdout"
        },
        {
          "output_type": "display_data",
          "data": {
            "text/plain": [
              "  대학교                위치                                  행정동   \n",
              "1 전북대학교 전주캠퍼스 전라북도 전주시 덕진구 백제대로 567   덕진동   \n",
              "2 전주교육대학교        전라북도 전주시 완산구 서학로 50      동서학동 \n",
              "3 예수대학교            전라북도 전주시 완산구 서원로 383     중화산1동\n",
              "4 전주대학교            전라북도 전주시 완산구 천잠로 303     효자4동  \n",
              "5 전주기전대학          전라북도 전주시 완산구 전주천서로 267 중화산1동\n",
              "6 전주비전대학교        전라북도 전주시 완산구 천잠로 235     효자4동  "
            ],
            "text/latex": "A data.frame: 6 × 3\n\\begin{tabular}{r|lll}\n  & 대학교 & 위치 & 행정동\\\\\n  & <chr> & <chr> & <chr>\\\\\n\\hline\n\t1 & 전북대학교 전주캠퍼스 & 전라북도 전주시 덕진구 백제대로 567   & 덕진동   \\\\\n\t2 & 전주교육대학교        & 전라북도 전주시 완산구 서학로 50      & 동서학동 \\\\\n\t3 & 예수대학교            & 전라북도 전주시 완산구 서원로 383     & 중화산1동\\\\\n\t4 & 전주대학교            & 전라북도 전주시 완산구 천잠로 303     & 효자4동  \\\\\n\t5 & 전주기전대학          & 전라북도 전주시 완산구 전주천서로 267 & 중화산1동\\\\\n\t6 & 전주비전대학교        & 전라북도 전주시 완산구 천잠로 235     & 효자4동  \\\\\n\\end{tabular}\n",
            "text/markdown": "\nA data.frame: 6 × 3\n\n| <!--/--> | 대학교 &lt;chr&gt; | 위치 &lt;chr&gt; | 행정동 &lt;chr&gt; |\n|---|---|---|---|\n| 1 | 전북대학교 전주캠퍼스 | 전라북도 전주시 덕진구 백제대로 567   | 덕진동    |\n| 2 | 전주교육대학교        | 전라북도 전주시 완산구 서학로 50      | 동서학동  |\n| 3 | 예수대학교            | 전라북도 전주시 완산구 서원로 383     | 중화산1동 |\n| 4 | 전주대학교            | 전라북도 전주시 완산구 천잠로 303     | 효자4동   |\n| 5 | 전주기전대학          | 전라북도 전주시 완산구 전주천서로 267 | 중화산1동 |\n| 6 | 전주비전대학교        | 전라북도 전주시 완산구 천잠로 235     | 효자4동   |\n\n",
            "text/html": [
              "<table class=\"dataframe\">\n",
              "<caption>A data.frame: 6 × 3</caption>\n",
              "<thead>\n",
              "\t<tr><th></th><th scope=col>대학교</th><th scope=col>위치</th><th scope=col>행정동</th></tr>\n",
              "\t<tr><th></th><th scope=col>&lt;chr&gt;</th><th scope=col>&lt;chr&gt;</th><th scope=col>&lt;chr&gt;</th></tr>\n",
              "</thead>\n",
              "<tbody>\n",
              "\t<tr><th scope=row>1</th><td>전북대학교 전주캠퍼스</td><td>전라북도 전주시 덕진구 백제대로 567  </td><td>덕진동   </td></tr>\n",
              "\t<tr><th scope=row>2</th><td>전주교육대학교       </td><td>전라북도 전주시 완산구 서학로 50     </td><td>동서학동 </td></tr>\n",
              "\t<tr><th scope=row>3</th><td>예수대학교           </td><td>전라북도 전주시 완산구 서원로 383    </td><td>중화산1동</td></tr>\n",
              "\t<tr><th scope=row>4</th><td>전주대학교           </td><td>전라북도 전주시 완산구 천잠로 303    </td><td>효자4동  </td></tr>\n",
              "\t<tr><th scope=row>5</th><td>전주기전대학         </td><td>전라북도 전주시 완산구 전주천서로 267</td><td>중화산1동</td></tr>\n",
              "\t<tr><th scope=row>6</th><td>전주비전대학교       </td><td>전라북도 전주시 완산구 천잠로 235    </td><td>효자4동  </td></tr>\n",
              "</tbody>\n",
              "</table>\n"
            ]
          },
          "metadata": {
            "tags": []
          }
        }
      ]
    },
    {
      "cell_type": "code",
      "metadata": {
        "colab": {
          "base_uri": "https://localhost:8080/",
          "height": 301
        },
        "id": "N9qDQHei_tm1",
        "outputId": "384eef7e-d71a-4627-ad23-b7bbbf7d513d"
      },
      "source": [
        "univ <- univ[,c(1,3)]\n",
        "univ$count <- rep(1,nrow(univ))\n",
        "univ"
      ],
      "execution_count": 86,
      "outputs": [
        {
          "output_type": "display_data",
          "data": {
            "text/plain": [
              "  대학교                행정동    count\n",
              "1 전북대학교 전주캠퍼스 덕진동    1    \n",
              "2 전주교육대학교        동서학동  1    \n",
              "3 예수대학교            중화산1동 1    \n",
              "4 전주대학교            효자4동   1    \n",
              "5 전주기전대학          중화산1동 1    \n",
              "6 전주비전대학교        효자4동   1    \n",
              "7 한국농수산대학        효자5동   1    "
            ],
            "text/latex": "A data.frame: 7 × 3\n\\begin{tabular}{lll}\n 대학교 & 행정동 & count\\\\\n <chr> & <chr> & <dbl>\\\\\n\\hline\n\t 전북대학교 전주캠퍼스 & 덕진동    & 1\\\\\n\t 전주교육대학교        & 동서학동  & 1\\\\\n\t 예수대학교            & 중화산1동 & 1\\\\\n\t 전주대학교            & 효자4동   & 1\\\\\n\t 전주기전대학          & 중화산1동 & 1\\\\\n\t 전주비전대학교        & 효자4동   & 1\\\\\n\t 한국농수산대학        & 효자5동   & 1\\\\\n\\end{tabular}\n",
            "text/markdown": "\nA data.frame: 7 × 3\n\n| 대학교 &lt;chr&gt; | 행정동 &lt;chr&gt; | count &lt;dbl&gt; |\n|---|---|---|\n| 전북대학교 전주캠퍼스 | 덕진동    | 1 |\n| 전주교육대학교        | 동서학동  | 1 |\n| 예수대학교            | 중화산1동 | 1 |\n| 전주대학교            | 효자4동   | 1 |\n| 전주기전대학          | 중화산1동 | 1 |\n| 전주비전대학교        | 효자4동   | 1 |\n| 한국농수산대학        | 효자5동   | 1 |\n\n",
            "text/html": [
              "<table class=\"dataframe\">\n",
              "<caption>A data.frame: 7 × 3</caption>\n",
              "<thead>\n",
              "\t<tr><th scope=col>대학교</th><th scope=col>행정동</th><th scope=col>count</th></tr>\n",
              "\t<tr><th scope=col>&lt;chr&gt;</th><th scope=col>&lt;chr&gt;</th><th scope=col>&lt;dbl&gt;</th></tr>\n",
              "</thead>\n",
              "<tbody>\n",
              "\t<tr><td>전북대학교 전주캠퍼스</td><td>덕진동   </td><td>1</td></tr>\n",
              "\t<tr><td>전주교육대학교       </td><td>동서학동 </td><td>1</td></tr>\n",
              "\t<tr><td>예수대학교           </td><td>중화산1동</td><td>1</td></tr>\n",
              "\t<tr><td>전주대학교           </td><td>효자4동  </td><td>1</td></tr>\n",
              "\t<tr><td>전주기전대학         </td><td>중화산1동</td><td>1</td></tr>\n",
              "\t<tr><td>전주비전대학교       </td><td>효자4동  </td><td>1</td></tr>\n",
              "\t<tr><td>한국농수산대학       </td><td>효자5동  </td><td>1</td></tr>\n",
              "</tbody>\n",
              "</table>\n"
            ]
          },
          "metadata": {
            "tags": []
          }
        }
      ]
    },
    {
      "cell_type": "code",
      "metadata": {
        "colab": {
          "base_uri": "https://localhost:8080/",
          "height": 242
        },
        "id": "EnuHjOb6_wCZ",
        "outputId": "bfae98ef-922f-4c64-b62a-4d0269feb0b2"
      },
      "source": [
        "univ <- univ %>% group_by(행정동) %>% summarise(대학교수 = sum(count))\n",
        "univ <- as.data.frame(univ)\n",
        "univ <- arrange(univ, univ$행정동)\n",
        "univ"
      ],
      "execution_count": 87,
      "outputs": [
        {
          "output_type": "display_data",
          "data": {
            "text/plain": [
              "  행정동    대학교수\n",
              "1 덕진동    1       \n",
              "2 동서학동  1       \n",
              "3 중화산1동 2       \n",
              "4 효자4동   2       \n",
              "5 효자5동   1       "
            ],
            "text/latex": "A data.frame: 5 × 2\n\\begin{tabular}{ll}\n 행정동 & 대학교수\\\\\n <chr> & <dbl>\\\\\n\\hline\n\t 덕진동    & 1\\\\\n\t 동서학동  & 1\\\\\n\t 중화산1동 & 2\\\\\n\t 효자4동   & 2\\\\\n\t 효자5동   & 1\\\\\n\\end{tabular}\n",
            "text/markdown": "\nA data.frame: 5 × 2\n\n| 행정동 &lt;chr&gt; | 대학교수 &lt;dbl&gt; |\n|---|---|\n| 덕진동    | 1 |\n| 동서학동  | 1 |\n| 중화산1동 | 2 |\n| 효자4동   | 2 |\n| 효자5동   | 1 |\n\n",
            "text/html": [
              "<table class=\"dataframe\">\n",
              "<caption>A data.frame: 5 × 2</caption>\n",
              "<thead>\n",
              "\t<tr><th scope=col>행정동</th><th scope=col>대학교수</th></tr>\n",
              "\t<tr><th scope=col>&lt;chr&gt;</th><th scope=col>&lt;dbl&gt;</th></tr>\n",
              "</thead>\n",
              "<tbody>\n",
              "\t<tr><td>덕진동   </td><td>1</td></tr>\n",
              "\t<tr><td>동서학동 </td><td>1</td></tr>\n",
              "\t<tr><td>중화산1동</td><td>2</td></tr>\n",
              "\t<tr><td>효자4동  </td><td>2</td></tr>\n",
              "\t<tr><td>효자5동  </td><td>1</td></tr>\n",
              "</tbody>\n",
              "</table>\n"
            ]
          },
          "metadata": {
            "tags": []
          }
        }
      ]
    },
    {
      "cell_type": "code",
      "metadata": {
        "colab": {
          "base_uri": "https://localhost:8080/",
          "height": 156
        },
        "id": "xSwF8sD7_yP5",
        "outputId": "dcba22b4-bc8b-40b7-aa8b-2eccaad3c13e"
      },
      "source": [
        "table(univ$행정동 %in% jjdong)\n",
        "table(jjdong %in% univ$행정동)\n",
        "\n",
        "jjdong[jjdong %in% univ$행정동 == FALSE] #univ에는 없는 jjdong의 행정동"
      ],
      "execution_count": 88,
      "outputs": [
        {
          "output_type": "display_data",
          "data": {
            "text/plain": [
              "\n",
              "TRUE \n",
              "   5 "
            ]
          },
          "metadata": {
            "tags": []
          }
        },
        {
          "output_type": "display_data",
          "data": {
            "text/plain": [
              "\n",
              "FALSE  TRUE \n",
              "   30     5 "
            ]
          },
          "metadata": {
            "tags": []
          }
        },
        {
          "output_type": "display_data",
          "data": {
            "text/plain": [
              " [1] \"금암1동\"   \"금암2동\"   \"노송동\"    \"삼천1동\"   \"삼천2동\"   \"삼천3동\"  \n",
              " [7] \"서서학동\"  \"서신동\"    \"송천1동\"   \"송천2동\"   \"여의동\"    \"완산동\"   \n",
              "[13] \"우아1동\"   \"우아2동\"   \"인후1동\"   \"인후2동\"   \"인후3동\"   \"조촌동\"   \n",
              "[19] \"중앙동\"    \"중화산2동\" \"진북동\"    \"팔복동\"    \"평화1동\"   \"평화2동\"  \n",
              "[25] \"풍남동\"    \"혁신동\"    \"호성동\"    \"효자1동\"   \"효자2동\"   \"효자3동\"  "
            ],
            "text/latex": "\\begin{enumerate*}\n\\item '금암1동'\n\\item '금암2동'\n\\item '노송동'\n\\item '삼천1동'\n\\item '삼천2동'\n\\item '삼천3동'\n\\item '서서학동'\n\\item '서신동'\n\\item '송천1동'\n\\item '송천2동'\n\\item '여의동'\n\\item '완산동'\n\\item '우아1동'\n\\item '우아2동'\n\\item '인후1동'\n\\item '인후2동'\n\\item '인후3동'\n\\item '조촌동'\n\\item '중앙동'\n\\item '중화산2동'\n\\item '진북동'\n\\item '팔복동'\n\\item '평화1동'\n\\item '평화2동'\n\\item '풍남동'\n\\item '혁신동'\n\\item '호성동'\n\\item '효자1동'\n\\item '효자2동'\n\\item '효자3동'\n\\end{enumerate*}\n",
            "text/markdown": "1. '금암1동'\n2. '금암2동'\n3. '노송동'\n4. '삼천1동'\n5. '삼천2동'\n6. '삼천3동'\n7. '서서학동'\n8. '서신동'\n9. '송천1동'\n10. '송천2동'\n11. '여의동'\n12. '완산동'\n13. '우아1동'\n14. '우아2동'\n15. '인후1동'\n16. '인후2동'\n17. '인후3동'\n18. '조촌동'\n19. '중앙동'\n20. '중화산2동'\n21. '진북동'\n22. '팔복동'\n23. '평화1동'\n24. '평화2동'\n25. '풍남동'\n26. '혁신동'\n27. '호성동'\n28. '효자1동'\n29. '효자2동'\n30. '효자3동'\n\n\n",
            "text/html": [
              "<style>\n",
              ".list-inline {list-style: none; margin:0; padding: 0}\n",
              ".list-inline>li {display: inline-block}\n",
              ".list-inline>li:not(:last-child)::after {content: \"\\00b7\"; padding: 0 .5ex}\n",
              "</style>\n",
              "<ol class=list-inline><li>'금암1동'</li><li>'금암2동'</li><li>'노송동'</li><li>'삼천1동'</li><li>'삼천2동'</li><li>'삼천3동'</li><li>'서서학동'</li><li>'서신동'</li><li>'송천1동'</li><li>'송천2동'</li><li>'여의동'</li><li>'완산동'</li><li>'우아1동'</li><li>'우아2동'</li><li>'인후1동'</li><li>'인후2동'</li><li>'인후3동'</li><li>'조촌동'</li><li>'중앙동'</li><li>'중화산2동'</li><li>'진북동'</li><li>'팔복동'</li><li>'평화1동'</li><li>'평화2동'</li><li>'풍남동'</li><li>'혁신동'</li><li>'호성동'</li><li>'효자1동'</li><li>'효자2동'</li><li>'효자3동'</li></ol>\n"
            ]
          },
          "metadata": {
            "tags": []
          }
        }
      ]
    },
    {
      "cell_type": "code",
      "metadata": {
        "colab": {
          "base_uri": "https://localhost:8080/",
          "height": 1000
        },
        "id": "SmI76TkK_1QQ",
        "outputId": "94f1b71e-ecff-4cd6-9d03-3b003f818ffd"
      },
      "source": [
        "add <- data.frame(행정동 = jjdong[jjdong %in% univ$행정동 == FALSE], 대학교수 = rep(0, length(jjdong[jjdong %in% univ$행정동 == FALSE])))\n",
        "univ <- rbind(univ, add)\n",
        "univ <- arrange(univ, univ$행정동)\n",
        "univ"
      ],
      "execution_count": 89,
      "outputs": [
        {
          "output_type": "display_data",
          "data": {
            "text/plain": [
              "   행정동    대학교수\n",
              "1  금암1동   0       \n",
              "2  금암2동   0       \n",
              "3  노송동    0       \n",
              "4  덕진동    1       \n",
              "5  동서학동  1       \n",
              "6  삼천1동   0       \n",
              "7  삼천2동   0       \n",
              "8  삼천3동   0       \n",
              "9  서서학동  0       \n",
              "10 서신동    0       \n",
              "11 송천1동   0       \n",
              "12 송천2동   0       \n",
              "13 여의동    0       \n",
              "14 완산동    0       \n",
              "15 우아1동   0       \n",
              "16 우아2동   0       \n",
              "17 인후1동   0       \n",
              "18 인후2동   0       \n",
              "19 인후3동   0       \n",
              "20 조촌동    0       \n",
              "21 중앙동    0       \n",
              "22 중화산1동 2       \n",
              "23 중화산2동 0       \n",
              "24 진북동    0       \n",
              "25 팔복동    0       \n",
              "26 평화1동   0       \n",
              "27 평화2동   0       \n",
              "28 풍남동    0       \n",
              "29 혁신동    0       \n",
              "30 호성동    0       \n",
              "31 효자1동   0       \n",
              "32 효자2동   0       \n",
              "33 효자3동   0       \n",
              "34 효자4동   2       \n",
              "35 효자5동   1       "
            ],
            "text/latex": "A data.frame: 35 × 2\n\\begin{tabular}{ll}\n 행정동 & 대학교수\\\\\n <chr> & <dbl>\\\\\n\\hline\n\t 금암1동   & 0\\\\\n\t 금암2동   & 0\\\\\n\t 노송동    & 0\\\\\n\t 덕진동    & 1\\\\\n\t 동서학동  & 1\\\\\n\t 삼천1동   & 0\\\\\n\t 삼천2동   & 0\\\\\n\t 삼천3동   & 0\\\\\n\t 서서학동  & 0\\\\\n\t 서신동    & 0\\\\\n\t 송천1동   & 0\\\\\n\t 송천2동   & 0\\\\\n\t 여의동    & 0\\\\\n\t 완산동    & 0\\\\\n\t 우아1동   & 0\\\\\n\t 우아2동   & 0\\\\\n\t 인후1동   & 0\\\\\n\t 인후2동   & 0\\\\\n\t 인후3동   & 0\\\\\n\t 조촌동    & 0\\\\\n\t 중앙동    & 0\\\\\n\t 중화산1동 & 2\\\\\n\t 중화산2동 & 0\\\\\n\t 진북동    & 0\\\\\n\t 팔복동    & 0\\\\\n\t 평화1동   & 0\\\\\n\t 평화2동   & 0\\\\\n\t 풍남동    & 0\\\\\n\t 혁신동    & 0\\\\\n\t 호성동    & 0\\\\\n\t 효자1동   & 0\\\\\n\t 효자2동   & 0\\\\\n\t 효자3동   & 0\\\\\n\t 효자4동   & 2\\\\\n\t 효자5동   & 1\\\\\n\\end{tabular}\n",
            "text/markdown": "\nA data.frame: 35 × 2\n\n| 행정동 &lt;chr&gt; | 대학교수 &lt;dbl&gt; |\n|---|---|\n| 금암1동   | 0 |\n| 금암2동   | 0 |\n| 노송동    | 0 |\n| 덕진동    | 1 |\n| 동서학동  | 1 |\n| 삼천1동   | 0 |\n| 삼천2동   | 0 |\n| 삼천3동   | 0 |\n| 서서학동  | 0 |\n| 서신동    | 0 |\n| 송천1동   | 0 |\n| 송천2동   | 0 |\n| 여의동    | 0 |\n| 완산동    | 0 |\n| 우아1동   | 0 |\n| 우아2동   | 0 |\n| 인후1동   | 0 |\n| 인후2동   | 0 |\n| 인후3동   | 0 |\n| 조촌동    | 0 |\n| 중앙동    | 0 |\n| 중화산1동 | 2 |\n| 중화산2동 | 0 |\n| 진북동    | 0 |\n| 팔복동    | 0 |\n| 평화1동   | 0 |\n| 평화2동   | 0 |\n| 풍남동    | 0 |\n| 혁신동    | 0 |\n| 호성동    | 0 |\n| 효자1동   | 0 |\n| 효자2동   | 0 |\n| 효자3동   | 0 |\n| 효자4동   | 2 |\n| 효자5동   | 1 |\n\n",
            "text/html": [
              "<table class=\"dataframe\">\n",
              "<caption>A data.frame: 35 × 2</caption>\n",
              "<thead>\n",
              "\t<tr><th scope=col>행정동</th><th scope=col>대학교수</th></tr>\n",
              "\t<tr><th scope=col>&lt;chr&gt;</th><th scope=col>&lt;dbl&gt;</th></tr>\n",
              "</thead>\n",
              "<tbody>\n",
              "\t<tr><td>금암1동  </td><td>0</td></tr>\n",
              "\t<tr><td>금암2동  </td><td>0</td></tr>\n",
              "\t<tr><td>노송동   </td><td>0</td></tr>\n",
              "\t<tr><td>덕진동   </td><td>1</td></tr>\n",
              "\t<tr><td>동서학동 </td><td>1</td></tr>\n",
              "\t<tr><td>삼천1동  </td><td>0</td></tr>\n",
              "\t<tr><td>삼천2동  </td><td>0</td></tr>\n",
              "\t<tr><td>삼천3동  </td><td>0</td></tr>\n",
              "\t<tr><td>서서학동 </td><td>0</td></tr>\n",
              "\t<tr><td>서신동   </td><td>0</td></tr>\n",
              "\t<tr><td>송천1동  </td><td>0</td></tr>\n",
              "\t<tr><td>송천2동  </td><td>0</td></tr>\n",
              "\t<tr><td>여의동   </td><td>0</td></tr>\n",
              "\t<tr><td>완산동   </td><td>0</td></tr>\n",
              "\t<tr><td>우아1동  </td><td>0</td></tr>\n",
              "\t<tr><td>우아2동  </td><td>0</td></tr>\n",
              "\t<tr><td>인후1동  </td><td>0</td></tr>\n",
              "\t<tr><td>인후2동  </td><td>0</td></tr>\n",
              "\t<tr><td>인후3동  </td><td>0</td></tr>\n",
              "\t<tr><td>조촌동   </td><td>0</td></tr>\n",
              "\t<tr><td>중앙동   </td><td>0</td></tr>\n",
              "\t<tr><td>중화산1동</td><td>2</td></tr>\n",
              "\t<tr><td>중화산2동</td><td>0</td></tr>\n",
              "\t<tr><td>진북동   </td><td>0</td></tr>\n",
              "\t<tr><td>팔복동   </td><td>0</td></tr>\n",
              "\t<tr><td>평화1동  </td><td>0</td></tr>\n",
              "\t<tr><td>평화2동  </td><td>0</td></tr>\n",
              "\t<tr><td>풍남동   </td><td>0</td></tr>\n",
              "\t<tr><td>혁신동   </td><td>0</td></tr>\n",
              "\t<tr><td>호성동   </td><td>0</td></tr>\n",
              "\t<tr><td>효자1동  </td><td>0</td></tr>\n",
              "\t<tr><td>효자2동  </td><td>0</td></tr>\n",
              "\t<tr><td>효자3동  </td><td>0</td></tr>\n",
              "\t<tr><td>효자4동  </td><td>2</td></tr>\n",
              "\t<tr><td>효자5동  </td><td>1</td></tr>\n",
              "</tbody>\n",
              "</table>\n"
            ]
          },
          "metadata": {
            "tags": []
          }
        }
      ]
    },
    {
      "cell_type": "markdown",
      "metadata": {
        "id": "vkuB4nU3EHLK"
      },
      "source": [
        "## 면적"
      ]
    },
    {
      "cell_type": "code",
      "metadata": {
        "colab": {
          "base_uri": "https://localhost:8080/",
          "height": 342
        },
        "id": "3ssrlc5m_3oQ",
        "outputId": "46a8d36f-8814-4536-cfd5-095f8d8fd639"
      },
      "source": [
        "str(region)\n",
        "head(region)"
      ],
      "execution_count": 90,
      "outputs": [
        {
          "output_type": "stream",
          "text": [
            "'data.frame':\t35 obs. of  3 variables:\n",
            " $ 구       : chr  \"덕진구\" \"덕진구\" \"덕진구\" \"덕진구\" ...\n",
            " $ 동       : chr  \"진북동\" \"인후1동\" \"인후2동\" \"인후3동\" ...\n",
            " $ 면적.km..: num  1.71 1.29 1.32 1.68 4.78 ...\n"
          ],
          "name": "stdout"
        },
        {
          "output_type": "display_data",
          "data": {
            "text/plain": [
              "  구     동      면적.km..\n",
              "1 덕진구 진북동  1.71     \n",
              "2 덕진구 인후1동 1.29     \n",
              "3 덕진구 인후2동 1.32     \n",
              "4 덕진구 인후3동 1.68     \n",
              "5 덕진구 덕진동  4.78     \n",
              "6 덕진구 금암1동 1.25     "
            ],
            "text/latex": "A data.frame: 6 × 3\n\\begin{tabular}{r|lll}\n  & 구 & 동 & 면적.km..\\\\\n  & <chr> & <chr> & <dbl>\\\\\n\\hline\n\t1 & 덕진구 & 진북동  & 1.71\\\\\n\t2 & 덕진구 & 인후1동 & 1.29\\\\\n\t3 & 덕진구 & 인후2동 & 1.32\\\\\n\t4 & 덕진구 & 인후3동 & 1.68\\\\\n\t5 & 덕진구 & 덕진동  & 4.78\\\\\n\t6 & 덕진구 & 금암1동 & 1.25\\\\\n\\end{tabular}\n",
            "text/markdown": "\nA data.frame: 6 × 3\n\n| <!--/--> | 구 &lt;chr&gt; | 동 &lt;chr&gt; | 면적.km.. &lt;dbl&gt; |\n|---|---|---|---|\n| 1 | 덕진구 | 진북동  | 1.71 |\n| 2 | 덕진구 | 인후1동 | 1.29 |\n| 3 | 덕진구 | 인후2동 | 1.32 |\n| 4 | 덕진구 | 인후3동 | 1.68 |\n| 5 | 덕진구 | 덕진동  | 4.78 |\n| 6 | 덕진구 | 금암1동 | 1.25 |\n\n",
            "text/html": [
              "<table class=\"dataframe\">\n",
              "<caption>A data.frame: 6 × 3</caption>\n",
              "<thead>\n",
              "\t<tr><th></th><th scope=col>구</th><th scope=col>동</th><th scope=col>면적.km..</th></tr>\n",
              "\t<tr><th></th><th scope=col>&lt;chr&gt;</th><th scope=col>&lt;chr&gt;</th><th scope=col>&lt;dbl&gt;</th></tr>\n",
              "</thead>\n",
              "<tbody>\n",
              "\t<tr><th scope=row>1</th><td>덕진구</td><td>진북동 </td><td>1.71</td></tr>\n",
              "\t<tr><th scope=row>2</th><td>덕진구</td><td>인후1동</td><td>1.29</td></tr>\n",
              "\t<tr><th scope=row>3</th><td>덕진구</td><td>인후2동</td><td>1.32</td></tr>\n",
              "\t<tr><th scope=row>4</th><td>덕진구</td><td>인후3동</td><td>1.68</td></tr>\n",
              "\t<tr><th scope=row>5</th><td>덕진구</td><td>덕진동 </td><td>4.78</td></tr>\n",
              "\t<tr><th scope=row>6</th><td>덕진구</td><td>금암1동</td><td>1.25</td></tr>\n",
              "</tbody>\n",
              "</table>\n"
            ]
          },
          "metadata": {
            "tags": []
          }
        }
      ]
    },
    {
      "cell_type": "code",
      "metadata": {
        "colab": {
          "base_uri": "https://localhost:8080/",
          "height": 1000
        },
        "id": "OmsaAD-9_6Km",
        "outputId": "2a0ee424-0680-4fe8-c666-a6d1cc69cc47"
      },
      "source": [
        "region <- region[,c(2,3)]\n",
        "names(region) <- c(\"행정동\", \"면적.km\")\n",
        "region <- arrange(region, region$행정동)\n",
        "region"
      ],
      "execution_count": 91,
      "outputs": [
        {
          "output_type": "display_data",
          "data": {
            "text/plain": [
              "   행정동    면적.km\n",
              "1  금암1동    1.25  \n",
              "2  금암2동    1.25  \n",
              "3  노송동     2.09  \n",
              "4  덕진동     4.78  \n",
              "5  동서학동  15.64  \n",
              "6  삼천1동    1.27  \n",
              "7  삼천2동    0.95  \n",
              "8  삼천3동   26.60  \n",
              "9  서서학동   2.97  \n",
              "10 서신동     2.39  \n",
              "11 송천1동    4.79  \n",
              "12 송천2동   12.14  \n",
              "13 여의동    15.71  \n",
              "14 완산동     0.99  \n",
              "15 우아1동    1.44  \n",
              "16 우아2동   22.91  \n",
              "17 인후1동    1.29  \n",
              "18 인후2동    1.32  \n",
              "19 인후3동    1.68  \n",
              "20 조촌동    24.28  \n",
              "21 중앙동     1.35  \n",
              "22 중화산1동  1.22  \n",
              "23 중화산2동  1.72  \n",
              "24 진북동     1.71  \n",
              "25 팔복동     7.38  \n",
              "26 평화1동    1.49  \n",
              "27 평화2동   15.23  \n",
              "28 풍남동     2.05  \n",
              "29 혁신동     3.37  \n",
              "30 호성동     7.64  \n",
              "31 효자1동    1.02  \n",
              "32 효자2동    0.84  \n",
              "33 효자3동    0.79  \n",
              "34 효자4동    7.71  \n",
              "35 효자5동    6.27  "
            ],
            "text/latex": "A data.frame: 35 × 2\n\\begin{tabular}{ll}\n 행정동 & 면적.km\\\\\n <chr> & <dbl>\\\\\n\\hline\n\t 금암1동   &  1.25\\\\\n\t 금암2동   &  1.25\\\\\n\t 노송동    &  2.09\\\\\n\t 덕진동    &  4.78\\\\\n\t 동서학동  & 15.64\\\\\n\t 삼천1동   &  1.27\\\\\n\t 삼천2동   &  0.95\\\\\n\t 삼천3동   & 26.60\\\\\n\t 서서학동  &  2.97\\\\\n\t 서신동    &  2.39\\\\\n\t 송천1동   &  4.79\\\\\n\t 송천2동   & 12.14\\\\\n\t 여의동    & 15.71\\\\\n\t 완산동    &  0.99\\\\\n\t 우아1동   &  1.44\\\\\n\t 우아2동   & 22.91\\\\\n\t 인후1동   &  1.29\\\\\n\t 인후2동   &  1.32\\\\\n\t 인후3동   &  1.68\\\\\n\t 조촌동    & 24.28\\\\\n\t 중앙동    &  1.35\\\\\n\t 중화산1동 &  1.22\\\\\n\t 중화산2동 &  1.72\\\\\n\t 진북동    &  1.71\\\\\n\t 팔복동    &  7.38\\\\\n\t 평화1동   &  1.49\\\\\n\t 평화2동   & 15.23\\\\\n\t 풍남동    &  2.05\\\\\n\t 혁신동    &  3.37\\\\\n\t 호성동    &  7.64\\\\\n\t 효자1동   &  1.02\\\\\n\t 효자2동   &  0.84\\\\\n\t 효자3동   &  0.79\\\\\n\t 효자4동   &  7.71\\\\\n\t 효자5동   &  6.27\\\\\n\\end{tabular}\n",
            "text/markdown": "\nA data.frame: 35 × 2\n\n| 행정동 &lt;chr&gt; | 면적.km &lt;dbl&gt; |\n|---|---|\n| 금암1동   |  1.25 |\n| 금암2동   |  1.25 |\n| 노송동    |  2.09 |\n| 덕진동    |  4.78 |\n| 동서학동  | 15.64 |\n| 삼천1동   |  1.27 |\n| 삼천2동   |  0.95 |\n| 삼천3동   | 26.60 |\n| 서서학동  |  2.97 |\n| 서신동    |  2.39 |\n| 송천1동   |  4.79 |\n| 송천2동   | 12.14 |\n| 여의동    | 15.71 |\n| 완산동    |  0.99 |\n| 우아1동   |  1.44 |\n| 우아2동   | 22.91 |\n| 인후1동   |  1.29 |\n| 인후2동   |  1.32 |\n| 인후3동   |  1.68 |\n| 조촌동    | 24.28 |\n| 중앙동    |  1.35 |\n| 중화산1동 |  1.22 |\n| 중화산2동 |  1.72 |\n| 진북동    |  1.71 |\n| 팔복동    |  7.38 |\n| 평화1동   |  1.49 |\n| 평화2동   | 15.23 |\n| 풍남동    |  2.05 |\n| 혁신동    |  3.37 |\n| 호성동    |  7.64 |\n| 효자1동   |  1.02 |\n| 효자2동   |  0.84 |\n| 효자3동   |  0.79 |\n| 효자4동   |  7.71 |\n| 효자5동   |  6.27 |\n\n",
            "text/html": [
              "<table class=\"dataframe\">\n",
              "<caption>A data.frame: 35 × 2</caption>\n",
              "<thead>\n",
              "\t<tr><th scope=col>행정동</th><th scope=col>면적.km</th></tr>\n",
              "\t<tr><th scope=col>&lt;chr&gt;</th><th scope=col>&lt;dbl&gt;</th></tr>\n",
              "</thead>\n",
              "<tbody>\n",
              "\t<tr><td>금암1동  </td><td> 1.25</td></tr>\n",
              "\t<tr><td>금암2동  </td><td> 1.25</td></tr>\n",
              "\t<tr><td>노송동   </td><td> 2.09</td></tr>\n",
              "\t<tr><td>덕진동   </td><td> 4.78</td></tr>\n",
              "\t<tr><td>동서학동 </td><td>15.64</td></tr>\n",
              "\t<tr><td>삼천1동  </td><td> 1.27</td></tr>\n",
              "\t<tr><td>삼천2동  </td><td> 0.95</td></tr>\n",
              "\t<tr><td>삼천3동  </td><td>26.60</td></tr>\n",
              "\t<tr><td>서서학동 </td><td> 2.97</td></tr>\n",
              "\t<tr><td>서신동   </td><td> 2.39</td></tr>\n",
              "\t<tr><td>송천1동  </td><td> 4.79</td></tr>\n",
              "\t<tr><td>송천2동  </td><td>12.14</td></tr>\n",
              "\t<tr><td>여의동   </td><td>15.71</td></tr>\n",
              "\t<tr><td>완산동   </td><td> 0.99</td></tr>\n",
              "\t<tr><td>우아1동  </td><td> 1.44</td></tr>\n",
              "\t<tr><td>우아2동  </td><td>22.91</td></tr>\n",
              "\t<tr><td>인후1동  </td><td> 1.29</td></tr>\n",
              "\t<tr><td>인후2동  </td><td> 1.32</td></tr>\n",
              "\t<tr><td>인후3동  </td><td> 1.68</td></tr>\n",
              "\t<tr><td>조촌동   </td><td>24.28</td></tr>\n",
              "\t<tr><td>중앙동   </td><td> 1.35</td></tr>\n",
              "\t<tr><td>중화산1동</td><td> 1.22</td></tr>\n",
              "\t<tr><td>중화산2동</td><td> 1.72</td></tr>\n",
              "\t<tr><td>진북동   </td><td> 1.71</td></tr>\n",
              "\t<tr><td>팔복동   </td><td> 7.38</td></tr>\n",
              "\t<tr><td>평화1동  </td><td> 1.49</td></tr>\n",
              "\t<tr><td>평화2동  </td><td>15.23</td></tr>\n",
              "\t<tr><td>풍남동   </td><td> 2.05</td></tr>\n",
              "\t<tr><td>혁신동   </td><td> 3.37</td></tr>\n",
              "\t<tr><td>호성동   </td><td> 7.64</td></tr>\n",
              "\t<tr><td>효자1동  </td><td> 1.02</td></tr>\n",
              "\t<tr><td>효자2동  </td><td> 0.84</td></tr>\n",
              "\t<tr><td>효자3동  </td><td> 0.79</td></tr>\n",
              "\t<tr><td>효자4동  </td><td> 7.71</td></tr>\n",
              "\t<tr><td>효자5동  </td><td> 6.27</td></tr>\n",
              "</tbody>\n",
              "</table>\n"
            ]
          },
          "metadata": {
            "tags": []
          }
        }
      ]
    },
    {
      "cell_type": "code",
      "metadata": {
        "colab": {
          "base_uri": "https://localhost:8080/",
          "height": 1000
        },
        "id": "NoD4h92z_9fj",
        "outputId": "8bfa71c5-ee92-4a19-f2bc-6f71523808b8"
      },
      "source": [
        "table(region$행정동 %in% jjdong)\n",
        "table(jjdong %in% region$행정동)\n",
        "\n",
        "region$행정동[region$행정동 %in% jjdong == FALSE] #jjdong에는 없는 region의 행정동 #이름 오류 있는 듯 (송청1동, 품남동)\n",
        "\n",
        "jjdong[jjdong %in% region$행정동 == FALSE] #region에는 없는 jjdong의 행정동\n",
        "\n",
        "region"
      ],
      "execution_count": 92,
      "outputs": [
        {
          "output_type": "display_data",
          "data": {
            "text/plain": [
              "\n",
              "TRUE \n",
              "  35 "
            ]
          },
          "metadata": {
            "tags": []
          }
        },
        {
          "output_type": "display_data",
          "data": {
            "text/plain": [
              "\n",
              "TRUE \n",
              "  35 "
            ]
          },
          "metadata": {
            "tags": []
          }
        },
        {
          "output_type": "display_data",
          "data": {
            "text/plain": [
              "character(0)"
            ],
            "text/latex": "",
            "text/markdown": "",
            "text/html": [
              ""
            ]
          },
          "metadata": {
            "tags": []
          }
        },
        {
          "output_type": "display_data",
          "data": {
            "text/plain": [
              "character(0)"
            ],
            "text/latex": "",
            "text/markdown": "",
            "text/html": [
              ""
            ]
          },
          "metadata": {
            "tags": []
          }
        },
        {
          "output_type": "display_data",
          "data": {
            "text/plain": [
              "   행정동    면적.km\n",
              "1  금암1동    1.25  \n",
              "2  금암2동    1.25  \n",
              "3  노송동     2.09  \n",
              "4  덕진동     4.78  \n",
              "5  동서학동  15.64  \n",
              "6  삼천1동    1.27  \n",
              "7  삼천2동    0.95  \n",
              "8  삼천3동   26.60  \n",
              "9  서서학동   2.97  \n",
              "10 서신동     2.39  \n",
              "11 송천1동    4.79  \n",
              "12 송천2동   12.14  \n",
              "13 여의동    15.71  \n",
              "14 완산동     0.99  \n",
              "15 우아1동    1.44  \n",
              "16 우아2동   22.91  \n",
              "17 인후1동    1.29  \n",
              "18 인후2동    1.32  \n",
              "19 인후3동    1.68  \n",
              "20 조촌동    24.28  \n",
              "21 중앙동     1.35  \n",
              "22 중화산1동  1.22  \n",
              "23 중화산2동  1.72  \n",
              "24 진북동     1.71  \n",
              "25 팔복동     7.38  \n",
              "26 평화1동    1.49  \n",
              "27 평화2동   15.23  \n",
              "28 풍남동     2.05  \n",
              "29 혁신동     3.37  \n",
              "30 호성동     7.64  \n",
              "31 효자1동    1.02  \n",
              "32 효자2동    0.84  \n",
              "33 효자3동    0.79  \n",
              "34 효자4동    7.71  \n",
              "35 효자5동    6.27  "
            ],
            "text/latex": "A data.frame: 35 × 2\n\\begin{tabular}{ll}\n 행정동 & 면적.km\\\\\n <chr> & <dbl>\\\\\n\\hline\n\t 금암1동   &  1.25\\\\\n\t 금암2동   &  1.25\\\\\n\t 노송동    &  2.09\\\\\n\t 덕진동    &  4.78\\\\\n\t 동서학동  & 15.64\\\\\n\t 삼천1동   &  1.27\\\\\n\t 삼천2동   &  0.95\\\\\n\t 삼천3동   & 26.60\\\\\n\t 서서학동  &  2.97\\\\\n\t 서신동    &  2.39\\\\\n\t 송천1동   &  4.79\\\\\n\t 송천2동   & 12.14\\\\\n\t 여의동    & 15.71\\\\\n\t 완산동    &  0.99\\\\\n\t 우아1동   &  1.44\\\\\n\t 우아2동   & 22.91\\\\\n\t 인후1동   &  1.29\\\\\n\t 인후2동   &  1.32\\\\\n\t 인후3동   &  1.68\\\\\n\t 조촌동    & 24.28\\\\\n\t 중앙동    &  1.35\\\\\n\t 중화산1동 &  1.22\\\\\n\t 중화산2동 &  1.72\\\\\n\t 진북동    &  1.71\\\\\n\t 팔복동    &  7.38\\\\\n\t 평화1동   &  1.49\\\\\n\t 평화2동   & 15.23\\\\\n\t 풍남동    &  2.05\\\\\n\t 혁신동    &  3.37\\\\\n\t 호성동    &  7.64\\\\\n\t 효자1동   &  1.02\\\\\n\t 효자2동   &  0.84\\\\\n\t 효자3동   &  0.79\\\\\n\t 효자4동   &  7.71\\\\\n\t 효자5동   &  6.27\\\\\n\\end{tabular}\n",
            "text/markdown": "\nA data.frame: 35 × 2\n\n| 행정동 &lt;chr&gt; | 면적.km &lt;dbl&gt; |\n|---|---|\n| 금암1동   |  1.25 |\n| 금암2동   |  1.25 |\n| 노송동    |  2.09 |\n| 덕진동    |  4.78 |\n| 동서학동  | 15.64 |\n| 삼천1동   |  1.27 |\n| 삼천2동   |  0.95 |\n| 삼천3동   | 26.60 |\n| 서서학동  |  2.97 |\n| 서신동    |  2.39 |\n| 송천1동   |  4.79 |\n| 송천2동   | 12.14 |\n| 여의동    | 15.71 |\n| 완산동    |  0.99 |\n| 우아1동   |  1.44 |\n| 우아2동   | 22.91 |\n| 인후1동   |  1.29 |\n| 인후2동   |  1.32 |\n| 인후3동   |  1.68 |\n| 조촌동    | 24.28 |\n| 중앙동    |  1.35 |\n| 중화산1동 |  1.22 |\n| 중화산2동 |  1.72 |\n| 진북동    |  1.71 |\n| 팔복동    |  7.38 |\n| 평화1동   |  1.49 |\n| 평화2동   | 15.23 |\n| 풍남동    |  2.05 |\n| 혁신동    |  3.37 |\n| 호성동    |  7.64 |\n| 효자1동   |  1.02 |\n| 효자2동   |  0.84 |\n| 효자3동   |  0.79 |\n| 효자4동   |  7.71 |\n| 효자5동   |  6.27 |\n\n",
            "text/html": [
              "<table class=\"dataframe\">\n",
              "<caption>A data.frame: 35 × 2</caption>\n",
              "<thead>\n",
              "\t<tr><th scope=col>행정동</th><th scope=col>면적.km</th></tr>\n",
              "\t<tr><th scope=col>&lt;chr&gt;</th><th scope=col>&lt;dbl&gt;</th></tr>\n",
              "</thead>\n",
              "<tbody>\n",
              "\t<tr><td>금암1동  </td><td> 1.25</td></tr>\n",
              "\t<tr><td>금암2동  </td><td> 1.25</td></tr>\n",
              "\t<tr><td>노송동   </td><td> 2.09</td></tr>\n",
              "\t<tr><td>덕진동   </td><td> 4.78</td></tr>\n",
              "\t<tr><td>동서학동 </td><td>15.64</td></tr>\n",
              "\t<tr><td>삼천1동  </td><td> 1.27</td></tr>\n",
              "\t<tr><td>삼천2동  </td><td> 0.95</td></tr>\n",
              "\t<tr><td>삼천3동  </td><td>26.60</td></tr>\n",
              "\t<tr><td>서서학동 </td><td> 2.97</td></tr>\n",
              "\t<tr><td>서신동   </td><td> 2.39</td></tr>\n",
              "\t<tr><td>송천1동  </td><td> 4.79</td></tr>\n",
              "\t<tr><td>송천2동  </td><td>12.14</td></tr>\n",
              "\t<tr><td>여의동   </td><td>15.71</td></tr>\n",
              "\t<tr><td>완산동   </td><td> 0.99</td></tr>\n",
              "\t<tr><td>우아1동  </td><td> 1.44</td></tr>\n",
              "\t<tr><td>우아2동  </td><td>22.91</td></tr>\n",
              "\t<tr><td>인후1동  </td><td> 1.29</td></tr>\n",
              "\t<tr><td>인후2동  </td><td> 1.32</td></tr>\n",
              "\t<tr><td>인후3동  </td><td> 1.68</td></tr>\n",
              "\t<tr><td>조촌동   </td><td>24.28</td></tr>\n",
              "\t<tr><td>중앙동   </td><td> 1.35</td></tr>\n",
              "\t<tr><td>중화산1동</td><td> 1.22</td></tr>\n",
              "\t<tr><td>중화산2동</td><td> 1.72</td></tr>\n",
              "\t<tr><td>진북동   </td><td> 1.71</td></tr>\n",
              "\t<tr><td>팔복동   </td><td> 7.38</td></tr>\n",
              "\t<tr><td>평화1동  </td><td> 1.49</td></tr>\n",
              "\t<tr><td>평화2동  </td><td>15.23</td></tr>\n",
              "\t<tr><td>풍남동   </td><td> 2.05</td></tr>\n",
              "\t<tr><td>혁신동   </td><td> 3.37</td></tr>\n",
              "\t<tr><td>호성동   </td><td> 7.64</td></tr>\n",
              "\t<tr><td>효자1동  </td><td> 1.02</td></tr>\n",
              "\t<tr><td>효자2동  </td><td> 0.84</td></tr>\n",
              "\t<tr><td>효자3동  </td><td> 0.79</td></tr>\n",
              "\t<tr><td>효자4동  </td><td> 7.71</td></tr>\n",
              "\t<tr><td>효자5동  </td><td> 6.27</td></tr>\n",
              "</tbody>\n",
              "</table>\n"
            ]
          },
          "metadata": {
            "tags": []
          }
        }
      ]
    },
    {
      "cell_type": "markdown",
      "metadata": {
        "id": "Koe59i5uNvcd"
      },
      "source": [
        "## 상권정보"
      ]
    },
    {
      "cell_type": "code",
      "metadata": {
        "id": "5TtZh74qNCvz",
        "outputId": "313e7a1a-9dfb-48e4-a6cc-509fb2c0be39",
        "colab": {
          "base_uri": "https://localhost:8080/",
          "height": 1000
        }
      },
      "source": [
        "str(store)\n",
        "head(store)"
      ],
      "execution_count": 98,
      "outputs": [
        {
          "output_type": "stream",
          "text": [
            "'data.frame':\t6503 obs. of  39 variables:\n",
            " $ 상가업소번호      : int  20763988 23959893 20776948 23035233 17174374 17174126 17174123 17173996 15501309 28490006 ...\n",
            " $ 상호명            : chr  \"공덕이발관\" \"MK디자인건축\" \"대영타일욕실나라\" \"코오롱세탁소\" ...\n",
            " $ 지점명            : chr  \"\" \"\" \"\" \"\" ...\n",
            " $ 상권업종대분류코드: chr  \"F\" \"D\" \"D\" \"F\" ...\n",
            " $ 상권업종대분류명  : chr  \"생활서비스\" \"소매\" \"소매\" \"생활서비스\" ...\n",
            " $ 상권업종중분류코드: chr  \"F01\" \"D07\" \"D07\" \"F02\" ...\n",
            " $ 상권업종중분류명  : chr  \"이/미용/건강\" \"가정/주방/인테리어\" \"가정/주방/인테리어\" \"세탁/가사서비스\" ...\n",
            " $ 상권업종소분류코드: chr  \"F01A04\" \"D07A15\" \"D07A01\" \"F02A01\" ...\n",
            " $ 상권업종소분류명  : chr  \"남성미용실\" \"유리/페인트/철물건축자재\" \"인테리어/욕실용품/커튼\" \"세탁소/빨래방\" ...\n",
            " $ 표준산업분류코드  : chr  \"S96111\" \"G47519\" \"G47599\" \"S96912\" ...\n",
            " $ 표준산업분류명    : chr  \"이용업\" \"페인트, 유리 및 기타 건설자재 소매업\" \"그외 기타 분류안된 가정용품 소매업\" \"가정용 세탁업\" ...\n",
            " $ 시도코드          : int  45 45 45 45 45 45 45 45 45 45 ...\n",
            " $ 시도명            : chr  \"전라북도\" \"전라북도\" \"전라북도\" \"전라북도\" ...\n",
            " $ 시군구코드        : int  45210 45140 45111 45130 45190 45710 45111 45113 45113 45140 ...\n",
            " $ 시군구명          : chr  \"김제시\" \"익산시\" \"전주시 완산구\" \"군산시\" ...\n",
            " $ 행정동코드        : num  4.52e+09 4.51e+09 4.51e+09 4.51e+09 4.52e+09 ...\n",
            " $ 행정동명          : chr  \"공덕면\" \"송학동\" \"평화2동\" \"미성동\" ...\n",
            " $ 법정동코드        : num  4.52e+09 4.51e+09 4.51e+09 4.51e+09 4.52e+09 ...\n",
            " $ 법정동명          : chr  \"공덕면\" \"송학동\" \"평화동1가\" \"산북동\" ...\n",
            " $ 지번코드          : num  4.52e+18 4.51e+18 4.51e+18 4.51e+18 4.52e+18 ...\n",
            " $ 대지구분코드      : int  1 1 1 1 1 1 1 1 1 1 ...\n",
            " $ 대지구분명        : chr  \"대지\" \"대지\" \"대지\" \"대지\" ...\n",
            " $ 지번본번지        : int  345 265 583 3618 437 268 417 602 1268 349 ...\n",
            " $ 지번부번지        : int  2 21 17 NA NA 3 7 48 NA 1 ...\n",
            " $ 지번주소          : chr  \"전라북도 김제시 공덕면 공덕리 345-2\" \"전라북도 익산시 송학동 265-21\" \"전라북도 전주시 완산구 평화동1가 583-17\" \"전라북도 군산시 산북동 3618\" ...\n",
            " $ 도로명코드        : num  4.52e+11 4.51e+11 4.51e+11 4.51e+11 4.52e+11 ...\n",
            " $ 도로명            : chr  \"전라북도 김제시 공덕면 공덕10길\" \"전라북도 익산시 군익로\" \"전라북도 전주시 완산구 장승배기로\" \"전라북도 군산시 산북로\" ...\n",
            " $ 건물본번지        : int  3 443 221 84 124 68 2 483 29 103 ...\n",
            " $ 건물부번지        : int  NA NA NA NA NA NA 27 NA NA NA ...\n",
            " $ 건물관리번호      : num  4.52e+24 4.51e+24 4.51e+24 4.51e+24 4.52e+24 ...\n",
            " $ 건물명            : chr  \"\" \"\" \"\" \"코오롱컴퓨터세탁\" ...\n",
            " $ 도로명주소        : chr  \"전라북도 김제시 공덕면 공덕10길 3\" \"전라북도 익산시 군익로 443\" \"전라북도 전주시 완산구 장승배기로 221\" \"전라북도 군산시 산북로 84\" ...\n",
            " $ 구우편번호        : int  576921 570080 560842 573888 590090 565805 560809 561823 561761 570964 ...\n",
            " $ 신우편번호        : int  54320 54658 55106 54166 55795 55337 55137 54905 54828 54598 ...\n",
            " $ 동정보            : chr  \"\" \"\" \"\" \"\" ...\n",
            " $ 층정보            : int  NA NA NA NA NA NA NA 1 NA 1 ...\n",
            " $ 호정보            : chr  \"\" \"\" \"\" \"\" ...\n",
            " $ 경도              : num  127 127 127 127 127 ...\n",
            " $ 위도              : num  35.9 35.9 35.8 36 35.4 ...\n"
          ],
          "name": "stdout"
        },
        {
          "output_type": "display_data",
          "data": {
            "text/plain": [
              "  상가업소번호 상호명           지점명 상권업종대분류코드 상권업종대분류명\n",
              "1 20763988     공덕이발관              F                  생활서비스      \n",
              "2 23959893     MK디자인건축            D                  소매            \n",
              "3 20776948     대영타일욕실나라        D                  소매            \n",
              "4 23035233     코오롱세탁소            F                  생활서비스      \n",
              "5 17174374     산리지호텔              O                  숙박            \n",
              "6 17174126     휴앤안                  Q                  음식            \n",
              "  상권업종중분류코드 상권업종중분류명   상권업종소분류코드\n",
              "1 F01                이/미용/건강       F01A04            \n",
              "2 D07                가정/주방/인테리어 D07A15            \n",
              "3 D07                가정/주방/인테리어 D07A01            \n",
              "4 F02                세탁/가사서비스    F02A01            \n",
              "5 O01                호텔/콘도          O01A01            \n",
              "6 Q01                한식               Q01A01            \n",
              "  상권업종소분류명         표준산업분류코드 ⋯ 건물관리번호 건물명          \n",
              "1 남성미용실               S96111           ⋯ 4.52104e+24                  \n",
              "2 유리/페인트/철물건축자재 G47519           ⋯ 4.51401e+24                  \n",
              "3 인테리어/욕실용품/커튼   G47599           ⋯ 4.51111e+24                  \n",
              "4 세탁소/빨래방            S96912           ⋯ 4.51302e+24  코오롱컴퓨터세탁\n",
              "5 호텔/콘도                                 ⋯ 4.51901e+24  남원국민호텔    \n",
              "6 한식/백반/한정식         I56111           ⋯ 4.57103e+24                  \n",
              "  도로명주소                            구우편번호 신우편번호 동정보 층정보\n",
              "1 전라북도 김제시 공덕면 공덕10길 3     576921     54320             NA    \n",
              "2 전라북도 익산시 군익로 443            570080     54658             NA    \n",
              "3 전라북도 전주시 완산구 장승배기로 221 560842     55106             NA    \n",
              "4 전라북도 군산시 산북로 84             573888     54166             NA    \n",
              "5 전라북도 남원시 소리길 124            590090     55795             NA    \n",
              "6 전라북도 완주군 삼례읍 후정로 68      565805     55337             NA    \n",
              "  호정보 경도     위도    \n",
              "1        126.9116 35.89290\n",
              "2        126.9348 35.94407\n",
              "3        127.1366 35.79722\n",
              "4        126.6745 35.96077\n",
              "5        127.3900 35.40659\n",
              "6        127.0655 35.90843"
            ],
            "text/latex": "A data.frame: 6 × 39\n\\begin{tabular}{r|lllllllllllllllllllll}\n  & 상가업소번호 & 상호명 & 지점명 & 상권업종대분류코드 & 상권업종대분류명 & 상권업종중분류코드 & 상권업종중분류명 & 상권업종소분류코드 & 상권업종소분류명 & 표준산업분류코드 & ⋯ & 건물관리번호 & 건물명 & 도로명주소 & 구우편번호 & 신우편번호 & 동정보 & 층정보 & 호정보 & 경도 & 위도\\\\\n  & <int> & <chr> & <chr> & <chr> & <chr> & <chr> & <chr> & <chr> & <chr> & <chr> & ⋯ & <dbl> & <chr> & <chr> & <int> & <int> & <chr> & <int> & <chr> & <dbl> & <dbl>\\\\\n\\hline\n\t1 & 20763988 & 공덕이발관       &  & F & 생활서비스 & F01 & 이/미용/건강       & F01A04 & 남성미용실               & S96111 & ⋯ & 4.52104e+24 &                  & 전라북도 김제시 공덕면 공덕10길 3     & 576921 & 54320 &  & NA &  & 126.9116 & 35.89290\\\\\n\t2 & 23959893 & MK디자인건축     &  & D & 소매       & D07 & 가정/주방/인테리어 & D07A15 & 유리/페인트/철물건축자재 & G47519 & ⋯ & 4.51401e+24 &                  & 전라북도 익산시 군익로 443            & 570080 & 54658 &  & NA &  & 126.9348 & 35.94407\\\\\n\t3 & 20776948 & 대영타일욕실나라 &  & D & 소매       & D07 & 가정/주방/인테리어 & D07A01 & 인테리어/욕실용품/커튼   & G47599 & ⋯ & 4.51111e+24 &                  & 전라북도 전주시 완산구 장승배기로 221 & 560842 & 55106 &  & NA &  & 127.1366 & 35.79722\\\\\n\t4 & 23035233 & 코오롱세탁소     &  & F & 생활서비스 & F02 & 세탁/가사서비스    & F02A01 & 세탁소/빨래방            & S96912 & ⋯ & 4.51302e+24 & 코오롱컴퓨터세탁 & 전라북도 군산시 산북로 84             & 573888 & 54166 &  & NA &  & 126.6745 & 35.96077\\\\\n\t5 & 17174374 & 산리지호텔       &  & O & 숙박       & O01 & 호텔/콘도          & O01A01 & 호텔/콘도                &        & ⋯ & 4.51901e+24 & 남원국민호텔     & 전라북도 남원시 소리길 124            & 590090 & 55795 &  & NA &  & 127.3900 & 35.40659\\\\\n\t6 & 17174126 & 휴앤안           &  & Q & 음식       & Q01 & 한식               & Q01A01 & 한식/백반/한정식         & I56111 & ⋯ & 4.57103e+24 &                  & 전라북도 완주군 삼례읍 후정로 68      & 565805 & 55337 &  & NA &  & 127.0655 & 35.90843\\\\\n\\end{tabular}\n",
            "text/markdown": "\nA data.frame: 6 × 39\n\n| <!--/--> | 상가업소번호 &lt;int&gt; | 상호명 &lt;chr&gt; | 지점명 &lt;chr&gt; | 상권업종대분류코드 &lt;chr&gt; | 상권업종대분류명 &lt;chr&gt; | 상권업종중분류코드 &lt;chr&gt; | 상권업종중분류명 &lt;chr&gt; | 상권업종소분류코드 &lt;chr&gt; | 상권업종소분류명 &lt;chr&gt; | 표준산업분류코드 &lt;chr&gt; | ⋯ ⋯ | 건물관리번호 &lt;dbl&gt; | 건물명 &lt;chr&gt; | 도로명주소 &lt;chr&gt; | 구우편번호 &lt;int&gt; | 신우편번호 &lt;int&gt; | 동정보 &lt;chr&gt; | 층정보 &lt;int&gt; | 호정보 &lt;chr&gt; | 경도 &lt;dbl&gt; | 위도 &lt;dbl&gt; |\n|---|---|---|---|---|---|---|---|---|---|---|---|---|---|---|---|---|---|---|---|---|---|\n| 1 | 20763988 | 공덕이발관       | <!----> | F | 생활서비스 | F01 | 이/미용/건강       | F01A04 | 남성미용실               | S96111 | ⋯ | 4.52104e+24 | <!----> | 전라북도 김제시 공덕면 공덕10길 3     | 576921 | 54320 | <!----> | NA | <!----> | 126.9116 | 35.89290 |\n| 2 | 23959893 | MK디자인건축     | <!----> | D | 소매       | D07 | 가정/주방/인테리어 | D07A15 | 유리/페인트/철물건축자재 | G47519 | ⋯ | 4.51401e+24 | <!----> | 전라북도 익산시 군익로 443            | 570080 | 54658 | <!----> | NA | <!----> | 126.9348 | 35.94407 |\n| 3 | 20776948 | 대영타일욕실나라 | <!----> | D | 소매       | D07 | 가정/주방/인테리어 | D07A01 | 인테리어/욕실용품/커튼   | G47599 | ⋯ | 4.51111e+24 | <!----> | 전라북도 전주시 완산구 장승배기로 221 | 560842 | 55106 | <!----> | NA | <!----> | 127.1366 | 35.79722 |\n| 4 | 23035233 | 코오롱세탁소     | <!----> | F | 생활서비스 | F02 | 세탁/가사서비스    | F02A01 | 세탁소/빨래방            | S96912 | ⋯ | 4.51302e+24 | 코오롱컴퓨터세탁 | 전라북도 군산시 산북로 84             | 573888 | 54166 | <!----> | NA | <!----> | 126.6745 | 35.96077 |\n| 5 | 17174374 | 산리지호텔       | <!----> | O | 숙박       | O01 | 호텔/콘도          | O01A01 | 호텔/콘도                | <!----> | ⋯ | 4.51901e+24 | 남원국민호텔     | 전라북도 남원시 소리길 124            | 590090 | 55795 | <!----> | NA | <!----> | 127.3900 | 35.40659 |\n| 6 | 17174126 | 휴앤안           | <!----> | Q | 음식       | Q01 | 한식               | Q01A01 | 한식/백반/한정식         | I56111 | ⋯ | 4.57103e+24 | <!----> | 전라북도 완주군 삼례읍 후정로 68      | 565805 | 55337 | <!----> | NA | <!----> | 127.0655 | 35.90843 |\n\n",
            "text/html": [
              "<table class=\"dataframe\">\n",
              "<caption>A data.frame: 6 × 39</caption>\n",
              "<thead>\n",
              "\t<tr><th></th><th scope=col>상가업소번호</th><th scope=col>상호명</th><th scope=col>지점명</th><th scope=col>상권업종대분류코드</th><th scope=col>상권업종대분류명</th><th scope=col>상권업종중분류코드</th><th scope=col>상권업종중분류명</th><th scope=col>상권업종소분류코드</th><th scope=col>상권업종소분류명</th><th scope=col>표준산업분류코드</th><th scope=col>⋯</th><th scope=col>건물관리번호</th><th scope=col>건물명</th><th scope=col>도로명주소</th><th scope=col>구우편번호</th><th scope=col>신우편번호</th><th scope=col>동정보</th><th scope=col>층정보</th><th scope=col>호정보</th><th scope=col>경도</th><th scope=col>위도</th></tr>\n",
              "\t<tr><th></th><th scope=col>&lt;int&gt;</th><th scope=col>&lt;chr&gt;</th><th scope=col>&lt;chr&gt;</th><th scope=col>&lt;chr&gt;</th><th scope=col>&lt;chr&gt;</th><th scope=col>&lt;chr&gt;</th><th scope=col>&lt;chr&gt;</th><th scope=col>&lt;chr&gt;</th><th scope=col>&lt;chr&gt;</th><th scope=col>&lt;chr&gt;</th><th scope=col>⋯</th><th scope=col>&lt;dbl&gt;</th><th scope=col>&lt;chr&gt;</th><th scope=col>&lt;chr&gt;</th><th scope=col>&lt;int&gt;</th><th scope=col>&lt;int&gt;</th><th scope=col>&lt;chr&gt;</th><th scope=col>&lt;int&gt;</th><th scope=col>&lt;chr&gt;</th><th scope=col>&lt;dbl&gt;</th><th scope=col>&lt;dbl&gt;</th></tr>\n",
              "</thead>\n",
              "<tbody>\n",
              "\t<tr><th scope=row>1</th><td>20763988</td><td>공덕이발관      </td><td></td><td>F</td><td>생활서비스</td><td>F01</td><td>이/미용/건강      </td><td>F01A04</td><td>남성미용실              </td><td>S96111</td><td>⋯</td><td>4.52104e+24</td><td>                </td><td>전라북도 김제시 공덕면 공덕10길 3    </td><td>576921</td><td>54320</td><td></td><td>NA</td><td></td><td>126.9116</td><td>35.89290</td></tr>\n",
              "\t<tr><th scope=row>2</th><td>23959893</td><td>MK디자인건축    </td><td></td><td>D</td><td>소매      </td><td>D07</td><td>가정/주방/인테리어</td><td>D07A15</td><td>유리/페인트/철물건축자재</td><td>G47519</td><td>⋯</td><td>4.51401e+24</td><td>                </td><td>전라북도 익산시 군익로 443           </td><td>570080</td><td>54658</td><td></td><td>NA</td><td></td><td>126.9348</td><td>35.94407</td></tr>\n",
              "\t<tr><th scope=row>3</th><td>20776948</td><td>대영타일욕실나라</td><td></td><td>D</td><td>소매      </td><td>D07</td><td>가정/주방/인테리어</td><td>D07A01</td><td>인테리어/욕실용품/커튼  </td><td>G47599</td><td>⋯</td><td>4.51111e+24</td><td>                </td><td>전라북도 전주시 완산구 장승배기로 221</td><td>560842</td><td>55106</td><td></td><td>NA</td><td></td><td>127.1366</td><td>35.79722</td></tr>\n",
              "\t<tr><th scope=row>4</th><td>23035233</td><td>코오롱세탁소    </td><td></td><td>F</td><td>생활서비스</td><td>F02</td><td>세탁/가사서비스   </td><td>F02A01</td><td>세탁소/빨래방           </td><td>S96912</td><td>⋯</td><td>4.51302e+24</td><td>코오롱컴퓨터세탁</td><td>전라북도 군산시 산북로 84            </td><td>573888</td><td>54166</td><td></td><td>NA</td><td></td><td>126.6745</td><td>35.96077</td></tr>\n",
              "\t<tr><th scope=row>5</th><td>17174374</td><td>산리지호텔      </td><td></td><td>O</td><td>숙박      </td><td>O01</td><td>호텔/콘도         </td><td>O01A01</td><td>호텔/콘도               </td><td>      </td><td>⋯</td><td>4.51901e+24</td><td>남원국민호텔    </td><td>전라북도 남원시 소리길 124           </td><td>590090</td><td>55795</td><td></td><td>NA</td><td></td><td>127.3900</td><td>35.40659</td></tr>\n",
              "\t<tr><th scope=row>6</th><td>17174126</td><td>휴앤안          </td><td></td><td>Q</td><td>음식      </td><td>Q01</td><td>한식              </td><td>Q01A01</td><td>한식/백반/한정식        </td><td>I56111</td><td>⋯</td><td>4.57103e+24</td><td>                </td><td>전라북도 완주군 삼례읍 후정로 68     </td><td>565805</td><td>55337</td><td></td><td>NA</td><td></td><td>127.0655</td><td>35.90843</td></tr>\n",
              "</tbody>\n",
              "</table>\n"
            ]
          },
          "metadata": {
            "tags": []
          }
        }
      ]
    },
    {
      "cell_type": "markdown",
      "metadata": {
        "id": "C24kC4czNzYA"
      },
      "source": [
        "1 store의 변수명 확인\n",
        "\n",
        "2 필요한 변수들 추출\n",
        "\n",
        "▼"
      ]
    },
    {
      "cell_type": "code",
      "metadata": {
        "id": "sUbf7fiWNQvs",
        "outputId": "5c8a1da1-e564-4362-85aa-c2b54aa3da53",
        "colab": {
          "base_uri": "https://localhost:8080/",
          "height": 722
        }
      },
      "source": [
        "names(store)\n",
        "store <- store[, c(1,2,5,7,9,11,13,15,17,19,32,38,39)]\n",
        "str(store)\n",
        "head(store)"
      ],
      "execution_count": 99,
      "outputs": [
        {
          "output_type": "display_data",
          "data": {
            "text/plain": [
              " [1] \"상가업소번호\"       \"상호명\"             \"지점명\"            \n",
              " [4] \"상권업종대분류코드\" \"상권업종대분류명\"   \"상권업종중분류코드\"\n",
              " [7] \"상권업종중분류명\"   \"상권업종소분류코드\" \"상권업종소분류명\"  \n",
              "[10] \"표준산업분류코드\"   \"표준산업분류명\"     \"시도코드\"          \n",
              "[13] \"시도명\"             \"시군구코드\"         \"시군구명\"          \n",
              "[16] \"행정동코드\"         \"행정동명\"           \"법정동코드\"        \n",
              "[19] \"법정동명\"           \"지번코드\"           \"대지구분코드\"      \n",
              "[22] \"대지구분명\"         \"지번본번지\"         \"지번부번지\"        \n",
              "[25] \"지번주소\"           \"도로명코드\"         \"도로명\"            \n",
              "[28] \"건물본번지\"         \"건물부번지\"         \"건물관리번호\"      \n",
              "[31] \"건물명\"             \"도로명주소\"         \"구우편번호\"        \n",
              "[34] \"신우편번호\"         \"동정보\"             \"층정보\"            \n",
              "[37] \"호정보\"             \"경도\"               \"위도\"              "
            ],
            "text/latex": "\\begin{enumerate*}\n\\item '상가업소번호'\n\\item '상호명'\n\\item '지점명'\n\\item '상권업종대분류코드'\n\\item '상권업종대분류명'\n\\item '상권업종중분류코드'\n\\item '상권업종중분류명'\n\\item '상권업종소분류코드'\n\\item '상권업종소분류명'\n\\item '표준산업분류코드'\n\\item '표준산업분류명'\n\\item '시도코드'\n\\item '시도명'\n\\item '시군구코드'\n\\item '시군구명'\n\\item '행정동코드'\n\\item '행정동명'\n\\item '법정동코드'\n\\item '법정동명'\n\\item '지번코드'\n\\item '대지구분코드'\n\\item '대지구분명'\n\\item '지번본번지'\n\\item '지번부번지'\n\\item '지번주소'\n\\item '도로명코드'\n\\item '도로명'\n\\item '건물본번지'\n\\item '건물부번지'\n\\item '건물관리번호'\n\\item '건물명'\n\\item '도로명주소'\n\\item '구우편번호'\n\\item '신우편번호'\n\\item '동정보'\n\\item '층정보'\n\\item '호정보'\n\\item '경도'\n\\item '위도'\n\\end{enumerate*}\n",
            "text/markdown": "1. '상가업소번호'\n2. '상호명'\n3. '지점명'\n4. '상권업종대분류코드'\n5. '상권업종대분류명'\n6. '상권업종중분류코드'\n7. '상권업종중분류명'\n8. '상권업종소분류코드'\n9. '상권업종소분류명'\n10. '표준산업분류코드'\n11. '표준산업분류명'\n12. '시도코드'\n13. '시도명'\n14. '시군구코드'\n15. '시군구명'\n16. '행정동코드'\n17. '행정동명'\n18. '법정동코드'\n19. '법정동명'\n20. '지번코드'\n21. '대지구분코드'\n22. '대지구분명'\n23. '지번본번지'\n24. '지번부번지'\n25. '지번주소'\n26. '도로명코드'\n27. '도로명'\n28. '건물본번지'\n29. '건물부번지'\n30. '건물관리번호'\n31. '건물명'\n32. '도로명주소'\n33. '구우편번호'\n34. '신우편번호'\n35. '동정보'\n36. '층정보'\n37. '호정보'\n38. '경도'\n39. '위도'\n\n\n",
            "text/html": [
              "<style>\n",
              ".list-inline {list-style: none; margin:0; padding: 0}\n",
              ".list-inline>li {display: inline-block}\n",
              ".list-inline>li:not(:last-child)::after {content: \"\\00b7\"; padding: 0 .5ex}\n",
              "</style>\n",
              "<ol class=list-inline><li>'상가업소번호'</li><li>'상호명'</li><li>'지점명'</li><li>'상권업종대분류코드'</li><li>'상권업종대분류명'</li><li>'상권업종중분류코드'</li><li>'상권업종중분류명'</li><li>'상권업종소분류코드'</li><li>'상권업종소분류명'</li><li>'표준산업분류코드'</li><li>'표준산업분류명'</li><li>'시도코드'</li><li>'시도명'</li><li>'시군구코드'</li><li>'시군구명'</li><li>'행정동코드'</li><li>'행정동명'</li><li>'법정동코드'</li><li>'법정동명'</li><li>'지번코드'</li><li>'대지구분코드'</li><li>'대지구분명'</li><li>'지번본번지'</li><li>'지번부번지'</li><li>'지번주소'</li><li>'도로명코드'</li><li>'도로명'</li><li>'건물본번지'</li><li>'건물부번지'</li><li>'건물관리번호'</li><li>'건물명'</li><li>'도로명주소'</li><li>'구우편번호'</li><li>'신우편번호'</li><li>'동정보'</li><li>'층정보'</li><li>'호정보'</li><li>'경도'</li><li>'위도'</li></ol>\n"
            ]
          },
          "metadata": {
            "tags": []
          }
        },
        {
          "output_type": "stream",
          "text": [
            "'data.frame':\t6503 obs. of  13 variables:\n",
            " $ 상가업소번호    : int  20763988 23959893 20776948 23035233 17174374 17174126 17174123 17173996 15501309 28490006 ...\n",
            " $ 상호명          : chr  \"공덕이발관\" \"MK디자인건축\" \"대영타일욕실나라\" \"코오롱세탁소\" ...\n",
            " $ 상권업종대분류명: chr  \"생활서비스\" \"소매\" \"소매\" \"생활서비스\" ...\n",
            " $ 상권업종중분류명: chr  \"이/미용/건강\" \"가정/주방/인테리어\" \"가정/주방/인테리어\" \"세탁/가사서비스\" ...\n",
            " $ 상권업종소분류명: chr  \"남성미용실\" \"유리/페인트/철물건축자재\" \"인테리어/욕실용품/커튼\" \"세탁소/빨래방\" ...\n",
            " $ 표준산업분류명  : chr  \"이용업\" \"페인트, 유리 및 기타 건설자재 소매업\" \"그외 기타 분류안된 가정용품 소매업\" \"가정용 세탁업\" ...\n",
            " $ 시도명          : chr  \"전라북도\" \"전라북도\" \"전라북도\" \"전라북도\" ...\n",
            " $ 시군구명        : chr  \"김제시\" \"익산시\" \"전주시 완산구\" \"군산시\" ...\n",
            " $ 행정동명        : chr  \"공덕면\" \"송학동\" \"평화2동\" \"미성동\" ...\n",
            " $ 법정동명        : chr  \"공덕면\" \"송학동\" \"평화동1가\" \"산북동\" ...\n",
            " $ 도로명주소      : chr  \"전라북도 김제시 공덕면 공덕10길 3\" \"전라북도 익산시 군익로 443\" \"전라북도 전주시 완산구 장승배기로 221\" \"전라북도 군산시 산북로 84\" ...\n",
            " $ 경도            : num  127 127 127 127 127 ...\n",
            " $ 위도            : num  35.9 35.9 35.8 36 35.4 ...\n"
          ],
          "name": "stdout"
        },
        {
          "output_type": "display_data",
          "data": {
            "text/plain": [
              "  상가업소번호 상호명           상권업종대분류명 상권업종중분류명  \n",
              "1 20763988     공덕이발관       생활서비스       이/미용/건강      \n",
              "2 23959893     MK디자인건축     소매             가정/주방/인테리어\n",
              "3 20776948     대영타일욕실나라 소매             가정/주방/인테리어\n",
              "4 23035233     코오롱세탁소     생활서비스       세탁/가사서비스   \n",
              "5 17174374     산리지호텔       숙박             호텔/콘도         \n",
              "6 17174126     휴앤안           음식             한식              \n",
              "  상권업종소분류명         표준산업분류명                       시도명  \n",
              "1 남성미용실               이용업                               전라북도\n",
              "2 유리/페인트/철물건축자재 페인트, 유리 및 기타 건설자재 소매업 전라북도\n",
              "3 인테리어/욕실용품/커튼   그외 기타 분류안된 가정용품 소매업   전라북도\n",
              "4 세탁소/빨래방            가정용 세탁업                        전라북도\n",
              "5 호텔/콘도                                                     전라북도\n",
              "6 한식/백반/한정식         한식 음식점업                        전라북도\n",
              "  시군구명      행정동명 법정동명  도로명주소                           \n",
              "1 김제시        공덕면   공덕면    전라북도 김제시 공덕면 공덕10길 3    \n",
              "2 익산시        송학동   송학동    전라북도 익산시 군익로 443           \n",
              "3 전주시 완산구 평화2동  평화동1가 전라북도 전주시 완산구 장승배기로 221\n",
              "4 군산시        미성동   산북동    전라북도 군산시 산북로 84            \n",
              "5 남원시        노암동   신촌동    전라북도 남원시 소리길 124           \n",
              "6 완주군        삼례읍   삼례읍    전라북도 완주군 삼례읍 후정로 68     \n",
              "  경도     위도    \n",
              "1 126.9116 35.89290\n",
              "2 126.9348 35.94407\n",
              "3 127.1366 35.79722\n",
              "4 126.6745 35.96077\n",
              "5 127.3900 35.40659\n",
              "6 127.0655 35.90843"
            ],
            "text/latex": "A data.frame: 6 × 13\n\\begin{tabular}{r|lllllllllllll}\n  & 상가업소번호 & 상호명 & 상권업종대분류명 & 상권업종중분류명 & 상권업종소분류명 & 표준산업분류명 & 시도명 & 시군구명 & 행정동명 & 법정동명 & 도로명주소 & 경도 & 위도\\\\\n  & <int> & <chr> & <chr> & <chr> & <chr> & <chr> & <chr> & <chr> & <chr> & <chr> & <chr> & <dbl> & <dbl>\\\\\n\\hline\n\t1 & 20763988 & 공덕이발관       & 생활서비스 & 이/미용/건강       & 남성미용실               & 이용업                               & 전라북도 & 김제시        & 공덕면  & 공덕면    & 전라북도 김제시 공덕면 공덕10길 3     & 126.9116 & 35.89290\\\\\n\t2 & 23959893 & MK디자인건축     & 소매       & 가정/주방/인테리어 & 유리/페인트/철물건축자재 & 페인트, 유리 및 기타 건설자재 소매업 & 전라북도 & 익산시        & 송학동  & 송학동    & 전라북도 익산시 군익로 443            & 126.9348 & 35.94407\\\\\n\t3 & 20776948 & 대영타일욕실나라 & 소매       & 가정/주방/인테리어 & 인테리어/욕실용품/커튼   & 그외 기타 분류안된 가정용품 소매업   & 전라북도 & 전주시 완산구 & 평화2동 & 평화동1가 & 전라북도 전주시 완산구 장승배기로 221 & 127.1366 & 35.79722\\\\\n\t4 & 23035233 & 코오롱세탁소     & 생활서비스 & 세탁/가사서비스    & 세탁소/빨래방            & 가정용 세탁업                        & 전라북도 & 군산시        & 미성동  & 산북동    & 전라북도 군산시 산북로 84             & 126.6745 & 35.96077\\\\\n\t5 & 17174374 & 산리지호텔       & 숙박       & 호텔/콘도          & 호텔/콘도                &                                      & 전라북도 & 남원시        & 노암동  & 신촌동    & 전라북도 남원시 소리길 124            & 127.3900 & 35.40659\\\\\n\t6 & 17174126 & 휴앤안           & 음식       & 한식               & 한식/백반/한정식         & 한식 음식점업                        & 전라북도 & 완주군        & 삼례읍  & 삼례읍    & 전라북도 완주군 삼례읍 후정로 68      & 127.0655 & 35.90843\\\\\n\\end{tabular}\n",
            "text/markdown": "\nA data.frame: 6 × 13\n\n| <!--/--> | 상가업소번호 &lt;int&gt; | 상호명 &lt;chr&gt; | 상권업종대분류명 &lt;chr&gt; | 상권업종중분류명 &lt;chr&gt; | 상권업종소분류명 &lt;chr&gt; | 표준산업분류명 &lt;chr&gt; | 시도명 &lt;chr&gt; | 시군구명 &lt;chr&gt; | 행정동명 &lt;chr&gt; | 법정동명 &lt;chr&gt; | 도로명주소 &lt;chr&gt; | 경도 &lt;dbl&gt; | 위도 &lt;dbl&gt; |\n|---|---|---|---|---|---|---|---|---|---|---|---|---|---|\n| 1 | 20763988 | 공덕이발관       | 생활서비스 | 이/미용/건강       | 남성미용실               | 이용업                               | 전라북도 | 김제시        | 공덕면  | 공덕면    | 전라북도 김제시 공덕면 공덕10길 3     | 126.9116 | 35.89290 |\n| 2 | 23959893 | MK디자인건축     | 소매       | 가정/주방/인테리어 | 유리/페인트/철물건축자재 | 페인트, 유리 및 기타 건설자재 소매업 | 전라북도 | 익산시        | 송학동  | 송학동    | 전라북도 익산시 군익로 443            | 126.9348 | 35.94407 |\n| 3 | 20776948 | 대영타일욕실나라 | 소매       | 가정/주방/인테리어 | 인테리어/욕실용품/커튼   | 그외 기타 분류안된 가정용품 소매업   | 전라북도 | 전주시 완산구 | 평화2동 | 평화동1가 | 전라북도 전주시 완산구 장승배기로 221 | 127.1366 | 35.79722 |\n| 4 | 23035233 | 코오롱세탁소     | 생활서비스 | 세탁/가사서비스    | 세탁소/빨래방            | 가정용 세탁업                        | 전라북도 | 군산시        | 미성동  | 산북동    | 전라북도 군산시 산북로 84             | 126.6745 | 35.96077 |\n| 5 | 17174374 | 산리지호텔       | 숙박       | 호텔/콘도          | 호텔/콘도                | <!----> | 전라북도 | 남원시        | 노암동  | 신촌동    | 전라북도 남원시 소리길 124            | 127.3900 | 35.40659 |\n| 6 | 17174126 | 휴앤안           | 음식       | 한식               | 한식/백반/한정식         | 한식 음식점업                        | 전라북도 | 완주군        | 삼례읍  | 삼례읍    | 전라북도 완주군 삼례읍 후정로 68      | 127.0655 | 35.90843 |\n\n",
            "text/html": [
              "<table class=\"dataframe\">\n",
              "<caption>A data.frame: 6 × 13</caption>\n",
              "<thead>\n",
              "\t<tr><th></th><th scope=col>상가업소번호</th><th scope=col>상호명</th><th scope=col>상권업종대분류명</th><th scope=col>상권업종중분류명</th><th scope=col>상권업종소분류명</th><th scope=col>표준산업분류명</th><th scope=col>시도명</th><th scope=col>시군구명</th><th scope=col>행정동명</th><th scope=col>법정동명</th><th scope=col>도로명주소</th><th scope=col>경도</th><th scope=col>위도</th></tr>\n",
              "\t<tr><th></th><th scope=col>&lt;int&gt;</th><th scope=col>&lt;chr&gt;</th><th scope=col>&lt;chr&gt;</th><th scope=col>&lt;chr&gt;</th><th scope=col>&lt;chr&gt;</th><th scope=col>&lt;chr&gt;</th><th scope=col>&lt;chr&gt;</th><th scope=col>&lt;chr&gt;</th><th scope=col>&lt;chr&gt;</th><th scope=col>&lt;chr&gt;</th><th scope=col>&lt;chr&gt;</th><th scope=col>&lt;dbl&gt;</th><th scope=col>&lt;dbl&gt;</th></tr>\n",
              "</thead>\n",
              "<tbody>\n",
              "\t<tr><th scope=row>1</th><td>20763988</td><td>공덕이발관      </td><td>생활서비스</td><td>이/미용/건강      </td><td>남성미용실              </td><td>이용업                              </td><td>전라북도</td><td>김제시       </td><td>공덕면 </td><td>공덕면   </td><td>전라북도 김제시 공덕면 공덕10길 3    </td><td>126.9116</td><td>35.89290</td></tr>\n",
              "\t<tr><th scope=row>2</th><td>23959893</td><td>MK디자인건축    </td><td>소매      </td><td>가정/주방/인테리어</td><td>유리/페인트/철물건축자재</td><td>페인트, 유리 및 기타 건설자재 소매업</td><td>전라북도</td><td>익산시       </td><td>송학동 </td><td>송학동   </td><td>전라북도 익산시 군익로 443           </td><td>126.9348</td><td>35.94407</td></tr>\n",
              "\t<tr><th scope=row>3</th><td>20776948</td><td>대영타일욕실나라</td><td>소매      </td><td>가정/주방/인테리어</td><td>인테리어/욕실용품/커튼  </td><td>그외 기타 분류안된 가정용품 소매업  </td><td>전라북도</td><td>전주시 완산구</td><td>평화2동</td><td>평화동1가</td><td>전라북도 전주시 완산구 장승배기로 221</td><td>127.1366</td><td>35.79722</td></tr>\n",
              "\t<tr><th scope=row>4</th><td>23035233</td><td>코오롱세탁소    </td><td>생활서비스</td><td>세탁/가사서비스   </td><td>세탁소/빨래방           </td><td>가정용 세탁업                       </td><td>전라북도</td><td>군산시       </td><td>미성동 </td><td>산북동   </td><td>전라북도 군산시 산북로 84            </td><td>126.6745</td><td>35.96077</td></tr>\n",
              "\t<tr><th scope=row>5</th><td>17174374</td><td>산리지호텔      </td><td>숙박      </td><td>호텔/콘도         </td><td>호텔/콘도               </td><td>                                    </td><td>전라북도</td><td>남원시       </td><td>노암동 </td><td>신촌동   </td><td>전라북도 남원시 소리길 124           </td><td>127.3900</td><td>35.40659</td></tr>\n",
              "\t<tr><th scope=row>6</th><td>17174126</td><td>휴앤안          </td><td>음식      </td><td>한식              </td><td>한식/백반/한정식        </td><td>한식 음식점업                       </td><td>전라북도</td><td>완주군       </td><td>삼례읍 </td><td>삼례읍   </td><td>전라북도 완주군 삼례읍 후정로 68     </td><td>127.0655</td><td>35.90843</td></tr>\n",
              "</tbody>\n",
              "</table>\n"
            ]
          },
          "metadata": {
            "tags": []
          }
        }
      ]
    },
    {
      "cell_type": "markdown",
      "metadata": {
        "id": "Kwyl2vt8N6je"
      },
      "source": [
        "▼ store의 시군구명 중 '전주'를 포함하는 데이터 추출"
      ]
    },
    {
      "cell_type": "code",
      "metadata": {
        "id": "S6Dn5Q4dNZr-",
        "outputId": "7938ee80-abdc-49e8-8723-4e93176cb230",
        "colab": {
          "base_uri": "https://localhost:8080/",
          "height": 406
        }
      },
      "source": [
        "store <- store[grep(\"전주\", store$시군구명), ]\n",
        "head(store)"
      ],
      "execution_count": 101,
      "outputs": [
        {
          "output_type": "display_data",
          "data": {
            "text/plain": [
              "   상가업소번호 상호명           상권업종대분류명 상권업종중분류명      \n",
              "3  20776948     대영타일욕실나라 소매             가정/주방/인테리어    \n",
              "7  17174123     솔차니           음식             한식                  \n",
              "8  17173996     BBQ치킨          음식             유흥주점              \n",
              "9  15501309     금암이동통신     소매             사진/광학/정밀기기소매\n",
              "19 20743412     서곡해법영어교실 학문/교육        학원-어학             \n",
              "20 28494686     대호장           숙박             모텔/여관/여인숙      \n",
              "   상권업종소분류명       표준산업분류명                     시도명  \n",
              "3  인테리어/욕실용품/커튼 그외 기타 분류안된 가정용품 소매업 전라북도\n",
              "7  한식/백반/한정식       한식 음식점업                      전라북도\n",
              "8  호프/맥주              기타 주점업                        전라북도\n",
              "9  핸드폰소매             통신기기 소매업                    전라북도\n",
              "19 학원-어린이영어        외국어학원                         전라북도\n",
              "20 모텔/여관/여인숙       여관업                             전라북도\n",
              "   시군구명      행정동명 법정동명  도로명주소                            \n",
              "3  전주시 완산구 평화2동  평화동1가 전라북도 전주시 완산구 장승배기로 221 \n",
              "7  전주시 완산구 삼천3동  삼천동1가 전라북도 전주시 완산구 장승배기로 2-27\n",
              "8  전주시 덕진구 우아1동  우아동3가 전라북도 전주시 덕진구 견훤로 483     \n",
              "9  전주시 덕진구 송천1동  송천동2가 전라북도 전주시 덕진구 붓내3길 29     \n",
              "19 전주시 완산구 효자4동  효자동3가 전라북도 전주시 완산구 서곡7길 24     \n",
              "20 전주시 덕진구 우아2동  산정동    전라북도 전주시 덕진구 산정1길 32     \n",
              "   경도     위도    \n",
              "3  127.1366 35.79722\n",
              "7  127.1131 35.78970\n",
              "8  127.1547 35.85374\n",
              "9  127.1239 35.86782\n",
              "19 127.1009 35.83217\n",
              "20 127.1678 35.83868"
            ],
            "text/latex": "A data.frame: 6 × 13\n\\begin{tabular}{r|lllllllllllll}\n  & 상가업소번호 & 상호명 & 상권업종대분류명 & 상권업종중분류명 & 상권업종소분류명 & 표준산업분류명 & 시도명 & 시군구명 & 행정동명 & 법정동명 & 도로명주소 & 경도 & 위도\\\\\n  & <int> & <chr> & <chr> & <chr> & <chr> & <chr> & <chr> & <chr> & <chr> & <chr> & <chr> & <dbl> & <dbl>\\\\\n\\hline\n\t3 & 20776948 & 대영타일욕실나라 & 소매      & 가정/주방/인테리어     & 인테리어/욕실용품/커튼 & 그외 기타 분류안된 가정용품 소매업 & 전라북도 & 전주시 완산구 & 평화2동 & 평화동1가 & 전라북도 전주시 완산구 장승배기로 221  & 127.1366 & 35.79722\\\\\n\t7 & 17174123 & 솔차니           & 음식      & 한식                   & 한식/백반/한정식       & 한식 음식점업                      & 전라북도 & 전주시 완산구 & 삼천3동 & 삼천동1가 & 전라북도 전주시 완산구 장승배기로 2-27 & 127.1131 & 35.78970\\\\\n\t8 & 17173996 & BBQ치킨          & 음식      & 유흥주점               & 호프/맥주              & 기타 주점업                        & 전라북도 & 전주시 덕진구 & 우아1동 & 우아동3가 & 전라북도 전주시 덕진구 견훤로 483      & 127.1547 & 35.85374\\\\\n\t9 & 15501309 & 금암이동통신     & 소매      & 사진/광학/정밀기기소매 & 핸드폰소매             & 통신기기 소매업                    & 전라북도 & 전주시 덕진구 & 송천1동 & 송천동2가 & 전라북도 전주시 덕진구 붓내3길 29      & 127.1239 & 35.86782\\\\\n\t19 & 20743412 & 서곡해법영어교실 & 학문/교육 & 학원-어학              & 학원-어린이영어        & 외국어학원                         & 전라북도 & 전주시 완산구 & 효자4동 & 효자동3가 & 전라북도 전주시 완산구 서곡7길 24      & 127.1009 & 35.83217\\\\\n\t20 & 28494686 & 대호장           & 숙박      & 모텔/여관/여인숙       & 모텔/여관/여인숙       & 여관업                             & 전라북도 & 전주시 덕진구 & 우아2동 & 산정동    & 전라북도 전주시 덕진구 산정1길 32      & 127.1678 & 35.83868\\\\\n\\end{tabular}\n",
            "text/markdown": "\nA data.frame: 6 × 13\n\n| <!--/--> | 상가업소번호 &lt;int&gt; | 상호명 &lt;chr&gt; | 상권업종대분류명 &lt;chr&gt; | 상권업종중분류명 &lt;chr&gt; | 상권업종소분류명 &lt;chr&gt; | 표준산업분류명 &lt;chr&gt; | 시도명 &lt;chr&gt; | 시군구명 &lt;chr&gt; | 행정동명 &lt;chr&gt; | 법정동명 &lt;chr&gt; | 도로명주소 &lt;chr&gt; | 경도 &lt;dbl&gt; | 위도 &lt;dbl&gt; |\n|---|---|---|---|---|---|---|---|---|---|---|---|---|---|\n| 3 | 20776948 | 대영타일욕실나라 | 소매      | 가정/주방/인테리어     | 인테리어/욕실용품/커튼 | 그외 기타 분류안된 가정용품 소매업 | 전라북도 | 전주시 완산구 | 평화2동 | 평화동1가 | 전라북도 전주시 완산구 장승배기로 221  | 127.1366 | 35.79722 |\n| 7 | 17174123 | 솔차니           | 음식      | 한식                   | 한식/백반/한정식       | 한식 음식점업                      | 전라북도 | 전주시 완산구 | 삼천3동 | 삼천동1가 | 전라북도 전주시 완산구 장승배기로 2-27 | 127.1131 | 35.78970 |\n| 8 | 17173996 | BBQ치킨          | 음식      | 유흥주점               | 호프/맥주              | 기타 주점업                        | 전라북도 | 전주시 덕진구 | 우아1동 | 우아동3가 | 전라북도 전주시 덕진구 견훤로 483      | 127.1547 | 35.85374 |\n| 9 | 15501309 | 금암이동통신     | 소매      | 사진/광학/정밀기기소매 | 핸드폰소매             | 통신기기 소매업                    | 전라북도 | 전주시 덕진구 | 송천1동 | 송천동2가 | 전라북도 전주시 덕진구 붓내3길 29      | 127.1239 | 35.86782 |\n| 19 | 20743412 | 서곡해법영어교실 | 학문/교육 | 학원-어학              | 학원-어린이영어        | 외국어학원                         | 전라북도 | 전주시 완산구 | 효자4동 | 효자동3가 | 전라북도 전주시 완산구 서곡7길 24      | 127.1009 | 35.83217 |\n| 20 | 28494686 | 대호장           | 숙박      | 모텔/여관/여인숙       | 모텔/여관/여인숙       | 여관업                             | 전라북도 | 전주시 덕진구 | 우아2동 | 산정동    | 전라북도 전주시 덕진구 산정1길 32      | 127.1678 | 35.83868 |\n\n",
            "text/html": [
              "<table class=\"dataframe\">\n",
              "<caption>A data.frame: 6 × 13</caption>\n",
              "<thead>\n",
              "\t<tr><th></th><th scope=col>상가업소번호</th><th scope=col>상호명</th><th scope=col>상권업종대분류명</th><th scope=col>상권업종중분류명</th><th scope=col>상권업종소분류명</th><th scope=col>표준산업분류명</th><th scope=col>시도명</th><th scope=col>시군구명</th><th scope=col>행정동명</th><th scope=col>법정동명</th><th scope=col>도로명주소</th><th scope=col>경도</th><th scope=col>위도</th></tr>\n",
              "\t<tr><th></th><th scope=col>&lt;int&gt;</th><th scope=col>&lt;chr&gt;</th><th scope=col>&lt;chr&gt;</th><th scope=col>&lt;chr&gt;</th><th scope=col>&lt;chr&gt;</th><th scope=col>&lt;chr&gt;</th><th scope=col>&lt;chr&gt;</th><th scope=col>&lt;chr&gt;</th><th scope=col>&lt;chr&gt;</th><th scope=col>&lt;chr&gt;</th><th scope=col>&lt;chr&gt;</th><th scope=col>&lt;dbl&gt;</th><th scope=col>&lt;dbl&gt;</th></tr>\n",
              "</thead>\n",
              "<tbody>\n",
              "\t<tr><th scope=row>3</th><td>20776948</td><td>대영타일욕실나라</td><td>소매     </td><td>가정/주방/인테리어    </td><td>인테리어/욕실용품/커튼</td><td>그외 기타 분류안된 가정용품 소매업</td><td>전라북도</td><td>전주시 완산구</td><td>평화2동</td><td>평화동1가</td><td>전라북도 전주시 완산구 장승배기로 221 </td><td>127.1366</td><td>35.79722</td></tr>\n",
              "\t<tr><th scope=row>7</th><td>17174123</td><td>솔차니          </td><td>음식     </td><td>한식                  </td><td>한식/백반/한정식      </td><td>한식 음식점업                     </td><td>전라북도</td><td>전주시 완산구</td><td>삼천3동</td><td>삼천동1가</td><td>전라북도 전주시 완산구 장승배기로 2-27</td><td>127.1131</td><td>35.78970</td></tr>\n",
              "\t<tr><th scope=row>8</th><td>17173996</td><td>BBQ치킨         </td><td>음식     </td><td>유흥주점              </td><td>호프/맥주             </td><td>기타 주점업                       </td><td>전라북도</td><td>전주시 덕진구</td><td>우아1동</td><td>우아동3가</td><td>전라북도 전주시 덕진구 견훤로 483     </td><td>127.1547</td><td>35.85374</td></tr>\n",
              "\t<tr><th scope=row>9</th><td>15501309</td><td>금암이동통신    </td><td>소매     </td><td>사진/광학/정밀기기소매</td><td>핸드폰소매            </td><td>통신기기 소매업                   </td><td>전라북도</td><td>전주시 덕진구</td><td>송천1동</td><td>송천동2가</td><td>전라북도 전주시 덕진구 붓내3길 29     </td><td>127.1239</td><td>35.86782</td></tr>\n",
              "\t<tr><th scope=row>19</th><td>20743412</td><td>서곡해법영어교실</td><td>학문/교육</td><td>학원-어학             </td><td>학원-어린이영어       </td><td>외국어학원                        </td><td>전라북도</td><td>전주시 완산구</td><td>효자4동</td><td>효자동3가</td><td>전라북도 전주시 완산구 서곡7길 24     </td><td>127.1009</td><td>35.83217</td></tr>\n",
              "\t<tr><th scope=row>20</th><td>28494686</td><td>대호장          </td><td>숙박     </td><td>모텔/여관/여인숙      </td><td>모텔/여관/여인숙      </td><td>여관업                            </td><td>전라북도</td><td>전주시 덕진구</td><td>우아2동</td><td>산정동   </td><td>전라북도 전주시 덕진구 산정1길 32     </td><td>127.1678</td><td>35.83868</td></tr>\n",
              "</tbody>\n",
              "</table>\n"
            ]
          },
          "metadata": {
            "tags": []
          }
        }
      ]
    },
    {
      "cell_type": "markdown",
      "metadata": {
        "id": "ZfiWx-QiN_jU"
      },
      "source": [
        "▼ 행정동명을 기준으로 상가의 개수 추출"
      ]
    },
    {
      "cell_type": "code",
      "metadata": {
        "id": "D8Jq7WMKNkAA",
        "outputId": "21bd4056-b8bf-47bd-f4ad-1262a42f1580",
        "colab": {
          "base_uri": "https://localhost:8080/",
          "height": 271
        }
      },
      "source": [
        "store <- store %>% group_by(행정동명) %>% summarise(count = length(상가업소번호))\n",
        "head(store)"
      ],
      "execution_count": 102,
      "outputs": [
        {
          "output_type": "display_data",
          "data": {
            "text/plain": [
              "  행정동명 count\n",
              "1            1  \n",
              "2 금암1동   81  \n",
              "3 금암2동   55  \n",
              "4 노송동    75  \n",
              "5 덕진동   114  \n",
              "6 동산동    62  "
            ],
            "text/latex": "A tibble: 6 × 2\n\\begin{tabular}{ll}\n 행정동명 & count\\\\\n <chr> & <int>\\\\\n\\hline\n\t         &   1\\\\\n\t 금암1동 &  81\\\\\n\t 금암2동 &  55\\\\\n\t 노송동  &  75\\\\\n\t 덕진동  & 114\\\\\n\t 동산동  &  62\\\\\n\\end{tabular}\n",
            "text/markdown": "\nA tibble: 6 × 2\n\n| 행정동명 &lt;chr&gt; | count &lt;int&gt; |\n|---|---|\n| <!----> |   1 |\n| 금암1동 |  81 |\n| 금암2동 |  55 |\n| 노송동  |  75 |\n| 덕진동  | 114 |\n| 동산동  |  62 |\n\n",
            "text/html": [
              "<table class=\"dataframe\">\n",
              "<caption>A tibble: 6 × 2</caption>\n",
              "<thead>\n",
              "\t<tr><th scope=col>행정동명</th><th scope=col>count</th></tr>\n",
              "\t<tr><th scope=col>&lt;chr&gt;</th><th scope=col>&lt;int&gt;</th></tr>\n",
              "</thead>\n",
              "<tbody>\n",
              "\t<tr><td>       </td><td>  1</td></tr>\n",
              "\t<tr><td>금암1동</td><td> 81</td></tr>\n",
              "\t<tr><td>금암2동</td><td> 55</td></tr>\n",
              "\t<tr><td>노송동 </td><td> 75</td></tr>\n",
              "\t<tr><td>덕진동 </td><td>114</td></tr>\n",
              "\t<tr><td>동산동 </td><td> 62</td></tr>\n",
              "</tbody>\n",
              "</table>\n"
            ]
          },
          "metadata": {
            "tags": []
          }
        }
      ]
    },
    {
      "cell_type": "markdown",
      "metadata": {
        "id": "AbNB2CyxODuv"
      },
      "source": [
        "1 store의 첫 번째 행은 무슨 값....? 일단 제외하기\n",
        "\n",
        "2 데이터프레임으로 변경\n",
        "\n",
        "3 행정동을 기준으로 오름차순 정렬\n",
        "\n",
        "▼"
      ]
    },
    {
      "cell_type": "code",
      "metadata": {
        "id": "thlszABdNnEB",
        "outputId": "837a921b-83d6-4f46-c824-afb67fa5d23d",
        "colab": {
          "base_uri": "https://localhost:8080/",
          "height": 271
        }
      },
      "source": [
        "store <- store[-1,]\n",
        "store <- as.data.frame(store)\n",
        "store <- arrange(store, store$행정동명)\n",
        "head(store)"
      ],
      "execution_count": 103,
      "outputs": [
        {
          "output_type": "display_data",
          "data": {
            "text/plain": [
              "  행정동명 count\n",
              "1 금암1동   81  \n",
              "2 금암2동   55  \n",
              "3 노송동    75  \n",
              "4 덕진동   114  \n",
              "5 동산동    62  \n",
              "6 동서학동  18  "
            ],
            "text/latex": "A data.frame: 6 × 2\n\\begin{tabular}{r|ll}\n  & 행정동명 & count\\\\\n  & <chr> & <int>\\\\\n\\hline\n\t1 & 금암1동  &  81\\\\\n\t2 & 금암2동  &  55\\\\\n\t3 & 노송동   &  75\\\\\n\t4 & 덕진동   & 114\\\\\n\t5 & 동산동   &  62\\\\\n\t6 & 동서학동 &  18\\\\\n\\end{tabular}\n",
            "text/markdown": "\nA data.frame: 6 × 2\n\n| <!--/--> | 행정동명 &lt;chr&gt; | count &lt;int&gt; |\n|---|---|---|\n| 1 | 금암1동  |  81 |\n| 2 | 금암2동  |  55 |\n| 3 | 노송동   |  75 |\n| 4 | 덕진동   | 114 |\n| 5 | 동산동   |  62 |\n| 6 | 동서학동 |  18 |\n\n",
            "text/html": [
              "<table class=\"dataframe\">\n",
              "<caption>A data.frame: 6 × 2</caption>\n",
              "<thead>\n",
              "\t<tr><th></th><th scope=col>행정동명</th><th scope=col>count</th></tr>\n",
              "\t<tr><th></th><th scope=col>&lt;chr&gt;</th><th scope=col>&lt;int&gt;</th></tr>\n",
              "</thead>\n",
              "<tbody>\n",
              "\t<tr><th scope=row>1</th><td>금암1동 </td><td> 81</td></tr>\n",
              "\t<tr><th scope=row>2</th><td>금암2동 </td><td> 55</td></tr>\n",
              "\t<tr><th scope=row>3</th><td>노송동  </td><td> 75</td></tr>\n",
              "\t<tr><th scope=row>4</th><td>덕진동  </td><td>114</td></tr>\n",
              "\t<tr><th scope=row>5</th><td>동산동  </td><td> 62</td></tr>\n",
              "\t<tr><th scope=row>6</th><td>동서학동</td><td> 18</td></tr>\n",
              "</tbody>\n",
              "</table>\n"
            ]
          },
          "metadata": {
            "tags": []
          }
        }
      ]
    },
    {
      "cell_type": "markdown",
      "metadata": {
        "id": "ri7J_2noOLDG"
      },
      "source": [
        "▼ '행정동명', 'count'를 '행정동', '상권개수'로 변경"
      ]
    },
    {
      "cell_type": "code",
      "metadata": {
        "id": "7_G9rLGKNrQH",
        "outputId": "9a0a1038-9185-4ac4-c737-6609113166a7",
        "colab": {
          "base_uri": "https://localhost:8080/",
          "height": 1000
        }
      },
      "source": [
        "names(store) <- c(\"행정동\", \"상권개수\")\n",
        "store"
      ],
      "execution_count": 104,
      "outputs": [
        {
          "output_type": "display_data",
          "data": {
            "text/plain": [
              "   행정동    상권개수\n",
              "1  금암1동    81     \n",
              "2  금암2동    55     \n",
              "3  노송동     75     \n",
              "4  덕진동    114     \n",
              "5  동산동     62     \n",
              "6  동서학동   18     \n",
              "7  삼천1동    81     \n",
              "8  삼천2동   105     \n",
              "9  삼천3동    73     \n",
              "10 서서학동   21     \n",
              "11 서신동    318     \n",
              "12 송천1동    92     \n",
              "13 송천2동    96     \n",
              "14 여의동      1     \n",
              "15 완산동     17     \n",
              "16 우아1동   115     \n",
              "17 우아2동    73     \n",
              "18 인후1동    70     \n",
              "19 인후2동    61     \n",
              "20 인후3동   101     \n",
              "21 조촌동     36     \n",
              "22 중앙동    114     \n",
              "23 중화산1동  54     \n",
              "24 중화산2동 131     \n",
              "25 진북동     68     \n",
              "26 팔복동     50     \n",
              "27 평화1동    27     \n",
              "28 평화2동   187     \n",
              "29 풍남동    106     \n",
              "30 호성동     67     \n",
              "31 효자1동    65     \n",
              "32 효자2동    84     \n",
              "33 효자3동    61     \n",
              "34 효자4동   220     \n",
              "35 효자5동     1     "
            ],
            "text/latex": "A data.frame: 35 × 2\n\\begin{tabular}{ll}\n 행정동 & 상권개수\\\\\n <chr> & <int>\\\\\n\\hline\n\t 금암1동   &  81\\\\\n\t 금암2동   &  55\\\\\n\t 노송동    &  75\\\\\n\t 덕진동    & 114\\\\\n\t 동산동    &  62\\\\\n\t 동서학동  &  18\\\\\n\t 삼천1동   &  81\\\\\n\t 삼천2동   & 105\\\\\n\t 삼천3동   &  73\\\\\n\t 서서학동  &  21\\\\\n\t 서신동    & 318\\\\\n\t 송천1동   &  92\\\\\n\t 송천2동   &  96\\\\\n\t 여의동    &   1\\\\\n\t 완산동    &  17\\\\\n\t 우아1동   & 115\\\\\n\t 우아2동   &  73\\\\\n\t 인후1동   &  70\\\\\n\t 인후2동   &  61\\\\\n\t 인후3동   & 101\\\\\n\t 조촌동    &  36\\\\\n\t 중앙동    & 114\\\\\n\t 중화산1동 &  54\\\\\n\t 중화산2동 & 131\\\\\n\t 진북동    &  68\\\\\n\t 팔복동    &  50\\\\\n\t 평화1동   &  27\\\\\n\t 평화2동   & 187\\\\\n\t 풍남동    & 106\\\\\n\t 호성동    &  67\\\\\n\t 효자1동   &  65\\\\\n\t 효자2동   &  84\\\\\n\t 효자3동   &  61\\\\\n\t 효자4동   & 220\\\\\n\t 효자5동   &   1\\\\\n\\end{tabular}\n",
            "text/markdown": "\nA data.frame: 35 × 2\n\n| 행정동 &lt;chr&gt; | 상권개수 &lt;int&gt; |\n|---|---|\n| 금암1동   |  81 |\n| 금암2동   |  55 |\n| 노송동    |  75 |\n| 덕진동    | 114 |\n| 동산동    |  62 |\n| 동서학동  |  18 |\n| 삼천1동   |  81 |\n| 삼천2동   | 105 |\n| 삼천3동   |  73 |\n| 서서학동  |  21 |\n| 서신동    | 318 |\n| 송천1동   |  92 |\n| 송천2동   |  96 |\n| 여의동    |   1 |\n| 완산동    |  17 |\n| 우아1동   | 115 |\n| 우아2동   |  73 |\n| 인후1동   |  70 |\n| 인후2동   |  61 |\n| 인후3동   | 101 |\n| 조촌동    |  36 |\n| 중앙동    | 114 |\n| 중화산1동 |  54 |\n| 중화산2동 | 131 |\n| 진북동    |  68 |\n| 팔복동    |  50 |\n| 평화1동   |  27 |\n| 평화2동   | 187 |\n| 풍남동    | 106 |\n| 호성동    |  67 |\n| 효자1동   |  65 |\n| 효자2동   |  84 |\n| 효자3동   |  61 |\n| 효자4동   | 220 |\n| 효자5동   |   1 |\n\n",
            "text/html": [
              "<table class=\"dataframe\">\n",
              "<caption>A data.frame: 35 × 2</caption>\n",
              "<thead>\n",
              "\t<tr><th scope=col>행정동</th><th scope=col>상권개수</th></tr>\n",
              "\t<tr><th scope=col>&lt;chr&gt;</th><th scope=col>&lt;int&gt;</th></tr>\n",
              "</thead>\n",
              "<tbody>\n",
              "\t<tr><td>금암1동  </td><td> 81</td></tr>\n",
              "\t<tr><td>금암2동  </td><td> 55</td></tr>\n",
              "\t<tr><td>노송동   </td><td> 75</td></tr>\n",
              "\t<tr><td>덕진동   </td><td>114</td></tr>\n",
              "\t<tr><td>동산동   </td><td> 62</td></tr>\n",
              "\t<tr><td>동서학동 </td><td> 18</td></tr>\n",
              "\t<tr><td>삼천1동  </td><td> 81</td></tr>\n",
              "\t<tr><td>삼천2동  </td><td>105</td></tr>\n",
              "\t<tr><td>삼천3동  </td><td> 73</td></tr>\n",
              "\t<tr><td>서서학동 </td><td> 21</td></tr>\n",
              "\t<tr><td>서신동   </td><td>318</td></tr>\n",
              "\t<tr><td>송천1동  </td><td> 92</td></tr>\n",
              "\t<tr><td>송천2동  </td><td> 96</td></tr>\n",
              "\t<tr><td>여의동   </td><td>  1</td></tr>\n",
              "\t<tr><td>완산동   </td><td> 17</td></tr>\n",
              "\t<tr><td>우아1동  </td><td>115</td></tr>\n",
              "\t<tr><td>우아2동  </td><td> 73</td></tr>\n",
              "\t<tr><td>인후1동  </td><td> 70</td></tr>\n",
              "\t<tr><td>인후2동  </td><td> 61</td></tr>\n",
              "\t<tr><td>인후3동  </td><td>101</td></tr>\n",
              "\t<tr><td>조촌동   </td><td> 36</td></tr>\n",
              "\t<tr><td>중앙동   </td><td>114</td></tr>\n",
              "\t<tr><td>중화산1동</td><td> 54</td></tr>\n",
              "\t<tr><td>중화산2동</td><td>131</td></tr>\n",
              "\t<tr><td>진북동   </td><td> 68</td></tr>\n",
              "\t<tr><td>팔복동   </td><td> 50</td></tr>\n",
              "\t<tr><td>평화1동  </td><td> 27</td></tr>\n",
              "\t<tr><td>평화2동  </td><td>187</td></tr>\n",
              "\t<tr><td>풍남동   </td><td>106</td></tr>\n",
              "\t<tr><td>호성동   </td><td> 67</td></tr>\n",
              "\t<tr><td>효자1동  </td><td> 65</td></tr>\n",
              "\t<tr><td>효자2동  </td><td> 84</td></tr>\n",
              "\t<tr><td>효자3동  </td><td> 61</td></tr>\n",
              "\t<tr><td>효자4동  </td><td>220</td></tr>\n",
              "\t<tr><td>효자5동  </td><td>  1</td></tr>\n",
              "</tbody>\n",
              "</table>\n"
            ]
          },
          "metadata": {
            "tags": []
          }
        }
      ]
    },
    {
      "cell_type": "markdown",
      "metadata": {
        "id": "Hjez8A73EKzY"
      },
      "source": [
        "## 행정동이 잘 정리되었는지 확인\n",
        "\n",
        "모든 행정동이 다 동일하다는 것을 확인할 수 있다.\n",
        "\n"
      ]
    },
    {
      "cell_type": "code",
      "metadata": {
        "colab": {
          "base_uri": "https://localhost:8080/",
          "height": 1000
        },
        "id": "WtD3SwTsAC1U",
        "outputId": "ddcef53d-8ae2-4758-db78-9c0cf0532296"
      },
      "source": [
        "df <- data.frame(pop = pop$행정동, rest = rest$행정동, bicycle = bicycle$행정동, bigstore = bigstore$행정동,\n",
        "                 cvstore = cvstore$행정동, univ = univ$행정동, region = region$행정동, store = store$행정동)\n",
        "\n",
        "df"
      ],
      "execution_count": 105,
      "outputs": [
        {
          "output_type": "display_data",
          "data": {
            "text/plain": [
              "   pop       rest      bicycle   bigstore  cvstore   univ      region   \n",
              "1  금암1동   금암1동   금암1동   금암1동   금암1동   금암1동   금암1동  \n",
              "2  금암2동   금암2동   금암2동   금암2동   금암2동   금암2동   금암2동  \n",
              "3  노송동    노송동    노송동    노송동    노송동    노송동    노송동   \n",
              "4  덕진동    덕진동    덕진동    덕진동    덕진동    덕진동    덕진동   \n",
              "5  동서학동  동서학동  동서학동  동서학동  동서학동  동서학동  동서학동 \n",
              "6  삼천1동   삼천1동   삼천1동   삼천1동   삼천1동   삼천1동   삼천1동  \n",
              "7  삼천2동   삼천2동   삼천2동   삼천2동   삼천2동   삼천2동   삼천2동  \n",
              "8  삼천3동   삼천3동   삼천3동   삼천3동   삼천3동   삼천3동   삼천3동  \n",
              "9  서서학동  서서학동  서서학동  서서학동  서서학동  서서학동  서서학동 \n",
              "10 서신동    서신동    서신동    서신동    서신동    서신동    서신동   \n",
              "11 송천1동   송천1동   송천1동   송천1동   송천1동   송천1동   송천1동  \n",
              "12 송천2동   송천2동   송천2동   송천2동   송천2동   송천2동   송천2동  \n",
              "13 여의동    여의동    여의동    여의동    여의동    여의동    여의동   \n",
              "14 완산동    완산동    완산동    완산동    완산동    완산동    완산동   \n",
              "15 우아1동   우아1동   우아1동   우아1동   우아1동   우아1동   우아1동  \n",
              "16 우아2동   우아2동   우아2동   우아2동   우아2동   우아2동   우아2동  \n",
              "17 인후1동   인후1동   인후1동   인후1동   인후1동   인후1동   인후1동  \n",
              "18 인후2동   인후2동   인후2동   인후2동   인후2동   인후2동   인후2동  \n",
              "19 인후3동   인후3동   인후3동   인후3동   인후3동   인후3동   인후3동  \n",
              "20 조촌동    조촌동    조촌동    조촌동    조촌동    조촌동    조촌동   \n",
              "21 중앙동    중앙동    중앙동    중앙동    중앙동    중앙동    중앙동   \n",
              "22 중화산1동 중화산1동 중화산1동 중화산1동 중화산1동 중화산1동 중화산1동\n",
              "23 중화산2동 중화산2동 중화산2동 중화산2동 중화산2동 중화산2동 중화산2동\n",
              "24 진북동    진북동    진북동    진북동    진북동    진북동    진북동   \n",
              "25 팔복동    팔복동    팔복동    팔복동    팔복동    팔복동    팔복동   \n",
              "26 평화1동   평화1동   평화1동   평화1동   평화1동   평화1동   평화1동  \n",
              "27 평화2동   평화2동   평화2동   평화2동   평화2동   평화2동   평화2동  \n",
              "28 풍남동    풍남동    풍남동    풍남동    풍남동    풍남동    풍남동   \n",
              "29 혁신동    혁신동    혁신동    혁신동    혁신동    혁신동    혁신동   \n",
              "30 호성동    호성동    호성동    호성동    호성동    호성동    호성동   \n",
              "31 효자1동   효자1동   효자1동   효자1동   효자1동   효자1동   효자1동  \n",
              "32 효자2동   효자2동   효자2동   효자2동   효자2동   효자2동   효자2동  \n",
              "33 효자3동   효자3동   효자3동   효자3동   효자3동   효자3동   효자3동  \n",
              "34 효자4동   효자4동   효자4동   효자4동   효자4동   효자4동   효자4동  \n",
              "35 효자5동   효자5동   효자5동   효자5동   효자5동   효자5동   효자5동  \n",
              "   store    \n",
              "1  금암1동  \n",
              "2  금암2동  \n",
              "3  노송동   \n",
              "4  덕진동   \n",
              "5  동산동   \n",
              "6  동서학동 \n",
              "7  삼천1동  \n",
              "8  삼천2동  \n",
              "9  삼천3동  \n",
              "10 서서학동 \n",
              "11 서신동   \n",
              "12 송천1동  \n",
              "13 송천2동  \n",
              "14 여의동   \n",
              "15 완산동   \n",
              "16 우아1동  \n",
              "17 우아2동  \n",
              "18 인후1동  \n",
              "19 인후2동  \n",
              "20 인후3동  \n",
              "21 조촌동   \n",
              "22 중앙동   \n",
              "23 중화산1동\n",
              "24 중화산2동\n",
              "25 진북동   \n",
              "26 팔복동   \n",
              "27 평화1동  \n",
              "28 평화2동  \n",
              "29 풍남동   \n",
              "30 호성동   \n",
              "31 효자1동  \n",
              "32 효자2동  \n",
              "33 효자3동  \n",
              "34 효자4동  \n",
              "35 효자5동  "
            ],
            "text/latex": "A data.frame: 35 × 8\n\\begin{tabular}{llllllll}\n pop & rest & bicycle & bigstore & cvstore & univ & region & store\\\\\n <chr> & <chr> & <chr> & <chr> & <chr> & <chr> & <chr> & <chr>\\\\\n\\hline\n\t 금암1동   & 금암1동   & 금암1동   & 금암1동   & 금암1동   & 금암1동   & 금암1동   & 금암1동  \\\\\n\t 금암2동   & 금암2동   & 금암2동   & 금암2동   & 금암2동   & 금암2동   & 금암2동   & 금암2동  \\\\\n\t 노송동    & 노송동    & 노송동    & 노송동    & 노송동    & 노송동    & 노송동    & 노송동   \\\\\n\t 덕진동    & 덕진동    & 덕진동    & 덕진동    & 덕진동    & 덕진동    & 덕진동    & 덕진동   \\\\\n\t 동서학동  & 동서학동  & 동서학동  & 동서학동  & 동서학동  & 동서학동  & 동서학동  & 동산동   \\\\\n\t 삼천1동   & 삼천1동   & 삼천1동   & 삼천1동   & 삼천1동   & 삼천1동   & 삼천1동   & 동서학동 \\\\\n\t 삼천2동   & 삼천2동   & 삼천2동   & 삼천2동   & 삼천2동   & 삼천2동   & 삼천2동   & 삼천1동  \\\\\n\t 삼천3동   & 삼천3동   & 삼천3동   & 삼천3동   & 삼천3동   & 삼천3동   & 삼천3동   & 삼천2동  \\\\\n\t 서서학동  & 서서학동  & 서서학동  & 서서학동  & 서서학동  & 서서학동  & 서서학동  & 삼천3동  \\\\\n\t 서신동    & 서신동    & 서신동    & 서신동    & 서신동    & 서신동    & 서신동    & 서서학동 \\\\\n\t 송천1동   & 송천1동   & 송천1동   & 송천1동   & 송천1동   & 송천1동   & 송천1동   & 서신동   \\\\\n\t 송천2동   & 송천2동   & 송천2동   & 송천2동   & 송천2동   & 송천2동   & 송천2동   & 송천1동  \\\\\n\t 여의동    & 여의동    & 여의동    & 여의동    & 여의동    & 여의동    & 여의동    & 송천2동  \\\\\n\t 완산동    & 완산동    & 완산동    & 완산동    & 완산동    & 완산동    & 완산동    & 여의동   \\\\\n\t 우아1동   & 우아1동   & 우아1동   & 우아1동   & 우아1동   & 우아1동   & 우아1동   & 완산동   \\\\\n\t 우아2동   & 우아2동   & 우아2동   & 우아2동   & 우아2동   & 우아2동   & 우아2동   & 우아1동  \\\\\n\t 인후1동   & 인후1동   & 인후1동   & 인후1동   & 인후1동   & 인후1동   & 인후1동   & 우아2동  \\\\\n\t 인후2동   & 인후2동   & 인후2동   & 인후2동   & 인후2동   & 인후2동   & 인후2동   & 인후1동  \\\\\n\t 인후3동   & 인후3동   & 인후3동   & 인후3동   & 인후3동   & 인후3동   & 인후3동   & 인후2동  \\\\\n\t 조촌동    & 조촌동    & 조촌동    & 조촌동    & 조촌동    & 조촌동    & 조촌동    & 인후3동  \\\\\n\t 중앙동    & 중앙동    & 중앙동    & 중앙동    & 중앙동    & 중앙동    & 중앙동    & 조촌동   \\\\\n\t 중화산1동 & 중화산1동 & 중화산1동 & 중화산1동 & 중화산1동 & 중화산1동 & 중화산1동 & 중앙동   \\\\\n\t 중화산2동 & 중화산2동 & 중화산2동 & 중화산2동 & 중화산2동 & 중화산2동 & 중화산2동 & 중화산1동\\\\\n\t 진북동    & 진북동    & 진북동    & 진북동    & 진북동    & 진북동    & 진북동    & 중화산2동\\\\\n\t 팔복동    & 팔복동    & 팔복동    & 팔복동    & 팔복동    & 팔복동    & 팔복동    & 진북동   \\\\\n\t 평화1동   & 평화1동   & 평화1동   & 평화1동   & 평화1동   & 평화1동   & 평화1동   & 팔복동   \\\\\n\t 평화2동   & 평화2동   & 평화2동   & 평화2동   & 평화2동   & 평화2동   & 평화2동   & 평화1동  \\\\\n\t 풍남동    & 풍남동    & 풍남동    & 풍남동    & 풍남동    & 풍남동    & 풍남동    & 평화2동  \\\\\n\t 혁신동    & 혁신동    & 혁신동    & 혁신동    & 혁신동    & 혁신동    & 혁신동    & 풍남동   \\\\\n\t 호성동    & 호성동    & 호성동    & 호성동    & 호성동    & 호성동    & 호성동    & 호성동   \\\\\n\t 효자1동   & 효자1동   & 효자1동   & 효자1동   & 효자1동   & 효자1동   & 효자1동   & 효자1동  \\\\\n\t 효자2동   & 효자2동   & 효자2동   & 효자2동   & 효자2동   & 효자2동   & 효자2동   & 효자2동  \\\\\n\t 효자3동   & 효자3동   & 효자3동   & 효자3동   & 효자3동   & 효자3동   & 효자3동   & 효자3동  \\\\\n\t 효자4동   & 효자4동   & 효자4동   & 효자4동   & 효자4동   & 효자4동   & 효자4동   & 효자4동  \\\\\n\t 효자5동   & 효자5동   & 효자5동   & 효자5동   & 효자5동   & 효자5동   & 효자5동   & 효자5동  \\\\\n\\end{tabular}\n",
            "text/markdown": "\nA data.frame: 35 × 8\n\n| pop &lt;chr&gt; | rest &lt;chr&gt; | bicycle &lt;chr&gt; | bigstore &lt;chr&gt; | cvstore &lt;chr&gt; | univ &lt;chr&gt; | region &lt;chr&gt; | store &lt;chr&gt; |\n|---|---|---|---|---|---|---|---|\n| 금암1동   | 금암1동   | 금암1동   | 금암1동   | 금암1동   | 금암1동   | 금암1동   | 금암1동   |\n| 금암2동   | 금암2동   | 금암2동   | 금암2동   | 금암2동   | 금암2동   | 금암2동   | 금암2동   |\n| 노송동    | 노송동    | 노송동    | 노송동    | 노송동    | 노송동    | 노송동    | 노송동    |\n| 덕진동    | 덕진동    | 덕진동    | 덕진동    | 덕진동    | 덕진동    | 덕진동    | 덕진동    |\n| 동서학동  | 동서학동  | 동서학동  | 동서학동  | 동서학동  | 동서학동  | 동서학동  | 동산동    |\n| 삼천1동   | 삼천1동   | 삼천1동   | 삼천1동   | 삼천1동   | 삼천1동   | 삼천1동   | 동서학동  |\n| 삼천2동   | 삼천2동   | 삼천2동   | 삼천2동   | 삼천2동   | 삼천2동   | 삼천2동   | 삼천1동   |\n| 삼천3동   | 삼천3동   | 삼천3동   | 삼천3동   | 삼천3동   | 삼천3동   | 삼천3동   | 삼천2동   |\n| 서서학동  | 서서학동  | 서서학동  | 서서학동  | 서서학동  | 서서학동  | 서서학동  | 삼천3동   |\n| 서신동    | 서신동    | 서신동    | 서신동    | 서신동    | 서신동    | 서신동    | 서서학동  |\n| 송천1동   | 송천1동   | 송천1동   | 송천1동   | 송천1동   | 송천1동   | 송천1동   | 서신동    |\n| 송천2동   | 송천2동   | 송천2동   | 송천2동   | 송천2동   | 송천2동   | 송천2동   | 송천1동   |\n| 여의동    | 여의동    | 여의동    | 여의동    | 여의동    | 여의동    | 여의동    | 송천2동   |\n| 완산동    | 완산동    | 완산동    | 완산동    | 완산동    | 완산동    | 완산동    | 여의동    |\n| 우아1동   | 우아1동   | 우아1동   | 우아1동   | 우아1동   | 우아1동   | 우아1동   | 완산동    |\n| 우아2동   | 우아2동   | 우아2동   | 우아2동   | 우아2동   | 우아2동   | 우아2동   | 우아1동   |\n| 인후1동   | 인후1동   | 인후1동   | 인후1동   | 인후1동   | 인후1동   | 인후1동   | 우아2동   |\n| 인후2동   | 인후2동   | 인후2동   | 인후2동   | 인후2동   | 인후2동   | 인후2동   | 인후1동   |\n| 인후3동   | 인후3동   | 인후3동   | 인후3동   | 인후3동   | 인후3동   | 인후3동   | 인후2동   |\n| 조촌동    | 조촌동    | 조촌동    | 조촌동    | 조촌동    | 조촌동    | 조촌동    | 인후3동   |\n| 중앙동    | 중앙동    | 중앙동    | 중앙동    | 중앙동    | 중앙동    | 중앙동    | 조촌동    |\n| 중화산1동 | 중화산1동 | 중화산1동 | 중화산1동 | 중화산1동 | 중화산1동 | 중화산1동 | 중앙동    |\n| 중화산2동 | 중화산2동 | 중화산2동 | 중화산2동 | 중화산2동 | 중화산2동 | 중화산2동 | 중화산1동 |\n| 진북동    | 진북동    | 진북동    | 진북동    | 진북동    | 진북동    | 진북동    | 중화산2동 |\n| 팔복동    | 팔복동    | 팔복동    | 팔복동    | 팔복동    | 팔복동    | 팔복동    | 진북동    |\n| 평화1동   | 평화1동   | 평화1동   | 평화1동   | 평화1동   | 평화1동   | 평화1동   | 팔복동    |\n| 평화2동   | 평화2동   | 평화2동   | 평화2동   | 평화2동   | 평화2동   | 평화2동   | 평화1동   |\n| 풍남동    | 풍남동    | 풍남동    | 풍남동    | 풍남동    | 풍남동    | 풍남동    | 평화2동   |\n| 혁신동    | 혁신동    | 혁신동    | 혁신동    | 혁신동    | 혁신동    | 혁신동    | 풍남동    |\n| 호성동    | 호성동    | 호성동    | 호성동    | 호성동    | 호성동    | 호성동    | 호성동    |\n| 효자1동   | 효자1동   | 효자1동   | 효자1동   | 효자1동   | 효자1동   | 효자1동   | 효자1동   |\n| 효자2동   | 효자2동   | 효자2동   | 효자2동   | 효자2동   | 효자2동   | 효자2동   | 효자2동   |\n| 효자3동   | 효자3동   | 효자3동   | 효자3동   | 효자3동   | 효자3동   | 효자3동   | 효자3동   |\n| 효자4동   | 효자4동   | 효자4동   | 효자4동   | 효자4동   | 효자4동   | 효자4동   | 효자4동   |\n| 효자5동   | 효자5동   | 효자5동   | 효자5동   | 효자5동   | 효자5동   | 효자5동   | 효자5동   |\n\n",
            "text/html": [
              "<table class=\"dataframe\">\n",
              "<caption>A data.frame: 35 × 8</caption>\n",
              "<thead>\n",
              "\t<tr><th scope=col>pop</th><th scope=col>rest</th><th scope=col>bicycle</th><th scope=col>bigstore</th><th scope=col>cvstore</th><th scope=col>univ</th><th scope=col>region</th><th scope=col>store</th></tr>\n",
              "\t<tr><th scope=col>&lt;chr&gt;</th><th scope=col>&lt;chr&gt;</th><th scope=col>&lt;chr&gt;</th><th scope=col>&lt;chr&gt;</th><th scope=col>&lt;chr&gt;</th><th scope=col>&lt;chr&gt;</th><th scope=col>&lt;chr&gt;</th><th scope=col>&lt;chr&gt;</th></tr>\n",
              "</thead>\n",
              "<tbody>\n",
              "\t<tr><td>금암1동  </td><td>금암1동  </td><td>금암1동  </td><td>금암1동  </td><td>금암1동  </td><td>금암1동  </td><td>금암1동  </td><td>금암1동  </td></tr>\n",
              "\t<tr><td>금암2동  </td><td>금암2동  </td><td>금암2동  </td><td>금암2동  </td><td>금암2동  </td><td>금암2동  </td><td>금암2동  </td><td>금암2동  </td></tr>\n",
              "\t<tr><td>노송동   </td><td>노송동   </td><td>노송동   </td><td>노송동   </td><td>노송동   </td><td>노송동   </td><td>노송동   </td><td>노송동   </td></tr>\n",
              "\t<tr><td>덕진동   </td><td>덕진동   </td><td>덕진동   </td><td>덕진동   </td><td>덕진동   </td><td>덕진동   </td><td>덕진동   </td><td>덕진동   </td></tr>\n",
              "\t<tr><td>동서학동 </td><td>동서학동 </td><td>동서학동 </td><td>동서학동 </td><td>동서학동 </td><td>동서학동 </td><td>동서학동 </td><td>동산동   </td></tr>\n",
              "\t<tr><td>삼천1동  </td><td>삼천1동  </td><td>삼천1동  </td><td>삼천1동  </td><td>삼천1동  </td><td>삼천1동  </td><td>삼천1동  </td><td>동서학동 </td></tr>\n",
              "\t<tr><td>삼천2동  </td><td>삼천2동  </td><td>삼천2동  </td><td>삼천2동  </td><td>삼천2동  </td><td>삼천2동  </td><td>삼천2동  </td><td>삼천1동  </td></tr>\n",
              "\t<tr><td>삼천3동  </td><td>삼천3동  </td><td>삼천3동  </td><td>삼천3동  </td><td>삼천3동  </td><td>삼천3동  </td><td>삼천3동  </td><td>삼천2동  </td></tr>\n",
              "\t<tr><td>서서학동 </td><td>서서학동 </td><td>서서학동 </td><td>서서학동 </td><td>서서학동 </td><td>서서학동 </td><td>서서학동 </td><td>삼천3동  </td></tr>\n",
              "\t<tr><td>서신동   </td><td>서신동   </td><td>서신동   </td><td>서신동   </td><td>서신동   </td><td>서신동   </td><td>서신동   </td><td>서서학동 </td></tr>\n",
              "\t<tr><td>송천1동  </td><td>송천1동  </td><td>송천1동  </td><td>송천1동  </td><td>송천1동  </td><td>송천1동  </td><td>송천1동  </td><td>서신동   </td></tr>\n",
              "\t<tr><td>송천2동  </td><td>송천2동  </td><td>송천2동  </td><td>송천2동  </td><td>송천2동  </td><td>송천2동  </td><td>송천2동  </td><td>송천1동  </td></tr>\n",
              "\t<tr><td>여의동   </td><td>여의동   </td><td>여의동   </td><td>여의동   </td><td>여의동   </td><td>여의동   </td><td>여의동   </td><td>송천2동  </td></tr>\n",
              "\t<tr><td>완산동   </td><td>완산동   </td><td>완산동   </td><td>완산동   </td><td>완산동   </td><td>완산동   </td><td>완산동   </td><td>여의동   </td></tr>\n",
              "\t<tr><td>우아1동  </td><td>우아1동  </td><td>우아1동  </td><td>우아1동  </td><td>우아1동  </td><td>우아1동  </td><td>우아1동  </td><td>완산동   </td></tr>\n",
              "\t<tr><td>우아2동  </td><td>우아2동  </td><td>우아2동  </td><td>우아2동  </td><td>우아2동  </td><td>우아2동  </td><td>우아2동  </td><td>우아1동  </td></tr>\n",
              "\t<tr><td>인후1동  </td><td>인후1동  </td><td>인후1동  </td><td>인후1동  </td><td>인후1동  </td><td>인후1동  </td><td>인후1동  </td><td>우아2동  </td></tr>\n",
              "\t<tr><td>인후2동  </td><td>인후2동  </td><td>인후2동  </td><td>인후2동  </td><td>인후2동  </td><td>인후2동  </td><td>인후2동  </td><td>인후1동  </td></tr>\n",
              "\t<tr><td>인후3동  </td><td>인후3동  </td><td>인후3동  </td><td>인후3동  </td><td>인후3동  </td><td>인후3동  </td><td>인후3동  </td><td>인후2동  </td></tr>\n",
              "\t<tr><td>조촌동   </td><td>조촌동   </td><td>조촌동   </td><td>조촌동   </td><td>조촌동   </td><td>조촌동   </td><td>조촌동   </td><td>인후3동  </td></tr>\n",
              "\t<tr><td>중앙동   </td><td>중앙동   </td><td>중앙동   </td><td>중앙동   </td><td>중앙동   </td><td>중앙동   </td><td>중앙동   </td><td>조촌동   </td></tr>\n",
              "\t<tr><td>중화산1동</td><td>중화산1동</td><td>중화산1동</td><td>중화산1동</td><td>중화산1동</td><td>중화산1동</td><td>중화산1동</td><td>중앙동   </td></tr>\n",
              "\t<tr><td>중화산2동</td><td>중화산2동</td><td>중화산2동</td><td>중화산2동</td><td>중화산2동</td><td>중화산2동</td><td>중화산2동</td><td>중화산1동</td></tr>\n",
              "\t<tr><td>진북동   </td><td>진북동   </td><td>진북동   </td><td>진북동   </td><td>진북동   </td><td>진북동   </td><td>진북동   </td><td>중화산2동</td></tr>\n",
              "\t<tr><td>팔복동   </td><td>팔복동   </td><td>팔복동   </td><td>팔복동   </td><td>팔복동   </td><td>팔복동   </td><td>팔복동   </td><td>진북동   </td></tr>\n",
              "\t<tr><td>평화1동  </td><td>평화1동  </td><td>평화1동  </td><td>평화1동  </td><td>평화1동  </td><td>평화1동  </td><td>평화1동  </td><td>팔복동   </td></tr>\n",
              "\t<tr><td>평화2동  </td><td>평화2동  </td><td>평화2동  </td><td>평화2동  </td><td>평화2동  </td><td>평화2동  </td><td>평화2동  </td><td>평화1동  </td></tr>\n",
              "\t<tr><td>풍남동   </td><td>풍남동   </td><td>풍남동   </td><td>풍남동   </td><td>풍남동   </td><td>풍남동   </td><td>풍남동   </td><td>평화2동  </td></tr>\n",
              "\t<tr><td>혁신동   </td><td>혁신동   </td><td>혁신동   </td><td>혁신동   </td><td>혁신동   </td><td>혁신동   </td><td>혁신동   </td><td>풍남동   </td></tr>\n",
              "\t<tr><td>호성동   </td><td>호성동   </td><td>호성동   </td><td>호성동   </td><td>호성동   </td><td>호성동   </td><td>호성동   </td><td>호성동   </td></tr>\n",
              "\t<tr><td>효자1동  </td><td>효자1동  </td><td>효자1동  </td><td>효자1동  </td><td>효자1동  </td><td>효자1동  </td><td>효자1동  </td><td>효자1동  </td></tr>\n",
              "\t<tr><td>효자2동  </td><td>효자2동  </td><td>효자2동  </td><td>효자2동  </td><td>효자2동  </td><td>효자2동  </td><td>효자2동  </td><td>효자2동  </td></tr>\n",
              "\t<tr><td>효자3동  </td><td>효자3동  </td><td>효자3동  </td><td>효자3동  </td><td>효자3동  </td><td>효자3동  </td><td>효자3동  </td><td>효자3동  </td></tr>\n",
              "\t<tr><td>효자4동  </td><td>효자4동  </td><td>효자4동  </td><td>효자4동  </td><td>효자4동  </td><td>효자4동  </td><td>효자4동  </td><td>효자4동  </td></tr>\n",
              "\t<tr><td>효자5동  </td><td>효자5동  </td><td>효자5동  </td><td>효자5동  </td><td>효자5동  </td><td>효자5동  </td><td>효자5동  </td><td>효자5동  </td></tr>\n",
              "</tbody>\n",
              "</table>\n"
            ]
          },
          "metadata": {
            "tags": []
          }
        }
      ]
    },
    {
      "cell_type": "markdown",
      "metadata": {
        "id": "irzyYTUEEXS5"
      },
      "source": [
        "## 행정동을 기준으로 데이터 정리하기\n",
        "\n"
      ]
    },
    {
      "cell_type": "code",
      "metadata": {
        "colab": {
          "base_uri": "https://localhost:8080/",
          "height": 1000
        },
        "id": "qu_ErOPb9LjQ",
        "outputId": "f1bc39af-3865-4190-e693-bddd4954c883"
      },
      "source": [
        "jj <- merge(pop, rest)\n",
        "jj <- merge(jj, cvstore)\n",
        "jj <- merge(jj, region)\n",
        "jj <- merge(jj, bicycle)\n",
        "jj <- merge(jj, bigstore)\n",
        "jj <- merge(jj, univ)\n",
        "\n",
        "jj"
      ],
      "execution_count": 96,
      "outputs": [
        {
          "output_type": "display_data",
          "data": {
            "text/plain": [
              "   행정동    인구  음식점수 편의점수 면적.km 자전거보관대수 대규모점포수\n",
              "1  금암1동    8824 323      25        1.25   253            1           \n",
              "2  금암2동   10714 119       8        1.25    20            0           \n",
              "3  노송동    13189 193       5        2.09   138            2           \n",
              "4  덕진동    21215 468      29        4.78   237            1           \n",
              "5  동서학동   6784  67       6       15.64     7            0           \n",
              "6  삼천1동   12799  97      NA        1.27    NA            0           \n",
              "7  삼천2동   14447 216       9        0.95    21            0           \n",
              "8  삼천3동   23323 219      13       26.60    62            2           \n",
              "9  서서학동   9223  54      NA        2.97     7            0           \n",
              "10 서신동    40408 560      31        2.39   126            4           \n",
              "11 송천1동   59376 347      30        4.79    31            3           \n",
              "12 송천2동   26748 288      14       12.14    27            0           \n",
              "13 여의동    30208 184      22       15.71    NA            3           \n",
              "14 완산동     5148  17      NA        0.99     7            0           \n",
              "15 우아1동   10096 227      14        1.44    NA            1           \n",
              "16 우아2동   15125 389      36       22.91   110            0           \n",
              "17 인후1동   19047 147       8        1.29    78            1           \n",
              "18 인후2동   12094 174       7        1.32    60            1           \n",
              "19 인후3동   32426 335      30        1.68    20            1           \n",
              "20 조촌동    12133  90       7       24.28    23            0           \n",
              "21 중앙동     8073 567      17        1.35    68            4           \n",
              "22 중화산1동 15288 227      19        1.22    NA            1           \n",
              "23 중화산2동 20030 491      20        1.72   119            0           \n",
              "24 진북동    14924 145       8        1.71   125            0           \n",
              "25 팔복동     8300 120      10        7.38    31            0           \n",
              "26 평화1동   13204 108       8        1.49    95            0           \n",
              "27 평화2동   46295 372      21       15.23    46            3           \n",
              "28 풍남동     4521 488      16        2.05    24            2           \n",
              "29 혁신동    17925 176      11        3.37    NA            0           \n",
              "30 호성동    21154 121       9        7.64    NA            1           \n",
              "31 효자1동   11784  72      NA        1.02    76            2           \n",
              "32 효자2동   10861 144       6        0.84    65            0           \n",
              "33 효자3동   15758 156       9        0.79    10            2           \n",
              "34 효자4동   33756 378      36        7.71    42            8           \n",
              "35 효자5동   37898 805      60        6.27    73            0           \n",
              "   대학교수\n",
              "1  0       \n",
              "2  0       \n",
              "3  0       \n",
              "4  1       \n",
              "5  1       \n",
              "6  0       \n",
              "7  0       \n",
              "8  0       \n",
              "9  0       \n",
              "10 0       \n",
              "11 0       \n",
              "12 0       \n",
              "13 0       \n",
              "14 0       \n",
              "15 0       \n",
              "16 0       \n",
              "17 0       \n",
              "18 0       \n",
              "19 0       \n",
              "20 0       \n",
              "21 0       \n",
              "22 2       \n",
              "23 0       \n",
              "24 0       \n",
              "25 0       \n",
              "26 0       \n",
              "27 0       \n",
              "28 0       \n",
              "29 0       \n",
              "30 0       \n",
              "31 0       \n",
              "32 0       \n",
              "33 0       \n",
              "34 2       \n",
              "35 1       "
            ],
            "text/latex": "A data.frame: 35 × 8\n\\begin{tabular}{llllllll}\n 행정동 & 인구 & 음식점수 & 편의점수 & 면적.km & 자전거보관대수 & 대규모점포수 & 대학교수\\\\\n <chr> & <int> & <int> & <int> & <dbl> & <int> & <dbl> & <dbl>\\\\\n\\hline\n\t 금암1동   &  8824 & 323 & 25 &  1.25 & 253 & 1 & 0\\\\\n\t 금암2동   & 10714 & 119 &  8 &  1.25 &  20 & 0 & 0\\\\\n\t 노송동    & 13189 & 193 &  5 &  2.09 & 138 & 2 & 0\\\\\n\t 덕진동    & 21215 & 468 & 29 &  4.78 & 237 & 1 & 1\\\\\n\t 동서학동  &  6784 &  67 &  6 & 15.64 &   7 & 0 & 1\\\\\n\t 삼천1동   & 12799 &  97 & NA &  1.27 &  NA & 0 & 0\\\\\n\t 삼천2동   & 14447 & 216 &  9 &  0.95 &  21 & 0 & 0\\\\\n\t 삼천3동   & 23323 & 219 & 13 & 26.60 &  62 & 2 & 0\\\\\n\t 서서학동  &  9223 &  54 & NA &  2.97 &   7 & 0 & 0\\\\\n\t 서신동    & 40408 & 560 & 31 &  2.39 & 126 & 4 & 0\\\\\n\t 송천1동   & 59376 & 347 & 30 &  4.79 &  31 & 3 & 0\\\\\n\t 송천2동   & 26748 & 288 & 14 & 12.14 &  27 & 0 & 0\\\\\n\t 여의동    & 30208 & 184 & 22 & 15.71 &  NA & 3 & 0\\\\\n\t 완산동    &  5148 &  17 & NA &  0.99 &   7 & 0 & 0\\\\\n\t 우아1동   & 10096 & 227 & 14 &  1.44 &  NA & 1 & 0\\\\\n\t 우아2동   & 15125 & 389 & 36 & 22.91 & 110 & 0 & 0\\\\\n\t 인후1동   & 19047 & 147 &  8 &  1.29 &  78 & 1 & 0\\\\\n\t 인후2동   & 12094 & 174 &  7 &  1.32 &  60 & 1 & 0\\\\\n\t 인후3동   & 32426 & 335 & 30 &  1.68 &  20 & 1 & 0\\\\\n\t 조촌동    & 12133 &  90 &  7 & 24.28 &  23 & 0 & 0\\\\\n\t 중앙동    &  8073 & 567 & 17 &  1.35 &  68 & 4 & 0\\\\\n\t 중화산1동 & 15288 & 227 & 19 &  1.22 &  NA & 1 & 2\\\\\n\t 중화산2동 & 20030 & 491 & 20 &  1.72 & 119 & 0 & 0\\\\\n\t 진북동    & 14924 & 145 &  8 &  1.71 & 125 & 0 & 0\\\\\n\t 팔복동    &  8300 & 120 & 10 &  7.38 &  31 & 0 & 0\\\\\n\t 평화1동   & 13204 & 108 &  8 &  1.49 &  95 & 0 & 0\\\\\n\t 평화2동   & 46295 & 372 & 21 & 15.23 &  46 & 3 & 0\\\\\n\t 풍남동    &  4521 & 488 & 16 &  2.05 &  24 & 2 & 0\\\\\n\t 혁신동    & 17925 & 176 & 11 &  3.37 &  NA & 0 & 0\\\\\n\t 호성동    & 21154 & 121 &  9 &  7.64 &  NA & 1 & 0\\\\\n\t 효자1동   & 11784 &  72 & NA &  1.02 &  76 & 2 & 0\\\\\n\t 효자2동   & 10861 & 144 &  6 &  0.84 &  65 & 0 & 0\\\\\n\t 효자3동   & 15758 & 156 &  9 &  0.79 &  10 & 2 & 0\\\\\n\t 효자4동   & 33756 & 378 & 36 &  7.71 &  42 & 8 & 2\\\\\n\t 효자5동   & 37898 & 805 & 60 &  6.27 &  73 & 0 & 1\\\\\n\\end{tabular}\n",
            "text/markdown": "\nA data.frame: 35 × 8\n\n| 행정동 &lt;chr&gt; | 인구 &lt;int&gt; | 음식점수 &lt;int&gt; | 편의점수 &lt;int&gt; | 면적.km &lt;dbl&gt; | 자전거보관대수 &lt;int&gt; | 대규모점포수 &lt;dbl&gt; | 대학교수 &lt;dbl&gt; |\n|---|---|---|---|---|---|---|---|\n| 금암1동   |  8824 | 323 | 25 |  1.25 | 253 | 1 | 0 |\n| 금암2동   | 10714 | 119 |  8 |  1.25 |  20 | 0 | 0 |\n| 노송동    | 13189 | 193 |  5 |  2.09 | 138 | 2 | 0 |\n| 덕진동    | 21215 | 468 | 29 |  4.78 | 237 | 1 | 1 |\n| 동서학동  |  6784 |  67 |  6 | 15.64 |   7 | 0 | 1 |\n| 삼천1동   | 12799 |  97 | NA |  1.27 |  NA | 0 | 0 |\n| 삼천2동   | 14447 | 216 |  9 |  0.95 |  21 | 0 | 0 |\n| 삼천3동   | 23323 | 219 | 13 | 26.60 |  62 | 2 | 0 |\n| 서서학동  |  9223 |  54 | NA |  2.97 |   7 | 0 | 0 |\n| 서신동    | 40408 | 560 | 31 |  2.39 | 126 | 4 | 0 |\n| 송천1동   | 59376 | 347 | 30 |  4.79 |  31 | 3 | 0 |\n| 송천2동   | 26748 | 288 | 14 | 12.14 |  27 | 0 | 0 |\n| 여의동    | 30208 | 184 | 22 | 15.71 |  NA | 3 | 0 |\n| 완산동    |  5148 |  17 | NA |  0.99 |   7 | 0 | 0 |\n| 우아1동   | 10096 | 227 | 14 |  1.44 |  NA | 1 | 0 |\n| 우아2동   | 15125 | 389 | 36 | 22.91 | 110 | 0 | 0 |\n| 인후1동   | 19047 | 147 |  8 |  1.29 |  78 | 1 | 0 |\n| 인후2동   | 12094 | 174 |  7 |  1.32 |  60 | 1 | 0 |\n| 인후3동   | 32426 | 335 | 30 |  1.68 |  20 | 1 | 0 |\n| 조촌동    | 12133 |  90 |  7 | 24.28 |  23 | 0 | 0 |\n| 중앙동    |  8073 | 567 | 17 |  1.35 |  68 | 4 | 0 |\n| 중화산1동 | 15288 | 227 | 19 |  1.22 |  NA | 1 | 2 |\n| 중화산2동 | 20030 | 491 | 20 |  1.72 | 119 | 0 | 0 |\n| 진북동    | 14924 | 145 |  8 |  1.71 | 125 | 0 | 0 |\n| 팔복동    |  8300 | 120 | 10 |  7.38 |  31 | 0 | 0 |\n| 평화1동   | 13204 | 108 |  8 |  1.49 |  95 | 0 | 0 |\n| 평화2동   | 46295 | 372 | 21 | 15.23 |  46 | 3 | 0 |\n| 풍남동    |  4521 | 488 | 16 |  2.05 |  24 | 2 | 0 |\n| 혁신동    | 17925 | 176 | 11 |  3.37 |  NA | 0 | 0 |\n| 호성동    | 21154 | 121 |  9 |  7.64 |  NA | 1 | 0 |\n| 효자1동   | 11784 |  72 | NA |  1.02 |  76 | 2 | 0 |\n| 효자2동   | 10861 | 144 |  6 |  0.84 |  65 | 0 | 0 |\n| 효자3동   | 15758 | 156 |  9 |  0.79 |  10 | 2 | 0 |\n| 효자4동   | 33756 | 378 | 36 |  7.71 |  42 | 8 | 2 |\n| 효자5동   | 37898 | 805 | 60 |  6.27 |  73 | 0 | 1 |\n\n",
            "text/html": [
              "<table class=\"dataframe\">\n",
              "<caption>A data.frame: 35 × 8</caption>\n",
              "<thead>\n",
              "\t<tr><th scope=col>행정동</th><th scope=col>인구</th><th scope=col>음식점수</th><th scope=col>편의점수</th><th scope=col>면적.km</th><th scope=col>자전거보관대수</th><th scope=col>대규모점포수</th><th scope=col>대학교수</th></tr>\n",
              "\t<tr><th scope=col>&lt;chr&gt;</th><th scope=col>&lt;int&gt;</th><th scope=col>&lt;int&gt;</th><th scope=col>&lt;int&gt;</th><th scope=col>&lt;dbl&gt;</th><th scope=col>&lt;int&gt;</th><th scope=col>&lt;dbl&gt;</th><th scope=col>&lt;dbl&gt;</th></tr>\n",
              "</thead>\n",
              "<tbody>\n",
              "\t<tr><td>금암1동  </td><td> 8824</td><td>323</td><td>25</td><td> 1.25</td><td>253</td><td>1</td><td>0</td></tr>\n",
              "\t<tr><td>금암2동  </td><td>10714</td><td>119</td><td> 8</td><td> 1.25</td><td> 20</td><td>0</td><td>0</td></tr>\n",
              "\t<tr><td>노송동   </td><td>13189</td><td>193</td><td> 5</td><td> 2.09</td><td>138</td><td>2</td><td>0</td></tr>\n",
              "\t<tr><td>덕진동   </td><td>21215</td><td>468</td><td>29</td><td> 4.78</td><td>237</td><td>1</td><td>1</td></tr>\n",
              "\t<tr><td>동서학동 </td><td> 6784</td><td> 67</td><td> 6</td><td>15.64</td><td>  7</td><td>0</td><td>1</td></tr>\n",
              "\t<tr><td>삼천1동  </td><td>12799</td><td> 97</td><td>NA</td><td> 1.27</td><td> NA</td><td>0</td><td>0</td></tr>\n",
              "\t<tr><td>삼천2동  </td><td>14447</td><td>216</td><td> 9</td><td> 0.95</td><td> 21</td><td>0</td><td>0</td></tr>\n",
              "\t<tr><td>삼천3동  </td><td>23323</td><td>219</td><td>13</td><td>26.60</td><td> 62</td><td>2</td><td>0</td></tr>\n",
              "\t<tr><td>서서학동 </td><td> 9223</td><td> 54</td><td>NA</td><td> 2.97</td><td>  7</td><td>0</td><td>0</td></tr>\n",
              "\t<tr><td>서신동   </td><td>40408</td><td>560</td><td>31</td><td> 2.39</td><td>126</td><td>4</td><td>0</td></tr>\n",
              "\t<tr><td>송천1동  </td><td>59376</td><td>347</td><td>30</td><td> 4.79</td><td> 31</td><td>3</td><td>0</td></tr>\n",
              "\t<tr><td>송천2동  </td><td>26748</td><td>288</td><td>14</td><td>12.14</td><td> 27</td><td>0</td><td>0</td></tr>\n",
              "\t<tr><td>여의동   </td><td>30208</td><td>184</td><td>22</td><td>15.71</td><td> NA</td><td>3</td><td>0</td></tr>\n",
              "\t<tr><td>완산동   </td><td> 5148</td><td> 17</td><td>NA</td><td> 0.99</td><td>  7</td><td>0</td><td>0</td></tr>\n",
              "\t<tr><td>우아1동  </td><td>10096</td><td>227</td><td>14</td><td> 1.44</td><td> NA</td><td>1</td><td>0</td></tr>\n",
              "\t<tr><td>우아2동  </td><td>15125</td><td>389</td><td>36</td><td>22.91</td><td>110</td><td>0</td><td>0</td></tr>\n",
              "\t<tr><td>인후1동  </td><td>19047</td><td>147</td><td> 8</td><td> 1.29</td><td> 78</td><td>1</td><td>0</td></tr>\n",
              "\t<tr><td>인후2동  </td><td>12094</td><td>174</td><td> 7</td><td> 1.32</td><td> 60</td><td>1</td><td>0</td></tr>\n",
              "\t<tr><td>인후3동  </td><td>32426</td><td>335</td><td>30</td><td> 1.68</td><td> 20</td><td>1</td><td>0</td></tr>\n",
              "\t<tr><td>조촌동   </td><td>12133</td><td> 90</td><td> 7</td><td>24.28</td><td> 23</td><td>0</td><td>0</td></tr>\n",
              "\t<tr><td>중앙동   </td><td> 8073</td><td>567</td><td>17</td><td> 1.35</td><td> 68</td><td>4</td><td>0</td></tr>\n",
              "\t<tr><td>중화산1동</td><td>15288</td><td>227</td><td>19</td><td> 1.22</td><td> NA</td><td>1</td><td>2</td></tr>\n",
              "\t<tr><td>중화산2동</td><td>20030</td><td>491</td><td>20</td><td> 1.72</td><td>119</td><td>0</td><td>0</td></tr>\n",
              "\t<tr><td>진북동   </td><td>14924</td><td>145</td><td> 8</td><td> 1.71</td><td>125</td><td>0</td><td>0</td></tr>\n",
              "\t<tr><td>팔복동   </td><td> 8300</td><td>120</td><td>10</td><td> 7.38</td><td> 31</td><td>0</td><td>0</td></tr>\n",
              "\t<tr><td>평화1동  </td><td>13204</td><td>108</td><td> 8</td><td> 1.49</td><td> 95</td><td>0</td><td>0</td></tr>\n",
              "\t<tr><td>평화2동  </td><td>46295</td><td>372</td><td>21</td><td>15.23</td><td> 46</td><td>3</td><td>0</td></tr>\n",
              "\t<tr><td>풍남동   </td><td> 4521</td><td>488</td><td>16</td><td> 2.05</td><td> 24</td><td>2</td><td>0</td></tr>\n",
              "\t<tr><td>혁신동   </td><td>17925</td><td>176</td><td>11</td><td> 3.37</td><td> NA</td><td>0</td><td>0</td></tr>\n",
              "\t<tr><td>호성동   </td><td>21154</td><td>121</td><td> 9</td><td> 7.64</td><td> NA</td><td>1</td><td>0</td></tr>\n",
              "\t<tr><td>효자1동  </td><td>11784</td><td> 72</td><td>NA</td><td> 1.02</td><td> 76</td><td>2</td><td>0</td></tr>\n",
              "\t<tr><td>효자2동  </td><td>10861</td><td>144</td><td> 6</td><td> 0.84</td><td> 65</td><td>0</td><td>0</td></tr>\n",
              "\t<tr><td>효자3동  </td><td>15758</td><td>156</td><td> 9</td><td> 0.79</td><td> 10</td><td>2</td><td>0</td></tr>\n",
              "\t<tr><td>효자4동  </td><td>33756</td><td>378</td><td>36</td><td> 7.71</td><td> 42</td><td>8</td><td>2</td></tr>\n",
              "\t<tr><td>효자5동  </td><td>37898</td><td>805</td><td>60</td><td> 6.27</td><td> 73</td><td>0</td><td>1</td></tr>\n",
              "</tbody>\n",
              "</table>\n"
            ]
          },
          "metadata": {
            "tags": []
          }
        }
      ]
    },
    {
      "cell_type": "markdown",
      "metadata": {
        "id": "1zBPcz7mEib5"
      },
      "source": [
        "데이터에 있는 NA 값은 각 변수의 중앙값으로 교체 (오류)"
      ]
    },
    {
      "cell_type": "code",
      "metadata": {
        "colab": {
          "base_uri": "https://localhost:8080/",
          "height": 169
        },
        "id": "y6Ia-RBMAPKp",
        "outputId": "86fead12-5252-4159-e2ca-8a98676789ca"
      },
      "source": [
        "jj[is.na(jj$인구) == TRUE ] <- median(jj$인구)\n",
        "jj[is.na(jj$음식점수) == TRUE ] <- median(jj$음식점수)\n",
        "jj[is.na(jj$편의점수) == TRUE ] <- median(jj$편의점수)\n",
        "jj[is.na(jj$면적.km) == TRUE ] <- median(jj$면적.km)\n",
        "jj[is.na(jj$자전거보관대수) == TRUE ] <- median(jj$자전거보관대수)\n",
        "jj[is.na(jj$대규모점포수) == TRUE ] <- median(jj$대규모점포수)\n",
        "jj[is.na(jj$대학교수) == TRUE ] <- median(jj$대학교수)"
      ],
      "execution_count": 97,
      "outputs": [
        {
          "output_type": "error",
          "ename": "ERROR",
          "evalue": "ignored",
          "traceback": [
            "Error in `[<-.data.frame`(`*tmp*`, is.na(jj$편의점수) == TRUE, value = NA_integer_): duplicate subscripts for columns\nTraceback:\n",
            "1. `[<-`(`*tmp*`, is.na(jj$편의점수) == TRUE, value = NA_integer_)",
            "2. `[<-.data.frame`(`*tmp*`, is.na(jj$편의점수) == TRUE, value = NA_integer_)",
            "3. stop(\"duplicate subscripts for columns\")"
          ]
        }
      ]
    },
    {
      "cell_type": "code",
      "metadata": {
        "colab": {
          "base_uri": "https://localhost:8080/",
          "height": 1000
        },
        "id": "QK_glJhLAUSU",
        "outputId": "1c6b55a6-2390-44bd-e4e8-20ee3dd516a9"
      },
      "source": [
        "jj <- jj[,-1]\n",
        "jj"
      ],
      "execution_count": 106,
      "outputs": [
        {
          "output_type": "display_data",
          "data": {
            "text/plain": [
              "   인구  음식점수 편의점수 면적.km 자전거보관대수 대규모점포수 대학교수\n",
              "1   8824 323      25        1.25   253            1            0       \n",
              "2  10714 119       8        1.25    20            0            0       \n",
              "3  13189 193       5        2.09   138            2            0       \n",
              "4  21215 468      29        4.78   237            1            1       \n",
              "5   6784  67       6       15.64     7            0            1       \n",
              "6  12799  97      NA        1.27    NA            0            0       \n",
              "7  14447 216       9        0.95    21            0            0       \n",
              "8  23323 219      13       26.60    62            2            0       \n",
              "9   9223  54      NA        2.97     7            0            0       \n",
              "10 40408 560      31        2.39   126            4            0       \n",
              "11 59376 347      30        4.79    31            3            0       \n",
              "12 26748 288      14       12.14    27            0            0       \n",
              "13 30208 184      22       15.71    NA            3            0       \n",
              "14  5148  17      NA        0.99     7            0            0       \n",
              "15 10096 227      14        1.44    NA            1            0       \n",
              "16 15125 389      36       22.91   110            0            0       \n",
              "17 19047 147       8        1.29    78            1            0       \n",
              "18 12094 174       7        1.32    60            1            0       \n",
              "19 32426 335      30        1.68    20            1            0       \n",
              "20 12133  90       7       24.28    23            0            0       \n",
              "21  8073 567      17        1.35    68            4            0       \n",
              "22 15288 227      19        1.22    NA            1            2       \n",
              "23 20030 491      20        1.72   119            0            0       \n",
              "24 14924 145       8        1.71   125            0            0       \n",
              "25  8300 120      10        7.38    31            0            0       \n",
              "26 13204 108       8        1.49    95            0            0       \n",
              "27 46295 372      21       15.23    46            3            0       \n",
              "28  4521 488      16        2.05    24            2            0       \n",
              "29 17925 176      11        3.37    NA            0            0       \n",
              "30 21154 121       9        7.64    NA            1            0       \n",
              "31 11784  72      NA        1.02    76            2            0       \n",
              "32 10861 144       6        0.84    65            0            0       \n",
              "33 15758 156       9        0.79    10            2            0       \n",
              "34 33756 378      36        7.71    42            8            2       \n",
              "35 37898 805      60        6.27    73            0            1       "
            ],
            "text/latex": "A data.frame: 35 × 7\n\\begin{tabular}{lllllll}\n 인구 & 음식점수 & 편의점수 & 면적.km & 자전거보관대수 & 대규모점포수 & 대학교수\\\\\n <int> & <int> & <int> & <dbl> & <int> & <dbl> & <dbl>\\\\\n\\hline\n\t  8824 & 323 & 25 &  1.25 & 253 & 1 & 0\\\\\n\t 10714 & 119 &  8 &  1.25 &  20 & 0 & 0\\\\\n\t 13189 & 193 &  5 &  2.09 & 138 & 2 & 0\\\\\n\t 21215 & 468 & 29 &  4.78 & 237 & 1 & 1\\\\\n\t  6784 &  67 &  6 & 15.64 &   7 & 0 & 1\\\\\n\t 12799 &  97 & NA &  1.27 &  NA & 0 & 0\\\\\n\t 14447 & 216 &  9 &  0.95 &  21 & 0 & 0\\\\\n\t 23323 & 219 & 13 & 26.60 &  62 & 2 & 0\\\\\n\t  9223 &  54 & NA &  2.97 &   7 & 0 & 0\\\\\n\t 40408 & 560 & 31 &  2.39 & 126 & 4 & 0\\\\\n\t 59376 & 347 & 30 &  4.79 &  31 & 3 & 0\\\\\n\t 26748 & 288 & 14 & 12.14 &  27 & 0 & 0\\\\\n\t 30208 & 184 & 22 & 15.71 &  NA & 3 & 0\\\\\n\t  5148 &  17 & NA &  0.99 &   7 & 0 & 0\\\\\n\t 10096 & 227 & 14 &  1.44 &  NA & 1 & 0\\\\\n\t 15125 & 389 & 36 & 22.91 & 110 & 0 & 0\\\\\n\t 19047 & 147 &  8 &  1.29 &  78 & 1 & 0\\\\\n\t 12094 & 174 &  7 &  1.32 &  60 & 1 & 0\\\\\n\t 32426 & 335 & 30 &  1.68 &  20 & 1 & 0\\\\\n\t 12133 &  90 &  7 & 24.28 &  23 & 0 & 0\\\\\n\t  8073 & 567 & 17 &  1.35 &  68 & 4 & 0\\\\\n\t 15288 & 227 & 19 &  1.22 &  NA & 1 & 2\\\\\n\t 20030 & 491 & 20 &  1.72 & 119 & 0 & 0\\\\\n\t 14924 & 145 &  8 &  1.71 & 125 & 0 & 0\\\\\n\t  8300 & 120 & 10 &  7.38 &  31 & 0 & 0\\\\\n\t 13204 & 108 &  8 &  1.49 &  95 & 0 & 0\\\\\n\t 46295 & 372 & 21 & 15.23 &  46 & 3 & 0\\\\\n\t  4521 & 488 & 16 &  2.05 &  24 & 2 & 0\\\\\n\t 17925 & 176 & 11 &  3.37 &  NA & 0 & 0\\\\\n\t 21154 & 121 &  9 &  7.64 &  NA & 1 & 0\\\\\n\t 11784 &  72 & NA &  1.02 &  76 & 2 & 0\\\\\n\t 10861 & 144 &  6 &  0.84 &  65 & 0 & 0\\\\\n\t 15758 & 156 &  9 &  0.79 &  10 & 2 & 0\\\\\n\t 33756 & 378 & 36 &  7.71 &  42 & 8 & 2\\\\\n\t 37898 & 805 & 60 &  6.27 &  73 & 0 & 1\\\\\n\\end{tabular}\n",
            "text/markdown": "\nA data.frame: 35 × 7\n\n| 인구 &lt;int&gt; | 음식점수 &lt;int&gt; | 편의점수 &lt;int&gt; | 면적.km &lt;dbl&gt; | 자전거보관대수 &lt;int&gt; | 대규모점포수 &lt;dbl&gt; | 대학교수 &lt;dbl&gt; |\n|---|---|---|---|---|---|---|\n|  8824 | 323 | 25 |  1.25 | 253 | 1 | 0 |\n| 10714 | 119 |  8 |  1.25 |  20 | 0 | 0 |\n| 13189 | 193 |  5 |  2.09 | 138 | 2 | 0 |\n| 21215 | 468 | 29 |  4.78 | 237 | 1 | 1 |\n|  6784 |  67 |  6 | 15.64 |   7 | 0 | 1 |\n| 12799 |  97 | NA |  1.27 |  NA | 0 | 0 |\n| 14447 | 216 |  9 |  0.95 |  21 | 0 | 0 |\n| 23323 | 219 | 13 | 26.60 |  62 | 2 | 0 |\n|  9223 |  54 | NA |  2.97 |   7 | 0 | 0 |\n| 40408 | 560 | 31 |  2.39 | 126 | 4 | 0 |\n| 59376 | 347 | 30 |  4.79 |  31 | 3 | 0 |\n| 26748 | 288 | 14 | 12.14 |  27 | 0 | 0 |\n| 30208 | 184 | 22 | 15.71 |  NA | 3 | 0 |\n|  5148 |  17 | NA |  0.99 |   7 | 0 | 0 |\n| 10096 | 227 | 14 |  1.44 |  NA | 1 | 0 |\n| 15125 | 389 | 36 | 22.91 | 110 | 0 | 0 |\n| 19047 | 147 |  8 |  1.29 |  78 | 1 | 0 |\n| 12094 | 174 |  7 |  1.32 |  60 | 1 | 0 |\n| 32426 | 335 | 30 |  1.68 |  20 | 1 | 0 |\n| 12133 |  90 |  7 | 24.28 |  23 | 0 | 0 |\n|  8073 | 567 | 17 |  1.35 |  68 | 4 | 0 |\n| 15288 | 227 | 19 |  1.22 |  NA | 1 | 2 |\n| 20030 | 491 | 20 |  1.72 | 119 | 0 | 0 |\n| 14924 | 145 |  8 |  1.71 | 125 | 0 | 0 |\n|  8300 | 120 | 10 |  7.38 |  31 | 0 | 0 |\n| 13204 | 108 |  8 |  1.49 |  95 | 0 | 0 |\n| 46295 | 372 | 21 | 15.23 |  46 | 3 | 0 |\n|  4521 | 488 | 16 |  2.05 |  24 | 2 | 0 |\n| 17925 | 176 | 11 |  3.37 |  NA | 0 | 0 |\n| 21154 | 121 |  9 |  7.64 |  NA | 1 | 0 |\n| 11784 |  72 | NA |  1.02 |  76 | 2 | 0 |\n| 10861 | 144 |  6 |  0.84 |  65 | 0 | 0 |\n| 15758 | 156 |  9 |  0.79 |  10 | 2 | 0 |\n| 33756 | 378 | 36 |  7.71 |  42 | 8 | 2 |\n| 37898 | 805 | 60 |  6.27 |  73 | 0 | 1 |\n\n",
            "text/html": [
              "<table class=\"dataframe\">\n",
              "<caption>A data.frame: 35 × 7</caption>\n",
              "<thead>\n",
              "\t<tr><th scope=col>인구</th><th scope=col>음식점수</th><th scope=col>편의점수</th><th scope=col>면적.km</th><th scope=col>자전거보관대수</th><th scope=col>대규모점포수</th><th scope=col>대학교수</th></tr>\n",
              "\t<tr><th scope=col>&lt;int&gt;</th><th scope=col>&lt;int&gt;</th><th scope=col>&lt;int&gt;</th><th scope=col>&lt;dbl&gt;</th><th scope=col>&lt;int&gt;</th><th scope=col>&lt;dbl&gt;</th><th scope=col>&lt;dbl&gt;</th></tr>\n",
              "</thead>\n",
              "<tbody>\n",
              "\t<tr><td> 8824</td><td>323</td><td>25</td><td> 1.25</td><td>253</td><td>1</td><td>0</td></tr>\n",
              "\t<tr><td>10714</td><td>119</td><td> 8</td><td> 1.25</td><td> 20</td><td>0</td><td>0</td></tr>\n",
              "\t<tr><td>13189</td><td>193</td><td> 5</td><td> 2.09</td><td>138</td><td>2</td><td>0</td></tr>\n",
              "\t<tr><td>21215</td><td>468</td><td>29</td><td> 4.78</td><td>237</td><td>1</td><td>1</td></tr>\n",
              "\t<tr><td> 6784</td><td> 67</td><td> 6</td><td>15.64</td><td>  7</td><td>0</td><td>1</td></tr>\n",
              "\t<tr><td>12799</td><td> 97</td><td>NA</td><td> 1.27</td><td> NA</td><td>0</td><td>0</td></tr>\n",
              "\t<tr><td>14447</td><td>216</td><td> 9</td><td> 0.95</td><td> 21</td><td>0</td><td>0</td></tr>\n",
              "\t<tr><td>23323</td><td>219</td><td>13</td><td>26.60</td><td> 62</td><td>2</td><td>0</td></tr>\n",
              "\t<tr><td> 9223</td><td> 54</td><td>NA</td><td> 2.97</td><td>  7</td><td>0</td><td>0</td></tr>\n",
              "\t<tr><td>40408</td><td>560</td><td>31</td><td> 2.39</td><td>126</td><td>4</td><td>0</td></tr>\n",
              "\t<tr><td>59376</td><td>347</td><td>30</td><td> 4.79</td><td> 31</td><td>3</td><td>0</td></tr>\n",
              "\t<tr><td>26748</td><td>288</td><td>14</td><td>12.14</td><td> 27</td><td>0</td><td>0</td></tr>\n",
              "\t<tr><td>30208</td><td>184</td><td>22</td><td>15.71</td><td> NA</td><td>3</td><td>0</td></tr>\n",
              "\t<tr><td> 5148</td><td> 17</td><td>NA</td><td> 0.99</td><td>  7</td><td>0</td><td>0</td></tr>\n",
              "\t<tr><td>10096</td><td>227</td><td>14</td><td> 1.44</td><td> NA</td><td>1</td><td>0</td></tr>\n",
              "\t<tr><td>15125</td><td>389</td><td>36</td><td>22.91</td><td>110</td><td>0</td><td>0</td></tr>\n",
              "\t<tr><td>19047</td><td>147</td><td> 8</td><td> 1.29</td><td> 78</td><td>1</td><td>0</td></tr>\n",
              "\t<tr><td>12094</td><td>174</td><td> 7</td><td> 1.32</td><td> 60</td><td>1</td><td>0</td></tr>\n",
              "\t<tr><td>32426</td><td>335</td><td>30</td><td> 1.68</td><td> 20</td><td>1</td><td>0</td></tr>\n",
              "\t<tr><td>12133</td><td> 90</td><td> 7</td><td>24.28</td><td> 23</td><td>0</td><td>0</td></tr>\n",
              "\t<tr><td> 8073</td><td>567</td><td>17</td><td> 1.35</td><td> 68</td><td>4</td><td>0</td></tr>\n",
              "\t<tr><td>15288</td><td>227</td><td>19</td><td> 1.22</td><td> NA</td><td>1</td><td>2</td></tr>\n",
              "\t<tr><td>20030</td><td>491</td><td>20</td><td> 1.72</td><td>119</td><td>0</td><td>0</td></tr>\n",
              "\t<tr><td>14924</td><td>145</td><td> 8</td><td> 1.71</td><td>125</td><td>0</td><td>0</td></tr>\n",
              "\t<tr><td> 8300</td><td>120</td><td>10</td><td> 7.38</td><td> 31</td><td>0</td><td>0</td></tr>\n",
              "\t<tr><td>13204</td><td>108</td><td> 8</td><td> 1.49</td><td> 95</td><td>0</td><td>0</td></tr>\n",
              "\t<tr><td>46295</td><td>372</td><td>21</td><td>15.23</td><td> 46</td><td>3</td><td>0</td></tr>\n",
              "\t<tr><td> 4521</td><td>488</td><td>16</td><td> 2.05</td><td> 24</td><td>2</td><td>0</td></tr>\n",
              "\t<tr><td>17925</td><td>176</td><td>11</td><td> 3.37</td><td> NA</td><td>0</td><td>0</td></tr>\n",
              "\t<tr><td>21154</td><td>121</td><td> 9</td><td> 7.64</td><td> NA</td><td>1</td><td>0</td></tr>\n",
              "\t<tr><td>11784</td><td> 72</td><td>NA</td><td> 1.02</td><td> 76</td><td>2</td><td>0</td></tr>\n",
              "\t<tr><td>10861</td><td>144</td><td> 6</td><td> 0.84</td><td> 65</td><td>0</td><td>0</td></tr>\n",
              "\t<tr><td>15758</td><td>156</td><td> 9</td><td> 0.79</td><td> 10</td><td>2</td><td>0</td></tr>\n",
              "\t<tr><td>33756</td><td>378</td><td>36</td><td> 7.71</td><td> 42</td><td>8</td><td>2</td></tr>\n",
              "\t<tr><td>37898</td><td>805</td><td>60</td><td> 6.27</td><td> 73</td><td>0</td><td>1</td></tr>\n",
              "</tbody>\n",
              "</table>\n"
            ]
          },
          "metadata": {
            "tags": []
          }
        }
      ]
    },
    {
      "cell_type": "code",
      "metadata": {
        "colab": {
          "base_uri": "https://localhost:8080/",
          "height": 271
        },
        "id": "pGhpOb8fASOF",
        "outputId": "9fe634ca-5b23-4f58-d364-ac34f455525f"
      },
      "source": [
        "cor(jj)"
      ],
      "execution_count": 107,
      "outputs": [
        {
          "output_type": "display_data",
          "data": {
            "text/plain": [
              "               인구      음식점수     편의점수 면적.km      자전거보관대수\n",
              "인구           1.0000000  0.474960458 NA        0.199027238 NA            \n",
              "음식점수       0.4749605  1.000000000 NA       -0.003611675 NA            \n",
              "편의점수              NA           NA  1                 NA NA            \n",
              "면적.km        0.1990272 -0.003611675 NA        1.000000000 NA            \n",
              "자전거보관대수        NA           NA NA                 NA  1            \n",
              "대규모점포수   0.4619764  0.349748671 NA        0.040469169 NA            \n",
              "대학교수       0.1386339  0.239924898 NA        0.026153577 NA            \n",
              "               대규모점포수 대학교수  \n",
              "인구           0.46197639   0.13863391\n",
              "음식점수       0.34974867   0.23992490\n",
              "편의점수               NA           NA\n",
              "면적.km        0.04046917   0.02615358\n",
              "자전거보관대수         NA           NA\n",
              "대규모점포수   1.00000000   0.33877017\n",
              "대학교수       0.33877017   1.00000000"
            ],
            "text/latex": "A matrix: 7 × 7 of type dbl\n\\begin{tabular}{r|lllllll}\n  & 인구 & 음식점수 & 편의점수 & 면적.km & 자전거보관대수 & 대규모점포수 & 대학교수\\\\\n\\hline\n\t인구 & 1.0000000 &  0.474960458 & NA &  0.199027238 & NA & 0.46197639 & 0.13863391\\\\\n\t음식점수 & 0.4749605 &  1.000000000 & NA & -0.003611675 & NA & 0.34974867 & 0.23992490\\\\\n\t편의점수 &        NA &           NA &  1 &           NA & NA &         NA &         NA\\\\\n\t면적.km & 0.1990272 & -0.003611675 & NA &  1.000000000 & NA & 0.04046917 & 0.02615358\\\\\n\t자전거보관대수 &        NA &           NA & NA &           NA &  1 &         NA &         NA\\\\\n\t대규모점포수 & 0.4619764 &  0.349748671 & NA &  0.040469169 & NA & 1.00000000 & 0.33877017\\\\\n\t대학교수 & 0.1386339 &  0.239924898 & NA &  0.026153577 & NA & 0.33877017 & 1.00000000\\\\\n\\end{tabular}\n",
            "text/markdown": "\nA matrix: 7 × 7 of type dbl\n\n| <!--/--> | 인구 | 음식점수 | 편의점수 | 면적.km | 자전거보관대수 | 대규모점포수 | 대학교수 |\n|---|---|---|---|---|---|---|---|\n| 인구 | 1.0000000 |  0.474960458 | NA |  0.199027238 | NA | 0.46197639 | 0.13863391 |\n| 음식점수 | 0.4749605 |  1.000000000 | NA | -0.003611675 | NA | 0.34974867 | 0.23992490 |\n| 편의점수 |        NA |           NA |  1 |           NA | NA |         NA |         NA |\n| 면적.km | 0.1990272 | -0.003611675 | NA |  1.000000000 | NA | 0.04046917 | 0.02615358 |\n| 자전거보관대수 |        NA |           NA | NA |           NA |  1 |         NA |         NA |\n| 대규모점포수 | 0.4619764 |  0.349748671 | NA |  0.040469169 | NA | 1.00000000 | 0.33877017 |\n| 대학교수 | 0.1386339 |  0.239924898 | NA |  0.026153577 | NA | 0.33877017 | 1.00000000 |\n\n",
            "text/html": [
              "<table class=\"dataframe\">\n",
              "<caption>A matrix: 7 × 7 of type dbl</caption>\n",
              "<thead>\n",
              "\t<tr><th></th><th scope=col>인구</th><th scope=col>음식점수</th><th scope=col>편의점수</th><th scope=col>면적.km</th><th scope=col>자전거보관대수</th><th scope=col>대규모점포수</th><th scope=col>대학교수</th></tr>\n",
              "</thead>\n",
              "<tbody>\n",
              "\t<tr><th scope=row>인구</th><td>1.0000000</td><td> 0.474960458</td><td>NA</td><td> 0.199027238</td><td>NA</td><td>0.46197639</td><td>0.13863391</td></tr>\n",
              "\t<tr><th scope=row>음식점수</th><td>0.4749605</td><td> 1.000000000</td><td>NA</td><td>-0.003611675</td><td>NA</td><td>0.34974867</td><td>0.23992490</td></tr>\n",
              "\t<tr><th scope=row>편의점수</th><td>       NA</td><td>          NA</td><td> 1</td><td>          NA</td><td>NA</td><td>        NA</td><td>        NA</td></tr>\n",
              "\t<tr><th scope=row>면적.km</th><td>0.1990272</td><td>-0.003611675</td><td>NA</td><td> 1.000000000</td><td>NA</td><td>0.04046917</td><td>0.02615358</td></tr>\n",
              "\t<tr><th scope=row>자전거보관대수</th><td>       NA</td><td>          NA</td><td>NA</td><td>          NA</td><td> 1</td><td>        NA</td><td>        NA</td></tr>\n",
              "\t<tr><th scope=row>대규모점포수</th><td>0.4619764</td><td> 0.349748671</td><td>NA</td><td> 0.040469169</td><td>NA</td><td>1.00000000</td><td>0.33877017</td></tr>\n",
              "\t<tr><th scope=row>대학교수</th><td>0.1386339</td><td> 0.239924898</td><td>NA</td><td> 0.026153577</td><td>NA</td><td>0.33877017</td><td>1.00000000</td></tr>\n",
              "</tbody>\n",
              "</table>\n"
            ]
          },
          "metadata": {
            "tags": []
          }
        }
      ]
    },
    {
      "cell_type": "code",
      "metadata": {
        "id": "_Z3m2Nq1OsB9"
      },
      "source": [
        "\n",
        "#########################################################################################################코드\n",
        "\n",
        "pop <- read.csv(\"C:/Users/WIN10/성민지/데이터_3차/데이터_3차/데이터_4차_행정동/(중복)2019_전주시 동별 인구.csv\")\n",
        "rest <- read.csv(\"C:/Users/WIN10/성민지/데이터_3차/데이터_3차/데이터_4차_행정동/(중복)동별 음식점 및 주점업 사업체수(2018).csv\")\n",
        "bicycle <- read.csv(\"C:/Users/WIN10/성민지/데이터_3차/데이터_3차/데이터_4차_행정동/(행정동)12_04_03_E_자전거보관소정보.csv\")\n",
        "bigstore <- read.csv(\"C:/Users/WIN10/성민지/데이터_3차/데이터_3차/데이터_4차_행정동/(행정동)대규모점포현황_2020.csv\")\n",
        "cvstore <- read.csv(\"C:/Users/WIN10/성민지/데이터_3차/데이터_3차/데이터_4차_행정동/(행정동)동별 체인화 편의점 + 사업체수 (2018년).csv\")\n",
        "univ <- read.csv(\"C:/Users/WIN10/성민지/데이터_3차/데이터_3차/데이터_4차_행정동/(행정동)전주시 대학교.csv\")\n",
        "region <- read.csv(\"C:/Users/WIN10/성민지/데이터_3차/데이터_3차/데이터_4차_행정동/(행정동)전주시 행정동 면적.csv\")\n",
        "\n",
        "jjdong <- read.csv(\"C:/Users/WIN10/성민지/데이터_3차/데이터_3차/데이터_4차_행정동/전주 행정동_가나다순.csv\")\n",
        "jjdong <- jjdong$행정동\n",
        "str(jjdong)\n",
        "head(jjdong)\n",
        "\n",
        "library(dplyr)\n",
        "\n",
        "str(pop) ####\n",
        "head(pop)\n",
        "pop <- pop[,c(2,3)]\n",
        "names(pop)[1] <- \"행정동\"\n",
        "pop <- arrange(pop, pop$행정동)\n",
        "table(pop$행정동 %in% jjdong)\n",
        "table(jjdong %in% pop$행정동)\n",
        "pop$행정동[pop$행정동 %in% jjdong == FALSE] #jjdong에는 없는 pop의 행정동\n",
        "jjdong[jjdong %in% pop$행정동 == FALSE] #pop에는 없는 jjdong의 행정동\n",
        "pop$행정동[which(pop$행정동 == \"동산동\")] <- \"여의동\" ## 19년 8월에 동산동을 여의동으로 변경, https://www.hani.co.kr/arti/area/honam/905848.html?_fr=mt2\n",
        "pop <- arrange(pop, pop$행정동)\n",
        "pop\n",
        "\n",
        "str(rest) ####\n",
        "head(rest)\n",
        "rest <- rest[,c(2,4)]\n",
        "names(rest) <- c(\"행정동\", \"음식점수\")\n",
        "rest <- arrange(rest, rest$행정동)\n",
        "table(rest$행정동 %in% jjdong)\n",
        "table(jjdong %in% rest$행정동)\n",
        "jjdong[jjdong %in% rest$행정동 == FALSE]\n",
        "rest\n",
        "\n",
        "str(bicycle) ####\n",
        "head(bicycle)\n",
        "bicycle <- bicycle[, c(1,5,8)]\n",
        "bicycle <- bicycle %>% group_by(행정동) %>% summarise(자전거보관대수 = sum(보관대수))\n",
        "bicycle <- as.data.frame(bicycle)\n",
        "bicycle <- arrange(bicycle, bicycle$행정동)\n",
        "table(bicycle$행정동 %in% jjdong)\n",
        "table(jjdong %in% bicycle$행정동)\n",
        "jjdong[jjdong %in% bicycle$행정동 == FALSE]\n",
        "add <- data.frame(행정동 = jjdong[jjdong %in% bicycle$행정동 == FALSE], 자전거보관대수 = rep(NA, length(jjdong[jjdong %in% bicycle$행정동 == FALSE])))\n",
        "bicycle <- rbind(bicycle, add)\n",
        "bicycle <- arrange(bicycle, bicycle$행정동)\n",
        "bicycle\n",
        "\n",
        "str(bigstore) ####\n",
        "head(bigstore)\n",
        "bigstore <- bigstore[,c(2,4,5)]\n",
        "bigstore$count <- rep(1,nrow(bigstore))\n",
        "bigstore <- bigstore %>% group_by(행정동) %>% summarise(대규모점포수 = sum(count))\n",
        "bigstore <- as.data.frame(bigstore)\n",
        "bigstore <- arrange(bigstore, bigstore$행정동)\n",
        "table(bigstore$행정동 %in% jjdong)\n",
        "table(jjdong %in% bigstore$행정동)\n",
        "jjdong[jjdong %in% bigstore$행정동 == FALSE]\n",
        "add <- data.frame(행정동 = jjdong[jjdong %in% bigstore$행정동 == FALSE], 대규모점포수 = rep(0, length(jjdong[jjdong %in% bigstore$행정동 == FALSE])))\n",
        "bigstore <- rbind(bigstore, add)\n",
        "bigstore <- arrange(bigstore, bigstore$행정동)\n",
        "bigstore\n",
        "\n",
        "\n",
        "str(cvstore) ####\n",
        "head(cvstore)\n",
        "cvstore <- cvstore[,c(2,4)]\n",
        "names(cvstore)[1] <- \"행정동\"\n",
        "cvstore <- arrange(cvstore, cvstore$행정동)\n",
        "table(cvstore$행정동 %in% jjdong)\n",
        "table(jjdong %in% cvstore$행정동)\n",
        "cvstore$행정동[cvstore$행정동 %in% jjdong == FALSE] #jjdong에는 없는 cvstore의 행정동\n",
        "jjdong[jjdong %in% cvstore$행정동 == FALSE] #cvstore에는 없는 jjdong의 행정동\n",
        "add <- data.frame(행정동 = jjdong[jjdong %in% cvstore$행정동 == FALSE], 편의점수 = rep(NA, length(jjdong[jjdong %in% cvstore$행정동 == FALSE])))\n",
        "cvstore<- rbind(cvstore, add)\n",
        "cvstore <- arrange(cvstore, cvstore$행정동)\n",
        "cvstore\n",
        "\n",
        "str(univ) ####\n",
        "head(univ)\n",
        "univ <- univ[,c(1,3)]\n",
        "univ$count <- rep(1,nrow(univ))\n",
        "univ <- univ %>% group_by(행정동) %>% summarise(대학교수 = sum(count))\n",
        "univ <- as.data.frame(univ)\n",
        "univ <- arrange(univ, univ$행정동)\n",
        "table(univ$행정동 %in% jjdong)\n",
        "table(jjdong %in% univ$행정동)\n",
        "jjdong[jjdong %in% univ$행정동 == FALSE] #univ에는 없는 jjdong의 행정동\n",
        "add <- data.frame(행정동 = jjdong[jjdong %in% univ$행정동 == FALSE], 대학교수 = rep(0, length(jjdong[jjdong %in% univ$행정동 == FALSE])))\n",
        "univ <- rbind(univ, add)\n",
        "univ <- arrange(univ, univ$행정동)\n",
        "univ\n",
        "\n",
        "str(region) ####\n",
        "head(region)\n",
        "region <- region[,c(2,3)]\n",
        "names(region) <- c(\"행정동\", \"면적.km\")\n",
        "region <- arrange(region, region$행정동)\n",
        "table(region$행정동 %in% jjdong)\n",
        "table(jjdong %in% region$행정동)\n",
        "region$행정동[region$행정동 %in% jjdong == FALSE] #jjdong에는 없는 region의 행정동 #이름 오류 있는 듯 (송청1동, 품남동)\n",
        "jjdong[jjdong %in% region$행정동 == FALSE] #region에는 없는 jjdong의 행정동\n",
        "region\n",
        "\n",
        "info <- read.csv(\"C:/Users/WIN10/성민지/데이터_3차/데이터_3차/전북 상권정보.csv\")\n",
        "str(info)\n",
        "names(info)\n",
        "data <- info[, c(1,2,5,7,9,11,13,15,17,19,32,38,39)]\n",
        "str(data)\n",
        "head(data)\n",
        "store <- data[grep(\"전주\", data$시군구명), ]\n",
        "store <- store %>% group_by(행정동명) %>% summarise(count = length(상가업소번호))\n",
        "store <- store[-1,]\n",
        "store <- as.data.frame(store)\n",
        "store <- arrange(store, store$행정동명)\n",
        "names(store) <- c(\"행정동\", \"상권개수\")\n",
        "store\n",
        "\n",
        "\n",
        "df <- data.frame(pop = pop$행정동, rest = rest$행정동, bicycle = bicycle$행정동,\n",
        "                 bigstore = bigstore$행정동, cvstore = cvstore$행정동, univ = univ$행정동, region = region$행정동)\n",
        "df\n",
        "\n",
        "\n",
        "jj <- merge(pop, rest)\n",
        "jj <- merge(jj, cvstore)\n",
        "jj <- merge(jj, region)\n",
        "jj <- merge(jj, bicycle)\n",
        "jj <- merge(jj, bigstore)\n",
        "jj <- merge(jj, univ)\n",
        "\n",
        "jj[is.na(jj$인구) == TRUE ] <- median(jj$인구)\n",
        "jj[is.na(jj$음식점수) == TRUE ] <- median(jj$음식점수)\n",
        "jj[is.na(jj$편의점수) == TRUE ] <- median(jj$편의점수)\n",
        "jj[is.na(jj$면적.km) == TRUE ] <- median(jj$면적.km)\n",
        "jj[is.na(jj$자전거보관대수) == TRUE ] <- median(jj$자전거보관대수)\n",
        "jj[is.na(jj$대규모점포수) == TRUE ] <- median(jj$대규모점포수)\n",
        "jj[is.na(jj$대학교수) == TRUE ] <- median(jj$대학교수)\n",
        "\n",
        "jj <- jj[,-1]\n",
        "\n",
        "\n",
        "cor(jj)"
      ],
      "execution_count": null,
      "outputs": []
    }
  ]
}