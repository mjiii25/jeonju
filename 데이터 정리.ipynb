{
  "nbformat": 4,
  "nbformat_minor": 0,
  "metadata": {
    "colab": {
      "name": "Untitled9.ipynb",
      "provenance": [],
      "toc_visible": true,
      "include_colab_link": true
    },
    "kernelspec": {
      "name": "ir",
      "display_name": "R"
    },
    "language_info": {
      "name": "R"
    }
  },
  "cells": [
    {
      "cell_type": "markdown",
      "metadata": {
        "id": "view-in-github",
        "colab_type": "text"
      },
      "source": [
        "<a href=\"https://colab.research.google.com/github/mjiii25/jeonju/blob/main/%EB%8D%B0%EC%9D%B4%ED%84%B0%20%EC%A0%95%EB%A6%AC.ipynb\" target=\"_parent\"><img src=\"https://colab.research.google.com/assets/colab-badge.svg\" alt=\"Open In Colab\"/></a>"
      ]
    },
    {
      "cell_type": "markdown",
      "metadata": {
        "id": "dVi2ZRXabTIG"
      },
      "source": [
        "# R 실행\n",
        "\n",
        "https://gist.github.com/jobdiogenes/235620928c84e604c6e56211ccf681f0"
      ]
    },
    {
      "cell_type": "code",
      "metadata": {
        "colab": {
          "base_uri": "https://localhost:8080/"
        },
        "id": "IoDbJVG7alub",
        "outputId": "126ddf02-8307-45a3-e856-9c02d2891b3b"
      },
      "source": [
        "# Check if is running in Colab and redefine is_interactive()\n",
        "if (file.exists(\"/usr/local/lib/python3.7/dist-packages/google/colab/_ipython.py\")) {\n",
        "  install.packages(\"R.utils\")\n",
        "  library(\"R.utils\")\n",
        "  library(\"httr\")\n",
        "  my_check <- function() {return(TRUE)}\n",
        "  reassignInPackage(\"is_interactive\", pkgName = \"httr\", my_check) \n",
        "  options(rlang_interactive=TRUE)\n",
        "}"
      ],
      "execution_count": null,
      "outputs": [
        {
          "output_type": "stream",
          "text": [
            "Installing package into ‘/usr/local/lib/R/site-library’\n",
            "(as ‘lib’ is unspecified)\n",
            "\n",
            "also installing the dependencies ‘R.oo’, ‘R.methodsS3’\n",
            "\n",
            "\n",
            "Loading required package: R.oo\n",
            "\n",
            "Loading required package: R.methodsS3\n",
            "\n",
            "R.methodsS3 v1.8.1 (2020-08-26 16:20:06 UTC) successfully loaded. See ?R.methodsS3 for help.\n",
            "\n",
            "R.oo v1.24.0 (2020-08-26 16:11:58 UTC) successfully loaded. See ?R.oo for help.\n",
            "\n",
            "\n",
            "Attaching package: ‘R.oo’\n",
            "\n",
            "\n",
            "The following object is masked from ‘package:R.methodsS3’:\n",
            "\n",
            "    throw\n",
            "\n",
            "\n",
            "The following objects are masked from ‘package:methods’:\n",
            "\n",
            "    getClasses, getMethods\n",
            "\n",
            "\n",
            "The following objects are masked from ‘package:base’:\n",
            "\n",
            "    attach, detach, load, save\n",
            "\n",
            "\n",
            "R.utils v2.10.1 (2020-08-26 22:50:31 UTC) successfully loaded. See ?R.utils for help.\n",
            "\n",
            "\n",
            "Attaching package: ‘R.utils’\n",
            "\n",
            "\n",
            "The following object is masked from ‘package:utils’:\n",
            "\n",
            "    timestamp\n",
            "\n",
            "\n",
            "The following objects are masked from ‘package:base’:\n",
            "\n",
            "    cat, commandArgs, getOption, inherits, isOpen, nullfile, parse,\n",
            "    warnings\n",
            "\n",
            "\n"
          ],
          "name": "stderr"
        }
      ]
    },
    {
      "cell_type": "code",
      "metadata": {
        "id": "va2I2kGQasIw"
      },
      "source": [
        "# If ts not available we need to install . put other packages if you need.\n",
        "packages <- c(\"googledrive\", \"googlesheets4\")\n",
        "if (length(setdiff(packages, rownames(installed.packages()))) > 0) {\n",
        "  install.packages(setdiff(packages, rownames(installed.packages())))  \n",
        "}"
      ],
      "execution_count": null,
      "outputs": []
    },
    {
      "cell_type": "code",
      "metadata": {
        "colab": {
          "base_uri": "https://localhost:8080/"
        },
        "id": "1S362jWsawQ-",
        "outputId": "e8db4207-839b-4bce-9b14-d2a37d46425a"
      },
      "source": [
        "library(\"googledrive\")\n",
        "library(\"googlesheets4\")"
      ],
      "execution_count": null,
      "outputs": [
        {
          "output_type": "stream",
          "text": [
            "\n",
            "Attaching package: ‘googlesheets4’\n",
            "\n",
            "\n",
            "The following objects are masked from ‘package:googledrive’:\n",
            "\n",
            "    request_generate, request_make\n",
            "\n",
            "\n"
          ],
          "name": "stderr"
        }
      ]
    },
    {
      "cell_type": "code",
      "metadata": {
        "colab": {
          "base_uri": "https://localhost:8080/"
        },
        "id": "IyDQWX6may1K",
        "outputId": "97fde739-e7a0-4911-ff1e-29e1f1413cdd"
      },
      "source": [
        "# call authentication forcing interactive login and save in cache. \n",
        "drive_auth(use_oob = TRUE, cache = TRUE)"
      ],
      "execution_count": null,
      "outputs": [
        {
          "output_type": "stream",
          "text": [
            "Please point your browser to the following url: \n",
            "\n",
            "https://accounts.google.com/o/oauth2/auth?client_id=603366585132-dpeg5tt0et3go5of2374d83ifevk5086.apps.googleusercontent.com&scope=https%3A%2F%2Fwww.googleapis.com%2Fauth%2Fdrive%20https%3A%2F%2Fwww.googleapis.com%2Fauth%2Fuserinfo.email&redirect_uri=urn%3Aietf%3Awg%3Aoauth%3A2.0%3Aoob&response_type=code\n",
            "\n"
          ],
          "name": "stderr"
        },
        {
          "output_type": "stream",
          "text": [
            "Enter authorization code: 4/1AY0e-g4n_EDtK9GNMepvIbNLQ69ZyLI7Vt3FtH77B49hMy_4083dKxXU4M8\n"
          ],
          "name": "stdout"
        }
      ]
    },
    {
      "cell_type": "code",
      "metadata": {
        "id": "VHB7jRfca8T6"
      },
      "source": [
        "# Find Google Sheets anf get the id of the first sheet \n",
        "Sheets <- drive_find(type = \"spreadsheet\")\n",
        "first_id <- Sheets$id[1]"
      ],
      "execution_count": null,
      "outputs": []
    },
    {
      "cell_type": "code",
      "metadata": {
        "colab": {
          "base_uri": "https://localhost:8080/"
        },
        "id": "xWH8JGGObArO",
        "outputId": "c4dcb157-d7ce-4c9f-f919-84fef2d8eda6"
      },
      "source": [
        "# reuse token to Sheet Auth. \n",
        "sheets_auth(token = drive_token())"
      ],
      "execution_count": null,
      "outputs": [
        {
          "output_type": "stream",
          "text": [
            "Warning message:\n",
            "“`sheets_auth()` was deprecated in googlesheets4 0.2.0.\n",
            "Please use `gs4_auth()` instead.\n",
            "\u001b[90mThis warning is displayed once every 8 hours.\u001b[39m\n",
            "\u001b[90mCall `lifecycle::last_warnings()` to see where this warning was generated.\u001b[39m”\n"
          ],
          "name": "stderr"
        }
      ]
    },
    {
      "cell_type": "code",
      "metadata": {
        "colab": {
          "base_uri": "https://localhost:8080/",
          "height": 1000
        },
        "id": "VCko-jGkbDnG",
        "outputId": "1296780d-d0af-4af2-ba20-3d3e0eabbc82"
      },
      "source": [
        "# show data\n",
        "sheets_read(first_id)"
      ],
      "execution_count": null,
      "outputs": [
        {
          "output_type": "stream",
          "text": [
            "Warning message:\n",
            "“`sheets_read()` was deprecated in googlesheets4 0.2.0.\n",
            "Please use `range_read()` instead.\n",
            "\u001b[90mThis warning is displayed once every 8 hours.\u001b[39m\n",
            "\u001b[90mCall `lifecycle::last_warnings()` to see where this warning was generated.\u001b[39m”\n",
            "Reading from \"gu_usage\"\n",
            "\n",
            "Range \"gu_usage\"\n",
            "\n"
          ],
          "name": "stderr"
        },
        {
          "output_type": "display_data",
          "data": {
            "text/plain": [
              "    province gu       gu_eng       date       count \n",
              "1   서울     종로구   Jongno       2020-07-01  85935\n",
              "2   서울     중구     Jung         2020-07-01  52417\n",
              "3   서울     용산구   Yongsan      2020-07-01  58354\n",
              "4   서울     성동구   Seongdong    2020-07-01 106216\n",
              "5   서울     광진구   Kwangjin     2020-07-01 125735\n",
              "6   서울     동대문구 Dongdaemun   2020-07-01  93487\n",
              "7   서울     중랑구   Jungnang     2020-07-01  76841\n",
              "8   서울     성북구   Seongbuk     2020-07-01  81364\n",
              "9   서울     강북구   Gangbuk      2020-07-01  54503\n",
              "10  서울     도봉구   Dobong       2020-07-01  58420\n",
              "11  서울     노원구   Nowon        2020-07-01 157281\n",
              "12  서울     은평구   Eunpyeong    2020-07-01  81923\n",
              "13  서울     서대문구 Seodaemun    2020-07-01  65144\n",
              "14  서울     마포구   Mapo         2020-07-01 155009\n",
              "15  서울     양천구   Yangcheon    2020-07-01 119956\n",
              "16  서울     강서구   Gangseo      2020-07-01 224984\n",
              "17  서울     구로구   Guro         2020-07-01 106619\n",
              "18  서울     금천구   Geumcheon    2020-07-01  43940\n",
              "19  서울     영등포구 Yeongdeungpo 2020-07-01 209515\n",
              "20  서울     동작구   Dongjak      2020-07-01  67929\n",
              "21  서울     관악구   Gwanak       2020-07-01  92451\n",
              "22  서울     서초구   Seocho       2020-07-01 101631\n",
              "23  서울     강남구   Gangnam      2020-07-01  79194\n",
              "24  서울     송파구   Songpa       2020-07-01 185529\n",
              "25  서울     강동구   Gangdong     2020-07-01  97719\n",
              "26  서울     종로구   Jongno       2020-08-01  65729\n",
              "27  서울     중구     Jung         2020-08-01  40401\n",
              "28  서울     용산구   Yongsan      2020-08-01  36762\n",
              "29  서울     성동구   Seongdong    2020-08-01  65323\n",
              "30  서울     광진구   Kwangjin     2020-08-01  75051\n",
              "⋮   ⋮        ⋮        ⋮            ⋮          ⋮     \n",
              "146 서울     관악구   Gwanak       2020-12-01 41420 \n",
              "147 서울     서초구   Seocho       2020-12-01 43259 \n",
              "148 서울     강남구   Gangnam      2020-12-01 38004 \n",
              "149 서울     송파구   Songpa       2020-12-01 85064 \n",
              "150 서울     강동구   Gangdong     2020-12-01 42373 \n",
              "151 서울     종로구   Jongno       2021-01-01 35643 \n",
              "152 서울     중구     Jung         2021-01-01 20396 \n",
              "153 서울     용산구   Yongsan      2021-01-01 18203 \n",
              "154 서울     성동구   Seongdong    2021-01-01 35822 \n",
              "155 서울     광진구   Kwangjin     2021-01-01 38357 \n",
              "156 서울     동대문구 Dongdaemun   2021-01-01 33426 \n",
              "157 서울     중랑구   Jungnang     2021-01-01 22773 \n",
              "158 서울     성북구   Seongbuk     2021-01-01 26138 \n",
              "159 서울     강북구   Gangbuk      2021-01-01 16101 \n",
              "160 서울     도봉구   Dobong       2021-01-01 16620 \n",
              "161 서울     노원구   Nowon        2021-01-01 41994 \n",
              "162 서울     은평구   Eunpyeong    2021-01-01 25442 \n",
              "163 서울     서대문구 Seodaemun    2021-01-01 23065 \n",
              "164 서울     마포구   Mapo         2021-01-01 48660 \n",
              "165 서울     양천구   Yangcheon    2021-01-01 43330 \n",
              "166 서울     강서구   Gangseo      2021-01-01 75019 \n",
              "167 서울     구로구   Guro         2021-01-01 31633 \n",
              "168 서울     금천구   Geumcheon    2021-01-01 13494 \n",
              "169 서울     영등포구 Yeongdeungpo 2021-01-01 64359 \n",
              "170 서울     동작구   Dongjak      2021-01-01 18950 \n",
              "171 서울     관악구   Gwanak       2021-01-01 27457 \n",
              "172 서울     서초구   Seocho       2021-01-01 29483 \n",
              "173 서울     강남구   Gangnam      2021-01-01 24706 \n",
              "174 서울     송파구   Songpa       2021-01-01 54819 \n",
              "175 서울     강동구   Gangdong     2021-01-01 26158 "
            ],
            "text/latex": "A tibble: 175 × 5\n\\begin{tabular}{lllll}\n province & gu & gu\\_eng & date & count\\\\\n <chr> & <chr> & <chr> & <dttm> & <dbl>\\\\\n\\hline\n\t 서울 & 종로구   & Jongno       & 2020-07-01 &  85935\\\\\n\t 서울 & 중구     & Jung         & 2020-07-01 &  52417\\\\\n\t 서울 & 용산구   & Yongsan      & 2020-07-01 &  58354\\\\\n\t 서울 & 성동구   & Seongdong    & 2020-07-01 & 106216\\\\\n\t 서울 & 광진구   & Kwangjin     & 2020-07-01 & 125735\\\\\n\t 서울 & 동대문구 & Dongdaemun   & 2020-07-01 &  93487\\\\\n\t 서울 & 중랑구   & Jungnang     & 2020-07-01 &  76841\\\\\n\t 서울 & 성북구   & Seongbuk     & 2020-07-01 &  81364\\\\\n\t 서울 & 강북구   & Gangbuk      & 2020-07-01 &  54503\\\\\n\t 서울 & 도봉구   & Dobong       & 2020-07-01 &  58420\\\\\n\t 서울 & 노원구   & Nowon        & 2020-07-01 & 157281\\\\\n\t 서울 & 은평구   & Eunpyeong    & 2020-07-01 &  81923\\\\\n\t 서울 & 서대문구 & Seodaemun    & 2020-07-01 &  65144\\\\\n\t 서울 & 마포구   & Mapo         & 2020-07-01 & 155009\\\\\n\t 서울 & 양천구   & Yangcheon    & 2020-07-01 & 119956\\\\\n\t 서울 & 강서구   & Gangseo      & 2020-07-01 & 224984\\\\\n\t 서울 & 구로구   & Guro         & 2020-07-01 & 106619\\\\\n\t 서울 & 금천구   & Geumcheon    & 2020-07-01 &  43940\\\\\n\t 서울 & 영등포구 & Yeongdeungpo & 2020-07-01 & 209515\\\\\n\t 서울 & 동작구   & Dongjak      & 2020-07-01 &  67929\\\\\n\t 서울 & 관악구   & Gwanak       & 2020-07-01 &  92451\\\\\n\t 서울 & 서초구   & Seocho       & 2020-07-01 & 101631\\\\\n\t 서울 & 강남구   & Gangnam      & 2020-07-01 &  79194\\\\\n\t 서울 & 송파구   & Songpa       & 2020-07-01 & 185529\\\\\n\t 서울 & 강동구   & Gangdong     & 2020-07-01 &  97719\\\\\n\t 서울 & 종로구   & Jongno       & 2020-08-01 &  65729\\\\\n\t 서울 & 중구     & Jung         & 2020-08-01 &  40401\\\\\n\t 서울 & 용산구   & Yongsan      & 2020-08-01 &  36762\\\\\n\t 서울 & 성동구   & Seongdong    & 2020-08-01 &  65323\\\\\n\t 서울 & 광진구   & Kwangjin     & 2020-08-01 &  75051\\\\\n\t ⋮ & ⋮ & ⋮ & ⋮ & ⋮\\\\\n\t 서울 & 관악구   & Gwanak       & 2020-12-01 & 41420\\\\\n\t 서울 & 서초구   & Seocho       & 2020-12-01 & 43259\\\\\n\t 서울 & 강남구   & Gangnam      & 2020-12-01 & 38004\\\\\n\t 서울 & 송파구   & Songpa       & 2020-12-01 & 85064\\\\\n\t 서울 & 강동구   & Gangdong     & 2020-12-01 & 42373\\\\\n\t 서울 & 종로구   & Jongno       & 2021-01-01 & 35643\\\\\n\t 서울 & 중구     & Jung         & 2021-01-01 & 20396\\\\\n\t 서울 & 용산구   & Yongsan      & 2021-01-01 & 18203\\\\\n\t 서울 & 성동구   & Seongdong    & 2021-01-01 & 35822\\\\\n\t 서울 & 광진구   & Kwangjin     & 2021-01-01 & 38357\\\\\n\t 서울 & 동대문구 & Dongdaemun   & 2021-01-01 & 33426\\\\\n\t 서울 & 중랑구   & Jungnang     & 2021-01-01 & 22773\\\\\n\t 서울 & 성북구   & Seongbuk     & 2021-01-01 & 26138\\\\\n\t 서울 & 강북구   & Gangbuk      & 2021-01-01 & 16101\\\\\n\t 서울 & 도봉구   & Dobong       & 2021-01-01 & 16620\\\\\n\t 서울 & 노원구   & Nowon        & 2021-01-01 & 41994\\\\\n\t 서울 & 은평구   & Eunpyeong    & 2021-01-01 & 25442\\\\\n\t 서울 & 서대문구 & Seodaemun    & 2021-01-01 & 23065\\\\\n\t 서울 & 마포구   & Mapo         & 2021-01-01 & 48660\\\\\n\t 서울 & 양천구   & Yangcheon    & 2021-01-01 & 43330\\\\\n\t 서울 & 강서구   & Gangseo      & 2021-01-01 & 75019\\\\\n\t 서울 & 구로구   & Guro         & 2021-01-01 & 31633\\\\\n\t 서울 & 금천구   & Geumcheon    & 2021-01-01 & 13494\\\\\n\t 서울 & 영등포구 & Yeongdeungpo & 2021-01-01 & 64359\\\\\n\t 서울 & 동작구   & Dongjak      & 2021-01-01 & 18950\\\\\n\t 서울 & 관악구   & Gwanak       & 2021-01-01 & 27457\\\\\n\t 서울 & 서초구   & Seocho       & 2021-01-01 & 29483\\\\\n\t 서울 & 강남구   & Gangnam      & 2021-01-01 & 24706\\\\\n\t 서울 & 송파구   & Songpa       & 2021-01-01 & 54819\\\\\n\t 서울 & 강동구   & Gangdong     & 2021-01-01 & 26158\\\\\n\\end{tabular}\n",
            "text/markdown": "\nA tibble: 175 × 5\n\n| province &lt;chr&gt; | gu &lt;chr&gt; | gu_eng &lt;chr&gt; | date &lt;dttm&gt; | count &lt;dbl&gt; |\n|---|---|---|---|---|\n| 서울 | 종로구   | Jongno       | 2020-07-01 |  85935 |\n| 서울 | 중구     | Jung         | 2020-07-01 |  52417 |\n| 서울 | 용산구   | Yongsan      | 2020-07-01 |  58354 |\n| 서울 | 성동구   | Seongdong    | 2020-07-01 | 106216 |\n| 서울 | 광진구   | Kwangjin     | 2020-07-01 | 125735 |\n| 서울 | 동대문구 | Dongdaemun   | 2020-07-01 |  93487 |\n| 서울 | 중랑구   | Jungnang     | 2020-07-01 |  76841 |\n| 서울 | 성북구   | Seongbuk     | 2020-07-01 |  81364 |\n| 서울 | 강북구   | Gangbuk      | 2020-07-01 |  54503 |\n| 서울 | 도봉구   | Dobong       | 2020-07-01 |  58420 |\n| 서울 | 노원구   | Nowon        | 2020-07-01 | 157281 |\n| 서울 | 은평구   | Eunpyeong    | 2020-07-01 |  81923 |\n| 서울 | 서대문구 | Seodaemun    | 2020-07-01 |  65144 |\n| 서울 | 마포구   | Mapo         | 2020-07-01 | 155009 |\n| 서울 | 양천구   | Yangcheon    | 2020-07-01 | 119956 |\n| 서울 | 강서구   | Gangseo      | 2020-07-01 | 224984 |\n| 서울 | 구로구   | Guro         | 2020-07-01 | 106619 |\n| 서울 | 금천구   | Geumcheon    | 2020-07-01 |  43940 |\n| 서울 | 영등포구 | Yeongdeungpo | 2020-07-01 | 209515 |\n| 서울 | 동작구   | Dongjak      | 2020-07-01 |  67929 |\n| 서울 | 관악구   | Gwanak       | 2020-07-01 |  92451 |\n| 서울 | 서초구   | Seocho       | 2020-07-01 | 101631 |\n| 서울 | 강남구   | Gangnam      | 2020-07-01 |  79194 |\n| 서울 | 송파구   | Songpa       | 2020-07-01 | 185529 |\n| 서울 | 강동구   | Gangdong     | 2020-07-01 |  97719 |\n| 서울 | 종로구   | Jongno       | 2020-08-01 |  65729 |\n| 서울 | 중구     | Jung         | 2020-08-01 |  40401 |\n| 서울 | 용산구   | Yongsan      | 2020-08-01 |  36762 |\n| 서울 | 성동구   | Seongdong    | 2020-08-01 |  65323 |\n| 서울 | 광진구   | Kwangjin     | 2020-08-01 |  75051 |\n| ⋮ | ⋮ | ⋮ | ⋮ | ⋮ |\n| 서울 | 관악구   | Gwanak       | 2020-12-01 | 41420 |\n| 서울 | 서초구   | Seocho       | 2020-12-01 | 43259 |\n| 서울 | 강남구   | Gangnam      | 2020-12-01 | 38004 |\n| 서울 | 송파구   | Songpa       | 2020-12-01 | 85064 |\n| 서울 | 강동구   | Gangdong     | 2020-12-01 | 42373 |\n| 서울 | 종로구   | Jongno       | 2021-01-01 | 35643 |\n| 서울 | 중구     | Jung         | 2021-01-01 | 20396 |\n| 서울 | 용산구   | Yongsan      | 2021-01-01 | 18203 |\n| 서울 | 성동구   | Seongdong    | 2021-01-01 | 35822 |\n| 서울 | 광진구   | Kwangjin     | 2021-01-01 | 38357 |\n| 서울 | 동대문구 | Dongdaemun   | 2021-01-01 | 33426 |\n| 서울 | 중랑구   | Jungnang     | 2021-01-01 | 22773 |\n| 서울 | 성북구   | Seongbuk     | 2021-01-01 | 26138 |\n| 서울 | 강북구   | Gangbuk      | 2021-01-01 | 16101 |\n| 서울 | 도봉구   | Dobong       | 2021-01-01 | 16620 |\n| 서울 | 노원구   | Nowon        | 2021-01-01 | 41994 |\n| 서울 | 은평구   | Eunpyeong    | 2021-01-01 | 25442 |\n| 서울 | 서대문구 | Seodaemun    | 2021-01-01 | 23065 |\n| 서울 | 마포구   | Mapo         | 2021-01-01 | 48660 |\n| 서울 | 양천구   | Yangcheon    | 2021-01-01 | 43330 |\n| 서울 | 강서구   | Gangseo      | 2021-01-01 | 75019 |\n| 서울 | 구로구   | Guro         | 2021-01-01 | 31633 |\n| 서울 | 금천구   | Geumcheon    | 2021-01-01 | 13494 |\n| 서울 | 영등포구 | Yeongdeungpo | 2021-01-01 | 64359 |\n| 서울 | 동작구   | Dongjak      | 2021-01-01 | 18950 |\n| 서울 | 관악구   | Gwanak       | 2021-01-01 | 27457 |\n| 서울 | 서초구   | Seocho       | 2021-01-01 | 29483 |\n| 서울 | 강남구   | Gangnam      | 2021-01-01 | 24706 |\n| 서울 | 송파구   | Songpa       | 2021-01-01 | 54819 |\n| 서울 | 강동구   | Gangdong     | 2021-01-01 | 26158 |\n\n",
            "text/html": [
              "<table class=\"dataframe\">\n",
              "<caption>A tibble: 175 × 5</caption>\n",
              "<thead>\n",
              "\t<tr><th scope=col>province</th><th scope=col>gu</th><th scope=col>gu_eng</th><th scope=col>date</th><th scope=col>count</th></tr>\n",
              "\t<tr><th scope=col>&lt;chr&gt;</th><th scope=col>&lt;chr&gt;</th><th scope=col>&lt;chr&gt;</th><th scope=col>&lt;dttm&gt;</th><th scope=col>&lt;dbl&gt;</th></tr>\n",
              "</thead>\n",
              "<tbody>\n",
              "\t<tr><td>서울</td><td>종로구  </td><td>Jongno      </td><td>2020-07-01</td><td> 85935</td></tr>\n",
              "\t<tr><td>서울</td><td>중구    </td><td>Jung        </td><td>2020-07-01</td><td> 52417</td></tr>\n",
              "\t<tr><td>서울</td><td>용산구  </td><td>Yongsan     </td><td>2020-07-01</td><td> 58354</td></tr>\n",
              "\t<tr><td>서울</td><td>성동구  </td><td>Seongdong   </td><td>2020-07-01</td><td>106216</td></tr>\n",
              "\t<tr><td>서울</td><td>광진구  </td><td>Kwangjin    </td><td>2020-07-01</td><td>125735</td></tr>\n",
              "\t<tr><td>서울</td><td>동대문구</td><td>Dongdaemun  </td><td>2020-07-01</td><td> 93487</td></tr>\n",
              "\t<tr><td>서울</td><td>중랑구  </td><td>Jungnang    </td><td>2020-07-01</td><td> 76841</td></tr>\n",
              "\t<tr><td>서울</td><td>성북구  </td><td>Seongbuk    </td><td>2020-07-01</td><td> 81364</td></tr>\n",
              "\t<tr><td>서울</td><td>강북구  </td><td>Gangbuk     </td><td>2020-07-01</td><td> 54503</td></tr>\n",
              "\t<tr><td>서울</td><td>도봉구  </td><td>Dobong      </td><td>2020-07-01</td><td> 58420</td></tr>\n",
              "\t<tr><td>서울</td><td>노원구  </td><td>Nowon       </td><td>2020-07-01</td><td>157281</td></tr>\n",
              "\t<tr><td>서울</td><td>은평구  </td><td>Eunpyeong   </td><td>2020-07-01</td><td> 81923</td></tr>\n",
              "\t<tr><td>서울</td><td>서대문구</td><td>Seodaemun   </td><td>2020-07-01</td><td> 65144</td></tr>\n",
              "\t<tr><td>서울</td><td>마포구  </td><td>Mapo        </td><td>2020-07-01</td><td>155009</td></tr>\n",
              "\t<tr><td>서울</td><td>양천구  </td><td>Yangcheon   </td><td>2020-07-01</td><td>119956</td></tr>\n",
              "\t<tr><td>서울</td><td>강서구  </td><td>Gangseo     </td><td>2020-07-01</td><td>224984</td></tr>\n",
              "\t<tr><td>서울</td><td>구로구  </td><td>Guro        </td><td>2020-07-01</td><td>106619</td></tr>\n",
              "\t<tr><td>서울</td><td>금천구  </td><td>Geumcheon   </td><td>2020-07-01</td><td> 43940</td></tr>\n",
              "\t<tr><td>서울</td><td>영등포구</td><td>Yeongdeungpo</td><td>2020-07-01</td><td>209515</td></tr>\n",
              "\t<tr><td>서울</td><td>동작구  </td><td>Dongjak     </td><td>2020-07-01</td><td> 67929</td></tr>\n",
              "\t<tr><td>서울</td><td>관악구  </td><td>Gwanak      </td><td>2020-07-01</td><td> 92451</td></tr>\n",
              "\t<tr><td>서울</td><td>서초구  </td><td>Seocho      </td><td>2020-07-01</td><td>101631</td></tr>\n",
              "\t<tr><td>서울</td><td>강남구  </td><td>Gangnam     </td><td>2020-07-01</td><td> 79194</td></tr>\n",
              "\t<tr><td>서울</td><td>송파구  </td><td>Songpa      </td><td>2020-07-01</td><td>185529</td></tr>\n",
              "\t<tr><td>서울</td><td>강동구  </td><td>Gangdong    </td><td>2020-07-01</td><td> 97719</td></tr>\n",
              "\t<tr><td>서울</td><td>종로구  </td><td>Jongno      </td><td>2020-08-01</td><td> 65729</td></tr>\n",
              "\t<tr><td>서울</td><td>중구    </td><td>Jung        </td><td>2020-08-01</td><td> 40401</td></tr>\n",
              "\t<tr><td>서울</td><td>용산구  </td><td>Yongsan     </td><td>2020-08-01</td><td> 36762</td></tr>\n",
              "\t<tr><td>서울</td><td>성동구  </td><td>Seongdong   </td><td>2020-08-01</td><td> 65323</td></tr>\n",
              "\t<tr><td>서울</td><td>광진구  </td><td>Kwangjin    </td><td>2020-08-01</td><td> 75051</td></tr>\n",
              "\t<tr><td>⋮</td><td>⋮</td><td>⋮</td><td>⋮</td><td>⋮</td></tr>\n",
              "\t<tr><td>서울</td><td>관악구  </td><td>Gwanak      </td><td>2020-12-01</td><td>41420</td></tr>\n",
              "\t<tr><td>서울</td><td>서초구  </td><td>Seocho      </td><td>2020-12-01</td><td>43259</td></tr>\n",
              "\t<tr><td>서울</td><td>강남구  </td><td>Gangnam     </td><td>2020-12-01</td><td>38004</td></tr>\n",
              "\t<tr><td>서울</td><td>송파구  </td><td>Songpa      </td><td>2020-12-01</td><td>85064</td></tr>\n",
              "\t<tr><td>서울</td><td>강동구  </td><td>Gangdong    </td><td>2020-12-01</td><td>42373</td></tr>\n",
              "\t<tr><td>서울</td><td>종로구  </td><td>Jongno      </td><td>2021-01-01</td><td>35643</td></tr>\n",
              "\t<tr><td>서울</td><td>중구    </td><td>Jung        </td><td>2021-01-01</td><td>20396</td></tr>\n",
              "\t<tr><td>서울</td><td>용산구  </td><td>Yongsan     </td><td>2021-01-01</td><td>18203</td></tr>\n",
              "\t<tr><td>서울</td><td>성동구  </td><td>Seongdong   </td><td>2021-01-01</td><td>35822</td></tr>\n",
              "\t<tr><td>서울</td><td>광진구  </td><td>Kwangjin    </td><td>2021-01-01</td><td>38357</td></tr>\n",
              "\t<tr><td>서울</td><td>동대문구</td><td>Dongdaemun  </td><td>2021-01-01</td><td>33426</td></tr>\n",
              "\t<tr><td>서울</td><td>중랑구  </td><td>Jungnang    </td><td>2021-01-01</td><td>22773</td></tr>\n",
              "\t<tr><td>서울</td><td>성북구  </td><td>Seongbuk    </td><td>2021-01-01</td><td>26138</td></tr>\n",
              "\t<tr><td>서울</td><td>강북구  </td><td>Gangbuk     </td><td>2021-01-01</td><td>16101</td></tr>\n",
              "\t<tr><td>서울</td><td>도봉구  </td><td>Dobong      </td><td>2021-01-01</td><td>16620</td></tr>\n",
              "\t<tr><td>서울</td><td>노원구  </td><td>Nowon       </td><td>2021-01-01</td><td>41994</td></tr>\n",
              "\t<tr><td>서울</td><td>은평구  </td><td>Eunpyeong   </td><td>2021-01-01</td><td>25442</td></tr>\n",
              "\t<tr><td>서울</td><td>서대문구</td><td>Seodaemun   </td><td>2021-01-01</td><td>23065</td></tr>\n",
              "\t<tr><td>서울</td><td>마포구  </td><td>Mapo        </td><td>2021-01-01</td><td>48660</td></tr>\n",
              "\t<tr><td>서울</td><td>양천구  </td><td>Yangcheon   </td><td>2021-01-01</td><td>43330</td></tr>\n",
              "\t<tr><td>서울</td><td>강서구  </td><td>Gangseo     </td><td>2021-01-01</td><td>75019</td></tr>\n",
              "\t<tr><td>서울</td><td>구로구  </td><td>Guro        </td><td>2021-01-01</td><td>31633</td></tr>\n",
              "\t<tr><td>서울</td><td>금천구  </td><td>Geumcheon   </td><td>2021-01-01</td><td>13494</td></tr>\n",
              "\t<tr><td>서울</td><td>영등포구</td><td>Yeongdeungpo</td><td>2021-01-01</td><td>64359</td></tr>\n",
              "\t<tr><td>서울</td><td>동작구  </td><td>Dongjak     </td><td>2021-01-01</td><td>18950</td></tr>\n",
              "\t<tr><td>서울</td><td>관악구  </td><td>Gwanak      </td><td>2021-01-01</td><td>27457</td></tr>\n",
              "\t<tr><td>서울</td><td>서초구  </td><td>Seocho      </td><td>2021-01-01</td><td>29483</td></tr>\n",
              "\t<tr><td>서울</td><td>강남구  </td><td>Gangnam     </td><td>2021-01-01</td><td>24706</td></tr>\n",
              "\t<tr><td>서울</td><td>송파구  </td><td>Songpa      </td><td>2021-01-01</td><td>54819</td></tr>\n",
              "\t<tr><td>서울</td><td>강동구  </td><td>Gangdong    </td><td>2021-01-01</td><td>26158</td></tr>\n",
              "</tbody>\n",
              "</table>\n"
            ]
          },
          "metadata": {
            "tags": []
          }
        }
      ]
    },
    {
      "cell_type": "markdown",
      "metadata": {
        "id": "0aNUPF33bKpu"
      },
      "source": [
        "# **데이터 정리** "
      ]
    },
    {
      "cell_type": "markdown",
      "metadata": {
        "id": "naYZ_tpE5epx"
      },
      "source": [
        "![image.png](data:image/png;base64,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)"
      ]
    },
    {
      "cell_type": "markdown",
      "metadata": {
        "id": "z51PzBI0jDPJ"
      },
      "source": [
        "## R 코드"
      ]
    },
    {
      "cell_type": "code",
      "metadata": {
        "id": "QPHrPpih5qfi"
      },
      "source": [
        "\n",
        "\n",
        "#################################################################################\n",
        "#################################################################################\n",
        "R 코드 ##########################################################################\n",
        "#################################################################################\n",
        "#################################################################################\n",
        "\n",
        "pop <- read.csv(\"C:/Users/WIN10/성민지/데이터_5차/(중복)2019_전주시 동별 인구.csv\")\n",
        "#rest <- read.csv(\"C:/Users/WIN10/성민지/데이터_5차/(중복)동별 음식점 및 주점업 사업체수(2018).csv\")\n",
        "bicycle <- read.csv(\"C:/Users/WIN10/성민지/데이터_5차/(행정동)12_04_03_E_자전거보관소정보.csv\")\n",
        "bigstore <- read.csv(\"C:/Users/WIN10/성민지/데이터_5차/(행정동)대규모점포현황_2020.csv\")\n",
        "#cvstore <- read.csv(\"C:/Users/WIN10/성민지/데이터_5차/(행정동)동별 체인화 편의점 + 사업체수 (2018년).csv\")\n",
        "univ <- read.csv(\"C:/Users/WIN10/성민지/데이터_5차/(행정동)전주시 대학교.csv\")\n",
        "region <- read.csv(\"C:/Users/WIN10/성민지/데이터_5차/(행정동)전주시 행정동 면적.csv\")\n",
        "x <- read.csv(\"C:/Users/WIN10/성민지/데이터_5차/전북 상권정보.csv\")\n",
        "bus <- read.csv(\"C:/Users/WIN10/성민지/데이터_5차/전라북도 전주시_버스 정류장 현황_20210426.csv\")\n",
        "park <- read.csv(\"C:/Users/WIN10/성민지/데이터_5차/park.csv\")\n",
        "scooter <- read.csv(\"C:/Users/WIN10/성민지/데이터_5차/(행정동)PM_210509_0시.csv\")\n",
        "\n",
        "\n",
        "jjdong <- read.csv(\"C:/Users/WIN10/성민지/데이터_5차/전주 행정동_가나다순.csv\")\n",
        "jjdong <- jjdong$행정동\n",
        "str(jjdong)\n",
        "head(jjdong)\n",
        "\n",
        "library(dplyr)\n",
        "library(stringr)\n",
        "\n",
        "\n",
        "###############################################\n",
        "# 인구수 ######################################\n",
        "###############################################\n",
        "\n",
        "str(pop)\n",
        "head(pop)\n",
        "pop <- pop[,c(2,3)]\n",
        "names(pop) <- c(\"행정동\", \"인구수\")\n",
        "\n",
        "table(pop$행정동 %in% jjdong)\n",
        "table(jjdong %in% pop$행정동)\n",
        "\n",
        "pop$행정동[pop$행정동 %in% jjdong == FALSE] #jjdong에는 없는 pop의 행정동\n",
        "jjdong[jjdong %in% pop$행정동 == FALSE] #pop에는 없는 jjdong의 행정동\n",
        "\n",
        "pop$행정동[which(pop$행정동 == \"동산동\")] <- \"여의동\" ## 19년 8월에 동산동을 여의동으로 변경, https://www.hani.co.kr/arti/area/honam/905848.html?_fr=mt2\n",
        "pop <- arrange(pop, pop$행정동)\n",
        "pop\n",
        "\n",
        "\n",
        "\n",
        "\n",
        "\n",
        "\n",
        "###############################################\n",
        "# 자전거 보관대 수 ############################\n",
        "###############################################\n",
        "\n",
        "str(bicycle)\n",
        "head(bicycle)\n",
        "\n",
        "bicycle <- bicycle[, 1:8]\n",
        "bicycle1 <- bicycle %>% group_by(행정동) %>% summarise(자전거보관대수 = sum(보관대수))\n",
        "bicycle1 <- as.data.frame(bicycle1)\n",
        "\n",
        "table(bicycle1$행정동 %in% jjdong)\n",
        "table(jjdong %in% bicycle1$행정동)\n",
        "jjdong[jjdong %in% bicycle1$행정동 == FALSE]\n",
        "\n",
        "add <- data.frame(행정동 = jjdong[jjdong %in% bicycle1$행정동 == FALSE], \n",
        "                     자전거보관대수 = rep(median(bicycle1$자전거보관대수), times = length(jjdong[jjdong %in% bicycle1$행정동 == FALSE])))\n",
        "bicycle1 <- rbind(bicycle1, add)\n",
        "bicycle1 <- arrange(bicycle1, bicycle1$행정동)\n",
        "bicycle1\n",
        "\n",
        "\n",
        "\n",
        "\n",
        "###############################################\n",
        "# 대규모점포 수 ###############################\n",
        "###############################################\n",
        "\n",
        "str(bigstore)\n",
        "head(bigstore)\n",
        "\n",
        "bigstore <- bigstore[,2:4]\n",
        "bigstore1 <- bigstore\n",
        "bigstore1$count <- rep(1,nrow(bigstore1))\n",
        "\n",
        "bigstore1 <- bigstore1 %>% group_by(행정동) %>% summarise(대규모점포수 = sum(count))\n",
        "bigstore1 <- as.data.frame(bigstore1)\n",
        "\n",
        "table(bigstore1$행정동 %in% jjdong)\n",
        "table(jjdong %in% bigstore1$행정동)\n",
        "jjdong[jjdong %in% bigstore1$행정동 == FALSE]\n",
        "\n",
        "add <- data.frame(행정동 = jjdong[jjdong %in% bigstore1$행정동 == FALSE], \n",
        "                     대규모점포수 = rep(0, length(jjdong[jjdong %in% bigstore1$행정동 == FALSE])))\n",
        "bigstore1 <- rbind(bigstore1, add)\n",
        "bigstore1 <- arrange(bigstore1, bigstore1$행정동)\n",
        "bigstore1\n",
        "\n",
        "\n",
        "\n",
        "###############################################\n",
        "# 편의점 수 ###################################\n",
        "###############################################\n",
        "\n",
        "#str(cvstore)\n",
        "#head(cvstore)\n",
        "#cvstore <- cvstore[,c(2,4)]\n",
        "#names(cvstore)[1] <- \"행정동\"\n",
        "#cvstore <- arrange(cvstore, cvstore$행정동)\n",
        "#table(cvstore$행정동 %in% jjdong)\n",
        "#table(jjdong %in% cvstore$행정동)\n",
        "#jjdong[jjdong %in% cvstore$행정동 == FALSE] #cvstore에는 없는 jjdong의 행정동\n",
        "#add <- data.frame(행정동 = jjdong[jjdong %in% cvstore$행정동 == FALSE], \n",
        "#                     편의점수 = rep(median(cvstore$편의점수), length(jjdong[jjdong %in% cvstore$행정동 == FALSE])))\n",
        "#cvstore<- rbind(cvstore, add)\n",
        "#cvstore <- arrange(cvstore, cvstore$행정동)\n",
        "#cvstore\n",
        "\n",
        "str(x)\n",
        "head(x)\n",
        "\n",
        "cvstore <- x[x$표준산업분류명 == \"체인화 편의점\", ]\n",
        "cvstore <- cvstore[grep(\"전주\", cvstore$시군구명), ]\n",
        "names(cvstore)\n",
        "cvstore <- cvstore[ , c(2, 3, 11, 17, 25, 32, 38, 39)]\n",
        "\n",
        "\n",
        "cvstore$행정동명[cvstore$행정동명 == \"동산동\"] <- \"여의동\"\n",
        "\n",
        "cvstore1 <- cvstore %>% group_by(행정동명) %>% summarise(편의점수 = length(상호명))\n",
        "cvstore1 <- cvstore1[-1,]\n",
        "cvstore1 <- as.data.frame(cvstore1)\n",
        "names(cvstore1)[1] <- \"행정동\"\n",
        "cvstore1\n",
        "\n",
        "\n",
        "\n",
        "\n",
        "###############################################\n",
        "# 대학교 수 ###################################\n",
        "###############################################\n",
        "\n",
        "\n",
        "str(univ)\n",
        "head(univ)\n",
        "univ1 <- univ\n",
        "univ1$count <- rep(1,nrow(univ1))\n",
        "univ1 <- univ1 %>% group_by(행정동) %>% summarise(대학교수 = sum(count))\n",
        "univ1 <- as.data.frame(univ1)\n",
        "\n",
        "table(univ1$행정동 %in% jjdong)\n",
        "table(jjdong %in% univ1$행정동)\n",
        "jjdong[jjdong %in% univ1$행정동 == FALSE] #univ에는 없는 jjdong의 행정동\n",
        "add <- data.frame(행정동 = jjdong[jjdong %in% univ1$행정동 == FALSE], \n",
        "                     대학교수 = rep(0, length(jjdong[jjdong %in% univ1$행정동 == FALSE])))\n",
        "univ1 <- rbind(univ1, add)\n",
        "univ1 <- arrange(univ1, univ1$행정동)\n",
        "univ1\n",
        "\n",
        "\n",
        "\n",
        "\n",
        "\n",
        "###############################################\n",
        "# 면적 ########################################\n",
        "###############################################\n",
        "\n",
        "str(region)\n",
        "head(region)\n",
        "region <- region[,c(2,3)]\n",
        "names(region) <- c(\"행정동\", \"면적.km\")\n",
        "region <- arrange(region, region$행정동)\n",
        "table(region$행정동 %in% jjdong)\n",
        "table(jjdong %in% region$행정동)\n",
        "region$행정동[region$행정동 %in% jjdong == FALSE] #jjdong에는 없는 region의 행정동 #이름 오류 있는 듯 (송청1동, 품남동)\n",
        "jjdong[jjdong %in% region$행정동 == FALSE] #region에는 없는 jjdong의 행정동\n",
        "region\n",
        "\n",
        "\n",
        "\n",
        "\n",
        "###############################################\n",
        "# 상점 수 #####################################\n",
        "###############################################\n",
        "\n",
        "str(x)\n",
        "head(x)\n",
        "\n",
        "store <- x[grep(\"전주\", x$시군구명), ]\n",
        "store <- store[ , c(2, 3, 5, 7, 11, 17, 25, 32, 38, 39)]\n",
        "\n",
        "store1 <- store %>% group_by(행정동명) %>% summarise(count = length(상호명))\n",
        "store1 <- as.data.frame(store1)\n",
        "store1 <- arrange(store1, store1$행정동명)\n",
        "names(store1) <- c(\"행정동\", \"상점개수\")\n",
        "\n",
        "table(jjdong %in% store1$행정동)\n",
        "table(store1$행정동 %in% jjdong)\n",
        "\n",
        "jjdong[jjdong %in% store1$행정동 == FALSE] #store에는 없는 jjdong의 행정동\n",
        "store1$행정동[store1$행정동 %in% jjdong == FALSE] #jjdong에는 없는 store의 행정동\n",
        "\n",
        "which(store1$행정동 %in% jjdong == FALSE)\n",
        "store1[which(store1$행정동 %in% jjdong == FALSE), ]\n",
        "\n",
        "store1$행정동[which(store1$행정동 == \"동산동\")] <- \"여의동\"\n",
        "store1 <- store1 %>% group_by(행정동) %>% summarise(상점개수 = sum(상점개수))\n",
        "store1 <- as.data.frame(store1)\n",
        "store1 <- arrange(store1, store1$행정동)\n",
        "store1 <- store1[-1,]\n",
        "store1\n",
        "\n",
        "\n",
        "\n",
        "\n",
        "\n",
        "###############################################\n",
        "# 상권지수 ####################################\n",
        "###############################################\n",
        "\n",
        "\n",
        "options(digits = 4)\n",
        "store.rate <- store1$상점개수 / region$면적.km\n",
        "store.rate <- data.frame(행정동 = jjdong, 상권지수 = store.rate)\n",
        "store.rate\n",
        "\n",
        "\n",
        "\n",
        "\n",
        "\n",
        "###############################################\n",
        "# 음식점수 ####################################\n",
        "###############################################\n",
        "\n",
        "#str(rest)\n",
        "#head(rest)\n",
        "\n",
        "#rest <- rest[,c(2,4)]\n",
        "#names(rest) <- c(\"행정동\", \"음식점수\")\n",
        "\n",
        "#table(rest$행정동 %in% jjdong)\n",
        "#table(jjdong %in% rest$행정동)\n",
        "#jjdong[jjdong %in% rest$행정동 == FALSE]\n",
        "\n",
        "#rest <- arrange(rest, rest$행정동)\n",
        "#rest\n",
        "\n",
        "\n",
        "str(x)\n",
        "head(x)\n",
        "str(store)\n",
        "head(store)\n",
        "\n",
        "View(store10)\n",
        "\n",
        "store10 <- store[store$상권업종대분류명 == \"음식\", ]\n",
        "store10 <- store10 %>% group_by(행정동명) %>% summarise(count = length(상호명))\n",
        "store10 <- as.data.frame(store10)\n",
        "names(store10) <- c(\"행정동\", \"음식점개수ㅍ\")\n",
        "\n",
        "table(jjdong %in% store10$행정동)\n",
        "table(store10$행정동 %in% jjdong)\n",
        "\n",
        "jjdong[jjdong %in% store10$행정동 == FALSE] #store10에는 없는 jjdong의 행정동\n",
        "store10$행정동[store10$행정동 %in% jjdong == FALSE] #jjdong에는 없는 store10의 행정동\n",
        "\n",
        "store10$행정동[which(store10$행정동 == \"동산동\")] <- \"여의동\"\n",
        "store10 <- store10[-1,]\n",
        "store10 <- store10 %>% group_by(행정동) %>% summarise(음식점개수 = sum(음식점개수ㅍ))\n",
        "store10 <- as.data.frame(store10)\n",
        "store10 <- arrange(store10, store10$행정동)\n",
        "\n",
        "store10\n",
        "\n",
        "\n",
        "\n",
        "\n",
        "\n",
        "\n",
        "\n",
        "###############################################\n",
        "# 상점 수 (음식점 제외) #######################\n",
        "###############################################\n",
        "\n",
        "str(x)\n",
        "head(x)\n",
        "str(store)\n",
        "head(store)\n",
        "\n",
        "store2 <- store[store$상권업종대분류명 != \"음식\", ]\n",
        "store2 <- store2 %>% group_by(행정동명) %>% summarise(count = length(상호명))\n",
        "store2 <- as.data.frame(store2)\n",
        "names(store2) <- c(\"행정동\", \"상점개수ㅍ\")\n",
        "\n",
        "table(jjdong %in% store2$행정동)\n",
        "table(store2$행정동 %in% jjdong)\n",
        "\n",
        "jjdong[jjdong %in% store2$행정동 == FALSE] #store2에는 없는 jjdong의 행정동\n",
        "store2$행정동[store2$행정동 %in% jjdong == FALSE] #jjdong에는 없는 store2의 행정동\n",
        "\n",
        "which(store2$행정동 %in% jjdong == FALSE)\n",
        "store2[which(store2$행정동 %in% jjdong == FALSE), ]\n",
        "\n",
        "store2$행정동[which(store2$행정동 == \"동산동\")] <- \"여의동\"\n",
        "store2 <- store2[-1,]\n",
        "store2 <- store2 %>% group_by(행정동) %>% summarise(상점개수.음식점제외 = sum(상점개수ㅍ))\n",
        "store2 <- as.data.frame(store2)\n",
        "store2 <- arrange(store2, store2$행정동)\n",
        "\n",
        "store2\n",
        "\n",
        "\n",
        "\n",
        "\n",
        "\n",
        "\n",
        "###############################################\n",
        "# 카페 수 #####################################\n",
        "###############################################\n",
        "\n",
        "str(x)\n",
        "head(x)\n",
        "str(store)\n",
        "head(store)\n",
        "\n",
        "store3 <- store[store$상권업종중분류명 == \"커피점/카페\", ]\n",
        "store3 <- store3 %>% group_by(행정동명) %>% summarise(count = length(상호명))\n",
        "store3 <- as.data.frame(store3)\n",
        "names(store3) <- c(\"행정동\", \"카페개수ㅍ\")\n",
        "\n",
        "table(jjdong %in% store3$행정동)\n",
        "table(store3$행정동 %in% jjdong)\n",
        "\n",
        "jjdong[jjdong %in% store3$행정동 == FALSE] #store3에는 없는 jjdong의 행정동\n",
        "store3$행정동[store3$행정동 %in% jjdong == FALSE] #jjdong에는 없는 store3의 행정동\n",
        "\n",
        "which(store3$행정동 %in% jjdong == FALSE)\n",
        "store3[which(store3$행정동 %in% jjdong == FALSE), ]\n",
        "\n",
        "store3$행정동[which(store3$행정동 == \"동산동\")] <- \"여의동\"\n",
        "store3 <- store3[-1,]\n",
        "store3 <- store3 %>% group_by(행정동) %>% summarise(카페개수 = sum(카페개수ㅍ))\n",
        "store3 <- as.data.frame(store3)\n",
        "store3 <- arrange(store3, store3$행정동)\n",
        "\n",
        "store3\n",
        "\n",
        "\n",
        "\n",
        "\n",
        "\n",
        "\n",
        "\n",
        "###############################################\n",
        "# 패스트푸드점 수 #############################\n",
        "###############################################\n",
        "\n",
        "str(x)\n",
        "head(x)\n",
        "str(store)\n",
        "head(store)\n",
        "\n",
        "View(store4)\n",
        "\n",
        "store4 <- store[store$상권업종중분류명 == \"패스트푸드\", ]\n",
        "store4 <- store4 %>% group_by(행정동명) %>% summarise(count = length(상호명))\n",
        "store4 <- as.data.frame(store4)\n",
        "names(store4) <- c(\"행정동\", \"패스트푸드점수ㅍ\")\n",
        "\n",
        "table(jjdong %in% store4$행정동)\n",
        "table(store4$행정동 %in% jjdong)\n",
        "\n",
        "jjdong[jjdong %in% store4$행정동 == FALSE] #store4에는 없는 jjdong의 행정동\n",
        "store4$행정동[store4$행정동 %in% jjdong == FALSE] #jjdong에는 없는 store4의 행정동\n",
        "\n",
        "add <- data.frame(행정동 = jjdong[jjdong %in% store4$행정동 == FALSE], \n",
        "                     패스트푸드점수ㅍ = rep(0, length(jjdong[jjdong %in% store4$행정동 == FALSE])))\n",
        "store4 <- rbind(store4, add)\n",
        "store4 <- arrange(store4, store4$행정동)\n",
        "\n",
        "store4$행정동[which(store4$행정동 == \"동산동\")] <- \"여의동\"\n",
        "store4 <- store4[-1,]\n",
        "store4 <- store4 %>% group_by(행정동) %>% summarise(패스트푸드점개수 = sum(패스트푸드점수ㅍ))\n",
        "store4 <- as.data.frame(store4)\n",
        "store4 <- arrange(store4, store4$행정동)\n",
        "\n",
        "store4\n",
        "\n",
        "\n",
        "\n",
        "###############################################\n",
        "# PC방/오락/당구장/볼링장 수 ##################\n",
        "###############################################\n",
        "\n",
        "str(x)\n",
        "head(x)\n",
        "str(store)\n",
        "head(store)\n",
        "\n",
        "store5 <- store[store$상권업종중분류명 == \"PC/오락/당구/볼링등\", ]\n",
        "store5 <- store5 %>% group_by(행정동명) %>% summarise(count = length(상호명))\n",
        "store5 <- as.data.frame(store5)\n",
        "names(store5) <- c(\"행정동\", \"오락시설개수ㅍ\")\n",
        "\n",
        "table(jjdong %in% store5$행정동)\n",
        "table(store5$행정동 %in% jjdong)\n",
        "\n",
        "jjdong[jjdong %in% store5$행정동 == FALSE] #store5에는 없는 jjdong의 행정동\n",
        "store5$행정동[store5$행정동 %in% jjdong == FALSE] #jjdong에는 없는 store5의 행정동\n",
        "\n",
        "add <- data.frame(행정동 = jjdong[jjdong %in% store5$행정동 == FALSE], \n",
        "                     오락시설개수ㅍ = rep(0, length(jjdong[jjdong %in% store5$행정동 == FALSE])))\n",
        "store5 <- rbind(store5, add)\n",
        "store5 <- arrange(store5, store5$행정동)\n",
        "\n",
        "store5$행정동[which(store5$행정동 == \"동산동\")] <- \"여의동\"\n",
        "store5 <- store5 %>% group_by(행정동) %>% summarise(오락시설개수 = sum(오락시설개수ㅍ))\n",
        "store5 <- as.data.frame(store5)\n",
        "store5 <- arrange(store5, store5$행정동)\n",
        "\n",
        "store5\n",
        "\n",
        "\n",
        "\n",
        "\n",
        "\n",
        "###############################################\n",
        "# 도서관/독서실 수 ############################\n",
        "###############################################\n",
        "\n",
        "str(x)\n",
        "head(x)\n",
        "str(store)\n",
        "head(store)\n",
        "\n",
        "store6 <- store[store$상권업종중분류명 == \"도서관/독서실\", ]\n",
        "store6 <- store6 %>% group_by(행정동명) %>% summarise(count = length(상호명))\n",
        "store6 <- as.data.frame(store6)\n",
        "names(store6) <- c(\"행정동\", \"도서관.독서실개수ㅍ\")\n",
        "\n",
        "table(jjdong %in% store6$행정동)\n",
        "table(store6$행정동 %in% jjdong)\n",
        "\n",
        "jjdong[jjdong %in% store6$행정동 == FALSE] #store6에는 없는 jjdong의 행정동\n",
        "store6$행정동[store6$행정동 %in% jjdong == FALSE] #jjdong에는 없는 store6의 행정동\n",
        "\n",
        "add <- data.frame(행정동 = jjdong[jjdong %in% store6$행정동 == FALSE], \n",
        "                     도서관.독서실개수ㅍ = rep(0, length(jjdong[jjdong %in% store6$행정동 == FALSE])))\n",
        "store6 <- rbind(store6, add)\n",
        "store6 <- arrange(store6, store6$행정동)\n",
        "\n",
        "store6$행정동[which(store6$행정동 == \"동산동\")] <- \"여의동\"\n",
        "store6 <- store6 %>% group_by(행정동) %>% summarise(도서관.독서실개수 = sum(도서관.독서실개수ㅍ))\n",
        "store6 <- as.data.frame(store6)\n",
        "store6 <- arrange(store6, store6$행정동)\n",
        "\n",
        "store6\n",
        "\n",
        "\n",
        "\n",
        "\n",
        "\n",
        "###############################################\n",
        "# 실내운동시설 수 #############################\n",
        "###############################################\n",
        "\n",
        "str(x)\n",
        "head(x)\n",
        "str(store)\n",
        "head(store)\n",
        "\n",
        "View(store7)\n",
        "\n",
        "store7 <- store[store$상권업종중분류명 == \"실내운동시설\", ]\n",
        "store7 <- store7 %>% group_by(행정동명) %>% summarise(count = length(상호명))\n",
        "store7 <- as.data.frame(store7)\n",
        "names(store7) <- c(\"행정동\", \"실내운동시설개수ㅍ\")\n",
        "\n",
        "table(jjdong %in% store7$행정동)\n",
        "table(store7$행정동 %in% jjdong)\n",
        "\n",
        "jjdong[jjdong %in% store7$행정동 == FALSE] #store7에는 없는 jjdong의 행정동\n",
        "store7$행정동[store7$행정동 %in% jjdong == FALSE] #jjdong에는 없는 store7의 행정동\n",
        "\n",
        "add <- data.frame(행정동 = jjdong[jjdong %in% store7$행정동 == FALSE], \n",
        "                     실내운동시설개수ㅍ = rep(0, length(jjdong[jjdong %in% store7$행정동 == FALSE])))\n",
        "store7 <- rbind(store7, add)\n",
        "store7 <- arrange(store7, store7$행정동)\n",
        "\n",
        "store7$행정동[which(store7$행정동 == \"동산동\")] <- \"여의동\"\n",
        "store7 <- store7 %>% group_by(행정동) %>% summarise(실내운동시설개수 = sum(실내운동시설개수ㅍ))\n",
        "store7 <- as.data.frame(store7)\n",
        "store7 <- arrange(store7, store7$행정동)\n",
        "\n",
        "store7\n",
        "\n",
        "\n",
        "\n",
        "\n",
        "###############################################\n",
        "# 이/미용/건강시설 수 #########################\n",
        "###############################################\n",
        "\n",
        "str(x)\n",
        "head(x)\n",
        "str(store)\n",
        "head(store)\n",
        "\n",
        "store8 <- store[store$상권업종중분류명 == \"이/미용/건강\", ]\n",
        "store8 <- store8 %>% group_by(행정동명) %>% summarise(count = length(상호명))\n",
        "store8 <- as.data.frame(store8)\n",
        "names(store8) <- c(\"행정동\", \"이.미용.건강시설개수ㅍ\")\n",
        "\n",
        "table(jjdong %in% store8$행정동)\n",
        "table(store8$행정동 %in% jjdong)\n",
        "\n",
        "jjdong[jjdong %in% store8$행정동 == FALSE] #store8에는 없는 jjdong의 행정동\n",
        "store8$행정동[store8$행정동 %in% jjdong == FALSE] #jjdong에는 없는 store8의 행정동\n",
        "\n",
        "#add <- data.frame(행정동 = jjdong[jjdong %in% store7$행정동 == FALSE], \n",
        "#                     실내운동시설개수ㅍ = rep(0, length(jjdong[jjdong %in% store7$행정동 == FALSE])))\n",
        "#store8 <- rbind(store8, add)\n",
        "#store8 <- arrange(store8, store8$행정동)\n",
        "\n",
        "store8$행정동[which(store8$행정동 == \"동산동\")] <- \"여의동\"\n",
        "store8 <- store8[-1,]\n",
        "store8 <- store8 %>% group_by(행정동) %>% summarise(이.미용.건강시설개수 = sum(이.미용.건강시설개수ㅍ))\n",
        "store8 <- as.data.frame(store8)\n",
        "store8 <- arrange(store8, store8$행정동)\n",
        "\n",
        "store8\n",
        "\n",
        "\n",
        "\n",
        "\n",
        "\n",
        "###############################################\n",
        "# 화장품소매점포 수 ###########################\n",
        "###############################################\n",
        "\n",
        "str(x)\n",
        "head(x)\n",
        "str(store)\n",
        "head(store)\n",
        "View(store9)\n",
        "\n",
        "store9 <- store[store$상권업종중분류명 == \"화장품소매\", ]\n",
        "store9 <- store9 %>% group_by(행정동명) %>% summarise(count = length(상호명))\n",
        "store9 <- as.data.frame(store9)\n",
        "names(store9) <- c(\"행정동\", \"화장품소매점포수ㅍ\")\n",
        "\n",
        "table(jjdong %in% store9$행정동)\n",
        "table(store9$행정동 %in% jjdong)\n",
        "\n",
        "jjdong[jjdong %in% store9$행정동 == FALSE] #store9에는 없는 jjdong의 행정동\n",
        "store9$행정동[store9$행정동 %in% jjdong == FALSE] #jjdong에는 없는 store9의 행정동\n",
        "\n",
        "add <- data.frame(행정동 = jjdong[jjdong %in% store9$행정동 == FALSE], \n",
        "                     화장품소매점포수ㅍ = rep(0, length(jjdong[jjdong %in% store9$행정동 == FALSE])))\n",
        "store9 <- rbind(store9, add)\n",
        "store9 <- arrange(store9, store9$행정동)\n",
        "\n",
        "store9$행정동[which(store9$행정동 == \"동산동\")] <- \"여의동\"\n",
        "store9 <- store9[-1,]\n",
        "store9 <- store9 %>% group_by(행정동) %>% summarise(화장품소매점포수 = sum(화장품소매점포수ㅍ))\n",
        "store9 <- as.data.frame(store9)\n",
        "store9 <- arrange(store9, store9$행정동)\n",
        "\n",
        "store9\n",
        "\n",
        "\n",
        "\n",
        "\n",
        "\n",
        "\n",
        "###############################################\n",
        "# 버스 정류장 수 ##############################\n",
        "###############################################\n",
        "\n",
        "options(digits = 9)\n",
        "str(bus)\n",
        "head(bus)\n",
        "\n",
        "\n",
        "bus1 <- bus[,c(1,5)]\n",
        "bus1$행정동 <- str_trim(bus1$행정동, side=c(\"both\"))\n",
        "bus1 <- bus1 %>% group_by(행정동) %>% summarise(버스정류장수 = length(설치.지점명))\n",
        "bus1 <- as.data.frame(bus1)\n",
        "bus1 <- arrange(bus1, bus1$행정동)\n",
        "\n",
        "table(jjdong %in% bus1$행정동)\n",
        "bus1\n",
        "\n",
        "\n",
        "\n",
        "###############################################\n",
        "# 공원 수 #####################################\n",
        "###############################################\n",
        "\n",
        "str(park)\n",
        "head(park)\n",
        "\n",
        "park <- park[, c(4,13,22,23)]\n",
        "park1 <- park\n",
        "park1$parkLoadAddr <- c(\"팔복동\", \"중앙동\", \"풍남동\", \"여의동\", \"여의동\",\n",
        "                       \"우아2동\", \"송천2동\", \"송천2동\", \"우아2동\", \"팔복동\")\n",
        "park1 <- park1 %>% group_by(parkLoadAddr) %>% summarise(공원수 = length(dataTitle))\n",
        "park1 <- as.data.frame(park1)\n",
        "names(park1)[1] <- \"행정동\"\n",
        "\n",
        "table(jjdong %in% park1$행정동)\n",
        "table(park1$행정동 %in% jjdong)\n",
        "jjdong[jjdong %in% park1$행정동 == FALSE] #park에는 없는 jjdong의 행정동\n",
        "add <- data.frame(행정동 = jjdong[jjdong %in% park1$행정동 == FALSE], \n",
        "                     공원수 = rep(0, length(jjdong[jjdong %in% park1$행정동 == FALSE])))\n",
        "park1 <- rbind(park1, add)\n",
        "park1 <- arrange(park1, park1$행정동)\n",
        "park1\n",
        "\n",
        "\n",
        "\n",
        "\n",
        "###############################################\n",
        "# 전동킥보드 수 ###############################\n",
        "###############################################\n",
        "\n",
        "str(scooter)\n",
        "head(scooter)\n",
        "\n",
        "scooter <- scooter[, c(2,6)]\n",
        "names(scooter) <- c(\"행정동\", \"전동킥보드이용수\")\n",
        "scooter <- arrange(scooter, scooter$행정동)\n",
        "\n",
        "table(jjdong %in% scooter$행정동)\n",
        "scooter\n",
        "\n",
        "\n",
        "df <- data.frame(전동킥보드 = scooter$행정동, 자전거 = bicycle1$행정동,\n",
        "                      대규모점포 = bigstore1$행정동, 버스정류장 = bus1$행정동,\n",
        "                      편의점 = cvstore1$행정동, 공원 = park1$행정동,\n",
        "                      인구 = pop$행정동, 면적 = region$행정동,\n",
        "                      음식점 = store10$행정동, 상점 = store1$행정동,\n",
        "                      음식점제외 = store2$행정동, 대학교 = univ1$행정동, \n",
        "                      카페개수 = store3$행정동, 패스트푸드점개수 = store4$행정동,\n",
        "                      오락시설개수 = store5$행정동, 도서관.독서실개수 = store6$행정동,\n",
        "                      실내운동시설개수 = store7$행정동, 이.미용.건강시설개수 = store8$행정동,\n",
        "                      화장품소매점포수 = store9$행정동)\n",
        "df\n",
        "                 \n",
        "\n",
        "\n",
        "###############################################\n",
        "# 최종 데이터셋 jj ############################\n",
        "###############################################\n",
        "\n",
        "jj <- merge(scooter, bicycle1)\n",
        "jj <- merge(jj, bigstore1)\n",
        "jj <- merge(jj, bus1)\n",
        "jj <- merge(jj, cvstore1)\n",
        "jj <- merge(jj, park1)\n",
        "jj <- merge(jj, pop)\n",
        "jj <- merge(jj, region)\n",
        "#jj <- merge(jj, rest)\n",
        "jj <- merge(jj, store1)\n",
        "jj <- merge(jj, store2)\n",
        "jj <- merge(jj, univ1)\n",
        "jj <- merge(jj, store3)\n",
        "jj <- merge(jj, store4)\n",
        "jj <- merge(jj, store5)\n",
        "jj <- merge(jj, store6)\n",
        "jj <- merge(jj, store7)\n",
        "jj <- merge(jj, store8)\n",
        "jj <- merge(jj, store9)\n",
        "jj <- merge(jj, store10)\n",
        "\n",
        "jj\n",
        "\n",
        "\n",
        "#write.csv(store2, file = '음식점제외모든상점.csv')\n",
        "#write.csv(store3, file = '카페.csv')\n",
        "#write.csv(store4, file = '패스트푸드점.csv')\n",
        "#write.csv(store5, file = 'PC+오락+당구+볼링등.csv')\n",
        "#write.csv(store6, file = '도서관+독서실.csv')\n",
        "#write.csv(store7, file = '실내운동시설.csv')\n",
        "#write.csv(store8, file = '이+미용+건강.csv')\n",
        "#write.csv(store9, file = '화장품소매.csv')\n",
        "#write.csv(store10, file = '음식점.csv')\n",
        "\n",
        "#write.csv(jj, file = 'jj.csv')\n",
        "#write.csv(bicycle, file = 'bicycle.csv')\n",
        "#write.csv(bigstore, file = 'bigstore.csv')\n",
        "#write.csv(bus, file = 'bus.csv')\n",
        "#write.csv(cvstore, file = 'cvstore.csv')\n",
        "#write.csv(park, file = 'park.csv')\n",
        "#write.csv(store, file = 'store.csv')\n",
        "#write.csv(univ, file = 'univ.csv')\n",
        "\n",
        "\n",
        "jj <- jj[,-1]\n",
        "\n",
        "\n",
        "\n",
        "###############################################\n",
        "# 상관분석 ####################################\n",
        "###############################################\n",
        "\n",
        "\n",
        "library(corrplot) \n",
        "cor.jj <- cor(jj) \n",
        "round(cor.jj, 2) \n",
        "corrplot(cor.jj, method='number', shade.col=NA, tl.col='black', tl.srt=45)\n",
        "\n",
        "col <- colorRampPalette(c(\"#BB4444\", \"#EE9988\", \"#FFFFFF\", \"#77AADD\", \"#4477AA\"))\n",
        "corrplot(cor.jj, method='color', col = col(200), order = 'hclust', number.cex = .7,\n",
        "         addCoef.col = 'black', tl.col = 'black', tl.srt = 45, sig.level = 0.01, insig = 'blank', diag = FALSE)\n",
        "\n",
        "\n",
        "cor.test(jj$전동킥보드이용수, jj$자전거보관대수)\n",
        "cor.test(jj$전동킥보드이용수, jj$대규모점포수)\n",
        "cor.test(jj$전동킥보드이용수, jj$버스정류장수) #유의 X\n",
        "cor.test(jj$전동킥보드이용수, jj$편의점수)\n",
        "cor.test(jj$전동킥보드이용수, jj$공원수) #유의 X\n",
        "cor.test(jj$전동킥보드이용수, jj$인구수)\n",
        "cor.test(jj$전동킥보드이용수, jj$면적.km) #유의 X\n",
        "cor.test(jj$전동킥보드이용수, jj$음식점수)\n",
        "cor.test(jj$전동킥보드이용수, jj$상점개수)\n",
        "cor.test(jj$전동킥보드이용수, jj$상점개수.음식점제외)\n",
        "cor.test(jj$전동킥보드이용수, jj$대학교수)\n",
        "cor.test(jj$전동킥보드이용수, jj$카페개수)\n",
        "cor.test(jj$전동킥보드이용수, jj$패스트푸드점개수)\n",
        "cor.test(jj$전동킥보드이용수, jj$오락시설개수)\n",
        "cor.test(jj$전동킥보드이용수, jj$도서관.독서실개수)\n",
        "cor.test(jj$전동킥보드이용수, jj$실내운동시설개수)\n",
        "cor.test(jj$전동킥보드이용수, jj$이.미용.건강시설개수)\n",
        "cor.test(jj$전동킥보드이용수, jj$화장품소매점포수)\n",
        "cor.test(jj$전동킥보드이용수, jj$음식점개수)\n",
        "\n",
        "\n"
      ],
      "execution_count": null,
      "outputs": []
    },
    {
      "cell_type": "markdown",
      "metadata": {
        "id": "NH3gnYgofR62"
      },
      "source": [
        "## 데이터 불러오기 + 패키지 실행"
      ]
    },
    {
      "cell_type": "code",
      "metadata": {
        "id": "DAh-FMwfdkkX",
        "colab": {
          "base_uri": "https://localhost:8080/"
        },
        "outputId": "69bc162b-9dee-45e4-bddd-17b07eed3aea"
      },
      "source": [
        "pop <- read.csv('(중복)2019_전주시 동별 인구.csv', header=TRUE, stringsAsFactors=FALSE, fileEncoding = \"euc-kr\")\n",
        "rest <- read.csv('(중복)동별 음식점 및 주점업 사업체수(2018).csv', header=TRUE, stringsAsFactors=FALSE, fileEncoding = \"euc-kr\")\n",
        "bicycle <- read.csv('(행정동)12_04_03_E_자전거보관소정보.csv', header=TRUE, stringsAsFactors=FALSE, fileEncoding = \"euc-kr\")\n",
        "bigstore <- read.csv('(행정동)대규모점포현황_2020.csv', header=TRUE, stringsAsFactors=FALSE, fileEncoding = \"euc-kr\")\n",
        "cvstore <- read.csv('(행정동)동별 체인화 편의점 + 사업체수 (2018년).csv', header=TRUE, stringsAsFactors=FALSE, fileEncoding = \"euc-kr\")\n",
        "univ <- read.csv('(행정동)전주시 대학교.csv', header=TRUE, stringsAsFactors=FALSE, fileEncoding = \"euc-kr\")\n",
        "region <- read.csv('(행정동)전주시 행정동 면적.csv', header=TRUE, stringsAsFactors=FALSE, fileEncoding = \"euc-kr\")\n",
        "store <- read.csv('전북 상권정보.csv', header=TRUE, stringsAsFactors=FALSE, fileEncoding = \"euc-kr\")\n",
        "bus <- read.csv('전주시 버스 정류장.csv', header=TRUE, stringsAsFactors=FALSE, fileEncoding = \"euc-kr\")\n",
        "park <- read.csv('park.csv', header=TRUE, stringsAsFactors=FALSE, fileEncoding = \"euc-kr\")\n",
        "scooter <- read.csv('(행정동)PM_210509_0시.csv', header=TRUE, stringsAsFactors=FALSE, fileEncoding = \"euc-kr\")\n",
        "\n",
        "library(dplyr)"
      ],
      "execution_count": null,
      "outputs": [
        {
          "output_type": "stream",
          "text": [
            "Warning message in scan(file = file, what = what, sep = sep, quote = quote, dec = dec, :\n",
            "“invalid input found on input connection '전북 상권정보.csv'”\n"
          ],
          "name": "stderr"
        }
      ]
    },
    {
      "cell_type": "markdown",
      "metadata": {
        "id": "AQ_aX69pAfxi"
      },
      "source": [
        "▼ jjdong : 전주시에 있는 행정동 데이터셋"
      ]
    },
    {
      "cell_type": "code",
      "metadata": {
        "colab": {
          "base_uri": "https://localhost:8080/"
        },
        "id": "g1U1SxfLdt7o",
        "outputId": "f431095c-ee09-4dac-a085-f18e227f2a56"
      },
      "source": [
        "jjdong <- read.csv('전주 행정동_가나다순.csv', header=TRUE, stringsAsFactors=FALSE, fileEncoding = \"euc-kr\")\n",
        "jjdong <- jjdong$행정동\n",
        "str(jjdong)\n",
        "head(jjdong)"
      ],
      "execution_count": null,
      "outputs": [
        {
          "output_type": "stream",
          "text": [
            " chr [1:35] \"금암1동\" \"금암2동\" \"노송동\" \"덕진동\" \"동서학동\" \"삼천1동\" ...\n"
          ],
          "name": "stdout"
        },
        {
          "output_type": "display_data",
          "data": {
            "text/plain": [
              "[1] \"금암1동\"  \"금암2동\"  \"노송동\"   \"덕진동\"   \"동서학동\" \"삼천1동\" "
            ],
            "text/latex": "\\begin{enumerate*}\n\\item '금암1동'\n\\item '금암2동'\n\\item '노송동'\n\\item '덕진동'\n\\item '동서학동'\n\\item '삼천1동'\n\\end{enumerate*}\n",
            "text/markdown": "1. '금암1동'\n2. '금암2동'\n3. '노송동'\n4. '덕진동'\n5. '동서학동'\n6. '삼천1동'\n\n\n",
            "text/html": [
              "<style>\n",
              ".list-inline {list-style: none; margin:0; padding: 0}\n",
              ".list-inline>li {display: inline-block}\n",
              ".list-inline>li:not(:last-child)::after {content: \"\\00b7\"; padding: 0 .5ex}\n",
              "</style>\n",
              "<ol class=list-inline><li>'금암1동'</li><li>'금암2동'</li><li>'노송동'</li><li>'덕진동'</li><li>'동서학동'</li><li>'삼천1동'</li></ol>\n"
            ]
          },
          "metadata": {
            "tags": []
          }
        }
      ]
    },
    {
      "cell_type": "markdown",
      "metadata": {
        "id": "HFvSwbe8AoFf"
      },
      "source": [
        "## 인구수"
      ]
    },
    {
      "cell_type": "code",
      "metadata": {
        "colab": {
          "base_uri": "https://localhost:8080/"
        },
        "id": "dwZF_tyL9VNu",
        "outputId": "bee89678-d611-4b5a-81d9-9093313ee441"
      },
      "source": [
        "str(pop)\n",
        "head(pop)"
      ],
      "execution_count": null,
      "outputs": [
        {
          "output_type": "stream",
          "text": [
            "'data.frame':\t35 obs. of  3 variables:\n",
            " $ 구  : chr  \"완산구\" \"완산구\" \"완산구\" \"완산구\" ...\n",
            " $ 동  : chr  \"중앙동\" \"풍남동\" \"노송동\" \"완산동\" ...\n",
            " $ 인구: int  8073 4521 13189 5148 6784 9223 15288 20030 13204 46295 ...\n"
          ],
          "name": "stdout"
        },
        {
          "output_type": "display_data",
          "data": {
            "text/plain": [
              "  구     동       인구 \n",
              "1 완산구 중앙동    8073\n",
              "2 완산구 풍남동    4521\n",
              "3 완산구 노송동   13189\n",
              "4 완산구 완산동    5148\n",
              "5 완산구 동서학동  6784\n",
              "6 완산구 서서학동  9223"
            ],
            "text/latex": "A data.frame: 6 × 3\n\\begin{tabular}{r|lll}\n  & 구 & 동 & 인구\\\\\n  & <chr> & <chr> & <int>\\\\\n\\hline\n\t1 & 완산구 & 중앙동   &  8073\\\\\n\t2 & 완산구 & 풍남동   &  4521\\\\\n\t3 & 완산구 & 노송동   & 13189\\\\\n\t4 & 완산구 & 완산동   &  5148\\\\\n\t5 & 완산구 & 동서학동 &  6784\\\\\n\t6 & 완산구 & 서서학동 &  9223\\\\\n\\end{tabular}\n",
            "text/markdown": "\nA data.frame: 6 × 3\n\n| <!--/--> | 구 &lt;chr&gt; | 동 &lt;chr&gt; | 인구 &lt;int&gt; |\n|---|---|---|---|\n| 1 | 완산구 | 중앙동   |  8073 |\n| 2 | 완산구 | 풍남동   |  4521 |\n| 3 | 완산구 | 노송동   | 13189 |\n| 4 | 완산구 | 완산동   |  5148 |\n| 5 | 완산구 | 동서학동 |  6784 |\n| 6 | 완산구 | 서서학동 |  9223 |\n\n",
            "text/html": [
              "<table class=\"dataframe\">\n",
              "<caption>A data.frame: 6 × 3</caption>\n",
              "<thead>\n",
              "\t<tr><th></th><th scope=col>구</th><th scope=col>동</th><th scope=col>인구</th></tr>\n",
              "\t<tr><th></th><th scope=col>&lt;chr&gt;</th><th scope=col>&lt;chr&gt;</th><th scope=col>&lt;int&gt;</th></tr>\n",
              "</thead>\n",
              "<tbody>\n",
              "\t<tr><th scope=row>1</th><td>완산구</td><td>중앙동  </td><td> 8073</td></tr>\n",
              "\t<tr><th scope=row>2</th><td>완산구</td><td>풍남동  </td><td> 4521</td></tr>\n",
              "\t<tr><th scope=row>3</th><td>완산구</td><td>노송동  </td><td>13189</td></tr>\n",
              "\t<tr><th scope=row>4</th><td>완산구</td><td>완산동  </td><td> 5148</td></tr>\n",
              "\t<tr><th scope=row>5</th><td>완산구</td><td>동서학동</td><td> 6784</td></tr>\n",
              "\t<tr><th scope=row>6</th><td>완산구</td><td>서서학동</td><td> 9223</td></tr>\n",
              "</tbody>\n",
              "</table>\n"
            ]
          },
          "metadata": {
            "tags": []
          }
        }
      ]
    },
    {
      "cell_type": "markdown",
      "metadata": {
        "id": "RvqunIUCAsUh"
      },
      "source": [
        "1 동이랑 인구 불러오기\n",
        "\n",
        "2 \"동\"을 \"행정동\"으로 바꾸기\n",
        "\n",
        "3 행정동을 기준으로 오름차순 정렬하기\n",
        "\n",
        "▼"
      ]
    },
    {
      "cell_type": "code",
      "metadata": {
        "colab": {
          "base_uri": "https://localhost:8080/"
        },
        "id": "ph0rxA749mJX",
        "outputId": "11e94adf-407e-4baf-f3e4-a56a939db40e"
      },
      "source": [
        "pop <- pop[,c(2,3)]\n",
        "names(pop)[1] <- \"행정동\"\n",
        "pop <- arrange(pop, pop$행정동)\n",
        "head(pop)"
      ],
      "execution_count": null,
      "outputs": [
        {
          "output_type": "display_data",
          "data": {
            "text/plain": [
              "  행정동   인구 \n",
              "1 금암1동   8824\n",
              "2 금암2동  10714\n",
              "3 노송동   13189\n",
              "4 덕진동   21215\n",
              "5 동산동   30208\n",
              "6 동서학동  6784"
            ],
            "text/latex": "A data.frame: 6 × 2\n\\begin{tabular}{r|ll}\n  & 행정동 & 인구\\\\\n  & <chr> & <int>\\\\\n\\hline\n\t1 & 금암1동  &  8824\\\\\n\t2 & 금암2동  & 10714\\\\\n\t3 & 노송동   & 13189\\\\\n\t4 & 덕진동   & 21215\\\\\n\t5 & 동산동   & 30208\\\\\n\t6 & 동서학동 &  6784\\\\\n\\end{tabular}\n",
            "text/markdown": "\nA data.frame: 6 × 2\n\n| <!--/--> | 행정동 &lt;chr&gt; | 인구 &lt;int&gt; |\n|---|---|---|\n| 1 | 금암1동  |  8824 |\n| 2 | 금암2동  | 10714 |\n| 3 | 노송동   | 13189 |\n| 4 | 덕진동   | 21215 |\n| 5 | 동산동   | 30208 |\n| 6 | 동서학동 |  6784 |\n\n",
            "text/html": [
              "<table class=\"dataframe\">\n",
              "<caption>A data.frame: 6 × 2</caption>\n",
              "<thead>\n",
              "\t<tr><th></th><th scope=col>행정동</th><th scope=col>인구</th></tr>\n",
              "\t<tr><th></th><th scope=col>&lt;chr&gt;</th><th scope=col>&lt;int&gt;</th></tr>\n",
              "</thead>\n",
              "<tbody>\n",
              "\t<tr><th scope=row>1</th><td>금암1동 </td><td> 8824</td></tr>\n",
              "\t<tr><th scope=row>2</th><td>금암2동 </td><td>10714</td></tr>\n",
              "\t<tr><th scope=row>3</th><td>노송동  </td><td>13189</td></tr>\n",
              "\t<tr><th scope=row>4</th><td>덕진동  </td><td>21215</td></tr>\n",
              "\t<tr><th scope=row>5</th><td>동산동  </td><td>30208</td></tr>\n",
              "\t<tr><th scope=row>6</th><td>동서학동</td><td> 6784</td></tr>\n",
              "</tbody>\n",
              "</table>\n"
            ]
          },
          "metadata": {
            "tags": []
          }
        }
      ]
    },
    {
      "cell_type": "markdown",
      "metadata": {
        "id": "ndFrR5ewBIjr"
      },
      "source": [
        "▼ 인구수 데이터에 누락된 동이 있는지 확인해본 결과, pop에 있지 않은 jjdong과 jjdong에 있지 않은 pop의 요소가 각각 하나씩 있음을 알 수 있다. (FALSE로 나타남)"
      ]
    },
    {
      "cell_type": "code",
      "metadata": {
        "colab": {
          "base_uri": "https://localhost:8080/"
        },
        "id": "qjreheys9vzD",
        "outputId": "77744d65-ea77-45be-e928-c95d01674c66"
      },
      "source": [
        "table(pop$행정동 %in% jjdong)\n",
        "table(jjdong %in% pop$행정동)"
      ],
      "execution_count": null,
      "outputs": [
        {
          "output_type": "display_data",
          "data": {
            "text/plain": [
              "\n",
              "FALSE  TRUE \n",
              "    1    34 "
            ]
          },
          "metadata": {
            "tags": []
          }
        },
        {
          "output_type": "display_data",
          "data": {
            "text/plain": [
              "\n",
              "FALSE  TRUE \n",
              "    1    34 "
            ]
          },
          "metadata": {
            "tags": []
          }
        }
      ]
    },
    {
      "cell_type": "markdown",
      "metadata": {
        "id": "Hn_JrUeoBdjv"
      },
      "source": [
        "▼ pop에는 jjdong에 없는 '동산동'이 있고 jjdong에는 pop에 없는 '여의동'이 있는 것을 확인할 수 있다."
      ]
    },
    {
      "cell_type": "code",
      "metadata": {
        "colab": {
          "base_uri": "https://localhost:8080/"
        },
        "id": "7RW0PwD-9yEd",
        "outputId": "bb87a891-9238-436f-853b-3fd3796f6ecc"
      },
      "source": [
        "pop$행정동[pop$행정동 %in% jjdong == FALSE] #jjdong에는 없는 pop의 행정동\n",
        "jjdong[jjdong %in% pop$행정동 == FALSE] #pop에는 없는 jjdong의 행정동"
      ],
      "execution_count": null,
      "outputs": [
        {
          "output_type": "display_data",
          "data": {
            "text/plain": [
              "[1] \"동산동\""
            ],
            "text/latex": "'동산동'",
            "text/markdown": "'동산동'",
            "text/html": [
              "'동산동'"
            ]
          },
          "metadata": {
            "tags": []
          }
        },
        {
          "output_type": "display_data",
          "data": {
            "text/plain": [
              "[1] \"여의동\""
            ],
            "text/latex": "'여의동'",
            "text/markdown": "'여의동'",
            "text/html": [
              "'여의동'"
            ]
          },
          "metadata": {
            "tags": []
          }
        }
      ]
    },
    {
      "cell_type": "markdown",
      "metadata": {
        "id": "N8DW1y9VBrom"
      },
      "source": [
        "1 실제로 2019년 8월에 전주시에서 '동산동'을 '여의동'으로 변경했기 때문에 이런 차이가 발생하는 것임. pop의 '동산동'을 '여의동'으로 바꿔준다.\n",
        "\n",
        "2 정리한 자료를 다시 행정동을 기준으로 오름차순 정렬하면\n",
        "\n",
        "3 pop이 잘 정리된 것을 확인할 수 있다.\n",
        "\n",
        "▼ "
      ]
    },
    {
      "cell_type": "code",
      "metadata": {
        "colab": {
          "base_uri": "https://localhost:8080/"
        },
        "id": "4eW1M0mE986_",
        "outputId": "9b746870-6e96-4521-9425-be71df9accfa"
      },
      "source": [
        "pop$행정동[which(pop$행정동 == \"동산동\")] <- \"여의동\" ## 19년 8월에 동산동을 여의동으로 변경, https://www.hani.co.kr/arti/area/honam/905848.html?_fr=mt2\n",
        "pop <- arrange(pop, pop$행정동)\n",
        "pop"
      ],
      "execution_count": null,
      "outputs": [
        {
          "output_type": "display_data",
          "data": {
            "text/plain": [
              "   행정동    인구 \n",
              "1  금암1동    8824\n",
              "2  금암2동   10714\n",
              "3  노송동    13189\n",
              "4  덕진동    21215\n",
              "5  동서학동   6784\n",
              "6  삼천1동   12799\n",
              "7  삼천2동   14447\n",
              "8  삼천3동   23323\n",
              "9  서서학동   9223\n",
              "10 서신동    40408\n",
              "11 송천1동   59376\n",
              "12 송천2동   26748\n",
              "13 여의동    30208\n",
              "14 완산동     5148\n",
              "15 우아1동   10096\n",
              "16 우아2동   15125\n",
              "17 인후1동   19047\n",
              "18 인후2동   12094\n",
              "19 인후3동   32426\n",
              "20 조촌동    12133\n",
              "21 중앙동     8073\n",
              "22 중화산1동 15288\n",
              "23 중화산2동 20030\n",
              "24 진북동    14924\n",
              "25 팔복동     8300\n",
              "26 평화1동   13204\n",
              "27 평화2동   46295\n",
              "28 풍남동     4521\n",
              "29 혁신동    17925\n",
              "30 호성동    21154\n",
              "31 효자1동   11784\n",
              "32 효자2동   10861\n",
              "33 효자3동   15758\n",
              "34 효자4동   33756\n",
              "35 효자5동   37898"
            ],
            "text/latex": "A data.frame: 35 × 2\n\\begin{tabular}{ll}\n 행정동 & 인구\\\\\n <chr> & <int>\\\\\n\\hline\n\t 금암1동   &  8824\\\\\n\t 금암2동   & 10714\\\\\n\t 노송동    & 13189\\\\\n\t 덕진동    & 21215\\\\\n\t 동서학동  &  6784\\\\\n\t 삼천1동   & 12799\\\\\n\t 삼천2동   & 14447\\\\\n\t 삼천3동   & 23323\\\\\n\t 서서학동  &  9223\\\\\n\t 서신동    & 40408\\\\\n\t 송천1동   & 59376\\\\\n\t 송천2동   & 26748\\\\\n\t 여의동    & 30208\\\\\n\t 완산동    &  5148\\\\\n\t 우아1동   & 10096\\\\\n\t 우아2동   & 15125\\\\\n\t 인후1동   & 19047\\\\\n\t 인후2동   & 12094\\\\\n\t 인후3동   & 32426\\\\\n\t 조촌동    & 12133\\\\\n\t 중앙동    &  8073\\\\\n\t 중화산1동 & 15288\\\\\n\t 중화산2동 & 20030\\\\\n\t 진북동    & 14924\\\\\n\t 팔복동    &  8300\\\\\n\t 평화1동   & 13204\\\\\n\t 평화2동   & 46295\\\\\n\t 풍남동    &  4521\\\\\n\t 혁신동    & 17925\\\\\n\t 호성동    & 21154\\\\\n\t 효자1동   & 11784\\\\\n\t 효자2동   & 10861\\\\\n\t 효자3동   & 15758\\\\\n\t 효자4동   & 33756\\\\\n\t 효자5동   & 37898\\\\\n\\end{tabular}\n",
            "text/markdown": "\nA data.frame: 35 × 2\n\n| 행정동 &lt;chr&gt; | 인구 &lt;int&gt; |\n|---|---|\n| 금암1동   |  8824 |\n| 금암2동   | 10714 |\n| 노송동    | 13189 |\n| 덕진동    | 21215 |\n| 동서학동  |  6784 |\n| 삼천1동   | 12799 |\n| 삼천2동   | 14447 |\n| 삼천3동   | 23323 |\n| 서서학동  |  9223 |\n| 서신동    | 40408 |\n| 송천1동   | 59376 |\n| 송천2동   | 26748 |\n| 여의동    | 30208 |\n| 완산동    |  5148 |\n| 우아1동   | 10096 |\n| 우아2동   | 15125 |\n| 인후1동   | 19047 |\n| 인후2동   | 12094 |\n| 인후3동   | 32426 |\n| 조촌동    | 12133 |\n| 중앙동    |  8073 |\n| 중화산1동 | 15288 |\n| 중화산2동 | 20030 |\n| 진북동    | 14924 |\n| 팔복동    |  8300 |\n| 평화1동   | 13204 |\n| 평화2동   | 46295 |\n| 풍남동    |  4521 |\n| 혁신동    | 17925 |\n| 호성동    | 21154 |\n| 효자1동   | 11784 |\n| 효자2동   | 10861 |\n| 효자3동   | 15758 |\n| 효자4동   | 33756 |\n| 효자5동   | 37898 |\n\n",
            "text/html": [
              "<table class=\"dataframe\">\n",
              "<caption>A data.frame: 35 × 2</caption>\n",
              "<thead>\n",
              "\t<tr><th scope=col>행정동</th><th scope=col>인구</th></tr>\n",
              "\t<tr><th scope=col>&lt;chr&gt;</th><th scope=col>&lt;int&gt;</th></tr>\n",
              "</thead>\n",
              "<tbody>\n",
              "\t<tr><td>금암1동  </td><td> 8824</td></tr>\n",
              "\t<tr><td>금암2동  </td><td>10714</td></tr>\n",
              "\t<tr><td>노송동   </td><td>13189</td></tr>\n",
              "\t<tr><td>덕진동   </td><td>21215</td></tr>\n",
              "\t<tr><td>동서학동 </td><td> 6784</td></tr>\n",
              "\t<tr><td>삼천1동  </td><td>12799</td></tr>\n",
              "\t<tr><td>삼천2동  </td><td>14447</td></tr>\n",
              "\t<tr><td>삼천3동  </td><td>23323</td></tr>\n",
              "\t<tr><td>서서학동 </td><td> 9223</td></tr>\n",
              "\t<tr><td>서신동   </td><td>40408</td></tr>\n",
              "\t<tr><td>송천1동  </td><td>59376</td></tr>\n",
              "\t<tr><td>송천2동  </td><td>26748</td></tr>\n",
              "\t<tr><td>여의동   </td><td>30208</td></tr>\n",
              "\t<tr><td>완산동   </td><td> 5148</td></tr>\n",
              "\t<tr><td>우아1동  </td><td>10096</td></tr>\n",
              "\t<tr><td>우아2동  </td><td>15125</td></tr>\n",
              "\t<tr><td>인후1동  </td><td>19047</td></tr>\n",
              "\t<tr><td>인후2동  </td><td>12094</td></tr>\n",
              "\t<tr><td>인후3동  </td><td>32426</td></tr>\n",
              "\t<tr><td>조촌동   </td><td>12133</td></tr>\n",
              "\t<tr><td>중앙동   </td><td> 8073</td></tr>\n",
              "\t<tr><td>중화산1동</td><td>15288</td></tr>\n",
              "\t<tr><td>중화산2동</td><td>20030</td></tr>\n",
              "\t<tr><td>진북동   </td><td>14924</td></tr>\n",
              "\t<tr><td>팔복동   </td><td> 8300</td></tr>\n",
              "\t<tr><td>평화1동  </td><td>13204</td></tr>\n",
              "\t<tr><td>평화2동  </td><td>46295</td></tr>\n",
              "\t<tr><td>풍남동   </td><td> 4521</td></tr>\n",
              "\t<tr><td>혁신동   </td><td>17925</td></tr>\n",
              "\t<tr><td>호성동   </td><td>21154</td></tr>\n",
              "\t<tr><td>효자1동  </td><td>11784</td></tr>\n",
              "\t<tr><td>효자2동  </td><td>10861</td></tr>\n",
              "\t<tr><td>효자3동  </td><td>15758</td></tr>\n",
              "\t<tr><td>효자4동  </td><td>33756</td></tr>\n",
              "\t<tr><td>효자5동  </td><td>37898</td></tr>\n",
              "</tbody>\n",
              "</table>\n"
            ]
          },
          "metadata": {
            "tags": []
          }
        }
      ]
    },
    {
      "cell_type": "markdown",
      "metadata": {
        "id": "Sf15X4rlCHJL"
      },
      "source": [
        "## 음식점수"
      ]
    },
    {
      "cell_type": "code",
      "metadata": {
        "colab": {
          "base_uri": "https://localhost:8080/"
        },
        "id": "IMCPwrVY-BNm",
        "outputId": "0a669235-c769-4cd1-ec36-94410a054f3d"
      },
      "source": [
        "str(rest)\n",
        "head(rest)"
      ],
      "execution_count": null,
      "outputs": [
        {
          "output_type": "stream",
          "text": [
            "'data.frame':\t35 obs. of  5 variables:\n",
            " $ 구     : chr  \"완산구\" \"완산구\" \"완산구\" \"완산구\" ...\n",
            " $ 항목   : chr  \"효자5동\" \"중앙동\" \"서신동\" \"중화산2동\" ...\n",
            " $ 순위   : int  1 2 3 4 5 6 7 8 9 10 ...\n",
            " $ 값     : int  805 567 560 491 488 378 372 227 219 216 ...\n",
            " $ 비율...: num  15.4 10.8 10.7 9.4 9.3 7.2 7.1 4.3 4.2 4.1 ...\n"
          ],
          "name": "stdout"
        },
        {
          "output_type": "display_data",
          "data": {
            "text/plain": [
              "  구     항목      순위 값  비율...\n",
              "1 완산구 효자5동   1    805 15.4   \n",
              "2 완산구 중앙동    2    567 10.8   \n",
              "3 완산구 서신동    3    560 10.7   \n",
              "4 완산구 중화산2동 4    491  9.4   \n",
              "5 완산구 풍남동    5    488  9.3   \n",
              "6 완산구 효자4동   6    378  7.2   "
            ],
            "text/latex": "A data.frame: 6 × 5\n\\begin{tabular}{r|lllll}\n  & 구 & 항목 & 순위 & 값 & 비율...\\\\\n  & <chr> & <chr> & <int> & <int> & <dbl>\\\\\n\\hline\n\t1 & 완산구 & 효자5동   & 1 & 805 & 15.4\\\\\n\t2 & 완산구 & 중앙동    & 2 & 567 & 10.8\\\\\n\t3 & 완산구 & 서신동    & 3 & 560 & 10.7\\\\\n\t4 & 완산구 & 중화산2동 & 4 & 491 &  9.4\\\\\n\t5 & 완산구 & 풍남동    & 5 & 488 &  9.3\\\\\n\t6 & 완산구 & 효자4동   & 6 & 378 &  7.2\\\\\n\\end{tabular}\n",
            "text/markdown": "\nA data.frame: 6 × 5\n\n| <!--/--> | 구 &lt;chr&gt; | 항목 &lt;chr&gt; | 순위 &lt;int&gt; | 값 &lt;int&gt; | 비율... &lt;dbl&gt; |\n|---|---|---|---|---|---|\n| 1 | 완산구 | 효자5동   | 1 | 805 | 15.4 |\n| 2 | 완산구 | 중앙동    | 2 | 567 | 10.8 |\n| 3 | 완산구 | 서신동    | 3 | 560 | 10.7 |\n| 4 | 완산구 | 중화산2동 | 4 | 491 |  9.4 |\n| 5 | 완산구 | 풍남동    | 5 | 488 |  9.3 |\n| 6 | 완산구 | 효자4동   | 6 | 378 |  7.2 |\n\n",
            "text/html": [
              "<table class=\"dataframe\">\n",
              "<caption>A data.frame: 6 × 5</caption>\n",
              "<thead>\n",
              "\t<tr><th></th><th scope=col>구</th><th scope=col>항목</th><th scope=col>순위</th><th scope=col>값</th><th scope=col>비율...</th></tr>\n",
              "\t<tr><th></th><th scope=col>&lt;chr&gt;</th><th scope=col>&lt;chr&gt;</th><th scope=col>&lt;int&gt;</th><th scope=col>&lt;int&gt;</th><th scope=col>&lt;dbl&gt;</th></tr>\n",
              "</thead>\n",
              "<tbody>\n",
              "\t<tr><th scope=row>1</th><td>완산구</td><td>효자5동  </td><td>1</td><td>805</td><td>15.4</td></tr>\n",
              "\t<tr><th scope=row>2</th><td>완산구</td><td>중앙동   </td><td>2</td><td>567</td><td>10.8</td></tr>\n",
              "\t<tr><th scope=row>3</th><td>완산구</td><td>서신동   </td><td>3</td><td>560</td><td>10.7</td></tr>\n",
              "\t<tr><th scope=row>4</th><td>완산구</td><td>중화산2동</td><td>4</td><td>491</td><td> 9.4</td></tr>\n",
              "\t<tr><th scope=row>5</th><td>완산구</td><td>풍남동   </td><td>5</td><td>488</td><td> 9.3</td></tr>\n",
              "\t<tr><th scope=row>6</th><td>완산구</td><td>효자4동  </td><td>6</td><td>378</td><td> 7.2</td></tr>\n",
              "</tbody>\n",
              "</table>\n"
            ]
          },
          "metadata": {
            "tags": []
          }
        }
      ]
    },
    {
      "cell_type": "markdown",
      "metadata": {
        "id": "xuYA6ZzQCJlC"
      },
      "source": [
        "1 rest 데이터 중 동이 나와있는 '항목'과 음식점수가 나와있는 '값'을 추출\n",
        "\n",
        "2 '항목'과 '값'을 '행정동'과 '음식점수'로 변경\n",
        "\n",
        "3  행정동을 기준으로 오름차순 정렬\n",
        "\n",
        "▼ "
      ]
    },
    {
      "cell_type": "code",
      "metadata": {
        "colab": {
          "base_uri": "https://localhost:8080/"
        },
        "id": "b2aECSBG-Efd",
        "outputId": "a98f5c4f-7da7-4bcd-8ecd-abfeec7e661a"
      },
      "source": [
        "rest <- rest[,c(2,4)]\n",
        "names(rest) <- c(\"행정동\", \"음식점수\")\n",
        "rest <- arrange(rest, rest$행정동)\n",
        "head(rest)"
      ],
      "execution_count": null,
      "outputs": [
        {
          "output_type": "display_data",
          "data": {
            "text/plain": [
              "  행정동   음식점수\n",
              "1 금암1동  323     \n",
              "2 금암2동  119     \n",
              "3 노송동   193     \n",
              "4 덕진동   468     \n",
              "5 동서학동  67     \n",
              "6 삼천1동   97     "
            ],
            "text/latex": "A data.frame: 6 × 2\n\\begin{tabular}{r|ll}\n  & 행정동 & 음식점수\\\\\n  & <chr> & <int>\\\\\n\\hline\n\t1 & 금암1동  & 323\\\\\n\t2 & 금암2동  & 119\\\\\n\t3 & 노송동   & 193\\\\\n\t4 & 덕진동   & 468\\\\\n\t5 & 동서학동 &  67\\\\\n\t6 & 삼천1동  &  97\\\\\n\\end{tabular}\n",
            "text/markdown": "\nA data.frame: 6 × 2\n\n| <!--/--> | 행정동 &lt;chr&gt; | 음식점수 &lt;int&gt; |\n|---|---|---|\n| 1 | 금암1동  | 323 |\n| 2 | 금암2동  | 119 |\n| 3 | 노송동   | 193 |\n| 4 | 덕진동   | 468 |\n| 5 | 동서학동 |  67 |\n| 6 | 삼천1동  |  97 |\n\n",
            "text/html": [
              "<table class=\"dataframe\">\n",
              "<caption>A data.frame: 6 × 2</caption>\n",
              "<thead>\n",
              "\t<tr><th></th><th scope=col>행정동</th><th scope=col>음식점수</th></tr>\n",
              "\t<tr><th></th><th scope=col>&lt;chr&gt;</th><th scope=col>&lt;int&gt;</th></tr>\n",
              "</thead>\n",
              "<tbody>\n",
              "\t<tr><th scope=row>1</th><td>금암1동 </td><td>323</td></tr>\n",
              "\t<tr><th scope=row>2</th><td>금암2동 </td><td>119</td></tr>\n",
              "\t<tr><th scope=row>3</th><td>노송동  </td><td>193</td></tr>\n",
              "\t<tr><th scope=row>4</th><td>덕진동  </td><td>468</td></tr>\n",
              "\t<tr><th scope=row>5</th><td>동서학동</td><td> 67</td></tr>\n",
              "\t<tr><th scope=row>6</th><td>삼천1동 </td><td> 97</td></tr>\n",
              "</tbody>\n",
              "</table>\n"
            ]
          },
          "metadata": {
            "tags": []
          }
        }
      ]
    },
    {
      "cell_type": "markdown",
      "metadata": {
        "id": "TXdDQPPHCZDm"
      },
      "source": [
        "▼  pop에서와 마찬가지로 rest에서도 누락된 행정동이 있는지 확인해봤을 때, rest와 jjdong의 행정동이 모두 일치하는 것으로 보아 누락된 행정동은 없다고 볼 수 있다."
      ]
    },
    {
      "cell_type": "code",
      "metadata": {
        "colab": {
          "base_uri": "https://localhost:8080/"
        },
        "id": "t4w9dEaf-H3P",
        "outputId": "da612588-cf43-48f6-d98e-0b7b7af63955"
      },
      "source": [
        "table(rest$행정동 %in% jjdong)\n",
        "table(jjdong %in% rest$행정동)\n",
        "\n",
        "jjdong[jjdong %in% rest$행정동 == FALSE]"
      ],
      "execution_count": null,
      "outputs": [
        {
          "output_type": "display_data",
          "data": {
            "text/plain": [
              "\n",
              "TRUE \n",
              "  35 "
            ]
          },
          "metadata": {
            "tags": []
          }
        },
        {
          "output_type": "display_data",
          "data": {
            "text/plain": [
              "\n",
              "TRUE \n",
              "  35 "
            ]
          },
          "metadata": {
            "tags": []
          }
        },
        {
          "output_type": "display_data",
          "data": {
            "text/plain": [
              "character(0)"
            ],
            "text/latex": "",
            "text/markdown": "",
            "text/html": [
              ""
            ]
          },
          "metadata": {
            "tags": []
          }
        }
      ]
    },
    {
      "cell_type": "code",
      "metadata": {
        "colab": {
          "base_uri": "https://localhost:8080/"
        },
        "id": "FbI5HXEU-SHs",
        "outputId": "23b4bf05-cc12-4ed0-ea18-4d7bed5246a0"
      },
      "source": [
        "rest"
      ],
      "execution_count": null,
      "outputs": [
        {
          "output_type": "display_data",
          "data": {
            "text/plain": [
              "   행정동    음식점수\n",
              "1  금암1동   323     \n",
              "2  금암2동   119     \n",
              "3  노송동    193     \n",
              "4  덕진동    468     \n",
              "5  동서학동   67     \n",
              "6  삼천1동    97     \n",
              "7  삼천2동   216     \n",
              "8  삼천3동   219     \n",
              "9  서서학동   54     \n",
              "10 서신동    560     \n",
              "11 송천1동   347     \n",
              "12 송천2동   288     \n",
              "13 여의동    184     \n",
              "14 완산동     17     \n",
              "15 우아1동   227     \n",
              "16 우아2동   389     \n",
              "17 인후1동   147     \n",
              "18 인후2동   174     \n",
              "19 인후3동   335     \n",
              "20 조촌동     90     \n",
              "21 중앙동    567     \n",
              "22 중화산1동 227     \n",
              "23 중화산2동 491     \n",
              "24 진북동    145     \n",
              "25 팔복동    120     \n",
              "26 평화1동   108     \n",
              "27 평화2동   372     \n",
              "28 풍남동    488     \n",
              "29 혁신동    176     \n",
              "30 호성동    121     \n",
              "31 효자1동    72     \n",
              "32 효자2동   144     \n",
              "33 효자3동   156     \n",
              "34 효자4동   378     \n",
              "35 효자5동   805     "
            ],
            "text/latex": "A data.frame: 35 × 2\n\\begin{tabular}{ll}\n 행정동 & 음식점수\\\\\n <chr> & <int>\\\\\n\\hline\n\t 금암1동   & 323\\\\\n\t 금암2동   & 119\\\\\n\t 노송동    & 193\\\\\n\t 덕진동    & 468\\\\\n\t 동서학동  &  67\\\\\n\t 삼천1동   &  97\\\\\n\t 삼천2동   & 216\\\\\n\t 삼천3동   & 219\\\\\n\t 서서학동  &  54\\\\\n\t 서신동    & 560\\\\\n\t 송천1동   & 347\\\\\n\t 송천2동   & 288\\\\\n\t 여의동    & 184\\\\\n\t 완산동    &  17\\\\\n\t 우아1동   & 227\\\\\n\t 우아2동   & 389\\\\\n\t 인후1동   & 147\\\\\n\t 인후2동   & 174\\\\\n\t 인후3동   & 335\\\\\n\t 조촌동    &  90\\\\\n\t 중앙동    & 567\\\\\n\t 중화산1동 & 227\\\\\n\t 중화산2동 & 491\\\\\n\t 진북동    & 145\\\\\n\t 팔복동    & 120\\\\\n\t 평화1동   & 108\\\\\n\t 평화2동   & 372\\\\\n\t 풍남동    & 488\\\\\n\t 혁신동    & 176\\\\\n\t 호성동    & 121\\\\\n\t 효자1동   &  72\\\\\n\t 효자2동   & 144\\\\\n\t 효자3동   & 156\\\\\n\t 효자4동   & 378\\\\\n\t 효자5동   & 805\\\\\n\\end{tabular}\n",
            "text/markdown": "\nA data.frame: 35 × 2\n\n| 행정동 &lt;chr&gt; | 음식점수 &lt;int&gt; |\n|---|---|\n| 금암1동   | 323 |\n| 금암2동   | 119 |\n| 노송동    | 193 |\n| 덕진동    | 468 |\n| 동서학동  |  67 |\n| 삼천1동   |  97 |\n| 삼천2동   | 216 |\n| 삼천3동   | 219 |\n| 서서학동  |  54 |\n| 서신동    | 560 |\n| 송천1동   | 347 |\n| 송천2동   | 288 |\n| 여의동    | 184 |\n| 완산동    |  17 |\n| 우아1동   | 227 |\n| 우아2동   | 389 |\n| 인후1동   | 147 |\n| 인후2동   | 174 |\n| 인후3동   | 335 |\n| 조촌동    |  90 |\n| 중앙동    | 567 |\n| 중화산1동 | 227 |\n| 중화산2동 | 491 |\n| 진북동    | 145 |\n| 팔복동    | 120 |\n| 평화1동   | 108 |\n| 평화2동   | 372 |\n| 풍남동    | 488 |\n| 혁신동    | 176 |\n| 호성동    | 121 |\n| 효자1동   |  72 |\n| 효자2동   | 144 |\n| 효자3동   | 156 |\n| 효자4동   | 378 |\n| 효자5동   | 805 |\n\n",
            "text/html": [
              "<table class=\"dataframe\">\n",
              "<caption>A data.frame: 35 × 2</caption>\n",
              "<thead>\n",
              "\t<tr><th scope=col>행정동</th><th scope=col>음식점수</th></tr>\n",
              "\t<tr><th scope=col>&lt;chr&gt;</th><th scope=col>&lt;int&gt;</th></tr>\n",
              "</thead>\n",
              "<tbody>\n",
              "\t<tr><td>금암1동  </td><td>323</td></tr>\n",
              "\t<tr><td>금암2동  </td><td>119</td></tr>\n",
              "\t<tr><td>노송동   </td><td>193</td></tr>\n",
              "\t<tr><td>덕진동   </td><td>468</td></tr>\n",
              "\t<tr><td>동서학동 </td><td> 67</td></tr>\n",
              "\t<tr><td>삼천1동  </td><td> 97</td></tr>\n",
              "\t<tr><td>삼천2동  </td><td>216</td></tr>\n",
              "\t<tr><td>삼천3동  </td><td>219</td></tr>\n",
              "\t<tr><td>서서학동 </td><td> 54</td></tr>\n",
              "\t<tr><td>서신동   </td><td>560</td></tr>\n",
              "\t<tr><td>송천1동  </td><td>347</td></tr>\n",
              "\t<tr><td>송천2동  </td><td>288</td></tr>\n",
              "\t<tr><td>여의동   </td><td>184</td></tr>\n",
              "\t<tr><td>완산동   </td><td> 17</td></tr>\n",
              "\t<tr><td>우아1동  </td><td>227</td></tr>\n",
              "\t<tr><td>우아2동  </td><td>389</td></tr>\n",
              "\t<tr><td>인후1동  </td><td>147</td></tr>\n",
              "\t<tr><td>인후2동  </td><td>174</td></tr>\n",
              "\t<tr><td>인후3동  </td><td>335</td></tr>\n",
              "\t<tr><td>조촌동   </td><td> 90</td></tr>\n",
              "\t<tr><td>중앙동   </td><td>567</td></tr>\n",
              "\t<tr><td>중화산1동</td><td>227</td></tr>\n",
              "\t<tr><td>중화산2동</td><td>491</td></tr>\n",
              "\t<tr><td>진북동   </td><td>145</td></tr>\n",
              "\t<tr><td>팔복동   </td><td>120</td></tr>\n",
              "\t<tr><td>평화1동  </td><td>108</td></tr>\n",
              "\t<tr><td>평화2동  </td><td>372</td></tr>\n",
              "\t<tr><td>풍남동   </td><td>488</td></tr>\n",
              "\t<tr><td>혁신동   </td><td>176</td></tr>\n",
              "\t<tr><td>호성동   </td><td>121</td></tr>\n",
              "\t<tr><td>효자1동  </td><td> 72</td></tr>\n",
              "\t<tr><td>효자2동  </td><td>144</td></tr>\n",
              "\t<tr><td>효자3동  </td><td>156</td></tr>\n",
              "\t<tr><td>효자4동  </td><td>378</td></tr>\n",
              "\t<tr><td>효자5동  </td><td>805</td></tr>\n",
              "</tbody>\n",
              "</table>\n"
            ]
          },
          "metadata": {
            "tags": []
          }
        }
      ]
    },
    {
      "cell_type": "markdown",
      "metadata": {
        "id": "v7Bzgs9LCsQr"
      },
      "source": [
        "## 자전거 보관대 수"
      ]
    },
    {
      "cell_type": "code",
      "metadata": {
        "colab": {
          "base_uri": "https://localhost:8080/"
        },
        "id": "8jAYC13J-Vso",
        "outputId": "58a6ef3d-5da8-4e7a-acb5-b5d46e5b7d32"
      },
      "source": [
        "str(bicycle)\n",
        "head(bicycle)"
      ],
      "execution_count": null,
      "outputs": [
        {
          "output_type": "stream",
          "text": [
            "'data.frame':\t179 obs. of  17 variables:\n",
            " $ 번호              : int  1 2 3 4 5 6 7 8 9 10 ...\n",
            " $ 자전거보관소명    : chr  \"자전거 보관대\" \"자전거 보관대\" \"자전거 보관대\" \"자전거 보관대\" ...\n",
            " $ 소재지도로명주소  : chr  \"전라북도 전주시 덕진구 여암2길 9\" \"전라북도 전주시 덕진구 송천중앙로 116\" \"전라북도 전주시 덕진구 송천중앙로162\" \"전라북도 전주시 덕진구 송천중앙로 153\" ...\n",
            " $ 소재지지번주소    : chr  \"전라북도 전주시 덕진구 반월동 248-32\" \"전라북도 전주시 덕진구 송천동1가 395-28\" \"전라북도 전주시 덕진구 송천동1가 113-12\" \"전라북도 전주시 덕진구 송천동1가 481-4\" ...\n",
            " $ 행정동            : chr  \"조촌동\" \"송천1동\" \"송천2동\" \"송천2동\" ...\n",
            " $ 위도              : num  35.9 35.9 35.9 35.9 35.9 ...\n",
            " $ 경도              : num  127 127 127 127 127 ...\n",
            " $ 보관대수          : int  6 7 7 10 10 6 7 7 10 30 ...\n",
            " $ 설치연도          : int  NA NA NA NA NA NA NA NA NA NA ...\n",
            " $ 설치형태          : chr  \"거치형\" \"휀스형\" \"거치형\" \"휀스형\" ...\n",
            " $ 차양막설치여부    : chr  \"N\" \"Y\" \"N\" \"Y\" ...\n",
            " $ 공기주입기비치여부: chr  \"N\" \"N\" \"N\" \"N\" ...\n",
            " $ 공기주입기유형    : logi  NA NA NA NA NA NA ...\n",
            " $ 수리대설치여부    : chr  \"N\" \"N\" \"N\" \"N\" ...\n",
            " $ 관리기관전화번호  : chr  \"063-281-2602\" \"063-281-2603\" \"063-281-2604\" \"063-281-2605\" ...\n",
            " $ 관리기관명        : chr  \"전라북도 전주시청 자전거정책과\" \"전라북도 전주시청 자전거정책과\" \"전라북도 전주시청 자전거정책과\" \"전라북도 전주시청 자전거정책과\" ...\n",
            " $ 데이터기준일자    : chr  \"2020-08-31\" \"2020-08-31\" \"2020-08-31\" \"2020-08-31\" ...\n"
          ],
          "name": "stdout"
        },
        {
          "output_type": "display_data",
          "data": {
            "text/plain": [
              "  번호 자전거보관소명 소재지도로명주소                     \n",
              "1 1    자전거 보관대  전라북도 전주시 덕진구 여암2길 9     \n",
              "2 2    자전거 보관대  전라북도 전주시 덕진구 송천중앙로 116\n",
              "3 3    자전거 보관대  전라북도 전주시 덕진구 송천중앙로162 \n",
              "4 4    자전거 보관대  전라북도 전주시 덕진구 송천중앙로 153\n",
              "5 5    자전거 보관대  전라북도 전주시 덕진구 천마산로 40   \n",
              "6 6    자전거 보관대  전라북도 전주시 덕진구 견훤왕궁로 277\n",
              "  소재지지번주소                           행정동  위도  경도  보관대수\n",
              "1 전라북도 전주시 덕진구 반월동 248-32     조촌동  35.87 127.1  6      \n",
              "2 전라북도 전주시 덕진구 송천동1가 395-28  송천1동 35.86 127.1  7      \n",
              "3 전라북도 전주시 덕진구 송천동1가 113-12  송천2동 35.86 127.1  7      \n",
              "4 전라북도 전주시 덕진구 송천동1가 481-4   송천2동 35.86 127.1 10      \n",
              "5 전라북도 전주시 덕진구 송천동1가 107-172 송천2동 35.86 127.1 10      \n",
              "6 전라북도 전주시 덕진구 금암동 1600-6     금암2동 35.84 127.1  6      \n",
              "  설치연도 설치형태 차양막설치여부 공기주입기비치여부 공기주입기유형\n",
              "1 NA       거치형   N              N                  NA            \n",
              "2 NA       휀스형   Y              N                  NA            \n",
              "3 NA       거치형   N              N                  NA            \n",
              "4 NA       휀스형   Y              N                  NA            \n",
              "5 NA       휀스형   Y              N                  NA            \n",
              "6 NA       거치형   N              N                  NA            \n",
              "  수리대설치여부 관리기관전화번호 관리기관명                     데이터기준일자\n",
              "1 N              063-281-2602     전라북도 전주시청 자전거정책과 2020-08-31    \n",
              "2 N              063-281-2603     전라북도 전주시청 자전거정책과 2020-08-31    \n",
              "3 N              063-281-2604     전라북도 전주시청 자전거정책과 2020-08-31    \n",
              "4 N              063-281-2605     전라북도 전주시청 자전거정책과 2020-08-31    \n",
              "5 N              063-281-2606     전라북도 전주시청 자전거정책과 2020-08-31    \n",
              "6 N              063-281-2607     전라북도 전주시청 자전거정책과 2020-08-31    "
            ],
            "text/latex": "A data.frame: 6 × 17\n\\begin{tabular}{r|lllllllllllllllll}\n  & 번호 & 자전거보관소명 & 소재지도로명주소 & 소재지지번주소 & 행정동 & 위도 & 경도 & 보관대수 & 설치연도 & 설치형태 & 차양막설치여부 & 공기주입기비치여부 & 공기주입기유형 & 수리대설치여부 & 관리기관전화번호 & 관리기관명 & 데이터기준일자\\\\\n  & <int> & <chr> & <chr> & <chr> & <chr> & <dbl> & <dbl> & <int> & <int> & <chr> & <chr> & <chr> & <lgl> & <chr> & <chr> & <chr> & <chr>\\\\\n\\hline\n\t1 & 1 & 자전거 보관대 & 전라북도 전주시 덕진구 여암2길 9      & 전라북도 전주시 덕진구 반월동 248-32     & 조촌동  & 35.87 & 127.1 &  6 & NA & 거치형 & N & N & NA & N & 063-281-2602 & 전라북도 전주시청 자전거정책과 & 2020-08-31\\\\\n\t2 & 2 & 자전거 보관대 & 전라북도 전주시 덕진구 송천중앙로 116 & 전라북도 전주시 덕진구 송천동1가 395-28  & 송천1동 & 35.86 & 127.1 &  7 & NA & 휀스형 & Y & N & NA & N & 063-281-2603 & 전라북도 전주시청 자전거정책과 & 2020-08-31\\\\\n\t3 & 3 & 자전거 보관대 & 전라북도 전주시 덕진구 송천중앙로162  & 전라북도 전주시 덕진구 송천동1가 113-12  & 송천2동 & 35.86 & 127.1 &  7 & NA & 거치형 & N & N & NA & N & 063-281-2604 & 전라북도 전주시청 자전거정책과 & 2020-08-31\\\\\n\t4 & 4 & 자전거 보관대 & 전라북도 전주시 덕진구 송천중앙로 153 & 전라북도 전주시 덕진구 송천동1가 481-4   & 송천2동 & 35.86 & 127.1 & 10 & NA & 휀스형 & Y & N & NA & N & 063-281-2605 & 전라북도 전주시청 자전거정책과 & 2020-08-31\\\\\n\t5 & 5 & 자전거 보관대 & 전라북도 전주시 덕진구 천마산로 40    & 전라북도 전주시 덕진구 송천동1가 107-172 & 송천2동 & 35.86 & 127.1 & 10 & NA & 휀스형 & Y & N & NA & N & 063-281-2606 & 전라북도 전주시청 자전거정책과 & 2020-08-31\\\\\n\t6 & 6 & 자전거 보관대 & 전라북도 전주시 덕진구 견훤왕궁로 277 & 전라북도 전주시 덕진구 금암동 1600-6     & 금암2동 & 35.84 & 127.1 &  6 & NA & 거치형 & N & N & NA & N & 063-281-2607 & 전라북도 전주시청 자전거정책과 & 2020-08-31\\\\\n\\end{tabular}\n",
            "text/markdown": "\nA data.frame: 6 × 17\n\n| <!--/--> | 번호 &lt;int&gt; | 자전거보관소명 &lt;chr&gt; | 소재지도로명주소 &lt;chr&gt; | 소재지지번주소 &lt;chr&gt; | 행정동 &lt;chr&gt; | 위도 &lt;dbl&gt; | 경도 &lt;dbl&gt; | 보관대수 &lt;int&gt; | 설치연도 &lt;int&gt; | 설치형태 &lt;chr&gt; | 차양막설치여부 &lt;chr&gt; | 공기주입기비치여부 &lt;chr&gt; | 공기주입기유형 &lt;lgl&gt; | 수리대설치여부 &lt;chr&gt; | 관리기관전화번호 &lt;chr&gt; | 관리기관명 &lt;chr&gt; | 데이터기준일자 &lt;chr&gt; |\n|---|---|---|---|---|---|---|---|---|---|---|---|---|---|---|---|---|---|\n| 1 | 1 | 자전거 보관대 | 전라북도 전주시 덕진구 여암2길 9      | 전라북도 전주시 덕진구 반월동 248-32     | 조촌동  | 35.87 | 127.1 |  6 | NA | 거치형 | N | N | NA | N | 063-281-2602 | 전라북도 전주시청 자전거정책과 | 2020-08-31 |\n| 2 | 2 | 자전거 보관대 | 전라북도 전주시 덕진구 송천중앙로 116 | 전라북도 전주시 덕진구 송천동1가 395-28  | 송천1동 | 35.86 | 127.1 |  7 | NA | 휀스형 | Y | N | NA | N | 063-281-2603 | 전라북도 전주시청 자전거정책과 | 2020-08-31 |\n| 3 | 3 | 자전거 보관대 | 전라북도 전주시 덕진구 송천중앙로162  | 전라북도 전주시 덕진구 송천동1가 113-12  | 송천2동 | 35.86 | 127.1 |  7 | NA | 거치형 | N | N | NA | N | 063-281-2604 | 전라북도 전주시청 자전거정책과 | 2020-08-31 |\n| 4 | 4 | 자전거 보관대 | 전라북도 전주시 덕진구 송천중앙로 153 | 전라북도 전주시 덕진구 송천동1가 481-4   | 송천2동 | 35.86 | 127.1 | 10 | NA | 휀스형 | Y | N | NA | N | 063-281-2605 | 전라북도 전주시청 자전거정책과 | 2020-08-31 |\n| 5 | 5 | 자전거 보관대 | 전라북도 전주시 덕진구 천마산로 40    | 전라북도 전주시 덕진구 송천동1가 107-172 | 송천2동 | 35.86 | 127.1 | 10 | NA | 휀스형 | Y | N | NA | N | 063-281-2606 | 전라북도 전주시청 자전거정책과 | 2020-08-31 |\n| 6 | 6 | 자전거 보관대 | 전라북도 전주시 덕진구 견훤왕궁로 277 | 전라북도 전주시 덕진구 금암동 1600-6     | 금암2동 | 35.84 | 127.1 |  6 | NA | 거치형 | N | N | NA | N | 063-281-2607 | 전라북도 전주시청 자전거정책과 | 2020-08-31 |\n\n",
            "text/html": [
              "<table class=\"dataframe\">\n",
              "<caption>A data.frame: 6 × 17</caption>\n",
              "<thead>\n",
              "\t<tr><th></th><th scope=col>번호</th><th scope=col>자전거보관소명</th><th scope=col>소재지도로명주소</th><th scope=col>소재지지번주소</th><th scope=col>행정동</th><th scope=col>위도</th><th scope=col>경도</th><th scope=col>보관대수</th><th scope=col>설치연도</th><th scope=col>설치형태</th><th scope=col>차양막설치여부</th><th scope=col>공기주입기비치여부</th><th scope=col>공기주입기유형</th><th scope=col>수리대설치여부</th><th scope=col>관리기관전화번호</th><th scope=col>관리기관명</th><th scope=col>데이터기준일자</th></tr>\n",
              "\t<tr><th></th><th scope=col>&lt;int&gt;</th><th scope=col>&lt;chr&gt;</th><th scope=col>&lt;chr&gt;</th><th scope=col>&lt;chr&gt;</th><th scope=col>&lt;chr&gt;</th><th scope=col>&lt;dbl&gt;</th><th scope=col>&lt;dbl&gt;</th><th scope=col>&lt;int&gt;</th><th scope=col>&lt;int&gt;</th><th scope=col>&lt;chr&gt;</th><th scope=col>&lt;chr&gt;</th><th scope=col>&lt;chr&gt;</th><th scope=col>&lt;lgl&gt;</th><th scope=col>&lt;chr&gt;</th><th scope=col>&lt;chr&gt;</th><th scope=col>&lt;chr&gt;</th><th scope=col>&lt;chr&gt;</th></tr>\n",
              "</thead>\n",
              "<tbody>\n",
              "\t<tr><th scope=row>1</th><td>1</td><td>자전거 보관대</td><td>전라북도 전주시 덕진구 여암2길 9     </td><td>전라북도 전주시 덕진구 반월동 248-32    </td><td>조촌동 </td><td>35.87</td><td>127.1</td><td> 6</td><td>NA</td><td>거치형</td><td>N</td><td>N</td><td>NA</td><td>N</td><td>063-281-2602</td><td>전라북도 전주시청 자전거정책과</td><td>2020-08-31</td></tr>\n",
              "\t<tr><th scope=row>2</th><td>2</td><td>자전거 보관대</td><td>전라북도 전주시 덕진구 송천중앙로 116</td><td>전라북도 전주시 덕진구 송천동1가 395-28 </td><td>송천1동</td><td>35.86</td><td>127.1</td><td> 7</td><td>NA</td><td>휀스형</td><td>Y</td><td>N</td><td>NA</td><td>N</td><td>063-281-2603</td><td>전라북도 전주시청 자전거정책과</td><td>2020-08-31</td></tr>\n",
              "\t<tr><th scope=row>3</th><td>3</td><td>자전거 보관대</td><td>전라북도 전주시 덕진구 송천중앙로162 </td><td>전라북도 전주시 덕진구 송천동1가 113-12 </td><td>송천2동</td><td>35.86</td><td>127.1</td><td> 7</td><td>NA</td><td>거치형</td><td>N</td><td>N</td><td>NA</td><td>N</td><td>063-281-2604</td><td>전라북도 전주시청 자전거정책과</td><td>2020-08-31</td></tr>\n",
              "\t<tr><th scope=row>4</th><td>4</td><td>자전거 보관대</td><td>전라북도 전주시 덕진구 송천중앙로 153</td><td>전라북도 전주시 덕진구 송천동1가 481-4  </td><td>송천2동</td><td>35.86</td><td>127.1</td><td>10</td><td>NA</td><td>휀스형</td><td>Y</td><td>N</td><td>NA</td><td>N</td><td>063-281-2605</td><td>전라북도 전주시청 자전거정책과</td><td>2020-08-31</td></tr>\n",
              "\t<tr><th scope=row>5</th><td>5</td><td>자전거 보관대</td><td>전라북도 전주시 덕진구 천마산로 40   </td><td>전라북도 전주시 덕진구 송천동1가 107-172</td><td>송천2동</td><td>35.86</td><td>127.1</td><td>10</td><td>NA</td><td>휀스형</td><td>Y</td><td>N</td><td>NA</td><td>N</td><td>063-281-2606</td><td>전라북도 전주시청 자전거정책과</td><td>2020-08-31</td></tr>\n",
              "\t<tr><th scope=row>6</th><td>6</td><td>자전거 보관대</td><td>전라북도 전주시 덕진구 견훤왕궁로 277</td><td>전라북도 전주시 덕진구 금암동 1600-6    </td><td>금암2동</td><td>35.84</td><td>127.1</td><td> 6</td><td>NA</td><td>거치형</td><td>N</td><td>N</td><td>NA</td><td>N</td><td>063-281-2607</td><td>전라북도 전주시청 자전거정책과</td><td>2020-08-31</td></tr>\n",
              "</tbody>\n",
              "</table>\n"
            ]
          },
          "metadata": {
            "tags": []
          }
        }
      ]
    },
    {
      "cell_type": "markdown",
      "metadata": {
        "id": "e9kbB6Z2CvF7"
      },
      "source": [
        "▼  '번호', '행정동', '보관대수'만 뽑아서 다시 bicycle에 저장"
      ]
    },
    {
      "cell_type": "code",
      "metadata": {
        "colab": {
          "base_uri": "https://localhost:8080/"
        },
        "id": "tBv5RFp--Z5M",
        "outputId": "79b645ff-a4b1-459c-b878-70332624fcbf"
      },
      "source": [
        "bicycle <- bicycle[, c(1,5,8)]\n",
        "head(bicycle)"
      ],
      "execution_count": null,
      "outputs": [
        {
          "output_type": "display_data",
          "data": {
            "text/plain": [
              "  번호 행정동  보관대수\n",
              "1 1    조촌동   6      \n",
              "2 2    송천1동  7      \n",
              "3 3    송천2동  7      \n",
              "4 4    송천2동 10      \n",
              "5 5    송천2동 10      \n",
              "6 6    금암2동  6      "
            ],
            "text/latex": "A data.frame: 6 × 3\n\\begin{tabular}{r|lll}\n  & 번호 & 행정동 & 보관대수\\\\\n  & <int> & <chr> & <int>\\\\\n\\hline\n\t1 & 1 & 조촌동  &  6\\\\\n\t2 & 2 & 송천1동 &  7\\\\\n\t3 & 3 & 송천2동 &  7\\\\\n\t4 & 4 & 송천2동 & 10\\\\\n\t5 & 5 & 송천2동 & 10\\\\\n\t6 & 6 & 금암2동 &  6\\\\\n\\end{tabular}\n",
            "text/markdown": "\nA data.frame: 6 × 3\n\n| <!--/--> | 번호 &lt;int&gt; | 행정동 &lt;chr&gt; | 보관대수 &lt;int&gt; |\n|---|---|---|---|\n| 1 | 1 | 조촌동  |  6 |\n| 2 | 2 | 송천1동 |  7 |\n| 3 | 3 | 송천2동 |  7 |\n| 4 | 4 | 송천2동 | 10 |\n| 5 | 5 | 송천2동 | 10 |\n| 6 | 6 | 금암2동 |  6 |\n\n",
            "text/html": [
              "<table class=\"dataframe\">\n",
              "<caption>A data.frame: 6 × 3</caption>\n",
              "<thead>\n",
              "\t<tr><th></th><th scope=col>번호</th><th scope=col>행정동</th><th scope=col>보관대수</th></tr>\n",
              "\t<tr><th></th><th scope=col>&lt;int&gt;</th><th scope=col>&lt;chr&gt;</th><th scope=col>&lt;int&gt;</th></tr>\n",
              "</thead>\n",
              "<tbody>\n",
              "\t<tr><th scope=row>1</th><td>1</td><td>조촌동 </td><td> 6</td></tr>\n",
              "\t<tr><th scope=row>2</th><td>2</td><td>송천1동</td><td> 7</td></tr>\n",
              "\t<tr><th scope=row>3</th><td>3</td><td>송천2동</td><td> 7</td></tr>\n",
              "\t<tr><th scope=row>4</th><td>4</td><td>송천2동</td><td>10</td></tr>\n",
              "\t<tr><th scope=row>5</th><td>5</td><td>송천2동</td><td>10</td></tr>\n",
              "\t<tr><th scope=row>6</th><td>6</td><td>금암2동</td><td> 6</td></tr>\n",
              "</tbody>\n",
              "</table>\n"
            ]
          },
          "metadata": {
            "tags": []
          }
        }
      ]
    },
    {
      "cell_type": "markdown",
      "metadata": {
        "id": "SBfSGqZ7C7D-"
      },
      "source": [
        "▼ dplyr 패키지 이용해서 행정동을 기준으로 그룹화하고, 그 안에서 행정동별 자전거보관대의 수를 합친 결과를 출력한다."
      ]
    },
    {
      "cell_type": "code",
      "metadata": {
        "colab": {
          "base_uri": "https://localhost:8080/"
        },
        "id": "70Rk61ss-k3B",
        "outputId": "6d1946e8-b4a0-4866-d9e7-6086d0281208"
      },
      "source": [
        "bicycle <- bicycle %>% group_by(행정동) %>% summarise(자전거보관대수 = sum(보관대수))\n",
        "head(bicycle)"
      ],
      "execution_count": null,
      "outputs": [
        {
          "output_type": "display_data",
          "data": {
            "text/plain": [
              "  행정동   자전거보관대수\n",
              "1 금암1동  253           \n",
              "2 금암2동   20           \n",
              "3 노송동   138           \n",
              "4 덕진동   237           \n",
              "5 동서학동   7           \n",
              "6 삼천2동   21           "
            ],
            "text/latex": "A tibble: 6 × 2\n\\begin{tabular}{ll}\n 행정동 & 자전거보관대수\\\\\n <chr> & <int>\\\\\n\\hline\n\t 금암1동  & 253\\\\\n\t 금암2동  &  20\\\\\n\t 노송동   & 138\\\\\n\t 덕진동   & 237\\\\\n\t 동서학동 &   7\\\\\n\t 삼천2동  &  21\\\\\n\\end{tabular}\n",
            "text/markdown": "\nA tibble: 6 × 2\n\n| 행정동 &lt;chr&gt; | 자전거보관대수 &lt;int&gt; |\n|---|---|\n| 금암1동  | 253 |\n| 금암2동  |  20 |\n| 노송동   | 138 |\n| 덕진동   | 237 |\n| 동서학동 |   7 |\n| 삼천2동  |  21 |\n\n",
            "text/html": [
              "<table class=\"dataframe\">\n",
              "<caption>A tibble: 6 × 2</caption>\n",
              "<thead>\n",
              "\t<tr><th scope=col>행정동</th><th scope=col>자전거보관대수</th></tr>\n",
              "\t<tr><th scope=col>&lt;chr&gt;</th><th scope=col>&lt;int&gt;</th></tr>\n",
              "</thead>\n",
              "<tbody>\n",
              "\t<tr><td>금암1동 </td><td>253</td></tr>\n",
              "\t<tr><td>금암2동 </td><td> 20</td></tr>\n",
              "\t<tr><td>노송동  </td><td>138</td></tr>\n",
              "\t<tr><td>덕진동  </td><td>237</td></tr>\n",
              "\t<tr><td>동서학동</td><td>  7</td></tr>\n",
              "\t<tr><td>삼천2동 </td><td> 21</td></tr>\n",
              "</tbody>\n",
              "</table>\n"
            ]
          },
          "metadata": {
            "tags": []
          }
        }
      ]
    },
    {
      "cell_type": "markdown",
      "metadata": {
        "id": "T1S52-yqDEhb"
      },
      "source": [
        "1 bicycle을 데이터프레임으로 바꿔주고\n",
        "\n",
        "2 행정동을 기준으로 오름차순 정렬\n",
        "\n",
        "▼ "
      ]
    },
    {
      "cell_type": "code",
      "metadata": {
        "colab": {
          "base_uri": "https://localhost:8080/"
        },
        "id": "c3MKchk7-o3M",
        "outputId": "f1d461dd-b227-46fd-ec91-67326d499e7d"
      },
      "source": [
        "bicycle <- as.data.frame(bicycle)\n",
        "bicycle <- arrange(bicycle, bicycle$행정동)\n",
        "bicycle"
      ],
      "execution_count": null,
      "outputs": [
        {
          "output_type": "display_data",
          "data": {
            "text/plain": [
              "   행정동    자전거보관대수\n",
              "1  금암1동   253           \n",
              "2  금암2동    20           \n",
              "3  노송동    138           \n",
              "4  덕진동    237           \n",
              "5  동서학동    7           \n",
              "6  삼천2동    21           \n",
              "7  삼천3동    62           \n",
              "8  서서학동    7           \n",
              "9  서신동    126           \n",
              "10 송천1동    31           \n",
              "11 송천2동    27           \n",
              "12 완산동      7           \n",
              "13 우아2동   110           \n",
              "14 인후1동    78           \n",
              "15 인후2동    60           \n",
              "16 인후3동    20           \n",
              "17 조촌동     23           \n",
              "18 중앙동     68           \n",
              "19 중화산2동 119           \n",
              "20 진북동    125           \n",
              "21 팔복동     31           \n",
              "22 평화1동    95           \n",
              "23 평화2동    46           \n",
              "24 풍남동     24           \n",
              "25 효자1동    76           \n",
              "26 효자2동    65           \n",
              "27 효자3동    10           \n",
              "28 효자4동    42           \n",
              "29 효자5동    73           "
            ],
            "text/latex": "A data.frame: 29 × 2\n\\begin{tabular}{ll}\n 행정동 & 자전거보관대수\\\\\n <chr> & <int>\\\\\n\\hline\n\t 금암1동   & 253\\\\\n\t 금암2동   &  20\\\\\n\t 노송동    & 138\\\\\n\t 덕진동    & 237\\\\\n\t 동서학동  &   7\\\\\n\t 삼천2동   &  21\\\\\n\t 삼천3동   &  62\\\\\n\t 서서학동  &   7\\\\\n\t 서신동    & 126\\\\\n\t 송천1동   &  31\\\\\n\t 송천2동   &  27\\\\\n\t 완산동    &   7\\\\\n\t 우아2동   & 110\\\\\n\t 인후1동   &  78\\\\\n\t 인후2동   &  60\\\\\n\t 인후3동   &  20\\\\\n\t 조촌동    &  23\\\\\n\t 중앙동    &  68\\\\\n\t 중화산2동 & 119\\\\\n\t 진북동    & 125\\\\\n\t 팔복동    &  31\\\\\n\t 평화1동   &  95\\\\\n\t 평화2동   &  46\\\\\n\t 풍남동    &  24\\\\\n\t 효자1동   &  76\\\\\n\t 효자2동   &  65\\\\\n\t 효자3동   &  10\\\\\n\t 효자4동   &  42\\\\\n\t 효자5동   &  73\\\\\n\\end{tabular}\n",
            "text/markdown": "\nA data.frame: 29 × 2\n\n| 행정동 &lt;chr&gt; | 자전거보관대수 &lt;int&gt; |\n|---|---|\n| 금암1동   | 253 |\n| 금암2동   |  20 |\n| 노송동    | 138 |\n| 덕진동    | 237 |\n| 동서학동  |   7 |\n| 삼천2동   |  21 |\n| 삼천3동   |  62 |\n| 서서학동  |   7 |\n| 서신동    | 126 |\n| 송천1동   |  31 |\n| 송천2동   |  27 |\n| 완산동    |   7 |\n| 우아2동   | 110 |\n| 인후1동   |  78 |\n| 인후2동   |  60 |\n| 인후3동   |  20 |\n| 조촌동    |  23 |\n| 중앙동    |  68 |\n| 중화산2동 | 119 |\n| 진북동    | 125 |\n| 팔복동    |  31 |\n| 평화1동   |  95 |\n| 평화2동   |  46 |\n| 풍남동    |  24 |\n| 효자1동   |  76 |\n| 효자2동   |  65 |\n| 효자3동   |  10 |\n| 효자4동   |  42 |\n| 효자5동   |  73 |\n\n",
            "text/html": [
              "<table class=\"dataframe\">\n",
              "<caption>A data.frame: 29 × 2</caption>\n",
              "<thead>\n",
              "\t<tr><th scope=col>행정동</th><th scope=col>자전거보관대수</th></tr>\n",
              "\t<tr><th scope=col>&lt;chr&gt;</th><th scope=col>&lt;int&gt;</th></tr>\n",
              "</thead>\n",
              "<tbody>\n",
              "\t<tr><td>금암1동  </td><td>253</td></tr>\n",
              "\t<tr><td>금암2동  </td><td> 20</td></tr>\n",
              "\t<tr><td>노송동   </td><td>138</td></tr>\n",
              "\t<tr><td>덕진동   </td><td>237</td></tr>\n",
              "\t<tr><td>동서학동 </td><td>  7</td></tr>\n",
              "\t<tr><td>삼천2동  </td><td> 21</td></tr>\n",
              "\t<tr><td>삼천3동  </td><td> 62</td></tr>\n",
              "\t<tr><td>서서학동 </td><td>  7</td></tr>\n",
              "\t<tr><td>서신동   </td><td>126</td></tr>\n",
              "\t<tr><td>송천1동  </td><td> 31</td></tr>\n",
              "\t<tr><td>송천2동  </td><td> 27</td></tr>\n",
              "\t<tr><td>완산동   </td><td>  7</td></tr>\n",
              "\t<tr><td>우아2동  </td><td>110</td></tr>\n",
              "\t<tr><td>인후1동  </td><td> 78</td></tr>\n",
              "\t<tr><td>인후2동  </td><td> 60</td></tr>\n",
              "\t<tr><td>인후3동  </td><td> 20</td></tr>\n",
              "\t<tr><td>조촌동   </td><td> 23</td></tr>\n",
              "\t<tr><td>중앙동   </td><td> 68</td></tr>\n",
              "\t<tr><td>중화산2동</td><td>119</td></tr>\n",
              "\t<tr><td>진북동   </td><td>125</td></tr>\n",
              "\t<tr><td>팔복동   </td><td> 31</td></tr>\n",
              "\t<tr><td>평화1동  </td><td> 95</td></tr>\n",
              "\t<tr><td>평화2동  </td><td> 46</td></tr>\n",
              "\t<tr><td>풍남동   </td><td> 24</td></tr>\n",
              "\t<tr><td>효자1동  </td><td> 76</td></tr>\n",
              "\t<tr><td>효자2동  </td><td> 65</td></tr>\n",
              "\t<tr><td>효자3동  </td><td> 10</td></tr>\n",
              "\t<tr><td>효자4동  </td><td> 42</td></tr>\n",
              "\t<tr><td>효자5동  </td><td> 73</td></tr>\n",
              "</tbody>\n",
              "</table>\n"
            ]
          },
          "metadata": {
            "tags": []
          }
        }
      ]
    },
    {
      "cell_type": "markdown",
      "metadata": {
        "id": "nBA8euk1DLtv"
      },
      "source": [
        "▼ bicycle에서 누락된 행정동은 '삼천1동', '여의동', '우아1동', '중화산1동', '혁신동', '호성동' 총 6개!"
      ]
    },
    {
      "cell_type": "code",
      "metadata": {
        "colab": {
          "base_uri": "https://localhost:8080/"
        },
        "id": "c_bglu6E-uTY",
        "outputId": "7eb0b61b-23a9-4106-8fb4-dcd1bd4c0d0d"
      },
      "source": [
        "table(bicycle$행정동 %in% jjdong)\n",
        "table(jjdong %in% bicycle$행정동)\n",
        "\n",
        "\n",
        "jjdong[jjdong %in% bicycle$행정동 == FALSE]"
      ],
      "execution_count": null,
      "outputs": [
        {
          "output_type": "display_data",
          "data": {
            "text/plain": [
              "\n",
              "TRUE \n",
              "  29 "
            ]
          },
          "metadata": {
            "tags": []
          }
        },
        {
          "output_type": "display_data",
          "data": {
            "text/plain": [
              "\n",
              "FALSE  TRUE \n",
              "    6    29 "
            ]
          },
          "metadata": {
            "tags": []
          }
        },
        {
          "output_type": "display_data",
          "data": {
            "text/plain": [
              "[1] \"삼천1동\"   \"여의동\"    \"우아1동\"   \"중화산1동\" \"혁신동\"    \"호성동\"   "
            ],
            "text/latex": "\\begin{enumerate*}\n\\item '삼천1동'\n\\item '여의동'\n\\item '우아1동'\n\\item '중화산1동'\n\\item '혁신동'\n\\item '호성동'\n\\end{enumerate*}\n",
            "text/markdown": "1. '삼천1동'\n2. '여의동'\n3. '우아1동'\n4. '중화산1동'\n5. '혁신동'\n6. '호성동'\n\n\n",
            "text/html": [
              "<style>\n",
              ".list-inline {list-style: none; margin:0; padding: 0}\n",
              ".list-inline>li {display: inline-block}\n",
              ".list-inline>li:not(:last-child)::after {content: \"\\00b7\"; padding: 0 .5ex}\n",
              "</style>\n",
              "<ol class=list-inline><li>'삼천1동'</li><li>'여의동'</li><li>'우아1동'</li><li>'중화산1동'</li><li>'혁신동'</li><li>'호성동'</li></ol>\n"
            ]
          },
          "metadata": {
            "tags": []
          }
        }
      ]
    },
    {
      "cell_type": "markdown",
      "metadata": {
        "id": "Jhe75DntDcEl"
      },
      "source": [
        "▼ jjdong[jjdong %in% bicycle$행정동 == FALSE] 을 '행정동'으로, 이에 해당하는 자전거보관대 개수의 중앙값을 '자전거보관대수'로 저장하는 데이터프레임 add를 만든다.\n",
        "\n",
        "** NA로 설정하면 상관분석을 할 수가 없어서 일단 중앙값으로 설정해놓음"
      ]
    },
    {
      "cell_type": "code",
      "metadata": {
        "colab": {
          "base_uri": "https://localhost:8080/"
        },
        "id": "m1kNoXbo-7cG",
        "outputId": "a0f0c249-4ebe-48e2-b597-6853206e8f3f"
      },
      "source": [
        "add <- data.frame(행정동 = jjdong[jjdong %in% bicycle$행정동 == FALSE], \n",
        "                     자전거보관대수 = rep(median(bicycle$자전거보관대수), times = length(jjdong[jjdong %in% bicycle$행정동 == FALSE])))\n",
        "head(add)"
      ],
      "execution_count": null,
      "outputs": [
        {
          "output_type": "display_data",
          "data": {
            "text/plain": [
              "  행정동    자전거보관대수\n",
              "1 삼천1동   60            \n",
              "2 여의동    60            \n",
              "3 우아1동   60            \n",
              "4 중화산1동 60            \n",
              "5 혁신동    60            \n",
              "6 호성동    60            "
            ],
            "text/latex": "A data.frame: 6 × 2\n\\begin{tabular}{r|ll}\n  & 행정동 & 자전거보관대수\\\\\n  & <chr> & <int>\\\\\n\\hline\n\t1 & 삼천1동   & 60\\\\\n\t2 & 여의동    & 60\\\\\n\t3 & 우아1동   & 60\\\\\n\t4 & 중화산1동 & 60\\\\\n\t5 & 혁신동    & 60\\\\\n\t6 & 호성동    & 60\\\\\n\\end{tabular}\n",
            "text/markdown": "\nA data.frame: 6 × 2\n\n| <!--/--> | 행정동 &lt;chr&gt; | 자전거보관대수 &lt;int&gt; |\n|---|---|---|\n| 1 | 삼천1동   | 60 |\n| 2 | 여의동    | 60 |\n| 3 | 우아1동   | 60 |\n| 4 | 중화산1동 | 60 |\n| 5 | 혁신동    | 60 |\n| 6 | 호성동    | 60 |\n\n",
            "text/html": [
              "<table class=\"dataframe\">\n",
              "<caption>A data.frame: 6 × 2</caption>\n",
              "<thead>\n",
              "\t<tr><th></th><th scope=col>행정동</th><th scope=col>자전거보관대수</th></tr>\n",
              "\t<tr><th></th><th scope=col>&lt;chr&gt;</th><th scope=col>&lt;int&gt;</th></tr>\n",
              "</thead>\n",
              "<tbody>\n",
              "\t<tr><th scope=row>1</th><td>삼천1동  </td><td>60</td></tr>\n",
              "\t<tr><th scope=row>2</th><td>여의동   </td><td>60</td></tr>\n",
              "\t<tr><th scope=row>3</th><td>우아1동  </td><td>60</td></tr>\n",
              "\t<tr><th scope=row>4</th><td>중화산1동</td><td>60</td></tr>\n",
              "\t<tr><th scope=row>5</th><td>혁신동   </td><td>60</td></tr>\n",
              "\t<tr><th scope=row>6</th><td>호성동   </td><td>60</td></tr>\n",
              "</tbody>\n",
              "</table>\n"
            ]
          },
          "metadata": {
            "tags": []
          }
        }
      ]
    },
    {
      "cell_type": "markdown",
      "metadata": {
        "id": "yzJRdqKeDqrx"
      },
      "source": [
        "1 bicycle과 add를 행을 기준으로 합쳐서 다시 bicycle에 저장\n",
        "\n",
        "2 행정동을 기준으로 오름차순 정렬\n",
        "\n",
        "▼"
      ]
    },
    {
      "cell_type": "code",
      "metadata": {
        "colab": {
          "base_uri": "https://localhost:8080/"
        },
        "id": "eFHe37hg--73",
        "outputId": "5fa8aa5c-4e11-4a77-81fd-78304a42f9d9"
      },
      "source": [
        "bicycle <- rbind(bicycle, add)\n",
        "bicycle <- arrange(bicycle, bicycle$행정동)\n",
        "bicycle"
      ],
      "execution_count": null,
      "outputs": [
        {
          "output_type": "display_data",
          "data": {
            "text/plain": [
              "   행정동    자전거보관대수\n",
              "1  금암1동   253           \n",
              "2  금암2동    20           \n",
              "3  노송동    138           \n",
              "4  덕진동    237           \n",
              "5  동서학동    7           \n",
              "6  삼천1동    60           \n",
              "7  삼천2동    21           \n",
              "8  삼천3동    62           \n",
              "9  서서학동    7           \n",
              "10 서신동    126           \n",
              "11 송천1동    31           \n",
              "12 송천2동    27           \n",
              "13 여의동     60           \n",
              "14 완산동      7           \n",
              "15 우아1동    60           \n",
              "16 우아2동   110           \n",
              "17 인후1동    78           \n",
              "18 인후2동    60           \n",
              "19 인후3동    20           \n",
              "20 조촌동     23           \n",
              "21 중앙동     68           \n",
              "22 중화산1동  60           \n",
              "23 중화산2동 119           \n",
              "24 진북동    125           \n",
              "25 팔복동     31           \n",
              "26 평화1동    95           \n",
              "27 평화2동    46           \n",
              "28 풍남동     24           \n",
              "29 혁신동     60           \n",
              "30 호성동     60           \n",
              "31 효자1동    76           \n",
              "32 효자2동    65           \n",
              "33 효자3동    10           \n",
              "34 효자4동    42           \n",
              "35 효자5동    73           "
            ],
            "text/latex": "A data.frame: 35 × 2\n\\begin{tabular}{ll}\n 행정동 & 자전거보관대수\\\\\n <chr> & <int>\\\\\n\\hline\n\t 금암1동   & 253\\\\\n\t 금암2동   &  20\\\\\n\t 노송동    & 138\\\\\n\t 덕진동    & 237\\\\\n\t 동서학동  &   7\\\\\n\t 삼천1동   &  60\\\\\n\t 삼천2동   &  21\\\\\n\t 삼천3동   &  62\\\\\n\t 서서학동  &   7\\\\\n\t 서신동    & 126\\\\\n\t 송천1동   &  31\\\\\n\t 송천2동   &  27\\\\\n\t 여의동    &  60\\\\\n\t 완산동    &   7\\\\\n\t 우아1동   &  60\\\\\n\t 우아2동   & 110\\\\\n\t 인후1동   &  78\\\\\n\t 인후2동   &  60\\\\\n\t 인후3동   &  20\\\\\n\t 조촌동    &  23\\\\\n\t 중앙동    &  68\\\\\n\t 중화산1동 &  60\\\\\n\t 중화산2동 & 119\\\\\n\t 진북동    & 125\\\\\n\t 팔복동    &  31\\\\\n\t 평화1동   &  95\\\\\n\t 평화2동   &  46\\\\\n\t 풍남동    &  24\\\\\n\t 혁신동    &  60\\\\\n\t 호성동    &  60\\\\\n\t 효자1동   &  76\\\\\n\t 효자2동   &  65\\\\\n\t 효자3동   &  10\\\\\n\t 효자4동   &  42\\\\\n\t 효자5동   &  73\\\\\n\\end{tabular}\n",
            "text/markdown": "\nA data.frame: 35 × 2\n\n| 행정동 &lt;chr&gt; | 자전거보관대수 &lt;int&gt; |\n|---|---|\n| 금암1동   | 253 |\n| 금암2동   |  20 |\n| 노송동    | 138 |\n| 덕진동    | 237 |\n| 동서학동  |   7 |\n| 삼천1동   |  60 |\n| 삼천2동   |  21 |\n| 삼천3동   |  62 |\n| 서서학동  |   7 |\n| 서신동    | 126 |\n| 송천1동   |  31 |\n| 송천2동   |  27 |\n| 여의동    |  60 |\n| 완산동    |   7 |\n| 우아1동   |  60 |\n| 우아2동   | 110 |\n| 인후1동   |  78 |\n| 인후2동   |  60 |\n| 인후3동   |  20 |\n| 조촌동    |  23 |\n| 중앙동    |  68 |\n| 중화산1동 |  60 |\n| 중화산2동 | 119 |\n| 진북동    | 125 |\n| 팔복동    |  31 |\n| 평화1동   |  95 |\n| 평화2동   |  46 |\n| 풍남동    |  24 |\n| 혁신동    |  60 |\n| 호성동    |  60 |\n| 효자1동   |  76 |\n| 효자2동   |  65 |\n| 효자3동   |  10 |\n| 효자4동   |  42 |\n| 효자5동   |  73 |\n\n",
            "text/html": [
              "<table class=\"dataframe\">\n",
              "<caption>A data.frame: 35 × 2</caption>\n",
              "<thead>\n",
              "\t<tr><th scope=col>행정동</th><th scope=col>자전거보관대수</th></tr>\n",
              "\t<tr><th scope=col>&lt;chr&gt;</th><th scope=col>&lt;int&gt;</th></tr>\n",
              "</thead>\n",
              "<tbody>\n",
              "\t<tr><td>금암1동  </td><td>253</td></tr>\n",
              "\t<tr><td>금암2동  </td><td> 20</td></tr>\n",
              "\t<tr><td>노송동   </td><td>138</td></tr>\n",
              "\t<tr><td>덕진동   </td><td>237</td></tr>\n",
              "\t<tr><td>동서학동 </td><td>  7</td></tr>\n",
              "\t<tr><td>삼천1동  </td><td> 60</td></tr>\n",
              "\t<tr><td>삼천2동  </td><td> 21</td></tr>\n",
              "\t<tr><td>삼천3동  </td><td> 62</td></tr>\n",
              "\t<tr><td>서서학동 </td><td>  7</td></tr>\n",
              "\t<tr><td>서신동   </td><td>126</td></tr>\n",
              "\t<tr><td>송천1동  </td><td> 31</td></tr>\n",
              "\t<tr><td>송천2동  </td><td> 27</td></tr>\n",
              "\t<tr><td>여의동   </td><td> 60</td></tr>\n",
              "\t<tr><td>완산동   </td><td>  7</td></tr>\n",
              "\t<tr><td>우아1동  </td><td> 60</td></tr>\n",
              "\t<tr><td>우아2동  </td><td>110</td></tr>\n",
              "\t<tr><td>인후1동  </td><td> 78</td></tr>\n",
              "\t<tr><td>인후2동  </td><td> 60</td></tr>\n",
              "\t<tr><td>인후3동  </td><td> 20</td></tr>\n",
              "\t<tr><td>조촌동   </td><td> 23</td></tr>\n",
              "\t<tr><td>중앙동   </td><td> 68</td></tr>\n",
              "\t<tr><td>중화산1동</td><td> 60</td></tr>\n",
              "\t<tr><td>중화산2동</td><td>119</td></tr>\n",
              "\t<tr><td>진북동   </td><td>125</td></tr>\n",
              "\t<tr><td>팔복동   </td><td> 31</td></tr>\n",
              "\t<tr><td>평화1동  </td><td> 95</td></tr>\n",
              "\t<tr><td>평화2동  </td><td> 46</td></tr>\n",
              "\t<tr><td>풍남동   </td><td> 24</td></tr>\n",
              "\t<tr><td>혁신동   </td><td> 60</td></tr>\n",
              "\t<tr><td>호성동   </td><td> 60</td></tr>\n",
              "\t<tr><td>효자1동  </td><td> 76</td></tr>\n",
              "\t<tr><td>효자2동  </td><td> 65</td></tr>\n",
              "\t<tr><td>효자3동  </td><td> 10</td></tr>\n",
              "\t<tr><td>효자4동  </td><td> 42</td></tr>\n",
              "\t<tr><td>효자5동  </td><td> 73</td></tr>\n",
              "</tbody>\n",
              "</table>\n"
            ]
          },
          "metadata": {
            "tags": []
          }
        }
      ]
    },
    {
      "cell_type": "markdown",
      "metadata": {
        "id": "PY76dnQXD7fJ"
      },
      "source": [
        "## 대규모점포 수"
      ]
    },
    {
      "cell_type": "code",
      "metadata": {
        "colab": {
          "base_uri": "https://localhost:8080/"
        },
        "id": "pNLuyeE4_CCN",
        "outputId": "7b981fbe-3f6f-4037-ced3-dc7965a7ae6c"
      },
      "source": [
        "str(bigstore)\n",
        "head(bigstore)"
      ],
      "execution_count": null,
      "outputs": [
        {
          "output_type": "stream",
          "text": [
            "'data.frame':\t43 obs. of  5 variables:\n",
            " $ 분류   : chr  \"대규모점포\" \"대규모점포\" \"대규모점포\" \"대규모점포\" ...\n",
            " $ store  : chr  \"롯데백화점 전주점\" \"E-마트\" \"홈플러스 완산점\" \"홈플러스 전주점\" ...\n",
            " $ address: chr  \"전주시 완산구 온고을로 2\" \"전주시 완산구 당산로 111\" \"전주시 완산구 기린대로 170\" \"전주시 덕진구 백제대로 771\" ...\n",
            " $ 행정동 : chr  \"서신동\" \"서신동\" \"노송동\" \"우아1동\" ...\n",
            " $ 면적   : int  28179 6571 13121 8471 22657 10430 10387 6115 7721 21317 ...\n"
          ],
          "name": "stdout"
        },
        {
          "output_type": "display_data",
          "data": {
            "text/plain": [
              "  분류       store             address                    행정동  면적 \n",
              "1 대규모점포 롯데백화점 전주점 전주시 완산구 온고을로 2   서신동  28179\n",
              "2 대규모점포 E-마트            전주시 완산구 당산로 111   서신동   6571\n",
              "3 대규모점포 홈플러스 완산점   전주시 완산구 기린대로 170 노송동  13121\n",
              "4 대규모점포 홈플러스 전주점   전주시 덕진구 백제대로 771 우아1동  8471\n",
              "5 대규모점포 홈플러스 효자점   전주시 완산구 용머리로 31  효자3동 22657\n",
              "6 대규모점포 롯데마트 전주점   전주시 완산구 우전로 240   효자4동 10430"
            ],
            "text/latex": "A data.frame: 6 × 5\n\\begin{tabular}{r|lllll}\n  & 분류 & store & address & 행정동 & 면적\\\\\n  & <chr> & <chr> & <chr> & <chr> & <int>\\\\\n\\hline\n\t1 & 대규모점포 & 롯데백화점 전주점 & 전주시 완산구 온고을로 2   & 서신동  & 28179\\\\\n\t2 & 대규모점포 & E-마트            & 전주시 완산구 당산로 111   & 서신동  &  6571\\\\\n\t3 & 대규모점포 & 홈플러스 완산점   & 전주시 완산구 기린대로 170 & 노송동  & 13121\\\\\n\t4 & 대규모점포 & 홈플러스 전주점   & 전주시 덕진구 백제대로 771 & 우아1동 &  8471\\\\\n\t5 & 대규모점포 & 홈플러스 효자점   & 전주시 완산구 용머리로 31  & 효자3동 & 22657\\\\\n\t6 & 대규모점포 & 롯데마트 전주점   & 전주시 완산구 우전로 240   & 효자4동 & 10430\\\\\n\\end{tabular}\n",
            "text/markdown": "\nA data.frame: 6 × 5\n\n| <!--/--> | 분류 &lt;chr&gt; | store &lt;chr&gt; | address &lt;chr&gt; | 행정동 &lt;chr&gt; | 면적 &lt;int&gt; |\n|---|---|---|---|---|---|\n| 1 | 대규모점포 | 롯데백화점 전주점 | 전주시 완산구 온고을로 2   | 서신동  | 28179 |\n| 2 | 대규모점포 | E-마트            | 전주시 완산구 당산로 111   | 서신동  |  6571 |\n| 3 | 대규모점포 | 홈플러스 완산점   | 전주시 완산구 기린대로 170 | 노송동  | 13121 |\n| 4 | 대규모점포 | 홈플러스 전주점   | 전주시 덕진구 백제대로 771 | 우아1동 |  8471 |\n| 5 | 대규모점포 | 홈플러스 효자점   | 전주시 완산구 용머리로 31  | 효자3동 | 22657 |\n| 6 | 대규모점포 | 롯데마트 전주점   | 전주시 완산구 우전로 240   | 효자4동 | 10430 |\n\n",
            "text/html": [
              "<table class=\"dataframe\">\n",
              "<caption>A data.frame: 6 × 5</caption>\n",
              "<thead>\n",
              "\t<tr><th></th><th scope=col>분류</th><th scope=col>store</th><th scope=col>address</th><th scope=col>행정동</th><th scope=col>면적</th></tr>\n",
              "\t<tr><th></th><th scope=col>&lt;chr&gt;</th><th scope=col>&lt;chr&gt;</th><th scope=col>&lt;chr&gt;</th><th scope=col>&lt;chr&gt;</th><th scope=col>&lt;int&gt;</th></tr>\n",
              "</thead>\n",
              "<tbody>\n",
              "\t<tr><th scope=row>1</th><td>대규모점포</td><td>롯데백화점 전주점</td><td>전주시 완산구 온고을로 2  </td><td>서신동 </td><td>28179</td></tr>\n",
              "\t<tr><th scope=row>2</th><td>대규모점포</td><td>E-마트           </td><td>전주시 완산구 당산로 111  </td><td>서신동 </td><td> 6571</td></tr>\n",
              "\t<tr><th scope=row>3</th><td>대규모점포</td><td>홈플러스 완산점  </td><td>전주시 완산구 기린대로 170</td><td>노송동 </td><td>13121</td></tr>\n",
              "\t<tr><th scope=row>4</th><td>대규모점포</td><td>홈플러스 전주점  </td><td>전주시 덕진구 백제대로 771</td><td>우아1동</td><td> 8471</td></tr>\n",
              "\t<tr><th scope=row>5</th><td>대규모점포</td><td>홈플러스 효자점  </td><td>전주시 완산구 용머리로 31 </td><td>효자3동</td><td>22657</td></tr>\n",
              "\t<tr><th scope=row>6</th><td>대규모점포</td><td>롯데마트 전주점  </td><td>전주시 완산구 우전로 240  </td><td>효자4동</td><td>10430</td></tr>\n",
              "</tbody>\n",
              "</table>\n"
            ]
          },
          "metadata": {
            "tags": []
          }
        }
      ]
    },
    {
      "cell_type": "code",
      "metadata": {
        "colab": {
          "base_uri": "https://localhost:8080/"
        },
        "id": "U-78S9gu_F65",
        "outputId": "3d295af7-0a08-4851-f7df-09e82509cc87"
      },
      "source": [
        "bigstore <- bigstore[,c(2,4,5)]\n",
        "bigstore$count <- rep(1,nrow(bigstore))\n",
        "head(bigstore)"
      ],
      "execution_count": null,
      "outputs": [
        {
          "output_type": "display_data",
          "data": {
            "text/plain": [
              "  store             행정동  면적  count\n",
              "1 롯데백화점 전주점 서신동  28179 1    \n",
              "2 E-마트            서신동   6571 1    \n",
              "3 홈플러스 완산점   노송동  13121 1    \n",
              "4 홈플러스 전주점   우아1동  8471 1    \n",
              "5 홈플러스 효자점   효자3동 22657 1    \n",
              "6 롯데마트 전주점   효자4동 10430 1    "
            ],
            "text/latex": "A data.frame: 6 × 4\n\\begin{tabular}{r|llll}\n  & store & 행정동 & 면적 & count\\\\\n  & <chr> & <chr> & <int> & <dbl>\\\\\n\\hline\n\t1 & 롯데백화점 전주점 & 서신동  & 28179 & 1\\\\\n\t2 & E-마트            & 서신동  &  6571 & 1\\\\\n\t3 & 홈플러스 완산점   & 노송동  & 13121 & 1\\\\\n\t4 & 홈플러스 전주점   & 우아1동 &  8471 & 1\\\\\n\t5 & 홈플러스 효자점   & 효자3동 & 22657 & 1\\\\\n\t6 & 롯데마트 전주점   & 효자4동 & 10430 & 1\\\\\n\\end{tabular}\n",
            "text/markdown": "\nA data.frame: 6 × 4\n\n| <!--/--> | store &lt;chr&gt; | 행정동 &lt;chr&gt; | 면적 &lt;int&gt; | count &lt;dbl&gt; |\n|---|---|---|---|---|\n| 1 | 롯데백화점 전주점 | 서신동  | 28179 | 1 |\n| 2 | E-마트            | 서신동  |  6571 | 1 |\n| 3 | 홈플러스 완산점   | 노송동  | 13121 | 1 |\n| 4 | 홈플러스 전주점   | 우아1동 |  8471 | 1 |\n| 5 | 홈플러스 효자점   | 효자3동 | 22657 | 1 |\n| 6 | 롯데마트 전주점   | 효자4동 | 10430 | 1 |\n\n",
            "text/html": [
              "<table class=\"dataframe\">\n",
              "<caption>A data.frame: 6 × 4</caption>\n",
              "<thead>\n",
              "\t<tr><th></th><th scope=col>store</th><th scope=col>행정동</th><th scope=col>면적</th><th scope=col>count</th></tr>\n",
              "\t<tr><th></th><th scope=col>&lt;chr&gt;</th><th scope=col>&lt;chr&gt;</th><th scope=col>&lt;int&gt;</th><th scope=col>&lt;dbl&gt;</th></tr>\n",
              "</thead>\n",
              "<tbody>\n",
              "\t<tr><th scope=row>1</th><td>롯데백화점 전주점</td><td>서신동 </td><td>28179</td><td>1</td></tr>\n",
              "\t<tr><th scope=row>2</th><td>E-마트           </td><td>서신동 </td><td> 6571</td><td>1</td></tr>\n",
              "\t<tr><th scope=row>3</th><td>홈플러스 완산점  </td><td>노송동 </td><td>13121</td><td>1</td></tr>\n",
              "\t<tr><th scope=row>4</th><td>홈플러스 전주점  </td><td>우아1동</td><td> 8471</td><td>1</td></tr>\n",
              "\t<tr><th scope=row>5</th><td>홈플러스 효자점  </td><td>효자3동</td><td>22657</td><td>1</td></tr>\n",
              "\t<tr><th scope=row>6</th><td>롯데마트 전주점  </td><td>효자4동</td><td>10430</td><td>1</td></tr>\n",
              "</tbody>\n",
              "</table>\n"
            ]
          },
          "metadata": {
            "tags": []
          }
        }
      ]
    },
    {
      "cell_type": "code",
      "metadata": {
        "colab": {
          "base_uri": "https://localhost:8080/"
        },
        "id": "-EMLTcPh_KyP",
        "outputId": "4c77c53c-cafe-452a-898f-fa4aedd2c0a6"
      },
      "source": [
        "bigstore <- bigstore %>% group_by(행정동) %>% summarise(대규모점포수 = sum(count))\n",
        "bigstore <- as.data.frame(bigstore)\n",
        "bigstore <- arrange(bigstore, bigstore$행정동)\n",
        "head(bigstore)"
      ],
      "execution_count": null,
      "outputs": [
        {
          "output_type": "display_data",
          "data": {
            "text/plain": [
              "  행정동  대규모점포수\n",
              "1 금암1동 1           \n",
              "2 노송동  2           \n",
              "3 덕진동  1           \n",
              "4 삼천3동 2           \n",
              "5 서신동  4           \n",
              "6 송천1동 3           "
            ],
            "text/latex": "A data.frame: 6 × 2\n\\begin{tabular}{r|ll}\n  & 행정동 & 대규모점포수\\\\\n  & <chr> & <dbl>\\\\\n\\hline\n\t1 & 금암1동 & 1\\\\\n\t2 & 노송동  & 2\\\\\n\t3 & 덕진동  & 1\\\\\n\t4 & 삼천3동 & 2\\\\\n\t5 & 서신동  & 4\\\\\n\t6 & 송천1동 & 3\\\\\n\\end{tabular}\n",
            "text/markdown": "\nA data.frame: 6 × 2\n\n| <!--/--> | 행정동 &lt;chr&gt; | 대규모점포수 &lt;dbl&gt; |\n|---|---|---|\n| 1 | 금암1동 | 1 |\n| 2 | 노송동  | 2 |\n| 3 | 덕진동  | 1 |\n| 4 | 삼천3동 | 2 |\n| 5 | 서신동  | 4 |\n| 6 | 송천1동 | 3 |\n\n",
            "text/html": [
              "<table class=\"dataframe\">\n",
              "<caption>A data.frame: 6 × 2</caption>\n",
              "<thead>\n",
              "\t<tr><th></th><th scope=col>행정동</th><th scope=col>대규모점포수</th></tr>\n",
              "\t<tr><th></th><th scope=col>&lt;chr&gt;</th><th scope=col>&lt;dbl&gt;</th></tr>\n",
              "</thead>\n",
              "<tbody>\n",
              "\t<tr><th scope=row>1</th><td>금암1동</td><td>1</td></tr>\n",
              "\t<tr><th scope=row>2</th><td>노송동 </td><td>2</td></tr>\n",
              "\t<tr><th scope=row>3</th><td>덕진동 </td><td>1</td></tr>\n",
              "\t<tr><th scope=row>4</th><td>삼천3동</td><td>2</td></tr>\n",
              "\t<tr><th scope=row>5</th><td>서신동 </td><td>4</td></tr>\n",
              "\t<tr><th scope=row>6</th><td>송천1동</td><td>3</td></tr>\n",
              "</tbody>\n",
              "</table>\n"
            ]
          },
          "metadata": {
            "tags": []
          }
        }
      ]
    },
    {
      "cell_type": "code",
      "metadata": {
        "colab": {
          "base_uri": "https://localhost:8080/"
        },
        "id": "5rxUoEBS_Ofj",
        "outputId": "cbb13cdf-0fc2-425d-cc30-309a32835404"
      },
      "source": [
        "table(bigstore$행정동 %in% jjdong)\n",
        "table(jjdong %in% bigstore$행정동)\n",
        "\n",
        "\n",
        "jjdong[jjdong %in% bigstore$행정동 == FALSE]"
      ],
      "execution_count": null,
      "outputs": [
        {
          "output_type": "display_data",
          "data": {
            "text/plain": [
              "\n",
              "TRUE \n",
              "  19 "
            ]
          },
          "metadata": {
            "tags": []
          }
        },
        {
          "output_type": "display_data",
          "data": {
            "text/plain": [
              "\n",
              "FALSE  TRUE \n",
              "   16    19 "
            ]
          },
          "metadata": {
            "tags": []
          }
        },
        {
          "output_type": "display_data",
          "data": {
            "text/plain": [
              " [1] \"금암2동\"   \"동서학동\"  \"삼천1동\"   \"삼천2동\"   \"서서학동\"  \"송천2동\"  \n",
              " [7] \"완산동\"    \"우아2동\"   \"조촌동\"    \"중화산2동\" \"진북동\"    \"팔복동\"   \n",
              "[13] \"평화1동\"   \"혁신동\"    \"효자2동\"   \"효자5동\"  "
            ],
            "text/latex": "\\begin{enumerate*}\n\\item '금암2동'\n\\item '동서학동'\n\\item '삼천1동'\n\\item '삼천2동'\n\\item '서서학동'\n\\item '송천2동'\n\\item '완산동'\n\\item '우아2동'\n\\item '조촌동'\n\\item '중화산2동'\n\\item '진북동'\n\\item '팔복동'\n\\item '평화1동'\n\\item '혁신동'\n\\item '효자2동'\n\\item '효자5동'\n\\end{enumerate*}\n",
            "text/markdown": "1. '금암2동'\n2. '동서학동'\n3. '삼천1동'\n4. '삼천2동'\n5. '서서학동'\n6. '송천2동'\n7. '완산동'\n8. '우아2동'\n9. '조촌동'\n10. '중화산2동'\n11. '진북동'\n12. '팔복동'\n13. '평화1동'\n14. '혁신동'\n15. '효자2동'\n16. '효자5동'\n\n\n",
            "text/html": [
              "<style>\n",
              ".list-inline {list-style: none; margin:0; padding: 0}\n",
              ".list-inline>li {display: inline-block}\n",
              ".list-inline>li:not(:last-child)::after {content: \"\\00b7\"; padding: 0 .5ex}\n",
              "</style>\n",
              "<ol class=list-inline><li>'금암2동'</li><li>'동서학동'</li><li>'삼천1동'</li><li>'삼천2동'</li><li>'서서학동'</li><li>'송천2동'</li><li>'완산동'</li><li>'우아2동'</li><li>'조촌동'</li><li>'중화산2동'</li><li>'진북동'</li><li>'팔복동'</li><li>'평화1동'</li><li>'혁신동'</li><li>'효자2동'</li><li>'효자5동'</li></ol>\n"
            ]
          },
          "metadata": {
            "tags": []
          }
        }
      ]
    },
    {
      "cell_type": "code",
      "metadata": {
        "colab": {
          "base_uri": "https://localhost:8080/"
        },
        "id": "qwX1gyfk_RwO",
        "outputId": "267b327b-d8cb-4911-c043-9c03834e89f1"
      },
      "source": [
        "add <- data.frame(행정동 = jjdong[jjdong %in% bigstore$행정동 == FALSE], \n",
        "                  대규모점포수 = rep(0, length(jjdong[jjdong %in% bigstore$행정동 == FALSE])))\n",
        "bigstore <- rbind(bigstore, add)\n",
        "bigstore <- arrange(bigstore, bigstore$행정동)\n",
        "bigstore"
      ],
      "execution_count": null,
      "outputs": [
        {
          "output_type": "display_data",
          "data": {
            "text/plain": [
              "   행정동    대규모점포수\n",
              "1  금암1동   1           \n",
              "2  금암2동   0           \n",
              "3  노송동    2           \n",
              "4  덕진동    1           \n",
              "5  동서학동  0           \n",
              "6  삼천1동   0           \n",
              "7  삼천2동   0           \n",
              "8  삼천3동   2           \n",
              "9  서서학동  0           \n",
              "10 서신동    4           \n",
              "11 송천1동   3           \n",
              "12 송천2동   0           \n",
              "13 여의동    3           \n",
              "14 완산동    0           \n",
              "15 우아1동   1           \n",
              "16 우아2동   0           \n",
              "17 인후1동   1           \n",
              "18 인후2동   1           \n",
              "19 인후3동   1           \n",
              "20 조촌동    0           \n",
              "21 중앙동    4           \n",
              "22 중화산1동 1           \n",
              "23 중화산2동 0           \n",
              "24 진북동    0           \n",
              "25 팔복동    0           \n",
              "26 평화1동   0           \n",
              "27 평화2동   3           \n",
              "28 풍남동    2           \n",
              "29 혁신동    0           \n",
              "30 호성동    1           \n",
              "31 효자1동   2           \n",
              "32 효자2동   0           \n",
              "33 효자3동   2           \n",
              "34 효자4동   8           \n",
              "35 효자5동   0           "
            ],
            "text/latex": "A data.frame: 35 × 2\n\\begin{tabular}{ll}\n 행정동 & 대규모점포수\\\\\n <chr> & <dbl>\\\\\n\\hline\n\t 금암1동   & 1\\\\\n\t 금암2동   & 0\\\\\n\t 노송동    & 2\\\\\n\t 덕진동    & 1\\\\\n\t 동서학동  & 0\\\\\n\t 삼천1동   & 0\\\\\n\t 삼천2동   & 0\\\\\n\t 삼천3동   & 2\\\\\n\t 서서학동  & 0\\\\\n\t 서신동    & 4\\\\\n\t 송천1동   & 3\\\\\n\t 송천2동   & 0\\\\\n\t 여의동    & 3\\\\\n\t 완산동    & 0\\\\\n\t 우아1동   & 1\\\\\n\t 우아2동   & 0\\\\\n\t 인후1동   & 1\\\\\n\t 인후2동   & 1\\\\\n\t 인후3동   & 1\\\\\n\t 조촌동    & 0\\\\\n\t 중앙동    & 4\\\\\n\t 중화산1동 & 1\\\\\n\t 중화산2동 & 0\\\\\n\t 진북동    & 0\\\\\n\t 팔복동    & 0\\\\\n\t 평화1동   & 0\\\\\n\t 평화2동   & 3\\\\\n\t 풍남동    & 2\\\\\n\t 혁신동    & 0\\\\\n\t 호성동    & 1\\\\\n\t 효자1동   & 2\\\\\n\t 효자2동   & 0\\\\\n\t 효자3동   & 2\\\\\n\t 효자4동   & 8\\\\\n\t 효자5동   & 0\\\\\n\\end{tabular}\n",
            "text/markdown": "\nA data.frame: 35 × 2\n\n| 행정동 &lt;chr&gt; | 대규모점포수 &lt;dbl&gt; |\n|---|---|\n| 금암1동   | 1 |\n| 금암2동   | 0 |\n| 노송동    | 2 |\n| 덕진동    | 1 |\n| 동서학동  | 0 |\n| 삼천1동   | 0 |\n| 삼천2동   | 0 |\n| 삼천3동   | 2 |\n| 서서학동  | 0 |\n| 서신동    | 4 |\n| 송천1동   | 3 |\n| 송천2동   | 0 |\n| 여의동    | 3 |\n| 완산동    | 0 |\n| 우아1동   | 1 |\n| 우아2동   | 0 |\n| 인후1동   | 1 |\n| 인후2동   | 1 |\n| 인후3동   | 1 |\n| 조촌동    | 0 |\n| 중앙동    | 4 |\n| 중화산1동 | 1 |\n| 중화산2동 | 0 |\n| 진북동    | 0 |\n| 팔복동    | 0 |\n| 평화1동   | 0 |\n| 평화2동   | 3 |\n| 풍남동    | 2 |\n| 혁신동    | 0 |\n| 호성동    | 1 |\n| 효자1동   | 2 |\n| 효자2동   | 0 |\n| 효자3동   | 2 |\n| 효자4동   | 8 |\n| 효자5동   | 0 |\n\n",
            "text/html": [
              "<table class=\"dataframe\">\n",
              "<caption>A data.frame: 35 × 2</caption>\n",
              "<thead>\n",
              "\t<tr><th scope=col>행정동</th><th scope=col>대규모점포수</th></tr>\n",
              "\t<tr><th scope=col>&lt;chr&gt;</th><th scope=col>&lt;dbl&gt;</th></tr>\n",
              "</thead>\n",
              "<tbody>\n",
              "\t<tr><td>금암1동  </td><td>1</td></tr>\n",
              "\t<tr><td>금암2동  </td><td>0</td></tr>\n",
              "\t<tr><td>노송동   </td><td>2</td></tr>\n",
              "\t<tr><td>덕진동   </td><td>1</td></tr>\n",
              "\t<tr><td>동서학동 </td><td>0</td></tr>\n",
              "\t<tr><td>삼천1동  </td><td>0</td></tr>\n",
              "\t<tr><td>삼천2동  </td><td>0</td></tr>\n",
              "\t<tr><td>삼천3동  </td><td>2</td></tr>\n",
              "\t<tr><td>서서학동 </td><td>0</td></tr>\n",
              "\t<tr><td>서신동   </td><td>4</td></tr>\n",
              "\t<tr><td>송천1동  </td><td>3</td></tr>\n",
              "\t<tr><td>송천2동  </td><td>0</td></tr>\n",
              "\t<tr><td>여의동   </td><td>3</td></tr>\n",
              "\t<tr><td>완산동   </td><td>0</td></tr>\n",
              "\t<tr><td>우아1동  </td><td>1</td></tr>\n",
              "\t<tr><td>우아2동  </td><td>0</td></tr>\n",
              "\t<tr><td>인후1동  </td><td>1</td></tr>\n",
              "\t<tr><td>인후2동  </td><td>1</td></tr>\n",
              "\t<tr><td>인후3동  </td><td>1</td></tr>\n",
              "\t<tr><td>조촌동   </td><td>0</td></tr>\n",
              "\t<tr><td>중앙동   </td><td>4</td></tr>\n",
              "\t<tr><td>중화산1동</td><td>1</td></tr>\n",
              "\t<tr><td>중화산2동</td><td>0</td></tr>\n",
              "\t<tr><td>진북동   </td><td>0</td></tr>\n",
              "\t<tr><td>팔복동   </td><td>0</td></tr>\n",
              "\t<tr><td>평화1동  </td><td>0</td></tr>\n",
              "\t<tr><td>평화2동  </td><td>3</td></tr>\n",
              "\t<tr><td>풍남동   </td><td>2</td></tr>\n",
              "\t<tr><td>혁신동   </td><td>0</td></tr>\n",
              "\t<tr><td>호성동   </td><td>1</td></tr>\n",
              "\t<tr><td>효자1동  </td><td>2</td></tr>\n",
              "\t<tr><td>효자2동  </td><td>0</td></tr>\n",
              "\t<tr><td>효자3동  </td><td>2</td></tr>\n",
              "\t<tr><td>효자4동  </td><td>8</td></tr>\n",
              "\t<tr><td>효자5동  </td><td>0</td></tr>\n",
              "</tbody>\n",
              "</table>\n"
            ]
          },
          "metadata": {
            "tags": []
          }
        }
      ]
    },
    {
      "cell_type": "markdown",
      "metadata": {
        "id": "xeTlygNnD_uo"
      },
      "source": [
        "## 편의점 수"
      ]
    },
    {
      "cell_type": "code",
      "metadata": {
        "colab": {
          "base_uri": "https://localhost:8080/"
        },
        "id": "LBBggsQY_UpD",
        "outputId": "794ca78b-b406-4752-9735-25b30c120d84"
      },
      "source": [
        "str(cvstore)\n",
        "head(cvstore)"
      ],
      "execution_count": null,
      "outputs": [
        {
          "output_type": "stream",
          "text": [
            "'data.frame':\t31 obs. of  5 variables:\n",
            " $ 구         : chr  \"완산구\" \"완산구\" \"완산구\" \"완산구\" ...\n",
            " $ 동         : chr  \"효자5동\" \"효자4동\" \"서신동\" \"평화2동\" ...\n",
            " $ 순위.구.내.: int  1 2 3 4 5 6 7 8 9 10 ...\n",
            " $ 편의점수   : int  60 36 31 21 20 19 17 16 13 9 ...\n",
            " $ 비율...    : num  21.7 13 11.2 7.6 7.2 6.9 6.2 5.8 4.7 3.3 ...\n"
          ],
          "name": "stdout"
        },
        {
          "output_type": "display_data",
          "data": {
            "text/plain": [
              "  구     동        순위.구.내. 편의점수 비율...\n",
              "1 완산구 효자5동   1           60       21.7   \n",
              "2 완산구 효자4동   2           36       13.0   \n",
              "3 완산구 서신동    3           31       11.2   \n",
              "4 완산구 평화2동   4           21        7.6   \n",
              "5 완산구 중화산2동 5           20        7.2   \n",
              "6 완산구 중화산1동 6           19        6.9   "
            ],
            "text/latex": "A data.frame: 6 × 5\n\\begin{tabular}{r|lllll}\n  & 구 & 동 & 순위.구.내. & 편의점수 & 비율...\\\\\n  & <chr> & <chr> & <int> & <int> & <dbl>\\\\\n\\hline\n\t1 & 완산구 & 효자5동   & 1 & 60 & 21.7\\\\\n\t2 & 완산구 & 효자4동   & 2 & 36 & 13.0\\\\\n\t3 & 완산구 & 서신동    & 3 & 31 & 11.2\\\\\n\t4 & 완산구 & 평화2동   & 4 & 21 &  7.6\\\\\n\t5 & 완산구 & 중화산2동 & 5 & 20 &  7.2\\\\\n\t6 & 완산구 & 중화산1동 & 6 & 19 &  6.9\\\\\n\\end{tabular}\n",
            "text/markdown": "\nA data.frame: 6 × 5\n\n| <!--/--> | 구 &lt;chr&gt; | 동 &lt;chr&gt; | 순위.구.내. &lt;int&gt; | 편의점수 &lt;int&gt; | 비율... &lt;dbl&gt; |\n|---|---|---|---|---|---|\n| 1 | 완산구 | 효자5동   | 1 | 60 | 21.7 |\n| 2 | 완산구 | 효자4동   | 2 | 36 | 13.0 |\n| 3 | 완산구 | 서신동    | 3 | 31 | 11.2 |\n| 4 | 완산구 | 평화2동   | 4 | 21 |  7.6 |\n| 5 | 완산구 | 중화산2동 | 5 | 20 |  7.2 |\n| 6 | 완산구 | 중화산1동 | 6 | 19 |  6.9 |\n\n",
            "text/html": [
              "<table class=\"dataframe\">\n",
              "<caption>A data.frame: 6 × 5</caption>\n",
              "<thead>\n",
              "\t<tr><th></th><th scope=col>구</th><th scope=col>동</th><th scope=col>순위.구.내.</th><th scope=col>편의점수</th><th scope=col>비율...</th></tr>\n",
              "\t<tr><th></th><th scope=col>&lt;chr&gt;</th><th scope=col>&lt;chr&gt;</th><th scope=col>&lt;int&gt;</th><th scope=col>&lt;int&gt;</th><th scope=col>&lt;dbl&gt;</th></tr>\n",
              "</thead>\n",
              "<tbody>\n",
              "\t<tr><th scope=row>1</th><td>완산구</td><td>효자5동  </td><td>1</td><td>60</td><td>21.7</td></tr>\n",
              "\t<tr><th scope=row>2</th><td>완산구</td><td>효자4동  </td><td>2</td><td>36</td><td>13.0</td></tr>\n",
              "\t<tr><th scope=row>3</th><td>완산구</td><td>서신동   </td><td>3</td><td>31</td><td>11.2</td></tr>\n",
              "\t<tr><th scope=row>4</th><td>완산구</td><td>평화2동  </td><td>4</td><td>21</td><td> 7.6</td></tr>\n",
              "\t<tr><th scope=row>5</th><td>완산구</td><td>중화산2동</td><td>5</td><td>20</td><td> 7.2</td></tr>\n",
              "\t<tr><th scope=row>6</th><td>완산구</td><td>중화산1동</td><td>6</td><td>19</td><td> 6.9</td></tr>\n",
              "</tbody>\n",
              "</table>\n"
            ]
          },
          "metadata": {
            "tags": []
          }
        }
      ]
    },
    {
      "cell_type": "code",
      "metadata": {
        "colab": {
          "base_uri": "https://localhost:8080/"
        },
        "id": "UnPCRXAR_XrW",
        "outputId": "37f1e161-c009-4dd1-9fb7-823ce87ee79f"
      },
      "source": [
        "cvstore <- cvstore[,c(2,4)]\n",
        "names(cvstore)[1] <- \"행정동\"\n",
        "cvstore <- arrange(cvstore, cvstore$행정동)\n",
        "head(cvstore)"
      ],
      "execution_count": null,
      "outputs": [
        {
          "output_type": "display_data",
          "data": {
            "text/plain": [
              "  행정동   편의점수\n",
              "1 금암1동  25      \n",
              "2 금암2동   8      \n",
              "3 노송동    5      \n",
              "4 덕진동   29      \n",
              "5 동서학동  6      \n",
              "6 삼천2동   9      "
            ],
            "text/latex": "A data.frame: 6 × 2\n\\begin{tabular}{r|ll}\n  & 행정동 & 편의점수\\\\\n  & <chr> & <int>\\\\\n\\hline\n\t1 & 금암1동  & 25\\\\\n\t2 & 금암2동  &  8\\\\\n\t3 & 노송동   &  5\\\\\n\t4 & 덕진동   & 29\\\\\n\t5 & 동서학동 &  6\\\\\n\t6 & 삼천2동  &  9\\\\\n\\end{tabular}\n",
            "text/markdown": "\nA data.frame: 6 × 2\n\n| <!--/--> | 행정동 &lt;chr&gt; | 편의점수 &lt;int&gt; |\n|---|---|---|\n| 1 | 금암1동  | 25 |\n| 2 | 금암2동  |  8 |\n| 3 | 노송동   |  5 |\n| 4 | 덕진동   | 29 |\n| 5 | 동서학동 |  6 |\n| 6 | 삼천2동  |  9 |\n\n",
            "text/html": [
              "<table class=\"dataframe\">\n",
              "<caption>A data.frame: 6 × 2</caption>\n",
              "<thead>\n",
              "\t<tr><th></th><th scope=col>행정동</th><th scope=col>편의점수</th></tr>\n",
              "\t<tr><th></th><th scope=col>&lt;chr&gt;</th><th scope=col>&lt;int&gt;</th></tr>\n",
              "</thead>\n",
              "<tbody>\n",
              "\t<tr><th scope=row>1</th><td>금암1동 </td><td>25</td></tr>\n",
              "\t<tr><th scope=row>2</th><td>금암2동 </td><td> 8</td></tr>\n",
              "\t<tr><th scope=row>3</th><td>노송동  </td><td> 5</td></tr>\n",
              "\t<tr><th scope=row>4</th><td>덕진동  </td><td>29</td></tr>\n",
              "\t<tr><th scope=row>5</th><td>동서학동</td><td> 6</td></tr>\n",
              "\t<tr><th scope=row>6</th><td>삼천2동 </td><td> 9</td></tr>\n",
              "</tbody>\n",
              "</table>\n"
            ]
          },
          "metadata": {
            "tags": []
          }
        }
      ]
    },
    {
      "cell_type": "code",
      "metadata": {
        "colab": {
          "base_uri": "https://localhost:8080/"
        },
        "id": "QNQfWG-Y_bug",
        "outputId": "af0f5df7-8685-42ec-aeac-a12c64d7fe31"
      },
      "source": [
        "table(cvstore$행정동 %in% jjdong)\n",
        "table(jjdong %in% cvstore$행정동)\n",
        "\n",
        "jjdong[jjdong %in% cvstore$행정동 == FALSE] #cvstore에는 없는 jjdong의 행정동"
      ],
      "execution_count": null,
      "outputs": [
        {
          "output_type": "display_data",
          "data": {
            "text/plain": [
              "\n",
              "TRUE \n",
              "  31 "
            ]
          },
          "metadata": {
            "tags": []
          }
        },
        {
          "output_type": "display_data",
          "data": {
            "text/plain": [
              "\n",
              "FALSE  TRUE \n",
              "    4    31 "
            ]
          },
          "metadata": {
            "tags": []
          }
        },
        {
          "output_type": "display_data",
          "data": {
            "text/plain": [
              "[1] \"삼천1동\"  \"서서학동\" \"완산동\"   \"효자1동\" "
            ],
            "text/latex": "\\begin{enumerate*}\n\\item '삼천1동'\n\\item '서서학동'\n\\item '완산동'\n\\item '효자1동'\n\\end{enumerate*}\n",
            "text/markdown": "1. '삼천1동'\n2. '서서학동'\n3. '완산동'\n4. '효자1동'\n\n\n",
            "text/html": [
              "<style>\n",
              ".list-inline {list-style: none; margin:0; padding: 0}\n",
              ".list-inline>li {display: inline-block}\n",
              ".list-inline>li:not(:last-child)::after {content: \"\\00b7\"; padding: 0 .5ex}\n",
              "</style>\n",
              "<ol class=list-inline><li>'삼천1동'</li><li>'서서학동'</li><li>'완산동'</li><li>'효자1동'</li></ol>\n"
            ]
          },
          "metadata": {
            "tags": []
          }
        }
      ]
    },
    {
      "cell_type": "code",
      "metadata": {
        "colab": {
          "base_uri": "https://localhost:8080/"
        },
        "id": "3Jn20LEl_ln4",
        "outputId": "487fd2fa-53e7-435f-d0af-10febab4253e"
      },
      "source": [
        "add <- data.frame(행정동 = jjdong[jjdong %in% cvstore$행정동 == FALSE], \n",
        "                  편의점수 = rep(median(cvstore$편의점수), length(jjdong[jjdong %in% cvstore$행정동 == FALSE])))\n",
        "cvstore<- rbind(cvstore, add)\n",
        "cvstore <- arrange(cvstore, cvstore$행정동)\n",
        "cvstore"
      ],
      "execution_count": null,
      "outputs": [
        {
          "output_type": "display_data",
          "data": {
            "text/plain": [
              "   행정동    편의점수\n",
              "1  금암1동   25      \n",
              "2  금암2동    8      \n",
              "3  노송동     5      \n",
              "4  덕진동    29      \n",
              "5  동서학동   6      \n",
              "6  삼천1동   14      \n",
              "7  삼천2동    9      \n",
              "8  삼천3동   13      \n",
              "9  서서학동  14      \n",
              "10 서신동    31      \n",
              "11 송천1동   30      \n",
              "12 송천2동   14      \n",
              "13 여의동    22      \n",
              "14 완산동    14      \n",
              "15 우아1동   14      \n",
              "16 우아2동   36      \n",
              "17 인후1동    8      \n",
              "18 인후2동    7      \n",
              "19 인후3동   30      \n",
              "20 조촌동     7      \n",
              "21 중앙동    17      \n",
              "22 중화산1동 19      \n",
              "23 중화산2동 20      \n",
              "24 진북동     8      \n",
              "25 팔복동    10      \n",
              "26 평화1동    8      \n",
              "27 평화2동   21      \n",
              "28 풍남동    16      \n",
              "29 혁신동    11      \n",
              "30 호성동     9      \n",
              "31 효자1동   14      \n",
              "32 효자2동    6      \n",
              "33 효자3동    9      \n",
              "34 효자4동   36      \n",
              "35 효자5동   60      "
            ],
            "text/latex": "A data.frame: 35 × 2\n\\begin{tabular}{ll}\n 행정동 & 편의점수\\\\\n <chr> & <int>\\\\\n\\hline\n\t 금암1동   & 25\\\\\n\t 금암2동   &  8\\\\\n\t 노송동    &  5\\\\\n\t 덕진동    & 29\\\\\n\t 동서학동  &  6\\\\\n\t 삼천1동   & 14\\\\\n\t 삼천2동   &  9\\\\\n\t 삼천3동   & 13\\\\\n\t 서서학동  & 14\\\\\n\t 서신동    & 31\\\\\n\t 송천1동   & 30\\\\\n\t 송천2동   & 14\\\\\n\t 여의동    & 22\\\\\n\t 완산동    & 14\\\\\n\t 우아1동   & 14\\\\\n\t 우아2동   & 36\\\\\n\t 인후1동   &  8\\\\\n\t 인후2동   &  7\\\\\n\t 인후3동   & 30\\\\\n\t 조촌동    &  7\\\\\n\t 중앙동    & 17\\\\\n\t 중화산1동 & 19\\\\\n\t 중화산2동 & 20\\\\\n\t 진북동    &  8\\\\\n\t 팔복동    & 10\\\\\n\t 평화1동   &  8\\\\\n\t 평화2동   & 21\\\\\n\t 풍남동    & 16\\\\\n\t 혁신동    & 11\\\\\n\t 호성동    &  9\\\\\n\t 효자1동   & 14\\\\\n\t 효자2동   &  6\\\\\n\t 효자3동   &  9\\\\\n\t 효자4동   & 36\\\\\n\t 효자5동   & 60\\\\\n\\end{tabular}\n",
            "text/markdown": "\nA data.frame: 35 × 2\n\n| 행정동 &lt;chr&gt; | 편의점수 &lt;int&gt; |\n|---|---|\n| 금암1동   | 25 |\n| 금암2동   |  8 |\n| 노송동    |  5 |\n| 덕진동    | 29 |\n| 동서학동  |  6 |\n| 삼천1동   | 14 |\n| 삼천2동   |  9 |\n| 삼천3동   | 13 |\n| 서서학동  | 14 |\n| 서신동    | 31 |\n| 송천1동   | 30 |\n| 송천2동   | 14 |\n| 여의동    | 22 |\n| 완산동    | 14 |\n| 우아1동   | 14 |\n| 우아2동   | 36 |\n| 인후1동   |  8 |\n| 인후2동   |  7 |\n| 인후3동   | 30 |\n| 조촌동    |  7 |\n| 중앙동    | 17 |\n| 중화산1동 | 19 |\n| 중화산2동 | 20 |\n| 진북동    |  8 |\n| 팔복동    | 10 |\n| 평화1동   |  8 |\n| 평화2동   | 21 |\n| 풍남동    | 16 |\n| 혁신동    | 11 |\n| 호성동    |  9 |\n| 효자1동   | 14 |\n| 효자2동   |  6 |\n| 효자3동   |  9 |\n| 효자4동   | 36 |\n| 효자5동   | 60 |\n\n",
            "text/html": [
              "<table class=\"dataframe\">\n",
              "<caption>A data.frame: 35 × 2</caption>\n",
              "<thead>\n",
              "\t<tr><th scope=col>행정동</th><th scope=col>편의점수</th></tr>\n",
              "\t<tr><th scope=col>&lt;chr&gt;</th><th scope=col>&lt;int&gt;</th></tr>\n",
              "</thead>\n",
              "<tbody>\n",
              "\t<tr><td>금암1동  </td><td>25</td></tr>\n",
              "\t<tr><td>금암2동  </td><td> 8</td></tr>\n",
              "\t<tr><td>노송동   </td><td> 5</td></tr>\n",
              "\t<tr><td>덕진동   </td><td>29</td></tr>\n",
              "\t<tr><td>동서학동 </td><td> 6</td></tr>\n",
              "\t<tr><td>삼천1동  </td><td>14</td></tr>\n",
              "\t<tr><td>삼천2동  </td><td> 9</td></tr>\n",
              "\t<tr><td>삼천3동  </td><td>13</td></tr>\n",
              "\t<tr><td>서서학동 </td><td>14</td></tr>\n",
              "\t<tr><td>서신동   </td><td>31</td></tr>\n",
              "\t<tr><td>송천1동  </td><td>30</td></tr>\n",
              "\t<tr><td>송천2동  </td><td>14</td></tr>\n",
              "\t<tr><td>여의동   </td><td>22</td></tr>\n",
              "\t<tr><td>완산동   </td><td>14</td></tr>\n",
              "\t<tr><td>우아1동  </td><td>14</td></tr>\n",
              "\t<tr><td>우아2동  </td><td>36</td></tr>\n",
              "\t<tr><td>인후1동  </td><td> 8</td></tr>\n",
              "\t<tr><td>인후2동  </td><td> 7</td></tr>\n",
              "\t<tr><td>인후3동  </td><td>30</td></tr>\n",
              "\t<tr><td>조촌동   </td><td> 7</td></tr>\n",
              "\t<tr><td>중앙동   </td><td>17</td></tr>\n",
              "\t<tr><td>중화산1동</td><td>19</td></tr>\n",
              "\t<tr><td>중화산2동</td><td>20</td></tr>\n",
              "\t<tr><td>진북동   </td><td> 8</td></tr>\n",
              "\t<tr><td>팔복동   </td><td>10</td></tr>\n",
              "\t<tr><td>평화1동  </td><td> 8</td></tr>\n",
              "\t<tr><td>평화2동  </td><td>21</td></tr>\n",
              "\t<tr><td>풍남동   </td><td>16</td></tr>\n",
              "\t<tr><td>혁신동   </td><td>11</td></tr>\n",
              "\t<tr><td>호성동   </td><td> 9</td></tr>\n",
              "\t<tr><td>효자1동  </td><td>14</td></tr>\n",
              "\t<tr><td>효자2동  </td><td> 6</td></tr>\n",
              "\t<tr><td>효자3동  </td><td> 9</td></tr>\n",
              "\t<tr><td>효자4동  </td><td>36</td></tr>\n",
              "\t<tr><td>효자5동  </td><td>60</td></tr>\n",
              "</tbody>\n",
              "</table>\n"
            ]
          },
          "metadata": {
            "tags": []
          }
        }
      ]
    },
    {
      "cell_type": "markdown",
      "metadata": {
        "id": "SYiWzCpuEEDQ"
      },
      "source": [
        "## 대학교 수"
      ]
    },
    {
      "cell_type": "code",
      "metadata": {
        "colab": {
          "base_uri": "https://localhost:8080/"
        },
        "id": "DzR9HepA_oy9",
        "outputId": "f90d2485-183e-4cab-ab02-4fc3d5e7f171"
      },
      "source": [
        "str(univ)\n",
        "head(univ)"
      ],
      "execution_count": null,
      "outputs": [
        {
          "output_type": "stream",
          "text": [
            "'data.frame':\t7 obs. of  3 variables:\n",
            " $ 대학교: chr  \"전북대학교 전주캠퍼스\" \"전주교육대학교\" \"예수대학교\" \"전주대학교\" ...\n",
            " $ 위치  : chr  \"전라북도 전주시 덕진구 백제대로 567\" \"전라북도 전주시 완산구 서학로 50 \" \"전라북도 전주시 완산구 서원로 383 \" \"전라북도 전주시 완산구 천잠로 303\" ...\n",
            " $ 행정동: chr  \"덕진동\" \"동서학동\" \"중화산1동\" \"효자4동\" ...\n"
          ],
          "name": "stdout"
        },
        {
          "output_type": "display_data",
          "data": {
            "text/plain": [
              "  대학교                위치                                  행정동   \n",
              "1 전북대학교 전주캠퍼스 전라북도 전주시 덕진구 백제대로 567   덕진동   \n",
              "2 전주교육대학교        전라북도 전주시 완산구 서학로 50      동서학동 \n",
              "3 예수대학교            전라북도 전주시 완산구 서원로 383     중화산1동\n",
              "4 전주대학교            전라북도 전주시 완산구 천잠로 303     효자4동  \n",
              "5 전주기전대학          전라북도 전주시 완산구 전주천서로 267 중화산1동\n",
              "6 전주비전대학교        전라북도 전주시 완산구 천잠로 235     효자4동  "
            ],
            "text/latex": "A data.frame: 6 × 3\n\\begin{tabular}{r|lll}\n  & 대학교 & 위치 & 행정동\\\\\n  & <chr> & <chr> & <chr>\\\\\n\\hline\n\t1 & 전북대학교 전주캠퍼스 & 전라북도 전주시 덕진구 백제대로 567   & 덕진동   \\\\\n\t2 & 전주교육대학교        & 전라북도 전주시 완산구 서학로 50      & 동서학동 \\\\\n\t3 & 예수대학교            & 전라북도 전주시 완산구 서원로 383     & 중화산1동\\\\\n\t4 & 전주대학교            & 전라북도 전주시 완산구 천잠로 303     & 효자4동  \\\\\n\t5 & 전주기전대학          & 전라북도 전주시 완산구 전주천서로 267 & 중화산1동\\\\\n\t6 & 전주비전대학교        & 전라북도 전주시 완산구 천잠로 235     & 효자4동  \\\\\n\\end{tabular}\n",
            "text/markdown": "\nA data.frame: 6 × 3\n\n| <!--/--> | 대학교 &lt;chr&gt; | 위치 &lt;chr&gt; | 행정동 &lt;chr&gt; |\n|---|---|---|---|\n| 1 | 전북대학교 전주캠퍼스 | 전라북도 전주시 덕진구 백제대로 567   | 덕진동    |\n| 2 | 전주교육대학교        | 전라북도 전주시 완산구 서학로 50      | 동서학동  |\n| 3 | 예수대학교            | 전라북도 전주시 완산구 서원로 383     | 중화산1동 |\n| 4 | 전주대학교            | 전라북도 전주시 완산구 천잠로 303     | 효자4동   |\n| 5 | 전주기전대학          | 전라북도 전주시 완산구 전주천서로 267 | 중화산1동 |\n| 6 | 전주비전대학교        | 전라북도 전주시 완산구 천잠로 235     | 효자4동   |\n\n",
            "text/html": [
              "<table class=\"dataframe\">\n",
              "<caption>A data.frame: 6 × 3</caption>\n",
              "<thead>\n",
              "\t<tr><th></th><th scope=col>대학교</th><th scope=col>위치</th><th scope=col>행정동</th></tr>\n",
              "\t<tr><th></th><th scope=col>&lt;chr&gt;</th><th scope=col>&lt;chr&gt;</th><th scope=col>&lt;chr&gt;</th></tr>\n",
              "</thead>\n",
              "<tbody>\n",
              "\t<tr><th scope=row>1</th><td>전북대학교 전주캠퍼스</td><td>전라북도 전주시 덕진구 백제대로 567  </td><td>덕진동   </td></tr>\n",
              "\t<tr><th scope=row>2</th><td>전주교육대학교       </td><td>전라북도 전주시 완산구 서학로 50     </td><td>동서학동 </td></tr>\n",
              "\t<tr><th scope=row>3</th><td>예수대학교           </td><td>전라북도 전주시 완산구 서원로 383    </td><td>중화산1동</td></tr>\n",
              "\t<tr><th scope=row>4</th><td>전주대학교           </td><td>전라북도 전주시 완산구 천잠로 303    </td><td>효자4동  </td></tr>\n",
              "\t<tr><th scope=row>5</th><td>전주기전대학         </td><td>전라북도 전주시 완산구 전주천서로 267</td><td>중화산1동</td></tr>\n",
              "\t<tr><th scope=row>6</th><td>전주비전대학교       </td><td>전라북도 전주시 완산구 천잠로 235    </td><td>효자4동  </td></tr>\n",
              "</tbody>\n",
              "</table>\n"
            ]
          },
          "metadata": {
            "tags": []
          }
        }
      ]
    },
    {
      "cell_type": "code",
      "metadata": {
        "colab": {
          "base_uri": "https://localhost:8080/"
        },
        "id": "N9qDQHei_tm1",
        "outputId": "64364421-5a35-40fe-9be7-f30b454cbbc4"
      },
      "source": [
        "univ <- univ[,c(1,3)]\n",
        "univ$count <- rep(1,nrow(univ))\n",
        "univ"
      ],
      "execution_count": null,
      "outputs": [
        {
          "output_type": "display_data",
          "data": {
            "text/plain": [
              "  대학교                행정동    count\n",
              "1 전북대학교 전주캠퍼스 덕진동    1    \n",
              "2 전주교육대학교        동서학동  1    \n",
              "3 예수대학교            중화산1동 1    \n",
              "4 전주대학교            효자4동   1    \n",
              "5 전주기전대학          중화산1동 1    \n",
              "6 전주비전대학교        효자4동   1    \n",
              "7 한국농수산대학        효자5동   1    "
            ],
            "text/latex": "A data.frame: 7 × 3\n\\begin{tabular}{lll}\n 대학교 & 행정동 & count\\\\\n <chr> & <chr> & <dbl>\\\\\n\\hline\n\t 전북대학교 전주캠퍼스 & 덕진동    & 1\\\\\n\t 전주교육대학교        & 동서학동  & 1\\\\\n\t 예수대학교            & 중화산1동 & 1\\\\\n\t 전주대학교            & 효자4동   & 1\\\\\n\t 전주기전대학          & 중화산1동 & 1\\\\\n\t 전주비전대학교        & 효자4동   & 1\\\\\n\t 한국농수산대학        & 효자5동   & 1\\\\\n\\end{tabular}\n",
            "text/markdown": "\nA data.frame: 7 × 3\n\n| 대학교 &lt;chr&gt; | 행정동 &lt;chr&gt; | count &lt;dbl&gt; |\n|---|---|---|\n| 전북대학교 전주캠퍼스 | 덕진동    | 1 |\n| 전주교육대학교        | 동서학동  | 1 |\n| 예수대학교            | 중화산1동 | 1 |\n| 전주대학교            | 효자4동   | 1 |\n| 전주기전대학          | 중화산1동 | 1 |\n| 전주비전대학교        | 효자4동   | 1 |\n| 한국농수산대학        | 효자5동   | 1 |\n\n",
            "text/html": [
              "<table class=\"dataframe\">\n",
              "<caption>A data.frame: 7 × 3</caption>\n",
              "<thead>\n",
              "\t<tr><th scope=col>대학교</th><th scope=col>행정동</th><th scope=col>count</th></tr>\n",
              "\t<tr><th scope=col>&lt;chr&gt;</th><th scope=col>&lt;chr&gt;</th><th scope=col>&lt;dbl&gt;</th></tr>\n",
              "</thead>\n",
              "<tbody>\n",
              "\t<tr><td>전북대학교 전주캠퍼스</td><td>덕진동   </td><td>1</td></tr>\n",
              "\t<tr><td>전주교육대학교       </td><td>동서학동 </td><td>1</td></tr>\n",
              "\t<tr><td>예수대학교           </td><td>중화산1동</td><td>1</td></tr>\n",
              "\t<tr><td>전주대학교           </td><td>효자4동  </td><td>1</td></tr>\n",
              "\t<tr><td>전주기전대학         </td><td>중화산1동</td><td>1</td></tr>\n",
              "\t<tr><td>전주비전대학교       </td><td>효자4동  </td><td>1</td></tr>\n",
              "\t<tr><td>한국농수산대학       </td><td>효자5동  </td><td>1</td></tr>\n",
              "</tbody>\n",
              "</table>\n"
            ]
          },
          "metadata": {
            "tags": []
          }
        }
      ]
    },
    {
      "cell_type": "code",
      "metadata": {
        "colab": {
          "base_uri": "https://localhost:8080/"
        },
        "id": "EnuHjOb6_wCZ",
        "outputId": "e53b159e-40d4-418f-879b-4e4ed484d97c"
      },
      "source": [
        "univ <- univ %>% group_by(행정동) %>% summarise(대학교수 = sum(count))\n",
        "univ <- as.data.frame(univ)\n",
        "univ <- arrange(univ, univ$행정동)\n",
        "univ"
      ],
      "execution_count": null,
      "outputs": [
        {
          "output_type": "display_data",
          "data": {
            "text/plain": [
              "  행정동    대학교수\n",
              "1 덕진동    1       \n",
              "2 동서학동  1       \n",
              "3 중화산1동 2       \n",
              "4 효자4동   2       \n",
              "5 효자5동   1       "
            ],
            "text/latex": "A data.frame: 5 × 2\n\\begin{tabular}{ll}\n 행정동 & 대학교수\\\\\n <chr> & <dbl>\\\\\n\\hline\n\t 덕진동    & 1\\\\\n\t 동서학동  & 1\\\\\n\t 중화산1동 & 2\\\\\n\t 효자4동   & 2\\\\\n\t 효자5동   & 1\\\\\n\\end{tabular}\n",
            "text/markdown": "\nA data.frame: 5 × 2\n\n| 행정동 &lt;chr&gt; | 대학교수 &lt;dbl&gt; |\n|---|---|\n| 덕진동    | 1 |\n| 동서학동  | 1 |\n| 중화산1동 | 2 |\n| 효자4동   | 2 |\n| 효자5동   | 1 |\n\n",
            "text/html": [
              "<table class=\"dataframe\">\n",
              "<caption>A data.frame: 5 × 2</caption>\n",
              "<thead>\n",
              "\t<tr><th scope=col>행정동</th><th scope=col>대학교수</th></tr>\n",
              "\t<tr><th scope=col>&lt;chr&gt;</th><th scope=col>&lt;dbl&gt;</th></tr>\n",
              "</thead>\n",
              "<tbody>\n",
              "\t<tr><td>덕진동   </td><td>1</td></tr>\n",
              "\t<tr><td>동서학동 </td><td>1</td></tr>\n",
              "\t<tr><td>중화산1동</td><td>2</td></tr>\n",
              "\t<tr><td>효자4동  </td><td>2</td></tr>\n",
              "\t<tr><td>효자5동  </td><td>1</td></tr>\n",
              "</tbody>\n",
              "</table>\n"
            ]
          },
          "metadata": {
            "tags": []
          }
        }
      ]
    },
    {
      "cell_type": "code",
      "metadata": {
        "colab": {
          "base_uri": "https://localhost:8080/"
        },
        "id": "xSwF8sD7_yP5",
        "outputId": "669f3e92-bf27-4f4f-ab9d-ded11f2153f7"
      },
      "source": [
        "table(univ$행정동 %in% jjdong)\n",
        "table(jjdong %in% univ$행정동)\n",
        "\n",
        "jjdong[jjdong %in% univ$행정동 == FALSE] #univ에는 없는 jjdong의 행정동"
      ],
      "execution_count": null,
      "outputs": [
        {
          "output_type": "display_data",
          "data": {
            "text/plain": [
              "\n",
              "TRUE \n",
              "   5 "
            ]
          },
          "metadata": {
            "tags": []
          }
        },
        {
          "output_type": "display_data",
          "data": {
            "text/plain": [
              "\n",
              "FALSE  TRUE \n",
              "   30     5 "
            ]
          },
          "metadata": {
            "tags": []
          }
        },
        {
          "output_type": "display_data",
          "data": {
            "text/plain": [
              " [1] \"금암1동\"   \"금암2동\"   \"노송동\"    \"삼천1동\"   \"삼천2동\"   \"삼천3동\"  \n",
              " [7] \"서서학동\"  \"서신동\"    \"송천1동\"   \"송천2동\"   \"여의동\"    \"완산동\"   \n",
              "[13] \"우아1동\"   \"우아2동\"   \"인후1동\"   \"인후2동\"   \"인후3동\"   \"조촌동\"   \n",
              "[19] \"중앙동\"    \"중화산2동\" \"진북동\"    \"팔복동\"    \"평화1동\"   \"평화2동\"  \n",
              "[25] \"풍남동\"    \"혁신동\"    \"호성동\"    \"효자1동\"   \"효자2동\"   \"효자3동\"  "
            ],
            "text/latex": "\\begin{enumerate*}\n\\item '금암1동'\n\\item '금암2동'\n\\item '노송동'\n\\item '삼천1동'\n\\item '삼천2동'\n\\item '삼천3동'\n\\item '서서학동'\n\\item '서신동'\n\\item '송천1동'\n\\item '송천2동'\n\\item '여의동'\n\\item '완산동'\n\\item '우아1동'\n\\item '우아2동'\n\\item '인후1동'\n\\item '인후2동'\n\\item '인후3동'\n\\item '조촌동'\n\\item '중앙동'\n\\item '중화산2동'\n\\item '진북동'\n\\item '팔복동'\n\\item '평화1동'\n\\item '평화2동'\n\\item '풍남동'\n\\item '혁신동'\n\\item '호성동'\n\\item '효자1동'\n\\item '효자2동'\n\\item '효자3동'\n\\end{enumerate*}\n",
            "text/markdown": "1. '금암1동'\n2. '금암2동'\n3. '노송동'\n4. '삼천1동'\n5. '삼천2동'\n6. '삼천3동'\n7. '서서학동'\n8. '서신동'\n9. '송천1동'\n10. '송천2동'\n11. '여의동'\n12. '완산동'\n13. '우아1동'\n14. '우아2동'\n15. '인후1동'\n16. '인후2동'\n17. '인후3동'\n18. '조촌동'\n19. '중앙동'\n20. '중화산2동'\n21. '진북동'\n22. '팔복동'\n23. '평화1동'\n24. '평화2동'\n25. '풍남동'\n26. '혁신동'\n27. '호성동'\n28. '효자1동'\n29. '효자2동'\n30. '효자3동'\n\n\n",
            "text/html": [
              "<style>\n",
              ".list-inline {list-style: none; margin:0; padding: 0}\n",
              ".list-inline>li {display: inline-block}\n",
              ".list-inline>li:not(:last-child)::after {content: \"\\00b7\"; padding: 0 .5ex}\n",
              "</style>\n",
              "<ol class=list-inline><li>'금암1동'</li><li>'금암2동'</li><li>'노송동'</li><li>'삼천1동'</li><li>'삼천2동'</li><li>'삼천3동'</li><li>'서서학동'</li><li>'서신동'</li><li>'송천1동'</li><li>'송천2동'</li><li>'여의동'</li><li>'완산동'</li><li>'우아1동'</li><li>'우아2동'</li><li>'인후1동'</li><li>'인후2동'</li><li>'인후3동'</li><li>'조촌동'</li><li>'중앙동'</li><li>'중화산2동'</li><li>'진북동'</li><li>'팔복동'</li><li>'평화1동'</li><li>'평화2동'</li><li>'풍남동'</li><li>'혁신동'</li><li>'호성동'</li><li>'효자1동'</li><li>'효자2동'</li><li>'효자3동'</li></ol>\n"
            ]
          },
          "metadata": {
            "tags": []
          }
        }
      ]
    },
    {
      "cell_type": "code",
      "metadata": {
        "colab": {
          "base_uri": "https://localhost:8080/"
        },
        "id": "SmI76TkK_1QQ",
        "outputId": "9ad4da86-4f14-4080-b4b3-ab9af6081d7c"
      },
      "source": [
        "add <- data.frame(행정동 = jjdong[jjdong %in% univ$행정동 == FALSE], \n",
        "                  대학교수 = rep(0, length(jjdong[jjdong %in% univ$행정동 == FALSE])))\n",
        "univ <- rbind(univ, add)\n",
        "univ <- arrange(univ, univ$행정동)\n",
        "univ"
      ],
      "execution_count": null,
      "outputs": [
        {
          "output_type": "display_data",
          "data": {
            "text/plain": [
              "   행정동    대학교수\n",
              "1  금암1동   0       \n",
              "2  금암2동   0       \n",
              "3  노송동    0       \n",
              "4  덕진동    1       \n",
              "5  동서학동  1       \n",
              "6  삼천1동   0       \n",
              "7  삼천2동   0       \n",
              "8  삼천3동   0       \n",
              "9  서서학동  0       \n",
              "10 서신동    0       \n",
              "11 송천1동   0       \n",
              "12 송천2동   0       \n",
              "13 여의동    0       \n",
              "14 완산동    0       \n",
              "15 우아1동   0       \n",
              "16 우아2동   0       \n",
              "17 인후1동   0       \n",
              "18 인후2동   0       \n",
              "19 인후3동   0       \n",
              "20 조촌동    0       \n",
              "21 중앙동    0       \n",
              "22 중화산1동 2       \n",
              "23 중화산2동 0       \n",
              "24 진북동    0       \n",
              "25 팔복동    0       \n",
              "26 평화1동   0       \n",
              "27 평화2동   0       \n",
              "28 풍남동    0       \n",
              "29 혁신동    0       \n",
              "30 호성동    0       \n",
              "31 효자1동   0       \n",
              "32 효자2동   0       \n",
              "33 효자3동   0       \n",
              "34 효자4동   2       \n",
              "35 효자5동   1       "
            ],
            "text/latex": "A data.frame: 35 × 2\n\\begin{tabular}{ll}\n 행정동 & 대학교수\\\\\n <chr> & <dbl>\\\\\n\\hline\n\t 금암1동   & 0\\\\\n\t 금암2동   & 0\\\\\n\t 노송동    & 0\\\\\n\t 덕진동    & 1\\\\\n\t 동서학동  & 1\\\\\n\t 삼천1동   & 0\\\\\n\t 삼천2동   & 0\\\\\n\t 삼천3동   & 0\\\\\n\t 서서학동  & 0\\\\\n\t 서신동    & 0\\\\\n\t 송천1동   & 0\\\\\n\t 송천2동   & 0\\\\\n\t 여의동    & 0\\\\\n\t 완산동    & 0\\\\\n\t 우아1동   & 0\\\\\n\t 우아2동   & 0\\\\\n\t 인후1동   & 0\\\\\n\t 인후2동   & 0\\\\\n\t 인후3동   & 0\\\\\n\t 조촌동    & 0\\\\\n\t 중앙동    & 0\\\\\n\t 중화산1동 & 2\\\\\n\t 중화산2동 & 0\\\\\n\t 진북동    & 0\\\\\n\t 팔복동    & 0\\\\\n\t 평화1동   & 0\\\\\n\t 평화2동   & 0\\\\\n\t 풍남동    & 0\\\\\n\t 혁신동    & 0\\\\\n\t 호성동    & 0\\\\\n\t 효자1동   & 0\\\\\n\t 효자2동   & 0\\\\\n\t 효자3동   & 0\\\\\n\t 효자4동   & 2\\\\\n\t 효자5동   & 1\\\\\n\\end{tabular}\n",
            "text/markdown": "\nA data.frame: 35 × 2\n\n| 행정동 &lt;chr&gt; | 대학교수 &lt;dbl&gt; |\n|---|---|\n| 금암1동   | 0 |\n| 금암2동   | 0 |\n| 노송동    | 0 |\n| 덕진동    | 1 |\n| 동서학동  | 1 |\n| 삼천1동   | 0 |\n| 삼천2동   | 0 |\n| 삼천3동   | 0 |\n| 서서학동  | 0 |\n| 서신동    | 0 |\n| 송천1동   | 0 |\n| 송천2동   | 0 |\n| 여의동    | 0 |\n| 완산동    | 0 |\n| 우아1동   | 0 |\n| 우아2동   | 0 |\n| 인후1동   | 0 |\n| 인후2동   | 0 |\n| 인후3동   | 0 |\n| 조촌동    | 0 |\n| 중앙동    | 0 |\n| 중화산1동 | 2 |\n| 중화산2동 | 0 |\n| 진북동    | 0 |\n| 팔복동    | 0 |\n| 평화1동   | 0 |\n| 평화2동   | 0 |\n| 풍남동    | 0 |\n| 혁신동    | 0 |\n| 호성동    | 0 |\n| 효자1동   | 0 |\n| 효자2동   | 0 |\n| 효자3동   | 0 |\n| 효자4동   | 2 |\n| 효자5동   | 1 |\n\n",
            "text/html": [
              "<table class=\"dataframe\">\n",
              "<caption>A data.frame: 35 × 2</caption>\n",
              "<thead>\n",
              "\t<tr><th scope=col>행정동</th><th scope=col>대학교수</th></tr>\n",
              "\t<tr><th scope=col>&lt;chr&gt;</th><th scope=col>&lt;dbl&gt;</th></tr>\n",
              "</thead>\n",
              "<tbody>\n",
              "\t<tr><td>금암1동  </td><td>0</td></tr>\n",
              "\t<tr><td>금암2동  </td><td>0</td></tr>\n",
              "\t<tr><td>노송동   </td><td>0</td></tr>\n",
              "\t<tr><td>덕진동   </td><td>1</td></tr>\n",
              "\t<tr><td>동서학동 </td><td>1</td></tr>\n",
              "\t<tr><td>삼천1동  </td><td>0</td></tr>\n",
              "\t<tr><td>삼천2동  </td><td>0</td></tr>\n",
              "\t<tr><td>삼천3동  </td><td>0</td></tr>\n",
              "\t<tr><td>서서학동 </td><td>0</td></tr>\n",
              "\t<tr><td>서신동   </td><td>0</td></tr>\n",
              "\t<tr><td>송천1동  </td><td>0</td></tr>\n",
              "\t<tr><td>송천2동  </td><td>0</td></tr>\n",
              "\t<tr><td>여의동   </td><td>0</td></tr>\n",
              "\t<tr><td>완산동   </td><td>0</td></tr>\n",
              "\t<tr><td>우아1동  </td><td>0</td></tr>\n",
              "\t<tr><td>우아2동  </td><td>0</td></tr>\n",
              "\t<tr><td>인후1동  </td><td>0</td></tr>\n",
              "\t<tr><td>인후2동  </td><td>0</td></tr>\n",
              "\t<tr><td>인후3동  </td><td>0</td></tr>\n",
              "\t<tr><td>조촌동   </td><td>0</td></tr>\n",
              "\t<tr><td>중앙동   </td><td>0</td></tr>\n",
              "\t<tr><td>중화산1동</td><td>2</td></tr>\n",
              "\t<tr><td>중화산2동</td><td>0</td></tr>\n",
              "\t<tr><td>진북동   </td><td>0</td></tr>\n",
              "\t<tr><td>팔복동   </td><td>0</td></tr>\n",
              "\t<tr><td>평화1동  </td><td>0</td></tr>\n",
              "\t<tr><td>평화2동  </td><td>0</td></tr>\n",
              "\t<tr><td>풍남동   </td><td>0</td></tr>\n",
              "\t<tr><td>혁신동   </td><td>0</td></tr>\n",
              "\t<tr><td>호성동   </td><td>0</td></tr>\n",
              "\t<tr><td>효자1동  </td><td>0</td></tr>\n",
              "\t<tr><td>효자2동  </td><td>0</td></tr>\n",
              "\t<tr><td>효자3동  </td><td>0</td></tr>\n",
              "\t<tr><td>효자4동  </td><td>2</td></tr>\n",
              "\t<tr><td>효자5동  </td><td>1</td></tr>\n",
              "</tbody>\n",
              "</table>\n"
            ]
          },
          "metadata": {
            "tags": []
          }
        }
      ]
    },
    {
      "cell_type": "markdown",
      "metadata": {
        "id": "vkuB4nU3EHLK"
      },
      "source": [
        "## 면적"
      ]
    },
    {
      "cell_type": "code",
      "metadata": {
        "colab": {
          "base_uri": "https://localhost:8080/"
        },
        "id": "3ssrlc5m_3oQ",
        "outputId": "bc448c97-0830-4c26-d288-4549887ca69d"
      },
      "source": [
        "str(region)\n",
        "head(region)"
      ],
      "execution_count": null,
      "outputs": [
        {
          "output_type": "stream",
          "text": [
            "'data.frame':\t35 obs. of  3 variables:\n",
            " $ 구       : chr  \"덕진구\" \"덕진구\" \"덕진구\" \"덕진구\" ...\n",
            " $ 동       : chr  \"진북동\" \"인후1동\" \"인후2동\" \"인후3동\" ...\n",
            " $ 면적.km..: num  1.71 1.29 1.32 1.68 4.78 ...\n"
          ],
          "name": "stdout"
        },
        {
          "output_type": "display_data",
          "data": {
            "text/plain": [
              "  구     동      면적.km..\n",
              "1 덕진구 진북동  1.71     \n",
              "2 덕진구 인후1동 1.29     \n",
              "3 덕진구 인후2동 1.32     \n",
              "4 덕진구 인후3동 1.68     \n",
              "5 덕진구 덕진동  4.78     \n",
              "6 덕진구 금암1동 1.25     "
            ],
            "text/latex": "A data.frame: 6 × 3\n\\begin{tabular}{r|lll}\n  & 구 & 동 & 면적.km..\\\\\n  & <chr> & <chr> & <dbl>\\\\\n\\hline\n\t1 & 덕진구 & 진북동  & 1.71\\\\\n\t2 & 덕진구 & 인후1동 & 1.29\\\\\n\t3 & 덕진구 & 인후2동 & 1.32\\\\\n\t4 & 덕진구 & 인후3동 & 1.68\\\\\n\t5 & 덕진구 & 덕진동  & 4.78\\\\\n\t6 & 덕진구 & 금암1동 & 1.25\\\\\n\\end{tabular}\n",
            "text/markdown": "\nA data.frame: 6 × 3\n\n| <!--/--> | 구 &lt;chr&gt; | 동 &lt;chr&gt; | 면적.km.. &lt;dbl&gt; |\n|---|---|---|---|\n| 1 | 덕진구 | 진북동  | 1.71 |\n| 2 | 덕진구 | 인후1동 | 1.29 |\n| 3 | 덕진구 | 인후2동 | 1.32 |\n| 4 | 덕진구 | 인후3동 | 1.68 |\n| 5 | 덕진구 | 덕진동  | 4.78 |\n| 6 | 덕진구 | 금암1동 | 1.25 |\n\n",
            "text/html": [
              "<table class=\"dataframe\">\n",
              "<caption>A data.frame: 6 × 3</caption>\n",
              "<thead>\n",
              "\t<tr><th></th><th scope=col>구</th><th scope=col>동</th><th scope=col>면적.km..</th></tr>\n",
              "\t<tr><th></th><th scope=col>&lt;chr&gt;</th><th scope=col>&lt;chr&gt;</th><th scope=col>&lt;dbl&gt;</th></tr>\n",
              "</thead>\n",
              "<tbody>\n",
              "\t<tr><th scope=row>1</th><td>덕진구</td><td>진북동 </td><td>1.71</td></tr>\n",
              "\t<tr><th scope=row>2</th><td>덕진구</td><td>인후1동</td><td>1.29</td></tr>\n",
              "\t<tr><th scope=row>3</th><td>덕진구</td><td>인후2동</td><td>1.32</td></tr>\n",
              "\t<tr><th scope=row>4</th><td>덕진구</td><td>인후3동</td><td>1.68</td></tr>\n",
              "\t<tr><th scope=row>5</th><td>덕진구</td><td>덕진동 </td><td>4.78</td></tr>\n",
              "\t<tr><th scope=row>6</th><td>덕진구</td><td>금암1동</td><td>1.25</td></tr>\n",
              "</tbody>\n",
              "</table>\n"
            ]
          },
          "metadata": {
            "tags": []
          }
        }
      ]
    },
    {
      "cell_type": "code",
      "metadata": {
        "colab": {
          "base_uri": "https://localhost:8080/"
        },
        "id": "OmsaAD-9_6Km",
        "outputId": "1a635fa5-a35e-4a4a-ddb1-f86077e3877c"
      },
      "source": [
        "region <- region[,c(2,3)]\n",
        "names(region) <- c(\"행정동\", \"면적.km\")\n",
        "region <- arrange(region, region$행정동)\n",
        "region"
      ],
      "execution_count": null,
      "outputs": [
        {
          "output_type": "display_data",
          "data": {
            "text/plain": [
              "   행정동    면적.km\n",
              "1  금암1동    1.25  \n",
              "2  금암2동    1.25  \n",
              "3  노송동     2.09  \n",
              "4  덕진동     4.78  \n",
              "5  동서학동  15.64  \n",
              "6  삼천1동    1.27  \n",
              "7  삼천2동    0.95  \n",
              "8  삼천3동   26.60  \n",
              "9  서서학동   2.97  \n",
              "10 서신동     2.39  \n",
              "11 송천1동    4.79  \n",
              "12 송천2동   12.14  \n",
              "13 여의동    15.71  \n",
              "14 완산동     0.99  \n",
              "15 우아1동    1.44  \n",
              "16 우아2동   22.91  \n",
              "17 인후1동    1.29  \n",
              "18 인후2동    1.32  \n",
              "19 인후3동    1.68  \n",
              "20 조촌동    24.28  \n",
              "21 중앙동     1.35  \n",
              "22 중화산1동  1.22  \n",
              "23 중화산2동  1.72  \n",
              "24 진북동     1.71  \n",
              "25 팔복동     7.38  \n",
              "26 평화1동    1.49  \n",
              "27 평화2동   15.23  \n",
              "28 풍남동     2.05  \n",
              "29 혁신동     3.37  \n",
              "30 호성동     7.64  \n",
              "31 효자1동    1.02  \n",
              "32 효자2동    0.84  \n",
              "33 효자3동    0.79  \n",
              "34 효자4동    7.71  \n",
              "35 효자5동    6.27  "
            ],
            "text/latex": "A data.frame: 35 × 2\n\\begin{tabular}{ll}\n 행정동 & 면적.km\\\\\n <chr> & <dbl>\\\\\n\\hline\n\t 금암1동   &  1.25\\\\\n\t 금암2동   &  1.25\\\\\n\t 노송동    &  2.09\\\\\n\t 덕진동    &  4.78\\\\\n\t 동서학동  & 15.64\\\\\n\t 삼천1동   &  1.27\\\\\n\t 삼천2동   &  0.95\\\\\n\t 삼천3동   & 26.60\\\\\n\t 서서학동  &  2.97\\\\\n\t 서신동    &  2.39\\\\\n\t 송천1동   &  4.79\\\\\n\t 송천2동   & 12.14\\\\\n\t 여의동    & 15.71\\\\\n\t 완산동    &  0.99\\\\\n\t 우아1동   &  1.44\\\\\n\t 우아2동   & 22.91\\\\\n\t 인후1동   &  1.29\\\\\n\t 인후2동   &  1.32\\\\\n\t 인후3동   &  1.68\\\\\n\t 조촌동    & 24.28\\\\\n\t 중앙동    &  1.35\\\\\n\t 중화산1동 &  1.22\\\\\n\t 중화산2동 &  1.72\\\\\n\t 진북동    &  1.71\\\\\n\t 팔복동    &  7.38\\\\\n\t 평화1동   &  1.49\\\\\n\t 평화2동   & 15.23\\\\\n\t 풍남동    &  2.05\\\\\n\t 혁신동    &  3.37\\\\\n\t 호성동    &  7.64\\\\\n\t 효자1동   &  1.02\\\\\n\t 효자2동   &  0.84\\\\\n\t 효자3동   &  0.79\\\\\n\t 효자4동   &  7.71\\\\\n\t 효자5동   &  6.27\\\\\n\\end{tabular}\n",
            "text/markdown": "\nA data.frame: 35 × 2\n\n| 행정동 &lt;chr&gt; | 면적.km &lt;dbl&gt; |\n|---|---|\n| 금암1동   |  1.25 |\n| 금암2동   |  1.25 |\n| 노송동    |  2.09 |\n| 덕진동    |  4.78 |\n| 동서학동  | 15.64 |\n| 삼천1동   |  1.27 |\n| 삼천2동   |  0.95 |\n| 삼천3동   | 26.60 |\n| 서서학동  |  2.97 |\n| 서신동    |  2.39 |\n| 송천1동   |  4.79 |\n| 송천2동   | 12.14 |\n| 여의동    | 15.71 |\n| 완산동    |  0.99 |\n| 우아1동   |  1.44 |\n| 우아2동   | 22.91 |\n| 인후1동   |  1.29 |\n| 인후2동   |  1.32 |\n| 인후3동   |  1.68 |\n| 조촌동    | 24.28 |\n| 중앙동    |  1.35 |\n| 중화산1동 |  1.22 |\n| 중화산2동 |  1.72 |\n| 진북동    |  1.71 |\n| 팔복동    |  7.38 |\n| 평화1동   |  1.49 |\n| 평화2동   | 15.23 |\n| 풍남동    |  2.05 |\n| 혁신동    |  3.37 |\n| 호성동    |  7.64 |\n| 효자1동   |  1.02 |\n| 효자2동   |  0.84 |\n| 효자3동   |  0.79 |\n| 효자4동   |  7.71 |\n| 효자5동   |  6.27 |\n\n",
            "text/html": [
              "<table class=\"dataframe\">\n",
              "<caption>A data.frame: 35 × 2</caption>\n",
              "<thead>\n",
              "\t<tr><th scope=col>행정동</th><th scope=col>면적.km</th></tr>\n",
              "\t<tr><th scope=col>&lt;chr&gt;</th><th scope=col>&lt;dbl&gt;</th></tr>\n",
              "</thead>\n",
              "<tbody>\n",
              "\t<tr><td>금암1동  </td><td> 1.25</td></tr>\n",
              "\t<tr><td>금암2동  </td><td> 1.25</td></tr>\n",
              "\t<tr><td>노송동   </td><td> 2.09</td></tr>\n",
              "\t<tr><td>덕진동   </td><td> 4.78</td></tr>\n",
              "\t<tr><td>동서학동 </td><td>15.64</td></tr>\n",
              "\t<tr><td>삼천1동  </td><td> 1.27</td></tr>\n",
              "\t<tr><td>삼천2동  </td><td> 0.95</td></tr>\n",
              "\t<tr><td>삼천3동  </td><td>26.60</td></tr>\n",
              "\t<tr><td>서서학동 </td><td> 2.97</td></tr>\n",
              "\t<tr><td>서신동   </td><td> 2.39</td></tr>\n",
              "\t<tr><td>송천1동  </td><td> 4.79</td></tr>\n",
              "\t<tr><td>송천2동  </td><td>12.14</td></tr>\n",
              "\t<tr><td>여의동   </td><td>15.71</td></tr>\n",
              "\t<tr><td>완산동   </td><td> 0.99</td></tr>\n",
              "\t<tr><td>우아1동  </td><td> 1.44</td></tr>\n",
              "\t<tr><td>우아2동  </td><td>22.91</td></tr>\n",
              "\t<tr><td>인후1동  </td><td> 1.29</td></tr>\n",
              "\t<tr><td>인후2동  </td><td> 1.32</td></tr>\n",
              "\t<tr><td>인후3동  </td><td> 1.68</td></tr>\n",
              "\t<tr><td>조촌동   </td><td>24.28</td></tr>\n",
              "\t<tr><td>중앙동   </td><td> 1.35</td></tr>\n",
              "\t<tr><td>중화산1동</td><td> 1.22</td></tr>\n",
              "\t<tr><td>중화산2동</td><td> 1.72</td></tr>\n",
              "\t<tr><td>진북동   </td><td> 1.71</td></tr>\n",
              "\t<tr><td>팔복동   </td><td> 7.38</td></tr>\n",
              "\t<tr><td>평화1동  </td><td> 1.49</td></tr>\n",
              "\t<tr><td>평화2동  </td><td>15.23</td></tr>\n",
              "\t<tr><td>풍남동   </td><td> 2.05</td></tr>\n",
              "\t<tr><td>혁신동   </td><td> 3.37</td></tr>\n",
              "\t<tr><td>호성동   </td><td> 7.64</td></tr>\n",
              "\t<tr><td>효자1동  </td><td> 1.02</td></tr>\n",
              "\t<tr><td>효자2동  </td><td> 0.84</td></tr>\n",
              "\t<tr><td>효자3동  </td><td> 0.79</td></tr>\n",
              "\t<tr><td>효자4동  </td><td> 7.71</td></tr>\n",
              "\t<tr><td>효자5동  </td><td> 6.27</td></tr>\n",
              "</tbody>\n",
              "</table>\n"
            ]
          },
          "metadata": {
            "tags": []
          }
        }
      ]
    },
    {
      "cell_type": "code",
      "metadata": {
        "colab": {
          "base_uri": "https://localhost:8080/"
        },
        "id": "NoD4h92z_9fj",
        "outputId": "4b66e2fd-7ec3-4ec3-dadd-14e55a79613b"
      },
      "source": [
        "table(region$행정동 %in% jjdong)\n",
        "table(jjdong %in% region$행정동)\n",
        "\n",
        "region$행정동[region$행정동 %in% jjdong == FALSE] #jjdong에는 없는 region의 행정동 #이름 오류 있는 듯 (송청1동, 품남동)\n",
        "\n",
        "jjdong[jjdong %in% region$행정동 == FALSE] #region에는 없는 jjdong의 행정동\n",
        "\n",
        "region"
      ],
      "execution_count": null,
      "outputs": [
        {
          "output_type": "display_data",
          "data": {
            "text/plain": [
              "\n",
              "TRUE \n",
              "  35 "
            ]
          },
          "metadata": {
            "tags": []
          }
        },
        {
          "output_type": "display_data",
          "data": {
            "text/plain": [
              "\n",
              "TRUE \n",
              "  35 "
            ]
          },
          "metadata": {
            "tags": []
          }
        },
        {
          "output_type": "display_data",
          "data": {
            "text/plain": [
              "character(0)"
            ],
            "text/latex": "",
            "text/markdown": "",
            "text/html": [
              ""
            ]
          },
          "metadata": {
            "tags": []
          }
        },
        {
          "output_type": "display_data",
          "data": {
            "text/plain": [
              "character(0)"
            ],
            "text/latex": "",
            "text/markdown": "",
            "text/html": [
              ""
            ]
          },
          "metadata": {
            "tags": []
          }
        },
        {
          "output_type": "display_data",
          "data": {
            "text/plain": [
              "   행정동    면적.km\n",
              "1  금암1동    1.25  \n",
              "2  금암2동    1.25  \n",
              "3  노송동     2.09  \n",
              "4  덕진동     4.78  \n",
              "5  동서학동  15.64  \n",
              "6  삼천1동    1.27  \n",
              "7  삼천2동    0.95  \n",
              "8  삼천3동   26.60  \n",
              "9  서서학동   2.97  \n",
              "10 서신동     2.39  \n",
              "11 송천1동    4.79  \n",
              "12 송천2동   12.14  \n",
              "13 여의동    15.71  \n",
              "14 완산동     0.99  \n",
              "15 우아1동    1.44  \n",
              "16 우아2동   22.91  \n",
              "17 인후1동    1.29  \n",
              "18 인후2동    1.32  \n",
              "19 인후3동    1.68  \n",
              "20 조촌동    24.28  \n",
              "21 중앙동     1.35  \n",
              "22 중화산1동  1.22  \n",
              "23 중화산2동  1.72  \n",
              "24 진북동     1.71  \n",
              "25 팔복동     7.38  \n",
              "26 평화1동    1.49  \n",
              "27 평화2동   15.23  \n",
              "28 풍남동     2.05  \n",
              "29 혁신동     3.37  \n",
              "30 호성동     7.64  \n",
              "31 효자1동    1.02  \n",
              "32 효자2동    0.84  \n",
              "33 효자3동    0.79  \n",
              "34 효자4동    7.71  \n",
              "35 효자5동    6.27  "
            ],
            "text/latex": "A data.frame: 35 × 2\n\\begin{tabular}{ll}\n 행정동 & 면적.km\\\\\n <chr> & <dbl>\\\\\n\\hline\n\t 금암1동   &  1.25\\\\\n\t 금암2동   &  1.25\\\\\n\t 노송동    &  2.09\\\\\n\t 덕진동    &  4.78\\\\\n\t 동서학동  & 15.64\\\\\n\t 삼천1동   &  1.27\\\\\n\t 삼천2동   &  0.95\\\\\n\t 삼천3동   & 26.60\\\\\n\t 서서학동  &  2.97\\\\\n\t 서신동    &  2.39\\\\\n\t 송천1동   &  4.79\\\\\n\t 송천2동   & 12.14\\\\\n\t 여의동    & 15.71\\\\\n\t 완산동    &  0.99\\\\\n\t 우아1동   &  1.44\\\\\n\t 우아2동   & 22.91\\\\\n\t 인후1동   &  1.29\\\\\n\t 인후2동   &  1.32\\\\\n\t 인후3동   &  1.68\\\\\n\t 조촌동    & 24.28\\\\\n\t 중앙동    &  1.35\\\\\n\t 중화산1동 &  1.22\\\\\n\t 중화산2동 &  1.72\\\\\n\t 진북동    &  1.71\\\\\n\t 팔복동    &  7.38\\\\\n\t 평화1동   &  1.49\\\\\n\t 평화2동   & 15.23\\\\\n\t 풍남동    &  2.05\\\\\n\t 혁신동    &  3.37\\\\\n\t 호성동    &  7.64\\\\\n\t 효자1동   &  1.02\\\\\n\t 효자2동   &  0.84\\\\\n\t 효자3동   &  0.79\\\\\n\t 효자4동   &  7.71\\\\\n\t 효자5동   &  6.27\\\\\n\\end{tabular}\n",
            "text/markdown": "\nA data.frame: 35 × 2\n\n| 행정동 &lt;chr&gt; | 면적.km &lt;dbl&gt; |\n|---|---|\n| 금암1동   |  1.25 |\n| 금암2동   |  1.25 |\n| 노송동    |  2.09 |\n| 덕진동    |  4.78 |\n| 동서학동  | 15.64 |\n| 삼천1동   |  1.27 |\n| 삼천2동   |  0.95 |\n| 삼천3동   | 26.60 |\n| 서서학동  |  2.97 |\n| 서신동    |  2.39 |\n| 송천1동   |  4.79 |\n| 송천2동   | 12.14 |\n| 여의동    | 15.71 |\n| 완산동    |  0.99 |\n| 우아1동   |  1.44 |\n| 우아2동   | 22.91 |\n| 인후1동   |  1.29 |\n| 인후2동   |  1.32 |\n| 인후3동   |  1.68 |\n| 조촌동    | 24.28 |\n| 중앙동    |  1.35 |\n| 중화산1동 |  1.22 |\n| 중화산2동 |  1.72 |\n| 진북동    |  1.71 |\n| 팔복동    |  7.38 |\n| 평화1동   |  1.49 |\n| 평화2동   | 15.23 |\n| 풍남동    |  2.05 |\n| 혁신동    |  3.37 |\n| 호성동    |  7.64 |\n| 효자1동   |  1.02 |\n| 효자2동   |  0.84 |\n| 효자3동   |  0.79 |\n| 효자4동   |  7.71 |\n| 효자5동   |  6.27 |\n\n",
            "text/html": [
              "<table class=\"dataframe\">\n",
              "<caption>A data.frame: 35 × 2</caption>\n",
              "<thead>\n",
              "\t<tr><th scope=col>행정동</th><th scope=col>면적.km</th></tr>\n",
              "\t<tr><th scope=col>&lt;chr&gt;</th><th scope=col>&lt;dbl&gt;</th></tr>\n",
              "</thead>\n",
              "<tbody>\n",
              "\t<tr><td>금암1동  </td><td> 1.25</td></tr>\n",
              "\t<tr><td>금암2동  </td><td> 1.25</td></tr>\n",
              "\t<tr><td>노송동   </td><td> 2.09</td></tr>\n",
              "\t<tr><td>덕진동   </td><td> 4.78</td></tr>\n",
              "\t<tr><td>동서학동 </td><td>15.64</td></tr>\n",
              "\t<tr><td>삼천1동  </td><td> 1.27</td></tr>\n",
              "\t<tr><td>삼천2동  </td><td> 0.95</td></tr>\n",
              "\t<tr><td>삼천3동  </td><td>26.60</td></tr>\n",
              "\t<tr><td>서서학동 </td><td> 2.97</td></tr>\n",
              "\t<tr><td>서신동   </td><td> 2.39</td></tr>\n",
              "\t<tr><td>송천1동  </td><td> 4.79</td></tr>\n",
              "\t<tr><td>송천2동  </td><td>12.14</td></tr>\n",
              "\t<tr><td>여의동   </td><td>15.71</td></tr>\n",
              "\t<tr><td>완산동   </td><td> 0.99</td></tr>\n",
              "\t<tr><td>우아1동  </td><td> 1.44</td></tr>\n",
              "\t<tr><td>우아2동  </td><td>22.91</td></tr>\n",
              "\t<tr><td>인후1동  </td><td> 1.29</td></tr>\n",
              "\t<tr><td>인후2동  </td><td> 1.32</td></tr>\n",
              "\t<tr><td>인후3동  </td><td> 1.68</td></tr>\n",
              "\t<tr><td>조촌동   </td><td>24.28</td></tr>\n",
              "\t<tr><td>중앙동   </td><td> 1.35</td></tr>\n",
              "\t<tr><td>중화산1동</td><td> 1.22</td></tr>\n",
              "\t<tr><td>중화산2동</td><td> 1.72</td></tr>\n",
              "\t<tr><td>진북동   </td><td> 1.71</td></tr>\n",
              "\t<tr><td>팔복동   </td><td> 7.38</td></tr>\n",
              "\t<tr><td>평화1동  </td><td> 1.49</td></tr>\n",
              "\t<tr><td>평화2동  </td><td>15.23</td></tr>\n",
              "\t<tr><td>풍남동   </td><td> 2.05</td></tr>\n",
              "\t<tr><td>혁신동   </td><td> 3.37</td></tr>\n",
              "\t<tr><td>호성동   </td><td> 7.64</td></tr>\n",
              "\t<tr><td>효자1동  </td><td> 1.02</td></tr>\n",
              "\t<tr><td>효자2동  </td><td> 0.84</td></tr>\n",
              "\t<tr><td>효자3동  </td><td> 0.79</td></tr>\n",
              "\t<tr><td>효자4동  </td><td> 7.71</td></tr>\n",
              "\t<tr><td>효자5동  </td><td> 6.27</td></tr>\n",
              "</tbody>\n",
              "</table>\n"
            ]
          },
          "metadata": {
            "tags": []
          }
        }
      ]
    },
    {
      "cell_type": "markdown",
      "metadata": {
        "id": "Koe59i5uNvcd"
      },
      "source": [
        "## 상점개수"
      ]
    },
    {
      "cell_type": "code",
      "metadata": {
        "id": "5TtZh74qNCvz",
        "colab": {
          "base_uri": "https://localhost:8080/"
        },
        "outputId": "44e0d922-c781-4937-8d16-1cdf6e5101f4"
      },
      "source": [
        "str(store)\n",
        "head(store)"
      ],
      "execution_count": null,
      "outputs": [
        {
          "output_type": "stream",
          "text": [
            "'data.frame':\t6503 obs. of  39 variables:\n",
            " $ 상가업소번호      : int  20763988 23959893 20776948 23035233 17174374 17174126 17174123 17173996 15501309 28490006 ...\n",
            " $ 상호명            : chr  \"공덕이발관\" \"MK디자인건축\" \"대영타일욕실나라\" \"코오롱세탁소\" ...\n",
            " $ 지점명            : chr  \"\" \"\" \"\" \"\" ...\n",
            " $ 상권업종대분류코드: chr  \"F\" \"D\" \"D\" \"F\" ...\n",
            " $ 상권업종대분류명  : chr  \"생활서비스\" \"소매\" \"소매\" \"생활서비스\" ...\n",
            " $ 상권업종중분류코드: chr  \"F01\" \"D07\" \"D07\" \"F02\" ...\n",
            " $ 상권업종중분류명  : chr  \"이/미용/건강\" \"가정/주방/인테리어\" \"가정/주방/인테리어\" \"세탁/가사서비스\" ...\n",
            " $ 상권업종소분류코드: chr  \"F01A04\" \"D07A15\" \"D07A01\" \"F02A01\" ...\n",
            " $ 상권업종소분류명  : chr  \"남성미용실\" \"유리/페인트/철물건축자재\" \"인테리어/욕실용품/커튼\" \"세탁소/빨래방\" ...\n",
            " $ 표준산업분류코드  : chr  \"S96111\" \"G47519\" \"G47599\" \"S96912\" ...\n",
            " $ 표준산업분류명    : chr  \"이용업\" \"페인트, 유리 및 기타 건설자재 소매업\" \"그외 기타 분류안된 가정용품 소매업\" \"가정용 세탁업\" ...\n",
            " $ 시도코드          : int  45 45 45 45 45 45 45 45 45 45 ...\n",
            " $ 시도명            : chr  \"전라북도\" \"전라북도\" \"전라북도\" \"전라북도\" ...\n",
            " $ 시군구코드        : int  45210 45140 45111 45130 45190 45710 45111 45113 45113 45140 ...\n",
            " $ 시군구명          : chr  \"김제시\" \"익산시\" \"전주시 완산구\" \"군산시\" ...\n",
            " $ 행정동코드        : num  4.52e+09 4.51e+09 4.51e+09 4.51e+09 4.52e+09 ...\n",
            " $ 행정동명          : chr  \"공덕면\" \"송학동\" \"평화2동\" \"미성동\" ...\n",
            " $ 법정동코드        : num  4.52e+09 4.51e+09 4.51e+09 4.51e+09 4.52e+09 ...\n",
            " $ 법정동명          : chr  \"공덕면\" \"송학동\" \"평화동1가\" \"산북동\" ...\n",
            " $ 지번코드          : num  4.52e+18 4.51e+18 4.51e+18 4.51e+18 4.52e+18 ...\n",
            " $ 대지구분코드      : int  1 1 1 1 1 1 1 1 1 1 ...\n",
            " $ 대지구분명        : chr  \"대지\" \"대지\" \"대지\" \"대지\" ...\n",
            " $ 지번본번지        : int  345 265 583 3618 437 268 417 602 1268 349 ...\n",
            " $ 지번부번지        : int  2 21 17 NA NA 3 7 48 NA 1 ...\n",
            " $ 지번주소          : chr  \"전라북도 김제시 공덕면 공덕리 345-2\" \"전라북도 익산시 송학동 265-21\" \"전라북도 전주시 완산구 평화동1가 583-17\" \"전라북도 군산시 산북동 3618\" ...\n",
            " $ 도로명코드        : num  4.52e+11 4.51e+11 4.51e+11 4.51e+11 4.52e+11 ...\n",
            " $ 도로명            : chr  \"전라북도 김제시 공덕면 공덕10길\" \"전라북도 익산시 군익로\" \"전라북도 전주시 완산구 장승배기로\" \"전라북도 군산시 산북로\" ...\n",
            " $ 건물본번지        : int  3 443 221 84 124 68 2 483 29 103 ...\n",
            " $ 건물부번지        : int  NA NA NA NA NA NA 27 NA NA NA ...\n",
            " $ 건물관리번호      : num  4.52e+24 4.51e+24 4.51e+24 4.51e+24 4.52e+24 ...\n",
            " $ 건물명            : chr  \"\" \"\" \"\" \"코오롱컴퓨터세탁\" ...\n",
            " $ 도로명주소        : chr  \"전라북도 김제시 공덕면 공덕10길 3\" \"전라북도 익산시 군익로 443\" \"전라북도 전주시 완산구 장승배기로 221\" \"전라북도 군산시 산북로 84\" ...\n",
            " $ 구우편번호        : int  576921 570080 560842 573888 590090 565805 560809 561823 561761 570964 ...\n",
            " $ 신우편번호        : int  54320 54658 55106 54166 55795 55337 55137 54905 54828 54598 ...\n",
            " $ 동정보            : chr  \"\" \"\" \"\" \"\" ...\n",
            " $ 층정보            : int  NA NA NA NA NA NA NA 1 NA 1 ...\n",
            " $ 호정보            : chr  \"\" \"\" \"\" \"\" ...\n",
            " $ 경도              : num  127 127 127 127 127 ...\n",
            " $ 위도              : num  35.9 35.9 35.8 36 35.4 ...\n"
          ],
          "name": "stdout"
        },
        {
          "output_type": "display_data",
          "data": {
            "text/plain": [
              "  상가업소번호 상호명           지점명 상권업종대분류코드 상권업종대분류명\n",
              "1 20763988     공덕이발관              F                  생활서비스      \n",
              "2 23959893     MK디자인건축            D                  소매            \n",
              "3 20776948     대영타일욕실나라        D                  소매            \n",
              "4 23035233     코오롱세탁소            F                  생활서비스      \n",
              "5 17174374     산리지호텔              O                  숙박            \n",
              "6 17174126     휴앤안                  Q                  음식            \n",
              "  상권업종중분류코드 상권업종중분류명   상권업종소분류코드\n",
              "1 F01                이/미용/건강       F01A04            \n",
              "2 D07                가정/주방/인테리어 D07A15            \n",
              "3 D07                가정/주방/인테리어 D07A01            \n",
              "4 F02                세탁/가사서비스    F02A01            \n",
              "5 O01                호텔/콘도          O01A01            \n",
              "6 Q01                한식               Q01A01            \n",
              "  상권업종소분류명         표준산업분류코드 ⋯ 건물관리번호 건물명          \n",
              "1 남성미용실               S96111           ⋯ 4.521e+24                    \n",
              "2 유리/페인트/철물건축자재 G47519           ⋯ 4.514e+24                    \n",
              "3 인테리어/욕실용품/커튼   G47599           ⋯ 4.511e+24                    \n",
              "4 세탁소/빨래방            S96912           ⋯ 4.513e+24    코오롱컴퓨터세탁\n",
              "5 호텔/콘도                                 ⋯ 4.519e+24    남원국민호텔    \n",
              "6 한식/백반/한정식         I56111           ⋯ 4.571e+24                    \n",
              "  도로명주소                            구우편번호 신우편번호 동정보 층정보\n",
              "1 전라북도 김제시 공덕면 공덕10길 3     576921     54320             NA    \n",
              "2 전라북도 익산시 군익로 443            570080     54658             NA    \n",
              "3 전라북도 전주시 완산구 장승배기로 221 560842     55106             NA    \n",
              "4 전라북도 군산시 산북로 84             573888     54166             NA    \n",
              "5 전라북도 남원시 소리길 124            590090     55795             NA    \n",
              "6 전라북도 완주군 삼례읍 후정로 68      565805     55337             NA    \n",
              "  호정보 경도  위도 \n",
              "1        126.9 35.89\n",
              "2        126.9 35.94\n",
              "3        127.1 35.80\n",
              "4        126.7 35.96\n",
              "5        127.4 35.41\n",
              "6        127.1 35.91"
            ],
            "text/latex": "A data.frame: 6 × 39\n\\begin{tabular}{r|lllllllllllllllllllll}\n  & 상가업소번호 & 상호명 & 지점명 & 상권업종대분류코드 & 상권업종대분류명 & 상권업종중분류코드 & 상권업종중분류명 & 상권업종소분류코드 & 상권업종소분류명 & 표준산업분류코드 & ⋯ & 건물관리번호 & 건물명 & 도로명주소 & 구우편번호 & 신우편번호 & 동정보 & 층정보 & 호정보 & 경도 & 위도\\\\\n  & <int> & <chr> & <chr> & <chr> & <chr> & <chr> & <chr> & <chr> & <chr> & <chr> & ⋯ & <dbl> & <chr> & <chr> & <int> & <int> & <chr> & <int> & <chr> & <dbl> & <dbl>\\\\\n\\hline\n\t1 & 20763988 & 공덕이발관       &  & F & 생활서비스 & F01 & 이/미용/건강       & F01A04 & 남성미용실               & S96111 & ⋯ & 4.521e+24 &                  & 전라북도 김제시 공덕면 공덕10길 3     & 576921 & 54320 &  & NA &  & 126.9 & 35.89\\\\\n\t2 & 23959893 & MK디자인건축     &  & D & 소매       & D07 & 가정/주방/인테리어 & D07A15 & 유리/페인트/철물건축자재 & G47519 & ⋯ & 4.514e+24 &                  & 전라북도 익산시 군익로 443            & 570080 & 54658 &  & NA &  & 126.9 & 35.94\\\\\n\t3 & 20776948 & 대영타일욕실나라 &  & D & 소매       & D07 & 가정/주방/인테리어 & D07A01 & 인테리어/욕실용품/커튼   & G47599 & ⋯ & 4.511e+24 &                  & 전라북도 전주시 완산구 장승배기로 221 & 560842 & 55106 &  & NA &  & 127.1 & 35.80\\\\\n\t4 & 23035233 & 코오롱세탁소     &  & F & 생활서비스 & F02 & 세탁/가사서비스    & F02A01 & 세탁소/빨래방            & S96912 & ⋯ & 4.513e+24 & 코오롱컴퓨터세탁 & 전라북도 군산시 산북로 84             & 573888 & 54166 &  & NA &  & 126.7 & 35.96\\\\\n\t5 & 17174374 & 산리지호텔       &  & O & 숙박       & O01 & 호텔/콘도          & O01A01 & 호텔/콘도                &        & ⋯ & 4.519e+24 & 남원국민호텔     & 전라북도 남원시 소리길 124            & 590090 & 55795 &  & NA &  & 127.4 & 35.41\\\\\n\t6 & 17174126 & 휴앤안           &  & Q & 음식       & Q01 & 한식               & Q01A01 & 한식/백반/한정식         & I56111 & ⋯ & 4.571e+24 &                  & 전라북도 완주군 삼례읍 후정로 68      & 565805 & 55337 &  & NA &  & 127.1 & 35.91\\\\\n\\end{tabular}\n",
            "text/markdown": "\nA data.frame: 6 × 39\n\n| <!--/--> | 상가업소번호 &lt;int&gt; | 상호명 &lt;chr&gt; | 지점명 &lt;chr&gt; | 상권업종대분류코드 &lt;chr&gt; | 상권업종대분류명 &lt;chr&gt; | 상권업종중분류코드 &lt;chr&gt; | 상권업종중분류명 &lt;chr&gt; | 상권업종소분류코드 &lt;chr&gt; | 상권업종소분류명 &lt;chr&gt; | 표준산업분류코드 &lt;chr&gt; | ⋯ ⋯ | 건물관리번호 &lt;dbl&gt; | 건물명 &lt;chr&gt; | 도로명주소 &lt;chr&gt; | 구우편번호 &lt;int&gt; | 신우편번호 &lt;int&gt; | 동정보 &lt;chr&gt; | 층정보 &lt;int&gt; | 호정보 &lt;chr&gt; | 경도 &lt;dbl&gt; | 위도 &lt;dbl&gt; |\n|---|---|---|---|---|---|---|---|---|---|---|---|---|---|---|---|---|---|---|---|---|---|\n| 1 | 20763988 | 공덕이발관       | <!----> | F | 생활서비스 | F01 | 이/미용/건강       | F01A04 | 남성미용실               | S96111 | ⋯ | 4.521e+24 | <!----> | 전라북도 김제시 공덕면 공덕10길 3     | 576921 | 54320 | <!----> | NA | <!----> | 126.9 | 35.89 |\n| 2 | 23959893 | MK디자인건축     | <!----> | D | 소매       | D07 | 가정/주방/인테리어 | D07A15 | 유리/페인트/철물건축자재 | G47519 | ⋯ | 4.514e+24 | <!----> | 전라북도 익산시 군익로 443            | 570080 | 54658 | <!----> | NA | <!----> | 126.9 | 35.94 |\n| 3 | 20776948 | 대영타일욕실나라 | <!----> | D | 소매       | D07 | 가정/주방/인테리어 | D07A01 | 인테리어/욕실용품/커튼   | G47599 | ⋯ | 4.511e+24 | <!----> | 전라북도 전주시 완산구 장승배기로 221 | 560842 | 55106 | <!----> | NA | <!----> | 127.1 | 35.80 |\n| 4 | 23035233 | 코오롱세탁소     | <!----> | F | 생활서비스 | F02 | 세탁/가사서비스    | F02A01 | 세탁소/빨래방            | S96912 | ⋯ | 4.513e+24 | 코오롱컴퓨터세탁 | 전라북도 군산시 산북로 84             | 573888 | 54166 | <!----> | NA | <!----> | 126.7 | 35.96 |\n| 5 | 17174374 | 산리지호텔       | <!----> | O | 숙박       | O01 | 호텔/콘도          | O01A01 | 호텔/콘도                | <!----> | ⋯ | 4.519e+24 | 남원국민호텔     | 전라북도 남원시 소리길 124            | 590090 | 55795 | <!----> | NA | <!----> | 127.4 | 35.41 |\n| 6 | 17174126 | 휴앤안           | <!----> | Q | 음식       | Q01 | 한식               | Q01A01 | 한식/백반/한정식         | I56111 | ⋯ | 4.571e+24 | <!----> | 전라북도 완주군 삼례읍 후정로 68      | 565805 | 55337 | <!----> | NA | <!----> | 127.1 | 35.91 |\n\n",
            "text/html": [
              "<table class=\"dataframe\">\n",
              "<caption>A data.frame: 6 × 39</caption>\n",
              "<thead>\n",
              "\t<tr><th></th><th scope=col>상가업소번호</th><th scope=col>상호명</th><th scope=col>지점명</th><th scope=col>상권업종대분류코드</th><th scope=col>상권업종대분류명</th><th scope=col>상권업종중분류코드</th><th scope=col>상권업종중분류명</th><th scope=col>상권업종소분류코드</th><th scope=col>상권업종소분류명</th><th scope=col>표준산업분류코드</th><th scope=col>⋯</th><th scope=col>건물관리번호</th><th scope=col>건물명</th><th scope=col>도로명주소</th><th scope=col>구우편번호</th><th scope=col>신우편번호</th><th scope=col>동정보</th><th scope=col>층정보</th><th scope=col>호정보</th><th scope=col>경도</th><th scope=col>위도</th></tr>\n",
              "\t<tr><th></th><th scope=col>&lt;int&gt;</th><th scope=col>&lt;chr&gt;</th><th scope=col>&lt;chr&gt;</th><th scope=col>&lt;chr&gt;</th><th scope=col>&lt;chr&gt;</th><th scope=col>&lt;chr&gt;</th><th scope=col>&lt;chr&gt;</th><th scope=col>&lt;chr&gt;</th><th scope=col>&lt;chr&gt;</th><th scope=col>&lt;chr&gt;</th><th scope=col>⋯</th><th scope=col>&lt;dbl&gt;</th><th scope=col>&lt;chr&gt;</th><th scope=col>&lt;chr&gt;</th><th scope=col>&lt;int&gt;</th><th scope=col>&lt;int&gt;</th><th scope=col>&lt;chr&gt;</th><th scope=col>&lt;int&gt;</th><th scope=col>&lt;chr&gt;</th><th scope=col>&lt;dbl&gt;</th><th scope=col>&lt;dbl&gt;</th></tr>\n",
              "</thead>\n",
              "<tbody>\n",
              "\t<tr><th scope=row>1</th><td>20763988</td><td>공덕이발관      </td><td></td><td>F</td><td>생활서비스</td><td>F01</td><td>이/미용/건강      </td><td>F01A04</td><td>남성미용실              </td><td>S96111</td><td>⋯</td><td>4.521e+24</td><td>                </td><td>전라북도 김제시 공덕면 공덕10길 3    </td><td>576921</td><td>54320</td><td></td><td>NA</td><td></td><td>126.9</td><td>35.89</td></tr>\n",
              "\t<tr><th scope=row>2</th><td>23959893</td><td>MK디자인건축    </td><td></td><td>D</td><td>소매      </td><td>D07</td><td>가정/주방/인테리어</td><td>D07A15</td><td>유리/페인트/철물건축자재</td><td>G47519</td><td>⋯</td><td>4.514e+24</td><td>                </td><td>전라북도 익산시 군익로 443           </td><td>570080</td><td>54658</td><td></td><td>NA</td><td></td><td>126.9</td><td>35.94</td></tr>\n",
              "\t<tr><th scope=row>3</th><td>20776948</td><td>대영타일욕실나라</td><td></td><td>D</td><td>소매      </td><td>D07</td><td>가정/주방/인테리어</td><td>D07A01</td><td>인테리어/욕실용품/커튼  </td><td>G47599</td><td>⋯</td><td>4.511e+24</td><td>                </td><td>전라북도 전주시 완산구 장승배기로 221</td><td>560842</td><td>55106</td><td></td><td>NA</td><td></td><td>127.1</td><td>35.80</td></tr>\n",
              "\t<tr><th scope=row>4</th><td>23035233</td><td>코오롱세탁소    </td><td></td><td>F</td><td>생활서비스</td><td>F02</td><td>세탁/가사서비스   </td><td>F02A01</td><td>세탁소/빨래방           </td><td>S96912</td><td>⋯</td><td>4.513e+24</td><td>코오롱컴퓨터세탁</td><td>전라북도 군산시 산북로 84            </td><td>573888</td><td>54166</td><td></td><td>NA</td><td></td><td>126.7</td><td>35.96</td></tr>\n",
              "\t<tr><th scope=row>5</th><td>17174374</td><td>산리지호텔      </td><td></td><td>O</td><td>숙박      </td><td>O01</td><td>호텔/콘도         </td><td>O01A01</td><td>호텔/콘도               </td><td>      </td><td>⋯</td><td>4.519e+24</td><td>남원국민호텔    </td><td>전라북도 남원시 소리길 124           </td><td>590090</td><td>55795</td><td></td><td>NA</td><td></td><td>127.4</td><td>35.41</td></tr>\n",
              "\t<tr><th scope=row>6</th><td>17174126</td><td>휴앤안          </td><td></td><td>Q</td><td>음식      </td><td>Q01</td><td>한식              </td><td>Q01A01</td><td>한식/백반/한정식        </td><td>I56111</td><td>⋯</td><td>4.571e+24</td><td>                </td><td>전라북도 완주군 삼례읍 후정로 68     </td><td>565805</td><td>55337</td><td></td><td>NA</td><td></td><td>127.1</td><td>35.91</td></tr>\n",
              "</tbody>\n",
              "</table>\n"
            ]
          },
          "metadata": {
            "tags": []
          }
        }
      ]
    },
    {
      "cell_type": "markdown",
      "metadata": {
        "id": "C24kC4czNzYA"
      },
      "source": [
        "1 store의 변수명 확인\n",
        "\n",
        "2 필요한 변수들 추출\n",
        "\n",
        "▼"
      ]
    },
    {
      "cell_type": "code",
      "metadata": {
        "id": "sUbf7fiWNQvs",
        "colab": {
          "base_uri": "https://localhost:8080/"
        },
        "outputId": "71b7c79c-96be-41a4-b6f3-f566447754d1"
      },
      "source": [
        "names(store)\n",
        "store <- store[, c(1,2,5,7,9,11,13,15,17,19,32,38,39)]\n",
        "str(store)\n",
        "head(store)"
      ],
      "execution_count": null,
      "outputs": [
        {
          "output_type": "display_data",
          "data": {
            "text/plain": [
              " [1] \"상가업소번호\"       \"상호명\"             \"지점명\"            \n",
              " [4] \"상권업종대분류코드\" \"상권업종대분류명\"   \"상권업종중분류코드\"\n",
              " [7] \"상권업종중분류명\"   \"상권업종소분류코드\" \"상권업종소분류명\"  \n",
              "[10] \"표준산업분류코드\"   \"표준산업분류명\"     \"시도코드\"          \n",
              "[13] \"시도명\"             \"시군구코드\"         \"시군구명\"          \n",
              "[16] \"행정동코드\"         \"행정동명\"           \"법정동코드\"        \n",
              "[19] \"법정동명\"           \"지번코드\"           \"대지구분코드\"      \n",
              "[22] \"대지구분명\"         \"지번본번지\"         \"지번부번지\"        \n",
              "[25] \"지번주소\"           \"도로명코드\"         \"도로명\"            \n",
              "[28] \"건물본번지\"         \"건물부번지\"         \"건물관리번호\"      \n",
              "[31] \"건물명\"             \"도로명주소\"         \"구우편번호\"        \n",
              "[34] \"신우편번호\"         \"동정보\"             \"층정보\"            \n",
              "[37] \"호정보\"             \"경도\"               \"위도\"              "
            ],
            "text/latex": "\\begin{enumerate*}\n\\item '상가업소번호'\n\\item '상호명'\n\\item '지점명'\n\\item '상권업종대분류코드'\n\\item '상권업종대분류명'\n\\item '상권업종중분류코드'\n\\item '상권업종중분류명'\n\\item '상권업종소분류코드'\n\\item '상권업종소분류명'\n\\item '표준산업분류코드'\n\\item '표준산업분류명'\n\\item '시도코드'\n\\item '시도명'\n\\item '시군구코드'\n\\item '시군구명'\n\\item '행정동코드'\n\\item '행정동명'\n\\item '법정동코드'\n\\item '법정동명'\n\\item '지번코드'\n\\item '대지구분코드'\n\\item '대지구분명'\n\\item '지번본번지'\n\\item '지번부번지'\n\\item '지번주소'\n\\item '도로명코드'\n\\item '도로명'\n\\item '건물본번지'\n\\item '건물부번지'\n\\item '건물관리번호'\n\\item '건물명'\n\\item '도로명주소'\n\\item '구우편번호'\n\\item '신우편번호'\n\\item '동정보'\n\\item '층정보'\n\\item '호정보'\n\\item '경도'\n\\item '위도'\n\\end{enumerate*}\n",
            "text/markdown": "1. '상가업소번호'\n2. '상호명'\n3. '지점명'\n4. '상권업종대분류코드'\n5. '상권업종대분류명'\n6. '상권업종중분류코드'\n7. '상권업종중분류명'\n8. '상권업종소분류코드'\n9. '상권업종소분류명'\n10. '표준산업분류코드'\n11. '표준산업분류명'\n12. '시도코드'\n13. '시도명'\n14. '시군구코드'\n15. '시군구명'\n16. '행정동코드'\n17. '행정동명'\n18. '법정동코드'\n19. '법정동명'\n20. '지번코드'\n21. '대지구분코드'\n22. '대지구분명'\n23. '지번본번지'\n24. '지번부번지'\n25. '지번주소'\n26. '도로명코드'\n27. '도로명'\n28. '건물본번지'\n29. '건물부번지'\n30. '건물관리번호'\n31. '건물명'\n32. '도로명주소'\n33. '구우편번호'\n34. '신우편번호'\n35. '동정보'\n36. '층정보'\n37. '호정보'\n38. '경도'\n39. '위도'\n\n\n",
            "text/html": [
              "<style>\n",
              ".list-inline {list-style: none; margin:0; padding: 0}\n",
              ".list-inline>li {display: inline-block}\n",
              ".list-inline>li:not(:last-child)::after {content: \"\\00b7\"; padding: 0 .5ex}\n",
              "</style>\n",
              "<ol class=list-inline><li>'상가업소번호'</li><li>'상호명'</li><li>'지점명'</li><li>'상권업종대분류코드'</li><li>'상권업종대분류명'</li><li>'상권업종중분류코드'</li><li>'상권업종중분류명'</li><li>'상권업종소분류코드'</li><li>'상권업종소분류명'</li><li>'표준산업분류코드'</li><li>'표준산업분류명'</li><li>'시도코드'</li><li>'시도명'</li><li>'시군구코드'</li><li>'시군구명'</li><li>'행정동코드'</li><li>'행정동명'</li><li>'법정동코드'</li><li>'법정동명'</li><li>'지번코드'</li><li>'대지구분코드'</li><li>'대지구분명'</li><li>'지번본번지'</li><li>'지번부번지'</li><li>'지번주소'</li><li>'도로명코드'</li><li>'도로명'</li><li>'건물본번지'</li><li>'건물부번지'</li><li>'건물관리번호'</li><li>'건물명'</li><li>'도로명주소'</li><li>'구우편번호'</li><li>'신우편번호'</li><li>'동정보'</li><li>'층정보'</li><li>'호정보'</li><li>'경도'</li><li>'위도'</li></ol>\n"
            ]
          },
          "metadata": {
            "tags": []
          }
        },
        {
          "output_type": "stream",
          "text": [
            "'data.frame':\t6503 obs. of  13 variables:\n",
            " $ 상가업소번호    : int  20763988 23959893 20776948 23035233 17174374 17174126 17174123 17173996 15501309 28490006 ...\n",
            " $ 상호명          : chr  \"공덕이발관\" \"MK디자인건축\" \"대영타일욕실나라\" \"코오롱세탁소\" ...\n",
            " $ 상권업종대분류명: chr  \"생활서비스\" \"소매\" \"소매\" \"생활서비스\" ...\n",
            " $ 상권업종중분류명: chr  \"이/미용/건강\" \"가정/주방/인테리어\" \"가정/주방/인테리어\" \"세탁/가사서비스\" ...\n",
            " $ 상권업종소분류명: chr  \"남성미용실\" \"유리/페인트/철물건축자재\" \"인테리어/욕실용품/커튼\" \"세탁소/빨래방\" ...\n",
            " $ 표준산업분류명  : chr  \"이용업\" \"페인트, 유리 및 기타 건설자재 소매업\" \"그외 기타 분류안된 가정용품 소매업\" \"가정용 세탁업\" ...\n",
            " $ 시도명          : chr  \"전라북도\" \"전라북도\" \"전라북도\" \"전라북도\" ...\n",
            " $ 시군구명        : chr  \"김제시\" \"익산시\" \"전주시 완산구\" \"군산시\" ...\n",
            " $ 행정동명        : chr  \"공덕면\" \"송학동\" \"평화2동\" \"미성동\" ...\n",
            " $ 법정동명        : chr  \"공덕면\" \"송학동\" \"평화동1가\" \"산북동\" ...\n",
            " $ 도로명주소      : chr  \"전라북도 김제시 공덕면 공덕10길 3\" \"전라북도 익산시 군익로 443\" \"전라북도 전주시 완산구 장승배기로 221\" \"전라북도 군산시 산북로 84\" ...\n",
            " $ 경도            : num  127 127 127 127 127 ...\n",
            " $ 위도            : num  35.9 35.9 35.8 36 35.4 ...\n"
          ],
          "name": "stdout"
        },
        {
          "output_type": "display_data",
          "data": {
            "text/plain": [
              "  상가업소번호 상호명           상권업종대분류명 상권업종중분류명  \n",
              "1 20763988     공덕이발관       생활서비스       이/미용/건강      \n",
              "2 23959893     MK디자인건축     소매             가정/주방/인테리어\n",
              "3 20776948     대영타일욕실나라 소매             가정/주방/인테리어\n",
              "4 23035233     코오롱세탁소     생활서비스       세탁/가사서비스   \n",
              "5 17174374     산리지호텔       숙박             호텔/콘도         \n",
              "6 17174126     휴앤안           음식             한식              \n",
              "  상권업종소분류명         표준산업분류명                       시도명  \n",
              "1 남성미용실               이용업                               전라북도\n",
              "2 유리/페인트/철물건축자재 페인트, 유리 및 기타 건설자재 소매업 전라북도\n",
              "3 인테리어/욕실용품/커튼   그외 기타 분류안된 가정용품 소매업   전라북도\n",
              "4 세탁소/빨래방            가정용 세탁업                        전라북도\n",
              "5 호텔/콘도                                                     전라북도\n",
              "6 한식/백반/한정식         한식 음식점업                        전라북도\n",
              "  시군구명      행정동명 법정동명  도로명주소                            경도 \n",
              "1 김제시        공덕면   공덕면    전라북도 김제시 공덕면 공덕10길 3     126.9\n",
              "2 익산시        송학동   송학동    전라북도 익산시 군익로 443            126.9\n",
              "3 전주시 완산구 평화2동  평화동1가 전라북도 전주시 완산구 장승배기로 221 127.1\n",
              "4 군산시        미성동   산북동    전라북도 군산시 산북로 84             126.7\n",
              "5 남원시        노암동   신촌동    전라북도 남원시 소리길 124            127.4\n",
              "6 완주군        삼례읍   삼례읍    전라북도 완주군 삼례읍 후정로 68      127.1\n",
              "  위도 \n",
              "1 35.89\n",
              "2 35.94\n",
              "3 35.80\n",
              "4 35.96\n",
              "5 35.41\n",
              "6 35.91"
            ],
            "text/latex": "A data.frame: 6 × 13\n\\begin{tabular}{r|lllllllllllll}\n  & 상가업소번호 & 상호명 & 상권업종대분류명 & 상권업종중분류명 & 상권업종소분류명 & 표준산업분류명 & 시도명 & 시군구명 & 행정동명 & 법정동명 & 도로명주소 & 경도 & 위도\\\\\n  & <int> & <chr> & <chr> & <chr> & <chr> & <chr> & <chr> & <chr> & <chr> & <chr> & <chr> & <dbl> & <dbl>\\\\\n\\hline\n\t1 & 20763988 & 공덕이발관       & 생활서비스 & 이/미용/건강       & 남성미용실               & 이용업                               & 전라북도 & 김제시        & 공덕면  & 공덕면    & 전라북도 김제시 공덕면 공덕10길 3     & 126.9 & 35.89\\\\\n\t2 & 23959893 & MK디자인건축     & 소매       & 가정/주방/인테리어 & 유리/페인트/철물건축자재 & 페인트, 유리 및 기타 건설자재 소매업 & 전라북도 & 익산시        & 송학동  & 송학동    & 전라북도 익산시 군익로 443            & 126.9 & 35.94\\\\\n\t3 & 20776948 & 대영타일욕실나라 & 소매       & 가정/주방/인테리어 & 인테리어/욕실용품/커튼   & 그외 기타 분류안된 가정용품 소매업   & 전라북도 & 전주시 완산구 & 평화2동 & 평화동1가 & 전라북도 전주시 완산구 장승배기로 221 & 127.1 & 35.80\\\\\n\t4 & 23035233 & 코오롱세탁소     & 생활서비스 & 세탁/가사서비스    & 세탁소/빨래방            & 가정용 세탁업                        & 전라북도 & 군산시        & 미성동  & 산북동    & 전라북도 군산시 산북로 84             & 126.7 & 35.96\\\\\n\t5 & 17174374 & 산리지호텔       & 숙박       & 호텔/콘도          & 호텔/콘도                &                                      & 전라북도 & 남원시        & 노암동  & 신촌동    & 전라북도 남원시 소리길 124            & 127.4 & 35.41\\\\\n\t6 & 17174126 & 휴앤안           & 음식       & 한식               & 한식/백반/한정식         & 한식 음식점업                        & 전라북도 & 완주군        & 삼례읍  & 삼례읍    & 전라북도 완주군 삼례읍 후정로 68      & 127.1 & 35.91\\\\\n\\end{tabular}\n",
            "text/markdown": "\nA data.frame: 6 × 13\n\n| <!--/--> | 상가업소번호 &lt;int&gt; | 상호명 &lt;chr&gt; | 상권업종대분류명 &lt;chr&gt; | 상권업종중분류명 &lt;chr&gt; | 상권업종소분류명 &lt;chr&gt; | 표준산업분류명 &lt;chr&gt; | 시도명 &lt;chr&gt; | 시군구명 &lt;chr&gt; | 행정동명 &lt;chr&gt; | 법정동명 &lt;chr&gt; | 도로명주소 &lt;chr&gt; | 경도 &lt;dbl&gt; | 위도 &lt;dbl&gt; |\n|---|---|---|---|---|---|---|---|---|---|---|---|---|---|\n| 1 | 20763988 | 공덕이발관       | 생활서비스 | 이/미용/건강       | 남성미용실               | 이용업                               | 전라북도 | 김제시        | 공덕면  | 공덕면    | 전라북도 김제시 공덕면 공덕10길 3     | 126.9 | 35.89 |\n| 2 | 23959893 | MK디자인건축     | 소매       | 가정/주방/인테리어 | 유리/페인트/철물건축자재 | 페인트, 유리 및 기타 건설자재 소매업 | 전라북도 | 익산시        | 송학동  | 송학동    | 전라북도 익산시 군익로 443            | 126.9 | 35.94 |\n| 3 | 20776948 | 대영타일욕실나라 | 소매       | 가정/주방/인테리어 | 인테리어/욕실용품/커튼   | 그외 기타 분류안된 가정용품 소매업   | 전라북도 | 전주시 완산구 | 평화2동 | 평화동1가 | 전라북도 전주시 완산구 장승배기로 221 | 127.1 | 35.80 |\n| 4 | 23035233 | 코오롱세탁소     | 생활서비스 | 세탁/가사서비스    | 세탁소/빨래방            | 가정용 세탁업                        | 전라북도 | 군산시        | 미성동  | 산북동    | 전라북도 군산시 산북로 84             | 126.7 | 35.96 |\n| 5 | 17174374 | 산리지호텔       | 숙박       | 호텔/콘도          | 호텔/콘도                | <!----> | 전라북도 | 남원시        | 노암동  | 신촌동    | 전라북도 남원시 소리길 124            | 127.4 | 35.41 |\n| 6 | 17174126 | 휴앤안           | 음식       | 한식               | 한식/백반/한정식         | 한식 음식점업                        | 전라북도 | 완주군        | 삼례읍  | 삼례읍    | 전라북도 완주군 삼례읍 후정로 68      | 127.1 | 35.91 |\n\n",
            "text/html": [
              "<table class=\"dataframe\">\n",
              "<caption>A data.frame: 6 × 13</caption>\n",
              "<thead>\n",
              "\t<tr><th></th><th scope=col>상가업소번호</th><th scope=col>상호명</th><th scope=col>상권업종대분류명</th><th scope=col>상권업종중분류명</th><th scope=col>상권업종소분류명</th><th scope=col>표준산업분류명</th><th scope=col>시도명</th><th scope=col>시군구명</th><th scope=col>행정동명</th><th scope=col>법정동명</th><th scope=col>도로명주소</th><th scope=col>경도</th><th scope=col>위도</th></tr>\n",
              "\t<tr><th></th><th scope=col>&lt;int&gt;</th><th scope=col>&lt;chr&gt;</th><th scope=col>&lt;chr&gt;</th><th scope=col>&lt;chr&gt;</th><th scope=col>&lt;chr&gt;</th><th scope=col>&lt;chr&gt;</th><th scope=col>&lt;chr&gt;</th><th scope=col>&lt;chr&gt;</th><th scope=col>&lt;chr&gt;</th><th scope=col>&lt;chr&gt;</th><th scope=col>&lt;chr&gt;</th><th scope=col>&lt;dbl&gt;</th><th scope=col>&lt;dbl&gt;</th></tr>\n",
              "</thead>\n",
              "<tbody>\n",
              "\t<tr><th scope=row>1</th><td>20763988</td><td>공덕이발관      </td><td>생활서비스</td><td>이/미용/건강      </td><td>남성미용실              </td><td>이용업                              </td><td>전라북도</td><td>김제시       </td><td>공덕면 </td><td>공덕면   </td><td>전라북도 김제시 공덕면 공덕10길 3    </td><td>126.9</td><td>35.89</td></tr>\n",
              "\t<tr><th scope=row>2</th><td>23959893</td><td>MK디자인건축    </td><td>소매      </td><td>가정/주방/인테리어</td><td>유리/페인트/철물건축자재</td><td>페인트, 유리 및 기타 건설자재 소매업</td><td>전라북도</td><td>익산시       </td><td>송학동 </td><td>송학동   </td><td>전라북도 익산시 군익로 443           </td><td>126.9</td><td>35.94</td></tr>\n",
              "\t<tr><th scope=row>3</th><td>20776948</td><td>대영타일욕실나라</td><td>소매      </td><td>가정/주방/인테리어</td><td>인테리어/욕실용품/커튼  </td><td>그외 기타 분류안된 가정용품 소매업  </td><td>전라북도</td><td>전주시 완산구</td><td>평화2동</td><td>평화동1가</td><td>전라북도 전주시 완산구 장승배기로 221</td><td>127.1</td><td>35.80</td></tr>\n",
              "\t<tr><th scope=row>4</th><td>23035233</td><td>코오롱세탁소    </td><td>생활서비스</td><td>세탁/가사서비스   </td><td>세탁소/빨래방           </td><td>가정용 세탁업                       </td><td>전라북도</td><td>군산시       </td><td>미성동 </td><td>산북동   </td><td>전라북도 군산시 산북로 84            </td><td>126.7</td><td>35.96</td></tr>\n",
              "\t<tr><th scope=row>5</th><td>17174374</td><td>산리지호텔      </td><td>숙박      </td><td>호텔/콘도         </td><td>호텔/콘도               </td><td>                                    </td><td>전라북도</td><td>남원시       </td><td>노암동 </td><td>신촌동   </td><td>전라북도 남원시 소리길 124           </td><td>127.4</td><td>35.41</td></tr>\n",
              "\t<tr><th scope=row>6</th><td>17174126</td><td>휴앤안          </td><td>음식      </td><td>한식              </td><td>한식/백반/한정식        </td><td>한식 음식점업                       </td><td>전라북도</td><td>완주군       </td><td>삼례읍 </td><td>삼례읍   </td><td>전라북도 완주군 삼례읍 후정로 68     </td><td>127.1</td><td>35.91</td></tr>\n",
              "</tbody>\n",
              "</table>\n"
            ]
          },
          "metadata": {
            "tags": []
          }
        }
      ]
    },
    {
      "cell_type": "markdown",
      "metadata": {
        "id": "Kwyl2vt8N6je"
      },
      "source": [
        "▼ store의 시군구명 중 '전주'를 포함하는 데이터 추출"
      ]
    },
    {
      "cell_type": "code",
      "metadata": {
        "id": "S6Dn5Q4dNZr-",
        "colab": {
          "base_uri": "https://localhost:8080/"
        },
        "outputId": "3832f897-2c34-4f46-eecb-d912a4923b43"
      },
      "source": [
        "store <- store[grep(\"전주\", store$시군구명), ]\n",
        "head(store)"
      ],
      "execution_count": null,
      "outputs": [
        {
          "output_type": "display_data",
          "data": {
            "text/plain": [
              "   상가업소번호 상호명           상권업종대분류명 상권업종중분류명      \n",
              "3  20776948     대영타일욕실나라 소매             가정/주방/인테리어    \n",
              "7  17174123     솔차니           음식             한식                  \n",
              "8  17173996     BBQ치킨          음식             유흥주점              \n",
              "9  15501309     금암이동통신     소매             사진/광학/정밀기기소매\n",
              "19 20743412     서곡해법영어교실 학문/교육        학원-어학             \n",
              "20 28494686     대호장           숙박             모텔/여관/여인숙      \n",
              "   상권업종소분류명       표준산업분류명                     시도명  \n",
              "3  인테리어/욕실용품/커튼 그외 기타 분류안된 가정용품 소매업 전라북도\n",
              "7  한식/백반/한정식       한식 음식점업                      전라북도\n",
              "8  호프/맥주              기타 주점업                        전라북도\n",
              "9  핸드폰소매             통신기기 소매업                    전라북도\n",
              "19 학원-어린이영어        외국어학원                         전라북도\n",
              "20 모텔/여관/여인숙       여관업                             전라북도\n",
              "   시군구명      행정동명 법정동명  도로명주소                            \n",
              "3  전주시 완산구 평화2동  평화동1가 전라북도 전주시 완산구 장승배기로 221 \n",
              "7  전주시 완산구 삼천3동  삼천동1가 전라북도 전주시 완산구 장승배기로 2-27\n",
              "8  전주시 덕진구 우아1동  우아동3가 전라북도 전주시 덕진구 견훤로 483     \n",
              "9  전주시 덕진구 송천1동  송천동2가 전라북도 전주시 덕진구 붓내3길 29     \n",
              "19 전주시 완산구 효자4동  효자동3가 전라북도 전주시 완산구 서곡7길 24     \n",
              "20 전주시 덕진구 우아2동  산정동    전라북도 전주시 덕진구 산정1길 32     \n",
              "   경도  위도 \n",
              "3  127.1 35.80\n",
              "7  127.1 35.79\n",
              "8  127.2 35.85\n",
              "9  127.1 35.87\n",
              "19 127.1 35.83\n",
              "20 127.2 35.84"
            ],
            "text/latex": "A data.frame: 6 × 13\n\\begin{tabular}{r|lllllllllllll}\n  & 상가업소번호 & 상호명 & 상권업종대분류명 & 상권업종중분류명 & 상권업종소분류명 & 표준산업분류명 & 시도명 & 시군구명 & 행정동명 & 법정동명 & 도로명주소 & 경도 & 위도\\\\\n  & <int> & <chr> & <chr> & <chr> & <chr> & <chr> & <chr> & <chr> & <chr> & <chr> & <chr> & <dbl> & <dbl>\\\\\n\\hline\n\t3 & 20776948 & 대영타일욕실나라 & 소매      & 가정/주방/인테리어     & 인테리어/욕실용품/커튼 & 그외 기타 분류안된 가정용품 소매업 & 전라북도 & 전주시 완산구 & 평화2동 & 평화동1가 & 전라북도 전주시 완산구 장승배기로 221  & 127.1 & 35.80\\\\\n\t7 & 17174123 & 솔차니           & 음식      & 한식                   & 한식/백반/한정식       & 한식 음식점업                      & 전라북도 & 전주시 완산구 & 삼천3동 & 삼천동1가 & 전라북도 전주시 완산구 장승배기로 2-27 & 127.1 & 35.79\\\\\n\t8 & 17173996 & BBQ치킨          & 음식      & 유흥주점               & 호프/맥주              & 기타 주점업                        & 전라북도 & 전주시 덕진구 & 우아1동 & 우아동3가 & 전라북도 전주시 덕진구 견훤로 483      & 127.2 & 35.85\\\\\n\t9 & 15501309 & 금암이동통신     & 소매      & 사진/광학/정밀기기소매 & 핸드폰소매             & 통신기기 소매업                    & 전라북도 & 전주시 덕진구 & 송천1동 & 송천동2가 & 전라북도 전주시 덕진구 붓내3길 29      & 127.1 & 35.87\\\\\n\t19 & 20743412 & 서곡해법영어교실 & 학문/교육 & 학원-어학              & 학원-어린이영어        & 외국어학원                         & 전라북도 & 전주시 완산구 & 효자4동 & 효자동3가 & 전라북도 전주시 완산구 서곡7길 24      & 127.1 & 35.83\\\\\n\t20 & 28494686 & 대호장           & 숙박      & 모텔/여관/여인숙       & 모텔/여관/여인숙       & 여관업                             & 전라북도 & 전주시 덕진구 & 우아2동 & 산정동    & 전라북도 전주시 덕진구 산정1길 32      & 127.2 & 35.84\\\\\n\\end{tabular}\n",
            "text/markdown": "\nA data.frame: 6 × 13\n\n| <!--/--> | 상가업소번호 &lt;int&gt; | 상호명 &lt;chr&gt; | 상권업종대분류명 &lt;chr&gt; | 상권업종중분류명 &lt;chr&gt; | 상권업종소분류명 &lt;chr&gt; | 표준산업분류명 &lt;chr&gt; | 시도명 &lt;chr&gt; | 시군구명 &lt;chr&gt; | 행정동명 &lt;chr&gt; | 법정동명 &lt;chr&gt; | 도로명주소 &lt;chr&gt; | 경도 &lt;dbl&gt; | 위도 &lt;dbl&gt; |\n|---|---|---|---|---|---|---|---|---|---|---|---|---|---|\n| 3 | 20776948 | 대영타일욕실나라 | 소매      | 가정/주방/인테리어     | 인테리어/욕실용품/커튼 | 그외 기타 분류안된 가정용품 소매업 | 전라북도 | 전주시 완산구 | 평화2동 | 평화동1가 | 전라북도 전주시 완산구 장승배기로 221  | 127.1 | 35.80 |\n| 7 | 17174123 | 솔차니           | 음식      | 한식                   | 한식/백반/한정식       | 한식 음식점업                      | 전라북도 | 전주시 완산구 | 삼천3동 | 삼천동1가 | 전라북도 전주시 완산구 장승배기로 2-27 | 127.1 | 35.79 |\n| 8 | 17173996 | BBQ치킨          | 음식      | 유흥주점               | 호프/맥주              | 기타 주점업                        | 전라북도 | 전주시 덕진구 | 우아1동 | 우아동3가 | 전라북도 전주시 덕진구 견훤로 483      | 127.2 | 35.85 |\n| 9 | 15501309 | 금암이동통신     | 소매      | 사진/광학/정밀기기소매 | 핸드폰소매             | 통신기기 소매업                    | 전라북도 | 전주시 덕진구 | 송천1동 | 송천동2가 | 전라북도 전주시 덕진구 붓내3길 29      | 127.1 | 35.87 |\n| 19 | 20743412 | 서곡해법영어교실 | 학문/교육 | 학원-어학              | 학원-어린이영어        | 외국어학원                         | 전라북도 | 전주시 완산구 | 효자4동 | 효자동3가 | 전라북도 전주시 완산구 서곡7길 24      | 127.1 | 35.83 |\n| 20 | 28494686 | 대호장           | 숙박      | 모텔/여관/여인숙       | 모텔/여관/여인숙       | 여관업                             | 전라북도 | 전주시 덕진구 | 우아2동 | 산정동    | 전라북도 전주시 덕진구 산정1길 32      | 127.2 | 35.84 |\n\n",
            "text/html": [
              "<table class=\"dataframe\">\n",
              "<caption>A data.frame: 6 × 13</caption>\n",
              "<thead>\n",
              "\t<tr><th></th><th scope=col>상가업소번호</th><th scope=col>상호명</th><th scope=col>상권업종대분류명</th><th scope=col>상권업종중분류명</th><th scope=col>상권업종소분류명</th><th scope=col>표준산업분류명</th><th scope=col>시도명</th><th scope=col>시군구명</th><th scope=col>행정동명</th><th scope=col>법정동명</th><th scope=col>도로명주소</th><th scope=col>경도</th><th scope=col>위도</th></tr>\n",
              "\t<tr><th></th><th scope=col>&lt;int&gt;</th><th scope=col>&lt;chr&gt;</th><th scope=col>&lt;chr&gt;</th><th scope=col>&lt;chr&gt;</th><th scope=col>&lt;chr&gt;</th><th scope=col>&lt;chr&gt;</th><th scope=col>&lt;chr&gt;</th><th scope=col>&lt;chr&gt;</th><th scope=col>&lt;chr&gt;</th><th scope=col>&lt;chr&gt;</th><th scope=col>&lt;chr&gt;</th><th scope=col>&lt;dbl&gt;</th><th scope=col>&lt;dbl&gt;</th></tr>\n",
              "</thead>\n",
              "<tbody>\n",
              "\t<tr><th scope=row>3</th><td>20776948</td><td>대영타일욕실나라</td><td>소매     </td><td>가정/주방/인테리어    </td><td>인테리어/욕실용품/커튼</td><td>그외 기타 분류안된 가정용품 소매업</td><td>전라북도</td><td>전주시 완산구</td><td>평화2동</td><td>평화동1가</td><td>전라북도 전주시 완산구 장승배기로 221 </td><td>127.1</td><td>35.80</td></tr>\n",
              "\t<tr><th scope=row>7</th><td>17174123</td><td>솔차니          </td><td>음식     </td><td>한식                  </td><td>한식/백반/한정식      </td><td>한식 음식점업                     </td><td>전라북도</td><td>전주시 완산구</td><td>삼천3동</td><td>삼천동1가</td><td>전라북도 전주시 완산구 장승배기로 2-27</td><td>127.1</td><td>35.79</td></tr>\n",
              "\t<tr><th scope=row>8</th><td>17173996</td><td>BBQ치킨         </td><td>음식     </td><td>유흥주점              </td><td>호프/맥주             </td><td>기타 주점업                       </td><td>전라북도</td><td>전주시 덕진구</td><td>우아1동</td><td>우아동3가</td><td>전라북도 전주시 덕진구 견훤로 483     </td><td>127.2</td><td>35.85</td></tr>\n",
              "\t<tr><th scope=row>9</th><td>15501309</td><td>금암이동통신    </td><td>소매     </td><td>사진/광학/정밀기기소매</td><td>핸드폰소매            </td><td>통신기기 소매업                   </td><td>전라북도</td><td>전주시 덕진구</td><td>송천1동</td><td>송천동2가</td><td>전라북도 전주시 덕진구 붓내3길 29     </td><td>127.1</td><td>35.87</td></tr>\n",
              "\t<tr><th scope=row>19</th><td>20743412</td><td>서곡해법영어교실</td><td>학문/교육</td><td>학원-어학             </td><td>학원-어린이영어       </td><td>외국어학원                        </td><td>전라북도</td><td>전주시 완산구</td><td>효자4동</td><td>효자동3가</td><td>전라북도 전주시 완산구 서곡7길 24     </td><td>127.1</td><td>35.83</td></tr>\n",
              "\t<tr><th scope=row>20</th><td>28494686</td><td>대호장          </td><td>숙박     </td><td>모텔/여관/여인숙      </td><td>모텔/여관/여인숙      </td><td>여관업                            </td><td>전라북도</td><td>전주시 덕진구</td><td>우아2동</td><td>산정동   </td><td>전라북도 전주시 덕진구 산정1길 32     </td><td>127.2</td><td>35.84</td></tr>\n",
              "</tbody>\n",
              "</table>\n"
            ]
          },
          "metadata": {
            "tags": []
          }
        }
      ]
    },
    {
      "cell_type": "markdown",
      "metadata": {
        "id": "ZfiWx-QiN_jU"
      },
      "source": [
        "▼ 행정동명을 기준으로 상가의 개수 추출"
      ]
    },
    {
      "cell_type": "code",
      "metadata": {
        "id": "D8Jq7WMKNkAA",
        "colab": {
          "base_uri": "https://localhost:8080/"
        },
        "outputId": "ed6a9345-e97b-45f9-b5a3-d4d2e3d715ee"
      },
      "source": [
        "store <- store %>% group_by(행정동명) %>% summarise(상점개수 = length(상가업소번호))\n",
        "head(store)"
      ],
      "execution_count": null,
      "outputs": [
        {
          "output_type": "display_data",
          "data": {
            "text/plain": [
              "  행정동명 상점개수\n",
              "1            1     \n",
              "2 금암1동   81     \n",
              "3 금암2동   55     \n",
              "4 노송동    75     \n",
              "5 덕진동   114     \n",
              "6 동산동    62     "
            ],
            "text/latex": "A tibble: 6 × 2\n\\begin{tabular}{ll}\n 행정동명 & 상점개수\\\\\n <chr> & <int>\\\\\n\\hline\n\t         &   1\\\\\n\t 금암1동 &  81\\\\\n\t 금암2동 &  55\\\\\n\t 노송동  &  75\\\\\n\t 덕진동  & 114\\\\\n\t 동산동  &  62\\\\\n\\end{tabular}\n",
            "text/markdown": "\nA tibble: 6 × 2\n\n| 행정동명 &lt;chr&gt; | 상점개수 &lt;int&gt; |\n|---|---|\n| <!----> |   1 |\n| 금암1동 |  81 |\n| 금암2동 |  55 |\n| 노송동  |  75 |\n| 덕진동  | 114 |\n| 동산동  |  62 |\n\n",
            "text/html": [
              "<table class=\"dataframe\">\n",
              "<caption>A tibble: 6 × 2</caption>\n",
              "<thead>\n",
              "\t<tr><th scope=col>행정동명</th><th scope=col>상점개수</th></tr>\n",
              "\t<tr><th scope=col>&lt;chr&gt;</th><th scope=col>&lt;int&gt;</th></tr>\n",
              "</thead>\n",
              "<tbody>\n",
              "\t<tr><td>       </td><td>  1</td></tr>\n",
              "\t<tr><td>금암1동</td><td> 81</td></tr>\n",
              "\t<tr><td>금암2동</td><td> 55</td></tr>\n",
              "\t<tr><td>노송동 </td><td> 75</td></tr>\n",
              "\t<tr><td>덕진동 </td><td>114</td></tr>\n",
              "\t<tr><td>동산동 </td><td> 62</td></tr>\n",
              "</tbody>\n",
              "</table>\n"
            ]
          },
          "metadata": {
            "tags": []
          }
        }
      ]
    },
    {
      "cell_type": "markdown",
      "metadata": {
        "id": "AbNB2CyxODuv"
      },
      "source": [
        "\n",
        "\n",
        "1 데이터프레임으로 변경\n",
        "\n",
        "2 행정동을 기준으로 오름차순 정렬\n",
        "\n",
        "▼"
      ]
    },
    {
      "cell_type": "code",
      "metadata": {
        "id": "thlszABdNnEB",
        "colab": {
          "base_uri": "https://localhost:8080/"
        },
        "outputId": "f49f418b-62d8-476a-cfa6-44f706169a3c"
      },
      "source": [
        "store <- as.data.frame(store)\n",
        "store <- arrange(store, store$행정동명)\n",
        "store"
      ],
      "execution_count": null,
      "outputs": [
        {
          "output_type": "display_data",
          "data": {
            "text/plain": [
              "   행정동명  상점개수\n",
              "1              1     \n",
              "2  금암1동    81     \n",
              "3  금암2동    55     \n",
              "4  노송동     75     \n",
              "5  덕진동    114     \n",
              "6  동산동     62     \n",
              "7  동서학동   18     \n",
              "8  삼천1동    81     \n",
              "9  삼천2동   105     \n",
              "10 삼천3동    73     \n",
              "11 서서학동   21     \n",
              "12 서신동    318     \n",
              "13 송천1동    92     \n",
              "14 송천2동    96     \n",
              "15 여의동      1     \n",
              "16 완산동     17     \n",
              "17 우아1동   115     \n",
              "18 우아2동    73     \n",
              "19 인후1동    70     \n",
              "20 인후2동    61     \n",
              "21 인후3동   101     \n",
              "22 조촌동     36     \n",
              "23 중앙동    114     \n",
              "24 중화산1동  54     \n",
              "25 중화산2동 131     \n",
              "26 진북동     68     \n",
              "27 팔복동     50     \n",
              "28 평화1동    27     \n",
              "29 평화2동   187     \n",
              "30 풍남동    106     \n",
              "31 호성동     67     \n",
              "32 효자1동    65     \n",
              "33 효자2동    84     \n",
              "34 효자3동    61     \n",
              "35 효자4동   220     \n",
              "36 효자5동     1     "
            ],
            "text/latex": "A data.frame: 36 × 2\n\\begin{tabular}{ll}\n 행정동명 & 상점개수\\\\\n <chr> & <int>\\\\\n\\hline\n\t           &   1\\\\\n\t 금암1동   &  81\\\\\n\t 금암2동   &  55\\\\\n\t 노송동    &  75\\\\\n\t 덕진동    & 114\\\\\n\t 동산동    &  62\\\\\n\t 동서학동  &  18\\\\\n\t 삼천1동   &  81\\\\\n\t 삼천2동   & 105\\\\\n\t 삼천3동   &  73\\\\\n\t 서서학동  &  21\\\\\n\t 서신동    & 318\\\\\n\t 송천1동   &  92\\\\\n\t 송천2동   &  96\\\\\n\t 여의동    &   1\\\\\n\t 완산동    &  17\\\\\n\t 우아1동   & 115\\\\\n\t 우아2동   &  73\\\\\n\t 인후1동   &  70\\\\\n\t 인후2동   &  61\\\\\n\t 인후3동   & 101\\\\\n\t 조촌동    &  36\\\\\n\t 중앙동    & 114\\\\\n\t 중화산1동 &  54\\\\\n\t 중화산2동 & 131\\\\\n\t 진북동    &  68\\\\\n\t 팔복동    &  50\\\\\n\t 평화1동   &  27\\\\\n\t 평화2동   & 187\\\\\n\t 풍남동    & 106\\\\\n\t 호성동    &  67\\\\\n\t 효자1동   &  65\\\\\n\t 효자2동   &  84\\\\\n\t 효자3동   &  61\\\\\n\t 효자4동   & 220\\\\\n\t 효자5동   &   1\\\\\n\\end{tabular}\n",
            "text/markdown": "\nA data.frame: 36 × 2\n\n| 행정동명 &lt;chr&gt; | 상점개수 &lt;int&gt; |\n|---|---|\n| <!----> |   1 |\n| 금암1동   |  81 |\n| 금암2동   |  55 |\n| 노송동    |  75 |\n| 덕진동    | 114 |\n| 동산동    |  62 |\n| 동서학동  |  18 |\n| 삼천1동   |  81 |\n| 삼천2동   | 105 |\n| 삼천3동   |  73 |\n| 서서학동  |  21 |\n| 서신동    | 318 |\n| 송천1동   |  92 |\n| 송천2동   |  96 |\n| 여의동    |   1 |\n| 완산동    |  17 |\n| 우아1동   | 115 |\n| 우아2동   |  73 |\n| 인후1동   |  70 |\n| 인후2동   |  61 |\n| 인후3동   | 101 |\n| 조촌동    |  36 |\n| 중앙동    | 114 |\n| 중화산1동 |  54 |\n| 중화산2동 | 131 |\n| 진북동    |  68 |\n| 팔복동    |  50 |\n| 평화1동   |  27 |\n| 평화2동   | 187 |\n| 풍남동    | 106 |\n| 호성동    |  67 |\n| 효자1동   |  65 |\n| 효자2동   |  84 |\n| 효자3동   |  61 |\n| 효자4동   | 220 |\n| 효자5동   |   1 |\n\n",
            "text/html": [
              "<table class=\"dataframe\">\n",
              "<caption>A data.frame: 36 × 2</caption>\n",
              "<thead>\n",
              "\t<tr><th scope=col>행정동명</th><th scope=col>상점개수</th></tr>\n",
              "\t<tr><th scope=col>&lt;chr&gt;</th><th scope=col>&lt;int&gt;</th></tr>\n",
              "</thead>\n",
              "<tbody>\n",
              "\t<tr><td>         </td><td>  1</td></tr>\n",
              "\t<tr><td>금암1동  </td><td> 81</td></tr>\n",
              "\t<tr><td>금암2동  </td><td> 55</td></tr>\n",
              "\t<tr><td>노송동   </td><td> 75</td></tr>\n",
              "\t<tr><td>덕진동   </td><td>114</td></tr>\n",
              "\t<tr><td>동산동   </td><td> 62</td></tr>\n",
              "\t<tr><td>동서학동 </td><td> 18</td></tr>\n",
              "\t<tr><td>삼천1동  </td><td> 81</td></tr>\n",
              "\t<tr><td>삼천2동  </td><td>105</td></tr>\n",
              "\t<tr><td>삼천3동  </td><td> 73</td></tr>\n",
              "\t<tr><td>서서학동 </td><td> 21</td></tr>\n",
              "\t<tr><td>서신동   </td><td>318</td></tr>\n",
              "\t<tr><td>송천1동  </td><td> 92</td></tr>\n",
              "\t<tr><td>송천2동  </td><td> 96</td></tr>\n",
              "\t<tr><td>여의동   </td><td>  1</td></tr>\n",
              "\t<tr><td>완산동   </td><td> 17</td></tr>\n",
              "\t<tr><td>우아1동  </td><td>115</td></tr>\n",
              "\t<tr><td>우아2동  </td><td> 73</td></tr>\n",
              "\t<tr><td>인후1동  </td><td> 70</td></tr>\n",
              "\t<tr><td>인후2동  </td><td> 61</td></tr>\n",
              "\t<tr><td>인후3동  </td><td>101</td></tr>\n",
              "\t<tr><td>조촌동   </td><td> 36</td></tr>\n",
              "\t<tr><td>중앙동   </td><td>114</td></tr>\n",
              "\t<tr><td>중화산1동</td><td> 54</td></tr>\n",
              "\t<tr><td>중화산2동</td><td>131</td></tr>\n",
              "\t<tr><td>진북동   </td><td> 68</td></tr>\n",
              "\t<tr><td>팔복동   </td><td> 50</td></tr>\n",
              "\t<tr><td>평화1동  </td><td> 27</td></tr>\n",
              "\t<tr><td>평화2동  </td><td>187</td></tr>\n",
              "\t<tr><td>풍남동   </td><td>106</td></tr>\n",
              "\t<tr><td>호성동   </td><td> 67</td></tr>\n",
              "\t<tr><td>효자1동  </td><td> 65</td></tr>\n",
              "\t<tr><td>효자2동  </td><td> 84</td></tr>\n",
              "\t<tr><td>효자3동  </td><td> 61</td></tr>\n",
              "\t<tr><td>효자4동  </td><td>220</td></tr>\n",
              "\t<tr><td>효자5동  </td><td>  1</td></tr>\n",
              "</tbody>\n",
              "</table>\n"
            ]
          },
          "metadata": {
            "tags": []
          }
        }
      ]
    },
    {
      "cell_type": "markdown",
      "metadata": {
        "id": "ri7J_2noOLDG"
      },
      "source": [
        "▼ 데이터의 열이름을 '행정동', '상점개수'로 변경"
      ]
    },
    {
      "cell_type": "code",
      "metadata": {
        "id": "7_G9rLGKNrQH",
        "colab": {
          "base_uri": "https://localhost:8080/"
        },
        "outputId": "6078251c-3a73-48ac-9871-a3bb881ab538"
      },
      "source": [
        "names(store) <- c(\"행정동\", \"상점개수\")\n",
        "store"
      ],
      "execution_count": null,
      "outputs": [
        {
          "output_type": "display_data",
          "data": {
            "text/plain": [
              "   행정동    상점개수\n",
              "1              1     \n",
              "2  금암1동    81     \n",
              "3  금암2동    55     \n",
              "4  노송동     75     \n",
              "5  덕진동    114     \n",
              "6  동산동     62     \n",
              "7  동서학동   18     \n",
              "8  삼천1동    81     \n",
              "9  삼천2동   105     \n",
              "10 삼천3동    73     \n",
              "11 서서학동   21     \n",
              "12 서신동    318     \n",
              "13 송천1동    92     \n",
              "14 송천2동    96     \n",
              "15 여의동      1     \n",
              "16 완산동     17     \n",
              "17 우아1동   115     \n",
              "18 우아2동    73     \n",
              "19 인후1동    70     \n",
              "20 인후2동    61     \n",
              "21 인후3동   101     \n",
              "22 조촌동     36     \n",
              "23 중앙동    114     \n",
              "24 중화산1동  54     \n",
              "25 중화산2동 131     \n",
              "26 진북동     68     \n",
              "27 팔복동     50     \n",
              "28 평화1동    27     \n",
              "29 평화2동   187     \n",
              "30 풍남동    106     \n",
              "31 호성동     67     \n",
              "32 효자1동    65     \n",
              "33 효자2동    84     \n",
              "34 효자3동    61     \n",
              "35 효자4동   220     \n",
              "36 효자5동     1     "
            ],
            "text/latex": "A data.frame: 36 × 2\n\\begin{tabular}{ll}\n 행정동 & 상점개수\\\\\n <chr> & <int>\\\\\n\\hline\n\t           &   1\\\\\n\t 금암1동   &  81\\\\\n\t 금암2동   &  55\\\\\n\t 노송동    &  75\\\\\n\t 덕진동    & 114\\\\\n\t 동산동    &  62\\\\\n\t 동서학동  &  18\\\\\n\t 삼천1동   &  81\\\\\n\t 삼천2동   & 105\\\\\n\t 삼천3동   &  73\\\\\n\t 서서학동  &  21\\\\\n\t 서신동    & 318\\\\\n\t 송천1동   &  92\\\\\n\t 송천2동   &  96\\\\\n\t 여의동    &   1\\\\\n\t 완산동    &  17\\\\\n\t 우아1동   & 115\\\\\n\t 우아2동   &  73\\\\\n\t 인후1동   &  70\\\\\n\t 인후2동   &  61\\\\\n\t 인후3동   & 101\\\\\n\t 조촌동    &  36\\\\\n\t 중앙동    & 114\\\\\n\t 중화산1동 &  54\\\\\n\t 중화산2동 & 131\\\\\n\t 진북동    &  68\\\\\n\t 팔복동    &  50\\\\\n\t 평화1동   &  27\\\\\n\t 평화2동   & 187\\\\\n\t 풍남동    & 106\\\\\n\t 호성동    &  67\\\\\n\t 효자1동   &  65\\\\\n\t 효자2동   &  84\\\\\n\t 효자3동   &  61\\\\\n\t 효자4동   & 220\\\\\n\t 효자5동   &   1\\\\\n\\end{tabular}\n",
            "text/markdown": "\nA data.frame: 36 × 2\n\n| 행정동 &lt;chr&gt; | 상점개수 &lt;int&gt; |\n|---|---|\n| <!----> |   1 |\n| 금암1동   |  81 |\n| 금암2동   |  55 |\n| 노송동    |  75 |\n| 덕진동    | 114 |\n| 동산동    |  62 |\n| 동서학동  |  18 |\n| 삼천1동   |  81 |\n| 삼천2동   | 105 |\n| 삼천3동   |  73 |\n| 서서학동  |  21 |\n| 서신동    | 318 |\n| 송천1동   |  92 |\n| 송천2동   |  96 |\n| 여의동    |   1 |\n| 완산동    |  17 |\n| 우아1동   | 115 |\n| 우아2동   |  73 |\n| 인후1동   |  70 |\n| 인후2동   |  61 |\n| 인후3동   | 101 |\n| 조촌동    |  36 |\n| 중앙동    | 114 |\n| 중화산1동 |  54 |\n| 중화산2동 | 131 |\n| 진북동    |  68 |\n| 팔복동    |  50 |\n| 평화1동   |  27 |\n| 평화2동   | 187 |\n| 풍남동    | 106 |\n| 호성동    |  67 |\n| 효자1동   |  65 |\n| 효자2동   |  84 |\n| 효자3동   |  61 |\n| 효자4동   | 220 |\n| 효자5동   |   1 |\n\n",
            "text/html": [
              "<table class=\"dataframe\">\n",
              "<caption>A data.frame: 36 × 2</caption>\n",
              "<thead>\n",
              "\t<tr><th scope=col>행정동</th><th scope=col>상점개수</th></tr>\n",
              "\t<tr><th scope=col>&lt;chr&gt;</th><th scope=col>&lt;int&gt;</th></tr>\n",
              "</thead>\n",
              "<tbody>\n",
              "\t<tr><td>         </td><td>  1</td></tr>\n",
              "\t<tr><td>금암1동  </td><td> 81</td></tr>\n",
              "\t<tr><td>금암2동  </td><td> 55</td></tr>\n",
              "\t<tr><td>노송동   </td><td> 75</td></tr>\n",
              "\t<tr><td>덕진동   </td><td>114</td></tr>\n",
              "\t<tr><td>동산동   </td><td> 62</td></tr>\n",
              "\t<tr><td>동서학동 </td><td> 18</td></tr>\n",
              "\t<tr><td>삼천1동  </td><td> 81</td></tr>\n",
              "\t<tr><td>삼천2동  </td><td>105</td></tr>\n",
              "\t<tr><td>삼천3동  </td><td> 73</td></tr>\n",
              "\t<tr><td>서서학동 </td><td> 21</td></tr>\n",
              "\t<tr><td>서신동   </td><td>318</td></tr>\n",
              "\t<tr><td>송천1동  </td><td> 92</td></tr>\n",
              "\t<tr><td>송천2동  </td><td> 96</td></tr>\n",
              "\t<tr><td>여의동   </td><td>  1</td></tr>\n",
              "\t<tr><td>완산동   </td><td> 17</td></tr>\n",
              "\t<tr><td>우아1동  </td><td>115</td></tr>\n",
              "\t<tr><td>우아2동  </td><td> 73</td></tr>\n",
              "\t<tr><td>인후1동  </td><td> 70</td></tr>\n",
              "\t<tr><td>인후2동  </td><td> 61</td></tr>\n",
              "\t<tr><td>인후3동  </td><td>101</td></tr>\n",
              "\t<tr><td>조촌동   </td><td> 36</td></tr>\n",
              "\t<tr><td>중앙동   </td><td>114</td></tr>\n",
              "\t<tr><td>중화산1동</td><td> 54</td></tr>\n",
              "\t<tr><td>중화산2동</td><td>131</td></tr>\n",
              "\t<tr><td>진북동   </td><td> 68</td></tr>\n",
              "\t<tr><td>팔복동   </td><td> 50</td></tr>\n",
              "\t<tr><td>평화1동  </td><td> 27</td></tr>\n",
              "\t<tr><td>평화2동  </td><td>187</td></tr>\n",
              "\t<tr><td>풍남동   </td><td>106</td></tr>\n",
              "\t<tr><td>호성동   </td><td> 67</td></tr>\n",
              "\t<tr><td>효자1동  </td><td> 65</td></tr>\n",
              "\t<tr><td>효자2동  </td><td> 84</td></tr>\n",
              "\t<tr><td>효자3동  </td><td> 61</td></tr>\n",
              "\t<tr><td>효자4동  </td><td>220</td></tr>\n",
              "\t<tr><td>효자5동  </td><td>  1</td></tr>\n",
              "</tbody>\n",
              "</table>\n"
            ]
          },
          "metadata": {
            "tags": []
          }
        }
      ]
    },
    {
      "cell_type": "code",
      "metadata": {
        "colab": {
          "base_uri": "https://localhost:8080/"
        },
        "id": "Ttm_XV2ucF_0",
        "outputId": "e47bb28d-4230-4b10-971b-b0141cf1c4d3"
      },
      "source": [
        "table(store$행정동 %in% jjdong)\n",
        "table(jjdong %in% store$행정동)\n",
        "\n",
        "jjdong[jjdong %in% region$행정동 == FALSE] #store에는 없는 jjdong의 행정동\n",
        "store$행정동[store$행정동 %in% jjdong == FALSE] #store에는 없는 jjdong의 행정동"
      ],
      "execution_count": null,
      "outputs": [
        {
          "output_type": "display_data",
          "data": {
            "text/plain": [
              "\n",
              "FALSE  TRUE \n",
              "    2    34 "
            ]
          },
          "metadata": {
            "tags": []
          }
        },
        {
          "output_type": "display_data",
          "data": {
            "text/plain": [
              "\n",
              "FALSE  TRUE \n",
              "    1    34 "
            ]
          },
          "metadata": {
            "tags": []
          }
        },
        {
          "output_type": "display_data",
          "data": {
            "text/plain": [
              "character(0)"
            ],
            "text/latex": "",
            "text/markdown": "",
            "text/html": [
              ""
            ]
          },
          "metadata": {
            "tags": []
          }
        },
        {
          "output_type": "display_data",
          "data": {
            "text/plain": [
              "[1] \"\"       \"동산동\""
            ],
            "text/latex": "\\begin{enumerate*}\n\\item ''\n\\item '동산동'\n\\end{enumerate*}\n",
            "text/markdown": "1. ''\n2. '동산동'\n\n\n",
            "text/html": [
              "<style>\n",
              ".list-inline {list-style: none; margin:0; padding: 0}\n",
              ".list-inline>li {display: inline-block}\n",
              ".list-inline>li:not(:last-child)::after {content: \"\\00b7\"; padding: 0 .5ex}\n",
              "</style>\n",
              "<ol class=list-inline><li>''</li><li>'동산동'</li></ol>\n"
            ]
          },
          "metadata": {
            "tags": []
          }
        }
      ]
    },
    {
      "cell_type": "code",
      "metadata": {
        "colab": {
          "base_uri": "https://localhost:8080/"
        },
        "id": "jBYflpHou5a8",
        "outputId": "9555a643-3432-4044-b33e-c95d763e3ded"
      },
      "source": [
        "which(store$행정동 %in% jjdong == FALSE)\n",
        "store[which(store$행정동 %in% jjdong == FALSE), ]"
      ],
      "execution_count": null,
      "outputs": [
        {
          "output_type": "display_data",
          "data": {
            "text/plain": [
              "[1] 1 6"
            ],
            "text/latex": "\\begin{enumerate*}\n\\item 1\n\\item 6\n\\end{enumerate*}\n",
            "text/markdown": "1. 1\n2. 6\n\n\n",
            "text/html": [
              "<style>\n",
              ".list-inline {list-style: none; margin:0; padding: 0}\n",
              ".list-inline>li {display: inline-block}\n",
              ".list-inline>li:not(:last-child)::after {content: \"\\00b7\"; padding: 0 .5ex}\n",
              "</style>\n",
              "<ol class=list-inline><li>1</li><li>6</li></ol>\n"
            ]
          },
          "metadata": {
            "tags": []
          }
        },
        {
          "output_type": "display_data",
          "data": {
            "text/plain": [
              "  행정동 상점개수\n",
              "1         1      \n",
              "6 동산동 62      "
            ],
            "text/latex": "A data.frame: 2 × 2\n\\begin{tabular}{r|ll}\n  & 행정동 & 상점개수\\\\\n  & <chr> & <int>\\\\\n\\hline\n\t1 &        &  1\\\\\n\t6 & 동산동 & 62\\\\\n\\end{tabular}\n",
            "text/markdown": "\nA data.frame: 2 × 2\n\n| <!--/--> | 행정동 &lt;chr&gt; | 상점개수 &lt;int&gt; |\n|---|---|---|\n| 1 | <!----> |  1 |\n| 6 | 동산동 | 62 |\n\n",
            "text/html": [
              "<table class=\"dataframe\">\n",
              "<caption>A data.frame: 2 × 2</caption>\n",
              "<thead>\n",
              "\t<tr><th></th><th scope=col>행정동</th><th scope=col>상점개수</th></tr>\n",
              "\t<tr><th></th><th scope=col>&lt;chr&gt;</th><th scope=col>&lt;int&gt;</th></tr>\n",
              "</thead>\n",
              "<tbody>\n",
              "\t<tr><th scope=row>1</th><td>      </td><td> 1</td></tr>\n",
              "\t<tr><th scope=row>6</th><td>동산동</td><td>62</td></tr>\n",
              "</tbody>\n",
              "</table>\n"
            ]
          },
          "metadata": {
            "tags": []
          }
        }
      ]
    },
    {
      "cell_type": "code",
      "metadata": {
        "colab": {
          "base_uri": "https://localhost:8080/"
        },
        "id": "FwbHdwpIcK0W",
        "outputId": "e823b86a-320a-473c-e934-5e8461229869"
      },
      "source": [
        "store$행정동[which(store$행정동 == \"동산동\")] <- \"여의동\"\n",
        "store"
      ],
      "execution_count": null,
      "outputs": [
        {
          "output_type": "display_data",
          "data": {
            "text/plain": [
              "   행정동    상점개수\n",
              "1              1     \n",
              "2  금암1동    81     \n",
              "3  금암2동    55     \n",
              "4  노송동     75     \n",
              "5  덕진동    114     \n",
              "6  여의동     62     \n",
              "7  동서학동   18     \n",
              "8  삼천1동    81     \n",
              "9  삼천2동   105     \n",
              "10 삼천3동    73     \n",
              "11 서서학동   21     \n",
              "12 서신동    318     \n",
              "13 송천1동    92     \n",
              "14 송천2동    96     \n",
              "15 여의동      1     \n",
              "16 완산동     17     \n",
              "17 우아1동   115     \n",
              "18 우아2동    73     \n",
              "19 인후1동    70     \n",
              "20 인후2동    61     \n",
              "21 인후3동   101     \n",
              "22 조촌동     36     \n",
              "23 중앙동    114     \n",
              "24 중화산1동  54     \n",
              "25 중화산2동 131     \n",
              "26 진북동     68     \n",
              "27 팔복동     50     \n",
              "28 평화1동    27     \n",
              "29 평화2동   187     \n",
              "30 풍남동    106     \n",
              "31 호성동     67     \n",
              "32 효자1동    65     \n",
              "33 효자2동    84     \n",
              "34 효자3동    61     \n",
              "35 효자4동   220     \n",
              "36 효자5동     1     "
            ],
            "text/latex": "A data.frame: 36 × 2\n\\begin{tabular}{ll}\n 행정동 & 상점개수\\\\\n <chr> & <int>\\\\\n\\hline\n\t           &   1\\\\\n\t 금암1동   &  81\\\\\n\t 금암2동   &  55\\\\\n\t 노송동    &  75\\\\\n\t 덕진동    & 114\\\\\n\t 여의동    &  62\\\\\n\t 동서학동  &  18\\\\\n\t 삼천1동   &  81\\\\\n\t 삼천2동   & 105\\\\\n\t 삼천3동   &  73\\\\\n\t 서서학동  &  21\\\\\n\t 서신동    & 318\\\\\n\t 송천1동   &  92\\\\\n\t 송천2동   &  96\\\\\n\t 여의동    &   1\\\\\n\t 완산동    &  17\\\\\n\t 우아1동   & 115\\\\\n\t 우아2동   &  73\\\\\n\t 인후1동   &  70\\\\\n\t 인후2동   &  61\\\\\n\t 인후3동   & 101\\\\\n\t 조촌동    &  36\\\\\n\t 중앙동    & 114\\\\\n\t 중화산1동 &  54\\\\\n\t 중화산2동 & 131\\\\\n\t 진북동    &  68\\\\\n\t 팔복동    &  50\\\\\n\t 평화1동   &  27\\\\\n\t 평화2동   & 187\\\\\n\t 풍남동    & 106\\\\\n\t 호성동    &  67\\\\\n\t 효자1동   &  65\\\\\n\t 효자2동   &  84\\\\\n\t 효자3동   &  61\\\\\n\t 효자4동   & 220\\\\\n\t 효자5동   &   1\\\\\n\\end{tabular}\n",
            "text/markdown": "\nA data.frame: 36 × 2\n\n| 행정동 &lt;chr&gt; | 상점개수 &lt;int&gt; |\n|---|---|\n| <!----> |   1 |\n| 금암1동   |  81 |\n| 금암2동   |  55 |\n| 노송동    |  75 |\n| 덕진동    | 114 |\n| 여의동    |  62 |\n| 동서학동  |  18 |\n| 삼천1동   |  81 |\n| 삼천2동   | 105 |\n| 삼천3동   |  73 |\n| 서서학동  |  21 |\n| 서신동    | 318 |\n| 송천1동   |  92 |\n| 송천2동   |  96 |\n| 여의동    |   1 |\n| 완산동    |  17 |\n| 우아1동   | 115 |\n| 우아2동   |  73 |\n| 인후1동   |  70 |\n| 인후2동   |  61 |\n| 인후3동   | 101 |\n| 조촌동    |  36 |\n| 중앙동    | 114 |\n| 중화산1동 |  54 |\n| 중화산2동 | 131 |\n| 진북동    |  68 |\n| 팔복동    |  50 |\n| 평화1동   |  27 |\n| 평화2동   | 187 |\n| 풍남동    | 106 |\n| 호성동    |  67 |\n| 효자1동   |  65 |\n| 효자2동   |  84 |\n| 효자3동   |  61 |\n| 효자4동   | 220 |\n| 효자5동   |   1 |\n\n",
            "text/html": [
              "<table class=\"dataframe\">\n",
              "<caption>A data.frame: 36 × 2</caption>\n",
              "<thead>\n",
              "\t<tr><th scope=col>행정동</th><th scope=col>상점개수</th></tr>\n",
              "\t<tr><th scope=col>&lt;chr&gt;</th><th scope=col>&lt;int&gt;</th></tr>\n",
              "</thead>\n",
              "<tbody>\n",
              "\t<tr><td>         </td><td>  1</td></tr>\n",
              "\t<tr><td>금암1동  </td><td> 81</td></tr>\n",
              "\t<tr><td>금암2동  </td><td> 55</td></tr>\n",
              "\t<tr><td>노송동   </td><td> 75</td></tr>\n",
              "\t<tr><td>덕진동   </td><td>114</td></tr>\n",
              "\t<tr><td>여의동   </td><td> 62</td></tr>\n",
              "\t<tr><td>동서학동 </td><td> 18</td></tr>\n",
              "\t<tr><td>삼천1동  </td><td> 81</td></tr>\n",
              "\t<tr><td>삼천2동  </td><td>105</td></tr>\n",
              "\t<tr><td>삼천3동  </td><td> 73</td></tr>\n",
              "\t<tr><td>서서학동 </td><td> 21</td></tr>\n",
              "\t<tr><td>서신동   </td><td>318</td></tr>\n",
              "\t<tr><td>송천1동  </td><td> 92</td></tr>\n",
              "\t<tr><td>송천2동  </td><td> 96</td></tr>\n",
              "\t<tr><td>여의동   </td><td>  1</td></tr>\n",
              "\t<tr><td>완산동   </td><td> 17</td></tr>\n",
              "\t<tr><td>우아1동  </td><td>115</td></tr>\n",
              "\t<tr><td>우아2동  </td><td> 73</td></tr>\n",
              "\t<tr><td>인후1동  </td><td> 70</td></tr>\n",
              "\t<tr><td>인후2동  </td><td> 61</td></tr>\n",
              "\t<tr><td>인후3동  </td><td>101</td></tr>\n",
              "\t<tr><td>조촌동   </td><td> 36</td></tr>\n",
              "\t<tr><td>중앙동   </td><td>114</td></tr>\n",
              "\t<tr><td>중화산1동</td><td> 54</td></tr>\n",
              "\t<tr><td>중화산2동</td><td>131</td></tr>\n",
              "\t<tr><td>진북동   </td><td> 68</td></tr>\n",
              "\t<tr><td>팔복동   </td><td> 50</td></tr>\n",
              "\t<tr><td>평화1동  </td><td> 27</td></tr>\n",
              "\t<tr><td>평화2동  </td><td>187</td></tr>\n",
              "\t<tr><td>풍남동   </td><td>106</td></tr>\n",
              "\t<tr><td>호성동   </td><td> 67</td></tr>\n",
              "\t<tr><td>효자1동  </td><td> 65</td></tr>\n",
              "\t<tr><td>효자2동  </td><td> 84</td></tr>\n",
              "\t<tr><td>효자3동  </td><td> 61</td></tr>\n",
              "\t<tr><td>효자4동  </td><td>220</td></tr>\n",
              "\t<tr><td>효자5동  </td><td>  1</td></tr>\n",
              "</tbody>\n",
              "</table>\n"
            ]
          },
          "metadata": {
            "tags": []
          }
        }
      ]
    },
    {
      "cell_type": "code",
      "metadata": {
        "colab": {
          "base_uri": "https://localhost:8080/"
        },
        "id": "elcbTaa_c6NX",
        "outputId": "c4a38e1b-e03a-4b19-a877-35b76ac99219"
      },
      "source": [
        "store <- store %>% group_by(행정동) %>% summarise(상점개수 = sum(상점개수))\n",
        "store <- as.data.frame(store)\n",
        "store <- arrange(store, store$행정동)\n",
        "store <- store[-1,]\n",
        "store"
      ],
      "execution_count": null,
      "outputs": [
        {
          "output_type": "display_data",
          "data": {
            "text/plain": [
              "   행정동    상점개수\n",
              "2  금암1동    81     \n",
              "3  금암2동    55     \n",
              "4  노송동     75     \n",
              "5  덕진동    114     \n",
              "6  동서학동   18     \n",
              "7  삼천1동    81     \n",
              "8  삼천2동   105     \n",
              "9  삼천3동    73     \n",
              "10 서서학동   21     \n",
              "11 서신동    318     \n",
              "12 송천1동    92     \n",
              "13 송천2동    96     \n",
              "14 여의동     63     \n",
              "15 완산동     17     \n",
              "16 우아1동   115     \n",
              "17 우아2동    73     \n",
              "18 인후1동    70     \n",
              "19 인후2동    61     \n",
              "20 인후3동   101     \n",
              "21 조촌동     36     \n",
              "22 중앙동    114     \n",
              "23 중화산1동  54     \n",
              "24 중화산2동 131     \n",
              "25 진북동     68     \n",
              "26 팔복동     50     \n",
              "27 평화1동    27     \n",
              "28 평화2동   187     \n",
              "29 풍남동    106     \n",
              "30 호성동     67     \n",
              "31 효자1동    65     \n",
              "32 효자2동    84     \n",
              "33 효자3동    61     \n",
              "34 효자4동   220     \n",
              "35 효자5동     1     "
            ],
            "text/latex": "A data.frame: 34 × 2\n\\begin{tabular}{r|ll}\n  & 행정동 & 상점개수\\\\\n  & <chr> & <int>\\\\\n\\hline\n\t2 & 금암1동   &  81\\\\\n\t3 & 금암2동   &  55\\\\\n\t4 & 노송동    &  75\\\\\n\t5 & 덕진동    & 114\\\\\n\t6 & 동서학동  &  18\\\\\n\t7 & 삼천1동   &  81\\\\\n\t8 & 삼천2동   & 105\\\\\n\t9 & 삼천3동   &  73\\\\\n\t10 & 서서학동  &  21\\\\\n\t11 & 서신동    & 318\\\\\n\t12 & 송천1동   &  92\\\\\n\t13 & 송천2동   &  96\\\\\n\t14 & 여의동    &  63\\\\\n\t15 & 완산동    &  17\\\\\n\t16 & 우아1동   & 115\\\\\n\t17 & 우아2동   &  73\\\\\n\t18 & 인후1동   &  70\\\\\n\t19 & 인후2동   &  61\\\\\n\t20 & 인후3동   & 101\\\\\n\t21 & 조촌동    &  36\\\\\n\t22 & 중앙동    & 114\\\\\n\t23 & 중화산1동 &  54\\\\\n\t24 & 중화산2동 & 131\\\\\n\t25 & 진북동    &  68\\\\\n\t26 & 팔복동    &  50\\\\\n\t27 & 평화1동   &  27\\\\\n\t28 & 평화2동   & 187\\\\\n\t29 & 풍남동    & 106\\\\\n\t30 & 호성동    &  67\\\\\n\t31 & 효자1동   &  65\\\\\n\t32 & 효자2동   &  84\\\\\n\t33 & 효자3동   &  61\\\\\n\t34 & 효자4동   & 220\\\\\n\t35 & 효자5동   &   1\\\\\n\\end{tabular}\n",
            "text/markdown": "\nA data.frame: 34 × 2\n\n| <!--/--> | 행정동 &lt;chr&gt; | 상점개수 &lt;int&gt; |\n|---|---|---|\n| 2 | 금암1동   |  81 |\n| 3 | 금암2동   |  55 |\n| 4 | 노송동    |  75 |\n| 5 | 덕진동    | 114 |\n| 6 | 동서학동  |  18 |\n| 7 | 삼천1동   |  81 |\n| 8 | 삼천2동   | 105 |\n| 9 | 삼천3동   |  73 |\n| 10 | 서서학동  |  21 |\n| 11 | 서신동    | 318 |\n| 12 | 송천1동   |  92 |\n| 13 | 송천2동   |  96 |\n| 14 | 여의동    |  63 |\n| 15 | 완산동    |  17 |\n| 16 | 우아1동   | 115 |\n| 17 | 우아2동   |  73 |\n| 18 | 인후1동   |  70 |\n| 19 | 인후2동   |  61 |\n| 20 | 인후3동   | 101 |\n| 21 | 조촌동    |  36 |\n| 22 | 중앙동    | 114 |\n| 23 | 중화산1동 |  54 |\n| 24 | 중화산2동 | 131 |\n| 25 | 진북동    |  68 |\n| 26 | 팔복동    |  50 |\n| 27 | 평화1동   |  27 |\n| 28 | 평화2동   | 187 |\n| 29 | 풍남동    | 106 |\n| 30 | 호성동    |  67 |\n| 31 | 효자1동   |  65 |\n| 32 | 효자2동   |  84 |\n| 33 | 효자3동   |  61 |\n| 34 | 효자4동   | 220 |\n| 35 | 효자5동   |   1 |\n\n",
            "text/html": [
              "<table class=\"dataframe\">\n",
              "<caption>A data.frame: 34 × 2</caption>\n",
              "<thead>\n",
              "\t<tr><th></th><th scope=col>행정동</th><th scope=col>상점개수</th></tr>\n",
              "\t<tr><th></th><th scope=col>&lt;chr&gt;</th><th scope=col>&lt;int&gt;</th></tr>\n",
              "</thead>\n",
              "<tbody>\n",
              "\t<tr><th scope=row>2</th><td>금암1동  </td><td> 81</td></tr>\n",
              "\t<tr><th scope=row>3</th><td>금암2동  </td><td> 55</td></tr>\n",
              "\t<tr><th scope=row>4</th><td>노송동   </td><td> 75</td></tr>\n",
              "\t<tr><th scope=row>5</th><td>덕진동   </td><td>114</td></tr>\n",
              "\t<tr><th scope=row>6</th><td>동서학동 </td><td> 18</td></tr>\n",
              "\t<tr><th scope=row>7</th><td>삼천1동  </td><td> 81</td></tr>\n",
              "\t<tr><th scope=row>8</th><td>삼천2동  </td><td>105</td></tr>\n",
              "\t<tr><th scope=row>9</th><td>삼천3동  </td><td> 73</td></tr>\n",
              "\t<tr><th scope=row>10</th><td>서서학동 </td><td> 21</td></tr>\n",
              "\t<tr><th scope=row>11</th><td>서신동   </td><td>318</td></tr>\n",
              "\t<tr><th scope=row>12</th><td>송천1동  </td><td> 92</td></tr>\n",
              "\t<tr><th scope=row>13</th><td>송천2동  </td><td> 96</td></tr>\n",
              "\t<tr><th scope=row>14</th><td>여의동   </td><td> 63</td></tr>\n",
              "\t<tr><th scope=row>15</th><td>완산동   </td><td> 17</td></tr>\n",
              "\t<tr><th scope=row>16</th><td>우아1동  </td><td>115</td></tr>\n",
              "\t<tr><th scope=row>17</th><td>우아2동  </td><td> 73</td></tr>\n",
              "\t<tr><th scope=row>18</th><td>인후1동  </td><td> 70</td></tr>\n",
              "\t<tr><th scope=row>19</th><td>인후2동  </td><td> 61</td></tr>\n",
              "\t<tr><th scope=row>20</th><td>인후3동  </td><td>101</td></tr>\n",
              "\t<tr><th scope=row>21</th><td>조촌동   </td><td> 36</td></tr>\n",
              "\t<tr><th scope=row>22</th><td>중앙동   </td><td>114</td></tr>\n",
              "\t<tr><th scope=row>23</th><td>중화산1동</td><td> 54</td></tr>\n",
              "\t<tr><th scope=row>24</th><td>중화산2동</td><td>131</td></tr>\n",
              "\t<tr><th scope=row>25</th><td>진북동   </td><td> 68</td></tr>\n",
              "\t<tr><th scope=row>26</th><td>팔복동   </td><td> 50</td></tr>\n",
              "\t<tr><th scope=row>27</th><td>평화1동  </td><td> 27</td></tr>\n",
              "\t<tr><th scope=row>28</th><td>평화2동  </td><td>187</td></tr>\n",
              "\t<tr><th scope=row>29</th><td>풍남동   </td><td>106</td></tr>\n",
              "\t<tr><th scope=row>30</th><td>호성동   </td><td> 67</td></tr>\n",
              "\t<tr><th scope=row>31</th><td>효자1동  </td><td> 65</td></tr>\n",
              "\t<tr><th scope=row>32</th><td>효자2동  </td><td> 84</td></tr>\n",
              "\t<tr><th scope=row>33</th><td>효자3동  </td><td> 61</td></tr>\n",
              "\t<tr><th scope=row>34</th><td>효자4동  </td><td>220</td></tr>\n",
              "\t<tr><th scope=row>35</th><td>효자5동  </td><td>  1</td></tr>\n",
              "</tbody>\n",
              "</table>\n"
            ]
          },
          "metadata": {
            "tags": []
          }
        }
      ]
    },
    {
      "cell_type": "markdown",
      "metadata": {
        "id": "Hq-byxDxTrUO"
      },
      "source": [
        "## 상권지수"
      ]
    },
    {
      "cell_type": "code",
      "metadata": {
        "colab": {
          "base_uri": "https://localhost:8080/",
          "height": 104
        },
        "id": "FcD8mRrvTtkB",
        "outputId": "de07b85c-e273-48d0-b984-7be924c21189"
      },
      "source": [
        "options(digits = 4)\n",
        "상권지수 <- store$상점개수 / region$면적.km\n",
        "상권지수"
      ],
      "execution_count": null,
      "outputs": [
        {
          "output_type": "stream",
          "text": [
            "Warning message in store$상점개수/region$면적.km:\n",
            "“longer object length is not a multiple of shorter object length”\n"
          ],
          "name": "stderr"
        },
        {
          "output_type": "display_data",
          "data": {
            "text/plain": [
              " [1]  64.8000  44.0000  35.8852  23.8494   1.1509  63.7795 110.5263   2.7444\n",
              " [9]   7.0707 133.0544  19.2067   7.9077   4.0102  17.1717  79.8611   3.1864\n",
              "[17]  54.2636  46.2121  60.1190   1.4827  84.4444  44.2623  76.1628  39.7661\n",
              "[25]   6.7751  18.1208  12.2784  51.7073  19.8813   8.5079  82.3529  72.6190\n",
              "[33] 278.4810   0.1297  12.9187"
            ],
            "text/latex": "\\begin{enumerate*}\n\\item 64.8\n\\item 44\n\\item 35.8851674641148\n\\item 23.8493723849372\n\\item 1.15089514066496\n\\item 63.7795275590551\n\\item 110.526315789474\n\\item 2.74436090225564\n\\item 7.07070707070707\n\\item 133.054393305439\n\\item 19.2066805845511\n\\item 7.90774299835255\n\\item 4.01018459579885\n\\item 17.1717171717172\n\\item 79.8611111111111\n\\item 3.1863814927979\n\\item 54.2635658914729\n\\item 46.2121212121212\n\\item 60.1190476190476\n\\item 1.4827018121911\n\\item 84.4444444444444\n\\item 44.2622950819672\n\\item 76.1627906976744\n\\item 39.766081871345\n\\item 6.77506775067751\n\\item 18.1208053691275\n\\item 12.2783978988838\n\\item 51.7073170731707\n\\item 19.8813056379822\n\\item 8.50785340314136\n\\item 82.3529411764706\n\\item 72.6190476190476\n\\item 278.481012658228\n\\item 0.12970168612192\n\\item 12.9186602870813\n\\end{enumerate*}\n",
            "text/markdown": "1. 64.8\n2. 44\n3. 35.8851674641148\n4. 23.8493723849372\n5. 1.15089514066496\n6. 63.7795275590551\n7. 110.526315789474\n8. 2.74436090225564\n9. 7.07070707070707\n10. 133.054393305439\n11. 19.2066805845511\n12. 7.90774299835255\n13. 4.01018459579885\n14. 17.1717171717172\n15. 79.8611111111111\n16. 3.1863814927979\n17. 54.2635658914729\n18. 46.2121212121212\n19. 60.1190476190476\n20. 1.4827018121911\n21. 84.4444444444444\n22. 44.2622950819672\n23. 76.1627906976744\n24. 39.766081871345\n25. 6.77506775067751\n26. 18.1208053691275\n27. 12.2783978988838\n28. 51.7073170731707\n29. 19.8813056379822\n30. 8.50785340314136\n31. 82.3529411764706\n32. 72.6190476190476\n33. 278.481012658228\n34. 0.12970168612192\n35. 12.9186602870813\n\n\n",
            "text/html": [
              "<style>\n",
              ".list-inline {list-style: none; margin:0; padding: 0}\n",
              ".list-inline>li {display: inline-block}\n",
              ".list-inline>li:not(:last-child)::after {content: \"\\00b7\"; padding: 0 .5ex}\n",
              "</style>\n",
              "<ol class=list-inline><li>64.8</li><li>44</li><li>35.8851674641148</li><li>23.8493723849372</li><li>1.15089514066496</li><li>63.7795275590551</li><li>110.526315789474</li><li>2.74436090225564</li><li>7.07070707070707</li><li>133.054393305439</li><li>19.2066805845511</li><li>7.90774299835255</li><li>4.01018459579885</li><li>17.1717171717172</li><li>79.8611111111111</li><li>3.1863814927979</li><li>54.2635658914729</li><li>46.2121212121212</li><li>60.1190476190476</li><li>1.4827018121911</li><li>84.4444444444444</li><li>44.2622950819672</li><li>76.1627906976744</li><li>39.766081871345</li><li>6.77506775067751</li><li>18.1208053691275</li><li>12.2783978988838</li><li>51.7073170731707</li><li>19.8813056379822</li><li>8.50785340314136</li><li>82.3529411764706</li><li>72.6190476190476</li><li>278.481012658228</li><li>0.12970168612192</li><li>12.9186602870813</li></ol>\n"
            ]
          },
          "metadata": {
            "tags": []
          }
        }
      ]
    },
    {
      "cell_type": "markdown",
      "metadata": {
        "id": "zXPtyCAGiYxh"
      },
      "source": [
        "## 공원수"
      ]
    },
    {
      "cell_type": "code",
      "metadata": {
        "colab": {
          "base_uri": "https://localhost:8080/"
        },
        "id": "Q44TIp9aibdR",
        "outputId": "0f2c38ce-6c12-4824-b334-23432c66c05d"
      },
      "source": [
        "str(park)\n",
        "head(park)"
      ],
      "execution_count": null,
      "outputs": [
        {
          "output_type": "stream",
          "text": [
            "'data.frame':\t10 obs. of  23 variables:\n",
            " $ X            : int  0 1 2 3 4 5 6 7 8 9\n",
            " $ dataContent  : logi  NA NA NA NA NA NA ...\n",
            " $ dataSid      : int  249 248 247 246 245 244 243 242 241 240\n",
            " $ dataTitle    : chr  \"추천대공원\" \"역사도심공원\" \"이목대공원\" \"동산구역A\" ...\n",
            " $ parkAddr     : chr  \"전라북도 전주시 덕진구 추천로 82\" \" \" \" \" \" \" ...\n",
            " $ parkArea     : num  4780 208 264 1405 499 ...\n",
            " $ parkFact1    : logi  NA NA NA NA NA NA ...\n",
            " $ parkFact2    : logi  NA NA NA NA NA NA ...\n",
            " $ parkFact3    : logi  NA NA NA NA NA NA ...\n",
            " $ parkFact4    : logi  NA NA NA NA NA NA ...\n",
            " $ parkFact5    : logi  NA NA NA NA NA NA ...\n",
            " $ parkGubun    : chr  \"소공원\" \"소공원\" \"소공원\" \"소공원\" ...\n",
            " $ parkLoadAddr : chr  \"전라북도 전주시 덕진구 팔복동2가 94-4\" \"전라북도 전주시 완산구 고사동 324-14\" \"전라북도 전주시 완산구 교동 54-16\" \"전라북도 전주시 덕진구 여의동2가 601-5\" ...\n",
            " $ parkLocation : logi  NA NA NA NA NA NA ...\n",
            " $ parkNo       : chr  \"45113-00111\" \"45111-00140\" \"45111-00139\" \"45113-00110\" ...\n",
            " $ parkNoticeday: chr  \"2019-09-11\" \"2018-04-30\" \"2018-12-14\" \"2017-07-14\" ...\n",
            " $ parkOrgnm    : chr  \"전라북도 전주시 덕진구청\" \"전라북도 전주시 덕진구청\" \"전라북도 전주시 덕진구청\" \"전라북도 전주시 덕진구청\" ...\n",
            " $ parkRegdate  : chr  \"2020-08-31\" \"2020-08-31\" \"2020-08-31\" \"2020-08-31\" ...\n",
            " $ parkSido     : logi  NA NA NA NA NA NA ...\n",
            " $ parkTel      : chr  \"063-270-6389\" \"063-220-5438\" \"063-220-5438\" \"063-270-6389\" ...\n",
            " $ parkZip      : logi  NA NA NA NA NA NA ...\n",
            " $ posx         : num  127 NA 127 127 127 ...\n",
            " $ posy         : num  35.8 35.8 35.8 35.9 35.9 ...\n"
          ],
          "name": "stdout"
        },
        {
          "output_type": "display_data",
          "data": {
            "text/plain": [
              "  X dataContent dataSid dataTitle        parkAddr                        \n",
              "1 0 NA          249     추천대공원       전라북도 전주시 덕진구 추천로 82\n",
              "2 1 NA          248     역사도심공원                                     \n",
              "3 2 NA          247     이목대공원                                       \n",
              "4 3 NA          246     동산구역A                                        \n",
              "5 4 NA          245     동산구역B                                        \n",
              "6 5 NA          244     제187호 근린공원                                 \n",
              "  parkArea parkFact1 parkFact2 parkFact3 parkFact4 ⋯ parkLocation parkNo     \n",
              "1 4780     NA        NA        NA        NA        ⋯ NA           45113-00111\n",
              "2  208     NA        NA        NA        NA        ⋯ NA           45111-00140\n",
              "3  264     NA        NA        NA        NA        ⋯ NA           45111-00139\n",
              "4 1405     NA        NA        NA        NA        ⋯ NA           45113-00110\n",
              "5  499     NA        NA        NA        NA        ⋯ NA           45113-00109\n",
              "6 5153     NA        NA        NA        NA        ⋯ NA           45113-00108\n",
              "  parkNoticeday parkOrgnm                parkRegdate parkSido parkTel     \n",
              "1 2019-09-11    전라북도 전주시 덕진구청 2020-08-31  NA       063-270-6389\n",
              "2 2018-04-30    전라북도 전주시 덕진구청 2020-08-31  NA       063-220-5438\n",
              "3 2018-12-14    전라북도 전주시 덕진구청 2020-08-31  NA       063-220-5438\n",
              "4 2017-07-14    전라북도 전주시 덕진구청 2020-08-31  NA       063-270-6389\n",
              "5 2017-07-14    전라북도 전주시 덕진구청 2020-08-31  NA       063-270-6389\n",
              "6 2016-09-13    전라북도 전주시 덕진구청 2020-08-31  NA       063-270-6390\n",
              "  parkZip posx  posy \n",
              "1 NA      127.1 35.85\n",
              "2 NA         NA 35.82\n",
              "3 NA      127.2 35.81\n",
              "4 NA      127.1 35.87\n",
              "5 NA      127.1 35.87\n",
              "6 NA      127.2 35.83"
            ],
            "text/latex": "A data.frame: 6 × 23\n\\begin{tabular}{r|lllllllllllllllllllll}\n  & X & dataContent & dataSid & dataTitle & parkAddr & parkArea & parkFact1 & parkFact2 & parkFact3 & parkFact4 & ⋯ & parkLocation & parkNo & parkNoticeday & parkOrgnm & parkRegdate & parkSido & parkTel & parkZip & posx & posy\\\\\n  & <int> & <lgl> & <int> & <chr> & <chr> & <dbl> & <lgl> & <lgl> & <lgl> & <lgl> & ⋯ & <lgl> & <chr> & <chr> & <chr> & <chr> & <lgl> & <chr> & <lgl> & <dbl> & <dbl>\\\\\n\\hline\n\t1 & 0 & NA & 249 & 추천대공원       & 전라북도 전주시 덕진구 추천로 82 & 4780 & NA & NA & NA & NA & ⋯ & NA & 45113-00111 & 2019-09-11 & 전라북도 전주시 덕진구청 & 2020-08-31 & NA & 063-270-6389 & NA & 127.1 & 35.85\\\\\n\t2 & 1 & NA & 248 & 역사도심공원     &                                  &  208 & NA & NA & NA & NA & ⋯ & NA & 45111-00140 & 2018-04-30 & 전라북도 전주시 덕진구청 & 2020-08-31 & NA & 063-220-5438 & NA &    NA & 35.82\\\\\n\t3 & 2 & NA & 247 & 이목대공원       &                                  &  264 & NA & NA & NA & NA & ⋯ & NA & 45111-00139 & 2018-12-14 & 전라북도 전주시 덕진구청 & 2020-08-31 & NA & 063-220-5438 & NA & 127.2 & 35.81\\\\\n\t4 & 3 & NA & 246 & 동산구역A        &                                  & 1405 & NA & NA & NA & NA & ⋯ & NA & 45113-00110 & 2017-07-14 & 전라북도 전주시 덕진구청 & 2020-08-31 & NA & 063-270-6389 & NA & 127.1 & 35.87\\\\\n\t5 & 4 & NA & 245 & 동산구역B        &                                  &  499 & NA & NA & NA & NA & ⋯ & NA & 45113-00109 & 2017-07-14 & 전라북도 전주시 덕진구청 & 2020-08-31 & NA & 063-270-6389 & NA & 127.1 & 35.87\\\\\n\t6 & 5 & NA & 244 & 제187호 근린공원 &                                  & 5153 & NA & NA & NA & NA & ⋯ & NA & 45113-00108 & 2016-09-13 & 전라북도 전주시 덕진구청 & 2020-08-31 & NA & 063-270-6390 & NA & 127.2 & 35.83\\\\\n\\end{tabular}\n",
            "text/markdown": "\nA data.frame: 6 × 23\n\n| <!--/--> | X &lt;int&gt; | dataContent &lt;lgl&gt; | dataSid &lt;int&gt; | dataTitle &lt;chr&gt; | parkAddr &lt;chr&gt; | parkArea &lt;dbl&gt; | parkFact1 &lt;lgl&gt; | parkFact2 &lt;lgl&gt; | parkFact3 &lt;lgl&gt; | parkFact4 &lt;lgl&gt; | ⋯ ⋯ | parkLocation &lt;lgl&gt; | parkNo &lt;chr&gt; | parkNoticeday &lt;chr&gt; | parkOrgnm &lt;chr&gt; | parkRegdate &lt;chr&gt; | parkSido &lt;lgl&gt; | parkTel &lt;chr&gt; | parkZip &lt;lgl&gt; | posx &lt;dbl&gt; | posy &lt;dbl&gt; |\n|---|---|---|---|---|---|---|---|---|---|---|---|---|---|---|---|---|---|---|---|---|---|\n| 1 | 0 | NA | 249 | 추천대공원       | 전라북도 전주시 덕진구 추천로 82 | 4780 | NA | NA | NA | NA | ⋯ | NA | 45113-00111 | 2019-09-11 | 전라북도 전주시 덕진구청 | 2020-08-31 | NA | 063-270-6389 | NA | 127.1 | 35.85 |\n| 2 | 1 | NA | 248 | 역사도심공원     | <!----> |  208 | NA | NA | NA | NA | ⋯ | NA | 45111-00140 | 2018-04-30 | 전라북도 전주시 덕진구청 | 2020-08-31 | NA | 063-220-5438 | NA |    NA | 35.82 |\n| 3 | 2 | NA | 247 | 이목대공원       | <!----> |  264 | NA | NA | NA | NA | ⋯ | NA | 45111-00139 | 2018-12-14 | 전라북도 전주시 덕진구청 | 2020-08-31 | NA | 063-220-5438 | NA | 127.2 | 35.81 |\n| 4 | 3 | NA | 246 | 동산구역A        | <!----> | 1405 | NA | NA | NA | NA | ⋯ | NA | 45113-00110 | 2017-07-14 | 전라북도 전주시 덕진구청 | 2020-08-31 | NA | 063-270-6389 | NA | 127.1 | 35.87 |\n| 5 | 4 | NA | 245 | 동산구역B        | <!----> |  499 | NA | NA | NA | NA | ⋯ | NA | 45113-00109 | 2017-07-14 | 전라북도 전주시 덕진구청 | 2020-08-31 | NA | 063-270-6389 | NA | 127.1 | 35.87 |\n| 6 | 5 | NA | 244 | 제187호 근린공원 | <!----> | 5153 | NA | NA | NA | NA | ⋯ | NA | 45113-00108 | 2016-09-13 | 전라북도 전주시 덕진구청 | 2020-08-31 | NA | 063-270-6390 | NA | 127.2 | 35.83 |\n\n",
            "text/html": [
              "<table class=\"dataframe\">\n",
              "<caption>A data.frame: 6 × 23</caption>\n",
              "<thead>\n",
              "\t<tr><th></th><th scope=col>X</th><th scope=col>dataContent</th><th scope=col>dataSid</th><th scope=col>dataTitle</th><th scope=col>parkAddr</th><th scope=col>parkArea</th><th scope=col>parkFact1</th><th scope=col>parkFact2</th><th scope=col>parkFact3</th><th scope=col>parkFact4</th><th scope=col>⋯</th><th scope=col>parkLocation</th><th scope=col>parkNo</th><th scope=col>parkNoticeday</th><th scope=col>parkOrgnm</th><th scope=col>parkRegdate</th><th scope=col>parkSido</th><th scope=col>parkTel</th><th scope=col>parkZip</th><th scope=col>posx</th><th scope=col>posy</th></tr>\n",
              "\t<tr><th></th><th scope=col>&lt;int&gt;</th><th scope=col>&lt;lgl&gt;</th><th scope=col>&lt;int&gt;</th><th scope=col>&lt;chr&gt;</th><th scope=col>&lt;chr&gt;</th><th scope=col>&lt;dbl&gt;</th><th scope=col>&lt;lgl&gt;</th><th scope=col>&lt;lgl&gt;</th><th scope=col>&lt;lgl&gt;</th><th scope=col>&lt;lgl&gt;</th><th scope=col>⋯</th><th scope=col>&lt;lgl&gt;</th><th scope=col>&lt;chr&gt;</th><th scope=col>&lt;chr&gt;</th><th scope=col>&lt;chr&gt;</th><th scope=col>&lt;chr&gt;</th><th scope=col>&lt;lgl&gt;</th><th scope=col>&lt;chr&gt;</th><th scope=col>&lt;lgl&gt;</th><th scope=col>&lt;dbl&gt;</th><th scope=col>&lt;dbl&gt;</th></tr>\n",
              "</thead>\n",
              "<tbody>\n",
              "\t<tr><th scope=row>1</th><td>0</td><td>NA</td><td>249</td><td>추천대공원      </td><td>전라북도 전주시 덕진구 추천로 82</td><td>4780</td><td>NA</td><td>NA</td><td>NA</td><td>NA</td><td>⋯</td><td>NA</td><td>45113-00111</td><td>2019-09-11</td><td>전라북도 전주시 덕진구청</td><td>2020-08-31</td><td>NA</td><td>063-270-6389</td><td>NA</td><td>127.1</td><td>35.85</td></tr>\n",
              "\t<tr><th scope=row>2</th><td>1</td><td>NA</td><td>248</td><td>역사도심공원    </td><td>                                </td><td> 208</td><td>NA</td><td>NA</td><td>NA</td><td>NA</td><td>⋯</td><td>NA</td><td>45111-00140</td><td>2018-04-30</td><td>전라북도 전주시 덕진구청</td><td>2020-08-31</td><td>NA</td><td>063-220-5438</td><td>NA</td><td>   NA</td><td>35.82</td></tr>\n",
              "\t<tr><th scope=row>3</th><td>2</td><td>NA</td><td>247</td><td>이목대공원      </td><td>                                </td><td> 264</td><td>NA</td><td>NA</td><td>NA</td><td>NA</td><td>⋯</td><td>NA</td><td>45111-00139</td><td>2018-12-14</td><td>전라북도 전주시 덕진구청</td><td>2020-08-31</td><td>NA</td><td>063-220-5438</td><td>NA</td><td>127.2</td><td>35.81</td></tr>\n",
              "\t<tr><th scope=row>4</th><td>3</td><td>NA</td><td>246</td><td>동산구역A       </td><td>                                </td><td>1405</td><td>NA</td><td>NA</td><td>NA</td><td>NA</td><td>⋯</td><td>NA</td><td>45113-00110</td><td>2017-07-14</td><td>전라북도 전주시 덕진구청</td><td>2020-08-31</td><td>NA</td><td>063-270-6389</td><td>NA</td><td>127.1</td><td>35.87</td></tr>\n",
              "\t<tr><th scope=row>5</th><td>4</td><td>NA</td><td>245</td><td>동산구역B       </td><td>                                </td><td> 499</td><td>NA</td><td>NA</td><td>NA</td><td>NA</td><td>⋯</td><td>NA</td><td>45113-00109</td><td>2017-07-14</td><td>전라북도 전주시 덕진구청</td><td>2020-08-31</td><td>NA</td><td>063-270-6389</td><td>NA</td><td>127.1</td><td>35.87</td></tr>\n",
              "\t<tr><th scope=row>6</th><td>5</td><td>NA</td><td>244</td><td>제187호 근린공원</td><td>                                </td><td>5153</td><td>NA</td><td>NA</td><td>NA</td><td>NA</td><td>⋯</td><td>NA</td><td>45113-00108</td><td>2016-09-13</td><td>전라북도 전주시 덕진구청</td><td>2020-08-31</td><td>NA</td><td>063-270-6390</td><td>NA</td><td>127.2</td><td>35.83</td></tr>\n",
              "</tbody>\n",
              "</table>\n"
            ]
          },
          "metadata": {
            "tags": []
          }
        }
      ]
    },
    {
      "cell_type": "code",
      "metadata": {
        "colab": {
          "base_uri": "https://localhost:8080/"
        },
        "id": "odIBLnTmid_n",
        "outputId": "782b5a44-2dc6-47c6-97ac-8e98e2846f38"
      },
      "source": [
        "park <- park[, c(4,6,13)]\n",
        "park$parkLoadAddr <- c(\"팔복동\", \"중앙동\", \"풍남동\", \"여의동\", \"여의동\",\n",
        "                       \"우아2동\", \"송천2동\", \"송천2동\", \"우아2동\", \"팔복동\")\n",
        "park"
      ],
      "execution_count": null,
      "outputs": [
        {
          "output_type": "display_data",
          "data": {
            "text/plain": [
              "   dataTitle        parkArea parkLoadAddr\n",
              "1  추천대공원        4780    팔복동      \n",
              "2  역사도심공원       208    중앙동      \n",
              "3  이목대공원         264    풍남동      \n",
              "4  동산구역A         1405    여의동      \n",
              "5  동산구역B          499    여의동      \n",
              "6  제187호 근린공원  5153    우아2동     \n",
              "7  에코시티5호      11157    송천2동     \n",
              "8  에코시티 1호공원  1500    송천2동     \n",
              "9  철도178호        36018    우아2동     \n",
              "10 팔복문화공원     13242    팔복동      "
            ],
            "text/latex": "A data.frame: 10 × 3\n\\begin{tabular}{lll}\n dataTitle & parkArea & parkLoadAddr\\\\\n <chr> & <dbl> & <chr>\\\\\n\\hline\n\t 추천대공원       &  4780 & 팔복동 \\\\\n\t 역사도심공원     &   208 & 중앙동 \\\\\n\t 이목대공원       &   264 & 풍남동 \\\\\n\t 동산구역A        &  1405 & 여의동 \\\\\n\t 동산구역B        &   499 & 여의동 \\\\\n\t 제187호 근린공원 &  5153 & 우아2동\\\\\n\t 에코시티5호      & 11157 & 송천2동\\\\\n\t 에코시티 1호공원 &  1500 & 송천2동\\\\\n\t 철도178호        & 36018 & 우아2동\\\\\n\t 팔복문화공원     & 13242 & 팔복동 \\\\\n\\end{tabular}\n",
            "text/markdown": "\nA data.frame: 10 × 3\n\n| dataTitle &lt;chr&gt; | parkArea &lt;dbl&gt; | parkLoadAddr &lt;chr&gt; |\n|---|---|---|\n| 추천대공원       |  4780 | 팔복동  |\n| 역사도심공원     |   208 | 중앙동  |\n| 이목대공원       |   264 | 풍남동  |\n| 동산구역A        |  1405 | 여의동  |\n| 동산구역B        |   499 | 여의동  |\n| 제187호 근린공원 |  5153 | 우아2동 |\n| 에코시티5호      | 11157 | 송천2동 |\n| 에코시티 1호공원 |  1500 | 송천2동 |\n| 철도178호        | 36018 | 우아2동 |\n| 팔복문화공원     | 13242 | 팔복동  |\n\n",
            "text/html": [
              "<table class=\"dataframe\">\n",
              "<caption>A data.frame: 10 × 3</caption>\n",
              "<thead>\n",
              "\t<tr><th scope=col>dataTitle</th><th scope=col>parkArea</th><th scope=col>parkLoadAddr</th></tr>\n",
              "\t<tr><th scope=col>&lt;chr&gt;</th><th scope=col>&lt;dbl&gt;</th><th scope=col>&lt;chr&gt;</th></tr>\n",
              "</thead>\n",
              "<tbody>\n",
              "\t<tr><td>추천대공원      </td><td> 4780</td><td>팔복동 </td></tr>\n",
              "\t<tr><td>역사도심공원    </td><td>  208</td><td>중앙동 </td></tr>\n",
              "\t<tr><td>이목대공원      </td><td>  264</td><td>풍남동 </td></tr>\n",
              "\t<tr><td>동산구역A       </td><td> 1405</td><td>여의동 </td></tr>\n",
              "\t<tr><td>동산구역B       </td><td>  499</td><td>여의동 </td></tr>\n",
              "\t<tr><td>제187호 근린공원</td><td> 5153</td><td>우아2동</td></tr>\n",
              "\t<tr><td>에코시티5호     </td><td>11157</td><td>송천2동</td></tr>\n",
              "\t<tr><td>에코시티 1호공원</td><td> 1500</td><td>송천2동</td></tr>\n",
              "\t<tr><td>철도178호       </td><td>36018</td><td>우아2동</td></tr>\n",
              "\t<tr><td>팔복문화공원    </td><td>13242</td><td>팔복동 </td></tr>\n",
              "</tbody>\n",
              "</table>\n"
            ]
          },
          "metadata": {
            "tags": []
          }
        }
      ]
    },
    {
      "cell_type": "code",
      "metadata": {
        "colab": {
          "base_uri": "https://localhost:8080/"
        },
        "id": "egPioZPvijCZ",
        "outputId": "13684eb4-9a97-4893-8fc6-3835d7b0be18"
      },
      "source": [
        "park <- park %>% group_by(parkLoadAddr) %>% summarise(공원수 = length(dataTitle))\n",
        "park <- as.data.frame(park)\n",
        "names(park)[1] <- \"행정동\"\n",
        "park <- arrange(park, park$행정동)\n",
        "park"
      ],
      "execution_count": null,
      "outputs": [
        {
          "output_type": "display_data",
          "data": {
            "text/plain": [
              "  행정동  공원수\n",
              "1 송천2동 2     \n",
              "2 여의동  2     \n",
              "3 우아2동 2     \n",
              "4 중앙동  1     \n",
              "5 팔복동  2     \n",
              "6 풍남동  1     "
            ],
            "text/latex": "A data.frame: 6 × 2\n\\begin{tabular}{ll}\n 행정동 & 공원수\\\\\n <chr> & <int>\\\\\n\\hline\n\t 송천2동 & 2\\\\\n\t 여의동  & 2\\\\\n\t 우아2동 & 2\\\\\n\t 중앙동  & 1\\\\\n\t 팔복동  & 2\\\\\n\t 풍남동  & 1\\\\\n\\end{tabular}\n",
            "text/markdown": "\nA data.frame: 6 × 2\n\n| 행정동 &lt;chr&gt; | 공원수 &lt;int&gt; |\n|---|---|\n| 송천2동 | 2 |\n| 여의동  | 2 |\n| 우아2동 | 2 |\n| 중앙동  | 1 |\n| 팔복동  | 2 |\n| 풍남동  | 1 |\n\n",
            "text/html": [
              "<table class=\"dataframe\">\n",
              "<caption>A data.frame: 6 × 2</caption>\n",
              "<thead>\n",
              "\t<tr><th scope=col>행정동</th><th scope=col>공원수</th></tr>\n",
              "\t<tr><th scope=col>&lt;chr&gt;</th><th scope=col>&lt;int&gt;</th></tr>\n",
              "</thead>\n",
              "<tbody>\n",
              "\t<tr><td>송천2동</td><td>2</td></tr>\n",
              "\t<tr><td>여의동 </td><td>2</td></tr>\n",
              "\t<tr><td>우아2동</td><td>2</td></tr>\n",
              "\t<tr><td>중앙동 </td><td>1</td></tr>\n",
              "\t<tr><td>팔복동 </td><td>2</td></tr>\n",
              "\t<tr><td>풍남동 </td><td>1</td></tr>\n",
              "</tbody>\n",
              "</table>\n"
            ]
          },
          "metadata": {
            "tags": []
          }
        }
      ]
    },
    {
      "cell_type": "code",
      "metadata": {
        "colab": {
          "base_uri": "https://localhost:8080/"
        },
        "id": "1tA3QDjbimCV",
        "outputId": "c345a84a-2d2b-432f-b9e9-0f5322457a5d"
      },
      "source": [
        "table(jjdong %in% park$행정동)\n",
        "\n",
        "jjdong[jjdong %in% park$행정동 == FALSE] #park에는 없는 jjdong의 행정동"
      ],
      "execution_count": null,
      "outputs": [
        {
          "output_type": "display_data",
          "data": {
            "text/plain": [
              "\n",
              "FALSE  TRUE \n",
              "   29     6 "
            ]
          },
          "metadata": {
            "tags": []
          }
        },
        {
          "output_type": "display_data",
          "data": {
            "text/plain": [
              " [1] \"금암1동\"   \"금암2동\"   \"노송동\"    \"덕진동\"    \"동서학동\"  \"삼천1동\"  \n",
              " [7] \"삼천2동\"   \"삼천3동\"   \"서서학동\"  \"서신동\"    \"송천1동\"   \"완산동\"   \n",
              "[13] \"우아1동\"   \"인후1동\"   \"인후2동\"   \"인후3동\"   \"조촌동\"    \"중화산1동\"\n",
              "[19] \"중화산2동\" \"진북동\"    \"평화1동\"   \"평화2동\"   \"혁신동\"    \"호성동\"   \n",
              "[25] \"효자1동\"   \"효자2동\"   \"효자3동\"   \"효자4동\"   \"효자5동\"  "
            ],
            "text/latex": "\\begin{enumerate*}\n\\item '금암1동'\n\\item '금암2동'\n\\item '노송동'\n\\item '덕진동'\n\\item '동서학동'\n\\item '삼천1동'\n\\item '삼천2동'\n\\item '삼천3동'\n\\item '서서학동'\n\\item '서신동'\n\\item '송천1동'\n\\item '완산동'\n\\item '우아1동'\n\\item '인후1동'\n\\item '인후2동'\n\\item '인후3동'\n\\item '조촌동'\n\\item '중화산1동'\n\\item '중화산2동'\n\\item '진북동'\n\\item '평화1동'\n\\item '평화2동'\n\\item '혁신동'\n\\item '호성동'\n\\item '효자1동'\n\\item '효자2동'\n\\item '효자3동'\n\\item '효자4동'\n\\item '효자5동'\n\\end{enumerate*}\n",
            "text/markdown": "1. '금암1동'\n2. '금암2동'\n3. '노송동'\n4. '덕진동'\n5. '동서학동'\n6. '삼천1동'\n7. '삼천2동'\n8. '삼천3동'\n9. '서서학동'\n10. '서신동'\n11. '송천1동'\n12. '완산동'\n13. '우아1동'\n14. '인후1동'\n15. '인후2동'\n16. '인후3동'\n17. '조촌동'\n18. '중화산1동'\n19. '중화산2동'\n20. '진북동'\n21. '평화1동'\n22. '평화2동'\n23. '혁신동'\n24. '호성동'\n25. '효자1동'\n26. '효자2동'\n27. '효자3동'\n28. '효자4동'\n29. '효자5동'\n\n\n",
            "text/html": [
              "<style>\n",
              ".list-inline {list-style: none; margin:0; padding: 0}\n",
              ".list-inline>li {display: inline-block}\n",
              ".list-inline>li:not(:last-child)::after {content: \"\\00b7\"; padding: 0 .5ex}\n",
              "</style>\n",
              "<ol class=list-inline><li>'금암1동'</li><li>'금암2동'</li><li>'노송동'</li><li>'덕진동'</li><li>'동서학동'</li><li>'삼천1동'</li><li>'삼천2동'</li><li>'삼천3동'</li><li>'서서학동'</li><li>'서신동'</li><li>'송천1동'</li><li>'완산동'</li><li>'우아1동'</li><li>'인후1동'</li><li>'인후2동'</li><li>'인후3동'</li><li>'조촌동'</li><li>'중화산1동'</li><li>'중화산2동'</li><li>'진북동'</li><li>'평화1동'</li><li>'평화2동'</li><li>'혁신동'</li><li>'호성동'</li><li>'효자1동'</li><li>'효자2동'</li><li>'효자3동'</li><li>'효자4동'</li><li>'효자5동'</li></ol>\n"
            ]
          },
          "metadata": {
            "tags": []
          }
        }
      ]
    },
    {
      "cell_type": "code",
      "metadata": {
        "colab": {
          "base_uri": "https://localhost:8080/"
        },
        "id": "-sytlGfLiotP",
        "outputId": "f03ebb2f-c9f7-4530-d555-a9ca3efa19c5"
      },
      "source": [
        "add <- data.frame(행정동 = jjdong[jjdong %in% park$행정동 == FALSE], \n",
        "                     공원수 = rep(0, length(jjdong[jjdong %in% park$행정동 == FALSE])))\n",
        "park <- rbind(park, add)\n",
        "park <- arrange(park, park$행정동)\n",
        "park"
      ],
      "execution_count": null,
      "outputs": [
        {
          "output_type": "display_data",
          "data": {
            "text/plain": [
              "   행정동    공원수\n",
              "1  금암1동   0     \n",
              "2  금암2동   0     \n",
              "3  노송동    0     \n",
              "4  덕진동    0     \n",
              "5  동서학동  0     \n",
              "6  삼천1동   0     \n",
              "7  삼천2동   0     \n",
              "8  삼천3동   0     \n",
              "9  서서학동  0     \n",
              "10 서신동    0     \n",
              "11 송천1동   0     \n",
              "12 송천2동   2     \n",
              "13 여의동    2     \n",
              "14 완산동    0     \n",
              "15 우아1동   0     \n",
              "16 우아2동   2     \n",
              "17 인후1동   0     \n",
              "18 인후2동   0     \n",
              "19 인후3동   0     \n",
              "20 조촌동    0     \n",
              "21 중앙동    1     \n",
              "22 중화산1동 0     \n",
              "23 중화산2동 0     \n",
              "24 진북동    0     \n",
              "25 팔복동    2     \n",
              "26 평화1동   0     \n",
              "27 평화2동   0     \n",
              "28 풍남동    1     \n",
              "29 혁신동    0     \n",
              "30 호성동    0     \n",
              "31 효자1동   0     \n",
              "32 효자2동   0     \n",
              "33 효자3동   0     \n",
              "34 효자4동   0     \n",
              "35 효자5동   0     "
            ],
            "text/latex": "A data.frame: 35 × 2\n\\begin{tabular}{ll}\n 행정동 & 공원수\\\\\n <chr> & <dbl>\\\\\n\\hline\n\t 금암1동   & 0\\\\\n\t 금암2동   & 0\\\\\n\t 노송동    & 0\\\\\n\t 덕진동    & 0\\\\\n\t 동서학동  & 0\\\\\n\t 삼천1동   & 0\\\\\n\t 삼천2동   & 0\\\\\n\t 삼천3동   & 0\\\\\n\t 서서학동  & 0\\\\\n\t 서신동    & 0\\\\\n\t 송천1동   & 0\\\\\n\t 송천2동   & 2\\\\\n\t 여의동    & 2\\\\\n\t 완산동    & 0\\\\\n\t 우아1동   & 0\\\\\n\t 우아2동   & 2\\\\\n\t 인후1동   & 0\\\\\n\t 인후2동   & 0\\\\\n\t 인후3동   & 0\\\\\n\t 조촌동    & 0\\\\\n\t 중앙동    & 1\\\\\n\t 중화산1동 & 0\\\\\n\t 중화산2동 & 0\\\\\n\t 진북동    & 0\\\\\n\t 팔복동    & 2\\\\\n\t 평화1동   & 0\\\\\n\t 평화2동   & 0\\\\\n\t 풍남동    & 1\\\\\n\t 혁신동    & 0\\\\\n\t 호성동    & 0\\\\\n\t 효자1동   & 0\\\\\n\t 효자2동   & 0\\\\\n\t 효자3동   & 0\\\\\n\t 효자4동   & 0\\\\\n\t 효자5동   & 0\\\\\n\\end{tabular}\n",
            "text/markdown": "\nA data.frame: 35 × 2\n\n| 행정동 &lt;chr&gt; | 공원수 &lt;dbl&gt; |\n|---|---|\n| 금암1동   | 0 |\n| 금암2동   | 0 |\n| 노송동    | 0 |\n| 덕진동    | 0 |\n| 동서학동  | 0 |\n| 삼천1동   | 0 |\n| 삼천2동   | 0 |\n| 삼천3동   | 0 |\n| 서서학동  | 0 |\n| 서신동    | 0 |\n| 송천1동   | 0 |\n| 송천2동   | 2 |\n| 여의동    | 2 |\n| 완산동    | 0 |\n| 우아1동   | 0 |\n| 우아2동   | 2 |\n| 인후1동   | 0 |\n| 인후2동   | 0 |\n| 인후3동   | 0 |\n| 조촌동    | 0 |\n| 중앙동    | 1 |\n| 중화산1동 | 0 |\n| 중화산2동 | 0 |\n| 진북동    | 0 |\n| 팔복동    | 2 |\n| 평화1동   | 0 |\n| 평화2동   | 0 |\n| 풍남동    | 1 |\n| 혁신동    | 0 |\n| 호성동    | 0 |\n| 효자1동   | 0 |\n| 효자2동   | 0 |\n| 효자3동   | 0 |\n| 효자4동   | 0 |\n| 효자5동   | 0 |\n\n",
            "text/html": [
              "<table class=\"dataframe\">\n",
              "<caption>A data.frame: 35 × 2</caption>\n",
              "<thead>\n",
              "\t<tr><th scope=col>행정동</th><th scope=col>공원수</th></tr>\n",
              "\t<tr><th scope=col>&lt;chr&gt;</th><th scope=col>&lt;dbl&gt;</th></tr>\n",
              "</thead>\n",
              "<tbody>\n",
              "\t<tr><td>금암1동  </td><td>0</td></tr>\n",
              "\t<tr><td>금암2동  </td><td>0</td></tr>\n",
              "\t<tr><td>노송동   </td><td>0</td></tr>\n",
              "\t<tr><td>덕진동   </td><td>0</td></tr>\n",
              "\t<tr><td>동서학동 </td><td>0</td></tr>\n",
              "\t<tr><td>삼천1동  </td><td>0</td></tr>\n",
              "\t<tr><td>삼천2동  </td><td>0</td></tr>\n",
              "\t<tr><td>삼천3동  </td><td>0</td></tr>\n",
              "\t<tr><td>서서학동 </td><td>0</td></tr>\n",
              "\t<tr><td>서신동   </td><td>0</td></tr>\n",
              "\t<tr><td>송천1동  </td><td>0</td></tr>\n",
              "\t<tr><td>송천2동  </td><td>2</td></tr>\n",
              "\t<tr><td>여의동   </td><td>2</td></tr>\n",
              "\t<tr><td>완산동   </td><td>0</td></tr>\n",
              "\t<tr><td>우아1동  </td><td>0</td></tr>\n",
              "\t<tr><td>우아2동  </td><td>2</td></tr>\n",
              "\t<tr><td>인후1동  </td><td>0</td></tr>\n",
              "\t<tr><td>인후2동  </td><td>0</td></tr>\n",
              "\t<tr><td>인후3동  </td><td>0</td></tr>\n",
              "\t<tr><td>조촌동   </td><td>0</td></tr>\n",
              "\t<tr><td>중앙동   </td><td>1</td></tr>\n",
              "\t<tr><td>중화산1동</td><td>0</td></tr>\n",
              "\t<tr><td>중화산2동</td><td>0</td></tr>\n",
              "\t<tr><td>진북동   </td><td>0</td></tr>\n",
              "\t<tr><td>팔복동   </td><td>2</td></tr>\n",
              "\t<tr><td>평화1동  </td><td>0</td></tr>\n",
              "\t<tr><td>평화2동  </td><td>0</td></tr>\n",
              "\t<tr><td>풍남동   </td><td>1</td></tr>\n",
              "\t<tr><td>혁신동   </td><td>0</td></tr>\n",
              "\t<tr><td>호성동   </td><td>0</td></tr>\n",
              "\t<tr><td>효자1동  </td><td>0</td></tr>\n",
              "\t<tr><td>효자2동  </td><td>0</td></tr>\n",
              "\t<tr><td>효자3동  </td><td>0</td></tr>\n",
              "\t<tr><td>효자4동  </td><td>0</td></tr>\n",
              "\t<tr><td>효자5동  </td><td>0</td></tr>\n",
              "</tbody>\n",
              "</table>\n"
            ]
          },
          "metadata": {
            "tags": []
          }
        }
      ]
    },
    {
      "cell_type": "markdown",
      "metadata": {
        "id": "K1pYymIAirEd"
      },
      "source": [
        "## 전동킥보드 사용 수"
      ]
    },
    {
      "cell_type": "code",
      "metadata": {
        "colab": {
          "base_uri": "https://localhost:8080/"
        },
        "id": "DircSSAqiuxx",
        "outputId": "7203fbb8-efe2-4045-a093-c359fb22a710"
      },
      "source": [
        "str(scooter)\n",
        "head(scooter)"
      ],
      "execution_count": null,
      "outputs": [
        {
          "output_type": "stream",
          "text": [
            "'data.frame':\t35 obs. of  6 variables:\n",
            " $ gu        : chr  \"완산구\" \"완산구\" \"완산구\" \"완산구\" ...\n",
            " $ dong      : chr  \"중앙동\" \"풍남동\" \"노송동\" \"완산동\" ...\n",
            " $ ssingssing: int  7 1 3 0 2 1 4 6 2 6 ...\n",
            " $ alphaca   : int  3 0 0 3 1 4 14 18 7 62 ...\n",
            " $ gcooter   : int  0 0 1 0 0 2 2 17 2 20 ...\n",
            " $ total     : int  10 1 4 3 3 7 20 41 11 88 ...\n"
          ],
          "name": "stdout"
        },
        {
          "output_type": "display_data",
          "data": {
            "text/plain": [
              "  gu     dong     ssingssing alphaca gcooter total\n",
              "1 완산구 중앙동   7          3       0       10   \n",
              "2 완산구 풍남동   1          0       0        1   \n",
              "3 완산구 노송동   3          0       1        4   \n",
              "4 완산구 완산동   0          3       0        3   \n",
              "5 완산구 동서학동 2          1       0        3   \n",
              "6 완산구 서서학동 1          4       2        7   "
            ],
            "text/latex": "A data.frame: 6 × 6\n\\begin{tabular}{r|llllll}\n  & gu & dong & ssingssing & alphaca & gcooter & total\\\\\n  & <chr> & <chr> & <int> & <int> & <int> & <int>\\\\\n\\hline\n\t1 & 완산구 & 중앙동   & 7 & 3 & 0 & 10\\\\\n\t2 & 완산구 & 풍남동   & 1 & 0 & 0 &  1\\\\\n\t3 & 완산구 & 노송동   & 3 & 0 & 1 &  4\\\\\n\t4 & 완산구 & 완산동   & 0 & 3 & 0 &  3\\\\\n\t5 & 완산구 & 동서학동 & 2 & 1 & 0 &  3\\\\\n\t6 & 완산구 & 서서학동 & 1 & 4 & 2 &  7\\\\\n\\end{tabular}\n",
            "text/markdown": "\nA data.frame: 6 × 6\n\n| <!--/--> | gu &lt;chr&gt; | dong &lt;chr&gt; | ssingssing &lt;int&gt; | alphaca &lt;int&gt; | gcooter &lt;int&gt; | total &lt;int&gt; |\n|---|---|---|---|---|---|---|\n| 1 | 완산구 | 중앙동   | 7 | 3 | 0 | 10 |\n| 2 | 완산구 | 풍남동   | 1 | 0 | 0 |  1 |\n| 3 | 완산구 | 노송동   | 3 | 0 | 1 |  4 |\n| 4 | 완산구 | 완산동   | 0 | 3 | 0 |  3 |\n| 5 | 완산구 | 동서학동 | 2 | 1 | 0 |  3 |\n| 6 | 완산구 | 서서학동 | 1 | 4 | 2 |  7 |\n\n",
            "text/html": [
              "<table class=\"dataframe\">\n",
              "<caption>A data.frame: 6 × 6</caption>\n",
              "<thead>\n",
              "\t<tr><th></th><th scope=col>gu</th><th scope=col>dong</th><th scope=col>ssingssing</th><th scope=col>alphaca</th><th scope=col>gcooter</th><th scope=col>total</th></tr>\n",
              "\t<tr><th></th><th scope=col>&lt;chr&gt;</th><th scope=col>&lt;chr&gt;</th><th scope=col>&lt;int&gt;</th><th scope=col>&lt;int&gt;</th><th scope=col>&lt;int&gt;</th><th scope=col>&lt;int&gt;</th></tr>\n",
              "</thead>\n",
              "<tbody>\n",
              "\t<tr><th scope=row>1</th><td>완산구</td><td>중앙동  </td><td>7</td><td>3</td><td>0</td><td>10</td></tr>\n",
              "\t<tr><th scope=row>2</th><td>완산구</td><td>풍남동  </td><td>1</td><td>0</td><td>0</td><td> 1</td></tr>\n",
              "\t<tr><th scope=row>3</th><td>완산구</td><td>노송동  </td><td>3</td><td>0</td><td>1</td><td> 4</td></tr>\n",
              "\t<tr><th scope=row>4</th><td>완산구</td><td>완산동  </td><td>0</td><td>3</td><td>0</td><td> 3</td></tr>\n",
              "\t<tr><th scope=row>5</th><td>완산구</td><td>동서학동</td><td>2</td><td>1</td><td>0</td><td> 3</td></tr>\n",
              "\t<tr><th scope=row>6</th><td>완산구</td><td>서서학동</td><td>1</td><td>4</td><td>2</td><td> 7</td></tr>\n",
              "</tbody>\n",
              "</table>\n"
            ]
          },
          "metadata": {
            "tags": []
          }
        }
      ]
    },
    {
      "cell_type": "code",
      "metadata": {
        "colab": {
          "base_uri": "https://localhost:8080/"
        },
        "id": "fAf1v--6ixQb",
        "outputId": "df54abc3-d79c-4da1-8fa7-50a5cf387473"
      },
      "source": [
        "scooter <- scooter[, c(2,6)]\n",
        "names(scooter) <- c(\"행정동\", \"전동킥보드이용수\")\n",
        "scooter <- arrange(scooter, scooter$행정동)\n",
        "scooter"
      ],
      "execution_count": null,
      "outputs": [
        {
          "output_type": "display_data",
          "data": {
            "text/plain": [
              "   행정동    전동킥보드이용수\n",
              "1  금암1동   105             \n",
              "2  금암2동    15             \n",
              "3  노송동      4             \n",
              "4  덕진동     73             \n",
              "5  동서학동    3             \n",
              "6  삼천1동    17             \n",
              "7  삼천2동    14             \n",
              "8  삼천3동    26             \n",
              "9  서서학동    7             \n",
              "10 서신동     48             \n",
              "11 송천1동    25             \n",
              "12 송천2동    12             \n",
              "13 여의동      3             \n",
              "14 완산동      3             \n",
              "15 우아1동     3             \n",
              "16 우아2동     0             \n",
              "17 인후1동     1             \n",
              "18 인후2동     5             \n",
              "19 인후3동     5             \n",
              "20 조촌동     10             \n",
              "21 중앙동     10             \n",
              "22 중화산1동  20             \n",
              "23 중화산2동  41             \n",
              "24 진북동      6             \n",
              "25 팔복동      1             \n",
              "26 평화1동    11             \n",
              "27 평화2동    88             \n",
              "28 풍남동      1             \n",
              "29 혁신동      9             \n",
              "30 호성동      3             \n",
              "31 효자1동    20             \n",
              "32 효자2동     6             \n",
              "33 효자3동    14             \n",
              "34 효자4동   107             \n",
              "35 효자5동    88             "
            ],
            "text/latex": "A data.frame: 35 × 2\n\\begin{tabular}{ll}\n 행정동 & 전동킥보드이용수\\\\\n <chr> & <int>\\\\\n\\hline\n\t 금암1동   & 105\\\\\n\t 금암2동   &  15\\\\\n\t 노송동    &   4\\\\\n\t 덕진동    &  73\\\\\n\t 동서학동  &   3\\\\\n\t 삼천1동   &  17\\\\\n\t 삼천2동   &  14\\\\\n\t 삼천3동   &  26\\\\\n\t 서서학동  &   7\\\\\n\t 서신동    &  48\\\\\n\t 송천1동   &  25\\\\\n\t 송천2동   &  12\\\\\n\t 여의동    &   3\\\\\n\t 완산동    &   3\\\\\n\t 우아1동   &   3\\\\\n\t 우아2동   &   0\\\\\n\t 인후1동   &   1\\\\\n\t 인후2동   &   5\\\\\n\t 인후3동   &   5\\\\\n\t 조촌동    &  10\\\\\n\t 중앙동    &  10\\\\\n\t 중화산1동 &  20\\\\\n\t 중화산2동 &  41\\\\\n\t 진북동    &   6\\\\\n\t 팔복동    &   1\\\\\n\t 평화1동   &  11\\\\\n\t 평화2동   &  88\\\\\n\t 풍남동    &   1\\\\\n\t 혁신동    &   9\\\\\n\t 호성동    &   3\\\\\n\t 효자1동   &  20\\\\\n\t 효자2동   &   6\\\\\n\t 효자3동   &  14\\\\\n\t 효자4동   & 107\\\\\n\t 효자5동   &  88\\\\\n\\end{tabular}\n",
            "text/markdown": "\nA data.frame: 35 × 2\n\n| 행정동 &lt;chr&gt; | 전동킥보드이용수 &lt;int&gt; |\n|---|---|\n| 금암1동   | 105 |\n| 금암2동   |  15 |\n| 노송동    |   4 |\n| 덕진동    |  73 |\n| 동서학동  |   3 |\n| 삼천1동   |  17 |\n| 삼천2동   |  14 |\n| 삼천3동   |  26 |\n| 서서학동  |   7 |\n| 서신동    |  48 |\n| 송천1동   |  25 |\n| 송천2동   |  12 |\n| 여의동    |   3 |\n| 완산동    |   3 |\n| 우아1동   |   3 |\n| 우아2동   |   0 |\n| 인후1동   |   1 |\n| 인후2동   |   5 |\n| 인후3동   |   5 |\n| 조촌동    |  10 |\n| 중앙동    |  10 |\n| 중화산1동 |  20 |\n| 중화산2동 |  41 |\n| 진북동    |   6 |\n| 팔복동    |   1 |\n| 평화1동   |  11 |\n| 평화2동   |  88 |\n| 풍남동    |   1 |\n| 혁신동    |   9 |\n| 호성동    |   3 |\n| 효자1동   |  20 |\n| 효자2동   |   6 |\n| 효자3동   |  14 |\n| 효자4동   | 107 |\n| 효자5동   |  88 |\n\n",
            "text/html": [
              "<table class=\"dataframe\">\n",
              "<caption>A data.frame: 35 × 2</caption>\n",
              "<thead>\n",
              "\t<tr><th scope=col>행정동</th><th scope=col>전동킥보드이용수</th></tr>\n",
              "\t<tr><th scope=col>&lt;chr&gt;</th><th scope=col>&lt;int&gt;</th></tr>\n",
              "</thead>\n",
              "<tbody>\n",
              "\t<tr><td>금암1동  </td><td>105</td></tr>\n",
              "\t<tr><td>금암2동  </td><td> 15</td></tr>\n",
              "\t<tr><td>노송동   </td><td>  4</td></tr>\n",
              "\t<tr><td>덕진동   </td><td> 73</td></tr>\n",
              "\t<tr><td>동서학동 </td><td>  3</td></tr>\n",
              "\t<tr><td>삼천1동  </td><td> 17</td></tr>\n",
              "\t<tr><td>삼천2동  </td><td> 14</td></tr>\n",
              "\t<tr><td>삼천3동  </td><td> 26</td></tr>\n",
              "\t<tr><td>서서학동 </td><td>  7</td></tr>\n",
              "\t<tr><td>서신동   </td><td> 48</td></tr>\n",
              "\t<tr><td>송천1동  </td><td> 25</td></tr>\n",
              "\t<tr><td>송천2동  </td><td> 12</td></tr>\n",
              "\t<tr><td>여의동   </td><td>  3</td></tr>\n",
              "\t<tr><td>완산동   </td><td>  3</td></tr>\n",
              "\t<tr><td>우아1동  </td><td>  3</td></tr>\n",
              "\t<tr><td>우아2동  </td><td>  0</td></tr>\n",
              "\t<tr><td>인후1동  </td><td>  1</td></tr>\n",
              "\t<tr><td>인후2동  </td><td>  5</td></tr>\n",
              "\t<tr><td>인후3동  </td><td>  5</td></tr>\n",
              "\t<tr><td>조촌동   </td><td> 10</td></tr>\n",
              "\t<tr><td>중앙동   </td><td> 10</td></tr>\n",
              "\t<tr><td>중화산1동</td><td> 20</td></tr>\n",
              "\t<tr><td>중화산2동</td><td> 41</td></tr>\n",
              "\t<tr><td>진북동   </td><td>  6</td></tr>\n",
              "\t<tr><td>팔복동   </td><td>  1</td></tr>\n",
              "\t<tr><td>평화1동  </td><td> 11</td></tr>\n",
              "\t<tr><td>평화2동  </td><td> 88</td></tr>\n",
              "\t<tr><td>풍남동   </td><td>  1</td></tr>\n",
              "\t<tr><td>혁신동   </td><td>  9</td></tr>\n",
              "\t<tr><td>호성동   </td><td>  3</td></tr>\n",
              "\t<tr><td>효자1동  </td><td> 20</td></tr>\n",
              "\t<tr><td>효자2동  </td><td>  6</td></tr>\n",
              "\t<tr><td>효자3동  </td><td> 14</td></tr>\n",
              "\t<tr><td>효자4동  </td><td>107</td></tr>\n",
              "\t<tr><td>효자5동  </td><td> 88</td></tr>\n",
              "</tbody>\n",
              "</table>\n"
            ]
          },
          "metadata": {
            "tags": []
          }
        }
      ]
    },
    {
      "cell_type": "code",
      "metadata": {
        "colab": {
          "base_uri": "https://localhost:8080/"
        },
        "id": "5NBtDl1Bi0Y9",
        "outputId": "6a42eda6-b71a-433f-83ad-f22d2dad8695"
      },
      "source": [
        "table(jjdong %in% scooter$행정동)\n",
        "scooter"
      ],
      "execution_count": null,
      "outputs": [
        {
          "output_type": "display_data",
          "data": {
            "text/plain": [
              "\n",
              "TRUE \n",
              "  35 "
            ]
          },
          "metadata": {
            "tags": []
          }
        },
        {
          "output_type": "display_data",
          "data": {
            "text/plain": [
              "   행정동    전동킥보드이용수\n",
              "1  금암1동   105             \n",
              "2  금암2동    15             \n",
              "3  노송동      4             \n",
              "4  덕진동     73             \n",
              "5  동서학동    3             \n",
              "6  삼천1동    17             \n",
              "7  삼천2동    14             \n",
              "8  삼천3동    26             \n",
              "9  서서학동    7             \n",
              "10 서신동     48             \n",
              "11 송천1동    25             \n",
              "12 송천2동    12             \n",
              "13 여의동      3             \n",
              "14 완산동      3             \n",
              "15 우아1동     3             \n",
              "16 우아2동     0             \n",
              "17 인후1동     1             \n",
              "18 인후2동     5             \n",
              "19 인후3동     5             \n",
              "20 조촌동     10             \n",
              "21 중앙동     10             \n",
              "22 중화산1동  20             \n",
              "23 중화산2동  41             \n",
              "24 진북동      6             \n",
              "25 팔복동      1             \n",
              "26 평화1동    11             \n",
              "27 평화2동    88             \n",
              "28 풍남동      1             \n",
              "29 혁신동      9             \n",
              "30 호성동      3             \n",
              "31 효자1동    20             \n",
              "32 효자2동     6             \n",
              "33 효자3동    14             \n",
              "34 효자4동   107             \n",
              "35 효자5동    88             "
            ],
            "text/latex": "A data.frame: 35 × 2\n\\begin{tabular}{ll}\n 행정동 & 전동킥보드이용수\\\\\n <chr> & <int>\\\\\n\\hline\n\t 금암1동   & 105\\\\\n\t 금암2동   &  15\\\\\n\t 노송동    &   4\\\\\n\t 덕진동    &  73\\\\\n\t 동서학동  &   3\\\\\n\t 삼천1동   &  17\\\\\n\t 삼천2동   &  14\\\\\n\t 삼천3동   &  26\\\\\n\t 서서학동  &   7\\\\\n\t 서신동    &  48\\\\\n\t 송천1동   &  25\\\\\n\t 송천2동   &  12\\\\\n\t 여의동    &   3\\\\\n\t 완산동    &   3\\\\\n\t 우아1동   &   3\\\\\n\t 우아2동   &   0\\\\\n\t 인후1동   &   1\\\\\n\t 인후2동   &   5\\\\\n\t 인후3동   &   5\\\\\n\t 조촌동    &  10\\\\\n\t 중앙동    &  10\\\\\n\t 중화산1동 &  20\\\\\n\t 중화산2동 &  41\\\\\n\t 진북동    &   6\\\\\n\t 팔복동    &   1\\\\\n\t 평화1동   &  11\\\\\n\t 평화2동   &  88\\\\\n\t 풍남동    &   1\\\\\n\t 혁신동    &   9\\\\\n\t 호성동    &   3\\\\\n\t 효자1동   &  20\\\\\n\t 효자2동   &   6\\\\\n\t 효자3동   &  14\\\\\n\t 효자4동   & 107\\\\\n\t 효자5동   &  88\\\\\n\\end{tabular}\n",
            "text/markdown": "\nA data.frame: 35 × 2\n\n| 행정동 &lt;chr&gt; | 전동킥보드이용수 &lt;int&gt; |\n|---|---|\n| 금암1동   | 105 |\n| 금암2동   |  15 |\n| 노송동    |   4 |\n| 덕진동    |  73 |\n| 동서학동  |   3 |\n| 삼천1동   |  17 |\n| 삼천2동   |  14 |\n| 삼천3동   |  26 |\n| 서서학동  |   7 |\n| 서신동    |  48 |\n| 송천1동   |  25 |\n| 송천2동   |  12 |\n| 여의동    |   3 |\n| 완산동    |   3 |\n| 우아1동   |   3 |\n| 우아2동   |   0 |\n| 인후1동   |   1 |\n| 인후2동   |   5 |\n| 인후3동   |   5 |\n| 조촌동    |  10 |\n| 중앙동    |  10 |\n| 중화산1동 |  20 |\n| 중화산2동 |  41 |\n| 진북동    |   6 |\n| 팔복동    |   1 |\n| 평화1동   |  11 |\n| 평화2동   |  88 |\n| 풍남동    |   1 |\n| 혁신동    |   9 |\n| 호성동    |   3 |\n| 효자1동   |  20 |\n| 효자2동   |   6 |\n| 효자3동   |  14 |\n| 효자4동   | 107 |\n| 효자5동   |  88 |\n\n",
            "text/html": [
              "<table class=\"dataframe\">\n",
              "<caption>A data.frame: 35 × 2</caption>\n",
              "<thead>\n",
              "\t<tr><th scope=col>행정동</th><th scope=col>전동킥보드이용수</th></tr>\n",
              "\t<tr><th scope=col>&lt;chr&gt;</th><th scope=col>&lt;int&gt;</th></tr>\n",
              "</thead>\n",
              "<tbody>\n",
              "\t<tr><td>금암1동  </td><td>105</td></tr>\n",
              "\t<tr><td>금암2동  </td><td> 15</td></tr>\n",
              "\t<tr><td>노송동   </td><td>  4</td></tr>\n",
              "\t<tr><td>덕진동   </td><td> 73</td></tr>\n",
              "\t<tr><td>동서학동 </td><td>  3</td></tr>\n",
              "\t<tr><td>삼천1동  </td><td> 17</td></tr>\n",
              "\t<tr><td>삼천2동  </td><td> 14</td></tr>\n",
              "\t<tr><td>삼천3동  </td><td> 26</td></tr>\n",
              "\t<tr><td>서서학동 </td><td>  7</td></tr>\n",
              "\t<tr><td>서신동   </td><td> 48</td></tr>\n",
              "\t<tr><td>송천1동  </td><td> 25</td></tr>\n",
              "\t<tr><td>송천2동  </td><td> 12</td></tr>\n",
              "\t<tr><td>여의동   </td><td>  3</td></tr>\n",
              "\t<tr><td>완산동   </td><td>  3</td></tr>\n",
              "\t<tr><td>우아1동  </td><td>  3</td></tr>\n",
              "\t<tr><td>우아2동  </td><td>  0</td></tr>\n",
              "\t<tr><td>인후1동  </td><td>  1</td></tr>\n",
              "\t<tr><td>인후2동  </td><td>  5</td></tr>\n",
              "\t<tr><td>인후3동  </td><td>  5</td></tr>\n",
              "\t<tr><td>조촌동   </td><td> 10</td></tr>\n",
              "\t<tr><td>중앙동   </td><td> 10</td></tr>\n",
              "\t<tr><td>중화산1동</td><td> 20</td></tr>\n",
              "\t<tr><td>중화산2동</td><td> 41</td></tr>\n",
              "\t<tr><td>진북동   </td><td>  6</td></tr>\n",
              "\t<tr><td>팔복동   </td><td>  1</td></tr>\n",
              "\t<tr><td>평화1동  </td><td> 11</td></tr>\n",
              "\t<tr><td>평화2동  </td><td> 88</td></tr>\n",
              "\t<tr><td>풍남동   </td><td>  1</td></tr>\n",
              "\t<tr><td>혁신동   </td><td>  9</td></tr>\n",
              "\t<tr><td>호성동   </td><td>  3</td></tr>\n",
              "\t<tr><td>효자1동  </td><td> 20</td></tr>\n",
              "\t<tr><td>효자2동  </td><td>  6</td></tr>\n",
              "\t<tr><td>효자3동  </td><td> 14</td></tr>\n",
              "\t<tr><td>효자4동  </td><td>107</td></tr>\n",
              "\t<tr><td>효자5동  </td><td> 88</td></tr>\n",
              "</tbody>\n",
              "</table>\n"
            ]
          },
          "metadata": {
            "tags": []
          }
        }
      ]
    },
    {
      "cell_type": "markdown",
      "metadata": {
        "id": "1uKA96vQTw_J"
      },
      "source": [
        "## 버스 정류장 수 ()"
      ]
    },
    {
      "cell_type": "markdown",
      "metadata": {
        "id": "Hjez8A73EKzY"
      },
      "source": [
        "## 행정동이 잘 정리되었는지 확인\n",
        "\n",
        "모든 행정동이 다 동일하다는 것을 확인할 수 있다.\n",
        "\n"
      ]
    },
    {
      "cell_type": "code",
      "metadata": {
        "colab": {
          "base_uri": "https://localhost:8080/",
          "height": 226
        },
        "id": "WtD3SwTsAC1U",
        "outputId": "30a27bff-929f-472e-ae93-9319516f4661"
      },
      "source": [
        "df <- data.frame(pop = pop$행정동, rest = rest$행정동, bicycle = bicycle$행정동, \n",
        "                  bigstore = bigstore$행정동, cvstore = cvstore$행정동, univ = univ$행정동, \n",
        "                  region = region$행정동, store = store$행정동, park = park$행정동, scooter = scooter$행정동)\n",
        "\n",
        "df"
      ],
      "execution_count": null,
      "outputs": [
        {
          "output_type": "error",
          "ename": "ERROR",
          "evalue": "ignored",
          "traceback": [
            "Error in data.frame(pop = pop$행정동, rest = rest$행정동, bicycle = bicycle$행정동, : arguments imply differing number of rows: 35, 34\nTraceback:\n",
            "1. data.frame(pop = pop$행정동, rest = rest$행정동, bicycle = bicycle$행정동, \n .     bigstore = bigstore$행정동, cvstore = cvstore$행정동, \n .     univ = univ$행정동, region = region$행정동, store = store$행정동, \n .     park = park$행정동, scooter = scooter$행정동)",
            "2. stop(gettextf(\"arguments imply differing number of rows: %s\", \n .     paste(unique(nrows), collapse = \", \")), domain = NA)"
          ]
        }
      ]
    },
    {
      "cell_type": "markdown",
      "metadata": {
        "id": "irzyYTUEEXS5"
      },
      "source": [
        "## 행정동을 기준으로 데이터 정리하기\n",
        "\n"
      ]
    },
    {
      "cell_type": "code",
      "metadata": {
        "colab": {
          "base_uri": "https://localhost:8080/",
          "height": 1000
        },
        "id": "J8h5moSxbGUW",
        "outputId": "910bd114-ebbd-40b1-b5d7-854173cc1a5d"
      },
      "source": [
        "jj <- merge(pop, rest)\n",
        "jj <- merge(jj, bicycle)\n",
        "jj <- merge(jj, bigstore)\n",
        "jj <- merge(jj, cvstore)\n",
        "jj <- merge(jj, univ)\n",
        "jj <- merge(jj, region)\n",
        "jj <- merge(jj, store)\n",
        "#jj <- cbind(jj, 상권지수)\n",
        "jj <- merge(jj, park)\n",
        "jj <- merge(jj, scooter)\n",
        "\n",
        "jj"
      ],
      "execution_count": null,
      "outputs": [
        {
          "output_type": "display_data",
          "data": {
            "text/plain": [
              "   행정동    인구  음식점수 자전거보관대수 대규모점포수 편의점수 대학교수\n",
              "1  금암1동    8824 323      253            1            25       0       \n",
              "2  금암2동   10714 119       20            0             8       0       \n",
              "3  노송동    13189 193      138            2             5       0       \n",
              "4  덕진동    21215 468      237            1            29       1       \n",
              "5  동서학동   6784  67        7            0             6       1       \n",
              "6  삼천1동   12799  97       60            0            14       0       \n",
              "7  삼천2동   14447 216       21            0             9       0       \n",
              "8  삼천3동   23323 219       62            2            13       0       \n",
              "9  서서학동   9223  54        7            0            14       0       \n",
              "10 서신동    40408 560      126            4            31       0       \n",
              "11 송천1동   59376 347       31            3            30       0       \n",
              "12 송천2동   26748 288       27            0            14       0       \n",
              "13 여의동    30208 184       60            3            22       0       \n",
              "14 완산동     5148  17        7            0            14       0       \n",
              "15 우아1동   10096 227       60            1            14       0       \n",
              "16 우아2동   15125 389      110            0            36       0       \n",
              "17 인후1동   19047 147       78            1             8       0       \n",
              "18 인후2동   12094 174       60            1             7       0       \n",
              "19 인후3동   32426 335       20            1            30       0       \n",
              "20 조촌동    12133  90       23            0             7       0       \n",
              "21 중앙동     8073 567       68            4            17       0       \n",
              "22 중화산1동 15288 227       60            1            19       2       \n",
              "23 중화산2동 20030 491      119            0            20       0       \n",
              "24 진북동    14924 145      125            0             8       0       \n",
              "25 팔복동     8300 120       31            0            10       0       \n",
              "26 평화1동   13204 108       95            0             8       0       \n",
              "27 평화2동   46295 372       46            3            21       0       \n",
              "28 풍남동     4521 488       24            2            16       0       \n",
              "29 호성동    21154 121       60            1             9       0       \n",
              "30 효자1동   11784  72       76            2            14       0       \n",
              "31 효자2동   10861 144       65            0             6       0       \n",
              "32 효자3동   15758 156       10            2             9       0       \n",
              "33 효자4동   33756 378       42            8            36       2       \n",
              "34 효자5동   37898 805       73            0            60       1       \n",
              "   면적.km 상점개수 공원수 전동킥보드이용수\n",
              "1   1.25    81      0      105             \n",
              "2   1.25    55      0       15             \n",
              "3   2.09    75      0        4             \n",
              "4   4.78   114      0       73             \n",
              "5  15.64    18      0        3             \n",
              "6   1.27    81      0       17             \n",
              "7   0.95   105      0       14             \n",
              "8  26.60    73      0       26             \n",
              "9   2.97    21      0        7             \n",
              "10  2.39   318      0       48             \n",
              "11  4.79    92      0       25             \n",
              "12 12.14    96      2       12             \n",
              "13 15.71    63      2        3             \n",
              "14  0.99    17      0        3             \n",
              "15  1.44   115      0        3             \n",
              "16 22.91    73      2        0             \n",
              "17  1.29    70      0        1             \n",
              "18  1.32    61      0        5             \n",
              "19  1.68   101      0        5             \n",
              "20 24.28    36      0       10             \n",
              "21  1.35   114      1       10             \n",
              "22  1.22    54      0       20             \n",
              "23  1.72   131      0       41             \n",
              "24  1.71    68      0        6             \n",
              "25  7.38    50      2        1             \n",
              "26  1.49    27      0       11             \n",
              "27 15.23   187      0       88             \n",
              "28  2.05   106      1        1             \n",
              "29  7.64    67      0        3             \n",
              "30  1.02    65      0       20             \n",
              "31  0.84    84      0        6             \n",
              "32  0.79    61      0       14             \n",
              "33  7.71   220      0      107             \n",
              "34  6.27     1      0       88             "
            ],
            "text/latex": "A data.frame: 34 × 11\n\\begin{tabular}{lllllllllll}\n 행정동 & 인구 & 음식점수 & 자전거보관대수 & 대규모점포수 & 편의점수 & 대학교수 & 면적.km & 상점개수 & 공원수 & 전동킥보드이용수\\\\\n <chr> & <int> & <int> & <int> & <dbl> & <int> & <dbl> & <dbl> & <int> & <dbl> & <int>\\\\\n\\hline\n\t 금암1동   &  8824 & 323 & 253 & 1 & 25 & 0 &  1.25 &  81 & 0 & 105\\\\\n\t 금암2동   & 10714 & 119 &  20 & 0 &  8 & 0 &  1.25 &  55 & 0 &  15\\\\\n\t 노송동    & 13189 & 193 & 138 & 2 &  5 & 0 &  2.09 &  75 & 0 &   4\\\\\n\t 덕진동    & 21215 & 468 & 237 & 1 & 29 & 1 &  4.78 & 114 & 0 &  73\\\\\n\t 동서학동  &  6784 &  67 &   7 & 0 &  6 & 1 & 15.64 &  18 & 0 &   3\\\\\n\t 삼천1동   & 12799 &  97 &  60 & 0 & 14 & 0 &  1.27 &  81 & 0 &  17\\\\\n\t 삼천2동   & 14447 & 216 &  21 & 0 &  9 & 0 &  0.95 & 105 & 0 &  14\\\\\n\t 삼천3동   & 23323 & 219 &  62 & 2 & 13 & 0 & 26.60 &  73 & 0 &  26\\\\\n\t 서서학동  &  9223 &  54 &   7 & 0 & 14 & 0 &  2.97 &  21 & 0 &   7\\\\\n\t 서신동    & 40408 & 560 & 126 & 4 & 31 & 0 &  2.39 & 318 & 0 &  48\\\\\n\t 송천1동   & 59376 & 347 &  31 & 3 & 30 & 0 &  4.79 &  92 & 0 &  25\\\\\n\t 송천2동   & 26748 & 288 &  27 & 0 & 14 & 0 & 12.14 &  96 & 2 &  12\\\\\n\t 여의동    & 30208 & 184 &  60 & 3 & 22 & 0 & 15.71 &  63 & 2 &   3\\\\\n\t 완산동    &  5148 &  17 &   7 & 0 & 14 & 0 &  0.99 &  17 & 0 &   3\\\\\n\t 우아1동   & 10096 & 227 &  60 & 1 & 14 & 0 &  1.44 & 115 & 0 &   3\\\\\n\t 우아2동   & 15125 & 389 & 110 & 0 & 36 & 0 & 22.91 &  73 & 2 &   0\\\\\n\t 인후1동   & 19047 & 147 &  78 & 1 &  8 & 0 &  1.29 &  70 & 0 &   1\\\\\n\t 인후2동   & 12094 & 174 &  60 & 1 &  7 & 0 &  1.32 &  61 & 0 &   5\\\\\n\t 인후3동   & 32426 & 335 &  20 & 1 & 30 & 0 &  1.68 & 101 & 0 &   5\\\\\n\t 조촌동    & 12133 &  90 &  23 & 0 &  7 & 0 & 24.28 &  36 & 0 &  10\\\\\n\t 중앙동    &  8073 & 567 &  68 & 4 & 17 & 0 &  1.35 & 114 & 1 &  10\\\\\n\t 중화산1동 & 15288 & 227 &  60 & 1 & 19 & 2 &  1.22 &  54 & 0 &  20\\\\\n\t 중화산2동 & 20030 & 491 & 119 & 0 & 20 & 0 &  1.72 & 131 & 0 &  41\\\\\n\t 진북동    & 14924 & 145 & 125 & 0 &  8 & 0 &  1.71 &  68 & 0 &   6\\\\\n\t 팔복동    &  8300 & 120 &  31 & 0 & 10 & 0 &  7.38 &  50 & 2 &   1\\\\\n\t 평화1동   & 13204 & 108 &  95 & 0 &  8 & 0 &  1.49 &  27 & 0 &  11\\\\\n\t 평화2동   & 46295 & 372 &  46 & 3 & 21 & 0 & 15.23 & 187 & 0 &  88\\\\\n\t 풍남동    &  4521 & 488 &  24 & 2 & 16 & 0 &  2.05 & 106 & 1 &   1\\\\\n\t 호성동    & 21154 & 121 &  60 & 1 &  9 & 0 &  7.64 &  67 & 0 &   3\\\\\n\t 효자1동   & 11784 &  72 &  76 & 2 & 14 & 0 &  1.02 &  65 & 0 &  20\\\\\n\t 효자2동   & 10861 & 144 &  65 & 0 &  6 & 0 &  0.84 &  84 & 0 &   6\\\\\n\t 효자3동   & 15758 & 156 &  10 & 2 &  9 & 0 &  0.79 &  61 & 0 &  14\\\\\n\t 효자4동   & 33756 & 378 &  42 & 8 & 36 & 2 &  7.71 & 220 & 0 & 107\\\\\n\t 효자5동   & 37898 & 805 &  73 & 0 & 60 & 1 &  6.27 &   1 & 0 &  88\\\\\n\\end{tabular}\n",
            "text/markdown": "\nA data.frame: 34 × 11\n\n| 행정동 &lt;chr&gt; | 인구 &lt;int&gt; | 음식점수 &lt;int&gt; | 자전거보관대수 &lt;int&gt; | 대규모점포수 &lt;dbl&gt; | 편의점수 &lt;int&gt; | 대학교수 &lt;dbl&gt; | 면적.km &lt;dbl&gt; | 상점개수 &lt;int&gt; | 공원수 &lt;dbl&gt; | 전동킥보드이용수 &lt;int&gt; |\n|---|---|---|---|---|---|---|---|---|---|---|\n| 금암1동   |  8824 | 323 | 253 | 1 | 25 | 0 |  1.25 |  81 | 0 | 105 |\n| 금암2동   | 10714 | 119 |  20 | 0 |  8 | 0 |  1.25 |  55 | 0 |  15 |\n| 노송동    | 13189 | 193 | 138 | 2 |  5 | 0 |  2.09 |  75 | 0 |   4 |\n| 덕진동    | 21215 | 468 | 237 | 1 | 29 | 1 |  4.78 | 114 | 0 |  73 |\n| 동서학동  |  6784 |  67 |   7 | 0 |  6 | 1 | 15.64 |  18 | 0 |   3 |\n| 삼천1동   | 12799 |  97 |  60 | 0 | 14 | 0 |  1.27 |  81 | 0 |  17 |\n| 삼천2동   | 14447 | 216 |  21 | 0 |  9 | 0 |  0.95 | 105 | 0 |  14 |\n| 삼천3동   | 23323 | 219 |  62 | 2 | 13 | 0 | 26.60 |  73 | 0 |  26 |\n| 서서학동  |  9223 |  54 |   7 | 0 | 14 | 0 |  2.97 |  21 | 0 |   7 |\n| 서신동    | 40408 | 560 | 126 | 4 | 31 | 0 |  2.39 | 318 | 0 |  48 |\n| 송천1동   | 59376 | 347 |  31 | 3 | 30 | 0 |  4.79 |  92 | 0 |  25 |\n| 송천2동   | 26748 | 288 |  27 | 0 | 14 | 0 | 12.14 |  96 | 2 |  12 |\n| 여의동    | 30208 | 184 |  60 | 3 | 22 | 0 | 15.71 |  63 | 2 |   3 |\n| 완산동    |  5148 |  17 |   7 | 0 | 14 | 0 |  0.99 |  17 | 0 |   3 |\n| 우아1동   | 10096 | 227 |  60 | 1 | 14 | 0 |  1.44 | 115 | 0 |   3 |\n| 우아2동   | 15125 | 389 | 110 | 0 | 36 | 0 | 22.91 |  73 | 2 |   0 |\n| 인후1동   | 19047 | 147 |  78 | 1 |  8 | 0 |  1.29 |  70 | 0 |   1 |\n| 인후2동   | 12094 | 174 |  60 | 1 |  7 | 0 |  1.32 |  61 | 0 |   5 |\n| 인후3동   | 32426 | 335 |  20 | 1 | 30 | 0 |  1.68 | 101 | 0 |   5 |\n| 조촌동    | 12133 |  90 |  23 | 0 |  7 | 0 | 24.28 |  36 | 0 |  10 |\n| 중앙동    |  8073 | 567 |  68 | 4 | 17 | 0 |  1.35 | 114 | 1 |  10 |\n| 중화산1동 | 15288 | 227 |  60 | 1 | 19 | 2 |  1.22 |  54 | 0 |  20 |\n| 중화산2동 | 20030 | 491 | 119 | 0 | 20 | 0 |  1.72 | 131 | 0 |  41 |\n| 진북동    | 14924 | 145 | 125 | 0 |  8 | 0 |  1.71 |  68 | 0 |   6 |\n| 팔복동    |  8300 | 120 |  31 | 0 | 10 | 0 |  7.38 |  50 | 2 |   1 |\n| 평화1동   | 13204 | 108 |  95 | 0 |  8 | 0 |  1.49 |  27 | 0 |  11 |\n| 평화2동   | 46295 | 372 |  46 | 3 | 21 | 0 | 15.23 | 187 | 0 |  88 |\n| 풍남동    |  4521 | 488 |  24 | 2 | 16 | 0 |  2.05 | 106 | 1 |   1 |\n| 호성동    | 21154 | 121 |  60 | 1 |  9 | 0 |  7.64 |  67 | 0 |   3 |\n| 효자1동   | 11784 |  72 |  76 | 2 | 14 | 0 |  1.02 |  65 | 0 |  20 |\n| 효자2동   | 10861 | 144 |  65 | 0 |  6 | 0 |  0.84 |  84 | 0 |   6 |\n| 효자3동   | 15758 | 156 |  10 | 2 |  9 | 0 |  0.79 |  61 | 0 |  14 |\n| 효자4동   | 33756 | 378 |  42 | 8 | 36 | 2 |  7.71 | 220 | 0 | 107 |\n| 효자5동   | 37898 | 805 |  73 | 0 | 60 | 1 |  6.27 |   1 | 0 |  88 |\n\n",
            "text/html": [
              "<table class=\"dataframe\">\n",
              "<caption>A data.frame: 34 × 11</caption>\n",
              "<thead>\n",
              "\t<tr><th scope=col>행정동</th><th scope=col>인구</th><th scope=col>음식점수</th><th scope=col>자전거보관대수</th><th scope=col>대규모점포수</th><th scope=col>편의점수</th><th scope=col>대학교수</th><th scope=col>면적.km</th><th scope=col>상점개수</th><th scope=col>공원수</th><th scope=col>전동킥보드이용수</th></tr>\n",
              "\t<tr><th scope=col>&lt;chr&gt;</th><th scope=col>&lt;int&gt;</th><th scope=col>&lt;int&gt;</th><th scope=col>&lt;int&gt;</th><th scope=col>&lt;dbl&gt;</th><th scope=col>&lt;int&gt;</th><th scope=col>&lt;dbl&gt;</th><th scope=col>&lt;dbl&gt;</th><th scope=col>&lt;int&gt;</th><th scope=col>&lt;dbl&gt;</th><th scope=col>&lt;int&gt;</th></tr>\n",
              "</thead>\n",
              "<tbody>\n",
              "\t<tr><td>금암1동  </td><td> 8824</td><td>323</td><td>253</td><td>1</td><td>25</td><td>0</td><td> 1.25</td><td> 81</td><td>0</td><td>105</td></tr>\n",
              "\t<tr><td>금암2동  </td><td>10714</td><td>119</td><td> 20</td><td>0</td><td> 8</td><td>0</td><td> 1.25</td><td> 55</td><td>0</td><td> 15</td></tr>\n",
              "\t<tr><td>노송동   </td><td>13189</td><td>193</td><td>138</td><td>2</td><td> 5</td><td>0</td><td> 2.09</td><td> 75</td><td>0</td><td>  4</td></tr>\n",
              "\t<tr><td>덕진동   </td><td>21215</td><td>468</td><td>237</td><td>1</td><td>29</td><td>1</td><td> 4.78</td><td>114</td><td>0</td><td> 73</td></tr>\n",
              "\t<tr><td>동서학동 </td><td> 6784</td><td> 67</td><td>  7</td><td>0</td><td> 6</td><td>1</td><td>15.64</td><td> 18</td><td>0</td><td>  3</td></tr>\n",
              "\t<tr><td>삼천1동  </td><td>12799</td><td> 97</td><td> 60</td><td>0</td><td>14</td><td>0</td><td> 1.27</td><td> 81</td><td>0</td><td> 17</td></tr>\n",
              "\t<tr><td>삼천2동  </td><td>14447</td><td>216</td><td> 21</td><td>0</td><td> 9</td><td>0</td><td> 0.95</td><td>105</td><td>0</td><td> 14</td></tr>\n",
              "\t<tr><td>삼천3동  </td><td>23323</td><td>219</td><td> 62</td><td>2</td><td>13</td><td>0</td><td>26.60</td><td> 73</td><td>0</td><td> 26</td></tr>\n",
              "\t<tr><td>서서학동 </td><td> 9223</td><td> 54</td><td>  7</td><td>0</td><td>14</td><td>0</td><td> 2.97</td><td> 21</td><td>0</td><td>  7</td></tr>\n",
              "\t<tr><td>서신동   </td><td>40408</td><td>560</td><td>126</td><td>4</td><td>31</td><td>0</td><td> 2.39</td><td>318</td><td>0</td><td> 48</td></tr>\n",
              "\t<tr><td>송천1동  </td><td>59376</td><td>347</td><td> 31</td><td>3</td><td>30</td><td>0</td><td> 4.79</td><td> 92</td><td>0</td><td> 25</td></tr>\n",
              "\t<tr><td>송천2동  </td><td>26748</td><td>288</td><td> 27</td><td>0</td><td>14</td><td>0</td><td>12.14</td><td> 96</td><td>2</td><td> 12</td></tr>\n",
              "\t<tr><td>여의동   </td><td>30208</td><td>184</td><td> 60</td><td>3</td><td>22</td><td>0</td><td>15.71</td><td> 63</td><td>2</td><td>  3</td></tr>\n",
              "\t<tr><td>완산동   </td><td> 5148</td><td> 17</td><td>  7</td><td>0</td><td>14</td><td>0</td><td> 0.99</td><td> 17</td><td>0</td><td>  3</td></tr>\n",
              "\t<tr><td>우아1동  </td><td>10096</td><td>227</td><td> 60</td><td>1</td><td>14</td><td>0</td><td> 1.44</td><td>115</td><td>0</td><td>  3</td></tr>\n",
              "\t<tr><td>우아2동  </td><td>15125</td><td>389</td><td>110</td><td>0</td><td>36</td><td>0</td><td>22.91</td><td> 73</td><td>2</td><td>  0</td></tr>\n",
              "\t<tr><td>인후1동  </td><td>19047</td><td>147</td><td> 78</td><td>1</td><td> 8</td><td>0</td><td> 1.29</td><td> 70</td><td>0</td><td>  1</td></tr>\n",
              "\t<tr><td>인후2동  </td><td>12094</td><td>174</td><td> 60</td><td>1</td><td> 7</td><td>0</td><td> 1.32</td><td> 61</td><td>0</td><td>  5</td></tr>\n",
              "\t<tr><td>인후3동  </td><td>32426</td><td>335</td><td> 20</td><td>1</td><td>30</td><td>0</td><td> 1.68</td><td>101</td><td>0</td><td>  5</td></tr>\n",
              "\t<tr><td>조촌동   </td><td>12133</td><td> 90</td><td> 23</td><td>0</td><td> 7</td><td>0</td><td>24.28</td><td> 36</td><td>0</td><td> 10</td></tr>\n",
              "\t<tr><td>중앙동   </td><td> 8073</td><td>567</td><td> 68</td><td>4</td><td>17</td><td>0</td><td> 1.35</td><td>114</td><td>1</td><td> 10</td></tr>\n",
              "\t<tr><td>중화산1동</td><td>15288</td><td>227</td><td> 60</td><td>1</td><td>19</td><td>2</td><td> 1.22</td><td> 54</td><td>0</td><td> 20</td></tr>\n",
              "\t<tr><td>중화산2동</td><td>20030</td><td>491</td><td>119</td><td>0</td><td>20</td><td>0</td><td> 1.72</td><td>131</td><td>0</td><td> 41</td></tr>\n",
              "\t<tr><td>진북동   </td><td>14924</td><td>145</td><td>125</td><td>0</td><td> 8</td><td>0</td><td> 1.71</td><td> 68</td><td>0</td><td>  6</td></tr>\n",
              "\t<tr><td>팔복동   </td><td> 8300</td><td>120</td><td> 31</td><td>0</td><td>10</td><td>0</td><td> 7.38</td><td> 50</td><td>2</td><td>  1</td></tr>\n",
              "\t<tr><td>평화1동  </td><td>13204</td><td>108</td><td> 95</td><td>0</td><td> 8</td><td>0</td><td> 1.49</td><td> 27</td><td>0</td><td> 11</td></tr>\n",
              "\t<tr><td>평화2동  </td><td>46295</td><td>372</td><td> 46</td><td>3</td><td>21</td><td>0</td><td>15.23</td><td>187</td><td>0</td><td> 88</td></tr>\n",
              "\t<tr><td>풍남동   </td><td> 4521</td><td>488</td><td> 24</td><td>2</td><td>16</td><td>0</td><td> 2.05</td><td>106</td><td>1</td><td>  1</td></tr>\n",
              "\t<tr><td>호성동   </td><td>21154</td><td>121</td><td> 60</td><td>1</td><td> 9</td><td>0</td><td> 7.64</td><td> 67</td><td>0</td><td>  3</td></tr>\n",
              "\t<tr><td>효자1동  </td><td>11784</td><td> 72</td><td> 76</td><td>2</td><td>14</td><td>0</td><td> 1.02</td><td> 65</td><td>0</td><td> 20</td></tr>\n",
              "\t<tr><td>효자2동  </td><td>10861</td><td>144</td><td> 65</td><td>0</td><td> 6</td><td>0</td><td> 0.84</td><td> 84</td><td>0</td><td>  6</td></tr>\n",
              "\t<tr><td>효자3동  </td><td>15758</td><td>156</td><td> 10</td><td>2</td><td> 9</td><td>0</td><td> 0.79</td><td> 61</td><td>0</td><td> 14</td></tr>\n",
              "\t<tr><td>효자4동  </td><td>33756</td><td>378</td><td> 42</td><td>8</td><td>36</td><td>2</td><td> 7.71</td><td>220</td><td>0</td><td>107</td></tr>\n",
              "\t<tr><td>효자5동  </td><td>37898</td><td>805</td><td> 73</td><td>0</td><td>60</td><td>1</td><td> 6.27</td><td>  1</td><td>0</td><td> 88</td></tr>\n",
              "</tbody>\n",
              "</table>\n"
            ]
          },
          "metadata": {
            "tags": []
          }
        }
      ]
    },
    {
      "cell_type": "markdown",
      "metadata": {
        "id": "1zBPcz7mEib5"
      },
      "source": [
        "▼ '행정동'은 수치형이 아니라서 분석 불가능하므로 제외"
      ]
    },
    {
      "cell_type": "code",
      "metadata": {
        "colab": {
          "base_uri": "https://localhost:8080/",
          "height": 1000
        },
        "id": "QK_glJhLAUSU",
        "outputId": "d8c069a5-8b71-4967-cd44-bc6b0dc00f78"
      },
      "source": [
        "jj <- jj[,-1]\n",
        "jj"
      ],
      "execution_count": null,
      "outputs": [
        {
          "output_type": "display_data",
          "data": {
            "text/plain": [
              "   인구  음식점수 자전거보관대수 대규모점포수 편의점수 대학교수 면적.km\n",
              "1   8824 323      253            1            25       0         1.25  \n",
              "2  10714 119       20            0             8       0         1.25  \n",
              "3  13189 193      138            2             5       0         2.09  \n",
              "4  21215 468      237            1            29       1         4.78  \n",
              "5   6784  67        7            0             6       1        15.64  \n",
              "6  12799  97       60            0            14       0         1.27  \n",
              "7  14447 216       21            0             9       0         0.95  \n",
              "8  23323 219       62            2            13       0        26.60  \n",
              "9   9223  54        7            0            14       0         2.97  \n",
              "10 40408 560      126            4            31       0         2.39  \n",
              "11 59376 347       31            3            30       0         4.79  \n",
              "12 26748 288       27            0            14       0        12.14  \n",
              "13 30208 184       60            3            22       0        15.71  \n",
              "14  5148  17        7            0            14       0         0.99  \n",
              "15 10096 227       60            1            14       0         1.44  \n",
              "16 15125 389      110            0            36       0        22.91  \n",
              "17 19047 147       78            1             8       0         1.29  \n",
              "18 12094 174       60            1             7       0         1.32  \n",
              "19 32426 335       20            1            30       0         1.68  \n",
              "20 12133  90       23            0             7       0        24.28  \n",
              "21  8073 567       68            4            17       0         1.35  \n",
              "22 15288 227       60            1            19       2         1.22  \n",
              "23 20030 491      119            0            20       0         1.72  \n",
              "24 14924 145      125            0             8       0         1.71  \n",
              "25  8300 120       31            0            10       0         7.38  \n",
              "26 13204 108       95            0             8       0         1.49  \n",
              "27 46295 372       46            3            21       0        15.23  \n",
              "28  4521 488       24            2            16       0         2.05  \n",
              "29 21154 121       60            1             9       0         7.64  \n",
              "30 11784  72       76            2            14       0         1.02  \n",
              "31 10861 144       65            0             6       0         0.84  \n",
              "32 15758 156       10            2             9       0         0.79  \n",
              "33 33756 378       42            8            36       2         7.71  \n",
              "34 37898 805       73            0            60       1         6.27  \n",
              "   상점개수 공원수 전동킥보드이용수\n",
              "1   81      0      105             \n",
              "2   55      0       15             \n",
              "3   75      0        4             \n",
              "4  114      0       73             \n",
              "5   18      0        3             \n",
              "6   81      0       17             \n",
              "7  105      0       14             \n",
              "8   73      0       26             \n",
              "9   21      0        7             \n",
              "10 318      0       48             \n",
              "11  92      0       25             \n",
              "12  96      2       12             \n",
              "13  63      2        3             \n",
              "14  17      0        3             \n",
              "15 115      0        3             \n",
              "16  73      2        0             \n",
              "17  70      0        1             \n",
              "18  61      0        5             \n",
              "19 101      0        5             \n",
              "20  36      0       10             \n",
              "21 114      1       10             \n",
              "22  54      0       20             \n",
              "23 131      0       41             \n",
              "24  68      0        6             \n",
              "25  50      2        1             \n",
              "26  27      0       11             \n",
              "27 187      0       88             \n",
              "28 106      1        1             \n",
              "29  67      0        3             \n",
              "30  65      0       20             \n",
              "31  84      0        6             \n",
              "32  61      0       14             \n",
              "33 220      0      107             \n",
              "34   1      0       88             "
            ],
            "text/latex": "A data.frame: 34 × 10\n\\begin{tabular}{llllllllll}\n 인구 & 음식점수 & 자전거보관대수 & 대규모점포수 & 편의점수 & 대학교수 & 면적.km & 상점개수 & 공원수 & 전동킥보드이용수\\\\\n <int> & <int> & <int> & <dbl> & <int> & <dbl> & <dbl> & <int> & <dbl> & <int>\\\\\n\\hline\n\t  8824 & 323 & 253 & 1 & 25 & 0 &  1.25 &  81 & 0 & 105\\\\\n\t 10714 & 119 &  20 & 0 &  8 & 0 &  1.25 &  55 & 0 &  15\\\\\n\t 13189 & 193 & 138 & 2 &  5 & 0 &  2.09 &  75 & 0 &   4\\\\\n\t 21215 & 468 & 237 & 1 & 29 & 1 &  4.78 & 114 & 0 &  73\\\\\n\t  6784 &  67 &   7 & 0 &  6 & 1 & 15.64 &  18 & 0 &   3\\\\\n\t 12799 &  97 &  60 & 0 & 14 & 0 &  1.27 &  81 & 0 &  17\\\\\n\t 14447 & 216 &  21 & 0 &  9 & 0 &  0.95 & 105 & 0 &  14\\\\\n\t 23323 & 219 &  62 & 2 & 13 & 0 & 26.60 &  73 & 0 &  26\\\\\n\t  9223 &  54 &   7 & 0 & 14 & 0 &  2.97 &  21 & 0 &   7\\\\\n\t 40408 & 560 & 126 & 4 & 31 & 0 &  2.39 & 318 & 0 &  48\\\\\n\t 59376 & 347 &  31 & 3 & 30 & 0 &  4.79 &  92 & 0 &  25\\\\\n\t 26748 & 288 &  27 & 0 & 14 & 0 & 12.14 &  96 & 2 &  12\\\\\n\t 30208 & 184 &  60 & 3 & 22 & 0 & 15.71 &  63 & 2 &   3\\\\\n\t  5148 &  17 &   7 & 0 & 14 & 0 &  0.99 &  17 & 0 &   3\\\\\n\t 10096 & 227 &  60 & 1 & 14 & 0 &  1.44 & 115 & 0 &   3\\\\\n\t 15125 & 389 & 110 & 0 & 36 & 0 & 22.91 &  73 & 2 &   0\\\\\n\t 19047 & 147 &  78 & 1 &  8 & 0 &  1.29 &  70 & 0 &   1\\\\\n\t 12094 & 174 &  60 & 1 &  7 & 0 &  1.32 &  61 & 0 &   5\\\\\n\t 32426 & 335 &  20 & 1 & 30 & 0 &  1.68 & 101 & 0 &   5\\\\\n\t 12133 &  90 &  23 & 0 &  7 & 0 & 24.28 &  36 & 0 &  10\\\\\n\t  8073 & 567 &  68 & 4 & 17 & 0 &  1.35 & 114 & 1 &  10\\\\\n\t 15288 & 227 &  60 & 1 & 19 & 2 &  1.22 &  54 & 0 &  20\\\\\n\t 20030 & 491 & 119 & 0 & 20 & 0 &  1.72 & 131 & 0 &  41\\\\\n\t 14924 & 145 & 125 & 0 &  8 & 0 &  1.71 &  68 & 0 &   6\\\\\n\t  8300 & 120 &  31 & 0 & 10 & 0 &  7.38 &  50 & 2 &   1\\\\\n\t 13204 & 108 &  95 & 0 &  8 & 0 &  1.49 &  27 & 0 &  11\\\\\n\t 46295 & 372 &  46 & 3 & 21 & 0 & 15.23 & 187 & 0 &  88\\\\\n\t  4521 & 488 &  24 & 2 & 16 & 0 &  2.05 & 106 & 1 &   1\\\\\n\t 21154 & 121 &  60 & 1 &  9 & 0 &  7.64 &  67 & 0 &   3\\\\\n\t 11784 &  72 &  76 & 2 & 14 & 0 &  1.02 &  65 & 0 &  20\\\\\n\t 10861 & 144 &  65 & 0 &  6 & 0 &  0.84 &  84 & 0 &   6\\\\\n\t 15758 & 156 &  10 & 2 &  9 & 0 &  0.79 &  61 & 0 &  14\\\\\n\t 33756 & 378 &  42 & 8 & 36 & 2 &  7.71 & 220 & 0 & 107\\\\\n\t 37898 & 805 &  73 & 0 & 60 & 1 &  6.27 &   1 & 0 &  88\\\\\n\\end{tabular}\n",
            "text/markdown": "\nA data.frame: 34 × 10\n\n| 인구 &lt;int&gt; | 음식점수 &lt;int&gt; | 자전거보관대수 &lt;int&gt; | 대규모점포수 &lt;dbl&gt; | 편의점수 &lt;int&gt; | 대학교수 &lt;dbl&gt; | 면적.km &lt;dbl&gt; | 상점개수 &lt;int&gt; | 공원수 &lt;dbl&gt; | 전동킥보드이용수 &lt;int&gt; |\n|---|---|---|---|---|---|---|---|---|---|\n|  8824 | 323 | 253 | 1 | 25 | 0 |  1.25 |  81 | 0 | 105 |\n| 10714 | 119 |  20 | 0 |  8 | 0 |  1.25 |  55 | 0 |  15 |\n| 13189 | 193 | 138 | 2 |  5 | 0 |  2.09 |  75 | 0 |   4 |\n| 21215 | 468 | 237 | 1 | 29 | 1 |  4.78 | 114 | 0 |  73 |\n|  6784 |  67 |   7 | 0 |  6 | 1 | 15.64 |  18 | 0 |   3 |\n| 12799 |  97 |  60 | 0 | 14 | 0 |  1.27 |  81 | 0 |  17 |\n| 14447 | 216 |  21 | 0 |  9 | 0 |  0.95 | 105 | 0 |  14 |\n| 23323 | 219 |  62 | 2 | 13 | 0 | 26.60 |  73 | 0 |  26 |\n|  9223 |  54 |   7 | 0 | 14 | 0 |  2.97 |  21 | 0 |   7 |\n| 40408 | 560 | 126 | 4 | 31 | 0 |  2.39 | 318 | 0 |  48 |\n| 59376 | 347 |  31 | 3 | 30 | 0 |  4.79 |  92 | 0 |  25 |\n| 26748 | 288 |  27 | 0 | 14 | 0 | 12.14 |  96 | 2 |  12 |\n| 30208 | 184 |  60 | 3 | 22 | 0 | 15.71 |  63 | 2 |   3 |\n|  5148 |  17 |   7 | 0 | 14 | 0 |  0.99 |  17 | 0 |   3 |\n| 10096 | 227 |  60 | 1 | 14 | 0 |  1.44 | 115 | 0 |   3 |\n| 15125 | 389 | 110 | 0 | 36 | 0 | 22.91 |  73 | 2 |   0 |\n| 19047 | 147 |  78 | 1 |  8 | 0 |  1.29 |  70 | 0 |   1 |\n| 12094 | 174 |  60 | 1 |  7 | 0 |  1.32 |  61 | 0 |   5 |\n| 32426 | 335 |  20 | 1 | 30 | 0 |  1.68 | 101 | 0 |   5 |\n| 12133 |  90 |  23 | 0 |  7 | 0 | 24.28 |  36 | 0 |  10 |\n|  8073 | 567 |  68 | 4 | 17 | 0 |  1.35 | 114 | 1 |  10 |\n| 15288 | 227 |  60 | 1 | 19 | 2 |  1.22 |  54 | 0 |  20 |\n| 20030 | 491 | 119 | 0 | 20 | 0 |  1.72 | 131 | 0 |  41 |\n| 14924 | 145 | 125 | 0 |  8 | 0 |  1.71 |  68 | 0 |   6 |\n|  8300 | 120 |  31 | 0 | 10 | 0 |  7.38 |  50 | 2 |   1 |\n| 13204 | 108 |  95 | 0 |  8 | 0 |  1.49 |  27 | 0 |  11 |\n| 46295 | 372 |  46 | 3 | 21 | 0 | 15.23 | 187 | 0 |  88 |\n|  4521 | 488 |  24 | 2 | 16 | 0 |  2.05 | 106 | 1 |   1 |\n| 21154 | 121 |  60 | 1 |  9 | 0 |  7.64 |  67 | 0 |   3 |\n| 11784 |  72 |  76 | 2 | 14 | 0 |  1.02 |  65 | 0 |  20 |\n| 10861 | 144 |  65 | 0 |  6 | 0 |  0.84 |  84 | 0 |   6 |\n| 15758 | 156 |  10 | 2 |  9 | 0 |  0.79 |  61 | 0 |  14 |\n| 33756 | 378 |  42 | 8 | 36 | 2 |  7.71 | 220 | 0 | 107 |\n| 37898 | 805 |  73 | 0 | 60 | 1 |  6.27 |   1 | 0 |  88 |\n\n",
            "text/html": [
              "<table class=\"dataframe\">\n",
              "<caption>A data.frame: 34 × 10</caption>\n",
              "<thead>\n",
              "\t<tr><th scope=col>인구</th><th scope=col>음식점수</th><th scope=col>자전거보관대수</th><th scope=col>대규모점포수</th><th scope=col>편의점수</th><th scope=col>대학교수</th><th scope=col>면적.km</th><th scope=col>상점개수</th><th scope=col>공원수</th><th scope=col>전동킥보드이용수</th></tr>\n",
              "\t<tr><th scope=col>&lt;int&gt;</th><th scope=col>&lt;int&gt;</th><th scope=col>&lt;int&gt;</th><th scope=col>&lt;dbl&gt;</th><th scope=col>&lt;int&gt;</th><th scope=col>&lt;dbl&gt;</th><th scope=col>&lt;dbl&gt;</th><th scope=col>&lt;int&gt;</th><th scope=col>&lt;dbl&gt;</th><th scope=col>&lt;int&gt;</th></tr>\n",
              "</thead>\n",
              "<tbody>\n",
              "\t<tr><td> 8824</td><td>323</td><td>253</td><td>1</td><td>25</td><td>0</td><td> 1.25</td><td> 81</td><td>0</td><td>105</td></tr>\n",
              "\t<tr><td>10714</td><td>119</td><td> 20</td><td>0</td><td> 8</td><td>0</td><td> 1.25</td><td> 55</td><td>0</td><td> 15</td></tr>\n",
              "\t<tr><td>13189</td><td>193</td><td>138</td><td>2</td><td> 5</td><td>0</td><td> 2.09</td><td> 75</td><td>0</td><td>  4</td></tr>\n",
              "\t<tr><td>21215</td><td>468</td><td>237</td><td>1</td><td>29</td><td>1</td><td> 4.78</td><td>114</td><td>0</td><td> 73</td></tr>\n",
              "\t<tr><td> 6784</td><td> 67</td><td>  7</td><td>0</td><td> 6</td><td>1</td><td>15.64</td><td> 18</td><td>0</td><td>  3</td></tr>\n",
              "\t<tr><td>12799</td><td> 97</td><td> 60</td><td>0</td><td>14</td><td>0</td><td> 1.27</td><td> 81</td><td>0</td><td> 17</td></tr>\n",
              "\t<tr><td>14447</td><td>216</td><td> 21</td><td>0</td><td> 9</td><td>0</td><td> 0.95</td><td>105</td><td>0</td><td> 14</td></tr>\n",
              "\t<tr><td>23323</td><td>219</td><td> 62</td><td>2</td><td>13</td><td>0</td><td>26.60</td><td> 73</td><td>0</td><td> 26</td></tr>\n",
              "\t<tr><td> 9223</td><td> 54</td><td>  7</td><td>0</td><td>14</td><td>0</td><td> 2.97</td><td> 21</td><td>0</td><td>  7</td></tr>\n",
              "\t<tr><td>40408</td><td>560</td><td>126</td><td>4</td><td>31</td><td>0</td><td> 2.39</td><td>318</td><td>0</td><td> 48</td></tr>\n",
              "\t<tr><td>59376</td><td>347</td><td> 31</td><td>3</td><td>30</td><td>0</td><td> 4.79</td><td> 92</td><td>0</td><td> 25</td></tr>\n",
              "\t<tr><td>26748</td><td>288</td><td> 27</td><td>0</td><td>14</td><td>0</td><td>12.14</td><td> 96</td><td>2</td><td> 12</td></tr>\n",
              "\t<tr><td>30208</td><td>184</td><td> 60</td><td>3</td><td>22</td><td>0</td><td>15.71</td><td> 63</td><td>2</td><td>  3</td></tr>\n",
              "\t<tr><td> 5148</td><td> 17</td><td>  7</td><td>0</td><td>14</td><td>0</td><td> 0.99</td><td> 17</td><td>0</td><td>  3</td></tr>\n",
              "\t<tr><td>10096</td><td>227</td><td> 60</td><td>1</td><td>14</td><td>0</td><td> 1.44</td><td>115</td><td>0</td><td>  3</td></tr>\n",
              "\t<tr><td>15125</td><td>389</td><td>110</td><td>0</td><td>36</td><td>0</td><td>22.91</td><td> 73</td><td>2</td><td>  0</td></tr>\n",
              "\t<tr><td>19047</td><td>147</td><td> 78</td><td>1</td><td> 8</td><td>0</td><td> 1.29</td><td> 70</td><td>0</td><td>  1</td></tr>\n",
              "\t<tr><td>12094</td><td>174</td><td> 60</td><td>1</td><td> 7</td><td>0</td><td> 1.32</td><td> 61</td><td>0</td><td>  5</td></tr>\n",
              "\t<tr><td>32426</td><td>335</td><td> 20</td><td>1</td><td>30</td><td>0</td><td> 1.68</td><td>101</td><td>0</td><td>  5</td></tr>\n",
              "\t<tr><td>12133</td><td> 90</td><td> 23</td><td>0</td><td> 7</td><td>0</td><td>24.28</td><td> 36</td><td>0</td><td> 10</td></tr>\n",
              "\t<tr><td> 8073</td><td>567</td><td> 68</td><td>4</td><td>17</td><td>0</td><td> 1.35</td><td>114</td><td>1</td><td> 10</td></tr>\n",
              "\t<tr><td>15288</td><td>227</td><td> 60</td><td>1</td><td>19</td><td>2</td><td> 1.22</td><td> 54</td><td>0</td><td> 20</td></tr>\n",
              "\t<tr><td>20030</td><td>491</td><td>119</td><td>0</td><td>20</td><td>0</td><td> 1.72</td><td>131</td><td>0</td><td> 41</td></tr>\n",
              "\t<tr><td>14924</td><td>145</td><td>125</td><td>0</td><td> 8</td><td>0</td><td> 1.71</td><td> 68</td><td>0</td><td>  6</td></tr>\n",
              "\t<tr><td> 8300</td><td>120</td><td> 31</td><td>0</td><td>10</td><td>0</td><td> 7.38</td><td> 50</td><td>2</td><td>  1</td></tr>\n",
              "\t<tr><td>13204</td><td>108</td><td> 95</td><td>0</td><td> 8</td><td>0</td><td> 1.49</td><td> 27</td><td>0</td><td> 11</td></tr>\n",
              "\t<tr><td>46295</td><td>372</td><td> 46</td><td>3</td><td>21</td><td>0</td><td>15.23</td><td>187</td><td>0</td><td> 88</td></tr>\n",
              "\t<tr><td> 4521</td><td>488</td><td> 24</td><td>2</td><td>16</td><td>0</td><td> 2.05</td><td>106</td><td>1</td><td>  1</td></tr>\n",
              "\t<tr><td>21154</td><td>121</td><td> 60</td><td>1</td><td> 9</td><td>0</td><td> 7.64</td><td> 67</td><td>0</td><td>  3</td></tr>\n",
              "\t<tr><td>11784</td><td> 72</td><td> 76</td><td>2</td><td>14</td><td>0</td><td> 1.02</td><td> 65</td><td>0</td><td> 20</td></tr>\n",
              "\t<tr><td>10861</td><td>144</td><td> 65</td><td>0</td><td> 6</td><td>0</td><td> 0.84</td><td> 84</td><td>0</td><td>  6</td></tr>\n",
              "\t<tr><td>15758</td><td>156</td><td> 10</td><td>2</td><td> 9</td><td>0</td><td> 0.79</td><td> 61</td><td>0</td><td> 14</td></tr>\n",
              "\t<tr><td>33756</td><td>378</td><td> 42</td><td>8</td><td>36</td><td>2</td><td> 7.71</td><td>220</td><td>0</td><td>107</td></tr>\n",
              "\t<tr><td>37898</td><td>805</td><td> 73</td><td>0</td><td>60</td><td>1</td><td> 6.27</td><td>  1</td><td>0</td><td> 88</td></tr>\n",
              "</tbody>\n",
              "</table>\n"
            ]
          },
          "metadata": {
            "tags": []
          }
        }
      ]
    },
    {
      "cell_type": "markdown",
      "metadata": {
        "id": "6yr5ZdtbUSL6"
      },
      "source": [
        "▼ 전동킥보드 이용수와의 상관분석 결과\n",
        "\n",
        "편의점수 : 0.63\n",
        "\n",
        "음식점수 : 0.56\n",
        "\n",
        "자전거보관대수 : 0.47\n",
        "\n",
        "인구수 : 0.46\n",
        "\n",
        "대학교수 : 0.46\n",
        "\n",
        "대규모점포수 : 0.44\n",
        "\n",
        "\n",
        "** 일반적으로 0.6이 넘을 경우 상관관계가 양호하다고 봄\n"
      ]
    },
    {
      "cell_type": "code",
      "metadata": {
        "colab": {
          "base_uri": "https://localhost:8080/",
          "height": 886
        },
        "id": "cN9gIcEyUIYW",
        "outputId": "ac09fbc1-2076-462a-9690-d5f0fc3fd756"
      },
      "source": [
        "install.packages(\"corrplot\")\n",
        "library(corrplot)\n",
        "cor.jj <- cor(jj) \n",
        "round(cor.jj, 2) \n",
        "\n",
        "corrplot(cor.jj, method='shade', shade.col=NA, tl.col='black', tl.srt=45)"
      ],
      "execution_count": null,
      "outputs": [
        {
          "output_type": "stream",
          "text": [
            "Installing package into ‘/usr/local/lib/R/site-library’\n",
            "(as ‘lib’ is unspecified)\n",
            "\n",
            "corrplot 0.87 loaded\n",
            "\n"
          ],
          "name": "stderr"
        },
        {
          "output_type": "display_data",
          "data": {
            "text/plain": [
              "                 인구  음식점수 자전거보관대수 대규모점포수 편의점수 대학교수\n",
              "인구              1.00  0.48    -0.01           0.46        0.60      0.14   \n",
              "음식점수          0.48  1.00     0.33           0.34        0.79      0.24   \n",
              "자전거보관대수   -0.01  0.33     1.00           0.02        0.24      0.05   \n",
              "대규모점포수      0.46  0.34     0.02           1.00        0.31      0.33   \n",
              "편의점수          0.60  0.79     0.24           0.31        1.00      0.40   \n",
              "대학교수          0.14  0.24     0.05           0.33        0.40      1.00   \n",
              "면적.km           0.20 -0.01    -0.13           0.03        0.11      0.02   \n",
              "상점개수          0.47  0.47     0.22           0.66        0.27      0.08   \n",
              "공원수           -0.06  0.11    -0.10          -0.02        0.09     -0.17   \n",
              "전동킥보드이용수  0.46  0.56     0.47           0.44        0.63      0.46   \n",
              "                 면적.km 상점개수 공원수 전동킥보드이용수\n",
              "인구              0.20    0.47    -0.06   0.46           \n",
              "음식점수         -0.01    0.47     0.11   0.56           \n",
              "자전거보관대수   -0.13    0.22    -0.10   0.47           \n",
              "대규모점포수      0.03    0.66    -0.02   0.44           \n",
              "편의점수          0.11    0.27     0.09   0.63           \n",
              "대학교수          0.02    0.08    -0.17   0.46           \n",
              "면적.km           1.00   -0.07     0.37   0.02           \n",
              "상점개수         -0.07    1.00    -0.05   0.43           \n",
              "공원수            0.37   -0.05     1.00  -0.27           \n",
              "전동킥보드이용수  0.02    0.43    -0.27   1.00           "
            ],
            "text/latex": "A matrix: 10 × 10 of type dbl\n\\begin{tabular}{r|llllllllll}\n  & 인구 & 음식점수 & 자전거보관대수 & 대규모점포수 & 편의점수 & 대학교수 & 면적.km & 상점개수 & 공원수 & 전동킥보드이용수\\\\\n\\hline\n\t인구 &  1.00 &  0.48 & -0.01 &  0.46 & 0.60 &  0.14 &  0.20 &  0.47 & -0.06 &  0.46\\\\\n\t음식점수 &  0.48 &  1.00 &  0.33 &  0.34 & 0.79 &  0.24 & -0.01 &  0.47 &  0.11 &  0.56\\\\\n\t자전거보관대수 & -0.01 &  0.33 &  1.00 &  0.02 & 0.24 &  0.05 & -0.13 &  0.22 & -0.10 &  0.47\\\\\n\t대규모점포수 &  0.46 &  0.34 &  0.02 &  1.00 & 0.31 &  0.33 &  0.03 &  0.66 & -0.02 &  0.44\\\\\n\t편의점수 &  0.60 &  0.79 &  0.24 &  0.31 & 1.00 &  0.40 &  0.11 &  0.27 &  0.09 &  0.63\\\\\n\t대학교수 &  0.14 &  0.24 &  0.05 &  0.33 & 0.40 &  1.00 &  0.02 &  0.08 & -0.17 &  0.46\\\\\n\t면적.km &  0.20 & -0.01 & -0.13 &  0.03 & 0.11 &  0.02 &  1.00 & -0.07 &  0.37 &  0.02\\\\\n\t상점개수 &  0.47 &  0.47 &  0.22 &  0.66 & 0.27 &  0.08 & -0.07 &  1.00 & -0.05 &  0.43\\\\\n\t공원수 & -0.06 &  0.11 & -0.10 & -0.02 & 0.09 & -0.17 &  0.37 & -0.05 &  1.00 & -0.27\\\\\n\t전동킥보드이용수 &  0.46 &  0.56 &  0.47 &  0.44 & 0.63 &  0.46 &  0.02 &  0.43 & -0.27 &  1.00\\\\\n\\end{tabular}\n",
            "text/markdown": "\nA matrix: 10 × 10 of type dbl\n\n| <!--/--> | 인구 | 음식점수 | 자전거보관대수 | 대규모점포수 | 편의점수 | 대학교수 | 면적.km | 상점개수 | 공원수 | 전동킥보드이용수 |\n|---|---|---|---|---|---|---|---|---|---|---|\n| 인구 |  1.00 |  0.48 | -0.01 |  0.46 | 0.60 |  0.14 |  0.20 |  0.47 | -0.06 |  0.46 |\n| 음식점수 |  0.48 |  1.00 |  0.33 |  0.34 | 0.79 |  0.24 | -0.01 |  0.47 |  0.11 |  0.56 |\n| 자전거보관대수 | -0.01 |  0.33 |  1.00 |  0.02 | 0.24 |  0.05 | -0.13 |  0.22 | -0.10 |  0.47 |\n| 대규모점포수 |  0.46 |  0.34 |  0.02 |  1.00 | 0.31 |  0.33 |  0.03 |  0.66 | -0.02 |  0.44 |\n| 편의점수 |  0.60 |  0.79 |  0.24 |  0.31 | 1.00 |  0.40 |  0.11 |  0.27 |  0.09 |  0.63 |\n| 대학교수 |  0.14 |  0.24 |  0.05 |  0.33 | 0.40 |  1.00 |  0.02 |  0.08 | -0.17 |  0.46 |\n| 면적.km |  0.20 | -0.01 | -0.13 |  0.03 | 0.11 |  0.02 |  1.00 | -0.07 |  0.37 |  0.02 |\n| 상점개수 |  0.47 |  0.47 |  0.22 |  0.66 | 0.27 |  0.08 | -0.07 |  1.00 | -0.05 |  0.43 |\n| 공원수 | -0.06 |  0.11 | -0.10 | -0.02 | 0.09 | -0.17 |  0.37 | -0.05 |  1.00 | -0.27 |\n| 전동킥보드이용수 |  0.46 |  0.56 |  0.47 |  0.44 | 0.63 |  0.46 |  0.02 |  0.43 | -0.27 |  1.00 |\n\n",
            "text/html": [
              "<table class=\"dataframe\">\n",
              "<caption>A matrix: 10 × 10 of type dbl</caption>\n",
              "<thead>\n",
              "\t<tr><th></th><th scope=col>인구</th><th scope=col>음식점수</th><th scope=col>자전거보관대수</th><th scope=col>대규모점포수</th><th scope=col>편의점수</th><th scope=col>대학교수</th><th scope=col>면적.km</th><th scope=col>상점개수</th><th scope=col>공원수</th><th scope=col>전동킥보드이용수</th></tr>\n",
              "</thead>\n",
              "<tbody>\n",
              "\t<tr><th scope=row>인구</th><td> 1.00</td><td> 0.48</td><td>-0.01</td><td> 0.46</td><td>0.60</td><td> 0.14</td><td> 0.20</td><td> 0.47</td><td>-0.06</td><td> 0.46</td></tr>\n",
              "\t<tr><th scope=row>음식점수</th><td> 0.48</td><td> 1.00</td><td> 0.33</td><td> 0.34</td><td>0.79</td><td> 0.24</td><td>-0.01</td><td> 0.47</td><td> 0.11</td><td> 0.56</td></tr>\n",
              "\t<tr><th scope=row>자전거보관대수</th><td>-0.01</td><td> 0.33</td><td> 1.00</td><td> 0.02</td><td>0.24</td><td> 0.05</td><td>-0.13</td><td> 0.22</td><td>-0.10</td><td> 0.47</td></tr>\n",
              "\t<tr><th scope=row>대규모점포수</th><td> 0.46</td><td> 0.34</td><td> 0.02</td><td> 1.00</td><td>0.31</td><td> 0.33</td><td> 0.03</td><td> 0.66</td><td>-0.02</td><td> 0.44</td></tr>\n",
              "\t<tr><th scope=row>편의점수</th><td> 0.60</td><td> 0.79</td><td> 0.24</td><td> 0.31</td><td>1.00</td><td> 0.40</td><td> 0.11</td><td> 0.27</td><td> 0.09</td><td> 0.63</td></tr>\n",
              "\t<tr><th scope=row>대학교수</th><td> 0.14</td><td> 0.24</td><td> 0.05</td><td> 0.33</td><td>0.40</td><td> 1.00</td><td> 0.02</td><td> 0.08</td><td>-0.17</td><td> 0.46</td></tr>\n",
              "\t<tr><th scope=row>면적.km</th><td> 0.20</td><td>-0.01</td><td>-0.13</td><td> 0.03</td><td>0.11</td><td> 0.02</td><td> 1.00</td><td>-0.07</td><td> 0.37</td><td> 0.02</td></tr>\n",
              "\t<tr><th scope=row>상점개수</th><td> 0.47</td><td> 0.47</td><td> 0.22</td><td> 0.66</td><td>0.27</td><td> 0.08</td><td>-0.07</td><td> 1.00</td><td>-0.05</td><td> 0.43</td></tr>\n",
              "\t<tr><th scope=row>공원수</th><td>-0.06</td><td> 0.11</td><td>-0.10</td><td>-0.02</td><td>0.09</td><td>-0.17</td><td> 0.37</td><td>-0.05</td><td> 1.00</td><td>-0.27</td></tr>\n",
              "\t<tr><th scope=row>전동킥보드이용수</th><td> 0.46</td><td> 0.56</td><td> 0.47</td><td> 0.44</td><td>0.63</td><td> 0.46</td><td> 0.02</td><td> 0.43</td><td>-0.27</td><td> 1.00</td></tr>\n",
              "</tbody>\n",
              "</table>\n"
            ]
          },
          "metadata": {
            "tags": []
          }
        },
        {
          "output_type": "display_data",
          "data": {
            "image/png": "[encoded data removed]",
            "text/plain": [
              "Plot with title “”"
            ]
          },
          "metadata": {
            "tags": [],
            "image/png": {
              "width": 420,
              "height": 420
            }
          }
        }
      ]
    }
  ]
}