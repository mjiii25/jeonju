{
  "nbformat": 4,
  "nbformat_minor": 0,
  "metadata": {
    "colab": {
      "name": "Untitled9.ipynb",
      "provenance": [],
      "toc_visible": true,
      "include_colab_link": true
    },
    "kernelspec": {
      "name": "ir",
      "display_name": "R"
    },
    "language_info": {
      "name": "R"
    }
  },
  "cells": [
    {
      "cell_type": "markdown",
      "metadata": {
        "id": "view-in-github",
        "colab_type": "text"
      },
      "source": [
        "<a href=\"https://colab.research.google.com/github/mjiii25/jeonju/blob/main/%EB%8D%B0%EC%9D%B4%ED%84%B0%20%EC%A0%95%EB%A6%AC.ipynb\" target=\"_parent\"><img src=\"https://colab.research.google.com/assets/colab-badge.svg\" alt=\"Open In Colab\"/></a>"
      ]
    },
    {
      "cell_type": "markdown",
      "metadata": {
        "id": "dVi2ZRXabTIG"
      },
      "source": [
        "# R 실행\n",
        "\n",
        "https://gist.github.com/jobdiogenes/235620928c84e604c6e56211ccf681f0"
      ]
    },
    {
      "cell_type": "code",
      "metadata": {
        "colab": {
          "base_uri": "https://localhost:8080/"
        },
        "id": "IoDbJVG7alub",
        "outputId": "126ddf02-8307-45a3-e856-9c02d2891b3b"
      },
      "source": [
        "# Check if is running in Colab and redefine is_interactive()\n",
        "if (file.exists(\"/usr/local/lib/python3.7/dist-packages/google/colab/_ipython.py\")) {\n",
        "  install.packages(\"R.utils\")\n",
        "  library(\"R.utils\")\n",
        "  library(\"httr\")\n",
        "  my_check <- function() {return(TRUE)}\n",
        "  reassignInPackage(\"is_interactive\", pkgName = \"httr\", my_check) \n",
        "  options(rlang_interactive=TRUE)\n",
        "}"
      ],
      "execution_count": null,
      "outputs": [
        {
          "output_type": "stream",
          "text": [
            "Installing package into ‘/usr/local/lib/R/site-library’\n",
            "(as ‘lib’ is unspecified)\n",
            "\n",
            "also installing the dependencies ‘R.oo’, ‘R.methodsS3’\n",
            "\n",
            "\n",
            "Loading required package: R.oo\n",
            "\n",
            "Loading required package: R.methodsS3\n",
            "\n",
            "R.methodsS3 v1.8.1 (2020-08-26 16:20:06 UTC) successfully loaded. See ?R.methodsS3 for help.\n",
            "\n",
            "R.oo v1.24.0 (2020-08-26 16:11:58 UTC) successfully loaded. See ?R.oo for help.\n",
            "\n",
            "\n",
            "Attaching package: ‘R.oo’\n",
            "\n",
            "\n",
            "The following object is masked from ‘package:R.methodsS3’:\n",
            "\n",
            "    throw\n",
            "\n",
            "\n",
            "The following objects are masked from ‘package:methods’:\n",
            "\n",
            "    getClasses, getMethods\n",
            "\n",
            "\n",
            "The following objects are masked from ‘package:base’:\n",
            "\n",
            "    attach, detach, load, save\n",
            "\n",
            "\n",
            "R.utils v2.10.1 (2020-08-26 22:50:31 UTC) successfully loaded. See ?R.utils for help.\n",
            "\n",
            "\n",
            "Attaching package: ‘R.utils’\n",
            "\n",
            "\n",
            "The following object is masked from ‘package:utils’:\n",
            "\n",
            "    timestamp\n",
            "\n",
            "\n",
            "The following objects are masked from ‘package:base’:\n",
            "\n",
            "    cat, commandArgs, getOption, inherits, isOpen, nullfile, parse,\n",
            "    warnings\n",
            "\n",
            "\n"
          ],
          "name": "stderr"
        }
      ]
    },
    {
      "cell_type": "code",
      "metadata": {
        "id": "va2I2kGQasIw"
      },
      "source": [
        "# If ts not available we need to install . put other packages if you need.\n",
        "packages <- c(\"googledrive\", \"googlesheets4\")\n",
        "if (length(setdiff(packages, rownames(installed.packages()))) > 0) {\n",
        "  install.packages(setdiff(packages, rownames(installed.packages())))  \n",
        "}"
      ],
      "execution_count": null,
      "outputs": []
    },
    {
      "cell_type": "code",
      "metadata": {
        "colab": {
          "base_uri": "https://localhost:8080/"
        },
        "id": "1S362jWsawQ-",
        "outputId": "e8db4207-839b-4bce-9b14-d2a37d46425a"
      },
      "source": [
        "library(\"googledrive\")\n",
        "library(\"googlesheets4\")"
      ],
      "execution_count": null,
      "outputs": [
        {
          "output_type": "stream",
          "text": [
            "\n",
            "Attaching package: ‘googlesheets4’\n",
            "\n",
            "\n",
            "The following objects are masked from ‘package:googledrive’:\n",
            "\n",
            "    request_generate, request_make\n",
            "\n",
            "\n"
          ],
          "name": "stderr"
        }
      ]
    },
    {
      "cell_type": "code",
      "metadata": {
        "colab": {
          "base_uri": "https://localhost:8080/"
        },
        "id": "IyDQWX6may1K",
        "outputId": "97fde739-e7a0-4911-ff1e-29e1f1413cdd"
      },
      "source": [
        "# call authentication forcing interactive login and save in cache. \n",
        "drive_auth(use_oob = TRUE, cache = TRUE)"
      ],
      "execution_count": null,
      "outputs": [
        {
          "output_type": "stream",
          "text": [
            "Please point your browser to the following url: \n",
            "\n",
            "https://accounts.google.com/o/oauth2/auth?client_id=603366585132-dpeg5tt0et3go5of2374d83ifevk5086.apps.googleusercontent.com&scope=https%3A%2F%2Fwww.googleapis.com%2Fauth%2Fdrive%20https%3A%2F%2Fwww.googleapis.com%2Fauth%2Fuserinfo.email&redirect_uri=urn%3Aietf%3Awg%3Aoauth%3A2.0%3Aoob&response_type=code\n",
            "\n"
          ],
          "name": "stderr"
        },
        {
          "output_type": "stream",
          "text": [
            "Enter authorization code: 4/1AY0e-g4n_EDtK9GNMepvIbNLQ69ZyLI7Vt3FtH77B49hMy_4083dKxXU4M8\n"
          ],
          "name": "stdout"
        }
      ]
    },
    {
      "cell_type": "code",
      "metadata": {
        "id": "VHB7jRfca8T6"
      },
      "source": [
        "# Find Google Sheets anf get the id of the first sheet \n",
        "Sheets <- drive_find(type = \"spreadsheet\")\n",
        "first_id <- Sheets$id[1]"
      ],
      "execution_count": null,
      "outputs": []
    },
    {
      "cell_type": "code",
      "metadata": {
        "colab": {
          "base_uri": "https://localhost:8080/"
        },
        "id": "xWH8JGGObArO",
        "outputId": "c4dcb157-d7ce-4c9f-f919-84fef2d8eda6"
      },
      "source": [
        "# reuse token to Sheet Auth. \n",
        "sheets_auth(token = drive_token())"
      ],
      "execution_count": null,
      "outputs": [
        {
          "output_type": "stream",
          "text": [
            "Warning message:\n",
            "“`sheets_auth()` was deprecated in googlesheets4 0.2.0.\n",
            "Please use `gs4_auth()` instead.\n",
            "\u001b[90mThis warning is displayed once every 8 hours.\u001b[39m\n",
            "\u001b[90mCall `lifecycle::last_warnings()` to see where this warning was generated.\u001b[39m”\n"
          ],
          "name": "stderr"
        }
      ]
    },
    {
      "cell_type": "code",
      "metadata": {
        "colab": {
          "base_uri": "https://localhost:8080/",
          "height": 1000
        },
        "id": "VCko-jGkbDnG",
        "outputId": "1296780d-d0af-4af2-ba20-3d3e0eabbc82"
      },
      "source": [
        "# show data\n",
        "sheets_read(first_id)"
      ],
      "execution_count": null,
      "outputs": [
        {
          "output_type": "stream",
          "text": [
            "Warning message:\n",
            "“`sheets_read()` was deprecated in googlesheets4 0.2.0.\n",
            "Please use `range_read()` instead.\n",
            "\u001b[90mThis warning is displayed once every 8 hours.\u001b[39m\n",
            "\u001b[90mCall `lifecycle::last_warnings()` to see where this warning was generated.\u001b[39m”\n",
            "Reading from \"gu_usage\"\n",
            "\n",
            "Range \"gu_usage\"\n",
            "\n"
          ],
          "name": "stderr"
        },
        {
          "output_type": "display_data",
          "data": {
            "text/plain": [
              "    province gu       gu_eng       date       count \n",
              "1   서울     종로구   Jongno       2020-07-01  85935\n",
              "2   서울     중구     Jung         2020-07-01  52417\n",
              "3   서울     용산구   Yongsan      2020-07-01  58354\n",
              "4   서울     성동구   Seongdong    2020-07-01 106216\n",
              "5   서울     광진구   Kwangjin     2020-07-01 125735\n",
              "6   서울     동대문구 Dongdaemun   2020-07-01  93487\n",
              "7   서울     중랑구   Jungnang     2020-07-01  76841\n",
              "8   서울     성북구   Seongbuk     2020-07-01  81364\n",
              "9   서울     강북구   Gangbuk      2020-07-01  54503\n",
              "10  서울     도봉구   Dobong       2020-07-01  58420\n",
              "11  서울     노원구   Nowon        2020-07-01 157281\n",
              "12  서울     은평구   Eunpyeong    2020-07-01  81923\n",
              "13  서울     서대문구 Seodaemun    2020-07-01  65144\n",
              "14  서울     마포구   Mapo         2020-07-01 155009\n",
              "15  서울     양천구   Yangcheon    2020-07-01 119956\n",
              "16  서울     강서구   Gangseo      2020-07-01 224984\n",
              "17  서울     구로구   Guro         2020-07-01 106619\n",
              "18  서울     금천구   Geumcheon    2020-07-01  43940\n",
              "19  서울     영등포구 Yeongdeungpo 2020-07-01 209515\n",
              "20  서울     동작구   Dongjak      2020-07-01  67929\n",
              "21  서울     관악구   Gwanak       2020-07-01  92451\n",
              "22  서울     서초구   Seocho       2020-07-01 101631\n",
              "23  서울     강남구   Gangnam      2020-07-01  79194\n",
              "24  서울     송파구   Songpa       2020-07-01 185529\n",
              "25  서울     강동구   Gangdong     2020-07-01  97719\n",
              "26  서울     종로구   Jongno       2020-08-01  65729\n",
              "27  서울     중구     Jung         2020-08-01  40401\n",
              "28  서울     용산구   Yongsan      2020-08-01  36762\n",
              "29  서울     성동구   Seongdong    2020-08-01  65323\n",
              "30  서울     광진구   Kwangjin     2020-08-01  75051\n",
              "⋮   ⋮        ⋮        ⋮            ⋮          ⋮     \n",
              "146 서울     관악구   Gwanak       2020-12-01 41420 \n",
              "147 서울     서초구   Seocho       2020-12-01 43259 \n",
              "148 서울     강남구   Gangnam      2020-12-01 38004 \n",
              "149 서울     송파구   Songpa       2020-12-01 85064 \n",
              "150 서울     강동구   Gangdong     2020-12-01 42373 \n",
              "151 서울     종로구   Jongno       2021-01-01 35643 \n",
              "152 서울     중구     Jung         2021-01-01 20396 \n",
              "153 서울     용산구   Yongsan      2021-01-01 18203 \n",
              "154 서울     성동구   Seongdong    2021-01-01 35822 \n",
              "155 서울     광진구   Kwangjin     2021-01-01 38357 \n",
              "156 서울     동대문구 Dongdaemun   2021-01-01 33426 \n",
              "157 서울     중랑구   Jungnang     2021-01-01 22773 \n",
              "158 서울     성북구   Seongbuk     2021-01-01 26138 \n",
              "159 서울     강북구   Gangbuk      2021-01-01 16101 \n",
              "160 서울     도봉구   Dobong       2021-01-01 16620 \n",
              "161 서울     노원구   Nowon        2021-01-01 41994 \n",
              "162 서울     은평구   Eunpyeong    2021-01-01 25442 \n",
              "163 서울     서대문구 Seodaemun    2021-01-01 23065 \n",
              "164 서울     마포구   Mapo         2021-01-01 48660 \n",
              "165 서울     양천구   Yangcheon    2021-01-01 43330 \n",
              "166 서울     강서구   Gangseo      2021-01-01 75019 \n",
              "167 서울     구로구   Guro         2021-01-01 31633 \n",
              "168 서울     금천구   Geumcheon    2021-01-01 13494 \n",
              "169 서울     영등포구 Yeongdeungpo 2021-01-01 64359 \n",
              "170 서울     동작구   Dongjak      2021-01-01 18950 \n",
              "171 서울     관악구   Gwanak       2021-01-01 27457 \n",
              "172 서울     서초구   Seocho       2021-01-01 29483 \n",
              "173 서울     강남구   Gangnam      2021-01-01 24706 \n",
              "174 서울     송파구   Songpa       2021-01-01 54819 \n",
              "175 서울     강동구   Gangdong     2021-01-01 26158 "
            ],
            "text/latex": "A tibble: 175 × 5\n\\begin{tabular}{lllll}\n province & gu & gu\\_eng & date & count\\\\\n <chr> & <chr> & <chr> & <dttm> & <dbl>\\\\\n\\hline\n\t 서울 & 종로구   & Jongno       & 2020-07-01 &  85935\\\\\n\t 서울 & 중구     & Jung         & 2020-07-01 &  52417\\\\\n\t 서울 & 용산구   & Yongsan      & 2020-07-01 &  58354\\\\\n\t 서울 & 성동구   & Seongdong    & 2020-07-01 & 106216\\\\\n\t 서울 & 광진구   & Kwangjin     & 2020-07-01 & 125735\\\\\n\t 서울 & 동대문구 & Dongdaemun   & 2020-07-01 &  93487\\\\\n\t 서울 & 중랑구   & Jungnang     & 2020-07-01 &  76841\\\\\n\t 서울 & 성북구   & Seongbuk     & 2020-07-01 &  81364\\\\\n\t 서울 & 강북구   & Gangbuk      & 2020-07-01 &  54503\\\\\n\t 서울 & 도봉구   & Dobong       & 2020-07-01 &  58420\\\\\n\t 서울 & 노원구   & Nowon        & 2020-07-01 & 157281\\\\\n\t 서울 & 은평구   & Eunpyeong    & 2020-07-01 &  81923\\\\\n\t 서울 & 서대문구 & Seodaemun    & 2020-07-01 &  65144\\\\\n\t 서울 & 마포구   & Mapo         & 2020-07-01 & 155009\\\\\n\t 서울 & 양천구   & Yangcheon    & 2020-07-01 & 119956\\\\\n\t 서울 & 강서구   & Gangseo      & 2020-07-01 & 224984\\\\\n\t 서울 & 구로구   & Guro         & 2020-07-01 & 106619\\\\\n\t 서울 & 금천구   & Geumcheon    & 2020-07-01 &  43940\\\\\n\t 서울 & 영등포구 & Yeongdeungpo & 2020-07-01 & 209515\\\\\n\t 서울 & 동작구   & Dongjak      & 2020-07-01 &  67929\\\\\n\t 서울 & 관악구   & Gwanak       & 2020-07-01 &  92451\\\\\n\t 서울 & 서초구   & Seocho       & 2020-07-01 & 101631\\\\\n\t 서울 & 강남구   & Gangnam      & 2020-07-01 &  79194\\\\\n\t 서울 & 송파구   & Songpa       & 2020-07-01 & 185529\\\\\n\t 서울 & 강동구   & Gangdong     & 2020-07-01 &  97719\\\\\n\t 서울 & 종로구   & Jongno       & 2020-08-01 &  65729\\\\\n\t 서울 & 중구     & Jung         & 2020-08-01 &  40401\\\\\n\t 서울 & 용산구   & Yongsan      & 2020-08-01 &  36762\\\\\n\t 서울 & 성동구   & Seongdong    & 2020-08-01 &  65323\\\\\n\t 서울 & 광진구   & Kwangjin     & 2020-08-01 &  75051\\\\\n\t ⋮ & ⋮ & ⋮ & ⋮ & ⋮\\\\\n\t 서울 & 관악구   & Gwanak       & 2020-12-01 & 41420\\\\\n\t 서울 & 서초구   & Seocho       & 2020-12-01 & 43259\\\\\n\t 서울 & 강남구   & Gangnam      & 2020-12-01 & 38004\\\\\n\t 서울 & 송파구   & Songpa       & 2020-12-01 & 85064\\\\\n\t 서울 & 강동구   & Gangdong     & 2020-12-01 & 42373\\\\\n\t 서울 & 종로구   & Jongno       & 2021-01-01 & 35643\\\\\n\t 서울 & 중구     & Jung         & 2021-01-01 & 20396\\\\\n\t 서울 & 용산구   & Yongsan      & 2021-01-01 & 18203\\\\\n\t 서울 & 성동구   & Seongdong    & 2021-01-01 & 35822\\\\\n\t 서울 & 광진구   & Kwangjin     & 2021-01-01 & 38357\\\\\n\t 서울 & 동대문구 & Dongdaemun   & 2021-01-01 & 33426\\\\\n\t 서울 & 중랑구   & Jungnang     & 2021-01-01 & 22773\\\\\n\t 서울 & 성북구   & Seongbuk     & 2021-01-01 & 26138\\\\\n\t 서울 & 강북구   & Gangbuk      & 2021-01-01 & 16101\\\\\n\t 서울 & 도봉구   & Dobong       & 2021-01-01 & 16620\\\\\n\t 서울 & 노원구   & Nowon        & 2021-01-01 & 41994\\\\\n\t 서울 & 은평구   & Eunpyeong    & 2021-01-01 & 25442\\\\\n\t 서울 & 서대문구 & Seodaemun    & 2021-01-01 & 23065\\\\\n\t 서울 & 마포구   & Mapo         & 2021-01-01 & 48660\\\\\n\t 서울 & 양천구   & Yangcheon    & 2021-01-01 & 43330\\\\\n\t 서울 & 강서구   & Gangseo      & 2021-01-01 & 75019\\\\\n\t 서울 & 구로구   & Guro         & 2021-01-01 & 31633\\\\\n\t 서울 & 금천구   & Geumcheon    & 2021-01-01 & 13494\\\\\n\t 서울 & 영등포구 & Yeongdeungpo & 2021-01-01 & 64359\\\\\n\t 서울 & 동작구   & Dongjak      & 2021-01-01 & 18950\\\\\n\t 서울 & 관악구   & Gwanak       & 2021-01-01 & 27457\\\\\n\t 서울 & 서초구   & Seocho       & 2021-01-01 & 29483\\\\\n\t 서울 & 강남구   & Gangnam      & 2021-01-01 & 24706\\\\\n\t 서울 & 송파구   & Songpa       & 2021-01-01 & 54819\\\\\n\t 서울 & 강동구   & Gangdong     & 2021-01-01 & 26158\\\\\n\\end{tabular}\n",
            "text/markdown": "\nA tibble: 175 × 5\n\n| province &lt;chr&gt; | gu &lt;chr&gt; | gu_eng &lt;chr&gt; | date &lt;dttm&gt; | count &lt;dbl&gt; |\n|---|---|---|---|---|\n| 서울 | 종로구   | Jongno       | 2020-07-01 |  85935 |\n| 서울 | 중구     | Jung         | 2020-07-01 |  52417 |\n| 서울 | 용산구   | Yongsan      | 2020-07-01 |  58354 |\n| 서울 | 성동구   | Seongdong    | 2020-07-01 | 106216 |\n| 서울 | 광진구   | Kwangjin     | 2020-07-01 | 125735 |\n| 서울 | 동대문구 | Dongdaemun   | 2020-07-01 |  93487 |\n| 서울 | 중랑구   | Jungnang     | 2020-07-01 |  76841 |\n| 서울 | 성북구   | Seongbuk     | 2020-07-01 |  81364 |\n| 서울 | 강북구   | Gangbuk      | 2020-07-01 |  54503 |\n| 서울 | 도봉구   | Dobong       | 2020-07-01 |  58420 |\n| 서울 | 노원구   | Nowon        | 2020-07-01 | 157281 |\n| 서울 | 은평구   | Eunpyeong    | 2020-07-01 |  81923 |\n| 서울 | 서대문구 | Seodaemun    | 2020-07-01 |  65144 |\n| 서울 | 마포구   | Mapo         | 2020-07-01 | 155009 |\n| 서울 | 양천구   | Yangcheon    | 2020-07-01 | 119956 |\n| 서울 | 강서구   | Gangseo      | 2020-07-01 | 224984 |\n| 서울 | 구로구   | Guro         | 2020-07-01 | 106619 |\n| 서울 | 금천구   | Geumcheon    | 2020-07-01 |  43940 |\n| 서울 | 영등포구 | Yeongdeungpo | 2020-07-01 | 209515 |\n| 서울 | 동작구   | Dongjak      | 2020-07-01 |  67929 |\n| 서울 | 관악구   | Gwanak       | 2020-07-01 |  92451 |\n| 서울 | 서초구   | Seocho       | 2020-07-01 | 101631 |\n| 서울 | 강남구   | Gangnam      | 2020-07-01 |  79194 |\n| 서울 | 송파구   | Songpa       | 2020-07-01 | 185529 |\n| 서울 | 강동구   | Gangdong     | 2020-07-01 |  97719 |\n| 서울 | 종로구   | Jongno       | 2020-08-01 |  65729 |\n| 서울 | 중구     | Jung         | 2020-08-01 |  40401 |\n| 서울 | 용산구   | Yongsan      | 2020-08-01 |  36762 |\n| 서울 | 성동구   | Seongdong    | 2020-08-01 |  65323 |\n| 서울 | 광진구   | Kwangjin     | 2020-08-01 |  75051 |\n| ⋮ | ⋮ | ⋮ | ⋮ | ⋮ |\n| 서울 | 관악구   | Gwanak       | 2020-12-01 | 41420 |\n| 서울 | 서초구   | Seocho       | 2020-12-01 | 43259 |\n| 서울 | 강남구   | Gangnam      | 2020-12-01 | 38004 |\n| 서울 | 송파구   | Songpa       | 2020-12-01 | 85064 |\n| 서울 | 강동구   | Gangdong     | 2020-12-01 | 42373 |\n| 서울 | 종로구   | Jongno       | 2021-01-01 | 35643 |\n| 서울 | 중구     | Jung         | 2021-01-01 | 20396 |\n| 서울 | 용산구   | Yongsan      | 2021-01-01 | 18203 |\n| 서울 | 성동구   | Seongdong    | 2021-01-01 | 35822 |\n| 서울 | 광진구   | Kwangjin     | 2021-01-01 | 38357 |\n| 서울 | 동대문구 | Dongdaemun   | 2021-01-01 | 33426 |\n| 서울 | 중랑구   | Jungnang     | 2021-01-01 | 22773 |\n| 서울 | 성북구   | Seongbuk     | 2021-01-01 | 26138 |\n| 서울 | 강북구   | Gangbuk      | 2021-01-01 | 16101 |\n| 서울 | 도봉구   | Dobong       | 2021-01-01 | 16620 |\n| 서울 | 노원구   | Nowon        | 2021-01-01 | 41994 |\n| 서울 | 은평구   | Eunpyeong    | 2021-01-01 | 25442 |\n| 서울 | 서대문구 | Seodaemun    | 2021-01-01 | 23065 |\n| 서울 | 마포구   | Mapo         | 2021-01-01 | 48660 |\n| 서울 | 양천구   | Yangcheon    | 2021-01-01 | 43330 |\n| 서울 | 강서구   | Gangseo      | 2021-01-01 | 75019 |\n| 서울 | 구로구   | Guro         | 2021-01-01 | 31633 |\n| 서울 | 금천구   | Geumcheon    | 2021-01-01 | 13494 |\n| 서울 | 영등포구 | Yeongdeungpo | 2021-01-01 | 64359 |\n| 서울 | 동작구   | Dongjak      | 2021-01-01 | 18950 |\n| 서울 | 관악구   | Gwanak       | 2021-01-01 | 27457 |\n| 서울 | 서초구   | Seocho       | 2021-01-01 | 29483 |\n| 서울 | 강남구   | Gangnam      | 2021-01-01 | 24706 |\n| 서울 | 송파구   | Songpa       | 2021-01-01 | 54819 |\n| 서울 | 강동구   | Gangdong     | 2021-01-01 | 26158 |\n\n",
            "text/html": [
              "<table class=\"dataframe\">\n",
              "<caption>A tibble: 175 × 5</caption>\n",
              "<thead>\n",
              "\t<tr><th scope=col>province</th><th scope=col>gu</th><th scope=col>gu_eng</th><th scope=col>date</th><th scope=col>count</th></tr>\n",
              "\t<tr><th scope=col>&lt;chr&gt;</th><th scope=col>&lt;chr&gt;</th><th scope=col>&lt;chr&gt;</th><th scope=col>&lt;dttm&gt;</th><th scope=col>&lt;dbl&gt;</th></tr>\n",
              "</thead>\n",
              "<tbody>\n",
              "\t<tr><td>서울</td><td>종로구  </td><td>Jongno      </td><td>2020-07-01</td><td> 85935</td></tr>\n",
              "\t<tr><td>서울</td><td>중구    </td><td>Jung        </td><td>2020-07-01</td><td> 52417</td></tr>\n",
              "\t<tr><td>서울</td><td>용산구  </td><td>Yongsan     </td><td>2020-07-01</td><td> 58354</td></tr>\n",
              "\t<tr><td>서울</td><td>성동구  </td><td>Seongdong   </td><td>2020-07-01</td><td>106216</td></tr>\n",
              "\t<tr><td>서울</td><td>광진구  </td><td>Kwangjin    </td><td>2020-07-01</td><td>125735</td></tr>\n",
              "\t<tr><td>서울</td><td>동대문구</td><td>Dongdaemun  </td><td>2020-07-01</td><td> 93487</td></tr>\n",
              "\t<tr><td>서울</td><td>중랑구  </td><td>Jungnang    </td><td>2020-07-01</td><td> 76841</td></tr>\n",
              "\t<tr><td>서울</td><td>성북구  </td><td>Seongbuk    </td><td>2020-07-01</td><td> 81364</td></tr>\n",
              "\t<tr><td>서울</td><td>강북구  </td><td>Gangbuk     </td><td>2020-07-01</td><td> 54503</td></tr>\n",
              "\t<tr><td>서울</td><td>도봉구  </td><td>Dobong      </td><td>2020-07-01</td><td> 58420</td></tr>\n",
              "\t<tr><td>서울</td><td>노원구  </td><td>Nowon       </td><td>2020-07-01</td><td>157281</td></tr>\n",
              "\t<tr><td>서울</td><td>은평구  </td><td>Eunpyeong   </td><td>2020-07-01</td><td> 81923</td></tr>\n",
              "\t<tr><td>서울</td><td>서대문구</td><td>Seodaemun   </td><td>2020-07-01</td><td> 65144</td></tr>\n",
              "\t<tr><td>서울</td><td>마포구  </td><td>Mapo        </td><td>2020-07-01</td><td>155009</td></tr>\n",
              "\t<tr><td>서울</td><td>양천구  </td><td>Yangcheon   </td><td>2020-07-01</td><td>119956</td></tr>\n",
              "\t<tr><td>서울</td><td>강서구  </td><td>Gangseo     </td><td>2020-07-01</td><td>224984</td></tr>\n",
              "\t<tr><td>서울</td><td>구로구  </td><td>Guro        </td><td>2020-07-01</td><td>106619</td></tr>\n",
              "\t<tr><td>서울</td><td>금천구  </td><td>Geumcheon   </td><td>2020-07-01</td><td> 43940</td></tr>\n",
              "\t<tr><td>서울</td><td>영등포구</td><td>Yeongdeungpo</td><td>2020-07-01</td><td>209515</td></tr>\n",
              "\t<tr><td>서울</td><td>동작구  </td><td>Dongjak     </td><td>2020-07-01</td><td> 67929</td></tr>\n",
              "\t<tr><td>서울</td><td>관악구  </td><td>Gwanak      </td><td>2020-07-01</td><td> 92451</td></tr>\n",
              "\t<tr><td>서울</td><td>서초구  </td><td>Seocho      </td><td>2020-07-01</td><td>101631</td></tr>\n",
              "\t<tr><td>서울</td><td>강남구  </td><td>Gangnam     </td><td>2020-07-01</td><td> 79194</td></tr>\n",
              "\t<tr><td>서울</td><td>송파구  </td><td>Songpa      </td><td>2020-07-01</td><td>185529</td></tr>\n",
              "\t<tr><td>서울</td><td>강동구  </td><td>Gangdong    </td><td>2020-07-01</td><td> 97719</td></tr>\n",
              "\t<tr><td>서울</td><td>종로구  </td><td>Jongno      </td><td>2020-08-01</td><td> 65729</td></tr>\n",
              "\t<tr><td>서울</td><td>중구    </td><td>Jung        </td><td>2020-08-01</td><td> 40401</td></tr>\n",
              "\t<tr><td>서울</td><td>용산구  </td><td>Yongsan     </td><td>2020-08-01</td><td> 36762</td></tr>\n",
              "\t<tr><td>서울</td><td>성동구  </td><td>Seongdong   </td><td>2020-08-01</td><td> 65323</td></tr>\n",
              "\t<tr><td>서울</td><td>광진구  </td><td>Kwangjin    </td><td>2020-08-01</td><td> 75051</td></tr>\n",
              "\t<tr><td>⋮</td><td>⋮</td><td>⋮</td><td>⋮</td><td>⋮</td></tr>\n",
              "\t<tr><td>서울</td><td>관악구  </td><td>Gwanak      </td><td>2020-12-01</td><td>41420</td></tr>\n",
              "\t<tr><td>서울</td><td>서초구  </td><td>Seocho      </td><td>2020-12-01</td><td>43259</td></tr>\n",
              "\t<tr><td>서울</td><td>강남구  </td><td>Gangnam     </td><td>2020-12-01</td><td>38004</td></tr>\n",
              "\t<tr><td>서울</td><td>송파구  </td><td>Songpa      </td><td>2020-12-01</td><td>85064</td></tr>\n",
              "\t<tr><td>서울</td><td>강동구  </td><td>Gangdong    </td><td>2020-12-01</td><td>42373</td></tr>\n",
              "\t<tr><td>서울</td><td>종로구  </td><td>Jongno      </td><td>2021-01-01</td><td>35643</td></tr>\n",
              "\t<tr><td>서울</td><td>중구    </td><td>Jung        </td><td>2021-01-01</td><td>20396</td></tr>\n",
              "\t<tr><td>서울</td><td>용산구  </td><td>Yongsan     </td><td>2021-01-01</td><td>18203</td></tr>\n",
              "\t<tr><td>서울</td><td>성동구  </td><td>Seongdong   </td><td>2021-01-01</td><td>35822</td></tr>\n",
              "\t<tr><td>서울</td><td>광진구  </td><td>Kwangjin    </td><td>2021-01-01</td><td>38357</td></tr>\n",
              "\t<tr><td>서울</td><td>동대문구</td><td>Dongdaemun  </td><td>2021-01-01</td><td>33426</td></tr>\n",
              "\t<tr><td>서울</td><td>중랑구  </td><td>Jungnang    </td><td>2021-01-01</td><td>22773</td></tr>\n",
              "\t<tr><td>서울</td><td>성북구  </td><td>Seongbuk    </td><td>2021-01-01</td><td>26138</td></tr>\n",
              "\t<tr><td>서울</td><td>강북구  </td><td>Gangbuk     </td><td>2021-01-01</td><td>16101</td></tr>\n",
              "\t<tr><td>서울</td><td>도봉구  </td><td>Dobong      </td><td>2021-01-01</td><td>16620</td></tr>\n",
              "\t<tr><td>서울</td><td>노원구  </td><td>Nowon       </td><td>2021-01-01</td><td>41994</td></tr>\n",
              "\t<tr><td>서울</td><td>은평구  </td><td>Eunpyeong   </td><td>2021-01-01</td><td>25442</td></tr>\n",
              "\t<tr><td>서울</td><td>서대문구</td><td>Seodaemun   </td><td>2021-01-01</td><td>23065</td></tr>\n",
              "\t<tr><td>서울</td><td>마포구  </td><td>Mapo        </td><td>2021-01-01</td><td>48660</td></tr>\n",
              "\t<tr><td>서울</td><td>양천구  </td><td>Yangcheon   </td><td>2021-01-01</td><td>43330</td></tr>\n",
              "\t<tr><td>서울</td><td>강서구  </td><td>Gangseo     </td><td>2021-01-01</td><td>75019</td></tr>\n",
              "\t<tr><td>서울</td><td>구로구  </td><td>Guro        </td><td>2021-01-01</td><td>31633</td></tr>\n",
              "\t<tr><td>서울</td><td>금천구  </td><td>Geumcheon   </td><td>2021-01-01</td><td>13494</td></tr>\n",
              "\t<tr><td>서울</td><td>영등포구</td><td>Yeongdeungpo</td><td>2021-01-01</td><td>64359</td></tr>\n",
              "\t<tr><td>서울</td><td>동작구  </td><td>Dongjak     </td><td>2021-01-01</td><td>18950</td></tr>\n",
              "\t<tr><td>서울</td><td>관악구  </td><td>Gwanak      </td><td>2021-01-01</td><td>27457</td></tr>\n",
              "\t<tr><td>서울</td><td>서초구  </td><td>Seocho      </td><td>2021-01-01</td><td>29483</td></tr>\n",
              "\t<tr><td>서울</td><td>강남구  </td><td>Gangnam     </td><td>2021-01-01</td><td>24706</td></tr>\n",
              "\t<tr><td>서울</td><td>송파구  </td><td>Songpa      </td><td>2021-01-01</td><td>54819</td></tr>\n",
              "\t<tr><td>서울</td><td>강동구  </td><td>Gangdong    </td><td>2021-01-01</td><td>26158</td></tr>\n",
              "</tbody>\n",
              "</table>\n"
            ]
          },
          "metadata": {
            "tags": []
          }
        }
      ]
    },
    {
      "cell_type": "markdown",
      "metadata": {
        "id": "0aNUPF33bKpu"
      },
      "source": [
        "# **데이터 정리** "
      ]
    },
    {
      "cell_type": "markdown",
      "metadata": {
        "id": "z51PzBI0jDPJ"
      },
      "source": [
        "## R 코드"
      ]
    },
    {
      "cell_type": "markdown",
      "metadata": {
        "id": "FMh67bYbG76n"
      },
      "source": [
        "![image.png](data:image/png;base64,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)"
      ]
    },
    {
      "cell_type": "code",
      "metadata": {
        "id": "_Z3m2Nq1OsB9"
      },
      "source": [
        "\n",
        "\n",
        "#################################################################################\n",
        "#################################################################################\n",
        "R 코드 ##########################################################################\n",
        "#################################################################################\n",
        "#################################################################################\n",
        "\n",
        "\n",
        "\n",
        "pop <- read.csv(\"C:/Users/WIN10/성민지/데이터_5차/(중복)2019_전주시 동별 인구.csv\")\n",
        "rest <- read.csv(\"C:/Users/WIN10/성민지/데이터_5차/(중복)동별 음식점 및 주점업 사업체수(2018).csv\")\n",
        "bicycle <- read.csv(\"C:/Users/WIN10/성민지/데이터_5차/(행정동)12_04_03_E_자전거보관소정보.csv\")\n",
        "bigstore <- read.csv(\"C:/Users/WIN10/성민지/데이터_5차/(행정동)대규모점포현황_2020.csv\")\n",
        "cvstore <- read.csv(\"C:/Users/WIN10/성민지/데이터_5차/(행정동)동별 체인화 편의점 + 사업체수 (2018년).csv\")\n",
        "univ <- read.csv(\"C:/Users/WIN10/성민지/데이터_5차/(행정동)전주시 대학교.csv\")\n",
        "region <- read.csv(\"C:/Users/WIN10/성민지/데이터_5차/(행정동)전주시 행정동 면적.csv\")\n",
        "x <- read.csv(\"C:/Users/WIN10/성민지/데이터_5차/전북 상권정보.csv\")\n",
        "bus <- read.csv(\"C:/Users/WIN10/성민지/데이터_5차/전라북도 전주시_버스 정류장 현황_20210426.csv\")\n",
        "park <- read.csv(\"C:/Users/WIN10/성민지/데이터_5차/park.csv\")\n",
        "scooter <- read.csv(\"C:/Users/WIN10/성민지/데이터_5차/(행정동)PM_210509_0시.csv\")\n",
        "\n",
        "\n",
        "jjdong <- read.csv(\"C:/Users/WIN10/성민지/데이터_5차/전주 행정동_가나다순.csv\")\n",
        "jjdong <- jjdong$행정동\n",
        "str(jjdong)\n",
        "head(jjdong)\n",
        "\n",
        "library(dplyr)\n",
        "library(stringr)\n",
        "\n",
        "\n",
        "###############################################\n",
        "# 인구수 ######################################\n",
        "###############################################\n",
        "\n",
        "str(pop)\n",
        "head(pop)\n",
        "pop <- pop[,c(2,3)]\n",
        "names(pop) <- c(\"행정동\", \"인구수\")\n",
        "\n",
        "table(pop$행정동 %in% jjdong)\n",
        "table(jjdong %in% pop$행정동)\n",
        "\n",
        "pop$행정동[pop$행정동 %in% jjdong == FALSE] #jjdong에는 없는 pop의 행정동\n",
        "jjdong[jjdong %in% pop$행정동 == FALSE] #pop에는 없는 jjdong의 행정동\n",
        "\n",
        "pop$행정동[which(pop$행정동 == \"동산동\")] <- \"여의동\" ## 19년 8월에 동산동을 여의동으로 변경, https://www.hani.co.kr/arti/area/honam/905848.html?_fr=mt2\n",
        "pop <- arrange(pop, pop$행정동)\n",
        "pop\n",
        "\n",
        "\n",
        "\n",
        "###############################################\n",
        "# 음식점수 ####################################\n",
        "###############################################\n",
        "\n",
        "str(rest)\n",
        "head(rest)\n",
        "\n",
        "rest <- rest[,c(2,4)]\n",
        "names(rest) <- c(\"행정동\", \"음식점수\")\n",
        "\n",
        "table(rest$행정동 %in% jjdong)\n",
        "table(jjdong %in% rest$행정동)\n",
        "jjdong[jjdong %in% rest$행정동 == FALSE]\n",
        "\n",
        "rest <- arrange(rest, rest$행정동)\n",
        "rest\n",
        "\n",
        "\n",
        "\n",
        "###############################################\n",
        "# 자전거 보관대 수 ############################\n",
        "###############################################\n",
        "\n",
        "str(bicycle)\n",
        "head(bicycle)\n",
        "\n",
        "bicycle <- bicycle[, 1:8]\n",
        "bicycle1 <- bicycle %>% group_by(행정동) %>% summarise(자전거보관대수 = sum(보관대수))\n",
        "bicycle1 <- as.data.frame(bicycle1)\n",
        "\n",
        "table(bicycle1$행정동 %in% jjdong)\n",
        "table(jjdong %in% bicycle1$행정동)\n",
        "jjdong[jjdong %in% bicycle1$행정동 == FALSE]\n",
        "\n",
        "add <- data.frame(행정동 = jjdong[jjdong %in% bicycle1$행정동 == FALSE], \n",
        "                     자전거보관대수 = rep(median(bicycle1$자전거보관대수), times = length(jjdong[jjdong %in% bicycle1$행정동 == FALSE])))\n",
        "bicycle1 <- rbind(bicycle1, add)\n",
        "bicycle1 <- arrange(bicycle1, bicycle1$행정동)\n",
        "bicycle1\n",
        "\n",
        "\n",
        "\n",
        "\n",
        "###############################################\n",
        "# 대규모점포 수 ###############################\n",
        "###############################################\n",
        "\n",
        "str(bigstore)\n",
        "head(bigstore)\n",
        "\n",
        "bigstore <- bigstore[,2:4]\n",
        "bigstore1 <- bigstore\n",
        "bigstore1$count <- rep(1,nrow(bigstore1))\n",
        "\n",
        "bigstore1 <- bigstore1 %>% group_by(행정동) %>% summarise(대규모점포수 = sum(count))\n",
        "bigstore1 <- as.data.frame(bigstore1)\n",
        "\n",
        "table(bigstore1$행정동 %in% jjdong)\n",
        "table(jjdong %in% bigstore1$행정동)\n",
        "jjdong[jjdong %in% bigstore1$행정동 == FALSE]\n",
        "\n",
        "add <- data.frame(행정동 = jjdong[jjdong %in% bigstore1$행정동 == FALSE], \n",
        "                     대규모점포수 = rep(0, length(jjdong[jjdong %in% bigstore1$행정동 == FALSE])))\n",
        "bigstore1 <- rbind(bigstore1, add)\n",
        "bigstore1 <- arrange(bigstore1, bigstore1$행정동)\n",
        "bigstore1\n",
        "\n",
        "\n",
        "\n",
        "###############################################\n",
        "# 편의점 수 ###################################\n",
        "###############################################\n",
        "\n",
        "#str(cvstore)\n",
        "#head(cvstore)\n",
        "#cvstore <- cvstore[,c(2,4)]\n",
        "#names(cvstore)[1] <- \"행정동\"\n",
        "#cvstore <- arrange(cvstore, cvstore$행정동)\n",
        "#table(cvstore$행정동 %in% jjdong)\n",
        "#table(jjdong %in% cvstore$행정동)\n",
        "#jjdong[jjdong %in% cvstore$행정동 == FALSE] #cvstore에는 없는 jjdong의 행정동\n",
        "#add <- data.frame(행정동 = jjdong[jjdong %in% cvstore$행정동 == FALSE], \n",
        "#                     편의점수 = rep(median(cvstore$편의점수), length(jjdong[jjdong %in% cvstore$행정동 == FALSE])))\n",
        "#cvstore<- rbind(cvstore, add)\n",
        "#cvstore <- arrange(cvstore, cvstore$행정동)\n",
        "#cvstore\n",
        "\n",
        "str(x)\n",
        "head(x)\n",
        "\n",
        "cvstore <- x[x$표준산업분류명 == \"체인화 편의점\", ]\n",
        "cvstore <- cvstore[grep(\"전주\", cvstore$시군구명), ]\n",
        "names(cvstore)\n",
        "cvstore <- cvstore[ , c(2, 3, 11, 17, 25, 32, 38, 39)]\n",
        "\n",
        "\n",
        "cvstore$행정동명[cvstore$행정동명 == \"동산동\"] <- \"여의동\"\n",
        "\n",
        "cvstore1 <- cvstore %>% group_by(행정동명) %>% summarise(편의점수 = length(상호명))\n",
        "cvstore1 <- cvstore1[-1,]\n",
        "cvstore1 <- as.data.frame(cvstore1)\n",
        "names(cvstore1)[1] <- \"행정동\"\n",
        "cvstore1\n",
        "\n",
        "\n",
        "\n",
        "\n",
        "###############################################\n",
        "# 대학교 수 ###################################\n",
        "###############################################\n",
        "\n",
        "\n",
        "str(univ)\n",
        "head(univ)\n",
        "univ1 <- univ\n",
        "univ1$count <- rep(1,nrow(univ1))\n",
        "univ1 <- univ1 %>% group_by(행정동) %>% summarise(대학교수 = sum(count))\n",
        "univ1 <- as.data.frame(univ1)\n",
        "\n",
        "table(univ1$행정동 %in% jjdong)\n",
        "table(jjdong %in% univ1$행정동)\n",
        "jjdong[jjdong %in% univ1$행정동 == FALSE] #univ에는 없는 jjdong의 행정동\n",
        "add <- data.frame(행정동 = jjdong[jjdong %in% univ1$행정동 == FALSE], \n",
        "                     대학교수 = rep(0, length(jjdong[jjdong %in% univ1$행정동 == FALSE])))\n",
        "univ1 <- rbind(univ1, add)\n",
        "univ1 <- arrange(univ1, univ1$행정동)\n",
        "univ1\n",
        "\n",
        "\n",
        "\n",
        "\n",
        "\n",
        "###############################################\n",
        "# 면적 ########################################\n",
        "###############################################\n",
        "\n",
        "str(region)\n",
        "head(region)\n",
        "region <- region[,c(2,3)]\n",
        "names(region) <- c(\"행정동\", \"면적.km\")\n",
        "region <- arrange(region, region$행정동)\n",
        "table(region$행정동 %in% jjdong)\n",
        "table(jjdong %in% region$행정동)\n",
        "region$행정동[region$행정동 %in% jjdong == FALSE] #jjdong에는 없는 region의 행정동 #이름 오류 있는 듯 (송청1동, 품남동)\n",
        "jjdong[jjdong %in% region$행정동 == FALSE] #region에는 없는 jjdong의 행정동\n",
        "region\n",
        "\n",
        "\n",
        "\n",
        "\n",
        "###############################################\n",
        "# 상점 수 #####################################\n",
        "###############################################\n",
        "\n",
        "str(x)\n",
        "head(x)\n",
        "\n",
        "store <- x[grep(\"전주\", x$시군구명), ]\n",
        "store <- store[ , c(2, 3, 5, 7, 11, 17, 25, 32, 38, 39)]\n",
        "\n",
        "store1 <- store %>% group_by(행정동명) %>% summarise(count = length(상호명))\n",
        "store1 <- as.data.frame(store1)\n",
        "store1 <- arrange(store1, store1$행정동명)\n",
        "names(store1) <- c(\"행정동\", \"상점개수\")\n",
        "\n",
        "table(jjdong %in% store1$행정동)\n",
        "table(store1$행정동 %in% jjdong)\n",
        "\n",
        "jjdong[jjdong %in% store1$행정동 == FALSE] #store에는 없는 jjdong의 행정동\n",
        "store1$행정동[store1$행정동 %in% jjdong == FALSE] #jjdong에는 없는 store의 행정동\n",
        "\n",
        "which(store1$행정동 %in% jjdong == FALSE)\n",
        "store1[which(store1$행정동 %in% jjdong == FALSE), ]\n",
        "\n",
        "store1$행정동[which(store1$행정동 == \"동산동\")] <- \"여의동\"\n",
        "store1 <- store1 %>% group_by(행정동) %>% summarise(상점개수 = sum(상점개수))\n",
        "store1 <- as.data.frame(store1)\n",
        "store1 <- arrange(store1, store1$행정동)\n",
        "store1 <- store1[-1,]\n",
        "store1\n",
        "\n",
        "\n",
        "\n",
        "\n",
        "\n",
        "###############################################\n",
        "# 상권지수 ####################################\n",
        "###############################################\n",
        "\n",
        "\n",
        "options(digits = 4)\n",
        "store.rate <- store1$상점개수 / region$면적.km\n",
        "store.rate <- data.frame(행정동 = jjdong, 상권지수 = store.rate)\n",
        "store.rate\n",
        "\n",
        "\n",
        "\n",
        "###############################################\n",
        "# 상점 수 (음식점 제외) #######################\n",
        "###############################################\n",
        "\n",
        "str(x)\n",
        "head(x)\n",
        "str(store)\n",
        "head(store)\n",
        "\n",
        "store2 <- store[store$상권업종대분류명 != \"음식\", ]\n",
        "store2 <- store2 %>% group_by(행정동명) %>% summarise(count = length(상호명))\n",
        "store2 <- as.data.frame(store2)\n",
        "names(store2) <- c(\"행정동\", \"상점개수ㅍ\")\n",
        "\n",
        "table(jjdong %in% store2$행정동)\n",
        "table(store2$행정동 %in% jjdong)\n",
        "\n",
        "jjdong[jjdong %in% store2$행정동 == FALSE] #store2에는 없는 jjdong의 행정동\n",
        "store2$행정동[store2$행정동 %in% jjdong == FALSE] #jjdong에는 없는 store2의 행정동\n",
        "\n",
        "which(store2$행정동 %in% jjdong == FALSE)\n",
        "store2[which(store2$행정동 %in% jjdong == FALSE), ]\n",
        "\n",
        "store2$행정동[which(store2$행정동 == \"동산동\")] <- \"여의동\"\n",
        "store2 <- store2[-1,]\n",
        "store2 <- store2 %>% group_by(행정동) %>% summarise(상점개수.음식점제외 = sum(상점개수ㅍ))\n",
        "store2 <- as.data.frame(store2)\n",
        "store2 <- arrange(store2, store2$행정동)\n",
        "\n",
        "store2\n",
        "\n",
        "\n",
        "\n",
        "\n",
        "\n",
        "\n",
        "###############################################\n",
        "# 카페 수 #####################################\n",
        "###############################################\n",
        "\n",
        "str(x)\n",
        "head(x)\n",
        "str(store)\n",
        "head(store)\n",
        "\n",
        "store3 <- store[store$상권업종중분류명 == \"커피점/카페\", ]\n",
        "store3 <- store3 %>% group_by(행정동명) %>% summarise(count = length(상호명))\n",
        "store3 <- as.data.frame(store3)\n",
        "names(store3) <- c(\"행정동\", \"카페개수ㅍ\")\n",
        "\n",
        "table(jjdong %in% store3$행정동)\n",
        "table(store3$행정동 %in% jjdong)\n",
        "\n",
        "jjdong[jjdong %in% store3$행정동 == FALSE] #store3에는 없는 jjdong의 행정동\n",
        "store3$행정동[store3$행정동 %in% jjdong == FALSE] #jjdong에는 없는 store3의 행정동\n",
        "\n",
        "which(store3$행정동 %in% jjdong == FALSE)\n",
        "store3[which(store3$행정동 %in% jjdong == FALSE), ]\n",
        "\n",
        "store3$행정동[which(store3$행정동 == \"동산동\")] <- \"여의동\"\n",
        "store3 <- store3[-1,]\n",
        "store3 <- store3 %>% group_by(행정동) %>% summarise(카페개수 = sum(카페개수ㅍ))\n",
        "store3 <- as.data.frame(store3)\n",
        "store3 <- arrange(store3, store3$행정동)\n",
        "\n",
        "store3\n",
        "\n",
        "\n",
        "\n",
        "\n",
        "\n",
        "\n",
        "\n",
        "###############################################\n",
        "# 패스트푸드점 수 #############################\n",
        "###############################################\n",
        "\n",
        "str(x)\n",
        "head(x)\n",
        "str(store)\n",
        "head(store)\n",
        "\n",
        "View(store4)\n",
        "\n",
        "store4 <- store[store$상권업종중분류명 == \"패스트푸드\", ]\n",
        "store4 <- store4 %>% group_by(행정동명) %>% summarise(count = length(상호명))\n",
        "store4 <- as.data.frame(store4)\n",
        "names(store4) <- c(\"행정동\", \"패스트푸드점수ㅍ\")\n",
        "\n",
        "table(jjdong %in% store4$행정동)\n",
        "table(store4$행정동 %in% jjdong)\n",
        "\n",
        "jjdong[jjdong %in% store4$행정동 == FALSE] #store4에는 없는 jjdong의 행정동\n",
        "store4$행정동[store4$행정동 %in% jjdong == FALSE] #jjdong에는 없는 store4의 행정동\n",
        "\n",
        "add <- data.frame(행정동 = jjdong[jjdong %in% store4$행정동 == FALSE], \n",
        "                     패스트푸드점수ㅍ = rep(0, length(jjdong[jjdong %in% store4$행정동 == FALSE])))\n",
        "store4 <- rbind(store4, add)\n",
        "store4 <- arrange(store4, store4$행정동)\n",
        "\n",
        "store4$행정동[which(store4$행정동 == \"동산동\")] <- \"여의동\"\n",
        "store4 <- store4[-1,]\n",
        "store4 <- store4 %>% group_by(행정동) %>% summarise(패스트푸드점개수 = sum(패스트푸드점수ㅍ))\n",
        "store4 <- as.data.frame(store4)\n",
        "store4 <- arrange(store4, store4$행정동)\n",
        "\n",
        "store4\n",
        "\n",
        "\n",
        "\n",
        "###############################################\n",
        "# PC방/오락/당구장/볼링장 수 ##################\n",
        "###############################################\n",
        "\n",
        "str(x)\n",
        "head(x)\n",
        "str(store)\n",
        "head(store)\n",
        "\n",
        "store5 <- store[store$상권업종중분류명 == \"PC/오락/당구/볼링등\", ]\n",
        "store5 <- store5 %>% group_by(행정동명) %>% summarise(count = length(상호명))\n",
        "store5 <- as.data.frame(store5)\n",
        "names(store5) <- c(\"행정동\", \"오락시설개수ㅍ\")\n",
        "\n",
        "table(jjdong %in% store5$행정동)\n",
        "table(store5$행정동 %in% jjdong)\n",
        "\n",
        "jjdong[jjdong %in% store5$행정동 == FALSE] #store5에는 없는 jjdong의 행정동\n",
        "store5$행정동[store5$행정동 %in% jjdong == FALSE] #jjdong에는 없는 store5의 행정동\n",
        "\n",
        "add <- data.frame(행정동 = jjdong[jjdong %in% store5$행정동 == FALSE], \n",
        "                     오락시설개수ㅍ = rep(0, length(jjdong[jjdong %in% store5$행정동 == FALSE])))\n",
        "store5 <- rbind(store5, add)\n",
        "store5 <- arrange(store5, store5$행정동)\n",
        "\n",
        "store5$행정동[which(store5$행정동 == \"동산동\")] <- \"여의동\"\n",
        "store5 <- store5 %>% group_by(행정동) %>% summarise(오락시설개수 = sum(오락시설개수ㅍ))\n",
        "store5 <- as.data.frame(store5)\n",
        "store5 <- arrange(store5, store5$행정동)\n",
        "\n",
        "store5\n",
        "\n",
        "\n",
        "\n",
        "\n",
        "\n",
        "###############################################\n",
        "# 도서관/독서실 수 ############################\n",
        "###############################################\n",
        "\n",
        "str(x)\n",
        "head(x)\n",
        "str(store)\n",
        "head(store)\n",
        "\n",
        "store6 <- store[store$상권업종중분류명 == \"도서관/독서실\", ]\n",
        "store6 <- store6 %>% group_by(행정동명) %>% summarise(count = length(상호명))\n",
        "store6 <- as.data.frame(store6)\n",
        "names(store6) <- c(\"행정동\", \"도서관.독서실개수ㅍ\")\n",
        "\n",
        "table(jjdong %in% store6$행정동)\n",
        "table(store6$행정동 %in% jjdong)\n",
        "\n",
        "jjdong[jjdong %in% store6$행정동 == FALSE] #store6에는 없는 jjdong의 행정동\n",
        "store6$행정동[store6$행정동 %in% jjdong == FALSE] #jjdong에는 없는 store6의 행정동\n",
        "\n",
        "add <- data.frame(행정동 = jjdong[jjdong %in% store6$행정동 == FALSE], \n",
        "                     도서관.독서실개수ㅍ = rep(0, length(jjdong[jjdong %in% store6$행정동 == FALSE])))\n",
        "store6 <- rbind(store6, add)\n",
        "store6 <- arrange(store6, store6$행정동)\n",
        "\n",
        "store6$행정동[which(store6$행정동 == \"동산동\")] <- \"여의동\"\n",
        "store6 <- store6 %>% group_by(행정동) %>% summarise(도서관.독서실개수 = sum(도서관.독서실개수ㅍ))\n",
        "store6 <- as.data.frame(store6)\n",
        "store6 <- arrange(store6, store6$행정동)\n",
        "\n",
        "store6\n",
        "\n",
        "\n",
        "\n",
        "\n",
        "\n",
        "###############################################\n",
        "# 실내운동시설 수 #############################\n",
        "###############################################\n",
        "\n",
        "str(x)\n",
        "head(x)\n",
        "str(store)\n",
        "head(store)\n",
        "\n",
        "View(store7)\n",
        "\n",
        "store7 <- store[store$상권업종중분류명 == \"실내운동시설\", ]\n",
        "store7 <- store7 %>% group_by(행정동명) %>% summarise(count = length(상호명))\n",
        "store7 <- as.data.frame(store7)\n",
        "names(store7) <- c(\"행정동\", \"실내운동시설개수ㅍ\")\n",
        "\n",
        "table(jjdong %in% store7$행정동)\n",
        "table(store7$행정동 %in% jjdong)\n",
        "\n",
        "jjdong[jjdong %in% store7$행정동 == FALSE] #store7에는 없는 jjdong의 행정동\n",
        "store7$행정동[store7$행정동 %in% jjdong == FALSE] #jjdong에는 없는 store7의 행정동\n",
        "\n",
        "add <- data.frame(행정동 = jjdong[jjdong %in% store7$행정동 == FALSE], \n",
        "                     실내운동시설개수ㅍ = rep(0, length(jjdong[jjdong %in% store7$행정동 == FALSE])))\n",
        "store7 <- rbind(store7, add)\n",
        "store7 <- arrange(store7, store7$행정동)\n",
        "\n",
        "store7$행정동[which(store7$행정동 == \"동산동\")] <- \"여의동\"\n",
        "store7 <- store7 %>% group_by(행정동) %>% summarise(실내운동시설개수 = sum(실내운동시설개수ㅍ))\n",
        "store7 <- as.data.frame(store7)\n",
        "store7 <- arrange(store7, store7$행정동)\n",
        "\n",
        "store7\n",
        "\n",
        "\n",
        "\n",
        "\n",
        "###############################################\n",
        "# 이/미용/건강시설 수 #########################\n",
        "###############################################\n",
        "\n",
        "str(x)\n",
        "head(x)\n",
        "str(store)\n",
        "head(store)\n",
        "\n",
        "store8 <- store[store$상권업종중분류명 == \"이/미용/건강\", ]\n",
        "store8 <- store8 %>% group_by(행정동명) %>% summarise(count = length(상호명))\n",
        "store8 <- as.data.frame(store8)\n",
        "names(store8) <- c(\"행정동\", \"이.미용.건강시설개수ㅍ\")\n",
        "\n",
        "table(jjdong %in% store8$행정동)\n",
        "table(store8$행정동 %in% jjdong)\n",
        "\n",
        "jjdong[jjdong %in% store8$행정동 == FALSE] #store8에는 없는 jjdong의 행정동\n",
        "store8$행정동[store8$행정동 %in% jjdong == FALSE] #jjdong에는 없는 store8의 행정동\n",
        "\n",
        "#add <- data.frame(행정동 = jjdong[jjdong %in% store7$행정동 == FALSE], \n",
        "#                     실내운동시설개수ㅍ = rep(0, length(jjdong[jjdong %in% store7$행정동 == FALSE])))\n",
        "#store8 <- rbind(store8, add)\n",
        "#store8 <- arrange(store8, store8$행정동)\n",
        "\n",
        "store8$행정동[which(store8$행정동 == \"동산동\")] <- \"여의동\"\n",
        "store8 <- store8[-1,]\n",
        "store8 <- store8 %>% group_by(행정동) %>% summarise(이.미용.건강시설개수 = sum(이.미용.건강시설개수ㅍ))\n",
        "store8 <- as.data.frame(store8)\n",
        "store8 <- arrange(store8, store8$행정동)\n",
        "\n",
        "store8\n",
        "\n",
        "\n",
        "\n",
        "\n",
        "\n",
        "###############################################\n",
        "# 화장품소매점포 수 ###########################\n",
        "###############################################\n",
        "\n",
        "str(x)\n",
        "head(x)\n",
        "str(store)\n",
        "head(store)\n",
        "View(store9)\n",
        "\n",
        "store9 <- store[store$상권업종중분류명 == \"화장품소매\", ]\n",
        "store9 <- store9 %>% group_by(행정동명) %>% summarise(count = length(상호명))\n",
        "store9 <- as.data.frame(store9)\n",
        "names(store9) <- c(\"행정동\", \"화장품소매점포수ㅍ\")\n",
        "\n",
        "table(jjdong %in% store9$행정동)\n",
        "table(store9$행정동 %in% jjdong)\n",
        "\n",
        "jjdong[jjdong %in% store9$행정동 == FALSE] #store9에는 없는 jjdong의 행정동\n",
        "store9$행정동[store9$행정동 %in% jjdong == FALSE] #jjdong에는 없는 store9의 행정동\n",
        "\n",
        "add <- data.frame(행정동 = jjdong[jjdong %in% store9$행정동 == FALSE], \n",
        "                     화장품소매점포수ㅍ = rep(0, length(jjdong[jjdong %in% store9$행정동 == FALSE])))\n",
        "store9 <- rbind(store9, add)\n",
        "store9 <- arrange(store9, store9$행정동)\n",
        "\n",
        "store9$행정동[which(store9$행정동 == \"동산동\")] <- \"여의동\"\n",
        "store9 <- store9[-1,]\n",
        "store9 <- store9 %>% group_by(행정동) %>% summarise(화장품소매점포수 = sum(화장품소매점포수ㅍ))\n",
        "store9 <- as.data.frame(store9)\n",
        "store9 <- arrange(store9, store9$행정동)\n",
        "\n",
        "store9\n",
        "\n",
        "\n",
        "\n",
        "\n",
        "\n",
        "\n",
        "###############################################\n",
        "# 버스 정류장 수 ##############################\n",
        "###############################################\n",
        "\n",
        "options(digits = 9)\n",
        "str(bus)\n",
        "head(bus)\n",
        "\n",
        "\n",
        "bus1 <- bus[,c(1,5)]\n",
        "bus1$행정동 <- str_trim(bus1$행정동, side=c(\"both\"))\n",
        "bus1 <- bus1 %>% group_by(행정동) %>% summarise(버스정류장수 = length(설치.지점명))\n",
        "bus1 <- as.data.frame(bus1)\n",
        "bus1 <- arrange(bus1, bus1$행정동)\n",
        "\n",
        "table(jjdong %in% bus1$행정동)\n",
        "bus1\n",
        "\n",
        "\n",
        "\n",
        "###############################################\n",
        "# 공원 수 #####################################\n",
        "###############################################\n",
        "\n",
        "str(park)\n",
        "head(park)\n",
        "\n",
        "park <- park[, c(4,13,22,23)]\n",
        "park1 <- park\n",
        "park1$parkLoadAddr <- c(\"팔복동\", \"중앙동\", \"풍남동\", \"여의동\", \"여의동\",\n",
        "                       \"우아2동\", \"송천2동\", \"송천2동\", \"우아2동\", \"팔복동\")\n",
        "park1 <- park1 %>% group_by(parkLoadAddr) %>% summarise(공원수 = length(dataTitle))\n",
        "park1 <- as.data.frame(park1)\n",
        "names(park1)[1] <- \"행정동\"\n",
        "\n",
        "table(jjdong %in% park1$행정동)\n",
        "table(park1$행정동 %in% jjdong)\n",
        "jjdong[jjdong %in% park1$행정동 == FALSE] #park에는 없는 jjdong의 행정동\n",
        "add <- data.frame(행정동 = jjdong[jjdong %in% park1$행정동 == FALSE], \n",
        "                     공원수 = rep(0, length(jjdong[jjdong %in% park1$행정동 == FALSE])))\n",
        "park1 <- rbind(park1, add)\n",
        "park1 <- arrange(park1, park1$행정동)\n",
        "park1\n",
        "\n",
        "\n",
        "\n",
        "\n",
        "###############################################\n",
        "# 전동킥보드 수 ###############################\n",
        "###############################################\n",
        "\n",
        "str(scooter)\n",
        "head(scooter)\n",
        "\n",
        "scooter <- scooter[, c(2,6)]\n",
        "names(scooter) <- c(\"행정동\", \"전동킥보드이용수\")\n",
        "scooter <- arrange(scooter, scooter$행정동)\n",
        "\n",
        "table(jjdong %in% scooter$행정동)\n",
        "scooter\n",
        "\n",
        "\n",
        "df <- data.frame(전동킥보드 = scooter$행정동, 자전거 = bicycle1$행정동,\n",
        "                      대규모점포 = bigstore1$행정동, 버스정류장 = bus1$행정동,\n",
        "                      편의점 = cvstore1$행정동, 공원 = park1$행정동,\n",
        "                      인구 = pop$행정동, 면적 = region$행정동,\n",
        "                      음식점 = rest$행정동, 상점 = store1$행정동,\n",
        "                      음식점제외 = store2$행정동, 대학교 = univ1$행정동, \n",
        "                      카페개수 = store3$행정동, 패스트푸드점개수 = store4$행정동,\n",
        "                      오락시설개수 = store5$행정동, 도서관.독서실개수 = store6$행정동,\n",
        "                      실내운동시설개수 = store7$행정동, 이.미용.건강시설개수 = store8$행정동,\n",
        "                      화장품소매점포수 = store9$행정동)\n",
        "df\n",
        "                 \n",
        "\n",
        "\n",
        "###############################################\n",
        "# 최종 데이터셋 jj ############################\n",
        "###############################################\n",
        "\n",
        "jj <- merge(scooter, bicycle1)\n",
        "jj <- merge(jj, bigstore1)\n",
        "jj <- merge(jj, bus1)\n",
        "jj <- merge(jj, cvstore1)\n",
        "jj <- merge(jj, park1)\n",
        "jj <- merge(jj, pop)\n",
        "jj <- merge(jj, region)\n",
        "jj <- merge(jj, rest)\n",
        "jj <- merge(jj, store1)\n",
        "jj <- merge(jj, store2)\n",
        "jj <- merge(jj, univ1)\n",
        "jj <- merge(jj, store3)\n",
        "jj <- merge(jj, store4)\n",
        "jj <- merge(jj, store5)\n",
        "jj <- merge(jj, store6)\n",
        "jj <- merge(jj, store7)\n",
        "jj <- merge(jj, store8)\n",
        "jj <- merge(jj, store9)\n",
        "\n",
        "jj\n",
        "\n",
        "\n",
        "\n",
        "#write.csv(jj, file = 'jj.csv')\n",
        "#write.csv(bicycle, file = 'bicycle.csv')\n",
        "#write.csv(bigstore, file = 'bigstore.csv')\n",
        "#write.csv(bus, file = 'bus.csv')\n",
        "#write.csv(cvstore, file = 'cvstore.csv')\n",
        "#write.csv(park, file = 'park.csv')\n",
        "#write.csv(store, file = 'store.csv')\n",
        "#write.csv(univ, file = 'univ.csv')\n",
        "\n",
        "\n",
        "jj <- jj[,-1]\n",
        "\n",
        "\n",
        "\n",
        "###############################################\n",
        "# 상관분석 ####################################\n",
        "###############################################\n",
        "\n",
        "\n",
        "library(corrplot) \n",
        "cor.jj <- cor(jj) \n",
        "round(cor.jj, 2) \n",
        "corrplot(cor.jj, method='number', shade.col=NA, tl.col='black', tl.srt=45)\n",
        "\n",
        "col <- colorRampPalette(c(\"#BB4444\", \"#EE9988\", \"#FFFFFF\", \"#77AADD\", \"#4477AA\"))\n",
        "corrplot(cor.jj, method='color', col = col(200), order = 'hclust', number.cex = .7,\n",
        "         addCoef.col = 'black', tl.col = 'black', tl.srt = 45, sig.level = 0.01, insig = 'blank', diag = FALSE)\n",
        "\n",
        "\n",
        "cor.test(jj$전동킥보드이용수, jj$자전거보관대수)\n",
        "cor.test(jj$전동킥보드이용수, jj$대규모점포수)\n",
        "cor.test(jj$전동킥보드이용수, jj$버스정류장수) #유의 X\n",
        "cor.test(jj$전동킥보드이용수, jj$편의점수)\n",
        "cor.test(jj$전동킥보드이용수, jj$공원수) #유의 X\n",
        "cor.test(jj$전동킥보드이용수, jj$인구수)\n",
        "cor.test(jj$전동킥보드이용수, jj$면적.km) #유의 X\n",
        "cor.test(jj$전동킥보드이용수, jj$음식점수)\n",
        "cor.test(jj$전동킥보드이용수, jj$상점개수)\n",
        "cor.test(jj$전동킥보드이용수, jj$상점개수.음식점제외)\n",
        "cor.test(jj$전동킥보드이용수, jj$대학교수)\n",
        "cor.test(jj$전동킥보드이용수, jj$카페개수)\n",
        "cor.test(jj$전동킥보드이용수, jj$패스트푸드점개수)\n",
        "cor.test(jj$전동킥보드이용수, jj$오락시설개수)\n",
        "cor.test(jj$전동킥보드이용수, jj$도서관.독서실개수)\n",
        "cor.test(jj$전동킥보드이용수, jj$실내운동시설개수)\n",
        "cor.test(jj$전동킥보드이용수, jj$이.미용.건강시설개수)\n",
        "cor.test(jj$전동킥보드이용수, jj$화장품소매점포수)\n",
        "\n",
        "\n",
        "\n",
        "\n",
        "\n",
        "\n",
        "\n",
        "\n",
        "\n",
        "\n",
        "\n"
      ],
      "execution_count": null,
      "outputs": []
    },
    {
      "cell_type": "markdown",
      "metadata": {
        "id": "NH3gnYgofR62"
      },
      "source": [
        "## 데이터 불러오기 + 패키지 실행"
      ]
    },
    {
      "cell_type": "code",
      "metadata": {
        "id": "DAh-FMwfdkkX",
        "colab": {
          "base_uri": "https://localhost:8080/"
        },
        "outputId": "69bc162b-9dee-45e4-bddd-17b07eed3aea"
      },
      "source": [
        "pop <- read.csv('(중복)2019_전주시 동별 인구.csv', header=TRUE, stringsAsFactors=FALSE, fileEncoding = \"euc-kr\")\n",
        "rest <- read.csv('(중복)동별 음식점 및 주점업 사업체수(2018).csv', header=TRUE, stringsAsFactors=FALSE, fileEncoding = \"euc-kr\")\n",
        "bicycle <- read.csv('(행정동)12_04_03_E_자전거보관소정보.csv', header=TRUE, stringsAsFactors=FALSE, fileEncoding = \"euc-kr\")\n",
        "bigstore <- read.csv('(행정동)대규모점포현황_2020.csv', header=TRUE, stringsAsFactors=FALSE, fileEncoding = \"euc-kr\")\n",
        "cvstore <- read.csv('(행정동)동별 체인화 편의점 + 사업체수 (2018년).csv', header=TRUE, stringsAsFactors=FALSE, fileEncoding = \"euc-kr\")\n",
        "univ <- read.csv('(행정동)전주시 대학교.csv', header=TRUE, stringsAsFactors=FALSE, fileEncoding = \"euc-kr\")\n",
        "region <- read.csv('(행정동)전주시 행정동 면적.csv', header=TRUE, stringsAsFactors=FALSE, fileEncoding = \"euc-kr\")\n",
        "store <- read.csv('전북 상권정보.csv', header=TRUE, stringsAsFactors=FALSE, fileEncoding = \"euc-kr\")\n",
        "bus <- read.csv('전주시 버스 정류장.csv', header=TRUE, stringsAsFactors=FALSE, fileEncoding = \"euc-kr\")\n",
        "park <- read.csv('park.csv', header=TRUE, stringsAsFactors=FALSE, fileEncoding = \"euc-kr\")\n",
        "scooter <- read.csv('(행정동)PM_210509_0시.csv', header=TRUE, stringsAsFactors=FALSE, fileEncoding = \"euc-kr\")\n",
        "\n",
        "library(dplyr)"
      ],
      "execution_count": null,
      "outputs": [
        {
          "output_type": "stream",
          "text": [
            "Warning message in scan(file = file, what = what, sep = sep, quote = quote, dec = dec, :\n",
            "“invalid input found on input connection '전북 상권정보.csv'”\n"
          ],
          "name": "stderr"
        }
      ]
    },
    {
      "cell_type": "markdown",
      "metadata": {
        "id": "AQ_aX69pAfxi"
      },
      "source": [
        "▼ jjdong : 전주시에 있는 행정동 데이터셋"
      ]
    },
    {
      "cell_type": "code",
      "metadata": {
        "colab": {
          "base_uri": "https://localhost:8080/"
        },
        "id": "g1U1SxfLdt7o",
        "outputId": "f431095c-ee09-4dac-a085-f18e227f2a56"
      },
      "source": [
        "jjdong <- read.csv('전주 행정동_가나다순.csv', header=TRUE, stringsAsFactors=FALSE, fileEncoding = \"euc-kr\")\n",
        "jjdong <- jjdong$행정동\n",
        "str(jjdong)\n",
        "head(jjdong)"
      ],
      "execution_count": null,
      "outputs": [
        {
          "output_type": "stream",
          "text": [
            " chr [1:35] \"금암1동\" \"금암2동\" \"노송동\" \"덕진동\" \"동서학동\" \"삼천1동\" ...\n"
          ],
          "name": "stdout"
        },
        {
          "output_type": "display_data",
          "data": {
            "text/plain": [
              "[1] \"금암1동\"  \"금암2동\"  \"노송동\"   \"덕진동\"   \"동서학동\" \"삼천1동\" "
            ],
            "text/latex": "\\begin{enumerate*}\n\\item '금암1동'\n\\item '금암2동'\n\\item '노송동'\n\\item '덕진동'\n\\item '동서학동'\n\\item '삼천1동'\n\\end{enumerate*}\n",
            "text/markdown": "1. '금암1동'\n2. '금암2동'\n3. '노송동'\n4. '덕진동'\n5. '동서학동'\n6. '삼천1동'\n\n\n",
            "text/html": [
              "<style>\n",
              ".list-inline {list-style: none; margin:0; padding: 0}\n",
              ".list-inline>li {display: inline-block}\n",
              ".list-inline>li:not(:last-child)::after {content: \"\\00b7\"; padding: 0 .5ex}\n",
              "</style>\n",
              "<ol class=list-inline><li>'금암1동'</li><li>'금암2동'</li><li>'노송동'</li><li>'덕진동'</li><li>'동서학동'</li><li>'삼천1동'</li></ol>\n"
            ]
          },
          "metadata": {
            "tags": []
          }
        }
      ]
    },
    {
      "cell_type": "markdown",
      "metadata": {
        "id": "HFvSwbe8AoFf"
      },
      "source": [
        "## 인구수"
      ]
    },
    {
      "cell_type": "code",
      "metadata": {
        "colab": {
          "base_uri": "https://localhost:8080/"
        },
        "id": "dwZF_tyL9VNu",
        "outputId": "bee89678-d611-4b5a-81d9-9093313ee441"
      },
      "source": [
        "str(pop)\n",
        "head(pop)"
      ],
      "execution_count": null,
      "outputs": [
        {
          "output_type": "stream",
          "text": [
            "'data.frame':\t35 obs. of  3 variables:\n",
            " $ 구  : chr  \"완산구\" \"완산구\" \"완산구\" \"완산구\" ...\n",
            " $ 동  : chr  \"중앙동\" \"풍남동\" \"노송동\" \"완산동\" ...\n",
            " $ 인구: int  8073 4521 13189 5148 6784 9223 15288 20030 13204 46295 ...\n"
          ],
          "name": "stdout"
        },
        {
          "output_type": "display_data",
          "data": {
            "text/plain": [
              "  구     동       인구 \n",
              "1 완산구 중앙동    8073\n",
              "2 완산구 풍남동    4521\n",
              "3 완산구 노송동   13189\n",
              "4 완산구 완산동    5148\n",
              "5 완산구 동서학동  6784\n",
              "6 완산구 서서학동  9223"
            ],
            "text/latex": "A data.frame: 6 × 3\n\\begin{tabular}{r|lll}\n  & 구 & 동 & 인구\\\\\n  & <chr> & <chr> & <int>\\\\\n\\hline\n\t1 & 완산구 & 중앙동   &  8073\\\\\n\t2 & 완산구 & 풍남동   &  4521\\\\\n\t3 & 완산구 & 노송동   & 13189\\\\\n\t4 & 완산구 & 완산동   &  5148\\\\\n\t5 & 완산구 & 동서학동 &  6784\\\\\n\t6 & 완산구 & 서서학동 &  9223\\\\\n\\end{tabular}\n",
            "text/markdown": "\nA data.frame: 6 × 3\n\n| <!--/--> | 구 &lt;chr&gt; | 동 &lt;chr&gt; | 인구 &lt;int&gt; |\n|---|---|---|---|\n| 1 | 완산구 | 중앙동   |  8073 |\n| 2 | 완산구 | 풍남동   |  4521 |\n| 3 | 완산구 | 노송동   | 13189 |\n| 4 | 완산구 | 완산동   |  5148 |\n| 5 | 완산구 | 동서학동 |  6784 |\n| 6 | 완산구 | 서서학동 |  9223 |\n\n",
            "text/html": [
              "<table class=\"dataframe\">\n",
              "<caption>A data.frame: 6 × 3</caption>\n",
              "<thead>\n",
              "\t<tr><th></th><th scope=col>구</th><th scope=col>동</th><th scope=col>인구</th></tr>\n",
              "\t<tr><th></th><th scope=col>&lt;chr&gt;</th><th scope=col>&lt;chr&gt;</th><th scope=col>&lt;int&gt;</th></tr>\n",
              "</thead>\n",
              "<tbody>\n",
              "\t<tr><th scope=row>1</th><td>완산구</td><td>중앙동  </td><td> 8073</td></tr>\n",
              "\t<tr><th scope=row>2</th><td>완산구</td><td>풍남동  </td><td> 4521</td></tr>\n",
              "\t<tr><th scope=row>3</th><td>완산구</td><td>노송동  </td><td>13189</td></tr>\n",
              "\t<tr><th scope=row>4</th><td>완산구</td><td>완산동  </td><td> 5148</td></tr>\n",
              "\t<tr><th scope=row>5</th><td>완산구</td><td>동서학동</td><td> 6784</td></tr>\n",
              "\t<tr><th scope=row>6</th><td>완산구</td><td>서서학동</td><td> 9223</td></tr>\n",
              "</tbody>\n",
              "</table>\n"
            ]
          },
          "metadata": {
            "tags": []
          }
        }
      ]
    },
    {
      "cell_type": "markdown",
      "metadata": {
        "id": "RvqunIUCAsUh"
      },
      "source": [
        "1 동이랑 인구 불러오기\n",
        "\n",
        "2 \"동\"을 \"행정동\"으로 바꾸기\n",
        "\n",
        "3 행정동을 기준으로 오름차순 정렬하기\n",
        "\n",
        "▼"
      ]
    },
    {
      "cell_type": "code",
      "metadata": {
        "colab": {
          "base_uri": "https://localhost:8080/"
        },
        "id": "ph0rxA749mJX",
        "outputId": "11e94adf-407e-4baf-f3e4-a56a939db40e"
      },
      "source": [
        "pop <- pop[,c(2,3)]\n",
        "names(pop)[1] <- \"행정동\"\n",
        "pop <- arrange(pop, pop$행정동)\n",
        "head(pop)"
      ],
      "execution_count": null,
      "outputs": [
        {
          "output_type": "display_data",
          "data": {
            "text/plain": [
              "  행정동   인구 \n",
              "1 금암1동   8824\n",
              "2 금암2동  10714\n",
              "3 노송동   13189\n",
              "4 덕진동   21215\n",
              "5 동산동   30208\n",
              "6 동서학동  6784"
            ],
            "text/latex": "A data.frame: 6 × 2\n\\begin{tabular}{r|ll}\n  & 행정동 & 인구\\\\\n  & <chr> & <int>\\\\\n\\hline\n\t1 & 금암1동  &  8824\\\\\n\t2 & 금암2동  & 10714\\\\\n\t3 & 노송동   & 13189\\\\\n\t4 & 덕진동   & 21215\\\\\n\t5 & 동산동   & 30208\\\\\n\t6 & 동서학동 &  6784\\\\\n\\end{tabular}\n",
            "text/markdown": "\nA data.frame: 6 × 2\n\n| <!--/--> | 행정동 &lt;chr&gt; | 인구 &lt;int&gt; |\n|---|---|---|\n| 1 | 금암1동  |  8824 |\n| 2 | 금암2동  | 10714 |\n| 3 | 노송동   | 13189 |\n| 4 | 덕진동   | 21215 |\n| 5 | 동산동   | 30208 |\n| 6 | 동서학동 |  6784 |\n\n",
            "text/html": [
              "<table class=\"dataframe\">\n",
              "<caption>A data.frame: 6 × 2</caption>\n",
              "<thead>\n",
              "\t<tr><th></th><th scope=col>행정동</th><th scope=col>인구</th></tr>\n",
              "\t<tr><th></th><th scope=col>&lt;chr&gt;</th><th scope=col>&lt;int&gt;</th></tr>\n",
              "</thead>\n",
              "<tbody>\n",
              "\t<tr><th scope=row>1</th><td>금암1동 </td><td> 8824</td></tr>\n",
              "\t<tr><th scope=row>2</th><td>금암2동 </td><td>10714</td></tr>\n",
              "\t<tr><th scope=row>3</th><td>노송동  </td><td>13189</td></tr>\n",
              "\t<tr><th scope=row>4</th><td>덕진동  </td><td>21215</td></tr>\n",
              "\t<tr><th scope=row>5</th><td>동산동  </td><td>30208</td></tr>\n",
              "\t<tr><th scope=row>6</th><td>동서학동</td><td> 6784</td></tr>\n",
              "</tbody>\n",
              "</table>\n"
            ]
          },
          "metadata": {
            "tags": []
          }
        }
      ]
    },
    {
      "cell_type": "markdown",
      "metadata": {
        "id": "ndFrR5ewBIjr"
      },
      "source": [
        "▼ 인구수 데이터에 누락된 동이 있는지 확인해본 결과, pop에 있지 않은 jjdong과 jjdong에 있지 않은 pop의 요소가 각각 하나씩 있음을 알 수 있다. (FALSE로 나타남)"
      ]
    },
    {
      "cell_type": "code",
      "metadata": {
        "colab": {
          "base_uri": "https://localhost:8080/"
        },
        "id": "qjreheys9vzD",
        "outputId": "77744d65-ea77-45be-e928-c95d01674c66"
      },
      "source": [
        "table(pop$행정동 %in% jjdong)\n",
        "table(jjdong %in% pop$행정동)"
      ],
      "execution_count": null,
      "outputs": [
        {
          "output_type": "display_data",
          "data": {
            "text/plain": [
              "\n",
              "FALSE  TRUE \n",
              "    1    34 "
            ]
          },
          "metadata": {
            "tags": []
          }
        },
        {
          "output_type": "display_data",
          "data": {
            "text/plain": [
              "\n",
              "FALSE  TRUE \n",
              "    1    34 "
            ]
          },
          "metadata": {
            "tags": []
          }
        }
      ]
    },
    {
      "cell_type": "markdown",
      "metadata": {
        "id": "Hn_JrUeoBdjv"
      },
      "source": [
        "▼ pop에는 jjdong에 없는 '동산동'이 있고 jjdong에는 pop에 없는 '여의동'이 있는 것을 확인할 수 있다."
      ]
    },
    {
      "cell_type": "code",
      "metadata": {
        "colab": {
          "base_uri": "https://localhost:8080/"
        },
        "id": "7RW0PwD-9yEd",
        "outputId": "bb87a891-9238-436f-853b-3fd3796f6ecc"
      },
      "source": [
        "pop$행정동[pop$행정동 %in% jjdong == FALSE] #jjdong에는 없는 pop의 행정동\n",
        "jjdong[jjdong %in% pop$행정동 == FALSE] #pop에는 없는 jjdong의 행정동"
      ],
      "execution_count": null,
      "outputs": [
        {
          "output_type": "display_data",
          "data": {
            "text/plain": [
              "[1] \"동산동\""
            ],
            "text/latex": "'동산동'",
            "text/markdown": "'동산동'",
            "text/html": [
              "'동산동'"
            ]
          },
          "metadata": {
            "tags": []
          }
        },
        {
          "output_type": "display_data",
          "data": {
            "text/plain": [
              "[1] \"여의동\""
            ],
            "text/latex": "'여의동'",
            "text/markdown": "'여의동'",
            "text/html": [
              "'여의동'"
            ]
          },
          "metadata": {
            "tags": []
          }
        }
      ]
    },
    {
      "cell_type": "markdown",
      "metadata": {
        "id": "N8DW1y9VBrom"
      },
      "source": [
        "1 실제로 2019년 8월에 전주시에서 '동산동'을 '여의동'으로 변경했기 때문에 이런 차이가 발생하는 것임. pop의 '동산동'을 '여의동'으로 바꿔준다.\n",
        "\n",
        "2 정리한 자료를 다시 행정동을 기준으로 오름차순 정렬하면\n",
        "\n",
        "3 pop이 잘 정리된 것을 확인할 수 있다.\n",
        "\n",
        "▼ "
      ]
    },
    {
      "cell_type": "code",
      "metadata": {
        "colab": {
          "base_uri": "https://localhost:8080/"
        },
        "id": "4eW1M0mE986_",
        "outputId": "9b746870-6e96-4521-9425-be71df9accfa"
      },
      "source": [
        "pop$행정동[which(pop$행정동 == \"동산동\")] <- \"여의동\" ## 19년 8월에 동산동을 여의동으로 변경, https://www.hani.co.kr/arti/area/honam/905848.html?_fr=mt2\n",
        "pop <- arrange(pop, pop$행정동)\n",
        "pop"
      ],
      "execution_count": null,
      "outputs": [
        {
          "output_type": "display_data",
          "data": {
            "text/plain": [
              "   행정동    인구 \n",
              "1  금암1동    8824\n",
              "2  금암2동   10714\n",
              "3  노송동    13189\n",
              "4  덕진동    21215\n",
              "5  동서학동   6784\n",
              "6  삼천1동   12799\n",
              "7  삼천2동   14447\n",
              "8  삼천3동   23323\n",
              "9  서서학동   9223\n",
              "10 서신동    40408\n",
              "11 송천1동   59376\n",
              "12 송천2동   26748\n",
              "13 여의동    30208\n",
              "14 완산동     5148\n",
              "15 우아1동   10096\n",
              "16 우아2동   15125\n",
              "17 인후1동   19047\n",
              "18 인후2동   12094\n",
              "19 인후3동   32426\n",
              "20 조촌동    12133\n",
              "21 중앙동     8073\n",
              "22 중화산1동 15288\n",
              "23 중화산2동 20030\n",
              "24 진북동    14924\n",
              "25 팔복동     8300\n",
              "26 평화1동   13204\n",
              "27 평화2동   46295\n",
              "28 풍남동     4521\n",
              "29 혁신동    17925\n",
              "30 호성동    21154\n",
              "31 효자1동   11784\n",
              "32 효자2동   10861\n",
              "33 효자3동   15758\n",
              "34 효자4동   33756\n",
              "35 효자5동   37898"
            ],
            "text/latex": "A data.frame: 35 × 2\n\\begin{tabular}{ll}\n 행정동 & 인구\\\\\n <chr> & <int>\\\\\n\\hline\n\t 금암1동   &  8824\\\\\n\t 금암2동   & 10714\\\\\n\t 노송동    & 13189\\\\\n\t 덕진동    & 21215\\\\\n\t 동서학동  &  6784\\\\\n\t 삼천1동   & 12799\\\\\n\t 삼천2동   & 14447\\\\\n\t 삼천3동   & 23323\\\\\n\t 서서학동  &  9223\\\\\n\t 서신동    & 40408\\\\\n\t 송천1동   & 59376\\\\\n\t 송천2동   & 26748\\\\\n\t 여의동    & 30208\\\\\n\t 완산동    &  5148\\\\\n\t 우아1동   & 10096\\\\\n\t 우아2동   & 15125\\\\\n\t 인후1동   & 19047\\\\\n\t 인후2동   & 12094\\\\\n\t 인후3동   & 32426\\\\\n\t 조촌동    & 12133\\\\\n\t 중앙동    &  8073\\\\\n\t 중화산1동 & 15288\\\\\n\t 중화산2동 & 20030\\\\\n\t 진북동    & 14924\\\\\n\t 팔복동    &  8300\\\\\n\t 평화1동   & 13204\\\\\n\t 평화2동   & 46295\\\\\n\t 풍남동    &  4521\\\\\n\t 혁신동    & 17925\\\\\n\t 호성동    & 21154\\\\\n\t 효자1동   & 11784\\\\\n\t 효자2동   & 10861\\\\\n\t 효자3동   & 15758\\\\\n\t 효자4동   & 33756\\\\\n\t 효자5동   & 37898\\\\\n\\end{tabular}\n",
            "text/markdown": "\nA data.frame: 35 × 2\n\n| 행정동 &lt;chr&gt; | 인구 &lt;int&gt; |\n|---|---|\n| 금암1동   |  8824 |\n| 금암2동   | 10714 |\n| 노송동    | 13189 |\n| 덕진동    | 21215 |\n| 동서학동  |  6784 |\n| 삼천1동   | 12799 |\n| 삼천2동   | 14447 |\n| 삼천3동   | 23323 |\n| 서서학동  |  9223 |\n| 서신동    | 40408 |\n| 송천1동   | 59376 |\n| 송천2동   | 26748 |\n| 여의동    | 30208 |\n| 완산동    |  5148 |\n| 우아1동   | 10096 |\n| 우아2동   | 15125 |\n| 인후1동   | 19047 |\n| 인후2동   | 12094 |\n| 인후3동   | 32426 |\n| 조촌동    | 12133 |\n| 중앙동    |  8073 |\n| 중화산1동 | 15288 |\n| 중화산2동 | 20030 |\n| 진북동    | 14924 |\n| 팔복동    |  8300 |\n| 평화1동   | 13204 |\n| 평화2동   | 46295 |\n| 풍남동    |  4521 |\n| 혁신동    | 17925 |\n| 호성동    | 21154 |\n| 효자1동   | 11784 |\n| 효자2동   | 10861 |\n| 효자3동   | 15758 |\n| 효자4동   | 33756 |\n| 효자5동   | 37898 |\n\n",
            "text/html": [
              "<table class=\"dataframe\">\n",
              "<caption>A data.frame: 35 × 2</caption>\n",
              "<thead>\n",
              "\t<tr><th scope=col>행정동</th><th scope=col>인구</th></tr>\n",
              "\t<tr><th scope=col>&lt;chr&gt;</th><th scope=col>&lt;int&gt;</th></tr>\n",
              "</thead>\n",
              "<tbody>\n",
              "\t<tr><td>금암1동  </td><td> 8824</td></tr>\n",
              "\t<tr><td>금암2동  </td><td>10714</td></tr>\n",
              "\t<tr><td>노송동   </td><td>13189</td></tr>\n",
              "\t<tr><td>덕진동   </td><td>21215</td></tr>\n",
              "\t<tr><td>동서학동 </td><td> 6784</td></tr>\n",
              "\t<tr><td>삼천1동  </td><td>12799</td></tr>\n",
              "\t<tr><td>삼천2동  </td><td>14447</td></tr>\n",
              "\t<tr><td>삼천3동  </td><td>23323</td></tr>\n",
              "\t<tr><td>서서학동 </td><td> 9223</td></tr>\n",
              "\t<tr><td>서신동   </td><td>40408</td></tr>\n",
              "\t<tr><td>송천1동  </td><td>59376</td></tr>\n",
              "\t<tr><td>송천2동  </td><td>26748</td></tr>\n",
              "\t<tr><td>여의동   </td><td>30208</td></tr>\n",
              "\t<tr><td>완산동   </td><td> 5148</td></tr>\n",
              "\t<tr><td>우아1동  </td><td>10096</td></tr>\n",
              "\t<tr><td>우아2동  </td><td>15125</td></tr>\n",
              "\t<tr><td>인후1동  </td><td>19047</td></tr>\n",
              "\t<tr><td>인후2동  </td><td>12094</td></tr>\n",
              "\t<tr><td>인후3동  </td><td>32426</td></tr>\n",
              "\t<tr><td>조촌동   </td><td>12133</td></tr>\n",
              "\t<tr><td>중앙동   </td><td> 8073</td></tr>\n",
              "\t<tr><td>중화산1동</td><td>15288</td></tr>\n",
              "\t<tr><td>중화산2동</td><td>20030</td></tr>\n",
              "\t<tr><td>진북동   </td><td>14924</td></tr>\n",
              "\t<tr><td>팔복동   </td><td> 8300</td></tr>\n",
              "\t<tr><td>평화1동  </td><td>13204</td></tr>\n",
              "\t<tr><td>평화2동  </td><td>46295</td></tr>\n",
              "\t<tr><td>풍남동   </td><td> 4521</td></tr>\n",
              "\t<tr><td>혁신동   </td><td>17925</td></tr>\n",
              "\t<tr><td>호성동   </td><td>21154</td></tr>\n",
              "\t<tr><td>효자1동  </td><td>11784</td></tr>\n",
              "\t<tr><td>효자2동  </td><td>10861</td></tr>\n",
              "\t<tr><td>효자3동  </td><td>15758</td></tr>\n",
              "\t<tr><td>효자4동  </td><td>33756</td></tr>\n",
              "\t<tr><td>효자5동  </td><td>37898</td></tr>\n",
              "</tbody>\n",
              "</table>\n"
            ]
          },
          "metadata": {
            "tags": []
          }
        }
      ]
    },
    {
      "cell_type": "markdown",
      "metadata": {
        "id": "Sf15X4rlCHJL"
      },
      "source": [
        "## 음식점수"
      ]
    },
    {
      "cell_type": "code",
      "metadata": {
        "colab": {
          "base_uri": "https://localhost:8080/"
        },
        "id": "IMCPwrVY-BNm",
        "outputId": "0a669235-c769-4cd1-ec36-94410a054f3d"
      },
      "source": [
        "str(rest)\n",
        "head(rest)"
      ],
      "execution_count": null,
      "outputs": [
        {
          "output_type": "stream",
          "text": [
            "'data.frame':\t35 obs. of  5 variables:\n",
            " $ 구     : chr  \"완산구\" \"완산구\" \"완산구\" \"완산구\" ...\n",
            " $ 항목   : chr  \"효자5동\" \"중앙동\" \"서신동\" \"중화산2동\" ...\n",
            " $ 순위   : int  1 2 3 4 5 6 7 8 9 10 ...\n",
            " $ 값     : int  805 567 560 491 488 378 372 227 219 216 ...\n",
            " $ 비율...: num  15.4 10.8 10.7 9.4 9.3 7.2 7.1 4.3 4.2 4.1 ...\n"
          ],
          "name": "stdout"
        },
        {
          "output_type": "display_data",
          "data": {
            "text/plain": [
              "  구     항목      순위 값  비율...\n",
              "1 완산구 효자5동   1    805 15.4   \n",
              "2 완산구 중앙동    2    567 10.8   \n",
              "3 완산구 서신동    3    560 10.7   \n",
              "4 완산구 중화산2동 4    491  9.4   \n",
              "5 완산구 풍남동    5    488  9.3   \n",
              "6 완산구 효자4동   6    378  7.2   "
            ],
            "text/latex": "A data.frame: 6 × 5\n\\begin{tabular}{r|lllll}\n  & 구 & 항목 & 순위 & 값 & 비율...\\\\\n  & <chr> & <chr> & <int> & <int> & <dbl>\\\\\n\\hline\n\t1 & 완산구 & 효자5동   & 1 & 805 & 15.4\\\\\n\t2 & 완산구 & 중앙동    & 2 & 567 & 10.8\\\\\n\t3 & 완산구 & 서신동    & 3 & 560 & 10.7\\\\\n\t4 & 완산구 & 중화산2동 & 4 & 491 &  9.4\\\\\n\t5 & 완산구 & 풍남동    & 5 & 488 &  9.3\\\\\n\t6 & 완산구 & 효자4동   & 6 & 378 &  7.2\\\\\n\\end{tabular}\n",
            "text/markdown": "\nA data.frame: 6 × 5\n\n| <!--/--> | 구 &lt;chr&gt; | 항목 &lt;chr&gt; | 순위 &lt;int&gt; | 값 &lt;int&gt; | 비율... &lt;dbl&gt; |\n|---|---|---|---|---|---|\n| 1 | 완산구 | 효자5동   | 1 | 805 | 15.4 |\n| 2 | 완산구 | 중앙동    | 2 | 567 | 10.8 |\n| 3 | 완산구 | 서신동    | 3 | 560 | 10.7 |\n| 4 | 완산구 | 중화산2동 | 4 | 491 |  9.4 |\n| 5 | 완산구 | 풍남동    | 5 | 488 |  9.3 |\n| 6 | 완산구 | 효자4동   | 6 | 378 |  7.2 |\n\n",
            "text/html": [
              "<table class=\"dataframe\">\n",
              "<caption>A data.frame: 6 × 5</caption>\n",
              "<thead>\n",
              "\t<tr><th></th><th scope=col>구</th><th scope=col>항목</th><th scope=col>순위</th><th scope=col>값</th><th scope=col>비율...</th></tr>\n",
              "\t<tr><th></th><th scope=col>&lt;chr&gt;</th><th scope=col>&lt;chr&gt;</th><th scope=col>&lt;int&gt;</th><th scope=col>&lt;int&gt;</th><th scope=col>&lt;dbl&gt;</th></tr>\n",
              "</thead>\n",
              "<tbody>\n",
              "\t<tr><th scope=row>1</th><td>완산구</td><td>효자5동  </td><td>1</td><td>805</td><td>15.4</td></tr>\n",
              "\t<tr><th scope=row>2</th><td>완산구</td><td>중앙동   </td><td>2</td><td>567</td><td>10.8</td></tr>\n",
              "\t<tr><th scope=row>3</th><td>완산구</td><td>서신동   </td><td>3</td><td>560</td><td>10.7</td></tr>\n",
              "\t<tr><th scope=row>4</th><td>완산구</td><td>중화산2동</td><td>4</td><td>491</td><td> 9.4</td></tr>\n",
              "\t<tr><th scope=row>5</th><td>완산구</td><td>풍남동   </td><td>5</td><td>488</td><td> 9.3</td></tr>\n",
              "\t<tr><th scope=row>6</th><td>완산구</td><td>효자4동  </td><td>6</td><td>378</td><td> 7.2</td></tr>\n",
              "</tbody>\n",
              "</table>\n"
            ]
          },
          "metadata": {
            "tags": []
          }
        }
      ]
    },
    {
      "cell_type": "markdown",
      "metadata": {
        "id": "xuYA6ZzQCJlC"
      },
      "source": [
        "1 rest 데이터 중 동이 나와있는 '항목'과 음식점수가 나와있는 '값'을 추출\n",
        "\n",
        "2 '항목'과 '값'을 '행정동'과 '음식점수'로 변경\n",
        "\n",
        "3  행정동을 기준으로 오름차순 정렬\n",
        "\n",
        "▼ "
      ]
    },
    {
      "cell_type": "code",
      "metadata": {
        "colab": {
          "base_uri": "https://localhost:8080/"
        },
        "id": "b2aECSBG-Efd",
        "outputId": "a98f5c4f-7da7-4bcd-8ecd-abfeec7e661a"
      },
      "source": [
        "rest <- rest[,c(2,4)]\n",
        "names(rest) <- c(\"행정동\", \"음식점수\")\n",
        "rest <- arrange(rest, rest$행정동)\n",
        "head(rest)"
      ],
      "execution_count": null,
      "outputs": [
        {
          "output_type": "display_data",
          "data": {
            "text/plain": [
              "  행정동   음식점수\n",
              "1 금암1동  323     \n",
              "2 금암2동  119     \n",
              "3 노송동   193     \n",
              "4 덕진동   468     \n",
              "5 동서학동  67     \n",
              "6 삼천1동   97     "
            ],
            "text/latex": "A data.frame: 6 × 2\n\\begin{tabular}{r|ll}\n  & 행정동 & 음식점수\\\\\n  & <chr> & <int>\\\\\n\\hline\n\t1 & 금암1동  & 323\\\\\n\t2 & 금암2동  & 119\\\\\n\t3 & 노송동   & 193\\\\\n\t4 & 덕진동   & 468\\\\\n\t5 & 동서학동 &  67\\\\\n\t6 & 삼천1동  &  97\\\\\n\\end{tabular}\n",
            "text/markdown": "\nA data.frame: 6 × 2\n\n| <!--/--> | 행정동 &lt;chr&gt; | 음식점수 &lt;int&gt; |\n|---|---|---|\n| 1 | 금암1동  | 323 |\n| 2 | 금암2동  | 119 |\n| 3 | 노송동   | 193 |\n| 4 | 덕진동   | 468 |\n| 5 | 동서학동 |  67 |\n| 6 | 삼천1동  |  97 |\n\n",
            "text/html": [
              "<table class=\"dataframe\">\n",
              "<caption>A data.frame: 6 × 2</caption>\n",
              "<thead>\n",
              "\t<tr><th></th><th scope=col>행정동</th><th scope=col>음식점수</th></tr>\n",
              "\t<tr><th></th><th scope=col>&lt;chr&gt;</th><th scope=col>&lt;int&gt;</th></tr>\n",
              "</thead>\n",
              "<tbody>\n",
              "\t<tr><th scope=row>1</th><td>금암1동 </td><td>323</td></tr>\n",
              "\t<tr><th scope=row>2</th><td>금암2동 </td><td>119</td></tr>\n",
              "\t<tr><th scope=row>3</th><td>노송동  </td><td>193</td></tr>\n",
              "\t<tr><th scope=row>4</th><td>덕진동  </td><td>468</td></tr>\n",
              "\t<tr><th scope=row>5</th><td>동서학동</td><td> 67</td></tr>\n",
              "\t<tr><th scope=row>6</th><td>삼천1동 </td><td> 97</td></tr>\n",
              "</tbody>\n",
              "</table>\n"
            ]
          },
          "metadata": {
            "tags": []
          }
        }
      ]
    },
    {
      "cell_type": "markdown",
      "metadata": {
        "id": "TXdDQPPHCZDm"
      },
      "source": [
        "▼  pop에서와 마찬가지로 rest에서도 누락된 행정동이 있는지 확인해봤을 때, rest와 jjdong의 행정동이 모두 일치하는 것으로 보아 누락된 행정동은 없다고 볼 수 있다."
      ]
    },
    {
      "cell_type": "code",
      "metadata": {
        "colab": {
          "base_uri": "https://localhost:8080/"
        },
        "id": "t4w9dEaf-H3P",
        "outputId": "da612588-cf43-48f6-d98e-0b7b7af63955"
      },
      "source": [
        "table(rest$행정동 %in% jjdong)\n",
        "table(jjdong %in% rest$행정동)\n",
        "\n",
        "jjdong[jjdong %in% rest$행정동 == FALSE]"
      ],
      "execution_count": null,
      "outputs": [
        {
          "output_type": "display_data",
          "data": {
            "text/plain": [
              "\n",
              "TRUE \n",
              "  35 "
            ]
          },
          "metadata": {
            "tags": []
          }
        },
        {
          "output_type": "display_data",
          "data": {
            "text/plain": [
              "\n",
              "TRUE \n",
              "  35 "
            ]
          },
          "metadata": {
            "tags": []
          }
        },
        {
          "output_type": "display_data",
          "data": {
            "text/plain": [
              "character(0)"
            ],
            "text/latex": "",
            "text/markdown": "",
            "text/html": [
              ""
            ]
          },
          "metadata": {
            "tags": []
          }
        }
      ]
    },
    {
      "cell_type": "code",
      "metadata": {
        "colab": {
          "base_uri": "https://localhost:8080/"
        },
        "id": "FbI5HXEU-SHs",
        "outputId": "23b4bf05-cc12-4ed0-ea18-4d7bed5246a0"
      },
      "source": [
        "rest"
      ],
      "execution_count": null,
      "outputs": [
        {
          "output_type": "display_data",
          "data": {
            "text/plain": [
              "   행정동    음식점수\n",
              "1  금암1동   323     \n",
              "2  금암2동   119     \n",
              "3  노송동    193     \n",
              "4  덕진동    468     \n",
              "5  동서학동   67     \n",
              "6  삼천1동    97     \n",
              "7  삼천2동   216     \n",
              "8  삼천3동   219     \n",
              "9  서서학동   54     \n",
              "10 서신동    560     \n",
              "11 송천1동   347     \n",
              "12 송천2동   288     \n",
              "13 여의동    184     \n",
              "14 완산동     17     \n",
              "15 우아1동   227     \n",
              "16 우아2동   389     \n",
              "17 인후1동   147     \n",
              "18 인후2동   174     \n",
              "19 인후3동   335     \n",
              "20 조촌동     90     \n",
              "21 중앙동    567     \n",
              "22 중화산1동 227     \n",
              "23 중화산2동 491     \n",
              "24 진북동    145     \n",
              "25 팔복동    120     \n",
              "26 평화1동   108     \n",
              "27 평화2동   372     \n",
              "28 풍남동    488     \n",
              "29 혁신동    176     \n",
              "30 호성동    121     \n",
              "31 효자1동    72     \n",
              "32 효자2동   144     \n",
              "33 효자3동   156     \n",
              "34 효자4동   378     \n",
              "35 효자5동   805     "
            ],
            "text/latex": "A data.frame: 35 × 2\n\\begin{tabular}{ll}\n 행정동 & 음식점수\\\\\n <chr> & <int>\\\\\n\\hline\n\t 금암1동   & 323\\\\\n\t 금암2동   & 119\\\\\n\t 노송동    & 193\\\\\n\t 덕진동    & 468\\\\\n\t 동서학동  &  67\\\\\n\t 삼천1동   &  97\\\\\n\t 삼천2동   & 216\\\\\n\t 삼천3동   & 219\\\\\n\t 서서학동  &  54\\\\\n\t 서신동    & 560\\\\\n\t 송천1동   & 347\\\\\n\t 송천2동   & 288\\\\\n\t 여의동    & 184\\\\\n\t 완산동    &  17\\\\\n\t 우아1동   & 227\\\\\n\t 우아2동   & 389\\\\\n\t 인후1동   & 147\\\\\n\t 인후2동   & 174\\\\\n\t 인후3동   & 335\\\\\n\t 조촌동    &  90\\\\\n\t 중앙동    & 567\\\\\n\t 중화산1동 & 227\\\\\n\t 중화산2동 & 491\\\\\n\t 진북동    & 145\\\\\n\t 팔복동    & 120\\\\\n\t 평화1동   & 108\\\\\n\t 평화2동   & 372\\\\\n\t 풍남동    & 488\\\\\n\t 혁신동    & 176\\\\\n\t 호성동    & 121\\\\\n\t 효자1동   &  72\\\\\n\t 효자2동   & 144\\\\\n\t 효자3동   & 156\\\\\n\t 효자4동   & 378\\\\\n\t 효자5동   & 805\\\\\n\\end{tabular}\n",
            "text/markdown": "\nA data.frame: 35 × 2\n\n| 행정동 &lt;chr&gt; | 음식점수 &lt;int&gt; |\n|---|---|\n| 금암1동   | 323 |\n| 금암2동   | 119 |\n| 노송동    | 193 |\n| 덕진동    | 468 |\n| 동서학동  |  67 |\n| 삼천1동   |  97 |\n| 삼천2동   | 216 |\n| 삼천3동   | 219 |\n| 서서학동  |  54 |\n| 서신동    | 560 |\n| 송천1동   | 347 |\n| 송천2동   | 288 |\n| 여의동    | 184 |\n| 완산동    |  17 |\n| 우아1동   | 227 |\n| 우아2동   | 389 |\n| 인후1동   | 147 |\n| 인후2동   | 174 |\n| 인후3동   | 335 |\n| 조촌동    |  90 |\n| 중앙동    | 567 |\n| 중화산1동 | 227 |\n| 중화산2동 | 491 |\n| 진북동    | 145 |\n| 팔복동    | 120 |\n| 평화1동   | 108 |\n| 평화2동   | 372 |\n| 풍남동    | 488 |\n| 혁신동    | 176 |\n| 호성동    | 121 |\n| 효자1동   |  72 |\n| 효자2동   | 144 |\n| 효자3동   | 156 |\n| 효자4동   | 378 |\n| 효자5동   | 805 |\n\n",
            "text/html": [
              "<table class=\"dataframe\">\n",
              "<caption>A data.frame: 35 × 2</caption>\n",
              "<thead>\n",
              "\t<tr><th scope=col>행정동</th><th scope=col>음식점수</th></tr>\n",
              "\t<tr><th scope=col>&lt;chr&gt;</th><th scope=col>&lt;int&gt;</th></tr>\n",
              "</thead>\n",
              "<tbody>\n",
              "\t<tr><td>금암1동  </td><td>323</td></tr>\n",
              "\t<tr><td>금암2동  </td><td>119</td></tr>\n",
              "\t<tr><td>노송동   </td><td>193</td></tr>\n",
              "\t<tr><td>덕진동   </td><td>468</td></tr>\n",
              "\t<tr><td>동서학동 </td><td> 67</td></tr>\n",
              "\t<tr><td>삼천1동  </td><td> 97</td></tr>\n",
              "\t<tr><td>삼천2동  </td><td>216</td></tr>\n",
              "\t<tr><td>삼천3동  </td><td>219</td></tr>\n",
              "\t<tr><td>서서학동 </td><td> 54</td></tr>\n",
              "\t<tr><td>서신동   </td><td>560</td></tr>\n",
              "\t<tr><td>송천1동  </td><td>347</td></tr>\n",
              "\t<tr><td>송천2동  </td><td>288</td></tr>\n",
              "\t<tr><td>여의동   </td><td>184</td></tr>\n",
              "\t<tr><td>완산동   </td><td> 17</td></tr>\n",
              "\t<tr><td>우아1동  </td><td>227</td></tr>\n",
              "\t<tr><td>우아2동  </td><td>389</td></tr>\n",
              "\t<tr><td>인후1동  </td><td>147</td></tr>\n",
              "\t<tr><td>인후2동  </td><td>174</td></tr>\n",
              "\t<tr><td>인후3동  </td><td>335</td></tr>\n",
              "\t<tr><td>조촌동   </td><td> 90</td></tr>\n",
              "\t<tr><td>중앙동   </td><td>567</td></tr>\n",
              "\t<tr><td>중화산1동</td><td>227</td></tr>\n",
              "\t<tr><td>중화산2동</td><td>491</td></tr>\n",
              "\t<tr><td>진북동   </td><td>145</td></tr>\n",
              "\t<tr><td>팔복동   </td><td>120</td></tr>\n",
              "\t<tr><td>평화1동  </td><td>108</td></tr>\n",
              "\t<tr><td>평화2동  </td><td>372</td></tr>\n",
              "\t<tr><td>풍남동   </td><td>488</td></tr>\n",
              "\t<tr><td>혁신동   </td><td>176</td></tr>\n",
              "\t<tr><td>호성동   </td><td>121</td></tr>\n",
              "\t<tr><td>효자1동  </td><td> 72</td></tr>\n",
              "\t<tr><td>효자2동  </td><td>144</td></tr>\n",
              "\t<tr><td>효자3동  </td><td>156</td></tr>\n",
              "\t<tr><td>효자4동  </td><td>378</td></tr>\n",
              "\t<tr><td>효자5동  </td><td>805</td></tr>\n",
              "</tbody>\n",
              "</table>\n"
            ]
          },
          "metadata": {
            "tags": []
          }
        }
      ]
    },
    {
      "cell_type": "markdown",
      "metadata": {
        "id": "v7Bzgs9LCsQr"
      },
      "source": [
        "## 자전거 보관대 수"
      ]
    },
    {
      "cell_type": "code",
      "metadata": {
        "colab": {
          "base_uri": "https://localhost:8080/"
        },
        "id": "8jAYC13J-Vso",
        "outputId": "58a6ef3d-5da8-4e7a-acb5-b5d46e5b7d32"
      },
      "source": [
        "str(bicycle)\n",
        "head(bicycle)"
      ],
      "execution_count": null,
      "outputs": [
        {
          "output_type": "stream",
          "text": [
            "'data.frame':\t179 obs. of  17 variables:\n",
            " $ 번호              : int  1 2 3 4 5 6 7 8 9 10 ...\n",
            " $ 자전거보관소명    : chr  \"자전거 보관대\" \"자전거 보관대\" \"자전거 보관대\" \"자전거 보관대\" ...\n",
            " $ 소재지도로명주소  : chr  \"전라북도 전주시 덕진구 여암2길 9\" \"전라북도 전주시 덕진구 송천중앙로 116\" \"전라북도 전주시 덕진구 송천중앙로162\" \"전라북도 전주시 덕진구 송천중앙로 153\" ...\n",
            " $ 소재지지번주소    : chr  \"전라북도 전주시 덕진구 반월동 248-32\" \"전라북도 전주시 덕진구 송천동1가 395-28\" \"전라북도 전주시 덕진구 송천동1가 113-12\" \"전라북도 전주시 덕진구 송천동1가 481-4\" ...\n",
            " $ 행정동            : chr  \"조촌동\" \"송천1동\" \"송천2동\" \"송천2동\" ...\n",
            " $ 위도              : num  35.9 35.9 35.9 35.9 35.9 ...\n",
            " $ 경도              : num  127 127 127 127 127 ...\n",
            " $ 보관대수          : int  6 7 7 10 10 6 7 7 10 30 ...\n",
            " $ 설치연도          : int  NA NA NA NA NA NA NA NA NA NA ...\n",
            " $ 설치형태          : chr  \"거치형\" \"휀스형\" \"거치형\" \"휀스형\" ...\n",
            " $ 차양막설치여부    : chr  \"N\" \"Y\" \"N\" \"Y\" ...\n",
            " $ 공기주입기비치여부: chr  \"N\" \"N\" \"N\" \"N\" ...\n",
            " $ 공기주입기유형    : logi  NA NA NA NA NA NA ...\n",
            " $ 수리대설치여부    : chr  \"N\" \"N\" \"N\" \"N\" ...\n",
            " $ 관리기관전화번호  : chr  \"063-281-2602\" \"063-281-2603\" \"063-281-2604\" \"063-281-2605\" ...\n",
            " $ 관리기관명        : chr  \"전라북도 전주시청 자전거정책과\" \"전라북도 전주시청 자전거정책과\" \"전라북도 전주시청 자전거정책과\" \"전라북도 전주시청 자전거정책과\" ...\n",
            " $ 데이터기준일자    : chr  \"2020-08-31\" \"2020-08-31\" \"2020-08-31\" \"2020-08-31\" ...\n"
          ],
          "name": "stdout"
        },
        {
          "output_type": "display_data",
          "data": {
            "text/plain": [
              "  번호 자전거보관소명 소재지도로명주소                     \n",
              "1 1    자전거 보관대  전라북도 전주시 덕진구 여암2길 9     \n",
              "2 2    자전거 보관대  전라북도 전주시 덕진구 송천중앙로 116\n",
              "3 3    자전거 보관대  전라북도 전주시 덕진구 송천중앙로162 \n",
              "4 4    자전거 보관대  전라북도 전주시 덕진구 송천중앙로 153\n",
              "5 5    자전거 보관대  전라북도 전주시 덕진구 천마산로 40   \n",
              "6 6    자전거 보관대  전라북도 전주시 덕진구 견훤왕궁로 277\n",
              "  소재지지번주소                           행정동  위도  경도  보관대수\n",
              "1 전라북도 전주시 덕진구 반월동 248-32     조촌동  35.87 127.1  6      \n",
              "2 전라북도 전주시 덕진구 송천동1가 395-28  송천1동 35.86 127.1  7      \n",
              "3 전라북도 전주시 덕진구 송천동1가 113-12  송천2동 35.86 127.1  7      \n",
              "4 전라북도 전주시 덕진구 송천동1가 481-4   송천2동 35.86 127.1 10      \n",
              "5 전라북도 전주시 덕진구 송천동1가 107-172 송천2동 35.86 127.1 10      \n",
              "6 전라북도 전주시 덕진구 금암동 1600-6     금암2동 35.84 127.1  6      \n",
              "  설치연도 설치형태 차양막설치여부 공기주입기비치여부 공기주입기유형\n",
              "1 NA       거치형   N              N                  NA            \n",
              "2 NA       휀스형   Y              N                  NA            \n",
              "3 NA       거치형   N              N                  NA            \n",
              "4 NA       휀스형   Y              N                  NA            \n",
              "5 NA       휀스형   Y              N                  NA            \n",
              "6 NA       거치형   N              N                  NA            \n",
              "  수리대설치여부 관리기관전화번호 관리기관명                     데이터기준일자\n",
              "1 N              063-281-2602     전라북도 전주시청 자전거정책과 2020-08-31    \n",
              "2 N              063-281-2603     전라북도 전주시청 자전거정책과 2020-08-31    \n",
              "3 N              063-281-2604     전라북도 전주시청 자전거정책과 2020-08-31    \n",
              "4 N              063-281-2605     전라북도 전주시청 자전거정책과 2020-08-31    \n",
              "5 N              063-281-2606     전라북도 전주시청 자전거정책과 2020-08-31    \n",
              "6 N              063-281-2607     전라북도 전주시청 자전거정책과 2020-08-31    "
            ],
            "text/latex": "A data.frame: 6 × 17\n\\begin{tabular}{r|lllllllllllllllll}\n  & 번호 & 자전거보관소명 & 소재지도로명주소 & 소재지지번주소 & 행정동 & 위도 & 경도 & 보관대수 & 설치연도 & 설치형태 & 차양막설치여부 & 공기주입기비치여부 & 공기주입기유형 & 수리대설치여부 & 관리기관전화번호 & 관리기관명 & 데이터기준일자\\\\\n  & <int> & <chr> & <chr> & <chr> & <chr> & <dbl> & <dbl> & <int> & <int> & <chr> & <chr> & <chr> & <lgl> & <chr> & <chr> & <chr> & <chr>\\\\\n\\hline\n\t1 & 1 & 자전거 보관대 & 전라북도 전주시 덕진구 여암2길 9      & 전라북도 전주시 덕진구 반월동 248-32     & 조촌동  & 35.87 & 127.1 &  6 & NA & 거치형 & N & N & NA & N & 063-281-2602 & 전라북도 전주시청 자전거정책과 & 2020-08-31\\\\\n\t2 & 2 & 자전거 보관대 & 전라북도 전주시 덕진구 송천중앙로 116 & 전라북도 전주시 덕진구 송천동1가 395-28  & 송천1동 & 35.86 & 127.1 &  7 & NA & 휀스형 & Y & N & NA & N & 063-281-2603 & 전라북도 전주시청 자전거정책과 & 2020-08-31\\\\\n\t3 & 3 & 자전거 보관대 & 전라북도 전주시 덕진구 송천중앙로162  & 전라북도 전주시 덕진구 송천동1가 113-12  & 송천2동 & 35.86 & 127.1 &  7 & NA & 거치형 & N & N & NA & N & 063-281-2604 & 전라북도 전주시청 자전거정책과 & 2020-08-31\\\\\n\t4 & 4 & 자전거 보관대 & 전라북도 전주시 덕진구 송천중앙로 153 & 전라북도 전주시 덕진구 송천동1가 481-4   & 송천2동 & 35.86 & 127.1 & 10 & NA & 휀스형 & Y & N & NA & N & 063-281-2605 & 전라북도 전주시청 자전거정책과 & 2020-08-31\\\\\n\t5 & 5 & 자전거 보관대 & 전라북도 전주시 덕진구 천마산로 40    & 전라북도 전주시 덕진구 송천동1가 107-172 & 송천2동 & 35.86 & 127.1 & 10 & NA & 휀스형 & Y & N & NA & N & 063-281-2606 & 전라북도 전주시청 자전거정책과 & 2020-08-31\\\\\n\t6 & 6 & 자전거 보관대 & 전라북도 전주시 덕진구 견훤왕궁로 277 & 전라북도 전주시 덕진구 금암동 1600-6     & 금암2동 & 35.84 & 127.1 &  6 & NA & 거치형 & N & N & NA & N & 063-281-2607 & 전라북도 전주시청 자전거정책과 & 2020-08-31\\\\\n\\end{tabular}\n",
            "text/markdown": "\nA data.frame: 6 × 17\n\n| <!--/--> | 번호 &lt;int&gt; | 자전거보관소명 &lt;chr&gt; | 소재지도로명주소 &lt;chr&gt; | 소재지지번주소 &lt;chr&gt; | 행정동 &lt;chr&gt; | 위도 &lt;dbl&gt; | 경도 &lt;dbl&gt; | 보관대수 &lt;int&gt; | 설치연도 &lt;int&gt; | 설치형태 &lt;chr&gt; | 차양막설치여부 &lt;chr&gt; | 공기주입기비치여부 &lt;chr&gt; | 공기주입기유형 &lt;lgl&gt; | 수리대설치여부 &lt;chr&gt; | 관리기관전화번호 &lt;chr&gt; | 관리기관명 &lt;chr&gt; | 데이터기준일자 &lt;chr&gt; |\n|---|---|---|---|---|---|---|---|---|---|---|---|---|---|---|---|---|---|\n| 1 | 1 | 자전거 보관대 | 전라북도 전주시 덕진구 여암2길 9      | 전라북도 전주시 덕진구 반월동 248-32     | 조촌동  | 35.87 | 127.1 |  6 | NA | 거치형 | N | N | NA | N | 063-281-2602 | 전라북도 전주시청 자전거정책과 | 2020-08-31 |\n| 2 | 2 | 자전거 보관대 | 전라북도 전주시 덕진구 송천중앙로 116 | 전라북도 전주시 덕진구 송천동1가 395-28  | 송천1동 | 35.86 | 127.1 |  7 | NA | 휀스형 | Y | N | NA | N | 063-281-2603 | 전라북도 전주시청 자전거정책과 | 2020-08-31 |\n| 3 | 3 | 자전거 보관대 | 전라북도 전주시 덕진구 송천중앙로162  | 전라북도 전주시 덕진구 송천동1가 113-12  | 송천2동 | 35.86 | 127.1 |  7 | NA | 거치형 | N | N | NA | N | 063-281-2604 | 전라북도 전주시청 자전거정책과 | 2020-08-31 |\n| 4 | 4 | 자전거 보관대 | 전라북도 전주시 덕진구 송천중앙로 153 | 전라북도 전주시 덕진구 송천동1가 481-4   | 송천2동 | 35.86 | 127.1 | 10 | NA | 휀스형 | Y | N | NA | N | 063-281-2605 | 전라북도 전주시청 자전거정책과 | 2020-08-31 |\n| 5 | 5 | 자전거 보관대 | 전라북도 전주시 덕진구 천마산로 40    | 전라북도 전주시 덕진구 송천동1가 107-172 | 송천2동 | 35.86 | 127.1 | 10 | NA | 휀스형 | Y | N | NA | N | 063-281-2606 | 전라북도 전주시청 자전거정책과 | 2020-08-31 |\n| 6 | 6 | 자전거 보관대 | 전라북도 전주시 덕진구 견훤왕궁로 277 | 전라북도 전주시 덕진구 금암동 1600-6     | 금암2동 | 35.84 | 127.1 |  6 | NA | 거치형 | N | N | NA | N | 063-281-2607 | 전라북도 전주시청 자전거정책과 | 2020-08-31 |\n\n",
            "text/html": [
              "<table class=\"dataframe\">\n",
              "<caption>A data.frame: 6 × 17</caption>\n",
              "<thead>\n",
              "\t<tr><th></th><th scope=col>번호</th><th scope=col>자전거보관소명</th><th scope=col>소재지도로명주소</th><th scope=col>소재지지번주소</th><th scope=col>행정동</th><th scope=col>위도</th><th scope=col>경도</th><th scope=col>보관대수</th><th scope=col>설치연도</th><th scope=col>설치형태</th><th scope=col>차양막설치여부</th><th scope=col>공기주입기비치여부</th><th scope=col>공기주입기유형</th><th scope=col>수리대설치여부</th><th scope=col>관리기관전화번호</th><th scope=col>관리기관명</th><th scope=col>데이터기준일자</th></tr>\n",
              "\t<tr><th></th><th scope=col>&lt;int&gt;</th><th scope=col>&lt;chr&gt;</th><th scope=col>&lt;chr&gt;</th><th scope=col>&lt;chr&gt;</th><th scope=col>&lt;chr&gt;</th><th scope=col>&lt;dbl&gt;</th><th scope=col>&lt;dbl&gt;</th><th scope=col>&lt;int&gt;</th><th scope=col>&lt;int&gt;</th><th scope=col>&lt;chr&gt;</th><th scope=col>&lt;chr&gt;</th><th scope=col>&lt;chr&gt;</th><th scope=col>&lt;lgl&gt;</th><th scope=col>&lt;chr&gt;</th><th scope=col>&lt;chr&gt;</th><th scope=col>&lt;chr&gt;</th><th scope=col>&lt;chr&gt;</th></tr>\n",
              "</thead>\n",
              "<tbody>\n",
              "\t<tr><th scope=row>1</th><td>1</td><td>자전거 보관대</td><td>전라북도 전주시 덕진구 여암2길 9     </td><td>전라북도 전주시 덕진구 반월동 248-32    </td><td>조촌동 </td><td>35.87</td><td>127.1</td><td> 6</td><td>NA</td><td>거치형</td><td>N</td><td>N</td><td>NA</td><td>N</td><td>063-281-2602</td><td>전라북도 전주시청 자전거정책과</td><td>2020-08-31</td></tr>\n",
              "\t<tr><th scope=row>2</th><td>2</td><td>자전거 보관대</td><td>전라북도 전주시 덕진구 송천중앙로 116</td><td>전라북도 전주시 덕진구 송천동1가 395-28 </td><td>송천1동</td><td>35.86</td><td>127.1</td><td> 7</td><td>NA</td><td>휀스형</td><td>Y</td><td>N</td><td>NA</td><td>N</td><td>063-281-2603</td><td>전라북도 전주시청 자전거정책과</td><td>2020-08-31</td></tr>\n",
              "\t<tr><th scope=row>3</th><td>3</td><td>자전거 보관대</td><td>전라북도 전주시 덕진구 송천중앙로162 </td><td>전라북도 전주시 덕진구 송천동1가 113-12 </td><td>송천2동</td><td>35.86</td><td>127.1</td><td> 7</td><td>NA</td><td>거치형</td><td>N</td><td>N</td><td>NA</td><td>N</td><td>063-281-2604</td><td>전라북도 전주시청 자전거정책과</td><td>2020-08-31</td></tr>\n",
              "\t<tr><th scope=row>4</th><td>4</td><td>자전거 보관대</td><td>전라북도 전주시 덕진구 송천중앙로 153</td><td>전라북도 전주시 덕진구 송천동1가 481-4  </td><td>송천2동</td><td>35.86</td><td>127.1</td><td>10</td><td>NA</td><td>휀스형</td><td>Y</td><td>N</td><td>NA</td><td>N</td><td>063-281-2605</td><td>전라북도 전주시청 자전거정책과</td><td>2020-08-31</td></tr>\n",
              "\t<tr><th scope=row>5</th><td>5</td><td>자전거 보관대</td><td>전라북도 전주시 덕진구 천마산로 40   </td><td>전라북도 전주시 덕진구 송천동1가 107-172</td><td>송천2동</td><td>35.86</td><td>127.1</td><td>10</td><td>NA</td><td>휀스형</td><td>Y</td><td>N</td><td>NA</td><td>N</td><td>063-281-2606</td><td>전라북도 전주시청 자전거정책과</td><td>2020-08-31</td></tr>\n",
              "\t<tr><th scope=row>6</th><td>6</td><td>자전거 보관대</td><td>전라북도 전주시 덕진구 견훤왕궁로 277</td><td>전라북도 전주시 덕진구 금암동 1600-6    </td><td>금암2동</td><td>35.84</td><td>127.1</td><td> 6</td><td>NA</td><td>거치형</td><td>N</td><td>N</td><td>NA</td><td>N</td><td>063-281-2607</td><td>전라북도 전주시청 자전거정책과</td><td>2020-08-31</td></tr>\n",
              "</tbody>\n",
              "</table>\n"
            ]
          },
          "metadata": {
            "tags": []
          }
        }
      ]
    },
    {
      "cell_type": "markdown",
      "metadata": {
        "id": "e9kbB6Z2CvF7"
      },
      "source": [
        "▼  '번호', '행정동', '보관대수'만 뽑아서 다시 bicycle에 저장"
      ]
    },
    {
      "cell_type": "code",
      "metadata": {
        "colab": {
          "base_uri": "https://localhost:8080/"
        },
        "id": "tBv5RFp--Z5M",
        "outputId": "79b645ff-a4b1-459c-b878-70332624fcbf"
      },
      "source": [
        "bicycle <- bicycle[, c(1,5,8)]\n",
        "head(bicycle)"
      ],
      "execution_count": null,
      "outputs": [
        {
          "output_type": "display_data",
          "data": {
            "text/plain": [
              "  번호 행정동  보관대수\n",
              "1 1    조촌동   6      \n",
              "2 2    송천1동  7      \n",
              "3 3    송천2동  7      \n",
              "4 4    송천2동 10      \n",
              "5 5    송천2동 10      \n",
              "6 6    금암2동  6      "
            ],
            "text/latex": "A data.frame: 6 × 3\n\\begin{tabular}{r|lll}\n  & 번호 & 행정동 & 보관대수\\\\\n  & <int> & <chr> & <int>\\\\\n\\hline\n\t1 & 1 & 조촌동  &  6\\\\\n\t2 & 2 & 송천1동 &  7\\\\\n\t3 & 3 & 송천2동 &  7\\\\\n\t4 & 4 & 송천2동 & 10\\\\\n\t5 & 5 & 송천2동 & 10\\\\\n\t6 & 6 & 금암2동 &  6\\\\\n\\end{tabular}\n",
            "text/markdown": "\nA data.frame: 6 × 3\n\n| <!--/--> | 번호 &lt;int&gt; | 행정동 &lt;chr&gt; | 보관대수 &lt;int&gt; |\n|---|---|---|---|\n| 1 | 1 | 조촌동  |  6 |\n| 2 | 2 | 송천1동 |  7 |\n| 3 | 3 | 송천2동 |  7 |\n| 4 | 4 | 송천2동 | 10 |\n| 5 | 5 | 송천2동 | 10 |\n| 6 | 6 | 금암2동 |  6 |\n\n",
            "text/html": [
              "<table class=\"dataframe\">\n",
              "<caption>A data.frame: 6 × 3</caption>\n",
              "<thead>\n",
              "\t<tr><th></th><th scope=col>번호</th><th scope=col>행정동</th><th scope=col>보관대수</th></tr>\n",
              "\t<tr><th></th><th scope=col>&lt;int&gt;</th><th scope=col>&lt;chr&gt;</th><th scope=col>&lt;int&gt;</th></tr>\n",
              "</thead>\n",
              "<tbody>\n",
              "\t<tr><th scope=row>1</th><td>1</td><td>조촌동 </td><td> 6</td></tr>\n",
              "\t<tr><th scope=row>2</th><td>2</td><td>송천1동</td><td> 7</td></tr>\n",
              "\t<tr><th scope=row>3</th><td>3</td><td>송천2동</td><td> 7</td></tr>\n",
              "\t<tr><th scope=row>4</th><td>4</td><td>송천2동</td><td>10</td></tr>\n",
              "\t<tr><th scope=row>5</th><td>5</td><td>송천2동</td><td>10</td></tr>\n",
              "\t<tr><th scope=row>6</th><td>6</td><td>금암2동</td><td> 6</td></tr>\n",
              "</tbody>\n",
              "</table>\n"
            ]
          },
          "metadata": {
            "tags": []
          }
        }
      ]
    },
    {
      "cell_type": "markdown",
      "metadata": {
        "id": "SBfSGqZ7C7D-"
      },
      "source": [
        "▼ dplyr 패키지 이용해서 행정동을 기준으로 그룹화하고, 그 안에서 행정동별 자전거보관대의 수를 합친 결과를 출력한다."
      ]
    },
    {
      "cell_type": "code",
      "metadata": {
        "colab": {
          "base_uri": "https://localhost:8080/"
        },
        "id": "70Rk61ss-k3B",
        "outputId": "6d1946e8-b4a0-4866-d9e7-6086d0281208"
      },
      "source": [
        "bicycle <- bicycle %>% group_by(행정동) %>% summarise(자전거보관대수 = sum(보관대수))\n",
        "head(bicycle)"
      ],
      "execution_count": null,
      "outputs": [
        {
          "output_type": "display_data",
          "data": {
            "text/plain": [
              "  행정동   자전거보관대수\n",
              "1 금암1동  253           \n",
              "2 금암2동   20           \n",
              "3 노송동   138           \n",
              "4 덕진동   237           \n",
              "5 동서학동   7           \n",
              "6 삼천2동   21           "
            ],
            "text/latex": "A tibble: 6 × 2\n\\begin{tabular}{ll}\n 행정동 & 자전거보관대수\\\\\n <chr> & <int>\\\\\n\\hline\n\t 금암1동  & 253\\\\\n\t 금암2동  &  20\\\\\n\t 노송동   & 138\\\\\n\t 덕진동   & 237\\\\\n\t 동서학동 &   7\\\\\n\t 삼천2동  &  21\\\\\n\\end{tabular}\n",
            "text/markdown": "\nA tibble: 6 × 2\n\n| 행정동 &lt;chr&gt; | 자전거보관대수 &lt;int&gt; |\n|---|---|\n| 금암1동  | 253 |\n| 금암2동  |  20 |\n| 노송동   | 138 |\n| 덕진동   | 237 |\n| 동서학동 |   7 |\n| 삼천2동  |  21 |\n\n",
            "text/html": [
              "<table class=\"dataframe\">\n",
              "<caption>A tibble: 6 × 2</caption>\n",
              "<thead>\n",
              "\t<tr><th scope=col>행정동</th><th scope=col>자전거보관대수</th></tr>\n",
              "\t<tr><th scope=col>&lt;chr&gt;</th><th scope=col>&lt;int&gt;</th></tr>\n",
              "</thead>\n",
              "<tbody>\n",
              "\t<tr><td>금암1동 </td><td>253</td></tr>\n",
              "\t<tr><td>금암2동 </td><td> 20</td></tr>\n",
              "\t<tr><td>노송동  </td><td>138</td></tr>\n",
              "\t<tr><td>덕진동  </td><td>237</td></tr>\n",
              "\t<tr><td>동서학동</td><td>  7</td></tr>\n",
              "\t<tr><td>삼천2동 </td><td> 21</td></tr>\n",
              "</tbody>\n",
              "</table>\n"
            ]
          },
          "metadata": {
            "tags": []
          }
        }
      ]
    },
    {
      "cell_type": "markdown",
      "metadata": {
        "id": "T1S52-yqDEhb"
      },
      "source": [
        "1 bicycle을 데이터프레임으로 바꿔주고\n",
        "\n",
        "2 행정동을 기준으로 오름차순 정렬\n",
        "\n",
        "▼ "
      ]
    },
    {
      "cell_type": "code",
      "metadata": {
        "colab": {
          "base_uri": "https://localhost:8080/"
        },
        "id": "c3MKchk7-o3M",
        "outputId": "f1d461dd-b227-46fd-ec91-67326d499e7d"
      },
      "source": [
        "bicycle <- as.data.frame(bicycle)\n",
        "bicycle <- arrange(bicycle, bicycle$행정동)\n",
        "bicycle"
      ],
      "execution_count": null,
      "outputs": [
        {
          "output_type": "display_data",
          "data": {
            "text/plain": [
              "   행정동    자전거보관대수\n",
              "1  금암1동   253           \n",
              "2  금암2동    20           \n",
              "3  노송동    138           \n",
              "4  덕진동    237           \n",
              "5  동서학동    7           \n",
              "6  삼천2동    21           \n",
              "7  삼천3동    62           \n",
              "8  서서학동    7           \n",
              "9  서신동    126           \n",
              "10 송천1동    31           \n",
              "11 송천2동    27           \n",
              "12 완산동      7           \n",
              "13 우아2동   110           \n",
              "14 인후1동    78           \n",
              "15 인후2동    60           \n",
              "16 인후3동    20           \n",
              "17 조촌동     23           \n",
              "18 중앙동     68           \n",
              "19 중화산2동 119           \n",
              "20 진북동    125           \n",
              "21 팔복동     31           \n",
              "22 평화1동    95           \n",
              "23 평화2동    46           \n",
              "24 풍남동     24           \n",
              "25 효자1동    76           \n",
              "26 효자2동    65           \n",
              "27 효자3동    10           \n",
              "28 효자4동    42           \n",
              "29 효자5동    73           "
            ],
            "text/latex": "A data.frame: 29 × 2\n\\begin{tabular}{ll}\n 행정동 & 자전거보관대수\\\\\n <chr> & <int>\\\\\n\\hline\n\t 금암1동   & 253\\\\\n\t 금암2동   &  20\\\\\n\t 노송동    & 138\\\\\n\t 덕진동    & 237\\\\\n\t 동서학동  &   7\\\\\n\t 삼천2동   &  21\\\\\n\t 삼천3동   &  62\\\\\n\t 서서학동  &   7\\\\\n\t 서신동    & 126\\\\\n\t 송천1동   &  31\\\\\n\t 송천2동   &  27\\\\\n\t 완산동    &   7\\\\\n\t 우아2동   & 110\\\\\n\t 인후1동   &  78\\\\\n\t 인후2동   &  60\\\\\n\t 인후3동   &  20\\\\\n\t 조촌동    &  23\\\\\n\t 중앙동    &  68\\\\\n\t 중화산2동 & 119\\\\\n\t 진북동    & 125\\\\\n\t 팔복동    &  31\\\\\n\t 평화1동   &  95\\\\\n\t 평화2동   &  46\\\\\n\t 풍남동    &  24\\\\\n\t 효자1동   &  76\\\\\n\t 효자2동   &  65\\\\\n\t 효자3동   &  10\\\\\n\t 효자4동   &  42\\\\\n\t 효자5동   &  73\\\\\n\\end{tabular}\n",
            "text/markdown": "\nA data.frame: 29 × 2\n\n| 행정동 &lt;chr&gt; | 자전거보관대수 &lt;int&gt; |\n|---|---|\n| 금암1동   | 253 |\n| 금암2동   |  20 |\n| 노송동    | 138 |\n| 덕진동    | 237 |\n| 동서학동  |   7 |\n| 삼천2동   |  21 |\n| 삼천3동   |  62 |\n| 서서학동  |   7 |\n| 서신동    | 126 |\n| 송천1동   |  31 |\n| 송천2동   |  27 |\n| 완산동    |   7 |\n| 우아2동   | 110 |\n| 인후1동   |  78 |\n| 인후2동   |  60 |\n| 인후3동   |  20 |\n| 조촌동    |  23 |\n| 중앙동    |  68 |\n| 중화산2동 | 119 |\n| 진북동    | 125 |\n| 팔복동    |  31 |\n| 평화1동   |  95 |\n| 평화2동   |  46 |\n| 풍남동    |  24 |\n| 효자1동   |  76 |\n| 효자2동   |  65 |\n| 효자3동   |  10 |\n| 효자4동   |  42 |\n| 효자5동   |  73 |\n\n",
            "text/html": [
              "<table class=\"dataframe\">\n",
              "<caption>A data.frame: 29 × 2</caption>\n",
              "<thead>\n",
              "\t<tr><th scope=col>행정동</th><th scope=col>자전거보관대수</th></tr>\n",
              "\t<tr><th scope=col>&lt;chr&gt;</th><th scope=col>&lt;int&gt;</th></tr>\n",
              "</thead>\n",
              "<tbody>\n",
              "\t<tr><td>금암1동  </td><td>253</td></tr>\n",
              "\t<tr><td>금암2동  </td><td> 20</td></tr>\n",
              "\t<tr><td>노송동   </td><td>138</td></tr>\n",
              "\t<tr><td>덕진동   </td><td>237</td></tr>\n",
              "\t<tr><td>동서학동 </td><td>  7</td></tr>\n",
              "\t<tr><td>삼천2동  </td><td> 21</td></tr>\n",
              "\t<tr><td>삼천3동  </td><td> 62</td></tr>\n",
              "\t<tr><td>서서학동 </td><td>  7</td></tr>\n",
              "\t<tr><td>서신동   </td><td>126</td></tr>\n",
              "\t<tr><td>송천1동  </td><td> 31</td></tr>\n",
              "\t<tr><td>송천2동  </td><td> 27</td></tr>\n",
              "\t<tr><td>완산동   </td><td>  7</td></tr>\n",
              "\t<tr><td>우아2동  </td><td>110</td></tr>\n",
              "\t<tr><td>인후1동  </td><td> 78</td></tr>\n",
              "\t<tr><td>인후2동  </td><td> 60</td></tr>\n",
              "\t<tr><td>인후3동  </td><td> 20</td></tr>\n",
              "\t<tr><td>조촌동   </td><td> 23</td></tr>\n",
              "\t<tr><td>중앙동   </td><td> 68</td></tr>\n",
              "\t<tr><td>중화산2동</td><td>119</td></tr>\n",
              "\t<tr><td>진북동   </td><td>125</td></tr>\n",
              "\t<tr><td>팔복동   </td><td> 31</td></tr>\n",
              "\t<tr><td>평화1동  </td><td> 95</td></tr>\n",
              "\t<tr><td>평화2동  </td><td> 46</td></tr>\n",
              "\t<tr><td>풍남동   </td><td> 24</td></tr>\n",
              "\t<tr><td>효자1동  </td><td> 76</td></tr>\n",
              "\t<tr><td>효자2동  </td><td> 65</td></tr>\n",
              "\t<tr><td>효자3동  </td><td> 10</td></tr>\n",
              "\t<tr><td>효자4동  </td><td> 42</td></tr>\n",
              "\t<tr><td>효자5동  </td><td> 73</td></tr>\n",
              "</tbody>\n",
              "</table>\n"
            ]
          },
          "metadata": {
            "tags": []
          }
        }
      ]
    },
    {
      "cell_type": "markdown",
      "metadata": {
        "id": "nBA8euk1DLtv"
      },
      "source": [
        "▼ bicycle에서 누락된 행정동은 '삼천1동', '여의동', '우아1동', '중화산1동', '혁신동', '호성동' 총 6개!"
      ]
    },
    {
      "cell_type": "code",
      "metadata": {
        "colab": {
          "base_uri": "https://localhost:8080/"
        },
        "id": "c_bglu6E-uTY",
        "outputId": "7eb0b61b-23a9-4106-8fb4-dcd1bd4c0d0d"
      },
      "source": [
        "table(bicycle$행정동 %in% jjdong)\n",
        "table(jjdong %in% bicycle$행정동)\n",
        "\n",
        "\n",
        "jjdong[jjdong %in% bicycle$행정동 == FALSE]"
      ],
      "execution_count": null,
      "outputs": [
        {
          "output_type": "display_data",
          "data": {
            "text/plain": [
              "\n",
              "TRUE \n",
              "  29 "
            ]
          },
          "metadata": {
            "tags": []
          }
        },
        {
          "output_type": "display_data",
          "data": {
            "text/plain": [
              "\n",
              "FALSE  TRUE \n",
              "    6    29 "
            ]
          },
          "metadata": {
            "tags": []
          }
        },
        {
          "output_type": "display_data",
          "data": {
            "text/plain": [
              "[1] \"삼천1동\"   \"여의동\"    \"우아1동\"   \"중화산1동\" \"혁신동\"    \"호성동\"   "
            ],
            "text/latex": "\\begin{enumerate*}\n\\item '삼천1동'\n\\item '여의동'\n\\item '우아1동'\n\\item '중화산1동'\n\\item '혁신동'\n\\item '호성동'\n\\end{enumerate*}\n",
            "text/markdown": "1. '삼천1동'\n2. '여의동'\n3. '우아1동'\n4. '중화산1동'\n5. '혁신동'\n6. '호성동'\n\n\n",
            "text/html": [
              "<style>\n",
              ".list-inline {list-style: none; margin:0; padding: 0}\n",
              ".list-inline>li {display: inline-block}\n",
              ".list-inline>li:not(:last-child)::after {content: \"\\00b7\"; padding: 0 .5ex}\n",
              "</style>\n",
              "<ol class=list-inline><li>'삼천1동'</li><li>'여의동'</li><li>'우아1동'</li><li>'중화산1동'</li><li>'혁신동'</li><li>'호성동'</li></ol>\n"
            ]
          },
          "metadata": {
            "tags": []
          }
        }
      ]
    },
    {
      "cell_type": "markdown",
      "metadata": {
        "id": "Jhe75DntDcEl"
      },
      "source": [
        "▼ jjdong[jjdong %in% bicycle$행정동 == FALSE] 을 '행정동'으로, 이에 해당하는 자전거보관대 개수의 중앙값을 '자전거보관대수'로 저장하는 데이터프레임 add를 만든다.\n",
        "\n",
        "** NA로 설정하면 상관분석을 할 수가 없어서 일단 중앙값으로 설정해놓음"
      ]
    },
    {
      "cell_type": "code",
      "metadata": {
        "colab": {
          "base_uri": "https://localhost:8080/"
        },
        "id": "m1kNoXbo-7cG",
        "outputId": "a0f0c249-4ebe-48e2-b597-6853206e8f3f"
      },
      "source": [
        "add <- data.frame(행정동 = jjdong[jjdong %in% bicycle$행정동 == FALSE], \n",
        "                     자전거보관대수 = rep(median(bicycle$자전거보관대수), times = length(jjdong[jjdong %in% bicycle$행정동 == FALSE])))\n",
        "head(add)"
      ],
      "execution_count": null,
      "outputs": [
        {
          "output_type": "display_data",
          "data": {
            "text/plain": [
              "  행정동    자전거보관대수\n",
              "1 삼천1동   60            \n",
              "2 여의동    60            \n",
              "3 우아1동   60            \n",
              "4 중화산1동 60            \n",
              "5 혁신동    60            \n",
              "6 호성동    60            "
            ],
            "text/latex": "A data.frame: 6 × 2\n\\begin{tabular}{r|ll}\n  & 행정동 & 자전거보관대수\\\\\n  & <chr> & <int>\\\\\n\\hline\n\t1 & 삼천1동   & 60\\\\\n\t2 & 여의동    & 60\\\\\n\t3 & 우아1동   & 60\\\\\n\t4 & 중화산1동 & 60\\\\\n\t5 & 혁신동    & 60\\\\\n\t6 & 호성동    & 60\\\\\n\\end{tabular}\n",
            "text/markdown": "\nA data.frame: 6 × 2\n\n| <!--/--> | 행정동 &lt;chr&gt; | 자전거보관대수 &lt;int&gt; |\n|---|---|---|\n| 1 | 삼천1동   | 60 |\n| 2 | 여의동    | 60 |\n| 3 | 우아1동   | 60 |\n| 4 | 중화산1동 | 60 |\n| 5 | 혁신동    | 60 |\n| 6 | 호성동    | 60 |\n\n",
            "text/html": [
              "<table class=\"dataframe\">\n",
              "<caption>A data.frame: 6 × 2</caption>\n",
              "<thead>\n",
              "\t<tr><th></th><th scope=col>행정동</th><th scope=col>자전거보관대수</th></tr>\n",
              "\t<tr><th></th><th scope=col>&lt;chr&gt;</th><th scope=col>&lt;int&gt;</th></tr>\n",
              "</thead>\n",
              "<tbody>\n",
              "\t<tr><th scope=row>1</th><td>삼천1동  </td><td>60</td></tr>\n",
              "\t<tr><th scope=row>2</th><td>여의동   </td><td>60</td></tr>\n",
              "\t<tr><th scope=row>3</th><td>우아1동  </td><td>60</td></tr>\n",
              "\t<tr><th scope=row>4</th><td>중화산1동</td><td>60</td></tr>\n",
              "\t<tr><th scope=row>5</th><td>혁신동   </td><td>60</td></tr>\n",
              "\t<tr><th scope=row>6</th><td>호성동   </td><td>60</td></tr>\n",
              "</tbody>\n",
              "</table>\n"
            ]
          },
          "metadata": {
            "tags": []
          }
        }
      ]
    },
    {
      "cell_type": "markdown",
      "metadata": {
        "id": "yzJRdqKeDqrx"
      },
      "source": [
        "1 bicycle과 add를 행을 기준으로 합쳐서 다시 bicycle에 저장\n",
        "\n",
        "2 행정동을 기준으로 오름차순 정렬\n",
        "\n",
        "▼"
      ]
    },
    {
      "cell_type": "code",
      "metadata": {
        "colab": {
          "base_uri": "https://localhost:8080/"
        },
        "id": "eFHe37hg--73",
        "outputId": "5fa8aa5c-4e11-4a77-81fd-78304a42f9d9"
      },
      "source": [
        "bicycle <- rbind(bicycle, add)\n",
        "bicycle <- arrange(bicycle, bicycle$행정동)\n",
        "bicycle"
      ],
      "execution_count": null,
      "outputs": [
        {
          "output_type": "display_data",
          "data": {
            "text/plain": [
              "   행정동    자전거보관대수\n",
              "1  금암1동   253           \n",
              "2  금암2동    20           \n",
              "3  노송동    138           \n",
              "4  덕진동    237           \n",
              "5  동서학동    7           \n",
              "6  삼천1동    60           \n",
              "7  삼천2동    21           \n",
              "8  삼천3동    62           \n",
              "9  서서학동    7           \n",
              "10 서신동    126           \n",
              "11 송천1동    31           \n",
              "12 송천2동    27           \n",
              "13 여의동     60           \n",
              "14 완산동      7           \n",
              "15 우아1동    60           \n",
              "16 우아2동   110           \n",
              "17 인후1동    78           \n",
              "18 인후2동    60           \n",
              "19 인후3동    20           \n",
              "20 조촌동     23           \n",
              "21 중앙동     68           \n",
              "22 중화산1동  60           \n",
              "23 중화산2동 119           \n",
              "24 진북동    125           \n",
              "25 팔복동     31           \n",
              "26 평화1동    95           \n",
              "27 평화2동    46           \n",
              "28 풍남동     24           \n",
              "29 혁신동     60           \n",
              "30 호성동     60           \n",
              "31 효자1동    76           \n",
              "32 효자2동    65           \n",
              "33 효자3동    10           \n",
              "34 효자4동    42           \n",
              "35 효자5동    73           "
            ],
            "text/latex": "A data.frame: 35 × 2\n\\begin{tabular}{ll}\n 행정동 & 자전거보관대수\\\\\n <chr> & <int>\\\\\n\\hline\n\t 금암1동   & 253\\\\\n\t 금암2동   &  20\\\\\n\t 노송동    & 138\\\\\n\t 덕진동    & 237\\\\\n\t 동서학동  &   7\\\\\n\t 삼천1동   &  60\\\\\n\t 삼천2동   &  21\\\\\n\t 삼천3동   &  62\\\\\n\t 서서학동  &   7\\\\\n\t 서신동    & 126\\\\\n\t 송천1동   &  31\\\\\n\t 송천2동   &  27\\\\\n\t 여의동    &  60\\\\\n\t 완산동    &   7\\\\\n\t 우아1동   &  60\\\\\n\t 우아2동   & 110\\\\\n\t 인후1동   &  78\\\\\n\t 인후2동   &  60\\\\\n\t 인후3동   &  20\\\\\n\t 조촌동    &  23\\\\\n\t 중앙동    &  68\\\\\n\t 중화산1동 &  60\\\\\n\t 중화산2동 & 119\\\\\n\t 진북동    & 125\\\\\n\t 팔복동    &  31\\\\\n\t 평화1동   &  95\\\\\n\t 평화2동   &  46\\\\\n\t 풍남동    &  24\\\\\n\t 혁신동    &  60\\\\\n\t 호성동    &  60\\\\\n\t 효자1동   &  76\\\\\n\t 효자2동   &  65\\\\\n\t 효자3동   &  10\\\\\n\t 효자4동   &  42\\\\\n\t 효자5동   &  73\\\\\n\\end{tabular}\n",
            "text/markdown": "\nA data.frame: 35 × 2\n\n| 행정동 &lt;chr&gt; | 자전거보관대수 &lt;int&gt; |\n|---|---|\n| 금암1동   | 253 |\n| 금암2동   |  20 |\n| 노송동    | 138 |\n| 덕진동    | 237 |\n| 동서학동  |   7 |\n| 삼천1동   |  60 |\n| 삼천2동   |  21 |\n| 삼천3동   |  62 |\n| 서서학동  |   7 |\n| 서신동    | 126 |\n| 송천1동   |  31 |\n| 송천2동   |  27 |\n| 여의동    |  60 |\n| 완산동    |   7 |\n| 우아1동   |  60 |\n| 우아2동   | 110 |\n| 인후1동   |  78 |\n| 인후2동   |  60 |\n| 인후3동   |  20 |\n| 조촌동    |  23 |\n| 중앙동    |  68 |\n| 중화산1동 |  60 |\n| 중화산2동 | 119 |\n| 진북동    | 125 |\n| 팔복동    |  31 |\n| 평화1동   |  95 |\n| 평화2동   |  46 |\n| 풍남동    |  24 |\n| 혁신동    |  60 |\n| 호성동    |  60 |\n| 효자1동   |  76 |\n| 효자2동   |  65 |\n| 효자3동   |  10 |\n| 효자4동   |  42 |\n| 효자5동   |  73 |\n\n",
            "text/html": [
              "<table class=\"dataframe\">\n",
              "<caption>A data.frame: 35 × 2</caption>\n",
              "<thead>\n",
              "\t<tr><th scope=col>행정동</th><th scope=col>자전거보관대수</th></tr>\n",
              "\t<tr><th scope=col>&lt;chr&gt;</th><th scope=col>&lt;int&gt;</th></tr>\n",
              "</thead>\n",
              "<tbody>\n",
              "\t<tr><td>금암1동  </td><td>253</td></tr>\n",
              "\t<tr><td>금암2동  </td><td> 20</td></tr>\n",
              "\t<tr><td>노송동   </td><td>138</td></tr>\n",
              "\t<tr><td>덕진동   </td><td>237</td></tr>\n",
              "\t<tr><td>동서학동 </td><td>  7</td></tr>\n",
              "\t<tr><td>삼천1동  </td><td> 60</td></tr>\n",
              "\t<tr><td>삼천2동  </td><td> 21</td></tr>\n",
              "\t<tr><td>삼천3동  </td><td> 62</td></tr>\n",
              "\t<tr><td>서서학동 </td><td>  7</td></tr>\n",
              "\t<tr><td>서신동   </td><td>126</td></tr>\n",
              "\t<tr><td>송천1동  </td><td> 31</td></tr>\n",
              "\t<tr><td>송천2동  </td><td> 27</td></tr>\n",
              "\t<tr><td>여의동   </td><td> 60</td></tr>\n",
              "\t<tr><td>완산동   </td><td>  7</td></tr>\n",
              "\t<tr><td>우아1동  </td><td> 60</td></tr>\n",
              "\t<tr><td>우아2동  </td><td>110</td></tr>\n",
              "\t<tr><td>인후1동  </td><td> 78</td></tr>\n",
              "\t<tr><td>인후2동  </td><td> 60</td></tr>\n",
              "\t<tr><td>인후3동  </td><td> 20</td></tr>\n",
              "\t<tr><td>조촌동   </td><td> 23</td></tr>\n",
              "\t<tr><td>중앙동   </td><td> 68</td></tr>\n",
              "\t<tr><td>중화산1동</td><td> 60</td></tr>\n",
              "\t<tr><td>중화산2동</td><td>119</td></tr>\n",
              "\t<tr><td>진북동   </td><td>125</td></tr>\n",
              "\t<tr><td>팔복동   </td><td> 31</td></tr>\n",
              "\t<tr><td>평화1동  </td><td> 95</td></tr>\n",
              "\t<tr><td>평화2동  </td><td> 46</td></tr>\n",
              "\t<tr><td>풍남동   </td><td> 24</td></tr>\n",
              "\t<tr><td>혁신동   </td><td> 60</td></tr>\n",
              "\t<tr><td>호성동   </td><td> 60</td></tr>\n",
              "\t<tr><td>효자1동  </td><td> 76</td></tr>\n",
              "\t<tr><td>효자2동  </td><td> 65</td></tr>\n",
              "\t<tr><td>효자3동  </td><td> 10</td></tr>\n",
              "\t<tr><td>효자4동  </td><td> 42</td></tr>\n",
              "\t<tr><td>효자5동  </td><td> 73</td></tr>\n",
              "</tbody>\n",
              "</table>\n"
            ]
          },
          "metadata": {
            "tags": []
          }
        }
      ]
    },
    {
      "cell_type": "markdown",
      "metadata": {
        "id": "PY76dnQXD7fJ"
      },
      "source": [
        "## 대규모점포 수"
      ]
    },
    {
      "cell_type": "code",
      "metadata": {
        "colab": {
          "base_uri": "https://localhost:8080/"
        },
        "id": "pNLuyeE4_CCN",
        "outputId": "7b981fbe-3f6f-4037-ced3-dc7965a7ae6c"
      },
      "source": [
        "str(bigstore)\n",
        "head(bigstore)"
      ],
      "execution_count": null,
      "outputs": [
        {
          "output_type": "stream",
          "text": [
            "'data.frame':\t43 obs. of  5 variables:\n",
            " $ 분류   : chr  \"대규모점포\" \"대규모점포\" \"대규모점포\" \"대규모점포\" ...\n",
            " $ store  : chr  \"롯데백화점 전주점\" \"E-마트\" \"홈플러스 완산점\" \"홈플러스 전주점\" ...\n",
            " $ address: chr  \"전주시 완산구 온고을로 2\" \"전주시 완산구 당산로 111\" \"전주시 완산구 기린대로 170\" \"전주시 덕진구 백제대로 771\" ...\n",
            " $ 행정동 : chr  \"서신동\" \"서신동\" \"노송동\" \"우아1동\" ...\n",
            " $ 면적   : int  28179 6571 13121 8471 22657 10430 10387 6115 7721 21317 ...\n"
          ],
          "name": "stdout"
        },
        {
          "output_type": "display_data",
          "data": {
            "text/plain": [
              "  분류       store             address                    행정동  면적 \n",
              "1 대규모점포 롯데백화점 전주점 전주시 완산구 온고을로 2   서신동  28179\n",
              "2 대규모점포 E-마트            전주시 완산구 당산로 111   서신동   6571\n",
              "3 대규모점포 홈플러스 완산점   전주시 완산구 기린대로 170 노송동  13121\n",
              "4 대규모점포 홈플러스 전주점   전주시 덕진구 백제대로 771 우아1동  8471\n",
              "5 대규모점포 홈플러스 효자점   전주시 완산구 용머리로 31  효자3동 22657\n",
              "6 대규모점포 롯데마트 전주점   전주시 완산구 우전로 240   효자4동 10430"
            ],
            "text/latex": "A data.frame: 6 × 5\n\\begin{tabular}{r|lllll}\n  & 분류 & store & address & 행정동 & 면적\\\\\n  & <chr> & <chr> & <chr> & <chr> & <int>\\\\\n\\hline\n\t1 & 대규모점포 & 롯데백화점 전주점 & 전주시 완산구 온고을로 2   & 서신동  & 28179\\\\\n\t2 & 대규모점포 & E-마트            & 전주시 완산구 당산로 111   & 서신동  &  6571\\\\\n\t3 & 대규모점포 & 홈플러스 완산점   & 전주시 완산구 기린대로 170 & 노송동  & 13121\\\\\n\t4 & 대규모점포 & 홈플러스 전주점   & 전주시 덕진구 백제대로 771 & 우아1동 &  8471\\\\\n\t5 & 대규모점포 & 홈플러스 효자점   & 전주시 완산구 용머리로 31  & 효자3동 & 22657\\\\\n\t6 & 대규모점포 & 롯데마트 전주점   & 전주시 완산구 우전로 240   & 효자4동 & 10430\\\\\n\\end{tabular}\n",
            "text/markdown": "\nA data.frame: 6 × 5\n\n| <!--/--> | 분류 &lt;chr&gt; | store &lt;chr&gt; | address &lt;chr&gt; | 행정동 &lt;chr&gt; | 면적 &lt;int&gt; |\n|---|---|---|---|---|---|\n| 1 | 대규모점포 | 롯데백화점 전주점 | 전주시 완산구 온고을로 2   | 서신동  | 28179 |\n| 2 | 대규모점포 | E-마트            | 전주시 완산구 당산로 111   | 서신동  |  6571 |\n| 3 | 대규모점포 | 홈플러스 완산점   | 전주시 완산구 기린대로 170 | 노송동  | 13121 |\n| 4 | 대규모점포 | 홈플러스 전주점   | 전주시 덕진구 백제대로 771 | 우아1동 |  8471 |\n| 5 | 대규모점포 | 홈플러스 효자점   | 전주시 완산구 용머리로 31  | 효자3동 | 22657 |\n| 6 | 대규모점포 | 롯데마트 전주점   | 전주시 완산구 우전로 240   | 효자4동 | 10430 |\n\n",
            "text/html": [
              "<table class=\"dataframe\">\n",
              "<caption>A data.frame: 6 × 5</caption>\n",
              "<thead>\n",
              "\t<tr><th></th><th scope=col>분류</th><th scope=col>store</th><th scope=col>address</th><th scope=col>행정동</th><th scope=col>면적</th></tr>\n",
              "\t<tr><th></th><th scope=col>&lt;chr&gt;</th><th scope=col>&lt;chr&gt;</th><th scope=col>&lt;chr&gt;</th><th scope=col>&lt;chr&gt;</th><th scope=col>&lt;int&gt;</th></tr>\n",
              "</thead>\n",
              "<tbody>\n",
              "\t<tr><th scope=row>1</th><td>대규모점포</td><td>롯데백화점 전주점</td><td>전주시 완산구 온고을로 2  </td><td>서신동 </td><td>28179</td></tr>\n",
              "\t<tr><th scope=row>2</th><td>대규모점포</td><td>E-마트           </td><td>전주시 완산구 당산로 111  </td><td>서신동 </td><td> 6571</td></tr>\n",
              "\t<tr><th scope=row>3</th><td>대규모점포</td><td>홈플러스 완산점  </td><td>전주시 완산구 기린대로 170</td><td>노송동 </td><td>13121</td></tr>\n",
              "\t<tr><th scope=row>4</th><td>대규모점포</td><td>홈플러스 전주점  </td><td>전주시 덕진구 백제대로 771</td><td>우아1동</td><td> 8471</td></tr>\n",
              "\t<tr><th scope=row>5</th><td>대규모점포</td><td>홈플러스 효자점  </td><td>전주시 완산구 용머리로 31 </td><td>효자3동</td><td>22657</td></tr>\n",
              "\t<tr><th scope=row>6</th><td>대규모점포</td><td>롯데마트 전주점  </td><td>전주시 완산구 우전로 240  </td><td>효자4동</td><td>10430</td></tr>\n",
              "</tbody>\n",
              "</table>\n"
            ]
          },
          "metadata": {
            "tags": []
          }
        }
      ]
    },
    {
      "cell_type": "code",
      "metadata": {
        "colab": {
          "base_uri": "https://localhost:8080/"
        },
        "id": "U-78S9gu_F65",
        "outputId": "3d295af7-0a08-4851-f7df-09e82509cc87"
      },
      "source": [
        "bigstore <- bigstore[,c(2,4,5)]\n",
        "bigstore$count <- rep(1,nrow(bigstore))\n",
        "head(bigstore)"
      ],
      "execution_count": null,
      "outputs": [
        {
          "output_type": "display_data",
          "data": {
            "text/plain": [
              "  store             행정동  면적  count\n",
              "1 롯데백화점 전주점 서신동  28179 1    \n",
              "2 E-마트            서신동   6571 1    \n",
              "3 홈플러스 완산점   노송동  13121 1    \n",
              "4 홈플러스 전주점   우아1동  8471 1    \n",
              "5 홈플러스 효자점   효자3동 22657 1    \n",
              "6 롯데마트 전주점   효자4동 10430 1    "
            ],
            "text/latex": "A data.frame: 6 × 4\n\\begin{tabular}{r|llll}\n  & store & 행정동 & 면적 & count\\\\\n  & <chr> & <chr> & <int> & <dbl>\\\\\n\\hline\n\t1 & 롯데백화점 전주점 & 서신동  & 28179 & 1\\\\\n\t2 & E-마트            & 서신동  &  6571 & 1\\\\\n\t3 & 홈플러스 완산점   & 노송동  & 13121 & 1\\\\\n\t4 & 홈플러스 전주점   & 우아1동 &  8471 & 1\\\\\n\t5 & 홈플러스 효자점   & 효자3동 & 22657 & 1\\\\\n\t6 & 롯데마트 전주점   & 효자4동 & 10430 & 1\\\\\n\\end{tabular}\n",
            "text/markdown": "\nA data.frame: 6 × 4\n\n| <!--/--> | store &lt;chr&gt; | 행정동 &lt;chr&gt; | 면적 &lt;int&gt; | count &lt;dbl&gt; |\n|---|---|---|---|---|\n| 1 | 롯데백화점 전주점 | 서신동  | 28179 | 1 |\n| 2 | E-마트            | 서신동  |  6571 | 1 |\n| 3 | 홈플러스 완산점   | 노송동  | 13121 | 1 |\n| 4 | 홈플러스 전주점   | 우아1동 |  8471 | 1 |\n| 5 | 홈플러스 효자점   | 효자3동 | 22657 | 1 |\n| 6 | 롯데마트 전주점   | 효자4동 | 10430 | 1 |\n\n",
            "text/html": [
              "<table class=\"dataframe\">\n",
              "<caption>A data.frame: 6 × 4</caption>\n",
              "<thead>\n",
              "\t<tr><th></th><th scope=col>store</th><th scope=col>행정동</th><th scope=col>면적</th><th scope=col>count</th></tr>\n",
              "\t<tr><th></th><th scope=col>&lt;chr&gt;</th><th scope=col>&lt;chr&gt;</th><th scope=col>&lt;int&gt;</th><th scope=col>&lt;dbl&gt;</th></tr>\n",
              "</thead>\n",
              "<tbody>\n",
              "\t<tr><th scope=row>1</th><td>롯데백화점 전주점</td><td>서신동 </td><td>28179</td><td>1</td></tr>\n",
              "\t<tr><th scope=row>2</th><td>E-마트           </td><td>서신동 </td><td> 6571</td><td>1</td></tr>\n",
              "\t<tr><th scope=row>3</th><td>홈플러스 완산점  </td><td>노송동 </td><td>13121</td><td>1</td></tr>\n",
              "\t<tr><th scope=row>4</th><td>홈플러스 전주점  </td><td>우아1동</td><td> 8471</td><td>1</td></tr>\n",
              "\t<tr><th scope=row>5</th><td>홈플러스 효자점  </td><td>효자3동</td><td>22657</td><td>1</td></tr>\n",
              "\t<tr><th scope=row>6</th><td>롯데마트 전주점  </td><td>효자4동</td><td>10430</td><td>1</td></tr>\n",
              "</tbody>\n",
              "</table>\n"
            ]
          },
          "metadata": {
            "tags": []
          }
        }
      ]
    },
    {
      "cell_type": "code",
      "metadata": {
        "colab": {
          "base_uri": "https://localhost:8080/"
        },
        "id": "-EMLTcPh_KyP",
        "outputId": "4c77c53c-cafe-452a-898f-fa4aedd2c0a6"
      },
      "source": [
        "bigstore <- bigstore %>% group_by(행정동) %>% summarise(대규모점포수 = sum(count))\n",
        "bigstore <- as.data.frame(bigstore)\n",
        "bigstore <- arrange(bigstore, bigstore$행정동)\n",
        "head(bigstore)"
      ],
      "execution_count": null,
      "outputs": [
        {
          "output_type": "display_data",
          "data": {
            "text/plain": [
              "  행정동  대규모점포수\n",
              "1 금암1동 1           \n",
              "2 노송동  2           \n",
              "3 덕진동  1           \n",
              "4 삼천3동 2           \n",
              "5 서신동  4           \n",
              "6 송천1동 3           "
            ],
            "text/latex": "A data.frame: 6 × 2\n\\begin{tabular}{r|ll}\n  & 행정동 & 대규모점포수\\\\\n  & <chr> & <dbl>\\\\\n\\hline\n\t1 & 금암1동 & 1\\\\\n\t2 & 노송동  & 2\\\\\n\t3 & 덕진동  & 1\\\\\n\t4 & 삼천3동 & 2\\\\\n\t5 & 서신동  & 4\\\\\n\t6 & 송천1동 & 3\\\\\n\\end{tabular}\n",
            "text/markdown": "\nA data.frame: 6 × 2\n\n| <!--/--> | 행정동 &lt;chr&gt; | 대규모점포수 &lt;dbl&gt; |\n|---|---|---|\n| 1 | 금암1동 | 1 |\n| 2 | 노송동  | 2 |\n| 3 | 덕진동  | 1 |\n| 4 | 삼천3동 | 2 |\n| 5 | 서신동  | 4 |\n| 6 | 송천1동 | 3 |\n\n",
            "text/html": [
              "<table class=\"dataframe\">\n",
              "<caption>A data.frame: 6 × 2</caption>\n",
              "<thead>\n",
              "\t<tr><th></th><th scope=col>행정동</th><th scope=col>대규모점포수</th></tr>\n",
              "\t<tr><th></th><th scope=col>&lt;chr&gt;</th><th scope=col>&lt;dbl&gt;</th></tr>\n",
              "</thead>\n",
              "<tbody>\n",
              "\t<tr><th scope=row>1</th><td>금암1동</td><td>1</td></tr>\n",
              "\t<tr><th scope=row>2</th><td>노송동 </td><td>2</td></tr>\n",
              "\t<tr><th scope=row>3</th><td>덕진동 </td><td>1</td></tr>\n",
              "\t<tr><th scope=row>4</th><td>삼천3동</td><td>2</td></tr>\n",
              "\t<tr><th scope=row>5</th><td>서신동 </td><td>4</td></tr>\n",
              "\t<tr><th scope=row>6</th><td>송천1동</td><td>3</td></tr>\n",
              "</tbody>\n",
              "</table>\n"
            ]
          },
          "metadata": {
            "tags": []
          }
        }
      ]
    },
    {
      "cell_type": "code",
      "metadata": {
        "colab": {
          "base_uri": "https://localhost:8080/"
        },
        "id": "5rxUoEBS_Ofj",
        "outputId": "cbb13cdf-0fc2-425d-cc30-309a32835404"
      },
      "source": [
        "table(bigstore$행정동 %in% jjdong)\n",
        "table(jjdong %in% bigstore$행정동)\n",
        "\n",
        "\n",
        "jjdong[jjdong %in% bigstore$행정동 == FALSE]"
      ],
      "execution_count": null,
      "outputs": [
        {
          "output_type": "display_data",
          "data": {
            "text/plain": [
              "\n",
              "TRUE \n",
              "  19 "
            ]
          },
          "metadata": {
            "tags": []
          }
        },
        {
          "output_type": "display_data",
          "data": {
            "text/plain": [
              "\n",
              "FALSE  TRUE \n",
              "   16    19 "
            ]
          },
          "metadata": {
            "tags": []
          }
        },
        {
          "output_type": "display_data",
          "data": {
            "text/plain": [
              " [1] \"금암2동\"   \"동서학동\"  \"삼천1동\"   \"삼천2동\"   \"서서학동\"  \"송천2동\"  \n",
              " [7] \"완산동\"    \"우아2동\"   \"조촌동\"    \"중화산2동\" \"진북동\"    \"팔복동\"   \n",
              "[13] \"평화1동\"   \"혁신동\"    \"효자2동\"   \"효자5동\"  "
            ],
            "text/latex": "\\begin{enumerate*}\n\\item '금암2동'\n\\item '동서학동'\n\\item '삼천1동'\n\\item '삼천2동'\n\\item '서서학동'\n\\item '송천2동'\n\\item '완산동'\n\\item '우아2동'\n\\item '조촌동'\n\\item '중화산2동'\n\\item '진북동'\n\\item '팔복동'\n\\item '평화1동'\n\\item '혁신동'\n\\item '효자2동'\n\\item '효자5동'\n\\end{enumerate*}\n",
            "text/markdown": "1. '금암2동'\n2. '동서학동'\n3. '삼천1동'\n4. '삼천2동'\n5. '서서학동'\n6. '송천2동'\n7. '완산동'\n8. '우아2동'\n9. '조촌동'\n10. '중화산2동'\n11. '진북동'\n12. '팔복동'\n13. '평화1동'\n14. '혁신동'\n15. '효자2동'\n16. '효자5동'\n\n\n",
            "text/html": [
              "<style>\n",
              ".list-inline {list-style: none; margin:0; padding: 0}\n",
              ".list-inline>li {display: inline-block}\n",
              ".list-inline>li:not(:last-child)::after {content: \"\\00b7\"; padding: 0 .5ex}\n",
              "</style>\n",
              "<ol class=list-inline><li>'금암2동'</li><li>'동서학동'</li><li>'삼천1동'</li><li>'삼천2동'</li><li>'서서학동'</li><li>'송천2동'</li><li>'완산동'</li><li>'우아2동'</li><li>'조촌동'</li><li>'중화산2동'</li><li>'진북동'</li><li>'팔복동'</li><li>'평화1동'</li><li>'혁신동'</li><li>'효자2동'</li><li>'효자5동'</li></ol>\n"
            ]
          },
          "metadata": {
            "tags": []
          }
        }
      ]
    },
    {
      "cell_type": "code",
      "metadata": {
        "colab": {
          "base_uri": "https://localhost:8080/"
        },
        "id": "qwX1gyfk_RwO",
        "outputId": "267b327b-d8cb-4911-c043-9c03834e89f1"
      },
      "source": [
        "add <- data.frame(행정동 = jjdong[jjdong %in% bigstore$행정동 == FALSE], \n",
        "                  대규모점포수 = rep(0, length(jjdong[jjdong %in% bigstore$행정동 == FALSE])))\n",
        "bigstore <- rbind(bigstore, add)\n",
        "bigstore <- arrange(bigstore, bigstore$행정동)\n",
        "bigstore"
      ],
      "execution_count": null,
      "outputs": [
        {
          "output_type": "display_data",
          "data": {
            "text/plain": [
              "   행정동    대규모점포수\n",
              "1  금암1동   1           \n",
              "2  금암2동   0           \n",
              "3  노송동    2           \n",
              "4  덕진동    1           \n",
              "5  동서학동  0           \n",
              "6  삼천1동   0           \n",
              "7  삼천2동   0           \n",
              "8  삼천3동   2           \n",
              "9  서서학동  0           \n",
              "10 서신동    4           \n",
              "11 송천1동   3           \n",
              "12 송천2동   0           \n",
              "13 여의동    3           \n",
              "14 완산동    0           \n",
              "15 우아1동   1           \n",
              "16 우아2동   0           \n",
              "17 인후1동   1           \n",
              "18 인후2동   1           \n",
              "19 인후3동   1           \n",
              "20 조촌동    0           \n",
              "21 중앙동    4           \n",
              "22 중화산1동 1           \n",
              "23 중화산2동 0           \n",
              "24 진북동    0           \n",
              "25 팔복동    0           \n",
              "26 평화1동   0           \n",
              "27 평화2동   3           \n",
              "28 풍남동    2           \n",
              "29 혁신동    0           \n",
              "30 호성동    1           \n",
              "31 효자1동   2           \n",
              "32 효자2동   0           \n",
              "33 효자3동   2           \n",
              "34 효자4동   8           \n",
              "35 효자5동   0           "
            ],
            "text/latex": "A data.frame: 35 × 2\n\\begin{tabular}{ll}\n 행정동 & 대규모점포수\\\\\n <chr> & <dbl>\\\\\n\\hline\n\t 금암1동   & 1\\\\\n\t 금암2동   & 0\\\\\n\t 노송동    & 2\\\\\n\t 덕진동    & 1\\\\\n\t 동서학동  & 0\\\\\n\t 삼천1동   & 0\\\\\n\t 삼천2동   & 0\\\\\n\t 삼천3동   & 2\\\\\n\t 서서학동  & 0\\\\\n\t 서신동    & 4\\\\\n\t 송천1동   & 3\\\\\n\t 송천2동   & 0\\\\\n\t 여의동    & 3\\\\\n\t 완산동    & 0\\\\\n\t 우아1동   & 1\\\\\n\t 우아2동   & 0\\\\\n\t 인후1동   & 1\\\\\n\t 인후2동   & 1\\\\\n\t 인후3동   & 1\\\\\n\t 조촌동    & 0\\\\\n\t 중앙동    & 4\\\\\n\t 중화산1동 & 1\\\\\n\t 중화산2동 & 0\\\\\n\t 진북동    & 0\\\\\n\t 팔복동    & 0\\\\\n\t 평화1동   & 0\\\\\n\t 평화2동   & 3\\\\\n\t 풍남동    & 2\\\\\n\t 혁신동    & 0\\\\\n\t 호성동    & 1\\\\\n\t 효자1동   & 2\\\\\n\t 효자2동   & 0\\\\\n\t 효자3동   & 2\\\\\n\t 효자4동   & 8\\\\\n\t 효자5동   & 0\\\\\n\\end{tabular}\n",
            "text/markdown": "\nA data.frame: 35 × 2\n\n| 행정동 &lt;chr&gt; | 대규모점포수 &lt;dbl&gt; |\n|---|---|\n| 금암1동   | 1 |\n| 금암2동   | 0 |\n| 노송동    | 2 |\n| 덕진동    | 1 |\n| 동서학동  | 0 |\n| 삼천1동   | 0 |\n| 삼천2동   | 0 |\n| 삼천3동   | 2 |\n| 서서학동  | 0 |\n| 서신동    | 4 |\n| 송천1동   | 3 |\n| 송천2동   | 0 |\n| 여의동    | 3 |\n| 완산동    | 0 |\n| 우아1동   | 1 |\n| 우아2동   | 0 |\n| 인후1동   | 1 |\n| 인후2동   | 1 |\n| 인후3동   | 1 |\n| 조촌동    | 0 |\n| 중앙동    | 4 |\n| 중화산1동 | 1 |\n| 중화산2동 | 0 |\n| 진북동    | 0 |\n| 팔복동    | 0 |\n| 평화1동   | 0 |\n| 평화2동   | 3 |\n| 풍남동    | 2 |\n| 혁신동    | 0 |\n| 호성동    | 1 |\n| 효자1동   | 2 |\n| 효자2동   | 0 |\n| 효자3동   | 2 |\n| 효자4동   | 8 |\n| 효자5동   | 0 |\n\n",
            "text/html": [
              "<table class=\"dataframe\">\n",
              "<caption>A data.frame: 35 × 2</caption>\n",
              "<thead>\n",
              "\t<tr><th scope=col>행정동</th><th scope=col>대규모점포수</th></tr>\n",
              "\t<tr><th scope=col>&lt;chr&gt;</th><th scope=col>&lt;dbl&gt;</th></tr>\n",
              "</thead>\n",
              "<tbody>\n",
              "\t<tr><td>금암1동  </td><td>1</td></tr>\n",
              "\t<tr><td>금암2동  </td><td>0</td></tr>\n",
              "\t<tr><td>노송동   </td><td>2</td></tr>\n",
              "\t<tr><td>덕진동   </td><td>1</td></tr>\n",
              "\t<tr><td>동서학동 </td><td>0</td></tr>\n",
              "\t<tr><td>삼천1동  </td><td>0</td></tr>\n",
              "\t<tr><td>삼천2동  </td><td>0</td></tr>\n",
              "\t<tr><td>삼천3동  </td><td>2</td></tr>\n",
              "\t<tr><td>서서학동 </td><td>0</td></tr>\n",
              "\t<tr><td>서신동   </td><td>4</td></tr>\n",
              "\t<tr><td>송천1동  </td><td>3</td></tr>\n",
              "\t<tr><td>송천2동  </td><td>0</td></tr>\n",
              "\t<tr><td>여의동   </td><td>3</td></tr>\n",
              "\t<tr><td>완산동   </td><td>0</td></tr>\n",
              "\t<tr><td>우아1동  </td><td>1</td></tr>\n",
              "\t<tr><td>우아2동  </td><td>0</td></tr>\n",
              "\t<tr><td>인후1동  </td><td>1</td></tr>\n",
              "\t<tr><td>인후2동  </td><td>1</td></tr>\n",
              "\t<tr><td>인후3동  </td><td>1</td></tr>\n",
              "\t<tr><td>조촌동   </td><td>0</td></tr>\n",
              "\t<tr><td>중앙동   </td><td>4</td></tr>\n",
              "\t<tr><td>중화산1동</td><td>1</td></tr>\n",
              "\t<tr><td>중화산2동</td><td>0</td></tr>\n",
              "\t<tr><td>진북동   </td><td>0</td></tr>\n",
              "\t<tr><td>팔복동   </td><td>0</td></tr>\n",
              "\t<tr><td>평화1동  </td><td>0</td></tr>\n",
              "\t<tr><td>평화2동  </td><td>3</td></tr>\n",
              "\t<tr><td>풍남동   </td><td>2</td></tr>\n",
              "\t<tr><td>혁신동   </td><td>0</td></tr>\n",
              "\t<tr><td>호성동   </td><td>1</td></tr>\n",
              "\t<tr><td>효자1동  </td><td>2</td></tr>\n",
              "\t<tr><td>효자2동  </td><td>0</td></tr>\n",
              "\t<tr><td>효자3동  </td><td>2</td></tr>\n",
              "\t<tr><td>효자4동  </td><td>8</td></tr>\n",
              "\t<tr><td>효자5동  </td><td>0</td></tr>\n",
              "</tbody>\n",
              "</table>\n"
            ]
          },
          "metadata": {
            "tags": []
          }
        }
      ]
    },
    {
      "cell_type": "markdown",
      "metadata": {
        "id": "xeTlygNnD_uo"
      },
      "source": [
        "## 편의점 수"
      ]
    },
    {
      "cell_type": "code",
      "metadata": {
        "colab": {
          "base_uri": "https://localhost:8080/"
        },
        "id": "LBBggsQY_UpD",
        "outputId": "794ca78b-b406-4752-9735-25b30c120d84"
      },
      "source": [
        "str(cvstore)\n",
        "head(cvstore)"
      ],
      "execution_count": null,
      "outputs": [
        {
          "output_type": "stream",
          "text": [
            "'data.frame':\t31 obs. of  5 variables:\n",
            " $ 구         : chr  \"완산구\" \"완산구\" \"완산구\" \"완산구\" ...\n",
            " $ 동         : chr  \"효자5동\" \"효자4동\" \"서신동\" \"평화2동\" ...\n",
            " $ 순위.구.내.: int  1 2 3 4 5 6 7 8 9 10 ...\n",
            " $ 편의점수   : int  60 36 31 21 20 19 17 16 13 9 ...\n",
            " $ 비율...    : num  21.7 13 11.2 7.6 7.2 6.9 6.2 5.8 4.7 3.3 ...\n"
          ],
          "name": "stdout"
        },
        {
          "output_type": "display_data",
          "data": {
            "text/plain": [
              "  구     동        순위.구.내. 편의점수 비율...\n",
              "1 완산구 효자5동   1           60       21.7   \n",
              "2 완산구 효자4동   2           36       13.0   \n",
              "3 완산구 서신동    3           31       11.2   \n",
              "4 완산구 평화2동   4           21        7.6   \n",
              "5 완산구 중화산2동 5           20        7.2   \n",
              "6 완산구 중화산1동 6           19        6.9   "
            ],
            "text/latex": "A data.frame: 6 × 5\n\\begin{tabular}{r|lllll}\n  & 구 & 동 & 순위.구.내. & 편의점수 & 비율...\\\\\n  & <chr> & <chr> & <int> & <int> & <dbl>\\\\\n\\hline\n\t1 & 완산구 & 효자5동   & 1 & 60 & 21.7\\\\\n\t2 & 완산구 & 효자4동   & 2 & 36 & 13.0\\\\\n\t3 & 완산구 & 서신동    & 3 & 31 & 11.2\\\\\n\t4 & 완산구 & 평화2동   & 4 & 21 &  7.6\\\\\n\t5 & 완산구 & 중화산2동 & 5 & 20 &  7.2\\\\\n\t6 & 완산구 & 중화산1동 & 6 & 19 &  6.9\\\\\n\\end{tabular}\n",
            "text/markdown": "\nA data.frame: 6 × 5\n\n| <!--/--> | 구 &lt;chr&gt; | 동 &lt;chr&gt; | 순위.구.내. &lt;int&gt; | 편의점수 &lt;int&gt; | 비율... &lt;dbl&gt; |\n|---|---|---|---|---|---|\n| 1 | 완산구 | 효자5동   | 1 | 60 | 21.7 |\n| 2 | 완산구 | 효자4동   | 2 | 36 | 13.0 |\n| 3 | 완산구 | 서신동    | 3 | 31 | 11.2 |\n| 4 | 완산구 | 평화2동   | 4 | 21 |  7.6 |\n| 5 | 완산구 | 중화산2동 | 5 | 20 |  7.2 |\n| 6 | 완산구 | 중화산1동 | 6 | 19 |  6.9 |\n\n",
            "text/html": [
              "<table class=\"dataframe\">\n",
              "<caption>A data.frame: 6 × 5</caption>\n",
              "<thead>\n",
              "\t<tr><th></th><th scope=col>구</th><th scope=col>동</th><th scope=col>순위.구.내.</th><th scope=col>편의점수</th><th scope=col>비율...</th></tr>\n",
              "\t<tr><th></th><th scope=col>&lt;chr&gt;</th><th scope=col>&lt;chr&gt;</th><th scope=col>&lt;int&gt;</th><th scope=col>&lt;int&gt;</th><th scope=col>&lt;dbl&gt;</th></tr>\n",
              "</thead>\n",
              "<tbody>\n",
              "\t<tr><th scope=row>1</th><td>완산구</td><td>효자5동  </td><td>1</td><td>60</td><td>21.7</td></tr>\n",
              "\t<tr><th scope=row>2</th><td>완산구</td><td>효자4동  </td><td>2</td><td>36</td><td>13.0</td></tr>\n",
              "\t<tr><th scope=row>3</th><td>완산구</td><td>서신동   </td><td>3</td><td>31</td><td>11.2</td></tr>\n",
              "\t<tr><th scope=row>4</th><td>완산구</td><td>평화2동  </td><td>4</td><td>21</td><td> 7.6</td></tr>\n",
              "\t<tr><th scope=row>5</th><td>완산구</td><td>중화산2동</td><td>5</td><td>20</td><td> 7.2</td></tr>\n",
              "\t<tr><th scope=row>6</th><td>완산구</td><td>중화산1동</td><td>6</td><td>19</td><td> 6.9</td></tr>\n",
              "</tbody>\n",
              "</table>\n"
            ]
          },
          "metadata": {
            "tags": []
          }
        }
      ]
    },
    {
      "cell_type": "code",
      "metadata": {
        "colab": {
          "base_uri": "https://localhost:8080/"
        },
        "id": "UnPCRXAR_XrW",
        "outputId": "37f1e161-c009-4dd1-9fb7-823ce87ee79f"
      },
      "source": [
        "cvstore <- cvstore[,c(2,4)]\n",
        "names(cvstore)[1] <- \"행정동\"\n",
        "cvstore <- arrange(cvstore, cvstore$행정동)\n",
        "head(cvstore)"
      ],
      "execution_count": null,
      "outputs": [
        {
          "output_type": "display_data",
          "data": {
            "text/plain": [
              "  행정동   편의점수\n",
              "1 금암1동  25      \n",
              "2 금암2동   8      \n",
              "3 노송동    5      \n",
              "4 덕진동   29      \n",
              "5 동서학동  6      \n",
              "6 삼천2동   9      "
            ],
            "text/latex": "A data.frame: 6 × 2\n\\begin{tabular}{r|ll}\n  & 행정동 & 편의점수\\\\\n  & <chr> & <int>\\\\\n\\hline\n\t1 & 금암1동  & 25\\\\\n\t2 & 금암2동  &  8\\\\\n\t3 & 노송동   &  5\\\\\n\t4 & 덕진동   & 29\\\\\n\t5 & 동서학동 &  6\\\\\n\t6 & 삼천2동  &  9\\\\\n\\end{tabular}\n",
            "text/markdown": "\nA data.frame: 6 × 2\n\n| <!--/--> | 행정동 &lt;chr&gt; | 편의점수 &lt;int&gt; |\n|---|---|---|\n| 1 | 금암1동  | 25 |\n| 2 | 금암2동  |  8 |\n| 3 | 노송동   |  5 |\n| 4 | 덕진동   | 29 |\n| 5 | 동서학동 |  6 |\n| 6 | 삼천2동  |  9 |\n\n",
            "text/html": [
              "<table class=\"dataframe\">\n",
              "<caption>A data.frame: 6 × 2</caption>\n",
              "<thead>\n",
              "\t<tr><th></th><th scope=col>행정동</th><th scope=col>편의점수</th></tr>\n",
              "\t<tr><th></th><th scope=col>&lt;chr&gt;</th><th scope=col>&lt;int&gt;</th></tr>\n",
              "</thead>\n",
              "<tbody>\n",
              "\t<tr><th scope=row>1</th><td>금암1동 </td><td>25</td></tr>\n",
              "\t<tr><th scope=row>2</th><td>금암2동 </td><td> 8</td></tr>\n",
              "\t<tr><th scope=row>3</th><td>노송동  </td><td> 5</td></tr>\n",
              "\t<tr><th scope=row>4</th><td>덕진동  </td><td>29</td></tr>\n",
              "\t<tr><th scope=row>5</th><td>동서학동</td><td> 6</td></tr>\n",
              "\t<tr><th scope=row>6</th><td>삼천2동 </td><td> 9</td></tr>\n",
              "</tbody>\n",
              "</table>\n"
            ]
          },
          "metadata": {
            "tags": []
          }
        }
      ]
    },
    {
      "cell_type": "code",
      "metadata": {
        "colab": {
          "base_uri": "https://localhost:8080/"
        },
        "id": "QNQfWG-Y_bug",
        "outputId": "af0f5df7-8685-42ec-aeac-a12c64d7fe31"
      },
      "source": [
        "table(cvstore$행정동 %in% jjdong)\n",
        "table(jjdong %in% cvstore$행정동)\n",
        "\n",
        "jjdong[jjdong %in% cvstore$행정동 == FALSE] #cvstore에는 없는 jjdong의 행정동"
      ],
      "execution_count": null,
      "outputs": [
        {
          "output_type": "display_data",
          "data": {
            "text/plain": [
              "\n",
              "TRUE \n",
              "  31 "
            ]
          },
          "metadata": {
            "tags": []
          }
        },
        {
          "output_type": "display_data",
          "data": {
            "text/plain": [
              "\n",
              "FALSE  TRUE \n",
              "    4    31 "
            ]
          },
          "metadata": {
            "tags": []
          }
        },
        {
          "output_type": "display_data",
          "data": {
            "text/plain": [
              "[1] \"삼천1동\"  \"서서학동\" \"완산동\"   \"효자1동\" "
            ],
            "text/latex": "\\begin{enumerate*}\n\\item '삼천1동'\n\\item '서서학동'\n\\item '완산동'\n\\item '효자1동'\n\\end{enumerate*}\n",
            "text/markdown": "1. '삼천1동'\n2. '서서학동'\n3. '완산동'\n4. '효자1동'\n\n\n",
            "text/html": [
              "<style>\n",
              ".list-inline {list-style: none; margin:0; padding: 0}\n",
              ".list-inline>li {display: inline-block}\n",
              ".list-inline>li:not(:last-child)::after {content: \"\\00b7\"; padding: 0 .5ex}\n",
              "</style>\n",
              "<ol class=list-inline><li>'삼천1동'</li><li>'서서학동'</li><li>'완산동'</li><li>'효자1동'</li></ol>\n"
            ]
          },
          "metadata": {
            "tags": []
          }
        }
      ]
    },
    {
      "cell_type": "code",
      "metadata": {
        "colab": {
          "base_uri": "https://localhost:8080/"
        },
        "id": "3Jn20LEl_ln4",
        "outputId": "487fd2fa-53e7-435f-d0af-10febab4253e"
      },
      "source": [
        "add <- data.frame(행정동 = jjdong[jjdong %in% cvstore$행정동 == FALSE], \n",
        "                  편의점수 = rep(median(cvstore$편의점수), length(jjdong[jjdong %in% cvstore$행정동 == FALSE])))\n",
        "cvstore<- rbind(cvstore, add)\n",
        "cvstore <- arrange(cvstore, cvstore$행정동)\n",
        "cvstore"
      ],
      "execution_count": null,
      "outputs": [
        {
          "output_type": "display_data",
          "data": {
            "text/plain": [
              "   행정동    편의점수\n",
              "1  금암1동   25      \n",
              "2  금암2동    8      \n",
              "3  노송동     5      \n",
              "4  덕진동    29      \n",
              "5  동서학동   6      \n",
              "6  삼천1동   14      \n",
              "7  삼천2동    9      \n",
              "8  삼천3동   13      \n",
              "9  서서학동  14      \n",
              "10 서신동    31      \n",
              "11 송천1동   30      \n",
              "12 송천2동   14      \n",
              "13 여의동    22      \n",
              "14 완산동    14      \n",
              "15 우아1동   14      \n",
              "16 우아2동   36      \n",
              "17 인후1동    8      \n",
              "18 인후2동    7      \n",
              "19 인후3동   30      \n",
              "20 조촌동     7      \n",
              "21 중앙동    17      \n",
              "22 중화산1동 19      \n",
              "23 중화산2동 20      \n",
              "24 진북동     8      \n",
              "25 팔복동    10      \n",
              "26 평화1동    8      \n",
              "27 평화2동   21      \n",
              "28 풍남동    16      \n",
              "29 혁신동    11      \n",
              "30 호성동     9      \n",
              "31 효자1동   14      \n",
              "32 효자2동    6      \n",
              "33 효자3동    9      \n",
              "34 효자4동   36      \n",
              "35 효자5동   60      "
            ],
            "text/latex": "A data.frame: 35 × 2\n\\begin{tabular}{ll}\n 행정동 & 편의점수\\\\\n <chr> & <int>\\\\\n\\hline\n\t 금암1동   & 25\\\\\n\t 금암2동   &  8\\\\\n\t 노송동    &  5\\\\\n\t 덕진동    & 29\\\\\n\t 동서학동  &  6\\\\\n\t 삼천1동   & 14\\\\\n\t 삼천2동   &  9\\\\\n\t 삼천3동   & 13\\\\\n\t 서서학동  & 14\\\\\n\t 서신동    & 31\\\\\n\t 송천1동   & 30\\\\\n\t 송천2동   & 14\\\\\n\t 여의동    & 22\\\\\n\t 완산동    & 14\\\\\n\t 우아1동   & 14\\\\\n\t 우아2동   & 36\\\\\n\t 인후1동   &  8\\\\\n\t 인후2동   &  7\\\\\n\t 인후3동   & 30\\\\\n\t 조촌동    &  7\\\\\n\t 중앙동    & 17\\\\\n\t 중화산1동 & 19\\\\\n\t 중화산2동 & 20\\\\\n\t 진북동    &  8\\\\\n\t 팔복동    & 10\\\\\n\t 평화1동   &  8\\\\\n\t 평화2동   & 21\\\\\n\t 풍남동    & 16\\\\\n\t 혁신동    & 11\\\\\n\t 호성동    &  9\\\\\n\t 효자1동   & 14\\\\\n\t 효자2동   &  6\\\\\n\t 효자3동   &  9\\\\\n\t 효자4동   & 36\\\\\n\t 효자5동   & 60\\\\\n\\end{tabular}\n",
            "text/markdown": "\nA data.frame: 35 × 2\n\n| 행정동 &lt;chr&gt; | 편의점수 &lt;int&gt; |\n|---|---|\n| 금암1동   | 25 |\n| 금암2동   |  8 |\n| 노송동    |  5 |\n| 덕진동    | 29 |\n| 동서학동  |  6 |\n| 삼천1동   | 14 |\n| 삼천2동   |  9 |\n| 삼천3동   | 13 |\n| 서서학동  | 14 |\n| 서신동    | 31 |\n| 송천1동   | 30 |\n| 송천2동   | 14 |\n| 여의동    | 22 |\n| 완산동    | 14 |\n| 우아1동   | 14 |\n| 우아2동   | 36 |\n| 인후1동   |  8 |\n| 인후2동   |  7 |\n| 인후3동   | 30 |\n| 조촌동    |  7 |\n| 중앙동    | 17 |\n| 중화산1동 | 19 |\n| 중화산2동 | 20 |\n| 진북동    |  8 |\n| 팔복동    | 10 |\n| 평화1동   |  8 |\n| 평화2동   | 21 |\n| 풍남동    | 16 |\n| 혁신동    | 11 |\n| 호성동    |  9 |\n| 효자1동   | 14 |\n| 효자2동   |  6 |\n| 효자3동   |  9 |\n| 효자4동   | 36 |\n| 효자5동   | 60 |\n\n",
            "text/html": [
              "<table class=\"dataframe\">\n",
              "<caption>A data.frame: 35 × 2</caption>\n",
              "<thead>\n",
              "\t<tr><th scope=col>행정동</th><th scope=col>편의점수</th></tr>\n",
              "\t<tr><th scope=col>&lt;chr&gt;</th><th scope=col>&lt;int&gt;</th></tr>\n",
              "</thead>\n",
              "<tbody>\n",
              "\t<tr><td>금암1동  </td><td>25</td></tr>\n",
              "\t<tr><td>금암2동  </td><td> 8</td></tr>\n",
              "\t<tr><td>노송동   </td><td> 5</td></tr>\n",
              "\t<tr><td>덕진동   </td><td>29</td></tr>\n",
              "\t<tr><td>동서학동 </td><td> 6</td></tr>\n",
              "\t<tr><td>삼천1동  </td><td>14</td></tr>\n",
              "\t<tr><td>삼천2동  </td><td> 9</td></tr>\n",
              "\t<tr><td>삼천3동  </td><td>13</td></tr>\n",
              "\t<tr><td>서서학동 </td><td>14</td></tr>\n",
              "\t<tr><td>서신동   </td><td>31</td></tr>\n",
              "\t<tr><td>송천1동  </td><td>30</td></tr>\n",
              "\t<tr><td>송천2동  </td><td>14</td></tr>\n",
              "\t<tr><td>여의동   </td><td>22</td></tr>\n",
              "\t<tr><td>완산동   </td><td>14</td></tr>\n",
              "\t<tr><td>우아1동  </td><td>14</td></tr>\n",
              "\t<tr><td>우아2동  </td><td>36</td></tr>\n",
              "\t<tr><td>인후1동  </td><td> 8</td></tr>\n",
              "\t<tr><td>인후2동  </td><td> 7</td></tr>\n",
              "\t<tr><td>인후3동  </td><td>30</td></tr>\n",
              "\t<tr><td>조촌동   </td><td> 7</td></tr>\n",
              "\t<tr><td>중앙동   </td><td>17</td></tr>\n",
              "\t<tr><td>중화산1동</td><td>19</td></tr>\n",
              "\t<tr><td>중화산2동</td><td>20</td></tr>\n",
              "\t<tr><td>진북동   </td><td> 8</td></tr>\n",
              "\t<tr><td>팔복동   </td><td>10</td></tr>\n",
              "\t<tr><td>평화1동  </td><td> 8</td></tr>\n",
              "\t<tr><td>평화2동  </td><td>21</td></tr>\n",
              "\t<tr><td>풍남동   </td><td>16</td></tr>\n",
              "\t<tr><td>혁신동   </td><td>11</td></tr>\n",
              "\t<tr><td>호성동   </td><td> 9</td></tr>\n",
              "\t<tr><td>효자1동  </td><td>14</td></tr>\n",
              "\t<tr><td>효자2동  </td><td> 6</td></tr>\n",
              "\t<tr><td>효자3동  </td><td> 9</td></tr>\n",
              "\t<tr><td>효자4동  </td><td>36</td></tr>\n",
              "\t<tr><td>효자5동  </td><td>60</td></tr>\n",
              "</tbody>\n",
              "</table>\n"
            ]
          },
          "metadata": {
            "tags": []
          }
        }
      ]
    },
    {
      "cell_type": "markdown",
      "metadata": {
        "id": "SYiWzCpuEEDQ"
      },
      "source": [
        "## 대학교 수"
      ]
    },
    {
      "cell_type": "code",
      "metadata": {
        "colab": {
          "base_uri": "https://localhost:8080/"
        },
        "id": "DzR9HepA_oy9",
        "outputId": "f90d2485-183e-4cab-ab02-4fc3d5e7f171"
      },
      "source": [
        "str(univ)\n",
        "head(univ)"
      ],
      "execution_count": null,
      "outputs": [
        {
          "output_type": "stream",
          "text": [
            "'data.frame':\t7 obs. of  3 variables:\n",
            " $ 대학교: chr  \"전북대학교 전주캠퍼스\" \"전주교육대학교\" \"예수대학교\" \"전주대학교\" ...\n",
            " $ 위치  : chr  \"전라북도 전주시 덕진구 백제대로 567\" \"전라북도 전주시 완산구 서학로 50 \" \"전라북도 전주시 완산구 서원로 383 \" \"전라북도 전주시 완산구 천잠로 303\" ...\n",
            " $ 행정동: chr  \"덕진동\" \"동서학동\" \"중화산1동\" \"효자4동\" ...\n"
          ],
          "name": "stdout"
        },
        {
          "output_type": "display_data",
          "data": {
            "text/plain": [
              "  대학교                위치                                  행정동   \n",
              "1 전북대학교 전주캠퍼스 전라북도 전주시 덕진구 백제대로 567   덕진동   \n",
              "2 전주교육대학교        전라북도 전주시 완산구 서학로 50      동서학동 \n",
              "3 예수대학교            전라북도 전주시 완산구 서원로 383     중화산1동\n",
              "4 전주대학교            전라북도 전주시 완산구 천잠로 303     효자4동  \n",
              "5 전주기전대학          전라북도 전주시 완산구 전주천서로 267 중화산1동\n",
              "6 전주비전대학교        전라북도 전주시 완산구 천잠로 235     효자4동  "
            ],
            "text/latex": "A data.frame: 6 × 3\n\\begin{tabular}{r|lll}\n  & 대학교 & 위치 & 행정동\\\\\n  & <chr> & <chr> & <chr>\\\\\n\\hline\n\t1 & 전북대학교 전주캠퍼스 & 전라북도 전주시 덕진구 백제대로 567   & 덕진동   \\\\\n\t2 & 전주교육대학교        & 전라북도 전주시 완산구 서학로 50      & 동서학동 \\\\\n\t3 & 예수대학교            & 전라북도 전주시 완산구 서원로 383     & 중화산1동\\\\\n\t4 & 전주대학교            & 전라북도 전주시 완산구 천잠로 303     & 효자4동  \\\\\n\t5 & 전주기전대학          & 전라북도 전주시 완산구 전주천서로 267 & 중화산1동\\\\\n\t6 & 전주비전대학교        & 전라북도 전주시 완산구 천잠로 235     & 효자4동  \\\\\n\\end{tabular}\n",
            "text/markdown": "\nA data.frame: 6 × 3\n\n| <!--/--> | 대학교 &lt;chr&gt; | 위치 &lt;chr&gt; | 행정동 &lt;chr&gt; |\n|---|---|---|---|\n| 1 | 전북대학교 전주캠퍼스 | 전라북도 전주시 덕진구 백제대로 567   | 덕진동    |\n| 2 | 전주교육대학교        | 전라북도 전주시 완산구 서학로 50      | 동서학동  |\n| 3 | 예수대학교            | 전라북도 전주시 완산구 서원로 383     | 중화산1동 |\n| 4 | 전주대학교            | 전라북도 전주시 완산구 천잠로 303     | 효자4동   |\n| 5 | 전주기전대학          | 전라북도 전주시 완산구 전주천서로 267 | 중화산1동 |\n| 6 | 전주비전대학교        | 전라북도 전주시 완산구 천잠로 235     | 효자4동   |\n\n",
            "text/html": [
              "<table class=\"dataframe\">\n",
              "<caption>A data.frame: 6 × 3</caption>\n",
              "<thead>\n",
              "\t<tr><th></th><th scope=col>대학교</th><th scope=col>위치</th><th scope=col>행정동</th></tr>\n",
              "\t<tr><th></th><th scope=col>&lt;chr&gt;</th><th scope=col>&lt;chr&gt;</th><th scope=col>&lt;chr&gt;</th></tr>\n",
              "</thead>\n",
              "<tbody>\n",
              "\t<tr><th scope=row>1</th><td>전북대학교 전주캠퍼스</td><td>전라북도 전주시 덕진구 백제대로 567  </td><td>덕진동   </td></tr>\n",
              "\t<tr><th scope=row>2</th><td>전주교육대학교       </td><td>전라북도 전주시 완산구 서학로 50     </td><td>동서학동 </td></tr>\n",
              "\t<tr><th scope=row>3</th><td>예수대학교           </td><td>전라북도 전주시 완산구 서원로 383    </td><td>중화산1동</td></tr>\n",
              "\t<tr><th scope=row>4</th><td>전주대학교           </td><td>전라북도 전주시 완산구 천잠로 303    </td><td>효자4동  </td></tr>\n",
              "\t<tr><th scope=row>5</th><td>전주기전대학         </td><td>전라북도 전주시 완산구 전주천서로 267</td><td>중화산1동</td></tr>\n",
              "\t<tr><th scope=row>6</th><td>전주비전대학교       </td><td>전라북도 전주시 완산구 천잠로 235    </td><td>효자4동  </td></tr>\n",
              "</tbody>\n",
              "</table>\n"
            ]
          },
          "metadata": {
            "tags": []
          }
        }
      ]
    },
    {
      "cell_type": "code",
      "metadata": {
        "colab": {
          "base_uri": "https://localhost:8080/"
        },
        "id": "N9qDQHei_tm1",
        "outputId": "64364421-5a35-40fe-9be7-f30b454cbbc4"
      },
      "source": [
        "univ <- univ[,c(1,3)]\n",
        "univ$count <- rep(1,nrow(univ))\n",
        "univ"
      ],
      "execution_count": null,
      "outputs": [
        {
          "output_type": "display_data",
          "data": {
            "text/plain": [
              "  대학교                행정동    count\n",
              "1 전북대학교 전주캠퍼스 덕진동    1    \n",
              "2 전주교육대학교        동서학동  1    \n",
              "3 예수대학교            중화산1동 1    \n",
              "4 전주대학교            효자4동   1    \n",
              "5 전주기전대학          중화산1동 1    \n",
              "6 전주비전대학교        효자4동   1    \n",
              "7 한국농수산대학        효자5동   1    "
            ],
            "text/latex": "A data.frame: 7 × 3\n\\begin{tabular}{lll}\n 대학교 & 행정동 & count\\\\\n <chr> & <chr> & <dbl>\\\\\n\\hline\n\t 전북대학교 전주캠퍼스 & 덕진동    & 1\\\\\n\t 전주교육대학교        & 동서학동  & 1\\\\\n\t 예수대학교            & 중화산1동 & 1\\\\\n\t 전주대학교            & 효자4동   & 1\\\\\n\t 전주기전대학          & 중화산1동 & 1\\\\\n\t 전주비전대학교        & 효자4동   & 1\\\\\n\t 한국농수산대학        & 효자5동   & 1\\\\\n\\end{tabular}\n",
            "text/markdown": "\nA data.frame: 7 × 3\n\n| 대학교 &lt;chr&gt; | 행정동 &lt;chr&gt; | count &lt;dbl&gt; |\n|---|---|---|\n| 전북대학교 전주캠퍼스 | 덕진동    | 1 |\n| 전주교육대학교        | 동서학동  | 1 |\n| 예수대학교            | 중화산1동 | 1 |\n| 전주대학교            | 효자4동   | 1 |\n| 전주기전대학          | 중화산1동 | 1 |\n| 전주비전대학교        | 효자4동   | 1 |\n| 한국농수산대학        | 효자5동   | 1 |\n\n",
            "text/html": [
              "<table class=\"dataframe\">\n",
              "<caption>A data.frame: 7 × 3</caption>\n",
              "<thead>\n",
              "\t<tr><th scope=col>대학교</th><th scope=col>행정동</th><th scope=col>count</th></tr>\n",
              "\t<tr><th scope=col>&lt;chr&gt;</th><th scope=col>&lt;chr&gt;</th><th scope=col>&lt;dbl&gt;</th></tr>\n",
              "</thead>\n",
              "<tbody>\n",
              "\t<tr><td>전북대학교 전주캠퍼스</td><td>덕진동   </td><td>1</td></tr>\n",
              "\t<tr><td>전주교육대학교       </td><td>동서학동 </td><td>1</td></tr>\n",
              "\t<tr><td>예수대학교           </td><td>중화산1동</td><td>1</td></tr>\n",
              "\t<tr><td>전주대학교           </td><td>효자4동  </td><td>1</td></tr>\n",
              "\t<tr><td>전주기전대학         </td><td>중화산1동</td><td>1</td></tr>\n",
              "\t<tr><td>전주비전대학교       </td><td>효자4동  </td><td>1</td></tr>\n",
              "\t<tr><td>한국농수산대학       </td><td>효자5동  </td><td>1</td></tr>\n",
              "</tbody>\n",
              "</table>\n"
            ]
          },
          "metadata": {
            "tags": []
          }
        }
      ]
    },
    {
      "cell_type": "code",
      "metadata": {
        "colab": {
          "base_uri": "https://localhost:8080/"
        },
        "id": "EnuHjOb6_wCZ",
        "outputId": "e53b159e-40d4-418f-879b-4e4ed484d97c"
      },
      "source": [
        "univ <- univ %>% group_by(행정동) %>% summarise(대학교수 = sum(count))\n",
        "univ <- as.data.frame(univ)\n",
        "univ <- arrange(univ, univ$행정동)\n",
        "univ"
      ],
      "execution_count": null,
      "outputs": [
        {
          "output_type": "display_data",
          "data": {
            "text/plain": [
              "  행정동    대학교수\n",
              "1 덕진동    1       \n",
              "2 동서학동  1       \n",
              "3 중화산1동 2       \n",
              "4 효자4동   2       \n",
              "5 효자5동   1       "
            ],
            "text/latex": "A data.frame: 5 × 2\n\\begin{tabular}{ll}\n 행정동 & 대학교수\\\\\n <chr> & <dbl>\\\\\n\\hline\n\t 덕진동    & 1\\\\\n\t 동서학동  & 1\\\\\n\t 중화산1동 & 2\\\\\n\t 효자4동   & 2\\\\\n\t 효자5동   & 1\\\\\n\\end{tabular}\n",
            "text/markdown": "\nA data.frame: 5 × 2\n\n| 행정동 &lt;chr&gt; | 대학교수 &lt;dbl&gt; |\n|---|---|\n| 덕진동    | 1 |\n| 동서학동  | 1 |\n| 중화산1동 | 2 |\n| 효자4동   | 2 |\n| 효자5동   | 1 |\n\n",
            "text/html": [
              "<table class=\"dataframe\">\n",
              "<caption>A data.frame: 5 × 2</caption>\n",
              "<thead>\n",
              "\t<tr><th scope=col>행정동</th><th scope=col>대학교수</th></tr>\n",
              "\t<tr><th scope=col>&lt;chr&gt;</th><th scope=col>&lt;dbl&gt;</th></tr>\n",
              "</thead>\n",
              "<tbody>\n",
              "\t<tr><td>덕진동   </td><td>1</td></tr>\n",
              "\t<tr><td>동서학동 </td><td>1</td></tr>\n",
              "\t<tr><td>중화산1동</td><td>2</td></tr>\n",
              "\t<tr><td>효자4동  </td><td>2</td></tr>\n",
              "\t<tr><td>효자5동  </td><td>1</td></tr>\n",
              "</tbody>\n",
              "</table>\n"
            ]
          },
          "metadata": {
            "tags": []
          }
        }
      ]
    },
    {
      "cell_type": "code",
      "metadata": {
        "colab": {
          "base_uri": "https://localhost:8080/"
        },
        "id": "xSwF8sD7_yP5",
        "outputId": "669f3e92-bf27-4f4f-ab9d-ded11f2153f7"
      },
      "source": [
        "table(univ$행정동 %in% jjdong)\n",
        "table(jjdong %in% univ$행정동)\n",
        "\n",
        "jjdong[jjdong %in% univ$행정동 == FALSE] #univ에는 없는 jjdong의 행정동"
      ],
      "execution_count": null,
      "outputs": [
        {
          "output_type": "display_data",
          "data": {
            "text/plain": [
              "\n",
              "TRUE \n",
              "   5 "
            ]
          },
          "metadata": {
            "tags": []
          }
        },
        {
          "output_type": "display_data",
          "data": {
            "text/plain": [
              "\n",
              "FALSE  TRUE \n",
              "   30     5 "
            ]
          },
          "metadata": {
            "tags": []
          }
        },
        {
          "output_type": "display_data",
          "data": {
            "text/plain": [
              " [1] \"금암1동\"   \"금암2동\"   \"노송동\"    \"삼천1동\"   \"삼천2동\"   \"삼천3동\"  \n",
              " [7] \"서서학동\"  \"서신동\"    \"송천1동\"   \"송천2동\"   \"여의동\"    \"완산동\"   \n",
              "[13] \"우아1동\"   \"우아2동\"   \"인후1동\"   \"인후2동\"   \"인후3동\"   \"조촌동\"   \n",
              "[19] \"중앙동\"    \"중화산2동\" \"진북동\"    \"팔복동\"    \"평화1동\"   \"평화2동\"  \n",
              "[25] \"풍남동\"    \"혁신동\"    \"호성동\"    \"효자1동\"   \"효자2동\"   \"효자3동\"  "
            ],
            "text/latex": "\\begin{enumerate*}\n\\item '금암1동'\n\\item '금암2동'\n\\item '노송동'\n\\item '삼천1동'\n\\item '삼천2동'\n\\item '삼천3동'\n\\item '서서학동'\n\\item '서신동'\n\\item '송천1동'\n\\item '송천2동'\n\\item '여의동'\n\\item '완산동'\n\\item '우아1동'\n\\item '우아2동'\n\\item '인후1동'\n\\item '인후2동'\n\\item '인후3동'\n\\item '조촌동'\n\\item '중앙동'\n\\item '중화산2동'\n\\item '진북동'\n\\item '팔복동'\n\\item '평화1동'\n\\item '평화2동'\n\\item '풍남동'\n\\item '혁신동'\n\\item '호성동'\n\\item '효자1동'\n\\item '효자2동'\n\\item '효자3동'\n\\end{enumerate*}\n",
            "text/markdown": "1. '금암1동'\n2. '금암2동'\n3. '노송동'\n4. '삼천1동'\n5. '삼천2동'\n6. '삼천3동'\n7. '서서학동'\n8. '서신동'\n9. '송천1동'\n10. '송천2동'\n11. '여의동'\n12. '완산동'\n13. '우아1동'\n14. '우아2동'\n15. '인후1동'\n16. '인후2동'\n17. '인후3동'\n18. '조촌동'\n19. '중앙동'\n20. '중화산2동'\n21. '진북동'\n22. '팔복동'\n23. '평화1동'\n24. '평화2동'\n25. '풍남동'\n26. '혁신동'\n27. '호성동'\n28. '효자1동'\n29. '효자2동'\n30. '효자3동'\n\n\n",
            "text/html": [
              "<style>\n",
              ".list-inline {list-style: none; margin:0; padding: 0}\n",
              ".list-inline>li {display: inline-block}\n",
              ".list-inline>li:not(:last-child)::after {content: \"\\00b7\"; padding: 0 .5ex}\n",
              "</style>\n",
              "<ol class=list-inline><li>'금암1동'</li><li>'금암2동'</li><li>'노송동'</li><li>'삼천1동'</li><li>'삼천2동'</li><li>'삼천3동'</li><li>'서서학동'</li><li>'서신동'</li><li>'송천1동'</li><li>'송천2동'</li><li>'여의동'</li><li>'완산동'</li><li>'우아1동'</li><li>'우아2동'</li><li>'인후1동'</li><li>'인후2동'</li><li>'인후3동'</li><li>'조촌동'</li><li>'중앙동'</li><li>'중화산2동'</li><li>'진북동'</li><li>'팔복동'</li><li>'평화1동'</li><li>'평화2동'</li><li>'풍남동'</li><li>'혁신동'</li><li>'호성동'</li><li>'효자1동'</li><li>'효자2동'</li><li>'효자3동'</li></ol>\n"
            ]
          },
          "metadata": {
            "tags": []
          }
        }
      ]
    },
    {
      "cell_type": "code",
      "metadata": {
        "colab": {
          "base_uri": "https://localhost:8080/"
        },
        "id": "SmI76TkK_1QQ",
        "outputId": "9ad4da86-4f14-4080-b4b3-ab9af6081d7c"
      },
      "source": [
        "add <- data.frame(행정동 = jjdong[jjdong %in% univ$행정동 == FALSE], \n",
        "                  대학교수 = rep(0, length(jjdong[jjdong %in% univ$행정동 == FALSE])))\n",
        "univ <- rbind(univ, add)\n",
        "univ <- arrange(univ, univ$행정동)\n",
        "univ"
      ],
      "execution_count": null,
      "outputs": [
        {
          "output_type": "display_data",
          "data": {
            "text/plain": [
              "   행정동    대학교수\n",
              "1  금암1동   0       \n",
              "2  금암2동   0       \n",
              "3  노송동    0       \n",
              "4  덕진동    1       \n",
              "5  동서학동  1       \n",
              "6  삼천1동   0       \n",
              "7  삼천2동   0       \n",
              "8  삼천3동   0       \n",
              "9  서서학동  0       \n",
              "10 서신동    0       \n",
              "11 송천1동   0       \n",
              "12 송천2동   0       \n",
              "13 여의동    0       \n",
              "14 완산동    0       \n",
              "15 우아1동   0       \n",
              "16 우아2동   0       \n",
              "17 인후1동   0       \n",
              "18 인후2동   0       \n",
              "19 인후3동   0       \n",
              "20 조촌동    0       \n",
              "21 중앙동    0       \n",
              "22 중화산1동 2       \n",
              "23 중화산2동 0       \n",
              "24 진북동    0       \n",
              "25 팔복동    0       \n",
              "26 평화1동   0       \n",
              "27 평화2동   0       \n",
              "28 풍남동    0       \n",
              "29 혁신동    0       \n",
              "30 호성동    0       \n",
              "31 효자1동   0       \n",
              "32 효자2동   0       \n",
              "33 효자3동   0       \n",
              "34 효자4동   2       \n",
              "35 효자5동   1       "
            ],
            "text/latex": "A data.frame: 35 × 2\n\\begin{tabular}{ll}\n 행정동 & 대학교수\\\\\n <chr> & <dbl>\\\\\n\\hline\n\t 금암1동   & 0\\\\\n\t 금암2동   & 0\\\\\n\t 노송동    & 0\\\\\n\t 덕진동    & 1\\\\\n\t 동서학동  & 1\\\\\n\t 삼천1동   & 0\\\\\n\t 삼천2동   & 0\\\\\n\t 삼천3동   & 0\\\\\n\t 서서학동  & 0\\\\\n\t 서신동    & 0\\\\\n\t 송천1동   & 0\\\\\n\t 송천2동   & 0\\\\\n\t 여의동    & 0\\\\\n\t 완산동    & 0\\\\\n\t 우아1동   & 0\\\\\n\t 우아2동   & 0\\\\\n\t 인후1동   & 0\\\\\n\t 인후2동   & 0\\\\\n\t 인후3동   & 0\\\\\n\t 조촌동    & 0\\\\\n\t 중앙동    & 0\\\\\n\t 중화산1동 & 2\\\\\n\t 중화산2동 & 0\\\\\n\t 진북동    & 0\\\\\n\t 팔복동    & 0\\\\\n\t 평화1동   & 0\\\\\n\t 평화2동   & 0\\\\\n\t 풍남동    & 0\\\\\n\t 혁신동    & 0\\\\\n\t 호성동    & 0\\\\\n\t 효자1동   & 0\\\\\n\t 효자2동   & 0\\\\\n\t 효자3동   & 0\\\\\n\t 효자4동   & 2\\\\\n\t 효자5동   & 1\\\\\n\\end{tabular}\n",
            "text/markdown": "\nA data.frame: 35 × 2\n\n| 행정동 &lt;chr&gt; | 대학교수 &lt;dbl&gt; |\n|---|---|\n| 금암1동   | 0 |\n| 금암2동   | 0 |\n| 노송동    | 0 |\n| 덕진동    | 1 |\n| 동서학동  | 1 |\n| 삼천1동   | 0 |\n| 삼천2동   | 0 |\n| 삼천3동   | 0 |\n| 서서학동  | 0 |\n| 서신동    | 0 |\n| 송천1동   | 0 |\n| 송천2동   | 0 |\n| 여의동    | 0 |\n| 완산동    | 0 |\n| 우아1동   | 0 |\n| 우아2동   | 0 |\n| 인후1동   | 0 |\n| 인후2동   | 0 |\n| 인후3동   | 0 |\n| 조촌동    | 0 |\n| 중앙동    | 0 |\n| 중화산1동 | 2 |\n| 중화산2동 | 0 |\n| 진북동    | 0 |\n| 팔복동    | 0 |\n| 평화1동   | 0 |\n| 평화2동   | 0 |\n| 풍남동    | 0 |\n| 혁신동    | 0 |\n| 호성동    | 0 |\n| 효자1동   | 0 |\n| 효자2동   | 0 |\n| 효자3동   | 0 |\n| 효자4동   | 2 |\n| 효자5동   | 1 |\n\n",
            "text/html": [
              "<table class=\"dataframe\">\n",
              "<caption>A data.frame: 35 × 2</caption>\n",
              "<thead>\n",
              "\t<tr><th scope=col>행정동</th><th scope=col>대학교수</th></tr>\n",
              "\t<tr><th scope=col>&lt;chr&gt;</th><th scope=col>&lt;dbl&gt;</th></tr>\n",
              "</thead>\n",
              "<tbody>\n",
              "\t<tr><td>금암1동  </td><td>0</td></tr>\n",
              "\t<tr><td>금암2동  </td><td>0</td></tr>\n",
              "\t<tr><td>노송동   </td><td>0</td></tr>\n",
              "\t<tr><td>덕진동   </td><td>1</td></tr>\n",
              "\t<tr><td>동서학동 </td><td>1</td></tr>\n",
              "\t<tr><td>삼천1동  </td><td>0</td></tr>\n",
              "\t<tr><td>삼천2동  </td><td>0</td></tr>\n",
              "\t<tr><td>삼천3동  </td><td>0</td></tr>\n",
              "\t<tr><td>서서학동 </td><td>0</td></tr>\n",
              "\t<tr><td>서신동   </td><td>0</td></tr>\n",
              "\t<tr><td>송천1동  </td><td>0</td></tr>\n",
              "\t<tr><td>송천2동  </td><td>0</td></tr>\n",
              "\t<tr><td>여의동   </td><td>0</td></tr>\n",
              "\t<tr><td>완산동   </td><td>0</td></tr>\n",
              "\t<tr><td>우아1동  </td><td>0</td></tr>\n",
              "\t<tr><td>우아2동  </td><td>0</td></tr>\n",
              "\t<tr><td>인후1동  </td><td>0</td></tr>\n",
              "\t<tr><td>인후2동  </td><td>0</td></tr>\n",
              "\t<tr><td>인후3동  </td><td>0</td></tr>\n",
              "\t<tr><td>조촌동   </td><td>0</td></tr>\n",
              "\t<tr><td>중앙동   </td><td>0</td></tr>\n",
              "\t<tr><td>중화산1동</td><td>2</td></tr>\n",
              "\t<tr><td>중화산2동</td><td>0</td></tr>\n",
              "\t<tr><td>진북동   </td><td>0</td></tr>\n",
              "\t<tr><td>팔복동   </td><td>0</td></tr>\n",
              "\t<tr><td>평화1동  </td><td>0</td></tr>\n",
              "\t<tr><td>평화2동  </td><td>0</td></tr>\n",
              "\t<tr><td>풍남동   </td><td>0</td></tr>\n",
              "\t<tr><td>혁신동   </td><td>0</td></tr>\n",
              "\t<tr><td>호성동   </td><td>0</td></tr>\n",
              "\t<tr><td>효자1동  </td><td>0</td></tr>\n",
              "\t<tr><td>효자2동  </td><td>0</td></tr>\n",
              "\t<tr><td>효자3동  </td><td>0</td></tr>\n",
              "\t<tr><td>효자4동  </td><td>2</td></tr>\n",
              "\t<tr><td>효자5동  </td><td>1</td></tr>\n",
              "</tbody>\n",
              "</table>\n"
            ]
          },
          "metadata": {
            "tags": []
          }
        }
      ]
    },
    {
      "cell_type": "markdown",
      "metadata": {
        "id": "vkuB4nU3EHLK"
      },
      "source": [
        "## 면적"
      ]
    },
    {
      "cell_type": "code",
      "metadata": {
        "colab": {
          "base_uri": "https://localhost:8080/"
        },
        "id": "3ssrlc5m_3oQ",
        "outputId": "bc448c97-0830-4c26-d288-4549887ca69d"
      },
      "source": [
        "str(region)\n",
        "head(region)"
      ],
      "execution_count": null,
      "outputs": [
        {
          "output_type": "stream",
          "text": [
            "'data.frame':\t35 obs. of  3 variables:\n",
            " $ 구       : chr  \"덕진구\" \"덕진구\" \"덕진구\" \"덕진구\" ...\n",
            " $ 동       : chr  \"진북동\" \"인후1동\" \"인후2동\" \"인후3동\" ...\n",
            " $ 면적.km..: num  1.71 1.29 1.32 1.68 4.78 ...\n"
          ],
          "name": "stdout"
        },
        {
          "output_type": "display_data",
          "data": {
            "text/plain": [
              "  구     동      면적.km..\n",
              "1 덕진구 진북동  1.71     \n",
              "2 덕진구 인후1동 1.29     \n",
              "3 덕진구 인후2동 1.32     \n",
              "4 덕진구 인후3동 1.68     \n",
              "5 덕진구 덕진동  4.78     \n",
              "6 덕진구 금암1동 1.25     "
            ],
            "text/latex": "A data.frame: 6 × 3\n\\begin{tabular}{r|lll}\n  & 구 & 동 & 면적.km..\\\\\n  & <chr> & <chr> & <dbl>\\\\\n\\hline\n\t1 & 덕진구 & 진북동  & 1.71\\\\\n\t2 & 덕진구 & 인후1동 & 1.29\\\\\n\t3 & 덕진구 & 인후2동 & 1.32\\\\\n\t4 & 덕진구 & 인후3동 & 1.68\\\\\n\t5 & 덕진구 & 덕진동  & 4.78\\\\\n\t6 & 덕진구 & 금암1동 & 1.25\\\\\n\\end{tabular}\n",
            "text/markdown": "\nA data.frame: 6 × 3\n\n| <!--/--> | 구 &lt;chr&gt; | 동 &lt;chr&gt; | 면적.km.. &lt;dbl&gt; |\n|---|---|---|---|\n| 1 | 덕진구 | 진북동  | 1.71 |\n| 2 | 덕진구 | 인후1동 | 1.29 |\n| 3 | 덕진구 | 인후2동 | 1.32 |\n| 4 | 덕진구 | 인후3동 | 1.68 |\n| 5 | 덕진구 | 덕진동  | 4.78 |\n| 6 | 덕진구 | 금암1동 | 1.25 |\n\n",
            "text/html": [
              "<table class=\"dataframe\">\n",
              "<caption>A data.frame: 6 × 3</caption>\n",
              "<thead>\n",
              "\t<tr><th></th><th scope=col>구</th><th scope=col>동</th><th scope=col>면적.km..</th></tr>\n",
              "\t<tr><th></th><th scope=col>&lt;chr&gt;</th><th scope=col>&lt;chr&gt;</th><th scope=col>&lt;dbl&gt;</th></tr>\n",
              "</thead>\n",
              "<tbody>\n",
              "\t<tr><th scope=row>1</th><td>덕진구</td><td>진북동 </td><td>1.71</td></tr>\n",
              "\t<tr><th scope=row>2</th><td>덕진구</td><td>인후1동</td><td>1.29</td></tr>\n",
              "\t<tr><th scope=row>3</th><td>덕진구</td><td>인후2동</td><td>1.32</td></tr>\n",
              "\t<tr><th scope=row>4</th><td>덕진구</td><td>인후3동</td><td>1.68</td></tr>\n",
              "\t<tr><th scope=row>5</th><td>덕진구</td><td>덕진동 </td><td>4.78</td></tr>\n",
              "\t<tr><th scope=row>6</th><td>덕진구</td><td>금암1동</td><td>1.25</td></tr>\n",
              "</tbody>\n",
              "</table>\n"
            ]
          },
          "metadata": {
            "tags": []
          }
        }
      ]
    },
    {
      "cell_type": "code",
      "metadata": {
        "colab": {
          "base_uri": "https://localhost:8080/"
        },
        "id": "OmsaAD-9_6Km",
        "outputId": "1a635fa5-a35e-4a4a-ddb1-f86077e3877c"
      },
      "source": [
        "region <- region[,c(2,3)]\n",
        "names(region) <- c(\"행정동\", \"면적.km\")\n",
        "region <- arrange(region, region$행정동)\n",
        "region"
      ],
      "execution_count": null,
      "outputs": [
        {
          "output_type": "display_data",
          "data": {
            "text/plain": [
              "   행정동    면적.km\n",
              "1  금암1동    1.25  \n",
              "2  금암2동    1.25  \n",
              "3  노송동     2.09  \n",
              "4  덕진동     4.78  \n",
              "5  동서학동  15.64  \n",
              "6  삼천1동    1.27  \n",
              "7  삼천2동    0.95  \n",
              "8  삼천3동   26.60  \n",
              "9  서서학동   2.97  \n",
              "10 서신동     2.39  \n",
              "11 송천1동    4.79  \n",
              "12 송천2동   12.14  \n",
              "13 여의동    15.71  \n",
              "14 완산동     0.99  \n",
              "15 우아1동    1.44  \n",
              "16 우아2동   22.91  \n",
              "17 인후1동    1.29  \n",
              "18 인후2동    1.32  \n",
              "19 인후3동    1.68  \n",
              "20 조촌동    24.28  \n",
              "21 중앙동     1.35  \n",
              "22 중화산1동  1.22  \n",
              "23 중화산2동  1.72  \n",
              "24 진북동     1.71  \n",
              "25 팔복동     7.38  \n",
              "26 평화1동    1.49  \n",
              "27 평화2동   15.23  \n",
              "28 풍남동     2.05  \n",
              "29 혁신동     3.37  \n",
              "30 호성동     7.64  \n",
              "31 효자1동    1.02  \n",
              "32 효자2동    0.84  \n",
              "33 효자3동    0.79  \n",
              "34 효자4동    7.71  \n",
              "35 효자5동    6.27  "
            ],
            "text/latex": "A data.frame: 35 × 2\n\\begin{tabular}{ll}\n 행정동 & 면적.km\\\\\n <chr> & <dbl>\\\\\n\\hline\n\t 금암1동   &  1.25\\\\\n\t 금암2동   &  1.25\\\\\n\t 노송동    &  2.09\\\\\n\t 덕진동    &  4.78\\\\\n\t 동서학동  & 15.64\\\\\n\t 삼천1동   &  1.27\\\\\n\t 삼천2동   &  0.95\\\\\n\t 삼천3동   & 26.60\\\\\n\t 서서학동  &  2.97\\\\\n\t 서신동    &  2.39\\\\\n\t 송천1동   &  4.79\\\\\n\t 송천2동   & 12.14\\\\\n\t 여의동    & 15.71\\\\\n\t 완산동    &  0.99\\\\\n\t 우아1동   &  1.44\\\\\n\t 우아2동   & 22.91\\\\\n\t 인후1동   &  1.29\\\\\n\t 인후2동   &  1.32\\\\\n\t 인후3동   &  1.68\\\\\n\t 조촌동    & 24.28\\\\\n\t 중앙동    &  1.35\\\\\n\t 중화산1동 &  1.22\\\\\n\t 중화산2동 &  1.72\\\\\n\t 진북동    &  1.71\\\\\n\t 팔복동    &  7.38\\\\\n\t 평화1동   &  1.49\\\\\n\t 평화2동   & 15.23\\\\\n\t 풍남동    &  2.05\\\\\n\t 혁신동    &  3.37\\\\\n\t 호성동    &  7.64\\\\\n\t 효자1동   &  1.02\\\\\n\t 효자2동   &  0.84\\\\\n\t 효자3동   &  0.79\\\\\n\t 효자4동   &  7.71\\\\\n\t 효자5동   &  6.27\\\\\n\\end{tabular}\n",
            "text/markdown": "\nA data.frame: 35 × 2\n\n| 행정동 &lt;chr&gt; | 면적.km &lt;dbl&gt; |\n|---|---|\n| 금암1동   |  1.25 |\n| 금암2동   |  1.25 |\n| 노송동    |  2.09 |\n| 덕진동    |  4.78 |\n| 동서학동  | 15.64 |\n| 삼천1동   |  1.27 |\n| 삼천2동   |  0.95 |\n| 삼천3동   | 26.60 |\n| 서서학동  |  2.97 |\n| 서신동    |  2.39 |\n| 송천1동   |  4.79 |\n| 송천2동   | 12.14 |\n| 여의동    | 15.71 |\n| 완산동    |  0.99 |\n| 우아1동   |  1.44 |\n| 우아2동   | 22.91 |\n| 인후1동   |  1.29 |\n| 인후2동   |  1.32 |\n| 인후3동   |  1.68 |\n| 조촌동    | 24.28 |\n| 중앙동    |  1.35 |\n| 중화산1동 |  1.22 |\n| 중화산2동 |  1.72 |\n| 진북동    |  1.71 |\n| 팔복동    |  7.38 |\n| 평화1동   |  1.49 |\n| 평화2동   | 15.23 |\n| 풍남동    |  2.05 |\n| 혁신동    |  3.37 |\n| 호성동    |  7.64 |\n| 효자1동   |  1.02 |\n| 효자2동   |  0.84 |\n| 효자3동   |  0.79 |\n| 효자4동   |  7.71 |\n| 효자5동   |  6.27 |\n\n",
            "text/html": [
              "<table class=\"dataframe\">\n",
              "<caption>A data.frame: 35 × 2</caption>\n",
              "<thead>\n",
              "\t<tr><th scope=col>행정동</th><th scope=col>면적.km</th></tr>\n",
              "\t<tr><th scope=col>&lt;chr&gt;</th><th scope=col>&lt;dbl&gt;</th></tr>\n",
              "</thead>\n",
              "<tbody>\n",
              "\t<tr><td>금암1동  </td><td> 1.25</td></tr>\n",
              "\t<tr><td>금암2동  </td><td> 1.25</td></tr>\n",
              "\t<tr><td>노송동   </td><td> 2.09</td></tr>\n",
              "\t<tr><td>덕진동   </td><td> 4.78</td></tr>\n",
              "\t<tr><td>동서학동 </td><td>15.64</td></tr>\n",
              "\t<tr><td>삼천1동  </td><td> 1.27</td></tr>\n",
              "\t<tr><td>삼천2동  </td><td> 0.95</td></tr>\n",
              "\t<tr><td>삼천3동  </td><td>26.60</td></tr>\n",
              "\t<tr><td>서서학동 </td><td> 2.97</td></tr>\n",
              "\t<tr><td>서신동   </td><td> 2.39</td></tr>\n",
              "\t<tr><td>송천1동  </td><td> 4.79</td></tr>\n",
              "\t<tr><td>송천2동  </td><td>12.14</td></tr>\n",
              "\t<tr><td>여의동   </td><td>15.71</td></tr>\n",
              "\t<tr><td>완산동   </td><td> 0.99</td></tr>\n",
              "\t<tr><td>우아1동  </td><td> 1.44</td></tr>\n",
              "\t<tr><td>우아2동  </td><td>22.91</td></tr>\n",
              "\t<tr><td>인후1동  </td><td> 1.29</td></tr>\n",
              "\t<tr><td>인후2동  </td><td> 1.32</td></tr>\n",
              "\t<tr><td>인후3동  </td><td> 1.68</td></tr>\n",
              "\t<tr><td>조촌동   </td><td>24.28</td></tr>\n",
              "\t<tr><td>중앙동   </td><td> 1.35</td></tr>\n",
              "\t<tr><td>중화산1동</td><td> 1.22</td></tr>\n",
              "\t<tr><td>중화산2동</td><td> 1.72</td></tr>\n",
              "\t<tr><td>진북동   </td><td> 1.71</td></tr>\n",
              "\t<tr><td>팔복동   </td><td> 7.38</td></tr>\n",
              "\t<tr><td>평화1동  </td><td> 1.49</td></tr>\n",
              "\t<tr><td>평화2동  </td><td>15.23</td></tr>\n",
              "\t<tr><td>풍남동   </td><td> 2.05</td></tr>\n",
              "\t<tr><td>혁신동   </td><td> 3.37</td></tr>\n",
              "\t<tr><td>호성동   </td><td> 7.64</td></tr>\n",
              "\t<tr><td>효자1동  </td><td> 1.02</td></tr>\n",
              "\t<tr><td>효자2동  </td><td> 0.84</td></tr>\n",
              "\t<tr><td>효자3동  </td><td> 0.79</td></tr>\n",
              "\t<tr><td>효자4동  </td><td> 7.71</td></tr>\n",
              "\t<tr><td>효자5동  </td><td> 6.27</td></tr>\n",
              "</tbody>\n",
              "</table>\n"
            ]
          },
          "metadata": {
            "tags": []
          }
        }
      ]
    },
    {
      "cell_type": "code",
      "metadata": {
        "colab": {
          "base_uri": "https://localhost:8080/"
        },
        "id": "NoD4h92z_9fj",
        "outputId": "4b66e2fd-7ec3-4ec3-dadd-14e55a79613b"
      },
      "source": [
        "table(region$행정동 %in% jjdong)\n",
        "table(jjdong %in% region$행정동)\n",
        "\n",
        "region$행정동[region$행정동 %in% jjdong == FALSE] #jjdong에는 없는 region의 행정동 #이름 오류 있는 듯 (송청1동, 품남동)\n",
        "\n",
        "jjdong[jjdong %in% region$행정동 == FALSE] #region에는 없는 jjdong의 행정동\n",
        "\n",
        "region"
      ],
      "execution_count": null,
      "outputs": [
        {
          "output_type": "display_data",
          "data": {
            "text/plain": [
              "\n",
              "TRUE \n",
              "  35 "
            ]
          },
          "metadata": {
            "tags": []
          }
        },
        {
          "output_type": "display_data",
          "data": {
            "text/plain": [
              "\n",
              "TRUE \n",
              "  35 "
            ]
          },
          "metadata": {
            "tags": []
          }
        },
        {
          "output_type": "display_data",
          "data": {
            "text/plain": [
              "character(0)"
            ],
            "text/latex": "",
            "text/markdown": "",
            "text/html": [
              ""
            ]
          },
          "metadata": {
            "tags": []
          }
        },
        {
          "output_type": "display_data",
          "data": {
            "text/plain": [
              "character(0)"
            ],
            "text/latex": "",
            "text/markdown": "",
            "text/html": [
              ""
            ]
          },
          "metadata": {
            "tags": []
          }
        },
        {
          "output_type": "display_data",
          "data": {
            "text/plain": [
              "   행정동    면적.km\n",
              "1  금암1동    1.25  \n",
              "2  금암2동    1.25  \n",
              "3  노송동     2.09  \n",
              "4  덕진동     4.78  \n",
              "5  동서학동  15.64  \n",
              "6  삼천1동    1.27  \n",
              "7  삼천2동    0.95  \n",
              "8  삼천3동   26.60  \n",
              "9  서서학동   2.97  \n",
              "10 서신동     2.39  \n",
              "11 송천1동    4.79  \n",
              "12 송천2동   12.14  \n",
              "13 여의동    15.71  \n",
              "14 완산동     0.99  \n",
              "15 우아1동    1.44  \n",
              "16 우아2동   22.91  \n",
              "17 인후1동    1.29  \n",
              "18 인후2동    1.32  \n",
              "19 인후3동    1.68  \n",
              "20 조촌동    24.28  \n",
              "21 중앙동     1.35  \n",
              "22 중화산1동  1.22  \n",
              "23 중화산2동  1.72  \n",
              "24 진북동     1.71  \n",
              "25 팔복동     7.38  \n",
              "26 평화1동    1.49  \n",
              "27 평화2동   15.23  \n",
              "28 풍남동     2.05  \n",
              "29 혁신동     3.37  \n",
              "30 호성동     7.64  \n",
              "31 효자1동    1.02  \n",
              "32 효자2동    0.84  \n",
              "33 효자3동    0.79  \n",
              "34 효자4동    7.71  \n",
              "35 효자5동    6.27  "
            ],
            "text/latex": "A data.frame: 35 × 2\n\\begin{tabular}{ll}\n 행정동 & 면적.km\\\\\n <chr> & <dbl>\\\\\n\\hline\n\t 금암1동   &  1.25\\\\\n\t 금암2동   &  1.25\\\\\n\t 노송동    &  2.09\\\\\n\t 덕진동    &  4.78\\\\\n\t 동서학동  & 15.64\\\\\n\t 삼천1동   &  1.27\\\\\n\t 삼천2동   &  0.95\\\\\n\t 삼천3동   & 26.60\\\\\n\t 서서학동  &  2.97\\\\\n\t 서신동    &  2.39\\\\\n\t 송천1동   &  4.79\\\\\n\t 송천2동   & 12.14\\\\\n\t 여의동    & 15.71\\\\\n\t 완산동    &  0.99\\\\\n\t 우아1동   &  1.44\\\\\n\t 우아2동   & 22.91\\\\\n\t 인후1동   &  1.29\\\\\n\t 인후2동   &  1.32\\\\\n\t 인후3동   &  1.68\\\\\n\t 조촌동    & 24.28\\\\\n\t 중앙동    &  1.35\\\\\n\t 중화산1동 &  1.22\\\\\n\t 중화산2동 &  1.72\\\\\n\t 진북동    &  1.71\\\\\n\t 팔복동    &  7.38\\\\\n\t 평화1동   &  1.49\\\\\n\t 평화2동   & 15.23\\\\\n\t 풍남동    &  2.05\\\\\n\t 혁신동    &  3.37\\\\\n\t 호성동    &  7.64\\\\\n\t 효자1동   &  1.02\\\\\n\t 효자2동   &  0.84\\\\\n\t 효자3동   &  0.79\\\\\n\t 효자4동   &  7.71\\\\\n\t 효자5동   &  6.27\\\\\n\\end{tabular}\n",
            "text/markdown": "\nA data.frame: 35 × 2\n\n| 행정동 &lt;chr&gt; | 면적.km &lt;dbl&gt; |\n|---|---|\n| 금암1동   |  1.25 |\n| 금암2동   |  1.25 |\n| 노송동    |  2.09 |\n| 덕진동    |  4.78 |\n| 동서학동  | 15.64 |\n| 삼천1동   |  1.27 |\n| 삼천2동   |  0.95 |\n| 삼천3동   | 26.60 |\n| 서서학동  |  2.97 |\n| 서신동    |  2.39 |\n| 송천1동   |  4.79 |\n| 송천2동   | 12.14 |\n| 여의동    | 15.71 |\n| 완산동    |  0.99 |\n| 우아1동   |  1.44 |\n| 우아2동   | 22.91 |\n| 인후1동   |  1.29 |\n| 인후2동   |  1.32 |\n| 인후3동   |  1.68 |\n| 조촌동    | 24.28 |\n| 중앙동    |  1.35 |\n| 중화산1동 |  1.22 |\n| 중화산2동 |  1.72 |\n| 진북동    |  1.71 |\n| 팔복동    |  7.38 |\n| 평화1동   |  1.49 |\n| 평화2동   | 15.23 |\n| 풍남동    |  2.05 |\n| 혁신동    |  3.37 |\n| 호성동    |  7.64 |\n| 효자1동   |  1.02 |\n| 효자2동   |  0.84 |\n| 효자3동   |  0.79 |\n| 효자4동   |  7.71 |\n| 효자5동   |  6.27 |\n\n",
            "text/html": [
              "<table class=\"dataframe\">\n",
              "<caption>A data.frame: 35 × 2</caption>\n",
              "<thead>\n",
              "\t<tr><th scope=col>행정동</th><th scope=col>면적.km</th></tr>\n",
              "\t<tr><th scope=col>&lt;chr&gt;</th><th scope=col>&lt;dbl&gt;</th></tr>\n",
              "</thead>\n",
              "<tbody>\n",
              "\t<tr><td>금암1동  </td><td> 1.25</td></tr>\n",
              "\t<tr><td>금암2동  </td><td> 1.25</td></tr>\n",
              "\t<tr><td>노송동   </td><td> 2.09</td></tr>\n",
              "\t<tr><td>덕진동   </td><td> 4.78</td></tr>\n",
              "\t<tr><td>동서학동 </td><td>15.64</td></tr>\n",
              "\t<tr><td>삼천1동  </td><td> 1.27</td></tr>\n",
              "\t<tr><td>삼천2동  </td><td> 0.95</td></tr>\n",
              "\t<tr><td>삼천3동  </td><td>26.60</td></tr>\n",
              "\t<tr><td>서서학동 </td><td> 2.97</td></tr>\n",
              "\t<tr><td>서신동   </td><td> 2.39</td></tr>\n",
              "\t<tr><td>송천1동  </td><td> 4.79</td></tr>\n",
              "\t<tr><td>송천2동  </td><td>12.14</td></tr>\n",
              "\t<tr><td>여의동   </td><td>15.71</td></tr>\n",
              "\t<tr><td>완산동   </td><td> 0.99</td></tr>\n",
              "\t<tr><td>우아1동  </td><td> 1.44</td></tr>\n",
              "\t<tr><td>우아2동  </td><td>22.91</td></tr>\n",
              "\t<tr><td>인후1동  </td><td> 1.29</td></tr>\n",
              "\t<tr><td>인후2동  </td><td> 1.32</td></tr>\n",
              "\t<tr><td>인후3동  </td><td> 1.68</td></tr>\n",
              "\t<tr><td>조촌동   </td><td>24.28</td></tr>\n",
              "\t<tr><td>중앙동   </td><td> 1.35</td></tr>\n",
              "\t<tr><td>중화산1동</td><td> 1.22</td></tr>\n",
              "\t<tr><td>중화산2동</td><td> 1.72</td></tr>\n",
              "\t<tr><td>진북동   </td><td> 1.71</td></tr>\n",
              "\t<tr><td>팔복동   </td><td> 7.38</td></tr>\n",
              "\t<tr><td>평화1동  </td><td> 1.49</td></tr>\n",
              "\t<tr><td>평화2동  </td><td>15.23</td></tr>\n",
              "\t<tr><td>풍남동   </td><td> 2.05</td></tr>\n",
              "\t<tr><td>혁신동   </td><td> 3.37</td></tr>\n",
              "\t<tr><td>호성동   </td><td> 7.64</td></tr>\n",
              "\t<tr><td>효자1동  </td><td> 1.02</td></tr>\n",
              "\t<tr><td>효자2동  </td><td> 0.84</td></tr>\n",
              "\t<tr><td>효자3동  </td><td> 0.79</td></tr>\n",
              "\t<tr><td>효자4동  </td><td> 7.71</td></tr>\n",
              "\t<tr><td>효자5동  </td><td> 6.27</td></tr>\n",
              "</tbody>\n",
              "</table>\n"
            ]
          },
          "metadata": {
            "tags": []
          }
        }
      ]
    },
    {
      "cell_type": "markdown",
      "metadata": {
        "id": "Koe59i5uNvcd"
      },
      "source": [
        "## 상점개수"
      ]
    },
    {
      "cell_type": "code",
      "metadata": {
        "id": "5TtZh74qNCvz",
        "colab": {
          "base_uri": "https://localhost:8080/"
        },
        "outputId": "44e0d922-c781-4937-8d16-1cdf6e5101f4"
      },
      "source": [
        "str(store)\n",
        "head(store)"
      ],
      "execution_count": null,
      "outputs": [
        {
          "output_type": "stream",
          "text": [
            "'data.frame':\t6503 obs. of  39 variables:\n",
            " $ 상가업소번호      : int  20763988 23959893 20776948 23035233 17174374 17174126 17174123 17173996 15501309 28490006 ...\n",
            " $ 상호명            : chr  \"공덕이발관\" \"MK디자인건축\" \"대영타일욕실나라\" \"코오롱세탁소\" ...\n",
            " $ 지점명            : chr  \"\" \"\" \"\" \"\" ...\n",
            " $ 상권업종대분류코드: chr  \"F\" \"D\" \"D\" \"F\" ...\n",
            " $ 상권업종대분류명  : chr  \"생활서비스\" \"소매\" \"소매\" \"생활서비스\" ...\n",
            " $ 상권업종중분류코드: chr  \"F01\" \"D07\" \"D07\" \"F02\" ...\n",
            " $ 상권업종중분류명  : chr  \"이/미용/건강\" \"가정/주방/인테리어\" \"가정/주방/인테리어\" \"세탁/가사서비스\" ...\n",
            " $ 상권업종소분류코드: chr  \"F01A04\" \"D07A15\" \"D07A01\" \"F02A01\" ...\n",
            " $ 상권업종소분류명  : chr  \"남성미용실\" \"유리/페인트/철물건축자재\" \"인테리어/욕실용품/커튼\" \"세탁소/빨래방\" ...\n",
            " $ 표준산업분류코드  : chr  \"S96111\" \"G47519\" \"G47599\" \"S96912\" ...\n",
            " $ 표준산업분류명    : chr  \"이용업\" \"페인트, 유리 및 기타 건설자재 소매업\" \"그외 기타 분류안된 가정용품 소매업\" \"가정용 세탁업\" ...\n",
            " $ 시도코드          : int  45 45 45 45 45 45 45 45 45 45 ...\n",
            " $ 시도명            : chr  \"전라북도\" \"전라북도\" \"전라북도\" \"전라북도\" ...\n",
            " $ 시군구코드        : int  45210 45140 45111 45130 45190 45710 45111 45113 45113 45140 ...\n",
            " $ 시군구명          : chr  \"김제시\" \"익산시\" \"전주시 완산구\" \"군산시\" ...\n",
            " $ 행정동코드        : num  4.52e+09 4.51e+09 4.51e+09 4.51e+09 4.52e+09 ...\n",
            " $ 행정동명          : chr  \"공덕면\" \"송학동\" \"평화2동\" \"미성동\" ...\n",
            " $ 법정동코드        : num  4.52e+09 4.51e+09 4.51e+09 4.51e+09 4.52e+09 ...\n",
            " $ 법정동명          : chr  \"공덕면\" \"송학동\" \"평화동1가\" \"산북동\" ...\n",
            " $ 지번코드          : num  4.52e+18 4.51e+18 4.51e+18 4.51e+18 4.52e+18 ...\n",
            " $ 대지구분코드      : int  1 1 1 1 1 1 1 1 1 1 ...\n",
            " $ 대지구분명        : chr  \"대지\" \"대지\" \"대지\" \"대지\" ...\n",
            " $ 지번본번지        : int  345 265 583 3618 437 268 417 602 1268 349 ...\n",
            " $ 지번부번지        : int  2 21 17 NA NA 3 7 48 NA 1 ...\n",
            " $ 지번주소          : chr  \"전라북도 김제시 공덕면 공덕리 345-2\" \"전라북도 익산시 송학동 265-21\" \"전라북도 전주시 완산구 평화동1가 583-17\" \"전라북도 군산시 산북동 3618\" ...\n",
            " $ 도로명코드        : num  4.52e+11 4.51e+11 4.51e+11 4.51e+11 4.52e+11 ...\n",
            " $ 도로명            : chr  \"전라북도 김제시 공덕면 공덕10길\" \"전라북도 익산시 군익로\" \"전라북도 전주시 완산구 장승배기로\" \"전라북도 군산시 산북로\" ...\n",
            " $ 건물본번지        : int  3 443 221 84 124 68 2 483 29 103 ...\n",
            " $ 건물부번지        : int  NA NA NA NA NA NA 27 NA NA NA ...\n",
            " $ 건물관리번호      : num  4.52e+24 4.51e+24 4.51e+24 4.51e+24 4.52e+24 ...\n",
            " $ 건물명            : chr  \"\" \"\" \"\" \"코오롱컴퓨터세탁\" ...\n",
            " $ 도로명주소        : chr  \"전라북도 김제시 공덕면 공덕10길 3\" \"전라북도 익산시 군익로 443\" \"전라북도 전주시 완산구 장승배기로 221\" \"전라북도 군산시 산북로 84\" ...\n",
            " $ 구우편번호        : int  576921 570080 560842 573888 590090 565805 560809 561823 561761 570964 ...\n",
            " $ 신우편번호        : int  54320 54658 55106 54166 55795 55337 55137 54905 54828 54598 ...\n",
            " $ 동정보            : chr  \"\" \"\" \"\" \"\" ...\n",
            " $ 층정보            : int  NA NA NA NA NA NA NA 1 NA 1 ...\n",
            " $ 호정보            : chr  \"\" \"\" \"\" \"\" ...\n",
            " $ 경도              : num  127 127 127 127 127 ...\n",
            " $ 위도              : num  35.9 35.9 35.8 36 35.4 ...\n"
          ],
          "name": "stdout"
        },
        {
          "output_type": "display_data",
          "data": {
            "text/plain": [
              "  상가업소번호 상호명           지점명 상권업종대분류코드 상권업종대분류명\n",
              "1 20763988     공덕이발관              F                  생활서비스      \n",
              "2 23959893     MK디자인건축            D                  소매            \n",
              "3 20776948     대영타일욕실나라        D                  소매            \n",
              "4 23035233     코오롱세탁소            F                  생활서비스      \n",
              "5 17174374     산리지호텔              O                  숙박            \n",
              "6 17174126     휴앤안                  Q                  음식            \n",
              "  상권업종중분류코드 상권업종중분류명   상권업종소분류코드\n",
              "1 F01                이/미용/건강       F01A04            \n",
              "2 D07                가정/주방/인테리어 D07A15            \n",
              "3 D07                가정/주방/인테리어 D07A01            \n",
              "4 F02                세탁/가사서비스    F02A01            \n",
              "5 O01                호텔/콘도          O01A01            \n",
              "6 Q01                한식               Q01A01            \n",
              "  상권업종소분류명         표준산업분류코드 ⋯ 건물관리번호 건물명          \n",
              "1 남성미용실               S96111           ⋯ 4.521e+24                    \n",
              "2 유리/페인트/철물건축자재 G47519           ⋯ 4.514e+24                    \n",
              "3 인테리어/욕실용품/커튼   G47599           ⋯ 4.511e+24                    \n",
              "4 세탁소/빨래방            S96912           ⋯ 4.513e+24    코오롱컴퓨터세탁\n",
              "5 호텔/콘도                                 ⋯ 4.519e+24    남원국민호텔    \n",
              "6 한식/백반/한정식         I56111           ⋯ 4.571e+24                    \n",
              "  도로명주소                            구우편번호 신우편번호 동정보 층정보\n",
              "1 전라북도 김제시 공덕면 공덕10길 3     576921     54320             NA    \n",
              "2 전라북도 익산시 군익로 443            570080     54658             NA    \n",
              "3 전라북도 전주시 완산구 장승배기로 221 560842     55106             NA    \n",
              "4 전라북도 군산시 산북로 84             573888     54166             NA    \n",
              "5 전라북도 남원시 소리길 124            590090     55795             NA    \n",
              "6 전라북도 완주군 삼례읍 후정로 68      565805     55337             NA    \n",
              "  호정보 경도  위도 \n",
              "1        126.9 35.89\n",
              "2        126.9 35.94\n",
              "3        127.1 35.80\n",
              "4        126.7 35.96\n",
              "5        127.4 35.41\n",
              "6        127.1 35.91"
            ],
            "text/latex": "A data.frame: 6 × 39\n\\begin{tabular}{r|lllllllllllllllllllll}\n  & 상가업소번호 & 상호명 & 지점명 & 상권업종대분류코드 & 상권업종대분류명 & 상권업종중분류코드 & 상권업종중분류명 & 상권업종소분류코드 & 상권업종소분류명 & 표준산업분류코드 & ⋯ & 건물관리번호 & 건물명 & 도로명주소 & 구우편번호 & 신우편번호 & 동정보 & 층정보 & 호정보 & 경도 & 위도\\\\\n  & <int> & <chr> & <chr> & <chr> & <chr> & <chr> & <chr> & <chr> & <chr> & <chr> & ⋯ & <dbl> & <chr> & <chr> & <int> & <int> & <chr> & <int> & <chr> & <dbl> & <dbl>\\\\\n\\hline\n\t1 & 20763988 & 공덕이발관       &  & F & 생활서비스 & F01 & 이/미용/건강       & F01A04 & 남성미용실               & S96111 & ⋯ & 4.521e+24 &                  & 전라북도 김제시 공덕면 공덕10길 3     & 576921 & 54320 &  & NA &  & 126.9 & 35.89\\\\\n\t2 & 23959893 & MK디자인건축     &  & D & 소매       & D07 & 가정/주방/인테리어 & D07A15 & 유리/페인트/철물건축자재 & G47519 & ⋯ & 4.514e+24 &                  & 전라북도 익산시 군익로 443            & 570080 & 54658 &  & NA &  & 126.9 & 35.94\\\\\n\t3 & 20776948 & 대영타일욕실나라 &  & D & 소매       & D07 & 가정/주방/인테리어 & D07A01 & 인테리어/욕실용품/커튼   & G47599 & ⋯ & 4.511e+24 &                  & 전라북도 전주시 완산구 장승배기로 221 & 560842 & 55106 &  & NA &  & 127.1 & 35.80\\\\\n\t4 & 23035233 & 코오롱세탁소     &  & F & 생활서비스 & F02 & 세탁/가사서비스    & F02A01 & 세탁소/빨래방            & S96912 & ⋯ & 4.513e+24 & 코오롱컴퓨터세탁 & 전라북도 군산시 산북로 84             & 573888 & 54166 &  & NA &  & 126.7 & 35.96\\\\\n\t5 & 17174374 & 산리지호텔       &  & O & 숙박       & O01 & 호텔/콘도          & O01A01 & 호텔/콘도                &        & ⋯ & 4.519e+24 & 남원국민호텔     & 전라북도 남원시 소리길 124            & 590090 & 55795 &  & NA &  & 127.4 & 35.41\\\\\n\t6 & 17174126 & 휴앤안           &  & Q & 음식       & Q01 & 한식               & Q01A01 & 한식/백반/한정식         & I56111 & ⋯ & 4.571e+24 &                  & 전라북도 완주군 삼례읍 후정로 68      & 565805 & 55337 &  & NA &  & 127.1 & 35.91\\\\\n\\end{tabular}\n",
            "text/markdown": "\nA data.frame: 6 × 39\n\n| <!--/--> | 상가업소번호 &lt;int&gt; | 상호명 &lt;chr&gt; | 지점명 &lt;chr&gt; | 상권업종대분류코드 &lt;chr&gt; | 상권업종대분류명 &lt;chr&gt; | 상권업종중분류코드 &lt;chr&gt; | 상권업종중분류명 &lt;chr&gt; | 상권업종소분류코드 &lt;chr&gt; | 상권업종소분류명 &lt;chr&gt; | 표준산업분류코드 &lt;chr&gt; | ⋯ ⋯ | 건물관리번호 &lt;dbl&gt; | 건물명 &lt;chr&gt; | 도로명주소 &lt;chr&gt; | 구우편번호 &lt;int&gt; | 신우편번호 &lt;int&gt; | 동정보 &lt;chr&gt; | 층정보 &lt;int&gt; | 호정보 &lt;chr&gt; | 경도 &lt;dbl&gt; | 위도 &lt;dbl&gt; |\n|---|---|---|---|---|---|---|---|---|---|---|---|---|---|---|---|---|---|---|---|---|---|\n| 1 | 20763988 | 공덕이발관       | <!----> | F | 생활서비스 | F01 | 이/미용/건강       | F01A04 | 남성미용실               | S96111 | ⋯ | 4.521e+24 | <!----> | 전라북도 김제시 공덕면 공덕10길 3     | 576921 | 54320 | <!----> | NA | <!----> | 126.9 | 35.89 |\n| 2 | 23959893 | MK디자인건축     | <!----> | D | 소매       | D07 | 가정/주방/인테리어 | D07A15 | 유리/페인트/철물건축자재 | G47519 | ⋯ | 4.514e+24 | <!----> | 전라북도 익산시 군익로 443            | 570080 | 54658 | <!----> | NA | <!----> | 126.9 | 35.94 |\n| 3 | 20776948 | 대영타일욕실나라 | <!----> | D | 소매       | D07 | 가정/주방/인테리어 | D07A01 | 인테리어/욕실용품/커튼   | G47599 | ⋯ | 4.511e+24 | <!----> | 전라북도 전주시 완산구 장승배기로 221 | 560842 | 55106 | <!----> | NA | <!----> | 127.1 | 35.80 |\n| 4 | 23035233 | 코오롱세탁소     | <!----> | F | 생활서비스 | F02 | 세탁/가사서비스    | F02A01 | 세탁소/빨래방            | S96912 | ⋯ | 4.513e+24 | 코오롱컴퓨터세탁 | 전라북도 군산시 산북로 84             | 573888 | 54166 | <!----> | NA | <!----> | 126.7 | 35.96 |\n| 5 | 17174374 | 산리지호텔       | <!----> | O | 숙박       | O01 | 호텔/콘도          | O01A01 | 호텔/콘도                | <!----> | ⋯ | 4.519e+24 | 남원국민호텔     | 전라북도 남원시 소리길 124            | 590090 | 55795 | <!----> | NA | <!----> | 127.4 | 35.41 |\n| 6 | 17174126 | 휴앤안           | <!----> | Q | 음식       | Q01 | 한식               | Q01A01 | 한식/백반/한정식         | I56111 | ⋯ | 4.571e+24 | <!----> | 전라북도 완주군 삼례읍 후정로 68      | 565805 | 55337 | <!----> | NA | <!----> | 127.1 | 35.91 |\n\n",
            "text/html": [
              "<table class=\"dataframe\">\n",
              "<caption>A data.frame: 6 × 39</caption>\n",
              "<thead>\n",
              "\t<tr><th></th><th scope=col>상가업소번호</th><th scope=col>상호명</th><th scope=col>지점명</th><th scope=col>상권업종대분류코드</th><th scope=col>상권업종대분류명</th><th scope=col>상권업종중분류코드</th><th scope=col>상권업종중분류명</th><th scope=col>상권업종소분류코드</th><th scope=col>상권업종소분류명</th><th scope=col>표준산업분류코드</th><th scope=col>⋯</th><th scope=col>건물관리번호</th><th scope=col>건물명</th><th scope=col>도로명주소</th><th scope=col>구우편번호</th><th scope=col>신우편번호</th><th scope=col>동정보</th><th scope=col>층정보</th><th scope=col>호정보</th><th scope=col>경도</th><th scope=col>위도</th></tr>\n",
              "\t<tr><th></th><th scope=col>&lt;int&gt;</th><th scope=col>&lt;chr&gt;</th><th scope=col>&lt;chr&gt;</th><th scope=col>&lt;chr&gt;</th><th scope=col>&lt;chr&gt;</th><th scope=col>&lt;chr&gt;</th><th scope=col>&lt;chr&gt;</th><th scope=col>&lt;chr&gt;</th><th scope=col>&lt;chr&gt;</th><th scope=col>&lt;chr&gt;</th><th scope=col>⋯</th><th scope=col>&lt;dbl&gt;</th><th scope=col>&lt;chr&gt;</th><th scope=col>&lt;chr&gt;</th><th scope=col>&lt;int&gt;</th><th scope=col>&lt;int&gt;</th><th scope=col>&lt;chr&gt;</th><th scope=col>&lt;int&gt;</th><th scope=col>&lt;chr&gt;</th><th scope=col>&lt;dbl&gt;</th><th scope=col>&lt;dbl&gt;</th></tr>\n",
              "</thead>\n",
              "<tbody>\n",
              "\t<tr><th scope=row>1</th><td>20763988</td><td>공덕이발관      </td><td></td><td>F</td><td>생활서비스</td><td>F01</td><td>이/미용/건강      </td><td>F01A04</td><td>남성미용실              </td><td>S96111</td><td>⋯</td><td>4.521e+24</td><td>                </td><td>전라북도 김제시 공덕면 공덕10길 3    </td><td>576921</td><td>54320</td><td></td><td>NA</td><td></td><td>126.9</td><td>35.89</td></tr>\n",
              "\t<tr><th scope=row>2</th><td>23959893</td><td>MK디자인건축    </td><td></td><td>D</td><td>소매      </td><td>D07</td><td>가정/주방/인테리어</td><td>D07A15</td><td>유리/페인트/철물건축자재</td><td>G47519</td><td>⋯</td><td>4.514e+24</td><td>                </td><td>전라북도 익산시 군익로 443           </td><td>570080</td><td>54658</td><td></td><td>NA</td><td></td><td>126.9</td><td>35.94</td></tr>\n",
              "\t<tr><th scope=row>3</th><td>20776948</td><td>대영타일욕실나라</td><td></td><td>D</td><td>소매      </td><td>D07</td><td>가정/주방/인테리어</td><td>D07A01</td><td>인테리어/욕실용품/커튼  </td><td>G47599</td><td>⋯</td><td>4.511e+24</td><td>                </td><td>전라북도 전주시 완산구 장승배기로 221</td><td>560842</td><td>55106</td><td></td><td>NA</td><td></td><td>127.1</td><td>35.80</td></tr>\n",
              "\t<tr><th scope=row>4</th><td>23035233</td><td>코오롱세탁소    </td><td></td><td>F</td><td>생활서비스</td><td>F02</td><td>세탁/가사서비스   </td><td>F02A01</td><td>세탁소/빨래방           </td><td>S96912</td><td>⋯</td><td>4.513e+24</td><td>코오롱컴퓨터세탁</td><td>전라북도 군산시 산북로 84            </td><td>573888</td><td>54166</td><td></td><td>NA</td><td></td><td>126.7</td><td>35.96</td></tr>\n",
              "\t<tr><th scope=row>5</th><td>17174374</td><td>산리지호텔      </td><td></td><td>O</td><td>숙박      </td><td>O01</td><td>호텔/콘도         </td><td>O01A01</td><td>호텔/콘도               </td><td>      </td><td>⋯</td><td>4.519e+24</td><td>남원국민호텔    </td><td>전라북도 남원시 소리길 124           </td><td>590090</td><td>55795</td><td></td><td>NA</td><td></td><td>127.4</td><td>35.41</td></tr>\n",
              "\t<tr><th scope=row>6</th><td>17174126</td><td>휴앤안          </td><td></td><td>Q</td><td>음식      </td><td>Q01</td><td>한식              </td><td>Q01A01</td><td>한식/백반/한정식        </td><td>I56111</td><td>⋯</td><td>4.571e+24</td><td>                </td><td>전라북도 완주군 삼례읍 후정로 68     </td><td>565805</td><td>55337</td><td></td><td>NA</td><td></td><td>127.1</td><td>35.91</td></tr>\n",
              "</tbody>\n",
              "</table>\n"
            ]
          },
          "metadata": {
            "tags": []
          }
        }
      ]
    },
    {
      "cell_type": "markdown",
      "metadata": {
        "id": "C24kC4czNzYA"
      },
      "source": [
        "1 store의 변수명 확인\n",
        "\n",
        "2 필요한 변수들 추출\n",
        "\n",
        "▼"
      ]
    },
    {
      "cell_type": "code",
      "metadata": {
        "id": "sUbf7fiWNQvs",
        "colab": {
          "base_uri": "https://localhost:8080/"
        },
        "outputId": "71b7c79c-96be-41a4-b6f3-f566447754d1"
      },
      "source": [
        "names(store)\n",
        "store <- store[, c(1,2,5,7,9,11,13,15,17,19,32,38,39)]\n",
        "str(store)\n",
        "head(store)"
      ],
      "execution_count": null,
      "outputs": [
        {
          "output_type": "display_data",
          "data": {
            "text/plain": [
              " [1] \"상가업소번호\"       \"상호명\"             \"지점명\"            \n",
              " [4] \"상권업종대분류코드\" \"상권업종대분류명\"   \"상권업종중분류코드\"\n",
              " [7] \"상권업종중분류명\"   \"상권업종소분류코드\" \"상권업종소분류명\"  \n",
              "[10] \"표준산업분류코드\"   \"표준산업분류명\"     \"시도코드\"          \n",
              "[13] \"시도명\"             \"시군구코드\"         \"시군구명\"          \n",
              "[16] \"행정동코드\"         \"행정동명\"           \"법정동코드\"        \n",
              "[19] \"법정동명\"           \"지번코드\"           \"대지구분코드\"      \n",
              "[22] \"대지구분명\"         \"지번본번지\"         \"지번부번지\"        \n",
              "[25] \"지번주소\"           \"도로명코드\"         \"도로명\"            \n",
              "[28] \"건물본번지\"         \"건물부번지\"         \"건물관리번호\"      \n",
              "[31] \"건물명\"             \"도로명주소\"         \"구우편번호\"        \n",
              "[34] \"신우편번호\"         \"동정보\"             \"층정보\"            \n",
              "[37] \"호정보\"             \"경도\"               \"위도\"              "
            ],
            "text/latex": "\\begin{enumerate*}\n\\item '상가업소번호'\n\\item '상호명'\n\\item '지점명'\n\\item '상권업종대분류코드'\n\\item '상권업종대분류명'\n\\item '상권업종중분류코드'\n\\item '상권업종중분류명'\n\\item '상권업종소분류코드'\n\\item '상권업종소분류명'\n\\item '표준산업분류코드'\n\\item '표준산업분류명'\n\\item '시도코드'\n\\item '시도명'\n\\item '시군구코드'\n\\item '시군구명'\n\\item '행정동코드'\n\\item '행정동명'\n\\item '법정동코드'\n\\item '법정동명'\n\\item '지번코드'\n\\item '대지구분코드'\n\\item '대지구분명'\n\\item '지번본번지'\n\\item '지번부번지'\n\\item '지번주소'\n\\item '도로명코드'\n\\item '도로명'\n\\item '건물본번지'\n\\item '건물부번지'\n\\item '건물관리번호'\n\\item '건물명'\n\\item '도로명주소'\n\\item '구우편번호'\n\\item '신우편번호'\n\\item '동정보'\n\\item '층정보'\n\\item '호정보'\n\\item '경도'\n\\item '위도'\n\\end{enumerate*}\n",
            "text/markdown": "1. '상가업소번호'\n2. '상호명'\n3. '지점명'\n4. '상권업종대분류코드'\n5. '상권업종대분류명'\n6. '상권업종중분류코드'\n7. '상권업종중분류명'\n8. '상권업종소분류코드'\n9. '상권업종소분류명'\n10. '표준산업분류코드'\n11. '표준산업분류명'\n12. '시도코드'\n13. '시도명'\n14. '시군구코드'\n15. '시군구명'\n16. '행정동코드'\n17. '행정동명'\n18. '법정동코드'\n19. '법정동명'\n20. '지번코드'\n21. '대지구분코드'\n22. '대지구분명'\n23. '지번본번지'\n24. '지번부번지'\n25. '지번주소'\n26. '도로명코드'\n27. '도로명'\n28. '건물본번지'\n29. '건물부번지'\n30. '건물관리번호'\n31. '건물명'\n32. '도로명주소'\n33. '구우편번호'\n34. '신우편번호'\n35. '동정보'\n36. '층정보'\n37. '호정보'\n38. '경도'\n39. '위도'\n\n\n",
            "text/html": [
              "<style>\n",
              ".list-inline {list-style: none; margin:0; padding: 0}\n",
              ".list-inline>li {display: inline-block}\n",
              ".list-inline>li:not(:last-child)::after {content: \"\\00b7\"; padding: 0 .5ex}\n",
              "</style>\n",
              "<ol class=list-inline><li>'상가업소번호'</li><li>'상호명'</li><li>'지점명'</li><li>'상권업종대분류코드'</li><li>'상권업종대분류명'</li><li>'상권업종중분류코드'</li><li>'상권업종중분류명'</li><li>'상권업종소분류코드'</li><li>'상권업종소분류명'</li><li>'표준산업분류코드'</li><li>'표준산업분류명'</li><li>'시도코드'</li><li>'시도명'</li><li>'시군구코드'</li><li>'시군구명'</li><li>'행정동코드'</li><li>'행정동명'</li><li>'법정동코드'</li><li>'법정동명'</li><li>'지번코드'</li><li>'대지구분코드'</li><li>'대지구분명'</li><li>'지번본번지'</li><li>'지번부번지'</li><li>'지번주소'</li><li>'도로명코드'</li><li>'도로명'</li><li>'건물본번지'</li><li>'건물부번지'</li><li>'건물관리번호'</li><li>'건물명'</li><li>'도로명주소'</li><li>'구우편번호'</li><li>'신우편번호'</li><li>'동정보'</li><li>'층정보'</li><li>'호정보'</li><li>'경도'</li><li>'위도'</li></ol>\n"
            ]
          },
          "metadata": {
            "tags": []
          }
        },
        {
          "output_type": "stream",
          "text": [
            "'data.frame':\t6503 obs. of  13 variables:\n",
            " $ 상가업소번호    : int  20763988 23959893 20776948 23035233 17174374 17174126 17174123 17173996 15501309 28490006 ...\n",
            " $ 상호명          : chr  \"공덕이발관\" \"MK디자인건축\" \"대영타일욕실나라\" \"코오롱세탁소\" ...\n",
            " $ 상권업종대분류명: chr  \"생활서비스\" \"소매\" \"소매\" \"생활서비스\" ...\n",
            " $ 상권업종중분류명: chr  \"이/미용/건강\" \"가정/주방/인테리어\" \"가정/주방/인테리어\" \"세탁/가사서비스\" ...\n",
            " $ 상권업종소분류명: chr  \"남성미용실\" \"유리/페인트/철물건축자재\" \"인테리어/욕실용품/커튼\" \"세탁소/빨래방\" ...\n",
            " $ 표준산업분류명  : chr  \"이용업\" \"페인트, 유리 및 기타 건설자재 소매업\" \"그외 기타 분류안된 가정용품 소매업\" \"가정용 세탁업\" ...\n",
            " $ 시도명          : chr  \"전라북도\" \"전라북도\" \"전라북도\" \"전라북도\" ...\n",
            " $ 시군구명        : chr  \"김제시\" \"익산시\" \"전주시 완산구\" \"군산시\" ...\n",
            " $ 행정동명        : chr  \"공덕면\" \"송학동\" \"평화2동\" \"미성동\" ...\n",
            " $ 법정동명        : chr  \"공덕면\" \"송학동\" \"평화동1가\" \"산북동\" ...\n",
            " $ 도로명주소      : chr  \"전라북도 김제시 공덕면 공덕10길 3\" \"전라북도 익산시 군익로 443\" \"전라북도 전주시 완산구 장승배기로 221\" \"전라북도 군산시 산북로 84\" ...\n",
            " $ 경도            : num  127 127 127 127 127 ...\n",
            " $ 위도            : num  35.9 35.9 35.8 36 35.4 ...\n"
          ],
          "name": "stdout"
        },
        {
          "output_type": "display_data",
          "data": {
            "text/plain": [
              "  상가업소번호 상호명           상권업종대분류명 상권업종중분류명  \n",
              "1 20763988     공덕이발관       생활서비스       이/미용/건강      \n",
              "2 23959893     MK디자인건축     소매             가정/주방/인테리어\n",
              "3 20776948     대영타일욕실나라 소매             가정/주방/인테리어\n",
              "4 23035233     코오롱세탁소     생활서비스       세탁/가사서비스   \n",
              "5 17174374     산리지호텔       숙박             호텔/콘도         \n",
              "6 17174126     휴앤안           음식             한식              \n",
              "  상권업종소분류명         표준산업분류명                       시도명  \n",
              "1 남성미용실               이용업                               전라북도\n",
              "2 유리/페인트/철물건축자재 페인트, 유리 및 기타 건설자재 소매업 전라북도\n",
              "3 인테리어/욕실용품/커튼   그외 기타 분류안된 가정용품 소매업   전라북도\n",
              "4 세탁소/빨래방            가정용 세탁업                        전라북도\n",
              "5 호텔/콘도                                                     전라북도\n",
              "6 한식/백반/한정식         한식 음식점업                        전라북도\n",
              "  시군구명      행정동명 법정동명  도로명주소                            경도 \n",
              "1 김제시        공덕면   공덕면    전라북도 김제시 공덕면 공덕10길 3     126.9\n",
              "2 익산시        송학동   송학동    전라북도 익산시 군익로 443            126.9\n",
              "3 전주시 완산구 평화2동  평화동1가 전라북도 전주시 완산구 장승배기로 221 127.1\n",
              "4 군산시        미성동   산북동    전라북도 군산시 산북로 84             126.7\n",
              "5 남원시        노암동   신촌동    전라북도 남원시 소리길 124            127.4\n",
              "6 완주군        삼례읍   삼례읍    전라북도 완주군 삼례읍 후정로 68      127.1\n",
              "  위도 \n",
              "1 35.89\n",
              "2 35.94\n",
              "3 35.80\n",
              "4 35.96\n",
              "5 35.41\n",
              "6 35.91"
            ],
            "text/latex": "A data.frame: 6 × 13\n\\begin{tabular}{r|lllllllllllll}\n  & 상가업소번호 & 상호명 & 상권업종대분류명 & 상권업종중분류명 & 상권업종소분류명 & 표준산업분류명 & 시도명 & 시군구명 & 행정동명 & 법정동명 & 도로명주소 & 경도 & 위도\\\\\n  & <int> & <chr> & <chr> & <chr> & <chr> & <chr> & <chr> & <chr> & <chr> & <chr> & <chr> & <dbl> & <dbl>\\\\\n\\hline\n\t1 & 20763988 & 공덕이발관       & 생활서비스 & 이/미용/건강       & 남성미용실               & 이용업                               & 전라북도 & 김제시        & 공덕면  & 공덕면    & 전라북도 김제시 공덕면 공덕10길 3     & 126.9 & 35.89\\\\\n\t2 & 23959893 & MK디자인건축     & 소매       & 가정/주방/인테리어 & 유리/페인트/철물건축자재 & 페인트, 유리 및 기타 건설자재 소매업 & 전라북도 & 익산시        & 송학동  & 송학동    & 전라북도 익산시 군익로 443            & 126.9 & 35.94\\\\\n\t3 & 20776948 & 대영타일욕실나라 & 소매       & 가정/주방/인테리어 & 인테리어/욕실용품/커튼   & 그외 기타 분류안된 가정용품 소매업   & 전라북도 & 전주시 완산구 & 평화2동 & 평화동1가 & 전라북도 전주시 완산구 장승배기로 221 & 127.1 & 35.80\\\\\n\t4 & 23035233 & 코오롱세탁소     & 생활서비스 & 세탁/가사서비스    & 세탁소/빨래방            & 가정용 세탁업                        & 전라북도 & 군산시        & 미성동  & 산북동    & 전라북도 군산시 산북로 84             & 126.7 & 35.96\\\\\n\t5 & 17174374 & 산리지호텔       & 숙박       & 호텔/콘도          & 호텔/콘도                &                                      & 전라북도 & 남원시        & 노암동  & 신촌동    & 전라북도 남원시 소리길 124            & 127.4 & 35.41\\\\\n\t6 & 17174126 & 휴앤안           & 음식       & 한식               & 한식/백반/한정식         & 한식 음식점업                        & 전라북도 & 완주군        & 삼례읍  & 삼례읍    & 전라북도 완주군 삼례읍 후정로 68      & 127.1 & 35.91\\\\\n\\end{tabular}\n",
            "text/markdown": "\nA data.frame: 6 × 13\n\n| <!--/--> | 상가업소번호 &lt;int&gt; | 상호명 &lt;chr&gt; | 상권업종대분류명 &lt;chr&gt; | 상권업종중분류명 &lt;chr&gt; | 상권업종소분류명 &lt;chr&gt; | 표준산업분류명 &lt;chr&gt; | 시도명 &lt;chr&gt; | 시군구명 &lt;chr&gt; | 행정동명 &lt;chr&gt; | 법정동명 &lt;chr&gt; | 도로명주소 &lt;chr&gt; | 경도 &lt;dbl&gt; | 위도 &lt;dbl&gt; |\n|---|---|---|---|---|---|---|---|---|---|---|---|---|---|\n| 1 | 20763988 | 공덕이발관       | 생활서비스 | 이/미용/건강       | 남성미용실               | 이용업                               | 전라북도 | 김제시        | 공덕면  | 공덕면    | 전라북도 김제시 공덕면 공덕10길 3     | 126.9 | 35.89 |\n| 2 | 23959893 | MK디자인건축     | 소매       | 가정/주방/인테리어 | 유리/페인트/철물건축자재 | 페인트, 유리 및 기타 건설자재 소매업 | 전라북도 | 익산시        | 송학동  | 송학동    | 전라북도 익산시 군익로 443            | 126.9 | 35.94 |\n| 3 | 20776948 | 대영타일욕실나라 | 소매       | 가정/주방/인테리어 | 인테리어/욕실용품/커튼   | 그외 기타 분류안된 가정용품 소매업   | 전라북도 | 전주시 완산구 | 평화2동 | 평화동1가 | 전라북도 전주시 완산구 장승배기로 221 | 127.1 | 35.80 |\n| 4 | 23035233 | 코오롱세탁소     | 생활서비스 | 세탁/가사서비스    | 세탁소/빨래방            | 가정용 세탁업                        | 전라북도 | 군산시        | 미성동  | 산북동    | 전라북도 군산시 산북로 84             | 126.7 | 35.96 |\n| 5 | 17174374 | 산리지호텔       | 숙박       | 호텔/콘도          | 호텔/콘도                | <!----> | 전라북도 | 남원시        | 노암동  | 신촌동    | 전라북도 남원시 소리길 124            | 127.4 | 35.41 |\n| 6 | 17174126 | 휴앤안           | 음식       | 한식               | 한식/백반/한정식         | 한식 음식점업                        | 전라북도 | 완주군        | 삼례읍  | 삼례읍    | 전라북도 완주군 삼례읍 후정로 68      | 127.1 | 35.91 |\n\n",
            "text/html": [
              "<table class=\"dataframe\">\n",
              "<caption>A data.frame: 6 × 13</caption>\n",
              "<thead>\n",
              "\t<tr><th></th><th scope=col>상가업소번호</th><th scope=col>상호명</th><th scope=col>상권업종대분류명</th><th scope=col>상권업종중분류명</th><th scope=col>상권업종소분류명</th><th scope=col>표준산업분류명</th><th scope=col>시도명</th><th scope=col>시군구명</th><th scope=col>행정동명</th><th scope=col>법정동명</th><th scope=col>도로명주소</th><th scope=col>경도</th><th scope=col>위도</th></tr>\n",
              "\t<tr><th></th><th scope=col>&lt;int&gt;</th><th scope=col>&lt;chr&gt;</th><th scope=col>&lt;chr&gt;</th><th scope=col>&lt;chr&gt;</th><th scope=col>&lt;chr&gt;</th><th scope=col>&lt;chr&gt;</th><th scope=col>&lt;chr&gt;</th><th scope=col>&lt;chr&gt;</th><th scope=col>&lt;chr&gt;</th><th scope=col>&lt;chr&gt;</th><th scope=col>&lt;chr&gt;</th><th scope=col>&lt;dbl&gt;</th><th scope=col>&lt;dbl&gt;</th></tr>\n",
              "</thead>\n",
              "<tbody>\n",
              "\t<tr><th scope=row>1</th><td>20763988</td><td>공덕이발관      </td><td>생활서비스</td><td>이/미용/건강      </td><td>남성미용실              </td><td>이용업                              </td><td>전라북도</td><td>김제시       </td><td>공덕면 </td><td>공덕면   </td><td>전라북도 김제시 공덕면 공덕10길 3    </td><td>126.9</td><td>35.89</td></tr>\n",
              "\t<tr><th scope=row>2</th><td>23959893</td><td>MK디자인건축    </td><td>소매      </td><td>가정/주방/인테리어</td><td>유리/페인트/철물건축자재</td><td>페인트, 유리 및 기타 건설자재 소매업</td><td>전라북도</td><td>익산시       </td><td>송학동 </td><td>송학동   </td><td>전라북도 익산시 군익로 443           </td><td>126.9</td><td>35.94</td></tr>\n",
              "\t<tr><th scope=row>3</th><td>20776948</td><td>대영타일욕실나라</td><td>소매      </td><td>가정/주방/인테리어</td><td>인테리어/욕실용품/커튼  </td><td>그외 기타 분류안된 가정용품 소매업  </td><td>전라북도</td><td>전주시 완산구</td><td>평화2동</td><td>평화동1가</td><td>전라북도 전주시 완산구 장승배기로 221</td><td>127.1</td><td>35.80</td></tr>\n",
              "\t<tr><th scope=row>4</th><td>23035233</td><td>코오롱세탁소    </td><td>생활서비스</td><td>세탁/가사서비스   </td><td>세탁소/빨래방           </td><td>가정용 세탁업                       </td><td>전라북도</td><td>군산시       </td><td>미성동 </td><td>산북동   </td><td>전라북도 군산시 산북로 84            </td><td>126.7</td><td>35.96</td></tr>\n",
              "\t<tr><th scope=row>5</th><td>17174374</td><td>산리지호텔      </td><td>숙박      </td><td>호텔/콘도         </td><td>호텔/콘도               </td><td>                                    </td><td>전라북도</td><td>남원시       </td><td>노암동 </td><td>신촌동   </td><td>전라북도 남원시 소리길 124           </td><td>127.4</td><td>35.41</td></tr>\n",
              "\t<tr><th scope=row>6</th><td>17174126</td><td>휴앤안          </td><td>음식      </td><td>한식              </td><td>한식/백반/한정식        </td><td>한식 음식점업                       </td><td>전라북도</td><td>완주군       </td><td>삼례읍 </td><td>삼례읍   </td><td>전라북도 완주군 삼례읍 후정로 68     </td><td>127.1</td><td>35.91</td></tr>\n",
              "</tbody>\n",
              "</table>\n"
            ]
          },
          "metadata": {
            "tags": []
          }
        }
      ]
    },
    {
      "cell_type": "markdown",
      "metadata": {
        "id": "Kwyl2vt8N6je"
      },
      "source": [
        "▼ store의 시군구명 중 '전주'를 포함하는 데이터 추출"
      ]
    },
    {
      "cell_type": "code",
      "metadata": {
        "id": "S6Dn5Q4dNZr-",
        "colab": {
          "base_uri": "https://localhost:8080/"
        },
        "outputId": "3832f897-2c34-4f46-eecb-d912a4923b43"
      },
      "source": [
        "store <- store[grep(\"전주\", store$시군구명), ]\n",
        "head(store)"
      ],
      "execution_count": null,
      "outputs": [
        {
          "output_type": "display_data",
          "data": {
            "text/plain": [
              "   상가업소번호 상호명           상권업종대분류명 상권업종중분류명      \n",
              "3  20776948     대영타일욕실나라 소매             가정/주방/인테리어    \n",
              "7  17174123     솔차니           음식             한식                  \n",
              "8  17173996     BBQ치킨          음식             유흥주점              \n",
              "9  15501309     금암이동통신     소매             사진/광학/정밀기기소매\n",
              "19 20743412     서곡해법영어교실 학문/교육        학원-어학             \n",
              "20 28494686     대호장           숙박             모텔/여관/여인숙      \n",
              "   상권업종소분류명       표준산업분류명                     시도명  \n",
              "3  인테리어/욕실용품/커튼 그외 기타 분류안된 가정용품 소매업 전라북도\n",
              "7  한식/백반/한정식       한식 음식점업                      전라북도\n",
              "8  호프/맥주              기타 주점업                        전라북도\n",
              "9  핸드폰소매             통신기기 소매업                    전라북도\n",
              "19 학원-어린이영어        외국어학원                         전라북도\n",
              "20 모텔/여관/여인숙       여관업                             전라북도\n",
              "   시군구명      행정동명 법정동명  도로명주소                            \n",
              "3  전주시 완산구 평화2동  평화동1가 전라북도 전주시 완산구 장승배기로 221 \n",
              "7  전주시 완산구 삼천3동  삼천동1가 전라북도 전주시 완산구 장승배기로 2-27\n",
              "8  전주시 덕진구 우아1동  우아동3가 전라북도 전주시 덕진구 견훤로 483     \n",
              "9  전주시 덕진구 송천1동  송천동2가 전라북도 전주시 덕진구 붓내3길 29     \n",
              "19 전주시 완산구 효자4동  효자동3가 전라북도 전주시 완산구 서곡7길 24     \n",
              "20 전주시 덕진구 우아2동  산정동    전라북도 전주시 덕진구 산정1길 32     \n",
              "   경도  위도 \n",
              "3  127.1 35.80\n",
              "7  127.1 35.79\n",
              "8  127.2 35.85\n",
              "9  127.1 35.87\n",
              "19 127.1 35.83\n",
              "20 127.2 35.84"
            ],
            "text/latex": "A data.frame: 6 × 13\n\\begin{tabular}{r|lllllllllllll}\n  & 상가업소번호 & 상호명 & 상권업종대분류명 & 상권업종중분류명 & 상권업종소분류명 & 표준산업분류명 & 시도명 & 시군구명 & 행정동명 & 법정동명 & 도로명주소 & 경도 & 위도\\\\\n  & <int> & <chr> & <chr> & <chr> & <chr> & <chr> & <chr> & <chr> & <chr> & <chr> & <chr> & <dbl> & <dbl>\\\\\n\\hline\n\t3 & 20776948 & 대영타일욕실나라 & 소매      & 가정/주방/인테리어     & 인테리어/욕실용품/커튼 & 그외 기타 분류안된 가정용품 소매업 & 전라북도 & 전주시 완산구 & 평화2동 & 평화동1가 & 전라북도 전주시 완산구 장승배기로 221  & 127.1 & 35.80\\\\\n\t7 & 17174123 & 솔차니           & 음식      & 한식                   & 한식/백반/한정식       & 한식 음식점업                      & 전라북도 & 전주시 완산구 & 삼천3동 & 삼천동1가 & 전라북도 전주시 완산구 장승배기로 2-27 & 127.1 & 35.79\\\\\n\t8 & 17173996 & BBQ치킨          & 음식      & 유흥주점               & 호프/맥주              & 기타 주점업                        & 전라북도 & 전주시 덕진구 & 우아1동 & 우아동3가 & 전라북도 전주시 덕진구 견훤로 483      & 127.2 & 35.85\\\\\n\t9 & 15501309 & 금암이동통신     & 소매      & 사진/광학/정밀기기소매 & 핸드폰소매             & 통신기기 소매업                    & 전라북도 & 전주시 덕진구 & 송천1동 & 송천동2가 & 전라북도 전주시 덕진구 붓내3길 29      & 127.1 & 35.87\\\\\n\t19 & 20743412 & 서곡해법영어교실 & 학문/교육 & 학원-어학              & 학원-어린이영어        & 외국어학원                         & 전라북도 & 전주시 완산구 & 효자4동 & 효자동3가 & 전라북도 전주시 완산구 서곡7길 24      & 127.1 & 35.83\\\\\n\t20 & 28494686 & 대호장           & 숙박      & 모텔/여관/여인숙       & 모텔/여관/여인숙       & 여관업                             & 전라북도 & 전주시 덕진구 & 우아2동 & 산정동    & 전라북도 전주시 덕진구 산정1길 32      & 127.2 & 35.84\\\\\n\\end{tabular}\n",
            "text/markdown": "\nA data.frame: 6 × 13\n\n| <!--/--> | 상가업소번호 &lt;int&gt; | 상호명 &lt;chr&gt; | 상권업종대분류명 &lt;chr&gt; | 상권업종중분류명 &lt;chr&gt; | 상권업종소분류명 &lt;chr&gt; | 표준산업분류명 &lt;chr&gt; | 시도명 &lt;chr&gt; | 시군구명 &lt;chr&gt; | 행정동명 &lt;chr&gt; | 법정동명 &lt;chr&gt; | 도로명주소 &lt;chr&gt; | 경도 &lt;dbl&gt; | 위도 &lt;dbl&gt; |\n|---|---|---|---|---|---|---|---|---|---|---|---|---|---|\n| 3 | 20776948 | 대영타일욕실나라 | 소매      | 가정/주방/인테리어     | 인테리어/욕실용품/커튼 | 그외 기타 분류안된 가정용품 소매업 | 전라북도 | 전주시 완산구 | 평화2동 | 평화동1가 | 전라북도 전주시 완산구 장승배기로 221  | 127.1 | 35.80 |\n| 7 | 17174123 | 솔차니           | 음식      | 한식                   | 한식/백반/한정식       | 한식 음식점업                      | 전라북도 | 전주시 완산구 | 삼천3동 | 삼천동1가 | 전라북도 전주시 완산구 장승배기로 2-27 | 127.1 | 35.79 |\n| 8 | 17173996 | BBQ치킨          | 음식      | 유흥주점               | 호프/맥주              | 기타 주점업                        | 전라북도 | 전주시 덕진구 | 우아1동 | 우아동3가 | 전라북도 전주시 덕진구 견훤로 483      | 127.2 | 35.85 |\n| 9 | 15501309 | 금암이동통신     | 소매      | 사진/광학/정밀기기소매 | 핸드폰소매             | 통신기기 소매업                    | 전라북도 | 전주시 덕진구 | 송천1동 | 송천동2가 | 전라북도 전주시 덕진구 붓내3길 29      | 127.1 | 35.87 |\n| 19 | 20743412 | 서곡해법영어교실 | 학문/교육 | 학원-어학              | 학원-어린이영어        | 외국어학원                         | 전라북도 | 전주시 완산구 | 효자4동 | 효자동3가 | 전라북도 전주시 완산구 서곡7길 24      | 127.1 | 35.83 |\n| 20 | 28494686 | 대호장           | 숙박      | 모텔/여관/여인숙       | 모텔/여관/여인숙       | 여관업                             | 전라북도 | 전주시 덕진구 | 우아2동 | 산정동    | 전라북도 전주시 덕진구 산정1길 32      | 127.2 | 35.84 |\n\n",
            "text/html": [
              "<table class=\"dataframe\">\n",
              "<caption>A data.frame: 6 × 13</caption>\n",
              "<thead>\n",
              "\t<tr><th></th><th scope=col>상가업소번호</th><th scope=col>상호명</th><th scope=col>상권업종대분류명</th><th scope=col>상권업종중분류명</th><th scope=col>상권업종소분류명</th><th scope=col>표준산업분류명</th><th scope=col>시도명</th><th scope=col>시군구명</th><th scope=col>행정동명</th><th scope=col>법정동명</th><th scope=col>도로명주소</th><th scope=col>경도</th><th scope=col>위도</th></tr>\n",
              "\t<tr><th></th><th scope=col>&lt;int&gt;</th><th scope=col>&lt;chr&gt;</th><th scope=col>&lt;chr&gt;</th><th scope=col>&lt;chr&gt;</th><th scope=col>&lt;chr&gt;</th><th scope=col>&lt;chr&gt;</th><th scope=col>&lt;chr&gt;</th><th scope=col>&lt;chr&gt;</th><th scope=col>&lt;chr&gt;</th><th scope=col>&lt;chr&gt;</th><th scope=col>&lt;chr&gt;</th><th scope=col>&lt;dbl&gt;</th><th scope=col>&lt;dbl&gt;</th></tr>\n",
              "</thead>\n",
              "<tbody>\n",
              "\t<tr><th scope=row>3</th><td>20776948</td><td>대영타일욕실나라</td><td>소매     </td><td>가정/주방/인테리어    </td><td>인테리어/욕실용품/커튼</td><td>그외 기타 분류안된 가정용품 소매업</td><td>전라북도</td><td>전주시 완산구</td><td>평화2동</td><td>평화동1가</td><td>전라북도 전주시 완산구 장승배기로 221 </td><td>127.1</td><td>35.80</td></tr>\n",
              "\t<tr><th scope=row>7</th><td>17174123</td><td>솔차니          </td><td>음식     </td><td>한식                  </td><td>한식/백반/한정식      </td><td>한식 음식점업                     </td><td>전라북도</td><td>전주시 완산구</td><td>삼천3동</td><td>삼천동1가</td><td>전라북도 전주시 완산구 장승배기로 2-27</td><td>127.1</td><td>35.79</td></tr>\n",
              "\t<tr><th scope=row>8</th><td>17173996</td><td>BBQ치킨         </td><td>음식     </td><td>유흥주점              </td><td>호프/맥주             </td><td>기타 주점업                       </td><td>전라북도</td><td>전주시 덕진구</td><td>우아1동</td><td>우아동3가</td><td>전라북도 전주시 덕진구 견훤로 483     </td><td>127.2</td><td>35.85</td></tr>\n",
              "\t<tr><th scope=row>9</th><td>15501309</td><td>금암이동통신    </td><td>소매     </td><td>사진/광학/정밀기기소매</td><td>핸드폰소매            </td><td>통신기기 소매업                   </td><td>전라북도</td><td>전주시 덕진구</td><td>송천1동</td><td>송천동2가</td><td>전라북도 전주시 덕진구 붓내3길 29     </td><td>127.1</td><td>35.87</td></tr>\n",
              "\t<tr><th scope=row>19</th><td>20743412</td><td>서곡해법영어교실</td><td>학문/교육</td><td>학원-어학             </td><td>학원-어린이영어       </td><td>외국어학원                        </td><td>전라북도</td><td>전주시 완산구</td><td>효자4동</td><td>효자동3가</td><td>전라북도 전주시 완산구 서곡7길 24     </td><td>127.1</td><td>35.83</td></tr>\n",
              "\t<tr><th scope=row>20</th><td>28494686</td><td>대호장          </td><td>숙박     </td><td>모텔/여관/여인숙      </td><td>모텔/여관/여인숙      </td><td>여관업                            </td><td>전라북도</td><td>전주시 덕진구</td><td>우아2동</td><td>산정동   </td><td>전라북도 전주시 덕진구 산정1길 32     </td><td>127.2</td><td>35.84</td></tr>\n",
              "</tbody>\n",
              "</table>\n"
            ]
          },
          "metadata": {
            "tags": []
          }
        }
      ]
    },
    {
      "cell_type": "markdown",
      "metadata": {
        "id": "ZfiWx-QiN_jU"
      },
      "source": [
        "▼ 행정동명을 기준으로 상가의 개수 추출"
      ]
    },
    {
      "cell_type": "code",
      "metadata": {
        "id": "D8Jq7WMKNkAA",
        "colab": {
          "base_uri": "https://localhost:8080/"
        },
        "outputId": "ed6a9345-e97b-45f9-b5a3-d4d2e3d715ee"
      },
      "source": [
        "store <- store %>% group_by(행정동명) %>% summarise(상점개수 = length(상가업소번호))\n",
        "head(store)"
      ],
      "execution_count": null,
      "outputs": [
        {
          "output_type": "display_data",
          "data": {
            "text/plain": [
              "  행정동명 상점개수\n",
              "1            1     \n",
              "2 금암1동   81     \n",
              "3 금암2동   55     \n",
              "4 노송동    75     \n",
              "5 덕진동   114     \n",
              "6 동산동    62     "
            ],
            "text/latex": "A tibble: 6 × 2\n\\begin{tabular}{ll}\n 행정동명 & 상점개수\\\\\n <chr> & <int>\\\\\n\\hline\n\t         &   1\\\\\n\t 금암1동 &  81\\\\\n\t 금암2동 &  55\\\\\n\t 노송동  &  75\\\\\n\t 덕진동  & 114\\\\\n\t 동산동  &  62\\\\\n\\end{tabular}\n",
            "text/markdown": "\nA tibble: 6 × 2\n\n| 행정동명 &lt;chr&gt; | 상점개수 &lt;int&gt; |\n|---|---|\n| <!----> |   1 |\n| 금암1동 |  81 |\n| 금암2동 |  55 |\n| 노송동  |  75 |\n| 덕진동  | 114 |\n| 동산동  |  62 |\n\n",
            "text/html": [
              "<table class=\"dataframe\">\n",
              "<caption>A tibble: 6 × 2</caption>\n",
              "<thead>\n",
              "\t<tr><th scope=col>행정동명</th><th scope=col>상점개수</th></tr>\n",
              "\t<tr><th scope=col>&lt;chr&gt;</th><th scope=col>&lt;int&gt;</th></tr>\n",
              "</thead>\n",
              "<tbody>\n",
              "\t<tr><td>       </td><td>  1</td></tr>\n",
              "\t<tr><td>금암1동</td><td> 81</td></tr>\n",
              "\t<tr><td>금암2동</td><td> 55</td></tr>\n",
              "\t<tr><td>노송동 </td><td> 75</td></tr>\n",
              "\t<tr><td>덕진동 </td><td>114</td></tr>\n",
              "\t<tr><td>동산동 </td><td> 62</td></tr>\n",
              "</tbody>\n",
              "</table>\n"
            ]
          },
          "metadata": {
            "tags": []
          }
        }
      ]
    },
    {
      "cell_type": "markdown",
      "metadata": {
        "id": "AbNB2CyxODuv"
      },
      "source": [
        "\n",
        "\n",
        "1 데이터프레임으로 변경\n",
        "\n",
        "2 행정동을 기준으로 오름차순 정렬\n",
        "\n",
        "▼"
      ]
    },
    {
      "cell_type": "code",
      "metadata": {
        "id": "thlszABdNnEB",
        "colab": {
          "base_uri": "https://localhost:8080/"
        },
        "outputId": "f49f418b-62d8-476a-cfa6-44f706169a3c"
      },
      "source": [
        "store <- as.data.frame(store)\n",
        "store <- arrange(store, store$행정동명)\n",
        "store"
      ],
      "execution_count": null,
      "outputs": [
        {
          "output_type": "display_data",
          "data": {
            "text/plain": [
              "   행정동명  상점개수\n",
              "1              1     \n",
              "2  금암1동    81     \n",
              "3  금암2동    55     \n",
              "4  노송동     75     \n",
              "5  덕진동    114     \n",
              "6  동산동     62     \n",
              "7  동서학동   18     \n",
              "8  삼천1동    81     \n",
              "9  삼천2동   105     \n",
              "10 삼천3동    73     \n",
              "11 서서학동   21     \n",
              "12 서신동    318     \n",
              "13 송천1동    92     \n",
              "14 송천2동    96     \n",
              "15 여의동      1     \n",
              "16 완산동     17     \n",
              "17 우아1동   115     \n",
              "18 우아2동    73     \n",
              "19 인후1동    70     \n",
              "20 인후2동    61     \n",
              "21 인후3동   101     \n",
              "22 조촌동     36     \n",
              "23 중앙동    114     \n",
              "24 중화산1동  54     \n",
              "25 중화산2동 131     \n",
              "26 진북동     68     \n",
              "27 팔복동     50     \n",
              "28 평화1동    27     \n",
              "29 평화2동   187     \n",
              "30 풍남동    106     \n",
              "31 호성동     67     \n",
              "32 효자1동    65     \n",
              "33 효자2동    84     \n",
              "34 효자3동    61     \n",
              "35 효자4동   220     \n",
              "36 효자5동     1     "
            ],
            "text/latex": "A data.frame: 36 × 2\n\\begin{tabular}{ll}\n 행정동명 & 상점개수\\\\\n <chr> & <int>\\\\\n\\hline\n\t           &   1\\\\\n\t 금암1동   &  81\\\\\n\t 금암2동   &  55\\\\\n\t 노송동    &  75\\\\\n\t 덕진동    & 114\\\\\n\t 동산동    &  62\\\\\n\t 동서학동  &  18\\\\\n\t 삼천1동   &  81\\\\\n\t 삼천2동   & 105\\\\\n\t 삼천3동   &  73\\\\\n\t 서서학동  &  21\\\\\n\t 서신동    & 318\\\\\n\t 송천1동   &  92\\\\\n\t 송천2동   &  96\\\\\n\t 여의동    &   1\\\\\n\t 완산동    &  17\\\\\n\t 우아1동   & 115\\\\\n\t 우아2동   &  73\\\\\n\t 인후1동   &  70\\\\\n\t 인후2동   &  61\\\\\n\t 인후3동   & 101\\\\\n\t 조촌동    &  36\\\\\n\t 중앙동    & 114\\\\\n\t 중화산1동 &  54\\\\\n\t 중화산2동 & 131\\\\\n\t 진북동    &  68\\\\\n\t 팔복동    &  50\\\\\n\t 평화1동   &  27\\\\\n\t 평화2동   & 187\\\\\n\t 풍남동    & 106\\\\\n\t 호성동    &  67\\\\\n\t 효자1동   &  65\\\\\n\t 효자2동   &  84\\\\\n\t 효자3동   &  61\\\\\n\t 효자4동   & 220\\\\\n\t 효자5동   &   1\\\\\n\\end{tabular}\n",
            "text/markdown": "\nA data.frame: 36 × 2\n\n| 행정동명 &lt;chr&gt; | 상점개수 &lt;int&gt; |\n|---|---|\n| <!----> |   1 |\n| 금암1동   |  81 |\n| 금암2동   |  55 |\n| 노송동    |  75 |\n| 덕진동    | 114 |\n| 동산동    |  62 |\n| 동서학동  |  18 |\n| 삼천1동   |  81 |\n| 삼천2동   | 105 |\n| 삼천3동   |  73 |\n| 서서학동  |  21 |\n| 서신동    | 318 |\n| 송천1동   |  92 |\n| 송천2동   |  96 |\n| 여의동    |   1 |\n| 완산동    |  17 |\n| 우아1동   | 115 |\n| 우아2동   |  73 |\n| 인후1동   |  70 |\n| 인후2동   |  61 |\n| 인후3동   | 101 |\n| 조촌동    |  36 |\n| 중앙동    | 114 |\n| 중화산1동 |  54 |\n| 중화산2동 | 131 |\n| 진북동    |  68 |\n| 팔복동    |  50 |\n| 평화1동   |  27 |\n| 평화2동   | 187 |\n| 풍남동    | 106 |\n| 호성동    |  67 |\n| 효자1동   |  65 |\n| 효자2동   |  84 |\n| 효자3동   |  61 |\n| 효자4동   | 220 |\n| 효자5동   |   1 |\n\n",
            "text/html": [
              "<table class=\"dataframe\">\n",
              "<caption>A data.frame: 36 × 2</caption>\n",
              "<thead>\n",
              "\t<tr><th scope=col>행정동명</th><th scope=col>상점개수</th></tr>\n",
              "\t<tr><th scope=col>&lt;chr&gt;</th><th scope=col>&lt;int&gt;</th></tr>\n",
              "</thead>\n",
              "<tbody>\n",
              "\t<tr><td>         </td><td>  1</td></tr>\n",
              "\t<tr><td>금암1동  </td><td> 81</td></tr>\n",
              "\t<tr><td>금암2동  </td><td> 55</td></tr>\n",
              "\t<tr><td>노송동   </td><td> 75</td></tr>\n",
              "\t<tr><td>덕진동   </td><td>114</td></tr>\n",
              "\t<tr><td>동산동   </td><td> 62</td></tr>\n",
              "\t<tr><td>동서학동 </td><td> 18</td></tr>\n",
              "\t<tr><td>삼천1동  </td><td> 81</td></tr>\n",
              "\t<tr><td>삼천2동  </td><td>105</td></tr>\n",
              "\t<tr><td>삼천3동  </td><td> 73</td></tr>\n",
              "\t<tr><td>서서학동 </td><td> 21</td></tr>\n",
              "\t<tr><td>서신동   </td><td>318</td></tr>\n",
              "\t<tr><td>송천1동  </td><td> 92</td></tr>\n",
              "\t<tr><td>송천2동  </td><td> 96</td></tr>\n",
              "\t<tr><td>여의동   </td><td>  1</td></tr>\n",
              "\t<tr><td>완산동   </td><td> 17</td></tr>\n",
              "\t<tr><td>우아1동  </td><td>115</td></tr>\n",
              "\t<tr><td>우아2동  </td><td> 73</td></tr>\n",
              "\t<tr><td>인후1동  </td><td> 70</td></tr>\n",
              "\t<tr><td>인후2동  </td><td> 61</td></tr>\n",
              "\t<tr><td>인후3동  </td><td>101</td></tr>\n",
              "\t<tr><td>조촌동   </td><td> 36</td></tr>\n",
              "\t<tr><td>중앙동   </td><td>114</td></tr>\n",
              "\t<tr><td>중화산1동</td><td> 54</td></tr>\n",
              "\t<tr><td>중화산2동</td><td>131</td></tr>\n",
              "\t<tr><td>진북동   </td><td> 68</td></tr>\n",
              "\t<tr><td>팔복동   </td><td> 50</td></tr>\n",
              "\t<tr><td>평화1동  </td><td> 27</td></tr>\n",
              "\t<tr><td>평화2동  </td><td>187</td></tr>\n",
              "\t<tr><td>풍남동   </td><td>106</td></tr>\n",
              "\t<tr><td>호성동   </td><td> 67</td></tr>\n",
              "\t<tr><td>효자1동  </td><td> 65</td></tr>\n",
              "\t<tr><td>효자2동  </td><td> 84</td></tr>\n",
              "\t<tr><td>효자3동  </td><td> 61</td></tr>\n",
              "\t<tr><td>효자4동  </td><td>220</td></tr>\n",
              "\t<tr><td>효자5동  </td><td>  1</td></tr>\n",
              "</tbody>\n",
              "</table>\n"
            ]
          },
          "metadata": {
            "tags": []
          }
        }
      ]
    },
    {
      "cell_type": "markdown",
      "metadata": {
        "id": "ri7J_2noOLDG"
      },
      "source": [
        "▼ 데이터의 열이름을 '행정동', '상점개수'로 변경"
      ]
    },
    {
      "cell_type": "code",
      "metadata": {
        "id": "7_G9rLGKNrQH",
        "colab": {
          "base_uri": "https://localhost:8080/"
        },
        "outputId": "6078251c-3a73-48ac-9871-a3bb881ab538"
      },
      "source": [
        "names(store) <- c(\"행정동\", \"상점개수\")\n",
        "store"
      ],
      "execution_count": null,
      "outputs": [
        {
          "output_type": "display_data",
          "data": {
            "text/plain": [
              "   행정동    상점개수\n",
              "1              1     \n",
              "2  금암1동    81     \n",
              "3  금암2동    55     \n",
              "4  노송동     75     \n",
              "5  덕진동    114     \n",
              "6  동산동     62     \n",
              "7  동서학동   18     \n",
              "8  삼천1동    81     \n",
              "9  삼천2동   105     \n",
              "10 삼천3동    73     \n",
              "11 서서학동   21     \n",
              "12 서신동    318     \n",
              "13 송천1동    92     \n",
              "14 송천2동    96     \n",
              "15 여의동      1     \n",
              "16 완산동     17     \n",
              "17 우아1동   115     \n",
              "18 우아2동    73     \n",
              "19 인후1동    70     \n",
              "20 인후2동    61     \n",
              "21 인후3동   101     \n",
              "22 조촌동     36     \n",
              "23 중앙동    114     \n",
              "24 중화산1동  54     \n",
              "25 중화산2동 131     \n",
              "26 진북동     68     \n",
              "27 팔복동     50     \n",
              "28 평화1동    27     \n",
              "29 평화2동   187     \n",
              "30 풍남동    106     \n",
              "31 호성동     67     \n",
              "32 효자1동    65     \n",
              "33 효자2동    84     \n",
              "34 효자3동    61     \n",
              "35 효자4동   220     \n",
              "36 효자5동     1     "
            ],
            "text/latex": "A data.frame: 36 × 2\n\\begin{tabular}{ll}\n 행정동 & 상점개수\\\\\n <chr> & <int>\\\\\n\\hline\n\t           &   1\\\\\n\t 금암1동   &  81\\\\\n\t 금암2동   &  55\\\\\n\t 노송동    &  75\\\\\n\t 덕진동    & 114\\\\\n\t 동산동    &  62\\\\\n\t 동서학동  &  18\\\\\n\t 삼천1동   &  81\\\\\n\t 삼천2동   & 105\\\\\n\t 삼천3동   &  73\\\\\n\t 서서학동  &  21\\\\\n\t 서신동    & 318\\\\\n\t 송천1동   &  92\\\\\n\t 송천2동   &  96\\\\\n\t 여의동    &   1\\\\\n\t 완산동    &  17\\\\\n\t 우아1동   & 115\\\\\n\t 우아2동   &  73\\\\\n\t 인후1동   &  70\\\\\n\t 인후2동   &  61\\\\\n\t 인후3동   & 101\\\\\n\t 조촌동    &  36\\\\\n\t 중앙동    & 114\\\\\n\t 중화산1동 &  54\\\\\n\t 중화산2동 & 131\\\\\n\t 진북동    &  68\\\\\n\t 팔복동    &  50\\\\\n\t 평화1동   &  27\\\\\n\t 평화2동   & 187\\\\\n\t 풍남동    & 106\\\\\n\t 호성동    &  67\\\\\n\t 효자1동   &  65\\\\\n\t 효자2동   &  84\\\\\n\t 효자3동   &  61\\\\\n\t 효자4동   & 220\\\\\n\t 효자5동   &   1\\\\\n\\end{tabular}\n",
            "text/markdown": "\nA data.frame: 36 × 2\n\n| 행정동 &lt;chr&gt; | 상점개수 &lt;int&gt; |\n|---|---|\n| <!----> |   1 |\n| 금암1동   |  81 |\n| 금암2동   |  55 |\n| 노송동    |  75 |\n| 덕진동    | 114 |\n| 동산동    |  62 |\n| 동서학동  |  18 |\n| 삼천1동   |  81 |\n| 삼천2동   | 105 |\n| 삼천3동   |  73 |\n| 서서학동  |  21 |\n| 서신동    | 318 |\n| 송천1동   |  92 |\n| 송천2동   |  96 |\n| 여의동    |   1 |\n| 완산동    |  17 |\n| 우아1동   | 115 |\n| 우아2동   |  73 |\n| 인후1동   |  70 |\n| 인후2동   |  61 |\n| 인후3동   | 101 |\n| 조촌동    |  36 |\n| 중앙동    | 114 |\n| 중화산1동 |  54 |\n| 중화산2동 | 131 |\n| 진북동    |  68 |\n| 팔복동    |  50 |\n| 평화1동   |  27 |\n| 평화2동   | 187 |\n| 풍남동    | 106 |\n| 호성동    |  67 |\n| 효자1동   |  65 |\n| 효자2동   |  84 |\n| 효자3동   |  61 |\n| 효자4동   | 220 |\n| 효자5동   |   1 |\n\n",
            "text/html": [
              "<table class=\"dataframe\">\n",
              "<caption>A data.frame: 36 × 2</caption>\n",
              "<thead>\n",
              "\t<tr><th scope=col>행정동</th><th scope=col>상점개수</th></tr>\n",
              "\t<tr><th scope=col>&lt;chr&gt;</th><th scope=col>&lt;int&gt;</th></tr>\n",
              "</thead>\n",
              "<tbody>\n",
              "\t<tr><td>         </td><td>  1</td></tr>\n",
              "\t<tr><td>금암1동  </td><td> 81</td></tr>\n",
              "\t<tr><td>금암2동  </td><td> 55</td></tr>\n",
              "\t<tr><td>노송동   </td><td> 75</td></tr>\n",
              "\t<tr><td>덕진동   </td><td>114</td></tr>\n",
              "\t<tr><td>동산동   </td><td> 62</td></tr>\n",
              "\t<tr><td>동서학동 </td><td> 18</td></tr>\n",
              "\t<tr><td>삼천1동  </td><td> 81</td></tr>\n",
              "\t<tr><td>삼천2동  </td><td>105</td></tr>\n",
              "\t<tr><td>삼천3동  </td><td> 73</td></tr>\n",
              "\t<tr><td>서서학동 </td><td> 21</td></tr>\n",
              "\t<tr><td>서신동   </td><td>318</td></tr>\n",
              "\t<tr><td>송천1동  </td><td> 92</td></tr>\n",
              "\t<tr><td>송천2동  </td><td> 96</td></tr>\n",
              "\t<tr><td>여의동   </td><td>  1</td></tr>\n",
              "\t<tr><td>완산동   </td><td> 17</td></tr>\n",
              "\t<tr><td>우아1동  </td><td>115</td></tr>\n",
              "\t<tr><td>우아2동  </td><td> 73</td></tr>\n",
              "\t<tr><td>인후1동  </td><td> 70</td></tr>\n",
              "\t<tr><td>인후2동  </td><td> 61</td></tr>\n",
              "\t<tr><td>인후3동  </td><td>101</td></tr>\n",
              "\t<tr><td>조촌동   </td><td> 36</td></tr>\n",
              "\t<tr><td>중앙동   </td><td>114</td></tr>\n",
              "\t<tr><td>중화산1동</td><td> 54</td></tr>\n",
              "\t<tr><td>중화산2동</td><td>131</td></tr>\n",
              "\t<tr><td>진북동   </td><td> 68</td></tr>\n",
              "\t<tr><td>팔복동   </td><td> 50</td></tr>\n",
              "\t<tr><td>평화1동  </td><td> 27</td></tr>\n",
              "\t<tr><td>평화2동  </td><td>187</td></tr>\n",
              "\t<tr><td>풍남동   </td><td>106</td></tr>\n",
              "\t<tr><td>호성동   </td><td> 67</td></tr>\n",
              "\t<tr><td>효자1동  </td><td> 65</td></tr>\n",
              "\t<tr><td>효자2동  </td><td> 84</td></tr>\n",
              "\t<tr><td>효자3동  </td><td> 61</td></tr>\n",
              "\t<tr><td>효자4동  </td><td>220</td></tr>\n",
              "\t<tr><td>효자5동  </td><td>  1</td></tr>\n",
              "</tbody>\n",
              "</table>\n"
            ]
          },
          "metadata": {
            "tags": []
          }
        }
      ]
    },
    {
      "cell_type": "code",
      "metadata": {
        "colab": {
          "base_uri": "https://localhost:8080/"
        },
        "id": "Ttm_XV2ucF_0",
        "outputId": "e47bb28d-4230-4b10-971b-b0141cf1c4d3"
      },
      "source": [
        "table(store$행정동 %in% jjdong)\n",
        "table(jjdong %in% store$행정동)\n",
        "\n",
        "jjdong[jjdong %in% region$행정동 == FALSE] #store에는 없는 jjdong의 행정동\n",
        "store$행정동[store$행정동 %in% jjdong == FALSE] #store에는 없는 jjdong의 행정동"
      ],
      "execution_count": null,
      "outputs": [
        {
          "output_type": "display_data",
          "data": {
            "text/plain": [
              "\n",
              "FALSE  TRUE \n",
              "    2    34 "
            ]
          },
          "metadata": {
            "tags": []
          }
        },
        {
          "output_type": "display_data",
          "data": {
            "text/plain": [
              "\n",
              "FALSE  TRUE \n",
              "    1    34 "
            ]
          },
          "metadata": {
            "tags": []
          }
        },
        {
          "output_type": "display_data",
          "data": {
            "text/plain": [
              "character(0)"
            ],
            "text/latex": "",
            "text/markdown": "",
            "text/html": [
              ""
            ]
          },
          "metadata": {
            "tags": []
          }
        },
        {
          "output_type": "display_data",
          "data": {
            "text/plain": [
              "[1] \"\"       \"동산동\""
            ],
            "text/latex": "\\begin{enumerate*}\n\\item ''\n\\item '동산동'\n\\end{enumerate*}\n",
            "text/markdown": "1. ''\n2. '동산동'\n\n\n",
            "text/html": [
              "<style>\n",
              ".list-inline {list-style: none; margin:0; padding: 0}\n",
              ".list-inline>li {display: inline-block}\n",
              ".list-inline>li:not(:last-child)::after {content: \"\\00b7\"; padding: 0 .5ex}\n",
              "</style>\n",
              "<ol class=list-inline><li>''</li><li>'동산동'</li></ol>\n"
            ]
          },
          "metadata": {
            "tags": []
          }
        }
      ]
    },
    {
      "cell_type": "code",
      "metadata": {
        "colab": {
          "base_uri": "https://localhost:8080/"
        },
        "id": "jBYflpHou5a8",
        "outputId": "9555a643-3432-4044-b33e-c95d763e3ded"
      },
      "source": [
        "which(store$행정동 %in% jjdong == FALSE)\n",
        "store[which(store$행정동 %in% jjdong == FALSE), ]"
      ],
      "execution_count": null,
      "outputs": [
        {
          "output_type": "display_data",
          "data": {
            "text/plain": [
              "[1] 1 6"
            ],
            "text/latex": "\\begin{enumerate*}\n\\item 1\n\\item 6\n\\end{enumerate*}\n",
            "text/markdown": "1. 1\n2. 6\n\n\n",
            "text/html": [
              "<style>\n",
              ".list-inline {list-style: none; margin:0; padding: 0}\n",
              ".list-inline>li {display: inline-block}\n",
              ".list-inline>li:not(:last-child)::after {content: \"\\00b7\"; padding: 0 .5ex}\n",
              "</style>\n",
              "<ol class=list-inline><li>1</li><li>6</li></ol>\n"
            ]
          },
          "metadata": {
            "tags": []
          }
        },
        {
          "output_type": "display_data",
          "data": {
            "text/plain": [
              "  행정동 상점개수\n",
              "1         1      \n",
              "6 동산동 62      "
            ],
            "text/latex": "A data.frame: 2 × 2\n\\begin{tabular}{r|ll}\n  & 행정동 & 상점개수\\\\\n  & <chr> & <int>\\\\\n\\hline\n\t1 &        &  1\\\\\n\t6 & 동산동 & 62\\\\\n\\end{tabular}\n",
            "text/markdown": "\nA data.frame: 2 × 2\n\n| <!--/--> | 행정동 &lt;chr&gt; | 상점개수 &lt;int&gt; |\n|---|---|---|\n| 1 | <!----> |  1 |\n| 6 | 동산동 | 62 |\n\n",
            "text/html": [
              "<table class=\"dataframe\">\n",
              "<caption>A data.frame: 2 × 2</caption>\n",
              "<thead>\n",
              "\t<tr><th></th><th scope=col>행정동</th><th scope=col>상점개수</th></tr>\n",
              "\t<tr><th></th><th scope=col>&lt;chr&gt;</th><th scope=col>&lt;int&gt;</th></tr>\n",
              "</thead>\n",
              "<tbody>\n",
              "\t<tr><th scope=row>1</th><td>      </td><td> 1</td></tr>\n",
              "\t<tr><th scope=row>6</th><td>동산동</td><td>62</td></tr>\n",
              "</tbody>\n",
              "</table>\n"
            ]
          },
          "metadata": {
            "tags": []
          }
        }
      ]
    },
    {
      "cell_type": "code",
      "metadata": {
        "colab": {
          "base_uri": "https://localhost:8080/"
        },
        "id": "FwbHdwpIcK0W",
        "outputId": "e823b86a-320a-473c-e934-5e8461229869"
      },
      "source": [
        "store$행정동[which(store$행정동 == \"동산동\")] <- \"여의동\"\n",
        "store"
      ],
      "execution_count": null,
      "outputs": [
        {
          "output_type": "display_data",
          "data": {
            "text/plain": [
              "   행정동    상점개수\n",
              "1              1     \n",
              "2  금암1동    81     \n",
              "3  금암2동    55     \n",
              "4  노송동     75     \n",
              "5  덕진동    114     \n",
              "6  여의동     62     \n",
              "7  동서학동   18     \n",
              "8  삼천1동    81     \n",
              "9  삼천2동   105     \n",
              "10 삼천3동    73     \n",
              "11 서서학동   21     \n",
              "12 서신동    318     \n",
              "13 송천1동    92     \n",
              "14 송천2동    96     \n",
              "15 여의동      1     \n",
              "16 완산동     17     \n",
              "17 우아1동   115     \n",
              "18 우아2동    73     \n",
              "19 인후1동    70     \n",
              "20 인후2동    61     \n",
              "21 인후3동   101     \n",
              "22 조촌동     36     \n",
              "23 중앙동    114     \n",
              "24 중화산1동  54     \n",
              "25 중화산2동 131     \n",
              "26 진북동     68     \n",
              "27 팔복동     50     \n",
              "28 평화1동    27     \n",
              "29 평화2동   187     \n",
              "30 풍남동    106     \n",
              "31 호성동     67     \n",
              "32 효자1동    65     \n",
              "33 효자2동    84     \n",
              "34 효자3동    61     \n",
              "35 효자4동   220     \n",
              "36 효자5동     1     "
            ],
            "text/latex": "A data.frame: 36 × 2\n\\begin{tabular}{ll}\n 행정동 & 상점개수\\\\\n <chr> & <int>\\\\\n\\hline\n\t           &   1\\\\\n\t 금암1동   &  81\\\\\n\t 금암2동   &  55\\\\\n\t 노송동    &  75\\\\\n\t 덕진동    & 114\\\\\n\t 여의동    &  62\\\\\n\t 동서학동  &  18\\\\\n\t 삼천1동   &  81\\\\\n\t 삼천2동   & 105\\\\\n\t 삼천3동   &  73\\\\\n\t 서서학동  &  21\\\\\n\t 서신동    & 318\\\\\n\t 송천1동   &  92\\\\\n\t 송천2동   &  96\\\\\n\t 여의동    &   1\\\\\n\t 완산동    &  17\\\\\n\t 우아1동   & 115\\\\\n\t 우아2동   &  73\\\\\n\t 인후1동   &  70\\\\\n\t 인후2동   &  61\\\\\n\t 인후3동   & 101\\\\\n\t 조촌동    &  36\\\\\n\t 중앙동    & 114\\\\\n\t 중화산1동 &  54\\\\\n\t 중화산2동 & 131\\\\\n\t 진북동    &  68\\\\\n\t 팔복동    &  50\\\\\n\t 평화1동   &  27\\\\\n\t 평화2동   & 187\\\\\n\t 풍남동    & 106\\\\\n\t 호성동    &  67\\\\\n\t 효자1동   &  65\\\\\n\t 효자2동   &  84\\\\\n\t 효자3동   &  61\\\\\n\t 효자4동   & 220\\\\\n\t 효자5동   &   1\\\\\n\\end{tabular}\n",
            "text/markdown": "\nA data.frame: 36 × 2\n\n| 행정동 &lt;chr&gt; | 상점개수 &lt;int&gt; |\n|---|---|\n| <!----> |   1 |\n| 금암1동   |  81 |\n| 금암2동   |  55 |\n| 노송동    |  75 |\n| 덕진동    | 114 |\n| 여의동    |  62 |\n| 동서학동  |  18 |\n| 삼천1동   |  81 |\n| 삼천2동   | 105 |\n| 삼천3동   |  73 |\n| 서서학동  |  21 |\n| 서신동    | 318 |\n| 송천1동   |  92 |\n| 송천2동   |  96 |\n| 여의동    |   1 |\n| 완산동    |  17 |\n| 우아1동   | 115 |\n| 우아2동   |  73 |\n| 인후1동   |  70 |\n| 인후2동   |  61 |\n| 인후3동   | 101 |\n| 조촌동    |  36 |\n| 중앙동    | 114 |\n| 중화산1동 |  54 |\n| 중화산2동 | 131 |\n| 진북동    |  68 |\n| 팔복동    |  50 |\n| 평화1동   |  27 |\n| 평화2동   | 187 |\n| 풍남동    | 106 |\n| 호성동    |  67 |\n| 효자1동   |  65 |\n| 효자2동   |  84 |\n| 효자3동   |  61 |\n| 효자4동   | 220 |\n| 효자5동   |   1 |\n\n",
            "text/html": [
              "<table class=\"dataframe\">\n",
              "<caption>A data.frame: 36 × 2</caption>\n",
              "<thead>\n",
              "\t<tr><th scope=col>행정동</th><th scope=col>상점개수</th></tr>\n",
              "\t<tr><th scope=col>&lt;chr&gt;</th><th scope=col>&lt;int&gt;</th></tr>\n",
              "</thead>\n",
              "<tbody>\n",
              "\t<tr><td>         </td><td>  1</td></tr>\n",
              "\t<tr><td>금암1동  </td><td> 81</td></tr>\n",
              "\t<tr><td>금암2동  </td><td> 55</td></tr>\n",
              "\t<tr><td>노송동   </td><td> 75</td></tr>\n",
              "\t<tr><td>덕진동   </td><td>114</td></tr>\n",
              "\t<tr><td>여의동   </td><td> 62</td></tr>\n",
              "\t<tr><td>동서학동 </td><td> 18</td></tr>\n",
              "\t<tr><td>삼천1동  </td><td> 81</td></tr>\n",
              "\t<tr><td>삼천2동  </td><td>105</td></tr>\n",
              "\t<tr><td>삼천3동  </td><td> 73</td></tr>\n",
              "\t<tr><td>서서학동 </td><td> 21</td></tr>\n",
              "\t<tr><td>서신동   </td><td>318</td></tr>\n",
              "\t<tr><td>송천1동  </td><td> 92</td></tr>\n",
              "\t<tr><td>송천2동  </td><td> 96</td></tr>\n",
              "\t<tr><td>여의동   </td><td>  1</td></tr>\n",
              "\t<tr><td>완산동   </td><td> 17</td></tr>\n",
              "\t<tr><td>우아1동  </td><td>115</td></tr>\n",
              "\t<tr><td>우아2동  </td><td> 73</td></tr>\n",
              "\t<tr><td>인후1동  </td><td> 70</td></tr>\n",
              "\t<tr><td>인후2동  </td><td> 61</td></tr>\n",
              "\t<tr><td>인후3동  </td><td>101</td></tr>\n",
              "\t<tr><td>조촌동   </td><td> 36</td></tr>\n",
              "\t<tr><td>중앙동   </td><td>114</td></tr>\n",
              "\t<tr><td>중화산1동</td><td> 54</td></tr>\n",
              "\t<tr><td>중화산2동</td><td>131</td></tr>\n",
              "\t<tr><td>진북동   </td><td> 68</td></tr>\n",
              "\t<tr><td>팔복동   </td><td> 50</td></tr>\n",
              "\t<tr><td>평화1동  </td><td> 27</td></tr>\n",
              "\t<tr><td>평화2동  </td><td>187</td></tr>\n",
              "\t<tr><td>풍남동   </td><td>106</td></tr>\n",
              "\t<tr><td>호성동   </td><td> 67</td></tr>\n",
              "\t<tr><td>효자1동  </td><td> 65</td></tr>\n",
              "\t<tr><td>효자2동  </td><td> 84</td></tr>\n",
              "\t<tr><td>효자3동  </td><td> 61</td></tr>\n",
              "\t<tr><td>효자4동  </td><td>220</td></tr>\n",
              "\t<tr><td>효자5동  </td><td>  1</td></tr>\n",
              "</tbody>\n",
              "</table>\n"
            ]
          },
          "metadata": {
            "tags": []
          }
        }
      ]
    },
    {
      "cell_type": "code",
      "metadata": {
        "colab": {
          "base_uri": "https://localhost:8080/"
        },
        "id": "elcbTaa_c6NX",
        "outputId": "c4a38e1b-e03a-4b19-a877-35b76ac99219"
      },
      "source": [
        "store <- store %>% group_by(행정동) %>% summarise(상점개수 = sum(상점개수))\n",
        "store <- as.data.frame(store)\n",
        "store <- arrange(store, store$행정동)\n",
        "store <- store[-1,]\n",
        "store"
      ],
      "execution_count": null,
      "outputs": [
        {
          "output_type": "display_data",
          "data": {
            "text/plain": [
              "   행정동    상점개수\n",
              "2  금암1동    81     \n",
              "3  금암2동    55     \n",
              "4  노송동     75     \n",
              "5  덕진동    114     \n",
              "6  동서학동   18     \n",
              "7  삼천1동    81     \n",
              "8  삼천2동   105     \n",
              "9  삼천3동    73     \n",
              "10 서서학동   21     \n",
              "11 서신동    318     \n",
              "12 송천1동    92     \n",
              "13 송천2동    96     \n",
              "14 여의동     63     \n",
              "15 완산동     17     \n",
              "16 우아1동   115     \n",
              "17 우아2동    73     \n",
              "18 인후1동    70     \n",
              "19 인후2동    61     \n",
              "20 인후3동   101     \n",
              "21 조촌동     36     \n",
              "22 중앙동    114     \n",
              "23 중화산1동  54     \n",
              "24 중화산2동 131     \n",
              "25 진북동     68     \n",
              "26 팔복동     50     \n",
              "27 평화1동    27     \n",
              "28 평화2동   187     \n",
              "29 풍남동    106     \n",
              "30 호성동     67     \n",
              "31 효자1동    65     \n",
              "32 효자2동    84     \n",
              "33 효자3동    61     \n",
              "34 효자4동   220     \n",
              "35 효자5동     1     "
            ],
            "text/latex": "A data.frame: 34 × 2\n\\begin{tabular}{r|ll}\n  & 행정동 & 상점개수\\\\\n  & <chr> & <int>\\\\\n\\hline\n\t2 & 금암1동   &  81\\\\\n\t3 & 금암2동   &  55\\\\\n\t4 & 노송동    &  75\\\\\n\t5 & 덕진동    & 114\\\\\n\t6 & 동서학동  &  18\\\\\n\t7 & 삼천1동   &  81\\\\\n\t8 & 삼천2동   & 105\\\\\n\t9 & 삼천3동   &  73\\\\\n\t10 & 서서학동  &  21\\\\\n\t11 & 서신동    & 318\\\\\n\t12 & 송천1동   &  92\\\\\n\t13 & 송천2동   &  96\\\\\n\t14 & 여의동    &  63\\\\\n\t15 & 완산동    &  17\\\\\n\t16 & 우아1동   & 115\\\\\n\t17 & 우아2동   &  73\\\\\n\t18 & 인후1동   &  70\\\\\n\t19 & 인후2동   &  61\\\\\n\t20 & 인후3동   & 101\\\\\n\t21 & 조촌동    &  36\\\\\n\t22 & 중앙동    & 114\\\\\n\t23 & 중화산1동 &  54\\\\\n\t24 & 중화산2동 & 131\\\\\n\t25 & 진북동    &  68\\\\\n\t26 & 팔복동    &  50\\\\\n\t27 & 평화1동   &  27\\\\\n\t28 & 평화2동   & 187\\\\\n\t29 & 풍남동    & 106\\\\\n\t30 & 호성동    &  67\\\\\n\t31 & 효자1동   &  65\\\\\n\t32 & 효자2동   &  84\\\\\n\t33 & 효자3동   &  61\\\\\n\t34 & 효자4동   & 220\\\\\n\t35 & 효자5동   &   1\\\\\n\\end{tabular}\n",
            "text/markdown": "\nA data.frame: 34 × 2\n\n| <!--/--> | 행정동 &lt;chr&gt; | 상점개수 &lt;int&gt; |\n|---|---|---|\n| 2 | 금암1동   |  81 |\n| 3 | 금암2동   |  55 |\n| 4 | 노송동    |  75 |\n| 5 | 덕진동    | 114 |\n| 6 | 동서학동  |  18 |\n| 7 | 삼천1동   |  81 |\n| 8 | 삼천2동   | 105 |\n| 9 | 삼천3동   |  73 |\n| 10 | 서서학동  |  21 |\n| 11 | 서신동    | 318 |\n| 12 | 송천1동   |  92 |\n| 13 | 송천2동   |  96 |\n| 14 | 여의동    |  63 |\n| 15 | 완산동    |  17 |\n| 16 | 우아1동   | 115 |\n| 17 | 우아2동   |  73 |\n| 18 | 인후1동   |  70 |\n| 19 | 인후2동   |  61 |\n| 20 | 인후3동   | 101 |\n| 21 | 조촌동    |  36 |\n| 22 | 중앙동    | 114 |\n| 23 | 중화산1동 |  54 |\n| 24 | 중화산2동 | 131 |\n| 25 | 진북동    |  68 |\n| 26 | 팔복동    |  50 |\n| 27 | 평화1동   |  27 |\n| 28 | 평화2동   | 187 |\n| 29 | 풍남동    | 106 |\n| 30 | 호성동    |  67 |\n| 31 | 효자1동   |  65 |\n| 32 | 효자2동   |  84 |\n| 33 | 효자3동   |  61 |\n| 34 | 효자4동   | 220 |\n| 35 | 효자5동   |   1 |\n\n",
            "text/html": [
              "<table class=\"dataframe\">\n",
              "<caption>A data.frame: 34 × 2</caption>\n",
              "<thead>\n",
              "\t<tr><th></th><th scope=col>행정동</th><th scope=col>상점개수</th></tr>\n",
              "\t<tr><th></th><th scope=col>&lt;chr&gt;</th><th scope=col>&lt;int&gt;</th></tr>\n",
              "</thead>\n",
              "<tbody>\n",
              "\t<tr><th scope=row>2</th><td>금암1동  </td><td> 81</td></tr>\n",
              "\t<tr><th scope=row>3</th><td>금암2동  </td><td> 55</td></tr>\n",
              "\t<tr><th scope=row>4</th><td>노송동   </td><td> 75</td></tr>\n",
              "\t<tr><th scope=row>5</th><td>덕진동   </td><td>114</td></tr>\n",
              "\t<tr><th scope=row>6</th><td>동서학동 </td><td> 18</td></tr>\n",
              "\t<tr><th scope=row>7</th><td>삼천1동  </td><td> 81</td></tr>\n",
              "\t<tr><th scope=row>8</th><td>삼천2동  </td><td>105</td></tr>\n",
              "\t<tr><th scope=row>9</th><td>삼천3동  </td><td> 73</td></tr>\n",
              "\t<tr><th scope=row>10</th><td>서서학동 </td><td> 21</td></tr>\n",
              "\t<tr><th scope=row>11</th><td>서신동   </td><td>318</td></tr>\n",
              "\t<tr><th scope=row>12</th><td>송천1동  </td><td> 92</td></tr>\n",
              "\t<tr><th scope=row>13</th><td>송천2동  </td><td> 96</td></tr>\n",
              "\t<tr><th scope=row>14</th><td>여의동   </td><td> 63</td></tr>\n",
              "\t<tr><th scope=row>15</th><td>완산동   </td><td> 17</td></tr>\n",
              "\t<tr><th scope=row>16</th><td>우아1동  </td><td>115</td></tr>\n",
              "\t<tr><th scope=row>17</th><td>우아2동  </td><td> 73</td></tr>\n",
              "\t<tr><th scope=row>18</th><td>인후1동  </td><td> 70</td></tr>\n",
              "\t<tr><th scope=row>19</th><td>인후2동  </td><td> 61</td></tr>\n",
              "\t<tr><th scope=row>20</th><td>인후3동  </td><td>101</td></tr>\n",
              "\t<tr><th scope=row>21</th><td>조촌동   </td><td> 36</td></tr>\n",
              "\t<tr><th scope=row>22</th><td>중앙동   </td><td>114</td></tr>\n",
              "\t<tr><th scope=row>23</th><td>중화산1동</td><td> 54</td></tr>\n",
              "\t<tr><th scope=row>24</th><td>중화산2동</td><td>131</td></tr>\n",
              "\t<tr><th scope=row>25</th><td>진북동   </td><td> 68</td></tr>\n",
              "\t<tr><th scope=row>26</th><td>팔복동   </td><td> 50</td></tr>\n",
              "\t<tr><th scope=row>27</th><td>평화1동  </td><td> 27</td></tr>\n",
              "\t<tr><th scope=row>28</th><td>평화2동  </td><td>187</td></tr>\n",
              "\t<tr><th scope=row>29</th><td>풍남동   </td><td>106</td></tr>\n",
              "\t<tr><th scope=row>30</th><td>호성동   </td><td> 67</td></tr>\n",
              "\t<tr><th scope=row>31</th><td>효자1동  </td><td> 65</td></tr>\n",
              "\t<tr><th scope=row>32</th><td>효자2동  </td><td> 84</td></tr>\n",
              "\t<tr><th scope=row>33</th><td>효자3동  </td><td> 61</td></tr>\n",
              "\t<tr><th scope=row>34</th><td>효자4동  </td><td>220</td></tr>\n",
              "\t<tr><th scope=row>35</th><td>효자5동  </td><td>  1</td></tr>\n",
              "</tbody>\n",
              "</table>\n"
            ]
          },
          "metadata": {
            "tags": []
          }
        }
      ]
    },
    {
      "cell_type": "markdown",
      "metadata": {
        "id": "Hq-byxDxTrUO"
      },
      "source": [
        "## 상권지수"
      ]
    },
    {
      "cell_type": "code",
      "metadata": {
        "colab": {
          "base_uri": "https://localhost:8080/",
          "height": 104
        },
        "id": "FcD8mRrvTtkB",
        "outputId": "de07b85c-e273-48d0-b984-7be924c21189"
      },
      "source": [
        "options(digits = 4)\n",
        "상권지수 <- store$상점개수 / region$면적.km\n",
        "상권지수"
      ],
      "execution_count": null,
      "outputs": [
        {
          "output_type": "stream",
          "text": [
            "Warning message in store$상점개수/region$면적.km:\n",
            "“longer object length is not a multiple of shorter object length”\n"
          ],
          "name": "stderr"
        },
        {
          "output_type": "display_data",
          "data": {
            "text/plain": [
              " [1]  64.8000  44.0000  35.8852  23.8494   1.1509  63.7795 110.5263   2.7444\n",
              " [9]   7.0707 133.0544  19.2067   7.9077   4.0102  17.1717  79.8611   3.1864\n",
              "[17]  54.2636  46.2121  60.1190   1.4827  84.4444  44.2623  76.1628  39.7661\n",
              "[25]   6.7751  18.1208  12.2784  51.7073  19.8813   8.5079  82.3529  72.6190\n",
              "[33] 278.4810   0.1297  12.9187"
            ],
            "text/latex": "\\begin{enumerate*}\n\\item 64.8\n\\item 44\n\\item 35.8851674641148\n\\item 23.8493723849372\n\\item 1.15089514066496\n\\item 63.7795275590551\n\\item 110.526315789474\n\\item 2.74436090225564\n\\item 7.07070707070707\n\\item 133.054393305439\n\\item 19.2066805845511\n\\item 7.90774299835255\n\\item 4.01018459579885\n\\item 17.1717171717172\n\\item 79.8611111111111\n\\item 3.1863814927979\n\\item 54.2635658914729\n\\item 46.2121212121212\n\\item 60.1190476190476\n\\item 1.4827018121911\n\\item 84.4444444444444\n\\item 44.2622950819672\n\\item 76.1627906976744\n\\item 39.766081871345\n\\item 6.77506775067751\n\\item 18.1208053691275\n\\item 12.2783978988838\n\\item 51.7073170731707\n\\item 19.8813056379822\n\\item 8.50785340314136\n\\item 82.3529411764706\n\\item 72.6190476190476\n\\item 278.481012658228\n\\item 0.12970168612192\n\\item 12.9186602870813\n\\end{enumerate*}\n",
            "text/markdown": "1. 64.8\n2. 44\n3. 35.8851674641148\n4. 23.8493723849372\n5. 1.15089514066496\n6. 63.7795275590551\n7. 110.526315789474\n8. 2.74436090225564\n9. 7.07070707070707\n10. 133.054393305439\n11. 19.2066805845511\n12. 7.90774299835255\n13. 4.01018459579885\n14. 17.1717171717172\n15. 79.8611111111111\n16. 3.1863814927979\n17. 54.2635658914729\n18. 46.2121212121212\n19. 60.1190476190476\n20. 1.4827018121911\n21. 84.4444444444444\n22. 44.2622950819672\n23. 76.1627906976744\n24. 39.766081871345\n25. 6.77506775067751\n26. 18.1208053691275\n27. 12.2783978988838\n28. 51.7073170731707\n29. 19.8813056379822\n30. 8.50785340314136\n31. 82.3529411764706\n32. 72.6190476190476\n33. 278.481012658228\n34. 0.12970168612192\n35. 12.9186602870813\n\n\n",
            "text/html": [
              "<style>\n",
              ".list-inline {list-style: none; margin:0; padding: 0}\n",
              ".list-inline>li {display: inline-block}\n",
              ".list-inline>li:not(:last-child)::after {content: \"\\00b7\"; padding: 0 .5ex}\n",
              "</style>\n",
              "<ol class=list-inline><li>64.8</li><li>44</li><li>35.8851674641148</li><li>23.8493723849372</li><li>1.15089514066496</li><li>63.7795275590551</li><li>110.526315789474</li><li>2.74436090225564</li><li>7.07070707070707</li><li>133.054393305439</li><li>19.2066805845511</li><li>7.90774299835255</li><li>4.01018459579885</li><li>17.1717171717172</li><li>79.8611111111111</li><li>3.1863814927979</li><li>54.2635658914729</li><li>46.2121212121212</li><li>60.1190476190476</li><li>1.4827018121911</li><li>84.4444444444444</li><li>44.2622950819672</li><li>76.1627906976744</li><li>39.766081871345</li><li>6.77506775067751</li><li>18.1208053691275</li><li>12.2783978988838</li><li>51.7073170731707</li><li>19.8813056379822</li><li>8.50785340314136</li><li>82.3529411764706</li><li>72.6190476190476</li><li>278.481012658228</li><li>0.12970168612192</li><li>12.9186602870813</li></ol>\n"
            ]
          },
          "metadata": {
            "tags": []
          }
        }
      ]
    },
    {
      "cell_type": "markdown",
      "metadata": {
        "id": "zXPtyCAGiYxh"
      },
      "source": [
        "## 공원수"
      ]
    },
    {
      "cell_type": "code",
      "metadata": {
        "colab": {
          "base_uri": "https://localhost:8080/"
        },
        "id": "Q44TIp9aibdR",
        "outputId": "0f2c38ce-6c12-4824-b334-23432c66c05d"
      },
      "source": [
        "str(park)\n",
        "head(park)"
      ],
      "execution_count": null,
      "outputs": [
        {
          "output_type": "stream",
          "text": [
            "'data.frame':\t10 obs. of  23 variables:\n",
            " $ X            : int  0 1 2 3 4 5 6 7 8 9\n",
            " $ dataContent  : logi  NA NA NA NA NA NA ...\n",
            " $ dataSid      : int  249 248 247 246 245 244 243 242 241 240\n",
            " $ dataTitle    : chr  \"추천대공원\" \"역사도심공원\" \"이목대공원\" \"동산구역A\" ...\n",
            " $ parkAddr     : chr  \"전라북도 전주시 덕진구 추천로 82\" \" \" \" \" \" \" ...\n",
            " $ parkArea     : num  4780 208 264 1405 499 ...\n",
            " $ parkFact1    : logi  NA NA NA NA NA NA ...\n",
            " $ parkFact2    : logi  NA NA NA NA NA NA ...\n",
            " $ parkFact3    : logi  NA NA NA NA NA NA ...\n",
            " $ parkFact4    : logi  NA NA NA NA NA NA ...\n",
            " $ parkFact5    : logi  NA NA NA NA NA NA ...\n",
            " $ parkGubun    : chr  \"소공원\" \"소공원\" \"소공원\" \"소공원\" ...\n",
            " $ parkLoadAddr : chr  \"전라북도 전주시 덕진구 팔복동2가 94-4\" \"전라북도 전주시 완산구 고사동 324-14\" \"전라북도 전주시 완산구 교동 54-16\" \"전라북도 전주시 덕진구 여의동2가 601-5\" ...\n",
            " $ parkLocation : logi  NA NA NA NA NA NA ...\n",
            " $ parkNo       : chr  \"45113-00111\" \"45111-00140\" \"45111-00139\" \"45113-00110\" ...\n",
            " $ parkNoticeday: chr  \"2019-09-11\" \"2018-04-30\" \"2018-12-14\" \"2017-07-14\" ...\n",
            " $ parkOrgnm    : chr  \"전라북도 전주시 덕진구청\" \"전라북도 전주시 덕진구청\" \"전라북도 전주시 덕진구청\" \"전라북도 전주시 덕진구청\" ...\n",
            " $ parkRegdate  : chr  \"2020-08-31\" \"2020-08-31\" \"2020-08-31\" \"2020-08-31\" ...\n",
            " $ parkSido     : logi  NA NA NA NA NA NA ...\n",
            " $ parkTel      : chr  \"063-270-6389\" \"063-220-5438\" \"063-220-5438\" \"063-270-6389\" ...\n",
            " $ parkZip      : logi  NA NA NA NA NA NA ...\n",
            " $ posx         : num  127 NA 127 127 127 ...\n",
            " $ posy         : num  35.8 35.8 35.8 35.9 35.9 ...\n"
          ],
          "name": "stdout"
        },
        {
          "output_type": "display_data",
          "data": {
            "text/plain": [
              "  X dataContent dataSid dataTitle        parkAddr                        \n",
              "1 0 NA          249     추천대공원       전라북도 전주시 덕진구 추천로 82\n",
              "2 1 NA          248     역사도심공원                                     \n",
              "3 2 NA          247     이목대공원                                       \n",
              "4 3 NA          246     동산구역A                                        \n",
              "5 4 NA          245     동산구역B                                        \n",
              "6 5 NA          244     제187호 근린공원                                 \n",
              "  parkArea parkFact1 parkFact2 parkFact3 parkFact4 ⋯ parkLocation parkNo     \n",
              "1 4780     NA        NA        NA        NA        ⋯ NA           45113-00111\n",
              "2  208     NA        NA        NA        NA        ⋯ NA           45111-00140\n",
              "3  264     NA        NA        NA        NA        ⋯ NA           45111-00139\n",
              "4 1405     NA        NA        NA        NA        ⋯ NA           45113-00110\n",
              "5  499     NA        NA        NA        NA        ⋯ NA           45113-00109\n",
              "6 5153     NA        NA        NA        NA        ⋯ NA           45113-00108\n",
              "  parkNoticeday parkOrgnm                parkRegdate parkSido parkTel     \n",
              "1 2019-09-11    전라북도 전주시 덕진구청 2020-08-31  NA       063-270-6389\n",
              "2 2018-04-30    전라북도 전주시 덕진구청 2020-08-31  NA       063-220-5438\n",
              "3 2018-12-14    전라북도 전주시 덕진구청 2020-08-31  NA       063-220-5438\n",
              "4 2017-07-14    전라북도 전주시 덕진구청 2020-08-31  NA       063-270-6389\n",
              "5 2017-07-14    전라북도 전주시 덕진구청 2020-08-31  NA       063-270-6389\n",
              "6 2016-09-13    전라북도 전주시 덕진구청 2020-08-31  NA       063-270-6390\n",
              "  parkZip posx  posy \n",
              "1 NA      127.1 35.85\n",
              "2 NA         NA 35.82\n",
              "3 NA      127.2 35.81\n",
              "4 NA      127.1 35.87\n",
              "5 NA      127.1 35.87\n",
              "6 NA      127.2 35.83"
            ],
            "text/latex": "A data.frame: 6 × 23\n\\begin{tabular}{r|lllllllllllllllllllll}\n  & X & dataContent & dataSid & dataTitle & parkAddr & parkArea & parkFact1 & parkFact2 & parkFact3 & parkFact4 & ⋯ & parkLocation & parkNo & parkNoticeday & parkOrgnm & parkRegdate & parkSido & parkTel & parkZip & posx & posy\\\\\n  & <int> & <lgl> & <int> & <chr> & <chr> & <dbl> & <lgl> & <lgl> & <lgl> & <lgl> & ⋯ & <lgl> & <chr> & <chr> & <chr> & <chr> & <lgl> & <chr> & <lgl> & <dbl> & <dbl>\\\\\n\\hline\n\t1 & 0 & NA & 249 & 추천대공원       & 전라북도 전주시 덕진구 추천로 82 & 4780 & NA & NA & NA & NA & ⋯ & NA & 45113-00111 & 2019-09-11 & 전라북도 전주시 덕진구청 & 2020-08-31 & NA & 063-270-6389 & NA & 127.1 & 35.85\\\\\n\t2 & 1 & NA & 248 & 역사도심공원     &                                  &  208 & NA & NA & NA & NA & ⋯ & NA & 45111-00140 & 2018-04-30 & 전라북도 전주시 덕진구청 & 2020-08-31 & NA & 063-220-5438 & NA &    NA & 35.82\\\\\n\t3 & 2 & NA & 247 & 이목대공원       &                                  &  264 & NA & NA & NA & NA & ⋯ & NA & 45111-00139 & 2018-12-14 & 전라북도 전주시 덕진구청 & 2020-08-31 & NA & 063-220-5438 & NA & 127.2 & 35.81\\\\\n\t4 & 3 & NA & 246 & 동산구역A        &                                  & 1405 & NA & NA & NA & NA & ⋯ & NA & 45113-00110 & 2017-07-14 & 전라북도 전주시 덕진구청 & 2020-08-31 & NA & 063-270-6389 & NA & 127.1 & 35.87\\\\\n\t5 & 4 & NA & 245 & 동산구역B        &                                  &  499 & NA & NA & NA & NA & ⋯ & NA & 45113-00109 & 2017-07-14 & 전라북도 전주시 덕진구청 & 2020-08-31 & NA & 063-270-6389 & NA & 127.1 & 35.87\\\\\n\t6 & 5 & NA & 244 & 제187호 근린공원 &                                  & 5153 & NA & NA & NA & NA & ⋯ & NA & 45113-00108 & 2016-09-13 & 전라북도 전주시 덕진구청 & 2020-08-31 & NA & 063-270-6390 & NA & 127.2 & 35.83\\\\\n\\end{tabular}\n",
            "text/markdown": "\nA data.frame: 6 × 23\n\n| <!--/--> | X &lt;int&gt; | dataContent &lt;lgl&gt; | dataSid &lt;int&gt; | dataTitle &lt;chr&gt; | parkAddr &lt;chr&gt; | parkArea &lt;dbl&gt; | parkFact1 &lt;lgl&gt; | parkFact2 &lt;lgl&gt; | parkFact3 &lt;lgl&gt; | parkFact4 &lt;lgl&gt; | ⋯ ⋯ | parkLocation &lt;lgl&gt; | parkNo &lt;chr&gt; | parkNoticeday &lt;chr&gt; | parkOrgnm &lt;chr&gt; | parkRegdate &lt;chr&gt; | parkSido &lt;lgl&gt; | parkTel &lt;chr&gt; | parkZip &lt;lgl&gt; | posx &lt;dbl&gt; | posy &lt;dbl&gt; |\n|---|---|---|---|---|---|---|---|---|---|---|---|---|---|---|---|---|---|---|---|---|---|\n| 1 | 0 | NA | 249 | 추천대공원       | 전라북도 전주시 덕진구 추천로 82 | 4780 | NA | NA | NA | NA | ⋯ | NA | 45113-00111 | 2019-09-11 | 전라북도 전주시 덕진구청 | 2020-08-31 | NA | 063-270-6389 | NA | 127.1 | 35.85 |\n| 2 | 1 | NA | 248 | 역사도심공원     | <!----> |  208 | NA | NA | NA | NA | ⋯ | NA | 45111-00140 | 2018-04-30 | 전라북도 전주시 덕진구청 | 2020-08-31 | NA | 063-220-5438 | NA |    NA | 35.82 |\n| 3 | 2 | NA | 247 | 이목대공원       | <!----> |  264 | NA | NA | NA | NA | ⋯ | NA | 45111-00139 | 2018-12-14 | 전라북도 전주시 덕진구청 | 2020-08-31 | NA | 063-220-5438 | NA | 127.2 | 35.81 |\n| 4 | 3 | NA | 246 | 동산구역A        | <!----> | 1405 | NA | NA | NA | NA | ⋯ | NA | 45113-00110 | 2017-07-14 | 전라북도 전주시 덕진구청 | 2020-08-31 | NA | 063-270-6389 | NA | 127.1 | 35.87 |\n| 5 | 4 | NA | 245 | 동산구역B        | <!----> |  499 | NA | NA | NA | NA | ⋯ | NA | 45113-00109 | 2017-07-14 | 전라북도 전주시 덕진구청 | 2020-08-31 | NA | 063-270-6389 | NA | 127.1 | 35.87 |\n| 6 | 5 | NA | 244 | 제187호 근린공원 | <!----> | 5153 | NA | NA | NA | NA | ⋯ | NA | 45113-00108 | 2016-09-13 | 전라북도 전주시 덕진구청 | 2020-08-31 | NA | 063-270-6390 | NA | 127.2 | 35.83 |\n\n",
            "text/html": [
              "<table class=\"dataframe\">\n",
              "<caption>A data.frame: 6 × 23</caption>\n",
              "<thead>\n",
              "\t<tr><th></th><th scope=col>X</th><th scope=col>dataContent</th><th scope=col>dataSid</th><th scope=col>dataTitle</th><th scope=col>parkAddr</th><th scope=col>parkArea</th><th scope=col>parkFact1</th><th scope=col>parkFact2</th><th scope=col>parkFact3</th><th scope=col>parkFact4</th><th scope=col>⋯</th><th scope=col>parkLocation</th><th scope=col>parkNo</th><th scope=col>parkNoticeday</th><th scope=col>parkOrgnm</th><th scope=col>parkRegdate</th><th scope=col>parkSido</th><th scope=col>parkTel</th><th scope=col>parkZip</th><th scope=col>posx</th><th scope=col>posy</th></tr>\n",
              "\t<tr><th></th><th scope=col>&lt;int&gt;</th><th scope=col>&lt;lgl&gt;</th><th scope=col>&lt;int&gt;</th><th scope=col>&lt;chr&gt;</th><th scope=col>&lt;chr&gt;</th><th scope=col>&lt;dbl&gt;</th><th scope=col>&lt;lgl&gt;</th><th scope=col>&lt;lgl&gt;</th><th scope=col>&lt;lgl&gt;</th><th scope=col>&lt;lgl&gt;</th><th scope=col>⋯</th><th scope=col>&lt;lgl&gt;</th><th scope=col>&lt;chr&gt;</th><th scope=col>&lt;chr&gt;</th><th scope=col>&lt;chr&gt;</th><th scope=col>&lt;chr&gt;</th><th scope=col>&lt;lgl&gt;</th><th scope=col>&lt;chr&gt;</th><th scope=col>&lt;lgl&gt;</th><th scope=col>&lt;dbl&gt;</th><th scope=col>&lt;dbl&gt;</th></tr>\n",
              "</thead>\n",
              "<tbody>\n",
              "\t<tr><th scope=row>1</th><td>0</td><td>NA</td><td>249</td><td>추천대공원      </td><td>전라북도 전주시 덕진구 추천로 82</td><td>4780</td><td>NA</td><td>NA</td><td>NA</td><td>NA</td><td>⋯</td><td>NA</td><td>45113-00111</td><td>2019-09-11</td><td>전라북도 전주시 덕진구청</td><td>2020-08-31</td><td>NA</td><td>063-270-6389</td><td>NA</td><td>127.1</td><td>35.85</td></tr>\n",
              "\t<tr><th scope=row>2</th><td>1</td><td>NA</td><td>248</td><td>역사도심공원    </td><td>                                </td><td> 208</td><td>NA</td><td>NA</td><td>NA</td><td>NA</td><td>⋯</td><td>NA</td><td>45111-00140</td><td>2018-04-30</td><td>전라북도 전주시 덕진구청</td><td>2020-08-31</td><td>NA</td><td>063-220-5438</td><td>NA</td><td>   NA</td><td>35.82</td></tr>\n",
              "\t<tr><th scope=row>3</th><td>2</td><td>NA</td><td>247</td><td>이목대공원      </td><td>                                </td><td> 264</td><td>NA</td><td>NA</td><td>NA</td><td>NA</td><td>⋯</td><td>NA</td><td>45111-00139</td><td>2018-12-14</td><td>전라북도 전주시 덕진구청</td><td>2020-08-31</td><td>NA</td><td>063-220-5438</td><td>NA</td><td>127.2</td><td>35.81</td></tr>\n",
              "\t<tr><th scope=row>4</th><td>3</td><td>NA</td><td>246</td><td>동산구역A       </td><td>                                </td><td>1405</td><td>NA</td><td>NA</td><td>NA</td><td>NA</td><td>⋯</td><td>NA</td><td>45113-00110</td><td>2017-07-14</td><td>전라북도 전주시 덕진구청</td><td>2020-08-31</td><td>NA</td><td>063-270-6389</td><td>NA</td><td>127.1</td><td>35.87</td></tr>\n",
              "\t<tr><th scope=row>5</th><td>4</td><td>NA</td><td>245</td><td>동산구역B       </td><td>                                </td><td> 499</td><td>NA</td><td>NA</td><td>NA</td><td>NA</td><td>⋯</td><td>NA</td><td>45113-00109</td><td>2017-07-14</td><td>전라북도 전주시 덕진구청</td><td>2020-08-31</td><td>NA</td><td>063-270-6389</td><td>NA</td><td>127.1</td><td>35.87</td></tr>\n",
              "\t<tr><th scope=row>6</th><td>5</td><td>NA</td><td>244</td><td>제187호 근린공원</td><td>                                </td><td>5153</td><td>NA</td><td>NA</td><td>NA</td><td>NA</td><td>⋯</td><td>NA</td><td>45113-00108</td><td>2016-09-13</td><td>전라북도 전주시 덕진구청</td><td>2020-08-31</td><td>NA</td><td>063-270-6390</td><td>NA</td><td>127.2</td><td>35.83</td></tr>\n",
              "</tbody>\n",
              "</table>\n"
            ]
          },
          "metadata": {
            "tags": []
          }
        }
      ]
    },
    {
      "cell_type": "code",
      "metadata": {
        "colab": {
          "base_uri": "https://localhost:8080/"
        },
        "id": "odIBLnTmid_n",
        "outputId": "782b5a44-2dc6-47c6-97ac-8e98e2846f38"
      },
      "source": [
        "park <- park[, c(4,6,13)]\n",
        "park$parkLoadAddr <- c(\"팔복동\", \"중앙동\", \"풍남동\", \"여의동\", \"여의동\",\n",
        "                       \"우아2동\", \"송천2동\", \"송천2동\", \"우아2동\", \"팔복동\")\n",
        "park"
      ],
      "execution_count": null,
      "outputs": [
        {
          "output_type": "display_data",
          "data": {
            "text/plain": [
              "   dataTitle        parkArea parkLoadAddr\n",
              "1  추천대공원        4780    팔복동      \n",
              "2  역사도심공원       208    중앙동      \n",
              "3  이목대공원         264    풍남동      \n",
              "4  동산구역A         1405    여의동      \n",
              "5  동산구역B          499    여의동      \n",
              "6  제187호 근린공원  5153    우아2동     \n",
              "7  에코시티5호      11157    송천2동     \n",
              "8  에코시티 1호공원  1500    송천2동     \n",
              "9  철도178호        36018    우아2동     \n",
              "10 팔복문화공원     13242    팔복동      "
            ],
            "text/latex": "A data.frame: 10 × 3\n\\begin{tabular}{lll}\n dataTitle & parkArea & parkLoadAddr\\\\\n <chr> & <dbl> & <chr>\\\\\n\\hline\n\t 추천대공원       &  4780 & 팔복동 \\\\\n\t 역사도심공원     &   208 & 중앙동 \\\\\n\t 이목대공원       &   264 & 풍남동 \\\\\n\t 동산구역A        &  1405 & 여의동 \\\\\n\t 동산구역B        &   499 & 여의동 \\\\\n\t 제187호 근린공원 &  5153 & 우아2동\\\\\n\t 에코시티5호      & 11157 & 송천2동\\\\\n\t 에코시티 1호공원 &  1500 & 송천2동\\\\\n\t 철도178호        & 36018 & 우아2동\\\\\n\t 팔복문화공원     & 13242 & 팔복동 \\\\\n\\end{tabular}\n",
            "text/markdown": "\nA data.frame: 10 × 3\n\n| dataTitle &lt;chr&gt; | parkArea &lt;dbl&gt; | parkLoadAddr &lt;chr&gt; |\n|---|---|---|\n| 추천대공원       |  4780 | 팔복동  |\n| 역사도심공원     |   208 | 중앙동  |\n| 이목대공원       |   264 | 풍남동  |\n| 동산구역A        |  1405 | 여의동  |\n| 동산구역B        |   499 | 여의동  |\n| 제187호 근린공원 |  5153 | 우아2동 |\n| 에코시티5호      | 11157 | 송천2동 |\n| 에코시티 1호공원 |  1500 | 송천2동 |\n| 철도178호        | 36018 | 우아2동 |\n| 팔복문화공원     | 13242 | 팔복동  |\n\n",
            "text/html": [
              "<table class=\"dataframe\">\n",
              "<caption>A data.frame: 10 × 3</caption>\n",
              "<thead>\n",
              "\t<tr><th scope=col>dataTitle</th><th scope=col>parkArea</th><th scope=col>parkLoadAddr</th></tr>\n",
              "\t<tr><th scope=col>&lt;chr&gt;</th><th scope=col>&lt;dbl&gt;</th><th scope=col>&lt;chr&gt;</th></tr>\n",
              "</thead>\n",
              "<tbody>\n",
              "\t<tr><td>추천대공원      </td><td> 4780</td><td>팔복동 </td></tr>\n",
              "\t<tr><td>역사도심공원    </td><td>  208</td><td>중앙동 </td></tr>\n",
              "\t<tr><td>이목대공원      </td><td>  264</td><td>풍남동 </td></tr>\n",
              "\t<tr><td>동산구역A       </td><td> 1405</td><td>여의동 </td></tr>\n",
              "\t<tr><td>동산구역B       </td><td>  499</td><td>여의동 </td></tr>\n",
              "\t<tr><td>제187호 근린공원</td><td> 5153</td><td>우아2동</td></tr>\n",
              "\t<tr><td>에코시티5호     </td><td>11157</td><td>송천2동</td></tr>\n",
              "\t<tr><td>에코시티 1호공원</td><td> 1500</td><td>송천2동</td></tr>\n",
              "\t<tr><td>철도178호       </td><td>36018</td><td>우아2동</td></tr>\n",
              "\t<tr><td>팔복문화공원    </td><td>13242</td><td>팔복동 </td></tr>\n",
              "</tbody>\n",
              "</table>\n"
            ]
          },
          "metadata": {
            "tags": []
          }
        }
      ]
    },
    {
      "cell_type": "code",
      "metadata": {
        "colab": {
          "base_uri": "https://localhost:8080/"
        },
        "id": "egPioZPvijCZ",
        "outputId": "13684eb4-9a97-4893-8fc6-3835d7b0be18"
      },
      "source": [
        "park <- park %>% group_by(parkLoadAddr) %>% summarise(공원수 = length(dataTitle))\n",
        "park <- as.data.frame(park)\n",
        "names(park)[1] <- \"행정동\"\n",
        "park <- arrange(park, park$행정동)\n",
        "park"
      ],
      "execution_count": null,
      "outputs": [
        {
          "output_type": "display_data",
          "data": {
            "text/plain": [
              "  행정동  공원수\n",
              "1 송천2동 2     \n",
              "2 여의동  2     \n",
              "3 우아2동 2     \n",
              "4 중앙동  1     \n",
              "5 팔복동  2     \n",
              "6 풍남동  1     "
            ],
            "text/latex": "A data.frame: 6 × 2\n\\begin{tabular}{ll}\n 행정동 & 공원수\\\\\n <chr> & <int>\\\\\n\\hline\n\t 송천2동 & 2\\\\\n\t 여의동  & 2\\\\\n\t 우아2동 & 2\\\\\n\t 중앙동  & 1\\\\\n\t 팔복동  & 2\\\\\n\t 풍남동  & 1\\\\\n\\end{tabular}\n",
            "text/markdown": "\nA data.frame: 6 × 2\n\n| 행정동 &lt;chr&gt; | 공원수 &lt;int&gt; |\n|---|---|\n| 송천2동 | 2 |\n| 여의동  | 2 |\n| 우아2동 | 2 |\n| 중앙동  | 1 |\n| 팔복동  | 2 |\n| 풍남동  | 1 |\n\n",
            "text/html": [
              "<table class=\"dataframe\">\n",
              "<caption>A data.frame: 6 × 2</caption>\n",
              "<thead>\n",
              "\t<tr><th scope=col>행정동</th><th scope=col>공원수</th></tr>\n",
              "\t<tr><th scope=col>&lt;chr&gt;</th><th scope=col>&lt;int&gt;</th></tr>\n",
              "</thead>\n",
              "<tbody>\n",
              "\t<tr><td>송천2동</td><td>2</td></tr>\n",
              "\t<tr><td>여의동 </td><td>2</td></tr>\n",
              "\t<tr><td>우아2동</td><td>2</td></tr>\n",
              "\t<tr><td>중앙동 </td><td>1</td></tr>\n",
              "\t<tr><td>팔복동 </td><td>2</td></tr>\n",
              "\t<tr><td>풍남동 </td><td>1</td></tr>\n",
              "</tbody>\n",
              "</table>\n"
            ]
          },
          "metadata": {
            "tags": []
          }
        }
      ]
    },
    {
      "cell_type": "code",
      "metadata": {
        "colab": {
          "base_uri": "https://localhost:8080/"
        },
        "id": "1tA3QDjbimCV",
        "outputId": "c345a84a-2d2b-432f-b9e9-0f5322457a5d"
      },
      "source": [
        "table(jjdong %in% park$행정동)\n",
        "\n",
        "jjdong[jjdong %in% park$행정동 == FALSE] #park에는 없는 jjdong의 행정동"
      ],
      "execution_count": null,
      "outputs": [
        {
          "output_type": "display_data",
          "data": {
            "text/plain": [
              "\n",
              "FALSE  TRUE \n",
              "   29     6 "
            ]
          },
          "metadata": {
            "tags": []
          }
        },
        {
          "output_type": "display_data",
          "data": {
            "text/plain": [
              " [1] \"금암1동\"   \"금암2동\"   \"노송동\"    \"덕진동\"    \"동서학동\"  \"삼천1동\"  \n",
              " [7] \"삼천2동\"   \"삼천3동\"   \"서서학동\"  \"서신동\"    \"송천1동\"   \"완산동\"   \n",
              "[13] \"우아1동\"   \"인후1동\"   \"인후2동\"   \"인후3동\"   \"조촌동\"    \"중화산1동\"\n",
              "[19] \"중화산2동\" \"진북동\"    \"평화1동\"   \"평화2동\"   \"혁신동\"    \"호성동\"   \n",
              "[25] \"효자1동\"   \"효자2동\"   \"효자3동\"   \"효자4동\"   \"효자5동\"  "
            ],
            "text/latex": "\\begin{enumerate*}\n\\item '금암1동'\n\\item '금암2동'\n\\item '노송동'\n\\item '덕진동'\n\\item '동서학동'\n\\item '삼천1동'\n\\item '삼천2동'\n\\item '삼천3동'\n\\item '서서학동'\n\\item '서신동'\n\\item '송천1동'\n\\item '완산동'\n\\item '우아1동'\n\\item '인후1동'\n\\item '인후2동'\n\\item '인후3동'\n\\item '조촌동'\n\\item '중화산1동'\n\\item '중화산2동'\n\\item '진북동'\n\\item '평화1동'\n\\item '평화2동'\n\\item '혁신동'\n\\item '호성동'\n\\item '효자1동'\n\\item '효자2동'\n\\item '효자3동'\n\\item '효자4동'\n\\item '효자5동'\n\\end{enumerate*}\n",
            "text/markdown": "1. '금암1동'\n2. '금암2동'\n3. '노송동'\n4. '덕진동'\n5. '동서학동'\n6. '삼천1동'\n7. '삼천2동'\n8. '삼천3동'\n9. '서서학동'\n10. '서신동'\n11. '송천1동'\n12. '완산동'\n13. '우아1동'\n14. '인후1동'\n15. '인후2동'\n16. '인후3동'\n17. '조촌동'\n18. '중화산1동'\n19. '중화산2동'\n20. '진북동'\n21. '평화1동'\n22. '평화2동'\n23. '혁신동'\n24. '호성동'\n25. '효자1동'\n26. '효자2동'\n27. '효자3동'\n28. '효자4동'\n29. '효자5동'\n\n\n",
            "text/html": [
              "<style>\n",
              ".list-inline {list-style: none; margin:0; padding: 0}\n",
              ".list-inline>li {display: inline-block}\n",
              ".list-inline>li:not(:last-child)::after {content: \"\\00b7\"; padding: 0 .5ex}\n",
              "</style>\n",
              "<ol class=list-inline><li>'금암1동'</li><li>'금암2동'</li><li>'노송동'</li><li>'덕진동'</li><li>'동서학동'</li><li>'삼천1동'</li><li>'삼천2동'</li><li>'삼천3동'</li><li>'서서학동'</li><li>'서신동'</li><li>'송천1동'</li><li>'완산동'</li><li>'우아1동'</li><li>'인후1동'</li><li>'인후2동'</li><li>'인후3동'</li><li>'조촌동'</li><li>'중화산1동'</li><li>'중화산2동'</li><li>'진북동'</li><li>'평화1동'</li><li>'평화2동'</li><li>'혁신동'</li><li>'호성동'</li><li>'효자1동'</li><li>'효자2동'</li><li>'효자3동'</li><li>'효자4동'</li><li>'효자5동'</li></ol>\n"
            ]
          },
          "metadata": {
            "tags": []
          }
        }
      ]
    },
    {
      "cell_type": "code",
      "metadata": {
        "colab": {
          "base_uri": "https://localhost:8080/"
        },
        "id": "-sytlGfLiotP",
        "outputId": "f03ebb2f-c9f7-4530-d555-a9ca3efa19c5"
      },
      "source": [
        "add <- data.frame(행정동 = jjdong[jjdong %in% park$행정동 == FALSE], \n",
        "                     공원수 = rep(0, length(jjdong[jjdong %in% park$행정동 == FALSE])))\n",
        "park <- rbind(park, add)\n",
        "park <- arrange(park, park$행정동)\n",
        "park"
      ],
      "execution_count": null,
      "outputs": [
        {
          "output_type": "display_data",
          "data": {
            "text/plain": [
              "   행정동    공원수\n",
              "1  금암1동   0     \n",
              "2  금암2동   0     \n",
              "3  노송동    0     \n",
              "4  덕진동    0     \n",
              "5  동서학동  0     \n",
              "6  삼천1동   0     \n",
              "7  삼천2동   0     \n",
              "8  삼천3동   0     \n",
              "9  서서학동  0     \n",
              "10 서신동    0     \n",
              "11 송천1동   0     \n",
              "12 송천2동   2     \n",
              "13 여의동    2     \n",
              "14 완산동    0     \n",
              "15 우아1동   0     \n",
              "16 우아2동   2     \n",
              "17 인후1동   0     \n",
              "18 인후2동   0     \n",
              "19 인후3동   0     \n",
              "20 조촌동    0     \n",
              "21 중앙동    1     \n",
              "22 중화산1동 0     \n",
              "23 중화산2동 0     \n",
              "24 진북동    0     \n",
              "25 팔복동    2     \n",
              "26 평화1동   0     \n",
              "27 평화2동   0     \n",
              "28 풍남동    1     \n",
              "29 혁신동    0     \n",
              "30 호성동    0     \n",
              "31 효자1동   0     \n",
              "32 효자2동   0     \n",
              "33 효자3동   0     \n",
              "34 효자4동   0     \n",
              "35 효자5동   0     "
            ],
            "text/latex": "A data.frame: 35 × 2\n\\begin{tabular}{ll}\n 행정동 & 공원수\\\\\n <chr> & <dbl>\\\\\n\\hline\n\t 금암1동   & 0\\\\\n\t 금암2동   & 0\\\\\n\t 노송동    & 0\\\\\n\t 덕진동    & 0\\\\\n\t 동서학동  & 0\\\\\n\t 삼천1동   & 0\\\\\n\t 삼천2동   & 0\\\\\n\t 삼천3동   & 0\\\\\n\t 서서학동  & 0\\\\\n\t 서신동    & 0\\\\\n\t 송천1동   & 0\\\\\n\t 송천2동   & 2\\\\\n\t 여의동    & 2\\\\\n\t 완산동    & 0\\\\\n\t 우아1동   & 0\\\\\n\t 우아2동   & 2\\\\\n\t 인후1동   & 0\\\\\n\t 인후2동   & 0\\\\\n\t 인후3동   & 0\\\\\n\t 조촌동    & 0\\\\\n\t 중앙동    & 1\\\\\n\t 중화산1동 & 0\\\\\n\t 중화산2동 & 0\\\\\n\t 진북동    & 0\\\\\n\t 팔복동    & 2\\\\\n\t 평화1동   & 0\\\\\n\t 평화2동   & 0\\\\\n\t 풍남동    & 1\\\\\n\t 혁신동    & 0\\\\\n\t 호성동    & 0\\\\\n\t 효자1동   & 0\\\\\n\t 효자2동   & 0\\\\\n\t 효자3동   & 0\\\\\n\t 효자4동   & 0\\\\\n\t 효자5동   & 0\\\\\n\\end{tabular}\n",
            "text/markdown": "\nA data.frame: 35 × 2\n\n| 행정동 &lt;chr&gt; | 공원수 &lt;dbl&gt; |\n|---|---|\n| 금암1동   | 0 |\n| 금암2동   | 0 |\n| 노송동    | 0 |\n| 덕진동    | 0 |\n| 동서학동  | 0 |\n| 삼천1동   | 0 |\n| 삼천2동   | 0 |\n| 삼천3동   | 0 |\n| 서서학동  | 0 |\n| 서신동    | 0 |\n| 송천1동   | 0 |\n| 송천2동   | 2 |\n| 여의동    | 2 |\n| 완산동    | 0 |\n| 우아1동   | 0 |\n| 우아2동   | 2 |\n| 인후1동   | 0 |\n| 인후2동   | 0 |\n| 인후3동   | 0 |\n| 조촌동    | 0 |\n| 중앙동    | 1 |\n| 중화산1동 | 0 |\n| 중화산2동 | 0 |\n| 진북동    | 0 |\n| 팔복동    | 2 |\n| 평화1동   | 0 |\n| 평화2동   | 0 |\n| 풍남동    | 1 |\n| 혁신동    | 0 |\n| 호성동    | 0 |\n| 효자1동   | 0 |\n| 효자2동   | 0 |\n| 효자3동   | 0 |\n| 효자4동   | 0 |\n| 효자5동   | 0 |\n\n",
            "text/html": [
              "<table class=\"dataframe\">\n",
              "<caption>A data.frame: 35 × 2</caption>\n",
              "<thead>\n",
              "\t<tr><th scope=col>행정동</th><th scope=col>공원수</th></tr>\n",
              "\t<tr><th scope=col>&lt;chr&gt;</th><th scope=col>&lt;dbl&gt;</th></tr>\n",
              "</thead>\n",
              "<tbody>\n",
              "\t<tr><td>금암1동  </td><td>0</td></tr>\n",
              "\t<tr><td>금암2동  </td><td>0</td></tr>\n",
              "\t<tr><td>노송동   </td><td>0</td></tr>\n",
              "\t<tr><td>덕진동   </td><td>0</td></tr>\n",
              "\t<tr><td>동서학동 </td><td>0</td></tr>\n",
              "\t<tr><td>삼천1동  </td><td>0</td></tr>\n",
              "\t<tr><td>삼천2동  </td><td>0</td></tr>\n",
              "\t<tr><td>삼천3동  </td><td>0</td></tr>\n",
              "\t<tr><td>서서학동 </td><td>0</td></tr>\n",
              "\t<tr><td>서신동   </td><td>0</td></tr>\n",
              "\t<tr><td>송천1동  </td><td>0</td></tr>\n",
              "\t<tr><td>송천2동  </td><td>2</td></tr>\n",
              "\t<tr><td>여의동   </td><td>2</td></tr>\n",
              "\t<tr><td>완산동   </td><td>0</td></tr>\n",
              "\t<tr><td>우아1동  </td><td>0</td></tr>\n",
              "\t<tr><td>우아2동  </td><td>2</td></tr>\n",
              "\t<tr><td>인후1동  </td><td>0</td></tr>\n",
              "\t<tr><td>인후2동  </td><td>0</td></tr>\n",
              "\t<tr><td>인후3동  </td><td>0</td></tr>\n",
              "\t<tr><td>조촌동   </td><td>0</td></tr>\n",
              "\t<tr><td>중앙동   </td><td>1</td></tr>\n",
              "\t<tr><td>중화산1동</td><td>0</td></tr>\n",
              "\t<tr><td>중화산2동</td><td>0</td></tr>\n",
              "\t<tr><td>진북동   </td><td>0</td></tr>\n",
              "\t<tr><td>팔복동   </td><td>2</td></tr>\n",
              "\t<tr><td>평화1동  </td><td>0</td></tr>\n",
              "\t<tr><td>평화2동  </td><td>0</td></tr>\n",
              "\t<tr><td>풍남동   </td><td>1</td></tr>\n",
              "\t<tr><td>혁신동   </td><td>0</td></tr>\n",
              "\t<tr><td>호성동   </td><td>0</td></tr>\n",
              "\t<tr><td>효자1동  </td><td>0</td></tr>\n",
              "\t<tr><td>효자2동  </td><td>0</td></tr>\n",
              "\t<tr><td>효자3동  </td><td>0</td></tr>\n",
              "\t<tr><td>효자4동  </td><td>0</td></tr>\n",
              "\t<tr><td>효자5동  </td><td>0</td></tr>\n",
              "</tbody>\n",
              "</table>\n"
            ]
          },
          "metadata": {
            "tags": []
          }
        }
      ]
    },
    {
      "cell_type": "markdown",
      "metadata": {
        "id": "K1pYymIAirEd"
      },
      "source": [
        "## 전동킥보드 사용 수"
      ]
    },
    {
      "cell_type": "code",
      "metadata": {
        "colab": {
          "base_uri": "https://localhost:8080/"
        },
        "id": "DircSSAqiuxx",
        "outputId": "7203fbb8-efe2-4045-a093-c359fb22a710"
      },
      "source": [
        "str(scooter)\n",
        "head(scooter)"
      ],
      "execution_count": null,
      "outputs": [
        {
          "output_type": "stream",
          "text": [
            "'data.frame':\t35 obs. of  6 variables:\n",
            " $ gu        : chr  \"완산구\" \"완산구\" \"완산구\" \"완산구\" ...\n",
            " $ dong      : chr  \"중앙동\" \"풍남동\" \"노송동\" \"완산동\" ...\n",
            " $ ssingssing: int  7 1 3 0 2 1 4 6 2 6 ...\n",
            " $ alphaca   : int  3 0 0 3 1 4 14 18 7 62 ...\n",
            " $ gcooter   : int  0 0 1 0 0 2 2 17 2 20 ...\n",
            " $ total     : int  10 1 4 3 3 7 20 41 11 88 ...\n"
          ],
          "name": "stdout"
        },
        {
          "output_type": "display_data",
          "data": {
            "text/plain": [
              "  gu     dong     ssingssing alphaca gcooter total\n",
              "1 완산구 중앙동   7          3       0       10   \n",
              "2 완산구 풍남동   1          0       0        1   \n",
              "3 완산구 노송동   3          0       1        4   \n",
              "4 완산구 완산동   0          3       0        3   \n",
              "5 완산구 동서학동 2          1       0        3   \n",
              "6 완산구 서서학동 1          4       2        7   "
            ],
            "text/latex": "A data.frame: 6 × 6\n\\begin{tabular}{r|llllll}\n  & gu & dong & ssingssing & alphaca & gcooter & total\\\\\n  & <chr> & <chr> & <int> & <int> & <int> & <int>\\\\\n\\hline\n\t1 & 완산구 & 중앙동   & 7 & 3 & 0 & 10\\\\\n\t2 & 완산구 & 풍남동   & 1 & 0 & 0 &  1\\\\\n\t3 & 완산구 & 노송동   & 3 & 0 & 1 &  4\\\\\n\t4 & 완산구 & 완산동   & 0 & 3 & 0 &  3\\\\\n\t5 & 완산구 & 동서학동 & 2 & 1 & 0 &  3\\\\\n\t6 & 완산구 & 서서학동 & 1 & 4 & 2 &  7\\\\\n\\end{tabular}\n",
            "text/markdown": "\nA data.frame: 6 × 6\n\n| <!--/--> | gu &lt;chr&gt; | dong &lt;chr&gt; | ssingssing &lt;int&gt; | alphaca &lt;int&gt; | gcooter &lt;int&gt; | total &lt;int&gt; |\n|---|---|---|---|---|---|---|\n| 1 | 완산구 | 중앙동   | 7 | 3 | 0 | 10 |\n| 2 | 완산구 | 풍남동   | 1 | 0 | 0 |  1 |\n| 3 | 완산구 | 노송동   | 3 | 0 | 1 |  4 |\n| 4 | 완산구 | 완산동   | 0 | 3 | 0 |  3 |\n| 5 | 완산구 | 동서학동 | 2 | 1 | 0 |  3 |\n| 6 | 완산구 | 서서학동 | 1 | 4 | 2 |  7 |\n\n",
            "text/html": [
              "<table class=\"dataframe\">\n",
              "<caption>A data.frame: 6 × 6</caption>\n",
              "<thead>\n",
              "\t<tr><th></th><th scope=col>gu</th><th scope=col>dong</th><th scope=col>ssingssing</th><th scope=col>alphaca</th><th scope=col>gcooter</th><th scope=col>total</th></tr>\n",
              "\t<tr><th></th><th scope=col>&lt;chr&gt;</th><th scope=col>&lt;chr&gt;</th><th scope=col>&lt;int&gt;</th><th scope=col>&lt;int&gt;</th><th scope=col>&lt;int&gt;</th><th scope=col>&lt;int&gt;</th></tr>\n",
              "</thead>\n",
              "<tbody>\n",
              "\t<tr><th scope=row>1</th><td>완산구</td><td>중앙동  </td><td>7</td><td>3</td><td>0</td><td>10</td></tr>\n",
              "\t<tr><th scope=row>2</th><td>완산구</td><td>풍남동  </td><td>1</td><td>0</td><td>0</td><td> 1</td></tr>\n",
              "\t<tr><th scope=row>3</th><td>완산구</td><td>노송동  </td><td>3</td><td>0</td><td>1</td><td> 4</td></tr>\n",
              "\t<tr><th scope=row>4</th><td>완산구</td><td>완산동  </td><td>0</td><td>3</td><td>0</td><td> 3</td></tr>\n",
              "\t<tr><th scope=row>5</th><td>완산구</td><td>동서학동</td><td>2</td><td>1</td><td>0</td><td> 3</td></tr>\n",
              "\t<tr><th scope=row>6</th><td>완산구</td><td>서서학동</td><td>1</td><td>4</td><td>2</td><td> 7</td></tr>\n",
              "</tbody>\n",
              "</table>\n"
            ]
          },
          "metadata": {
            "tags": []
          }
        }
      ]
    },
    {
      "cell_type": "code",
      "metadata": {
        "colab": {
          "base_uri": "https://localhost:8080/"
        },
        "id": "fAf1v--6ixQb",
        "outputId": "df54abc3-d79c-4da1-8fa7-50a5cf387473"
      },
      "source": [
        "scooter <- scooter[, c(2,6)]\n",
        "names(scooter) <- c(\"행정동\", \"전동킥보드이용수\")\n",
        "scooter <- arrange(scooter, scooter$행정동)\n",
        "scooter"
      ],
      "execution_count": null,
      "outputs": [
        {
          "output_type": "display_data",
          "data": {
            "text/plain": [
              "   행정동    전동킥보드이용수\n",
              "1  금암1동   105             \n",
              "2  금암2동    15             \n",
              "3  노송동      4             \n",
              "4  덕진동     73             \n",
              "5  동서학동    3             \n",
              "6  삼천1동    17             \n",
              "7  삼천2동    14             \n",
              "8  삼천3동    26             \n",
              "9  서서학동    7             \n",
              "10 서신동     48             \n",
              "11 송천1동    25             \n",
              "12 송천2동    12             \n",
              "13 여의동      3             \n",
              "14 완산동      3             \n",
              "15 우아1동     3             \n",
              "16 우아2동     0             \n",
              "17 인후1동     1             \n",
              "18 인후2동     5             \n",
              "19 인후3동     5             \n",
              "20 조촌동     10             \n",
              "21 중앙동     10             \n",
              "22 중화산1동  20             \n",
              "23 중화산2동  41             \n",
              "24 진북동      6             \n",
              "25 팔복동      1             \n",
              "26 평화1동    11             \n",
              "27 평화2동    88             \n",
              "28 풍남동      1             \n",
              "29 혁신동      9             \n",
              "30 호성동      3             \n",
              "31 효자1동    20             \n",
              "32 효자2동     6             \n",
              "33 효자3동    14             \n",
              "34 효자4동   107             \n",
              "35 효자5동    88             "
            ],
            "text/latex": "A data.frame: 35 × 2\n\\begin{tabular}{ll}\n 행정동 & 전동킥보드이용수\\\\\n <chr> & <int>\\\\\n\\hline\n\t 금암1동   & 105\\\\\n\t 금암2동   &  15\\\\\n\t 노송동    &   4\\\\\n\t 덕진동    &  73\\\\\n\t 동서학동  &   3\\\\\n\t 삼천1동   &  17\\\\\n\t 삼천2동   &  14\\\\\n\t 삼천3동   &  26\\\\\n\t 서서학동  &   7\\\\\n\t 서신동    &  48\\\\\n\t 송천1동   &  25\\\\\n\t 송천2동   &  12\\\\\n\t 여의동    &   3\\\\\n\t 완산동    &   3\\\\\n\t 우아1동   &   3\\\\\n\t 우아2동   &   0\\\\\n\t 인후1동   &   1\\\\\n\t 인후2동   &   5\\\\\n\t 인후3동   &   5\\\\\n\t 조촌동    &  10\\\\\n\t 중앙동    &  10\\\\\n\t 중화산1동 &  20\\\\\n\t 중화산2동 &  41\\\\\n\t 진북동    &   6\\\\\n\t 팔복동    &   1\\\\\n\t 평화1동   &  11\\\\\n\t 평화2동   &  88\\\\\n\t 풍남동    &   1\\\\\n\t 혁신동    &   9\\\\\n\t 호성동    &   3\\\\\n\t 효자1동   &  20\\\\\n\t 효자2동   &   6\\\\\n\t 효자3동   &  14\\\\\n\t 효자4동   & 107\\\\\n\t 효자5동   &  88\\\\\n\\end{tabular}\n",
            "text/markdown": "\nA data.frame: 35 × 2\n\n| 행정동 &lt;chr&gt; | 전동킥보드이용수 &lt;int&gt; |\n|---|---|\n| 금암1동   | 105 |\n| 금암2동   |  15 |\n| 노송동    |   4 |\n| 덕진동    |  73 |\n| 동서학동  |   3 |\n| 삼천1동   |  17 |\n| 삼천2동   |  14 |\n| 삼천3동   |  26 |\n| 서서학동  |   7 |\n| 서신동    |  48 |\n| 송천1동   |  25 |\n| 송천2동   |  12 |\n| 여의동    |   3 |\n| 완산동    |   3 |\n| 우아1동   |   3 |\n| 우아2동   |   0 |\n| 인후1동   |   1 |\n| 인후2동   |   5 |\n| 인후3동   |   5 |\n| 조촌동    |  10 |\n| 중앙동    |  10 |\n| 중화산1동 |  20 |\n| 중화산2동 |  41 |\n| 진북동    |   6 |\n| 팔복동    |   1 |\n| 평화1동   |  11 |\n| 평화2동   |  88 |\n| 풍남동    |   1 |\n| 혁신동    |   9 |\n| 호성동    |   3 |\n| 효자1동   |  20 |\n| 효자2동   |   6 |\n| 효자3동   |  14 |\n| 효자4동   | 107 |\n| 효자5동   |  88 |\n\n",
            "text/html": [
              "<table class=\"dataframe\">\n",
              "<caption>A data.frame: 35 × 2</caption>\n",
              "<thead>\n",
              "\t<tr><th scope=col>행정동</th><th scope=col>전동킥보드이용수</th></tr>\n",
              "\t<tr><th scope=col>&lt;chr&gt;</th><th scope=col>&lt;int&gt;</th></tr>\n",
              "</thead>\n",
              "<tbody>\n",
              "\t<tr><td>금암1동  </td><td>105</td></tr>\n",
              "\t<tr><td>금암2동  </td><td> 15</td></tr>\n",
              "\t<tr><td>노송동   </td><td>  4</td></tr>\n",
              "\t<tr><td>덕진동   </td><td> 73</td></tr>\n",
              "\t<tr><td>동서학동 </td><td>  3</td></tr>\n",
              "\t<tr><td>삼천1동  </td><td> 17</td></tr>\n",
              "\t<tr><td>삼천2동  </td><td> 14</td></tr>\n",
              "\t<tr><td>삼천3동  </td><td> 26</td></tr>\n",
              "\t<tr><td>서서학동 </td><td>  7</td></tr>\n",
              "\t<tr><td>서신동   </td><td> 48</td></tr>\n",
              "\t<tr><td>송천1동  </td><td> 25</td></tr>\n",
              "\t<tr><td>송천2동  </td><td> 12</td></tr>\n",
              "\t<tr><td>여의동   </td><td>  3</td></tr>\n",
              "\t<tr><td>완산동   </td><td>  3</td></tr>\n",
              "\t<tr><td>우아1동  </td><td>  3</td></tr>\n",
              "\t<tr><td>우아2동  </td><td>  0</td></tr>\n",
              "\t<tr><td>인후1동  </td><td>  1</td></tr>\n",
              "\t<tr><td>인후2동  </td><td>  5</td></tr>\n",
              "\t<tr><td>인후3동  </td><td>  5</td></tr>\n",
              "\t<tr><td>조촌동   </td><td> 10</td></tr>\n",
              "\t<tr><td>중앙동   </td><td> 10</td></tr>\n",
              "\t<tr><td>중화산1동</td><td> 20</td></tr>\n",
              "\t<tr><td>중화산2동</td><td> 41</td></tr>\n",
              "\t<tr><td>진북동   </td><td>  6</td></tr>\n",
              "\t<tr><td>팔복동   </td><td>  1</td></tr>\n",
              "\t<tr><td>평화1동  </td><td> 11</td></tr>\n",
              "\t<tr><td>평화2동  </td><td> 88</td></tr>\n",
              "\t<tr><td>풍남동   </td><td>  1</td></tr>\n",
              "\t<tr><td>혁신동   </td><td>  9</td></tr>\n",
              "\t<tr><td>호성동   </td><td>  3</td></tr>\n",
              "\t<tr><td>효자1동  </td><td> 20</td></tr>\n",
              "\t<tr><td>효자2동  </td><td>  6</td></tr>\n",
              "\t<tr><td>효자3동  </td><td> 14</td></tr>\n",
              "\t<tr><td>효자4동  </td><td>107</td></tr>\n",
              "\t<tr><td>효자5동  </td><td> 88</td></tr>\n",
              "</tbody>\n",
              "</table>\n"
            ]
          },
          "metadata": {
            "tags": []
          }
        }
      ]
    },
    {
      "cell_type": "code",
      "metadata": {
        "colab": {
          "base_uri": "https://localhost:8080/"
        },
        "id": "5NBtDl1Bi0Y9",
        "outputId": "6a42eda6-b71a-433f-83ad-f22d2dad8695"
      },
      "source": [
        "table(jjdong %in% scooter$행정동)\n",
        "scooter"
      ],
      "execution_count": null,
      "outputs": [
        {
          "output_type": "display_data",
          "data": {
            "text/plain": [
              "\n",
              "TRUE \n",
              "  35 "
            ]
          },
          "metadata": {
            "tags": []
          }
        },
        {
          "output_type": "display_data",
          "data": {
            "text/plain": [
              "   행정동    전동킥보드이용수\n",
              "1  금암1동   105             \n",
              "2  금암2동    15             \n",
              "3  노송동      4             \n",
              "4  덕진동     73             \n",
              "5  동서학동    3             \n",
              "6  삼천1동    17             \n",
              "7  삼천2동    14             \n",
              "8  삼천3동    26             \n",
              "9  서서학동    7             \n",
              "10 서신동     48             \n",
              "11 송천1동    25             \n",
              "12 송천2동    12             \n",
              "13 여의동      3             \n",
              "14 완산동      3             \n",
              "15 우아1동     3             \n",
              "16 우아2동     0             \n",
              "17 인후1동     1             \n",
              "18 인후2동     5             \n",
              "19 인후3동     5             \n",
              "20 조촌동     10             \n",
              "21 중앙동     10             \n",
              "22 중화산1동  20             \n",
              "23 중화산2동  41             \n",
              "24 진북동      6             \n",
              "25 팔복동      1             \n",
              "26 평화1동    11             \n",
              "27 평화2동    88             \n",
              "28 풍남동      1             \n",
              "29 혁신동      9             \n",
              "30 호성동      3             \n",
              "31 효자1동    20             \n",
              "32 효자2동     6             \n",
              "33 효자3동    14             \n",
              "34 효자4동   107             \n",
              "35 효자5동    88             "
            ],
            "text/latex": "A data.frame: 35 × 2\n\\begin{tabular}{ll}\n 행정동 & 전동킥보드이용수\\\\\n <chr> & <int>\\\\\n\\hline\n\t 금암1동   & 105\\\\\n\t 금암2동   &  15\\\\\n\t 노송동    &   4\\\\\n\t 덕진동    &  73\\\\\n\t 동서학동  &   3\\\\\n\t 삼천1동   &  17\\\\\n\t 삼천2동   &  14\\\\\n\t 삼천3동   &  26\\\\\n\t 서서학동  &   7\\\\\n\t 서신동    &  48\\\\\n\t 송천1동   &  25\\\\\n\t 송천2동   &  12\\\\\n\t 여의동    &   3\\\\\n\t 완산동    &   3\\\\\n\t 우아1동   &   3\\\\\n\t 우아2동   &   0\\\\\n\t 인후1동   &   1\\\\\n\t 인후2동   &   5\\\\\n\t 인후3동   &   5\\\\\n\t 조촌동    &  10\\\\\n\t 중앙동    &  10\\\\\n\t 중화산1동 &  20\\\\\n\t 중화산2동 &  41\\\\\n\t 진북동    &   6\\\\\n\t 팔복동    &   1\\\\\n\t 평화1동   &  11\\\\\n\t 평화2동   &  88\\\\\n\t 풍남동    &   1\\\\\n\t 혁신동    &   9\\\\\n\t 호성동    &   3\\\\\n\t 효자1동   &  20\\\\\n\t 효자2동   &   6\\\\\n\t 효자3동   &  14\\\\\n\t 효자4동   & 107\\\\\n\t 효자5동   &  88\\\\\n\\end{tabular}\n",
            "text/markdown": "\nA data.frame: 35 × 2\n\n| 행정동 &lt;chr&gt; | 전동킥보드이용수 &lt;int&gt; |\n|---|---|\n| 금암1동   | 105 |\n| 금암2동   |  15 |\n| 노송동    |   4 |\n| 덕진동    |  73 |\n| 동서학동  |   3 |\n| 삼천1동   |  17 |\n| 삼천2동   |  14 |\n| 삼천3동   |  26 |\n| 서서학동  |   7 |\n| 서신동    |  48 |\n| 송천1동   |  25 |\n| 송천2동   |  12 |\n| 여의동    |   3 |\n| 완산동    |   3 |\n| 우아1동   |   3 |\n| 우아2동   |   0 |\n| 인후1동   |   1 |\n| 인후2동   |   5 |\n| 인후3동   |   5 |\n| 조촌동    |  10 |\n| 중앙동    |  10 |\n| 중화산1동 |  20 |\n| 중화산2동 |  41 |\n| 진북동    |   6 |\n| 팔복동    |   1 |\n| 평화1동   |  11 |\n| 평화2동   |  88 |\n| 풍남동    |   1 |\n| 혁신동    |   9 |\n| 호성동    |   3 |\n| 효자1동   |  20 |\n| 효자2동   |   6 |\n| 효자3동   |  14 |\n| 효자4동   | 107 |\n| 효자5동   |  88 |\n\n",
            "text/html": [
              "<table class=\"dataframe\">\n",
              "<caption>A data.frame: 35 × 2</caption>\n",
              "<thead>\n",
              "\t<tr><th scope=col>행정동</th><th scope=col>전동킥보드이용수</th></tr>\n",
              "\t<tr><th scope=col>&lt;chr&gt;</th><th scope=col>&lt;int&gt;</th></tr>\n",
              "</thead>\n",
              "<tbody>\n",
              "\t<tr><td>금암1동  </td><td>105</td></tr>\n",
              "\t<tr><td>금암2동  </td><td> 15</td></tr>\n",
              "\t<tr><td>노송동   </td><td>  4</td></tr>\n",
              "\t<tr><td>덕진동   </td><td> 73</td></tr>\n",
              "\t<tr><td>동서학동 </td><td>  3</td></tr>\n",
              "\t<tr><td>삼천1동  </td><td> 17</td></tr>\n",
              "\t<tr><td>삼천2동  </td><td> 14</td></tr>\n",
              "\t<tr><td>삼천3동  </td><td> 26</td></tr>\n",
              "\t<tr><td>서서학동 </td><td>  7</td></tr>\n",
              "\t<tr><td>서신동   </td><td> 48</td></tr>\n",
              "\t<tr><td>송천1동  </td><td> 25</td></tr>\n",
              "\t<tr><td>송천2동  </td><td> 12</td></tr>\n",
              "\t<tr><td>여의동   </td><td>  3</td></tr>\n",
              "\t<tr><td>완산동   </td><td>  3</td></tr>\n",
              "\t<tr><td>우아1동  </td><td>  3</td></tr>\n",
              "\t<tr><td>우아2동  </td><td>  0</td></tr>\n",
              "\t<tr><td>인후1동  </td><td>  1</td></tr>\n",
              "\t<tr><td>인후2동  </td><td>  5</td></tr>\n",
              "\t<tr><td>인후3동  </td><td>  5</td></tr>\n",
              "\t<tr><td>조촌동   </td><td> 10</td></tr>\n",
              "\t<tr><td>중앙동   </td><td> 10</td></tr>\n",
              "\t<tr><td>중화산1동</td><td> 20</td></tr>\n",
              "\t<tr><td>중화산2동</td><td> 41</td></tr>\n",
              "\t<tr><td>진북동   </td><td>  6</td></tr>\n",
              "\t<tr><td>팔복동   </td><td>  1</td></tr>\n",
              "\t<tr><td>평화1동  </td><td> 11</td></tr>\n",
              "\t<tr><td>평화2동  </td><td> 88</td></tr>\n",
              "\t<tr><td>풍남동   </td><td>  1</td></tr>\n",
              "\t<tr><td>혁신동   </td><td>  9</td></tr>\n",
              "\t<tr><td>호성동   </td><td>  3</td></tr>\n",
              "\t<tr><td>효자1동  </td><td> 20</td></tr>\n",
              "\t<tr><td>효자2동  </td><td>  6</td></tr>\n",
              "\t<tr><td>효자3동  </td><td> 14</td></tr>\n",
              "\t<tr><td>효자4동  </td><td>107</td></tr>\n",
              "\t<tr><td>효자5동  </td><td> 88</td></tr>\n",
              "</tbody>\n",
              "</table>\n"
            ]
          },
          "metadata": {
            "tags": []
          }
        }
      ]
    },
    {
      "cell_type": "markdown",
      "metadata": {
        "id": "1uKA96vQTw_J"
      },
      "source": [
        "## 버스 정류장 수 ()"
      ]
    },
    {
      "cell_type": "markdown",
      "metadata": {
        "id": "Hjez8A73EKzY"
      },
      "source": [
        "## 행정동이 잘 정리되었는지 확인\n",
        "\n",
        "모든 행정동이 다 동일하다는 것을 확인할 수 있다.\n",
        "\n"
      ]
    },
    {
      "cell_type": "code",
      "metadata": {
        "colab": {
          "base_uri": "https://localhost:8080/",
          "height": 226
        },
        "id": "WtD3SwTsAC1U",
        "outputId": "30a27bff-929f-472e-ae93-9319516f4661"
      },
      "source": [
        "df <- data.frame(pop = pop$행정동, rest = rest$행정동, bicycle = bicycle$행정동, \n",
        "                  bigstore = bigstore$행정동, cvstore = cvstore$행정동, univ = univ$행정동, \n",
        "                  region = region$행정동, store = store$행정동, park = park$행정동, scooter = scooter$행정동)\n",
        "\n",
        "df"
      ],
      "execution_count": null,
      "outputs": [
        {
          "output_type": "error",
          "ename": "ERROR",
          "evalue": "ignored",
          "traceback": [
            "Error in data.frame(pop = pop$행정동, rest = rest$행정동, bicycle = bicycle$행정동, : arguments imply differing number of rows: 35, 34\nTraceback:\n",
            "1. data.frame(pop = pop$행정동, rest = rest$행정동, bicycle = bicycle$행정동, \n .     bigstore = bigstore$행정동, cvstore = cvstore$행정동, \n .     univ = univ$행정동, region = region$행정동, store = store$행정동, \n .     park = park$행정동, scooter = scooter$행정동)",
            "2. stop(gettextf(\"arguments imply differing number of rows: %s\", \n .     paste(unique(nrows), collapse = \", \")), domain = NA)"
          ]
        }
      ]
    },
    {
      "cell_type": "markdown",
      "metadata": {
        "id": "irzyYTUEEXS5"
      },
      "source": [
        "## 행정동을 기준으로 데이터 정리하기\n",
        "\n"
      ]
    },
    {
      "cell_type": "code",
      "metadata": {
        "colab": {
          "base_uri": "https://localhost:8080/",
          "height": 1000
        },
        "id": "J8h5moSxbGUW",
        "outputId": "910bd114-ebbd-40b1-b5d7-854173cc1a5d"
      },
      "source": [
        "jj <- merge(pop, rest)\n",
        "jj <- merge(jj, bicycle)\n",
        "jj <- merge(jj, bigstore)\n",
        "jj <- merge(jj, cvstore)\n",
        "jj <- merge(jj, univ)\n",
        "jj <- merge(jj, region)\n",
        "jj <- merge(jj, store)\n",
        "#jj <- cbind(jj, 상권지수)\n",
        "jj <- merge(jj, park)\n",
        "jj <- merge(jj, scooter)\n",
        "\n",
        "jj"
      ],
      "execution_count": null,
      "outputs": [
        {
          "output_type": "display_data",
          "data": {
            "text/plain": [
              "   행정동    인구  음식점수 자전거보관대수 대규모점포수 편의점수 대학교수\n",
              "1  금암1동    8824 323      253            1            25       0       \n",
              "2  금암2동   10714 119       20            0             8       0       \n",
              "3  노송동    13189 193      138            2             5       0       \n",
              "4  덕진동    21215 468      237            1            29       1       \n",
              "5  동서학동   6784  67        7            0             6       1       \n",
              "6  삼천1동   12799  97       60            0            14       0       \n",
              "7  삼천2동   14447 216       21            0             9       0       \n",
              "8  삼천3동   23323 219       62            2            13       0       \n",
              "9  서서학동   9223  54        7            0            14       0       \n",
              "10 서신동    40408 560      126            4            31       0       \n",
              "11 송천1동   59376 347       31            3            30       0       \n",
              "12 송천2동   26748 288       27            0            14       0       \n",
              "13 여의동    30208 184       60            3            22       0       \n",
              "14 완산동     5148  17        7            0            14       0       \n",
              "15 우아1동   10096 227       60            1            14       0       \n",
              "16 우아2동   15125 389      110            0            36       0       \n",
              "17 인후1동   19047 147       78            1             8       0       \n",
              "18 인후2동   12094 174       60            1             7       0       \n",
              "19 인후3동   32426 335       20            1            30       0       \n",
              "20 조촌동    12133  90       23            0             7       0       \n",
              "21 중앙동     8073 567       68            4            17       0       \n",
              "22 중화산1동 15288 227       60            1            19       2       \n",
              "23 중화산2동 20030 491      119            0            20       0       \n",
              "24 진북동    14924 145      125            0             8       0       \n",
              "25 팔복동     8300 120       31            0            10       0       \n",
              "26 평화1동   13204 108       95            0             8       0       \n",
              "27 평화2동   46295 372       46            3            21       0       \n",
              "28 풍남동     4521 488       24            2            16       0       \n",
              "29 호성동    21154 121       60            1             9       0       \n",
              "30 효자1동   11784  72       76            2            14       0       \n",
              "31 효자2동   10861 144       65            0             6       0       \n",
              "32 효자3동   15758 156       10            2             9       0       \n",
              "33 효자4동   33756 378       42            8            36       2       \n",
              "34 효자5동   37898 805       73            0            60       1       \n",
              "   면적.km 상점개수 공원수 전동킥보드이용수\n",
              "1   1.25    81      0      105             \n",
              "2   1.25    55      0       15             \n",
              "3   2.09    75      0        4             \n",
              "4   4.78   114      0       73             \n",
              "5  15.64    18      0        3             \n",
              "6   1.27    81      0       17             \n",
              "7   0.95   105      0       14             \n",
              "8  26.60    73      0       26             \n",
              "9   2.97    21      0        7             \n",
              "10  2.39   318      0       48             \n",
              "11  4.79    92      0       25             \n",
              "12 12.14    96      2       12             \n",
              "13 15.71    63      2        3             \n",
              "14  0.99    17      0        3             \n",
              "15  1.44   115      0        3             \n",
              "16 22.91    73      2        0             \n",
              "17  1.29    70      0        1             \n",
              "18  1.32    61      0        5             \n",
              "19  1.68   101      0        5             \n",
              "20 24.28    36      0       10             \n",
              "21  1.35   114      1       10             \n",
              "22  1.22    54      0       20             \n",
              "23  1.72   131      0       41             \n",
              "24  1.71    68      0        6             \n",
              "25  7.38    50      2        1             \n",
              "26  1.49    27      0       11             \n",
              "27 15.23   187      0       88             \n",
              "28  2.05   106      1        1             \n",
              "29  7.64    67      0        3             \n",
              "30  1.02    65      0       20             \n",
              "31  0.84    84      0        6             \n",
              "32  0.79    61      0       14             \n",
              "33  7.71   220      0      107             \n",
              "34  6.27     1      0       88             "
            ],
            "text/latex": "A data.frame: 34 × 11\n\\begin{tabular}{lllllllllll}\n 행정동 & 인구 & 음식점수 & 자전거보관대수 & 대규모점포수 & 편의점수 & 대학교수 & 면적.km & 상점개수 & 공원수 & 전동킥보드이용수\\\\\n <chr> & <int> & <int> & <int> & <dbl> & <int> & <dbl> & <dbl> & <int> & <dbl> & <int>\\\\\n\\hline\n\t 금암1동   &  8824 & 323 & 253 & 1 & 25 & 0 &  1.25 &  81 & 0 & 105\\\\\n\t 금암2동   & 10714 & 119 &  20 & 0 &  8 & 0 &  1.25 &  55 & 0 &  15\\\\\n\t 노송동    & 13189 & 193 & 138 & 2 &  5 & 0 &  2.09 &  75 & 0 &   4\\\\\n\t 덕진동    & 21215 & 468 & 237 & 1 & 29 & 1 &  4.78 & 114 & 0 &  73\\\\\n\t 동서학동  &  6784 &  67 &   7 & 0 &  6 & 1 & 15.64 &  18 & 0 &   3\\\\\n\t 삼천1동   & 12799 &  97 &  60 & 0 & 14 & 0 &  1.27 &  81 & 0 &  17\\\\\n\t 삼천2동   & 14447 & 216 &  21 & 0 &  9 & 0 &  0.95 & 105 & 0 &  14\\\\\n\t 삼천3동   & 23323 & 219 &  62 & 2 & 13 & 0 & 26.60 &  73 & 0 &  26\\\\\n\t 서서학동  &  9223 &  54 &   7 & 0 & 14 & 0 &  2.97 &  21 & 0 &   7\\\\\n\t 서신동    & 40408 & 560 & 126 & 4 & 31 & 0 &  2.39 & 318 & 0 &  48\\\\\n\t 송천1동   & 59376 & 347 &  31 & 3 & 30 & 0 &  4.79 &  92 & 0 &  25\\\\\n\t 송천2동   & 26748 & 288 &  27 & 0 & 14 & 0 & 12.14 &  96 & 2 &  12\\\\\n\t 여의동    & 30208 & 184 &  60 & 3 & 22 & 0 & 15.71 &  63 & 2 &   3\\\\\n\t 완산동    &  5148 &  17 &   7 & 0 & 14 & 0 &  0.99 &  17 & 0 &   3\\\\\n\t 우아1동   & 10096 & 227 &  60 & 1 & 14 & 0 &  1.44 & 115 & 0 &   3\\\\\n\t 우아2동   & 15125 & 389 & 110 & 0 & 36 & 0 & 22.91 &  73 & 2 &   0\\\\\n\t 인후1동   & 19047 & 147 &  78 & 1 &  8 & 0 &  1.29 &  70 & 0 &   1\\\\\n\t 인후2동   & 12094 & 174 &  60 & 1 &  7 & 0 &  1.32 &  61 & 0 &   5\\\\\n\t 인후3동   & 32426 & 335 &  20 & 1 & 30 & 0 &  1.68 & 101 & 0 &   5\\\\\n\t 조촌동    & 12133 &  90 &  23 & 0 &  7 & 0 & 24.28 &  36 & 0 &  10\\\\\n\t 중앙동    &  8073 & 567 &  68 & 4 & 17 & 0 &  1.35 & 114 & 1 &  10\\\\\n\t 중화산1동 & 15288 & 227 &  60 & 1 & 19 & 2 &  1.22 &  54 & 0 &  20\\\\\n\t 중화산2동 & 20030 & 491 & 119 & 0 & 20 & 0 &  1.72 & 131 & 0 &  41\\\\\n\t 진북동    & 14924 & 145 & 125 & 0 &  8 & 0 &  1.71 &  68 & 0 &   6\\\\\n\t 팔복동    &  8300 & 120 &  31 & 0 & 10 & 0 &  7.38 &  50 & 2 &   1\\\\\n\t 평화1동   & 13204 & 108 &  95 & 0 &  8 & 0 &  1.49 &  27 & 0 &  11\\\\\n\t 평화2동   & 46295 & 372 &  46 & 3 & 21 & 0 & 15.23 & 187 & 0 &  88\\\\\n\t 풍남동    &  4521 & 488 &  24 & 2 & 16 & 0 &  2.05 & 106 & 1 &   1\\\\\n\t 호성동    & 21154 & 121 &  60 & 1 &  9 & 0 &  7.64 &  67 & 0 &   3\\\\\n\t 효자1동   & 11784 &  72 &  76 & 2 & 14 & 0 &  1.02 &  65 & 0 &  20\\\\\n\t 효자2동   & 10861 & 144 &  65 & 0 &  6 & 0 &  0.84 &  84 & 0 &   6\\\\\n\t 효자3동   & 15758 & 156 &  10 & 2 &  9 & 0 &  0.79 &  61 & 0 &  14\\\\\n\t 효자4동   & 33756 & 378 &  42 & 8 & 36 & 2 &  7.71 & 220 & 0 & 107\\\\\n\t 효자5동   & 37898 & 805 &  73 & 0 & 60 & 1 &  6.27 &   1 & 0 &  88\\\\\n\\end{tabular}\n",
            "text/markdown": "\nA data.frame: 34 × 11\n\n| 행정동 &lt;chr&gt; | 인구 &lt;int&gt; | 음식점수 &lt;int&gt; | 자전거보관대수 &lt;int&gt; | 대규모점포수 &lt;dbl&gt; | 편의점수 &lt;int&gt; | 대학교수 &lt;dbl&gt; | 면적.km &lt;dbl&gt; | 상점개수 &lt;int&gt; | 공원수 &lt;dbl&gt; | 전동킥보드이용수 &lt;int&gt; |\n|---|---|---|---|---|---|---|---|---|---|---|\n| 금암1동   |  8824 | 323 | 253 | 1 | 25 | 0 |  1.25 |  81 | 0 | 105 |\n| 금암2동   | 10714 | 119 |  20 | 0 |  8 | 0 |  1.25 |  55 | 0 |  15 |\n| 노송동    | 13189 | 193 | 138 | 2 |  5 | 0 |  2.09 |  75 | 0 |   4 |\n| 덕진동    | 21215 | 468 | 237 | 1 | 29 | 1 |  4.78 | 114 | 0 |  73 |\n| 동서학동  |  6784 |  67 |   7 | 0 |  6 | 1 | 15.64 |  18 | 0 |   3 |\n| 삼천1동   | 12799 |  97 |  60 | 0 | 14 | 0 |  1.27 |  81 | 0 |  17 |\n| 삼천2동   | 14447 | 216 |  21 | 0 |  9 | 0 |  0.95 | 105 | 0 |  14 |\n| 삼천3동   | 23323 | 219 |  62 | 2 | 13 | 0 | 26.60 |  73 | 0 |  26 |\n| 서서학동  |  9223 |  54 |   7 | 0 | 14 | 0 |  2.97 |  21 | 0 |   7 |\n| 서신동    | 40408 | 560 | 126 | 4 | 31 | 0 |  2.39 | 318 | 0 |  48 |\n| 송천1동   | 59376 | 347 |  31 | 3 | 30 | 0 |  4.79 |  92 | 0 |  25 |\n| 송천2동   | 26748 | 288 |  27 | 0 | 14 | 0 | 12.14 |  96 | 2 |  12 |\n| 여의동    | 30208 | 184 |  60 | 3 | 22 | 0 | 15.71 |  63 | 2 |   3 |\n| 완산동    |  5148 |  17 |   7 | 0 | 14 | 0 |  0.99 |  17 | 0 |   3 |\n| 우아1동   | 10096 | 227 |  60 | 1 | 14 | 0 |  1.44 | 115 | 0 |   3 |\n| 우아2동   | 15125 | 389 | 110 | 0 | 36 | 0 | 22.91 |  73 | 2 |   0 |\n| 인후1동   | 19047 | 147 |  78 | 1 |  8 | 0 |  1.29 |  70 | 0 |   1 |\n| 인후2동   | 12094 | 174 |  60 | 1 |  7 | 0 |  1.32 |  61 | 0 |   5 |\n| 인후3동   | 32426 | 335 |  20 | 1 | 30 | 0 |  1.68 | 101 | 0 |   5 |\n| 조촌동    | 12133 |  90 |  23 | 0 |  7 | 0 | 24.28 |  36 | 0 |  10 |\n| 중앙동    |  8073 | 567 |  68 | 4 | 17 | 0 |  1.35 | 114 | 1 |  10 |\n| 중화산1동 | 15288 | 227 |  60 | 1 | 19 | 2 |  1.22 |  54 | 0 |  20 |\n| 중화산2동 | 20030 | 491 | 119 | 0 | 20 | 0 |  1.72 | 131 | 0 |  41 |\n| 진북동    | 14924 | 145 | 125 | 0 |  8 | 0 |  1.71 |  68 | 0 |   6 |\n| 팔복동    |  8300 | 120 |  31 | 0 | 10 | 0 |  7.38 |  50 | 2 |   1 |\n| 평화1동   | 13204 | 108 |  95 | 0 |  8 | 0 |  1.49 |  27 | 0 |  11 |\n| 평화2동   | 46295 | 372 |  46 | 3 | 21 | 0 | 15.23 | 187 | 0 |  88 |\n| 풍남동    |  4521 | 488 |  24 | 2 | 16 | 0 |  2.05 | 106 | 1 |   1 |\n| 호성동    | 21154 | 121 |  60 | 1 |  9 | 0 |  7.64 |  67 | 0 |   3 |\n| 효자1동   | 11784 |  72 |  76 | 2 | 14 | 0 |  1.02 |  65 | 0 |  20 |\n| 효자2동   | 10861 | 144 |  65 | 0 |  6 | 0 |  0.84 |  84 | 0 |   6 |\n| 효자3동   | 15758 | 156 |  10 | 2 |  9 | 0 |  0.79 |  61 | 0 |  14 |\n| 효자4동   | 33756 | 378 |  42 | 8 | 36 | 2 |  7.71 | 220 | 0 | 107 |\n| 효자5동   | 37898 | 805 |  73 | 0 | 60 | 1 |  6.27 |   1 | 0 |  88 |\n\n",
            "text/html": [
              "<table class=\"dataframe\">\n",
              "<caption>A data.frame: 34 × 11</caption>\n",
              "<thead>\n",
              "\t<tr><th scope=col>행정동</th><th scope=col>인구</th><th scope=col>음식점수</th><th scope=col>자전거보관대수</th><th scope=col>대규모점포수</th><th scope=col>편의점수</th><th scope=col>대학교수</th><th scope=col>면적.km</th><th scope=col>상점개수</th><th scope=col>공원수</th><th scope=col>전동킥보드이용수</th></tr>\n",
              "\t<tr><th scope=col>&lt;chr&gt;</th><th scope=col>&lt;int&gt;</th><th scope=col>&lt;int&gt;</th><th scope=col>&lt;int&gt;</th><th scope=col>&lt;dbl&gt;</th><th scope=col>&lt;int&gt;</th><th scope=col>&lt;dbl&gt;</th><th scope=col>&lt;dbl&gt;</th><th scope=col>&lt;int&gt;</th><th scope=col>&lt;dbl&gt;</th><th scope=col>&lt;int&gt;</th></tr>\n",
              "</thead>\n",
              "<tbody>\n",
              "\t<tr><td>금암1동  </td><td> 8824</td><td>323</td><td>253</td><td>1</td><td>25</td><td>0</td><td> 1.25</td><td> 81</td><td>0</td><td>105</td></tr>\n",
              "\t<tr><td>금암2동  </td><td>10714</td><td>119</td><td> 20</td><td>0</td><td> 8</td><td>0</td><td> 1.25</td><td> 55</td><td>0</td><td> 15</td></tr>\n",
              "\t<tr><td>노송동   </td><td>13189</td><td>193</td><td>138</td><td>2</td><td> 5</td><td>0</td><td> 2.09</td><td> 75</td><td>0</td><td>  4</td></tr>\n",
              "\t<tr><td>덕진동   </td><td>21215</td><td>468</td><td>237</td><td>1</td><td>29</td><td>1</td><td> 4.78</td><td>114</td><td>0</td><td> 73</td></tr>\n",
              "\t<tr><td>동서학동 </td><td> 6784</td><td> 67</td><td>  7</td><td>0</td><td> 6</td><td>1</td><td>15.64</td><td> 18</td><td>0</td><td>  3</td></tr>\n",
              "\t<tr><td>삼천1동  </td><td>12799</td><td> 97</td><td> 60</td><td>0</td><td>14</td><td>0</td><td> 1.27</td><td> 81</td><td>0</td><td> 17</td></tr>\n",
              "\t<tr><td>삼천2동  </td><td>14447</td><td>216</td><td> 21</td><td>0</td><td> 9</td><td>0</td><td> 0.95</td><td>105</td><td>0</td><td> 14</td></tr>\n",
              "\t<tr><td>삼천3동  </td><td>23323</td><td>219</td><td> 62</td><td>2</td><td>13</td><td>0</td><td>26.60</td><td> 73</td><td>0</td><td> 26</td></tr>\n",
              "\t<tr><td>서서학동 </td><td> 9223</td><td> 54</td><td>  7</td><td>0</td><td>14</td><td>0</td><td> 2.97</td><td> 21</td><td>0</td><td>  7</td></tr>\n",
              "\t<tr><td>서신동   </td><td>40408</td><td>560</td><td>126</td><td>4</td><td>31</td><td>0</td><td> 2.39</td><td>318</td><td>0</td><td> 48</td></tr>\n",
              "\t<tr><td>송천1동  </td><td>59376</td><td>347</td><td> 31</td><td>3</td><td>30</td><td>0</td><td> 4.79</td><td> 92</td><td>0</td><td> 25</td></tr>\n",
              "\t<tr><td>송천2동  </td><td>26748</td><td>288</td><td> 27</td><td>0</td><td>14</td><td>0</td><td>12.14</td><td> 96</td><td>2</td><td> 12</td></tr>\n",
              "\t<tr><td>여의동   </td><td>30208</td><td>184</td><td> 60</td><td>3</td><td>22</td><td>0</td><td>15.71</td><td> 63</td><td>2</td><td>  3</td></tr>\n",
              "\t<tr><td>완산동   </td><td> 5148</td><td> 17</td><td>  7</td><td>0</td><td>14</td><td>0</td><td> 0.99</td><td> 17</td><td>0</td><td>  3</td></tr>\n",
              "\t<tr><td>우아1동  </td><td>10096</td><td>227</td><td> 60</td><td>1</td><td>14</td><td>0</td><td> 1.44</td><td>115</td><td>0</td><td>  3</td></tr>\n",
              "\t<tr><td>우아2동  </td><td>15125</td><td>389</td><td>110</td><td>0</td><td>36</td><td>0</td><td>22.91</td><td> 73</td><td>2</td><td>  0</td></tr>\n",
              "\t<tr><td>인후1동  </td><td>19047</td><td>147</td><td> 78</td><td>1</td><td> 8</td><td>0</td><td> 1.29</td><td> 70</td><td>0</td><td>  1</td></tr>\n",
              "\t<tr><td>인후2동  </td><td>12094</td><td>174</td><td> 60</td><td>1</td><td> 7</td><td>0</td><td> 1.32</td><td> 61</td><td>0</td><td>  5</td></tr>\n",
              "\t<tr><td>인후3동  </td><td>32426</td><td>335</td><td> 20</td><td>1</td><td>30</td><td>0</td><td> 1.68</td><td>101</td><td>0</td><td>  5</td></tr>\n",
              "\t<tr><td>조촌동   </td><td>12133</td><td> 90</td><td> 23</td><td>0</td><td> 7</td><td>0</td><td>24.28</td><td> 36</td><td>0</td><td> 10</td></tr>\n",
              "\t<tr><td>중앙동   </td><td> 8073</td><td>567</td><td> 68</td><td>4</td><td>17</td><td>0</td><td> 1.35</td><td>114</td><td>1</td><td> 10</td></tr>\n",
              "\t<tr><td>중화산1동</td><td>15288</td><td>227</td><td> 60</td><td>1</td><td>19</td><td>2</td><td> 1.22</td><td> 54</td><td>0</td><td> 20</td></tr>\n",
              "\t<tr><td>중화산2동</td><td>20030</td><td>491</td><td>119</td><td>0</td><td>20</td><td>0</td><td> 1.72</td><td>131</td><td>0</td><td> 41</td></tr>\n",
              "\t<tr><td>진북동   </td><td>14924</td><td>145</td><td>125</td><td>0</td><td> 8</td><td>0</td><td> 1.71</td><td> 68</td><td>0</td><td>  6</td></tr>\n",
              "\t<tr><td>팔복동   </td><td> 8300</td><td>120</td><td> 31</td><td>0</td><td>10</td><td>0</td><td> 7.38</td><td> 50</td><td>2</td><td>  1</td></tr>\n",
              "\t<tr><td>평화1동  </td><td>13204</td><td>108</td><td> 95</td><td>0</td><td> 8</td><td>0</td><td> 1.49</td><td> 27</td><td>0</td><td> 11</td></tr>\n",
              "\t<tr><td>평화2동  </td><td>46295</td><td>372</td><td> 46</td><td>3</td><td>21</td><td>0</td><td>15.23</td><td>187</td><td>0</td><td> 88</td></tr>\n",
              "\t<tr><td>풍남동   </td><td> 4521</td><td>488</td><td> 24</td><td>2</td><td>16</td><td>0</td><td> 2.05</td><td>106</td><td>1</td><td>  1</td></tr>\n",
              "\t<tr><td>호성동   </td><td>21154</td><td>121</td><td> 60</td><td>1</td><td> 9</td><td>0</td><td> 7.64</td><td> 67</td><td>0</td><td>  3</td></tr>\n",
              "\t<tr><td>효자1동  </td><td>11784</td><td> 72</td><td> 76</td><td>2</td><td>14</td><td>0</td><td> 1.02</td><td> 65</td><td>0</td><td> 20</td></tr>\n",
              "\t<tr><td>효자2동  </td><td>10861</td><td>144</td><td> 65</td><td>0</td><td> 6</td><td>0</td><td> 0.84</td><td> 84</td><td>0</td><td>  6</td></tr>\n",
              "\t<tr><td>효자3동  </td><td>15758</td><td>156</td><td> 10</td><td>2</td><td> 9</td><td>0</td><td> 0.79</td><td> 61</td><td>0</td><td> 14</td></tr>\n",
              "\t<tr><td>효자4동  </td><td>33756</td><td>378</td><td> 42</td><td>8</td><td>36</td><td>2</td><td> 7.71</td><td>220</td><td>0</td><td>107</td></tr>\n",
              "\t<tr><td>효자5동  </td><td>37898</td><td>805</td><td> 73</td><td>0</td><td>60</td><td>1</td><td> 6.27</td><td>  1</td><td>0</td><td> 88</td></tr>\n",
              "</tbody>\n",
              "</table>\n"
            ]
          },
          "metadata": {
            "tags": []
          }
        }
      ]
    },
    {
      "cell_type": "markdown",
      "metadata": {
        "id": "1zBPcz7mEib5"
      },
      "source": [
        "▼ '행정동'은 수치형이 아니라서 분석 불가능하므로 제외"
      ]
    },
    {
      "cell_type": "code",
      "metadata": {
        "colab": {
          "base_uri": "https://localhost:8080/",
          "height": 1000
        },
        "id": "QK_glJhLAUSU",
        "outputId": "d8c069a5-8b71-4967-cd44-bc6b0dc00f78"
      },
      "source": [
        "jj <- jj[,-1]\n",
        "jj"
      ],
      "execution_count": null,
      "outputs": [
        {
          "output_type": "display_data",
          "data": {
            "text/plain": [
              "   인구  음식점수 자전거보관대수 대규모점포수 편의점수 대학교수 면적.km\n",
              "1   8824 323      253            1            25       0         1.25  \n",
              "2  10714 119       20            0             8       0         1.25  \n",
              "3  13189 193      138            2             5       0         2.09  \n",
              "4  21215 468      237            1            29       1         4.78  \n",
              "5   6784  67        7            0             6       1        15.64  \n",
              "6  12799  97       60            0            14       0         1.27  \n",
              "7  14447 216       21            0             9       0         0.95  \n",
              "8  23323 219       62            2            13       0        26.60  \n",
              "9   9223  54        7            0            14       0         2.97  \n",
              "10 40408 560      126            4            31       0         2.39  \n",
              "11 59376 347       31            3            30       0         4.79  \n",
              "12 26748 288       27            0            14       0        12.14  \n",
              "13 30208 184       60            3            22       0        15.71  \n",
              "14  5148  17        7            0            14       0         0.99  \n",
              "15 10096 227       60            1            14       0         1.44  \n",
              "16 15125 389      110            0            36       0        22.91  \n",
              "17 19047 147       78            1             8       0         1.29  \n",
              "18 12094 174       60            1             7       0         1.32  \n",
              "19 32426 335       20            1            30       0         1.68  \n",
              "20 12133  90       23            0             7       0        24.28  \n",
              "21  8073 567       68            4            17       0         1.35  \n",
              "22 15288 227       60            1            19       2         1.22  \n",
              "23 20030 491      119            0            20       0         1.72  \n",
              "24 14924 145      125            0             8       0         1.71  \n",
              "25  8300 120       31            0            10       0         7.38  \n",
              "26 13204 108       95            0             8       0         1.49  \n",
              "27 46295 372       46            3            21       0        15.23  \n",
              "28  4521 488       24            2            16       0         2.05  \n",
              "29 21154 121       60            1             9       0         7.64  \n",
              "30 11784  72       76            2            14       0         1.02  \n",
              "31 10861 144       65            0             6       0         0.84  \n",
              "32 15758 156       10            2             9       0         0.79  \n",
              "33 33756 378       42            8            36       2         7.71  \n",
              "34 37898 805       73            0            60       1         6.27  \n",
              "   상점개수 공원수 전동킥보드이용수\n",
              "1   81      0      105             \n",
              "2   55      0       15             \n",
              "3   75      0        4             \n",
              "4  114      0       73             \n",
              "5   18      0        3             \n",
              "6   81      0       17             \n",
              "7  105      0       14             \n",
              "8   73      0       26             \n",
              "9   21      0        7             \n",
              "10 318      0       48             \n",
              "11  92      0       25             \n",
              "12  96      2       12             \n",
              "13  63      2        3             \n",
              "14  17      0        3             \n",
              "15 115      0        3             \n",
              "16  73      2        0             \n",
              "17  70      0        1             \n",
              "18  61      0        5             \n",
              "19 101      0        5             \n",
              "20  36      0       10             \n",
              "21 114      1       10             \n",
              "22  54      0       20             \n",
              "23 131      0       41             \n",
              "24  68      0        6             \n",
              "25  50      2        1             \n",
              "26  27      0       11             \n",
              "27 187      0       88             \n",
              "28 106      1        1             \n",
              "29  67      0        3             \n",
              "30  65      0       20             \n",
              "31  84      0        6             \n",
              "32  61      0       14             \n",
              "33 220      0      107             \n",
              "34   1      0       88             "
            ],
            "text/latex": "A data.frame: 34 × 10\n\\begin{tabular}{llllllllll}\n 인구 & 음식점수 & 자전거보관대수 & 대규모점포수 & 편의점수 & 대학교수 & 면적.km & 상점개수 & 공원수 & 전동킥보드이용수\\\\\n <int> & <int> & <int> & <dbl> & <int> & <dbl> & <dbl> & <int> & <dbl> & <int>\\\\\n\\hline\n\t  8824 & 323 & 253 & 1 & 25 & 0 &  1.25 &  81 & 0 & 105\\\\\n\t 10714 & 119 &  20 & 0 &  8 & 0 &  1.25 &  55 & 0 &  15\\\\\n\t 13189 & 193 & 138 & 2 &  5 & 0 &  2.09 &  75 & 0 &   4\\\\\n\t 21215 & 468 & 237 & 1 & 29 & 1 &  4.78 & 114 & 0 &  73\\\\\n\t  6784 &  67 &   7 & 0 &  6 & 1 & 15.64 &  18 & 0 &   3\\\\\n\t 12799 &  97 &  60 & 0 & 14 & 0 &  1.27 &  81 & 0 &  17\\\\\n\t 14447 & 216 &  21 & 0 &  9 & 0 &  0.95 & 105 & 0 &  14\\\\\n\t 23323 & 219 &  62 & 2 & 13 & 0 & 26.60 &  73 & 0 &  26\\\\\n\t  9223 &  54 &   7 & 0 & 14 & 0 &  2.97 &  21 & 0 &   7\\\\\n\t 40408 & 560 & 126 & 4 & 31 & 0 &  2.39 & 318 & 0 &  48\\\\\n\t 59376 & 347 &  31 & 3 & 30 & 0 &  4.79 &  92 & 0 &  25\\\\\n\t 26748 & 288 &  27 & 0 & 14 & 0 & 12.14 &  96 & 2 &  12\\\\\n\t 30208 & 184 &  60 & 3 & 22 & 0 & 15.71 &  63 & 2 &   3\\\\\n\t  5148 &  17 &   7 & 0 & 14 & 0 &  0.99 &  17 & 0 &   3\\\\\n\t 10096 & 227 &  60 & 1 & 14 & 0 &  1.44 & 115 & 0 &   3\\\\\n\t 15125 & 389 & 110 & 0 & 36 & 0 & 22.91 &  73 & 2 &   0\\\\\n\t 19047 & 147 &  78 & 1 &  8 & 0 &  1.29 &  70 & 0 &   1\\\\\n\t 12094 & 174 &  60 & 1 &  7 & 0 &  1.32 &  61 & 0 &   5\\\\\n\t 32426 & 335 &  20 & 1 & 30 & 0 &  1.68 & 101 & 0 &   5\\\\\n\t 12133 &  90 &  23 & 0 &  7 & 0 & 24.28 &  36 & 0 &  10\\\\\n\t  8073 & 567 &  68 & 4 & 17 & 0 &  1.35 & 114 & 1 &  10\\\\\n\t 15288 & 227 &  60 & 1 & 19 & 2 &  1.22 &  54 & 0 &  20\\\\\n\t 20030 & 491 & 119 & 0 & 20 & 0 &  1.72 & 131 & 0 &  41\\\\\n\t 14924 & 145 & 125 & 0 &  8 & 0 &  1.71 &  68 & 0 &   6\\\\\n\t  8300 & 120 &  31 & 0 & 10 & 0 &  7.38 &  50 & 2 &   1\\\\\n\t 13204 & 108 &  95 & 0 &  8 & 0 &  1.49 &  27 & 0 &  11\\\\\n\t 46295 & 372 &  46 & 3 & 21 & 0 & 15.23 & 187 & 0 &  88\\\\\n\t  4521 & 488 &  24 & 2 & 16 & 0 &  2.05 & 106 & 1 &   1\\\\\n\t 21154 & 121 &  60 & 1 &  9 & 0 &  7.64 &  67 & 0 &   3\\\\\n\t 11784 &  72 &  76 & 2 & 14 & 0 &  1.02 &  65 & 0 &  20\\\\\n\t 10861 & 144 &  65 & 0 &  6 & 0 &  0.84 &  84 & 0 &   6\\\\\n\t 15758 & 156 &  10 & 2 &  9 & 0 &  0.79 &  61 & 0 &  14\\\\\n\t 33756 & 378 &  42 & 8 & 36 & 2 &  7.71 & 220 & 0 & 107\\\\\n\t 37898 & 805 &  73 & 0 & 60 & 1 &  6.27 &   1 & 0 &  88\\\\\n\\end{tabular}\n",
            "text/markdown": "\nA data.frame: 34 × 10\n\n| 인구 &lt;int&gt; | 음식점수 &lt;int&gt; | 자전거보관대수 &lt;int&gt; | 대규모점포수 &lt;dbl&gt; | 편의점수 &lt;int&gt; | 대학교수 &lt;dbl&gt; | 면적.km &lt;dbl&gt; | 상점개수 &lt;int&gt; | 공원수 &lt;dbl&gt; | 전동킥보드이용수 &lt;int&gt; |\n|---|---|---|---|---|---|---|---|---|---|\n|  8824 | 323 | 253 | 1 | 25 | 0 |  1.25 |  81 | 0 | 105 |\n| 10714 | 119 |  20 | 0 |  8 | 0 |  1.25 |  55 | 0 |  15 |\n| 13189 | 193 | 138 | 2 |  5 | 0 |  2.09 |  75 | 0 |   4 |\n| 21215 | 468 | 237 | 1 | 29 | 1 |  4.78 | 114 | 0 |  73 |\n|  6784 |  67 |   7 | 0 |  6 | 1 | 15.64 |  18 | 0 |   3 |\n| 12799 |  97 |  60 | 0 | 14 | 0 |  1.27 |  81 | 0 |  17 |\n| 14447 | 216 |  21 | 0 |  9 | 0 |  0.95 | 105 | 0 |  14 |\n| 23323 | 219 |  62 | 2 | 13 | 0 | 26.60 |  73 | 0 |  26 |\n|  9223 |  54 |   7 | 0 | 14 | 0 |  2.97 |  21 | 0 |   7 |\n| 40408 | 560 | 126 | 4 | 31 | 0 |  2.39 | 318 | 0 |  48 |\n| 59376 | 347 |  31 | 3 | 30 | 0 |  4.79 |  92 | 0 |  25 |\n| 26748 | 288 |  27 | 0 | 14 | 0 | 12.14 |  96 | 2 |  12 |\n| 30208 | 184 |  60 | 3 | 22 | 0 | 15.71 |  63 | 2 |   3 |\n|  5148 |  17 |   7 | 0 | 14 | 0 |  0.99 |  17 | 0 |   3 |\n| 10096 | 227 |  60 | 1 | 14 | 0 |  1.44 | 115 | 0 |   3 |\n| 15125 | 389 | 110 | 0 | 36 | 0 | 22.91 |  73 | 2 |   0 |\n| 19047 | 147 |  78 | 1 |  8 | 0 |  1.29 |  70 | 0 |   1 |\n| 12094 | 174 |  60 | 1 |  7 | 0 |  1.32 |  61 | 0 |   5 |\n| 32426 | 335 |  20 | 1 | 30 | 0 |  1.68 | 101 | 0 |   5 |\n| 12133 |  90 |  23 | 0 |  7 | 0 | 24.28 |  36 | 0 |  10 |\n|  8073 | 567 |  68 | 4 | 17 | 0 |  1.35 | 114 | 1 |  10 |\n| 15288 | 227 |  60 | 1 | 19 | 2 |  1.22 |  54 | 0 |  20 |\n| 20030 | 491 | 119 | 0 | 20 | 0 |  1.72 | 131 | 0 |  41 |\n| 14924 | 145 | 125 | 0 |  8 | 0 |  1.71 |  68 | 0 |   6 |\n|  8300 | 120 |  31 | 0 | 10 | 0 |  7.38 |  50 | 2 |   1 |\n| 13204 | 108 |  95 | 0 |  8 | 0 |  1.49 |  27 | 0 |  11 |\n| 46295 | 372 |  46 | 3 | 21 | 0 | 15.23 | 187 | 0 |  88 |\n|  4521 | 488 |  24 | 2 | 16 | 0 |  2.05 | 106 | 1 |   1 |\n| 21154 | 121 |  60 | 1 |  9 | 0 |  7.64 |  67 | 0 |   3 |\n| 11784 |  72 |  76 | 2 | 14 | 0 |  1.02 |  65 | 0 |  20 |\n| 10861 | 144 |  65 | 0 |  6 | 0 |  0.84 |  84 | 0 |   6 |\n| 15758 | 156 |  10 | 2 |  9 | 0 |  0.79 |  61 | 0 |  14 |\n| 33756 | 378 |  42 | 8 | 36 | 2 |  7.71 | 220 | 0 | 107 |\n| 37898 | 805 |  73 | 0 | 60 | 1 |  6.27 |   1 | 0 |  88 |\n\n",
            "text/html": [
              "<table class=\"dataframe\">\n",
              "<caption>A data.frame: 34 × 10</caption>\n",
              "<thead>\n",
              "\t<tr><th scope=col>인구</th><th scope=col>음식점수</th><th scope=col>자전거보관대수</th><th scope=col>대규모점포수</th><th scope=col>편의점수</th><th scope=col>대학교수</th><th scope=col>면적.km</th><th scope=col>상점개수</th><th scope=col>공원수</th><th scope=col>전동킥보드이용수</th></tr>\n",
              "\t<tr><th scope=col>&lt;int&gt;</th><th scope=col>&lt;int&gt;</th><th scope=col>&lt;int&gt;</th><th scope=col>&lt;dbl&gt;</th><th scope=col>&lt;int&gt;</th><th scope=col>&lt;dbl&gt;</th><th scope=col>&lt;dbl&gt;</th><th scope=col>&lt;int&gt;</th><th scope=col>&lt;dbl&gt;</th><th scope=col>&lt;int&gt;</th></tr>\n",
              "</thead>\n",
              "<tbody>\n",
              "\t<tr><td> 8824</td><td>323</td><td>253</td><td>1</td><td>25</td><td>0</td><td> 1.25</td><td> 81</td><td>0</td><td>105</td></tr>\n",
              "\t<tr><td>10714</td><td>119</td><td> 20</td><td>0</td><td> 8</td><td>0</td><td> 1.25</td><td> 55</td><td>0</td><td> 15</td></tr>\n",
              "\t<tr><td>13189</td><td>193</td><td>138</td><td>2</td><td> 5</td><td>0</td><td> 2.09</td><td> 75</td><td>0</td><td>  4</td></tr>\n",
              "\t<tr><td>21215</td><td>468</td><td>237</td><td>1</td><td>29</td><td>1</td><td> 4.78</td><td>114</td><td>0</td><td> 73</td></tr>\n",
              "\t<tr><td> 6784</td><td> 67</td><td>  7</td><td>0</td><td> 6</td><td>1</td><td>15.64</td><td> 18</td><td>0</td><td>  3</td></tr>\n",
              "\t<tr><td>12799</td><td> 97</td><td> 60</td><td>0</td><td>14</td><td>0</td><td> 1.27</td><td> 81</td><td>0</td><td> 17</td></tr>\n",
              "\t<tr><td>14447</td><td>216</td><td> 21</td><td>0</td><td> 9</td><td>0</td><td> 0.95</td><td>105</td><td>0</td><td> 14</td></tr>\n",
              "\t<tr><td>23323</td><td>219</td><td> 62</td><td>2</td><td>13</td><td>0</td><td>26.60</td><td> 73</td><td>0</td><td> 26</td></tr>\n",
              "\t<tr><td> 9223</td><td> 54</td><td>  7</td><td>0</td><td>14</td><td>0</td><td> 2.97</td><td> 21</td><td>0</td><td>  7</td></tr>\n",
              "\t<tr><td>40408</td><td>560</td><td>126</td><td>4</td><td>31</td><td>0</td><td> 2.39</td><td>318</td><td>0</td><td> 48</td></tr>\n",
              "\t<tr><td>59376</td><td>347</td><td> 31</td><td>3</td><td>30</td><td>0</td><td> 4.79</td><td> 92</td><td>0</td><td> 25</td></tr>\n",
              "\t<tr><td>26748</td><td>288</td><td> 27</td><td>0</td><td>14</td><td>0</td><td>12.14</td><td> 96</td><td>2</td><td> 12</td></tr>\n",
              "\t<tr><td>30208</td><td>184</td><td> 60</td><td>3</td><td>22</td><td>0</td><td>15.71</td><td> 63</td><td>2</td><td>  3</td></tr>\n",
              "\t<tr><td> 5148</td><td> 17</td><td>  7</td><td>0</td><td>14</td><td>0</td><td> 0.99</td><td> 17</td><td>0</td><td>  3</td></tr>\n",
              "\t<tr><td>10096</td><td>227</td><td> 60</td><td>1</td><td>14</td><td>0</td><td> 1.44</td><td>115</td><td>0</td><td>  3</td></tr>\n",
              "\t<tr><td>15125</td><td>389</td><td>110</td><td>0</td><td>36</td><td>0</td><td>22.91</td><td> 73</td><td>2</td><td>  0</td></tr>\n",
              "\t<tr><td>19047</td><td>147</td><td> 78</td><td>1</td><td> 8</td><td>0</td><td> 1.29</td><td> 70</td><td>0</td><td>  1</td></tr>\n",
              "\t<tr><td>12094</td><td>174</td><td> 60</td><td>1</td><td> 7</td><td>0</td><td> 1.32</td><td> 61</td><td>0</td><td>  5</td></tr>\n",
              "\t<tr><td>32426</td><td>335</td><td> 20</td><td>1</td><td>30</td><td>0</td><td> 1.68</td><td>101</td><td>0</td><td>  5</td></tr>\n",
              "\t<tr><td>12133</td><td> 90</td><td> 23</td><td>0</td><td> 7</td><td>0</td><td>24.28</td><td> 36</td><td>0</td><td> 10</td></tr>\n",
              "\t<tr><td> 8073</td><td>567</td><td> 68</td><td>4</td><td>17</td><td>0</td><td> 1.35</td><td>114</td><td>1</td><td> 10</td></tr>\n",
              "\t<tr><td>15288</td><td>227</td><td> 60</td><td>1</td><td>19</td><td>2</td><td> 1.22</td><td> 54</td><td>0</td><td> 20</td></tr>\n",
              "\t<tr><td>20030</td><td>491</td><td>119</td><td>0</td><td>20</td><td>0</td><td> 1.72</td><td>131</td><td>0</td><td> 41</td></tr>\n",
              "\t<tr><td>14924</td><td>145</td><td>125</td><td>0</td><td> 8</td><td>0</td><td> 1.71</td><td> 68</td><td>0</td><td>  6</td></tr>\n",
              "\t<tr><td> 8300</td><td>120</td><td> 31</td><td>0</td><td>10</td><td>0</td><td> 7.38</td><td> 50</td><td>2</td><td>  1</td></tr>\n",
              "\t<tr><td>13204</td><td>108</td><td> 95</td><td>0</td><td> 8</td><td>0</td><td> 1.49</td><td> 27</td><td>0</td><td> 11</td></tr>\n",
              "\t<tr><td>46295</td><td>372</td><td> 46</td><td>3</td><td>21</td><td>0</td><td>15.23</td><td>187</td><td>0</td><td> 88</td></tr>\n",
              "\t<tr><td> 4521</td><td>488</td><td> 24</td><td>2</td><td>16</td><td>0</td><td> 2.05</td><td>106</td><td>1</td><td>  1</td></tr>\n",
              "\t<tr><td>21154</td><td>121</td><td> 60</td><td>1</td><td> 9</td><td>0</td><td> 7.64</td><td> 67</td><td>0</td><td>  3</td></tr>\n",
              "\t<tr><td>11784</td><td> 72</td><td> 76</td><td>2</td><td>14</td><td>0</td><td> 1.02</td><td> 65</td><td>0</td><td> 20</td></tr>\n",
              "\t<tr><td>10861</td><td>144</td><td> 65</td><td>0</td><td> 6</td><td>0</td><td> 0.84</td><td> 84</td><td>0</td><td>  6</td></tr>\n",
              "\t<tr><td>15758</td><td>156</td><td> 10</td><td>2</td><td> 9</td><td>0</td><td> 0.79</td><td> 61</td><td>0</td><td> 14</td></tr>\n",
              "\t<tr><td>33756</td><td>378</td><td> 42</td><td>8</td><td>36</td><td>2</td><td> 7.71</td><td>220</td><td>0</td><td>107</td></tr>\n",
              "\t<tr><td>37898</td><td>805</td><td> 73</td><td>0</td><td>60</td><td>1</td><td> 6.27</td><td>  1</td><td>0</td><td> 88</td></tr>\n",
              "</tbody>\n",
              "</table>\n"
            ]
          },
          "metadata": {
            "tags": []
          }
        }
      ]
    },
    {
      "cell_type": "markdown",
      "metadata": {
        "id": "6yr5ZdtbUSL6"
      },
      "source": [
        "▼ 전동킥보드 이용수와의 상관분석 결과\n",
        "\n",
        "편의점수 : 0.63\n",
        "\n",
        "음식점수 : 0.56\n",
        "\n",
        "자전거보관대수 : 0.47\n",
        "\n",
        "인구수 : 0.46\n",
        "\n",
        "대학교수 : 0.46\n",
        "\n",
        "대규모점포수 : 0.44\n",
        "\n",
        "\n",
        "** 일반적으로 0.6이 넘을 경우 상관관계가 양호하다고 봄\n"
      ]
    },
    {
      "cell_type": "code",
      "metadata": {
        "colab": {
          "base_uri": "https://localhost:8080/",
          "height": 886
        },
        "id": "cN9gIcEyUIYW",
        "outputId": "ac09fbc1-2076-462a-9690-d5f0fc3fd756"
      },
      "source": [
        "install.packages(\"corrplot\")\n",
        "library(corrplot)\n",
        "cor.jj <- cor(jj) \n",
        "round(cor.jj, 2) \n",
        "\n",
        "corrplot(cor.jj, method='shade', shade.col=NA, tl.col='black', tl.srt=45)"
      ],
      "execution_count": null,
      "outputs": [
        {
          "output_type": "stream",
          "text": [
            "Installing package into ‘/usr/local/lib/R/site-library’\n",
            "(as ‘lib’ is unspecified)\n",
            "\n",
            "corrplot 0.87 loaded\n",
            "\n"
          ],
          "name": "stderr"
        },
        {
          "output_type": "display_data",
          "data": {
            "text/plain": [
              "                 인구  음식점수 자전거보관대수 대규모점포수 편의점수 대학교수\n",
              "인구              1.00  0.48    -0.01           0.46        0.60      0.14   \n",
              "음식점수          0.48  1.00     0.33           0.34        0.79      0.24   \n",
              "자전거보관대수   -0.01  0.33     1.00           0.02        0.24      0.05   \n",
              "대규모점포수      0.46  0.34     0.02           1.00        0.31      0.33   \n",
              "편의점수          0.60  0.79     0.24           0.31        1.00      0.40   \n",
              "대학교수          0.14  0.24     0.05           0.33        0.40      1.00   \n",
              "면적.km           0.20 -0.01    -0.13           0.03        0.11      0.02   \n",
              "상점개수          0.47  0.47     0.22           0.66        0.27      0.08   \n",
              "공원수           -0.06  0.11    -0.10          -0.02        0.09     -0.17   \n",
              "전동킥보드이용수  0.46  0.56     0.47           0.44        0.63      0.46   \n",
              "                 면적.km 상점개수 공원수 전동킥보드이용수\n",
              "인구              0.20    0.47    -0.06   0.46           \n",
              "음식점수         -0.01    0.47     0.11   0.56           \n",
              "자전거보관대수   -0.13    0.22    -0.10   0.47           \n",
              "대규모점포수      0.03    0.66    -0.02   0.44           \n",
              "편의점수          0.11    0.27     0.09   0.63           \n",
              "대학교수          0.02    0.08    -0.17   0.46           \n",
              "면적.km           1.00   -0.07     0.37   0.02           \n",
              "상점개수         -0.07    1.00    -0.05   0.43           \n",
              "공원수            0.37   -0.05     1.00  -0.27           \n",
              "전동킥보드이용수  0.02    0.43    -0.27   1.00           "
            ],
            "text/latex": "A matrix: 10 × 10 of type dbl\n\\begin{tabular}{r|llllllllll}\n  & 인구 & 음식점수 & 자전거보관대수 & 대규모점포수 & 편의점수 & 대학교수 & 면적.km & 상점개수 & 공원수 & 전동킥보드이용수\\\\\n\\hline\n\t인구 &  1.00 &  0.48 & -0.01 &  0.46 & 0.60 &  0.14 &  0.20 &  0.47 & -0.06 &  0.46\\\\\n\t음식점수 &  0.48 &  1.00 &  0.33 &  0.34 & 0.79 &  0.24 & -0.01 &  0.47 &  0.11 &  0.56\\\\\n\t자전거보관대수 & -0.01 &  0.33 &  1.00 &  0.02 & 0.24 &  0.05 & -0.13 &  0.22 & -0.10 &  0.47\\\\\n\t대규모점포수 &  0.46 &  0.34 &  0.02 &  1.00 & 0.31 &  0.33 &  0.03 &  0.66 & -0.02 &  0.44\\\\\n\t편의점수 &  0.60 &  0.79 &  0.24 &  0.31 & 1.00 &  0.40 &  0.11 &  0.27 &  0.09 &  0.63\\\\\n\t대학교수 &  0.14 &  0.24 &  0.05 &  0.33 & 0.40 &  1.00 &  0.02 &  0.08 & -0.17 &  0.46\\\\\n\t면적.km &  0.20 & -0.01 & -0.13 &  0.03 & 0.11 &  0.02 &  1.00 & -0.07 &  0.37 &  0.02\\\\\n\t상점개수 &  0.47 &  0.47 &  0.22 &  0.66 & 0.27 &  0.08 & -0.07 &  1.00 & -0.05 &  0.43\\\\\n\t공원수 & -0.06 &  0.11 & -0.10 & -0.02 & 0.09 & -0.17 &  0.37 & -0.05 &  1.00 & -0.27\\\\\n\t전동킥보드이용수 &  0.46 &  0.56 &  0.47 &  0.44 & 0.63 &  0.46 &  0.02 &  0.43 & -0.27 &  1.00\\\\\n\\end{tabular}\n",
            "text/markdown": "\nA matrix: 10 × 10 of type dbl\n\n| <!--/--> | 인구 | 음식점수 | 자전거보관대수 | 대규모점포수 | 편의점수 | 대학교수 | 면적.km | 상점개수 | 공원수 | 전동킥보드이용수 |\n|---|---|---|---|---|---|---|---|---|---|---|\n| 인구 |  1.00 |  0.48 | -0.01 |  0.46 | 0.60 |  0.14 |  0.20 |  0.47 | -0.06 |  0.46 |\n| 음식점수 |  0.48 |  1.00 |  0.33 |  0.34 | 0.79 |  0.24 | -0.01 |  0.47 |  0.11 |  0.56 |\n| 자전거보관대수 | -0.01 |  0.33 |  1.00 |  0.02 | 0.24 |  0.05 | -0.13 |  0.22 | -0.10 |  0.47 |\n| 대규모점포수 |  0.46 |  0.34 |  0.02 |  1.00 | 0.31 |  0.33 |  0.03 |  0.66 | -0.02 |  0.44 |\n| 편의점수 |  0.60 |  0.79 |  0.24 |  0.31 | 1.00 |  0.40 |  0.11 |  0.27 |  0.09 |  0.63 |\n| 대학교수 |  0.14 |  0.24 |  0.05 |  0.33 | 0.40 |  1.00 |  0.02 |  0.08 | -0.17 |  0.46 |\n| 면적.km |  0.20 | -0.01 | -0.13 |  0.03 | 0.11 |  0.02 |  1.00 | -0.07 |  0.37 |  0.02 |\n| 상점개수 |  0.47 |  0.47 |  0.22 |  0.66 | 0.27 |  0.08 | -0.07 |  1.00 | -0.05 |  0.43 |\n| 공원수 | -0.06 |  0.11 | -0.10 | -0.02 | 0.09 | -0.17 |  0.37 | -0.05 |  1.00 | -0.27 |\n| 전동킥보드이용수 |  0.46 |  0.56 |  0.47 |  0.44 | 0.63 |  0.46 |  0.02 |  0.43 | -0.27 |  1.00 |\n\n",
            "text/html": [
              "<table class=\"dataframe\">\n",
              "<caption>A matrix: 10 × 10 of type dbl</caption>\n",
              "<thead>\n",
              "\t<tr><th></th><th scope=col>인구</th><th scope=col>음식점수</th><th scope=col>자전거보관대수</th><th scope=col>대규모점포수</th><th scope=col>편의점수</th><th scope=col>대학교수</th><th scope=col>면적.km</th><th scope=col>상점개수</th><th scope=col>공원수</th><th scope=col>전동킥보드이용수</th></tr>\n",
              "</thead>\n",
              "<tbody>\n",
              "\t<tr><th scope=row>인구</th><td> 1.00</td><td> 0.48</td><td>-0.01</td><td> 0.46</td><td>0.60</td><td> 0.14</td><td> 0.20</td><td> 0.47</td><td>-0.06</td><td> 0.46</td></tr>\n",
              "\t<tr><th scope=row>음식점수</th><td> 0.48</td><td> 1.00</td><td> 0.33</td><td> 0.34</td><td>0.79</td><td> 0.24</td><td>-0.01</td><td> 0.47</td><td> 0.11</td><td> 0.56</td></tr>\n",
              "\t<tr><th scope=row>자전거보관대수</th><td>-0.01</td><td> 0.33</td><td> 1.00</td><td> 0.02</td><td>0.24</td><td> 0.05</td><td>-0.13</td><td> 0.22</td><td>-0.10</td><td> 0.47</td></tr>\n",
              "\t<tr><th scope=row>대규모점포수</th><td> 0.46</td><td> 0.34</td><td> 0.02</td><td> 1.00</td><td>0.31</td><td> 0.33</td><td> 0.03</td><td> 0.66</td><td>-0.02</td><td> 0.44</td></tr>\n",
              "\t<tr><th scope=row>편의점수</th><td> 0.60</td><td> 0.79</td><td> 0.24</td><td> 0.31</td><td>1.00</td><td> 0.40</td><td> 0.11</td><td> 0.27</td><td> 0.09</td><td> 0.63</td></tr>\n",
              "\t<tr><th scope=row>대학교수</th><td> 0.14</td><td> 0.24</td><td> 0.05</td><td> 0.33</td><td>0.40</td><td> 1.00</td><td> 0.02</td><td> 0.08</td><td>-0.17</td><td> 0.46</td></tr>\n",
              "\t<tr><th scope=row>면적.km</th><td> 0.20</td><td>-0.01</td><td>-0.13</td><td> 0.03</td><td>0.11</td><td> 0.02</td><td> 1.00</td><td>-0.07</td><td> 0.37</td><td> 0.02</td></tr>\n",
              "\t<tr><th scope=row>상점개수</th><td> 0.47</td><td> 0.47</td><td> 0.22</td><td> 0.66</td><td>0.27</td><td> 0.08</td><td>-0.07</td><td> 1.00</td><td>-0.05</td><td> 0.43</td></tr>\n",
              "\t<tr><th scope=row>공원수</th><td>-0.06</td><td> 0.11</td><td>-0.10</td><td>-0.02</td><td>0.09</td><td>-0.17</td><td> 0.37</td><td>-0.05</td><td> 1.00</td><td>-0.27</td></tr>\n",
              "\t<tr><th scope=row>전동킥보드이용수</th><td> 0.46</td><td> 0.56</td><td> 0.47</td><td> 0.44</td><td>0.63</td><td> 0.46</td><td> 0.02</td><td> 0.43</td><td>-0.27</td><td> 1.00</td></tr>\n",
              "</tbody>\n",
              "</table>\n"
            ]
          },
          "metadata": {
            "tags": []
          }
        },
        {
          "output_type": "display_data",
          "data": {
            "image/png": "[encoded data removed]",
            "text/plain": [
              "Plot with title “”"
            ]
          },
          "metadata": {
            "tags": [],
            "image/png": {
              "width": 420,
              "height": 420
            }
          }
        }
      ]
    }
  ]
}