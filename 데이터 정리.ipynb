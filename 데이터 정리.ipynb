{
  "nbformat": 4,
  "nbformat_minor": 0,
  "metadata": {
    "colab": {
      "name": "Untitled9.ipynb",
      "provenance": [],
      "toc_visible": true,
      "authorship_tag": "ABX9TyNEBkZEIjpxZz0AIpDtj38y",
      "include_colab_link": true
    },
    "kernelspec": {
      "name": "ir",
      "display_name": "R"
    },
    "language_info": {
      "name": "R"
    }
  },
  "cells": [
    {
      "cell_type": "markdown",
      "metadata": {
        "id": "view-in-github",
        "colab_type": "text"
      },
      "source": [
        "<a href=\"https://colab.research.google.com/github/mjiii25/jeonju/blob/main/%EB%8D%B0%EC%9D%B4%ED%84%B0%20%EC%A0%95%EB%A6%AC.ipynb\" target=\"_parent\"><img src=\"https://colab.research.google.com/assets/colab-badge.svg\" alt=\"Open In Colab\"/></a>"
      ]
    },
    {
      "cell_type": "markdown",
      "metadata": {
        "id": "dVi2ZRXabTIG"
      },
      "source": [
        "# R 실행\n",
        "\n",
        "https://gist.github.com/jobdiogenes/235620928c84e604c6e56211ccf681f0"
      ]
    },
    {
      "cell_type": "code",
      "metadata": {
        "colab": {
          "base_uri": "https://localhost:8080/"
        },
        "id": "IoDbJVG7alub",
        "outputId": "afcfb712-bb23-4b45-8e13-effbfe6537dc"
      },
      "source": [
        "# Check if is running in Colab and redefine is_interactive()\n",
        "if (file.exists(\"/usr/local/lib/python3.7/dist-packages/google/colab/_ipython.py\")) {\n",
        "  install.packages(\"R.utils\")\n",
        "  library(\"R.utils\")\n",
        "  library(\"httr\")\n",
        "  my_check <- function() {return(TRUE)}\n",
        "  reassignInPackage(\"is_interactive\", pkgName = \"httr\", my_check) \n",
        "  options(rlang_interactive=TRUE)\n",
        "}"
      ],
      "execution_count": null,
      "outputs": [
        {
          "output_type": "stream",
          "text": [
            "Installing package into ‘/usr/local/lib/R/site-library’\n",
            "(as ‘lib’ is unspecified)\n",
            "\n",
            "also installing the dependencies ‘R.oo’, ‘R.methodsS3’\n",
            "\n",
            "\n",
            "Loading required package: R.oo\n",
            "\n",
            "Loading required package: R.methodsS3\n",
            "\n",
            "R.methodsS3 v1.8.1 (2020-08-26 16:20:06 UTC) successfully loaded. See ?R.methodsS3 for help.\n",
            "\n",
            "R.oo v1.24.0 (2020-08-26 16:11:58 UTC) successfully loaded. See ?R.oo for help.\n",
            "\n",
            "\n",
            "Attaching package: ‘R.oo’\n",
            "\n",
            "\n",
            "The following object is masked from ‘package:R.methodsS3’:\n",
            "\n",
            "    throw\n",
            "\n",
            "\n",
            "The following objects are masked from ‘package:methods’:\n",
            "\n",
            "    getClasses, getMethods\n",
            "\n",
            "\n",
            "The following objects are masked from ‘package:base’:\n",
            "\n",
            "    attach, detach, load, save\n",
            "\n",
            "\n",
            "R.utils v2.10.1 (2020-08-26 22:50:31 UTC) successfully loaded. See ?R.utils for help.\n",
            "\n",
            "\n",
            "Attaching package: ‘R.utils’\n",
            "\n",
            "\n",
            "The following object is masked from ‘package:utils’:\n",
            "\n",
            "    timestamp\n",
            "\n",
            "\n",
            "The following objects are masked from ‘package:base’:\n",
            "\n",
            "    cat, commandArgs, getOption, inherits, isOpen, nullfile, parse,\n",
            "    warnings\n",
            "\n",
            "\n"
          ],
          "name": "stderr"
        }
      ]
    },
    {
      "cell_type": "code",
      "metadata": {
        "id": "va2I2kGQasIw"
      },
      "source": [
        "# If ts not available we need to install . put other packages if you need.\n",
        "packages <- c(\"googledrive\", \"googlesheets4\")\n",
        "if (length(setdiff(packages, rownames(installed.packages()))) > 0) {\n",
        "  install.packages(setdiff(packages, rownames(installed.packages())))  \n",
        "}"
      ],
      "execution_count": null,
      "outputs": []
    },
    {
      "cell_type": "code",
      "metadata": {
        "colab": {
          "base_uri": "https://localhost:8080/"
        },
        "id": "1S362jWsawQ-",
        "outputId": "1c31f803-2363-4db1-9b68-97e73d6df6e6"
      },
      "source": [
        "library(\"googledrive\")\n",
        "library(\"googlesheets4\")"
      ],
      "execution_count": null,
      "outputs": [
        {
          "output_type": "stream",
          "text": [
            "\n",
            "Attaching package: ‘googlesheets4’\n",
            "\n",
            "\n",
            "The following objects are masked from ‘package:googledrive’:\n",
            "\n",
            "    request_generate, request_make\n",
            "\n",
            "\n"
          ],
          "name": "stderr"
        }
      ]
    },
    {
      "cell_type": "code",
      "metadata": {
        "colab": {
          "base_uri": "https://localhost:8080/"
        },
        "id": "IyDQWX6may1K",
        "outputId": "c975e60a-9ebd-4fb8-bbee-462db0295a02"
      },
      "source": [
        "# call authentication forcing interactive login and save in cache. \n",
        "drive_auth(use_oob = TRUE, cache = TRUE)"
      ],
      "execution_count": null,
      "outputs": [
        {
          "output_type": "stream",
          "text": [
            "Please point your browser to the following url: \n",
            "\n",
            "https://accounts.google.com/o/oauth2/auth?client_id=603366585132-dpeg5tt0et3go5of2374d83ifevk5086.apps.googleusercontent.com&scope=https%3A%2F%2Fwww.googleapis.com%2Fauth%2Fdrive%20https%3A%2F%2Fwww.googleapis.com%2Fauth%2Fuserinfo.email&redirect_uri=urn%3Aietf%3Awg%3Aoauth%3A2.0%3Aoob&response_type=code\n",
            "\n"
          ],
          "name": "stderr"
        },
        {
          "output_type": "stream",
          "text": [
            "Enter authorization code: 4/1AY0e-g4J1WemvT9vVcsyEpoqBw5vyhNgbTXLsbaiuJAv7lAzsOA859OLEhg\n"
          ],
          "name": "stdout"
        }
      ]
    },
    {
      "cell_type": "code",
      "metadata": {
        "id": "VHB7jRfca8T6"
      },
      "source": [
        "# Find Google Sheets anf get the id of the first sheet \n",
        "Sheets <- drive_find(type = \"spreadsheet\")\n",
        "first_id <- Sheets$id[1]"
      ],
      "execution_count": null,
      "outputs": []
    },
    {
      "cell_type": "code",
      "metadata": {
        "colab": {
          "base_uri": "https://localhost:8080/"
        },
        "id": "xWH8JGGObArO",
        "outputId": "e90ee4cb-6691-4680-98d9-ae12a59dc50d"
      },
      "source": [
        "# reuse token to Sheet Auth. \n",
        "sheets_auth(token = drive_token())"
      ],
      "execution_count": null,
      "outputs": [
        {
          "output_type": "stream",
          "text": [
            "Warning message:\n",
            "“`sheets_auth()` was deprecated in googlesheets4 0.2.0.\n",
            "Please use `gs4_auth()` instead.\n",
            "\u001b[90mThis warning is displayed once every 8 hours.\u001b[39m\n",
            "\u001b[90mCall `lifecycle::last_warnings()` to see where this warning was generated.\u001b[39m”\n"
          ],
          "name": "stderr"
        }
      ]
    },
    {
      "cell_type": "code",
      "metadata": {
        "colab": {
          "base_uri": "https://localhost:8080/",
          "height": 1000
        },
        "id": "VCko-jGkbDnG",
        "outputId": "d99df270-aef5-43ad-ee84-f9579ca72551"
      },
      "source": [
        "# show data\n",
        "sheets_read(first_id)"
      ],
      "execution_count": null,
      "outputs": [
        {
          "output_type": "stream",
          "text": [
            "Warning message:\n",
            "“`sheets_read()` was deprecated in googlesheets4 0.2.0.\n",
            "Please use `range_read()` instead.\n",
            "\u001b[90mThis warning is displayed once every 8 hours.\u001b[39m\n",
            "\u001b[90mCall `lifecycle::last_warnings()` to see where this warning was generated.\u001b[39m”\n",
            "Reading from \"gu_usage\"\n",
            "\n",
            "Range \"gu_usage\"\n",
            "\n"
          ],
          "name": "stderr"
        },
        {
          "output_type": "display_data",
          "data": {
            "text/plain": [
              "    province gu       gu_eng       date       count \n",
              "1   서울     종로구   Jongno       2020-07-01  85935\n",
              "2   서울     중구     Jung         2020-07-01  52417\n",
              "3   서울     용산구   Yongsan      2020-07-01  58354\n",
              "4   서울     성동구   Seongdong    2020-07-01 106216\n",
              "5   서울     광진구   Kwangjin     2020-07-01 125735\n",
              "6   서울     동대문구 Dongdaemun   2020-07-01  93487\n",
              "7   서울     중랑구   Jungnang     2020-07-01  76841\n",
              "8   서울     성북구   Seongbuk     2020-07-01  81364\n",
              "9   서울     강북구   Gangbuk      2020-07-01  54503\n",
              "10  서울     도봉구   Dobong       2020-07-01  58420\n",
              "11  서울     노원구   Nowon        2020-07-01 157281\n",
              "12  서울     은평구   Eunpyeong    2020-07-01  81923\n",
              "13  서울     서대문구 Seodaemun    2020-07-01  65144\n",
              "14  서울     마포구   Mapo         2020-07-01 155009\n",
              "15  서울     양천구   Yangcheon    2020-07-01 119956\n",
              "16  서울     강서구   Gangseo      2020-07-01 224984\n",
              "17  서울     구로구   Guro         2020-07-01 106619\n",
              "18  서울     금천구   Geumcheon    2020-07-01  43940\n",
              "19  서울     영등포구 Yeongdeungpo 2020-07-01 209515\n",
              "20  서울     동작구   Dongjak      2020-07-01  67929\n",
              "21  서울     관악구   Gwanak       2020-07-01  92451\n",
              "22  서울     서초구   Seocho       2020-07-01 101631\n",
              "23  서울     강남구   Gangnam      2020-07-01  79194\n",
              "24  서울     송파구   Songpa       2020-07-01 185529\n",
              "25  서울     강동구   Gangdong     2020-07-01  97719\n",
              "26  서울     종로구   Jongno       2020-08-01  65729\n",
              "27  서울     중구     Jung         2020-08-01  40401\n",
              "28  서울     용산구   Yongsan      2020-08-01  36762\n",
              "29  서울     성동구   Seongdong    2020-08-01  65323\n",
              "30  서울     광진구   Kwangjin     2020-08-01  75051\n",
              "⋮   ⋮        ⋮        ⋮            ⋮          ⋮     \n",
              "146 서울     관악구   Gwanak       2020-12-01 41420 \n",
              "147 서울     서초구   Seocho       2020-12-01 43259 \n",
              "148 서울     강남구   Gangnam      2020-12-01 38004 \n",
              "149 서울     송파구   Songpa       2020-12-01 85064 \n",
              "150 서울     강동구   Gangdong     2020-12-01 42373 \n",
              "151 서울     종로구   Jongno       2021-01-01 35643 \n",
              "152 서울     중구     Jung         2021-01-01 20396 \n",
              "153 서울     용산구   Yongsan      2021-01-01 18203 \n",
              "154 서울     성동구   Seongdong    2021-01-01 35822 \n",
              "155 서울     광진구   Kwangjin     2021-01-01 38357 \n",
              "156 서울     동대문구 Dongdaemun   2021-01-01 33426 \n",
              "157 서울     중랑구   Jungnang     2021-01-01 22773 \n",
              "158 서울     성북구   Seongbuk     2021-01-01 26138 \n",
              "159 서울     강북구   Gangbuk      2021-01-01 16101 \n",
              "160 서울     도봉구   Dobong       2021-01-01 16620 \n",
              "161 서울     노원구   Nowon        2021-01-01 41994 \n",
              "162 서울     은평구   Eunpyeong    2021-01-01 25442 \n",
              "163 서울     서대문구 Seodaemun    2021-01-01 23065 \n",
              "164 서울     마포구   Mapo         2021-01-01 48660 \n",
              "165 서울     양천구   Yangcheon    2021-01-01 43330 \n",
              "166 서울     강서구   Gangseo      2021-01-01 75019 \n",
              "167 서울     구로구   Guro         2021-01-01 31633 \n",
              "168 서울     금천구   Geumcheon    2021-01-01 13494 \n",
              "169 서울     영등포구 Yeongdeungpo 2021-01-01 64359 \n",
              "170 서울     동작구   Dongjak      2021-01-01 18950 \n",
              "171 서울     관악구   Gwanak       2021-01-01 27457 \n",
              "172 서울     서초구   Seocho       2021-01-01 29483 \n",
              "173 서울     강남구   Gangnam      2021-01-01 24706 \n",
              "174 서울     송파구   Songpa       2021-01-01 54819 \n",
              "175 서울     강동구   Gangdong     2021-01-01 26158 "
            ],
            "text/latex": "A tibble: 175 × 5\n\\begin{tabular}{lllll}\n province & gu & gu\\_eng & date & count\\\\\n <chr> & <chr> & <chr> & <dttm> & <dbl>\\\\\n\\hline\n\t 서울 & 종로구   & Jongno       & 2020-07-01 &  85935\\\\\n\t 서울 & 중구     & Jung         & 2020-07-01 &  52417\\\\\n\t 서울 & 용산구   & Yongsan      & 2020-07-01 &  58354\\\\\n\t 서울 & 성동구   & Seongdong    & 2020-07-01 & 106216\\\\\n\t 서울 & 광진구   & Kwangjin     & 2020-07-01 & 125735\\\\\n\t 서울 & 동대문구 & Dongdaemun   & 2020-07-01 &  93487\\\\\n\t 서울 & 중랑구   & Jungnang     & 2020-07-01 &  76841\\\\\n\t 서울 & 성북구   & Seongbuk     & 2020-07-01 &  81364\\\\\n\t 서울 & 강북구   & Gangbuk      & 2020-07-01 &  54503\\\\\n\t 서울 & 도봉구   & Dobong       & 2020-07-01 &  58420\\\\\n\t 서울 & 노원구   & Nowon        & 2020-07-01 & 157281\\\\\n\t 서울 & 은평구   & Eunpyeong    & 2020-07-01 &  81923\\\\\n\t 서울 & 서대문구 & Seodaemun    & 2020-07-01 &  65144\\\\\n\t 서울 & 마포구   & Mapo         & 2020-07-01 & 155009\\\\\n\t 서울 & 양천구   & Yangcheon    & 2020-07-01 & 119956\\\\\n\t 서울 & 강서구   & Gangseo      & 2020-07-01 & 224984\\\\\n\t 서울 & 구로구   & Guro         & 2020-07-01 & 106619\\\\\n\t 서울 & 금천구   & Geumcheon    & 2020-07-01 &  43940\\\\\n\t 서울 & 영등포구 & Yeongdeungpo & 2020-07-01 & 209515\\\\\n\t 서울 & 동작구   & Dongjak      & 2020-07-01 &  67929\\\\\n\t 서울 & 관악구   & Gwanak       & 2020-07-01 &  92451\\\\\n\t 서울 & 서초구   & Seocho       & 2020-07-01 & 101631\\\\\n\t 서울 & 강남구   & Gangnam      & 2020-07-01 &  79194\\\\\n\t 서울 & 송파구   & Songpa       & 2020-07-01 & 185529\\\\\n\t 서울 & 강동구   & Gangdong     & 2020-07-01 &  97719\\\\\n\t 서울 & 종로구   & Jongno       & 2020-08-01 &  65729\\\\\n\t 서울 & 중구     & Jung         & 2020-08-01 &  40401\\\\\n\t 서울 & 용산구   & Yongsan      & 2020-08-01 &  36762\\\\\n\t 서울 & 성동구   & Seongdong    & 2020-08-01 &  65323\\\\\n\t 서울 & 광진구   & Kwangjin     & 2020-08-01 &  75051\\\\\n\t ⋮ & ⋮ & ⋮ & ⋮ & ⋮\\\\\n\t 서울 & 관악구   & Gwanak       & 2020-12-01 & 41420\\\\\n\t 서울 & 서초구   & Seocho       & 2020-12-01 & 43259\\\\\n\t 서울 & 강남구   & Gangnam      & 2020-12-01 & 38004\\\\\n\t 서울 & 송파구   & Songpa       & 2020-12-01 & 85064\\\\\n\t 서울 & 강동구   & Gangdong     & 2020-12-01 & 42373\\\\\n\t 서울 & 종로구   & Jongno       & 2021-01-01 & 35643\\\\\n\t 서울 & 중구     & Jung         & 2021-01-01 & 20396\\\\\n\t 서울 & 용산구   & Yongsan      & 2021-01-01 & 18203\\\\\n\t 서울 & 성동구   & Seongdong    & 2021-01-01 & 35822\\\\\n\t 서울 & 광진구   & Kwangjin     & 2021-01-01 & 38357\\\\\n\t 서울 & 동대문구 & Dongdaemun   & 2021-01-01 & 33426\\\\\n\t 서울 & 중랑구   & Jungnang     & 2021-01-01 & 22773\\\\\n\t 서울 & 성북구   & Seongbuk     & 2021-01-01 & 26138\\\\\n\t 서울 & 강북구   & Gangbuk      & 2021-01-01 & 16101\\\\\n\t 서울 & 도봉구   & Dobong       & 2021-01-01 & 16620\\\\\n\t 서울 & 노원구   & Nowon        & 2021-01-01 & 41994\\\\\n\t 서울 & 은평구   & Eunpyeong    & 2021-01-01 & 25442\\\\\n\t 서울 & 서대문구 & Seodaemun    & 2021-01-01 & 23065\\\\\n\t 서울 & 마포구   & Mapo         & 2021-01-01 & 48660\\\\\n\t 서울 & 양천구   & Yangcheon    & 2021-01-01 & 43330\\\\\n\t 서울 & 강서구   & Gangseo      & 2021-01-01 & 75019\\\\\n\t 서울 & 구로구   & Guro         & 2021-01-01 & 31633\\\\\n\t 서울 & 금천구   & Geumcheon    & 2021-01-01 & 13494\\\\\n\t 서울 & 영등포구 & Yeongdeungpo & 2021-01-01 & 64359\\\\\n\t 서울 & 동작구   & Dongjak      & 2021-01-01 & 18950\\\\\n\t 서울 & 관악구   & Gwanak       & 2021-01-01 & 27457\\\\\n\t 서울 & 서초구   & Seocho       & 2021-01-01 & 29483\\\\\n\t 서울 & 강남구   & Gangnam      & 2021-01-01 & 24706\\\\\n\t 서울 & 송파구   & Songpa       & 2021-01-01 & 54819\\\\\n\t 서울 & 강동구   & Gangdong     & 2021-01-01 & 26158\\\\\n\\end{tabular}\n",
            "text/markdown": "\nA tibble: 175 × 5\n\n| province &lt;chr&gt; | gu &lt;chr&gt; | gu_eng &lt;chr&gt; | date &lt;dttm&gt; | count &lt;dbl&gt; |\n|---|---|---|---|---|\n| 서울 | 종로구   | Jongno       | 2020-07-01 |  85935 |\n| 서울 | 중구     | Jung         | 2020-07-01 |  52417 |\n| 서울 | 용산구   | Yongsan      | 2020-07-01 |  58354 |\n| 서울 | 성동구   | Seongdong    | 2020-07-01 | 106216 |\n| 서울 | 광진구   | Kwangjin     | 2020-07-01 | 125735 |\n| 서울 | 동대문구 | Dongdaemun   | 2020-07-01 |  93487 |\n| 서울 | 중랑구   | Jungnang     | 2020-07-01 |  76841 |\n| 서울 | 성북구   | Seongbuk     | 2020-07-01 |  81364 |\n| 서울 | 강북구   | Gangbuk      | 2020-07-01 |  54503 |\n| 서울 | 도봉구   | Dobong       | 2020-07-01 |  58420 |\n| 서울 | 노원구   | Nowon        | 2020-07-01 | 157281 |\n| 서울 | 은평구   | Eunpyeong    | 2020-07-01 |  81923 |\n| 서울 | 서대문구 | Seodaemun    | 2020-07-01 |  65144 |\n| 서울 | 마포구   | Mapo         | 2020-07-01 | 155009 |\n| 서울 | 양천구   | Yangcheon    | 2020-07-01 | 119956 |\n| 서울 | 강서구   | Gangseo      | 2020-07-01 | 224984 |\n| 서울 | 구로구   | Guro         | 2020-07-01 | 106619 |\n| 서울 | 금천구   | Geumcheon    | 2020-07-01 |  43940 |\n| 서울 | 영등포구 | Yeongdeungpo | 2020-07-01 | 209515 |\n| 서울 | 동작구   | Dongjak      | 2020-07-01 |  67929 |\n| 서울 | 관악구   | Gwanak       | 2020-07-01 |  92451 |\n| 서울 | 서초구   | Seocho       | 2020-07-01 | 101631 |\n| 서울 | 강남구   | Gangnam      | 2020-07-01 |  79194 |\n| 서울 | 송파구   | Songpa       | 2020-07-01 | 185529 |\n| 서울 | 강동구   | Gangdong     | 2020-07-01 |  97719 |\n| 서울 | 종로구   | Jongno       | 2020-08-01 |  65729 |\n| 서울 | 중구     | Jung         | 2020-08-01 |  40401 |\n| 서울 | 용산구   | Yongsan      | 2020-08-01 |  36762 |\n| 서울 | 성동구   | Seongdong    | 2020-08-01 |  65323 |\n| 서울 | 광진구   | Kwangjin     | 2020-08-01 |  75051 |\n| ⋮ | ⋮ | ⋮ | ⋮ | ⋮ |\n| 서울 | 관악구   | Gwanak       | 2020-12-01 | 41420 |\n| 서울 | 서초구   | Seocho       | 2020-12-01 | 43259 |\n| 서울 | 강남구   | Gangnam      | 2020-12-01 | 38004 |\n| 서울 | 송파구   | Songpa       | 2020-12-01 | 85064 |\n| 서울 | 강동구   | Gangdong     | 2020-12-01 | 42373 |\n| 서울 | 종로구   | Jongno       | 2021-01-01 | 35643 |\n| 서울 | 중구     | Jung         | 2021-01-01 | 20396 |\n| 서울 | 용산구   | Yongsan      | 2021-01-01 | 18203 |\n| 서울 | 성동구   | Seongdong    | 2021-01-01 | 35822 |\n| 서울 | 광진구   | Kwangjin     | 2021-01-01 | 38357 |\n| 서울 | 동대문구 | Dongdaemun   | 2021-01-01 | 33426 |\n| 서울 | 중랑구   | Jungnang     | 2021-01-01 | 22773 |\n| 서울 | 성북구   | Seongbuk     | 2021-01-01 | 26138 |\n| 서울 | 강북구   | Gangbuk      | 2021-01-01 | 16101 |\n| 서울 | 도봉구   | Dobong       | 2021-01-01 | 16620 |\n| 서울 | 노원구   | Nowon        | 2021-01-01 | 41994 |\n| 서울 | 은평구   | Eunpyeong    | 2021-01-01 | 25442 |\n| 서울 | 서대문구 | Seodaemun    | 2021-01-01 | 23065 |\n| 서울 | 마포구   | Mapo         | 2021-01-01 | 48660 |\n| 서울 | 양천구   | Yangcheon    | 2021-01-01 | 43330 |\n| 서울 | 강서구   | Gangseo      | 2021-01-01 | 75019 |\n| 서울 | 구로구   | Guro         | 2021-01-01 | 31633 |\n| 서울 | 금천구   | Geumcheon    | 2021-01-01 | 13494 |\n| 서울 | 영등포구 | Yeongdeungpo | 2021-01-01 | 64359 |\n| 서울 | 동작구   | Dongjak      | 2021-01-01 | 18950 |\n| 서울 | 관악구   | Gwanak       | 2021-01-01 | 27457 |\n| 서울 | 서초구   | Seocho       | 2021-01-01 | 29483 |\n| 서울 | 강남구   | Gangnam      | 2021-01-01 | 24706 |\n| 서울 | 송파구   | Songpa       | 2021-01-01 | 54819 |\n| 서울 | 강동구   | Gangdong     | 2021-01-01 | 26158 |\n\n",
            "text/html": [
              "<table class=\"dataframe\">\n",
              "<caption>A tibble: 175 × 5</caption>\n",
              "<thead>\n",
              "\t<tr><th scope=col>province</th><th scope=col>gu</th><th scope=col>gu_eng</th><th scope=col>date</th><th scope=col>count</th></tr>\n",
              "\t<tr><th scope=col>&lt;chr&gt;</th><th scope=col>&lt;chr&gt;</th><th scope=col>&lt;chr&gt;</th><th scope=col>&lt;dttm&gt;</th><th scope=col>&lt;dbl&gt;</th></tr>\n",
              "</thead>\n",
              "<tbody>\n",
              "\t<tr><td>서울</td><td>종로구  </td><td>Jongno      </td><td>2020-07-01</td><td> 85935</td></tr>\n",
              "\t<tr><td>서울</td><td>중구    </td><td>Jung        </td><td>2020-07-01</td><td> 52417</td></tr>\n",
              "\t<tr><td>서울</td><td>용산구  </td><td>Yongsan     </td><td>2020-07-01</td><td> 58354</td></tr>\n",
              "\t<tr><td>서울</td><td>성동구  </td><td>Seongdong   </td><td>2020-07-01</td><td>106216</td></tr>\n",
              "\t<tr><td>서울</td><td>광진구  </td><td>Kwangjin    </td><td>2020-07-01</td><td>125735</td></tr>\n",
              "\t<tr><td>서울</td><td>동대문구</td><td>Dongdaemun  </td><td>2020-07-01</td><td> 93487</td></tr>\n",
              "\t<tr><td>서울</td><td>중랑구  </td><td>Jungnang    </td><td>2020-07-01</td><td> 76841</td></tr>\n",
              "\t<tr><td>서울</td><td>성북구  </td><td>Seongbuk    </td><td>2020-07-01</td><td> 81364</td></tr>\n",
              "\t<tr><td>서울</td><td>강북구  </td><td>Gangbuk     </td><td>2020-07-01</td><td> 54503</td></tr>\n",
              "\t<tr><td>서울</td><td>도봉구  </td><td>Dobong      </td><td>2020-07-01</td><td> 58420</td></tr>\n",
              "\t<tr><td>서울</td><td>노원구  </td><td>Nowon       </td><td>2020-07-01</td><td>157281</td></tr>\n",
              "\t<tr><td>서울</td><td>은평구  </td><td>Eunpyeong   </td><td>2020-07-01</td><td> 81923</td></tr>\n",
              "\t<tr><td>서울</td><td>서대문구</td><td>Seodaemun   </td><td>2020-07-01</td><td> 65144</td></tr>\n",
              "\t<tr><td>서울</td><td>마포구  </td><td>Mapo        </td><td>2020-07-01</td><td>155009</td></tr>\n",
              "\t<tr><td>서울</td><td>양천구  </td><td>Yangcheon   </td><td>2020-07-01</td><td>119956</td></tr>\n",
              "\t<tr><td>서울</td><td>강서구  </td><td>Gangseo     </td><td>2020-07-01</td><td>224984</td></tr>\n",
              "\t<tr><td>서울</td><td>구로구  </td><td>Guro        </td><td>2020-07-01</td><td>106619</td></tr>\n",
              "\t<tr><td>서울</td><td>금천구  </td><td>Geumcheon   </td><td>2020-07-01</td><td> 43940</td></tr>\n",
              "\t<tr><td>서울</td><td>영등포구</td><td>Yeongdeungpo</td><td>2020-07-01</td><td>209515</td></tr>\n",
              "\t<tr><td>서울</td><td>동작구  </td><td>Dongjak     </td><td>2020-07-01</td><td> 67929</td></tr>\n",
              "\t<tr><td>서울</td><td>관악구  </td><td>Gwanak      </td><td>2020-07-01</td><td> 92451</td></tr>\n",
              "\t<tr><td>서울</td><td>서초구  </td><td>Seocho      </td><td>2020-07-01</td><td>101631</td></tr>\n",
              "\t<tr><td>서울</td><td>강남구  </td><td>Gangnam     </td><td>2020-07-01</td><td> 79194</td></tr>\n",
              "\t<tr><td>서울</td><td>송파구  </td><td>Songpa      </td><td>2020-07-01</td><td>185529</td></tr>\n",
              "\t<tr><td>서울</td><td>강동구  </td><td>Gangdong    </td><td>2020-07-01</td><td> 97719</td></tr>\n",
              "\t<tr><td>서울</td><td>종로구  </td><td>Jongno      </td><td>2020-08-01</td><td> 65729</td></tr>\n",
              "\t<tr><td>서울</td><td>중구    </td><td>Jung        </td><td>2020-08-01</td><td> 40401</td></tr>\n",
              "\t<tr><td>서울</td><td>용산구  </td><td>Yongsan     </td><td>2020-08-01</td><td> 36762</td></tr>\n",
              "\t<tr><td>서울</td><td>성동구  </td><td>Seongdong   </td><td>2020-08-01</td><td> 65323</td></tr>\n",
              "\t<tr><td>서울</td><td>광진구  </td><td>Kwangjin    </td><td>2020-08-01</td><td> 75051</td></tr>\n",
              "\t<tr><td>⋮</td><td>⋮</td><td>⋮</td><td>⋮</td><td>⋮</td></tr>\n",
              "\t<tr><td>서울</td><td>관악구  </td><td>Gwanak      </td><td>2020-12-01</td><td>41420</td></tr>\n",
              "\t<tr><td>서울</td><td>서초구  </td><td>Seocho      </td><td>2020-12-01</td><td>43259</td></tr>\n",
              "\t<tr><td>서울</td><td>강남구  </td><td>Gangnam     </td><td>2020-12-01</td><td>38004</td></tr>\n",
              "\t<tr><td>서울</td><td>송파구  </td><td>Songpa      </td><td>2020-12-01</td><td>85064</td></tr>\n",
              "\t<tr><td>서울</td><td>강동구  </td><td>Gangdong    </td><td>2020-12-01</td><td>42373</td></tr>\n",
              "\t<tr><td>서울</td><td>종로구  </td><td>Jongno      </td><td>2021-01-01</td><td>35643</td></tr>\n",
              "\t<tr><td>서울</td><td>중구    </td><td>Jung        </td><td>2021-01-01</td><td>20396</td></tr>\n",
              "\t<tr><td>서울</td><td>용산구  </td><td>Yongsan     </td><td>2021-01-01</td><td>18203</td></tr>\n",
              "\t<tr><td>서울</td><td>성동구  </td><td>Seongdong   </td><td>2021-01-01</td><td>35822</td></tr>\n",
              "\t<tr><td>서울</td><td>광진구  </td><td>Kwangjin    </td><td>2021-01-01</td><td>38357</td></tr>\n",
              "\t<tr><td>서울</td><td>동대문구</td><td>Dongdaemun  </td><td>2021-01-01</td><td>33426</td></tr>\n",
              "\t<tr><td>서울</td><td>중랑구  </td><td>Jungnang    </td><td>2021-01-01</td><td>22773</td></tr>\n",
              "\t<tr><td>서울</td><td>성북구  </td><td>Seongbuk    </td><td>2021-01-01</td><td>26138</td></tr>\n",
              "\t<tr><td>서울</td><td>강북구  </td><td>Gangbuk     </td><td>2021-01-01</td><td>16101</td></tr>\n",
              "\t<tr><td>서울</td><td>도봉구  </td><td>Dobong      </td><td>2021-01-01</td><td>16620</td></tr>\n",
              "\t<tr><td>서울</td><td>노원구  </td><td>Nowon       </td><td>2021-01-01</td><td>41994</td></tr>\n",
              "\t<tr><td>서울</td><td>은평구  </td><td>Eunpyeong   </td><td>2021-01-01</td><td>25442</td></tr>\n",
              "\t<tr><td>서울</td><td>서대문구</td><td>Seodaemun   </td><td>2021-01-01</td><td>23065</td></tr>\n",
              "\t<tr><td>서울</td><td>마포구  </td><td>Mapo        </td><td>2021-01-01</td><td>48660</td></tr>\n",
              "\t<tr><td>서울</td><td>양천구  </td><td>Yangcheon   </td><td>2021-01-01</td><td>43330</td></tr>\n",
              "\t<tr><td>서울</td><td>강서구  </td><td>Gangseo     </td><td>2021-01-01</td><td>75019</td></tr>\n",
              "\t<tr><td>서울</td><td>구로구  </td><td>Guro        </td><td>2021-01-01</td><td>31633</td></tr>\n",
              "\t<tr><td>서울</td><td>금천구  </td><td>Geumcheon   </td><td>2021-01-01</td><td>13494</td></tr>\n",
              "\t<tr><td>서울</td><td>영등포구</td><td>Yeongdeungpo</td><td>2021-01-01</td><td>64359</td></tr>\n",
              "\t<tr><td>서울</td><td>동작구  </td><td>Dongjak     </td><td>2021-01-01</td><td>18950</td></tr>\n",
              "\t<tr><td>서울</td><td>관악구  </td><td>Gwanak      </td><td>2021-01-01</td><td>27457</td></tr>\n",
              "\t<tr><td>서울</td><td>서초구  </td><td>Seocho      </td><td>2021-01-01</td><td>29483</td></tr>\n",
              "\t<tr><td>서울</td><td>강남구  </td><td>Gangnam     </td><td>2021-01-01</td><td>24706</td></tr>\n",
              "\t<tr><td>서울</td><td>송파구  </td><td>Songpa      </td><td>2021-01-01</td><td>54819</td></tr>\n",
              "\t<tr><td>서울</td><td>강동구  </td><td>Gangdong    </td><td>2021-01-01</td><td>26158</td></tr>\n",
              "</tbody>\n",
              "</table>\n"
            ]
          },
          "metadata": {
            "tags": []
          }
        }
      ]
    },
    {
      "cell_type": "markdown",
      "metadata": {
        "id": "0aNUPF33bKpu"
      },
      "source": [
        "# **데이터 정리** "
      ]
    },
    {
      "cell_type": "markdown",
      "metadata": {
        "id": "NH3gnYgofR62"
      },
      "source": [
        "## 데이터 불러오기"
      ]
    },
    {
      "cell_type": "code",
      "metadata": {
        "id": "DAh-FMwfdkkX"
      },
      "source": [
        "pop <- read.csv('(중복)2019_전주시 동별 인구.csv', header=TRUE, stringsAsFactors=FALSE, fileEncoding = \"euc-kr\")\n",
        "rest <- read.csv('(중복)동별 음식점 및 주점업 사업체수(2018).csv', header=TRUE, stringsAsFactors=FALSE, fileEncoding = \"euc-kr\")\n",
        "bicycle <- read.csv('(행정동)12_04_03_E_자전거보관소정보.csv', header=TRUE, stringsAsFactors=FALSE, fileEncoding = \"euc-kr\")\n",
        "bigstore <- read.csv('(행정동)대규모점포현황_2020.csv', header=TRUE, stringsAsFactors=FALSE, fileEncoding = \"euc-kr\")\n",
        "cvstore <- read.csv('(행정동)동별 체인화 편의점 + 사업체수 (2018년).csv', header=TRUE, stringsAsFactors=FALSE, fileEncoding = \"euc-kr\")\n",
        "univ <- read.csv('(행정동)전주시 대학교.csv', header=TRUE, stringsAsFactors=FALSE, fileEncoding = \"euc-kr\")\n",
        "region <- read.csv('(행정동)전주시 행정동 면적.csv', header=TRUE, stringsAsFactors=FALSE, fileEncoding = \"euc-kr\")\n",
        "\n",
        "library(dplyr)\n",
        "library(plyr)"
      ],
      "execution_count": 53,
      "outputs": []
    },
    {
      "cell_type": "code",
      "metadata": {
        "colab": {
          "base_uri": "https://localhost:8080/",
          "height": 52
        },
        "id": "g1U1SxfLdt7o",
        "outputId": "b8d03d01-55bb-4174-90a3-98e3dbf6751a"
      },
      "source": [
        "jjdong <- read.csv('전주 행정동_가나다순.csv', header=TRUE, stringsAsFactors=FALSE, fileEncoding = \"euc-kr\")\n",
        "jjdong <- jjdong$행정동\n",
        "str(jjdong)\n",
        "head(jjdong)"
      ],
      "execution_count": 32,
      "outputs": [
        {
          "output_type": "stream",
          "text": [
            " chr [1:35] \"금암1동\" \"금암2동\" \"노송동\" \"덕진동\" \"동서학동\" \"삼천1동\" ...\n"
          ],
          "name": "stdout"
        },
        {
          "output_type": "display_data",
          "data": {
            "text/plain": [
              "[1] \"금암1동\"  \"금암2동\"  \"노송동\"   \"덕진동\"   \"동서학동\" \"삼천1동\" "
            ],
            "text/latex": "\\begin{enumerate*}\n\\item '금암1동'\n\\item '금암2동'\n\\item '노송동'\n\\item '덕진동'\n\\item '동서학동'\n\\item '삼천1동'\n\\end{enumerate*}\n",
            "text/markdown": "1. '금암1동'\n2. '금암2동'\n3. '노송동'\n4. '덕진동'\n5. '동서학동'\n6. '삼천1동'\n\n\n",
            "text/html": [
              "<style>\n",
              ".list-inline {list-style: none; margin:0; padding: 0}\n",
              ".list-inline>li {display: inline-block}\n",
              ".list-inline>li:not(:last-child)::after {content: \"\\00b7\"; padding: 0 .5ex}\n",
              "</style>\n",
              "<ol class=list-inline><li>'금암1동'</li><li>'금암2동'</li><li>'노송동'</li><li>'덕진동'</li><li>'동서학동'</li><li>'삼천1동'</li></ol>\n"
            ]
          },
          "metadata": {
            "tags": []
          }
        }
      ]
    },
    {
      "cell_type": "markdown",
      "metadata": {
        "id": "_RSEXEIigFUE"
      },
      "source": [
        "## 인구수"
      ]
    },
    {
      "cell_type": "code",
      "metadata": {
        "colab": {
          "base_uri": "https://localhost:8080/",
          "height": 355
        },
        "id": "5AeKaQYcd3AQ",
        "outputId": "5c8289e0-80d3-48a0-e732-f2fedd369bbd"
      },
      "source": [
        "str(pop) ####\n",
        "head(pop)"
      ],
      "execution_count": 33,
      "outputs": [
        {
          "output_type": "stream",
          "text": [
            "'data.frame':\t35 obs. of  3 variables:\n",
            " $ 구  : chr  \"완산구\" \"완산구\" \"완산구\" \"완산구\" ...\n",
            " $ 동  : chr  \"중앙동\" \"풍남동\" \"노송동\" \"완산동\" ...\n",
            " $ 인구: int  8073 4521 13189 5148 6784 9223 15288 20030 13204 46295 ...\n"
          ],
          "name": "stdout"
        },
        {
          "output_type": "display_data",
          "data": {
            "text/plain": [
              "  구     동       인구 \n",
              "1 완산구 중앙동    8073\n",
              "2 완산구 풍남동    4521\n",
              "3 완산구 노송동   13189\n",
              "4 완산구 완산동    5148\n",
              "5 완산구 동서학동  6784\n",
              "6 완산구 서서학동  9223"
            ],
            "text/latex": "A data.frame: 6 × 3\n\\begin{tabular}{r|lll}\n  & 구 & 동 & 인구\\\\\n  & <chr> & <chr> & <int>\\\\\n\\hline\n\t1 & 완산구 & 중앙동   &  8073\\\\\n\t2 & 완산구 & 풍남동   &  4521\\\\\n\t3 & 완산구 & 노송동   & 13189\\\\\n\t4 & 완산구 & 완산동   &  5148\\\\\n\t5 & 완산구 & 동서학동 &  6784\\\\\n\t6 & 완산구 & 서서학동 &  9223\\\\\n\\end{tabular}\n",
            "text/markdown": "\nA data.frame: 6 × 3\n\n| <!--/--> | 구 &lt;chr&gt; | 동 &lt;chr&gt; | 인구 &lt;int&gt; |\n|---|---|---|---|\n| 1 | 완산구 | 중앙동   |  8073 |\n| 2 | 완산구 | 풍남동   |  4521 |\n| 3 | 완산구 | 노송동   | 13189 |\n| 4 | 완산구 | 완산동   |  5148 |\n| 5 | 완산구 | 동서학동 |  6784 |\n| 6 | 완산구 | 서서학동 |  9223 |\n\n",
            "text/html": [
              "<table class=\"dataframe\">\n",
              "<caption>A data.frame: 6 × 3</caption>\n",
              "<thead>\n",
              "\t<tr><th></th><th scope=col>구</th><th scope=col>동</th><th scope=col>인구</th></tr>\n",
              "\t<tr><th></th><th scope=col>&lt;chr&gt;</th><th scope=col>&lt;chr&gt;</th><th scope=col>&lt;int&gt;</th></tr>\n",
              "</thead>\n",
              "<tbody>\n",
              "\t<tr><th scope=row>1</th><td>완산구</td><td>중앙동  </td><td> 8073</td></tr>\n",
              "\t<tr><th scope=row>2</th><td>완산구</td><td>풍남동  </td><td> 4521</td></tr>\n",
              "\t<tr><th scope=row>3</th><td>완산구</td><td>노송동  </td><td>13189</td></tr>\n",
              "\t<tr><th scope=row>4</th><td>완산구</td><td>완산동  </td><td> 5148</td></tr>\n",
              "\t<tr><th scope=row>5</th><td>완산구</td><td>동서학동</td><td> 6784</td></tr>\n",
              "\t<tr><th scope=row>6</th><td>완산구</td><td>서서학동</td><td> 9223</td></tr>\n",
              "</tbody>\n",
              "</table>\n"
            ]
          },
          "metadata": {
            "tags": []
          }
        }
      ]
    },
    {
      "cell_type": "code",
      "metadata": {
        "colab": {
          "base_uri": "https://localhost:8080/",
          "height": 391
        },
        "id": "-P5viKcfd6zu",
        "outputId": "090a7af3-77eb-4e1e-a390-6fc6aa36a10f"
      },
      "source": [
        "pop <- pop[,c(2,3)]\n",
        "names(pop)[1] <- \"행정동\"\n",
        "pop <- arrange(pop, pop$행정동)\n",
        "head(pop)\n",
        "\n",
        "table(pop$행정동 %in% jjdong) # 인구수 데이터에 있는 행정동 중 누락된 행정동 찾기 (FALSE가 누락된 행정동!)\n",
        "table(jjdong %in% pop$행정동)"
      ],
      "execution_count": 34,
      "outputs": [
        {
          "output_type": "display_data",
          "data": {
            "text/plain": [
              "  행정동   인구 \n",
              "1 금암1동   8824\n",
              "2 금암2동  10714\n",
              "3 노송동   13189\n",
              "4 덕진동   21215\n",
              "5 동산동   30208\n",
              "6 동서학동  6784"
            ],
            "text/latex": "A data.frame: 6 × 2\n\\begin{tabular}{r|ll}\n  & 행정동 & 인구\\\\\n  & <chr> & <int>\\\\\n\\hline\n\t1 & 금암1동  &  8824\\\\\n\t2 & 금암2동  & 10714\\\\\n\t3 & 노송동   & 13189\\\\\n\t4 & 덕진동   & 21215\\\\\n\t5 & 동산동   & 30208\\\\\n\t6 & 동서학동 &  6784\\\\\n\\end{tabular}\n",
            "text/markdown": "\nA data.frame: 6 × 2\n\n| <!--/--> | 행정동 &lt;chr&gt; | 인구 &lt;int&gt; |\n|---|---|---|\n| 1 | 금암1동  |  8824 |\n| 2 | 금암2동  | 10714 |\n| 3 | 노송동   | 13189 |\n| 4 | 덕진동   | 21215 |\n| 5 | 동산동   | 30208 |\n| 6 | 동서학동 |  6784 |\n\n",
            "text/html": [
              "<table class=\"dataframe\">\n",
              "<caption>A data.frame: 6 × 2</caption>\n",
              "<thead>\n",
              "\t<tr><th></th><th scope=col>행정동</th><th scope=col>인구</th></tr>\n",
              "\t<tr><th></th><th scope=col>&lt;chr&gt;</th><th scope=col>&lt;int&gt;</th></tr>\n",
              "</thead>\n",
              "<tbody>\n",
              "\t<tr><th scope=row>1</th><td>금암1동 </td><td> 8824</td></tr>\n",
              "\t<tr><th scope=row>2</th><td>금암2동 </td><td>10714</td></tr>\n",
              "\t<tr><th scope=row>3</th><td>노송동  </td><td>13189</td></tr>\n",
              "\t<tr><th scope=row>4</th><td>덕진동  </td><td>21215</td></tr>\n",
              "\t<tr><th scope=row>5</th><td>동산동  </td><td>30208</td></tr>\n",
              "\t<tr><th scope=row>6</th><td>동서학동</td><td> 6784</td></tr>\n",
              "</tbody>\n",
              "</table>\n"
            ]
          },
          "metadata": {
            "tags": []
          }
        },
        {
          "output_type": "display_data",
          "data": {
            "text/plain": [
              "\n",
              "FALSE  TRUE \n",
              "    1    34 "
            ]
          },
          "metadata": {
            "tags": []
          }
        },
        {
          "output_type": "display_data",
          "data": {
            "text/plain": [
              "\n",
              "FALSE  TRUE \n",
              "    1    34 "
            ]
          },
          "metadata": {
            "tags": []
          }
        }
      ]
    },
    {
      "cell_type": "code",
      "metadata": {
        "colab": {
          "base_uri": "https://localhost:8080/",
          "height": 51
        },
        "id": "s2C-_kP7gZUL",
        "outputId": "faed2344-d886-4355-8cf1-796da2dcbaa0"
      },
      "source": [
        "pop$행정동[pop$행정동 %in% jjdong == FALSE] #jjdong에는 없는 pop의 행정동\n",
        "jjdong[jjdong %in% pop$행정동 == FALSE] #pop에는 없는 jjdong의 행정동 "
      ],
      "execution_count": 35,
      "outputs": [
        {
          "output_type": "display_data",
          "data": {
            "text/plain": [
              "[1] \"동산동\""
            ],
            "text/latex": "'동산동'",
            "text/markdown": "'동산동'",
            "text/html": [
              "'동산동'"
            ]
          },
          "metadata": {
            "tags": []
          }
        },
        {
          "output_type": "display_data",
          "data": {
            "text/plain": [
              "[1] \"여의동\""
            ],
            "text/latex": "'여의동'",
            "text/markdown": "'여의동'",
            "text/html": [
              "'여의동'"
            ]
          },
          "metadata": {
            "tags": []
          }
        }
      ]
    },
    {
      "cell_type": "code",
      "metadata": {
        "id": "uI4q4xP_ljfw"
      },
      "source": [
        ""
      ],
      "execution_count": null,
      "outputs": []
    },
    {
      "cell_type": "markdown",
      "metadata": {
        "id": "nHGO4Fq5hLbs"
      },
      "source": [
        "동산동이 여의동으로 바뀌어서 누락된 것임!"
      ]
    },
    {
      "cell_type": "code",
      "metadata": {
        "id": "BkmZiHUpga1X"
      },
      "source": [
        "pop$행정동[which(pop$행정동 == \"동산동\")] <- \"여의동\" ## 19년 8월에 동산동을 여의동으로 변경, https://www.hani.co.kr/arti/area/honam/905848.html?_fr=mt2"
      ],
      "execution_count": 36,
      "outputs": []
    },
    {
      "cell_type": "markdown",
      "metadata": {
        "id": "oYy3mYGZlg5m"
      },
      "source": [
        "이제는 모든 데이터가 맞게 정리되었음 ↓\n"
      ]
    },
    {
      "cell_type": "code",
      "metadata": {
        "colab": {
          "base_uri": "https://localhost:8080/",
          "height": 125
        },
        "id": "PO3_X0K5hU7m",
        "outputId": "4e79ea7a-97b0-4a26-b1de-e6ab3a552da8"
      },
      "source": [
        "table(pop$행정동 %in% jjdong) # 인구수 데이터에 있는 행정동 중 누락된 행정동 찾기 (FALSE가 누락된 행정동!)\n",
        "table(jjdong %in% pop$행정동)"
      ],
      "execution_count": 37,
      "outputs": [
        {
          "output_type": "display_data",
          "data": {
            "text/plain": [
              "\n",
              "TRUE \n",
              "  35 "
            ]
          },
          "metadata": {
            "tags": []
          }
        },
        {
          "output_type": "display_data",
          "data": {
            "text/plain": [
              "\n",
              "TRUE \n",
              "  35 "
            ]
          },
          "metadata": {
            "tags": []
          }
        }
      ]
    },
    {
      "cell_type": "markdown",
      "metadata": {
        "id": "ttpkqNIxh71m"
      },
      "source": [
        "이런식으로 데이터를 정리했는데.........\n",
        "\n",
        "인구수 / 음식점수 / 편의점수 / 면적 은 정리했는데\n",
        "\n",
        "\n",
        "자전거 보관대 수 / 대규모점포수 / 대학교수 는 동별로 그룹화하는데서 왠지 모를 오류가 뜨는 중 ㅠㅅㅠ"
      ]
    },
    {
      "cell_type": "markdown",
      "metadata": {
        "id": "B1VUW18fqVni"
      },
      "source": [
        "## 자전거 보관대 수"
      ]
    },
    {
      "cell_type": "code",
      "metadata": {
        "id": "Ummu05sKp6ZL",
        "outputId": "df66d4ae-d42a-4471-dc3e-56cc0a3f4ce0",
        "colab": {
          "base_uri": "https://localhost:8080/",
          "height": 743
        }
      },
      "source": [
        "str(bicycle) ##\n",
        "head(bicycle)"
      ],
      "execution_count": 54,
      "outputs": [
        {
          "output_type": "stream",
          "text": [
            "'data.frame':\t179 obs. of  17 variables:\n",
            " $ 번호              : int  1 2 3 4 5 6 7 8 9 10 ...\n",
            " $ 자전거보관소명    : chr  \"자전거 보관대\" \"자전거 보관대\" \"자전거 보관대\" \"자전거 보관대\" ...\n",
            " $ 소재지도로명주소  : chr  \"전라북도 전주시 덕진구 여암2길 9\" \"전라북도 전주시 덕진구 송천중앙로 116\" \"전라북도 전주시 덕진구 송천중앙로162\" \"전라북도 전주시 덕진구 송천중앙로 153\" ...\n",
            " $ 소재지지번주소    : chr  \"전라북도 전주시 덕진구 반월동 248-32\" \"전라북도 전주시 덕진구 송천동1가 395-28\" \"전라북도 전주시 덕진구 송천동1가 113-12\" \"전라북도 전주시 덕진구 송천동1가 481-4\" ...\n",
            " $ 행정동            : chr  \"조촌동\" \"송천1동\" \"송천2동\" \"송천2동\" ...\n",
            " $ 위도              : num  35.9 35.9 35.9 35.9 35.9 ...\n",
            " $ 경도              : num  127 127 127 127 127 ...\n",
            " $ 보관대수          : int  6 7 7 10 10 6 7 7 10 30 ...\n",
            " $ 설치연도          : int  NA NA NA NA NA NA NA NA NA NA ...\n",
            " $ 설치형태          : chr  \"거치형\" \"휀스형\" \"거치형\" \"휀스형\" ...\n",
            " $ 차양막설치여부    : chr  \"N\" \"Y\" \"N\" \"Y\" ...\n",
            " $ 공기주입기비치여부: chr  \"N\" \"N\" \"N\" \"N\" ...\n",
            " $ 공기주입기유형    : logi  NA NA NA NA NA NA ...\n",
            " $ 수리대설치여부    : chr  \"N\" \"N\" \"N\" \"N\" ...\n",
            " $ 관리기관전화번호  : chr  \"063-281-2602\" \"063-281-2603\" \"063-281-2604\" \"063-281-2605\" ...\n",
            " $ 관리기관명        : chr  \"전라북도 전주시청 자전거정책과\" \"전라북도 전주시청 자전거정책과\" \"전라북도 전주시청 자전거정책과\" \"전라북도 전주시청 자전거정책과\" ...\n",
            " $ 데이터기준일자    : chr  \"2020-08-31\" \"2020-08-31\" \"2020-08-31\" \"2020-08-31\" ...\n"
          ],
          "name": "stdout"
        },
        {
          "output_type": "display_data",
          "data": {
            "text/plain": [
              "  번호 자전거보관소명 소재지도로명주소                     \n",
              "1 1    자전거 보관대  전라북도 전주시 덕진구 여암2길 9     \n",
              "2 2    자전거 보관대  전라북도 전주시 덕진구 송천중앙로 116\n",
              "3 3    자전거 보관대  전라북도 전주시 덕진구 송천중앙로162 \n",
              "4 4    자전거 보관대  전라북도 전주시 덕진구 송천중앙로 153\n",
              "5 5    자전거 보관대  전라북도 전주시 덕진구 천마산로 40   \n",
              "6 6    자전거 보관대  전라북도 전주시 덕진구 견훤왕궁로 277\n",
              "  소재지지번주소                           행정동  위도     경도     보관대수\n",
              "1 전라북도 전주시 덕진구 반월동 248-32     조촌동  35.87201 127.0757  6      \n",
              "2 전라북도 전주시 덕진구 송천동1가 395-28  송천1동 35.85710 127.1210  7      \n",
              "3 전라북도 전주시 덕진구 송천동1가 113-12  송천2동 35.86099 127.1217  7      \n",
              "4 전라북도 전주시 덕진구 송천동1가 481-4   송천2동 35.86063 127.1209 10      \n",
              "5 전라북도 전주시 덕진구 송천동1가 107-172 송천2동 35.86335 127.1257 10      \n",
              "6 전라북도 전주시 덕진구 금암동 1600-6     금암2동 35.84259 127.1441  6      \n",
              "  설치연도 설치형태 차양막설치여부 공기주입기비치여부 공기주입기유형\n",
              "1 NA       거치형   N              N                  NA            \n",
              "2 NA       휀스형   Y              N                  NA            \n",
              "3 NA       거치형   N              N                  NA            \n",
              "4 NA       휀스형   Y              N                  NA            \n",
              "5 NA       휀스형   Y              N                  NA            \n",
              "6 NA       거치형   N              N                  NA            \n",
              "  수리대설치여부 관리기관전화번호 관리기관명                     데이터기준일자\n",
              "1 N              063-281-2602     전라북도 전주시청 자전거정책과 2020-08-31    \n",
              "2 N              063-281-2603     전라북도 전주시청 자전거정책과 2020-08-31    \n",
              "3 N              063-281-2604     전라북도 전주시청 자전거정책과 2020-08-31    \n",
              "4 N              063-281-2605     전라북도 전주시청 자전거정책과 2020-08-31    \n",
              "5 N              063-281-2606     전라북도 전주시청 자전거정책과 2020-08-31    \n",
              "6 N              063-281-2607     전라북도 전주시청 자전거정책과 2020-08-31    "
            ],
            "text/latex": "A data.frame: 6 × 17\n\\begin{tabular}{r|lllllllllllllllll}\n  & 번호 & 자전거보관소명 & 소재지도로명주소 & 소재지지번주소 & 행정동 & 위도 & 경도 & 보관대수 & 설치연도 & 설치형태 & 차양막설치여부 & 공기주입기비치여부 & 공기주입기유형 & 수리대설치여부 & 관리기관전화번호 & 관리기관명 & 데이터기준일자\\\\\n  & <int> & <chr> & <chr> & <chr> & <chr> & <dbl> & <dbl> & <int> & <int> & <chr> & <chr> & <chr> & <lgl> & <chr> & <chr> & <chr> & <chr>\\\\\n\\hline\n\t1 & 1 & 자전거 보관대 & 전라북도 전주시 덕진구 여암2길 9      & 전라북도 전주시 덕진구 반월동 248-32     & 조촌동  & 35.87201 & 127.0757 &  6 & NA & 거치형 & N & N & NA & N & 063-281-2602 & 전라북도 전주시청 자전거정책과 & 2020-08-31\\\\\n\t2 & 2 & 자전거 보관대 & 전라북도 전주시 덕진구 송천중앙로 116 & 전라북도 전주시 덕진구 송천동1가 395-28  & 송천1동 & 35.85710 & 127.1210 &  7 & NA & 휀스형 & Y & N & NA & N & 063-281-2603 & 전라북도 전주시청 자전거정책과 & 2020-08-31\\\\\n\t3 & 3 & 자전거 보관대 & 전라북도 전주시 덕진구 송천중앙로162  & 전라북도 전주시 덕진구 송천동1가 113-12  & 송천2동 & 35.86099 & 127.1217 &  7 & NA & 거치형 & N & N & NA & N & 063-281-2604 & 전라북도 전주시청 자전거정책과 & 2020-08-31\\\\\n\t4 & 4 & 자전거 보관대 & 전라북도 전주시 덕진구 송천중앙로 153 & 전라북도 전주시 덕진구 송천동1가 481-4   & 송천2동 & 35.86063 & 127.1209 & 10 & NA & 휀스형 & Y & N & NA & N & 063-281-2605 & 전라북도 전주시청 자전거정책과 & 2020-08-31\\\\\n\t5 & 5 & 자전거 보관대 & 전라북도 전주시 덕진구 천마산로 40    & 전라북도 전주시 덕진구 송천동1가 107-172 & 송천2동 & 35.86335 & 127.1257 & 10 & NA & 휀스형 & Y & N & NA & N & 063-281-2606 & 전라북도 전주시청 자전거정책과 & 2020-08-31\\\\\n\t6 & 6 & 자전거 보관대 & 전라북도 전주시 덕진구 견훤왕궁로 277 & 전라북도 전주시 덕진구 금암동 1600-6     & 금암2동 & 35.84259 & 127.1441 &  6 & NA & 거치형 & N & N & NA & N & 063-281-2607 & 전라북도 전주시청 자전거정책과 & 2020-08-31\\\\\n\\end{tabular}\n",
            "text/markdown": "\nA data.frame: 6 × 17\n\n| <!--/--> | 번호 &lt;int&gt; | 자전거보관소명 &lt;chr&gt; | 소재지도로명주소 &lt;chr&gt; | 소재지지번주소 &lt;chr&gt; | 행정동 &lt;chr&gt; | 위도 &lt;dbl&gt; | 경도 &lt;dbl&gt; | 보관대수 &lt;int&gt; | 설치연도 &lt;int&gt; | 설치형태 &lt;chr&gt; | 차양막설치여부 &lt;chr&gt; | 공기주입기비치여부 &lt;chr&gt; | 공기주입기유형 &lt;lgl&gt; | 수리대설치여부 &lt;chr&gt; | 관리기관전화번호 &lt;chr&gt; | 관리기관명 &lt;chr&gt; | 데이터기준일자 &lt;chr&gt; |\n|---|---|---|---|---|---|---|---|---|---|---|---|---|---|---|---|---|---|\n| 1 | 1 | 자전거 보관대 | 전라북도 전주시 덕진구 여암2길 9      | 전라북도 전주시 덕진구 반월동 248-32     | 조촌동  | 35.87201 | 127.0757 |  6 | NA | 거치형 | N | N | NA | N | 063-281-2602 | 전라북도 전주시청 자전거정책과 | 2020-08-31 |\n| 2 | 2 | 자전거 보관대 | 전라북도 전주시 덕진구 송천중앙로 116 | 전라북도 전주시 덕진구 송천동1가 395-28  | 송천1동 | 35.85710 | 127.1210 |  7 | NA | 휀스형 | Y | N | NA | N | 063-281-2603 | 전라북도 전주시청 자전거정책과 | 2020-08-31 |\n| 3 | 3 | 자전거 보관대 | 전라북도 전주시 덕진구 송천중앙로162  | 전라북도 전주시 덕진구 송천동1가 113-12  | 송천2동 | 35.86099 | 127.1217 |  7 | NA | 거치형 | N | N | NA | N | 063-281-2604 | 전라북도 전주시청 자전거정책과 | 2020-08-31 |\n| 4 | 4 | 자전거 보관대 | 전라북도 전주시 덕진구 송천중앙로 153 | 전라북도 전주시 덕진구 송천동1가 481-4   | 송천2동 | 35.86063 | 127.1209 | 10 | NA | 휀스형 | Y | N | NA | N | 063-281-2605 | 전라북도 전주시청 자전거정책과 | 2020-08-31 |\n| 5 | 5 | 자전거 보관대 | 전라북도 전주시 덕진구 천마산로 40    | 전라북도 전주시 덕진구 송천동1가 107-172 | 송천2동 | 35.86335 | 127.1257 | 10 | NA | 휀스형 | Y | N | NA | N | 063-281-2606 | 전라북도 전주시청 자전거정책과 | 2020-08-31 |\n| 6 | 6 | 자전거 보관대 | 전라북도 전주시 덕진구 견훤왕궁로 277 | 전라북도 전주시 덕진구 금암동 1600-6     | 금암2동 | 35.84259 | 127.1441 |  6 | NA | 거치형 | N | N | NA | N | 063-281-2607 | 전라북도 전주시청 자전거정책과 | 2020-08-31 |\n\n",
            "text/html": [
              "<table class=\"dataframe\">\n",
              "<caption>A data.frame: 6 × 17</caption>\n",
              "<thead>\n",
              "\t<tr><th></th><th scope=col>번호</th><th scope=col>자전거보관소명</th><th scope=col>소재지도로명주소</th><th scope=col>소재지지번주소</th><th scope=col>행정동</th><th scope=col>위도</th><th scope=col>경도</th><th scope=col>보관대수</th><th scope=col>설치연도</th><th scope=col>설치형태</th><th scope=col>차양막설치여부</th><th scope=col>공기주입기비치여부</th><th scope=col>공기주입기유형</th><th scope=col>수리대설치여부</th><th scope=col>관리기관전화번호</th><th scope=col>관리기관명</th><th scope=col>데이터기준일자</th></tr>\n",
              "\t<tr><th></th><th scope=col>&lt;int&gt;</th><th scope=col>&lt;chr&gt;</th><th scope=col>&lt;chr&gt;</th><th scope=col>&lt;chr&gt;</th><th scope=col>&lt;chr&gt;</th><th scope=col>&lt;dbl&gt;</th><th scope=col>&lt;dbl&gt;</th><th scope=col>&lt;int&gt;</th><th scope=col>&lt;int&gt;</th><th scope=col>&lt;chr&gt;</th><th scope=col>&lt;chr&gt;</th><th scope=col>&lt;chr&gt;</th><th scope=col>&lt;lgl&gt;</th><th scope=col>&lt;chr&gt;</th><th scope=col>&lt;chr&gt;</th><th scope=col>&lt;chr&gt;</th><th scope=col>&lt;chr&gt;</th></tr>\n",
              "</thead>\n",
              "<tbody>\n",
              "\t<tr><th scope=row>1</th><td>1</td><td>자전거 보관대</td><td>전라북도 전주시 덕진구 여암2길 9     </td><td>전라북도 전주시 덕진구 반월동 248-32    </td><td>조촌동 </td><td>35.87201</td><td>127.0757</td><td> 6</td><td>NA</td><td>거치형</td><td>N</td><td>N</td><td>NA</td><td>N</td><td>063-281-2602</td><td>전라북도 전주시청 자전거정책과</td><td>2020-08-31</td></tr>\n",
              "\t<tr><th scope=row>2</th><td>2</td><td>자전거 보관대</td><td>전라북도 전주시 덕진구 송천중앙로 116</td><td>전라북도 전주시 덕진구 송천동1가 395-28 </td><td>송천1동</td><td>35.85710</td><td>127.1210</td><td> 7</td><td>NA</td><td>휀스형</td><td>Y</td><td>N</td><td>NA</td><td>N</td><td>063-281-2603</td><td>전라북도 전주시청 자전거정책과</td><td>2020-08-31</td></tr>\n",
              "\t<tr><th scope=row>3</th><td>3</td><td>자전거 보관대</td><td>전라북도 전주시 덕진구 송천중앙로162 </td><td>전라북도 전주시 덕진구 송천동1가 113-12 </td><td>송천2동</td><td>35.86099</td><td>127.1217</td><td> 7</td><td>NA</td><td>거치형</td><td>N</td><td>N</td><td>NA</td><td>N</td><td>063-281-2604</td><td>전라북도 전주시청 자전거정책과</td><td>2020-08-31</td></tr>\n",
              "\t<tr><th scope=row>4</th><td>4</td><td>자전거 보관대</td><td>전라북도 전주시 덕진구 송천중앙로 153</td><td>전라북도 전주시 덕진구 송천동1가 481-4  </td><td>송천2동</td><td>35.86063</td><td>127.1209</td><td>10</td><td>NA</td><td>휀스형</td><td>Y</td><td>N</td><td>NA</td><td>N</td><td>063-281-2605</td><td>전라북도 전주시청 자전거정책과</td><td>2020-08-31</td></tr>\n",
              "\t<tr><th scope=row>5</th><td>5</td><td>자전거 보관대</td><td>전라북도 전주시 덕진구 천마산로 40   </td><td>전라북도 전주시 덕진구 송천동1가 107-172</td><td>송천2동</td><td>35.86335</td><td>127.1257</td><td>10</td><td>NA</td><td>휀스형</td><td>Y</td><td>N</td><td>NA</td><td>N</td><td>063-281-2606</td><td>전라북도 전주시청 자전거정책과</td><td>2020-08-31</td></tr>\n",
              "\t<tr><th scope=row>6</th><td>6</td><td>자전거 보관대</td><td>전라북도 전주시 덕진구 견훤왕궁로 277</td><td>전라북도 전주시 덕진구 금암동 1600-6    </td><td>금암2동</td><td>35.84259</td><td>127.1441</td><td> 6</td><td>NA</td><td>거치형</td><td>N</td><td>N</td><td>NA</td><td>N</td><td>063-281-2607</td><td>전라북도 전주시청 자전거정책과</td><td>2020-08-31</td></tr>\n",
              "</tbody>\n",
              "</table>\n"
            ]
          },
          "metadata": {
            "tags": []
          }
        }
      ]
    },
    {
      "cell_type": "code",
      "metadata": {
        "id": "oo4yRHKXp-Yh",
        "outputId": "c936d799-c2d9-46af-c4a7-4659cb305be2",
        "colab": {
          "base_uri": "https://localhost:8080/",
          "height": 283
        }
      },
      "source": [
        "bicycle <- bicycle[, c(1,5,8)]\n",
        "head(bicycle)"
      ],
      "execution_count": 55,
      "outputs": [
        {
          "output_type": "display_data",
          "data": {
            "text/plain": [
              "  번호 행정동  보관대수\n",
              "1 1    조촌동   6      \n",
              "2 2    송천1동  7      \n",
              "3 3    송천2동  7      \n",
              "4 4    송천2동 10      \n",
              "5 5    송천2동 10      \n",
              "6 6    금암2동  6      "
            ],
            "text/latex": "A data.frame: 6 × 3\n\\begin{tabular}{r|lll}\n  & 번호 & 행정동 & 보관대수\\\\\n  & <int> & <chr> & <int>\\\\\n\\hline\n\t1 & 1 & 조촌동  &  6\\\\\n\t2 & 2 & 송천1동 &  7\\\\\n\t3 & 3 & 송천2동 &  7\\\\\n\t4 & 4 & 송천2동 & 10\\\\\n\t5 & 5 & 송천2동 & 10\\\\\n\t6 & 6 & 금암2동 &  6\\\\\n\\end{tabular}\n",
            "text/markdown": "\nA data.frame: 6 × 3\n\n| <!--/--> | 번호 &lt;int&gt; | 행정동 &lt;chr&gt; | 보관대수 &lt;int&gt; |\n|---|---|---|---|\n| 1 | 1 | 조촌동  |  6 |\n| 2 | 2 | 송천1동 |  7 |\n| 3 | 3 | 송천2동 |  7 |\n| 4 | 4 | 송천2동 | 10 |\n| 5 | 5 | 송천2동 | 10 |\n| 6 | 6 | 금암2동 |  6 |\n\n",
            "text/html": [
              "<table class=\"dataframe\">\n",
              "<caption>A data.frame: 6 × 3</caption>\n",
              "<thead>\n",
              "\t<tr><th></th><th scope=col>번호</th><th scope=col>행정동</th><th scope=col>보관대수</th></tr>\n",
              "\t<tr><th></th><th scope=col>&lt;int&gt;</th><th scope=col>&lt;chr&gt;</th><th scope=col>&lt;int&gt;</th></tr>\n",
              "</thead>\n",
              "<tbody>\n",
              "\t<tr><th scope=row>1</th><td>1</td><td>조촌동 </td><td> 6</td></tr>\n",
              "\t<tr><th scope=row>2</th><td>2</td><td>송천1동</td><td> 7</td></tr>\n",
              "\t<tr><th scope=row>3</th><td>3</td><td>송천2동</td><td> 7</td></tr>\n",
              "\t<tr><th scope=row>4</th><td>4</td><td>송천2동</td><td>10</td></tr>\n",
              "\t<tr><th scope=row>5</th><td>5</td><td>송천2동</td><td>10</td></tr>\n",
              "\t<tr><th scope=row>6</th><td>6</td><td>금암2동</td><td> 6</td></tr>\n",
              "</tbody>\n",
              "</table>\n"
            ]
          },
          "metadata": {
            "tags": []
          }
        }
      ]
    },
    {
      "cell_type": "code",
      "metadata": {
        "id": "zh1P5PVNqKgT",
        "outputId": "89ca2c0c-4871-4b88-9cd2-f6d95b39bc6b",
        "colab": {
          "base_uri": "https://localhost:8080/",
          "height": 190
        }
      },
      "source": [
        "bicycle <- bicycle %>% group_by(번호) %>% summarise(자전거보관대수 = n(보관대수))\n",
        "head(bicycle)"
      ],
      "execution_count": 56,
      "outputs": [
        {
          "output_type": "error",
          "ename": "ERROR",
          "evalue": "ignored",
          "traceback": [
            "Error in n(보관대수): unused argument (보관대수)\nTraceback:\n",
            "1. bicycle %>% group_by(번호) %>% summarise(자전거보관대수 = n(보관대수))",
            "2. summarise(., 자전거보관대수 = n(보관대수))",
            "3. eval(cols[[col]], .data, parent.frame())",
            "4. eval(cols[[col]], .data, parent.frame())"
          ]
        }
      ]
    },
    {
      "cell_type": "code",
      "metadata": {
        "id": "8kLR6-Bmp5Iq"
      },
      "source": [
        "\n",
        "\n",
        "bicycle <- as.data.frame(bicycle)\n",
        "bicycle <- arrange(bicycle, bicycle$행정동)\n",
        "table(bicycle$행정동 %in% jjdong)\n",
        "table(jjdong %in% bicycle$행정동)\n",
        "jjdong[jjdong %in% bicycle$행정동 == FALSE]"
      ],
      "execution_count": null,
      "outputs": []
    },
    {
      "cell_type": "markdown",
      "metadata": {
        "id": "lQjBmPSGiQLO"
      },
      "source": [
        "## 최종 데이터셋\n",
        "\n",
        "저런 식으로 나머지 데이터들도 정리하다보면\n",
        "jj처럼 정리할 수 있음 (동별로 데이터 정리!)"
      ]
    },
    {
      "cell_type": "code",
      "metadata": {
        "colab": {
          "base_uri": "https://localhost:8080/",
          "height": 1000
        },
        "id": "eUwyhCqyeeyq",
        "outputId": "5de55b99-a219-4bf1-e1f4-b98516cda6d4"
      },
      "source": [
        "jj <- merge(pop, rest)\n",
        "jj <- merge(jj, cvstore)\n",
        "jj <- merge(jj, region)\n",
        "jj <- jj[,-1]\n",
        "jj #차례대로 동별 인구수, 음식점수, 편의점수, 면적"
      ],
      "execution_count": 38,
      "outputs": [
        {
          "output_type": "display_data",
          "data": {
            "text/plain": [
              "   동        비율... 행정동    인구  항목    순위 값  순위.구.내. 편의점수\n",
              "1  중화산2동 7.2     금암2동   10714 효자4동 6    378 5           20      \n",
              "2  중화산2동 7.2     노송동    13189 효자4동 6    378 5           20      \n",
              "3  중화산2동 7.2     덕진동    21215 효자4동 6    378 5           20      \n",
              "4  중화산2동 7.2     여의동    30208 효자4동 6    378 5           20      \n",
              "5  중화산2동 7.2     동서학동   6784 효자4동 6    378 5           20      \n",
              "6  중화산2동 7.2     삼천1동   12799 효자4동 6    378 5           20      \n",
              "7  중화산2동 7.2     삼천2동   14447 효자4동 6    378 5           20      \n",
              "8  중화산2동 7.2     삼천3동   23323 효자4동 6    378 5           20      \n",
              "9  중화산2동 7.2     금암1동    8824 효자4동 6    378 5           20      \n",
              "10 중화산2동 7.2     우아1동   10096 효자4동 6    378 5           20      \n",
              "11 중화산2동 7.2     우아2동   15125 효자4동 6    378 5           20      \n",
              "12 중화산2동 7.2     인후1동   19047 효자4동 6    378 5           20      \n",
              "13 중화산2동 7.2     인후2동   12094 효자4동 6    378 5           20      \n",
              "14 중화산2동 7.2     인후3동   32426 효자4동 6    378 5           20      \n",
              "15 중화산2동 7.2     조촌동    12133 효자4동 6    378 5           20      \n",
              "16 중화산2동 7.2     중앙동     8073 효자4동 6    378 5           20      \n",
              "17 중화산2동 7.2     중화산1동 15288 효자4동 6    378 5           20      \n",
              "18 중화산2동 7.2     서서학동   9223 효자4동 6    378 5           20      \n",
              "19 중화산2동 7.2     서신동    40408 효자4동 6    378 5           20      \n",
              "20 중화산2동 7.2     송천1동   59376 효자4동 6    378 5           20      \n",
              "21 중화산2동 7.2     송천2동   26748 효자4동 6    378 5           20      \n",
              "22 중화산2동 7.2     완산동     5148 효자4동 6    378 5           20      \n",
              "23 중화산2동 7.2     풍남동     4521 효자4동 6    378 5           20      \n",
              "24 중화산2동 7.2     혁신동    17925 효자4동 6    378 5           20      \n",
              "25 중화산2동 7.2     호성동    21154 효자4동 6    378 5           20      \n",
              "26 중화산2동 7.2     효자1동   11784 효자4동 6    378 5           20      \n",
              "27 중화산2동 7.2     효자2동   10861 효자4동 6    378 5           20      \n",
              "28 중화산2동 7.2     효자3동   15758 효자4동 6    378 5           20      \n",
              "29 중화산2동 7.2     효자4동   33756 효자4동 6    378 5           20      \n",
              "30 중화산2동 7.2     효자5동   37898 효자4동 6    378 5           20      \n",
              "31 중화산2동 7.2     중화산2동 20030 효자4동 6    378 5           20      \n",
              "32 중화산2동 7.2     진북동    14924 효자4동 6    378 5           20      \n",
              "33 중화산2동 7.2     팔복동     8300 효자4동 6    378 5           20      \n",
              "34 중화산2동 7.2     평화1동   13204 효자4동 6    378 5           20      \n",
              "35 중화산2동 7.2     평화2동   46295 효자4동 6    378 5           20      \n",
              "   면적.km..\n",
              "1  1.72     \n",
              "2  1.72     \n",
              "3  1.72     \n",
              "4  1.72     \n",
              "5  1.72     \n",
              "6  1.72     \n",
              "7  1.72     \n",
              "8  1.72     \n",
              "9  1.72     \n",
              "10 1.72     \n",
              "11 1.72     \n",
              "12 1.72     \n",
              "13 1.72     \n",
              "14 1.72     \n",
              "15 1.72     \n",
              "16 1.72     \n",
              "17 1.72     \n",
              "18 1.72     \n",
              "19 1.72     \n",
              "20 1.72     \n",
              "21 1.72     \n",
              "22 1.72     \n",
              "23 1.72     \n",
              "24 1.72     \n",
              "25 1.72     \n",
              "26 1.72     \n",
              "27 1.72     \n",
              "28 1.72     \n",
              "29 1.72     \n",
              "30 1.72     \n",
              "31 1.72     \n",
              "32 1.72     \n",
              "33 1.72     \n",
              "34 1.72     \n",
              "35 1.72     "
            ],
            "text/latex": "A data.frame: 35 × 10\n\\begin{tabular}{llllllllll}\n 동 & 비율... & 행정동 & 인구 & 항목 & 순위 & 값 & 순위.구.내. & 편의점수 & 면적.km..\\\\\n <chr> & <dbl> & <chr> & <int> & <chr> & <int> & <int> & <int> & <int> & <dbl>\\\\\n\\hline\n\t 중화산2동 & 7.2 & 금암2동   & 10714 & 효자4동 & 6 & 378 & 5 & 20 & 1.72\\\\\n\t 중화산2동 & 7.2 & 노송동    & 13189 & 효자4동 & 6 & 378 & 5 & 20 & 1.72\\\\\n\t 중화산2동 & 7.2 & 덕진동    & 21215 & 효자4동 & 6 & 378 & 5 & 20 & 1.72\\\\\n\t 중화산2동 & 7.2 & 여의동    & 30208 & 효자4동 & 6 & 378 & 5 & 20 & 1.72\\\\\n\t 중화산2동 & 7.2 & 동서학동  &  6784 & 효자4동 & 6 & 378 & 5 & 20 & 1.72\\\\\n\t 중화산2동 & 7.2 & 삼천1동   & 12799 & 효자4동 & 6 & 378 & 5 & 20 & 1.72\\\\\n\t 중화산2동 & 7.2 & 삼천2동   & 14447 & 효자4동 & 6 & 378 & 5 & 20 & 1.72\\\\\n\t 중화산2동 & 7.2 & 삼천3동   & 23323 & 효자4동 & 6 & 378 & 5 & 20 & 1.72\\\\\n\t 중화산2동 & 7.2 & 금암1동   &  8824 & 효자4동 & 6 & 378 & 5 & 20 & 1.72\\\\\n\t 중화산2동 & 7.2 & 우아1동   & 10096 & 효자4동 & 6 & 378 & 5 & 20 & 1.72\\\\\n\t 중화산2동 & 7.2 & 우아2동   & 15125 & 효자4동 & 6 & 378 & 5 & 20 & 1.72\\\\\n\t 중화산2동 & 7.2 & 인후1동   & 19047 & 효자4동 & 6 & 378 & 5 & 20 & 1.72\\\\\n\t 중화산2동 & 7.2 & 인후2동   & 12094 & 효자4동 & 6 & 378 & 5 & 20 & 1.72\\\\\n\t 중화산2동 & 7.2 & 인후3동   & 32426 & 효자4동 & 6 & 378 & 5 & 20 & 1.72\\\\\n\t 중화산2동 & 7.2 & 조촌동    & 12133 & 효자4동 & 6 & 378 & 5 & 20 & 1.72\\\\\n\t 중화산2동 & 7.2 & 중앙동    &  8073 & 효자4동 & 6 & 378 & 5 & 20 & 1.72\\\\\n\t 중화산2동 & 7.2 & 중화산1동 & 15288 & 효자4동 & 6 & 378 & 5 & 20 & 1.72\\\\\n\t 중화산2동 & 7.2 & 서서학동  &  9223 & 효자4동 & 6 & 378 & 5 & 20 & 1.72\\\\\n\t 중화산2동 & 7.2 & 서신동    & 40408 & 효자4동 & 6 & 378 & 5 & 20 & 1.72\\\\\n\t 중화산2동 & 7.2 & 송천1동   & 59376 & 효자4동 & 6 & 378 & 5 & 20 & 1.72\\\\\n\t 중화산2동 & 7.2 & 송천2동   & 26748 & 효자4동 & 6 & 378 & 5 & 20 & 1.72\\\\\n\t 중화산2동 & 7.2 & 완산동    &  5148 & 효자4동 & 6 & 378 & 5 & 20 & 1.72\\\\\n\t 중화산2동 & 7.2 & 풍남동    &  4521 & 효자4동 & 6 & 378 & 5 & 20 & 1.72\\\\\n\t 중화산2동 & 7.2 & 혁신동    & 17925 & 효자4동 & 6 & 378 & 5 & 20 & 1.72\\\\\n\t 중화산2동 & 7.2 & 호성동    & 21154 & 효자4동 & 6 & 378 & 5 & 20 & 1.72\\\\\n\t 중화산2동 & 7.2 & 효자1동   & 11784 & 효자4동 & 6 & 378 & 5 & 20 & 1.72\\\\\n\t 중화산2동 & 7.2 & 효자2동   & 10861 & 효자4동 & 6 & 378 & 5 & 20 & 1.72\\\\\n\t 중화산2동 & 7.2 & 효자3동   & 15758 & 효자4동 & 6 & 378 & 5 & 20 & 1.72\\\\\n\t 중화산2동 & 7.2 & 효자4동   & 33756 & 효자4동 & 6 & 378 & 5 & 20 & 1.72\\\\\n\t 중화산2동 & 7.2 & 효자5동   & 37898 & 효자4동 & 6 & 378 & 5 & 20 & 1.72\\\\\n\t 중화산2동 & 7.2 & 중화산2동 & 20030 & 효자4동 & 6 & 378 & 5 & 20 & 1.72\\\\\n\t 중화산2동 & 7.2 & 진북동    & 14924 & 효자4동 & 6 & 378 & 5 & 20 & 1.72\\\\\n\t 중화산2동 & 7.2 & 팔복동    &  8300 & 효자4동 & 6 & 378 & 5 & 20 & 1.72\\\\\n\t 중화산2동 & 7.2 & 평화1동   & 13204 & 효자4동 & 6 & 378 & 5 & 20 & 1.72\\\\\n\t 중화산2동 & 7.2 & 평화2동   & 46295 & 효자4동 & 6 & 378 & 5 & 20 & 1.72\\\\\n\\end{tabular}\n",
            "text/markdown": "\nA data.frame: 35 × 10\n\n| 동 &lt;chr&gt; | 비율... &lt;dbl&gt; | 행정동 &lt;chr&gt; | 인구 &lt;int&gt; | 항목 &lt;chr&gt; | 순위 &lt;int&gt; | 값 &lt;int&gt; | 순위.구.내. &lt;int&gt; | 편의점수 &lt;int&gt; | 면적.km.. &lt;dbl&gt; |\n|---|---|---|---|---|---|---|---|---|---|\n| 중화산2동 | 7.2 | 금암2동   | 10714 | 효자4동 | 6 | 378 | 5 | 20 | 1.72 |\n| 중화산2동 | 7.2 | 노송동    | 13189 | 효자4동 | 6 | 378 | 5 | 20 | 1.72 |\n| 중화산2동 | 7.2 | 덕진동    | 21215 | 효자4동 | 6 | 378 | 5 | 20 | 1.72 |\n| 중화산2동 | 7.2 | 여의동    | 30208 | 효자4동 | 6 | 378 | 5 | 20 | 1.72 |\n| 중화산2동 | 7.2 | 동서학동  |  6784 | 효자4동 | 6 | 378 | 5 | 20 | 1.72 |\n| 중화산2동 | 7.2 | 삼천1동   | 12799 | 효자4동 | 6 | 378 | 5 | 20 | 1.72 |\n| 중화산2동 | 7.2 | 삼천2동   | 14447 | 효자4동 | 6 | 378 | 5 | 20 | 1.72 |\n| 중화산2동 | 7.2 | 삼천3동   | 23323 | 효자4동 | 6 | 378 | 5 | 20 | 1.72 |\n| 중화산2동 | 7.2 | 금암1동   |  8824 | 효자4동 | 6 | 378 | 5 | 20 | 1.72 |\n| 중화산2동 | 7.2 | 우아1동   | 10096 | 효자4동 | 6 | 378 | 5 | 20 | 1.72 |\n| 중화산2동 | 7.2 | 우아2동   | 15125 | 효자4동 | 6 | 378 | 5 | 20 | 1.72 |\n| 중화산2동 | 7.2 | 인후1동   | 19047 | 효자4동 | 6 | 378 | 5 | 20 | 1.72 |\n| 중화산2동 | 7.2 | 인후2동   | 12094 | 효자4동 | 6 | 378 | 5 | 20 | 1.72 |\n| 중화산2동 | 7.2 | 인후3동   | 32426 | 효자4동 | 6 | 378 | 5 | 20 | 1.72 |\n| 중화산2동 | 7.2 | 조촌동    | 12133 | 효자4동 | 6 | 378 | 5 | 20 | 1.72 |\n| 중화산2동 | 7.2 | 중앙동    |  8073 | 효자4동 | 6 | 378 | 5 | 20 | 1.72 |\n| 중화산2동 | 7.2 | 중화산1동 | 15288 | 효자4동 | 6 | 378 | 5 | 20 | 1.72 |\n| 중화산2동 | 7.2 | 서서학동  |  9223 | 효자4동 | 6 | 378 | 5 | 20 | 1.72 |\n| 중화산2동 | 7.2 | 서신동    | 40408 | 효자4동 | 6 | 378 | 5 | 20 | 1.72 |\n| 중화산2동 | 7.2 | 송천1동   | 59376 | 효자4동 | 6 | 378 | 5 | 20 | 1.72 |\n| 중화산2동 | 7.2 | 송천2동   | 26748 | 효자4동 | 6 | 378 | 5 | 20 | 1.72 |\n| 중화산2동 | 7.2 | 완산동    |  5148 | 효자4동 | 6 | 378 | 5 | 20 | 1.72 |\n| 중화산2동 | 7.2 | 풍남동    |  4521 | 효자4동 | 6 | 378 | 5 | 20 | 1.72 |\n| 중화산2동 | 7.2 | 혁신동    | 17925 | 효자4동 | 6 | 378 | 5 | 20 | 1.72 |\n| 중화산2동 | 7.2 | 호성동    | 21154 | 효자4동 | 6 | 378 | 5 | 20 | 1.72 |\n| 중화산2동 | 7.2 | 효자1동   | 11784 | 효자4동 | 6 | 378 | 5 | 20 | 1.72 |\n| 중화산2동 | 7.2 | 효자2동   | 10861 | 효자4동 | 6 | 378 | 5 | 20 | 1.72 |\n| 중화산2동 | 7.2 | 효자3동   | 15758 | 효자4동 | 6 | 378 | 5 | 20 | 1.72 |\n| 중화산2동 | 7.2 | 효자4동   | 33756 | 효자4동 | 6 | 378 | 5 | 20 | 1.72 |\n| 중화산2동 | 7.2 | 효자5동   | 37898 | 효자4동 | 6 | 378 | 5 | 20 | 1.72 |\n| 중화산2동 | 7.2 | 중화산2동 | 20030 | 효자4동 | 6 | 378 | 5 | 20 | 1.72 |\n| 중화산2동 | 7.2 | 진북동    | 14924 | 효자4동 | 6 | 378 | 5 | 20 | 1.72 |\n| 중화산2동 | 7.2 | 팔복동    |  8300 | 효자4동 | 6 | 378 | 5 | 20 | 1.72 |\n| 중화산2동 | 7.2 | 평화1동   | 13204 | 효자4동 | 6 | 378 | 5 | 20 | 1.72 |\n| 중화산2동 | 7.2 | 평화2동   | 46295 | 효자4동 | 6 | 378 | 5 | 20 | 1.72 |\n\n",
            "text/html": [
              "<table class=\"dataframe\">\n",
              "<caption>A data.frame: 35 × 10</caption>\n",
              "<thead>\n",
              "\t<tr><th scope=col>동</th><th scope=col>비율...</th><th scope=col>행정동</th><th scope=col>인구</th><th scope=col>항목</th><th scope=col>순위</th><th scope=col>값</th><th scope=col>순위.구.내.</th><th scope=col>편의점수</th><th scope=col>면적.km..</th></tr>\n",
              "\t<tr><th scope=col>&lt;chr&gt;</th><th scope=col>&lt;dbl&gt;</th><th scope=col>&lt;chr&gt;</th><th scope=col>&lt;int&gt;</th><th scope=col>&lt;chr&gt;</th><th scope=col>&lt;int&gt;</th><th scope=col>&lt;int&gt;</th><th scope=col>&lt;int&gt;</th><th scope=col>&lt;int&gt;</th><th scope=col>&lt;dbl&gt;</th></tr>\n",
              "</thead>\n",
              "<tbody>\n",
              "\t<tr><td>중화산2동</td><td>7.2</td><td>금암2동  </td><td>10714</td><td>효자4동</td><td>6</td><td>378</td><td>5</td><td>20</td><td>1.72</td></tr>\n",
              "\t<tr><td>중화산2동</td><td>7.2</td><td>노송동   </td><td>13189</td><td>효자4동</td><td>6</td><td>378</td><td>5</td><td>20</td><td>1.72</td></tr>\n",
              "\t<tr><td>중화산2동</td><td>7.2</td><td>덕진동   </td><td>21215</td><td>효자4동</td><td>6</td><td>378</td><td>5</td><td>20</td><td>1.72</td></tr>\n",
              "\t<tr><td>중화산2동</td><td>7.2</td><td>여의동   </td><td>30208</td><td>효자4동</td><td>6</td><td>378</td><td>5</td><td>20</td><td>1.72</td></tr>\n",
              "\t<tr><td>중화산2동</td><td>7.2</td><td>동서학동 </td><td> 6784</td><td>효자4동</td><td>6</td><td>378</td><td>5</td><td>20</td><td>1.72</td></tr>\n",
              "\t<tr><td>중화산2동</td><td>7.2</td><td>삼천1동  </td><td>12799</td><td>효자4동</td><td>6</td><td>378</td><td>5</td><td>20</td><td>1.72</td></tr>\n",
              "\t<tr><td>중화산2동</td><td>7.2</td><td>삼천2동  </td><td>14447</td><td>효자4동</td><td>6</td><td>378</td><td>5</td><td>20</td><td>1.72</td></tr>\n",
              "\t<tr><td>중화산2동</td><td>7.2</td><td>삼천3동  </td><td>23323</td><td>효자4동</td><td>6</td><td>378</td><td>5</td><td>20</td><td>1.72</td></tr>\n",
              "\t<tr><td>중화산2동</td><td>7.2</td><td>금암1동  </td><td> 8824</td><td>효자4동</td><td>6</td><td>378</td><td>5</td><td>20</td><td>1.72</td></tr>\n",
              "\t<tr><td>중화산2동</td><td>7.2</td><td>우아1동  </td><td>10096</td><td>효자4동</td><td>6</td><td>378</td><td>5</td><td>20</td><td>1.72</td></tr>\n",
              "\t<tr><td>중화산2동</td><td>7.2</td><td>우아2동  </td><td>15125</td><td>효자4동</td><td>6</td><td>378</td><td>5</td><td>20</td><td>1.72</td></tr>\n",
              "\t<tr><td>중화산2동</td><td>7.2</td><td>인후1동  </td><td>19047</td><td>효자4동</td><td>6</td><td>378</td><td>5</td><td>20</td><td>1.72</td></tr>\n",
              "\t<tr><td>중화산2동</td><td>7.2</td><td>인후2동  </td><td>12094</td><td>효자4동</td><td>6</td><td>378</td><td>5</td><td>20</td><td>1.72</td></tr>\n",
              "\t<tr><td>중화산2동</td><td>7.2</td><td>인후3동  </td><td>32426</td><td>효자4동</td><td>6</td><td>378</td><td>5</td><td>20</td><td>1.72</td></tr>\n",
              "\t<tr><td>중화산2동</td><td>7.2</td><td>조촌동   </td><td>12133</td><td>효자4동</td><td>6</td><td>378</td><td>5</td><td>20</td><td>1.72</td></tr>\n",
              "\t<tr><td>중화산2동</td><td>7.2</td><td>중앙동   </td><td> 8073</td><td>효자4동</td><td>6</td><td>378</td><td>5</td><td>20</td><td>1.72</td></tr>\n",
              "\t<tr><td>중화산2동</td><td>7.2</td><td>중화산1동</td><td>15288</td><td>효자4동</td><td>6</td><td>378</td><td>5</td><td>20</td><td>1.72</td></tr>\n",
              "\t<tr><td>중화산2동</td><td>7.2</td><td>서서학동 </td><td> 9223</td><td>효자4동</td><td>6</td><td>378</td><td>5</td><td>20</td><td>1.72</td></tr>\n",
              "\t<tr><td>중화산2동</td><td>7.2</td><td>서신동   </td><td>40408</td><td>효자4동</td><td>6</td><td>378</td><td>5</td><td>20</td><td>1.72</td></tr>\n",
              "\t<tr><td>중화산2동</td><td>7.2</td><td>송천1동  </td><td>59376</td><td>효자4동</td><td>6</td><td>378</td><td>5</td><td>20</td><td>1.72</td></tr>\n",
              "\t<tr><td>중화산2동</td><td>7.2</td><td>송천2동  </td><td>26748</td><td>효자4동</td><td>6</td><td>378</td><td>5</td><td>20</td><td>1.72</td></tr>\n",
              "\t<tr><td>중화산2동</td><td>7.2</td><td>완산동   </td><td> 5148</td><td>효자4동</td><td>6</td><td>378</td><td>5</td><td>20</td><td>1.72</td></tr>\n",
              "\t<tr><td>중화산2동</td><td>7.2</td><td>풍남동   </td><td> 4521</td><td>효자4동</td><td>6</td><td>378</td><td>5</td><td>20</td><td>1.72</td></tr>\n",
              "\t<tr><td>중화산2동</td><td>7.2</td><td>혁신동   </td><td>17925</td><td>효자4동</td><td>6</td><td>378</td><td>5</td><td>20</td><td>1.72</td></tr>\n",
              "\t<tr><td>중화산2동</td><td>7.2</td><td>호성동   </td><td>21154</td><td>효자4동</td><td>6</td><td>378</td><td>5</td><td>20</td><td>1.72</td></tr>\n",
              "\t<tr><td>중화산2동</td><td>7.2</td><td>효자1동  </td><td>11784</td><td>효자4동</td><td>6</td><td>378</td><td>5</td><td>20</td><td>1.72</td></tr>\n",
              "\t<tr><td>중화산2동</td><td>7.2</td><td>효자2동  </td><td>10861</td><td>효자4동</td><td>6</td><td>378</td><td>5</td><td>20</td><td>1.72</td></tr>\n",
              "\t<tr><td>중화산2동</td><td>7.2</td><td>효자3동  </td><td>15758</td><td>효자4동</td><td>6</td><td>378</td><td>5</td><td>20</td><td>1.72</td></tr>\n",
              "\t<tr><td>중화산2동</td><td>7.2</td><td>효자4동  </td><td>33756</td><td>효자4동</td><td>6</td><td>378</td><td>5</td><td>20</td><td>1.72</td></tr>\n",
              "\t<tr><td>중화산2동</td><td>7.2</td><td>효자5동  </td><td>37898</td><td>효자4동</td><td>6</td><td>378</td><td>5</td><td>20</td><td>1.72</td></tr>\n",
              "\t<tr><td>중화산2동</td><td>7.2</td><td>중화산2동</td><td>20030</td><td>효자4동</td><td>6</td><td>378</td><td>5</td><td>20</td><td>1.72</td></tr>\n",
              "\t<tr><td>중화산2동</td><td>7.2</td><td>진북동   </td><td>14924</td><td>효자4동</td><td>6</td><td>378</td><td>5</td><td>20</td><td>1.72</td></tr>\n",
              "\t<tr><td>중화산2동</td><td>7.2</td><td>팔복동   </td><td> 8300</td><td>효자4동</td><td>6</td><td>378</td><td>5</td><td>20</td><td>1.72</td></tr>\n",
              "\t<tr><td>중화산2동</td><td>7.2</td><td>평화1동  </td><td>13204</td><td>효자4동</td><td>6</td><td>378</td><td>5</td><td>20</td><td>1.72</td></tr>\n",
              "\t<tr><td>중화산2동</td><td>7.2</td><td>평화2동  </td><td>46295</td><td>효자4동</td><td>6</td><td>378</td><td>5</td><td>20</td><td>1.72</td></tr>\n",
              "</tbody>\n",
              "</table>\n"
            ]
          },
          "metadata": {
            "tags": []
          }
        }
      ]
    },
    {
      "cell_type": "markdown",
      "metadata": {
        "id": "RIeA4EksiaNQ"
      },
      "source": [
        "그래서 상관분석을 실행하면 되는데 여기서는 왜 오류가 뜨지?-?\n",
        "\n",
        "\n",
        "\n",
        "\n",
        "R에서는 이런 식으로 나옴!\n",
        "\n",
        "\n",
        "![d캡처.PNG](data:image/png;base64,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)\n"
      ]
    },
    {
      "cell_type": "code",
      "metadata": {
        "colab": {
          "base_uri": "https://localhost:8080/",
          "height": 154
        },
        "id": "CFB-d3JG4AHg",
        "outputId": "cff8756b-6b44-4510-c4fa-740e76edf4e1"
      },
      "source": [
        "cor(jj)"
      ],
      "execution_count": 39,
      "outputs": [
        {
          "output_type": "error",
          "ename": "ERROR",
          "evalue": "ignored",
          "traceback": [
            "Error in cor(jj): 'x' must be numeric\nTraceback:\n",
            "1. cor(jj)",
            "2. stop(\"'x' must be numeric\")"
          ]
        }
      ]
    }
  ]
}