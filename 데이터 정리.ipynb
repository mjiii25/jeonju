{
  "nbformat": 4,
  "nbformat_minor": 0,
  "metadata": {
    "colab": {
      "name": "Untitled9.ipynb",
      "provenance": [],
      "toc_visible": true,
      "include_colab_link": true
    },
    "kernelspec": {
      "name": "ir",
      "display_name": "R"
    },
    "language_info": {
      "name": "R"
    }
  },
  "cells": [
    {
      "cell_type": "markdown",
      "metadata": {
        "id": "view-in-github",
        "colab_type": "text"
      },
      "source": [
        "<a href=\"https://colab.research.google.com/github/mjiii25/jeonju/blob/main/%EB%8D%B0%EC%9D%B4%ED%84%B0%20%EC%A0%95%EB%A6%AC.ipynb\" target=\"_parent\"><img src=\"https://colab.research.google.com/assets/colab-badge.svg\" alt=\"Open In Colab\"/></a>"
      ]
    },
    {
      "cell_type": "markdown",
      "metadata": {
        "id": "dVi2ZRXabTIG"
      },
      "source": [
        "# R 실행\n",
        "\n",
        "https://gist.github.com/jobdiogenes/235620928c84e604c6e56211ccf681f0"
      ]
    },
    {
      "cell_type": "code",
      "metadata": {
        "colab": {
          "base_uri": "https://localhost:8080/"
        },
        "id": "IoDbJVG7alub",
        "outputId": "126ddf02-8307-45a3-e856-9c02d2891b3b"
      },
      "source": [
        "# Check if is running in Colab and redefine is_interactive()\n",
        "if (file.exists(\"/usr/local/lib/python3.7/dist-packages/google/colab/_ipython.py\")) {\n",
        "  install.packages(\"R.utils\")\n",
        "  library(\"R.utils\")\n",
        "  library(\"httr\")\n",
        "  my_check <- function() {return(TRUE)}\n",
        "  reassignInPackage(\"is_interactive\", pkgName = \"httr\", my_check) \n",
        "  options(rlang_interactive=TRUE)\n",
        "}"
      ],
      "execution_count": null,
      "outputs": [
        {
          "output_type": "stream",
          "text": [
            "Installing package into ‘/usr/local/lib/R/site-library’\n",
            "(as ‘lib’ is unspecified)\n",
            "\n",
            "also installing the dependencies ‘R.oo’, ‘R.methodsS3’\n",
            "\n",
            "\n",
            "Loading required package: R.oo\n",
            "\n",
            "Loading required package: R.methodsS3\n",
            "\n",
            "R.methodsS3 v1.8.1 (2020-08-26 16:20:06 UTC) successfully loaded. See ?R.methodsS3 for help.\n",
            "\n",
            "R.oo v1.24.0 (2020-08-26 16:11:58 UTC) successfully loaded. See ?R.oo for help.\n",
            "\n",
            "\n",
            "Attaching package: ‘R.oo’\n",
            "\n",
            "\n",
            "The following object is masked from ‘package:R.methodsS3’:\n",
            "\n",
            "    throw\n",
            "\n",
            "\n",
            "The following objects are masked from ‘package:methods’:\n",
            "\n",
            "    getClasses, getMethods\n",
            "\n",
            "\n",
            "The following objects are masked from ‘package:base’:\n",
            "\n",
            "    attach, detach, load, save\n",
            "\n",
            "\n",
            "R.utils v2.10.1 (2020-08-26 22:50:31 UTC) successfully loaded. See ?R.utils for help.\n",
            "\n",
            "\n",
            "Attaching package: ‘R.utils’\n",
            "\n",
            "\n",
            "The following object is masked from ‘package:utils’:\n",
            "\n",
            "    timestamp\n",
            "\n",
            "\n",
            "The following objects are masked from ‘package:base’:\n",
            "\n",
            "    cat, commandArgs, getOption, inherits, isOpen, nullfile, parse,\n",
            "    warnings\n",
            "\n",
            "\n"
          ],
          "name": "stderr"
        }
      ]
    },
    {
      "cell_type": "code",
      "metadata": {
        "id": "va2I2kGQasIw"
      },
      "source": [
        "# If ts not available we need to install . put other packages if you need.\n",
        "packages <- c(\"googledrive\", \"googlesheets4\")\n",
        "if (length(setdiff(packages, rownames(installed.packages()))) > 0) {\n",
        "  install.packages(setdiff(packages, rownames(installed.packages())))  \n",
        "}"
      ],
      "execution_count": null,
      "outputs": []
    },
    {
      "cell_type": "code",
      "metadata": {
        "colab": {
          "base_uri": "https://localhost:8080/"
        },
        "id": "1S362jWsawQ-",
        "outputId": "e8db4207-839b-4bce-9b14-d2a37d46425a"
      },
      "source": [
        "library(\"googledrive\")\n",
        "library(\"googlesheets4\")"
      ],
      "execution_count": null,
      "outputs": [
        {
          "output_type": "stream",
          "text": [
            "\n",
            "Attaching package: ‘googlesheets4’\n",
            "\n",
            "\n",
            "The following objects are masked from ‘package:googledrive’:\n",
            "\n",
            "    request_generate, request_make\n",
            "\n",
            "\n"
          ],
          "name": "stderr"
        }
      ]
    },
    {
      "cell_type": "code",
      "metadata": {
        "colab": {
          "base_uri": "https://localhost:8080/"
        },
        "id": "IyDQWX6may1K",
        "outputId": "97fde739-e7a0-4911-ff1e-29e1f1413cdd"
      },
      "source": [
        "# call authentication forcing interactive login and save in cache. \n",
        "drive_auth(use_oob = TRUE, cache = TRUE)"
      ],
      "execution_count": null,
      "outputs": [
        {
          "output_type": "stream",
          "text": [
            "Please point your browser to the following url: \n",
            "\n",
            "https://accounts.google.com/o/oauth2/auth?client_id=603366585132-dpeg5tt0et3go5of2374d83ifevk5086.apps.googleusercontent.com&scope=https%3A%2F%2Fwww.googleapis.com%2Fauth%2Fdrive%20https%3A%2F%2Fwww.googleapis.com%2Fauth%2Fuserinfo.email&redirect_uri=urn%3Aietf%3Awg%3Aoauth%3A2.0%3Aoob&response_type=code\n",
            "\n"
          ],
          "name": "stderr"
        },
        {
          "output_type": "stream",
          "text": [
            "Enter authorization code: 4/1AY0e-g4n_EDtK9GNMepvIbNLQ69ZyLI7Vt3FtH77B49hMy_4083dKxXU4M8\n"
          ],
          "name": "stdout"
        }
      ]
    },
    {
      "cell_type": "code",
      "metadata": {
        "id": "VHB7jRfca8T6"
      },
      "source": [
        "# Find Google Sheets anf get the id of the first sheet \n",
        "Sheets <- drive_find(type = \"spreadsheet\")\n",
        "first_id <- Sheets$id[1]"
      ],
      "execution_count": null,
      "outputs": []
    },
    {
      "cell_type": "code",
      "metadata": {
        "colab": {
          "base_uri": "https://localhost:8080/"
        },
        "id": "xWH8JGGObArO",
        "outputId": "c4dcb157-d7ce-4c9f-f919-84fef2d8eda6"
      },
      "source": [
        "# reuse token to Sheet Auth. \n",
        "sheets_auth(token = drive_token())"
      ],
      "execution_count": null,
      "outputs": [
        {
          "output_type": "stream",
          "text": [
            "Warning message:\n",
            "“`sheets_auth()` was deprecated in googlesheets4 0.2.0.\n",
            "Please use `gs4_auth()` instead.\n",
            "\u001b[90mThis warning is displayed once every 8 hours.\u001b[39m\n",
            "\u001b[90mCall `lifecycle::last_warnings()` to see where this warning was generated.\u001b[39m”\n"
          ],
          "name": "stderr"
        }
      ]
    },
    {
      "cell_type": "code",
      "metadata": {
        "colab": {
          "base_uri": "https://localhost:8080/",
          "height": 1000
        },
        "id": "VCko-jGkbDnG",
        "outputId": "1296780d-d0af-4af2-ba20-3d3e0eabbc82"
      },
      "source": [
        "# show data\n",
        "sheets_read(first_id)"
      ],
      "execution_count": null,
      "outputs": [
        {
          "output_type": "stream",
          "text": [
            "Warning message:\n",
            "“`sheets_read()` was deprecated in googlesheets4 0.2.0.\n",
            "Please use `range_read()` instead.\n",
            "\u001b[90mThis warning is displayed once every 8 hours.\u001b[39m\n",
            "\u001b[90mCall `lifecycle::last_warnings()` to see where this warning was generated.\u001b[39m”\n",
            "Reading from \"gu_usage\"\n",
            "\n",
            "Range \"gu_usage\"\n",
            "\n"
          ],
          "name": "stderr"
        },
        {
          "output_type": "display_data",
          "data": {
            "text/plain": [
              "    province gu       gu_eng       date       count \n",
              "1   서울     종로구   Jongno       2020-07-01  85935\n",
              "2   서울     중구     Jung         2020-07-01  52417\n",
              "3   서울     용산구   Yongsan      2020-07-01  58354\n",
              "4   서울     성동구   Seongdong    2020-07-01 106216\n",
              "5   서울     광진구   Kwangjin     2020-07-01 125735\n",
              "6   서울     동대문구 Dongdaemun   2020-07-01  93487\n",
              "7   서울     중랑구   Jungnang     2020-07-01  76841\n",
              "8   서울     성북구   Seongbuk     2020-07-01  81364\n",
              "9   서울     강북구   Gangbuk      2020-07-01  54503\n",
              "10  서울     도봉구   Dobong       2020-07-01  58420\n",
              "11  서울     노원구   Nowon        2020-07-01 157281\n",
              "12  서울     은평구   Eunpyeong    2020-07-01  81923\n",
              "13  서울     서대문구 Seodaemun    2020-07-01  65144\n",
              "14  서울     마포구   Mapo         2020-07-01 155009\n",
              "15  서울     양천구   Yangcheon    2020-07-01 119956\n",
              "16  서울     강서구   Gangseo      2020-07-01 224984\n",
              "17  서울     구로구   Guro         2020-07-01 106619\n",
              "18  서울     금천구   Geumcheon    2020-07-01  43940\n",
              "19  서울     영등포구 Yeongdeungpo 2020-07-01 209515\n",
              "20  서울     동작구   Dongjak      2020-07-01  67929\n",
              "21  서울     관악구   Gwanak       2020-07-01  92451\n",
              "22  서울     서초구   Seocho       2020-07-01 101631\n",
              "23  서울     강남구   Gangnam      2020-07-01  79194\n",
              "24  서울     송파구   Songpa       2020-07-01 185529\n",
              "25  서울     강동구   Gangdong     2020-07-01  97719\n",
              "26  서울     종로구   Jongno       2020-08-01  65729\n",
              "27  서울     중구     Jung         2020-08-01  40401\n",
              "28  서울     용산구   Yongsan      2020-08-01  36762\n",
              "29  서울     성동구   Seongdong    2020-08-01  65323\n",
              "30  서울     광진구   Kwangjin     2020-08-01  75051\n",
              "⋮   ⋮        ⋮        ⋮            ⋮          ⋮     \n",
              "146 서울     관악구   Gwanak       2020-12-01 41420 \n",
              "147 서울     서초구   Seocho       2020-12-01 43259 \n",
              "148 서울     강남구   Gangnam      2020-12-01 38004 \n",
              "149 서울     송파구   Songpa       2020-12-01 85064 \n",
              "150 서울     강동구   Gangdong     2020-12-01 42373 \n",
              "151 서울     종로구   Jongno       2021-01-01 35643 \n",
              "152 서울     중구     Jung         2021-01-01 20396 \n",
              "153 서울     용산구   Yongsan      2021-01-01 18203 \n",
              "154 서울     성동구   Seongdong    2021-01-01 35822 \n",
              "155 서울     광진구   Kwangjin     2021-01-01 38357 \n",
              "156 서울     동대문구 Dongdaemun   2021-01-01 33426 \n",
              "157 서울     중랑구   Jungnang     2021-01-01 22773 \n",
              "158 서울     성북구   Seongbuk     2021-01-01 26138 \n",
              "159 서울     강북구   Gangbuk      2021-01-01 16101 \n",
              "160 서울     도봉구   Dobong       2021-01-01 16620 \n",
              "161 서울     노원구   Nowon        2021-01-01 41994 \n",
              "162 서울     은평구   Eunpyeong    2021-01-01 25442 \n",
              "163 서울     서대문구 Seodaemun    2021-01-01 23065 \n",
              "164 서울     마포구   Mapo         2021-01-01 48660 \n",
              "165 서울     양천구   Yangcheon    2021-01-01 43330 \n",
              "166 서울     강서구   Gangseo      2021-01-01 75019 \n",
              "167 서울     구로구   Guro         2021-01-01 31633 \n",
              "168 서울     금천구   Geumcheon    2021-01-01 13494 \n",
              "169 서울     영등포구 Yeongdeungpo 2021-01-01 64359 \n",
              "170 서울     동작구   Dongjak      2021-01-01 18950 \n",
              "171 서울     관악구   Gwanak       2021-01-01 27457 \n",
              "172 서울     서초구   Seocho       2021-01-01 29483 \n",
              "173 서울     강남구   Gangnam      2021-01-01 24706 \n",
              "174 서울     송파구   Songpa       2021-01-01 54819 \n",
              "175 서울     강동구   Gangdong     2021-01-01 26158 "
            ],
            "text/latex": "A tibble: 175 × 5\n\\begin{tabular}{lllll}\n province & gu & gu\\_eng & date & count\\\\\n <chr> & <chr> & <chr> & <dttm> & <dbl>\\\\\n\\hline\n\t 서울 & 종로구   & Jongno       & 2020-07-01 &  85935\\\\\n\t 서울 & 중구     & Jung         & 2020-07-01 &  52417\\\\\n\t 서울 & 용산구   & Yongsan      & 2020-07-01 &  58354\\\\\n\t 서울 & 성동구   & Seongdong    & 2020-07-01 & 106216\\\\\n\t 서울 & 광진구   & Kwangjin     & 2020-07-01 & 125735\\\\\n\t 서울 & 동대문구 & Dongdaemun   & 2020-07-01 &  93487\\\\\n\t 서울 & 중랑구   & Jungnang     & 2020-07-01 &  76841\\\\\n\t 서울 & 성북구   & Seongbuk     & 2020-07-01 &  81364\\\\\n\t 서울 & 강북구   & Gangbuk      & 2020-07-01 &  54503\\\\\n\t 서울 & 도봉구   & Dobong       & 2020-07-01 &  58420\\\\\n\t 서울 & 노원구   & Nowon        & 2020-07-01 & 157281\\\\\n\t 서울 & 은평구   & Eunpyeong    & 2020-07-01 &  81923\\\\\n\t 서울 & 서대문구 & Seodaemun    & 2020-07-01 &  65144\\\\\n\t 서울 & 마포구   & Mapo         & 2020-07-01 & 155009\\\\\n\t 서울 & 양천구   & Yangcheon    & 2020-07-01 & 119956\\\\\n\t 서울 & 강서구   & Gangseo      & 2020-07-01 & 224984\\\\\n\t 서울 & 구로구   & Guro         & 2020-07-01 & 106619\\\\\n\t 서울 & 금천구   & Geumcheon    & 2020-07-01 &  43940\\\\\n\t 서울 & 영등포구 & Yeongdeungpo & 2020-07-01 & 209515\\\\\n\t 서울 & 동작구   & Dongjak      & 2020-07-01 &  67929\\\\\n\t 서울 & 관악구   & Gwanak       & 2020-07-01 &  92451\\\\\n\t 서울 & 서초구   & Seocho       & 2020-07-01 & 101631\\\\\n\t 서울 & 강남구   & Gangnam      & 2020-07-01 &  79194\\\\\n\t 서울 & 송파구   & Songpa       & 2020-07-01 & 185529\\\\\n\t 서울 & 강동구   & Gangdong     & 2020-07-01 &  97719\\\\\n\t 서울 & 종로구   & Jongno       & 2020-08-01 &  65729\\\\\n\t 서울 & 중구     & Jung         & 2020-08-01 &  40401\\\\\n\t 서울 & 용산구   & Yongsan      & 2020-08-01 &  36762\\\\\n\t 서울 & 성동구   & Seongdong    & 2020-08-01 &  65323\\\\\n\t 서울 & 광진구   & Kwangjin     & 2020-08-01 &  75051\\\\\n\t ⋮ & ⋮ & ⋮ & ⋮ & ⋮\\\\\n\t 서울 & 관악구   & Gwanak       & 2020-12-01 & 41420\\\\\n\t 서울 & 서초구   & Seocho       & 2020-12-01 & 43259\\\\\n\t 서울 & 강남구   & Gangnam      & 2020-12-01 & 38004\\\\\n\t 서울 & 송파구   & Songpa       & 2020-12-01 & 85064\\\\\n\t 서울 & 강동구   & Gangdong     & 2020-12-01 & 42373\\\\\n\t 서울 & 종로구   & Jongno       & 2021-01-01 & 35643\\\\\n\t 서울 & 중구     & Jung         & 2021-01-01 & 20396\\\\\n\t 서울 & 용산구   & Yongsan      & 2021-01-01 & 18203\\\\\n\t 서울 & 성동구   & Seongdong    & 2021-01-01 & 35822\\\\\n\t 서울 & 광진구   & Kwangjin     & 2021-01-01 & 38357\\\\\n\t 서울 & 동대문구 & Dongdaemun   & 2021-01-01 & 33426\\\\\n\t 서울 & 중랑구   & Jungnang     & 2021-01-01 & 22773\\\\\n\t 서울 & 성북구   & Seongbuk     & 2021-01-01 & 26138\\\\\n\t 서울 & 강북구   & Gangbuk      & 2021-01-01 & 16101\\\\\n\t 서울 & 도봉구   & Dobong       & 2021-01-01 & 16620\\\\\n\t 서울 & 노원구   & Nowon        & 2021-01-01 & 41994\\\\\n\t 서울 & 은평구   & Eunpyeong    & 2021-01-01 & 25442\\\\\n\t 서울 & 서대문구 & Seodaemun    & 2021-01-01 & 23065\\\\\n\t 서울 & 마포구   & Mapo         & 2021-01-01 & 48660\\\\\n\t 서울 & 양천구   & Yangcheon    & 2021-01-01 & 43330\\\\\n\t 서울 & 강서구   & Gangseo      & 2021-01-01 & 75019\\\\\n\t 서울 & 구로구   & Guro         & 2021-01-01 & 31633\\\\\n\t 서울 & 금천구   & Geumcheon    & 2021-01-01 & 13494\\\\\n\t 서울 & 영등포구 & Yeongdeungpo & 2021-01-01 & 64359\\\\\n\t 서울 & 동작구   & Dongjak      & 2021-01-01 & 18950\\\\\n\t 서울 & 관악구   & Gwanak       & 2021-01-01 & 27457\\\\\n\t 서울 & 서초구   & Seocho       & 2021-01-01 & 29483\\\\\n\t 서울 & 강남구   & Gangnam      & 2021-01-01 & 24706\\\\\n\t 서울 & 송파구   & Songpa       & 2021-01-01 & 54819\\\\\n\t 서울 & 강동구   & Gangdong     & 2021-01-01 & 26158\\\\\n\\end{tabular}\n",
            "text/markdown": "\nA tibble: 175 × 5\n\n| province &lt;chr&gt; | gu &lt;chr&gt; | gu_eng &lt;chr&gt; | date &lt;dttm&gt; | count &lt;dbl&gt; |\n|---|---|---|---|---|\n| 서울 | 종로구   | Jongno       | 2020-07-01 |  85935 |\n| 서울 | 중구     | Jung         | 2020-07-01 |  52417 |\n| 서울 | 용산구   | Yongsan      | 2020-07-01 |  58354 |\n| 서울 | 성동구   | Seongdong    | 2020-07-01 | 106216 |\n| 서울 | 광진구   | Kwangjin     | 2020-07-01 | 125735 |\n| 서울 | 동대문구 | Dongdaemun   | 2020-07-01 |  93487 |\n| 서울 | 중랑구   | Jungnang     | 2020-07-01 |  76841 |\n| 서울 | 성북구   | Seongbuk     | 2020-07-01 |  81364 |\n| 서울 | 강북구   | Gangbuk      | 2020-07-01 |  54503 |\n| 서울 | 도봉구   | Dobong       | 2020-07-01 |  58420 |\n| 서울 | 노원구   | Nowon        | 2020-07-01 | 157281 |\n| 서울 | 은평구   | Eunpyeong    | 2020-07-01 |  81923 |\n| 서울 | 서대문구 | Seodaemun    | 2020-07-01 |  65144 |\n| 서울 | 마포구   | Mapo         | 2020-07-01 | 155009 |\n| 서울 | 양천구   | Yangcheon    | 2020-07-01 | 119956 |\n| 서울 | 강서구   | Gangseo      | 2020-07-01 | 224984 |\n| 서울 | 구로구   | Guro         | 2020-07-01 | 106619 |\n| 서울 | 금천구   | Geumcheon    | 2020-07-01 |  43940 |\n| 서울 | 영등포구 | Yeongdeungpo | 2020-07-01 | 209515 |\n| 서울 | 동작구   | Dongjak      | 2020-07-01 |  67929 |\n| 서울 | 관악구   | Gwanak       | 2020-07-01 |  92451 |\n| 서울 | 서초구   | Seocho       | 2020-07-01 | 101631 |\n| 서울 | 강남구   | Gangnam      | 2020-07-01 |  79194 |\n| 서울 | 송파구   | Songpa       | 2020-07-01 | 185529 |\n| 서울 | 강동구   | Gangdong     | 2020-07-01 |  97719 |\n| 서울 | 종로구   | Jongno       | 2020-08-01 |  65729 |\n| 서울 | 중구     | Jung         | 2020-08-01 |  40401 |\n| 서울 | 용산구   | Yongsan      | 2020-08-01 |  36762 |\n| 서울 | 성동구   | Seongdong    | 2020-08-01 |  65323 |\n| 서울 | 광진구   | Kwangjin     | 2020-08-01 |  75051 |\n| ⋮ | ⋮ | ⋮ | ⋮ | ⋮ |\n| 서울 | 관악구   | Gwanak       | 2020-12-01 | 41420 |\n| 서울 | 서초구   | Seocho       | 2020-12-01 | 43259 |\n| 서울 | 강남구   | Gangnam      | 2020-12-01 | 38004 |\n| 서울 | 송파구   | Songpa       | 2020-12-01 | 85064 |\n| 서울 | 강동구   | Gangdong     | 2020-12-01 | 42373 |\n| 서울 | 종로구   | Jongno       | 2021-01-01 | 35643 |\n| 서울 | 중구     | Jung         | 2021-01-01 | 20396 |\n| 서울 | 용산구   | Yongsan      | 2021-01-01 | 18203 |\n| 서울 | 성동구   | Seongdong    | 2021-01-01 | 35822 |\n| 서울 | 광진구   | Kwangjin     | 2021-01-01 | 38357 |\n| 서울 | 동대문구 | Dongdaemun   | 2021-01-01 | 33426 |\n| 서울 | 중랑구   | Jungnang     | 2021-01-01 | 22773 |\n| 서울 | 성북구   | Seongbuk     | 2021-01-01 | 26138 |\n| 서울 | 강북구   | Gangbuk      | 2021-01-01 | 16101 |\n| 서울 | 도봉구   | Dobong       | 2021-01-01 | 16620 |\n| 서울 | 노원구   | Nowon        | 2021-01-01 | 41994 |\n| 서울 | 은평구   | Eunpyeong    | 2021-01-01 | 25442 |\n| 서울 | 서대문구 | Seodaemun    | 2021-01-01 | 23065 |\n| 서울 | 마포구   | Mapo         | 2021-01-01 | 48660 |\n| 서울 | 양천구   | Yangcheon    | 2021-01-01 | 43330 |\n| 서울 | 강서구   | Gangseo      | 2021-01-01 | 75019 |\n| 서울 | 구로구   | Guro         | 2021-01-01 | 31633 |\n| 서울 | 금천구   | Geumcheon    | 2021-01-01 | 13494 |\n| 서울 | 영등포구 | Yeongdeungpo | 2021-01-01 | 64359 |\n| 서울 | 동작구   | Dongjak      | 2021-01-01 | 18950 |\n| 서울 | 관악구   | Gwanak       | 2021-01-01 | 27457 |\n| 서울 | 서초구   | Seocho       | 2021-01-01 | 29483 |\n| 서울 | 강남구   | Gangnam      | 2021-01-01 | 24706 |\n| 서울 | 송파구   | Songpa       | 2021-01-01 | 54819 |\n| 서울 | 강동구   | Gangdong     | 2021-01-01 | 26158 |\n\n",
            "text/html": [
              "<table class=\"dataframe\">\n",
              "<caption>A tibble: 175 × 5</caption>\n",
              "<thead>\n",
              "\t<tr><th scope=col>province</th><th scope=col>gu</th><th scope=col>gu_eng</th><th scope=col>date</th><th scope=col>count</th></tr>\n",
              "\t<tr><th scope=col>&lt;chr&gt;</th><th scope=col>&lt;chr&gt;</th><th scope=col>&lt;chr&gt;</th><th scope=col>&lt;dttm&gt;</th><th scope=col>&lt;dbl&gt;</th></tr>\n",
              "</thead>\n",
              "<tbody>\n",
              "\t<tr><td>서울</td><td>종로구  </td><td>Jongno      </td><td>2020-07-01</td><td> 85935</td></tr>\n",
              "\t<tr><td>서울</td><td>중구    </td><td>Jung        </td><td>2020-07-01</td><td> 52417</td></tr>\n",
              "\t<tr><td>서울</td><td>용산구  </td><td>Yongsan     </td><td>2020-07-01</td><td> 58354</td></tr>\n",
              "\t<tr><td>서울</td><td>성동구  </td><td>Seongdong   </td><td>2020-07-01</td><td>106216</td></tr>\n",
              "\t<tr><td>서울</td><td>광진구  </td><td>Kwangjin    </td><td>2020-07-01</td><td>125735</td></tr>\n",
              "\t<tr><td>서울</td><td>동대문구</td><td>Dongdaemun  </td><td>2020-07-01</td><td> 93487</td></tr>\n",
              "\t<tr><td>서울</td><td>중랑구  </td><td>Jungnang    </td><td>2020-07-01</td><td> 76841</td></tr>\n",
              "\t<tr><td>서울</td><td>성북구  </td><td>Seongbuk    </td><td>2020-07-01</td><td> 81364</td></tr>\n",
              "\t<tr><td>서울</td><td>강북구  </td><td>Gangbuk     </td><td>2020-07-01</td><td> 54503</td></tr>\n",
              "\t<tr><td>서울</td><td>도봉구  </td><td>Dobong      </td><td>2020-07-01</td><td> 58420</td></tr>\n",
              "\t<tr><td>서울</td><td>노원구  </td><td>Nowon       </td><td>2020-07-01</td><td>157281</td></tr>\n",
              "\t<tr><td>서울</td><td>은평구  </td><td>Eunpyeong   </td><td>2020-07-01</td><td> 81923</td></tr>\n",
              "\t<tr><td>서울</td><td>서대문구</td><td>Seodaemun   </td><td>2020-07-01</td><td> 65144</td></tr>\n",
              "\t<tr><td>서울</td><td>마포구  </td><td>Mapo        </td><td>2020-07-01</td><td>155009</td></tr>\n",
              "\t<tr><td>서울</td><td>양천구  </td><td>Yangcheon   </td><td>2020-07-01</td><td>119956</td></tr>\n",
              "\t<tr><td>서울</td><td>강서구  </td><td>Gangseo     </td><td>2020-07-01</td><td>224984</td></tr>\n",
              "\t<tr><td>서울</td><td>구로구  </td><td>Guro        </td><td>2020-07-01</td><td>106619</td></tr>\n",
              "\t<tr><td>서울</td><td>금천구  </td><td>Geumcheon   </td><td>2020-07-01</td><td> 43940</td></tr>\n",
              "\t<tr><td>서울</td><td>영등포구</td><td>Yeongdeungpo</td><td>2020-07-01</td><td>209515</td></tr>\n",
              "\t<tr><td>서울</td><td>동작구  </td><td>Dongjak     </td><td>2020-07-01</td><td> 67929</td></tr>\n",
              "\t<tr><td>서울</td><td>관악구  </td><td>Gwanak      </td><td>2020-07-01</td><td> 92451</td></tr>\n",
              "\t<tr><td>서울</td><td>서초구  </td><td>Seocho      </td><td>2020-07-01</td><td>101631</td></tr>\n",
              "\t<tr><td>서울</td><td>강남구  </td><td>Gangnam     </td><td>2020-07-01</td><td> 79194</td></tr>\n",
              "\t<tr><td>서울</td><td>송파구  </td><td>Songpa      </td><td>2020-07-01</td><td>185529</td></tr>\n",
              "\t<tr><td>서울</td><td>강동구  </td><td>Gangdong    </td><td>2020-07-01</td><td> 97719</td></tr>\n",
              "\t<tr><td>서울</td><td>종로구  </td><td>Jongno      </td><td>2020-08-01</td><td> 65729</td></tr>\n",
              "\t<tr><td>서울</td><td>중구    </td><td>Jung        </td><td>2020-08-01</td><td> 40401</td></tr>\n",
              "\t<tr><td>서울</td><td>용산구  </td><td>Yongsan     </td><td>2020-08-01</td><td> 36762</td></tr>\n",
              "\t<tr><td>서울</td><td>성동구  </td><td>Seongdong   </td><td>2020-08-01</td><td> 65323</td></tr>\n",
              "\t<tr><td>서울</td><td>광진구  </td><td>Kwangjin    </td><td>2020-08-01</td><td> 75051</td></tr>\n",
              "\t<tr><td>⋮</td><td>⋮</td><td>⋮</td><td>⋮</td><td>⋮</td></tr>\n",
              "\t<tr><td>서울</td><td>관악구  </td><td>Gwanak      </td><td>2020-12-01</td><td>41420</td></tr>\n",
              "\t<tr><td>서울</td><td>서초구  </td><td>Seocho      </td><td>2020-12-01</td><td>43259</td></tr>\n",
              "\t<tr><td>서울</td><td>강남구  </td><td>Gangnam     </td><td>2020-12-01</td><td>38004</td></tr>\n",
              "\t<tr><td>서울</td><td>송파구  </td><td>Songpa      </td><td>2020-12-01</td><td>85064</td></tr>\n",
              "\t<tr><td>서울</td><td>강동구  </td><td>Gangdong    </td><td>2020-12-01</td><td>42373</td></tr>\n",
              "\t<tr><td>서울</td><td>종로구  </td><td>Jongno      </td><td>2021-01-01</td><td>35643</td></tr>\n",
              "\t<tr><td>서울</td><td>중구    </td><td>Jung        </td><td>2021-01-01</td><td>20396</td></tr>\n",
              "\t<tr><td>서울</td><td>용산구  </td><td>Yongsan     </td><td>2021-01-01</td><td>18203</td></tr>\n",
              "\t<tr><td>서울</td><td>성동구  </td><td>Seongdong   </td><td>2021-01-01</td><td>35822</td></tr>\n",
              "\t<tr><td>서울</td><td>광진구  </td><td>Kwangjin    </td><td>2021-01-01</td><td>38357</td></tr>\n",
              "\t<tr><td>서울</td><td>동대문구</td><td>Dongdaemun  </td><td>2021-01-01</td><td>33426</td></tr>\n",
              "\t<tr><td>서울</td><td>중랑구  </td><td>Jungnang    </td><td>2021-01-01</td><td>22773</td></tr>\n",
              "\t<tr><td>서울</td><td>성북구  </td><td>Seongbuk    </td><td>2021-01-01</td><td>26138</td></tr>\n",
              "\t<tr><td>서울</td><td>강북구  </td><td>Gangbuk     </td><td>2021-01-01</td><td>16101</td></tr>\n",
              "\t<tr><td>서울</td><td>도봉구  </td><td>Dobong      </td><td>2021-01-01</td><td>16620</td></tr>\n",
              "\t<tr><td>서울</td><td>노원구  </td><td>Nowon       </td><td>2021-01-01</td><td>41994</td></tr>\n",
              "\t<tr><td>서울</td><td>은평구  </td><td>Eunpyeong   </td><td>2021-01-01</td><td>25442</td></tr>\n",
              "\t<tr><td>서울</td><td>서대문구</td><td>Seodaemun   </td><td>2021-01-01</td><td>23065</td></tr>\n",
              "\t<tr><td>서울</td><td>마포구  </td><td>Mapo        </td><td>2021-01-01</td><td>48660</td></tr>\n",
              "\t<tr><td>서울</td><td>양천구  </td><td>Yangcheon   </td><td>2021-01-01</td><td>43330</td></tr>\n",
              "\t<tr><td>서울</td><td>강서구  </td><td>Gangseo     </td><td>2021-01-01</td><td>75019</td></tr>\n",
              "\t<tr><td>서울</td><td>구로구  </td><td>Guro        </td><td>2021-01-01</td><td>31633</td></tr>\n",
              "\t<tr><td>서울</td><td>금천구  </td><td>Geumcheon   </td><td>2021-01-01</td><td>13494</td></tr>\n",
              "\t<tr><td>서울</td><td>영등포구</td><td>Yeongdeungpo</td><td>2021-01-01</td><td>64359</td></tr>\n",
              "\t<tr><td>서울</td><td>동작구  </td><td>Dongjak     </td><td>2021-01-01</td><td>18950</td></tr>\n",
              "\t<tr><td>서울</td><td>관악구  </td><td>Gwanak      </td><td>2021-01-01</td><td>27457</td></tr>\n",
              "\t<tr><td>서울</td><td>서초구  </td><td>Seocho      </td><td>2021-01-01</td><td>29483</td></tr>\n",
              "\t<tr><td>서울</td><td>강남구  </td><td>Gangnam     </td><td>2021-01-01</td><td>24706</td></tr>\n",
              "\t<tr><td>서울</td><td>송파구  </td><td>Songpa      </td><td>2021-01-01</td><td>54819</td></tr>\n",
              "\t<tr><td>서울</td><td>강동구  </td><td>Gangdong    </td><td>2021-01-01</td><td>26158</td></tr>\n",
              "</tbody>\n",
              "</table>\n"
            ]
          },
          "metadata": {
            "tags": []
          }
        }
      ]
    },
    {
      "cell_type": "markdown",
      "metadata": {
        "id": "0aNUPF33bKpu"
      },
      "source": [
        "# **데이터 정리** "
      ]
    },
    {
      "cell_type": "markdown",
      "metadata": {
        "id": "z51PzBI0jDPJ"
      },
      "source": [
        "## R 코드"
      ]
    },
    {
      "cell_type": "markdown",
      "metadata": {
        "id": "6hamupefGEmH"
      },
      "source": [
        "![image.png](data:image/png;base64,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)"
      ]
    },
    {
      "cell_type": "code",
      "metadata": {
        "id": "_Z3m2Nq1OsB9"
      },
      "source": [
        "\n",
        "\n",
        "#################################################################################\n",
        "#################################################################################\n",
        "R 코드 ##########################################################################\n",
        "#################################################################################\n",
        "#################################################################################\n",
        "\n",
        "\n",
        "\n",
        "pop <- read.csv(\"C:/Users/WIN10/성민지/데이터_5차/(중복)2019_전주시 동별 인구.csv\")\n",
        "rest <- read.csv(\"C:/Users/WIN10/성민지/데이터_5차/(중복)동별 음식점 및 주점업 사업체수(2018).csv\")\n",
        "bicycle <- read.csv(\"C:/Users/WIN10/성민지/데이터_5차/(행정동)12_04_03_E_자전거보관소정보.csv\")\n",
        "bigstore <- read.csv(\"C:/Users/WIN10/성민지/데이터_5차/(행정동)대규모점포현황_2020.csv\")\n",
        "cvstore <- read.csv(\"C:/Users/WIN10/성민지/데이터_5차/(행정동)동별 체인화 편의점 + 사업체수 (2018년).csv\")\n",
        "univ <- read.csv(\"C:/Users/WIN10/성민지/데이터_5차/(행정동)전주시 대학교.csv\")\n",
        "region <- read.csv(\"C:/Users/WIN10/성민지/데이터_5차/(행정동)전주시 행정동 면적.csv\")\n",
        "x <- read.csv(\"C:/Users/WIN10/성민지/데이터_5차/전북 상권정보.csv\")\n",
        "bus <- read.csv(\"C:/Users/WIN10/성민지/데이터_5차/전라북도 전주시_버스 정류장 현황_20210426.csv\")\n",
        "park <- read.csv(\"C:/Users/WIN10/성민지/데이터_5차/park.csv\")\n",
        "scooter <- read.csv(\"C:/Users/WIN10/성민지/데이터_5차/(행정동)PM_210509_0시.csv\")\n",
        "\n",
        "\n",
        "jjdong <- read.csv(\"C:/Users/WIN10/성민지/데이터_5차/전주 행정동_가나다순.csv\")\n",
        "jjdong <- jjdong$행정동\n",
        "str(jjdong)\n",
        "head(jjdong)\n",
        "\n",
        "library(dplyr)\n",
        "library(stringr)\n",
        "\n",
        "\n",
        "###############################################\n",
        "# 인구수 ######################################\n",
        "###############################################\n",
        "\n",
        "str(pop)\n",
        "head(pop)\n",
        "pop <- pop[,c(2,3)]\n",
        "names(pop) <- c(\"행정동\", \"인구수\")\n",
        "\n",
        "table(pop$행정동 %in% jjdong)\n",
        "table(jjdong %in% pop$행정동)\n",
        "\n",
        "pop$행정동[pop$행정동 %in% jjdong == FALSE] #jjdong에는 없는 pop의 행정동\n",
        "jjdong[jjdong %in% pop$행정동 == FALSE] #pop에는 없는 jjdong의 행정동\n",
        "\n",
        "pop$행정동[which(pop$행정동 == \"동산동\")] <- \"여의동\" ## 19년 8월에 동산동을 여의동으로 변경, https://www.hani.co.kr/arti/area/honam/905848.html?_fr=mt2\n",
        "pop <- arrange(pop, pop$행정동)\n",
        "pop\n",
        "\n",
        "\n",
        "\n",
        "###############################################\n",
        "# 음식점수 ####################################\n",
        "###############################################\n",
        "\n",
        "str(rest)\n",
        "head(rest)\n",
        "\n",
        "rest <- rest[,c(2,4)]\n",
        "names(rest) <- c(\"행정동\", \"음식점수\")\n",
        "\n",
        "table(rest$행정동 %in% jjdong)\n",
        "table(jjdong %in% rest$행정동)\n",
        "jjdong[jjdong %in% rest$행정동 == FALSE]\n",
        "\n",
        "rest <- arrange(rest, rest$행정동)\n",
        "rest\n",
        "\n",
        "\n",
        "\n",
        "###############################################\n",
        "# 자전거 보관대 수 ############################\n",
        "###############################################\n",
        "\n",
        "str(bicycle)\n",
        "head(bicycle)\n",
        "\n",
        "bicycle <- bicycle[, 1:8]\n",
        "bicycle1 <- bicycle %>% group_by(행정동) %>% summarise(자전거보관대수 = sum(보관대수))\n",
        "bicycle1 <- as.data.frame(bicycle1)\n",
        "\n",
        "table(bicycle1$행정동 %in% jjdong)\n",
        "table(jjdong %in% bicycle1$행정동)\n",
        "jjdong[jjdong %in% bicycle1$행정동 == FALSE]\n",
        "\n",
        "add <- data.frame(행정동 = jjdong[jjdong %in% bicycle1$행정동 == FALSE], \n",
        "                     자전거보관대수 = rep(median(bicycle1$자전거보관대수), times = length(jjdong[jjdong %in% bicycle1$행정동 == FALSE])))\n",
        "bicycle1 <- rbind(bicycle1, add)\n",
        "bicycle1 <- arrange(bicycle1, bicycle1$행정동)\n",
        "bicycle1\n",
        "\n",
        "\n",
        "\n",
        "\n",
        "###############################################\n",
        "# 대규모점포 수 ###############################\n",
        "###############################################\n",
        "\n",
        "str(bigstore)\n",
        "head(bigstore)\n",
        "\n",
        "bigstore <- bigstore[,2:4]\n",
        "bigstore1 <- bigstore\n",
        "bigstore1$count <- rep(1,nrow(bigstore1))\n",
        "\n",
        "bigstore1 <- bigstore1 %>% group_by(행정동) %>% summarise(대규모점포수 = sum(count))\n",
        "bigstore1 <- as.data.frame(bigstore1)\n",
        "\n",
        "table(bigstore1$행정동 %in% jjdong)\n",
        "table(jjdong %in% bigstore1$행정동)\n",
        "jjdong[jjdong %in% bigstore1$행정동 == FALSE]\n",
        "\n",
        "add <- data.frame(행정동 = jjdong[jjdong %in% bigstore1$행정동 == FALSE], \n",
        "                     대규모점포수 = rep(0, length(jjdong[jjdong %in% bigstore1$행정동 == FALSE])))\n",
        "bigstore1 <- rbind(bigstore1, add)\n",
        "bigstore1 <- arrange(bigstore1, bigstore1$행정동)\n",
        "bigstore1\n",
        "\n",
        "\n",
        "\n",
        "###############################################\n",
        "# 편의점 수 ###################################\n",
        "###############################################\n",
        "\n",
        "#str(cvstore)\n",
        "#head(cvstore)\n",
        "#cvstore <- cvstore[,c(2,4)]\n",
        "#names(cvstore)[1] <- \"행정동\"\n",
        "#cvstore <- arrange(cvstore, cvstore$행정동)\n",
        "#table(cvstore$행정동 %in% jjdong)\n",
        "#table(jjdong %in% cvstore$행정동)\n",
        "#jjdong[jjdong %in% cvstore$행정동 == FALSE] #cvstore에는 없는 jjdong의 행정동\n",
        "#add <- data.frame(행정동 = jjdong[jjdong %in% cvstore$행정동 == FALSE], \n",
        "#                     편의점수 = rep(median(cvstore$편의점수), length(jjdong[jjdong %in% cvstore$행정동 == FALSE])))\n",
        "#cvstore<- rbind(cvstore, add)\n",
        "#cvstore <- arrange(cvstore, cvstore$행정동)\n",
        "#cvstore\n",
        "\n",
        "str(x)\n",
        "head(x)\n",
        "\n",
        "cvstore <- x[x$표준산업분류명 == \"체인화 편의점\", ]\n",
        "cvstore <- cvstore[grep(\"전주\", cvstore$시군구명), ]\n",
        "names(cvstore)\n",
        "cvstore <- cvstore[ , c(2, 3, 11, 17, 25, 32, 38, 39)]\n",
        "\n",
        "\n",
        "cvstore$행정동명[cvstore$행정동명 == \"동산동\"] <- \"여의동\"\n",
        "\n",
        "cvstore1 <- cvstore %>% group_by(행정동명) %>% summarise(편의점수 = length(상호명))\n",
        "cvstore1 <- cvstore1[-1,]\n",
        "cvstore1 <- as.data.frame(cvstore1)\n",
        "names(cvstore1)[1] <- \"행정동\"\n",
        "cvstore1\n",
        "\n",
        "\n",
        "\n",
        "\n",
        "###############################################\n",
        "# 대학교 수 ###################################\n",
        "###############################################\n",
        "\n",
        "\n",
        "str(univ)\n",
        "head(univ)\n",
        "univ1 <- univ\n",
        "univ1$count <- rep(1,nrow(univ1))\n",
        "univ1 <- univ1 %>% group_by(행정동) %>% summarise(대학교수 = sum(count))\n",
        "univ1 <- as.data.frame(univ1)\n",
        "\n",
        "table(univ1$행정동 %in% jjdong)\n",
        "table(jjdong %in% univ1$행정동)\n",
        "jjdong[jjdong %in% univ1$행정동 == FALSE] #univ에는 없는 jjdong의 행정동\n",
        "add <- data.frame(행정동 = jjdong[jjdong %in% univ1$행정동 == FALSE], \n",
        "                     대학교수 = rep(0, length(jjdong[jjdong %in% univ1$행정동 == FALSE])))\n",
        "univ1 <- rbind(univ1, add)\n",
        "univ1 <- arrange(univ1, univ1$행정동)\n",
        "univ1\n",
        "\n",
        "\n",
        "\n",
        "\n",
        "\n",
        "###############################################\n",
        "# 면적 ########################################\n",
        "###############################################\n",
        "\n",
        "str(region)\n",
        "head(region)\n",
        "region <- region[,c(2,3)]\n",
        "names(region) <- c(\"행정동\", \"면적.km\")\n",
        "region <- arrange(region, region$행정동)\n",
        "table(region$행정동 %in% jjdong)\n",
        "table(jjdong %in% region$행정동)\n",
        "region$행정동[region$행정동 %in% jjdong == FALSE] #jjdong에는 없는 region의 행정동 #이름 오류 있는 듯 (송청1동, 품남동)\n",
        "jjdong[jjdong %in% region$행정동 == FALSE] #region에는 없는 jjdong의 행정동\n",
        "region\n",
        "\n",
        "\n",
        "\n",
        "\n",
        "###############################################\n",
        "# 상점 수 #####################################\n",
        "###############################################\n",
        "\n",
        "str(x)\n",
        "head(x)\n",
        "\n",
        "store <- x[grep(\"전주\", x$시군구명), ]\n",
        "store <- store[ , c(2, 3, 5, 7, 11, 17, 25, 32, 38, 39)]\n",
        "\n",
        "store1 <- store %>% group_by(행정동명) %>% summarise(count = length(상호명))\n",
        "store1 <- as.data.frame(store1)\n",
        "store1 <- arrange(store1, store1$행정동명)\n",
        "names(store1) <- c(\"행정동\", \"상점개수\")\n",
        "\n",
        "table(jjdong %in% store1$행정동)\n",
        "table(store1$행정동 %in% jjdong)\n",
        "\n",
        "jjdong[jjdong %in% store1$행정동 == FALSE] #store에는 없는 jjdong의 행정동\n",
        "store1$행정동[store1$행정동 %in% jjdong == FALSE] #jjdong에는 없는 store의 행정동\n",
        "\n",
        "which(store1$행정동 %in% jjdong == FALSE)\n",
        "store1[which(store1$행정동 %in% jjdong == FALSE), ]\n",
        "\n",
        "store1$행정동[which(store1$행정동 == \"동산동\")] <- \"여의동\"\n",
        "store1 <- store1 %>% group_by(행정동) %>% summarise(상점개수 = sum(상점개수))\n",
        "store1 <- as.data.frame(store1)\n",
        "store1 <- arrange(store1, store1$행정동)\n",
        "store1 <- store1[-1,]\n",
        "store1\n",
        "\n",
        "\n",
        "\n",
        "\n",
        "\n",
        "###############################################\n",
        "# 상권지수 ####################################\n",
        "###############################################\n",
        "\n",
        "\n",
        "options(digits = 4)\n",
        "store.rate <- store1$상점개수 / region$면적.km\n",
        "store.rate <- data.frame(행정동 = jjdong, 상권지수 = store.rate)\n",
        "store.rate\n",
        "\n",
        "\n",
        "\n",
        "###############################################\n",
        "# 상점 수 (음식점 제외) #######################\n",
        "###############################################\n",
        "\n",
        "str(x)\n",
        "head(x)\n",
        "str(store)\n",
        "head(store)\n",
        "\n",
        "store2 <- store[store$상권업종대분류명 != \"음식\", ]\n",
        "store2 <- store2 %>% group_by(행정동명) %>% summarise(count = length(상호명))\n",
        "store2 <- as.data.frame(store2)\n",
        "names(store2) <- c(\"행정동\", \"상점개수ㅍ\")\n",
        "\n",
        "table(jjdong %in% store2$행정동)\n",
        "table(store2$행정동 %in% jjdong)\n",
        "\n",
        "jjdong[jjdong %in% store2$행정동 == FALSE] #store2에는 없는 jjdong의 행정동\n",
        "store2$행정동[store2$행정동 %in% jjdong == FALSE] #jjdong에는 없는 store2의 행정동\n",
        "\n",
        "which(store2$행정동 %in% jjdong == FALSE)\n",
        "store2[which(store2$행정동 %in% jjdong == FALSE), ]\n",
        "\n",
        "store2$행정동[which(store2$행정동 == \"동산동\")] <- \"여의동\"\n",
        "store2 <- store2[-1,]\n",
        "store2 <- store2 %>% group_by(행정동) %>% summarise(상점개수.음식점제외 = sum(상점개수ㅍ))\n",
        "store2 <- as.data.frame(store2)\n",
        "store2 <- arrange(store2, store2$행정동)\n",
        "\n",
        "store2\n",
        "\n",
        "\n",
        "\n",
        "\n",
        "\n",
        "\n",
        "###############################################\n",
        "# 카페 수 #####################################\n",
        "###############################################\n",
        "\n",
        "str(x)\n",
        "head(x)\n",
        "str(store)\n",
        "head(store)\n",
        "\n",
        "store3 <- store[store$상권업종중분류명 == \"커피점/카페\", ]\n",
        "store3 <- store3 %>% group_by(행정동명) %>% summarise(count = length(상호명))\n",
        "store3 <- as.data.frame(store3)\n",
        "names(store3) <- c(\"행정동\", \"카페개수ㅍ\")\n",
        "\n",
        "table(jjdong %in% store3$행정동)\n",
        "table(store3$행정동 %in% jjdong)\n",
        "\n",
        "jjdong[jjdong %in% store3$행정동 == FALSE] #store3에는 없는 jjdong의 행정동\n",
        "store3$행정동[store3$행정동 %in% jjdong == FALSE] #jjdong에는 없는 store3의 행정동\n",
        "\n",
        "which(store3$행정동 %in% jjdong == FALSE)\n",
        "store3[which(store3$행정동 %in% jjdong == FALSE), ]\n",
        "\n",
        "store3$행정동[which(store3$행정동 == \"동산동\")] <- \"여의동\"\n",
        "store3 <- store3[-1,]\n",
        "store3 <- store3 %>% group_by(행정동) %>% summarise(카페개수 = sum(카페개수ㅍ))\n",
        "store3 <- as.data.frame(store3)\n",
        "store3 <- arrange(store3, store3$행정동)\n",
        "\n",
        "store3\n",
        "\n",
        "\n",
        "\n",
        "\n",
        "\n",
        "\n",
        "\n",
        "###############################################\n",
        "# 패스트푸드점 수 #############################\n",
        "###############################################\n",
        "\n",
        "str(x)\n",
        "head(x)\n",
        "str(store)\n",
        "head(store)\n",
        "\n",
        "View(store4)\n",
        "\n",
        "store4 <- store[store$상권업종중분류명 == \"패스트푸드\", ]\n",
        "store4 <- store4 %>% group_by(행정동명) %>% summarise(count = length(상호명))\n",
        "store4 <- as.data.frame(store4)\n",
        "names(store4) <- c(\"행정동\", \"패스트푸드점수ㅍ\")\n",
        "\n",
        "table(jjdong %in% store4$행정동)\n",
        "table(store4$행정동 %in% jjdong)\n",
        "\n",
        "jjdong[jjdong %in% store4$행정동 == FALSE] #store4에는 없는 jjdong의 행정동\n",
        "store4$행정동[store4$행정동 %in% jjdong == FALSE] #jjdong에는 없는 store4의 행정동\n",
        "\n",
        "add <- data.frame(행정동 = jjdong[jjdong %in% store4$행정동 == FALSE], \n",
        "                     패스트푸드점수ㅍ = rep(0, length(jjdong[jjdong %in% store4$행정동 == FALSE])))\n",
        "store4 <- rbind(store4, add)\n",
        "store4 <- arrange(store4, store4$행정동)\n",
        "\n",
        "store4$행정동[which(store4$행정동 == \"동산동\")] <- \"여의동\"\n",
        "store4 <- store4[-1,]\n",
        "store4 <- store4 %>% group_by(행정동) %>% summarise(패스트푸드점개수 = sum(패스트푸드점수ㅍ))\n",
        "store4 <- as.data.frame(store4)\n",
        "store4 <- arrange(store4, store4$행정동)\n",
        "\n",
        "store4\n",
        "\n",
        "\n",
        "\n",
        "###############################################\n",
        "# PC방/오락/당구장/볼링장 수 ##################\n",
        "###############################################\n",
        "\n",
        "str(x)\n",
        "head(x)\n",
        "str(store)\n",
        "head(store)\n",
        "\n",
        "store5 <- store[store$상권업종중분류명 == \"PC/오락/당구/볼링등\", ]\n",
        "store5 <- store5 %>% group_by(행정동명) %>% summarise(count = length(상호명))\n",
        "store5 <- as.data.frame(store5)\n",
        "names(store5) <- c(\"행정동\", \"오락시설개수ㅍ\")\n",
        "\n",
        "table(jjdong %in% store5$행정동)\n",
        "table(store5$행정동 %in% jjdong)\n",
        "\n",
        "jjdong[jjdong %in% store5$행정동 == FALSE] #store5에는 없는 jjdong의 행정동\n",
        "store5$행정동[store5$행정동 %in% jjdong == FALSE] #jjdong에는 없는 store5의 행정동\n",
        "\n",
        "add <- data.frame(행정동 = jjdong[jjdong %in% store5$행정동 == FALSE], \n",
        "                     오락시설개수ㅍ = rep(0, length(jjdong[jjdong %in% store5$행정동 == FALSE])))\n",
        "store5 <- rbind(store5, add)\n",
        "store5 <- arrange(store5, store5$행정동)\n",
        "\n",
        "store5$행정동[which(store5$행정동 == \"동산동\")] <- \"여의동\"\n",
        "store5 <- store5 %>% group_by(행정동) %>% summarise(오락시설개수 = sum(오락시설개수ㅍ))\n",
        "store5 <- as.data.frame(store5)\n",
        "store5 <- arrange(store5, store5$행정동)\n",
        "\n",
        "store5\n",
        "\n",
        "\n",
        "\n",
        "\n",
        "\n",
        "###############################################\n",
        "# 도서관/독서실 수 ############################\n",
        "###############################################\n",
        "\n",
        "str(x)\n",
        "head(x)\n",
        "str(store)\n",
        "head(store)\n",
        "\n",
        "store6 <- store[store$상권업종중분류명 == \"도서관/독서실\", ]\n",
        "store6 <- store6 %>% group_by(행정동명) %>% summarise(count = length(상호명))\n",
        "store6 <- as.data.frame(store6)\n",
        "names(store6) <- c(\"행정동\", \"도서관.독서실개수ㅍ\")\n",
        "\n",
        "table(jjdong %in% store6$행정동)\n",
        "table(store6$행정동 %in% jjdong)\n",
        "\n",
        "jjdong[jjdong %in% store6$행정동 == FALSE] #store6에는 없는 jjdong의 행정동\n",
        "store6$행정동[store6$행정동 %in% jjdong == FALSE] #jjdong에는 없는 store6의 행정동\n",
        "\n",
        "add <- data.frame(행정동 = jjdong[jjdong %in% store6$행정동 == FALSE], \n",
        "                     도서관.독서실개수ㅍ = rep(0, length(jjdong[jjdong %in% store6$행정동 == FALSE])))\n",
        "store6 <- rbind(store6, add)\n",
        "store6 <- arrange(store6, store6$행정동)\n",
        "\n",
        "store6$행정동[which(store6$행정동 == \"동산동\")] <- \"여의동\"\n",
        "store6 <- store6 %>% group_by(행정동) %>% summarise(도서관.독서실개수 = sum(도서관.독서실개수ㅍ))\n",
        "store6 <- as.data.frame(store6)\n",
        "store6 <- arrange(store6, store6$행정동)\n",
        "\n",
        "store6\n",
        "\n",
        "\n",
        "\n",
        "\n",
        "\n",
        "###############################################\n",
        "# 실내운동시설 수 #############################\n",
        "###############################################\n",
        "\n",
        "str(x)\n",
        "head(x)\n",
        "str(store)\n",
        "head(store)\n",
        "\n",
        "View(store7)\n",
        "\n",
        "store7 <- store[store$상권업종중분류명 == \"실내운동시설\", ]\n",
        "store7 <- store7 %>% group_by(행정동명) %>% summarise(count = length(상호명))\n",
        "store7 <- as.data.frame(store7)\n",
        "names(store7) <- c(\"행정동\", \"실내운동시설개수ㅍ\")\n",
        "\n",
        "table(jjdong %in% store7$행정동)\n",
        "table(store7$행정동 %in% jjdong)\n",
        "\n",
        "jjdong[jjdong %in% store7$행정동 == FALSE] #store7에는 없는 jjdong의 행정동\n",
        "store7$행정동[store7$행정동 %in% jjdong == FALSE] #jjdong에는 없는 store7의 행정동\n",
        "\n",
        "add <- data.frame(행정동 = jjdong[jjdong %in% store7$행정동 == FALSE], \n",
        "                     실내운동시설개수ㅍ = rep(0, length(jjdong[jjdong %in% store7$행정동 == FALSE])))\n",
        "store7 <- rbind(store7, add)\n",
        "store7 <- arrange(store7, store7$행정동)\n",
        "\n",
        "store7$행정동[which(store7$행정동 == \"동산동\")] <- \"여의동\"\n",
        "store7 <- store7 %>% group_by(행정동) %>% summarise(실내운동시설개수 = sum(실내운동시설개수ㅍ))\n",
        "store7 <- as.data.frame(store7)\n",
        "store7 <- arrange(store7, store7$행정동)\n",
        "\n",
        "store7\n",
        "\n",
        "\n",
        "\n",
        "\n",
        "###############################################\n",
        "# 이/미용/건강시설 수 #########################\n",
        "###############################################\n",
        "\n",
        "str(x)\n",
        "head(x)\n",
        "str(store)\n",
        "head(store)\n",
        "\n",
        "store8 <- store[store$상권업종중분류명 == \"이/미용/건강\", ]\n",
        "store8 <- store8 %>% group_by(행정동명) %>% summarise(count = length(상호명))\n",
        "store8 <- as.data.frame(store8)\n",
        "names(store8) <- c(\"행정동\", \"이.미용.건강시설개수ㅍ\")\n",
        "\n",
        "table(jjdong %in% store8$행정동)\n",
        "table(store8$행정동 %in% jjdong)\n",
        "\n",
        "jjdong[jjdong %in% store8$행정동 == FALSE] #store8에는 없는 jjdong의 행정동\n",
        "store8$행정동[store8$행정동 %in% jjdong == FALSE] #jjdong에는 없는 store8의 행정동\n",
        "\n",
        "#add <- data.frame(행정동 = jjdong[jjdong %in% store7$행정동 == FALSE], \n",
        "#                     실내운동시설개수ㅍ = rep(0, length(jjdong[jjdong %in% store7$행정동 == FALSE])))\n",
        "#store8 <- rbind(store8, add)\n",
        "#store8 <- arrange(store8, store8$행정동)\n",
        "\n",
        "store8$행정동[which(store8$행정동 == \"동산동\")] <- \"여의동\"\n",
        "store8 <- store8[-1,]\n",
        "store8 <- store8 %>% group_by(행정동) %>% summarise(이.미용.건강시설개수 = sum(이.미용.건강시설개수ㅍ))\n",
        "store8 <- as.data.frame(store8)\n",
        "store8 <- arrange(store8, store8$행정동)\n",
        "\n",
        "store8\n",
        "\n",
        "\n",
        "\n",
        "\n",
        "\n",
        "###############################################\n",
        "# 화장품소매점포 수 ###########################\n",
        "###############################################\n",
        "\n",
        "str(x)\n",
        "head(x)\n",
        "str(store)\n",
        "head(store)\n",
        "View(store9)\n",
        "\n",
        "store9 <- store[store$상권업종중분류명 == \"화장품소매\", ]\n",
        "store9 <- store9 %>% group_by(행정동명) %>% summarise(count = length(상호명))\n",
        "store9 <- as.data.frame(store9)\n",
        "names(store9) <- c(\"행정동\", \"화장품소매점포수ㅍ\")\n",
        "\n",
        "table(jjdong %in% store9$행정동)\n",
        "table(store9$행정동 %in% jjdong)\n",
        "\n",
        "jjdong[jjdong %in% store9$행정동 == FALSE] #store9에는 없는 jjdong의 행정동\n",
        "store9$행정동[store9$행정동 %in% jjdong == FALSE] #jjdong에는 없는 store9의 행정동\n",
        "\n",
        "add <- data.frame(행정동 = jjdong[jjdong %in% store9$행정동 == FALSE], \n",
        "                     화장품소매점포수ㅍ = rep(0, length(jjdong[jjdong %in% store9$행정동 == FALSE])))\n",
        "store9 <- rbind(store9, add)\n",
        "store9 <- arrange(store9, store9$행정동)\n",
        "\n",
        "store9$행정동[which(store9$행정동 == \"동산동\")] <- \"여의동\"\n",
        "store9 <- store9[-1,]\n",
        "store9 <- store9 %>% group_by(행정동) %>% summarise(화장품소매점포수 = sum(화장품소매점포수ㅍ))\n",
        "store9 <- as.data.frame(store9)\n",
        "store9 <- arrange(store9, store9$행정동)\n",
        "\n",
        "store9\n",
        "\n",
        "\n",
        "\n",
        "\n",
        "\n",
        "\n",
        "###############################################\n",
        "# 버스 정류장 수 ##############################\n",
        "###############################################\n",
        "\n",
        "options(digits = 9)\n",
        "str(bus)\n",
        "head(bus)\n",
        "\n",
        "\n",
        "bus1 <- bus[,c(1,5)]\n",
        "bus1$행정동 <- str_trim(bus1$행정동, side=c(\"both\"))\n",
        "bus1 <- bus1 %>% group_by(행정동) %>% summarise(버스정류장수 = length(설치.지점명))\n",
        "bus1 <- as.data.frame(bus1)\n",
        "bus1 <- arrange(bus1, bus1$행정동)\n",
        "\n",
        "table(jjdong %in% bus1$행정동)\n",
        "bus1\n",
        "\n",
        "\n",
        "\n",
        "###############################################\n",
        "# 공원 수 #####################################\n",
        "###############################################\n",
        "\n",
        "str(park)\n",
        "head(park)\n",
        "\n",
        "park <- park[, c(4,13,22,23)]\n",
        "park1 <- park\n",
        "park1$parkLoadAddr <- c(\"팔복동\", \"중앙동\", \"풍남동\", \"여의동\", \"여의동\",\n",
        "                       \"우아2동\", \"송천2동\", \"송천2동\", \"우아2동\", \"팔복동\")\n",
        "park1 <- park1 %>% group_by(parkLoadAddr) %>% summarise(공원수 = length(dataTitle))\n",
        "park1 <- as.data.frame(park1)\n",
        "names(park1)[1] <- \"행정동\"\n",
        "\n",
        "table(jjdong %in% park1$행정동)\n",
        "table(park1$행정동 %in% jjdong)\n",
        "jjdong[jjdong %in% park1$행정동 == FALSE] #park에는 없는 jjdong의 행정동\n",
        "add <- data.frame(행정동 = jjdong[jjdong %in% park1$행정동 == FALSE], \n",
        "                     공원수 = rep(0, length(jjdong[jjdong %in% park1$행정동 == FALSE])))\n",
        "park1 <- rbind(park1, add)\n",
        "park1 <- arrange(park1, park1$행정동)\n",
        "park1\n",
        "\n",
        "\n",
        "\n",
        "\n",
        "###############################################\n",
        "# 전동킥보드 수 ###############################\n",
        "###############################################\n",
        "\n",
        "str(scooter)\n",
        "head(scooter)\n",
        "\n",
        "scooter <- scooter[, c(2,6)]\n",
        "names(scooter) <- c(\"행정동\", \"전동킥보드이용수\")\n",
        "scooter <- arrange(scooter, scooter$행정동)\n",
        "\n",
        "table(jjdong %in% scooter$행정동)\n",
        "scooter\n",
        "\n",
        "\n",
        "df <- data.frame(전동킥보드 = scooter$행정동, 자전거 = bicycle1$행정동,\n",
        "                      대규모점포 = bigstore1$행정동, 버스정류장 = bus1$행정동,\n",
        "                      편의점 = cvstore1$행정동, 공원 = park1$행정동,\n",
        "                      인구 = pop$행정동, 면적 = region$행정동,\n",
        "                      음식점 = rest$행정동, 상점 = store1$행정동,\n",
        "                      음식점제외 = store2$행정동, 대학교 = univ1$행정동, \n",
        "                      카페개수 = store3$행정동, 패스트푸드점개수 = store4$행정동,\n",
        "                      오락시설개수 = store5$행정동, 도서관.독서실개수 = store6$행정동,\n",
        "                      실내운동시설개수 = store7$행정동, 이.미용.건강시설개수 = store8$행정동,\n",
        "                      화장품소매점포수 = store9$행정동)\n",
        "df\n",
        "                 \n",
        "\n",
        "\n",
        "###############################################\n",
        "# 최종 데이터셋 jj ############################\n",
        "###############################################\n",
        "\n",
        "jj <- merge(scooter, bicycle1)\n",
        "jj <- merge(jj, bigstore1)\n",
        "jj <- merge(jj, bus1)\n",
        "jj <- merge(jj, cvstore1)\n",
        "jj <- merge(jj, park1)\n",
        "jj <- merge(jj, pop)\n",
        "jj <- merge(jj, region)\n",
        "jj <- merge(jj, rest)\n",
        "jj <- merge(jj, store1)\n",
        "jj <- merge(jj, store2)\n",
        "jj <- merge(jj, univ1)\n",
        "jj <- merge(jj, store3)\n",
        "jj <- merge(jj, store4)\n",
        "jj <- merge(jj, store5)\n",
        "jj <- merge(jj, store6)\n",
        "jj <- merge(jj, store7)\n",
        "jj <- merge(jj, store8)\n",
        "jj <- merge(jj, store9)\n",
        "\n",
        "jj\n",
        "\n",
        "\n",
        "\n",
        "#write.csv(jj, file = 'jj.csv')\n",
        "#write.csv(bicycle, file = 'bicycle.csv')\n",
        "#write.csv(bigstore, file = 'bigstore.csv')\n",
        "#write.csv(bus, file = 'bus.csv')\n",
        "#write.csv(cvstore, file = 'cvstore.csv')\n",
        "#write.csv(park, file = 'park.csv')\n",
        "#write.csv(store, file = 'store.csv')\n",
        "#write.csv(univ, file = 'univ.csv')\n",
        "\n",
        "\n",
        "jj <- jj[,-1]\n",
        "\n",
        "\n",
        "\n",
        "###############################################\n",
        "# 상관분석 ####################################\n",
        "###############################################\n",
        "\n",
        "\n",
        "library(corrplot) \n",
        "cor.jj <- cor(jj) \n",
        "round(cor.jj, 2) \n",
        "corrplot(cor.jj, method='number', shade.col=NA, tl.col='black', tl.srt=45)\n",
        "\n",
        "col <- colorRampPalette(c(\"#BB4444\", \"#EE9988\", \"#FFFFFF\", \"#77AADD\", \"#4477AA\"))\n",
        "corrplot(cor.jj, method='color', col = col(200), order = 'hclust', number.cex = .7,\n",
        "         addCoef.col = 'black', tl.col = 'black', tl.srt = 45, sig.level = 0.01, insig = 'blank', diag = FALSE)\n",
        "\n",
        "\n",
        "cor.test(jj$전동킥보드이용수, jj$자전거보관대수)\n",
        "cor.test(jj$전동킥보드이용수, jj$대규모점포수)\n",
        "cor.test(jj$전동킥보드이용수, jj$버스정류장수) #유의 X\n",
        "cor.test(jj$전동킥보드이용수, jj$편의점수)\n",
        "cor.test(jj$전동킥보드이용수, jj$공원수) #유의 X\n",
        "cor.test(jj$전동킥보드이용수, jj$인구수)\n",
        "cor.test(jj$전동킥보드이용수, jj$면적.km) #유의 X\n",
        "cor.test(jj$전동킥보드이용수, jj$음식점수)\n",
        "cor.test(jj$전동킥보드이용수, jj$상점개수)\n",
        "cor.test(jj$전동킥보드이용수, jj$상점개수.음식점제외)\n",
        "cor.test(jj$전동킥보드이용수, jj$대학교수)\n",
        "cor.test(jj$전동킥보드이용수, jj$카페개수)\n",
        "cor.test(jj$전동킥보드이용수, jj$패스트푸드점개수)\n",
        "cor.test(jj$전동킥보드이용수, jj$오락시설개수)\n",
        "cor.test(jj$전동킥보드이용수, jj$도서관.독서실개수)\n",
        "cor.test(jj$전동킥보드이용수, jj$실내운동시설개수)\n",
        "cor.test(jj$전동킥보드이용수, jj$이.미용.건강시설개수)\n",
        "cor.test(jj$전동킥보드이용수, jj$화장품소매점포수)\n",
        "\n",
        "\n",
        "\n",
        "\n",
        "\n",
        "\n",
        "\n",
        "\n",
        "\n",
        "\n",
        "\n"
      ],
      "execution_count": null,
      "outputs": []
    },
    {
      "cell_type": "markdown",
      "metadata": {
        "id": "NH3gnYgofR62"
      },
      "source": [
        "## 데이터 불러오기 + 패키지 실행"
      ]
    },
    {
      "cell_type": "code",
      "metadata": {
        "id": "DAh-FMwfdkkX",
        "colab": {
          "base_uri": "https://localhost:8080/"
        },
        "outputId": "69bc162b-9dee-45e4-bddd-17b07eed3aea"
      },
      "source": [
        "pop <- read.csv('(중복)2019_전주시 동별 인구.csv', header=TRUE, stringsAsFactors=FALSE, fileEncoding = \"euc-kr\")\n",
        "rest <- read.csv('(중복)동별 음식점 및 주점업 사업체수(2018).csv', header=TRUE, stringsAsFactors=FALSE, fileEncoding = \"euc-kr\")\n",
        "bicycle <- read.csv('(행정동)12_04_03_E_자전거보관소정보.csv', header=TRUE, stringsAsFactors=FALSE, fileEncoding = \"euc-kr\")\n",
        "bigstore <- read.csv('(행정동)대규모점포현황_2020.csv', header=TRUE, stringsAsFactors=FALSE, fileEncoding = \"euc-kr\")\n",
        "cvstore <- read.csv('(행정동)동별 체인화 편의점 + 사업체수 (2018년).csv', header=TRUE, stringsAsFactors=FALSE, fileEncoding = \"euc-kr\")\n",
        "univ <- read.csv('(행정동)전주시 대학교.csv', header=TRUE, stringsAsFactors=FALSE, fileEncoding = \"euc-kr\")\n",
        "region <- read.csv('(행정동)전주시 행정동 면적.csv', header=TRUE, stringsAsFactors=FALSE, fileEncoding = \"euc-kr\")\n",
        "store <- read.csv('전북 상권정보.csv', header=TRUE, stringsAsFactors=FALSE, fileEncoding = \"euc-kr\")\n",
        "bus <- read.csv('전주시 버스 정류장.csv', header=TRUE, stringsAsFactors=FALSE, fileEncoding = \"euc-kr\")\n",
        "park <- read.csv('park.csv', header=TRUE, stringsAsFactors=FALSE, fileEncoding = \"euc-kr\")\n",
        "scooter <- read.csv('(행정동)PM_210509_0시.csv', header=TRUE, stringsAsFactors=FALSE, fileEncoding = \"euc-kr\")\n",
        "\n",
        "library(dplyr)"
      ],
      "execution_count": null,
      "outputs": [
        {
          "output_type": "stream",
          "text": [
            "Warning message in scan(file = file, what = what, sep = sep, quote = quote, dec = dec, :\n",
            "“invalid input found on input connection '전북 상권정보.csv'”\n"
          ],
          "name": "stderr"
        }
      ]
    },
    {
      "cell_type": "markdown",
      "metadata": {
        "id": "AQ_aX69pAfxi"
      },
      "source": [
        "▼ jjdong : 전주시에 있는 행정동 데이터셋"
      ]
    },
    {
      "cell_type": "code",
      "metadata": {
        "colab": {
          "base_uri": "https://localhost:8080/"
        },
        "id": "g1U1SxfLdt7o",
        "outputId": "f431095c-ee09-4dac-a085-f18e227f2a56"
      },
      "source": [
        "jjdong <- read.csv('전주 행정동_가나다순.csv', header=TRUE, stringsAsFactors=FALSE, fileEncoding = \"euc-kr\")\n",
        "jjdong <- jjdong$행정동\n",
        "str(jjdong)\n",
        "head(jjdong)"
      ],
      "execution_count": null,
      "outputs": [
        {
          "output_type": "stream",
          "text": [
            " chr [1:35] \"금암1동\" \"금암2동\" \"노송동\" \"덕진동\" \"동서학동\" \"삼천1동\" ...\n"
          ],
          "name": "stdout"
        },
        {
          "output_type": "display_data",
          "data": {
            "text/plain": [
              "[1] \"금암1동\"  \"금암2동\"  \"노송동\"   \"덕진동\"   \"동서학동\" \"삼천1동\" "
            ],
            "text/latex": "\\begin{enumerate*}\n\\item '금암1동'\n\\item '금암2동'\n\\item '노송동'\n\\item '덕진동'\n\\item '동서학동'\n\\item '삼천1동'\n\\end{enumerate*}\n",
            "text/markdown": "1. '금암1동'\n2. '금암2동'\n3. '노송동'\n4. '덕진동'\n5. '동서학동'\n6. '삼천1동'\n\n\n",
            "text/html": [
              "<style>\n",
              ".list-inline {list-style: none; margin:0; padding: 0}\n",
              ".list-inline>li {display: inline-block}\n",
              ".list-inline>li:not(:last-child)::after {content: \"\\00b7\"; padding: 0 .5ex}\n",
              "</style>\n",
              "<ol class=list-inline><li>'금암1동'</li><li>'금암2동'</li><li>'노송동'</li><li>'덕진동'</li><li>'동서학동'</li><li>'삼천1동'</li></ol>\n"
            ]
          },
          "metadata": {
            "tags": []
          }
        }
      ]
    },
    {
      "cell_type": "markdown",
      "metadata": {
        "id": "HFvSwbe8AoFf"
      },
      "source": [
        "## 인구수"
      ]
    },
    {
      "cell_type": "code",
      "metadata": {
        "colab": {
          "base_uri": "https://localhost:8080/"
        },
        "id": "dwZF_tyL9VNu",
        "outputId": "bee89678-d611-4b5a-81d9-9093313ee441"
      },
      "source": [
        "str(pop)\n",
        "head(pop)"
      ],
      "execution_count": null,
      "outputs": [
        {
          "output_type": "stream",
          "text": [
            "'data.frame':\t35 obs. of  3 variables:\n",
            " $ 구  : chr  \"완산구\" \"완산구\" \"완산구\" \"완산구\" ...\n",
            " $ 동  : chr  \"중앙동\" \"풍남동\" \"노송동\" \"완산동\" ...\n",
            " $ 인구: int  8073 4521 13189 5148 6784 9223 15288 20030 13204 46295 ...\n"
          ],
          "name": "stdout"
        },
        {
          "output_type": "display_data",
          "data": {
            "text/plain": [
              "  구     동       인구 \n",
              "1 완산구 중앙동    8073\n",
              "2 완산구 풍남동    4521\n",
              "3 완산구 노송동   13189\n",
              "4 완산구 완산동    5148\n",
              "5 완산구 동서학동  6784\n",
              "6 완산구 서서학동  9223"
            ],
            "text/latex": "A data.frame: 6 × 3\n\\begin{tabular}{r|lll}\n  & 구 & 동 & 인구\\\\\n  & <chr> & <chr> & <int>\\\\\n\\hline\n\t1 & 완산구 & 중앙동   &  8073\\\\\n\t2 & 완산구 & 풍남동   &  4521\\\\\n\t3 & 완산구 & 노송동   & 13189\\\\\n\t4 & 완산구 & 완산동   &  5148\\\\\n\t5 & 완산구 & 동서학동 &  6784\\\\\n\t6 & 완산구 & 서서학동 &  9223\\\\\n\\end{tabular}\n",
            "text/markdown": "\nA data.frame: 6 × 3\n\n| <!--/--> | 구 &lt;chr&gt; | 동 &lt;chr&gt; | 인구 &lt;int&gt; |\n|---|---|---|---|\n| 1 | 완산구 | 중앙동   |  8073 |\n| 2 | 완산구 | 풍남동   |  4521 |\n| 3 | 완산구 | 노송동   | 13189 |\n| 4 | 완산구 | 완산동   |  5148 |\n| 5 | 완산구 | 동서학동 |  6784 |\n| 6 | 완산구 | 서서학동 |  9223 |\n\n",
            "text/html": [
              "<table class=\"dataframe\">\n",
              "<caption>A data.frame: 6 × 3</caption>\n",
              "<thead>\n",
              "\t<tr><th></th><th scope=col>구</th><th scope=col>동</th><th scope=col>인구</th></tr>\n",
              "\t<tr><th></th><th scope=col>&lt;chr&gt;</th><th scope=col>&lt;chr&gt;</th><th scope=col>&lt;int&gt;</th></tr>\n",
              "</thead>\n",
              "<tbody>\n",
              "\t<tr><th scope=row>1</th><td>완산구</td><td>중앙동  </td><td> 8073</td></tr>\n",
              "\t<tr><th scope=row>2</th><td>완산구</td><td>풍남동  </td><td> 4521</td></tr>\n",
              "\t<tr><th scope=row>3</th><td>완산구</td><td>노송동  </td><td>13189</td></tr>\n",
              "\t<tr><th scope=row>4</th><td>완산구</td><td>완산동  </td><td> 5148</td></tr>\n",
              "\t<tr><th scope=row>5</th><td>완산구</td><td>동서학동</td><td> 6784</td></tr>\n",
              "\t<tr><th scope=row>6</th><td>완산구</td><td>서서학동</td><td> 9223</td></tr>\n",
              "</tbody>\n",
              "</table>\n"
            ]
          },
          "metadata": {
            "tags": []
          }
        }
      ]
    },
    {
      "cell_type": "markdown",
      "metadata": {
        "id": "RvqunIUCAsUh"
      },
      "source": [
        "1 동이랑 인구 불러오기\n",
        "\n",
        "2 \"동\"을 \"행정동\"으로 바꾸기\n",
        "\n",
        "3 행정동을 기준으로 오름차순 정렬하기\n",
        "\n",
        "▼"
      ]
    },
    {
      "cell_type": "code",
      "metadata": {
        "colab": {
          "base_uri": "https://localhost:8080/"
        },
        "id": "ph0rxA749mJX",
        "outputId": "11e94adf-407e-4baf-f3e4-a56a939db40e"
      },
      "source": [
        "pop <- pop[,c(2,3)]\n",
        "names(pop)[1] <- \"행정동\"\n",
        "pop <- arrange(pop, pop$행정동)\n",
        "head(pop)"
      ],
      "execution_count": null,
      "outputs": [
        {
          "output_type": "display_data",
          "data": {
            "text/plain": [
              "  행정동   인구 \n",
              "1 금암1동   8824\n",
              "2 금암2동  10714\n",
              "3 노송동   13189\n",
              "4 덕진동   21215\n",
              "5 동산동   30208\n",
              "6 동서학동  6784"
            ],
            "text/latex": "A data.frame: 6 × 2\n\\begin{tabular}{r|ll}\n  & 행정동 & 인구\\\\\n  & <chr> & <int>\\\\\n\\hline\n\t1 & 금암1동  &  8824\\\\\n\t2 & 금암2동  & 10714\\\\\n\t3 & 노송동   & 13189\\\\\n\t4 & 덕진동   & 21215\\\\\n\t5 & 동산동   & 30208\\\\\n\t6 & 동서학동 &  6784\\\\\n\\end{tabular}\n",
            "text/markdown": "\nA data.frame: 6 × 2\n\n| <!--/--> | 행정동 &lt;chr&gt; | 인구 &lt;int&gt; |\n|---|---|---|\n| 1 | 금암1동  |  8824 |\n| 2 | 금암2동  | 10714 |\n| 3 | 노송동   | 13189 |\n| 4 | 덕진동   | 21215 |\n| 5 | 동산동   | 30208 |\n| 6 | 동서학동 |  6784 |\n\n",
            "text/html": [
              "<table class=\"dataframe\">\n",
              "<caption>A data.frame: 6 × 2</caption>\n",
              "<thead>\n",
              "\t<tr><th></th><th scope=col>행정동</th><th scope=col>인구</th></tr>\n",
              "\t<tr><th></th><th scope=col>&lt;chr&gt;</th><th scope=col>&lt;int&gt;</th></tr>\n",
              "</thead>\n",
              "<tbody>\n",
              "\t<tr><th scope=row>1</th><td>금암1동 </td><td> 8824</td></tr>\n",
              "\t<tr><th scope=row>2</th><td>금암2동 </td><td>10714</td></tr>\n",
              "\t<tr><th scope=row>3</th><td>노송동  </td><td>13189</td></tr>\n",
              "\t<tr><th scope=row>4</th><td>덕진동  </td><td>21215</td></tr>\n",
              "\t<tr><th scope=row>5</th><td>동산동  </td><td>30208</td></tr>\n",
              "\t<tr><th scope=row>6</th><td>동서학동</td><td> 6784</td></tr>\n",
              "</tbody>\n",
              "</table>\n"
            ]
          },
          "metadata": {
            "tags": []
          }
        }
      ]
    },
    {
      "cell_type": "markdown",
      "metadata": {
        "id": "ndFrR5ewBIjr"
      },
      "source": [
        "▼ 인구수 데이터에 누락된 동이 있는지 확인해본 결과, pop에 있지 않은 jjdong과 jjdong에 있지 않은 pop의 요소가 각각 하나씩 있음을 알 수 있다. (FALSE로 나타남)"
      ]
    },
    {
      "cell_type": "code",
      "metadata": {
        "colab": {
          "base_uri": "https://localhost:8080/"
        },
        "id": "qjreheys9vzD",
        "outputId": "77744d65-ea77-45be-e928-c95d01674c66"
      },
      "source": [
        "table(pop$행정동 %in% jjdong)\n",
        "table(jjdong %in% pop$행정동)"
      ],
      "execution_count": null,
      "outputs": [
        {
          "output_type": "display_data",
          "data": {
            "text/plain": [
              "\n",
              "FALSE  TRUE \n",
              "    1    34 "
            ]
          },
          "metadata": {
            "tags": []
          }
        },
        {
          "output_type": "display_data",
          "data": {
            "text/plain": [
              "\n",
              "FALSE  TRUE \n",
              "    1    34 "
            ]
          },
          "metadata": {
            "tags": []
          }
        }
      ]
    },
    {
      "cell_type": "markdown",
      "metadata": {
        "id": "Hn_JrUeoBdjv"
      },
      "source": [
        "▼ pop에는 jjdong에 없는 '동산동'이 있고 jjdong에는 pop에 없는 '여의동'이 있는 것을 확인할 수 있다."
      ]
    },
    {
      "cell_type": "code",
      "metadata": {
        "colab": {
          "base_uri": "https://localhost:8080/"
        },
        "id": "7RW0PwD-9yEd",
        "outputId": "bb87a891-9238-436f-853b-3fd3796f6ecc"
      },
      "source": [
        "pop$행정동[pop$행정동 %in% jjdong == FALSE] #jjdong에는 없는 pop의 행정동\n",
        "jjdong[jjdong %in% pop$행정동 == FALSE] #pop에는 없는 jjdong의 행정동"
      ],
      "execution_count": null,
      "outputs": [
        {
          "output_type": "display_data",
          "data": {
            "text/plain": [
              "[1] \"동산동\""
            ],
            "text/latex": "'동산동'",
            "text/markdown": "'동산동'",
            "text/html": [
              "'동산동'"
            ]
          },
          "metadata": {
            "tags": []
          }
        },
        {
          "output_type": "display_data",
          "data": {
            "text/plain": [
              "[1] \"여의동\""
            ],
            "text/latex": "'여의동'",
            "text/markdown": "'여의동'",
            "text/html": [
              "'여의동'"
            ]
          },
          "metadata": {
            "tags": []
          }
        }
      ]
    },
    {
      "cell_type": "markdown",
      "metadata": {
        "id": "N8DW1y9VBrom"
      },
      "source": [
        "1 실제로 2019년 8월에 전주시에서 '동산동'을 '여의동'으로 변경했기 때문에 이런 차이가 발생하는 것임. pop의 '동산동'을 '여의동'으로 바꿔준다.\n",
        "\n",
        "2 정리한 자료를 다시 행정동을 기준으로 오름차순 정렬하면\n",
        "\n",
        "3 pop이 잘 정리된 것을 확인할 수 있다.\n",
        "\n",
        "▼ "
      ]
    },
    {
      "cell_type": "code",
      "metadata": {
        "colab": {
          "base_uri": "https://localhost:8080/"
        },
        "id": "4eW1M0mE986_",
        "outputId": "9b746870-6e96-4521-9425-be71df9accfa"
      },
      "source": [
        "pop$행정동[which(pop$행정동 == \"동산동\")] <- \"여의동\" ## 19년 8월에 동산동을 여의동으로 변경, https://www.hani.co.kr/arti/area/honam/905848.html?_fr=mt2\n",
        "pop <- arrange(pop, pop$행정동)\n",
        "pop"
      ],
      "execution_count": null,
      "outputs": [
        {
          "output_type": "display_data",
          "data": {
            "text/plain": [
              "   행정동    인구 \n",
              "1  금암1동    8824\n",
              "2  금암2동   10714\n",
              "3  노송동    13189\n",
              "4  덕진동    21215\n",
              "5  동서학동   6784\n",
              "6  삼천1동   12799\n",
              "7  삼천2동   14447\n",
              "8  삼천3동   23323\n",
              "9  서서학동   9223\n",
              "10 서신동    40408\n",
              "11 송천1동   59376\n",
              "12 송천2동   26748\n",
              "13 여의동    30208\n",
              "14 완산동     5148\n",
              "15 우아1동   10096\n",
              "16 우아2동   15125\n",
              "17 인후1동   19047\n",
              "18 인후2동   12094\n",
              "19 인후3동   32426\n",
              "20 조촌동    12133\n",
              "21 중앙동     8073\n",
              "22 중화산1동 15288\n",
              "23 중화산2동 20030\n",
              "24 진북동    14924\n",
              "25 팔복동     8300\n",
              "26 평화1동   13204\n",
              "27 평화2동   46295\n",
              "28 풍남동     4521\n",
              "29 혁신동    17925\n",
              "30 호성동    21154\n",
              "31 효자1동   11784\n",
              "32 효자2동   10861\n",
              "33 효자3동   15758\n",
              "34 효자4동   33756\n",
              "35 효자5동   37898"
            ],
            "text/latex": "A data.frame: 35 × 2\n\\begin{tabular}{ll}\n 행정동 & 인구\\\\\n <chr> & <int>\\\\\n\\hline\n\t 금암1동   &  8824\\\\\n\t 금암2동   & 10714\\\\\n\t 노송동    & 13189\\\\\n\t 덕진동    & 21215\\\\\n\t 동서학동  &  6784\\\\\n\t 삼천1동   & 12799\\\\\n\t 삼천2동   & 14447\\\\\n\t 삼천3동   & 23323\\\\\n\t 서서학동  &  9223\\\\\n\t 서신동    & 40408\\\\\n\t 송천1동   & 59376\\\\\n\t 송천2동   & 26748\\\\\n\t 여의동    & 30208\\\\\n\t 완산동    &  5148\\\\\n\t 우아1동   & 10096\\\\\n\t 우아2동   & 15125\\\\\n\t 인후1동   & 19047\\\\\n\t 인후2동   & 12094\\\\\n\t 인후3동   & 32426\\\\\n\t 조촌동    & 12133\\\\\n\t 중앙동    &  8073\\\\\n\t 중화산1동 & 15288\\\\\n\t 중화산2동 & 20030\\\\\n\t 진북동    & 14924\\\\\n\t 팔복동    &  8300\\\\\n\t 평화1동   & 13204\\\\\n\t 평화2동   & 46295\\\\\n\t 풍남동    &  4521\\\\\n\t 혁신동    & 17925\\\\\n\t 호성동    & 21154\\\\\n\t 효자1동   & 11784\\\\\n\t 효자2동   & 10861\\\\\n\t 효자3동   & 15758\\\\\n\t 효자4동   & 33756\\\\\n\t 효자5동   & 37898\\\\\n\\end{tabular}\n",
            "text/markdown": "\nA data.frame: 35 × 2\n\n| 행정동 &lt;chr&gt; | 인구 &lt;int&gt; |\n|---|---|\n| 금암1동   |  8824 |\n| 금암2동   | 10714 |\n| 노송동    | 13189 |\n| 덕진동    | 21215 |\n| 동서학동  |  6784 |\n| 삼천1동   | 12799 |\n| 삼천2동   | 14447 |\n| 삼천3동   | 23323 |\n| 서서학동  |  9223 |\n| 서신동    | 40408 |\n| 송천1동   | 59376 |\n| 송천2동   | 26748 |\n| 여의동    | 30208 |\n| 완산동    |  5148 |\n| 우아1동   | 10096 |\n| 우아2동   | 15125 |\n| 인후1동   | 19047 |\n| 인후2동   | 12094 |\n| 인후3동   | 32426 |\n| 조촌동    | 12133 |\n| 중앙동    |  8073 |\n| 중화산1동 | 15288 |\n| 중화산2동 | 20030 |\n| 진북동    | 14924 |\n| 팔복동    |  8300 |\n| 평화1동   | 13204 |\n| 평화2동   | 46295 |\n| 풍남동    |  4521 |\n| 혁신동    | 17925 |\n| 호성동    | 21154 |\n| 효자1동   | 11784 |\n| 효자2동   | 10861 |\n| 효자3동   | 15758 |\n| 효자4동   | 33756 |\n| 효자5동   | 37898 |\n\n",
            "text/html": [
              "<table class=\"dataframe\">\n",
              "<caption>A data.frame: 35 × 2</caption>\n",
              "<thead>\n",
              "\t<tr><th scope=col>행정동</th><th scope=col>인구</th></tr>\n",
              "\t<tr><th scope=col>&lt;chr&gt;</th><th scope=col>&lt;int&gt;</th></tr>\n",
              "</thead>\n",
              "<tbody>\n",
              "\t<tr><td>금암1동  </td><td> 8824</td></tr>\n",
              "\t<tr><td>금암2동  </td><td>10714</td></tr>\n",
              "\t<tr><td>노송동   </td><td>13189</td></tr>\n",
              "\t<tr><td>덕진동   </td><td>21215</td></tr>\n",
              "\t<tr><td>동서학동 </td><td> 6784</td></tr>\n",
              "\t<tr><td>삼천1동  </td><td>12799</td></tr>\n",
              "\t<tr><td>삼천2동  </td><td>14447</td></tr>\n",
              "\t<tr><td>삼천3동  </td><td>23323</td></tr>\n",
              "\t<tr><td>서서학동 </td><td> 9223</td></tr>\n",
              "\t<tr><td>서신동   </td><td>40408</td></tr>\n",
              "\t<tr><td>송천1동  </td><td>59376</td></tr>\n",
              "\t<tr><td>송천2동  </td><td>26748</td></tr>\n",
              "\t<tr><td>여의동   </td><td>30208</td></tr>\n",
              "\t<tr><td>완산동   </td><td> 5148</td></tr>\n",
              "\t<tr><td>우아1동  </td><td>10096</td></tr>\n",
              "\t<tr><td>우아2동  </td><td>15125</td></tr>\n",
              "\t<tr><td>인후1동  </td><td>19047</td></tr>\n",
              "\t<tr><td>인후2동  </td><td>12094</td></tr>\n",
              "\t<tr><td>인후3동  </td><td>32426</td></tr>\n",
              "\t<tr><td>조촌동   </td><td>12133</td></tr>\n",
              "\t<tr><td>중앙동   </td><td> 8073</td></tr>\n",
              "\t<tr><td>중화산1동</td><td>15288</td></tr>\n",
              "\t<tr><td>중화산2동</td><td>20030</td></tr>\n",
              "\t<tr><td>진북동   </td><td>14924</td></tr>\n",
              "\t<tr><td>팔복동   </td><td> 8300</td></tr>\n",
              "\t<tr><td>평화1동  </td><td>13204</td></tr>\n",
              "\t<tr><td>평화2동  </td><td>46295</td></tr>\n",
              "\t<tr><td>풍남동   </td><td> 4521</td></tr>\n",
              "\t<tr><td>혁신동   </td><td>17925</td></tr>\n",
              "\t<tr><td>호성동   </td><td>21154</td></tr>\n",
              "\t<tr><td>효자1동  </td><td>11784</td></tr>\n",
              "\t<tr><td>효자2동  </td><td>10861</td></tr>\n",
              "\t<tr><td>효자3동  </td><td>15758</td></tr>\n",
              "\t<tr><td>효자4동  </td><td>33756</td></tr>\n",
              "\t<tr><td>효자5동  </td><td>37898</td></tr>\n",
              "</tbody>\n",
              "</table>\n"
            ]
          },
          "metadata": {
            "tags": []
          }
        }
      ]
    },
    {
      "cell_type": "markdown",
      "metadata": {
        "id": "Sf15X4rlCHJL"
      },
      "source": [
        "## 음식점수"
      ]
    },
    {
      "cell_type": "code",
      "metadata": {
        "colab": {
          "base_uri": "https://localhost:8080/"
        },
        "id": "IMCPwrVY-BNm",
        "outputId": "0a669235-c769-4cd1-ec36-94410a054f3d"
      },
      "source": [
        "str(rest)\n",
        "head(rest)"
      ],
      "execution_count": null,
      "outputs": [
        {
          "output_type": "stream",
          "text": [
            "'data.frame':\t35 obs. of  5 variables:\n",
            " $ 구     : chr  \"완산구\" \"완산구\" \"완산구\" \"완산구\" ...\n",
            " $ 항목   : chr  \"효자5동\" \"중앙동\" \"서신동\" \"중화산2동\" ...\n",
            " $ 순위   : int  1 2 3 4 5 6 7 8 9 10 ...\n",
            " $ 값     : int  805 567 560 491 488 378 372 227 219 216 ...\n",
            " $ 비율...: num  15.4 10.8 10.7 9.4 9.3 7.2 7.1 4.3 4.2 4.1 ...\n"
          ],
          "name": "stdout"
        },
        {
          "output_type": "display_data",
          "data": {
            "text/plain": [
              "  구     항목      순위 값  비율...\n",
              "1 완산구 효자5동   1    805 15.4   \n",
              "2 완산구 중앙동    2    567 10.8   \n",
              "3 완산구 서신동    3    560 10.7   \n",
              "4 완산구 중화산2동 4    491  9.4   \n",
              "5 완산구 풍남동    5    488  9.3   \n",
              "6 완산구 효자4동   6    378  7.2   "
            ],
            "text/latex": "A data.frame: 6 × 5\n\\begin{tabular}{r|lllll}\n  & 구 & 항목 & 순위 & 값 & 비율...\\\\\n  & <chr> & <chr> & <int> & <int> & <dbl>\\\\\n\\hline\n\t1 & 완산구 & 효자5동   & 1 & 805 & 15.4\\\\\n\t2 & 완산구 & 중앙동    & 2 & 567 & 10.8\\\\\n\t3 & 완산구 & 서신동    & 3 & 560 & 10.7\\\\\n\t4 & 완산구 & 중화산2동 & 4 & 491 &  9.4\\\\\n\t5 & 완산구 & 풍남동    & 5 & 488 &  9.3\\\\\n\t6 & 완산구 & 효자4동   & 6 & 378 &  7.2\\\\\n\\end{tabular}\n",
            "text/markdown": "\nA data.frame: 6 × 5\n\n| <!--/--> | 구 &lt;chr&gt; | 항목 &lt;chr&gt; | 순위 &lt;int&gt; | 값 &lt;int&gt; | 비율... &lt;dbl&gt; |\n|---|---|---|---|---|---|\n| 1 | 완산구 | 효자5동   | 1 | 805 | 15.4 |\n| 2 | 완산구 | 중앙동    | 2 | 567 | 10.8 |\n| 3 | 완산구 | 서신동    | 3 | 560 | 10.7 |\n| 4 | 완산구 | 중화산2동 | 4 | 491 |  9.4 |\n| 5 | 완산구 | 풍남동    | 5 | 488 |  9.3 |\n| 6 | 완산구 | 효자4동   | 6 | 378 |  7.2 |\n\n",
            "text/html": [
              "<table class=\"dataframe\">\n",
              "<caption>A data.frame: 6 × 5</caption>\n",
              "<thead>\n",
              "\t<tr><th></th><th scope=col>구</th><th scope=col>항목</th><th scope=col>순위</th><th scope=col>값</th><th scope=col>비율...</th></tr>\n",
              "\t<tr><th></th><th scope=col>&lt;chr&gt;</th><th scope=col>&lt;chr&gt;</th><th scope=col>&lt;int&gt;</th><th scope=col>&lt;int&gt;</th><th scope=col>&lt;dbl&gt;</th></tr>\n",
              "</thead>\n",
              "<tbody>\n",
              "\t<tr><th scope=row>1</th><td>완산구</td><td>효자5동  </td><td>1</td><td>805</td><td>15.4</td></tr>\n",
              "\t<tr><th scope=row>2</th><td>완산구</td><td>중앙동   </td><td>2</td><td>567</td><td>10.8</td></tr>\n",
              "\t<tr><th scope=row>3</th><td>완산구</td><td>서신동   </td><td>3</td><td>560</td><td>10.7</td></tr>\n",
              "\t<tr><th scope=row>4</th><td>완산구</td><td>중화산2동</td><td>4</td><td>491</td><td> 9.4</td></tr>\n",
              "\t<tr><th scope=row>5</th><td>완산구</td><td>풍남동   </td><td>5</td><td>488</td><td> 9.3</td></tr>\n",
              "\t<tr><th scope=row>6</th><td>완산구</td><td>효자4동  </td><td>6</td><td>378</td><td> 7.2</td></tr>\n",
              "</tbody>\n",
              "</table>\n"
            ]
          },
          "metadata": {
            "tags": []
          }
        }
      ]
    },
    {
      "cell_type": "markdown",
      "metadata": {
        "id": "xuYA6ZzQCJlC"
      },
      "source": [
        "1 rest 데이터 중 동이 나와있는 '항목'과 음식점수가 나와있는 '값'을 추출\n",
        "\n",
        "2 '항목'과 '값'을 '행정동'과 '음식점수'로 변경\n",
        "\n",
        "3  행정동을 기준으로 오름차순 정렬\n",
        "\n",
        "▼ "
      ]
    },
    {
      "cell_type": "code",
      "metadata": {
        "colab": {
          "base_uri": "https://localhost:8080/"
        },
        "id": "b2aECSBG-Efd",
        "outputId": "a98f5c4f-7da7-4bcd-8ecd-abfeec7e661a"
      },
      "source": [
        "rest <- rest[,c(2,4)]\n",
        "names(rest) <- c(\"행정동\", \"음식점수\")\n",
        "rest <- arrange(rest, rest$행정동)\n",
        "head(rest)"
      ],
      "execution_count": null,
      "outputs": [
        {
          "output_type": "display_data",
          "data": {
            "text/plain": [
              "  행정동   음식점수\n",
              "1 금암1동  323     \n",
              "2 금암2동  119     \n",
              "3 노송동   193     \n",
              "4 덕진동   468     \n",
              "5 동서학동  67     \n",
              "6 삼천1동   97     "
            ],
            "text/latex": "A data.frame: 6 × 2\n\\begin{tabular}{r|ll}\n  & 행정동 & 음식점수\\\\\n  & <chr> & <int>\\\\\n\\hline\n\t1 & 금암1동  & 323\\\\\n\t2 & 금암2동  & 119\\\\\n\t3 & 노송동   & 193\\\\\n\t4 & 덕진동   & 468\\\\\n\t5 & 동서학동 &  67\\\\\n\t6 & 삼천1동  &  97\\\\\n\\end{tabular}\n",
            "text/markdown": "\nA data.frame: 6 × 2\n\n| <!--/--> | 행정동 &lt;chr&gt; | 음식점수 &lt;int&gt; |\n|---|---|---|\n| 1 | 금암1동  | 323 |\n| 2 | 금암2동  | 119 |\n| 3 | 노송동   | 193 |\n| 4 | 덕진동   | 468 |\n| 5 | 동서학동 |  67 |\n| 6 | 삼천1동  |  97 |\n\n",
            "text/html": [
              "<table class=\"dataframe\">\n",
              "<caption>A data.frame: 6 × 2</caption>\n",
              "<thead>\n",
              "\t<tr><th></th><th scope=col>행정동</th><th scope=col>음식점수</th></tr>\n",
              "\t<tr><th></th><th scope=col>&lt;chr&gt;</th><th scope=col>&lt;int&gt;</th></tr>\n",
              "</thead>\n",
              "<tbody>\n",
              "\t<tr><th scope=row>1</th><td>금암1동 </td><td>323</td></tr>\n",
              "\t<tr><th scope=row>2</th><td>금암2동 </td><td>119</td></tr>\n",
              "\t<tr><th scope=row>3</th><td>노송동  </td><td>193</td></tr>\n",
              "\t<tr><th scope=row>4</th><td>덕진동  </td><td>468</td></tr>\n",
              "\t<tr><th scope=row>5</th><td>동서학동</td><td> 67</td></tr>\n",
              "\t<tr><th scope=row>6</th><td>삼천1동 </td><td> 97</td></tr>\n",
              "</tbody>\n",
              "</table>\n"
            ]
          },
          "metadata": {
            "tags": []
          }
        }
      ]
    },
    {
      "cell_type": "markdown",
      "metadata": {
        "id": "TXdDQPPHCZDm"
      },
      "source": [
        "▼  pop에서와 마찬가지로 rest에서도 누락된 행정동이 있는지 확인해봤을 때, rest와 jjdong의 행정동이 모두 일치하는 것으로 보아 누락된 행정동은 없다고 볼 수 있다."
      ]
    },
    {
      "cell_type": "code",
      "metadata": {
        "colab": {
          "base_uri": "https://localhost:8080/"
        },
        "id": "t4w9dEaf-H3P",
        "outputId": "da612588-cf43-48f6-d98e-0b7b7af63955"
      },
      "source": [
        "table(rest$행정동 %in% jjdong)\n",
        "table(jjdong %in% rest$행정동)\n",
        "\n",
        "jjdong[jjdong %in% rest$행정동 == FALSE]"
      ],
      "execution_count": null,
      "outputs": [
        {
          "output_type": "display_data",
          "data": {
            "text/plain": [
              "\n",
              "TRUE \n",
              "  35 "
            ]
          },
          "metadata": {
            "tags": []
          }
        },
        {
          "output_type": "display_data",
          "data": {
            "text/plain": [
              "\n",
              "TRUE \n",
              "  35 "
            ]
          },
          "metadata": {
            "tags": []
          }
        },
        {
          "output_type": "display_data",
          "data": {
            "text/plain": [
              "character(0)"
            ],
            "text/latex": "",
            "text/markdown": "",
            "text/html": [
              ""
            ]
          },
          "metadata": {
            "tags": []
          }
        }
      ]
    },
    {
      "cell_type": "code",
      "metadata": {
        "colab": {
          "base_uri": "https://localhost:8080/"
        },
        "id": "FbI5HXEU-SHs",
        "outputId": "23b4bf05-cc12-4ed0-ea18-4d7bed5246a0"
      },
      "source": [
        "rest"
      ],
      "execution_count": null,
      "outputs": [
        {
          "output_type": "display_data",
          "data": {
            "text/plain": [
              "   행정동    음식점수\n",
              "1  금암1동   323     \n",
              "2  금암2동   119     \n",
              "3  노송동    193     \n",
              "4  덕진동    468     \n",
              "5  동서학동   67     \n",
              "6  삼천1동    97     \n",
              "7  삼천2동   216     \n",
              "8  삼천3동   219     \n",
              "9  서서학동   54     \n",
              "10 서신동    560     \n",
              "11 송천1동   347     \n",
              "12 송천2동   288     \n",
              "13 여의동    184     \n",
              "14 완산동     17     \n",
              "15 우아1동   227     \n",
              "16 우아2동   389     \n",
              "17 인후1동   147     \n",
              "18 인후2동   174     \n",
              "19 인후3동   335     \n",
              "20 조촌동     90     \n",
              "21 중앙동    567     \n",
              "22 중화산1동 227     \n",
              "23 중화산2동 491     \n",
              "24 진북동    145     \n",
              "25 팔복동    120     \n",
              "26 평화1동   108     \n",
              "27 평화2동   372     \n",
              "28 풍남동    488     \n",
              "29 혁신동    176     \n",
              "30 호성동    121     \n",
              "31 효자1동    72     \n",
              "32 효자2동   144     \n",
              "33 효자3동   156     \n",
              "34 효자4동   378     \n",
              "35 효자5동   805     "
            ],
            "text/latex": "A data.frame: 35 × 2\n\\begin{tabular}{ll}\n 행정동 & 음식점수\\\\\n <chr> & <int>\\\\\n\\hline\n\t 금암1동   & 323\\\\\n\t 금암2동   & 119\\\\\n\t 노송동    & 193\\\\\n\t 덕진동    & 468\\\\\n\t 동서학동  &  67\\\\\n\t 삼천1동   &  97\\\\\n\t 삼천2동   & 216\\\\\n\t 삼천3동   & 219\\\\\n\t 서서학동  &  54\\\\\n\t 서신동    & 560\\\\\n\t 송천1동   & 347\\\\\n\t 송천2동   & 288\\\\\n\t 여의동    & 184\\\\\n\t 완산동    &  17\\\\\n\t 우아1동   & 227\\\\\n\t 우아2동   & 389\\\\\n\t 인후1동   & 147\\\\\n\t 인후2동   & 174\\\\\n\t 인후3동   & 335\\\\\n\t 조촌동    &  90\\\\\n\t 중앙동    & 567\\\\\n\t 중화산1동 & 227\\\\\n\t 중화산2동 & 491\\\\\n\t 진북동    & 145\\\\\n\t 팔복동    & 120\\\\\n\t 평화1동   & 108\\\\\n\t 평화2동   & 372\\\\\n\t 풍남동    & 488\\\\\n\t 혁신동    & 176\\\\\n\t 호성동    & 121\\\\\n\t 효자1동   &  72\\\\\n\t 효자2동   & 144\\\\\n\t 효자3동   & 156\\\\\n\t 효자4동   & 378\\\\\n\t 효자5동   & 805\\\\\n\\end{tabular}\n",
            "text/markdown": "\nA data.frame: 35 × 2\n\n| 행정동 &lt;chr&gt; | 음식점수 &lt;int&gt; |\n|---|---|\n| 금암1동   | 323 |\n| 금암2동   | 119 |\n| 노송동    | 193 |\n| 덕진동    | 468 |\n| 동서학동  |  67 |\n| 삼천1동   |  97 |\n| 삼천2동   | 216 |\n| 삼천3동   | 219 |\n| 서서학동  |  54 |\n| 서신동    | 560 |\n| 송천1동   | 347 |\n| 송천2동   | 288 |\n| 여의동    | 184 |\n| 완산동    |  17 |\n| 우아1동   | 227 |\n| 우아2동   | 389 |\n| 인후1동   | 147 |\n| 인후2동   | 174 |\n| 인후3동   | 335 |\n| 조촌동    |  90 |\n| 중앙동    | 567 |\n| 중화산1동 | 227 |\n| 중화산2동 | 491 |\n| 진북동    | 145 |\n| 팔복동    | 120 |\n| 평화1동   | 108 |\n| 평화2동   | 372 |\n| 풍남동    | 488 |\n| 혁신동    | 176 |\n| 호성동    | 121 |\n| 효자1동   |  72 |\n| 효자2동   | 144 |\n| 효자3동   | 156 |\n| 효자4동   | 378 |\n| 효자5동   | 805 |\n\n",
            "text/html": [
              "<table class=\"dataframe\">\n",
              "<caption>A data.frame: 35 × 2</caption>\n",
              "<thead>\n",
              "\t<tr><th scope=col>행정동</th><th scope=col>음식점수</th></tr>\n",
              "\t<tr><th scope=col>&lt;chr&gt;</th><th scope=col>&lt;int&gt;</th></tr>\n",
              "</thead>\n",
              "<tbody>\n",
              "\t<tr><td>금암1동  </td><td>323</td></tr>\n",
              "\t<tr><td>금암2동  </td><td>119</td></tr>\n",
              "\t<tr><td>노송동   </td><td>193</td></tr>\n",
              "\t<tr><td>덕진동   </td><td>468</td></tr>\n",
              "\t<tr><td>동서학동 </td><td> 67</td></tr>\n",
              "\t<tr><td>삼천1동  </td><td> 97</td></tr>\n",
              "\t<tr><td>삼천2동  </td><td>216</td></tr>\n",
              "\t<tr><td>삼천3동  </td><td>219</td></tr>\n",
              "\t<tr><td>서서학동 </td><td> 54</td></tr>\n",
              "\t<tr><td>서신동   </td><td>560</td></tr>\n",
              "\t<tr><td>송천1동  </td><td>347</td></tr>\n",
              "\t<tr><td>송천2동  </td><td>288</td></tr>\n",
              "\t<tr><td>여의동   </td><td>184</td></tr>\n",
              "\t<tr><td>완산동   </td><td> 17</td></tr>\n",
              "\t<tr><td>우아1동  </td><td>227</td></tr>\n",
              "\t<tr><td>우아2동  </td><td>389</td></tr>\n",
              "\t<tr><td>인후1동  </td><td>147</td></tr>\n",
              "\t<tr><td>인후2동  </td><td>174</td></tr>\n",
              "\t<tr><td>인후3동  </td><td>335</td></tr>\n",
              "\t<tr><td>조촌동   </td><td> 90</td></tr>\n",
              "\t<tr><td>중앙동   </td><td>567</td></tr>\n",
              "\t<tr><td>중화산1동</td><td>227</td></tr>\n",
              "\t<tr><td>중화산2동</td><td>491</td></tr>\n",
              "\t<tr><td>진북동   </td><td>145</td></tr>\n",
              "\t<tr><td>팔복동   </td><td>120</td></tr>\n",
              "\t<tr><td>평화1동  </td><td>108</td></tr>\n",
              "\t<tr><td>평화2동  </td><td>372</td></tr>\n",
              "\t<tr><td>풍남동   </td><td>488</td></tr>\n",
              "\t<tr><td>혁신동   </td><td>176</td></tr>\n",
              "\t<tr><td>호성동   </td><td>121</td></tr>\n",
              "\t<tr><td>효자1동  </td><td> 72</td></tr>\n",
              "\t<tr><td>효자2동  </td><td>144</td></tr>\n",
              "\t<tr><td>효자3동  </td><td>156</td></tr>\n",
              "\t<tr><td>효자4동  </td><td>378</td></tr>\n",
              "\t<tr><td>효자5동  </td><td>805</td></tr>\n",
              "</tbody>\n",
              "</table>\n"
            ]
          },
          "metadata": {
            "tags": []
          }
        }
      ]
    },
    {
      "cell_type": "markdown",
      "metadata": {
        "id": "v7Bzgs9LCsQr"
      },
      "source": [
        "## 자전거 보관대 수"
      ]
    },
    {
      "cell_type": "code",
      "metadata": {
        "colab": {
          "base_uri": "https://localhost:8080/"
        },
        "id": "8jAYC13J-Vso",
        "outputId": "58a6ef3d-5da8-4e7a-acb5-b5d46e5b7d32"
      },
      "source": [
        "str(bicycle)\n",
        "head(bicycle)"
      ],
      "execution_count": null,
      "outputs": [
        {
          "output_type": "stream",
          "text": [
            "'data.frame':\t179 obs. of  17 variables:\n",
            " $ 번호              : int  1 2 3 4 5 6 7 8 9 10 ...\n",
            " $ 자전거보관소명    : chr  \"자전거 보관대\" \"자전거 보관대\" \"자전거 보관대\" \"자전거 보관대\" ...\n",
            " $ 소재지도로명주소  : chr  \"전라북도 전주시 덕진구 여암2길 9\" \"전라북도 전주시 덕진구 송천중앙로 116\" \"전라북도 전주시 덕진구 송천중앙로162\" \"전라북도 전주시 덕진구 송천중앙로 153\" ...\n",
            " $ 소재지지번주소    : chr  \"전라북도 전주시 덕진구 반월동 248-32\" \"전라북도 전주시 덕진구 송천동1가 395-28\" \"전라북도 전주시 덕진구 송천동1가 113-12\" \"전라북도 전주시 덕진구 송천동1가 481-4\" ...\n",
            " $ 행정동            : chr  \"조촌동\" \"송천1동\" \"송천2동\" \"송천2동\" ...\n",
            " $ 위도              : num  35.9 35.9 35.9 35.9 35.9 ...\n",
            " $ 경도              : num  127 127 127 127 127 ...\n",
            " $ 보관대수          : int  6 7 7 10 10 6 7 7 10 30 ...\n",
            " $ 설치연도          : int  NA NA NA NA NA NA NA NA NA NA ...\n",
            " $ 설치형태          : chr  \"거치형\" \"휀스형\" \"거치형\" \"휀스형\" ...\n",
            " $ 차양막설치여부    : chr  \"N\" \"Y\" \"N\" \"Y\" ...\n",
            " $ 공기주입기비치여부: chr  \"N\" \"N\" \"N\" \"N\" ...\n",
            " $ 공기주입기유형    : logi  NA NA NA NA NA NA ...\n",
            " $ 수리대설치여부    : chr  \"N\" \"N\" \"N\" \"N\" ...\n",
            " $ 관리기관전화번호  : chr  \"063-281-2602\" \"063-281-2603\" \"063-281-2604\" \"063-281-2605\" ...\n",
            " $ 관리기관명        : chr  \"전라북도 전주시청 자전거정책과\" \"전라북도 전주시청 자전거정책과\" \"전라북도 전주시청 자전거정책과\" \"전라북도 전주시청 자전거정책과\" ...\n",
            " $ 데이터기준일자    : chr  \"2020-08-31\" \"2020-08-31\" \"2020-08-31\" \"2020-08-31\" ...\n"
          ],
          "name": "stdout"
        },
        {
          "output_type": "display_data",
          "data": {
            "text/plain": [
              "  번호 자전거보관소명 소재지도로명주소                     \n",
              "1 1    자전거 보관대  전라북도 전주시 덕진구 여암2길 9     \n",
              "2 2    자전거 보관대  전라북도 전주시 덕진구 송천중앙로 116\n",
              "3 3    자전거 보관대  전라북도 전주시 덕진구 송천중앙로162 \n",
              "4 4    자전거 보관대  전라북도 전주시 덕진구 송천중앙로 153\n",
              "5 5    자전거 보관대  전라북도 전주시 덕진구 천마산로 40   \n",
              "6 6    자전거 보관대  전라북도 전주시 덕진구 견훤왕궁로 277\n",
              "  소재지지번주소                           행정동  위도  경도  보관대수\n",
              "1 전라북도 전주시 덕진구 반월동 248-32     조촌동  35.87 127.1  6      \n",
              "2 전라북도 전주시 덕진구 송천동1가 395-28  송천1동 35.86 127.1  7      \n",
              "3 전라북도 전주시 덕진구 송천동1가 113-12  송천2동 35.86 127.1  7      \n",
              "4 전라북도 전주시 덕진구 송천동1가 481-4   송천2동 35.86 127.1 10      \n",
              "5 전라북도 전주시 덕진구 송천동1가 107-172 송천2동 35.86 127.1 10      \n",
              "6 전라북도 전주시 덕진구 금암동 1600-6     금암2동 35.84 127.1  6      \n",
              "  설치연도 설치형태 차양막설치여부 공기주입기비치여부 공기주입기유형\n",
              "1 NA       거치형   N              N                  NA            \n",
              "2 NA       휀스형   Y              N                  NA            \n",
              "3 NA       거치형   N              N                  NA            \n",
              "4 NA       휀스형   Y              N                  NA            \n",
              "5 NA       휀스형   Y              N                  NA            \n",
              "6 NA       거치형   N              N                  NA            \n",
              "  수리대설치여부 관리기관전화번호 관리기관명                     데이터기준일자\n",
              "1 N              063-281-2602     전라북도 전주시청 자전거정책과 2020-08-31    \n",
              "2 N              063-281-2603     전라북도 전주시청 자전거정책과 2020-08-31    \n",
              "3 N              063-281-2604     전라북도 전주시청 자전거정책과 2020-08-31    \n",
              "4 N              063-281-2605     전라북도 전주시청 자전거정책과 2020-08-31    \n",
              "5 N              063-281-2606     전라북도 전주시청 자전거정책과 2020-08-31    \n",
              "6 N              063-281-2607     전라북도 전주시청 자전거정책과 2020-08-31    "
            ],
            "text/latex": "A data.frame: 6 × 17\n\\begin{tabular}{r|lllllllllllllllll}\n  & 번호 & 자전거보관소명 & 소재지도로명주소 & 소재지지번주소 & 행정동 & 위도 & 경도 & 보관대수 & 설치연도 & 설치형태 & 차양막설치여부 & 공기주입기비치여부 & 공기주입기유형 & 수리대설치여부 & 관리기관전화번호 & 관리기관명 & 데이터기준일자\\\\\n  & <int> & <chr> & <chr> & <chr> & <chr> & <dbl> & <dbl> & <int> & <int> & <chr> & <chr> & <chr> & <lgl> & <chr> & <chr> & <chr> & <chr>\\\\\n\\hline\n\t1 & 1 & 자전거 보관대 & 전라북도 전주시 덕진구 여암2길 9      & 전라북도 전주시 덕진구 반월동 248-32     & 조촌동  & 35.87 & 127.1 &  6 & NA & 거치형 & N & N & NA & N & 063-281-2602 & 전라북도 전주시청 자전거정책과 & 2020-08-31\\\\\n\t2 & 2 & 자전거 보관대 & 전라북도 전주시 덕진구 송천중앙로 116 & 전라북도 전주시 덕진구 송천동1가 395-28  & 송천1동 & 35.86 & 127.1 &  7 & NA & 휀스형 & Y & N & NA & N & 063-281-2603 & 전라북도 전주시청 자전거정책과 & 2020-08-31\\\\\n\t3 & 3 & 자전거 보관대 & 전라북도 전주시 덕진구 송천중앙로162  & 전라북도 전주시 덕진구 송천동1가 113-12  & 송천2동 & 35.86 & 127.1 &  7 & NA & 거치형 & N & N & NA & N & 063-281-2604 & 전라북도 전주시청 자전거정책과 & 2020-08-31\\\\\n\t4 & 4 & 자전거 보관대 & 전라북도 전주시 덕진구 송천중앙로 153 & 전라북도 전주시 덕진구 송천동1가 481-4   & 송천2동 & 35.86 & 127.1 & 10 & NA & 휀스형 & Y & N & NA & N & 063-281-2605 & 전라북도 전주시청 자전거정책과 & 2020-08-31\\\\\n\t5 & 5 & 자전거 보관대 & 전라북도 전주시 덕진구 천마산로 40    & 전라북도 전주시 덕진구 송천동1가 107-172 & 송천2동 & 35.86 & 127.1 & 10 & NA & 휀스형 & Y & N & NA & N & 063-281-2606 & 전라북도 전주시청 자전거정책과 & 2020-08-31\\\\\n\t6 & 6 & 자전거 보관대 & 전라북도 전주시 덕진구 견훤왕궁로 277 & 전라북도 전주시 덕진구 금암동 1600-6     & 금암2동 & 35.84 & 127.1 &  6 & NA & 거치형 & N & N & NA & N & 063-281-2607 & 전라북도 전주시청 자전거정책과 & 2020-08-31\\\\\n\\end{tabular}\n",
            "text/markdown": "\nA data.frame: 6 × 17\n\n| <!--/--> | 번호 &lt;int&gt; | 자전거보관소명 &lt;chr&gt; | 소재지도로명주소 &lt;chr&gt; | 소재지지번주소 &lt;chr&gt; | 행정동 &lt;chr&gt; | 위도 &lt;dbl&gt; | 경도 &lt;dbl&gt; | 보관대수 &lt;int&gt; | 설치연도 &lt;int&gt; | 설치형태 &lt;chr&gt; | 차양막설치여부 &lt;chr&gt; | 공기주입기비치여부 &lt;chr&gt; | 공기주입기유형 &lt;lgl&gt; | 수리대설치여부 &lt;chr&gt; | 관리기관전화번호 &lt;chr&gt; | 관리기관명 &lt;chr&gt; | 데이터기준일자 &lt;chr&gt; |\n|---|---|---|---|---|---|---|---|---|---|---|---|---|---|---|---|---|---|\n| 1 | 1 | 자전거 보관대 | 전라북도 전주시 덕진구 여암2길 9      | 전라북도 전주시 덕진구 반월동 248-32     | 조촌동  | 35.87 | 127.1 |  6 | NA | 거치형 | N | N | NA | N | 063-281-2602 | 전라북도 전주시청 자전거정책과 | 2020-08-31 |\n| 2 | 2 | 자전거 보관대 | 전라북도 전주시 덕진구 송천중앙로 116 | 전라북도 전주시 덕진구 송천동1가 395-28  | 송천1동 | 35.86 | 127.1 |  7 | NA | 휀스형 | Y | N | NA | N | 063-281-2603 | 전라북도 전주시청 자전거정책과 | 2020-08-31 |\n| 3 | 3 | 자전거 보관대 | 전라북도 전주시 덕진구 송천중앙로162  | 전라북도 전주시 덕진구 송천동1가 113-12  | 송천2동 | 35.86 | 127.1 |  7 | NA | 거치형 | N | N | NA | N | 063-281-2604 | 전라북도 전주시청 자전거정책과 | 2020-08-31 |\n| 4 | 4 | 자전거 보관대 | 전라북도 전주시 덕진구 송천중앙로 153 | 전라북도 전주시 덕진구 송천동1가 481-4   | 송천2동 | 35.86 | 127.1 | 10 | NA | 휀스형 | Y | N | NA | N | 063-281-2605 | 전라북도 전주시청 자전거정책과 | 2020-08-31 |\n| 5 | 5 | 자전거 보관대 | 전라북도 전주시 덕진구 천마산로 40    | 전라북도 전주시 덕진구 송천동1가 107-172 | 송천2동 | 35.86 | 127.1 | 10 | NA | 휀스형 | Y | N | NA | N | 063-281-2606 | 전라북도 전주시청 자전거정책과 | 2020-08-31 |\n| 6 | 6 | 자전거 보관대 | 전라북도 전주시 덕진구 견훤왕궁로 277 | 전라북도 전주시 덕진구 금암동 1600-6     | 금암2동 | 35.84 | 127.1 |  6 | NA | 거치형 | N | N | NA | N | 063-281-2607 | 전라북도 전주시청 자전거정책과 | 2020-08-31 |\n\n",
            "text/html": [
              "<table class=\"dataframe\">\n",
              "<caption>A data.frame: 6 × 17</caption>\n",
              "<thead>\n",
              "\t<tr><th></th><th scope=col>번호</th><th scope=col>자전거보관소명</th><th scope=col>소재지도로명주소</th><th scope=col>소재지지번주소</th><th scope=col>행정동</th><th scope=col>위도</th><th scope=col>경도</th><th scope=col>보관대수</th><th scope=col>설치연도</th><th scope=col>설치형태</th><th scope=col>차양막설치여부</th><th scope=col>공기주입기비치여부</th><th scope=col>공기주입기유형</th><th scope=col>수리대설치여부</th><th scope=col>관리기관전화번호</th><th scope=col>관리기관명</th><th scope=col>데이터기준일자</th></tr>\n",
              "\t<tr><th></th><th scope=col>&lt;int&gt;</th><th scope=col>&lt;chr&gt;</th><th scope=col>&lt;chr&gt;</th><th scope=col>&lt;chr&gt;</th><th scope=col>&lt;chr&gt;</th><th scope=col>&lt;dbl&gt;</th><th scope=col>&lt;dbl&gt;</th><th scope=col>&lt;int&gt;</th><th scope=col>&lt;int&gt;</th><th scope=col>&lt;chr&gt;</th><th scope=col>&lt;chr&gt;</th><th scope=col>&lt;chr&gt;</th><th scope=col>&lt;lgl&gt;</th><th scope=col>&lt;chr&gt;</th><th scope=col>&lt;chr&gt;</th><th scope=col>&lt;chr&gt;</th><th scope=col>&lt;chr&gt;</th></tr>\n",
              "</thead>\n",
              "<tbody>\n",
              "\t<tr><th scope=row>1</th><td>1</td><td>자전거 보관대</td><td>전라북도 전주시 덕진구 여암2길 9     </td><td>전라북도 전주시 덕진구 반월동 248-32    </td><td>조촌동 </td><td>35.87</td><td>127.1</td><td> 6</td><td>NA</td><td>거치형</td><td>N</td><td>N</td><td>NA</td><td>N</td><td>063-281-2602</td><td>전라북도 전주시청 자전거정책과</td><td>2020-08-31</td></tr>\n",
              "\t<tr><th scope=row>2</th><td>2</td><td>자전거 보관대</td><td>전라북도 전주시 덕진구 송천중앙로 116</td><td>전라북도 전주시 덕진구 송천동1가 395-28 </td><td>송천1동</td><td>35.86</td><td>127.1</td><td> 7</td><td>NA</td><td>휀스형</td><td>Y</td><td>N</td><td>NA</td><td>N</td><td>063-281-2603</td><td>전라북도 전주시청 자전거정책과</td><td>2020-08-31</td></tr>\n",
              "\t<tr><th scope=row>3</th><td>3</td><td>자전거 보관대</td><td>전라북도 전주시 덕진구 송천중앙로162 </td><td>전라북도 전주시 덕진구 송천동1가 113-12 </td><td>송천2동</td><td>35.86</td><td>127.1</td><td> 7</td><td>NA</td><td>거치형</td><td>N</td><td>N</td><td>NA</td><td>N</td><td>063-281-2604</td><td>전라북도 전주시청 자전거정책과</td><td>2020-08-31</td></tr>\n",
              "\t<tr><th scope=row>4</th><td>4</td><td>자전거 보관대</td><td>전라북도 전주시 덕진구 송천중앙로 153</td><td>전라북도 전주시 덕진구 송천동1가 481-4  </td><td>송천2동</td><td>35.86</td><td>127.1</td><td>10</td><td>NA</td><td>휀스형</td><td>Y</td><td>N</td><td>NA</td><td>N</td><td>063-281-2605</td><td>전라북도 전주시청 자전거정책과</td><td>2020-08-31</td></tr>\n",
              "\t<tr><th scope=row>5</th><td>5</td><td>자전거 보관대</td><td>전라북도 전주시 덕진구 천마산로 40   </td><td>전라북도 전주시 덕진구 송천동1가 107-172</td><td>송천2동</td><td>35.86</td><td>127.1</td><td>10</td><td>NA</td><td>휀스형</td><td>Y</td><td>N</td><td>NA</td><td>N</td><td>063-281-2606</td><td>전라북도 전주시청 자전거정책과</td><td>2020-08-31</td></tr>\n",
              "\t<tr><th scope=row>6</th><td>6</td><td>자전거 보관대</td><td>전라북도 전주시 덕진구 견훤왕궁로 277</td><td>전라북도 전주시 덕진구 금암동 1600-6    </td><td>금암2동</td><td>35.84</td><td>127.1</td><td> 6</td><td>NA</td><td>거치형</td><td>N</td><td>N</td><td>NA</td><td>N</td><td>063-281-2607</td><td>전라북도 전주시청 자전거정책과</td><td>2020-08-31</td></tr>\n",
              "</tbody>\n",
              "</table>\n"
            ]
          },
          "metadata": {
            "tags": []
          }
        }
      ]
    },
    {
      "cell_type": "markdown",
      "metadata": {
        "id": "e9kbB6Z2CvF7"
      },
      "source": [
        "▼  '번호', '행정동', '보관대수'만 뽑아서 다시 bicycle에 저장"
      ]
    },
    {
      "cell_type": "code",
      "metadata": {
        "colab": {
          "base_uri": "https://localhost:8080/"
        },
        "id": "tBv5RFp--Z5M",
        "outputId": "79b645ff-a4b1-459c-b878-70332624fcbf"
      },
      "source": [
        "bicycle <- bicycle[, c(1,5,8)]\n",
        "head(bicycle)"
      ],
      "execution_count": null,
      "outputs": [
        {
          "output_type": "display_data",
          "data": {
            "text/plain": [
              "  번호 행정동  보관대수\n",
              "1 1    조촌동   6      \n",
              "2 2    송천1동  7      \n",
              "3 3    송천2동  7      \n",
              "4 4    송천2동 10      \n",
              "5 5    송천2동 10      \n",
              "6 6    금암2동  6      "
            ],
            "text/latex": "A data.frame: 6 × 3\n\\begin{tabular}{r|lll}\n  & 번호 & 행정동 & 보관대수\\\\\n  & <int> & <chr> & <int>\\\\\n\\hline\n\t1 & 1 & 조촌동  &  6\\\\\n\t2 & 2 & 송천1동 &  7\\\\\n\t3 & 3 & 송천2동 &  7\\\\\n\t4 & 4 & 송천2동 & 10\\\\\n\t5 & 5 & 송천2동 & 10\\\\\n\t6 & 6 & 금암2동 &  6\\\\\n\\end{tabular}\n",
            "text/markdown": "\nA data.frame: 6 × 3\n\n| <!--/--> | 번호 &lt;int&gt; | 행정동 &lt;chr&gt; | 보관대수 &lt;int&gt; |\n|---|---|---|---|\n| 1 | 1 | 조촌동  |  6 |\n| 2 | 2 | 송천1동 |  7 |\n| 3 | 3 | 송천2동 |  7 |\n| 4 | 4 | 송천2동 | 10 |\n| 5 | 5 | 송천2동 | 10 |\n| 6 | 6 | 금암2동 |  6 |\n\n",
            "text/html": [
              "<table class=\"dataframe\">\n",
              "<caption>A data.frame: 6 × 3</caption>\n",
              "<thead>\n",
              "\t<tr><th></th><th scope=col>번호</th><th scope=col>행정동</th><th scope=col>보관대수</th></tr>\n",
              "\t<tr><th></th><th scope=col>&lt;int&gt;</th><th scope=col>&lt;chr&gt;</th><th scope=col>&lt;int&gt;</th></tr>\n",
              "</thead>\n",
              "<tbody>\n",
              "\t<tr><th scope=row>1</th><td>1</td><td>조촌동 </td><td> 6</td></tr>\n",
              "\t<tr><th scope=row>2</th><td>2</td><td>송천1동</td><td> 7</td></tr>\n",
              "\t<tr><th scope=row>3</th><td>3</td><td>송천2동</td><td> 7</td></tr>\n",
              "\t<tr><th scope=row>4</th><td>4</td><td>송천2동</td><td>10</td></tr>\n",
              "\t<tr><th scope=row>5</th><td>5</td><td>송천2동</td><td>10</td></tr>\n",
              "\t<tr><th scope=row>6</th><td>6</td><td>금암2동</td><td> 6</td></tr>\n",
              "</tbody>\n",
              "</table>\n"
            ]
          },
          "metadata": {
            "tags": []
          }
        }
      ]
    },
    {
      "cell_type": "markdown",
      "metadata": {
        "id": "SBfSGqZ7C7D-"
      },
      "source": [
        "▼ dplyr 패키지 이용해서 행정동을 기준으로 그룹화하고, 그 안에서 행정동별 자전거보관대의 수를 합친 결과를 출력한다."
      ]
    },
    {
      "cell_type": "code",
      "metadata": {
        "colab": {
          "base_uri": "https://localhost:8080/"
        },
        "id": "70Rk61ss-k3B",
        "outputId": "6d1946e8-b4a0-4866-d9e7-6086d0281208"
      },
      "source": [
        "bicycle <- bicycle %>% group_by(행정동) %>% summarise(자전거보관대수 = sum(보관대수))\n",
        "head(bicycle)"
      ],
      "execution_count": null,
      "outputs": [
        {
          "output_type": "display_data",
          "data": {
            "text/plain": [
              "  행정동   자전거보관대수\n",
              "1 금암1동  253           \n",
              "2 금암2동   20           \n",
              "3 노송동   138           \n",
              "4 덕진동   237           \n",
              "5 동서학동   7           \n",
              "6 삼천2동   21           "
            ],
            "text/latex": "A tibble: 6 × 2\n\\begin{tabular}{ll}\n 행정동 & 자전거보관대수\\\\\n <chr> & <int>\\\\\n\\hline\n\t 금암1동  & 253\\\\\n\t 금암2동  &  20\\\\\n\t 노송동   & 138\\\\\n\t 덕진동   & 237\\\\\n\t 동서학동 &   7\\\\\n\t 삼천2동  &  21\\\\\n\\end{tabular}\n",
            "text/markdown": "\nA tibble: 6 × 2\n\n| 행정동 &lt;chr&gt; | 자전거보관대수 &lt;int&gt; |\n|---|---|\n| 금암1동  | 253 |\n| 금암2동  |  20 |\n| 노송동   | 138 |\n| 덕진동   | 237 |\n| 동서학동 |   7 |\n| 삼천2동  |  21 |\n\n",
            "text/html": [
              "<table class=\"dataframe\">\n",
              "<caption>A tibble: 6 × 2</caption>\n",
              "<thead>\n",
              "\t<tr><th scope=col>행정동</th><th scope=col>자전거보관대수</th></tr>\n",
              "\t<tr><th scope=col>&lt;chr&gt;</th><th scope=col>&lt;int&gt;</th></tr>\n",
              "</thead>\n",
              "<tbody>\n",
              "\t<tr><td>금암1동 </td><td>253</td></tr>\n",
              "\t<tr><td>금암2동 </td><td> 20</td></tr>\n",
              "\t<tr><td>노송동  </td><td>138</td></tr>\n",
              "\t<tr><td>덕진동  </td><td>237</td></tr>\n",
              "\t<tr><td>동서학동</td><td>  7</td></tr>\n",
              "\t<tr><td>삼천2동 </td><td> 21</td></tr>\n",
              "</tbody>\n",
              "</table>\n"
            ]
          },
          "metadata": {
            "tags": []
          }
        }
      ]
    },
    {
      "cell_type": "markdown",
      "metadata": {
        "id": "T1S52-yqDEhb"
      },
      "source": [
        "1 bicycle을 데이터프레임으로 바꿔주고\n",
        "\n",
        "2 행정동을 기준으로 오름차순 정렬\n",
        "\n",
        "▼ "
      ]
    },
    {
      "cell_type": "code",
      "metadata": {
        "colab": {
          "base_uri": "https://localhost:8080/"
        },
        "id": "c3MKchk7-o3M",
        "outputId": "f1d461dd-b227-46fd-ec91-67326d499e7d"
      },
      "source": [
        "bicycle <- as.data.frame(bicycle)\n",
        "bicycle <- arrange(bicycle, bicycle$행정동)\n",
        "bicycle"
      ],
      "execution_count": null,
      "outputs": [
        {
          "output_type": "display_data",
          "data": {
            "text/plain": [
              "   행정동    자전거보관대수\n",
              "1  금암1동   253           \n",
              "2  금암2동    20           \n",
              "3  노송동    138           \n",
              "4  덕진동    237           \n",
              "5  동서학동    7           \n",
              "6  삼천2동    21           \n",
              "7  삼천3동    62           \n",
              "8  서서학동    7           \n",
              "9  서신동    126           \n",
              "10 송천1동    31           \n",
              "11 송천2동    27           \n",
              "12 완산동      7           \n",
              "13 우아2동   110           \n",
              "14 인후1동    78           \n",
              "15 인후2동    60           \n",
              "16 인후3동    20           \n",
              "17 조촌동     23           \n",
              "18 중앙동     68           \n",
              "19 중화산2동 119           \n",
              "20 진북동    125           \n",
              "21 팔복동     31           \n",
              "22 평화1동    95           \n",
              "23 평화2동    46           \n",
              "24 풍남동     24           \n",
              "25 효자1동    76           \n",
              "26 효자2동    65           \n",
              "27 효자3동    10           \n",
              "28 효자4동    42           \n",
              "29 효자5동    73           "
            ],
            "text/latex": "A data.frame: 29 × 2\n\\begin{tabular}{ll}\n 행정동 & 자전거보관대수\\\\\n <chr> & <int>\\\\\n\\hline\n\t 금암1동   & 253\\\\\n\t 금암2동   &  20\\\\\n\t 노송동    & 138\\\\\n\t 덕진동    & 237\\\\\n\t 동서학동  &   7\\\\\n\t 삼천2동   &  21\\\\\n\t 삼천3동   &  62\\\\\n\t 서서학동  &   7\\\\\n\t 서신동    & 126\\\\\n\t 송천1동   &  31\\\\\n\t 송천2동   &  27\\\\\n\t 완산동    &   7\\\\\n\t 우아2동   & 110\\\\\n\t 인후1동   &  78\\\\\n\t 인후2동   &  60\\\\\n\t 인후3동   &  20\\\\\n\t 조촌동    &  23\\\\\n\t 중앙동    &  68\\\\\n\t 중화산2동 & 119\\\\\n\t 진북동    & 125\\\\\n\t 팔복동    &  31\\\\\n\t 평화1동   &  95\\\\\n\t 평화2동   &  46\\\\\n\t 풍남동    &  24\\\\\n\t 효자1동   &  76\\\\\n\t 효자2동   &  65\\\\\n\t 효자3동   &  10\\\\\n\t 효자4동   &  42\\\\\n\t 효자5동   &  73\\\\\n\\end{tabular}\n",
            "text/markdown": "\nA data.frame: 29 × 2\n\n| 행정동 &lt;chr&gt; | 자전거보관대수 &lt;int&gt; |\n|---|---|\n| 금암1동   | 253 |\n| 금암2동   |  20 |\n| 노송동    | 138 |\n| 덕진동    | 237 |\n| 동서학동  |   7 |\n| 삼천2동   |  21 |\n| 삼천3동   |  62 |\n| 서서학동  |   7 |\n| 서신동    | 126 |\n| 송천1동   |  31 |\n| 송천2동   |  27 |\n| 완산동    |   7 |\n| 우아2동   | 110 |\n| 인후1동   |  78 |\n| 인후2동   |  60 |\n| 인후3동   |  20 |\n| 조촌동    |  23 |\n| 중앙동    |  68 |\n| 중화산2동 | 119 |\n| 진북동    | 125 |\n| 팔복동    |  31 |\n| 평화1동   |  95 |\n| 평화2동   |  46 |\n| 풍남동    |  24 |\n| 효자1동   |  76 |\n| 효자2동   |  65 |\n| 효자3동   |  10 |\n| 효자4동   |  42 |\n| 효자5동   |  73 |\n\n",
            "text/html": [
              "<table class=\"dataframe\">\n",
              "<caption>A data.frame: 29 × 2</caption>\n",
              "<thead>\n",
              "\t<tr><th scope=col>행정동</th><th scope=col>자전거보관대수</th></tr>\n",
              "\t<tr><th scope=col>&lt;chr&gt;</th><th scope=col>&lt;int&gt;</th></tr>\n",
              "</thead>\n",
              "<tbody>\n",
              "\t<tr><td>금암1동  </td><td>253</td></tr>\n",
              "\t<tr><td>금암2동  </td><td> 20</td></tr>\n",
              "\t<tr><td>노송동   </td><td>138</td></tr>\n",
              "\t<tr><td>덕진동   </td><td>237</td></tr>\n",
              "\t<tr><td>동서학동 </td><td>  7</td></tr>\n",
              "\t<tr><td>삼천2동  </td><td> 21</td></tr>\n",
              "\t<tr><td>삼천3동  </td><td> 62</td></tr>\n",
              "\t<tr><td>서서학동 </td><td>  7</td></tr>\n",
              "\t<tr><td>서신동   </td><td>126</td></tr>\n",
              "\t<tr><td>송천1동  </td><td> 31</td></tr>\n",
              "\t<tr><td>송천2동  </td><td> 27</td></tr>\n",
              "\t<tr><td>완산동   </td><td>  7</td></tr>\n",
              "\t<tr><td>우아2동  </td><td>110</td></tr>\n",
              "\t<tr><td>인후1동  </td><td> 78</td></tr>\n",
              "\t<tr><td>인후2동  </td><td> 60</td></tr>\n",
              "\t<tr><td>인후3동  </td><td> 20</td></tr>\n",
              "\t<tr><td>조촌동   </td><td> 23</td></tr>\n",
              "\t<tr><td>중앙동   </td><td> 68</td></tr>\n",
              "\t<tr><td>중화산2동</td><td>119</td></tr>\n",
              "\t<tr><td>진북동   </td><td>125</td></tr>\n",
              "\t<tr><td>팔복동   </td><td> 31</td></tr>\n",
              "\t<tr><td>평화1동  </td><td> 95</td></tr>\n",
              "\t<tr><td>평화2동  </td><td> 46</td></tr>\n",
              "\t<tr><td>풍남동   </td><td> 24</td></tr>\n",
              "\t<tr><td>효자1동  </td><td> 76</td></tr>\n",
              "\t<tr><td>효자2동  </td><td> 65</td></tr>\n",
              "\t<tr><td>효자3동  </td><td> 10</td></tr>\n",
              "\t<tr><td>효자4동  </td><td> 42</td></tr>\n",
              "\t<tr><td>효자5동  </td><td> 73</td></tr>\n",
              "</tbody>\n",
              "</table>\n"
            ]
          },
          "metadata": {
            "tags": []
          }
        }
      ]
    },
    {
      "cell_type": "markdown",
      "metadata": {
        "id": "nBA8euk1DLtv"
      },
      "source": [
        "▼ bicycle에서 누락된 행정동은 '삼천1동', '여의동', '우아1동', '중화산1동', '혁신동', '호성동' 총 6개!"
      ]
    },
    {
      "cell_type": "code",
      "metadata": {
        "colab": {
          "base_uri": "https://localhost:8080/"
        },
        "id": "c_bglu6E-uTY",
        "outputId": "7eb0b61b-23a9-4106-8fb4-dcd1bd4c0d0d"
      },
      "source": [
        "table(bicycle$행정동 %in% jjdong)\n",
        "table(jjdong %in% bicycle$행정동)\n",
        "\n",
        "\n",
        "jjdong[jjdong %in% bicycle$행정동 == FALSE]"
      ],
      "execution_count": null,
      "outputs": [
        {
          "output_type": "display_data",
          "data": {
            "text/plain": [
              "\n",
              "TRUE \n",
              "  29 "
            ]
          },
          "metadata": {
            "tags": []
          }
        },
        {
          "output_type": "display_data",
          "data": {
            "text/plain": [
              "\n",
              "FALSE  TRUE \n",
              "    6    29 "
            ]
          },
          "metadata": {
            "tags": []
          }
        },
        {
          "output_type": "display_data",
          "data": {
            "text/plain": [
              "[1] \"삼천1동\"   \"여의동\"    \"우아1동\"   \"중화산1동\" \"혁신동\"    \"호성동\"   "
            ],
            "text/latex": "\\begin{enumerate*}\n\\item '삼천1동'\n\\item '여의동'\n\\item '우아1동'\n\\item '중화산1동'\n\\item '혁신동'\n\\item '호성동'\n\\end{enumerate*}\n",
            "text/markdown": "1. '삼천1동'\n2. '여의동'\n3. '우아1동'\n4. '중화산1동'\n5. '혁신동'\n6. '호성동'\n\n\n",
            "text/html": [
              "<style>\n",
              ".list-inline {list-style: none; margin:0; padding: 0}\n",
              ".list-inline>li {display: inline-block}\n",
              ".list-inline>li:not(:last-child)::after {content: \"\\00b7\"; padding: 0 .5ex}\n",
              "</style>\n",
              "<ol class=list-inline><li>'삼천1동'</li><li>'여의동'</li><li>'우아1동'</li><li>'중화산1동'</li><li>'혁신동'</li><li>'호성동'</li></ol>\n"
            ]
          },
          "metadata": {
            "tags": []
          }
        }
      ]
    },
    {
      "cell_type": "markdown",
      "metadata": {
        "id": "Jhe75DntDcEl"
      },
      "source": [
        "▼ jjdong[jjdong %in% bicycle$행정동 == FALSE] 을 '행정동'으로, 이에 해당하는 자전거보관대 개수의 중앙값을 '자전거보관대수'로 저장하는 데이터프레임 add를 만든다.\n",
        "\n",
        "** NA로 설정하면 상관분석을 할 수가 없어서 일단 중앙값으로 설정해놓음"
      ]
    },
    {
      "cell_type": "code",
      "metadata": {
        "colab": {
          "base_uri": "https://localhost:8080/"
        },
        "id": "m1kNoXbo-7cG",
        "outputId": "a0f0c249-4ebe-48e2-b597-6853206e8f3f"
      },
      "source": [
        "add <- data.frame(행정동 = jjdong[jjdong %in% bicycle$행정동 == FALSE], \n",
        "                     자전거보관대수 = rep(median(bicycle$자전거보관대수), times = length(jjdong[jjdong %in% bicycle$행정동 == FALSE])))\n",
        "head(add)"
      ],
      "execution_count": null,
      "outputs": [
        {
          "output_type": "display_data",
          "data": {
            "text/plain": [
              "  행정동    자전거보관대수\n",
              "1 삼천1동   60            \n",
              "2 여의동    60            \n",
              "3 우아1동   60            \n",
              "4 중화산1동 60            \n",
              "5 혁신동    60            \n",
              "6 호성동    60            "
            ],
            "text/latex": "A data.frame: 6 × 2\n\\begin{tabular}{r|ll}\n  & 행정동 & 자전거보관대수\\\\\n  & <chr> & <int>\\\\\n\\hline\n\t1 & 삼천1동   & 60\\\\\n\t2 & 여의동    & 60\\\\\n\t3 & 우아1동   & 60\\\\\n\t4 & 중화산1동 & 60\\\\\n\t5 & 혁신동    & 60\\\\\n\t6 & 호성동    & 60\\\\\n\\end{tabular}\n",
            "text/markdown": "\nA data.frame: 6 × 2\n\n| <!--/--> | 행정동 &lt;chr&gt; | 자전거보관대수 &lt;int&gt; |\n|---|---|---|\n| 1 | 삼천1동   | 60 |\n| 2 | 여의동    | 60 |\n| 3 | 우아1동   | 60 |\n| 4 | 중화산1동 | 60 |\n| 5 | 혁신동    | 60 |\n| 6 | 호성동    | 60 |\n\n",
            "text/html": [
              "<table class=\"dataframe\">\n",
              "<caption>A data.frame: 6 × 2</caption>\n",
              "<thead>\n",
              "\t<tr><th></th><th scope=col>행정동</th><th scope=col>자전거보관대수</th></tr>\n",
              "\t<tr><th></th><th scope=col>&lt;chr&gt;</th><th scope=col>&lt;int&gt;</th></tr>\n",
              "</thead>\n",
              "<tbody>\n",
              "\t<tr><th scope=row>1</th><td>삼천1동  </td><td>60</td></tr>\n",
              "\t<tr><th scope=row>2</th><td>여의동   </td><td>60</td></tr>\n",
              "\t<tr><th scope=row>3</th><td>우아1동  </td><td>60</td></tr>\n",
              "\t<tr><th scope=row>4</th><td>중화산1동</td><td>60</td></tr>\n",
              "\t<tr><th scope=row>5</th><td>혁신동   </td><td>60</td></tr>\n",
              "\t<tr><th scope=row>6</th><td>호성동   </td><td>60</td></tr>\n",
              "</tbody>\n",
              "</table>\n"
            ]
          },
          "metadata": {
            "tags": []
          }
        }
      ]
    },
    {
      "cell_type": "markdown",
      "metadata": {
        "id": "yzJRdqKeDqrx"
      },
      "source": [
        "1 bicycle과 add를 행을 기준으로 합쳐서 다시 bicycle에 저장\n",
        "\n",
        "2 행정동을 기준으로 오름차순 정렬\n",
        "\n",
        "▼"
      ]
    },
    {
      "cell_type": "code",
      "metadata": {
        "colab": {
          "base_uri": "https://localhost:8080/"
        },
        "id": "eFHe37hg--73",
        "outputId": "5fa8aa5c-4e11-4a77-81fd-78304a42f9d9"
      },
      "source": [
        "bicycle <- rbind(bicycle, add)\n",
        "bicycle <- arrange(bicycle, bicycle$행정동)\n",
        "bicycle"
      ],
      "execution_count": null,
      "outputs": [
        {
          "output_type": "display_data",
          "data": {
            "text/plain": [
              "   행정동    자전거보관대수\n",
              "1  금암1동   253           \n",
              "2  금암2동    20           \n",
              "3  노송동    138           \n",
              "4  덕진동    237           \n",
              "5  동서학동    7           \n",
              "6  삼천1동    60           \n",
              "7  삼천2동    21           \n",
              "8  삼천3동    62           \n",
              "9  서서학동    7           \n",
              "10 서신동    126           \n",
              "11 송천1동    31           \n",
              "12 송천2동    27           \n",
              "13 여의동     60           \n",
              "14 완산동      7           \n",
              "15 우아1동    60           \n",
              "16 우아2동   110           \n",
              "17 인후1동    78           \n",
              "18 인후2동    60           \n",
              "19 인후3동    20           \n",
              "20 조촌동     23           \n",
              "21 중앙동     68           \n",
              "22 중화산1동  60           \n",
              "23 중화산2동 119           \n",
              "24 진북동    125           \n",
              "25 팔복동     31           \n",
              "26 평화1동    95           \n",
              "27 평화2동    46           \n",
              "28 풍남동     24           \n",
              "29 혁신동     60           \n",
              "30 호성동     60           \n",
              "31 효자1동    76           \n",
              "32 효자2동    65           \n",
              "33 효자3동    10           \n",
              "34 효자4동    42           \n",
              "35 효자5동    73           "
            ],
            "text/latex": "A data.frame: 35 × 2\n\\begin{tabular}{ll}\n 행정동 & 자전거보관대수\\\\\n <chr> & <int>\\\\\n\\hline\n\t 금암1동   & 253\\\\\n\t 금암2동   &  20\\\\\n\t 노송동    & 138\\\\\n\t 덕진동    & 237\\\\\n\t 동서학동  &   7\\\\\n\t 삼천1동   &  60\\\\\n\t 삼천2동   &  21\\\\\n\t 삼천3동   &  62\\\\\n\t 서서학동  &   7\\\\\n\t 서신동    & 126\\\\\n\t 송천1동   &  31\\\\\n\t 송천2동   &  27\\\\\n\t 여의동    &  60\\\\\n\t 완산동    &   7\\\\\n\t 우아1동   &  60\\\\\n\t 우아2동   & 110\\\\\n\t 인후1동   &  78\\\\\n\t 인후2동   &  60\\\\\n\t 인후3동   &  20\\\\\n\t 조촌동    &  23\\\\\n\t 중앙동    &  68\\\\\n\t 중화산1동 &  60\\\\\n\t 중화산2동 & 119\\\\\n\t 진북동    & 125\\\\\n\t 팔복동    &  31\\\\\n\t 평화1동   &  95\\\\\n\t 평화2동   &  46\\\\\n\t 풍남동    &  24\\\\\n\t 혁신동    &  60\\\\\n\t 호성동    &  60\\\\\n\t 효자1동   &  76\\\\\n\t 효자2동   &  65\\\\\n\t 효자3동   &  10\\\\\n\t 효자4동   &  42\\\\\n\t 효자5동   &  73\\\\\n\\end{tabular}\n",
            "text/markdown": "\nA data.frame: 35 × 2\n\n| 행정동 &lt;chr&gt; | 자전거보관대수 &lt;int&gt; |\n|---|---|\n| 금암1동   | 253 |\n| 금암2동   |  20 |\n| 노송동    | 138 |\n| 덕진동    | 237 |\n| 동서학동  |   7 |\n| 삼천1동   |  60 |\n| 삼천2동   |  21 |\n| 삼천3동   |  62 |\n| 서서학동  |   7 |\n| 서신동    | 126 |\n| 송천1동   |  31 |\n| 송천2동   |  27 |\n| 여의동    |  60 |\n| 완산동    |   7 |\n| 우아1동   |  60 |\n| 우아2동   | 110 |\n| 인후1동   |  78 |\n| 인후2동   |  60 |\n| 인후3동   |  20 |\n| 조촌동    |  23 |\n| 중앙동    |  68 |\n| 중화산1동 |  60 |\n| 중화산2동 | 119 |\n| 진북동    | 125 |\n| 팔복동    |  31 |\n| 평화1동   |  95 |\n| 평화2동   |  46 |\n| 풍남동    |  24 |\n| 혁신동    |  60 |\n| 호성동    |  60 |\n| 효자1동   |  76 |\n| 효자2동   |  65 |\n| 효자3동   |  10 |\n| 효자4동   |  42 |\n| 효자5동   |  73 |\n\n",
            "text/html": [
              "<table class=\"dataframe\">\n",
              "<caption>A data.frame: 35 × 2</caption>\n",
              "<thead>\n",
              "\t<tr><th scope=col>행정동</th><th scope=col>자전거보관대수</th></tr>\n",
              "\t<tr><th scope=col>&lt;chr&gt;</th><th scope=col>&lt;int&gt;</th></tr>\n",
              "</thead>\n",
              "<tbody>\n",
              "\t<tr><td>금암1동  </td><td>253</td></tr>\n",
              "\t<tr><td>금암2동  </td><td> 20</td></tr>\n",
              "\t<tr><td>노송동   </td><td>138</td></tr>\n",
              "\t<tr><td>덕진동   </td><td>237</td></tr>\n",
              "\t<tr><td>동서학동 </td><td>  7</td></tr>\n",
              "\t<tr><td>삼천1동  </td><td> 60</td></tr>\n",
              "\t<tr><td>삼천2동  </td><td> 21</td></tr>\n",
              "\t<tr><td>삼천3동  </td><td> 62</td></tr>\n",
              "\t<tr><td>서서학동 </td><td>  7</td></tr>\n",
              "\t<tr><td>서신동   </td><td>126</td></tr>\n",
              "\t<tr><td>송천1동  </td><td> 31</td></tr>\n",
              "\t<tr><td>송천2동  </td><td> 27</td></tr>\n",
              "\t<tr><td>여의동   </td><td> 60</td></tr>\n",
              "\t<tr><td>완산동   </td><td>  7</td></tr>\n",
              "\t<tr><td>우아1동  </td><td> 60</td></tr>\n",
              "\t<tr><td>우아2동  </td><td>110</td></tr>\n",
              "\t<tr><td>인후1동  </td><td> 78</td></tr>\n",
              "\t<tr><td>인후2동  </td><td> 60</td></tr>\n",
              "\t<tr><td>인후3동  </td><td> 20</td></tr>\n",
              "\t<tr><td>조촌동   </td><td> 23</td></tr>\n",
              "\t<tr><td>중앙동   </td><td> 68</td></tr>\n",
              "\t<tr><td>중화산1동</td><td> 60</td></tr>\n",
              "\t<tr><td>중화산2동</td><td>119</td></tr>\n",
              "\t<tr><td>진북동   </td><td>125</td></tr>\n",
              "\t<tr><td>팔복동   </td><td> 31</td></tr>\n",
              "\t<tr><td>평화1동  </td><td> 95</td></tr>\n",
              "\t<tr><td>평화2동  </td><td> 46</td></tr>\n",
              "\t<tr><td>풍남동   </td><td> 24</td></tr>\n",
              "\t<tr><td>혁신동   </td><td> 60</td></tr>\n",
              "\t<tr><td>호성동   </td><td> 60</td></tr>\n",
              "\t<tr><td>효자1동  </td><td> 76</td></tr>\n",
              "\t<tr><td>효자2동  </td><td> 65</td></tr>\n",
              "\t<tr><td>효자3동  </td><td> 10</td></tr>\n",
              "\t<tr><td>효자4동  </td><td> 42</td></tr>\n",
              "\t<tr><td>효자5동  </td><td> 73</td></tr>\n",
              "</tbody>\n",
              "</table>\n"
            ]
          },
          "metadata": {
            "tags": []
          }
        }
      ]
    },
    {
      "cell_type": "markdown",
      "metadata": {
        "id": "PY76dnQXD7fJ"
      },
      "source": [
        "## 대규모점포 수"
      ]
    },
    {
      "cell_type": "code",
      "metadata": {
        "colab": {
          "base_uri": "https://localhost:8080/"
        },
        "id": "pNLuyeE4_CCN",
        "outputId": "7b981fbe-3f6f-4037-ced3-dc7965a7ae6c"
      },
      "source": [
        "str(bigstore)\n",
        "head(bigstore)"
      ],
      "execution_count": null,
      "outputs": [
        {
          "output_type": "stream",
          "text": [
            "'data.frame':\t43 obs. of  5 variables:\n",
            " $ 분류   : chr  \"대규모점포\" \"대규모점포\" \"대규모점포\" \"대규모점포\" ...\n",
            " $ store  : chr  \"롯데백화점 전주점\" \"E-마트\" \"홈플러스 완산점\" \"홈플러스 전주점\" ...\n",
            " $ address: chr  \"전주시 완산구 온고을로 2\" \"전주시 완산구 당산로 111\" \"전주시 완산구 기린대로 170\" \"전주시 덕진구 백제대로 771\" ...\n",
            " $ 행정동 : chr  \"서신동\" \"서신동\" \"노송동\" \"우아1동\" ...\n",
            " $ 면적   : int  28179 6571 13121 8471 22657 10430 10387 6115 7721 21317 ...\n"
          ],
          "name": "stdout"
        },
        {
          "output_type": "display_data",
          "data": {
            "text/plain": [
              "  분류       store             address                    행정동  면적 \n",
              "1 대규모점포 롯데백화점 전주점 전주시 완산구 온고을로 2   서신동  28179\n",
              "2 대규모점포 E-마트            전주시 완산구 당산로 111   서신동   6571\n",
              "3 대규모점포 홈플러스 완산점   전주시 완산구 기린대로 170 노송동  13121\n",
              "4 대규모점포 홈플러스 전주점   전주시 덕진구 백제대로 771 우아1동  8471\n",
              "5 대규모점포 홈플러스 효자점   전주시 완산구 용머리로 31  효자3동 22657\n",
              "6 대규모점포 롯데마트 전주점   전주시 완산구 우전로 240   효자4동 10430"
            ],
            "text/latex": "A data.frame: 6 × 5\n\\begin{tabular}{r|lllll}\n  & 분류 & store & address & 행정동 & 면적\\\\\n  & <chr> & <chr> & <chr> & <chr> & <int>\\\\\n\\hline\n\t1 & 대규모점포 & 롯데백화점 전주점 & 전주시 완산구 온고을로 2   & 서신동  & 28179\\\\\n\t2 & 대규모점포 & E-마트            & 전주시 완산구 당산로 111   & 서신동  &  6571\\\\\n\t3 & 대규모점포 & 홈플러스 완산점   & 전주시 완산구 기린대로 170 & 노송동  & 13121\\\\\n\t4 & 대규모점포 & 홈플러스 전주점   & 전주시 덕진구 백제대로 771 & 우아1동 &  8471\\\\\n\t5 & 대규모점포 & 홈플러스 효자점   & 전주시 완산구 용머리로 31  & 효자3동 & 22657\\\\\n\t6 & 대규모점포 & 롯데마트 전주점   & 전주시 완산구 우전로 240   & 효자4동 & 10430\\\\\n\\end{tabular}\n",
            "text/markdown": "\nA data.frame: 6 × 5\n\n| <!--/--> | 분류 &lt;chr&gt; | store &lt;chr&gt; | address &lt;chr&gt; | 행정동 &lt;chr&gt; | 면적 &lt;int&gt; |\n|---|---|---|---|---|---|\n| 1 | 대규모점포 | 롯데백화점 전주점 | 전주시 완산구 온고을로 2   | 서신동  | 28179 |\n| 2 | 대규모점포 | E-마트            | 전주시 완산구 당산로 111   | 서신동  |  6571 |\n| 3 | 대규모점포 | 홈플러스 완산점   | 전주시 완산구 기린대로 170 | 노송동  | 13121 |\n| 4 | 대규모점포 | 홈플러스 전주점   | 전주시 덕진구 백제대로 771 | 우아1동 |  8471 |\n| 5 | 대규모점포 | 홈플러스 효자점   | 전주시 완산구 용머리로 31  | 효자3동 | 22657 |\n| 6 | 대규모점포 | 롯데마트 전주점   | 전주시 완산구 우전로 240   | 효자4동 | 10430 |\n\n",
            "text/html": [
              "<table class=\"dataframe\">\n",
              "<caption>A data.frame: 6 × 5</caption>\n",
              "<thead>\n",
              "\t<tr><th></th><th scope=col>분류</th><th scope=col>store</th><th scope=col>address</th><th scope=col>행정동</th><th scope=col>면적</th></tr>\n",
              "\t<tr><th></th><th scope=col>&lt;chr&gt;</th><th scope=col>&lt;chr&gt;</th><th scope=col>&lt;chr&gt;</th><th scope=col>&lt;chr&gt;</th><th scope=col>&lt;int&gt;</th></tr>\n",
              "</thead>\n",
              "<tbody>\n",
              "\t<tr><th scope=row>1</th><td>대규모점포</td><td>롯데백화점 전주점</td><td>전주시 완산구 온고을로 2  </td><td>서신동 </td><td>28179</td></tr>\n",
              "\t<tr><th scope=row>2</th><td>대규모점포</td><td>E-마트           </td><td>전주시 완산구 당산로 111  </td><td>서신동 </td><td> 6571</td></tr>\n",
              "\t<tr><th scope=row>3</th><td>대규모점포</td><td>홈플러스 완산점  </td><td>전주시 완산구 기린대로 170</td><td>노송동 </td><td>13121</td></tr>\n",
              "\t<tr><th scope=row>4</th><td>대규모점포</td><td>홈플러스 전주점  </td><td>전주시 덕진구 백제대로 771</td><td>우아1동</td><td> 8471</td></tr>\n",
              "\t<tr><th scope=row>5</th><td>대규모점포</td><td>홈플러스 효자점  </td><td>전주시 완산구 용머리로 31 </td><td>효자3동</td><td>22657</td></tr>\n",
              "\t<tr><th scope=row>6</th><td>대규모점포</td><td>롯데마트 전주점  </td><td>전주시 완산구 우전로 240  </td><td>효자4동</td><td>10430</td></tr>\n",
              "</tbody>\n",
              "</table>\n"
            ]
          },
          "metadata": {
            "tags": []
          }
        }
      ]
    },
    {
      "cell_type": "code",
      "metadata": {
        "colab": {
          "base_uri": "https://localhost:8080/"
        },
        "id": "U-78S9gu_F65",
        "outputId": "3d295af7-0a08-4851-f7df-09e82509cc87"
      },
      "source": [
        "bigstore <- bigstore[,c(2,4,5)]\n",
        "bigstore$count <- rep(1,nrow(bigstore))\n",
        "head(bigstore)"
      ],
      "execution_count": null,
      "outputs": [
        {
          "output_type": "display_data",
          "data": {
            "text/plain": [
              "  store             행정동  면적  count\n",
              "1 롯데백화점 전주점 서신동  28179 1    \n",
              "2 E-마트            서신동   6571 1    \n",
              "3 홈플러스 완산점   노송동  13121 1    \n",
              "4 홈플러스 전주점   우아1동  8471 1    \n",
              "5 홈플러스 효자점   효자3동 22657 1    \n",
              "6 롯데마트 전주점   효자4동 10430 1    "
            ],
            "text/latex": "A data.frame: 6 × 4\n\\begin{tabular}{r|llll}\n  & store & 행정동 & 면적 & count\\\\\n  & <chr> & <chr> & <int> & <dbl>\\\\\n\\hline\n\t1 & 롯데백화점 전주점 & 서신동  & 28179 & 1\\\\\n\t2 & E-마트            & 서신동  &  6571 & 1\\\\\n\t3 & 홈플러스 완산점   & 노송동  & 13121 & 1\\\\\n\t4 & 홈플러스 전주점   & 우아1동 &  8471 & 1\\\\\n\t5 & 홈플러스 효자점   & 효자3동 & 22657 & 1\\\\\n\t6 & 롯데마트 전주점   & 효자4동 & 10430 & 1\\\\\n\\end{tabular}\n",
            "text/markdown": "\nA data.frame: 6 × 4\n\n| <!--/--> | store &lt;chr&gt; | 행정동 &lt;chr&gt; | 면적 &lt;int&gt; | count &lt;dbl&gt; |\n|---|---|---|---|---|\n| 1 | 롯데백화점 전주점 | 서신동  | 28179 | 1 |\n| 2 | E-마트            | 서신동  |  6571 | 1 |\n| 3 | 홈플러스 완산점   | 노송동  | 13121 | 1 |\n| 4 | 홈플러스 전주점   | 우아1동 |  8471 | 1 |\n| 5 | 홈플러스 효자점   | 효자3동 | 22657 | 1 |\n| 6 | 롯데마트 전주점   | 효자4동 | 10430 | 1 |\n\n",
            "text/html": [
              "<table class=\"dataframe\">\n",
              "<caption>A data.frame: 6 × 4</caption>\n",
              "<thead>\n",
              "\t<tr><th></th><th scope=col>store</th><th scope=col>행정동</th><th scope=col>면적</th><th scope=col>count</th></tr>\n",
              "\t<tr><th></th><th scope=col>&lt;chr&gt;</th><th scope=col>&lt;chr&gt;</th><th scope=col>&lt;int&gt;</th><th scope=col>&lt;dbl&gt;</th></tr>\n",
              "</thead>\n",
              "<tbody>\n",
              "\t<tr><th scope=row>1</th><td>롯데백화점 전주점</td><td>서신동 </td><td>28179</td><td>1</td></tr>\n",
              "\t<tr><th scope=row>2</th><td>E-마트           </td><td>서신동 </td><td> 6571</td><td>1</td></tr>\n",
              "\t<tr><th scope=row>3</th><td>홈플러스 완산점  </td><td>노송동 </td><td>13121</td><td>1</td></tr>\n",
              "\t<tr><th scope=row>4</th><td>홈플러스 전주점  </td><td>우아1동</td><td> 8471</td><td>1</td></tr>\n",
              "\t<tr><th scope=row>5</th><td>홈플러스 효자점  </td><td>효자3동</td><td>22657</td><td>1</td></tr>\n",
              "\t<tr><th scope=row>6</th><td>롯데마트 전주점  </td><td>효자4동</td><td>10430</td><td>1</td></tr>\n",
              "</tbody>\n",
              "</table>\n"
            ]
          },
          "metadata": {
            "tags": []
          }
        }
      ]
    },
    {
      "cell_type": "code",
      "metadata": {
        "colab": {
          "base_uri": "https://localhost:8080/"
        },
        "id": "-EMLTcPh_KyP",
        "outputId": "4c77c53c-cafe-452a-898f-fa4aedd2c0a6"
      },
      "source": [
        "bigstore <- bigstore %>% group_by(행정동) %>% summarise(대규모점포수 = sum(count))\n",
        "bigstore <- as.data.frame(bigstore)\n",
        "bigstore <- arrange(bigstore, bigstore$행정동)\n",
        "head(bigstore)"
      ],
      "execution_count": null,
      "outputs": [
        {
          "output_type": "display_data",
          "data": {
            "text/plain": [
              "  행정동  대규모점포수\n",
              "1 금암1동 1           \n",
              "2 노송동  2           \n",
              "3 덕진동  1           \n",
              "4 삼천3동 2           \n",
              "5 서신동  4           \n",
              "6 송천1동 3           "
            ],
            "text/latex": "A data.frame: 6 × 2\n\\begin{tabular}{r|ll}\n  & 행정동 & 대규모점포수\\\\\n  & <chr> & <dbl>\\\\\n\\hline\n\t1 & 금암1동 & 1\\\\\n\t2 & 노송동  & 2\\\\\n\t3 & 덕진동  & 1\\\\\n\t4 & 삼천3동 & 2\\\\\n\t5 & 서신동  & 4\\\\\n\t6 & 송천1동 & 3\\\\\n\\end{tabular}\n",
            "text/markdown": "\nA data.frame: 6 × 2\n\n| <!--/--> | 행정동 &lt;chr&gt; | 대규모점포수 &lt;dbl&gt; |\n|---|---|---|\n| 1 | 금암1동 | 1 |\n| 2 | 노송동  | 2 |\n| 3 | 덕진동  | 1 |\n| 4 | 삼천3동 | 2 |\n| 5 | 서신동  | 4 |\n| 6 | 송천1동 | 3 |\n\n",
            "text/html": [
              "<table class=\"dataframe\">\n",
              "<caption>A data.frame: 6 × 2</caption>\n",
              "<thead>\n",
              "\t<tr><th></th><th scope=col>행정동</th><th scope=col>대규모점포수</th></tr>\n",
              "\t<tr><th></th><th scope=col>&lt;chr&gt;</th><th scope=col>&lt;dbl&gt;</th></tr>\n",
              "</thead>\n",
              "<tbody>\n",
              "\t<tr><th scope=row>1</th><td>금암1동</td><td>1</td></tr>\n",
              "\t<tr><th scope=row>2</th><td>노송동 </td><td>2</td></tr>\n",
              "\t<tr><th scope=row>3</th><td>덕진동 </td><td>1</td></tr>\n",
              "\t<tr><th scope=row>4</th><td>삼천3동</td><td>2</td></tr>\n",
              "\t<tr><th scope=row>5</th><td>서신동 </td><td>4</td></tr>\n",
              "\t<tr><th scope=row>6</th><td>송천1동</td><td>3</td></tr>\n",
              "</tbody>\n",
              "</table>\n"
            ]
          },
          "metadata": {
            "tags": []
          }
        }
      ]
    },
    {
      "cell_type": "code",
      "metadata": {
        "colab": {
          "base_uri": "https://localhost:8080/"
        },
        "id": "5rxUoEBS_Ofj",
        "outputId": "cbb13cdf-0fc2-425d-cc30-309a32835404"
      },
      "source": [
        "table(bigstore$행정동 %in% jjdong)\n",
        "table(jjdong %in% bigstore$행정동)\n",
        "\n",
        "\n",
        "jjdong[jjdong %in% bigstore$행정동 == FALSE]"
      ],
      "execution_count": null,
      "outputs": [
        {
          "output_type": "display_data",
          "data": {
            "text/plain": [
              "\n",
              "TRUE \n",
              "  19 "
            ]
          },
          "metadata": {
            "tags": []
          }
        },
        {
          "output_type": "display_data",
          "data": {
            "text/plain": [
              "\n",
              "FALSE  TRUE \n",
              "   16    19 "
            ]
          },
          "metadata": {
            "tags": []
          }
        },
        {
          "output_type": "display_data",
          "data": {
            "text/plain": [
              " [1] \"금암2동\"   \"동서학동\"  \"삼천1동\"   \"삼천2동\"   \"서서학동\"  \"송천2동\"  \n",
              " [7] \"완산동\"    \"우아2동\"   \"조촌동\"    \"중화산2동\" \"진북동\"    \"팔복동\"   \n",
              "[13] \"평화1동\"   \"혁신동\"    \"효자2동\"   \"효자5동\"  "
            ],
            "text/latex": "\\begin{enumerate*}\n\\item '금암2동'\n\\item '동서학동'\n\\item '삼천1동'\n\\item '삼천2동'\n\\item '서서학동'\n\\item '송천2동'\n\\item '완산동'\n\\item '우아2동'\n\\item '조촌동'\n\\item '중화산2동'\n\\item '진북동'\n\\item '팔복동'\n\\item '평화1동'\n\\item '혁신동'\n\\item '효자2동'\n\\item '효자5동'\n\\end{enumerate*}\n",
            "text/markdown": "1. '금암2동'\n2. '동서학동'\n3. '삼천1동'\n4. '삼천2동'\n5. '서서학동'\n6. '송천2동'\n7. '완산동'\n8. '우아2동'\n9. '조촌동'\n10. '중화산2동'\n11. '진북동'\n12. '팔복동'\n13. '평화1동'\n14. '혁신동'\n15. '효자2동'\n16. '효자5동'\n\n\n",
            "text/html": [
              "<style>\n",
              ".list-inline {list-style: none; margin:0; padding: 0}\n",
              ".list-inline>li {display: inline-block}\n",
              ".list-inline>li:not(:last-child)::after {content: \"\\00b7\"; padding: 0 .5ex}\n",
              "</style>\n",
              "<ol class=list-inline><li>'금암2동'</li><li>'동서학동'</li><li>'삼천1동'</li><li>'삼천2동'</li><li>'서서학동'</li><li>'송천2동'</li><li>'완산동'</li><li>'우아2동'</li><li>'조촌동'</li><li>'중화산2동'</li><li>'진북동'</li><li>'팔복동'</li><li>'평화1동'</li><li>'혁신동'</li><li>'효자2동'</li><li>'효자5동'</li></ol>\n"
            ]
          },
          "metadata": {
            "tags": []
          }
        }
      ]
    },
    {
      "cell_type": "code",
      "metadata": {
        "colab": {
          "base_uri": "https://localhost:8080/"
        },
        "id": "qwX1gyfk_RwO",
        "outputId": "267b327b-d8cb-4911-c043-9c03834e89f1"
      },
      "source": [
        "add <- data.frame(행정동 = jjdong[jjdong %in% bigstore$행정동 == FALSE], \n",
        "                  대규모점포수 = rep(0, length(jjdong[jjdong %in% bigstore$행정동 == FALSE])))\n",
        "bigstore <- rbind(bigstore, add)\n",
        "bigstore <- arrange(bigstore, bigstore$행정동)\n",
        "bigstore"
      ],
      "execution_count": null,
      "outputs": [
        {
          "output_type": "display_data",
          "data": {
            "text/plain": [
              "   행정동    대규모점포수\n",
              "1  금암1동   1           \n",
              "2  금암2동   0           \n",
              "3  노송동    2           \n",
              "4  덕진동    1           \n",
              "5  동서학동  0           \n",
              "6  삼천1동   0           \n",
              "7  삼천2동   0           \n",
              "8  삼천3동   2           \n",
              "9  서서학동  0           \n",
              "10 서신동    4           \n",
              "11 송천1동   3           \n",
              "12 송천2동   0           \n",
              "13 여의동    3           \n",
              "14 완산동    0           \n",
              "15 우아1동   1           \n",
              "16 우아2동   0           \n",
              "17 인후1동   1           \n",
              "18 인후2동   1           \n",
              "19 인후3동   1           \n",
              "20 조촌동    0           \n",
              "21 중앙동    4           \n",
              "22 중화산1동 1           \n",
              "23 중화산2동 0           \n",
              "24 진북동    0           \n",
              "25 팔복동    0           \n",
              "26 평화1동   0           \n",
              "27 평화2동   3           \n",
              "28 풍남동    2           \n",
              "29 혁신동    0           \n",
              "30 호성동    1           \n",
              "31 효자1동   2           \n",
              "32 효자2동   0           \n",
              "33 효자3동   2           \n",
              "34 효자4동   8           \n",
              "35 효자5동   0           "
            ],
            "text/latex": "A data.frame: 35 × 2\n\\begin{tabular}{ll}\n 행정동 & 대규모점포수\\\\\n <chr> & <dbl>\\\\\n\\hline\n\t 금암1동   & 1\\\\\n\t 금암2동   & 0\\\\\n\t 노송동    & 2\\\\\n\t 덕진동    & 1\\\\\n\t 동서학동  & 0\\\\\n\t 삼천1동   & 0\\\\\n\t 삼천2동   & 0\\\\\n\t 삼천3동   & 2\\\\\n\t 서서학동  & 0\\\\\n\t 서신동    & 4\\\\\n\t 송천1동   & 3\\\\\n\t 송천2동   & 0\\\\\n\t 여의동    & 3\\\\\n\t 완산동    & 0\\\\\n\t 우아1동   & 1\\\\\n\t 우아2동   & 0\\\\\n\t 인후1동   & 1\\\\\n\t 인후2동   & 1\\\\\n\t 인후3동   & 1\\\\\n\t 조촌동    & 0\\\\\n\t 중앙동    & 4\\\\\n\t 중화산1동 & 1\\\\\n\t 중화산2동 & 0\\\\\n\t 진북동    & 0\\\\\n\t 팔복동    & 0\\\\\n\t 평화1동   & 0\\\\\n\t 평화2동   & 3\\\\\n\t 풍남동    & 2\\\\\n\t 혁신동    & 0\\\\\n\t 호성동    & 1\\\\\n\t 효자1동   & 2\\\\\n\t 효자2동   & 0\\\\\n\t 효자3동   & 2\\\\\n\t 효자4동   & 8\\\\\n\t 효자5동   & 0\\\\\n\\end{tabular}\n",
            "text/markdown": "\nA data.frame: 35 × 2\n\n| 행정동 &lt;chr&gt; | 대규모점포수 &lt;dbl&gt; |\n|---|---|\n| 금암1동   | 1 |\n| 금암2동   | 0 |\n| 노송동    | 2 |\n| 덕진동    | 1 |\n| 동서학동  | 0 |\n| 삼천1동   | 0 |\n| 삼천2동   | 0 |\n| 삼천3동   | 2 |\n| 서서학동  | 0 |\n| 서신동    | 4 |\n| 송천1동   | 3 |\n| 송천2동   | 0 |\n| 여의동    | 3 |\n| 완산동    | 0 |\n| 우아1동   | 1 |\n| 우아2동   | 0 |\n| 인후1동   | 1 |\n| 인후2동   | 1 |\n| 인후3동   | 1 |\n| 조촌동    | 0 |\n| 중앙동    | 4 |\n| 중화산1동 | 1 |\n| 중화산2동 | 0 |\n| 진북동    | 0 |\n| 팔복동    | 0 |\n| 평화1동   | 0 |\n| 평화2동   | 3 |\n| 풍남동    | 2 |\n| 혁신동    | 0 |\n| 호성동    | 1 |\n| 효자1동   | 2 |\n| 효자2동   | 0 |\n| 효자3동   | 2 |\n| 효자4동   | 8 |\n| 효자5동   | 0 |\n\n",
            "text/html": [
              "<table class=\"dataframe\">\n",
              "<caption>A data.frame: 35 × 2</caption>\n",
              "<thead>\n",
              "\t<tr><th scope=col>행정동</th><th scope=col>대규모점포수</th></tr>\n",
              "\t<tr><th scope=col>&lt;chr&gt;</th><th scope=col>&lt;dbl&gt;</th></tr>\n",
              "</thead>\n",
              "<tbody>\n",
              "\t<tr><td>금암1동  </td><td>1</td></tr>\n",
              "\t<tr><td>금암2동  </td><td>0</td></tr>\n",
              "\t<tr><td>노송동   </td><td>2</td></tr>\n",
              "\t<tr><td>덕진동   </td><td>1</td></tr>\n",
              "\t<tr><td>동서학동 </td><td>0</td></tr>\n",
              "\t<tr><td>삼천1동  </td><td>0</td></tr>\n",
              "\t<tr><td>삼천2동  </td><td>0</td></tr>\n",
              "\t<tr><td>삼천3동  </td><td>2</td></tr>\n",
              "\t<tr><td>서서학동 </td><td>0</td></tr>\n",
              "\t<tr><td>서신동   </td><td>4</td></tr>\n",
              "\t<tr><td>송천1동  </td><td>3</td></tr>\n",
              "\t<tr><td>송천2동  </td><td>0</td></tr>\n",
              "\t<tr><td>여의동   </td><td>3</td></tr>\n",
              "\t<tr><td>완산동   </td><td>0</td></tr>\n",
              "\t<tr><td>우아1동  </td><td>1</td></tr>\n",
              "\t<tr><td>우아2동  </td><td>0</td></tr>\n",
              "\t<tr><td>인후1동  </td><td>1</td></tr>\n",
              "\t<tr><td>인후2동  </td><td>1</td></tr>\n",
              "\t<tr><td>인후3동  </td><td>1</td></tr>\n",
              "\t<tr><td>조촌동   </td><td>0</td></tr>\n",
              "\t<tr><td>중앙동   </td><td>4</td></tr>\n",
              "\t<tr><td>중화산1동</td><td>1</td></tr>\n",
              "\t<tr><td>중화산2동</td><td>0</td></tr>\n",
              "\t<tr><td>진북동   </td><td>0</td></tr>\n",
              "\t<tr><td>팔복동   </td><td>0</td></tr>\n",
              "\t<tr><td>평화1동  </td><td>0</td></tr>\n",
              "\t<tr><td>평화2동  </td><td>3</td></tr>\n",
              "\t<tr><td>풍남동   </td><td>2</td></tr>\n",
              "\t<tr><td>혁신동   </td><td>0</td></tr>\n",
              "\t<tr><td>호성동   </td><td>1</td></tr>\n",
              "\t<tr><td>효자1동  </td><td>2</td></tr>\n",
              "\t<tr><td>효자2동  </td><td>0</td></tr>\n",
              "\t<tr><td>효자3동  </td><td>2</td></tr>\n",
              "\t<tr><td>효자4동  </td><td>8</td></tr>\n",
              "\t<tr><td>효자5동  </td><td>0</td></tr>\n",
              "</tbody>\n",
              "</table>\n"
            ]
          },
          "metadata": {
            "tags": []
          }
        }
      ]
    },
    {
      "cell_type": "markdown",
      "metadata": {
        "id": "xeTlygNnD_uo"
      },
      "source": [
        "## 편의점 수"
      ]
    },
    {
      "cell_type": "code",
      "metadata": {
        "colab": {
          "base_uri": "https://localhost:8080/"
        },
        "id": "LBBggsQY_UpD",
        "outputId": "794ca78b-b406-4752-9735-25b30c120d84"
      },
      "source": [
        "str(cvstore)\n",
        "head(cvstore)"
      ],
      "execution_count": null,
      "outputs": [
        {
          "output_type": "stream",
          "text": [
            "'data.frame':\t31 obs. of  5 variables:\n",
            " $ 구         : chr  \"완산구\" \"완산구\" \"완산구\" \"완산구\" ...\n",
            " $ 동         : chr  \"효자5동\" \"효자4동\" \"서신동\" \"평화2동\" ...\n",
            " $ 순위.구.내.: int  1 2 3 4 5 6 7 8 9 10 ...\n",
            " $ 편의점수   : int  60 36 31 21 20 19 17 16 13 9 ...\n",
            " $ 비율...    : num  21.7 13 11.2 7.6 7.2 6.9 6.2 5.8 4.7 3.3 ...\n"
          ],
          "name": "stdout"
        },
        {
          "output_type": "display_data",
          "data": {
            "text/plain": [
              "  구     동        순위.구.내. 편의점수 비율...\n",
              "1 완산구 효자5동   1           60       21.7   \n",
              "2 완산구 효자4동   2           36       13.0   \n",
              "3 완산구 서신동    3           31       11.2   \n",
              "4 완산구 평화2동   4           21        7.6   \n",
              "5 완산구 중화산2동 5           20        7.2   \n",
              "6 완산구 중화산1동 6           19        6.9   "
            ],
            "text/latex": "A data.frame: 6 × 5\n\\begin{tabular}{r|lllll}\n  & 구 & 동 & 순위.구.내. & 편의점수 & 비율...\\\\\n  & <chr> & <chr> & <int> & <int> & <dbl>\\\\\n\\hline\n\t1 & 완산구 & 효자5동   & 1 & 60 & 21.7\\\\\n\t2 & 완산구 & 효자4동   & 2 & 36 & 13.0\\\\\n\t3 & 완산구 & 서신동    & 3 & 31 & 11.2\\\\\n\t4 & 완산구 & 평화2동   & 4 & 21 &  7.6\\\\\n\t5 & 완산구 & 중화산2동 & 5 & 20 &  7.2\\\\\n\t6 & 완산구 & 중화산1동 & 6 & 19 &  6.9\\\\\n\\end{tabular}\n",
            "text/markdown": "\nA data.frame: 6 × 5\n\n| <!--/--> | 구 &lt;chr&gt; | 동 &lt;chr&gt; | 순위.구.내. &lt;int&gt; | 편의점수 &lt;int&gt; | 비율... &lt;dbl&gt; |\n|---|---|---|---|---|---|\n| 1 | 완산구 | 효자5동   | 1 | 60 | 21.7 |\n| 2 | 완산구 | 효자4동   | 2 | 36 | 13.0 |\n| 3 | 완산구 | 서신동    | 3 | 31 | 11.2 |\n| 4 | 완산구 | 평화2동   | 4 | 21 |  7.6 |\n| 5 | 완산구 | 중화산2동 | 5 | 20 |  7.2 |\n| 6 | 완산구 | 중화산1동 | 6 | 19 |  6.9 |\n\n",
            "text/html": [
              "<table class=\"dataframe\">\n",
              "<caption>A data.frame: 6 × 5</caption>\n",
              "<thead>\n",
              "\t<tr><th></th><th scope=col>구</th><th scope=col>동</th><th scope=col>순위.구.내.</th><th scope=col>편의점수</th><th scope=col>비율...</th></tr>\n",
              "\t<tr><th></th><th scope=col>&lt;chr&gt;</th><th scope=col>&lt;chr&gt;</th><th scope=col>&lt;int&gt;</th><th scope=col>&lt;int&gt;</th><th scope=col>&lt;dbl&gt;</th></tr>\n",
              "</thead>\n",
              "<tbody>\n",
              "\t<tr><th scope=row>1</th><td>완산구</td><td>효자5동  </td><td>1</td><td>60</td><td>21.7</td></tr>\n",
              "\t<tr><th scope=row>2</th><td>완산구</td><td>효자4동  </td><td>2</td><td>36</td><td>13.0</td></tr>\n",
              "\t<tr><th scope=row>3</th><td>완산구</td><td>서신동   </td><td>3</td><td>31</td><td>11.2</td></tr>\n",
              "\t<tr><th scope=row>4</th><td>완산구</td><td>평화2동  </td><td>4</td><td>21</td><td> 7.6</td></tr>\n",
              "\t<tr><th scope=row>5</th><td>완산구</td><td>중화산2동</td><td>5</td><td>20</td><td> 7.2</td></tr>\n",
              "\t<tr><th scope=row>6</th><td>완산구</td><td>중화산1동</td><td>6</td><td>19</td><td> 6.9</td></tr>\n",
              "</tbody>\n",
              "</table>\n"
            ]
          },
          "metadata": {
            "tags": []
          }
        }
      ]
    },
    {
      "cell_type": "code",
      "metadata": {
        "colab": {
          "base_uri": "https://localhost:8080/"
        },
        "id": "UnPCRXAR_XrW",
        "outputId": "37f1e161-c009-4dd1-9fb7-823ce87ee79f"
      },
      "source": [
        "cvstore <- cvstore[,c(2,4)]\n",
        "names(cvstore)[1] <- \"행정동\"\n",
        "cvstore <- arrange(cvstore, cvstore$행정동)\n",
        "head(cvstore)"
      ],
      "execution_count": null,
      "outputs": [
        {
          "output_type": "display_data",
          "data": {
            "text/plain": [
              "  행정동   편의점수\n",
              "1 금암1동  25      \n",
              "2 금암2동   8      \n",
              "3 노송동    5      \n",
              "4 덕진동   29      \n",
              "5 동서학동  6      \n",
              "6 삼천2동   9      "
            ],
            "text/latex": "A data.frame: 6 × 2\n\\begin{tabular}{r|ll}\n  & 행정동 & 편의점수\\\\\n  & <chr> & <int>\\\\\n\\hline\n\t1 & 금암1동  & 25\\\\\n\t2 & 금암2동  &  8\\\\\n\t3 & 노송동   &  5\\\\\n\t4 & 덕진동   & 29\\\\\n\t5 & 동서학동 &  6\\\\\n\t6 & 삼천2동  &  9\\\\\n\\end{tabular}\n",
            "text/markdown": "\nA data.frame: 6 × 2\n\n| <!--/--> | 행정동 &lt;chr&gt; | 편의점수 &lt;int&gt; |\n|---|---|---|\n| 1 | 금암1동  | 25 |\n| 2 | 금암2동  |  8 |\n| 3 | 노송동   |  5 |\n| 4 | 덕진동   | 29 |\n| 5 | 동서학동 |  6 |\n| 6 | 삼천2동  |  9 |\n\n",
            "text/html": [
              "<table class=\"dataframe\">\n",
              "<caption>A data.frame: 6 × 2</caption>\n",
              "<thead>\n",
              "\t<tr><th></th><th scope=col>행정동</th><th scope=col>편의점수</th></tr>\n",
              "\t<tr><th></th><th scope=col>&lt;chr&gt;</th><th scope=col>&lt;int&gt;</th></tr>\n",
              "</thead>\n",
              "<tbody>\n",
              "\t<tr><th scope=row>1</th><td>금암1동 </td><td>25</td></tr>\n",
              "\t<tr><th scope=row>2</th><td>금암2동 </td><td> 8</td></tr>\n",
              "\t<tr><th scope=row>3</th><td>노송동  </td><td> 5</td></tr>\n",
              "\t<tr><th scope=row>4</th><td>덕진동  </td><td>29</td></tr>\n",
              "\t<tr><th scope=row>5</th><td>동서학동</td><td> 6</td></tr>\n",
              "\t<tr><th scope=row>6</th><td>삼천2동 </td><td> 9</td></tr>\n",
              "</tbody>\n",
              "</table>\n"
            ]
          },
          "metadata": {
            "tags": []
          }
        }
      ]
    },
    {
      "cell_type": "code",
      "metadata": {
        "colab": {
          "base_uri": "https://localhost:8080/"
        },
        "id": "QNQfWG-Y_bug",
        "outputId": "af0f5df7-8685-42ec-aeac-a12c64d7fe31"
      },
      "source": [
        "table(cvstore$행정동 %in% jjdong)\n",
        "table(jjdong %in% cvstore$행정동)\n",
        "\n",
        "jjdong[jjdong %in% cvstore$행정동 == FALSE] #cvstore에는 없는 jjdong의 행정동"
      ],
      "execution_count": null,
      "outputs": [
        {
          "output_type": "display_data",
          "data": {
            "text/plain": [
              "\n",
              "TRUE \n",
              "  31 "
            ]
          },
          "metadata": {
            "tags": []
          }
        },
        {
          "output_type": "display_data",
          "data": {
            "text/plain": [
              "\n",
              "FALSE  TRUE \n",
              "    4    31 "
            ]
          },
          "metadata": {
            "tags": []
          }
        },
        {
          "output_type": "display_data",
          "data": {
            "text/plain": [
              "[1] \"삼천1동\"  \"서서학동\" \"완산동\"   \"효자1동\" "
            ],
            "text/latex": "\\begin{enumerate*}\n\\item '삼천1동'\n\\item '서서학동'\n\\item '완산동'\n\\item '효자1동'\n\\end{enumerate*}\n",
            "text/markdown": "1. '삼천1동'\n2. '서서학동'\n3. '완산동'\n4. '효자1동'\n\n\n",
            "text/html": [
              "<style>\n",
              ".list-inline {list-style: none; margin:0; padding: 0}\n",
              ".list-inline>li {display: inline-block}\n",
              ".list-inline>li:not(:last-child)::after {content: \"\\00b7\"; padding: 0 .5ex}\n",
              "</style>\n",
              "<ol class=list-inline><li>'삼천1동'</li><li>'서서학동'</li><li>'완산동'</li><li>'효자1동'</li></ol>\n"
            ]
          },
          "metadata": {
            "tags": []
          }
        }
      ]
    },
    {
      "cell_type": "code",
      "metadata": {
        "colab": {
          "base_uri": "https://localhost:8080/"
        },
        "id": "3Jn20LEl_ln4",
        "outputId": "487fd2fa-53e7-435f-d0af-10febab4253e"
      },
      "source": [
        "add <- data.frame(행정동 = jjdong[jjdong %in% cvstore$행정동 == FALSE], \n",
        "                  편의점수 = rep(median(cvstore$편의점수), length(jjdong[jjdong %in% cvstore$행정동 == FALSE])))\n",
        "cvstore<- rbind(cvstore, add)\n",
        "cvstore <- arrange(cvstore, cvstore$행정동)\n",
        "cvstore"
      ],
      "execution_count": null,
      "outputs": [
        {
          "output_type": "display_data",
          "data": {
            "text/plain": [
              "   행정동    편의점수\n",
              "1  금암1동   25      \n",
              "2  금암2동    8      \n",
              "3  노송동     5      \n",
              "4  덕진동    29      \n",
              "5  동서학동   6      \n",
              "6  삼천1동   14      \n",
              "7  삼천2동    9      \n",
              "8  삼천3동   13      \n",
              "9  서서학동  14      \n",
              "10 서신동    31      \n",
              "11 송천1동   30      \n",
              "12 송천2동   14      \n",
              "13 여의동    22      \n",
              "14 완산동    14      \n",
              "15 우아1동   14      \n",
              "16 우아2동   36      \n",
              "17 인후1동    8      \n",
              "18 인후2동    7      \n",
              "19 인후3동   30      \n",
              "20 조촌동     7      \n",
              "21 중앙동    17      \n",
              "22 중화산1동 19      \n",
              "23 중화산2동 20      \n",
              "24 진북동     8      \n",
              "25 팔복동    10      \n",
              "26 평화1동    8      \n",
              "27 평화2동   21      \n",
              "28 풍남동    16      \n",
              "29 혁신동    11      \n",
              "30 호성동     9      \n",
              "31 효자1동   14      \n",
              "32 효자2동    6      \n",
              "33 효자3동    9      \n",
              "34 효자4동   36      \n",
              "35 효자5동   60      "
            ],
            "text/latex": "A data.frame: 35 × 2\n\\begin{tabular}{ll}\n 행정동 & 편의점수\\\\\n <chr> & <int>\\\\\n\\hline\n\t 금암1동   & 25\\\\\n\t 금암2동   &  8\\\\\n\t 노송동    &  5\\\\\n\t 덕진동    & 29\\\\\n\t 동서학동  &  6\\\\\n\t 삼천1동   & 14\\\\\n\t 삼천2동   &  9\\\\\n\t 삼천3동   & 13\\\\\n\t 서서학동  & 14\\\\\n\t 서신동    & 31\\\\\n\t 송천1동   & 30\\\\\n\t 송천2동   & 14\\\\\n\t 여의동    & 22\\\\\n\t 완산동    & 14\\\\\n\t 우아1동   & 14\\\\\n\t 우아2동   & 36\\\\\n\t 인후1동   &  8\\\\\n\t 인후2동   &  7\\\\\n\t 인후3동   & 30\\\\\n\t 조촌동    &  7\\\\\n\t 중앙동    & 17\\\\\n\t 중화산1동 & 19\\\\\n\t 중화산2동 & 20\\\\\n\t 진북동    &  8\\\\\n\t 팔복동    & 10\\\\\n\t 평화1동   &  8\\\\\n\t 평화2동   & 21\\\\\n\t 풍남동    & 16\\\\\n\t 혁신동    & 11\\\\\n\t 호성동    &  9\\\\\n\t 효자1동   & 14\\\\\n\t 효자2동   &  6\\\\\n\t 효자3동   &  9\\\\\n\t 효자4동   & 36\\\\\n\t 효자5동   & 60\\\\\n\\end{tabular}\n",
            "text/markdown": "\nA data.frame: 35 × 2\n\n| 행정동 &lt;chr&gt; | 편의점수 &lt;int&gt; |\n|---|---|\n| 금암1동   | 25 |\n| 금암2동   |  8 |\n| 노송동    |  5 |\n| 덕진동    | 29 |\n| 동서학동  |  6 |\n| 삼천1동   | 14 |\n| 삼천2동   |  9 |\n| 삼천3동   | 13 |\n| 서서학동  | 14 |\n| 서신동    | 31 |\n| 송천1동   | 30 |\n| 송천2동   | 14 |\n| 여의동    | 22 |\n| 완산동    | 14 |\n| 우아1동   | 14 |\n| 우아2동   | 36 |\n| 인후1동   |  8 |\n| 인후2동   |  7 |\n| 인후3동   | 30 |\n| 조촌동    |  7 |\n| 중앙동    | 17 |\n| 중화산1동 | 19 |\n| 중화산2동 | 20 |\n| 진북동    |  8 |\n| 팔복동    | 10 |\n| 평화1동   |  8 |\n| 평화2동   | 21 |\n| 풍남동    | 16 |\n| 혁신동    | 11 |\n| 호성동    |  9 |\n| 효자1동   | 14 |\n| 효자2동   |  6 |\n| 효자3동   |  9 |\n| 효자4동   | 36 |\n| 효자5동   | 60 |\n\n",
            "text/html": [
              "<table class=\"dataframe\">\n",
              "<caption>A data.frame: 35 × 2</caption>\n",
              "<thead>\n",
              "\t<tr><th scope=col>행정동</th><th scope=col>편의점수</th></tr>\n",
              "\t<tr><th scope=col>&lt;chr&gt;</th><th scope=col>&lt;int&gt;</th></tr>\n",
              "</thead>\n",
              "<tbody>\n",
              "\t<tr><td>금암1동  </td><td>25</td></tr>\n",
              "\t<tr><td>금암2동  </td><td> 8</td></tr>\n",
              "\t<tr><td>노송동   </td><td> 5</td></tr>\n",
              "\t<tr><td>덕진동   </td><td>29</td></tr>\n",
              "\t<tr><td>동서학동 </td><td> 6</td></tr>\n",
              "\t<tr><td>삼천1동  </td><td>14</td></tr>\n",
              "\t<tr><td>삼천2동  </td><td> 9</td></tr>\n",
              "\t<tr><td>삼천3동  </td><td>13</td></tr>\n",
              "\t<tr><td>서서학동 </td><td>14</td></tr>\n",
              "\t<tr><td>서신동   </td><td>31</td></tr>\n",
              "\t<tr><td>송천1동  </td><td>30</td></tr>\n",
              "\t<tr><td>송천2동  </td><td>14</td></tr>\n",
              "\t<tr><td>여의동   </td><td>22</td></tr>\n",
              "\t<tr><td>완산동   </td><td>14</td></tr>\n",
              "\t<tr><td>우아1동  </td><td>14</td></tr>\n",
              "\t<tr><td>우아2동  </td><td>36</td></tr>\n",
              "\t<tr><td>인후1동  </td><td> 8</td></tr>\n",
              "\t<tr><td>인후2동  </td><td> 7</td></tr>\n",
              "\t<tr><td>인후3동  </td><td>30</td></tr>\n",
              "\t<tr><td>조촌동   </td><td> 7</td></tr>\n",
              "\t<tr><td>중앙동   </td><td>17</td></tr>\n",
              "\t<tr><td>중화산1동</td><td>19</td></tr>\n",
              "\t<tr><td>중화산2동</td><td>20</td></tr>\n",
              "\t<tr><td>진북동   </td><td> 8</td></tr>\n",
              "\t<tr><td>팔복동   </td><td>10</td></tr>\n",
              "\t<tr><td>평화1동  </td><td> 8</td></tr>\n",
              "\t<tr><td>평화2동  </td><td>21</td></tr>\n",
              "\t<tr><td>풍남동   </td><td>16</td></tr>\n",
              "\t<tr><td>혁신동   </td><td>11</td></tr>\n",
              "\t<tr><td>호성동   </td><td> 9</td></tr>\n",
              "\t<tr><td>효자1동  </td><td>14</td></tr>\n",
              "\t<tr><td>효자2동  </td><td> 6</td></tr>\n",
              "\t<tr><td>효자3동  </td><td> 9</td></tr>\n",
              "\t<tr><td>효자4동  </td><td>36</td></tr>\n",
              "\t<tr><td>효자5동  </td><td>60</td></tr>\n",
              "</tbody>\n",
              "</table>\n"
            ]
          },
          "metadata": {
            "tags": []
          }
        }
      ]
    },
    {
      "cell_type": "markdown",
      "metadata": {
        "id": "SYiWzCpuEEDQ"
      },
      "source": [
        "## 대학교 수"
      ]
    },
    {
      "cell_type": "code",
      "metadata": {
        "colab": {
          "base_uri": "https://localhost:8080/"
        },
        "id": "DzR9HepA_oy9",
        "outputId": "f90d2485-183e-4cab-ab02-4fc3d5e7f171"
      },
      "source": [
        "str(univ)\n",
        "head(univ)"
      ],
      "execution_count": null,
      "outputs": [
        {
          "output_type": "stream",
          "text": [
            "'data.frame':\t7 obs. of  3 variables:\n",
            " $ 대학교: chr  \"전북대학교 전주캠퍼스\" \"전주교육대학교\" \"예수대학교\" \"전주대학교\" ...\n",
            " $ 위치  : chr  \"전라북도 전주시 덕진구 백제대로 567\" \"전라북도 전주시 완산구 서학로 50 \" \"전라북도 전주시 완산구 서원로 383 \" \"전라북도 전주시 완산구 천잠로 303\" ...\n",
            " $ 행정동: chr  \"덕진동\" \"동서학동\" \"중화산1동\" \"효자4동\" ...\n"
          ],
          "name": "stdout"
        },
        {
          "output_type": "display_data",
          "data": {
            "text/plain": [
              "  대학교                위치                                  행정동   \n",
              "1 전북대학교 전주캠퍼스 전라북도 전주시 덕진구 백제대로 567   덕진동   \n",
              "2 전주교육대학교        전라북도 전주시 완산구 서학로 50      동서학동 \n",
              "3 예수대학교            전라북도 전주시 완산구 서원로 383     중화산1동\n",
              "4 전주대학교            전라북도 전주시 완산구 천잠로 303     효자4동  \n",
              "5 전주기전대학          전라북도 전주시 완산구 전주천서로 267 중화산1동\n",
              "6 전주비전대학교        전라북도 전주시 완산구 천잠로 235     효자4동  "
            ],
            "text/latex": "A data.frame: 6 × 3\n\\begin{tabular}{r|lll}\n  & 대학교 & 위치 & 행정동\\\\\n  & <chr> & <chr> & <chr>\\\\\n\\hline\n\t1 & 전북대학교 전주캠퍼스 & 전라북도 전주시 덕진구 백제대로 567   & 덕진동   \\\\\n\t2 & 전주교육대학교        & 전라북도 전주시 완산구 서학로 50      & 동서학동 \\\\\n\t3 & 예수대학교            & 전라북도 전주시 완산구 서원로 383     & 중화산1동\\\\\n\t4 & 전주대학교            & 전라북도 전주시 완산구 천잠로 303     & 효자4동  \\\\\n\t5 & 전주기전대학          & 전라북도 전주시 완산구 전주천서로 267 & 중화산1동\\\\\n\t6 & 전주비전대학교        & 전라북도 전주시 완산구 천잠로 235     & 효자4동  \\\\\n\\end{tabular}\n",
            "text/markdown": "\nA data.frame: 6 × 3\n\n| <!--/--> | 대학교 &lt;chr&gt; | 위치 &lt;chr&gt; | 행정동 &lt;chr&gt; |\n|---|---|---|---|\n| 1 | 전북대학교 전주캠퍼스 | 전라북도 전주시 덕진구 백제대로 567   | 덕진동    |\n| 2 | 전주교육대학교        | 전라북도 전주시 완산구 서학로 50      | 동서학동  |\n| 3 | 예수대학교            | 전라북도 전주시 완산구 서원로 383     | 중화산1동 |\n| 4 | 전주대학교            | 전라북도 전주시 완산구 천잠로 303     | 효자4동   |\n| 5 | 전주기전대학          | 전라북도 전주시 완산구 전주천서로 267 | 중화산1동 |\n| 6 | 전주비전대학교        | 전라북도 전주시 완산구 천잠로 235     | 효자4동   |\n\n",
            "text/html": [
              "<table class=\"dataframe\">\n",
              "<caption>A data.frame: 6 × 3</caption>\n",
              "<thead>\n",
              "\t<tr><th></th><th scope=col>대학교</th><th scope=col>위치</th><th scope=col>행정동</th></tr>\n",
              "\t<tr><th></th><th scope=col>&lt;chr&gt;</th><th scope=col>&lt;chr&gt;</th><th scope=col>&lt;chr&gt;</th></tr>\n",
              "</thead>\n",
              "<tbody>\n",
              "\t<tr><th scope=row>1</th><td>전북대학교 전주캠퍼스</td><td>전라북도 전주시 덕진구 백제대로 567  </td><td>덕진동   </td></tr>\n",
              "\t<tr><th scope=row>2</th><td>전주교육대학교       </td><td>전라북도 전주시 완산구 서학로 50     </td><td>동서학동 </td></tr>\n",
              "\t<tr><th scope=row>3</th><td>예수대학교           </td><td>전라북도 전주시 완산구 서원로 383    </td><td>중화산1동</td></tr>\n",
              "\t<tr><th scope=row>4</th><td>전주대학교           </td><td>전라북도 전주시 완산구 천잠로 303    </td><td>효자4동  </td></tr>\n",
              "\t<tr><th scope=row>5</th><td>전주기전대학         </td><td>전라북도 전주시 완산구 전주천서로 267</td><td>중화산1동</td></tr>\n",
              "\t<tr><th scope=row>6</th><td>전주비전대학교       </td><td>전라북도 전주시 완산구 천잠로 235    </td><td>효자4동  </td></tr>\n",
              "</tbody>\n",
              "</table>\n"
            ]
          },
          "metadata": {
            "tags": []
          }
        }
      ]
    },
    {
      "cell_type": "code",
      "metadata": {
        "colab": {
          "base_uri": "https://localhost:8080/"
        },
        "id": "N9qDQHei_tm1",
        "outputId": "64364421-5a35-40fe-9be7-f30b454cbbc4"
      },
      "source": [
        "univ <- univ[,c(1,3)]\n",
        "univ$count <- rep(1,nrow(univ))\n",
        "univ"
      ],
      "execution_count": null,
      "outputs": [
        {
          "output_type": "display_data",
          "data": {
            "text/plain": [
              "  대학교                행정동    count\n",
              "1 전북대학교 전주캠퍼스 덕진동    1    \n",
              "2 전주교육대학교        동서학동  1    \n",
              "3 예수대학교            중화산1동 1    \n",
              "4 전주대학교            효자4동   1    \n",
              "5 전주기전대학          중화산1동 1    \n",
              "6 전주비전대학교        효자4동   1    \n",
              "7 한국농수산대학        효자5동   1    "
            ],
            "text/latex": "A data.frame: 7 × 3\n\\begin{tabular}{lll}\n 대학교 & 행정동 & count\\\\\n <chr> & <chr> & <dbl>\\\\\n\\hline\n\t 전북대학교 전주캠퍼스 & 덕진동    & 1\\\\\n\t 전주교육대학교        & 동서학동  & 1\\\\\n\t 예수대학교            & 중화산1동 & 1\\\\\n\t 전주대학교            & 효자4동   & 1\\\\\n\t 전주기전대학          & 중화산1동 & 1\\\\\n\t 전주비전대학교        & 효자4동   & 1\\\\\n\t 한국농수산대학        & 효자5동   & 1\\\\\n\\end{tabular}\n",
            "text/markdown": "\nA data.frame: 7 × 3\n\n| 대학교 &lt;chr&gt; | 행정동 &lt;chr&gt; | count &lt;dbl&gt; |\n|---|---|---|\n| 전북대학교 전주캠퍼스 | 덕진동    | 1 |\n| 전주교육대학교        | 동서학동  | 1 |\n| 예수대학교            | 중화산1동 | 1 |\n| 전주대학교            | 효자4동   | 1 |\n| 전주기전대학          | 중화산1동 | 1 |\n| 전주비전대학교        | 효자4동   | 1 |\n| 한국농수산대학        | 효자5동   | 1 |\n\n",
            "text/html": [
              "<table class=\"dataframe\">\n",
              "<caption>A data.frame: 7 × 3</caption>\n",
              "<thead>\n",
              "\t<tr><th scope=col>대학교</th><th scope=col>행정동</th><th scope=col>count</th></tr>\n",
              "\t<tr><th scope=col>&lt;chr&gt;</th><th scope=col>&lt;chr&gt;</th><th scope=col>&lt;dbl&gt;</th></tr>\n",
              "</thead>\n",
              "<tbody>\n",
              "\t<tr><td>전북대학교 전주캠퍼스</td><td>덕진동   </td><td>1</td></tr>\n",
              "\t<tr><td>전주교육대학교       </td><td>동서학동 </td><td>1</td></tr>\n",
              "\t<tr><td>예수대학교           </td><td>중화산1동</td><td>1</td></tr>\n",
              "\t<tr><td>전주대학교           </td><td>효자4동  </td><td>1</td></tr>\n",
              "\t<tr><td>전주기전대학         </td><td>중화산1동</td><td>1</td></tr>\n",
              "\t<tr><td>전주비전대학교       </td><td>효자4동  </td><td>1</td></tr>\n",
              "\t<tr><td>한국농수산대학       </td><td>효자5동  </td><td>1</td></tr>\n",
              "</tbody>\n",
              "</table>\n"
            ]
          },
          "metadata": {
            "tags": []
          }
        }
      ]
    },
    {
      "cell_type": "code",
      "metadata": {
        "colab": {
          "base_uri": "https://localhost:8080/"
        },
        "id": "EnuHjOb6_wCZ",
        "outputId": "e53b159e-40d4-418f-879b-4e4ed484d97c"
      },
      "source": [
        "univ <- univ %>% group_by(행정동) %>% summarise(대학교수 = sum(count))\n",
        "univ <- as.data.frame(univ)\n",
        "univ <- arrange(univ, univ$행정동)\n",
        "univ"
      ],
      "execution_count": null,
      "outputs": [
        {
          "output_type": "display_data",
          "data": {
            "text/plain": [
              "  행정동    대학교수\n",
              "1 덕진동    1       \n",
              "2 동서학동  1       \n",
              "3 중화산1동 2       \n",
              "4 효자4동   2       \n",
              "5 효자5동   1       "
            ],
            "text/latex": "A data.frame: 5 × 2\n\\begin{tabular}{ll}\n 행정동 & 대학교수\\\\\n <chr> & <dbl>\\\\\n\\hline\n\t 덕진동    & 1\\\\\n\t 동서학동  & 1\\\\\n\t 중화산1동 & 2\\\\\n\t 효자4동   & 2\\\\\n\t 효자5동   & 1\\\\\n\\end{tabular}\n",
            "text/markdown": "\nA data.frame: 5 × 2\n\n| 행정동 &lt;chr&gt; | 대학교수 &lt;dbl&gt; |\n|---|---|\n| 덕진동    | 1 |\n| 동서학동  | 1 |\n| 중화산1동 | 2 |\n| 효자4동   | 2 |\n| 효자5동   | 1 |\n\n",
            "text/html": [
              "<table class=\"dataframe\">\n",
              "<caption>A data.frame: 5 × 2</caption>\n",
              "<thead>\n",
              "\t<tr><th scope=col>행정동</th><th scope=col>대학교수</th></tr>\n",
              "\t<tr><th scope=col>&lt;chr&gt;</th><th scope=col>&lt;dbl&gt;</th></tr>\n",
              "</thead>\n",
              "<tbody>\n",
              "\t<tr><td>덕진동   </td><td>1</td></tr>\n",
              "\t<tr><td>동서학동 </td><td>1</td></tr>\n",
              "\t<tr><td>중화산1동</td><td>2</td></tr>\n",
              "\t<tr><td>효자4동  </td><td>2</td></tr>\n",
              "\t<tr><td>효자5동  </td><td>1</td></tr>\n",
              "</tbody>\n",
              "</table>\n"
            ]
          },
          "metadata": {
            "tags": []
          }
        }
      ]
    },
    {
      "cell_type": "code",
      "metadata": {
        "colab": {
          "base_uri": "https://localhost:8080/"
        },
        "id": "xSwF8sD7_yP5",
        "outputId": "669f3e92-bf27-4f4f-ab9d-ded11f2153f7"
      },
      "source": [
        "table(univ$행정동 %in% jjdong)\n",
        "table(jjdong %in% univ$행정동)\n",
        "\n",
        "jjdong[jjdong %in% univ$행정동 == FALSE] #univ에는 없는 jjdong의 행정동"
      ],
      "execution_count": null,
      "outputs": [
        {
          "output_type": "display_data",
          "data": {
            "text/plain": [
              "\n",
              "TRUE \n",
              "   5 "
            ]
          },
          "metadata": {
            "tags": []
          }
        },
        {
          "output_type": "display_data",
          "data": {
            "text/plain": [
              "\n",
              "FALSE  TRUE \n",
              "   30     5 "
            ]
          },
          "metadata": {
            "tags": []
          }
        },
        {
          "output_type": "display_data",
          "data": {
            "text/plain": [
              " [1] \"금암1동\"   \"금암2동\"   \"노송동\"    \"삼천1동\"   \"삼천2동\"   \"삼천3동\"  \n",
              " [7] \"서서학동\"  \"서신동\"    \"송천1동\"   \"송천2동\"   \"여의동\"    \"완산동\"   \n",
              "[13] \"우아1동\"   \"우아2동\"   \"인후1동\"   \"인후2동\"   \"인후3동\"   \"조촌동\"   \n",
              "[19] \"중앙동\"    \"중화산2동\" \"진북동\"    \"팔복동\"    \"평화1동\"   \"평화2동\"  \n",
              "[25] \"풍남동\"    \"혁신동\"    \"호성동\"    \"효자1동\"   \"효자2동\"   \"효자3동\"  "
            ],
            "text/latex": "\\begin{enumerate*}\n\\item '금암1동'\n\\item '금암2동'\n\\item '노송동'\n\\item '삼천1동'\n\\item '삼천2동'\n\\item '삼천3동'\n\\item '서서학동'\n\\item '서신동'\n\\item '송천1동'\n\\item '송천2동'\n\\item '여의동'\n\\item '완산동'\n\\item '우아1동'\n\\item '우아2동'\n\\item '인후1동'\n\\item '인후2동'\n\\item '인후3동'\n\\item '조촌동'\n\\item '중앙동'\n\\item '중화산2동'\n\\item '진북동'\n\\item '팔복동'\n\\item '평화1동'\n\\item '평화2동'\n\\item '풍남동'\n\\item '혁신동'\n\\item '호성동'\n\\item '효자1동'\n\\item '효자2동'\n\\item '효자3동'\n\\end{enumerate*}\n",
            "text/markdown": "1. '금암1동'\n2. '금암2동'\n3. '노송동'\n4. '삼천1동'\n5. '삼천2동'\n6. '삼천3동'\n7. '서서학동'\n8. '서신동'\n9. '송천1동'\n10. '송천2동'\n11. '여의동'\n12. '완산동'\n13. '우아1동'\n14. '우아2동'\n15. '인후1동'\n16. '인후2동'\n17. '인후3동'\n18. '조촌동'\n19. '중앙동'\n20. '중화산2동'\n21. '진북동'\n22. '팔복동'\n23. '평화1동'\n24. '평화2동'\n25. '풍남동'\n26. '혁신동'\n27. '호성동'\n28. '효자1동'\n29. '효자2동'\n30. '효자3동'\n\n\n",
            "text/html": [
              "<style>\n",
              ".list-inline {list-style: none; margin:0; padding: 0}\n",
              ".list-inline>li {display: inline-block}\n",
              ".list-inline>li:not(:last-child)::after {content: \"\\00b7\"; padding: 0 .5ex}\n",
              "</style>\n",
              "<ol class=list-inline><li>'금암1동'</li><li>'금암2동'</li><li>'노송동'</li><li>'삼천1동'</li><li>'삼천2동'</li><li>'삼천3동'</li><li>'서서학동'</li><li>'서신동'</li><li>'송천1동'</li><li>'송천2동'</li><li>'여의동'</li><li>'완산동'</li><li>'우아1동'</li><li>'우아2동'</li><li>'인후1동'</li><li>'인후2동'</li><li>'인후3동'</li><li>'조촌동'</li><li>'중앙동'</li><li>'중화산2동'</li><li>'진북동'</li><li>'팔복동'</li><li>'평화1동'</li><li>'평화2동'</li><li>'풍남동'</li><li>'혁신동'</li><li>'호성동'</li><li>'효자1동'</li><li>'효자2동'</li><li>'효자3동'</li></ol>\n"
            ]
          },
          "metadata": {
            "tags": []
          }
        }
      ]
    },
    {
      "cell_type": "code",
      "metadata": {
        "colab": {
          "base_uri": "https://localhost:8080/"
        },
        "id": "SmI76TkK_1QQ",
        "outputId": "9ad4da86-4f14-4080-b4b3-ab9af6081d7c"
      },
      "source": [
        "add <- data.frame(행정동 = jjdong[jjdong %in% univ$행정동 == FALSE], \n",
        "                  대학교수 = rep(0, length(jjdong[jjdong %in% univ$행정동 == FALSE])))\n",
        "univ <- rbind(univ, add)\n",
        "univ <- arrange(univ, univ$행정동)\n",
        "univ"
      ],
      "execution_count": null,
      "outputs": [
        {
          "output_type": "display_data",
          "data": {
            "text/plain": [
              "   행정동    대학교수\n",
              "1  금암1동   0       \n",
              "2  금암2동   0       \n",
              "3  노송동    0       \n",
              "4  덕진동    1       \n",
              "5  동서학동  1       \n",
              "6  삼천1동   0       \n",
              "7  삼천2동   0       \n",
              "8  삼천3동   0       \n",
              "9  서서학동  0       \n",
              "10 서신동    0       \n",
              "11 송천1동   0       \n",
              "12 송천2동   0       \n",
              "13 여의동    0       \n",
              "14 완산동    0       \n",
              "15 우아1동   0       \n",
              "16 우아2동   0       \n",
              "17 인후1동   0       \n",
              "18 인후2동   0       \n",
              "19 인후3동   0       \n",
              "20 조촌동    0       \n",
              "21 중앙동    0       \n",
              "22 중화산1동 2       \n",
              "23 중화산2동 0       \n",
              "24 진북동    0       \n",
              "25 팔복동    0       \n",
              "26 평화1동   0       \n",
              "27 평화2동   0       \n",
              "28 풍남동    0       \n",
              "29 혁신동    0       \n",
              "30 호성동    0       \n",
              "31 효자1동   0       \n",
              "32 효자2동   0       \n",
              "33 효자3동   0       \n",
              "34 효자4동   2       \n",
              "35 효자5동   1       "
            ],
            "text/latex": "A data.frame: 35 × 2\n\\begin{tabular}{ll}\n 행정동 & 대학교수\\\\\n <chr> & <dbl>\\\\\n\\hline\n\t 금암1동   & 0\\\\\n\t 금암2동   & 0\\\\\n\t 노송동    & 0\\\\\n\t 덕진동    & 1\\\\\n\t 동서학동  & 1\\\\\n\t 삼천1동   & 0\\\\\n\t 삼천2동   & 0\\\\\n\t 삼천3동   & 0\\\\\n\t 서서학동  & 0\\\\\n\t 서신동    & 0\\\\\n\t 송천1동   & 0\\\\\n\t 송천2동   & 0\\\\\n\t 여의동    & 0\\\\\n\t 완산동    & 0\\\\\n\t 우아1동   & 0\\\\\n\t 우아2동   & 0\\\\\n\t 인후1동   & 0\\\\\n\t 인후2동   & 0\\\\\n\t 인후3동   & 0\\\\\n\t 조촌동    & 0\\\\\n\t 중앙동    & 0\\\\\n\t 중화산1동 & 2\\\\\n\t 중화산2동 & 0\\\\\n\t 진북동    & 0\\\\\n\t 팔복동    & 0\\\\\n\t 평화1동   & 0\\\\\n\t 평화2동   & 0\\\\\n\t 풍남동    & 0\\\\\n\t 혁신동    & 0\\\\\n\t 호성동    & 0\\\\\n\t 효자1동   & 0\\\\\n\t 효자2동   & 0\\\\\n\t 효자3동   & 0\\\\\n\t 효자4동   & 2\\\\\n\t 효자5동   & 1\\\\\n\\end{tabular}\n",
            "text/markdown": "\nA data.frame: 35 × 2\n\n| 행정동 &lt;chr&gt; | 대학교수 &lt;dbl&gt; |\n|---|---|\n| 금암1동   | 0 |\n| 금암2동   | 0 |\n| 노송동    | 0 |\n| 덕진동    | 1 |\n| 동서학동  | 1 |\n| 삼천1동   | 0 |\n| 삼천2동   | 0 |\n| 삼천3동   | 0 |\n| 서서학동  | 0 |\n| 서신동    | 0 |\n| 송천1동   | 0 |\n| 송천2동   | 0 |\n| 여의동    | 0 |\n| 완산동    | 0 |\n| 우아1동   | 0 |\n| 우아2동   | 0 |\n| 인후1동   | 0 |\n| 인후2동   | 0 |\n| 인후3동   | 0 |\n| 조촌동    | 0 |\n| 중앙동    | 0 |\n| 중화산1동 | 2 |\n| 중화산2동 | 0 |\n| 진북동    | 0 |\n| 팔복동    | 0 |\n| 평화1동   | 0 |\n| 평화2동   | 0 |\n| 풍남동    | 0 |\n| 혁신동    | 0 |\n| 호성동    | 0 |\n| 효자1동   | 0 |\n| 효자2동   | 0 |\n| 효자3동   | 0 |\n| 효자4동   | 2 |\n| 효자5동   | 1 |\n\n",
            "text/html": [
              "<table class=\"dataframe\">\n",
              "<caption>A data.frame: 35 × 2</caption>\n",
              "<thead>\n",
              "\t<tr><th scope=col>행정동</th><th scope=col>대학교수</th></tr>\n",
              "\t<tr><th scope=col>&lt;chr&gt;</th><th scope=col>&lt;dbl&gt;</th></tr>\n",
              "</thead>\n",
              "<tbody>\n",
              "\t<tr><td>금암1동  </td><td>0</td></tr>\n",
              "\t<tr><td>금암2동  </td><td>0</td></tr>\n",
              "\t<tr><td>노송동   </td><td>0</td></tr>\n",
              "\t<tr><td>덕진동   </td><td>1</td></tr>\n",
              "\t<tr><td>동서학동 </td><td>1</td></tr>\n",
              "\t<tr><td>삼천1동  </td><td>0</td></tr>\n",
              "\t<tr><td>삼천2동  </td><td>0</td></tr>\n",
              "\t<tr><td>삼천3동  </td><td>0</td></tr>\n",
              "\t<tr><td>서서학동 </td><td>0</td></tr>\n",
              "\t<tr><td>서신동   </td><td>0</td></tr>\n",
              "\t<tr><td>송천1동  </td><td>0</td></tr>\n",
              "\t<tr><td>송천2동  </td><td>0</td></tr>\n",
              "\t<tr><td>여의동   </td><td>0</td></tr>\n",
              "\t<tr><td>완산동   </td><td>0</td></tr>\n",
              "\t<tr><td>우아1동  </td><td>0</td></tr>\n",
              "\t<tr><td>우아2동  </td><td>0</td></tr>\n",
              "\t<tr><td>인후1동  </td><td>0</td></tr>\n",
              "\t<tr><td>인후2동  </td><td>0</td></tr>\n",
              "\t<tr><td>인후3동  </td><td>0</td></tr>\n",
              "\t<tr><td>조촌동   </td><td>0</td></tr>\n",
              "\t<tr><td>중앙동   </td><td>0</td></tr>\n",
              "\t<tr><td>중화산1동</td><td>2</td></tr>\n",
              "\t<tr><td>중화산2동</td><td>0</td></tr>\n",
              "\t<tr><td>진북동   </td><td>0</td></tr>\n",
              "\t<tr><td>팔복동   </td><td>0</td></tr>\n",
              "\t<tr><td>평화1동  </td><td>0</td></tr>\n",
              "\t<tr><td>평화2동  </td><td>0</td></tr>\n",
              "\t<tr><td>풍남동   </td><td>0</td></tr>\n",
              "\t<tr><td>혁신동   </td><td>0</td></tr>\n",
              "\t<tr><td>호성동   </td><td>0</td></tr>\n",
              "\t<tr><td>효자1동  </td><td>0</td></tr>\n",
              "\t<tr><td>효자2동  </td><td>0</td></tr>\n",
              "\t<tr><td>효자3동  </td><td>0</td></tr>\n",
              "\t<tr><td>효자4동  </td><td>2</td></tr>\n",
              "\t<tr><td>효자5동  </td><td>1</td></tr>\n",
              "</tbody>\n",
              "</table>\n"
            ]
          },
          "metadata": {
            "tags": []
          }
        }
      ]
    },
    {
      "cell_type": "markdown",
      "metadata": {
        "id": "vkuB4nU3EHLK"
      },
      "source": [
        "## 면적"
      ]
    },
    {
      "cell_type": "code",
      "metadata": {
        "colab": {
          "base_uri": "https://localhost:8080/"
        },
        "id": "3ssrlc5m_3oQ",
        "outputId": "bc448c97-0830-4c26-d288-4549887ca69d"
      },
      "source": [
        "str(region)\n",
        "head(region)"
      ],
      "execution_count": null,
      "outputs": [
        {
          "output_type": "stream",
          "text": [
            "'data.frame':\t35 obs. of  3 variables:\n",
            " $ 구       : chr  \"덕진구\" \"덕진구\" \"덕진구\" \"덕진구\" ...\n",
            " $ 동       : chr  \"진북동\" \"인후1동\" \"인후2동\" \"인후3동\" ...\n",
            " $ 면적.km..: num  1.71 1.29 1.32 1.68 4.78 ...\n"
          ],
          "name": "stdout"
        },
        {
          "output_type": "display_data",
          "data": {
            "text/plain": [
              "  구     동      면적.km..\n",
              "1 덕진구 진북동  1.71     \n",
              "2 덕진구 인후1동 1.29     \n",
              "3 덕진구 인후2동 1.32     \n",
              "4 덕진구 인후3동 1.68     \n",
              "5 덕진구 덕진동  4.78     \n",
              "6 덕진구 금암1동 1.25     "
            ],
            "text/latex": "A data.frame: 6 × 3\n\\begin{tabular}{r|lll}\n  & 구 & 동 & 면적.km..\\\\\n  & <chr> & <chr> & <dbl>\\\\\n\\hline\n\t1 & 덕진구 & 진북동  & 1.71\\\\\n\t2 & 덕진구 & 인후1동 & 1.29\\\\\n\t3 & 덕진구 & 인후2동 & 1.32\\\\\n\t4 & 덕진구 & 인후3동 & 1.68\\\\\n\t5 & 덕진구 & 덕진동  & 4.78\\\\\n\t6 & 덕진구 & 금암1동 & 1.25\\\\\n\\end{tabular}\n",
            "text/markdown": "\nA data.frame: 6 × 3\n\n| <!--/--> | 구 &lt;chr&gt; | 동 &lt;chr&gt; | 면적.km.. &lt;dbl&gt; |\n|---|---|---|---|\n| 1 | 덕진구 | 진북동  | 1.71 |\n| 2 | 덕진구 | 인후1동 | 1.29 |\n| 3 | 덕진구 | 인후2동 | 1.32 |\n| 4 | 덕진구 | 인후3동 | 1.68 |\n| 5 | 덕진구 | 덕진동  | 4.78 |\n| 6 | 덕진구 | 금암1동 | 1.25 |\n\n",
            "text/html": [
              "<table class=\"dataframe\">\n",
              "<caption>A data.frame: 6 × 3</caption>\n",
              "<thead>\n",
              "\t<tr><th></th><th scope=col>구</th><th scope=col>동</th><th scope=col>면적.km..</th></tr>\n",
              "\t<tr><th></th><th scope=col>&lt;chr&gt;</th><th scope=col>&lt;chr&gt;</th><th scope=col>&lt;dbl&gt;</th></tr>\n",
              "</thead>\n",
              "<tbody>\n",
              "\t<tr><th scope=row>1</th><td>덕진구</td><td>진북동 </td><td>1.71</td></tr>\n",
              "\t<tr><th scope=row>2</th><td>덕진구</td><td>인후1동</td><td>1.29</td></tr>\n",
              "\t<tr><th scope=row>3</th><td>덕진구</td><td>인후2동</td><td>1.32</td></tr>\n",
              "\t<tr><th scope=row>4</th><td>덕진구</td><td>인후3동</td><td>1.68</td></tr>\n",
              "\t<tr><th scope=row>5</th><td>덕진구</td><td>덕진동 </td><td>4.78</td></tr>\n",
              "\t<tr><th scope=row>6</th><td>덕진구</td><td>금암1동</td><td>1.25</td></tr>\n",
              "</tbody>\n",
              "</table>\n"
            ]
          },
          "metadata": {
            "tags": []
          }
        }
      ]
    },
    {
      "cell_type": "code",
      "metadata": {
        "colab": {
          "base_uri": "https://localhost:8080/"
        },
        "id": "OmsaAD-9_6Km",
        "outputId": "1a635fa5-a35e-4a4a-ddb1-f86077e3877c"
      },
      "source": [
        "region <- region[,c(2,3)]\n",
        "names(region) <- c(\"행정동\", \"면적.km\")\n",
        "region <- arrange(region, region$행정동)\n",
        "region"
      ],
      "execution_count": null,
      "outputs": [
        {
          "output_type": "display_data",
          "data": {
            "text/plain": [
              "   행정동    면적.km\n",
              "1  금암1동    1.25  \n",
              "2  금암2동    1.25  \n",
              "3  노송동     2.09  \n",
              "4  덕진동     4.78  \n",
              "5  동서학동  15.64  \n",
              "6  삼천1동    1.27  \n",
              "7  삼천2동    0.95  \n",
              "8  삼천3동   26.60  \n",
              "9  서서학동   2.97  \n",
              "10 서신동     2.39  \n",
              "11 송천1동    4.79  \n",
              "12 송천2동   12.14  \n",
              "13 여의동    15.71  \n",
              "14 완산동     0.99  \n",
              "15 우아1동    1.44  \n",
              "16 우아2동   22.91  \n",
              "17 인후1동    1.29  \n",
              "18 인후2동    1.32  \n",
              "19 인후3동    1.68  \n",
              "20 조촌동    24.28  \n",
              "21 중앙동     1.35  \n",
              "22 중화산1동  1.22  \n",
              "23 중화산2동  1.72  \n",
              "24 진북동     1.71  \n",
              "25 팔복동     7.38  \n",
              "26 평화1동    1.49  \n",
              "27 평화2동   15.23  \n",
              "28 풍남동     2.05  \n",
              "29 혁신동     3.37  \n",
              "30 호성동     7.64  \n",
              "31 효자1동    1.02  \n",
              "32 효자2동    0.84  \n",
              "33 효자3동    0.79  \n",
              "34 효자4동    7.71  \n",
              "35 효자5동    6.27  "
            ],
            "text/latex": "A data.frame: 35 × 2\n\\begin{tabular}{ll}\n 행정동 & 면적.km\\\\\n <chr> & <dbl>\\\\\n\\hline\n\t 금암1동   &  1.25\\\\\n\t 금암2동   &  1.25\\\\\n\t 노송동    &  2.09\\\\\n\t 덕진동    &  4.78\\\\\n\t 동서학동  & 15.64\\\\\n\t 삼천1동   &  1.27\\\\\n\t 삼천2동   &  0.95\\\\\n\t 삼천3동   & 26.60\\\\\n\t 서서학동  &  2.97\\\\\n\t 서신동    &  2.39\\\\\n\t 송천1동   &  4.79\\\\\n\t 송천2동   & 12.14\\\\\n\t 여의동    & 15.71\\\\\n\t 완산동    &  0.99\\\\\n\t 우아1동   &  1.44\\\\\n\t 우아2동   & 22.91\\\\\n\t 인후1동   &  1.29\\\\\n\t 인후2동   &  1.32\\\\\n\t 인후3동   &  1.68\\\\\n\t 조촌동    & 24.28\\\\\n\t 중앙동    &  1.35\\\\\n\t 중화산1동 &  1.22\\\\\n\t 중화산2동 &  1.72\\\\\n\t 진북동    &  1.71\\\\\n\t 팔복동    &  7.38\\\\\n\t 평화1동   &  1.49\\\\\n\t 평화2동   & 15.23\\\\\n\t 풍남동    &  2.05\\\\\n\t 혁신동    &  3.37\\\\\n\t 호성동    &  7.64\\\\\n\t 효자1동   &  1.02\\\\\n\t 효자2동   &  0.84\\\\\n\t 효자3동   &  0.79\\\\\n\t 효자4동   &  7.71\\\\\n\t 효자5동   &  6.27\\\\\n\\end{tabular}\n",
            "text/markdown": "\nA data.frame: 35 × 2\n\n| 행정동 &lt;chr&gt; | 면적.km &lt;dbl&gt; |\n|---|---|\n| 금암1동   |  1.25 |\n| 금암2동   |  1.25 |\n| 노송동    |  2.09 |\n| 덕진동    |  4.78 |\n| 동서학동  | 15.64 |\n| 삼천1동   |  1.27 |\n| 삼천2동   |  0.95 |\n| 삼천3동   | 26.60 |\n| 서서학동  |  2.97 |\n| 서신동    |  2.39 |\n| 송천1동   |  4.79 |\n| 송천2동   | 12.14 |\n| 여의동    | 15.71 |\n| 완산동    |  0.99 |\n| 우아1동   |  1.44 |\n| 우아2동   | 22.91 |\n| 인후1동   |  1.29 |\n| 인후2동   |  1.32 |\n| 인후3동   |  1.68 |\n| 조촌동    | 24.28 |\n| 중앙동    |  1.35 |\n| 중화산1동 |  1.22 |\n| 중화산2동 |  1.72 |\n| 진북동    |  1.71 |\n| 팔복동    |  7.38 |\n| 평화1동   |  1.49 |\n| 평화2동   | 15.23 |\n| 풍남동    |  2.05 |\n| 혁신동    |  3.37 |\n| 호성동    |  7.64 |\n| 효자1동   |  1.02 |\n| 효자2동   |  0.84 |\n| 효자3동   |  0.79 |\n| 효자4동   |  7.71 |\n| 효자5동   |  6.27 |\n\n",
            "text/html": [
              "<table class=\"dataframe\">\n",
              "<caption>A data.frame: 35 × 2</caption>\n",
              "<thead>\n",
              "\t<tr><th scope=col>행정동</th><th scope=col>면적.km</th></tr>\n",
              "\t<tr><th scope=col>&lt;chr&gt;</th><th scope=col>&lt;dbl&gt;</th></tr>\n",
              "</thead>\n",
              "<tbody>\n",
              "\t<tr><td>금암1동  </td><td> 1.25</td></tr>\n",
              "\t<tr><td>금암2동  </td><td> 1.25</td></tr>\n",
              "\t<tr><td>노송동   </td><td> 2.09</td></tr>\n",
              "\t<tr><td>덕진동   </td><td> 4.78</td></tr>\n",
              "\t<tr><td>동서학동 </td><td>15.64</td></tr>\n",
              "\t<tr><td>삼천1동  </td><td> 1.27</td></tr>\n",
              "\t<tr><td>삼천2동  </td><td> 0.95</td></tr>\n",
              "\t<tr><td>삼천3동  </td><td>26.60</td></tr>\n",
              "\t<tr><td>서서학동 </td><td> 2.97</td></tr>\n",
              "\t<tr><td>서신동   </td><td> 2.39</td></tr>\n",
              "\t<tr><td>송천1동  </td><td> 4.79</td></tr>\n",
              "\t<tr><td>송천2동  </td><td>12.14</td></tr>\n",
              "\t<tr><td>여의동   </td><td>15.71</td></tr>\n",
              "\t<tr><td>완산동   </td><td> 0.99</td></tr>\n",
              "\t<tr><td>우아1동  </td><td> 1.44</td></tr>\n",
              "\t<tr><td>우아2동  </td><td>22.91</td></tr>\n",
              "\t<tr><td>인후1동  </td><td> 1.29</td></tr>\n",
              "\t<tr><td>인후2동  </td><td> 1.32</td></tr>\n",
              "\t<tr><td>인후3동  </td><td> 1.68</td></tr>\n",
              "\t<tr><td>조촌동   </td><td>24.28</td></tr>\n",
              "\t<tr><td>중앙동   </td><td> 1.35</td></tr>\n",
              "\t<tr><td>중화산1동</td><td> 1.22</td></tr>\n",
              "\t<tr><td>중화산2동</td><td> 1.72</td></tr>\n",
              "\t<tr><td>진북동   </td><td> 1.71</td></tr>\n",
              "\t<tr><td>팔복동   </td><td> 7.38</td></tr>\n",
              "\t<tr><td>평화1동  </td><td> 1.49</td></tr>\n",
              "\t<tr><td>평화2동  </td><td>15.23</td></tr>\n",
              "\t<tr><td>풍남동   </td><td> 2.05</td></tr>\n",
              "\t<tr><td>혁신동   </td><td> 3.37</td></tr>\n",
              "\t<tr><td>호성동   </td><td> 7.64</td></tr>\n",
              "\t<tr><td>효자1동  </td><td> 1.02</td></tr>\n",
              "\t<tr><td>효자2동  </td><td> 0.84</td></tr>\n",
              "\t<tr><td>효자3동  </td><td> 0.79</td></tr>\n",
              "\t<tr><td>효자4동  </td><td> 7.71</td></tr>\n",
              "\t<tr><td>효자5동  </td><td> 6.27</td></tr>\n",
              "</tbody>\n",
              "</table>\n"
            ]
          },
          "metadata": {
            "tags": []
          }
        }
      ]
    },
    {
      "cell_type": "code",
      "metadata": {
        "colab": {
          "base_uri": "https://localhost:8080/"
        },
        "id": "NoD4h92z_9fj",
        "outputId": "4b66e2fd-7ec3-4ec3-dadd-14e55a79613b"
      },
      "source": [
        "table(region$행정동 %in% jjdong)\n",
        "table(jjdong %in% region$행정동)\n",
        "\n",
        "region$행정동[region$행정동 %in% jjdong == FALSE] #jjdong에는 없는 region의 행정동 #이름 오류 있는 듯 (송청1동, 품남동)\n",
        "\n",
        "jjdong[jjdong %in% region$행정동 == FALSE] #region에는 없는 jjdong의 행정동\n",
        "\n",
        "region"
      ],
      "execution_count": null,
      "outputs": [
        {
          "output_type": "display_data",
          "data": {
            "text/plain": [
              "\n",
              "TRUE \n",
              "  35 "
            ]
          },
          "metadata": {
            "tags": []
          }
        },
        {
          "output_type": "display_data",
          "data": {
            "text/plain": [
              "\n",
              "TRUE \n",
              "  35 "
            ]
          },
          "metadata": {
            "tags": []
          }
        },
        {
          "output_type": "display_data",
          "data": {
            "text/plain": [
              "character(0)"
            ],
            "text/latex": "",
            "text/markdown": "",
            "text/html": [
              ""
            ]
          },
          "metadata": {
            "tags": []
          }
        },
        {
          "output_type": "display_data",
          "data": {
            "text/plain": [
              "character(0)"
            ],
            "text/latex": "",
            "text/markdown": "",
            "text/html": [
              ""
            ]
          },
          "metadata": {
            "tags": []
          }
        },
        {
          "output_type": "display_data",
          "data": {
            "text/plain": [
              "   행정동    면적.km\n",
              "1  금암1동    1.25  \n",
              "2  금암2동    1.25  \n",
              "3  노송동     2.09  \n",
              "4  덕진동     4.78  \n",
              "5  동서학동  15.64  \n",
              "6  삼천1동    1.27  \n",
              "7  삼천2동    0.95  \n",
              "8  삼천3동   26.60  \n",
              "9  서서학동   2.97  \n",
              "10 서신동     2.39  \n",
              "11 송천1동    4.79  \n",
              "12 송천2동   12.14  \n",
              "13 여의동    15.71  \n",
              "14 완산동     0.99  \n",
              "15 우아1동    1.44  \n",
              "16 우아2동   22.91  \n",
              "17 인후1동    1.29  \n",
              "18 인후2동    1.32  \n",
              "19 인후3동    1.68  \n",
              "20 조촌동    24.28  \n",
              "21 중앙동     1.35  \n",
              "22 중화산1동  1.22  \n",
              "23 중화산2동  1.72  \n",
              "24 진북동     1.71  \n",
              "25 팔복동     7.38  \n",
              "26 평화1동    1.49  \n",
              "27 평화2동   15.23  \n",
              "28 풍남동     2.05  \n",
              "29 혁신동     3.37  \n",
              "30 호성동     7.64  \n",
              "31 효자1동    1.02  \n",
              "32 효자2동    0.84  \n",
              "33 효자3동    0.79  \n",
              "34 효자4동    7.71  \n",
              "35 효자5동    6.27  "
            ],
            "text/latex": "A data.frame: 35 × 2\n\\begin{tabular}{ll}\n 행정동 & 면적.km\\\\\n <chr> & <dbl>\\\\\n\\hline\n\t 금암1동   &  1.25\\\\\n\t 금암2동   &  1.25\\\\\n\t 노송동    &  2.09\\\\\n\t 덕진동    &  4.78\\\\\n\t 동서학동  & 15.64\\\\\n\t 삼천1동   &  1.27\\\\\n\t 삼천2동   &  0.95\\\\\n\t 삼천3동   & 26.60\\\\\n\t 서서학동  &  2.97\\\\\n\t 서신동    &  2.39\\\\\n\t 송천1동   &  4.79\\\\\n\t 송천2동   & 12.14\\\\\n\t 여의동    & 15.71\\\\\n\t 완산동    &  0.99\\\\\n\t 우아1동   &  1.44\\\\\n\t 우아2동   & 22.91\\\\\n\t 인후1동   &  1.29\\\\\n\t 인후2동   &  1.32\\\\\n\t 인후3동   &  1.68\\\\\n\t 조촌동    & 24.28\\\\\n\t 중앙동    &  1.35\\\\\n\t 중화산1동 &  1.22\\\\\n\t 중화산2동 &  1.72\\\\\n\t 진북동    &  1.71\\\\\n\t 팔복동    &  7.38\\\\\n\t 평화1동   &  1.49\\\\\n\t 평화2동   & 15.23\\\\\n\t 풍남동    &  2.05\\\\\n\t 혁신동    &  3.37\\\\\n\t 호성동    &  7.64\\\\\n\t 효자1동   &  1.02\\\\\n\t 효자2동   &  0.84\\\\\n\t 효자3동   &  0.79\\\\\n\t 효자4동   &  7.71\\\\\n\t 효자5동   &  6.27\\\\\n\\end{tabular}\n",
            "text/markdown": "\nA data.frame: 35 × 2\n\n| 행정동 &lt;chr&gt; | 면적.km &lt;dbl&gt; |\n|---|---|\n| 금암1동   |  1.25 |\n| 금암2동   |  1.25 |\n| 노송동    |  2.09 |\n| 덕진동    |  4.78 |\n| 동서학동  | 15.64 |\n| 삼천1동   |  1.27 |\n| 삼천2동   |  0.95 |\n| 삼천3동   | 26.60 |\n| 서서학동  |  2.97 |\n| 서신동    |  2.39 |\n| 송천1동   |  4.79 |\n| 송천2동   | 12.14 |\n| 여의동    | 15.71 |\n| 완산동    |  0.99 |\n| 우아1동   |  1.44 |\n| 우아2동   | 22.91 |\n| 인후1동   |  1.29 |\n| 인후2동   |  1.32 |\n| 인후3동   |  1.68 |\n| 조촌동    | 24.28 |\n| 중앙동    |  1.35 |\n| 중화산1동 |  1.22 |\n| 중화산2동 |  1.72 |\n| 진북동    |  1.71 |\n| 팔복동    |  7.38 |\n| 평화1동   |  1.49 |\n| 평화2동   | 15.23 |\n| 풍남동    |  2.05 |\n| 혁신동    |  3.37 |\n| 호성동    |  7.64 |\n| 효자1동   |  1.02 |\n| 효자2동   |  0.84 |\n| 효자3동   |  0.79 |\n| 효자4동   |  7.71 |\n| 효자5동   |  6.27 |\n\n",
            "text/html": [
              "<table class=\"dataframe\">\n",
              "<caption>A data.frame: 35 × 2</caption>\n",
              "<thead>\n",
              "\t<tr><th scope=col>행정동</th><th scope=col>면적.km</th></tr>\n",
              "\t<tr><th scope=col>&lt;chr&gt;</th><th scope=col>&lt;dbl&gt;</th></tr>\n",
              "</thead>\n",
              "<tbody>\n",
              "\t<tr><td>금암1동  </td><td> 1.25</td></tr>\n",
              "\t<tr><td>금암2동  </td><td> 1.25</td></tr>\n",
              "\t<tr><td>노송동   </td><td> 2.09</td></tr>\n",
              "\t<tr><td>덕진동   </td><td> 4.78</td></tr>\n",
              "\t<tr><td>동서학동 </td><td>15.64</td></tr>\n",
              "\t<tr><td>삼천1동  </td><td> 1.27</td></tr>\n",
              "\t<tr><td>삼천2동  </td><td> 0.95</td></tr>\n",
              "\t<tr><td>삼천3동  </td><td>26.60</td></tr>\n",
              "\t<tr><td>서서학동 </td><td> 2.97</td></tr>\n",
              "\t<tr><td>서신동   </td><td> 2.39</td></tr>\n",
              "\t<tr><td>송천1동  </td><td> 4.79</td></tr>\n",
              "\t<tr><td>송천2동  </td><td>12.14</td></tr>\n",
              "\t<tr><td>여의동   </td><td>15.71</td></tr>\n",
              "\t<tr><td>완산동   </td><td> 0.99</td></tr>\n",
              "\t<tr><td>우아1동  </td><td> 1.44</td></tr>\n",
              "\t<tr><td>우아2동  </td><td>22.91</td></tr>\n",
              "\t<tr><td>인후1동  </td><td> 1.29</td></tr>\n",
              "\t<tr><td>인후2동  </td><td> 1.32</td></tr>\n",
              "\t<tr><td>인후3동  </td><td> 1.68</td></tr>\n",
              "\t<tr><td>조촌동   </td><td>24.28</td></tr>\n",
              "\t<tr><td>중앙동   </td><td> 1.35</td></tr>\n",
              "\t<tr><td>중화산1동</td><td> 1.22</td></tr>\n",
              "\t<tr><td>중화산2동</td><td> 1.72</td></tr>\n",
              "\t<tr><td>진북동   </td><td> 1.71</td></tr>\n",
              "\t<tr><td>팔복동   </td><td> 7.38</td></tr>\n",
              "\t<tr><td>평화1동  </td><td> 1.49</td></tr>\n",
              "\t<tr><td>평화2동  </td><td>15.23</td></tr>\n",
              "\t<tr><td>풍남동   </td><td> 2.05</td></tr>\n",
              "\t<tr><td>혁신동   </td><td> 3.37</td></tr>\n",
              "\t<tr><td>호성동   </td><td> 7.64</td></tr>\n",
              "\t<tr><td>효자1동  </td><td> 1.02</td></tr>\n",
              "\t<tr><td>효자2동  </td><td> 0.84</td></tr>\n",
              "\t<tr><td>효자3동  </td><td> 0.79</td></tr>\n",
              "\t<tr><td>효자4동  </td><td> 7.71</td></tr>\n",
              "\t<tr><td>효자5동  </td><td> 6.27</td></tr>\n",
              "</tbody>\n",
              "</table>\n"
            ]
          },
          "metadata": {
            "tags": []
          }
        }
      ]
    },
    {
      "cell_type": "markdown",
      "metadata": {
        "id": "Koe59i5uNvcd"
      },
      "source": [
        "## 상점개수"
      ]
    },
    {
      "cell_type": "code",
      "metadata": {
        "id": "5TtZh74qNCvz",
        "colab": {
          "base_uri": "https://localhost:8080/"
        },
        "outputId": "44e0d922-c781-4937-8d16-1cdf6e5101f4"
      },
      "source": [
        "str(store)\n",
        "head(store)"
      ],
      "execution_count": null,
      "outputs": [
        {
          "output_type": "stream",
          "text": [
            "'data.frame':\t6503 obs. of  39 variables:\n",
            " $ 상가업소번호      : int  20763988 23959893 20776948 23035233 17174374 17174126 17174123 17173996 15501309 28490006 ...\n",
            " $ 상호명            : chr  \"공덕이발관\" \"MK디자인건축\" \"대영타일욕실나라\" \"코오롱세탁소\" ...\n",
            " $ 지점명            : chr  \"\" \"\" \"\" \"\" ...\n",
            " $ 상권업종대분류코드: chr  \"F\" \"D\" \"D\" \"F\" ...\n",
            " $ 상권업종대분류명  : chr  \"생활서비스\" \"소매\" \"소매\" \"생활서비스\" ...\n",
            " $ 상권업종중분류코드: chr  \"F01\" \"D07\" \"D07\" \"F02\" ...\n",
            " $ 상권업종중분류명  : chr  \"이/미용/건강\" \"가정/주방/인테리어\" \"가정/주방/인테리어\" \"세탁/가사서비스\" ...\n",
            " $ 상권업종소분류코드: chr  \"F01A04\" \"D07A15\" \"D07A01\" \"F02A01\" ...\n",
            " $ 상권업종소분류명  : chr  \"남성미용실\" \"유리/페인트/철물건축자재\" \"인테리어/욕실용품/커튼\" \"세탁소/빨래방\" ...\n",
            " $ 표준산업분류코드  : chr  \"S96111\" \"G47519\" \"G47599\" \"S96912\" ...\n",
            " $ 표준산업분류명    : chr  \"이용업\" \"페인트, 유리 및 기타 건설자재 소매업\" \"그외 기타 분류안된 가정용품 소매업\" \"가정용 세탁업\" ...\n",
            " $ 시도코드          : int  45 45 45 45 45 45 45 45 45 45 ...\n",
            " $ 시도명            : chr  \"전라북도\" \"전라북도\" \"전라북도\" \"전라북도\" ...\n",
            " $ 시군구코드        : int  45210 45140 45111 45130 45190 45710 45111 45113 45113 45140 ...\n",
            " $ 시군구명          : chr  \"김제시\" \"익산시\" \"전주시 완산구\" \"군산시\" ...\n",
            " $ 행정동코드        : num  4.52e+09 4.51e+09 4.51e+09 4.51e+09 4.52e+09 ...\n",
            " $ 행정동명          : chr  \"공덕면\" \"송학동\" \"평화2동\" \"미성동\" ...\n",
            " $ 법정동코드        : num  4.52e+09 4.51e+09 4.51e+09 4.51e+09 4.52e+09 ...\n",
            " $ 법정동명          : chr  \"공덕면\" \"송학동\" \"평화동1가\" \"산북동\" ...\n",
            " $ 지번코드          : num  4.52e+18 4.51e+18 4.51e+18 4.51e+18 4.52e+18 ...\n",
            " $ 대지구분코드      : int  1 1 1 1 1 1 1 1 1 1 ...\n",
            " $ 대지구분명        : chr  \"대지\" \"대지\" \"대지\" \"대지\" ...\n",
            " $ 지번본번지        : int  345 265 583 3618 437 268 417 602 1268 349 ...\n",
            " $ 지번부번지        : int  2 21 17 NA NA 3 7 48 NA 1 ...\n",
            " $ 지번주소          : chr  \"전라북도 김제시 공덕면 공덕리 345-2\" \"전라북도 익산시 송학동 265-21\" \"전라북도 전주시 완산구 평화동1가 583-17\" \"전라북도 군산시 산북동 3618\" ...\n",
            " $ 도로명코드        : num  4.52e+11 4.51e+11 4.51e+11 4.51e+11 4.52e+11 ...\n",
            " $ 도로명            : chr  \"전라북도 김제시 공덕면 공덕10길\" \"전라북도 익산시 군익로\" \"전라북도 전주시 완산구 장승배기로\" \"전라북도 군산시 산북로\" ...\n",
            " $ 건물본번지        : int  3 443 221 84 124 68 2 483 29 103 ...\n",
            " $ 건물부번지        : int  NA NA NA NA NA NA 27 NA NA NA ...\n",
            " $ 건물관리번호      : num  4.52e+24 4.51e+24 4.51e+24 4.51e+24 4.52e+24 ...\n",
            " $ 건물명            : chr  \"\" \"\" \"\" \"코오롱컴퓨터세탁\" ...\n",
            " $ 도로명주소        : chr  \"전라북도 김제시 공덕면 공덕10길 3\" \"전라북도 익산시 군익로 443\" \"전라북도 전주시 완산구 장승배기로 221\" \"전라북도 군산시 산북로 84\" ...\n",
            " $ 구우편번호        : int  576921 570080 560842 573888 590090 565805 560809 561823 561761 570964 ...\n",
            " $ 신우편번호        : int  54320 54658 55106 54166 55795 55337 55137 54905 54828 54598 ...\n",
            " $ 동정보            : chr  \"\" \"\" \"\" \"\" ...\n",
            " $ 층정보            : int  NA NA NA NA NA NA NA 1 NA 1 ...\n",
            " $ 호정보            : chr  \"\" \"\" \"\" \"\" ...\n",
            " $ 경도              : num  127 127 127 127 127 ...\n",
            " $ 위도              : num  35.9 35.9 35.8 36 35.4 ...\n"
          ],
          "name": "stdout"
        },
        {
          "output_type": "display_data",
          "data": {
            "text/plain": [
              "  상가업소번호 상호명           지점명 상권업종대분류코드 상권업종대분류명\n",
              "1 20763988     공덕이발관              F                  생활서비스      \n",
              "2 23959893     MK디자인건축            D                  소매            \n",
              "3 20776948     대영타일욕실나라        D                  소매            \n",
              "4 23035233     코오롱세탁소            F                  생활서비스      \n",
              "5 17174374     산리지호텔              O                  숙박            \n",
              "6 17174126     휴앤안                  Q                  음식            \n",
              "  상권업종중분류코드 상권업종중분류명   상권업종소분류코드\n",
              "1 F01                이/미용/건강       F01A04            \n",
              "2 D07                가정/주방/인테리어 D07A15            \n",
              "3 D07                가정/주방/인테리어 D07A01            \n",
              "4 F02                세탁/가사서비스    F02A01            \n",
              "5 O01                호텔/콘도          O01A01            \n",
              "6 Q01                한식               Q01A01            \n",
              "  상권업종소분류명         표준산업분류코드 ⋯ 건물관리번호 건물명          \n",
              "1 남성미용실               S96111           ⋯ 4.521e+24                    \n",
              "2 유리/페인트/철물건축자재 G47519           ⋯ 4.514e+24                    \n",
              "3 인테리어/욕실용품/커튼   G47599           ⋯ 4.511e+24                    \n",
              "4 세탁소/빨래방            S96912           ⋯ 4.513e+24    코오롱컴퓨터세탁\n",
              "5 호텔/콘도                                 ⋯ 4.519e+24    남원국민호텔    \n",
              "6 한식/백반/한정식         I56111           ⋯ 4.571e+24                    \n",
              "  도로명주소                            구우편번호 신우편번호 동정보 층정보\n",
              "1 전라북도 김제시 공덕면 공덕10길 3     576921     54320             NA    \n",
              "2 전라북도 익산시 군익로 443            570080     54658             NA    \n",
              "3 전라북도 전주시 완산구 장승배기로 221 560842     55106             NA    \n",
              "4 전라북도 군산시 산북로 84             573888     54166             NA    \n",
              "5 전라북도 남원시 소리길 124            590090     55795             NA    \n",
              "6 전라북도 완주군 삼례읍 후정로 68      565805     55337             NA    \n",
              "  호정보 경도  위도 \n",
              "1        126.9 35.89\n",
              "2        126.9 35.94\n",
              "3        127.1 35.80\n",
              "4        126.7 35.96\n",
              "5        127.4 35.41\n",
              "6        127.1 35.91"
            ],
            "text/latex": "A data.frame: 6 × 39\n\\begin{tabular}{r|lllllllllllllllllllll}\n  & 상가업소번호 & 상호명 & 지점명 & 상권업종대분류코드 & 상권업종대분류명 & 상권업종중분류코드 & 상권업종중분류명 & 상권업종소분류코드 & 상권업종소분류명 & 표준산업분류코드 & ⋯ & 건물관리번호 & 건물명 & 도로명주소 & 구우편번호 & 신우편번호 & 동정보 & 층정보 & 호정보 & 경도 & 위도\\\\\n  & <int> & <chr> & <chr> & <chr> & <chr> & <chr> & <chr> & <chr> & <chr> & <chr> & ⋯ & <dbl> & <chr> & <chr> & <int> & <int> & <chr> & <int> & <chr> & <dbl> & <dbl>\\\\\n\\hline\n\t1 & 20763988 & 공덕이발관       &  & F & 생활서비스 & F01 & 이/미용/건강       & F01A04 & 남성미용실               & S96111 & ⋯ & 4.521e+24 &                  & 전라북도 김제시 공덕면 공덕10길 3     & 576921 & 54320 &  & NA &  & 126.9 & 35.89\\\\\n\t2 & 23959893 & MK디자인건축     &  & D & 소매       & D07 & 가정/주방/인테리어 & D07A15 & 유리/페인트/철물건축자재 & G47519 & ⋯ & 4.514e+24 &                  & 전라북도 익산시 군익로 443            & 570080 & 54658 &  & NA &  & 126.9 & 35.94\\\\\n\t3 & 20776948 & 대영타일욕실나라 &  & D & 소매       & D07 & 가정/주방/인테리어 & D07A01 & 인테리어/욕실용품/커튼   & G47599 & ⋯ & 4.511e+24 &                  & 전라북도 전주시 완산구 장승배기로 221 & 560842 & 55106 &  & NA &  & 127.1 & 35.80\\\\\n\t4 & 23035233 & 코오롱세탁소     &  & F & 생활서비스 & F02 & 세탁/가사서비스    & F02A01 & 세탁소/빨래방            & S96912 & ⋯ & 4.513e+24 & 코오롱컴퓨터세탁 & 전라북도 군산시 산북로 84             & 573888 & 54166 &  & NA &  & 126.7 & 35.96\\\\\n\t5 & 17174374 & 산리지호텔       &  & O & 숙박       & O01 & 호텔/콘도          & O01A01 & 호텔/콘도                &        & ⋯ & 4.519e+24 & 남원국민호텔     & 전라북도 남원시 소리길 124            & 590090 & 55795 &  & NA &  & 127.4 & 35.41\\\\\n\t6 & 17174126 & 휴앤안           &  & Q & 음식       & Q01 & 한식               & Q01A01 & 한식/백반/한정식         & I56111 & ⋯ & 4.571e+24 &                  & 전라북도 완주군 삼례읍 후정로 68      & 565805 & 55337 &  & NA &  & 127.1 & 35.91\\\\\n\\end{tabular}\n",
            "text/markdown": "\nA data.frame: 6 × 39\n\n| <!--/--> | 상가업소번호 &lt;int&gt; | 상호명 &lt;chr&gt; | 지점명 &lt;chr&gt; | 상권업종대분류코드 &lt;chr&gt; | 상권업종대분류명 &lt;chr&gt; | 상권업종중분류코드 &lt;chr&gt; | 상권업종중분류명 &lt;chr&gt; | 상권업종소분류코드 &lt;chr&gt; | 상권업종소분류명 &lt;chr&gt; | 표준산업분류코드 &lt;chr&gt; | ⋯ ⋯ | 건물관리번호 &lt;dbl&gt; | 건물명 &lt;chr&gt; | 도로명주소 &lt;chr&gt; | 구우편번호 &lt;int&gt; | 신우편번호 &lt;int&gt; | 동정보 &lt;chr&gt; | 층정보 &lt;int&gt; | 호정보 &lt;chr&gt; | 경도 &lt;dbl&gt; | 위도 &lt;dbl&gt; |\n|---|---|---|---|---|---|---|---|---|---|---|---|---|---|---|---|---|---|---|---|---|---|\n| 1 | 20763988 | 공덕이발관       | <!----> | F | 생활서비스 | F01 | 이/미용/건강       | F01A04 | 남성미용실               | S96111 | ⋯ | 4.521e+24 | <!----> | 전라북도 김제시 공덕면 공덕10길 3     | 576921 | 54320 | <!----> | NA | <!----> | 126.9 | 35.89 |\n| 2 | 23959893 | MK디자인건축     | <!----> | D | 소매       | D07 | 가정/주방/인테리어 | D07A15 | 유리/페인트/철물건축자재 | G47519 | ⋯ | 4.514e+24 | <!----> | 전라북도 익산시 군익로 443            | 570080 | 54658 | <!----> | NA | <!----> | 126.9 | 35.94 |\n| 3 | 20776948 | 대영타일욕실나라 | <!----> | D | 소매       | D07 | 가정/주방/인테리어 | D07A01 | 인테리어/욕실용품/커튼   | G47599 | ⋯ | 4.511e+24 | <!----> | 전라북도 전주시 완산구 장승배기로 221 | 560842 | 55106 | <!----> | NA | <!----> | 127.1 | 35.80 |\n| 4 | 23035233 | 코오롱세탁소     | <!----> | F | 생활서비스 | F02 | 세탁/가사서비스    | F02A01 | 세탁소/빨래방            | S96912 | ⋯ | 4.513e+24 | 코오롱컴퓨터세탁 | 전라북도 군산시 산북로 84             | 573888 | 54166 | <!----> | NA | <!----> | 126.7 | 35.96 |\n| 5 | 17174374 | 산리지호텔       | <!----> | O | 숙박       | O01 | 호텔/콘도          | O01A01 | 호텔/콘도                | <!----> | ⋯ | 4.519e+24 | 남원국민호텔     | 전라북도 남원시 소리길 124            | 590090 | 55795 | <!----> | NA | <!----> | 127.4 | 35.41 |\n| 6 | 17174126 | 휴앤안           | <!----> | Q | 음식       | Q01 | 한식               | Q01A01 | 한식/백반/한정식         | I56111 | ⋯ | 4.571e+24 | <!----> | 전라북도 완주군 삼례읍 후정로 68      | 565805 | 55337 | <!----> | NA | <!----> | 127.1 | 35.91 |\n\n",
            "text/html": [
              "<table class=\"dataframe\">\n",
              "<caption>A data.frame: 6 × 39</caption>\n",
              "<thead>\n",
              "\t<tr><th></th><th scope=col>상가업소번호</th><th scope=col>상호명</th><th scope=col>지점명</th><th scope=col>상권업종대분류코드</th><th scope=col>상권업종대분류명</th><th scope=col>상권업종중분류코드</th><th scope=col>상권업종중분류명</th><th scope=col>상권업종소분류코드</th><th scope=col>상권업종소분류명</th><th scope=col>표준산업분류코드</th><th scope=col>⋯</th><th scope=col>건물관리번호</th><th scope=col>건물명</th><th scope=col>도로명주소</th><th scope=col>구우편번호</th><th scope=col>신우편번호</th><th scope=col>동정보</th><th scope=col>층정보</th><th scope=col>호정보</th><th scope=col>경도</th><th scope=col>위도</th></tr>\n",
              "\t<tr><th></th><th scope=col>&lt;int&gt;</th><th scope=col>&lt;chr&gt;</th><th scope=col>&lt;chr&gt;</th><th scope=col>&lt;chr&gt;</th><th scope=col>&lt;chr&gt;</th><th scope=col>&lt;chr&gt;</th><th scope=col>&lt;chr&gt;</th><th scope=col>&lt;chr&gt;</th><th scope=col>&lt;chr&gt;</th><th scope=col>&lt;chr&gt;</th><th scope=col>⋯</th><th scope=col>&lt;dbl&gt;</th><th scope=col>&lt;chr&gt;</th><th scope=col>&lt;chr&gt;</th><th scope=col>&lt;int&gt;</th><th scope=col>&lt;int&gt;</th><th scope=col>&lt;chr&gt;</th><th scope=col>&lt;int&gt;</th><th scope=col>&lt;chr&gt;</th><th scope=col>&lt;dbl&gt;</th><th scope=col>&lt;dbl&gt;</th></tr>\n",
              "</thead>\n",
              "<tbody>\n",
              "\t<tr><th scope=row>1</th><td>20763988</td><td>공덕이발관      </td><td></td><td>F</td><td>생활서비스</td><td>F01</td><td>이/미용/건강      </td><td>F01A04</td><td>남성미용실              </td><td>S96111</td><td>⋯</td><td>4.521e+24</td><td>                </td><td>전라북도 김제시 공덕면 공덕10길 3    </td><td>576921</td><td>54320</td><td></td><td>NA</td><td></td><td>126.9</td><td>35.89</td></tr>\n",
              "\t<tr><th scope=row>2</th><td>23959893</td><td>MK디자인건축    </td><td></td><td>D</td><td>소매      </td><td>D07</td><td>가정/주방/인테리어</td><td>D07A15</td><td>유리/페인트/철물건축자재</td><td>G47519</td><td>⋯</td><td>4.514e+24</td><td>                </td><td>전라북도 익산시 군익로 443           </td><td>570080</td><td>54658</td><td></td><td>NA</td><td></td><td>126.9</td><td>35.94</td></tr>\n",
              "\t<tr><th scope=row>3</th><td>20776948</td><td>대영타일욕실나라</td><td></td><td>D</td><td>소매      </td><td>D07</td><td>가정/주방/인테리어</td><td>D07A01</td><td>인테리어/욕실용품/커튼  </td><td>G47599</td><td>⋯</td><td>4.511e+24</td><td>                </td><td>전라북도 전주시 완산구 장승배기로 221</td><td>560842</td><td>55106</td><td></td><td>NA</td><td></td><td>127.1</td><td>35.80</td></tr>\n",
              "\t<tr><th scope=row>4</th><td>23035233</td><td>코오롱세탁소    </td><td></td><td>F</td><td>생활서비스</td><td>F02</td><td>세탁/가사서비스   </td><td>F02A01</td><td>세탁소/빨래방           </td><td>S96912</td><td>⋯</td><td>4.513e+24</td><td>코오롱컴퓨터세탁</td><td>전라북도 군산시 산북로 84            </td><td>573888</td><td>54166</td><td></td><td>NA</td><td></td><td>126.7</td><td>35.96</td></tr>\n",
              "\t<tr><th scope=row>5</th><td>17174374</td><td>산리지호텔      </td><td></td><td>O</td><td>숙박      </td><td>O01</td><td>호텔/콘도         </td><td>O01A01</td><td>호텔/콘도               </td><td>      </td><td>⋯</td><td>4.519e+24</td><td>남원국민호텔    </td><td>전라북도 남원시 소리길 124           </td><td>590090</td><td>55795</td><td></td><td>NA</td><td></td><td>127.4</td><td>35.41</td></tr>\n",
              "\t<tr><th scope=row>6</th><td>17174126</td><td>휴앤안          </td><td></td><td>Q</td><td>음식      </td><td>Q01</td><td>한식              </td><td>Q01A01</td><td>한식/백반/한정식        </td><td>I56111</td><td>⋯</td><td>4.571e+24</td><td>                </td><td>전라북도 완주군 삼례읍 후정로 68     </td><td>565805</td><td>55337</td><td></td><td>NA</td><td></td><td>127.1</td><td>35.91</td></tr>\n",
              "</tbody>\n",
              "</table>\n"
            ]
          },
          "metadata": {
            "tags": []
          }
        }
      ]
    },
    {
      "cell_type": "markdown",
      "metadata": {
        "id": "C24kC4czNzYA"
      },
      "source": [
        "1 store의 변수명 확인\n",
        "\n",
        "2 필요한 변수들 추출\n",
        "\n",
        "▼"
      ]
    },
    {
      "cell_type": "code",
      "metadata": {
        "id": "sUbf7fiWNQvs",
        "colab": {
          "base_uri": "https://localhost:8080/"
        },
        "outputId": "71b7c79c-96be-41a4-b6f3-f566447754d1"
      },
      "source": [
        "names(store)\n",
        "store <- store[, c(1,2,5,7,9,11,13,15,17,19,32,38,39)]\n",
        "str(store)\n",
        "head(store)"
      ],
      "execution_count": null,
      "outputs": [
        {
          "output_type": "display_data",
          "data": {
            "text/plain": [
              " [1] \"상가업소번호\"       \"상호명\"             \"지점명\"            \n",
              " [4] \"상권업종대분류코드\" \"상권업종대분류명\"   \"상권업종중분류코드\"\n",
              " [7] \"상권업종중분류명\"   \"상권업종소분류코드\" \"상권업종소분류명\"  \n",
              "[10] \"표준산업분류코드\"   \"표준산업분류명\"     \"시도코드\"          \n",
              "[13] \"시도명\"             \"시군구코드\"         \"시군구명\"          \n",
              "[16] \"행정동코드\"         \"행정동명\"           \"법정동코드\"        \n",
              "[19] \"법정동명\"           \"지번코드\"           \"대지구분코드\"      \n",
              "[22] \"대지구분명\"         \"지번본번지\"         \"지번부번지\"        \n",
              "[25] \"지번주소\"           \"도로명코드\"         \"도로명\"            \n",
              "[28] \"건물본번지\"         \"건물부번지\"         \"건물관리번호\"      \n",
              "[31] \"건물명\"             \"도로명주소\"         \"구우편번호\"        \n",
              "[34] \"신우편번호\"         \"동정보\"             \"층정보\"            \n",
              "[37] \"호정보\"             \"경도\"               \"위도\"              "
            ],
            "text/latex": "\\begin{enumerate*}\n\\item '상가업소번호'\n\\item '상호명'\n\\item '지점명'\n\\item '상권업종대분류코드'\n\\item '상권업종대분류명'\n\\item '상권업종중분류코드'\n\\item '상권업종중분류명'\n\\item '상권업종소분류코드'\n\\item '상권업종소분류명'\n\\item '표준산업분류코드'\n\\item '표준산업분류명'\n\\item '시도코드'\n\\item '시도명'\n\\item '시군구코드'\n\\item '시군구명'\n\\item '행정동코드'\n\\item '행정동명'\n\\item '법정동코드'\n\\item '법정동명'\n\\item '지번코드'\n\\item '대지구분코드'\n\\item '대지구분명'\n\\item '지번본번지'\n\\item '지번부번지'\n\\item '지번주소'\n\\item '도로명코드'\n\\item '도로명'\n\\item '건물본번지'\n\\item '건물부번지'\n\\item '건물관리번호'\n\\item '건물명'\n\\item '도로명주소'\n\\item '구우편번호'\n\\item '신우편번호'\n\\item '동정보'\n\\item '층정보'\n\\item '호정보'\n\\item '경도'\n\\item '위도'\n\\end{enumerate*}\n",
            "text/markdown": "1. '상가업소번호'\n2. '상호명'\n3. '지점명'\n4. '상권업종대분류코드'\n5. '상권업종대분류명'\n6. '상권업종중분류코드'\n7. '상권업종중분류명'\n8. '상권업종소분류코드'\n9. '상권업종소분류명'\n10. '표준산업분류코드'\n11. '표준산업분류명'\n12. '시도코드'\n13. '시도명'\n14. '시군구코드'\n15. '시군구명'\n16. '행정동코드'\n17. '행정동명'\n18. '법정동코드'\n19. '법정동명'\n20. '지번코드'\n21. '대지구분코드'\n22. '대지구분명'\n23. '지번본번지'\n24. '지번부번지'\n25. '지번주소'\n26. '도로명코드'\n27. '도로명'\n28. '건물본번지'\n29. '건물부번지'\n30. '건물관리번호'\n31. '건물명'\n32. '도로명주소'\n33. '구우편번호'\n34. '신우편번호'\n35. '동정보'\n36. '층정보'\n37. '호정보'\n38. '경도'\n39. '위도'\n\n\n",
            "text/html": [
              "<style>\n",
              ".list-inline {list-style: none; margin:0; padding: 0}\n",
              ".list-inline>li {display: inline-block}\n",
              ".list-inline>li:not(:last-child)::after {content: \"\\00b7\"; padding: 0 .5ex}\n",
              "</style>\n",
              "<ol class=list-inline><li>'상가업소번호'</li><li>'상호명'</li><li>'지점명'</li><li>'상권업종대분류코드'</li><li>'상권업종대분류명'</li><li>'상권업종중분류코드'</li><li>'상권업종중분류명'</li><li>'상권업종소분류코드'</li><li>'상권업종소분류명'</li><li>'표준산업분류코드'</li><li>'표준산업분류명'</li><li>'시도코드'</li><li>'시도명'</li><li>'시군구코드'</li><li>'시군구명'</li><li>'행정동코드'</li><li>'행정동명'</li><li>'법정동코드'</li><li>'법정동명'</li><li>'지번코드'</li><li>'대지구분코드'</li><li>'대지구분명'</li><li>'지번본번지'</li><li>'지번부번지'</li><li>'지번주소'</li><li>'도로명코드'</li><li>'도로명'</li><li>'건물본번지'</li><li>'건물부번지'</li><li>'건물관리번호'</li><li>'건물명'</li><li>'도로명주소'</li><li>'구우편번호'</li><li>'신우편번호'</li><li>'동정보'</li><li>'층정보'</li><li>'호정보'</li><li>'경도'</li><li>'위도'</li></ol>\n"
            ]
          },
          "metadata": {
            "tags": []
          }
        },
        {
          "output_type": "stream",
          "text": [
            "'data.frame':\t6503 obs. of  13 variables:\n",
            " $ 상가업소번호    : int  20763988 23959893 20776948 23035233 17174374 17174126 17174123 17173996 15501309 28490006 ...\n",
            " $ 상호명          : chr  \"공덕이발관\" \"MK디자인건축\" \"대영타일욕실나라\" \"코오롱세탁소\" ...\n",
            " $ 상권업종대분류명: chr  \"생활서비스\" \"소매\" \"소매\" \"생활서비스\" ...\n",
            " $ 상권업종중분류명: chr  \"이/미용/건강\" \"가정/주방/인테리어\" \"가정/주방/인테리어\" \"세탁/가사서비스\" ...\n",
            " $ 상권업종소분류명: chr  \"남성미용실\" \"유리/페인트/철물건축자재\" \"인테리어/욕실용품/커튼\" \"세탁소/빨래방\" ...\n",
            " $ 표준산업분류명  : chr  \"이용업\" \"페인트, 유리 및 기타 건설자재 소매업\" \"그외 기타 분류안된 가정용품 소매업\" \"가정용 세탁업\" ...\n",
            " $ 시도명          : chr  \"전라북도\" \"전라북도\" \"전라북도\" \"전라북도\" ...\n",
            " $ 시군구명        : chr  \"김제시\" \"익산시\" \"전주시 완산구\" \"군산시\" ...\n",
            " $ 행정동명        : chr  \"공덕면\" \"송학동\" \"평화2동\" \"미성동\" ...\n",
            " $ 법정동명        : chr  \"공덕면\" \"송학동\" \"평화동1가\" \"산북동\" ...\n",
            " $ 도로명주소      : chr  \"전라북도 김제시 공덕면 공덕10길 3\" \"전라북도 익산시 군익로 443\" \"전라북도 전주시 완산구 장승배기로 221\" \"전라북도 군산시 산북로 84\" ...\n",
            " $ 경도            : num  127 127 127 127 127 ...\n",
            " $ 위도            : num  35.9 35.9 35.8 36 35.4 ...\n"
          ],
          "name": "stdout"
        },
        {
          "output_type": "display_data",
          "data": {
            "text/plain": [
              "  상가업소번호 상호명           상권업종대분류명 상권업종중분류명  \n",
              "1 20763988     공덕이발관       생활서비스       이/미용/건강      \n",
              "2 23959893     MK디자인건축     소매             가정/주방/인테리어\n",
              "3 20776948     대영타일욕실나라 소매             가정/주방/인테리어\n",
              "4 23035233     코오롱세탁소     생활서비스       세탁/가사서비스   \n",
              "5 17174374     산리지호텔       숙박             호텔/콘도         \n",
              "6 17174126     휴앤안           음식             한식              \n",
              "  상권업종소분류명         표준산업분류명                       시도명  \n",
              "1 남성미용실               이용업                               전라북도\n",
              "2 유리/페인트/철물건축자재 페인트, 유리 및 기타 건설자재 소매업 전라북도\n",
              "3 인테리어/욕실용품/커튼   그외 기타 분류안된 가정용품 소매업   전라북도\n",
              "4 세탁소/빨래방            가정용 세탁업                        전라북도\n",
              "5 호텔/콘도                                                     전라북도\n",
              "6 한식/백반/한정식         한식 음식점업                        전라북도\n",
              "  시군구명      행정동명 법정동명  도로명주소                            경도 \n",
              "1 김제시        공덕면   공덕면    전라북도 김제시 공덕면 공덕10길 3     126.9\n",
              "2 익산시        송학동   송학동    전라북도 익산시 군익로 443            126.9\n",
              "3 전주시 완산구 평화2동  평화동1가 전라북도 전주시 완산구 장승배기로 221 127.1\n",
              "4 군산시        미성동   산북동    전라북도 군산시 산북로 84             126.7\n",
              "5 남원시        노암동   신촌동    전라북도 남원시 소리길 124            127.4\n",
              "6 완주군        삼례읍   삼례읍    전라북도 완주군 삼례읍 후정로 68      127.1\n",
              "  위도 \n",
              "1 35.89\n",
              "2 35.94\n",
              "3 35.80\n",
              "4 35.96\n",
              "5 35.41\n",
              "6 35.91"
            ],
            "text/latex": "A data.frame: 6 × 13\n\\begin{tabular}{r|lllllllllllll}\n  & 상가업소번호 & 상호명 & 상권업종대분류명 & 상권업종중분류명 & 상권업종소분류명 & 표준산업분류명 & 시도명 & 시군구명 & 행정동명 & 법정동명 & 도로명주소 & 경도 & 위도\\\\\n  & <int> & <chr> & <chr> & <chr> & <chr> & <chr> & <chr> & <chr> & <chr> & <chr> & <chr> & <dbl> & <dbl>\\\\\n\\hline\n\t1 & 20763988 & 공덕이발관       & 생활서비스 & 이/미용/건강       & 남성미용실               & 이용업                               & 전라북도 & 김제시        & 공덕면  & 공덕면    & 전라북도 김제시 공덕면 공덕10길 3     & 126.9 & 35.89\\\\\n\t2 & 23959893 & MK디자인건축     & 소매       & 가정/주방/인테리어 & 유리/페인트/철물건축자재 & 페인트, 유리 및 기타 건설자재 소매업 & 전라북도 & 익산시        & 송학동  & 송학동    & 전라북도 익산시 군익로 443            & 126.9 & 35.94\\\\\n\t3 & 20776948 & 대영타일욕실나라 & 소매       & 가정/주방/인테리어 & 인테리어/욕실용품/커튼   & 그외 기타 분류안된 가정용품 소매업   & 전라북도 & 전주시 완산구 & 평화2동 & 평화동1가 & 전라북도 전주시 완산구 장승배기로 221 & 127.1 & 35.80\\\\\n\t4 & 23035233 & 코오롱세탁소     & 생활서비스 & 세탁/가사서비스    & 세탁소/빨래방            & 가정용 세탁업                        & 전라북도 & 군산시        & 미성동  & 산북동    & 전라북도 군산시 산북로 84             & 126.7 & 35.96\\\\\n\t5 & 17174374 & 산리지호텔       & 숙박       & 호텔/콘도          & 호텔/콘도                &                                      & 전라북도 & 남원시        & 노암동  & 신촌동    & 전라북도 남원시 소리길 124            & 127.4 & 35.41\\\\\n\t6 & 17174126 & 휴앤안           & 음식       & 한식               & 한식/백반/한정식         & 한식 음식점업                        & 전라북도 & 완주군        & 삼례읍  & 삼례읍    & 전라북도 완주군 삼례읍 후정로 68      & 127.1 & 35.91\\\\\n\\end{tabular}\n",
            "text/markdown": "\nA data.frame: 6 × 13\n\n| <!--/--> | 상가업소번호 &lt;int&gt; | 상호명 &lt;chr&gt; | 상권업종대분류명 &lt;chr&gt; | 상권업종중분류명 &lt;chr&gt; | 상권업종소분류명 &lt;chr&gt; | 표준산업분류명 &lt;chr&gt; | 시도명 &lt;chr&gt; | 시군구명 &lt;chr&gt; | 행정동명 &lt;chr&gt; | 법정동명 &lt;chr&gt; | 도로명주소 &lt;chr&gt; | 경도 &lt;dbl&gt; | 위도 &lt;dbl&gt; |\n|---|---|---|---|---|---|---|---|---|---|---|---|---|---|\n| 1 | 20763988 | 공덕이발관       | 생활서비스 | 이/미용/건강       | 남성미용실               | 이용업                               | 전라북도 | 김제시        | 공덕면  | 공덕면    | 전라북도 김제시 공덕면 공덕10길 3     | 126.9 | 35.89 |\n| 2 | 23959893 | MK디자인건축     | 소매       | 가정/주방/인테리어 | 유리/페인트/철물건축자재 | 페인트, 유리 및 기타 건설자재 소매업 | 전라북도 | 익산시        | 송학동  | 송학동    | 전라북도 익산시 군익로 443            | 126.9 | 35.94 |\n| 3 | 20776948 | 대영타일욕실나라 | 소매       | 가정/주방/인테리어 | 인테리어/욕실용품/커튼   | 그외 기타 분류안된 가정용품 소매업   | 전라북도 | 전주시 완산구 | 평화2동 | 평화동1가 | 전라북도 전주시 완산구 장승배기로 221 | 127.1 | 35.80 |\n| 4 | 23035233 | 코오롱세탁소     | 생활서비스 | 세탁/가사서비스    | 세탁소/빨래방            | 가정용 세탁업                        | 전라북도 | 군산시        | 미성동  | 산북동    | 전라북도 군산시 산북로 84             | 126.7 | 35.96 |\n| 5 | 17174374 | 산리지호텔       | 숙박       | 호텔/콘도          | 호텔/콘도                | <!----> | 전라북도 | 남원시        | 노암동  | 신촌동    | 전라북도 남원시 소리길 124            | 127.4 | 35.41 |\n| 6 | 17174126 | 휴앤안           | 음식       | 한식               | 한식/백반/한정식         | 한식 음식점업                        | 전라북도 | 완주군        | 삼례읍  | 삼례읍    | 전라북도 완주군 삼례읍 후정로 68      | 127.1 | 35.91 |\n\n",
            "text/html": [
              "<table class=\"dataframe\">\n",
              "<caption>A data.frame: 6 × 13</caption>\n",
              "<thead>\n",
              "\t<tr><th></th><th scope=col>상가업소번호</th><th scope=col>상호명</th><th scope=col>상권업종대분류명</th><th scope=col>상권업종중분류명</th><th scope=col>상권업종소분류명</th><th scope=col>표준산업분류명</th><th scope=col>시도명</th><th scope=col>시군구명</th><th scope=col>행정동명</th><th scope=col>법정동명</th><th scope=col>도로명주소</th><th scope=col>경도</th><th scope=col>위도</th></tr>\n",
              "\t<tr><th></th><th scope=col>&lt;int&gt;</th><th scope=col>&lt;chr&gt;</th><th scope=col>&lt;chr&gt;</th><th scope=col>&lt;chr&gt;</th><th scope=col>&lt;chr&gt;</th><th scope=col>&lt;chr&gt;</th><th scope=col>&lt;chr&gt;</th><th scope=col>&lt;chr&gt;</th><th scope=col>&lt;chr&gt;</th><th scope=col>&lt;chr&gt;</th><th scope=col>&lt;chr&gt;</th><th scope=col>&lt;dbl&gt;</th><th scope=col>&lt;dbl&gt;</th></tr>\n",
              "</thead>\n",
              "<tbody>\n",
              "\t<tr><th scope=row>1</th><td>20763988</td><td>공덕이발관      </td><td>생활서비스</td><td>이/미용/건강      </td><td>남성미용실              </td><td>이용업                              </td><td>전라북도</td><td>김제시       </td><td>공덕면 </td><td>공덕면   </td><td>전라북도 김제시 공덕면 공덕10길 3    </td><td>126.9</td><td>35.89</td></tr>\n",
              "\t<tr><th scope=row>2</th><td>23959893</td><td>MK디자인건축    </td><td>소매      </td><td>가정/주방/인테리어</td><td>유리/페인트/철물건축자재</td><td>페인트, 유리 및 기타 건설자재 소매업</td><td>전라북도</td><td>익산시       </td><td>송학동 </td><td>송학동   </td><td>전라북도 익산시 군익로 443           </td><td>126.9</td><td>35.94</td></tr>\n",
              "\t<tr><th scope=row>3</th><td>20776948</td><td>대영타일욕실나라</td><td>소매      </td><td>가정/주방/인테리어</td><td>인테리어/욕실용품/커튼  </td><td>그외 기타 분류안된 가정용품 소매업  </td><td>전라북도</td><td>전주시 완산구</td><td>평화2동</td><td>평화동1가</td><td>전라북도 전주시 완산구 장승배기로 221</td><td>127.1</td><td>35.80</td></tr>\n",
              "\t<tr><th scope=row>4</th><td>23035233</td><td>코오롱세탁소    </td><td>생활서비스</td><td>세탁/가사서비스   </td><td>세탁소/빨래방           </td><td>가정용 세탁업                       </td><td>전라북도</td><td>군산시       </td><td>미성동 </td><td>산북동   </td><td>전라북도 군산시 산북로 84            </td><td>126.7</td><td>35.96</td></tr>\n",
              "\t<tr><th scope=row>5</th><td>17174374</td><td>산리지호텔      </td><td>숙박      </td><td>호텔/콘도         </td><td>호텔/콘도               </td><td>                                    </td><td>전라북도</td><td>남원시       </td><td>노암동 </td><td>신촌동   </td><td>전라북도 남원시 소리길 124           </td><td>127.4</td><td>35.41</td></tr>\n",
              "\t<tr><th scope=row>6</th><td>17174126</td><td>휴앤안          </td><td>음식      </td><td>한식              </td><td>한식/백반/한정식        </td><td>한식 음식점업                       </td><td>전라북도</td><td>완주군       </td><td>삼례읍 </td><td>삼례읍   </td><td>전라북도 완주군 삼례읍 후정로 68     </td><td>127.1</td><td>35.91</td></tr>\n",
              "</tbody>\n",
              "</table>\n"
            ]
          },
          "metadata": {
            "tags": []
          }
        }
      ]
    },
    {
      "cell_type": "markdown",
      "metadata": {
        "id": "Kwyl2vt8N6je"
      },
      "source": [
        "▼ store의 시군구명 중 '전주'를 포함하는 데이터 추출"
      ]
    },
    {
      "cell_type": "code",
      "metadata": {
        "id": "S6Dn5Q4dNZr-",
        "colab": {
          "base_uri": "https://localhost:8080/"
        },
        "outputId": "3832f897-2c34-4f46-eecb-d912a4923b43"
      },
      "source": [
        "store <- store[grep(\"전주\", store$시군구명), ]\n",
        "head(store)"
      ],
      "execution_count": null,
      "outputs": [
        {
          "output_type": "display_data",
          "data": {
            "text/plain": [
              "   상가업소번호 상호명           상권업종대분류명 상권업종중분류명      \n",
              "3  20776948     대영타일욕실나라 소매             가정/주방/인테리어    \n",
              "7  17174123     솔차니           음식             한식                  \n",
              "8  17173996     BBQ치킨          음식             유흥주점              \n",
              "9  15501309     금암이동통신     소매             사진/광학/정밀기기소매\n",
              "19 20743412     서곡해법영어교실 학문/교육        학원-어학             \n",
              "20 28494686     대호장           숙박             모텔/여관/여인숙      \n",
              "   상권업종소분류명       표준산업분류명                     시도명  \n",
              "3  인테리어/욕실용품/커튼 그외 기타 분류안된 가정용품 소매업 전라북도\n",
              "7  한식/백반/한정식       한식 음식점업                      전라북도\n",
              "8  호프/맥주              기타 주점업                        전라북도\n",
              "9  핸드폰소매             통신기기 소매업                    전라북도\n",
              "19 학원-어린이영어        외국어학원                         전라북도\n",
              "20 모텔/여관/여인숙       여관업                             전라북도\n",
              "   시군구명      행정동명 법정동명  도로명주소                            \n",
              "3  전주시 완산구 평화2동  평화동1가 전라북도 전주시 완산구 장승배기로 221 \n",
              "7  전주시 완산구 삼천3동  삼천동1가 전라북도 전주시 완산구 장승배기로 2-27\n",
              "8  전주시 덕진구 우아1동  우아동3가 전라북도 전주시 덕진구 견훤로 483     \n",
              "9  전주시 덕진구 송천1동  송천동2가 전라북도 전주시 덕진구 붓내3길 29     \n",
              "19 전주시 완산구 효자4동  효자동3가 전라북도 전주시 완산구 서곡7길 24     \n",
              "20 전주시 덕진구 우아2동  산정동    전라북도 전주시 덕진구 산정1길 32     \n",
              "   경도  위도 \n",
              "3  127.1 35.80\n",
              "7  127.1 35.79\n",
              "8  127.2 35.85\n",
              "9  127.1 35.87\n",
              "19 127.1 35.83\n",
              "20 127.2 35.84"
            ],
            "text/latex": "A data.frame: 6 × 13\n\\begin{tabular}{r|lllllllllllll}\n  & 상가업소번호 & 상호명 & 상권업종대분류명 & 상권업종중분류명 & 상권업종소분류명 & 표준산업분류명 & 시도명 & 시군구명 & 행정동명 & 법정동명 & 도로명주소 & 경도 & 위도\\\\\n  & <int> & <chr> & <chr> & <chr> & <chr> & <chr> & <chr> & <chr> & <chr> & <chr> & <chr> & <dbl> & <dbl>\\\\\n\\hline\n\t3 & 20776948 & 대영타일욕실나라 & 소매      & 가정/주방/인테리어     & 인테리어/욕실용품/커튼 & 그외 기타 분류안된 가정용품 소매업 & 전라북도 & 전주시 완산구 & 평화2동 & 평화동1가 & 전라북도 전주시 완산구 장승배기로 221  & 127.1 & 35.80\\\\\n\t7 & 17174123 & 솔차니           & 음식      & 한식                   & 한식/백반/한정식       & 한식 음식점업                      & 전라북도 & 전주시 완산구 & 삼천3동 & 삼천동1가 & 전라북도 전주시 완산구 장승배기로 2-27 & 127.1 & 35.79\\\\\n\t8 & 17173996 & BBQ치킨          & 음식      & 유흥주점               & 호프/맥주              & 기타 주점업                        & 전라북도 & 전주시 덕진구 & 우아1동 & 우아동3가 & 전라북도 전주시 덕진구 견훤로 483      & 127.2 & 35.85\\\\\n\t9 & 15501309 & 금암이동통신     & 소매      & 사진/광학/정밀기기소매 & 핸드폰소매             & 통신기기 소매업                    & 전라북도 & 전주시 덕진구 & 송천1동 & 송천동2가 & 전라북도 전주시 덕진구 붓내3길 29      & 127.1 & 35.87\\\\\n\t19 & 20743412 & 서곡해법영어교실 & 학문/교육 & 학원-어학              & 학원-어린이영어        & 외국어학원                         & 전라북도 & 전주시 완산구 & 효자4동 & 효자동3가 & 전라북도 전주시 완산구 서곡7길 24      & 127.1 & 35.83\\\\\n\t20 & 28494686 & 대호장           & 숙박      & 모텔/여관/여인숙       & 모텔/여관/여인숙       & 여관업                             & 전라북도 & 전주시 덕진구 & 우아2동 & 산정동    & 전라북도 전주시 덕진구 산정1길 32      & 127.2 & 35.84\\\\\n\\end{tabular}\n",
            "text/markdown": "\nA data.frame: 6 × 13\n\n| <!--/--> | 상가업소번호 &lt;int&gt; | 상호명 &lt;chr&gt; | 상권업종대분류명 &lt;chr&gt; | 상권업종중분류명 &lt;chr&gt; | 상권업종소분류명 &lt;chr&gt; | 표준산업분류명 &lt;chr&gt; | 시도명 &lt;chr&gt; | 시군구명 &lt;chr&gt; | 행정동명 &lt;chr&gt; | 법정동명 &lt;chr&gt; | 도로명주소 &lt;chr&gt; | 경도 &lt;dbl&gt; | 위도 &lt;dbl&gt; |\n|---|---|---|---|---|---|---|---|---|---|---|---|---|---|\n| 3 | 20776948 | 대영타일욕실나라 | 소매      | 가정/주방/인테리어     | 인테리어/욕실용품/커튼 | 그외 기타 분류안된 가정용품 소매업 | 전라북도 | 전주시 완산구 | 평화2동 | 평화동1가 | 전라북도 전주시 완산구 장승배기로 221  | 127.1 | 35.80 |\n| 7 | 17174123 | 솔차니           | 음식      | 한식                   | 한식/백반/한정식       | 한식 음식점업                      | 전라북도 | 전주시 완산구 | 삼천3동 | 삼천동1가 | 전라북도 전주시 완산구 장승배기로 2-27 | 127.1 | 35.79 |\n| 8 | 17173996 | BBQ치킨          | 음식      | 유흥주점               | 호프/맥주              | 기타 주점업                        | 전라북도 | 전주시 덕진구 | 우아1동 | 우아동3가 | 전라북도 전주시 덕진구 견훤로 483      | 127.2 | 35.85 |\n| 9 | 15501309 | 금암이동통신     | 소매      | 사진/광학/정밀기기소매 | 핸드폰소매             | 통신기기 소매업                    | 전라북도 | 전주시 덕진구 | 송천1동 | 송천동2가 | 전라북도 전주시 덕진구 붓내3길 29      | 127.1 | 35.87 |\n| 19 | 20743412 | 서곡해법영어교실 | 학문/교육 | 학원-어학              | 학원-어린이영어        | 외국어학원                         | 전라북도 | 전주시 완산구 | 효자4동 | 효자동3가 | 전라북도 전주시 완산구 서곡7길 24      | 127.1 | 35.83 |\n| 20 | 28494686 | 대호장           | 숙박      | 모텔/여관/여인숙       | 모텔/여관/여인숙       | 여관업                             | 전라북도 | 전주시 덕진구 | 우아2동 | 산정동    | 전라북도 전주시 덕진구 산정1길 32      | 127.2 | 35.84 |\n\n",
            "text/html": [
              "<table class=\"dataframe\">\n",
              "<caption>A data.frame: 6 × 13</caption>\n",
              "<thead>\n",
              "\t<tr><th></th><th scope=col>상가업소번호</th><th scope=col>상호명</th><th scope=col>상권업종대분류명</th><th scope=col>상권업종중분류명</th><th scope=col>상권업종소분류명</th><th scope=col>표준산업분류명</th><th scope=col>시도명</th><th scope=col>시군구명</th><th scope=col>행정동명</th><th scope=col>법정동명</th><th scope=col>도로명주소</th><th scope=col>경도</th><th scope=col>위도</th></tr>\n",
              "\t<tr><th></th><th scope=col>&lt;int&gt;</th><th scope=col>&lt;chr&gt;</th><th scope=col>&lt;chr&gt;</th><th scope=col>&lt;chr&gt;</th><th scope=col>&lt;chr&gt;</th><th scope=col>&lt;chr&gt;</th><th scope=col>&lt;chr&gt;</th><th scope=col>&lt;chr&gt;</th><th scope=col>&lt;chr&gt;</th><th scope=col>&lt;chr&gt;</th><th scope=col>&lt;chr&gt;</th><th scope=col>&lt;dbl&gt;</th><th scope=col>&lt;dbl&gt;</th></tr>\n",
              "</thead>\n",
              "<tbody>\n",
              "\t<tr><th scope=row>3</th><td>20776948</td><td>대영타일욕실나라</td><td>소매     </td><td>가정/주방/인테리어    </td><td>인테리어/욕실용품/커튼</td><td>그외 기타 분류안된 가정용품 소매업</td><td>전라북도</td><td>전주시 완산구</td><td>평화2동</td><td>평화동1가</td><td>전라북도 전주시 완산구 장승배기로 221 </td><td>127.1</td><td>35.80</td></tr>\n",
              "\t<tr><th scope=row>7</th><td>17174123</td><td>솔차니          </td><td>음식     </td><td>한식                  </td><td>한식/백반/한정식      </td><td>한식 음식점업                     </td><td>전라북도</td><td>전주시 완산구</td><td>삼천3동</td><td>삼천동1가</td><td>전라북도 전주시 완산구 장승배기로 2-27</td><td>127.1</td><td>35.79</td></tr>\n",
              "\t<tr><th scope=row>8</th><td>17173996</td><td>BBQ치킨         </td><td>음식     </td><td>유흥주점              </td><td>호프/맥주             </td><td>기타 주점업                       </td><td>전라북도</td><td>전주시 덕진구</td><td>우아1동</td><td>우아동3가</td><td>전라북도 전주시 덕진구 견훤로 483     </td><td>127.2</td><td>35.85</td></tr>\n",
              "\t<tr><th scope=row>9</th><td>15501309</td><td>금암이동통신    </td><td>소매     </td><td>사진/광학/정밀기기소매</td><td>핸드폰소매            </td><td>통신기기 소매업                   </td><td>전라북도</td><td>전주시 덕진구</td><td>송천1동</td><td>송천동2가</td><td>전라북도 전주시 덕진구 붓내3길 29     </td><td>127.1</td><td>35.87</td></tr>\n",
              "\t<tr><th scope=row>19</th><td>20743412</td><td>서곡해법영어교실</td><td>학문/교육</td><td>학원-어학             </td><td>학원-어린이영어       </td><td>외국어학원                        </td><td>전라북도</td><td>전주시 완산구</td><td>효자4동</td><td>효자동3가</td><td>전라북도 전주시 완산구 서곡7길 24     </td><td>127.1</td><td>35.83</td></tr>\n",
              "\t<tr><th scope=row>20</th><td>28494686</td><td>대호장          </td><td>숙박     </td><td>모텔/여관/여인숙      </td><td>모텔/여관/여인숙      </td><td>여관업                            </td><td>전라북도</td><td>전주시 덕진구</td><td>우아2동</td><td>산정동   </td><td>전라북도 전주시 덕진구 산정1길 32     </td><td>127.2</td><td>35.84</td></tr>\n",
              "</tbody>\n",
              "</table>\n"
            ]
          },
          "metadata": {
            "tags": []
          }
        }
      ]
    },
    {
      "cell_type": "markdown",
      "metadata": {
        "id": "ZfiWx-QiN_jU"
      },
      "source": [
        "▼ 행정동명을 기준으로 상가의 개수 추출"
      ]
    },
    {
      "cell_type": "code",
      "metadata": {
        "id": "D8Jq7WMKNkAA",
        "colab": {
          "base_uri": "https://localhost:8080/"
        },
        "outputId": "ed6a9345-e97b-45f9-b5a3-d4d2e3d715ee"
      },
      "source": [
        "store <- store %>% group_by(행정동명) %>% summarise(상점개수 = length(상가업소번호))\n",
        "head(store)"
      ],
      "execution_count": null,
      "outputs": [
        {
          "output_type": "display_data",
          "data": {
            "text/plain": [
              "  행정동명 상점개수\n",
              "1            1     \n",
              "2 금암1동   81     \n",
              "3 금암2동   55     \n",
              "4 노송동    75     \n",
              "5 덕진동   114     \n",
              "6 동산동    62     "
            ],
            "text/latex": "A tibble: 6 × 2\n\\begin{tabular}{ll}\n 행정동명 & 상점개수\\\\\n <chr> & <int>\\\\\n\\hline\n\t         &   1\\\\\n\t 금암1동 &  81\\\\\n\t 금암2동 &  55\\\\\n\t 노송동  &  75\\\\\n\t 덕진동  & 114\\\\\n\t 동산동  &  62\\\\\n\\end{tabular}\n",
            "text/markdown": "\nA tibble: 6 × 2\n\n| 행정동명 &lt;chr&gt; | 상점개수 &lt;int&gt; |\n|---|---|\n| <!----> |   1 |\n| 금암1동 |  81 |\n| 금암2동 |  55 |\n| 노송동  |  75 |\n| 덕진동  | 114 |\n| 동산동  |  62 |\n\n",
            "text/html": [
              "<table class=\"dataframe\">\n",
              "<caption>A tibble: 6 × 2</caption>\n",
              "<thead>\n",
              "\t<tr><th scope=col>행정동명</th><th scope=col>상점개수</th></tr>\n",
              "\t<tr><th scope=col>&lt;chr&gt;</th><th scope=col>&lt;int&gt;</th></tr>\n",
              "</thead>\n",
              "<tbody>\n",
              "\t<tr><td>       </td><td>  1</td></tr>\n",
              "\t<tr><td>금암1동</td><td> 81</td></tr>\n",
              "\t<tr><td>금암2동</td><td> 55</td></tr>\n",
              "\t<tr><td>노송동 </td><td> 75</td></tr>\n",
              "\t<tr><td>덕진동 </td><td>114</td></tr>\n",
              "\t<tr><td>동산동 </td><td> 62</td></tr>\n",
              "</tbody>\n",
              "</table>\n"
            ]
          },
          "metadata": {
            "tags": []
          }
        }
      ]
    },
    {
      "cell_type": "markdown",
      "metadata": {
        "id": "AbNB2CyxODuv"
      },
      "source": [
        "\n",
        "\n",
        "1 데이터프레임으로 변경\n",
        "\n",
        "2 행정동을 기준으로 오름차순 정렬\n",
        "\n",
        "▼"
      ]
    },
    {
      "cell_type": "code",
      "metadata": {
        "id": "thlszABdNnEB",
        "colab": {
          "base_uri": "https://localhost:8080/"
        },
        "outputId": "f49f418b-62d8-476a-cfa6-44f706169a3c"
      },
      "source": [
        "store <- as.data.frame(store)\n",
        "store <- arrange(store, store$행정동명)\n",
        "store"
      ],
      "execution_count": null,
      "outputs": [
        {
          "output_type": "display_data",
          "data": {
            "text/plain": [
              "   행정동명  상점개수\n",
              "1              1     \n",
              "2  금암1동    81     \n",
              "3  금암2동    55     \n",
              "4  노송동     75     \n",
              "5  덕진동    114     \n",
              "6  동산동     62     \n",
              "7  동서학동   18     \n",
              "8  삼천1동    81     \n",
              "9  삼천2동   105     \n",
              "10 삼천3동    73     \n",
              "11 서서학동   21     \n",
              "12 서신동    318     \n",
              "13 송천1동    92     \n",
              "14 송천2동    96     \n",
              "15 여의동      1     \n",
              "16 완산동     17     \n",
              "17 우아1동   115     \n",
              "18 우아2동    73     \n",
              "19 인후1동    70     \n",
              "20 인후2동    61     \n",
              "21 인후3동   101     \n",
              "22 조촌동     36     \n",
              "23 중앙동    114     \n",
              "24 중화산1동  54     \n",
              "25 중화산2동 131     \n",
              "26 진북동     68     \n",
              "27 팔복동     50     \n",
              "28 평화1동    27     \n",
              "29 평화2동   187     \n",
              "30 풍남동    106     \n",
              "31 호성동     67     \n",
              "32 효자1동    65     \n",
              "33 효자2동    84     \n",
              "34 효자3동    61     \n",
              "35 효자4동   220     \n",
              "36 효자5동     1     "
            ],
            "text/latex": "A data.frame: 36 × 2\n\\begin{tabular}{ll}\n 행정동명 & 상점개수\\\\\n <chr> & <int>\\\\\n\\hline\n\t           &   1\\\\\n\t 금암1동   &  81\\\\\n\t 금암2동   &  55\\\\\n\t 노송동    &  75\\\\\n\t 덕진동    & 114\\\\\n\t 동산동    &  62\\\\\n\t 동서학동  &  18\\\\\n\t 삼천1동   &  81\\\\\n\t 삼천2동   & 105\\\\\n\t 삼천3동   &  73\\\\\n\t 서서학동  &  21\\\\\n\t 서신동    & 318\\\\\n\t 송천1동   &  92\\\\\n\t 송천2동   &  96\\\\\n\t 여의동    &   1\\\\\n\t 완산동    &  17\\\\\n\t 우아1동   & 115\\\\\n\t 우아2동   &  73\\\\\n\t 인후1동   &  70\\\\\n\t 인후2동   &  61\\\\\n\t 인후3동   & 101\\\\\n\t 조촌동    &  36\\\\\n\t 중앙동    & 114\\\\\n\t 중화산1동 &  54\\\\\n\t 중화산2동 & 131\\\\\n\t 진북동    &  68\\\\\n\t 팔복동    &  50\\\\\n\t 평화1동   &  27\\\\\n\t 평화2동   & 187\\\\\n\t 풍남동    & 106\\\\\n\t 호성동    &  67\\\\\n\t 효자1동   &  65\\\\\n\t 효자2동   &  84\\\\\n\t 효자3동   &  61\\\\\n\t 효자4동   & 220\\\\\n\t 효자5동   &   1\\\\\n\\end{tabular}\n",
            "text/markdown": "\nA data.frame: 36 × 2\n\n| 행정동명 &lt;chr&gt; | 상점개수 &lt;int&gt; |\n|---|---|\n| <!----> |   1 |\n| 금암1동   |  81 |\n| 금암2동   |  55 |\n| 노송동    |  75 |\n| 덕진동    | 114 |\n| 동산동    |  62 |\n| 동서학동  |  18 |\n| 삼천1동   |  81 |\n| 삼천2동   | 105 |\n| 삼천3동   |  73 |\n| 서서학동  |  21 |\n| 서신동    | 318 |\n| 송천1동   |  92 |\n| 송천2동   |  96 |\n| 여의동    |   1 |\n| 완산동    |  17 |\n| 우아1동   | 115 |\n| 우아2동   |  73 |\n| 인후1동   |  70 |\n| 인후2동   |  61 |\n| 인후3동   | 101 |\n| 조촌동    |  36 |\n| 중앙동    | 114 |\n| 중화산1동 |  54 |\n| 중화산2동 | 131 |\n| 진북동    |  68 |\n| 팔복동    |  50 |\n| 평화1동   |  27 |\n| 평화2동   | 187 |\n| 풍남동    | 106 |\n| 호성동    |  67 |\n| 효자1동   |  65 |\n| 효자2동   |  84 |\n| 효자3동   |  61 |\n| 효자4동   | 220 |\n| 효자5동   |   1 |\n\n",
            "text/html": [
              "<table class=\"dataframe\">\n",
              "<caption>A data.frame: 36 × 2</caption>\n",
              "<thead>\n",
              "\t<tr><th scope=col>행정동명</th><th scope=col>상점개수</th></tr>\n",
              "\t<tr><th scope=col>&lt;chr&gt;</th><th scope=col>&lt;int&gt;</th></tr>\n",
              "</thead>\n",
              "<tbody>\n",
              "\t<tr><td>         </td><td>  1</td></tr>\n",
              "\t<tr><td>금암1동  </td><td> 81</td></tr>\n",
              "\t<tr><td>금암2동  </td><td> 55</td></tr>\n",
              "\t<tr><td>노송동   </td><td> 75</td></tr>\n",
              "\t<tr><td>덕진동   </td><td>114</td></tr>\n",
              "\t<tr><td>동산동   </td><td> 62</td></tr>\n",
              "\t<tr><td>동서학동 </td><td> 18</td></tr>\n",
              "\t<tr><td>삼천1동  </td><td> 81</td></tr>\n",
              "\t<tr><td>삼천2동  </td><td>105</td></tr>\n",
              "\t<tr><td>삼천3동  </td><td> 73</td></tr>\n",
              "\t<tr><td>서서학동 </td><td> 21</td></tr>\n",
              "\t<tr><td>서신동   </td><td>318</td></tr>\n",
              "\t<tr><td>송천1동  </td><td> 92</td></tr>\n",
              "\t<tr><td>송천2동  </td><td> 96</td></tr>\n",
              "\t<tr><td>여의동   </td><td>  1</td></tr>\n",
              "\t<tr><td>완산동   </td><td> 17</td></tr>\n",
              "\t<tr><td>우아1동  </td><td>115</td></tr>\n",
              "\t<tr><td>우아2동  </td><td> 73</td></tr>\n",
              "\t<tr><td>인후1동  </td><td> 70</td></tr>\n",
              "\t<tr><td>인후2동  </td><td> 61</td></tr>\n",
              "\t<tr><td>인후3동  </td><td>101</td></tr>\n",
              "\t<tr><td>조촌동   </td><td> 36</td></tr>\n",
              "\t<tr><td>중앙동   </td><td>114</td></tr>\n",
              "\t<tr><td>중화산1동</td><td> 54</td></tr>\n",
              "\t<tr><td>중화산2동</td><td>131</td></tr>\n",
              "\t<tr><td>진북동   </td><td> 68</td></tr>\n",
              "\t<tr><td>팔복동   </td><td> 50</td></tr>\n",
              "\t<tr><td>평화1동  </td><td> 27</td></tr>\n",
              "\t<tr><td>평화2동  </td><td>187</td></tr>\n",
              "\t<tr><td>풍남동   </td><td>106</td></tr>\n",
              "\t<tr><td>호성동   </td><td> 67</td></tr>\n",
              "\t<tr><td>효자1동  </td><td> 65</td></tr>\n",
              "\t<tr><td>효자2동  </td><td> 84</td></tr>\n",
              "\t<tr><td>효자3동  </td><td> 61</td></tr>\n",
              "\t<tr><td>효자4동  </td><td>220</td></tr>\n",
              "\t<tr><td>효자5동  </td><td>  1</td></tr>\n",
              "</tbody>\n",
              "</table>\n"
            ]
          },
          "metadata": {
            "tags": []
          }
        }
      ]
    },
    {
      "cell_type": "markdown",
      "metadata": {
        "id": "ri7J_2noOLDG"
      },
      "source": [
        "▼ 데이터의 열이름을 '행정동', '상점개수'로 변경"
      ]
    },
    {
      "cell_type": "code",
      "metadata": {
        "id": "7_G9rLGKNrQH",
        "colab": {
          "base_uri": "https://localhost:8080/"
        },
        "outputId": "6078251c-3a73-48ac-9871-a3bb881ab538"
      },
      "source": [
        "names(store) <- c(\"행정동\", \"상점개수\")\n",
        "store"
      ],
      "execution_count": null,
      "outputs": [
        {
          "output_type": "display_data",
          "data": {
            "text/plain": [
              "   행정동    상점개수\n",
              "1              1     \n",
              "2  금암1동    81     \n",
              "3  금암2동    55     \n",
              "4  노송동     75     \n",
              "5  덕진동    114     \n",
              "6  동산동     62     \n",
              "7  동서학동   18     \n",
              "8  삼천1동    81     \n",
              "9  삼천2동   105     \n",
              "10 삼천3동    73     \n",
              "11 서서학동   21     \n",
              "12 서신동    318     \n",
              "13 송천1동    92     \n",
              "14 송천2동    96     \n",
              "15 여의동      1     \n",
              "16 완산동     17     \n",
              "17 우아1동   115     \n",
              "18 우아2동    73     \n",
              "19 인후1동    70     \n",
              "20 인후2동    61     \n",
              "21 인후3동   101     \n",
              "22 조촌동     36     \n",
              "23 중앙동    114     \n",
              "24 중화산1동  54     \n",
              "25 중화산2동 131     \n",
              "26 진북동     68     \n",
              "27 팔복동     50     \n",
              "28 평화1동    27     \n",
              "29 평화2동   187     \n",
              "30 풍남동    106     \n",
              "31 호성동     67     \n",
              "32 효자1동    65     \n",
              "33 효자2동    84     \n",
              "34 효자3동    61     \n",
              "35 효자4동   220     \n",
              "36 효자5동     1     "
            ],
            "text/latex": "A data.frame: 36 × 2\n\\begin{tabular}{ll}\n 행정동 & 상점개수\\\\\n <chr> & <int>\\\\\n\\hline\n\t           &   1\\\\\n\t 금암1동   &  81\\\\\n\t 금암2동   &  55\\\\\n\t 노송동    &  75\\\\\n\t 덕진동    & 114\\\\\n\t 동산동    &  62\\\\\n\t 동서학동  &  18\\\\\n\t 삼천1동   &  81\\\\\n\t 삼천2동   & 105\\\\\n\t 삼천3동   &  73\\\\\n\t 서서학동  &  21\\\\\n\t 서신동    & 318\\\\\n\t 송천1동   &  92\\\\\n\t 송천2동   &  96\\\\\n\t 여의동    &   1\\\\\n\t 완산동    &  17\\\\\n\t 우아1동   & 115\\\\\n\t 우아2동   &  73\\\\\n\t 인후1동   &  70\\\\\n\t 인후2동   &  61\\\\\n\t 인후3동   & 101\\\\\n\t 조촌동    &  36\\\\\n\t 중앙동    & 114\\\\\n\t 중화산1동 &  54\\\\\n\t 중화산2동 & 131\\\\\n\t 진북동    &  68\\\\\n\t 팔복동    &  50\\\\\n\t 평화1동   &  27\\\\\n\t 평화2동   & 187\\\\\n\t 풍남동    & 106\\\\\n\t 호성동    &  67\\\\\n\t 효자1동   &  65\\\\\n\t 효자2동   &  84\\\\\n\t 효자3동   &  61\\\\\n\t 효자4동   & 220\\\\\n\t 효자5동   &   1\\\\\n\\end{tabular}\n",
            "text/markdown": "\nA data.frame: 36 × 2\n\n| 행정동 &lt;chr&gt; | 상점개수 &lt;int&gt; |\n|---|---|\n| <!----> |   1 |\n| 금암1동   |  81 |\n| 금암2동   |  55 |\n| 노송동    |  75 |\n| 덕진동    | 114 |\n| 동산동    |  62 |\n| 동서학동  |  18 |\n| 삼천1동   |  81 |\n| 삼천2동   | 105 |\n| 삼천3동   |  73 |\n| 서서학동  |  21 |\n| 서신동    | 318 |\n| 송천1동   |  92 |\n| 송천2동   |  96 |\n| 여의동    |   1 |\n| 완산동    |  17 |\n| 우아1동   | 115 |\n| 우아2동   |  73 |\n| 인후1동   |  70 |\n| 인후2동   |  61 |\n| 인후3동   | 101 |\n| 조촌동    |  36 |\n| 중앙동    | 114 |\n| 중화산1동 |  54 |\n| 중화산2동 | 131 |\n| 진북동    |  68 |\n| 팔복동    |  50 |\n| 평화1동   |  27 |\n| 평화2동   | 187 |\n| 풍남동    | 106 |\n| 호성동    |  67 |\n| 효자1동   |  65 |\n| 효자2동   |  84 |\n| 효자3동   |  61 |\n| 효자4동   | 220 |\n| 효자5동   |   1 |\n\n",
            "text/html": [
              "<table class=\"dataframe\">\n",
              "<caption>A data.frame: 36 × 2</caption>\n",
              "<thead>\n",
              "\t<tr><th scope=col>행정동</th><th scope=col>상점개수</th></tr>\n",
              "\t<tr><th scope=col>&lt;chr&gt;</th><th scope=col>&lt;int&gt;</th></tr>\n",
              "</thead>\n",
              "<tbody>\n",
              "\t<tr><td>         </td><td>  1</td></tr>\n",
              "\t<tr><td>금암1동  </td><td> 81</td></tr>\n",
              "\t<tr><td>금암2동  </td><td> 55</td></tr>\n",
              "\t<tr><td>노송동   </td><td> 75</td></tr>\n",
              "\t<tr><td>덕진동   </td><td>114</td></tr>\n",
              "\t<tr><td>동산동   </td><td> 62</td></tr>\n",
              "\t<tr><td>동서학동 </td><td> 18</td></tr>\n",
              "\t<tr><td>삼천1동  </td><td> 81</td></tr>\n",
              "\t<tr><td>삼천2동  </td><td>105</td></tr>\n",
              "\t<tr><td>삼천3동  </td><td> 73</td></tr>\n",
              "\t<tr><td>서서학동 </td><td> 21</td></tr>\n",
              "\t<tr><td>서신동   </td><td>318</td></tr>\n",
              "\t<tr><td>송천1동  </td><td> 92</td></tr>\n",
              "\t<tr><td>송천2동  </td><td> 96</td></tr>\n",
              "\t<tr><td>여의동   </td><td>  1</td></tr>\n",
              "\t<tr><td>완산동   </td><td> 17</td></tr>\n",
              "\t<tr><td>우아1동  </td><td>115</td></tr>\n",
              "\t<tr><td>우아2동  </td><td> 73</td></tr>\n",
              "\t<tr><td>인후1동  </td><td> 70</td></tr>\n",
              "\t<tr><td>인후2동  </td><td> 61</td></tr>\n",
              "\t<tr><td>인후3동  </td><td>101</td></tr>\n",
              "\t<tr><td>조촌동   </td><td> 36</td></tr>\n",
              "\t<tr><td>중앙동   </td><td>114</td></tr>\n",
              "\t<tr><td>중화산1동</td><td> 54</td></tr>\n",
              "\t<tr><td>중화산2동</td><td>131</td></tr>\n",
              "\t<tr><td>진북동   </td><td> 68</td></tr>\n",
              "\t<tr><td>팔복동   </td><td> 50</td></tr>\n",
              "\t<tr><td>평화1동  </td><td> 27</td></tr>\n",
              "\t<tr><td>평화2동  </td><td>187</td></tr>\n",
              "\t<tr><td>풍남동   </td><td>106</td></tr>\n",
              "\t<tr><td>호성동   </td><td> 67</td></tr>\n",
              "\t<tr><td>효자1동  </td><td> 65</td></tr>\n",
              "\t<tr><td>효자2동  </td><td> 84</td></tr>\n",
              "\t<tr><td>효자3동  </td><td> 61</td></tr>\n",
              "\t<tr><td>효자4동  </td><td>220</td></tr>\n",
              "\t<tr><td>효자5동  </td><td>  1</td></tr>\n",
              "</tbody>\n",
              "</table>\n"
            ]
          },
          "metadata": {
            "tags": []
          }
        }
      ]
    },
    {
      "cell_type": "code",
      "metadata": {
        "colab": {
          "base_uri": "https://localhost:8080/"
        },
        "id": "Ttm_XV2ucF_0",
        "outputId": "e47bb28d-4230-4b10-971b-b0141cf1c4d3"
      },
      "source": [
        "table(store$행정동 %in% jjdong)\n",
        "table(jjdong %in% store$행정동)\n",
        "\n",
        "jjdong[jjdong %in% region$행정동 == FALSE] #store에는 없는 jjdong의 행정동\n",
        "store$행정동[store$행정동 %in% jjdong == FALSE] #store에는 없는 jjdong의 행정동"
      ],
      "execution_count": null,
      "outputs": [
        {
          "output_type": "display_data",
          "data": {
            "text/plain": [
              "\n",
              "FALSE  TRUE \n",
              "    2    34 "
            ]
          },
          "metadata": {
            "tags": []
          }
        },
        {
          "output_type": "display_data",
          "data": {
            "text/plain": [
              "\n",
              "FALSE  TRUE \n",
              "    1    34 "
            ]
          },
          "metadata": {
            "tags": []
          }
        },
        {
          "output_type": "display_data",
          "data": {
            "text/plain": [
              "character(0)"
            ],
            "text/latex": "",
            "text/markdown": "",
            "text/html": [
              ""
            ]
          },
          "metadata": {
            "tags": []
          }
        },
        {
          "output_type": "display_data",
          "data": {
            "text/plain": [
              "[1] \"\"       \"동산동\""
            ],
            "text/latex": "\\begin{enumerate*}\n\\item ''\n\\item '동산동'\n\\end{enumerate*}\n",
            "text/markdown": "1. ''\n2. '동산동'\n\n\n",
            "text/html": [
              "<style>\n",
              ".list-inline {list-style: none; margin:0; padding: 0}\n",
              ".list-inline>li {display: inline-block}\n",
              ".list-inline>li:not(:last-child)::after {content: \"\\00b7\"; padding: 0 .5ex}\n",
              "</style>\n",
              "<ol class=list-inline><li>''</li><li>'동산동'</li></ol>\n"
            ]
          },
          "metadata": {
            "tags": []
          }
        }
      ]
    },
    {
      "cell_type": "code",
      "metadata": {
        "colab": {
          "base_uri": "https://localhost:8080/"
        },
        "id": "jBYflpHou5a8",
        "outputId": "9555a643-3432-4044-b33e-c95d763e3ded"
      },
      "source": [
        "which(store$행정동 %in% jjdong == FALSE)\n",
        "store[which(store$행정동 %in% jjdong == FALSE), ]"
      ],
      "execution_count": null,
      "outputs": [
        {
          "output_type": "display_data",
          "data": {
            "text/plain": [
              "[1] 1 6"
            ],
            "text/latex": "\\begin{enumerate*}\n\\item 1\n\\item 6\n\\end{enumerate*}\n",
            "text/markdown": "1. 1\n2. 6\n\n\n",
            "text/html": [
              "<style>\n",
              ".list-inline {list-style: none; margin:0; padding: 0}\n",
              ".list-inline>li {display: inline-block}\n",
              ".list-inline>li:not(:last-child)::after {content: \"\\00b7\"; padding: 0 .5ex}\n",
              "</style>\n",
              "<ol class=list-inline><li>1</li><li>6</li></ol>\n"
            ]
          },
          "metadata": {
            "tags": []
          }
        },
        {
          "output_type": "display_data",
          "data": {
            "text/plain": [
              "  행정동 상점개수\n",
              "1         1      \n",
              "6 동산동 62      "
            ],
            "text/latex": "A data.frame: 2 × 2\n\\begin{tabular}{r|ll}\n  & 행정동 & 상점개수\\\\\n  & <chr> & <int>\\\\\n\\hline\n\t1 &        &  1\\\\\n\t6 & 동산동 & 62\\\\\n\\end{tabular}\n",
            "text/markdown": "\nA data.frame: 2 × 2\n\n| <!--/--> | 행정동 &lt;chr&gt; | 상점개수 &lt;int&gt; |\n|---|---|---|\n| 1 | <!----> |  1 |\n| 6 | 동산동 | 62 |\n\n",
            "text/html": [
              "<table class=\"dataframe\">\n",
              "<caption>A data.frame: 2 × 2</caption>\n",
              "<thead>\n",
              "\t<tr><th></th><th scope=col>행정동</th><th scope=col>상점개수</th></tr>\n",
              "\t<tr><th></th><th scope=col>&lt;chr&gt;</th><th scope=col>&lt;int&gt;</th></tr>\n",
              "</thead>\n",
              "<tbody>\n",
              "\t<tr><th scope=row>1</th><td>      </td><td> 1</td></tr>\n",
              "\t<tr><th scope=row>6</th><td>동산동</td><td>62</td></tr>\n",
              "</tbody>\n",
              "</table>\n"
            ]
          },
          "metadata": {
            "tags": []
          }
        }
      ]
    },
    {
      "cell_type": "code",
      "metadata": {
        "colab": {
          "base_uri": "https://localhost:8080/"
        },
        "id": "FwbHdwpIcK0W",
        "outputId": "e823b86a-320a-473c-e934-5e8461229869"
      },
      "source": [
        "store$행정동[which(store$행정동 == \"동산동\")] <- \"여의동\"\n",
        "store"
      ],
      "execution_count": null,
      "outputs": [
        {
          "output_type": "display_data",
          "data": {
            "text/plain": [
              "   행정동    상점개수\n",
              "1              1     \n",
              "2  금암1동    81     \n",
              "3  금암2동    55     \n",
              "4  노송동     75     \n",
              "5  덕진동    114     \n",
              "6  여의동     62     \n",
              "7  동서학동   18     \n",
              "8  삼천1동    81     \n",
              "9  삼천2동   105     \n",
              "10 삼천3동    73     \n",
              "11 서서학동   21     \n",
              "12 서신동    318     \n",
              "13 송천1동    92     \n",
              "14 송천2동    96     \n",
              "15 여의동      1     \n",
              "16 완산동     17     \n",
              "17 우아1동   115     \n",
              "18 우아2동    73     \n",
              "19 인후1동    70     \n",
              "20 인후2동    61     \n",
              "21 인후3동   101     \n",
              "22 조촌동     36     \n",
              "23 중앙동    114     \n",
              "24 중화산1동  54     \n",
              "25 중화산2동 131     \n",
              "26 진북동     68     \n",
              "27 팔복동     50     \n",
              "28 평화1동    27     \n",
              "29 평화2동   187     \n",
              "30 풍남동    106     \n",
              "31 호성동     67     \n",
              "32 효자1동    65     \n",
              "33 효자2동    84     \n",
              "34 효자3동    61     \n",
              "35 효자4동   220     \n",
              "36 효자5동     1     "
            ],
            "text/latex": "A data.frame: 36 × 2\n\\begin{tabular}{ll}\n 행정동 & 상점개수\\\\\n <chr> & <int>\\\\\n\\hline\n\t           &   1\\\\\n\t 금암1동   &  81\\\\\n\t 금암2동   &  55\\\\\n\t 노송동    &  75\\\\\n\t 덕진동    & 114\\\\\n\t 여의동    &  62\\\\\n\t 동서학동  &  18\\\\\n\t 삼천1동   &  81\\\\\n\t 삼천2동   & 105\\\\\n\t 삼천3동   &  73\\\\\n\t 서서학동  &  21\\\\\n\t 서신동    & 318\\\\\n\t 송천1동   &  92\\\\\n\t 송천2동   &  96\\\\\n\t 여의동    &   1\\\\\n\t 완산동    &  17\\\\\n\t 우아1동   & 115\\\\\n\t 우아2동   &  73\\\\\n\t 인후1동   &  70\\\\\n\t 인후2동   &  61\\\\\n\t 인후3동   & 101\\\\\n\t 조촌동    &  36\\\\\n\t 중앙동    & 114\\\\\n\t 중화산1동 &  54\\\\\n\t 중화산2동 & 131\\\\\n\t 진북동    &  68\\\\\n\t 팔복동    &  50\\\\\n\t 평화1동   &  27\\\\\n\t 평화2동   & 187\\\\\n\t 풍남동    & 106\\\\\n\t 호성동    &  67\\\\\n\t 효자1동   &  65\\\\\n\t 효자2동   &  84\\\\\n\t 효자3동   &  61\\\\\n\t 효자4동   & 220\\\\\n\t 효자5동   &   1\\\\\n\\end{tabular}\n",
            "text/markdown": "\nA data.frame: 36 × 2\n\n| 행정동 &lt;chr&gt; | 상점개수 &lt;int&gt; |\n|---|---|\n| <!----> |   1 |\n| 금암1동   |  81 |\n| 금암2동   |  55 |\n| 노송동    |  75 |\n| 덕진동    | 114 |\n| 여의동    |  62 |\n| 동서학동  |  18 |\n| 삼천1동   |  81 |\n| 삼천2동   | 105 |\n| 삼천3동   |  73 |\n| 서서학동  |  21 |\n| 서신동    | 318 |\n| 송천1동   |  92 |\n| 송천2동   |  96 |\n| 여의동    |   1 |\n| 완산동    |  17 |\n| 우아1동   | 115 |\n| 우아2동   |  73 |\n| 인후1동   |  70 |\n| 인후2동   |  61 |\n| 인후3동   | 101 |\n| 조촌동    |  36 |\n| 중앙동    | 114 |\n| 중화산1동 |  54 |\n| 중화산2동 | 131 |\n| 진북동    |  68 |\n| 팔복동    |  50 |\n| 평화1동   |  27 |\n| 평화2동   | 187 |\n| 풍남동    | 106 |\n| 호성동    |  67 |\n| 효자1동   |  65 |\n| 효자2동   |  84 |\n| 효자3동   |  61 |\n| 효자4동   | 220 |\n| 효자5동   |   1 |\n\n",
            "text/html": [
              "<table class=\"dataframe\">\n",
              "<caption>A data.frame: 36 × 2</caption>\n",
              "<thead>\n",
              "\t<tr><th scope=col>행정동</th><th scope=col>상점개수</th></tr>\n",
              "\t<tr><th scope=col>&lt;chr&gt;</th><th scope=col>&lt;int&gt;</th></tr>\n",
              "</thead>\n",
              "<tbody>\n",
              "\t<tr><td>         </td><td>  1</td></tr>\n",
              "\t<tr><td>금암1동  </td><td> 81</td></tr>\n",
              "\t<tr><td>금암2동  </td><td> 55</td></tr>\n",
              "\t<tr><td>노송동   </td><td> 75</td></tr>\n",
              "\t<tr><td>덕진동   </td><td>114</td></tr>\n",
              "\t<tr><td>여의동   </td><td> 62</td></tr>\n",
              "\t<tr><td>동서학동 </td><td> 18</td></tr>\n",
              "\t<tr><td>삼천1동  </td><td> 81</td></tr>\n",
              "\t<tr><td>삼천2동  </td><td>105</td></tr>\n",
              "\t<tr><td>삼천3동  </td><td> 73</td></tr>\n",
              "\t<tr><td>서서학동 </td><td> 21</td></tr>\n",
              "\t<tr><td>서신동   </td><td>318</td></tr>\n",
              "\t<tr><td>송천1동  </td><td> 92</td></tr>\n",
              "\t<tr><td>송천2동  </td><td> 96</td></tr>\n",
              "\t<tr><td>여의동   </td><td>  1</td></tr>\n",
              "\t<tr><td>완산동   </td><td> 17</td></tr>\n",
              "\t<tr><td>우아1동  </td><td>115</td></tr>\n",
              "\t<tr><td>우아2동  </td><td> 73</td></tr>\n",
              "\t<tr><td>인후1동  </td><td> 70</td></tr>\n",
              "\t<tr><td>인후2동  </td><td> 61</td></tr>\n",
              "\t<tr><td>인후3동  </td><td>101</td></tr>\n",
              "\t<tr><td>조촌동   </td><td> 36</td></tr>\n",
              "\t<tr><td>중앙동   </td><td>114</td></tr>\n",
              "\t<tr><td>중화산1동</td><td> 54</td></tr>\n",
              "\t<tr><td>중화산2동</td><td>131</td></tr>\n",
              "\t<tr><td>진북동   </td><td> 68</td></tr>\n",
              "\t<tr><td>팔복동   </td><td> 50</td></tr>\n",
              "\t<tr><td>평화1동  </td><td> 27</td></tr>\n",
              "\t<tr><td>평화2동  </td><td>187</td></tr>\n",
              "\t<tr><td>풍남동   </td><td>106</td></tr>\n",
              "\t<tr><td>호성동   </td><td> 67</td></tr>\n",
              "\t<tr><td>효자1동  </td><td> 65</td></tr>\n",
              "\t<tr><td>효자2동  </td><td> 84</td></tr>\n",
              "\t<tr><td>효자3동  </td><td> 61</td></tr>\n",
              "\t<tr><td>효자4동  </td><td>220</td></tr>\n",
              "\t<tr><td>효자5동  </td><td>  1</td></tr>\n",
              "</tbody>\n",
              "</table>\n"
            ]
          },
          "metadata": {
            "tags": []
          }
        }
      ]
    },
    {
      "cell_type": "code",
      "metadata": {
        "colab": {
          "base_uri": "https://localhost:8080/"
        },
        "id": "elcbTaa_c6NX",
        "outputId": "c4a38e1b-e03a-4b19-a877-35b76ac99219"
      },
      "source": [
        "store <- store %>% group_by(행정동) %>% summarise(상점개수 = sum(상점개수))\n",
        "store <- as.data.frame(store)\n",
        "store <- arrange(store, store$행정동)\n",
        "store <- store[-1,]\n",
        "store"
      ],
      "execution_count": null,
      "outputs": [
        {
          "output_type": "display_data",
          "data": {
            "text/plain": [
              "   행정동    상점개수\n",
              "2  금암1동    81     \n",
              "3  금암2동    55     \n",
              "4  노송동     75     \n",
              "5  덕진동    114     \n",
              "6  동서학동   18     \n",
              "7  삼천1동    81     \n",
              "8  삼천2동   105     \n",
              "9  삼천3동    73     \n",
              "10 서서학동   21     \n",
              "11 서신동    318     \n",
              "12 송천1동    92     \n",
              "13 송천2동    96     \n",
              "14 여의동     63     \n",
              "15 완산동     17     \n",
              "16 우아1동   115     \n",
              "17 우아2동    73     \n",
              "18 인후1동    70     \n",
              "19 인후2동    61     \n",
              "20 인후3동   101     \n",
              "21 조촌동     36     \n",
              "22 중앙동    114     \n",
              "23 중화산1동  54     \n",
              "24 중화산2동 131     \n",
              "25 진북동     68     \n",
              "26 팔복동     50     \n",
              "27 평화1동    27     \n",
              "28 평화2동   187     \n",
              "29 풍남동    106     \n",
              "30 호성동     67     \n",
              "31 효자1동    65     \n",
              "32 효자2동    84     \n",
              "33 효자3동    61     \n",
              "34 효자4동   220     \n",
              "35 효자5동     1     "
            ],
            "text/latex": "A data.frame: 34 × 2\n\\begin{tabular}{r|ll}\n  & 행정동 & 상점개수\\\\\n  & <chr> & <int>\\\\\n\\hline\n\t2 & 금암1동   &  81\\\\\n\t3 & 금암2동   &  55\\\\\n\t4 & 노송동    &  75\\\\\n\t5 & 덕진동    & 114\\\\\n\t6 & 동서학동  &  18\\\\\n\t7 & 삼천1동   &  81\\\\\n\t8 & 삼천2동   & 105\\\\\n\t9 & 삼천3동   &  73\\\\\n\t10 & 서서학동  &  21\\\\\n\t11 & 서신동    & 318\\\\\n\t12 & 송천1동   &  92\\\\\n\t13 & 송천2동   &  96\\\\\n\t14 & 여의동    &  63\\\\\n\t15 & 완산동    &  17\\\\\n\t16 & 우아1동   & 115\\\\\n\t17 & 우아2동   &  73\\\\\n\t18 & 인후1동   &  70\\\\\n\t19 & 인후2동   &  61\\\\\n\t20 & 인후3동   & 101\\\\\n\t21 & 조촌동    &  36\\\\\n\t22 & 중앙동    & 114\\\\\n\t23 & 중화산1동 &  54\\\\\n\t24 & 중화산2동 & 131\\\\\n\t25 & 진북동    &  68\\\\\n\t26 & 팔복동    &  50\\\\\n\t27 & 평화1동   &  27\\\\\n\t28 & 평화2동   & 187\\\\\n\t29 & 풍남동    & 106\\\\\n\t30 & 호성동    &  67\\\\\n\t31 & 효자1동   &  65\\\\\n\t32 & 효자2동   &  84\\\\\n\t33 & 효자3동   &  61\\\\\n\t34 & 효자4동   & 220\\\\\n\t35 & 효자5동   &   1\\\\\n\\end{tabular}\n",
            "text/markdown": "\nA data.frame: 34 × 2\n\n| <!--/--> | 행정동 &lt;chr&gt; | 상점개수 &lt;int&gt; |\n|---|---|---|\n| 2 | 금암1동   |  81 |\n| 3 | 금암2동   |  55 |\n| 4 | 노송동    |  75 |\n| 5 | 덕진동    | 114 |\n| 6 | 동서학동  |  18 |\n| 7 | 삼천1동   |  81 |\n| 8 | 삼천2동   | 105 |\n| 9 | 삼천3동   |  73 |\n| 10 | 서서학동  |  21 |\n| 11 | 서신동    | 318 |\n| 12 | 송천1동   |  92 |\n| 13 | 송천2동   |  96 |\n| 14 | 여의동    |  63 |\n| 15 | 완산동    |  17 |\n| 16 | 우아1동   | 115 |\n| 17 | 우아2동   |  73 |\n| 18 | 인후1동   |  70 |\n| 19 | 인후2동   |  61 |\n| 20 | 인후3동   | 101 |\n| 21 | 조촌동    |  36 |\n| 22 | 중앙동    | 114 |\n| 23 | 중화산1동 |  54 |\n| 24 | 중화산2동 | 131 |\n| 25 | 진북동    |  68 |\n| 26 | 팔복동    |  50 |\n| 27 | 평화1동   |  27 |\n| 28 | 평화2동   | 187 |\n| 29 | 풍남동    | 106 |\n| 30 | 호성동    |  67 |\n| 31 | 효자1동   |  65 |\n| 32 | 효자2동   |  84 |\n| 33 | 효자3동   |  61 |\n| 34 | 효자4동   | 220 |\n| 35 | 효자5동   |   1 |\n\n",
            "text/html": [
              "<table class=\"dataframe\">\n",
              "<caption>A data.frame: 34 × 2</caption>\n",
              "<thead>\n",
              "\t<tr><th></th><th scope=col>행정동</th><th scope=col>상점개수</th></tr>\n",
              "\t<tr><th></th><th scope=col>&lt;chr&gt;</th><th scope=col>&lt;int&gt;</th></tr>\n",
              "</thead>\n",
              "<tbody>\n",
              "\t<tr><th scope=row>2</th><td>금암1동  </td><td> 81</td></tr>\n",
              "\t<tr><th scope=row>3</th><td>금암2동  </td><td> 55</td></tr>\n",
              "\t<tr><th scope=row>4</th><td>노송동   </td><td> 75</td></tr>\n",
              "\t<tr><th scope=row>5</th><td>덕진동   </td><td>114</td></tr>\n",
              "\t<tr><th scope=row>6</th><td>동서학동 </td><td> 18</td></tr>\n",
              "\t<tr><th scope=row>7</th><td>삼천1동  </td><td> 81</td></tr>\n",
              "\t<tr><th scope=row>8</th><td>삼천2동  </td><td>105</td></tr>\n",
              "\t<tr><th scope=row>9</th><td>삼천3동  </td><td> 73</td></tr>\n",
              "\t<tr><th scope=row>10</th><td>서서학동 </td><td> 21</td></tr>\n",
              "\t<tr><th scope=row>11</th><td>서신동   </td><td>318</td></tr>\n",
              "\t<tr><th scope=row>12</th><td>송천1동  </td><td> 92</td></tr>\n",
              "\t<tr><th scope=row>13</th><td>송천2동  </td><td> 96</td></tr>\n",
              "\t<tr><th scope=row>14</th><td>여의동   </td><td> 63</td></tr>\n",
              "\t<tr><th scope=row>15</th><td>완산동   </td><td> 17</td></tr>\n",
              "\t<tr><th scope=row>16</th><td>우아1동  </td><td>115</td></tr>\n",
              "\t<tr><th scope=row>17</th><td>우아2동  </td><td> 73</td></tr>\n",
              "\t<tr><th scope=row>18</th><td>인후1동  </td><td> 70</td></tr>\n",
              "\t<tr><th scope=row>19</th><td>인후2동  </td><td> 61</td></tr>\n",
              "\t<tr><th scope=row>20</th><td>인후3동  </td><td>101</td></tr>\n",
              "\t<tr><th scope=row>21</th><td>조촌동   </td><td> 36</td></tr>\n",
              "\t<tr><th scope=row>22</th><td>중앙동   </td><td>114</td></tr>\n",
              "\t<tr><th scope=row>23</th><td>중화산1동</td><td> 54</td></tr>\n",
              "\t<tr><th scope=row>24</th><td>중화산2동</td><td>131</td></tr>\n",
              "\t<tr><th scope=row>25</th><td>진북동   </td><td> 68</td></tr>\n",
              "\t<tr><th scope=row>26</th><td>팔복동   </td><td> 50</td></tr>\n",
              "\t<tr><th scope=row>27</th><td>평화1동  </td><td> 27</td></tr>\n",
              "\t<tr><th scope=row>28</th><td>평화2동  </td><td>187</td></tr>\n",
              "\t<tr><th scope=row>29</th><td>풍남동   </td><td>106</td></tr>\n",
              "\t<tr><th scope=row>30</th><td>호성동   </td><td> 67</td></tr>\n",
              "\t<tr><th scope=row>31</th><td>효자1동  </td><td> 65</td></tr>\n",
              "\t<tr><th scope=row>32</th><td>효자2동  </td><td> 84</td></tr>\n",
              "\t<tr><th scope=row>33</th><td>효자3동  </td><td> 61</td></tr>\n",
              "\t<tr><th scope=row>34</th><td>효자4동  </td><td>220</td></tr>\n",
              "\t<tr><th scope=row>35</th><td>효자5동  </td><td>  1</td></tr>\n",
              "</tbody>\n",
              "</table>\n"
            ]
          },
          "metadata": {
            "tags": []
          }
        }
      ]
    },
    {
      "cell_type": "markdown",
      "metadata": {
        "id": "Hq-byxDxTrUO"
      },
      "source": [
        "## 상권지수"
      ]
    },
    {
      "cell_type": "code",
      "metadata": {
        "colab": {
          "base_uri": "https://localhost:8080/",
          "height": 104
        },
        "id": "FcD8mRrvTtkB",
        "outputId": "de07b85c-e273-48d0-b984-7be924c21189"
      },
      "source": [
        "options(digits = 4)\n",
        "상권지수 <- store$상점개수 / region$면적.km\n",
        "상권지수"
      ],
      "execution_count": null,
      "outputs": [
        {
          "output_type": "stream",
          "text": [
            "Warning message in store$상점개수/region$면적.km:\n",
            "“longer object length is not a multiple of shorter object length”\n"
          ],
          "name": "stderr"
        },
        {
          "output_type": "display_data",
          "data": {
            "text/plain": [
              " [1]  64.8000  44.0000  35.8852  23.8494   1.1509  63.7795 110.5263   2.7444\n",
              " [9]   7.0707 133.0544  19.2067   7.9077   4.0102  17.1717  79.8611   3.1864\n",
              "[17]  54.2636  46.2121  60.1190   1.4827  84.4444  44.2623  76.1628  39.7661\n",
              "[25]   6.7751  18.1208  12.2784  51.7073  19.8813   8.5079  82.3529  72.6190\n",
              "[33] 278.4810   0.1297  12.9187"
            ],
            "text/latex": "\\begin{enumerate*}\n\\item 64.8\n\\item 44\n\\item 35.8851674641148\n\\item 23.8493723849372\n\\item 1.15089514066496\n\\item 63.7795275590551\n\\item 110.526315789474\n\\item 2.74436090225564\n\\item 7.07070707070707\n\\item 133.054393305439\n\\item 19.2066805845511\n\\item 7.90774299835255\n\\item 4.01018459579885\n\\item 17.1717171717172\n\\item 79.8611111111111\n\\item 3.1863814927979\n\\item 54.2635658914729\n\\item 46.2121212121212\n\\item 60.1190476190476\n\\item 1.4827018121911\n\\item 84.4444444444444\n\\item 44.2622950819672\n\\item 76.1627906976744\n\\item 39.766081871345\n\\item 6.77506775067751\n\\item 18.1208053691275\n\\item 12.2783978988838\n\\item 51.7073170731707\n\\item 19.8813056379822\n\\item 8.50785340314136\n\\item 82.3529411764706\n\\item 72.6190476190476\n\\item 278.481012658228\n\\item 0.12970168612192\n\\item 12.9186602870813\n\\end{enumerate*}\n",
            "text/markdown": "1. 64.8\n2. 44\n3. 35.8851674641148\n4. 23.8493723849372\n5. 1.15089514066496\n6. 63.7795275590551\n7. 110.526315789474\n8. 2.74436090225564\n9. 7.07070707070707\n10. 133.054393305439\n11. 19.2066805845511\n12. 7.90774299835255\n13. 4.01018459579885\n14. 17.1717171717172\n15. 79.8611111111111\n16. 3.1863814927979\n17. 54.2635658914729\n18. 46.2121212121212\n19. 60.1190476190476\n20. 1.4827018121911\n21. 84.4444444444444\n22. 44.2622950819672\n23. 76.1627906976744\n24. 39.766081871345\n25. 6.77506775067751\n26. 18.1208053691275\n27. 12.2783978988838\n28. 51.7073170731707\n29. 19.8813056379822\n30. 8.50785340314136\n31. 82.3529411764706\n32. 72.6190476190476\n33. 278.481012658228\n34. 0.12970168612192\n35. 12.9186602870813\n\n\n",
            "text/html": [
              "<style>\n",
              ".list-inline {list-style: none; margin:0; padding: 0}\n",
              ".list-inline>li {display: inline-block}\n",
              ".list-inline>li:not(:last-child)::after {content: \"\\00b7\"; padding: 0 .5ex}\n",
              "</style>\n",
              "<ol class=list-inline><li>64.8</li><li>44</li><li>35.8851674641148</li><li>23.8493723849372</li><li>1.15089514066496</li><li>63.7795275590551</li><li>110.526315789474</li><li>2.74436090225564</li><li>7.07070707070707</li><li>133.054393305439</li><li>19.2066805845511</li><li>7.90774299835255</li><li>4.01018459579885</li><li>17.1717171717172</li><li>79.8611111111111</li><li>3.1863814927979</li><li>54.2635658914729</li><li>46.2121212121212</li><li>60.1190476190476</li><li>1.4827018121911</li><li>84.4444444444444</li><li>44.2622950819672</li><li>76.1627906976744</li><li>39.766081871345</li><li>6.77506775067751</li><li>18.1208053691275</li><li>12.2783978988838</li><li>51.7073170731707</li><li>19.8813056379822</li><li>8.50785340314136</li><li>82.3529411764706</li><li>72.6190476190476</li><li>278.481012658228</li><li>0.12970168612192</li><li>12.9186602870813</li></ol>\n"
            ]
          },
          "metadata": {
            "tags": []
          }
        }
      ]
    },
    {
      "cell_type": "markdown",
      "metadata": {
        "id": "zXPtyCAGiYxh"
      },
      "source": [
        "## 공원수"
      ]
    },
    {
      "cell_type": "code",
      "metadata": {
        "colab": {
          "base_uri": "https://localhost:8080/"
        },
        "id": "Q44TIp9aibdR",
        "outputId": "0f2c38ce-6c12-4824-b334-23432c66c05d"
      },
      "source": [
        "str(park)\n",
        "head(park)"
      ],
      "execution_count": null,
      "outputs": [
        {
          "output_type": "stream",
          "text": [
            "'data.frame':\t10 obs. of  23 variables:\n",
            " $ X            : int  0 1 2 3 4 5 6 7 8 9\n",
            " $ dataContent  : logi  NA NA NA NA NA NA ...\n",
            " $ dataSid      : int  249 248 247 246 245 244 243 242 241 240\n",
            " $ dataTitle    : chr  \"추천대공원\" \"역사도심공원\" \"이목대공원\" \"동산구역A\" ...\n",
            " $ parkAddr     : chr  \"전라북도 전주시 덕진구 추천로 82\" \" \" \" \" \" \" ...\n",
            " $ parkArea     : num  4780 208 264 1405 499 ...\n",
            " $ parkFact1    : logi  NA NA NA NA NA NA ...\n",
            " $ parkFact2    : logi  NA NA NA NA NA NA ...\n",
            " $ parkFact3    : logi  NA NA NA NA NA NA ...\n",
            " $ parkFact4    : logi  NA NA NA NA NA NA ...\n",
            " $ parkFact5    : logi  NA NA NA NA NA NA ...\n",
            " $ parkGubun    : chr  \"소공원\" \"소공원\" \"소공원\" \"소공원\" ...\n",
            " $ parkLoadAddr : chr  \"전라북도 전주시 덕진구 팔복동2가 94-4\" \"전라북도 전주시 완산구 고사동 324-14\" \"전라북도 전주시 완산구 교동 54-16\" \"전라북도 전주시 덕진구 여의동2가 601-5\" ...\n",
            " $ parkLocation : logi  NA NA NA NA NA NA ...\n",
            " $ parkNo       : chr  \"45113-00111\" \"45111-00140\" \"45111-00139\" \"45113-00110\" ...\n",
            " $ parkNoticeday: chr  \"2019-09-11\" \"2018-04-30\" \"2018-12-14\" \"2017-07-14\" ...\n",
            " $ parkOrgnm    : chr  \"전라북도 전주시 덕진구청\" \"전라북도 전주시 덕진구청\" \"전라북도 전주시 덕진구청\" \"전라북도 전주시 덕진구청\" ...\n",
            " $ parkRegdate  : chr  \"2020-08-31\" \"2020-08-31\" \"2020-08-31\" \"2020-08-31\" ...\n",
            " $ parkSido     : logi  NA NA NA NA NA NA ...\n",
            " $ parkTel      : chr  \"063-270-6389\" \"063-220-5438\" \"063-220-5438\" \"063-270-6389\" ...\n",
            " $ parkZip      : logi  NA NA NA NA NA NA ...\n",
            " $ posx         : num  127 NA 127 127 127 ...\n",
            " $ posy         : num  35.8 35.8 35.8 35.9 35.9 ...\n"
          ],
          "name": "stdout"
        },
        {
          "output_type": "display_data",
          "data": {
            "text/plain": [
              "  X dataContent dataSid dataTitle        parkAddr                        \n",
              "1 0 NA          249     추천대공원       전라북도 전주시 덕진구 추천로 82\n",
              "2 1 NA          248     역사도심공원                                     \n",
              "3 2 NA          247     이목대공원                                       \n",
              "4 3 NA          246     동산구역A                                        \n",
              "5 4 NA          245     동산구역B                                        \n",
              "6 5 NA          244     제187호 근린공원                                 \n",
              "  parkArea parkFact1 parkFact2 parkFact3 parkFact4 ⋯ parkLocation parkNo     \n",
              "1 4780     NA        NA        NA        NA        ⋯ NA           45113-00111\n",
              "2  208     NA        NA        NA        NA        ⋯ NA           45111-00140\n",
              "3  264     NA        NA        NA        NA        ⋯ NA           45111-00139\n",
              "4 1405     NA        NA        NA        NA        ⋯ NA           45113-00110\n",
              "5  499     NA        NA        NA        NA        ⋯ NA           45113-00109\n",
              "6 5153     NA        NA        NA        NA        ⋯ NA           45113-00108\n",
              "  parkNoticeday parkOrgnm                parkRegdate parkSido parkTel     \n",
              "1 2019-09-11    전라북도 전주시 덕진구청 2020-08-31  NA       063-270-6389\n",
              "2 2018-04-30    전라북도 전주시 덕진구청 2020-08-31  NA       063-220-5438\n",
              "3 2018-12-14    전라북도 전주시 덕진구청 2020-08-31  NA       063-220-5438\n",
              "4 2017-07-14    전라북도 전주시 덕진구청 2020-08-31  NA       063-270-6389\n",
              "5 2017-07-14    전라북도 전주시 덕진구청 2020-08-31  NA       063-270-6389\n",
              "6 2016-09-13    전라북도 전주시 덕진구청 2020-08-31  NA       063-270-6390\n",
              "  parkZip posx  posy \n",
              "1 NA      127.1 35.85\n",
              "2 NA         NA 35.82\n",
              "3 NA      127.2 35.81\n",
              "4 NA      127.1 35.87\n",
              "5 NA      127.1 35.87\n",
              "6 NA      127.2 35.83"
            ],
            "text/latex": "A data.frame: 6 × 23\n\\begin{tabular}{r|lllllllllllllllllllll}\n  & X & dataContent & dataSid & dataTitle & parkAddr & parkArea & parkFact1 & parkFact2 & parkFact3 & parkFact4 & ⋯ & parkLocation & parkNo & parkNoticeday & parkOrgnm & parkRegdate & parkSido & parkTel & parkZip & posx & posy\\\\\n  & <int> & <lgl> & <int> & <chr> & <chr> & <dbl> & <lgl> & <lgl> & <lgl> & <lgl> & ⋯ & <lgl> & <chr> & <chr> & <chr> & <chr> & <lgl> & <chr> & <lgl> & <dbl> & <dbl>\\\\\n\\hline\n\t1 & 0 & NA & 249 & 추천대공원       & 전라북도 전주시 덕진구 추천로 82 & 4780 & NA & NA & NA & NA & ⋯ & NA & 45113-00111 & 2019-09-11 & 전라북도 전주시 덕진구청 & 2020-08-31 & NA & 063-270-6389 & NA & 127.1 & 35.85\\\\\n\t2 & 1 & NA & 248 & 역사도심공원     &                                  &  208 & NA & NA & NA & NA & ⋯ & NA & 45111-00140 & 2018-04-30 & 전라북도 전주시 덕진구청 & 2020-08-31 & NA & 063-220-5438 & NA &    NA & 35.82\\\\\n\t3 & 2 & NA & 247 & 이목대공원       &                                  &  264 & NA & NA & NA & NA & ⋯ & NA & 45111-00139 & 2018-12-14 & 전라북도 전주시 덕진구청 & 2020-08-31 & NA & 063-220-5438 & NA & 127.2 & 35.81\\\\\n\t4 & 3 & NA & 246 & 동산구역A        &                                  & 1405 & NA & NA & NA & NA & ⋯ & NA & 45113-00110 & 2017-07-14 & 전라북도 전주시 덕진구청 & 2020-08-31 & NA & 063-270-6389 & NA & 127.1 & 35.87\\\\\n\t5 & 4 & NA & 245 & 동산구역B        &                                  &  499 & NA & NA & NA & NA & ⋯ & NA & 45113-00109 & 2017-07-14 & 전라북도 전주시 덕진구청 & 2020-08-31 & NA & 063-270-6389 & NA & 127.1 & 35.87\\\\\n\t6 & 5 & NA & 244 & 제187호 근린공원 &                                  & 5153 & NA & NA & NA & NA & ⋯ & NA & 45113-00108 & 2016-09-13 & 전라북도 전주시 덕진구청 & 2020-08-31 & NA & 063-270-6390 & NA & 127.2 & 35.83\\\\\n\\end{tabular}\n",
            "text/markdown": "\nA data.frame: 6 × 23\n\n| <!--/--> | X &lt;int&gt; | dataContent &lt;lgl&gt; | dataSid &lt;int&gt; | dataTitle &lt;chr&gt; | parkAddr &lt;chr&gt; | parkArea &lt;dbl&gt; | parkFact1 &lt;lgl&gt; | parkFact2 &lt;lgl&gt; | parkFact3 &lt;lgl&gt; | parkFact4 &lt;lgl&gt; | ⋯ ⋯ | parkLocation &lt;lgl&gt; | parkNo &lt;chr&gt; | parkNoticeday &lt;chr&gt; | parkOrgnm &lt;chr&gt; | parkRegdate &lt;chr&gt; | parkSido &lt;lgl&gt; | parkTel &lt;chr&gt; | parkZip &lt;lgl&gt; | posx &lt;dbl&gt; | posy &lt;dbl&gt; |\n|---|---|---|---|---|---|---|---|---|---|---|---|---|---|---|---|---|---|---|---|---|---|\n| 1 | 0 | NA | 249 | 추천대공원       | 전라북도 전주시 덕진구 추천로 82 | 4780 | NA | NA | NA | NA | ⋯ | NA | 45113-00111 | 2019-09-11 | 전라북도 전주시 덕진구청 | 2020-08-31 | NA | 063-270-6389 | NA | 127.1 | 35.85 |\n| 2 | 1 | NA | 248 | 역사도심공원     | <!----> |  208 | NA | NA | NA | NA | ⋯ | NA | 45111-00140 | 2018-04-30 | 전라북도 전주시 덕진구청 | 2020-08-31 | NA | 063-220-5438 | NA |    NA | 35.82 |\n| 3 | 2 | NA | 247 | 이목대공원       | <!----> |  264 | NA | NA | NA | NA | ⋯ | NA | 45111-00139 | 2018-12-14 | 전라북도 전주시 덕진구청 | 2020-08-31 | NA | 063-220-5438 | NA | 127.2 | 35.81 |\n| 4 | 3 | NA | 246 | 동산구역A        | <!----> | 1405 | NA | NA | NA | NA | ⋯ | NA | 45113-00110 | 2017-07-14 | 전라북도 전주시 덕진구청 | 2020-08-31 | NA | 063-270-6389 | NA | 127.1 | 35.87 |\n| 5 | 4 | NA | 245 | 동산구역B        | <!----> |  499 | NA | NA | NA | NA | ⋯ | NA | 45113-00109 | 2017-07-14 | 전라북도 전주시 덕진구청 | 2020-08-31 | NA | 063-270-6389 | NA | 127.1 | 35.87 |\n| 6 | 5 | NA | 244 | 제187호 근린공원 | <!----> | 5153 | NA | NA | NA | NA | ⋯ | NA | 45113-00108 | 2016-09-13 | 전라북도 전주시 덕진구청 | 2020-08-31 | NA | 063-270-6390 | NA | 127.2 | 35.83 |\n\n",
            "text/html": [
              "<table class=\"dataframe\">\n",
              "<caption>A data.frame: 6 × 23</caption>\n",
              "<thead>\n",
              "\t<tr><th></th><th scope=col>X</th><th scope=col>dataContent</th><th scope=col>dataSid</th><th scope=col>dataTitle</th><th scope=col>parkAddr</th><th scope=col>parkArea</th><th scope=col>parkFact1</th><th scope=col>parkFact2</th><th scope=col>parkFact3</th><th scope=col>parkFact4</th><th scope=col>⋯</th><th scope=col>parkLocation</th><th scope=col>parkNo</th><th scope=col>parkNoticeday</th><th scope=col>parkOrgnm</th><th scope=col>parkRegdate</th><th scope=col>parkSido</th><th scope=col>parkTel</th><th scope=col>parkZip</th><th scope=col>posx</th><th scope=col>posy</th></tr>\n",
              "\t<tr><th></th><th scope=col>&lt;int&gt;</th><th scope=col>&lt;lgl&gt;</th><th scope=col>&lt;int&gt;</th><th scope=col>&lt;chr&gt;</th><th scope=col>&lt;chr&gt;</th><th scope=col>&lt;dbl&gt;</th><th scope=col>&lt;lgl&gt;</th><th scope=col>&lt;lgl&gt;</th><th scope=col>&lt;lgl&gt;</th><th scope=col>&lt;lgl&gt;</th><th scope=col>⋯</th><th scope=col>&lt;lgl&gt;</th><th scope=col>&lt;chr&gt;</th><th scope=col>&lt;chr&gt;</th><th scope=col>&lt;chr&gt;</th><th scope=col>&lt;chr&gt;</th><th scope=col>&lt;lgl&gt;</th><th scope=col>&lt;chr&gt;</th><th scope=col>&lt;lgl&gt;</th><th scope=col>&lt;dbl&gt;</th><th scope=col>&lt;dbl&gt;</th></tr>\n",
              "</thead>\n",
              "<tbody>\n",
              "\t<tr><th scope=row>1</th><td>0</td><td>NA</td><td>249</td><td>추천대공원      </td><td>전라북도 전주시 덕진구 추천로 82</td><td>4780</td><td>NA</td><td>NA</td><td>NA</td><td>NA</td><td>⋯</td><td>NA</td><td>45113-00111</td><td>2019-09-11</td><td>전라북도 전주시 덕진구청</td><td>2020-08-31</td><td>NA</td><td>063-270-6389</td><td>NA</td><td>127.1</td><td>35.85</td></tr>\n",
              "\t<tr><th scope=row>2</th><td>1</td><td>NA</td><td>248</td><td>역사도심공원    </td><td>                                </td><td> 208</td><td>NA</td><td>NA</td><td>NA</td><td>NA</td><td>⋯</td><td>NA</td><td>45111-00140</td><td>2018-04-30</td><td>전라북도 전주시 덕진구청</td><td>2020-08-31</td><td>NA</td><td>063-220-5438</td><td>NA</td><td>   NA</td><td>35.82</td></tr>\n",
              "\t<tr><th scope=row>3</th><td>2</td><td>NA</td><td>247</td><td>이목대공원      </td><td>                                </td><td> 264</td><td>NA</td><td>NA</td><td>NA</td><td>NA</td><td>⋯</td><td>NA</td><td>45111-00139</td><td>2018-12-14</td><td>전라북도 전주시 덕진구청</td><td>2020-08-31</td><td>NA</td><td>063-220-5438</td><td>NA</td><td>127.2</td><td>35.81</td></tr>\n",
              "\t<tr><th scope=row>4</th><td>3</td><td>NA</td><td>246</td><td>동산구역A       </td><td>                                </td><td>1405</td><td>NA</td><td>NA</td><td>NA</td><td>NA</td><td>⋯</td><td>NA</td><td>45113-00110</td><td>2017-07-14</td><td>전라북도 전주시 덕진구청</td><td>2020-08-31</td><td>NA</td><td>063-270-6389</td><td>NA</td><td>127.1</td><td>35.87</td></tr>\n",
              "\t<tr><th scope=row>5</th><td>4</td><td>NA</td><td>245</td><td>동산구역B       </td><td>                                </td><td> 499</td><td>NA</td><td>NA</td><td>NA</td><td>NA</td><td>⋯</td><td>NA</td><td>45113-00109</td><td>2017-07-14</td><td>전라북도 전주시 덕진구청</td><td>2020-08-31</td><td>NA</td><td>063-270-6389</td><td>NA</td><td>127.1</td><td>35.87</td></tr>\n",
              "\t<tr><th scope=row>6</th><td>5</td><td>NA</td><td>244</td><td>제187호 근린공원</td><td>                                </td><td>5153</td><td>NA</td><td>NA</td><td>NA</td><td>NA</td><td>⋯</td><td>NA</td><td>45113-00108</td><td>2016-09-13</td><td>전라북도 전주시 덕진구청</td><td>2020-08-31</td><td>NA</td><td>063-270-6390</td><td>NA</td><td>127.2</td><td>35.83</td></tr>\n",
              "</tbody>\n",
              "</table>\n"
            ]
          },
          "metadata": {
            "tags": []
          }
        }
      ]
    },
    {
      "cell_type": "code",
      "metadata": {
        "colab": {
          "base_uri": "https://localhost:8080/"
        },
        "id": "odIBLnTmid_n",
        "outputId": "782b5a44-2dc6-47c6-97ac-8e98e2846f38"
      },
      "source": [
        "park <- park[, c(4,6,13)]\n",
        "park$parkLoadAddr <- c(\"팔복동\", \"중앙동\", \"풍남동\", \"여의동\", \"여의동\",\n",
        "                       \"우아2동\", \"송천2동\", \"송천2동\", \"우아2동\", \"팔복동\")\n",
        "park"
      ],
      "execution_count": null,
      "outputs": [
        {
          "output_type": "display_data",
          "data": {
            "text/plain": [
              "   dataTitle        parkArea parkLoadAddr\n",
              "1  추천대공원        4780    팔복동      \n",
              "2  역사도심공원       208    중앙동      \n",
              "3  이목대공원         264    풍남동      \n",
              "4  동산구역A         1405    여의동      \n",
              "5  동산구역B          499    여의동      \n",
              "6  제187호 근린공원  5153    우아2동     \n",
              "7  에코시티5호      11157    송천2동     \n",
              "8  에코시티 1호공원  1500    송천2동     \n",
              "9  철도178호        36018    우아2동     \n",
              "10 팔복문화공원     13242    팔복동      "
            ],
            "text/latex": "A data.frame: 10 × 3\n\\begin{tabular}{lll}\n dataTitle & parkArea & parkLoadAddr\\\\\n <chr> & <dbl> & <chr>\\\\\n\\hline\n\t 추천대공원       &  4780 & 팔복동 \\\\\n\t 역사도심공원     &   208 & 중앙동 \\\\\n\t 이목대공원       &   264 & 풍남동 \\\\\n\t 동산구역A        &  1405 & 여의동 \\\\\n\t 동산구역B        &   499 & 여의동 \\\\\n\t 제187호 근린공원 &  5153 & 우아2동\\\\\n\t 에코시티5호      & 11157 & 송천2동\\\\\n\t 에코시티 1호공원 &  1500 & 송천2동\\\\\n\t 철도178호        & 36018 & 우아2동\\\\\n\t 팔복문화공원     & 13242 & 팔복동 \\\\\n\\end{tabular}\n",
            "text/markdown": "\nA data.frame: 10 × 3\n\n| dataTitle &lt;chr&gt; | parkArea &lt;dbl&gt; | parkLoadAddr &lt;chr&gt; |\n|---|---|---|\n| 추천대공원       |  4780 | 팔복동  |\n| 역사도심공원     |   208 | 중앙동  |\n| 이목대공원       |   264 | 풍남동  |\n| 동산구역A        |  1405 | 여의동  |\n| 동산구역B        |   499 | 여의동  |\n| 제187호 근린공원 |  5153 | 우아2동 |\n| 에코시티5호      | 11157 | 송천2동 |\n| 에코시티 1호공원 |  1500 | 송천2동 |\n| 철도178호        | 36018 | 우아2동 |\n| 팔복문화공원     | 13242 | 팔복동  |\n\n",
            "text/html": [
              "<table class=\"dataframe\">\n",
              "<caption>A data.frame: 10 × 3</caption>\n",
              "<thead>\n",
              "\t<tr><th scope=col>dataTitle</th><th scope=col>parkArea</th><th scope=col>parkLoadAddr</th></tr>\n",
              "\t<tr><th scope=col>&lt;chr&gt;</th><th scope=col>&lt;dbl&gt;</th><th scope=col>&lt;chr&gt;</th></tr>\n",
              "</thead>\n",
              "<tbody>\n",
              "\t<tr><td>추천대공원      </td><td> 4780</td><td>팔복동 </td></tr>\n",
              "\t<tr><td>역사도심공원    </td><td>  208</td><td>중앙동 </td></tr>\n",
              "\t<tr><td>이목대공원      </td><td>  264</td><td>풍남동 </td></tr>\n",
              "\t<tr><td>동산구역A       </td><td> 1405</td><td>여의동 </td></tr>\n",
              "\t<tr><td>동산구역B       </td><td>  499</td><td>여의동 </td></tr>\n",
              "\t<tr><td>제187호 근린공원</td><td> 5153</td><td>우아2동</td></tr>\n",
              "\t<tr><td>에코시티5호     </td><td>11157</td><td>송천2동</td></tr>\n",
              "\t<tr><td>에코시티 1호공원</td><td> 1500</td><td>송천2동</td></tr>\n",
              "\t<tr><td>철도178호       </td><td>36018</td><td>우아2동</td></tr>\n",
              "\t<tr><td>팔복문화공원    </td><td>13242</td><td>팔복동 </td></tr>\n",
              "</tbody>\n",
              "</table>\n"
            ]
          },
          "metadata": {
            "tags": []
          }
        }
      ]
    },
    {
      "cell_type": "code",
      "metadata": {
        "colab": {
          "base_uri": "https://localhost:8080/"
        },
        "id": "egPioZPvijCZ",
        "outputId": "13684eb4-9a97-4893-8fc6-3835d7b0be18"
      },
      "source": [
        "park <- park %>% group_by(parkLoadAddr) %>% summarise(공원수 = length(dataTitle))\n",
        "park <- as.data.frame(park)\n",
        "names(park)[1] <- \"행정동\"\n",
        "park <- arrange(park, park$행정동)\n",
        "park"
      ],
      "execution_count": null,
      "outputs": [
        {
          "output_type": "display_data",
          "data": {
            "text/plain": [
              "  행정동  공원수\n",
              "1 송천2동 2     \n",
              "2 여의동  2     \n",
              "3 우아2동 2     \n",
              "4 중앙동  1     \n",
              "5 팔복동  2     \n",
              "6 풍남동  1     "
            ],
            "text/latex": "A data.frame: 6 × 2\n\\begin{tabular}{ll}\n 행정동 & 공원수\\\\\n <chr> & <int>\\\\\n\\hline\n\t 송천2동 & 2\\\\\n\t 여의동  & 2\\\\\n\t 우아2동 & 2\\\\\n\t 중앙동  & 1\\\\\n\t 팔복동  & 2\\\\\n\t 풍남동  & 1\\\\\n\\end{tabular}\n",
            "text/markdown": "\nA data.frame: 6 × 2\n\n| 행정동 &lt;chr&gt; | 공원수 &lt;int&gt; |\n|---|---|\n| 송천2동 | 2 |\n| 여의동  | 2 |\n| 우아2동 | 2 |\n| 중앙동  | 1 |\n| 팔복동  | 2 |\n| 풍남동  | 1 |\n\n",
            "text/html": [
              "<table class=\"dataframe\">\n",
              "<caption>A data.frame: 6 × 2</caption>\n",
              "<thead>\n",
              "\t<tr><th scope=col>행정동</th><th scope=col>공원수</th></tr>\n",
              "\t<tr><th scope=col>&lt;chr&gt;</th><th scope=col>&lt;int&gt;</th></tr>\n",
              "</thead>\n",
              "<tbody>\n",
              "\t<tr><td>송천2동</td><td>2</td></tr>\n",
              "\t<tr><td>여의동 </td><td>2</td></tr>\n",
              "\t<tr><td>우아2동</td><td>2</td></tr>\n",
              "\t<tr><td>중앙동 </td><td>1</td></tr>\n",
              "\t<tr><td>팔복동 </td><td>2</td></tr>\n",
              "\t<tr><td>풍남동 </td><td>1</td></tr>\n",
              "</tbody>\n",
              "</table>\n"
            ]
          },
          "metadata": {
            "tags": []
          }
        }
      ]
    },
    {
      "cell_type": "code",
      "metadata": {
        "colab": {
          "base_uri": "https://localhost:8080/"
        },
        "id": "1tA3QDjbimCV",
        "outputId": "c345a84a-2d2b-432f-b9e9-0f5322457a5d"
      },
      "source": [
        "table(jjdong %in% park$행정동)\n",
        "\n",
        "jjdong[jjdong %in% park$행정동 == FALSE] #park에는 없는 jjdong의 행정동"
      ],
      "execution_count": null,
      "outputs": [
        {
          "output_type": "display_data",
          "data": {
            "text/plain": [
              "\n",
              "FALSE  TRUE \n",
              "   29     6 "
            ]
          },
          "metadata": {
            "tags": []
          }
        },
        {
          "output_type": "display_data",
          "data": {
            "text/plain": [
              " [1] \"금암1동\"   \"금암2동\"   \"노송동\"    \"덕진동\"    \"동서학동\"  \"삼천1동\"  \n",
              " [7] \"삼천2동\"   \"삼천3동\"   \"서서학동\"  \"서신동\"    \"송천1동\"   \"완산동\"   \n",
              "[13] \"우아1동\"   \"인후1동\"   \"인후2동\"   \"인후3동\"   \"조촌동\"    \"중화산1동\"\n",
              "[19] \"중화산2동\" \"진북동\"    \"평화1동\"   \"평화2동\"   \"혁신동\"    \"호성동\"   \n",
              "[25] \"효자1동\"   \"효자2동\"   \"효자3동\"   \"효자4동\"   \"효자5동\"  "
            ],
            "text/latex": "\\begin{enumerate*}\n\\item '금암1동'\n\\item '금암2동'\n\\item '노송동'\n\\item '덕진동'\n\\item '동서학동'\n\\item '삼천1동'\n\\item '삼천2동'\n\\item '삼천3동'\n\\item '서서학동'\n\\item '서신동'\n\\item '송천1동'\n\\item '완산동'\n\\item '우아1동'\n\\item '인후1동'\n\\item '인후2동'\n\\item '인후3동'\n\\item '조촌동'\n\\item '중화산1동'\n\\item '중화산2동'\n\\item '진북동'\n\\item '평화1동'\n\\item '평화2동'\n\\item '혁신동'\n\\item '호성동'\n\\item '효자1동'\n\\item '효자2동'\n\\item '효자3동'\n\\item '효자4동'\n\\item '효자5동'\n\\end{enumerate*}\n",
            "text/markdown": "1. '금암1동'\n2. '금암2동'\n3. '노송동'\n4. '덕진동'\n5. '동서학동'\n6. '삼천1동'\n7. '삼천2동'\n8. '삼천3동'\n9. '서서학동'\n10. '서신동'\n11. '송천1동'\n12. '완산동'\n13. '우아1동'\n14. '인후1동'\n15. '인후2동'\n16. '인후3동'\n17. '조촌동'\n18. '중화산1동'\n19. '중화산2동'\n20. '진북동'\n21. '평화1동'\n22. '평화2동'\n23. '혁신동'\n24. '호성동'\n25. '효자1동'\n26. '효자2동'\n27. '효자3동'\n28. '효자4동'\n29. '효자5동'\n\n\n",
            "text/html": [
              "<style>\n",
              ".list-inline {list-style: none; margin:0; padding: 0}\n",
              ".list-inline>li {display: inline-block}\n",
              ".list-inline>li:not(:last-child)::after {content: \"\\00b7\"; padding: 0 .5ex}\n",
              "</style>\n",
              "<ol class=list-inline><li>'금암1동'</li><li>'금암2동'</li><li>'노송동'</li><li>'덕진동'</li><li>'동서학동'</li><li>'삼천1동'</li><li>'삼천2동'</li><li>'삼천3동'</li><li>'서서학동'</li><li>'서신동'</li><li>'송천1동'</li><li>'완산동'</li><li>'우아1동'</li><li>'인후1동'</li><li>'인후2동'</li><li>'인후3동'</li><li>'조촌동'</li><li>'중화산1동'</li><li>'중화산2동'</li><li>'진북동'</li><li>'평화1동'</li><li>'평화2동'</li><li>'혁신동'</li><li>'호성동'</li><li>'효자1동'</li><li>'효자2동'</li><li>'효자3동'</li><li>'효자4동'</li><li>'효자5동'</li></ol>\n"
            ]
          },
          "metadata": {
            "tags": []
          }
        }
      ]
    },
    {
      "cell_type": "code",
      "metadata": {
        "colab": {
          "base_uri": "https://localhost:8080/"
        },
        "id": "-sytlGfLiotP",
        "outputId": "f03ebb2f-c9f7-4530-d555-a9ca3efa19c5"
      },
      "source": [
        "add <- data.frame(행정동 = jjdong[jjdong %in% park$행정동 == FALSE], \n",
        "                     공원수 = rep(0, length(jjdong[jjdong %in% park$행정동 == FALSE])))\n",
        "park <- rbind(park, add)\n",
        "park <- arrange(park, park$행정동)\n",
        "park"
      ],
      "execution_count": null,
      "outputs": [
        {
          "output_type": "display_data",
          "data": {
            "text/plain": [
              "   행정동    공원수\n",
              "1  금암1동   0     \n",
              "2  금암2동   0     \n",
              "3  노송동    0     \n",
              "4  덕진동    0     \n",
              "5  동서학동  0     \n",
              "6  삼천1동   0     \n",
              "7  삼천2동   0     \n",
              "8  삼천3동   0     \n",
              "9  서서학동  0     \n",
              "10 서신동    0     \n",
              "11 송천1동   0     \n",
              "12 송천2동   2     \n",
              "13 여의동    2     \n",
              "14 완산동    0     \n",
              "15 우아1동   0     \n",
              "16 우아2동   2     \n",
              "17 인후1동   0     \n",
              "18 인후2동   0     \n",
              "19 인후3동   0     \n",
              "20 조촌동    0     \n",
              "21 중앙동    1     \n",
              "22 중화산1동 0     \n",
              "23 중화산2동 0     \n",
              "24 진북동    0     \n",
              "25 팔복동    2     \n",
              "26 평화1동   0     \n",
              "27 평화2동   0     \n",
              "28 풍남동    1     \n",
              "29 혁신동    0     \n",
              "30 호성동    0     \n",
              "31 효자1동   0     \n",
              "32 효자2동   0     \n",
              "33 효자3동   0     \n",
              "34 효자4동   0     \n",
              "35 효자5동   0     "
            ],
            "text/latex": "A data.frame: 35 × 2\n\\begin{tabular}{ll}\n 행정동 & 공원수\\\\\n <chr> & <dbl>\\\\\n\\hline\n\t 금암1동   & 0\\\\\n\t 금암2동   & 0\\\\\n\t 노송동    & 0\\\\\n\t 덕진동    & 0\\\\\n\t 동서학동  & 0\\\\\n\t 삼천1동   & 0\\\\\n\t 삼천2동   & 0\\\\\n\t 삼천3동   & 0\\\\\n\t 서서학동  & 0\\\\\n\t 서신동    & 0\\\\\n\t 송천1동   & 0\\\\\n\t 송천2동   & 2\\\\\n\t 여의동    & 2\\\\\n\t 완산동    & 0\\\\\n\t 우아1동   & 0\\\\\n\t 우아2동   & 2\\\\\n\t 인후1동   & 0\\\\\n\t 인후2동   & 0\\\\\n\t 인후3동   & 0\\\\\n\t 조촌동    & 0\\\\\n\t 중앙동    & 1\\\\\n\t 중화산1동 & 0\\\\\n\t 중화산2동 & 0\\\\\n\t 진북동    & 0\\\\\n\t 팔복동    & 2\\\\\n\t 평화1동   & 0\\\\\n\t 평화2동   & 0\\\\\n\t 풍남동    & 1\\\\\n\t 혁신동    & 0\\\\\n\t 호성동    & 0\\\\\n\t 효자1동   & 0\\\\\n\t 효자2동   & 0\\\\\n\t 효자3동   & 0\\\\\n\t 효자4동   & 0\\\\\n\t 효자5동   & 0\\\\\n\\end{tabular}\n",
            "text/markdown": "\nA data.frame: 35 × 2\n\n| 행정동 &lt;chr&gt; | 공원수 &lt;dbl&gt; |\n|---|---|\n| 금암1동   | 0 |\n| 금암2동   | 0 |\n| 노송동    | 0 |\n| 덕진동    | 0 |\n| 동서학동  | 0 |\n| 삼천1동   | 0 |\n| 삼천2동   | 0 |\n| 삼천3동   | 0 |\n| 서서학동  | 0 |\n| 서신동    | 0 |\n| 송천1동   | 0 |\n| 송천2동   | 2 |\n| 여의동    | 2 |\n| 완산동    | 0 |\n| 우아1동   | 0 |\n| 우아2동   | 2 |\n| 인후1동   | 0 |\n| 인후2동   | 0 |\n| 인후3동   | 0 |\n| 조촌동    | 0 |\n| 중앙동    | 1 |\n| 중화산1동 | 0 |\n| 중화산2동 | 0 |\n| 진북동    | 0 |\n| 팔복동    | 2 |\n| 평화1동   | 0 |\n| 평화2동   | 0 |\n| 풍남동    | 1 |\n| 혁신동    | 0 |\n| 호성동    | 0 |\n| 효자1동   | 0 |\n| 효자2동   | 0 |\n| 효자3동   | 0 |\n| 효자4동   | 0 |\n| 효자5동   | 0 |\n\n",
            "text/html": [
              "<table class=\"dataframe\">\n",
              "<caption>A data.frame: 35 × 2</caption>\n",
              "<thead>\n",
              "\t<tr><th scope=col>행정동</th><th scope=col>공원수</th></tr>\n",
              "\t<tr><th scope=col>&lt;chr&gt;</th><th scope=col>&lt;dbl&gt;</th></tr>\n",
              "</thead>\n",
              "<tbody>\n",
              "\t<tr><td>금암1동  </td><td>0</td></tr>\n",
              "\t<tr><td>금암2동  </td><td>0</td></tr>\n",
              "\t<tr><td>노송동   </td><td>0</td></tr>\n",
              "\t<tr><td>덕진동   </td><td>0</td></tr>\n",
              "\t<tr><td>동서학동 </td><td>0</td></tr>\n",
              "\t<tr><td>삼천1동  </td><td>0</td></tr>\n",
              "\t<tr><td>삼천2동  </td><td>0</td></tr>\n",
              "\t<tr><td>삼천3동  </td><td>0</td></tr>\n",
              "\t<tr><td>서서학동 </td><td>0</td></tr>\n",
              "\t<tr><td>서신동   </td><td>0</td></tr>\n",
              "\t<tr><td>송천1동  </td><td>0</td></tr>\n",
              "\t<tr><td>송천2동  </td><td>2</td></tr>\n",
              "\t<tr><td>여의동   </td><td>2</td></tr>\n",
              "\t<tr><td>완산동   </td><td>0</td></tr>\n",
              "\t<tr><td>우아1동  </td><td>0</td></tr>\n",
              "\t<tr><td>우아2동  </td><td>2</td></tr>\n",
              "\t<tr><td>인후1동  </td><td>0</td></tr>\n",
              "\t<tr><td>인후2동  </td><td>0</td></tr>\n",
              "\t<tr><td>인후3동  </td><td>0</td></tr>\n",
              "\t<tr><td>조촌동   </td><td>0</td></tr>\n",
              "\t<tr><td>중앙동   </td><td>1</td></tr>\n",
              "\t<tr><td>중화산1동</td><td>0</td></tr>\n",
              "\t<tr><td>중화산2동</td><td>0</td></tr>\n",
              "\t<tr><td>진북동   </td><td>0</td></tr>\n",
              "\t<tr><td>팔복동   </td><td>2</td></tr>\n",
              "\t<tr><td>평화1동  </td><td>0</td></tr>\n",
              "\t<tr><td>평화2동  </td><td>0</td></tr>\n",
              "\t<tr><td>풍남동   </td><td>1</td></tr>\n",
              "\t<tr><td>혁신동   </td><td>0</td></tr>\n",
              "\t<tr><td>호성동   </td><td>0</td></tr>\n",
              "\t<tr><td>효자1동  </td><td>0</td></tr>\n",
              "\t<tr><td>효자2동  </td><td>0</td></tr>\n",
              "\t<tr><td>효자3동  </td><td>0</td></tr>\n",
              "\t<tr><td>효자4동  </td><td>0</td></tr>\n",
              "\t<tr><td>효자5동  </td><td>0</td></tr>\n",
              "</tbody>\n",
              "</table>\n"
            ]
          },
          "metadata": {
            "tags": []
          }
        }
      ]
    },
    {
      "cell_type": "markdown",
      "metadata": {
        "id": "K1pYymIAirEd"
      },
      "source": [
        "## 전동킥보드 사용 수"
      ]
    },
    {
      "cell_type": "code",
      "metadata": {
        "colab": {
          "base_uri": "https://localhost:8080/"
        },
        "id": "DircSSAqiuxx",
        "outputId": "7203fbb8-efe2-4045-a093-c359fb22a710"
      },
      "source": [
        "str(scooter)\n",
        "head(scooter)"
      ],
      "execution_count": null,
      "outputs": [
        {
          "output_type": "stream",
          "text": [
            "'data.frame':\t35 obs. of  6 variables:\n",
            " $ gu        : chr  \"완산구\" \"완산구\" \"완산구\" \"완산구\" ...\n",
            " $ dong      : chr  \"중앙동\" \"풍남동\" \"노송동\" \"완산동\" ...\n",
            " $ ssingssing: int  7 1 3 0 2 1 4 6 2 6 ...\n",
            " $ alphaca   : int  3 0 0 3 1 4 14 18 7 62 ...\n",
            " $ gcooter   : int  0 0 1 0 0 2 2 17 2 20 ...\n",
            " $ total     : int  10 1 4 3 3 7 20 41 11 88 ...\n"
          ],
          "name": "stdout"
        },
        {
          "output_type": "display_data",
          "data": {
            "text/plain": [
              "  gu     dong     ssingssing alphaca gcooter total\n",
              "1 완산구 중앙동   7          3       0       10   \n",
              "2 완산구 풍남동   1          0       0        1   \n",
              "3 완산구 노송동   3          0       1        4   \n",
              "4 완산구 완산동   0          3       0        3   \n",
              "5 완산구 동서학동 2          1       0        3   \n",
              "6 완산구 서서학동 1          4       2        7   "
            ],
            "text/latex": "A data.frame: 6 × 6\n\\begin{tabular}{r|llllll}\n  & gu & dong & ssingssing & alphaca & gcooter & total\\\\\n  & <chr> & <chr> & <int> & <int> & <int> & <int>\\\\\n\\hline\n\t1 & 완산구 & 중앙동   & 7 & 3 & 0 & 10\\\\\n\t2 & 완산구 & 풍남동   & 1 & 0 & 0 &  1\\\\\n\t3 & 완산구 & 노송동   & 3 & 0 & 1 &  4\\\\\n\t4 & 완산구 & 완산동   & 0 & 3 & 0 &  3\\\\\n\t5 & 완산구 & 동서학동 & 2 & 1 & 0 &  3\\\\\n\t6 & 완산구 & 서서학동 & 1 & 4 & 2 &  7\\\\\n\\end{tabular}\n",
            "text/markdown": "\nA data.frame: 6 × 6\n\n| <!--/--> | gu &lt;chr&gt; | dong &lt;chr&gt; | ssingssing &lt;int&gt; | alphaca &lt;int&gt; | gcooter &lt;int&gt; | total &lt;int&gt; |\n|---|---|---|---|---|---|---|\n| 1 | 완산구 | 중앙동   | 7 | 3 | 0 | 10 |\n| 2 | 완산구 | 풍남동   | 1 | 0 | 0 |  1 |\n| 3 | 완산구 | 노송동   | 3 | 0 | 1 |  4 |\n| 4 | 완산구 | 완산동   | 0 | 3 | 0 |  3 |\n| 5 | 완산구 | 동서학동 | 2 | 1 | 0 |  3 |\n| 6 | 완산구 | 서서학동 | 1 | 4 | 2 |  7 |\n\n",
            "text/html": [
              "<table class=\"dataframe\">\n",
              "<caption>A data.frame: 6 × 6</caption>\n",
              "<thead>\n",
              "\t<tr><th></th><th scope=col>gu</th><th scope=col>dong</th><th scope=col>ssingssing</th><th scope=col>alphaca</th><th scope=col>gcooter</th><th scope=col>total</th></tr>\n",
              "\t<tr><th></th><th scope=col>&lt;chr&gt;</th><th scope=col>&lt;chr&gt;</th><th scope=col>&lt;int&gt;</th><th scope=col>&lt;int&gt;</th><th scope=col>&lt;int&gt;</th><th scope=col>&lt;int&gt;</th></tr>\n",
              "</thead>\n",
              "<tbody>\n",
              "\t<tr><th scope=row>1</th><td>완산구</td><td>중앙동  </td><td>7</td><td>3</td><td>0</td><td>10</td></tr>\n",
              "\t<tr><th scope=row>2</th><td>완산구</td><td>풍남동  </td><td>1</td><td>0</td><td>0</td><td> 1</td></tr>\n",
              "\t<tr><th scope=row>3</th><td>완산구</td><td>노송동  </td><td>3</td><td>0</td><td>1</td><td> 4</td></tr>\n",
              "\t<tr><th scope=row>4</th><td>완산구</td><td>완산동  </td><td>0</td><td>3</td><td>0</td><td> 3</td></tr>\n",
              "\t<tr><th scope=row>5</th><td>완산구</td><td>동서학동</td><td>2</td><td>1</td><td>0</td><td> 3</td></tr>\n",
              "\t<tr><th scope=row>6</th><td>완산구</td><td>서서학동</td><td>1</td><td>4</td><td>2</td><td> 7</td></tr>\n",
              "</tbody>\n",
              "</table>\n"
            ]
          },
          "metadata": {
            "tags": []
          }
        }
      ]
    },
    {
      "cell_type": "code",
      "metadata": {
        "colab": {
          "base_uri": "https://localhost:8080/"
        },
        "id": "fAf1v--6ixQb",
        "outputId": "df54abc3-d79c-4da1-8fa7-50a5cf387473"
      },
      "source": [
        "scooter <- scooter[, c(2,6)]\n",
        "names(scooter) <- c(\"행정동\", \"전동킥보드이용수\")\n",
        "scooter <- arrange(scooter, scooter$행정동)\n",
        "scooter"
      ],
      "execution_count": null,
      "outputs": [
        {
          "output_type": "display_data",
          "data": {
            "text/plain": [
              "   행정동    전동킥보드이용수\n",
              "1  금암1동   105             \n",
              "2  금암2동    15             \n",
              "3  노송동      4             \n",
              "4  덕진동     73             \n",
              "5  동서학동    3             \n",
              "6  삼천1동    17             \n",
              "7  삼천2동    14             \n",
              "8  삼천3동    26             \n",
              "9  서서학동    7             \n",
              "10 서신동     48             \n",
              "11 송천1동    25             \n",
              "12 송천2동    12             \n",
              "13 여의동      3             \n",
              "14 완산동      3             \n",
              "15 우아1동     3             \n",
              "16 우아2동     0             \n",
              "17 인후1동     1             \n",
              "18 인후2동     5             \n",
              "19 인후3동     5             \n",
              "20 조촌동     10             \n",
              "21 중앙동     10             \n",
              "22 중화산1동  20             \n",
              "23 중화산2동  41             \n",
              "24 진북동      6             \n",
              "25 팔복동      1             \n",
              "26 평화1동    11             \n",
              "27 평화2동    88             \n",
              "28 풍남동      1             \n",
              "29 혁신동      9             \n",
              "30 호성동      3             \n",
              "31 효자1동    20             \n",
              "32 효자2동     6             \n",
              "33 효자3동    14             \n",
              "34 효자4동   107             \n",
              "35 효자5동    88             "
            ],
            "text/latex": "A data.frame: 35 × 2\n\\begin{tabular}{ll}\n 행정동 & 전동킥보드이용수\\\\\n <chr> & <int>\\\\\n\\hline\n\t 금암1동   & 105\\\\\n\t 금암2동   &  15\\\\\n\t 노송동    &   4\\\\\n\t 덕진동    &  73\\\\\n\t 동서학동  &   3\\\\\n\t 삼천1동   &  17\\\\\n\t 삼천2동   &  14\\\\\n\t 삼천3동   &  26\\\\\n\t 서서학동  &   7\\\\\n\t 서신동    &  48\\\\\n\t 송천1동   &  25\\\\\n\t 송천2동   &  12\\\\\n\t 여의동    &   3\\\\\n\t 완산동    &   3\\\\\n\t 우아1동   &   3\\\\\n\t 우아2동   &   0\\\\\n\t 인후1동   &   1\\\\\n\t 인후2동   &   5\\\\\n\t 인후3동   &   5\\\\\n\t 조촌동    &  10\\\\\n\t 중앙동    &  10\\\\\n\t 중화산1동 &  20\\\\\n\t 중화산2동 &  41\\\\\n\t 진북동    &   6\\\\\n\t 팔복동    &   1\\\\\n\t 평화1동   &  11\\\\\n\t 평화2동   &  88\\\\\n\t 풍남동    &   1\\\\\n\t 혁신동    &   9\\\\\n\t 호성동    &   3\\\\\n\t 효자1동   &  20\\\\\n\t 효자2동   &   6\\\\\n\t 효자3동   &  14\\\\\n\t 효자4동   & 107\\\\\n\t 효자5동   &  88\\\\\n\\end{tabular}\n",
            "text/markdown": "\nA data.frame: 35 × 2\n\n| 행정동 &lt;chr&gt; | 전동킥보드이용수 &lt;int&gt; |\n|---|---|\n| 금암1동   | 105 |\n| 금암2동   |  15 |\n| 노송동    |   4 |\n| 덕진동    |  73 |\n| 동서학동  |   3 |\n| 삼천1동   |  17 |\n| 삼천2동   |  14 |\n| 삼천3동   |  26 |\n| 서서학동  |   7 |\n| 서신동    |  48 |\n| 송천1동   |  25 |\n| 송천2동   |  12 |\n| 여의동    |   3 |\n| 완산동    |   3 |\n| 우아1동   |   3 |\n| 우아2동   |   0 |\n| 인후1동   |   1 |\n| 인후2동   |   5 |\n| 인후3동   |   5 |\n| 조촌동    |  10 |\n| 중앙동    |  10 |\n| 중화산1동 |  20 |\n| 중화산2동 |  41 |\n| 진북동    |   6 |\n| 팔복동    |   1 |\n| 평화1동   |  11 |\n| 평화2동   |  88 |\n| 풍남동    |   1 |\n| 혁신동    |   9 |\n| 호성동    |   3 |\n| 효자1동   |  20 |\n| 효자2동   |   6 |\n| 효자3동   |  14 |\n| 효자4동   | 107 |\n| 효자5동   |  88 |\n\n",
            "text/html": [
              "<table class=\"dataframe\">\n",
              "<caption>A data.frame: 35 × 2</caption>\n",
              "<thead>\n",
              "\t<tr><th scope=col>행정동</th><th scope=col>전동킥보드이용수</th></tr>\n",
              "\t<tr><th scope=col>&lt;chr&gt;</th><th scope=col>&lt;int&gt;</th></tr>\n",
              "</thead>\n",
              "<tbody>\n",
              "\t<tr><td>금암1동  </td><td>105</td></tr>\n",
              "\t<tr><td>금암2동  </td><td> 15</td></tr>\n",
              "\t<tr><td>노송동   </td><td>  4</td></tr>\n",
              "\t<tr><td>덕진동   </td><td> 73</td></tr>\n",
              "\t<tr><td>동서학동 </td><td>  3</td></tr>\n",
              "\t<tr><td>삼천1동  </td><td> 17</td></tr>\n",
              "\t<tr><td>삼천2동  </td><td> 14</td></tr>\n",
              "\t<tr><td>삼천3동  </td><td> 26</td></tr>\n",
              "\t<tr><td>서서학동 </td><td>  7</td></tr>\n",
              "\t<tr><td>서신동   </td><td> 48</td></tr>\n",
              "\t<tr><td>송천1동  </td><td> 25</td></tr>\n",
              "\t<tr><td>송천2동  </td><td> 12</td></tr>\n",
              "\t<tr><td>여의동   </td><td>  3</td></tr>\n",
              "\t<tr><td>완산동   </td><td>  3</td></tr>\n",
              "\t<tr><td>우아1동  </td><td>  3</td></tr>\n",
              "\t<tr><td>우아2동  </td><td>  0</td></tr>\n",
              "\t<tr><td>인후1동  </td><td>  1</td></tr>\n",
              "\t<tr><td>인후2동  </td><td>  5</td></tr>\n",
              "\t<tr><td>인후3동  </td><td>  5</td></tr>\n",
              "\t<tr><td>조촌동   </td><td> 10</td></tr>\n",
              "\t<tr><td>중앙동   </td><td> 10</td></tr>\n",
              "\t<tr><td>중화산1동</td><td> 20</td></tr>\n",
              "\t<tr><td>중화산2동</td><td> 41</td></tr>\n",
              "\t<tr><td>진북동   </td><td>  6</td></tr>\n",
              "\t<tr><td>팔복동   </td><td>  1</td></tr>\n",
              "\t<tr><td>평화1동  </td><td> 11</td></tr>\n",
              "\t<tr><td>평화2동  </td><td> 88</td></tr>\n",
              "\t<tr><td>풍남동   </td><td>  1</td></tr>\n",
              "\t<tr><td>혁신동   </td><td>  9</td></tr>\n",
              "\t<tr><td>호성동   </td><td>  3</td></tr>\n",
              "\t<tr><td>효자1동  </td><td> 20</td></tr>\n",
              "\t<tr><td>효자2동  </td><td>  6</td></tr>\n",
              "\t<tr><td>효자3동  </td><td> 14</td></tr>\n",
              "\t<tr><td>효자4동  </td><td>107</td></tr>\n",
              "\t<tr><td>효자5동  </td><td> 88</td></tr>\n",
              "</tbody>\n",
              "</table>\n"
            ]
          },
          "metadata": {
            "tags": []
          }
        }
      ]
    },
    {
      "cell_type": "code",
      "metadata": {
        "colab": {
          "base_uri": "https://localhost:8080/"
        },
        "id": "5NBtDl1Bi0Y9",
        "outputId": "6a42eda6-b71a-433f-83ad-f22d2dad8695"
      },
      "source": [
        "table(jjdong %in% scooter$행정동)\n",
        "scooter"
      ],
      "execution_count": null,
      "outputs": [
        {
          "output_type": "display_data",
          "data": {
            "text/plain": [
              "\n",
              "TRUE \n",
              "  35 "
            ]
          },
          "metadata": {
            "tags": []
          }
        },
        {
          "output_type": "display_data",
          "data": {
            "text/plain": [
              "   행정동    전동킥보드이용수\n",
              "1  금암1동   105             \n",
              "2  금암2동    15             \n",
              "3  노송동      4             \n",
              "4  덕진동     73             \n",
              "5  동서학동    3             \n",
              "6  삼천1동    17             \n",
              "7  삼천2동    14             \n",
              "8  삼천3동    26             \n",
              "9  서서학동    7             \n",
              "10 서신동     48             \n",
              "11 송천1동    25             \n",
              "12 송천2동    12             \n",
              "13 여의동      3             \n",
              "14 완산동      3             \n",
              "15 우아1동     3             \n",
              "16 우아2동     0             \n",
              "17 인후1동     1             \n",
              "18 인후2동     5             \n",
              "19 인후3동     5             \n",
              "20 조촌동     10             \n",
              "21 중앙동     10             \n",
              "22 중화산1동  20             \n",
              "23 중화산2동  41             \n",
              "24 진북동      6             \n",
              "25 팔복동      1             \n",
              "26 평화1동    11             \n",
              "27 평화2동    88             \n",
              "28 풍남동      1             \n",
              "29 혁신동      9             \n",
              "30 호성동      3             \n",
              "31 효자1동    20             \n",
              "32 효자2동     6             \n",
              "33 효자3동    14             \n",
              "34 효자4동   107             \n",
              "35 효자5동    88             "
            ],
            "text/latex": "A data.frame: 35 × 2\n\\begin{tabular}{ll}\n 행정동 & 전동킥보드이용수\\\\\n <chr> & <int>\\\\\n\\hline\n\t 금암1동   & 105\\\\\n\t 금암2동   &  15\\\\\n\t 노송동    &   4\\\\\n\t 덕진동    &  73\\\\\n\t 동서학동  &   3\\\\\n\t 삼천1동   &  17\\\\\n\t 삼천2동   &  14\\\\\n\t 삼천3동   &  26\\\\\n\t 서서학동  &   7\\\\\n\t 서신동    &  48\\\\\n\t 송천1동   &  25\\\\\n\t 송천2동   &  12\\\\\n\t 여의동    &   3\\\\\n\t 완산동    &   3\\\\\n\t 우아1동   &   3\\\\\n\t 우아2동   &   0\\\\\n\t 인후1동   &   1\\\\\n\t 인후2동   &   5\\\\\n\t 인후3동   &   5\\\\\n\t 조촌동    &  10\\\\\n\t 중앙동    &  10\\\\\n\t 중화산1동 &  20\\\\\n\t 중화산2동 &  41\\\\\n\t 진북동    &   6\\\\\n\t 팔복동    &   1\\\\\n\t 평화1동   &  11\\\\\n\t 평화2동   &  88\\\\\n\t 풍남동    &   1\\\\\n\t 혁신동    &   9\\\\\n\t 호성동    &   3\\\\\n\t 효자1동   &  20\\\\\n\t 효자2동   &   6\\\\\n\t 효자3동   &  14\\\\\n\t 효자4동   & 107\\\\\n\t 효자5동   &  88\\\\\n\\end{tabular}\n",
            "text/markdown": "\nA data.frame: 35 × 2\n\n| 행정동 &lt;chr&gt; | 전동킥보드이용수 &lt;int&gt; |\n|---|---|\n| 금암1동   | 105 |\n| 금암2동   |  15 |\n| 노송동    |   4 |\n| 덕진동    |  73 |\n| 동서학동  |   3 |\n| 삼천1동   |  17 |\n| 삼천2동   |  14 |\n| 삼천3동   |  26 |\n| 서서학동  |   7 |\n| 서신동    |  48 |\n| 송천1동   |  25 |\n| 송천2동   |  12 |\n| 여의동    |   3 |\n| 완산동    |   3 |\n| 우아1동   |   3 |\n| 우아2동   |   0 |\n| 인후1동   |   1 |\n| 인후2동   |   5 |\n| 인후3동   |   5 |\n| 조촌동    |  10 |\n| 중앙동    |  10 |\n| 중화산1동 |  20 |\n| 중화산2동 |  41 |\n| 진북동    |   6 |\n| 팔복동    |   1 |\n| 평화1동   |  11 |\n| 평화2동   |  88 |\n| 풍남동    |   1 |\n| 혁신동    |   9 |\n| 호성동    |   3 |\n| 효자1동   |  20 |\n| 효자2동   |   6 |\n| 효자3동   |  14 |\n| 효자4동   | 107 |\n| 효자5동   |  88 |\n\n",
            "text/html": [
              "<table class=\"dataframe\">\n",
              "<caption>A data.frame: 35 × 2</caption>\n",
              "<thead>\n",
              "\t<tr><th scope=col>행정동</th><th scope=col>전동킥보드이용수</th></tr>\n",
              "\t<tr><th scope=col>&lt;chr&gt;</th><th scope=col>&lt;int&gt;</th></tr>\n",
              "</thead>\n",
              "<tbody>\n",
              "\t<tr><td>금암1동  </td><td>105</td></tr>\n",
              "\t<tr><td>금암2동  </td><td> 15</td></tr>\n",
              "\t<tr><td>노송동   </td><td>  4</td></tr>\n",
              "\t<tr><td>덕진동   </td><td> 73</td></tr>\n",
              "\t<tr><td>동서학동 </td><td>  3</td></tr>\n",
              "\t<tr><td>삼천1동  </td><td> 17</td></tr>\n",
              "\t<tr><td>삼천2동  </td><td> 14</td></tr>\n",
              "\t<tr><td>삼천3동  </td><td> 26</td></tr>\n",
              "\t<tr><td>서서학동 </td><td>  7</td></tr>\n",
              "\t<tr><td>서신동   </td><td> 48</td></tr>\n",
              "\t<tr><td>송천1동  </td><td> 25</td></tr>\n",
              "\t<tr><td>송천2동  </td><td> 12</td></tr>\n",
              "\t<tr><td>여의동   </td><td>  3</td></tr>\n",
              "\t<tr><td>완산동   </td><td>  3</td></tr>\n",
              "\t<tr><td>우아1동  </td><td>  3</td></tr>\n",
              "\t<tr><td>우아2동  </td><td>  0</td></tr>\n",
              "\t<tr><td>인후1동  </td><td>  1</td></tr>\n",
              "\t<tr><td>인후2동  </td><td>  5</td></tr>\n",
              "\t<tr><td>인후3동  </td><td>  5</td></tr>\n",
              "\t<tr><td>조촌동   </td><td> 10</td></tr>\n",
              "\t<tr><td>중앙동   </td><td> 10</td></tr>\n",
              "\t<tr><td>중화산1동</td><td> 20</td></tr>\n",
              "\t<tr><td>중화산2동</td><td> 41</td></tr>\n",
              "\t<tr><td>진북동   </td><td>  6</td></tr>\n",
              "\t<tr><td>팔복동   </td><td>  1</td></tr>\n",
              "\t<tr><td>평화1동  </td><td> 11</td></tr>\n",
              "\t<tr><td>평화2동  </td><td> 88</td></tr>\n",
              "\t<tr><td>풍남동   </td><td>  1</td></tr>\n",
              "\t<tr><td>혁신동   </td><td>  9</td></tr>\n",
              "\t<tr><td>호성동   </td><td>  3</td></tr>\n",
              "\t<tr><td>효자1동  </td><td> 20</td></tr>\n",
              "\t<tr><td>효자2동  </td><td>  6</td></tr>\n",
              "\t<tr><td>효자3동  </td><td> 14</td></tr>\n",
              "\t<tr><td>효자4동  </td><td>107</td></tr>\n",
              "\t<tr><td>효자5동  </td><td> 88</td></tr>\n",
              "</tbody>\n",
              "</table>\n"
            ]
          },
          "metadata": {
            "tags": []
          }
        }
      ]
    },
    {
      "cell_type": "markdown",
      "metadata": {
        "id": "1uKA96vQTw_J"
      },
      "source": [
        "## 버스 정류장 수 ()"
      ]
    },
    {
      "cell_type": "markdown",
      "metadata": {
        "id": "Hjez8A73EKzY"
      },
      "source": [
        "## 행정동이 잘 정리되었는지 확인\n",
        "\n",
        "모든 행정동이 다 동일하다는 것을 확인할 수 있다.\n",
        "\n"
      ]
    },
    {
      "cell_type": "code",
      "metadata": {
        "colab": {
          "base_uri": "https://localhost:8080/",
          "height": 226
        },
        "id": "WtD3SwTsAC1U",
        "outputId": "30a27bff-929f-472e-ae93-9319516f4661"
      },
      "source": [
        "df <- data.frame(pop = pop$행정동, rest = rest$행정동, bicycle = bicycle$행정동, \n",
        "                  bigstore = bigstore$행정동, cvstore = cvstore$행정동, univ = univ$행정동, \n",
        "                  region = region$행정동, store = store$행정동, park = park$행정동, scooter = scooter$행정동)\n",
        "\n",
        "df"
      ],
      "execution_count": null,
      "outputs": [
        {
          "output_type": "error",
          "ename": "ERROR",
          "evalue": "ignored",
          "traceback": [
            "Error in data.frame(pop = pop$행정동, rest = rest$행정동, bicycle = bicycle$행정동, : arguments imply differing number of rows: 35, 34\nTraceback:\n",
            "1. data.frame(pop = pop$행정동, rest = rest$행정동, bicycle = bicycle$행정동, \n .     bigstore = bigstore$행정동, cvstore = cvstore$행정동, \n .     univ = univ$행정동, region = region$행정동, store = store$행정동, \n .     park = park$행정동, scooter = scooter$행정동)",
            "2. stop(gettextf(\"arguments imply differing number of rows: %s\", \n .     paste(unique(nrows), collapse = \", \")), domain = NA)"
          ]
        }
      ]
    },
    {
      "cell_type": "markdown",
      "metadata": {
        "id": "irzyYTUEEXS5"
      },
      "source": [
        "## 행정동을 기준으로 데이터 정리하기\n",
        "\n"
      ]
    },
    {
      "cell_type": "code",
      "metadata": {
        "colab": {
          "base_uri": "https://localhost:8080/",
          "height": 1000
        },
        "id": "J8h5moSxbGUW",
        "outputId": "910bd114-ebbd-40b1-b5d7-854173cc1a5d"
      },
      "source": [
        "jj <- merge(pop, rest)\n",
        "jj <- merge(jj, bicycle)\n",
        "jj <- merge(jj, bigstore)\n",
        "jj <- merge(jj, cvstore)\n",
        "jj <- merge(jj, univ)\n",
        "jj <- merge(jj, region)\n",
        "jj <- merge(jj, store)\n",
        "#jj <- cbind(jj, 상권지수)\n",
        "jj <- merge(jj, park)\n",
        "jj <- merge(jj, scooter)\n",
        "\n",
        "jj"
      ],
      "execution_count": null,
      "outputs": [
        {
          "output_type": "display_data",
          "data": {
            "text/plain": [
              "   행정동    인구  음식점수 자전거보관대수 대규모점포수 편의점수 대학교수\n",
              "1  금암1동    8824 323      253            1            25       0       \n",
              "2  금암2동   10714 119       20            0             8       0       \n",
              "3  노송동    13189 193      138            2             5       0       \n",
              "4  덕진동    21215 468      237            1            29       1       \n",
              "5  동서학동   6784  67        7            0             6       1       \n",
              "6  삼천1동   12799  97       60            0            14       0       \n",
              "7  삼천2동   14447 216       21            0             9       0       \n",
              "8  삼천3동   23323 219       62            2            13       0       \n",
              "9  서서학동   9223  54        7            0            14       0       \n",
              "10 서신동    40408 560      126            4            31       0       \n",
              "11 송천1동   59376 347       31            3            30       0       \n",
              "12 송천2동   26748 288       27            0            14       0       \n",
              "13 여의동    30208 184       60            3            22       0       \n",
              "14 완산동     5148  17        7            0            14       0       \n",
              "15 우아1동   10096 227       60            1            14       0       \n",
              "16 우아2동   15125 389      110            0            36       0       \n",
              "17 인후1동   19047 147       78            1             8       0       \n",
              "18 인후2동   12094 174       60            1             7       0       \n",
              "19 인후3동   32426 335       20            1            30       0       \n",
              "20 조촌동    12133  90       23            0             7       0       \n",
              "21 중앙동     8073 567       68            4            17       0       \n",
              "22 중화산1동 15288 227       60            1            19       2       \n",
              "23 중화산2동 20030 491      119            0            20       0       \n",
              "24 진북동    14924 145      125            0             8       0       \n",
              "25 팔복동     8300 120       31            0            10       0       \n",
              "26 평화1동   13204 108       95            0             8       0       \n",
              "27 평화2동   46295 372       46            3            21       0       \n",
              "28 풍남동     4521 488       24            2            16       0       \n",
              "29 호성동    21154 121       60            1             9       0       \n",
              "30 효자1동   11784  72       76            2            14       0       \n",
              "31 효자2동   10861 144       65            0             6       0       \n",
              "32 효자3동   15758 156       10            2             9       0       \n",
              "33 효자4동   33756 378       42            8            36       2       \n",
              "34 효자5동   37898 805       73            0            60       1       \n",
              "   면적.km 상점개수 공원수 전동킥보드이용수\n",
              "1   1.25    81      0      105             \n",
              "2   1.25    55      0       15             \n",
              "3   2.09    75      0        4             \n",
              "4   4.78   114      0       73             \n",
              "5  15.64    18      0        3             \n",
              "6   1.27    81      0       17             \n",
              "7   0.95   105      0       14             \n",
              "8  26.60    73      0       26             \n",
              "9   2.97    21      0        7             \n",
              "10  2.39   318      0       48             \n",
              "11  4.79    92      0       25             \n",
              "12 12.14    96      2       12             \n",
              "13 15.71    63      2        3             \n",
              "14  0.99    17      0        3             \n",
              "15  1.44   115      0        3             \n",
              "16 22.91    73      2        0             \n",
              "17  1.29    70      0        1             \n",
              "18  1.32    61      0        5             \n",
              "19  1.68   101      0        5             \n",
              "20 24.28    36      0       10             \n",
              "21  1.35   114      1       10             \n",
              "22  1.22    54      0       20             \n",
              "23  1.72   131      0       41             \n",
              "24  1.71    68      0        6             \n",
              "25  7.38    50      2        1             \n",
              "26  1.49    27      0       11             \n",
              "27 15.23   187      0       88             \n",
              "28  2.05   106      1        1             \n",
              "29  7.64    67      0        3             \n",
              "30  1.02    65      0       20             \n",
              "31  0.84    84      0        6             \n",
              "32  0.79    61      0       14             \n",
              "33  7.71   220      0      107             \n",
              "34  6.27     1      0       88             "
            ],
            "text/latex": "A data.frame: 34 × 11\n\\begin{tabular}{lllllllllll}\n 행정동 & 인구 & 음식점수 & 자전거보관대수 & 대규모점포수 & 편의점수 & 대학교수 & 면적.km & 상점개수 & 공원수 & 전동킥보드이용수\\\\\n <chr> & <int> & <int> & <int> & <dbl> & <int> & <dbl> & <dbl> & <int> & <dbl> & <int>\\\\\n\\hline\n\t 금암1동   &  8824 & 323 & 253 & 1 & 25 & 0 &  1.25 &  81 & 0 & 105\\\\\n\t 금암2동   & 10714 & 119 &  20 & 0 &  8 & 0 &  1.25 &  55 & 0 &  15\\\\\n\t 노송동    & 13189 & 193 & 138 & 2 &  5 & 0 &  2.09 &  75 & 0 &   4\\\\\n\t 덕진동    & 21215 & 468 & 237 & 1 & 29 & 1 &  4.78 & 114 & 0 &  73\\\\\n\t 동서학동  &  6784 &  67 &   7 & 0 &  6 & 1 & 15.64 &  18 & 0 &   3\\\\\n\t 삼천1동   & 12799 &  97 &  60 & 0 & 14 & 0 &  1.27 &  81 & 0 &  17\\\\\n\t 삼천2동   & 14447 & 216 &  21 & 0 &  9 & 0 &  0.95 & 105 & 0 &  14\\\\\n\t 삼천3동   & 23323 & 219 &  62 & 2 & 13 & 0 & 26.60 &  73 & 0 &  26\\\\\n\t 서서학동  &  9223 &  54 &   7 & 0 & 14 & 0 &  2.97 &  21 & 0 &   7\\\\\n\t 서신동    & 40408 & 560 & 126 & 4 & 31 & 0 &  2.39 & 318 & 0 &  48\\\\\n\t 송천1동   & 59376 & 347 &  31 & 3 & 30 & 0 &  4.79 &  92 & 0 &  25\\\\\n\t 송천2동   & 26748 & 288 &  27 & 0 & 14 & 0 & 12.14 &  96 & 2 &  12\\\\\n\t 여의동    & 30208 & 184 &  60 & 3 & 22 & 0 & 15.71 &  63 & 2 &   3\\\\\n\t 완산동    &  5148 &  17 &   7 & 0 & 14 & 0 &  0.99 &  17 & 0 &   3\\\\\n\t 우아1동   & 10096 & 227 &  60 & 1 & 14 & 0 &  1.44 & 115 & 0 &   3\\\\\n\t 우아2동   & 15125 & 389 & 110 & 0 & 36 & 0 & 22.91 &  73 & 2 &   0\\\\\n\t 인후1동   & 19047 & 147 &  78 & 1 &  8 & 0 &  1.29 &  70 & 0 &   1\\\\\n\t 인후2동   & 12094 & 174 &  60 & 1 &  7 & 0 &  1.32 &  61 & 0 &   5\\\\\n\t 인후3동   & 32426 & 335 &  20 & 1 & 30 & 0 &  1.68 & 101 & 0 &   5\\\\\n\t 조촌동    & 12133 &  90 &  23 & 0 &  7 & 0 & 24.28 &  36 & 0 &  10\\\\\n\t 중앙동    &  8073 & 567 &  68 & 4 & 17 & 0 &  1.35 & 114 & 1 &  10\\\\\n\t 중화산1동 & 15288 & 227 &  60 & 1 & 19 & 2 &  1.22 &  54 & 0 &  20\\\\\n\t 중화산2동 & 20030 & 491 & 119 & 0 & 20 & 0 &  1.72 & 131 & 0 &  41\\\\\n\t 진북동    & 14924 & 145 & 125 & 0 &  8 & 0 &  1.71 &  68 & 0 &   6\\\\\n\t 팔복동    &  8300 & 120 &  31 & 0 & 10 & 0 &  7.38 &  50 & 2 &   1\\\\\n\t 평화1동   & 13204 & 108 &  95 & 0 &  8 & 0 &  1.49 &  27 & 0 &  11\\\\\n\t 평화2동   & 46295 & 372 &  46 & 3 & 21 & 0 & 15.23 & 187 & 0 &  88\\\\\n\t 풍남동    &  4521 & 488 &  24 & 2 & 16 & 0 &  2.05 & 106 & 1 &   1\\\\\n\t 호성동    & 21154 & 121 &  60 & 1 &  9 & 0 &  7.64 &  67 & 0 &   3\\\\\n\t 효자1동   & 11784 &  72 &  76 & 2 & 14 & 0 &  1.02 &  65 & 0 &  20\\\\\n\t 효자2동   & 10861 & 144 &  65 & 0 &  6 & 0 &  0.84 &  84 & 0 &   6\\\\\n\t 효자3동   & 15758 & 156 &  10 & 2 &  9 & 0 &  0.79 &  61 & 0 &  14\\\\\n\t 효자4동   & 33756 & 378 &  42 & 8 & 36 & 2 &  7.71 & 220 & 0 & 107\\\\\n\t 효자5동   & 37898 & 805 &  73 & 0 & 60 & 1 &  6.27 &   1 & 0 &  88\\\\\n\\end{tabular}\n",
            "text/markdown": "\nA data.frame: 34 × 11\n\n| 행정동 &lt;chr&gt; | 인구 &lt;int&gt; | 음식점수 &lt;int&gt; | 자전거보관대수 &lt;int&gt; | 대규모점포수 &lt;dbl&gt; | 편의점수 &lt;int&gt; | 대학교수 &lt;dbl&gt; | 면적.km &lt;dbl&gt; | 상점개수 &lt;int&gt; | 공원수 &lt;dbl&gt; | 전동킥보드이용수 &lt;int&gt; |\n|---|---|---|---|---|---|---|---|---|---|---|\n| 금암1동   |  8824 | 323 | 253 | 1 | 25 | 0 |  1.25 |  81 | 0 | 105 |\n| 금암2동   | 10714 | 119 |  20 | 0 |  8 | 0 |  1.25 |  55 | 0 |  15 |\n| 노송동    | 13189 | 193 | 138 | 2 |  5 | 0 |  2.09 |  75 | 0 |   4 |\n| 덕진동    | 21215 | 468 | 237 | 1 | 29 | 1 |  4.78 | 114 | 0 |  73 |\n| 동서학동  |  6784 |  67 |   7 | 0 |  6 | 1 | 15.64 |  18 | 0 |   3 |\n| 삼천1동   | 12799 |  97 |  60 | 0 | 14 | 0 |  1.27 |  81 | 0 |  17 |\n| 삼천2동   | 14447 | 216 |  21 | 0 |  9 | 0 |  0.95 | 105 | 0 |  14 |\n| 삼천3동   | 23323 | 219 |  62 | 2 | 13 | 0 | 26.60 |  73 | 0 |  26 |\n| 서서학동  |  9223 |  54 |   7 | 0 | 14 | 0 |  2.97 |  21 | 0 |   7 |\n| 서신동    | 40408 | 560 | 126 | 4 | 31 | 0 |  2.39 | 318 | 0 |  48 |\n| 송천1동   | 59376 | 347 |  31 | 3 | 30 | 0 |  4.79 |  92 | 0 |  25 |\n| 송천2동   | 26748 | 288 |  27 | 0 | 14 | 0 | 12.14 |  96 | 2 |  12 |\n| 여의동    | 30208 | 184 |  60 | 3 | 22 | 0 | 15.71 |  63 | 2 |   3 |\n| 완산동    |  5148 |  17 |   7 | 0 | 14 | 0 |  0.99 |  17 | 0 |   3 |\n| 우아1동   | 10096 | 227 |  60 | 1 | 14 | 0 |  1.44 | 115 | 0 |   3 |\n| 우아2동   | 15125 | 389 | 110 | 0 | 36 | 0 | 22.91 |  73 | 2 |   0 |\n| 인후1동   | 19047 | 147 |  78 | 1 |  8 | 0 |  1.29 |  70 | 0 |   1 |\n| 인후2동   | 12094 | 174 |  60 | 1 |  7 | 0 |  1.32 |  61 | 0 |   5 |\n| 인후3동   | 32426 | 335 |  20 | 1 | 30 | 0 |  1.68 | 101 | 0 |   5 |\n| 조촌동    | 12133 |  90 |  23 | 0 |  7 | 0 | 24.28 |  36 | 0 |  10 |\n| 중앙동    |  8073 | 567 |  68 | 4 | 17 | 0 |  1.35 | 114 | 1 |  10 |\n| 중화산1동 | 15288 | 227 |  60 | 1 | 19 | 2 |  1.22 |  54 | 0 |  20 |\n| 중화산2동 | 20030 | 491 | 119 | 0 | 20 | 0 |  1.72 | 131 | 0 |  41 |\n| 진북동    | 14924 | 145 | 125 | 0 |  8 | 0 |  1.71 |  68 | 0 |   6 |\n| 팔복동    |  8300 | 120 |  31 | 0 | 10 | 0 |  7.38 |  50 | 2 |   1 |\n| 평화1동   | 13204 | 108 |  95 | 0 |  8 | 0 |  1.49 |  27 | 0 |  11 |\n| 평화2동   | 46295 | 372 |  46 | 3 | 21 | 0 | 15.23 | 187 | 0 |  88 |\n| 풍남동    |  4521 | 488 |  24 | 2 | 16 | 0 |  2.05 | 106 | 1 |   1 |\n| 호성동    | 21154 | 121 |  60 | 1 |  9 | 0 |  7.64 |  67 | 0 |   3 |\n| 효자1동   | 11784 |  72 |  76 | 2 | 14 | 0 |  1.02 |  65 | 0 |  20 |\n| 효자2동   | 10861 | 144 |  65 | 0 |  6 | 0 |  0.84 |  84 | 0 |   6 |\n| 효자3동   | 15758 | 156 |  10 | 2 |  9 | 0 |  0.79 |  61 | 0 |  14 |\n| 효자4동   | 33756 | 378 |  42 | 8 | 36 | 2 |  7.71 | 220 | 0 | 107 |\n| 효자5동   | 37898 | 805 |  73 | 0 | 60 | 1 |  6.27 |   1 | 0 |  88 |\n\n",
            "text/html": [
              "<table class=\"dataframe\">\n",
              "<caption>A data.frame: 34 × 11</caption>\n",
              "<thead>\n",
              "\t<tr><th scope=col>행정동</th><th scope=col>인구</th><th scope=col>음식점수</th><th scope=col>자전거보관대수</th><th scope=col>대규모점포수</th><th scope=col>편의점수</th><th scope=col>대학교수</th><th scope=col>면적.km</th><th scope=col>상점개수</th><th scope=col>공원수</th><th scope=col>전동킥보드이용수</th></tr>\n",
              "\t<tr><th scope=col>&lt;chr&gt;</th><th scope=col>&lt;int&gt;</th><th scope=col>&lt;int&gt;</th><th scope=col>&lt;int&gt;</th><th scope=col>&lt;dbl&gt;</th><th scope=col>&lt;int&gt;</th><th scope=col>&lt;dbl&gt;</th><th scope=col>&lt;dbl&gt;</th><th scope=col>&lt;int&gt;</th><th scope=col>&lt;dbl&gt;</th><th scope=col>&lt;int&gt;</th></tr>\n",
              "</thead>\n",
              "<tbody>\n",
              "\t<tr><td>금암1동  </td><td> 8824</td><td>323</td><td>253</td><td>1</td><td>25</td><td>0</td><td> 1.25</td><td> 81</td><td>0</td><td>105</td></tr>\n",
              "\t<tr><td>금암2동  </td><td>10714</td><td>119</td><td> 20</td><td>0</td><td> 8</td><td>0</td><td> 1.25</td><td> 55</td><td>0</td><td> 15</td></tr>\n",
              "\t<tr><td>노송동   </td><td>13189</td><td>193</td><td>138</td><td>2</td><td> 5</td><td>0</td><td> 2.09</td><td> 75</td><td>0</td><td>  4</td></tr>\n",
              "\t<tr><td>덕진동   </td><td>21215</td><td>468</td><td>237</td><td>1</td><td>29</td><td>1</td><td> 4.78</td><td>114</td><td>0</td><td> 73</td></tr>\n",
              "\t<tr><td>동서학동 </td><td> 6784</td><td> 67</td><td>  7</td><td>0</td><td> 6</td><td>1</td><td>15.64</td><td> 18</td><td>0</td><td>  3</td></tr>\n",
              "\t<tr><td>삼천1동  </td><td>12799</td><td> 97</td><td> 60</td><td>0</td><td>14</td><td>0</td><td> 1.27</td><td> 81</td><td>0</td><td> 17</td></tr>\n",
              "\t<tr><td>삼천2동  </td><td>14447</td><td>216</td><td> 21</td><td>0</td><td> 9</td><td>0</td><td> 0.95</td><td>105</td><td>0</td><td> 14</td></tr>\n",
              "\t<tr><td>삼천3동  </td><td>23323</td><td>219</td><td> 62</td><td>2</td><td>13</td><td>0</td><td>26.60</td><td> 73</td><td>0</td><td> 26</td></tr>\n",
              "\t<tr><td>서서학동 </td><td> 9223</td><td> 54</td><td>  7</td><td>0</td><td>14</td><td>0</td><td> 2.97</td><td> 21</td><td>0</td><td>  7</td></tr>\n",
              "\t<tr><td>서신동   </td><td>40408</td><td>560</td><td>126</td><td>4</td><td>31</td><td>0</td><td> 2.39</td><td>318</td><td>0</td><td> 48</td></tr>\n",
              "\t<tr><td>송천1동  </td><td>59376</td><td>347</td><td> 31</td><td>3</td><td>30</td><td>0</td><td> 4.79</td><td> 92</td><td>0</td><td> 25</td></tr>\n",
              "\t<tr><td>송천2동  </td><td>26748</td><td>288</td><td> 27</td><td>0</td><td>14</td><td>0</td><td>12.14</td><td> 96</td><td>2</td><td> 12</td></tr>\n",
              "\t<tr><td>여의동   </td><td>30208</td><td>184</td><td> 60</td><td>3</td><td>22</td><td>0</td><td>15.71</td><td> 63</td><td>2</td><td>  3</td></tr>\n",
              "\t<tr><td>완산동   </td><td> 5148</td><td> 17</td><td>  7</td><td>0</td><td>14</td><td>0</td><td> 0.99</td><td> 17</td><td>0</td><td>  3</td></tr>\n",
              "\t<tr><td>우아1동  </td><td>10096</td><td>227</td><td> 60</td><td>1</td><td>14</td><td>0</td><td> 1.44</td><td>115</td><td>0</td><td>  3</td></tr>\n",
              "\t<tr><td>우아2동  </td><td>15125</td><td>389</td><td>110</td><td>0</td><td>36</td><td>0</td><td>22.91</td><td> 73</td><td>2</td><td>  0</td></tr>\n",
              "\t<tr><td>인후1동  </td><td>19047</td><td>147</td><td> 78</td><td>1</td><td> 8</td><td>0</td><td> 1.29</td><td> 70</td><td>0</td><td>  1</td></tr>\n",
              "\t<tr><td>인후2동  </td><td>12094</td><td>174</td><td> 60</td><td>1</td><td> 7</td><td>0</td><td> 1.32</td><td> 61</td><td>0</td><td>  5</td></tr>\n",
              "\t<tr><td>인후3동  </td><td>32426</td><td>335</td><td> 20</td><td>1</td><td>30</td><td>0</td><td> 1.68</td><td>101</td><td>0</td><td>  5</td></tr>\n",
              "\t<tr><td>조촌동   </td><td>12133</td><td> 90</td><td> 23</td><td>0</td><td> 7</td><td>0</td><td>24.28</td><td> 36</td><td>0</td><td> 10</td></tr>\n",
              "\t<tr><td>중앙동   </td><td> 8073</td><td>567</td><td> 68</td><td>4</td><td>17</td><td>0</td><td> 1.35</td><td>114</td><td>1</td><td> 10</td></tr>\n",
              "\t<tr><td>중화산1동</td><td>15288</td><td>227</td><td> 60</td><td>1</td><td>19</td><td>2</td><td> 1.22</td><td> 54</td><td>0</td><td> 20</td></tr>\n",
              "\t<tr><td>중화산2동</td><td>20030</td><td>491</td><td>119</td><td>0</td><td>20</td><td>0</td><td> 1.72</td><td>131</td><td>0</td><td> 41</td></tr>\n",
              "\t<tr><td>진북동   </td><td>14924</td><td>145</td><td>125</td><td>0</td><td> 8</td><td>0</td><td> 1.71</td><td> 68</td><td>0</td><td>  6</td></tr>\n",
              "\t<tr><td>팔복동   </td><td> 8300</td><td>120</td><td> 31</td><td>0</td><td>10</td><td>0</td><td> 7.38</td><td> 50</td><td>2</td><td>  1</td></tr>\n",
              "\t<tr><td>평화1동  </td><td>13204</td><td>108</td><td> 95</td><td>0</td><td> 8</td><td>0</td><td> 1.49</td><td> 27</td><td>0</td><td> 11</td></tr>\n",
              "\t<tr><td>평화2동  </td><td>46295</td><td>372</td><td> 46</td><td>3</td><td>21</td><td>0</td><td>15.23</td><td>187</td><td>0</td><td> 88</td></tr>\n",
              "\t<tr><td>풍남동   </td><td> 4521</td><td>488</td><td> 24</td><td>2</td><td>16</td><td>0</td><td> 2.05</td><td>106</td><td>1</td><td>  1</td></tr>\n",
              "\t<tr><td>호성동   </td><td>21154</td><td>121</td><td> 60</td><td>1</td><td> 9</td><td>0</td><td> 7.64</td><td> 67</td><td>0</td><td>  3</td></tr>\n",
              "\t<tr><td>효자1동  </td><td>11784</td><td> 72</td><td> 76</td><td>2</td><td>14</td><td>0</td><td> 1.02</td><td> 65</td><td>0</td><td> 20</td></tr>\n",
              "\t<tr><td>효자2동  </td><td>10861</td><td>144</td><td> 65</td><td>0</td><td> 6</td><td>0</td><td> 0.84</td><td> 84</td><td>0</td><td>  6</td></tr>\n",
              "\t<tr><td>효자3동  </td><td>15758</td><td>156</td><td> 10</td><td>2</td><td> 9</td><td>0</td><td> 0.79</td><td> 61</td><td>0</td><td> 14</td></tr>\n",
              "\t<tr><td>효자4동  </td><td>33756</td><td>378</td><td> 42</td><td>8</td><td>36</td><td>2</td><td> 7.71</td><td>220</td><td>0</td><td>107</td></tr>\n",
              "\t<tr><td>효자5동  </td><td>37898</td><td>805</td><td> 73</td><td>0</td><td>60</td><td>1</td><td> 6.27</td><td>  1</td><td>0</td><td> 88</td></tr>\n",
              "</tbody>\n",
              "</table>\n"
            ]
          },
          "metadata": {
            "tags": []
          }
        }
      ]
    },
    {
      "cell_type": "markdown",
      "metadata": {
        "id": "1zBPcz7mEib5"
      },
      "source": [
        "▼ '행정동'은 수치형이 아니라서 분석 불가능하므로 제외"
      ]
    },
    {
      "cell_type": "code",
      "metadata": {
        "colab": {
          "base_uri": "https://localhost:8080/",
          "height": 1000
        },
        "id": "QK_glJhLAUSU",
        "outputId": "d8c069a5-8b71-4967-cd44-bc6b0dc00f78"
      },
      "source": [
        "jj <- jj[,-1]\n",
        "jj"
      ],
      "execution_count": null,
      "outputs": [
        {
          "output_type": "display_data",
          "data": {
            "text/plain": [
              "   인구  음식점수 자전거보관대수 대규모점포수 편의점수 대학교수 면적.km\n",
              "1   8824 323      253            1            25       0         1.25  \n",
              "2  10714 119       20            0             8       0         1.25  \n",
              "3  13189 193      138            2             5       0         2.09  \n",
              "4  21215 468      237            1            29       1         4.78  \n",
              "5   6784  67        7            0             6       1        15.64  \n",
              "6  12799  97       60            0            14       0         1.27  \n",
              "7  14447 216       21            0             9       0         0.95  \n",
              "8  23323 219       62            2            13       0        26.60  \n",
              "9   9223  54        7            0            14       0         2.97  \n",
              "10 40408 560      126            4            31       0         2.39  \n",
              "11 59376 347       31            3            30       0         4.79  \n",
              "12 26748 288       27            0            14       0        12.14  \n",
              "13 30208 184       60            3            22       0        15.71  \n",
              "14  5148  17        7            0            14       0         0.99  \n",
              "15 10096 227       60            1            14       0         1.44  \n",
              "16 15125 389      110            0            36       0        22.91  \n",
              "17 19047 147       78            1             8       0         1.29  \n",
              "18 12094 174       60            1             7       0         1.32  \n",
              "19 32426 335       20            1            30       0         1.68  \n",
              "20 12133  90       23            0             7       0        24.28  \n",
              "21  8073 567       68            4            17       0         1.35  \n",
              "22 15288 227       60            1            19       2         1.22  \n",
              "23 20030 491      119            0            20       0         1.72  \n",
              "24 14924 145      125            0             8       0         1.71  \n",
              "25  8300 120       31            0            10       0         7.38  \n",
              "26 13204 108       95            0             8       0         1.49  \n",
              "27 46295 372       46            3            21       0        15.23  \n",
              "28  4521 488       24            2            16       0         2.05  \n",
              "29 21154 121       60            1             9       0         7.64  \n",
              "30 11784  72       76            2            14       0         1.02  \n",
              "31 10861 144       65            0             6       0         0.84  \n",
              "32 15758 156       10            2             9       0         0.79  \n",
              "33 33756 378       42            8            36       2         7.71  \n",
              "34 37898 805       73            0            60       1         6.27  \n",
              "   상점개수 공원수 전동킥보드이용수\n",
              "1   81      0      105             \n",
              "2   55      0       15             \n",
              "3   75      0        4             \n",
              "4  114      0       73             \n",
              "5   18      0        3             \n",
              "6   81      0       17             \n",
              "7  105      0       14             \n",
              "8   73      0       26             \n",
              "9   21      0        7             \n",
              "10 318      0       48             \n",
              "11  92      0       25             \n",
              "12  96      2       12             \n",
              "13  63      2        3             \n",
              "14  17      0        3             \n",
              "15 115      0        3             \n",
              "16  73      2        0             \n",
              "17  70      0        1             \n",
              "18  61      0        5             \n",
              "19 101      0        5             \n",
              "20  36      0       10             \n",
              "21 114      1       10             \n",
              "22  54      0       20             \n",
              "23 131      0       41             \n",
              "24  68      0        6             \n",
              "25  50      2        1             \n",
              "26  27      0       11             \n",
              "27 187      0       88             \n",
              "28 106      1        1             \n",
              "29  67      0        3             \n",
              "30  65      0       20             \n",
              "31  84      0        6             \n",
              "32  61      0       14             \n",
              "33 220      0      107             \n",
              "34   1      0       88             "
            ],
            "text/latex": "A data.frame: 34 × 10\n\\begin{tabular}{llllllllll}\n 인구 & 음식점수 & 자전거보관대수 & 대규모점포수 & 편의점수 & 대학교수 & 면적.km & 상점개수 & 공원수 & 전동킥보드이용수\\\\\n <int> & <int> & <int> & <dbl> & <int> & <dbl> & <dbl> & <int> & <dbl> & <int>\\\\\n\\hline\n\t  8824 & 323 & 253 & 1 & 25 & 0 &  1.25 &  81 & 0 & 105\\\\\n\t 10714 & 119 &  20 & 0 &  8 & 0 &  1.25 &  55 & 0 &  15\\\\\n\t 13189 & 193 & 138 & 2 &  5 & 0 &  2.09 &  75 & 0 &   4\\\\\n\t 21215 & 468 & 237 & 1 & 29 & 1 &  4.78 & 114 & 0 &  73\\\\\n\t  6784 &  67 &   7 & 0 &  6 & 1 & 15.64 &  18 & 0 &   3\\\\\n\t 12799 &  97 &  60 & 0 & 14 & 0 &  1.27 &  81 & 0 &  17\\\\\n\t 14447 & 216 &  21 & 0 &  9 & 0 &  0.95 & 105 & 0 &  14\\\\\n\t 23323 & 219 &  62 & 2 & 13 & 0 & 26.60 &  73 & 0 &  26\\\\\n\t  9223 &  54 &   7 & 0 & 14 & 0 &  2.97 &  21 & 0 &   7\\\\\n\t 40408 & 560 & 126 & 4 & 31 & 0 &  2.39 & 318 & 0 &  48\\\\\n\t 59376 & 347 &  31 & 3 & 30 & 0 &  4.79 &  92 & 0 &  25\\\\\n\t 26748 & 288 &  27 & 0 & 14 & 0 & 12.14 &  96 & 2 &  12\\\\\n\t 30208 & 184 &  60 & 3 & 22 & 0 & 15.71 &  63 & 2 &   3\\\\\n\t  5148 &  17 &   7 & 0 & 14 & 0 &  0.99 &  17 & 0 &   3\\\\\n\t 10096 & 227 &  60 & 1 & 14 & 0 &  1.44 & 115 & 0 &   3\\\\\n\t 15125 & 389 & 110 & 0 & 36 & 0 & 22.91 &  73 & 2 &   0\\\\\n\t 19047 & 147 &  78 & 1 &  8 & 0 &  1.29 &  70 & 0 &   1\\\\\n\t 12094 & 174 &  60 & 1 &  7 & 0 &  1.32 &  61 & 0 &   5\\\\\n\t 32426 & 335 &  20 & 1 & 30 & 0 &  1.68 & 101 & 0 &   5\\\\\n\t 12133 &  90 &  23 & 0 &  7 & 0 & 24.28 &  36 & 0 &  10\\\\\n\t  8073 & 567 &  68 & 4 & 17 & 0 &  1.35 & 114 & 1 &  10\\\\\n\t 15288 & 227 &  60 & 1 & 19 & 2 &  1.22 &  54 & 0 &  20\\\\\n\t 20030 & 491 & 119 & 0 & 20 & 0 &  1.72 & 131 & 0 &  41\\\\\n\t 14924 & 145 & 125 & 0 &  8 & 0 &  1.71 &  68 & 0 &   6\\\\\n\t  8300 & 120 &  31 & 0 & 10 & 0 &  7.38 &  50 & 2 &   1\\\\\n\t 13204 & 108 &  95 & 0 &  8 & 0 &  1.49 &  27 & 0 &  11\\\\\n\t 46295 & 372 &  46 & 3 & 21 & 0 & 15.23 & 187 & 0 &  88\\\\\n\t  4521 & 488 &  24 & 2 & 16 & 0 &  2.05 & 106 & 1 &   1\\\\\n\t 21154 & 121 &  60 & 1 &  9 & 0 &  7.64 &  67 & 0 &   3\\\\\n\t 11784 &  72 &  76 & 2 & 14 & 0 &  1.02 &  65 & 0 &  20\\\\\n\t 10861 & 144 &  65 & 0 &  6 & 0 &  0.84 &  84 & 0 &   6\\\\\n\t 15758 & 156 &  10 & 2 &  9 & 0 &  0.79 &  61 & 0 &  14\\\\\n\t 33756 & 378 &  42 & 8 & 36 & 2 &  7.71 & 220 & 0 & 107\\\\\n\t 37898 & 805 &  73 & 0 & 60 & 1 &  6.27 &   1 & 0 &  88\\\\\n\\end{tabular}\n",
            "text/markdown": "\nA data.frame: 34 × 10\n\n| 인구 &lt;int&gt; | 음식점수 &lt;int&gt; | 자전거보관대수 &lt;int&gt; | 대규모점포수 &lt;dbl&gt; | 편의점수 &lt;int&gt; | 대학교수 &lt;dbl&gt; | 면적.km &lt;dbl&gt; | 상점개수 &lt;int&gt; | 공원수 &lt;dbl&gt; | 전동킥보드이용수 &lt;int&gt; |\n|---|---|---|---|---|---|---|---|---|---|\n|  8824 | 323 | 253 | 1 | 25 | 0 |  1.25 |  81 | 0 | 105 |\n| 10714 | 119 |  20 | 0 |  8 | 0 |  1.25 |  55 | 0 |  15 |\n| 13189 | 193 | 138 | 2 |  5 | 0 |  2.09 |  75 | 0 |   4 |\n| 21215 | 468 | 237 | 1 | 29 | 1 |  4.78 | 114 | 0 |  73 |\n|  6784 |  67 |   7 | 0 |  6 | 1 | 15.64 |  18 | 0 |   3 |\n| 12799 |  97 |  60 | 0 | 14 | 0 |  1.27 |  81 | 0 |  17 |\n| 14447 | 216 |  21 | 0 |  9 | 0 |  0.95 | 105 | 0 |  14 |\n| 23323 | 219 |  62 | 2 | 13 | 0 | 26.60 |  73 | 0 |  26 |\n|  9223 |  54 |   7 | 0 | 14 | 0 |  2.97 |  21 | 0 |   7 |\n| 40408 | 560 | 126 | 4 | 31 | 0 |  2.39 | 318 | 0 |  48 |\n| 59376 | 347 |  31 | 3 | 30 | 0 |  4.79 |  92 | 0 |  25 |\n| 26748 | 288 |  27 | 0 | 14 | 0 | 12.14 |  96 | 2 |  12 |\n| 30208 | 184 |  60 | 3 | 22 | 0 | 15.71 |  63 | 2 |   3 |\n|  5148 |  17 |   7 | 0 | 14 | 0 |  0.99 |  17 | 0 |   3 |\n| 10096 | 227 |  60 | 1 | 14 | 0 |  1.44 | 115 | 0 |   3 |\n| 15125 | 389 | 110 | 0 | 36 | 0 | 22.91 |  73 | 2 |   0 |\n| 19047 | 147 |  78 | 1 |  8 | 0 |  1.29 |  70 | 0 |   1 |\n| 12094 | 174 |  60 | 1 |  7 | 0 |  1.32 |  61 | 0 |   5 |\n| 32426 | 335 |  20 | 1 | 30 | 0 |  1.68 | 101 | 0 |   5 |\n| 12133 |  90 |  23 | 0 |  7 | 0 | 24.28 |  36 | 0 |  10 |\n|  8073 | 567 |  68 | 4 | 17 | 0 |  1.35 | 114 | 1 |  10 |\n| 15288 | 227 |  60 | 1 | 19 | 2 |  1.22 |  54 | 0 |  20 |\n| 20030 | 491 | 119 | 0 | 20 | 0 |  1.72 | 131 | 0 |  41 |\n| 14924 | 145 | 125 | 0 |  8 | 0 |  1.71 |  68 | 0 |   6 |\n|  8300 | 120 |  31 | 0 | 10 | 0 |  7.38 |  50 | 2 |   1 |\n| 13204 | 108 |  95 | 0 |  8 | 0 |  1.49 |  27 | 0 |  11 |\n| 46295 | 372 |  46 | 3 | 21 | 0 | 15.23 | 187 | 0 |  88 |\n|  4521 | 488 |  24 | 2 | 16 | 0 |  2.05 | 106 | 1 |   1 |\n| 21154 | 121 |  60 | 1 |  9 | 0 |  7.64 |  67 | 0 |   3 |\n| 11784 |  72 |  76 | 2 | 14 | 0 |  1.02 |  65 | 0 |  20 |\n| 10861 | 144 |  65 | 0 |  6 | 0 |  0.84 |  84 | 0 |   6 |\n| 15758 | 156 |  10 | 2 |  9 | 0 |  0.79 |  61 | 0 |  14 |\n| 33756 | 378 |  42 | 8 | 36 | 2 |  7.71 | 220 | 0 | 107 |\n| 37898 | 805 |  73 | 0 | 60 | 1 |  6.27 |   1 | 0 |  88 |\n\n",
            "text/html": [
              "<table class=\"dataframe\">\n",
              "<caption>A data.frame: 34 × 10</caption>\n",
              "<thead>\n",
              "\t<tr><th scope=col>인구</th><th scope=col>음식점수</th><th scope=col>자전거보관대수</th><th scope=col>대규모점포수</th><th scope=col>편의점수</th><th scope=col>대학교수</th><th scope=col>면적.km</th><th scope=col>상점개수</th><th scope=col>공원수</th><th scope=col>전동킥보드이용수</th></tr>\n",
              "\t<tr><th scope=col>&lt;int&gt;</th><th scope=col>&lt;int&gt;</th><th scope=col>&lt;int&gt;</th><th scope=col>&lt;dbl&gt;</th><th scope=col>&lt;int&gt;</th><th scope=col>&lt;dbl&gt;</th><th scope=col>&lt;dbl&gt;</th><th scope=col>&lt;int&gt;</th><th scope=col>&lt;dbl&gt;</th><th scope=col>&lt;int&gt;</th></tr>\n",
              "</thead>\n",
              "<tbody>\n",
              "\t<tr><td> 8824</td><td>323</td><td>253</td><td>1</td><td>25</td><td>0</td><td> 1.25</td><td> 81</td><td>0</td><td>105</td></tr>\n",
              "\t<tr><td>10714</td><td>119</td><td> 20</td><td>0</td><td> 8</td><td>0</td><td> 1.25</td><td> 55</td><td>0</td><td> 15</td></tr>\n",
              "\t<tr><td>13189</td><td>193</td><td>138</td><td>2</td><td> 5</td><td>0</td><td> 2.09</td><td> 75</td><td>0</td><td>  4</td></tr>\n",
              "\t<tr><td>21215</td><td>468</td><td>237</td><td>1</td><td>29</td><td>1</td><td> 4.78</td><td>114</td><td>0</td><td> 73</td></tr>\n",
              "\t<tr><td> 6784</td><td> 67</td><td>  7</td><td>0</td><td> 6</td><td>1</td><td>15.64</td><td> 18</td><td>0</td><td>  3</td></tr>\n",
              "\t<tr><td>12799</td><td> 97</td><td> 60</td><td>0</td><td>14</td><td>0</td><td> 1.27</td><td> 81</td><td>0</td><td> 17</td></tr>\n",
              "\t<tr><td>14447</td><td>216</td><td> 21</td><td>0</td><td> 9</td><td>0</td><td> 0.95</td><td>105</td><td>0</td><td> 14</td></tr>\n",
              "\t<tr><td>23323</td><td>219</td><td> 62</td><td>2</td><td>13</td><td>0</td><td>26.60</td><td> 73</td><td>0</td><td> 26</td></tr>\n",
              "\t<tr><td> 9223</td><td> 54</td><td>  7</td><td>0</td><td>14</td><td>0</td><td> 2.97</td><td> 21</td><td>0</td><td>  7</td></tr>\n",
              "\t<tr><td>40408</td><td>560</td><td>126</td><td>4</td><td>31</td><td>0</td><td> 2.39</td><td>318</td><td>0</td><td> 48</td></tr>\n",
              "\t<tr><td>59376</td><td>347</td><td> 31</td><td>3</td><td>30</td><td>0</td><td> 4.79</td><td> 92</td><td>0</td><td> 25</td></tr>\n",
              "\t<tr><td>26748</td><td>288</td><td> 27</td><td>0</td><td>14</td><td>0</td><td>12.14</td><td> 96</td><td>2</td><td> 12</td></tr>\n",
              "\t<tr><td>30208</td><td>184</td><td> 60</td><td>3</td><td>22</td><td>0</td><td>15.71</td><td> 63</td><td>2</td><td>  3</td></tr>\n",
              "\t<tr><td> 5148</td><td> 17</td><td>  7</td><td>0</td><td>14</td><td>0</td><td> 0.99</td><td> 17</td><td>0</td><td>  3</td></tr>\n",
              "\t<tr><td>10096</td><td>227</td><td> 60</td><td>1</td><td>14</td><td>0</td><td> 1.44</td><td>115</td><td>0</td><td>  3</td></tr>\n",
              "\t<tr><td>15125</td><td>389</td><td>110</td><td>0</td><td>36</td><td>0</td><td>22.91</td><td> 73</td><td>2</td><td>  0</td></tr>\n",
              "\t<tr><td>19047</td><td>147</td><td> 78</td><td>1</td><td> 8</td><td>0</td><td> 1.29</td><td> 70</td><td>0</td><td>  1</td></tr>\n",
              "\t<tr><td>12094</td><td>174</td><td> 60</td><td>1</td><td> 7</td><td>0</td><td> 1.32</td><td> 61</td><td>0</td><td>  5</td></tr>\n",
              "\t<tr><td>32426</td><td>335</td><td> 20</td><td>1</td><td>30</td><td>0</td><td> 1.68</td><td>101</td><td>0</td><td>  5</td></tr>\n",
              "\t<tr><td>12133</td><td> 90</td><td> 23</td><td>0</td><td> 7</td><td>0</td><td>24.28</td><td> 36</td><td>0</td><td> 10</td></tr>\n",
              "\t<tr><td> 8073</td><td>567</td><td> 68</td><td>4</td><td>17</td><td>0</td><td> 1.35</td><td>114</td><td>1</td><td> 10</td></tr>\n",
              "\t<tr><td>15288</td><td>227</td><td> 60</td><td>1</td><td>19</td><td>2</td><td> 1.22</td><td> 54</td><td>0</td><td> 20</td></tr>\n",
              "\t<tr><td>20030</td><td>491</td><td>119</td><td>0</td><td>20</td><td>0</td><td> 1.72</td><td>131</td><td>0</td><td> 41</td></tr>\n",
              "\t<tr><td>14924</td><td>145</td><td>125</td><td>0</td><td> 8</td><td>0</td><td> 1.71</td><td> 68</td><td>0</td><td>  6</td></tr>\n",
              "\t<tr><td> 8300</td><td>120</td><td> 31</td><td>0</td><td>10</td><td>0</td><td> 7.38</td><td> 50</td><td>2</td><td>  1</td></tr>\n",
              "\t<tr><td>13204</td><td>108</td><td> 95</td><td>0</td><td> 8</td><td>0</td><td> 1.49</td><td> 27</td><td>0</td><td> 11</td></tr>\n",
              "\t<tr><td>46295</td><td>372</td><td> 46</td><td>3</td><td>21</td><td>0</td><td>15.23</td><td>187</td><td>0</td><td> 88</td></tr>\n",
              "\t<tr><td> 4521</td><td>488</td><td> 24</td><td>2</td><td>16</td><td>0</td><td> 2.05</td><td>106</td><td>1</td><td>  1</td></tr>\n",
              "\t<tr><td>21154</td><td>121</td><td> 60</td><td>1</td><td> 9</td><td>0</td><td> 7.64</td><td> 67</td><td>0</td><td>  3</td></tr>\n",
              "\t<tr><td>11784</td><td> 72</td><td> 76</td><td>2</td><td>14</td><td>0</td><td> 1.02</td><td> 65</td><td>0</td><td> 20</td></tr>\n",
              "\t<tr><td>10861</td><td>144</td><td> 65</td><td>0</td><td> 6</td><td>0</td><td> 0.84</td><td> 84</td><td>0</td><td>  6</td></tr>\n",
              "\t<tr><td>15758</td><td>156</td><td> 10</td><td>2</td><td> 9</td><td>0</td><td> 0.79</td><td> 61</td><td>0</td><td> 14</td></tr>\n",
              "\t<tr><td>33756</td><td>378</td><td> 42</td><td>8</td><td>36</td><td>2</td><td> 7.71</td><td>220</td><td>0</td><td>107</td></tr>\n",
              "\t<tr><td>37898</td><td>805</td><td> 73</td><td>0</td><td>60</td><td>1</td><td> 6.27</td><td>  1</td><td>0</td><td> 88</td></tr>\n",
              "</tbody>\n",
              "</table>\n"
            ]
          },
          "metadata": {
            "tags": []
          }
        }
      ]
    },
    {
      "cell_type": "markdown",
      "metadata": {
        "id": "6yr5ZdtbUSL6"
      },
      "source": [
        "▼ 전동킥보드 이용수와의 상관분석 결과\n",
        "\n",
        "편의점수 : 0.63\n",
        "\n",
        "음식점수 : 0.56\n",
        "\n",
        "자전거보관대수 : 0.47\n",
        "\n",
        "인구수 : 0.46\n",
        "\n",
        "대학교수 : 0.46\n",
        "\n",
        "대규모점포수 : 0.44\n",
        "\n",
        "\n",
        "** 일반적으로 0.6이 넘을 경우 상관관계가 양호하다고 봄\n"
      ]
    },
    {
      "cell_type": "code",
      "metadata": {
        "colab": {
          "base_uri": "https://localhost:8080/",
          "height": 886
        },
        "id": "cN9gIcEyUIYW",
        "outputId": "ac09fbc1-2076-462a-9690-d5f0fc3fd756"
      },
      "source": [
        "install.packages(\"corrplot\")\n",
        "library(corrplot)\n",
        "cor.jj <- cor(jj) \n",
        "round(cor.jj, 2) \n",
        "\n",
        "corrplot(cor.jj, method='shade', shade.col=NA, tl.col='black', tl.srt=45)"
      ],
      "execution_count": null,
      "outputs": [
        {
          "output_type": "stream",
          "text": [
            "Installing package into ‘/usr/local/lib/R/site-library’\n",
            "(as ‘lib’ is unspecified)\n",
            "\n",
            "corrplot 0.87 loaded\n",
            "\n"
          ],
          "name": "stderr"
        },
        {
          "output_type": "display_data",
          "data": {
            "text/plain": [
              "                 인구  음식점수 자전거보관대수 대규모점포수 편의점수 대학교수\n",
              "인구              1.00  0.48    -0.01           0.46        0.60      0.14   \n",
              "음식점수          0.48  1.00     0.33           0.34        0.79      0.24   \n",
              "자전거보관대수   -0.01  0.33     1.00           0.02        0.24      0.05   \n",
              "대규모점포수      0.46  0.34     0.02           1.00        0.31      0.33   \n",
              "편의점수          0.60  0.79     0.24           0.31        1.00      0.40   \n",
              "대학교수          0.14  0.24     0.05           0.33        0.40      1.00   \n",
              "면적.km           0.20 -0.01    -0.13           0.03        0.11      0.02   \n",
              "상점개수          0.47  0.47     0.22           0.66        0.27      0.08   \n",
              "공원수           -0.06  0.11    -0.10          -0.02        0.09     -0.17   \n",
              "전동킥보드이용수  0.46  0.56     0.47           0.44        0.63      0.46   \n",
              "                 면적.km 상점개수 공원수 전동킥보드이용수\n",
              "인구              0.20    0.47    -0.06   0.46           \n",
              "음식점수         -0.01    0.47     0.11   0.56           \n",
              "자전거보관대수   -0.13    0.22    -0.10   0.47           \n",
              "대규모점포수      0.03    0.66    -0.02   0.44           \n",
              "편의점수          0.11    0.27     0.09   0.63           \n",
              "대학교수          0.02    0.08    -0.17   0.46           \n",
              "면적.km           1.00   -0.07     0.37   0.02           \n",
              "상점개수         -0.07    1.00    -0.05   0.43           \n",
              "공원수            0.37   -0.05     1.00  -0.27           \n",
              "전동킥보드이용수  0.02    0.43    -0.27   1.00           "
            ],
            "text/latex": "A matrix: 10 × 10 of type dbl\n\\begin{tabular}{r|llllllllll}\n  & 인구 & 음식점수 & 자전거보관대수 & 대규모점포수 & 편의점수 & 대학교수 & 면적.km & 상점개수 & 공원수 & 전동킥보드이용수\\\\\n\\hline\n\t인구 &  1.00 &  0.48 & -0.01 &  0.46 & 0.60 &  0.14 &  0.20 &  0.47 & -0.06 &  0.46\\\\\n\t음식점수 &  0.48 &  1.00 &  0.33 &  0.34 & 0.79 &  0.24 & -0.01 &  0.47 &  0.11 &  0.56\\\\\n\t자전거보관대수 & -0.01 &  0.33 &  1.00 &  0.02 & 0.24 &  0.05 & -0.13 &  0.22 & -0.10 &  0.47\\\\\n\t대규모점포수 &  0.46 &  0.34 &  0.02 &  1.00 & 0.31 &  0.33 &  0.03 &  0.66 & -0.02 &  0.44\\\\\n\t편의점수 &  0.60 &  0.79 &  0.24 &  0.31 & 1.00 &  0.40 &  0.11 &  0.27 &  0.09 &  0.63\\\\\n\t대학교수 &  0.14 &  0.24 &  0.05 &  0.33 & 0.40 &  1.00 &  0.02 &  0.08 & -0.17 &  0.46\\\\\n\t면적.km &  0.20 & -0.01 & -0.13 &  0.03 & 0.11 &  0.02 &  1.00 & -0.07 &  0.37 &  0.02\\\\\n\t상점개수 &  0.47 &  0.47 &  0.22 &  0.66 & 0.27 &  0.08 & -0.07 &  1.00 & -0.05 &  0.43\\\\\n\t공원수 & -0.06 &  0.11 & -0.10 & -0.02 & 0.09 & -0.17 &  0.37 & -0.05 &  1.00 & -0.27\\\\\n\t전동킥보드이용수 &  0.46 &  0.56 &  0.47 &  0.44 & 0.63 &  0.46 &  0.02 &  0.43 & -0.27 &  1.00\\\\\n\\end{tabular}\n",
            "text/markdown": "\nA matrix: 10 × 10 of type dbl\n\n| <!--/--> | 인구 | 음식점수 | 자전거보관대수 | 대규모점포수 | 편의점수 | 대학교수 | 면적.km | 상점개수 | 공원수 | 전동킥보드이용수 |\n|---|---|---|---|---|---|---|---|---|---|---|\n| 인구 |  1.00 |  0.48 | -0.01 |  0.46 | 0.60 |  0.14 |  0.20 |  0.47 | -0.06 |  0.46 |\n| 음식점수 |  0.48 |  1.00 |  0.33 |  0.34 | 0.79 |  0.24 | -0.01 |  0.47 |  0.11 |  0.56 |\n| 자전거보관대수 | -0.01 |  0.33 |  1.00 |  0.02 | 0.24 |  0.05 | -0.13 |  0.22 | -0.10 |  0.47 |\n| 대규모점포수 |  0.46 |  0.34 |  0.02 |  1.00 | 0.31 |  0.33 |  0.03 |  0.66 | -0.02 |  0.44 |\n| 편의점수 |  0.60 |  0.79 |  0.24 |  0.31 | 1.00 |  0.40 |  0.11 |  0.27 |  0.09 |  0.63 |\n| 대학교수 |  0.14 |  0.24 |  0.05 |  0.33 | 0.40 |  1.00 |  0.02 |  0.08 | -0.17 |  0.46 |\n| 면적.km |  0.20 | -0.01 | -0.13 |  0.03 | 0.11 |  0.02 |  1.00 | -0.07 |  0.37 |  0.02 |\n| 상점개수 |  0.47 |  0.47 |  0.22 |  0.66 | 0.27 |  0.08 | -0.07 |  1.00 | -0.05 |  0.43 |\n| 공원수 | -0.06 |  0.11 | -0.10 | -0.02 | 0.09 | -0.17 |  0.37 | -0.05 |  1.00 | -0.27 |\n| 전동킥보드이용수 |  0.46 |  0.56 |  0.47 |  0.44 | 0.63 |  0.46 |  0.02 |  0.43 | -0.27 |  1.00 |\n\n",
            "text/html": [
              "<table class=\"dataframe\">\n",
              "<caption>A matrix: 10 × 10 of type dbl</caption>\n",
              "<thead>\n",
              "\t<tr><th></th><th scope=col>인구</th><th scope=col>음식점수</th><th scope=col>자전거보관대수</th><th scope=col>대규모점포수</th><th scope=col>편의점수</th><th scope=col>대학교수</th><th scope=col>면적.km</th><th scope=col>상점개수</th><th scope=col>공원수</th><th scope=col>전동킥보드이용수</th></tr>\n",
              "</thead>\n",
              "<tbody>\n",
              "\t<tr><th scope=row>인구</th><td> 1.00</td><td> 0.48</td><td>-0.01</td><td> 0.46</td><td>0.60</td><td> 0.14</td><td> 0.20</td><td> 0.47</td><td>-0.06</td><td> 0.46</td></tr>\n",
              "\t<tr><th scope=row>음식점수</th><td> 0.48</td><td> 1.00</td><td> 0.33</td><td> 0.34</td><td>0.79</td><td> 0.24</td><td>-0.01</td><td> 0.47</td><td> 0.11</td><td> 0.56</td></tr>\n",
              "\t<tr><th scope=row>자전거보관대수</th><td>-0.01</td><td> 0.33</td><td> 1.00</td><td> 0.02</td><td>0.24</td><td> 0.05</td><td>-0.13</td><td> 0.22</td><td>-0.10</td><td> 0.47</td></tr>\n",
              "\t<tr><th scope=row>대규모점포수</th><td> 0.46</td><td> 0.34</td><td> 0.02</td><td> 1.00</td><td>0.31</td><td> 0.33</td><td> 0.03</td><td> 0.66</td><td>-0.02</td><td> 0.44</td></tr>\n",
              "\t<tr><th scope=row>편의점수</th><td> 0.60</td><td> 0.79</td><td> 0.24</td><td> 0.31</td><td>1.00</td><td> 0.40</td><td> 0.11</td><td> 0.27</td><td> 0.09</td><td> 0.63</td></tr>\n",
              "\t<tr><th scope=row>대학교수</th><td> 0.14</td><td> 0.24</td><td> 0.05</td><td> 0.33</td><td>0.40</td><td> 1.00</td><td> 0.02</td><td> 0.08</td><td>-0.17</td><td> 0.46</td></tr>\n",
              "\t<tr><th scope=row>면적.km</th><td> 0.20</td><td>-0.01</td><td>-0.13</td><td> 0.03</td><td>0.11</td><td> 0.02</td><td> 1.00</td><td>-0.07</td><td> 0.37</td><td> 0.02</td></tr>\n",
              "\t<tr><th scope=row>상점개수</th><td> 0.47</td><td> 0.47</td><td> 0.22</td><td> 0.66</td><td>0.27</td><td> 0.08</td><td>-0.07</td><td> 1.00</td><td>-0.05</td><td> 0.43</td></tr>\n",
              "\t<tr><th scope=row>공원수</th><td>-0.06</td><td> 0.11</td><td>-0.10</td><td>-0.02</td><td>0.09</td><td>-0.17</td><td> 0.37</td><td>-0.05</td><td> 1.00</td><td>-0.27</td></tr>\n",
              "\t<tr><th scope=row>전동킥보드이용수</th><td> 0.46</td><td> 0.56</td><td> 0.47</td><td> 0.44</td><td>0.63</td><td> 0.46</td><td> 0.02</td><td> 0.43</td><td>-0.27</td><td> 1.00</td></tr>\n",
              "</tbody>\n",
              "</table>\n"
            ]
          },
          "metadata": {
            "tags": []
          }
        },
        {
          "output_type": "display_data",
          "data": {
            "image/png": "[encoded data removed]",
            "text/plain": [
              "Plot with title “”"
            ]
          },
          "metadata": {
            "tags": [],
            "image/png": {
              "width": 420,
              "height": 420
            }
          }
        }
      ]
    }
  ]
}