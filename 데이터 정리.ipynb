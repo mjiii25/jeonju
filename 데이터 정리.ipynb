{
  "nbformat": 4,
  "nbformat_minor": 0,
  "metadata": {
    "colab": {
      "name": "Untitled9.ipynb",
      "provenance": [],
      "toc_visible": true,
      "authorship_tag": "ABX9TyO2RWYEDmVPn6L17QD3YY1v",
      "include_colab_link": true
    },
    "kernelspec": {
      "name": "ir",
      "display_name": "R"
    },
    "language_info": {
      "name": "R"
    }
  },
  "cells": [
    {
      "cell_type": "markdown",
      "metadata": {
        "id": "view-in-github",
        "colab_type": "text"
      },
      "source": [
        "<a href=\"https://colab.research.google.com/github/mjiii25/jeonju/blob/main/%EB%8D%B0%EC%9D%B4%ED%84%B0%20%EC%A0%95%EB%A6%AC.ipynb\" target=\"_parent\"><img src=\"https://colab.research.google.com/assets/colab-badge.svg\" alt=\"Open In Colab\"/></a>"
      ]
    },
    {
      "cell_type": "markdown",
      "metadata": {
        "id": "dVi2ZRXabTIG"
      },
      "source": [
        "# R 실행\n",
        "\n",
        "https://gist.github.com/jobdiogenes/235620928c84e604c6e56211ccf681f0"
      ]
    },
    {
      "cell_type": "code",
      "metadata": {
        "colab": {
          "base_uri": "https://localhost:8080/"
        },
        "id": "IoDbJVG7alub",
        "outputId": "afcfb712-bb23-4b45-8e13-effbfe6537dc"
      },
      "source": [
        "# Check if is running in Colab and redefine is_interactive()\n",
        "if (file.exists(\"/usr/local/lib/python3.7/dist-packages/google/colab/_ipython.py\")) {\n",
        "  install.packages(\"R.utils\")\n",
        "  library(\"R.utils\")\n",
        "  library(\"httr\")\n",
        "  my_check <- function() {return(TRUE)}\n",
        "  reassignInPackage(\"is_interactive\", pkgName = \"httr\", my_check) \n",
        "  options(rlang_interactive=TRUE)\n",
        "}"
      ],
      "execution_count": null,
      "outputs": [
        {
          "output_type": "stream",
          "text": [
            "Installing package into ‘/usr/local/lib/R/site-library’\n",
            "(as ‘lib’ is unspecified)\n",
            "\n",
            "also installing the dependencies ‘R.oo’, ‘R.methodsS3’\n",
            "\n",
            "\n",
            "Loading required package: R.oo\n",
            "\n",
            "Loading required package: R.methodsS3\n",
            "\n",
            "R.methodsS3 v1.8.1 (2020-08-26 16:20:06 UTC) successfully loaded. See ?R.methodsS3 for help.\n",
            "\n",
            "R.oo v1.24.0 (2020-08-26 16:11:58 UTC) successfully loaded. See ?R.oo for help.\n",
            "\n",
            "\n",
            "Attaching package: ‘R.oo’\n",
            "\n",
            "\n",
            "The following object is masked from ‘package:R.methodsS3’:\n",
            "\n",
            "    throw\n",
            "\n",
            "\n",
            "The following objects are masked from ‘package:methods’:\n",
            "\n",
            "    getClasses, getMethods\n",
            "\n",
            "\n",
            "The following objects are masked from ‘package:base’:\n",
            "\n",
            "    attach, detach, load, save\n",
            "\n",
            "\n",
            "R.utils v2.10.1 (2020-08-26 22:50:31 UTC) successfully loaded. See ?R.utils for help.\n",
            "\n",
            "\n",
            "Attaching package: ‘R.utils’\n",
            "\n",
            "\n",
            "The following object is masked from ‘package:utils’:\n",
            "\n",
            "    timestamp\n",
            "\n",
            "\n",
            "The following objects are masked from ‘package:base’:\n",
            "\n",
            "    cat, commandArgs, getOption, inherits, isOpen, nullfile, parse,\n",
            "    warnings\n",
            "\n",
            "\n"
          ],
          "name": "stderr"
        }
      ]
    },
    {
      "cell_type": "code",
      "metadata": {
        "id": "va2I2kGQasIw"
      },
      "source": [
        "# If ts not available we need to install . put other packages if you need.\n",
        "packages <- c(\"googledrive\", \"googlesheets4\")\n",
        "if (length(setdiff(packages, rownames(installed.packages()))) > 0) {\n",
        "  install.packages(setdiff(packages, rownames(installed.packages())))  \n",
        "}"
      ],
      "execution_count": null,
      "outputs": []
    },
    {
      "cell_type": "code",
      "metadata": {
        "colab": {
          "base_uri": "https://localhost:8080/"
        },
        "id": "1S362jWsawQ-",
        "outputId": "1c31f803-2363-4db1-9b68-97e73d6df6e6"
      },
      "source": [
        "library(\"googledrive\")\n",
        "library(\"googlesheets4\")"
      ],
      "execution_count": null,
      "outputs": [
        {
          "output_type": "stream",
          "text": [
            "\n",
            "Attaching package: ‘googlesheets4’\n",
            "\n",
            "\n",
            "The following objects are masked from ‘package:googledrive’:\n",
            "\n",
            "    request_generate, request_make\n",
            "\n",
            "\n"
          ],
          "name": "stderr"
        }
      ]
    },
    {
      "cell_type": "code",
      "metadata": {
        "colab": {
          "base_uri": "https://localhost:8080/"
        },
        "id": "IyDQWX6may1K",
        "outputId": "c975e60a-9ebd-4fb8-bbee-462db0295a02"
      },
      "source": [
        "# call authentication forcing interactive login and save in cache. \n",
        "drive_auth(use_oob = TRUE, cache = TRUE)"
      ],
      "execution_count": null,
      "outputs": [
        {
          "output_type": "stream",
          "text": [
            "Please point your browser to the following url: \n",
            "\n",
            "https://accounts.google.com/o/oauth2/auth?client_id=603366585132-dpeg5tt0et3go5of2374d83ifevk5086.apps.googleusercontent.com&scope=https%3A%2F%2Fwww.googleapis.com%2Fauth%2Fdrive%20https%3A%2F%2Fwww.googleapis.com%2Fauth%2Fuserinfo.email&redirect_uri=urn%3Aietf%3Awg%3Aoauth%3A2.0%3Aoob&response_type=code\n",
            "\n"
          ],
          "name": "stderr"
        },
        {
          "output_type": "stream",
          "text": [
            "Enter authorization code: 4/1AY0e-g4J1WemvT9vVcsyEpoqBw5vyhNgbTXLsbaiuJAv7lAzsOA859OLEhg\n"
          ],
          "name": "stdout"
        }
      ]
    },
    {
      "cell_type": "code",
      "metadata": {
        "id": "VHB7jRfca8T6"
      },
      "source": [
        "# Find Google Sheets anf get the id of the first sheet \n",
        "Sheets <- drive_find(type = \"spreadsheet\")\n",
        "first_id <- Sheets$id[1]"
      ],
      "execution_count": null,
      "outputs": []
    },
    {
      "cell_type": "code",
      "metadata": {
        "colab": {
          "base_uri": "https://localhost:8080/"
        },
        "id": "xWH8JGGObArO",
        "outputId": "e90ee4cb-6691-4680-98d9-ae12a59dc50d"
      },
      "source": [
        "# reuse token to Sheet Auth. \n",
        "sheets_auth(token = drive_token())"
      ],
      "execution_count": null,
      "outputs": [
        {
          "output_type": "stream",
          "text": [
            "Warning message:\n",
            "“`sheets_auth()` was deprecated in googlesheets4 0.2.0.\n",
            "Please use `gs4_auth()` instead.\n",
            "\u001b[90mThis warning is displayed once every 8 hours.\u001b[39m\n",
            "\u001b[90mCall `lifecycle::last_warnings()` to see where this warning was generated.\u001b[39m”\n"
          ],
          "name": "stderr"
        }
      ]
    },
    {
      "cell_type": "code",
      "metadata": {
        "colab": {
          "base_uri": "https://localhost:8080/",
          "height": 1000
        },
        "id": "VCko-jGkbDnG",
        "outputId": "d99df270-aef5-43ad-ee84-f9579ca72551"
      },
      "source": [
        "# show data\n",
        "sheets_read(first_id)"
      ],
      "execution_count": null,
      "outputs": [
        {
          "output_type": "stream",
          "text": [
            "Warning message:\n",
            "“`sheets_read()` was deprecated in googlesheets4 0.2.0.\n",
            "Please use `range_read()` instead.\n",
            "\u001b[90mThis warning is displayed once every 8 hours.\u001b[39m\n",
            "\u001b[90mCall `lifecycle::last_warnings()` to see where this warning was generated.\u001b[39m”\n",
            "Reading from \"gu_usage\"\n",
            "\n",
            "Range \"gu_usage\"\n",
            "\n"
          ],
          "name": "stderr"
        },
        {
          "output_type": "display_data",
          "data": {
            "text/plain": [
              "    province gu       gu_eng       date       count \n",
              "1   서울     종로구   Jongno       2020-07-01  85935\n",
              "2   서울     중구     Jung         2020-07-01  52417\n",
              "3   서울     용산구   Yongsan      2020-07-01  58354\n",
              "4   서울     성동구   Seongdong    2020-07-01 106216\n",
              "5   서울     광진구   Kwangjin     2020-07-01 125735\n",
              "6   서울     동대문구 Dongdaemun   2020-07-01  93487\n",
              "7   서울     중랑구   Jungnang     2020-07-01  76841\n",
              "8   서울     성북구   Seongbuk     2020-07-01  81364\n",
              "9   서울     강북구   Gangbuk      2020-07-01  54503\n",
              "10  서울     도봉구   Dobong       2020-07-01  58420\n",
              "11  서울     노원구   Nowon        2020-07-01 157281\n",
              "12  서울     은평구   Eunpyeong    2020-07-01  81923\n",
              "13  서울     서대문구 Seodaemun    2020-07-01  65144\n",
              "14  서울     마포구   Mapo         2020-07-01 155009\n",
              "15  서울     양천구   Yangcheon    2020-07-01 119956\n",
              "16  서울     강서구   Gangseo      2020-07-01 224984\n",
              "17  서울     구로구   Guro         2020-07-01 106619\n",
              "18  서울     금천구   Geumcheon    2020-07-01  43940\n",
              "19  서울     영등포구 Yeongdeungpo 2020-07-01 209515\n",
              "20  서울     동작구   Dongjak      2020-07-01  67929\n",
              "21  서울     관악구   Gwanak       2020-07-01  92451\n",
              "22  서울     서초구   Seocho       2020-07-01 101631\n",
              "23  서울     강남구   Gangnam      2020-07-01  79194\n",
              "24  서울     송파구   Songpa       2020-07-01 185529\n",
              "25  서울     강동구   Gangdong     2020-07-01  97719\n",
              "26  서울     종로구   Jongno       2020-08-01  65729\n",
              "27  서울     중구     Jung         2020-08-01  40401\n",
              "28  서울     용산구   Yongsan      2020-08-01  36762\n",
              "29  서울     성동구   Seongdong    2020-08-01  65323\n",
              "30  서울     광진구   Kwangjin     2020-08-01  75051\n",
              "⋮   ⋮        ⋮        ⋮            ⋮          ⋮     \n",
              "146 서울     관악구   Gwanak       2020-12-01 41420 \n",
              "147 서울     서초구   Seocho       2020-12-01 43259 \n",
              "148 서울     강남구   Gangnam      2020-12-01 38004 \n",
              "149 서울     송파구   Songpa       2020-12-01 85064 \n",
              "150 서울     강동구   Gangdong     2020-12-01 42373 \n",
              "151 서울     종로구   Jongno       2021-01-01 35643 \n",
              "152 서울     중구     Jung         2021-01-01 20396 \n",
              "153 서울     용산구   Yongsan      2021-01-01 18203 \n",
              "154 서울     성동구   Seongdong    2021-01-01 35822 \n",
              "155 서울     광진구   Kwangjin     2021-01-01 38357 \n",
              "156 서울     동대문구 Dongdaemun   2021-01-01 33426 \n",
              "157 서울     중랑구   Jungnang     2021-01-01 22773 \n",
              "158 서울     성북구   Seongbuk     2021-01-01 26138 \n",
              "159 서울     강북구   Gangbuk      2021-01-01 16101 \n",
              "160 서울     도봉구   Dobong       2021-01-01 16620 \n",
              "161 서울     노원구   Nowon        2021-01-01 41994 \n",
              "162 서울     은평구   Eunpyeong    2021-01-01 25442 \n",
              "163 서울     서대문구 Seodaemun    2021-01-01 23065 \n",
              "164 서울     마포구   Mapo         2021-01-01 48660 \n",
              "165 서울     양천구   Yangcheon    2021-01-01 43330 \n",
              "166 서울     강서구   Gangseo      2021-01-01 75019 \n",
              "167 서울     구로구   Guro         2021-01-01 31633 \n",
              "168 서울     금천구   Geumcheon    2021-01-01 13494 \n",
              "169 서울     영등포구 Yeongdeungpo 2021-01-01 64359 \n",
              "170 서울     동작구   Dongjak      2021-01-01 18950 \n",
              "171 서울     관악구   Gwanak       2021-01-01 27457 \n",
              "172 서울     서초구   Seocho       2021-01-01 29483 \n",
              "173 서울     강남구   Gangnam      2021-01-01 24706 \n",
              "174 서울     송파구   Songpa       2021-01-01 54819 \n",
              "175 서울     강동구   Gangdong     2021-01-01 26158 "
            ],
            "text/latex": "A tibble: 175 × 5\n\\begin{tabular}{lllll}\n province & gu & gu\\_eng & date & count\\\\\n <chr> & <chr> & <chr> & <dttm> & <dbl>\\\\\n\\hline\n\t 서울 & 종로구   & Jongno       & 2020-07-01 &  85935\\\\\n\t 서울 & 중구     & Jung         & 2020-07-01 &  52417\\\\\n\t 서울 & 용산구   & Yongsan      & 2020-07-01 &  58354\\\\\n\t 서울 & 성동구   & Seongdong    & 2020-07-01 & 106216\\\\\n\t 서울 & 광진구   & Kwangjin     & 2020-07-01 & 125735\\\\\n\t 서울 & 동대문구 & Dongdaemun   & 2020-07-01 &  93487\\\\\n\t 서울 & 중랑구   & Jungnang     & 2020-07-01 &  76841\\\\\n\t 서울 & 성북구   & Seongbuk     & 2020-07-01 &  81364\\\\\n\t 서울 & 강북구   & Gangbuk      & 2020-07-01 &  54503\\\\\n\t 서울 & 도봉구   & Dobong       & 2020-07-01 &  58420\\\\\n\t 서울 & 노원구   & Nowon        & 2020-07-01 & 157281\\\\\n\t 서울 & 은평구   & Eunpyeong    & 2020-07-01 &  81923\\\\\n\t 서울 & 서대문구 & Seodaemun    & 2020-07-01 &  65144\\\\\n\t 서울 & 마포구   & Mapo         & 2020-07-01 & 155009\\\\\n\t 서울 & 양천구   & Yangcheon    & 2020-07-01 & 119956\\\\\n\t 서울 & 강서구   & Gangseo      & 2020-07-01 & 224984\\\\\n\t 서울 & 구로구   & Guro         & 2020-07-01 & 106619\\\\\n\t 서울 & 금천구   & Geumcheon    & 2020-07-01 &  43940\\\\\n\t 서울 & 영등포구 & Yeongdeungpo & 2020-07-01 & 209515\\\\\n\t 서울 & 동작구   & Dongjak      & 2020-07-01 &  67929\\\\\n\t 서울 & 관악구   & Gwanak       & 2020-07-01 &  92451\\\\\n\t 서울 & 서초구   & Seocho       & 2020-07-01 & 101631\\\\\n\t 서울 & 강남구   & Gangnam      & 2020-07-01 &  79194\\\\\n\t 서울 & 송파구   & Songpa       & 2020-07-01 & 185529\\\\\n\t 서울 & 강동구   & Gangdong     & 2020-07-01 &  97719\\\\\n\t 서울 & 종로구   & Jongno       & 2020-08-01 &  65729\\\\\n\t 서울 & 중구     & Jung         & 2020-08-01 &  40401\\\\\n\t 서울 & 용산구   & Yongsan      & 2020-08-01 &  36762\\\\\n\t 서울 & 성동구   & Seongdong    & 2020-08-01 &  65323\\\\\n\t 서울 & 광진구   & Kwangjin     & 2020-08-01 &  75051\\\\\n\t ⋮ & ⋮ & ⋮ & ⋮ & ⋮\\\\\n\t 서울 & 관악구   & Gwanak       & 2020-12-01 & 41420\\\\\n\t 서울 & 서초구   & Seocho       & 2020-12-01 & 43259\\\\\n\t 서울 & 강남구   & Gangnam      & 2020-12-01 & 38004\\\\\n\t 서울 & 송파구   & Songpa       & 2020-12-01 & 85064\\\\\n\t 서울 & 강동구   & Gangdong     & 2020-12-01 & 42373\\\\\n\t 서울 & 종로구   & Jongno       & 2021-01-01 & 35643\\\\\n\t 서울 & 중구     & Jung         & 2021-01-01 & 20396\\\\\n\t 서울 & 용산구   & Yongsan      & 2021-01-01 & 18203\\\\\n\t 서울 & 성동구   & Seongdong    & 2021-01-01 & 35822\\\\\n\t 서울 & 광진구   & Kwangjin     & 2021-01-01 & 38357\\\\\n\t 서울 & 동대문구 & Dongdaemun   & 2021-01-01 & 33426\\\\\n\t 서울 & 중랑구   & Jungnang     & 2021-01-01 & 22773\\\\\n\t 서울 & 성북구   & Seongbuk     & 2021-01-01 & 26138\\\\\n\t 서울 & 강북구   & Gangbuk      & 2021-01-01 & 16101\\\\\n\t 서울 & 도봉구   & Dobong       & 2021-01-01 & 16620\\\\\n\t 서울 & 노원구   & Nowon        & 2021-01-01 & 41994\\\\\n\t 서울 & 은평구   & Eunpyeong    & 2021-01-01 & 25442\\\\\n\t 서울 & 서대문구 & Seodaemun    & 2021-01-01 & 23065\\\\\n\t 서울 & 마포구   & Mapo         & 2021-01-01 & 48660\\\\\n\t 서울 & 양천구   & Yangcheon    & 2021-01-01 & 43330\\\\\n\t 서울 & 강서구   & Gangseo      & 2021-01-01 & 75019\\\\\n\t 서울 & 구로구   & Guro         & 2021-01-01 & 31633\\\\\n\t 서울 & 금천구   & Geumcheon    & 2021-01-01 & 13494\\\\\n\t 서울 & 영등포구 & Yeongdeungpo & 2021-01-01 & 64359\\\\\n\t 서울 & 동작구   & Dongjak      & 2021-01-01 & 18950\\\\\n\t 서울 & 관악구   & Gwanak       & 2021-01-01 & 27457\\\\\n\t 서울 & 서초구   & Seocho       & 2021-01-01 & 29483\\\\\n\t 서울 & 강남구   & Gangnam      & 2021-01-01 & 24706\\\\\n\t 서울 & 송파구   & Songpa       & 2021-01-01 & 54819\\\\\n\t 서울 & 강동구   & Gangdong     & 2021-01-01 & 26158\\\\\n\\end{tabular}\n",
            "text/markdown": "\nA tibble: 175 × 5\n\n| province &lt;chr&gt; | gu &lt;chr&gt; | gu_eng &lt;chr&gt; | date &lt;dttm&gt; | count &lt;dbl&gt; |\n|---|---|---|---|---|\n| 서울 | 종로구   | Jongno       | 2020-07-01 |  85935 |\n| 서울 | 중구     | Jung         | 2020-07-01 |  52417 |\n| 서울 | 용산구   | Yongsan      | 2020-07-01 |  58354 |\n| 서울 | 성동구   | Seongdong    | 2020-07-01 | 106216 |\n| 서울 | 광진구   | Kwangjin     | 2020-07-01 | 125735 |\n| 서울 | 동대문구 | Dongdaemun   | 2020-07-01 |  93487 |\n| 서울 | 중랑구   | Jungnang     | 2020-07-01 |  76841 |\n| 서울 | 성북구   | Seongbuk     | 2020-07-01 |  81364 |\n| 서울 | 강북구   | Gangbuk      | 2020-07-01 |  54503 |\n| 서울 | 도봉구   | Dobong       | 2020-07-01 |  58420 |\n| 서울 | 노원구   | Nowon        | 2020-07-01 | 157281 |\n| 서울 | 은평구   | Eunpyeong    | 2020-07-01 |  81923 |\n| 서울 | 서대문구 | Seodaemun    | 2020-07-01 |  65144 |\n| 서울 | 마포구   | Mapo         | 2020-07-01 | 155009 |\n| 서울 | 양천구   | Yangcheon    | 2020-07-01 | 119956 |\n| 서울 | 강서구   | Gangseo      | 2020-07-01 | 224984 |\n| 서울 | 구로구   | Guro         | 2020-07-01 | 106619 |\n| 서울 | 금천구   | Geumcheon    | 2020-07-01 |  43940 |\n| 서울 | 영등포구 | Yeongdeungpo | 2020-07-01 | 209515 |\n| 서울 | 동작구   | Dongjak      | 2020-07-01 |  67929 |\n| 서울 | 관악구   | Gwanak       | 2020-07-01 |  92451 |\n| 서울 | 서초구   | Seocho       | 2020-07-01 | 101631 |\n| 서울 | 강남구   | Gangnam      | 2020-07-01 |  79194 |\n| 서울 | 송파구   | Songpa       | 2020-07-01 | 185529 |\n| 서울 | 강동구   | Gangdong     | 2020-07-01 |  97719 |\n| 서울 | 종로구   | Jongno       | 2020-08-01 |  65729 |\n| 서울 | 중구     | Jung         | 2020-08-01 |  40401 |\n| 서울 | 용산구   | Yongsan      | 2020-08-01 |  36762 |\n| 서울 | 성동구   | Seongdong    | 2020-08-01 |  65323 |\n| 서울 | 광진구   | Kwangjin     | 2020-08-01 |  75051 |\n| ⋮ | ⋮ | ⋮ | ⋮ | ⋮ |\n| 서울 | 관악구   | Gwanak       | 2020-12-01 | 41420 |\n| 서울 | 서초구   | Seocho       | 2020-12-01 | 43259 |\n| 서울 | 강남구   | Gangnam      | 2020-12-01 | 38004 |\n| 서울 | 송파구   | Songpa       | 2020-12-01 | 85064 |\n| 서울 | 강동구   | Gangdong     | 2020-12-01 | 42373 |\n| 서울 | 종로구   | Jongno       | 2021-01-01 | 35643 |\n| 서울 | 중구     | Jung         | 2021-01-01 | 20396 |\n| 서울 | 용산구   | Yongsan      | 2021-01-01 | 18203 |\n| 서울 | 성동구   | Seongdong    | 2021-01-01 | 35822 |\n| 서울 | 광진구   | Kwangjin     | 2021-01-01 | 38357 |\n| 서울 | 동대문구 | Dongdaemun   | 2021-01-01 | 33426 |\n| 서울 | 중랑구   | Jungnang     | 2021-01-01 | 22773 |\n| 서울 | 성북구   | Seongbuk     | 2021-01-01 | 26138 |\n| 서울 | 강북구   | Gangbuk      | 2021-01-01 | 16101 |\n| 서울 | 도봉구   | Dobong       | 2021-01-01 | 16620 |\n| 서울 | 노원구   | Nowon        | 2021-01-01 | 41994 |\n| 서울 | 은평구   | Eunpyeong    | 2021-01-01 | 25442 |\n| 서울 | 서대문구 | Seodaemun    | 2021-01-01 | 23065 |\n| 서울 | 마포구   | Mapo         | 2021-01-01 | 48660 |\n| 서울 | 양천구   | Yangcheon    | 2021-01-01 | 43330 |\n| 서울 | 강서구   | Gangseo      | 2021-01-01 | 75019 |\n| 서울 | 구로구   | Guro         | 2021-01-01 | 31633 |\n| 서울 | 금천구   | Geumcheon    | 2021-01-01 | 13494 |\n| 서울 | 영등포구 | Yeongdeungpo | 2021-01-01 | 64359 |\n| 서울 | 동작구   | Dongjak      | 2021-01-01 | 18950 |\n| 서울 | 관악구   | Gwanak       | 2021-01-01 | 27457 |\n| 서울 | 서초구   | Seocho       | 2021-01-01 | 29483 |\n| 서울 | 강남구   | Gangnam      | 2021-01-01 | 24706 |\n| 서울 | 송파구   | Songpa       | 2021-01-01 | 54819 |\n| 서울 | 강동구   | Gangdong     | 2021-01-01 | 26158 |\n\n",
            "text/html": [
              "<table class=\"dataframe\">\n",
              "<caption>A tibble: 175 × 5</caption>\n",
              "<thead>\n",
              "\t<tr><th scope=col>province</th><th scope=col>gu</th><th scope=col>gu_eng</th><th scope=col>date</th><th scope=col>count</th></tr>\n",
              "\t<tr><th scope=col>&lt;chr&gt;</th><th scope=col>&lt;chr&gt;</th><th scope=col>&lt;chr&gt;</th><th scope=col>&lt;dttm&gt;</th><th scope=col>&lt;dbl&gt;</th></tr>\n",
              "</thead>\n",
              "<tbody>\n",
              "\t<tr><td>서울</td><td>종로구  </td><td>Jongno      </td><td>2020-07-01</td><td> 85935</td></tr>\n",
              "\t<tr><td>서울</td><td>중구    </td><td>Jung        </td><td>2020-07-01</td><td> 52417</td></tr>\n",
              "\t<tr><td>서울</td><td>용산구  </td><td>Yongsan     </td><td>2020-07-01</td><td> 58354</td></tr>\n",
              "\t<tr><td>서울</td><td>성동구  </td><td>Seongdong   </td><td>2020-07-01</td><td>106216</td></tr>\n",
              "\t<tr><td>서울</td><td>광진구  </td><td>Kwangjin    </td><td>2020-07-01</td><td>125735</td></tr>\n",
              "\t<tr><td>서울</td><td>동대문구</td><td>Dongdaemun  </td><td>2020-07-01</td><td> 93487</td></tr>\n",
              "\t<tr><td>서울</td><td>중랑구  </td><td>Jungnang    </td><td>2020-07-01</td><td> 76841</td></tr>\n",
              "\t<tr><td>서울</td><td>성북구  </td><td>Seongbuk    </td><td>2020-07-01</td><td> 81364</td></tr>\n",
              "\t<tr><td>서울</td><td>강북구  </td><td>Gangbuk     </td><td>2020-07-01</td><td> 54503</td></tr>\n",
              "\t<tr><td>서울</td><td>도봉구  </td><td>Dobong      </td><td>2020-07-01</td><td> 58420</td></tr>\n",
              "\t<tr><td>서울</td><td>노원구  </td><td>Nowon       </td><td>2020-07-01</td><td>157281</td></tr>\n",
              "\t<tr><td>서울</td><td>은평구  </td><td>Eunpyeong   </td><td>2020-07-01</td><td> 81923</td></tr>\n",
              "\t<tr><td>서울</td><td>서대문구</td><td>Seodaemun   </td><td>2020-07-01</td><td> 65144</td></tr>\n",
              "\t<tr><td>서울</td><td>마포구  </td><td>Mapo        </td><td>2020-07-01</td><td>155009</td></tr>\n",
              "\t<tr><td>서울</td><td>양천구  </td><td>Yangcheon   </td><td>2020-07-01</td><td>119956</td></tr>\n",
              "\t<tr><td>서울</td><td>강서구  </td><td>Gangseo     </td><td>2020-07-01</td><td>224984</td></tr>\n",
              "\t<tr><td>서울</td><td>구로구  </td><td>Guro        </td><td>2020-07-01</td><td>106619</td></tr>\n",
              "\t<tr><td>서울</td><td>금천구  </td><td>Geumcheon   </td><td>2020-07-01</td><td> 43940</td></tr>\n",
              "\t<tr><td>서울</td><td>영등포구</td><td>Yeongdeungpo</td><td>2020-07-01</td><td>209515</td></tr>\n",
              "\t<tr><td>서울</td><td>동작구  </td><td>Dongjak     </td><td>2020-07-01</td><td> 67929</td></tr>\n",
              "\t<tr><td>서울</td><td>관악구  </td><td>Gwanak      </td><td>2020-07-01</td><td> 92451</td></tr>\n",
              "\t<tr><td>서울</td><td>서초구  </td><td>Seocho      </td><td>2020-07-01</td><td>101631</td></tr>\n",
              "\t<tr><td>서울</td><td>강남구  </td><td>Gangnam     </td><td>2020-07-01</td><td> 79194</td></tr>\n",
              "\t<tr><td>서울</td><td>송파구  </td><td>Songpa      </td><td>2020-07-01</td><td>185529</td></tr>\n",
              "\t<tr><td>서울</td><td>강동구  </td><td>Gangdong    </td><td>2020-07-01</td><td> 97719</td></tr>\n",
              "\t<tr><td>서울</td><td>종로구  </td><td>Jongno      </td><td>2020-08-01</td><td> 65729</td></tr>\n",
              "\t<tr><td>서울</td><td>중구    </td><td>Jung        </td><td>2020-08-01</td><td> 40401</td></tr>\n",
              "\t<tr><td>서울</td><td>용산구  </td><td>Yongsan     </td><td>2020-08-01</td><td> 36762</td></tr>\n",
              "\t<tr><td>서울</td><td>성동구  </td><td>Seongdong   </td><td>2020-08-01</td><td> 65323</td></tr>\n",
              "\t<tr><td>서울</td><td>광진구  </td><td>Kwangjin    </td><td>2020-08-01</td><td> 75051</td></tr>\n",
              "\t<tr><td>⋮</td><td>⋮</td><td>⋮</td><td>⋮</td><td>⋮</td></tr>\n",
              "\t<tr><td>서울</td><td>관악구  </td><td>Gwanak      </td><td>2020-12-01</td><td>41420</td></tr>\n",
              "\t<tr><td>서울</td><td>서초구  </td><td>Seocho      </td><td>2020-12-01</td><td>43259</td></tr>\n",
              "\t<tr><td>서울</td><td>강남구  </td><td>Gangnam     </td><td>2020-12-01</td><td>38004</td></tr>\n",
              "\t<tr><td>서울</td><td>송파구  </td><td>Songpa      </td><td>2020-12-01</td><td>85064</td></tr>\n",
              "\t<tr><td>서울</td><td>강동구  </td><td>Gangdong    </td><td>2020-12-01</td><td>42373</td></tr>\n",
              "\t<tr><td>서울</td><td>종로구  </td><td>Jongno      </td><td>2021-01-01</td><td>35643</td></tr>\n",
              "\t<tr><td>서울</td><td>중구    </td><td>Jung        </td><td>2021-01-01</td><td>20396</td></tr>\n",
              "\t<tr><td>서울</td><td>용산구  </td><td>Yongsan     </td><td>2021-01-01</td><td>18203</td></tr>\n",
              "\t<tr><td>서울</td><td>성동구  </td><td>Seongdong   </td><td>2021-01-01</td><td>35822</td></tr>\n",
              "\t<tr><td>서울</td><td>광진구  </td><td>Kwangjin    </td><td>2021-01-01</td><td>38357</td></tr>\n",
              "\t<tr><td>서울</td><td>동대문구</td><td>Dongdaemun  </td><td>2021-01-01</td><td>33426</td></tr>\n",
              "\t<tr><td>서울</td><td>중랑구  </td><td>Jungnang    </td><td>2021-01-01</td><td>22773</td></tr>\n",
              "\t<tr><td>서울</td><td>성북구  </td><td>Seongbuk    </td><td>2021-01-01</td><td>26138</td></tr>\n",
              "\t<tr><td>서울</td><td>강북구  </td><td>Gangbuk     </td><td>2021-01-01</td><td>16101</td></tr>\n",
              "\t<tr><td>서울</td><td>도봉구  </td><td>Dobong      </td><td>2021-01-01</td><td>16620</td></tr>\n",
              "\t<tr><td>서울</td><td>노원구  </td><td>Nowon       </td><td>2021-01-01</td><td>41994</td></tr>\n",
              "\t<tr><td>서울</td><td>은평구  </td><td>Eunpyeong   </td><td>2021-01-01</td><td>25442</td></tr>\n",
              "\t<tr><td>서울</td><td>서대문구</td><td>Seodaemun   </td><td>2021-01-01</td><td>23065</td></tr>\n",
              "\t<tr><td>서울</td><td>마포구  </td><td>Mapo        </td><td>2021-01-01</td><td>48660</td></tr>\n",
              "\t<tr><td>서울</td><td>양천구  </td><td>Yangcheon   </td><td>2021-01-01</td><td>43330</td></tr>\n",
              "\t<tr><td>서울</td><td>강서구  </td><td>Gangseo     </td><td>2021-01-01</td><td>75019</td></tr>\n",
              "\t<tr><td>서울</td><td>구로구  </td><td>Guro        </td><td>2021-01-01</td><td>31633</td></tr>\n",
              "\t<tr><td>서울</td><td>금천구  </td><td>Geumcheon   </td><td>2021-01-01</td><td>13494</td></tr>\n",
              "\t<tr><td>서울</td><td>영등포구</td><td>Yeongdeungpo</td><td>2021-01-01</td><td>64359</td></tr>\n",
              "\t<tr><td>서울</td><td>동작구  </td><td>Dongjak     </td><td>2021-01-01</td><td>18950</td></tr>\n",
              "\t<tr><td>서울</td><td>관악구  </td><td>Gwanak      </td><td>2021-01-01</td><td>27457</td></tr>\n",
              "\t<tr><td>서울</td><td>서초구  </td><td>Seocho      </td><td>2021-01-01</td><td>29483</td></tr>\n",
              "\t<tr><td>서울</td><td>강남구  </td><td>Gangnam     </td><td>2021-01-01</td><td>24706</td></tr>\n",
              "\t<tr><td>서울</td><td>송파구  </td><td>Songpa      </td><td>2021-01-01</td><td>54819</td></tr>\n",
              "\t<tr><td>서울</td><td>강동구  </td><td>Gangdong    </td><td>2021-01-01</td><td>26158</td></tr>\n",
              "</tbody>\n",
              "</table>\n"
            ]
          },
          "metadata": {
            "tags": []
          }
        }
      ]
    },
    {
      "cell_type": "markdown",
      "metadata": {
        "id": "0aNUPF33bKpu"
      },
      "source": [
        "# **데이터 정리** "
      ]
    },
    {
      "cell_type": "markdown",
      "metadata": {
        "id": "NH3gnYgofR62"
      },
      "source": [
        "## 데이터 불러오기"
      ]
    },
    {
      "cell_type": "code",
      "metadata": {
        "colab": {
          "base_uri": "https://localhost:8080/"
        },
        "id": "DAh-FMwfdkkX",
        "outputId": "afcb3ebc-c2d4-4e51-b2ea-3e12d2c2e580"
      },
      "source": [
        "pop <- read.csv('(중복)2019_전주시 동별 인구.csv', header=FALSE, stringsAsFactors=FALSE, fileEncoding = \"euc-kr\")\n",
        "rest <- read.csv('(중복)동별 음식점 및 주점업 사업체수(2018).csv', header=FALSE, stringsAsFactors=FALSE, fileEncoding = \"euc-kr\")\n",
        "bicycle <- read.csv('(행정동)12_04_03_E_자전거보관소정보.csv', header=FALSE, stringsAsFactors=FALSE, fileEncoding = \"euc-kr\")\n",
        "bigstore <- read.csv('(행정동)대규모점포현황_2020.csv', header=FALSE, stringsAsFactors=FALSE, fileEncoding = \"euc-kr\")\n",
        "cvstore <- read.csv('(행정동)동별 체인화 편의점 + 사업체수 (2018년).csv', header=FALSE, stringsAsFactors=FALSE, fileEncoding = \"euc-kr\")\n",
        "univ <- read.csv('(행정동)전주시 대학교.csv', header=FALSE, stringsAsFactors=FALSE, fileEncoding = \"euc-kr\")\n",
        "region <- read.csv('(행정동)전주시 행정동 면적.csv', header=FALSE, stringsAsFactors=FALSE, fileEncoding = \"euc-kr\")\n",
        "\n",
        "library(dplyr)\n",
        "install.packages(\"plyr\")\n",
        "library(plyr)"
      ],
      "execution_count": 9,
      "outputs": [
        {
          "output_type": "stream",
          "text": [
            "Installing package into ‘/usr/local/lib/R/site-library’\n",
            "(as ‘lib’ is unspecified)\n",
            "\n",
            "------------------------------------------------------------------------------\n",
            "\n",
            "You have loaded plyr after dplyr - this is likely to cause problems.\n",
            "If you need functions from both plyr and dplyr, please load plyr first, then dplyr:\n",
            "library(plyr); library(dplyr)\n",
            "\n",
            "------------------------------------------------------------------------------\n",
            "\n",
            "\n",
            "Attaching package: ‘plyr’\n",
            "\n",
            "\n",
            "The following objects are masked from ‘package:dplyr’:\n",
            "\n",
            "    arrange, count, desc, failwith, id, mutate, rename, summarise,\n",
            "    summarize\n",
            "\n",
            "\n"
          ],
          "name": "stderr"
        }
      ]
    },
    {
      "cell_type": "code",
      "metadata": {
        "colab": {
          "base_uri": "https://localhost:8080/",
          "height": 52
        },
        "id": "g1U1SxfLdt7o",
        "outputId": "7a74cd41-b301-433f-ac10-1444812a2de4"
      },
      "source": [
        "jjdong <- read.csv('전주 행정동_가나다순.csv', header=FALSE, stringsAsFactors=FALSE, fileEncoding = \"euc-kr\")\n",
        "jjdong <- jjdong$V1\n",
        "str(jjdong)\n",
        "head(jjdong)"
      ],
      "execution_count": 10,
      "outputs": [
        {
          "output_type": "stream",
          "text": [
            " chr [1:36] \"행정동\" \"금암1동\" \"금암2동\" \"노송동\" \"덕진동\" \"동서학동\" ...\n"
          ],
          "name": "stdout"
        },
        {
          "output_type": "display_data",
          "data": {
            "text/plain": [
              "[1] \"행정동\"   \"금암1동\"  \"금암2동\"  \"노송동\"   \"덕진동\"   \"동서학동\""
            ],
            "text/latex": "\\begin{enumerate*}\n\\item '행정동'\n\\item '금암1동'\n\\item '금암2동'\n\\item '노송동'\n\\item '덕진동'\n\\item '동서학동'\n\\end{enumerate*}\n",
            "text/markdown": "1. '행정동'\n2. '금암1동'\n3. '금암2동'\n4. '노송동'\n5. '덕진동'\n6. '동서학동'\n\n\n",
            "text/html": [
              "<style>\n",
              ".list-inline {list-style: none; margin:0; padding: 0}\n",
              ".list-inline>li {display: inline-block}\n",
              ".list-inline>li:not(:last-child)::after {content: \"\\00b7\"; padding: 0 .5ex}\n",
              "</style>\n",
              "<ol class=list-inline><li>'행정동'</li><li>'금암1동'</li><li>'금암2동'</li><li>'노송동'</li><li>'덕진동'</li><li>'동서학동'</li></ol>\n"
            ]
          },
          "metadata": {
            "tags": []
          }
        }
      ]
    },
    {
      "cell_type": "markdown",
      "metadata": {
        "id": "_RSEXEIigFUE"
      },
      "source": [
        "## 인구수"
      ]
    },
    {
      "cell_type": "code",
      "metadata": {
        "colab": {
          "base_uri": "https://localhost:8080/",
          "height": 355
        },
        "id": "5AeKaQYcd3AQ",
        "outputId": "33dd57a4-8e34-436b-9983-6aa4517e11ca"
      },
      "source": [
        "str(pop) ####\n",
        "head(pop)"
      ],
      "execution_count": 11,
      "outputs": [
        {
          "output_type": "stream",
          "text": [
            "'data.frame':\t36 obs. of  3 variables:\n",
            " $ V1: chr  \"구\" \"완산구\" \"완산구\" \"완산구\" ...\n",
            " $ V2: chr  \"동\" \"중앙동\" \"풍남동\" \"노송동\" ...\n",
            " $ V3: chr  \"인구\" \"8073\" \"4521\" \"13189\" ...\n"
          ],
          "name": "stdout"
        },
        {
          "output_type": "display_data",
          "data": {
            "text/plain": [
              "  V1     V2       V3   \n",
              "1 구     동       인구 \n",
              "2 완산구 중앙동   8073 \n",
              "3 완산구 풍남동   4521 \n",
              "4 완산구 노송동   13189\n",
              "5 완산구 완산동   5148 \n",
              "6 완산구 동서학동 6784 "
            ],
            "text/latex": "A data.frame: 6 × 3\n\\begin{tabular}{r|lll}\n  & V1 & V2 & V3\\\\\n  & <chr> & <chr> & <chr>\\\\\n\\hline\n\t1 & 구     & 동       & 인구 \\\\\n\t2 & 완산구 & 중앙동   & 8073 \\\\\n\t3 & 완산구 & 풍남동   & 4521 \\\\\n\t4 & 완산구 & 노송동   & 13189\\\\\n\t5 & 완산구 & 완산동   & 5148 \\\\\n\t6 & 완산구 & 동서학동 & 6784 \\\\\n\\end{tabular}\n",
            "text/markdown": "\nA data.frame: 6 × 3\n\n| <!--/--> | V1 &lt;chr&gt; | V2 &lt;chr&gt; | V3 &lt;chr&gt; |\n|---|---|---|---|\n| 1 | 구     | 동       | 인구  |\n| 2 | 완산구 | 중앙동   | 8073  |\n| 3 | 완산구 | 풍남동   | 4521  |\n| 4 | 완산구 | 노송동   | 13189 |\n| 5 | 완산구 | 완산동   | 5148  |\n| 6 | 완산구 | 동서학동 | 6784  |\n\n",
            "text/html": [
              "<table class=\"dataframe\">\n",
              "<caption>A data.frame: 6 × 3</caption>\n",
              "<thead>\n",
              "\t<tr><th></th><th scope=col>V1</th><th scope=col>V2</th><th scope=col>V3</th></tr>\n",
              "\t<tr><th></th><th scope=col>&lt;chr&gt;</th><th scope=col>&lt;chr&gt;</th><th scope=col>&lt;chr&gt;</th></tr>\n",
              "</thead>\n",
              "<tbody>\n",
              "\t<tr><th scope=row>1</th><td>구    </td><td>동      </td><td>인구 </td></tr>\n",
              "\t<tr><th scope=row>2</th><td>완산구</td><td>중앙동  </td><td>8073 </td></tr>\n",
              "\t<tr><th scope=row>3</th><td>완산구</td><td>풍남동  </td><td>4521 </td></tr>\n",
              "\t<tr><th scope=row>4</th><td>완산구</td><td>노송동  </td><td>13189</td></tr>\n",
              "\t<tr><th scope=row>5</th><td>완산구</td><td>완산동  </td><td>5148 </td></tr>\n",
              "\t<tr><th scope=row>6</th><td>완산구</td><td>동서학동</td><td>6784 </td></tr>\n",
              "</tbody>\n",
              "</table>\n"
            ]
          },
          "metadata": {
            "tags": []
          }
        }
      ]
    },
    {
      "cell_type": "code",
      "metadata": {
        "colab": {
          "base_uri": "https://localhost:8080/",
          "height": 125
        },
        "id": "-P5viKcfd6zu",
        "outputId": "3e9a354c-6a1e-4b70-c261-354e7b946ddf"
      },
      "source": [
        "pop <- pop[,c(2,3)]\n",
        "names(pop)[1] <- \"행정동\"\n",
        "pop <- arrange(pop, pop$행정동)\n",
        "table(pop$행정동 %in% jjdong) # 인구수 데이터에 있는 행정동 중 누락된 행정동 찾기 (FALSE가 누락된 행정동!)\n",
        "table(jjdong %in% pop$행정동)"
      ],
      "execution_count": 12,
      "outputs": [
        {
          "output_type": "display_data",
          "data": {
            "text/plain": [
              "\n",
              "FALSE  TRUE \n",
              "    2    34 "
            ]
          },
          "metadata": {
            "tags": []
          }
        },
        {
          "output_type": "display_data",
          "data": {
            "text/plain": [
              "\n",
              "FALSE  TRUE \n",
              "    2    34 "
            ]
          },
          "metadata": {
            "tags": []
          }
        }
      ]
    },
    {
      "cell_type": "code",
      "metadata": {
        "colab": {
          "base_uri": "https://localhost:8080/",
          "height": 51
        },
        "id": "s2C-_kP7gZUL",
        "outputId": "2204aede-a682-4ce5-aaaf-4ce02ca70506"
      },
      "source": [
        "pop$행정동[pop$행정동 %in% jjdong == FALSE] #jjdong에는 없는 pop의 행정동\n",
        "jjdong[jjdong %in% pop$행정동 == FALSE] #pop에는 없는 jjdong의 행정동 "
      ],
      "execution_count": 13,
      "outputs": [
        {
          "output_type": "display_data",
          "data": {
            "text/plain": [
              "[1] \"동\"     \"동산동\""
            ],
            "text/latex": "\\begin{enumerate*}\n\\item '동'\n\\item '동산동'\n\\end{enumerate*}\n",
            "text/markdown": "1. '동'\n2. '동산동'\n\n\n",
            "text/html": [
              "<style>\n",
              ".list-inline {list-style: none; margin:0; padding: 0}\n",
              ".list-inline>li {display: inline-block}\n",
              ".list-inline>li:not(:last-child)::after {content: \"\\00b7\"; padding: 0 .5ex}\n",
              "</style>\n",
              "<ol class=list-inline><li>'동'</li><li>'동산동'</li></ol>\n"
            ]
          },
          "metadata": {
            "tags": []
          }
        },
        {
          "output_type": "display_data",
          "data": {
            "text/plain": [
              "[1] \"행정동\" \"여의동\""
            ],
            "text/latex": "\\begin{enumerate*}\n\\item '행정동'\n\\item '여의동'\n\\end{enumerate*}\n",
            "text/markdown": "1. '행정동'\n2. '여의동'\n\n\n",
            "text/html": [
              "<style>\n",
              ".list-inline {list-style: none; margin:0; padding: 0}\n",
              ".list-inline>li {display: inline-block}\n",
              ".list-inline>li:not(:last-child)::after {content: \"\\00b7\"; padding: 0 .5ex}\n",
              "</style>\n",
              "<ol class=list-inline><li>'행정동'</li><li>'여의동'</li></ol>\n"
            ]
          },
          "metadata": {
            "tags": []
          }
        }
      ]
    },
    {
      "cell_type": "markdown",
      "metadata": {
        "id": "nHGO4Fq5hLbs"
      },
      "source": [
        "동산동이 여의동으로 바뀌어서 누락된 것임!"
      ]
    },
    {
      "cell_type": "code",
      "metadata": {
        "id": "BkmZiHUpga1X"
      },
      "source": [
        "pop$행정동[which(pop$행정동 == \"동산동\")] <- \"여의동\" ## 19년 8월에 동산동을 여의동으로 변경, https://www.hani.co.kr/arti/area/honam/905848.html?_fr=mt2"
      ],
      "execution_count": 14,
      "outputs": []
    },
    {
      "cell_type": "code",
      "metadata": {
        "colab": {
          "base_uri": "https://localhost:8080/",
          "height": 125
        },
        "id": "PO3_X0K5hU7m",
        "outputId": "f7bd2f91-dc5e-443a-d2f2-219966266559"
      },
      "source": [
        "table(pop$행정동 %in% jjdong) # 인구수 데이터에 있는 행정동 중 누락된 행정동 찾기 (FALSE가 누락된 행정동!)\n",
        "table(jjdong %in% pop$행정동)"
      ],
      "execution_count": 15,
      "outputs": [
        {
          "output_type": "display_data",
          "data": {
            "text/plain": [
              "\n",
              "FALSE  TRUE \n",
              "    1    35 "
            ]
          },
          "metadata": {
            "tags": []
          }
        },
        {
          "output_type": "display_data",
          "data": {
            "text/plain": [
              "\n",
              "FALSE  TRUE \n",
              "    1    35 "
            ]
          },
          "metadata": {
            "tags": []
          }
        }
      ]
    },
    {
      "cell_type": "markdown",
      "metadata": {
        "id": "ttpkqNIxh71m"
      },
      "source": [
        "이런식으로 데이터를 정리했는데.........\n",
        "\n",
        "인구수 / 음식점수 / 편의점수 / 면적 은 정리했는데\n",
        "\n",
        "\n",
        "자전거 보관대 수 / 대규모점포수 / 대학교수 는 동별로 그룹화하는데서 왠지 모를 오류가 뜨는 중 ㅠㅅㅠ"
      ]
    },
    {
      "cell_type": "markdown",
      "metadata": {
        "id": "lQjBmPSGiQLO"
      },
      "source": [
        "## 최종 데이터셋\n",
        "\n",
        "저런 식으로 나머지 데이터들도 정리하다보면\n",
        "jj처럼 정리할 수 있음 (동별로 데이터 정리!)"
      ]
    },
    {
      "cell_type": "code",
      "metadata": {
        "colab": {
          "base_uri": "https://localhost:8080/",
          "height": 1000
        },
        "id": "eUwyhCqyeeyq",
        "outputId": "69ca1f54-40d0-4327-a424-183cd243a40b"
      },
      "source": [
        "jj <- merge(pop, rest)\n",
        "jj <- merge(jj, cvstore)\n",
        "jj <- merge(jj, region)\n",
        "jj <- jj[,-1]\n",
        "jj #차례대로 동별 인구수, 음식점수, 편의점수, 면적"
      ],
      "execution_count": null,
      "outputs": [
        {
          "output_type": "display_data",
          "data": {
            "text/plain": [
              "   V3    음식점수 V4 면적.km\n",
              "1  8824  323      25 1.25   \n",
              "2  10714 119      8  1.25   \n",
              "3  13189 193      5  2.09   \n",
              "4  21215 468      29 4.78   \n",
              "5  6784  67       6  15.64  \n",
              "6  14447 216      9  0.95   \n",
              "7  23323 219      13 26.6   \n",
              "8  40408 560      31 2.39   \n",
              "9  59376 347      30 4.79   \n",
              "10 26748 288      14 12.14  \n",
              "11 30208 184      22 15.71  \n",
              "12 10096 227      14 1.44   \n",
              "13 15125 389      36 22.91  \n",
              "14 19047 147      8  1.29   \n",
              "15 12094 174      7  1.32   \n",
              "16 32426 335      30 1.68   \n",
              "17 12133 90       7  24.28  \n",
              "18 8073  567      17 1.35   \n",
              "19 15288 227      19 1.22   \n",
              "20 20030 491      20 1.72   \n",
              "21 14924 145      8  1.71   \n",
              "22 8300  120      10 7.38   \n",
              "23 13204 108      8  1.49   \n",
              "24 46295 372      21 15.23  \n",
              "25 4521  488      16 2.05   \n",
              "26 17925 176      11 3.37   \n",
              "27 21154 121      9  7.64   \n",
              "28 10861 144      6  0.84   \n",
              "29 15758 156      9  0.79   \n",
              "30 33756 378      36 7.71   \n",
              "31 37898 805      60 6.27   "
            ],
            "text/latex": "A data.frame: 31 × 4\n\\begin{tabular}{llll}\n V3 & 음식점수 & V4 & 면적.km\\\\\n <chr> & <chr> & <chr> & <chr>\\\\\n\\hline\n\t 8824  & 323 & 25 & 1.25 \\\\\n\t 10714 & 119 & 8  & 1.25 \\\\\n\t 13189 & 193 & 5  & 2.09 \\\\\n\t 21215 & 468 & 29 & 4.78 \\\\\n\t 6784  & 67  & 6  & 15.64\\\\\n\t 14447 & 216 & 9  & 0.95 \\\\\n\t 23323 & 219 & 13 & 26.6 \\\\\n\t 40408 & 560 & 31 & 2.39 \\\\\n\t 59376 & 347 & 30 & 4.79 \\\\\n\t 26748 & 288 & 14 & 12.14\\\\\n\t 30208 & 184 & 22 & 15.71\\\\\n\t 10096 & 227 & 14 & 1.44 \\\\\n\t 15125 & 389 & 36 & 22.91\\\\\n\t 19047 & 147 & 8  & 1.29 \\\\\n\t 12094 & 174 & 7  & 1.32 \\\\\n\t 32426 & 335 & 30 & 1.68 \\\\\n\t 12133 & 90  & 7  & 24.28\\\\\n\t 8073  & 567 & 17 & 1.35 \\\\\n\t 15288 & 227 & 19 & 1.22 \\\\\n\t 20030 & 491 & 20 & 1.72 \\\\\n\t 14924 & 145 & 8  & 1.71 \\\\\n\t 8300  & 120 & 10 & 7.38 \\\\\n\t 13204 & 108 & 8  & 1.49 \\\\\n\t 46295 & 372 & 21 & 15.23\\\\\n\t 4521  & 488 & 16 & 2.05 \\\\\n\t 17925 & 176 & 11 & 3.37 \\\\\n\t 21154 & 121 & 9  & 7.64 \\\\\n\t 10861 & 144 & 6  & 0.84 \\\\\n\t 15758 & 156 & 9  & 0.79 \\\\\n\t 33756 & 378 & 36 & 7.71 \\\\\n\t 37898 & 805 & 60 & 6.27 \\\\\n\\end{tabular}\n",
            "text/markdown": "\nA data.frame: 31 × 4\n\n| V3 &lt;chr&gt; | 음식점수 &lt;chr&gt; | V4 &lt;chr&gt; | 면적.km &lt;chr&gt; |\n|---|---|---|---|\n| 8824  | 323 | 25 | 1.25  |\n| 10714 | 119 | 8  | 1.25  |\n| 13189 | 193 | 5  | 2.09  |\n| 21215 | 468 | 29 | 4.78  |\n| 6784  | 67  | 6  | 15.64 |\n| 14447 | 216 | 9  | 0.95  |\n| 23323 | 219 | 13 | 26.6  |\n| 40408 | 560 | 31 | 2.39  |\n| 59376 | 347 | 30 | 4.79  |\n| 26748 | 288 | 14 | 12.14 |\n| 30208 | 184 | 22 | 15.71 |\n| 10096 | 227 | 14 | 1.44  |\n| 15125 | 389 | 36 | 22.91 |\n| 19047 | 147 | 8  | 1.29  |\n| 12094 | 174 | 7  | 1.32  |\n| 32426 | 335 | 30 | 1.68  |\n| 12133 | 90  | 7  | 24.28 |\n| 8073  | 567 | 17 | 1.35  |\n| 15288 | 227 | 19 | 1.22  |\n| 20030 | 491 | 20 | 1.72  |\n| 14924 | 145 | 8  | 1.71  |\n| 8300  | 120 | 10 | 7.38  |\n| 13204 | 108 | 8  | 1.49  |\n| 46295 | 372 | 21 | 15.23 |\n| 4521  | 488 | 16 | 2.05  |\n| 17925 | 176 | 11 | 3.37  |\n| 21154 | 121 | 9  | 7.64  |\n| 10861 | 144 | 6  | 0.84  |\n| 15758 | 156 | 9  | 0.79  |\n| 33756 | 378 | 36 | 7.71  |\n| 37898 | 805 | 60 | 6.27  |\n\n",
            "text/html": [
              "<table class=\"dataframe\">\n",
              "<caption>A data.frame: 31 × 4</caption>\n",
              "<thead>\n",
              "\t<tr><th scope=col>V3</th><th scope=col>음식점수</th><th scope=col>V4</th><th scope=col>면적.km</th></tr>\n",
              "\t<tr><th scope=col>&lt;chr&gt;</th><th scope=col>&lt;chr&gt;</th><th scope=col>&lt;chr&gt;</th><th scope=col>&lt;chr&gt;</th></tr>\n",
              "</thead>\n",
              "<tbody>\n",
              "\t<tr><td>8824 </td><td>323</td><td>25</td><td>1.25 </td></tr>\n",
              "\t<tr><td>10714</td><td>119</td><td>8 </td><td>1.25 </td></tr>\n",
              "\t<tr><td>13189</td><td>193</td><td>5 </td><td>2.09 </td></tr>\n",
              "\t<tr><td>21215</td><td>468</td><td>29</td><td>4.78 </td></tr>\n",
              "\t<tr><td>6784 </td><td>67 </td><td>6 </td><td>15.64</td></tr>\n",
              "\t<tr><td>14447</td><td>216</td><td>9 </td><td>0.95 </td></tr>\n",
              "\t<tr><td>23323</td><td>219</td><td>13</td><td>26.6 </td></tr>\n",
              "\t<tr><td>40408</td><td>560</td><td>31</td><td>2.39 </td></tr>\n",
              "\t<tr><td>59376</td><td>347</td><td>30</td><td>4.79 </td></tr>\n",
              "\t<tr><td>26748</td><td>288</td><td>14</td><td>12.14</td></tr>\n",
              "\t<tr><td>30208</td><td>184</td><td>22</td><td>15.71</td></tr>\n",
              "\t<tr><td>10096</td><td>227</td><td>14</td><td>1.44 </td></tr>\n",
              "\t<tr><td>15125</td><td>389</td><td>36</td><td>22.91</td></tr>\n",
              "\t<tr><td>19047</td><td>147</td><td>8 </td><td>1.29 </td></tr>\n",
              "\t<tr><td>12094</td><td>174</td><td>7 </td><td>1.32 </td></tr>\n",
              "\t<tr><td>32426</td><td>335</td><td>30</td><td>1.68 </td></tr>\n",
              "\t<tr><td>12133</td><td>90 </td><td>7 </td><td>24.28</td></tr>\n",
              "\t<tr><td>8073 </td><td>567</td><td>17</td><td>1.35 </td></tr>\n",
              "\t<tr><td>15288</td><td>227</td><td>19</td><td>1.22 </td></tr>\n",
              "\t<tr><td>20030</td><td>491</td><td>20</td><td>1.72 </td></tr>\n",
              "\t<tr><td>14924</td><td>145</td><td>8 </td><td>1.71 </td></tr>\n",
              "\t<tr><td>8300 </td><td>120</td><td>10</td><td>7.38 </td></tr>\n",
              "\t<tr><td>13204</td><td>108</td><td>8 </td><td>1.49 </td></tr>\n",
              "\t<tr><td>46295</td><td>372</td><td>21</td><td>15.23</td></tr>\n",
              "\t<tr><td>4521 </td><td>488</td><td>16</td><td>2.05 </td></tr>\n",
              "\t<tr><td>17925</td><td>176</td><td>11</td><td>3.37 </td></tr>\n",
              "\t<tr><td>21154</td><td>121</td><td>9 </td><td>7.64 </td></tr>\n",
              "\t<tr><td>10861</td><td>144</td><td>6 </td><td>0.84 </td></tr>\n",
              "\t<tr><td>15758</td><td>156</td><td>9 </td><td>0.79 </td></tr>\n",
              "\t<tr><td>33756</td><td>378</td><td>36</td><td>7.71 </td></tr>\n",
              "\t<tr><td>37898</td><td>805</td><td>60</td><td>6.27 </td></tr>\n",
              "</tbody>\n",
              "</table>\n"
            ]
          },
          "metadata": {
            "tags": []
          }
        }
      ]
    },
    {
      "cell_type": "markdown",
      "metadata": {
        "id": "RIeA4EksiaNQ"
      },
      "source": [
        "그래서 상관분석을 실행하면 되는데 여기서는 왜 오류가 뜨지?-?\n",
        "\n",
        "\n",
        "\n",
        "\n",
        "R에서는 이런 식으로 나옴!\n",
        "\n",
        "\n",
        "![d캡처.PNG](data:image/png;base64,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)\n"
      ]
    },
    {
      "cell_type": "code",
      "metadata": {
        "colab": {
          "base_uri": "https://localhost:8080/",
          "height": 154
        },
        "id": "CFB-d3JG4AHg",
        "outputId": "92b444af-9182-4416-e35a-db19d6c5ecc2"
      },
      "source": [
        "cor(jj)"
      ],
      "execution_count": null,
      "outputs": [
        {
          "output_type": "error",
          "ename": "ERROR",
          "evalue": "ignored",
          "traceback": [
            "Error in cor(jj): 'x' must be numeric\nTraceback:\n",
            "1. cor(jj)",
            "2. stop(\"'x' must be numeric\")"
          ]
        }
      ]
    }
  ]
}