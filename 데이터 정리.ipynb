{
  "nbformat": 4,
  "nbformat_minor": 0,
  "metadata": {
    "colab": {
      "name": "Untitled9.ipynb",
      "provenance": [],
      "authorship_tag": "ABX9TyNAbAukhd64r04bHP3l+6cX",
      "include_colab_link": true
    },
    "kernelspec": {
      "name": "ir",
      "display_name": "R"
    },
    "language_info": {
      "name": "R"
    }
  },
  "cells": [
    {
      "cell_type": "markdown",
      "metadata": {
        "id": "view-in-github",
        "colab_type": "text"
      },
      "source": [
        "<a href=\"https://colab.research.google.com/github/mjiii25/jeonju/blob/main/%EB%8D%B0%EC%9D%B4%ED%84%B0%20%EC%A0%95%EB%A6%AC.ipynb\" target=\"_parent\"><img src=\"https://colab.research.google.com/assets/colab-badge.svg\" alt=\"Open In Colab\"/></a>"
      ]
    },
    {
      "cell_type": "markdown",
      "metadata": {
        "id": "dVi2ZRXabTIG"
      },
      "source": [
        "# R 실행\n",
        "\n",
        "https://gist.github.com/jobdiogenes/235620928c84e604c6e56211ccf681f0"
      ]
    },
    {
      "cell_type": "code",
      "metadata": {
        "colab": {
          "base_uri": "https://localhost:8080/"
        },
        "id": "IoDbJVG7alub",
        "outputId": "afcfb712-bb23-4b45-8e13-effbfe6537dc"
      },
      "source": [
        "# Check if is running in Colab and redefine is_interactive()\n",
        "if (file.exists(\"/usr/local/lib/python3.7/dist-packages/google/colab/_ipython.py\")) {\n",
        "  install.packages(\"R.utils\")\n",
        "  library(\"R.utils\")\n",
        "  library(\"httr\")\n",
        "  my_check <- function() {return(TRUE)}\n",
        "  reassignInPackage(\"is_interactive\", pkgName = \"httr\", my_check) \n",
        "  options(rlang_interactive=TRUE)\n",
        "}"
      ],
      "execution_count": 14,
      "outputs": [
        {
          "output_type": "stream",
          "text": [
            "Installing package into ‘/usr/local/lib/R/site-library’\n",
            "(as ‘lib’ is unspecified)\n",
            "\n",
            "also installing the dependencies ‘R.oo’, ‘R.methodsS3’\n",
            "\n",
            "\n",
            "Loading required package: R.oo\n",
            "\n",
            "Loading required package: R.methodsS3\n",
            "\n",
            "R.methodsS3 v1.8.1 (2020-08-26 16:20:06 UTC) successfully loaded. See ?R.methodsS3 for help.\n",
            "\n",
            "R.oo v1.24.0 (2020-08-26 16:11:58 UTC) successfully loaded. See ?R.oo for help.\n",
            "\n",
            "\n",
            "Attaching package: ‘R.oo’\n",
            "\n",
            "\n",
            "The following object is masked from ‘package:R.methodsS3’:\n",
            "\n",
            "    throw\n",
            "\n",
            "\n",
            "The following objects are masked from ‘package:methods’:\n",
            "\n",
            "    getClasses, getMethods\n",
            "\n",
            "\n",
            "The following objects are masked from ‘package:base’:\n",
            "\n",
            "    attach, detach, load, save\n",
            "\n",
            "\n",
            "R.utils v2.10.1 (2020-08-26 22:50:31 UTC) successfully loaded. See ?R.utils for help.\n",
            "\n",
            "\n",
            "Attaching package: ‘R.utils’\n",
            "\n",
            "\n",
            "The following object is masked from ‘package:utils’:\n",
            "\n",
            "    timestamp\n",
            "\n",
            "\n",
            "The following objects are masked from ‘package:base’:\n",
            "\n",
            "    cat, commandArgs, getOption, inherits, isOpen, nullfile, parse,\n",
            "    warnings\n",
            "\n",
            "\n"
          ],
          "name": "stderr"
        }
      ]
    },
    {
      "cell_type": "code",
      "metadata": {
        "id": "va2I2kGQasIw"
      },
      "source": [
        "# If ts not available we need to install . put other packages if you need.\n",
        "packages <- c(\"googledrive\", \"googlesheets4\")\n",
        "if (length(setdiff(packages, rownames(installed.packages()))) > 0) {\n",
        "  install.packages(setdiff(packages, rownames(installed.packages())))  \n",
        "}"
      ],
      "execution_count": 15,
      "outputs": []
    },
    {
      "cell_type": "code",
      "metadata": {
        "colab": {
          "base_uri": "https://localhost:8080/"
        },
        "id": "1S362jWsawQ-",
        "outputId": "1c31f803-2363-4db1-9b68-97e73d6df6e6"
      },
      "source": [
        "library(\"googledrive\")\n",
        "library(\"googlesheets4\")"
      ],
      "execution_count": 16,
      "outputs": [
        {
          "output_type": "stream",
          "text": [
            "\n",
            "Attaching package: ‘googlesheets4’\n",
            "\n",
            "\n",
            "The following objects are masked from ‘package:googledrive’:\n",
            "\n",
            "    request_generate, request_make\n",
            "\n",
            "\n"
          ],
          "name": "stderr"
        }
      ]
    },
    {
      "cell_type": "code",
      "metadata": {
        "colab": {
          "base_uri": "https://localhost:8080/"
        },
        "id": "IyDQWX6may1K",
        "outputId": "c975e60a-9ebd-4fb8-bbee-462db0295a02"
      },
      "source": [
        "# call authentication forcing interactive login and save in cache. \n",
        "drive_auth(use_oob = TRUE, cache = TRUE)"
      ],
      "execution_count": 17,
      "outputs": [
        {
          "output_type": "stream",
          "text": [
            "Please point your browser to the following url: \n",
            "\n",
            "https://accounts.google.com/o/oauth2/auth?client_id=603366585132-dpeg5tt0et3go5of2374d83ifevk5086.apps.googleusercontent.com&scope=https%3A%2F%2Fwww.googleapis.com%2Fauth%2Fdrive%20https%3A%2F%2Fwww.googleapis.com%2Fauth%2Fuserinfo.email&redirect_uri=urn%3Aietf%3Awg%3Aoauth%3A2.0%3Aoob&response_type=code\n",
            "\n"
          ],
          "name": "stderr"
        },
        {
          "output_type": "stream",
          "text": [
            "Enter authorization code: 4/1AY0e-g4J1WemvT9vVcsyEpoqBw5vyhNgbTXLsbaiuJAv7lAzsOA859OLEhg\n"
          ],
          "name": "stdout"
        }
      ]
    },
    {
      "cell_type": "code",
      "metadata": {
        "id": "VHB7jRfca8T6"
      },
      "source": [
        "# Find Google Sheets anf get the id of the first sheet \n",
        "Sheets <- drive_find(type = \"spreadsheet\")\n",
        "first_id <- Sheets$id[1]"
      ],
      "execution_count": 18,
      "outputs": []
    },
    {
      "cell_type": "code",
      "metadata": {
        "colab": {
          "base_uri": "https://localhost:8080/"
        },
        "id": "xWH8JGGObArO",
        "outputId": "e90ee4cb-6691-4680-98d9-ae12a59dc50d"
      },
      "source": [
        "# reuse token to Sheet Auth. \n",
        "sheets_auth(token = drive_token())"
      ],
      "execution_count": 19,
      "outputs": [
        {
          "output_type": "stream",
          "text": [
            "Warning message:\n",
            "“`sheets_auth()` was deprecated in googlesheets4 0.2.0.\n",
            "Please use `gs4_auth()` instead.\n",
            "\u001b[90mThis warning is displayed once every 8 hours.\u001b[39m\n",
            "\u001b[90mCall `lifecycle::last_warnings()` to see where this warning was generated.\u001b[39m”\n"
          ],
          "name": "stderr"
        }
      ]
    },
    {
      "cell_type": "code",
      "metadata": {
        "colab": {
          "base_uri": "https://localhost:8080/",
          "height": 1000
        },
        "id": "VCko-jGkbDnG",
        "outputId": "d99df270-aef5-43ad-ee84-f9579ca72551"
      },
      "source": [
        "# show data\n",
        "sheets_read(first_id)"
      ],
      "execution_count": 20,
      "outputs": [
        {
          "output_type": "stream",
          "text": [
            "Warning message:\n",
            "“`sheets_read()` was deprecated in googlesheets4 0.2.0.\n",
            "Please use `range_read()` instead.\n",
            "\u001b[90mThis warning is displayed once every 8 hours.\u001b[39m\n",
            "\u001b[90mCall `lifecycle::last_warnings()` to see where this warning was generated.\u001b[39m”\n",
            "Reading from \"gu_usage\"\n",
            "\n",
            "Range \"gu_usage\"\n",
            "\n"
          ],
          "name": "stderr"
        },
        {
          "output_type": "display_data",
          "data": {
            "text/plain": [
              "    province gu       gu_eng       date       count \n",
              "1   서울     종로구   Jongno       2020-07-01  85935\n",
              "2   서울     중구     Jung         2020-07-01  52417\n",
              "3   서울     용산구   Yongsan      2020-07-01  58354\n",
              "4   서울     성동구   Seongdong    2020-07-01 106216\n",
              "5   서울     광진구   Kwangjin     2020-07-01 125735\n",
              "6   서울     동대문구 Dongdaemun   2020-07-01  93487\n",
              "7   서울     중랑구   Jungnang     2020-07-01  76841\n",
              "8   서울     성북구   Seongbuk     2020-07-01  81364\n",
              "9   서울     강북구   Gangbuk      2020-07-01  54503\n",
              "10  서울     도봉구   Dobong       2020-07-01  58420\n",
              "11  서울     노원구   Nowon        2020-07-01 157281\n",
              "12  서울     은평구   Eunpyeong    2020-07-01  81923\n",
              "13  서울     서대문구 Seodaemun    2020-07-01  65144\n",
              "14  서울     마포구   Mapo         2020-07-01 155009\n",
              "15  서울     양천구   Yangcheon    2020-07-01 119956\n",
              "16  서울     강서구   Gangseo      2020-07-01 224984\n",
              "17  서울     구로구   Guro         2020-07-01 106619\n",
              "18  서울     금천구   Geumcheon    2020-07-01  43940\n",
              "19  서울     영등포구 Yeongdeungpo 2020-07-01 209515\n",
              "20  서울     동작구   Dongjak      2020-07-01  67929\n",
              "21  서울     관악구   Gwanak       2020-07-01  92451\n",
              "22  서울     서초구   Seocho       2020-07-01 101631\n",
              "23  서울     강남구   Gangnam      2020-07-01  79194\n",
              "24  서울     송파구   Songpa       2020-07-01 185529\n",
              "25  서울     강동구   Gangdong     2020-07-01  97719\n",
              "26  서울     종로구   Jongno       2020-08-01  65729\n",
              "27  서울     중구     Jung         2020-08-01  40401\n",
              "28  서울     용산구   Yongsan      2020-08-01  36762\n",
              "29  서울     성동구   Seongdong    2020-08-01  65323\n",
              "30  서울     광진구   Kwangjin     2020-08-01  75051\n",
              "⋮   ⋮        ⋮        ⋮            ⋮          ⋮     \n",
              "146 서울     관악구   Gwanak       2020-12-01 41420 \n",
              "147 서울     서초구   Seocho       2020-12-01 43259 \n",
              "148 서울     강남구   Gangnam      2020-12-01 38004 \n",
              "149 서울     송파구   Songpa       2020-12-01 85064 \n",
              "150 서울     강동구   Gangdong     2020-12-01 42373 \n",
              "151 서울     종로구   Jongno       2021-01-01 35643 \n",
              "152 서울     중구     Jung         2021-01-01 20396 \n",
              "153 서울     용산구   Yongsan      2021-01-01 18203 \n",
              "154 서울     성동구   Seongdong    2021-01-01 35822 \n",
              "155 서울     광진구   Kwangjin     2021-01-01 38357 \n",
              "156 서울     동대문구 Dongdaemun   2021-01-01 33426 \n",
              "157 서울     중랑구   Jungnang     2021-01-01 22773 \n",
              "158 서울     성북구   Seongbuk     2021-01-01 26138 \n",
              "159 서울     강북구   Gangbuk      2021-01-01 16101 \n",
              "160 서울     도봉구   Dobong       2021-01-01 16620 \n",
              "161 서울     노원구   Nowon        2021-01-01 41994 \n",
              "162 서울     은평구   Eunpyeong    2021-01-01 25442 \n",
              "163 서울     서대문구 Seodaemun    2021-01-01 23065 \n",
              "164 서울     마포구   Mapo         2021-01-01 48660 \n",
              "165 서울     양천구   Yangcheon    2021-01-01 43330 \n",
              "166 서울     강서구   Gangseo      2021-01-01 75019 \n",
              "167 서울     구로구   Guro         2021-01-01 31633 \n",
              "168 서울     금천구   Geumcheon    2021-01-01 13494 \n",
              "169 서울     영등포구 Yeongdeungpo 2021-01-01 64359 \n",
              "170 서울     동작구   Dongjak      2021-01-01 18950 \n",
              "171 서울     관악구   Gwanak       2021-01-01 27457 \n",
              "172 서울     서초구   Seocho       2021-01-01 29483 \n",
              "173 서울     강남구   Gangnam      2021-01-01 24706 \n",
              "174 서울     송파구   Songpa       2021-01-01 54819 \n",
              "175 서울     강동구   Gangdong     2021-01-01 26158 "
            ],
            "text/latex": "A tibble: 175 × 5\n\\begin{tabular}{lllll}\n province & gu & gu\\_eng & date & count\\\\\n <chr> & <chr> & <chr> & <dttm> & <dbl>\\\\\n\\hline\n\t 서울 & 종로구   & Jongno       & 2020-07-01 &  85935\\\\\n\t 서울 & 중구     & Jung         & 2020-07-01 &  52417\\\\\n\t 서울 & 용산구   & Yongsan      & 2020-07-01 &  58354\\\\\n\t 서울 & 성동구   & Seongdong    & 2020-07-01 & 106216\\\\\n\t 서울 & 광진구   & Kwangjin     & 2020-07-01 & 125735\\\\\n\t 서울 & 동대문구 & Dongdaemun   & 2020-07-01 &  93487\\\\\n\t 서울 & 중랑구   & Jungnang     & 2020-07-01 &  76841\\\\\n\t 서울 & 성북구   & Seongbuk     & 2020-07-01 &  81364\\\\\n\t 서울 & 강북구   & Gangbuk      & 2020-07-01 &  54503\\\\\n\t 서울 & 도봉구   & Dobong       & 2020-07-01 &  58420\\\\\n\t 서울 & 노원구   & Nowon        & 2020-07-01 & 157281\\\\\n\t 서울 & 은평구   & Eunpyeong    & 2020-07-01 &  81923\\\\\n\t 서울 & 서대문구 & Seodaemun    & 2020-07-01 &  65144\\\\\n\t 서울 & 마포구   & Mapo         & 2020-07-01 & 155009\\\\\n\t 서울 & 양천구   & Yangcheon    & 2020-07-01 & 119956\\\\\n\t 서울 & 강서구   & Gangseo      & 2020-07-01 & 224984\\\\\n\t 서울 & 구로구   & Guro         & 2020-07-01 & 106619\\\\\n\t 서울 & 금천구   & Geumcheon    & 2020-07-01 &  43940\\\\\n\t 서울 & 영등포구 & Yeongdeungpo & 2020-07-01 & 209515\\\\\n\t 서울 & 동작구   & Dongjak      & 2020-07-01 &  67929\\\\\n\t 서울 & 관악구   & Gwanak       & 2020-07-01 &  92451\\\\\n\t 서울 & 서초구   & Seocho       & 2020-07-01 & 101631\\\\\n\t 서울 & 강남구   & Gangnam      & 2020-07-01 &  79194\\\\\n\t 서울 & 송파구   & Songpa       & 2020-07-01 & 185529\\\\\n\t 서울 & 강동구   & Gangdong     & 2020-07-01 &  97719\\\\\n\t 서울 & 종로구   & Jongno       & 2020-08-01 &  65729\\\\\n\t 서울 & 중구     & Jung         & 2020-08-01 &  40401\\\\\n\t 서울 & 용산구   & Yongsan      & 2020-08-01 &  36762\\\\\n\t 서울 & 성동구   & Seongdong    & 2020-08-01 &  65323\\\\\n\t 서울 & 광진구   & Kwangjin     & 2020-08-01 &  75051\\\\\n\t ⋮ & ⋮ & ⋮ & ⋮ & ⋮\\\\\n\t 서울 & 관악구   & Gwanak       & 2020-12-01 & 41420\\\\\n\t 서울 & 서초구   & Seocho       & 2020-12-01 & 43259\\\\\n\t 서울 & 강남구   & Gangnam      & 2020-12-01 & 38004\\\\\n\t 서울 & 송파구   & Songpa       & 2020-12-01 & 85064\\\\\n\t 서울 & 강동구   & Gangdong     & 2020-12-01 & 42373\\\\\n\t 서울 & 종로구   & Jongno       & 2021-01-01 & 35643\\\\\n\t 서울 & 중구     & Jung         & 2021-01-01 & 20396\\\\\n\t 서울 & 용산구   & Yongsan      & 2021-01-01 & 18203\\\\\n\t 서울 & 성동구   & Seongdong    & 2021-01-01 & 35822\\\\\n\t 서울 & 광진구   & Kwangjin     & 2021-01-01 & 38357\\\\\n\t 서울 & 동대문구 & Dongdaemun   & 2021-01-01 & 33426\\\\\n\t 서울 & 중랑구   & Jungnang     & 2021-01-01 & 22773\\\\\n\t 서울 & 성북구   & Seongbuk     & 2021-01-01 & 26138\\\\\n\t 서울 & 강북구   & Gangbuk      & 2021-01-01 & 16101\\\\\n\t 서울 & 도봉구   & Dobong       & 2021-01-01 & 16620\\\\\n\t 서울 & 노원구   & Nowon        & 2021-01-01 & 41994\\\\\n\t 서울 & 은평구   & Eunpyeong    & 2021-01-01 & 25442\\\\\n\t 서울 & 서대문구 & Seodaemun    & 2021-01-01 & 23065\\\\\n\t 서울 & 마포구   & Mapo         & 2021-01-01 & 48660\\\\\n\t 서울 & 양천구   & Yangcheon    & 2021-01-01 & 43330\\\\\n\t 서울 & 강서구   & Gangseo      & 2021-01-01 & 75019\\\\\n\t 서울 & 구로구   & Guro         & 2021-01-01 & 31633\\\\\n\t 서울 & 금천구   & Geumcheon    & 2021-01-01 & 13494\\\\\n\t 서울 & 영등포구 & Yeongdeungpo & 2021-01-01 & 64359\\\\\n\t 서울 & 동작구   & Dongjak      & 2021-01-01 & 18950\\\\\n\t 서울 & 관악구   & Gwanak       & 2021-01-01 & 27457\\\\\n\t 서울 & 서초구   & Seocho       & 2021-01-01 & 29483\\\\\n\t 서울 & 강남구   & Gangnam      & 2021-01-01 & 24706\\\\\n\t 서울 & 송파구   & Songpa       & 2021-01-01 & 54819\\\\\n\t 서울 & 강동구   & Gangdong     & 2021-01-01 & 26158\\\\\n\\end{tabular}\n",
            "text/markdown": "\nA tibble: 175 × 5\n\n| province &lt;chr&gt; | gu &lt;chr&gt; | gu_eng &lt;chr&gt; | date &lt;dttm&gt; | count &lt;dbl&gt; |\n|---|---|---|---|---|\n| 서울 | 종로구   | Jongno       | 2020-07-01 |  85935 |\n| 서울 | 중구     | Jung         | 2020-07-01 |  52417 |\n| 서울 | 용산구   | Yongsan      | 2020-07-01 |  58354 |\n| 서울 | 성동구   | Seongdong    | 2020-07-01 | 106216 |\n| 서울 | 광진구   | Kwangjin     | 2020-07-01 | 125735 |\n| 서울 | 동대문구 | Dongdaemun   | 2020-07-01 |  93487 |\n| 서울 | 중랑구   | Jungnang     | 2020-07-01 |  76841 |\n| 서울 | 성북구   | Seongbuk     | 2020-07-01 |  81364 |\n| 서울 | 강북구   | Gangbuk      | 2020-07-01 |  54503 |\n| 서울 | 도봉구   | Dobong       | 2020-07-01 |  58420 |\n| 서울 | 노원구   | Nowon        | 2020-07-01 | 157281 |\n| 서울 | 은평구   | Eunpyeong    | 2020-07-01 |  81923 |\n| 서울 | 서대문구 | Seodaemun    | 2020-07-01 |  65144 |\n| 서울 | 마포구   | Mapo         | 2020-07-01 | 155009 |\n| 서울 | 양천구   | Yangcheon    | 2020-07-01 | 119956 |\n| 서울 | 강서구   | Gangseo      | 2020-07-01 | 224984 |\n| 서울 | 구로구   | Guro         | 2020-07-01 | 106619 |\n| 서울 | 금천구   | Geumcheon    | 2020-07-01 |  43940 |\n| 서울 | 영등포구 | Yeongdeungpo | 2020-07-01 | 209515 |\n| 서울 | 동작구   | Dongjak      | 2020-07-01 |  67929 |\n| 서울 | 관악구   | Gwanak       | 2020-07-01 |  92451 |\n| 서울 | 서초구   | Seocho       | 2020-07-01 | 101631 |\n| 서울 | 강남구   | Gangnam      | 2020-07-01 |  79194 |\n| 서울 | 송파구   | Songpa       | 2020-07-01 | 185529 |\n| 서울 | 강동구   | Gangdong     | 2020-07-01 |  97719 |\n| 서울 | 종로구   | Jongno       | 2020-08-01 |  65729 |\n| 서울 | 중구     | Jung         | 2020-08-01 |  40401 |\n| 서울 | 용산구   | Yongsan      | 2020-08-01 |  36762 |\n| 서울 | 성동구   | Seongdong    | 2020-08-01 |  65323 |\n| 서울 | 광진구   | Kwangjin     | 2020-08-01 |  75051 |\n| ⋮ | ⋮ | ⋮ | ⋮ | ⋮ |\n| 서울 | 관악구   | Gwanak       | 2020-12-01 | 41420 |\n| 서울 | 서초구   | Seocho       | 2020-12-01 | 43259 |\n| 서울 | 강남구   | Gangnam      | 2020-12-01 | 38004 |\n| 서울 | 송파구   | Songpa       | 2020-12-01 | 85064 |\n| 서울 | 강동구   | Gangdong     | 2020-12-01 | 42373 |\n| 서울 | 종로구   | Jongno       | 2021-01-01 | 35643 |\n| 서울 | 중구     | Jung         | 2021-01-01 | 20396 |\n| 서울 | 용산구   | Yongsan      | 2021-01-01 | 18203 |\n| 서울 | 성동구   | Seongdong    | 2021-01-01 | 35822 |\n| 서울 | 광진구   | Kwangjin     | 2021-01-01 | 38357 |\n| 서울 | 동대문구 | Dongdaemun   | 2021-01-01 | 33426 |\n| 서울 | 중랑구   | Jungnang     | 2021-01-01 | 22773 |\n| 서울 | 성북구   | Seongbuk     | 2021-01-01 | 26138 |\n| 서울 | 강북구   | Gangbuk      | 2021-01-01 | 16101 |\n| 서울 | 도봉구   | Dobong       | 2021-01-01 | 16620 |\n| 서울 | 노원구   | Nowon        | 2021-01-01 | 41994 |\n| 서울 | 은평구   | Eunpyeong    | 2021-01-01 | 25442 |\n| 서울 | 서대문구 | Seodaemun    | 2021-01-01 | 23065 |\n| 서울 | 마포구   | Mapo         | 2021-01-01 | 48660 |\n| 서울 | 양천구   | Yangcheon    | 2021-01-01 | 43330 |\n| 서울 | 강서구   | Gangseo      | 2021-01-01 | 75019 |\n| 서울 | 구로구   | Guro         | 2021-01-01 | 31633 |\n| 서울 | 금천구   | Geumcheon    | 2021-01-01 | 13494 |\n| 서울 | 영등포구 | Yeongdeungpo | 2021-01-01 | 64359 |\n| 서울 | 동작구   | Dongjak      | 2021-01-01 | 18950 |\n| 서울 | 관악구   | Gwanak       | 2021-01-01 | 27457 |\n| 서울 | 서초구   | Seocho       | 2021-01-01 | 29483 |\n| 서울 | 강남구   | Gangnam      | 2021-01-01 | 24706 |\n| 서울 | 송파구   | Songpa       | 2021-01-01 | 54819 |\n| 서울 | 강동구   | Gangdong     | 2021-01-01 | 26158 |\n\n",
            "text/html": [
              "<table class=\"dataframe\">\n",
              "<caption>A tibble: 175 × 5</caption>\n",
              "<thead>\n",
              "\t<tr><th scope=col>province</th><th scope=col>gu</th><th scope=col>gu_eng</th><th scope=col>date</th><th scope=col>count</th></tr>\n",
              "\t<tr><th scope=col>&lt;chr&gt;</th><th scope=col>&lt;chr&gt;</th><th scope=col>&lt;chr&gt;</th><th scope=col>&lt;dttm&gt;</th><th scope=col>&lt;dbl&gt;</th></tr>\n",
              "</thead>\n",
              "<tbody>\n",
              "\t<tr><td>서울</td><td>종로구  </td><td>Jongno      </td><td>2020-07-01</td><td> 85935</td></tr>\n",
              "\t<tr><td>서울</td><td>중구    </td><td>Jung        </td><td>2020-07-01</td><td> 52417</td></tr>\n",
              "\t<tr><td>서울</td><td>용산구  </td><td>Yongsan     </td><td>2020-07-01</td><td> 58354</td></tr>\n",
              "\t<tr><td>서울</td><td>성동구  </td><td>Seongdong   </td><td>2020-07-01</td><td>106216</td></tr>\n",
              "\t<tr><td>서울</td><td>광진구  </td><td>Kwangjin    </td><td>2020-07-01</td><td>125735</td></tr>\n",
              "\t<tr><td>서울</td><td>동대문구</td><td>Dongdaemun  </td><td>2020-07-01</td><td> 93487</td></tr>\n",
              "\t<tr><td>서울</td><td>중랑구  </td><td>Jungnang    </td><td>2020-07-01</td><td> 76841</td></tr>\n",
              "\t<tr><td>서울</td><td>성북구  </td><td>Seongbuk    </td><td>2020-07-01</td><td> 81364</td></tr>\n",
              "\t<tr><td>서울</td><td>강북구  </td><td>Gangbuk     </td><td>2020-07-01</td><td> 54503</td></tr>\n",
              "\t<tr><td>서울</td><td>도봉구  </td><td>Dobong      </td><td>2020-07-01</td><td> 58420</td></tr>\n",
              "\t<tr><td>서울</td><td>노원구  </td><td>Nowon       </td><td>2020-07-01</td><td>157281</td></tr>\n",
              "\t<tr><td>서울</td><td>은평구  </td><td>Eunpyeong   </td><td>2020-07-01</td><td> 81923</td></tr>\n",
              "\t<tr><td>서울</td><td>서대문구</td><td>Seodaemun   </td><td>2020-07-01</td><td> 65144</td></tr>\n",
              "\t<tr><td>서울</td><td>마포구  </td><td>Mapo        </td><td>2020-07-01</td><td>155009</td></tr>\n",
              "\t<tr><td>서울</td><td>양천구  </td><td>Yangcheon   </td><td>2020-07-01</td><td>119956</td></tr>\n",
              "\t<tr><td>서울</td><td>강서구  </td><td>Gangseo     </td><td>2020-07-01</td><td>224984</td></tr>\n",
              "\t<tr><td>서울</td><td>구로구  </td><td>Guro        </td><td>2020-07-01</td><td>106619</td></tr>\n",
              "\t<tr><td>서울</td><td>금천구  </td><td>Geumcheon   </td><td>2020-07-01</td><td> 43940</td></tr>\n",
              "\t<tr><td>서울</td><td>영등포구</td><td>Yeongdeungpo</td><td>2020-07-01</td><td>209515</td></tr>\n",
              "\t<tr><td>서울</td><td>동작구  </td><td>Dongjak     </td><td>2020-07-01</td><td> 67929</td></tr>\n",
              "\t<tr><td>서울</td><td>관악구  </td><td>Gwanak      </td><td>2020-07-01</td><td> 92451</td></tr>\n",
              "\t<tr><td>서울</td><td>서초구  </td><td>Seocho      </td><td>2020-07-01</td><td>101631</td></tr>\n",
              "\t<tr><td>서울</td><td>강남구  </td><td>Gangnam     </td><td>2020-07-01</td><td> 79194</td></tr>\n",
              "\t<tr><td>서울</td><td>송파구  </td><td>Songpa      </td><td>2020-07-01</td><td>185529</td></tr>\n",
              "\t<tr><td>서울</td><td>강동구  </td><td>Gangdong    </td><td>2020-07-01</td><td> 97719</td></tr>\n",
              "\t<tr><td>서울</td><td>종로구  </td><td>Jongno      </td><td>2020-08-01</td><td> 65729</td></tr>\n",
              "\t<tr><td>서울</td><td>중구    </td><td>Jung        </td><td>2020-08-01</td><td> 40401</td></tr>\n",
              "\t<tr><td>서울</td><td>용산구  </td><td>Yongsan     </td><td>2020-08-01</td><td> 36762</td></tr>\n",
              "\t<tr><td>서울</td><td>성동구  </td><td>Seongdong   </td><td>2020-08-01</td><td> 65323</td></tr>\n",
              "\t<tr><td>서울</td><td>광진구  </td><td>Kwangjin    </td><td>2020-08-01</td><td> 75051</td></tr>\n",
              "\t<tr><td>⋮</td><td>⋮</td><td>⋮</td><td>⋮</td><td>⋮</td></tr>\n",
              "\t<tr><td>서울</td><td>관악구  </td><td>Gwanak      </td><td>2020-12-01</td><td>41420</td></tr>\n",
              "\t<tr><td>서울</td><td>서초구  </td><td>Seocho      </td><td>2020-12-01</td><td>43259</td></tr>\n",
              "\t<tr><td>서울</td><td>강남구  </td><td>Gangnam     </td><td>2020-12-01</td><td>38004</td></tr>\n",
              "\t<tr><td>서울</td><td>송파구  </td><td>Songpa      </td><td>2020-12-01</td><td>85064</td></tr>\n",
              "\t<tr><td>서울</td><td>강동구  </td><td>Gangdong    </td><td>2020-12-01</td><td>42373</td></tr>\n",
              "\t<tr><td>서울</td><td>종로구  </td><td>Jongno      </td><td>2021-01-01</td><td>35643</td></tr>\n",
              "\t<tr><td>서울</td><td>중구    </td><td>Jung        </td><td>2021-01-01</td><td>20396</td></tr>\n",
              "\t<tr><td>서울</td><td>용산구  </td><td>Yongsan     </td><td>2021-01-01</td><td>18203</td></tr>\n",
              "\t<tr><td>서울</td><td>성동구  </td><td>Seongdong   </td><td>2021-01-01</td><td>35822</td></tr>\n",
              "\t<tr><td>서울</td><td>광진구  </td><td>Kwangjin    </td><td>2021-01-01</td><td>38357</td></tr>\n",
              "\t<tr><td>서울</td><td>동대문구</td><td>Dongdaemun  </td><td>2021-01-01</td><td>33426</td></tr>\n",
              "\t<tr><td>서울</td><td>중랑구  </td><td>Jungnang    </td><td>2021-01-01</td><td>22773</td></tr>\n",
              "\t<tr><td>서울</td><td>성북구  </td><td>Seongbuk    </td><td>2021-01-01</td><td>26138</td></tr>\n",
              "\t<tr><td>서울</td><td>강북구  </td><td>Gangbuk     </td><td>2021-01-01</td><td>16101</td></tr>\n",
              "\t<tr><td>서울</td><td>도봉구  </td><td>Dobong      </td><td>2021-01-01</td><td>16620</td></tr>\n",
              "\t<tr><td>서울</td><td>노원구  </td><td>Nowon       </td><td>2021-01-01</td><td>41994</td></tr>\n",
              "\t<tr><td>서울</td><td>은평구  </td><td>Eunpyeong   </td><td>2021-01-01</td><td>25442</td></tr>\n",
              "\t<tr><td>서울</td><td>서대문구</td><td>Seodaemun   </td><td>2021-01-01</td><td>23065</td></tr>\n",
              "\t<tr><td>서울</td><td>마포구  </td><td>Mapo        </td><td>2021-01-01</td><td>48660</td></tr>\n",
              "\t<tr><td>서울</td><td>양천구  </td><td>Yangcheon   </td><td>2021-01-01</td><td>43330</td></tr>\n",
              "\t<tr><td>서울</td><td>강서구  </td><td>Gangseo     </td><td>2021-01-01</td><td>75019</td></tr>\n",
              "\t<tr><td>서울</td><td>구로구  </td><td>Guro        </td><td>2021-01-01</td><td>31633</td></tr>\n",
              "\t<tr><td>서울</td><td>금천구  </td><td>Geumcheon   </td><td>2021-01-01</td><td>13494</td></tr>\n",
              "\t<tr><td>서울</td><td>영등포구</td><td>Yeongdeungpo</td><td>2021-01-01</td><td>64359</td></tr>\n",
              "\t<tr><td>서울</td><td>동작구  </td><td>Dongjak     </td><td>2021-01-01</td><td>18950</td></tr>\n",
              "\t<tr><td>서울</td><td>관악구  </td><td>Gwanak      </td><td>2021-01-01</td><td>27457</td></tr>\n",
              "\t<tr><td>서울</td><td>서초구  </td><td>Seocho      </td><td>2021-01-01</td><td>29483</td></tr>\n",
              "\t<tr><td>서울</td><td>강남구  </td><td>Gangnam     </td><td>2021-01-01</td><td>24706</td></tr>\n",
              "\t<tr><td>서울</td><td>송파구  </td><td>Songpa      </td><td>2021-01-01</td><td>54819</td></tr>\n",
              "\t<tr><td>서울</td><td>강동구  </td><td>Gangdong    </td><td>2021-01-01</td><td>26158</td></tr>\n",
              "</tbody>\n",
              "</table>\n"
            ]
          },
          "metadata": {
            "tags": []
          }
        }
      ]
    },
    {
      "cell_type": "markdown",
      "metadata": {
        "id": "0aNUPF33bKpu"
      },
      "source": [
        "# 데이터"
      ]
    },
    {
      "cell_type": "code",
      "metadata": {
        "colab": {
          "base_uri": "https://localhost:8080/"
        },
        "id": "xzP3nhaU5Ro0",
        "outputId": "95a6c615-7fe2-43b6-d68d-a1eb958ff233"
      },
      "source": [
        "pop <- read.csv('(중복)2019_전주시 동별 인구.csv', header=FALSE, stringsAsFactors=FALSE, fileEncoding = \"euc-kr\")\n",
        "str(pop)"
      ],
      "execution_count": 29,
      "outputs": [
        {
          "output_type": "stream",
          "text": [
            "'data.frame':\t36 obs. of  3 variables:\n",
            " $ V1: chr  \"구\" \"완산구\" \"완산구\" \"완산구\" ...\n",
            " $ V2: chr  \"동\" \"중앙동\" \"풍남동\" \"노송동\" ...\n",
            " $ V3: chr  \"인구\" \"8073\" \"4521\" \"13189\" ...\n"
          ],
          "name": "stdout"
        }
      ]
    },
    {
      "cell_type": "code",
      "metadata": {
        "colab": {
          "base_uri": "https://localhost:8080/",
          "height": 388
        },
        "id": "DAh-FMwfdkkX",
        "outputId": "b90ff5c1-1307-4366-d0d1-c8a476adba41"
      },
      "source": [
        "rest <- read.csv('(중복)동별 음식점 및 주점업 사업체수(2018).csv', header=FALSE, stringsAsFactors=FALSE, fileEncoding = \"euc-kr\")\n",
        "bicycle <- read.csv('(행정동)12_04_03_E_자전거보관소정보.csv', header=FALSE, stringsAsFactors=FALSE, fileEncoding = \"euc-kr\")\n",
        "bigstore <- read.csv('(행정동)대규모점포현황_2020.csv', header=FALSE, stringsAsFactors=FALSE, fileEncoding = \"euc-kr\")\n",
        "cvstore <- read.csv('(행정동)동별 체인화 편의점 + 사업체수 (2018년).csv', header=FALSE, stringsAsFactors=FALSE, fileEncoding = \"euc-kr\")\n",
        "univ <- read.csv('(행정동)전주시 대학교.csv', header=FALSE, stringsAsFactors=FALSE, fileEncoding = \"euc-kr\")\n",
        "region <- read.csv('(행정동)전주시 행정동 면적.csv', header=FALSE, stringsAsFactors=FALSE, fileEncoding = \"euc-kr\")\n",
        "\n",
        "library(dplyr)\n",
        "library(plyr)"
      ],
      "execution_count": 34,
      "outputs": [
        {
          "output_type": "stream",
          "text": [
            "\n",
            "Attaching package: ‘dplyr’\n",
            "\n",
            "\n",
            "The following objects are masked from ‘package:stats’:\n",
            "\n",
            "    filter, lag\n",
            "\n",
            "\n",
            "The following objects are masked from ‘package:base’:\n",
            "\n",
            "    intersect, setdiff, setequal, union\n",
            "\n",
            "\n"
          ],
          "name": "stderr"
        },
        {
          "output_type": "error",
          "ename": "ERROR",
          "evalue": "ignored",
          "traceback": [
            "Error in library(plyr): there is no package called ‘plyr’\nTraceback:\n",
            "1. library(plyr)"
          ]
        }
      ]
    },
    {
      "cell_type": "code",
      "metadata": {
        "colab": {
          "base_uri": "https://localhost:8080/",
          "height": 53
        },
        "id": "g1U1SxfLdt7o",
        "outputId": "3860ead0-340f-4d87-fa72-0e7d40d7e5c0"
      },
      "source": [
        "jjdong <- read.csv('전주 행정동_가나다순.csv', header=FALSE, stringsAsFactors=FALSE, fileEncoding = \"euc-kr\")\n",
        "jjdong <- jjdong$행정동\n",
        "str(jjdong)\n",
        "head(jjdong)"
      ],
      "execution_count": 33,
      "outputs": [
        {
          "output_type": "stream",
          "text": [
            " NULL\n"
          ],
          "name": "stdout"
        },
        {
          "output_type": "display_data",
          "data": {
            "text/plain": [
              "NULL"
            ]
          },
          "metadata": {
            "tags": []
          }
        }
      ]
    },
    {
      "cell_type": "code",
      "metadata": {
        "colab": {
          "base_uri": "https://localhost:8080/",
          "height": 355
        },
        "id": "5AeKaQYcd3AQ",
        "outputId": "766994ef-ba35-4993-accc-af18a92ea173"
      },
      "source": [
        "str(pop) ####\n",
        "head(pop)"
      ],
      "execution_count": 35,
      "outputs": [
        {
          "output_type": "stream",
          "text": [
            "'data.frame':\t36 obs. of  3 variables:\n",
            " $ V1: chr  \"구\" \"완산구\" \"완산구\" \"완산구\" ...\n",
            " $ V2: chr  \"동\" \"중앙동\" \"풍남동\" \"노송동\" ...\n",
            " $ V3: chr  \"인구\" \"8073\" \"4521\" \"13189\" ...\n"
          ],
          "name": "stdout"
        },
        {
          "output_type": "display_data",
          "data": {
            "text/plain": [
              "  V1     V2       V3   \n",
              "1 구     동       인구 \n",
              "2 완산구 중앙동   8073 \n",
              "3 완산구 풍남동   4521 \n",
              "4 완산구 노송동   13189\n",
              "5 완산구 완산동   5148 \n",
              "6 완산구 동서학동 6784 "
            ],
            "text/latex": "A data.frame: 6 × 3\n\\begin{tabular}{r|lll}\n  & V1 & V2 & V3\\\\\n  & <chr> & <chr> & <chr>\\\\\n\\hline\n\t1 & 구     & 동       & 인구 \\\\\n\t2 & 완산구 & 중앙동   & 8073 \\\\\n\t3 & 완산구 & 풍남동   & 4521 \\\\\n\t4 & 완산구 & 노송동   & 13189\\\\\n\t5 & 완산구 & 완산동   & 5148 \\\\\n\t6 & 완산구 & 동서학동 & 6784 \\\\\n\\end{tabular}\n",
            "text/markdown": "\nA data.frame: 6 × 3\n\n| <!--/--> | V1 &lt;chr&gt; | V2 &lt;chr&gt; | V3 &lt;chr&gt; |\n|---|---|---|---|\n| 1 | 구     | 동       | 인구  |\n| 2 | 완산구 | 중앙동   | 8073  |\n| 3 | 완산구 | 풍남동   | 4521  |\n| 4 | 완산구 | 노송동   | 13189 |\n| 5 | 완산구 | 완산동   | 5148  |\n| 6 | 완산구 | 동서학동 | 6784  |\n\n",
            "text/html": [
              "<table class=\"dataframe\">\n",
              "<caption>A data.frame: 6 × 3</caption>\n",
              "<thead>\n",
              "\t<tr><th></th><th scope=col>V1</th><th scope=col>V2</th><th scope=col>V3</th></tr>\n",
              "\t<tr><th></th><th scope=col>&lt;chr&gt;</th><th scope=col>&lt;chr&gt;</th><th scope=col>&lt;chr&gt;</th></tr>\n",
              "</thead>\n",
              "<tbody>\n",
              "\t<tr><th scope=row>1</th><td>구    </td><td>동      </td><td>인구 </td></tr>\n",
              "\t<tr><th scope=row>2</th><td>완산구</td><td>중앙동  </td><td>8073 </td></tr>\n",
              "\t<tr><th scope=row>3</th><td>완산구</td><td>풍남동  </td><td>4521 </td></tr>\n",
              "\t<tr><th scope=row>4</th><td>완산구</td><td>노송동  </td><td>13189</td></tr>\n",
              "\t<tr><th scope=row>5</th><td>완산구</td><td>완산동  </td><td>5148 </td></tr>\n",
              "\t<tr><th scope=row>6</th><td>완산구</td><td>동서학동</td><td>6784 </td></tr>\n",
              "</tbody>\n",
              "</table>\n"
            ]
          },
          "metadata": {
            "tags": []
          }
        }
      ]
    },
    {
      "cell_type": "code",
      "metadata": {
        "colab": {
          "base_uri": "https://localhost:8080/",
          "height": 141
        },
        "id": "-P5viKcfd6zu",
        "outputId": "e14179a4-61f0-40d4-98bb-a5b2e2ccdd87"
      },
      "source": [
        "pop <- pop[,c(2,3)]\n",
        "names(pop)[1] <- \"행정동\"\n",
        "pop <- arrange(pop, pop$행정동)\n",
        "table(pop$행정동 %in% jjdong)\n",
        "table(jjdong %in% pop$행정동)\n",
        "pop$행정동[pop$행정동 %in% jjdong == FALSE] #jjdong에는 없는 pop의 행정동\n",
        "jjdong[jjdong %in% pop$행정동 == FALSE] #pop에는 없는 jjdong의 행정동\n",
        "pop$행정동[which(pop$행정동 == \"동산동\")] <- \"여의동\" ## 19년 8월에 동산동을 여의동으로 변경, https://www.hani.co.kr/arti/area/honam/905848.html?_fr=mt2"
      ],
      "execution_count": 36,
      "outputs": [
        {
          "output_type": "display_data",
          "data": {
            "text/plain": [
              "\n",
              "FALSE \n",
              "   36 "
            ]
          },
          "metadata": {
            "tags": []
          }
        },
        {
          "output_type": "display_data",
          "data": {
            "text/plain": [
              "< table of extent 0 >"
            ]
          },
          "metadata": {
            "tags": []
          }
        },
        {
          "output_type": "display_data",
          "data": {
            "text/plain": [
              " [1] \"금암1동\"   \"금암2동\"   \"노송동\"    \"덕진동\"    \"동\"        \"동산동\"   \n",
              " [7] \"동서학동\"  \"삼천1동\"   \"삼천2동\"   \"삼천3동\"   \"서서학동\"  \"서신동\"   \n",
              "[13] \"송천1동\"   \"송천2동\"   \"완산동\"    \"우아1동\"   \"우아2동\"   \"인후1동\"  \n",
              "[19] \"인후2동\"   \"인후3동\"   \"조촌동\"    \"중앙동\"    \"중화산1동\" \"중화산2동\"\n",
              "[25] \"진북동\"    \"팔복동\"    \"평화1동\"   \"평화2동\"   \"풍남동\"    \"혁신동\"   \n",
              "[31] \"호성동\"    \"효자1동\"   \"효자2동\"   \"효자3동\"   \"효자4동\"   \"효자5동\"  "
            ],
            "text/latex": "\\begin{enumerate*}\n\\item '금암1동'\n\\item '금암2동'\n\\item '노송동'\n\\item '덕진동'\n\\item '동'\n\\item '동산동'\n\\item '동서학동'\n\\item '삼천1동'\n\\item '삼천2동'\n\\item '삼천3동'\n\\item '서서학동'\n\\item '서신동'\n\\item '송천1동'\n\\item '송천2동'\n\\item '완산동'\n\\item '우아1동'\n\\item '우아2동'\n\\item '인후1동'\n\\item '인후2동'\n\\item '인후3동'\n\\item '조촌동'\n\\item '중앙동'\n\\item '중화산1동'\n\\item '중화산2동'\n\\item '진북동'\n\\item '팔복동'\n\\item '평화1동'\n\\item '평화2동'\n\\item '풍남동'\n\\item '혁신동'\n\\item '호성동'\n\\item '효자1동'\n\\item '효자2동'\n\\item '효자3동'\n\\item '효자4동'\n\\item '효자5동'\n\\end{enumerate*}\n",
            "text/markdown": "1. '금암1동'\n2. '금암2동'\n3. '노송동'\n4. '덕진동'\n5. '동'\n6. '동산동'\n7. '동서학동'\n8. '삼천1동'\n9. '삼천2동'\n10. '삼천3동'\n11. '서서학동'\n12. '서신동'\n13. '송천1동'\n14. '송천2동'\n15. '완산동'\n16. '우아1동'\n17. '우아2동'\n18. '인후1동'\n19. '인후2동'\n20. '인후3동'\n21. '조촌동'\n22. '중앙동'\n23. '중화산1동'\n24. '중화산2동'\n25. '진북동'\n26. '팔복동'\n27. '평화1동'\n28. '평화2동'\n29. '풍남동'\n30. '혁신동'\n31. '호성동'\n32. '효자1동'\n33. '효자2동'\n34. '효자3동'\n35. '효자4동'\n36. '효자5동'\n\n\n",
            "text/html": [
              "<style>\n",
              ".list-inline {list-style: none; margin:0; padding: 0}\n",
              ".list-inline>li {display: inline-block}\n",
              ".list-inline>li:not(:last-child)::after {content: \"\\00b7\"; padding: 0 .5ex}\n",
              "</style>\n",
              "<ol class=list-inline><li>'금암1동'</li><li>'금암2동'</li><li>'노송동'</li><li>'덕진동'</li><li>'동'</li><li>'동산동'</li><li>'동서학동'</li><li>'삼천1동'</li><li>'삼천2동'</li><li>'삼천3동'</li><li>'서서학동'</li><li>'서신동'</li><li>'송천1동'</li><li>'송천2동'</li><li>'완산동'</li><li>'우아1동'</li><li>'우아2동'</li><li>'인후1동'</li><li>'인후2동'</li><li>'인후3동'</li><li>'조촌동'</li><li>'중앙동'</li><li>'중화산1동'</li><li>'중화산2동'</li><li>'진북동'</li><li>'팔복동'</li><li>'평화1동'</li><li>'평화2동'</li><li>'풍남동'</li><li>'혁신동'</li><li>'호성동'</li><li>'효자1동'</li><li>'효자2동'</li><li>'효자3동'</li><li>'효자4동'</li><li>'효자5동'</li></ol>\n"
            ]
          },
          "metadata": {
            "tags": []
          }
        },
        {
          "output_type": "display_data",
          "data": {
            "text/plain": [
              "NULL"
            ]
          },
          "metadata": {
            "tags": []
          }
        }
      ]
    },
    {
      "cell_type": "code",
      "metadata": {
        "colab": {
          "base_uri": "https://localhost:8080/",
          "height": 391
        },
        "id": "l7RIaxumeBXO",
        "outputId": "e3a28549-08b1-4260-d1e5-9a9d698ffa5a"
      },
      "source": [
        "str(rest) ####\n",
        "head(rest)"
      ],
      "execution_count": 37,
      "outputs": [
        {
          "output_type": "stream",
          "text": [
            "'data.frame':\t36 obs. of  5 variables:\n",
            " $ V1: chr  \"구\" \"완산구\" \"완산구\" \"완산구\" ...\n",
            " $ V2: chr  \"항목\" \"효자5동\" \"중앙동\" \"서신동\" ...\n",
            " $ V3: chr  \"순위\" \"1\" \"2\" \"3\" ...\n",
            " $ V4: chr  \"값\" \"805\" \"567\" \"560\" ...\n",
            " $ V5: chr  \"비율(%)\" \"15.4\" \"10.8\" \"10.7\" ...\n"
          ],
          "name": "stdout"
        },
        {
          "output_type": "display_data",
          "data": {
            "text/plain": [
              "  V1     V2        V3   V4  V5     \n",
              "1 구     항목      순위 값  비율(%)\n",
              "2 완산구 효자5동   1    805 15.4   \n",
              "3 완산구 중앙동    2    567 10.8   \n",
              "4 완산구 서신동    3    560 10.7   \n",
              "5 완산구 중화산2동 4    491 9.4    \n",
              "6 완산구 풍남동    5    488 9.3    "
            ],
            "text/latex": "A data.frame: 6 × 5\n\\begin{tabular}{r|lllll}\n  & V1 & V2 & V3 & V4 & V5\\\\\n  & <chr> & <chr> & <chr> & <chr> & <chr>\\\\\n\\hline\n\t1 & 구     & 항목      & 순위 & 값  & 비율(\\%)\\\\\n\t2 & 완산구 & 효자5동   & 1    & 805 & 15.4   \\\\\n\t3 & 완산구 & 중앙동    & 2    & 567 & 10.8   \\\\\n\t4 & 완산구 & 서신동    & 3    & 560 & 10.7   \\\\\n\t5 & 완산구 & 중화산2동 & 4    & 491 & 9.4    \\\\\n\t6 & 완산구 & 풍남동    & 5    & 488 & 9.3    \\\\\n\\end{tabular}\n",
            "text/markdown": "\nA data.frame: 6 × 5\n\n| <!--/--> | V1 &lt;chr&gt; | V2 &lt;chr&gt; | V3 &lt;chr&gt; | V4 &lt;chr&gt; | V5 &lt;chr&gt; |\n|---|---|---|---|---|---|\n| 1 | 구     | 항목      | 순위 | 값  | 비율(%) |\n| 2 | 완산구 | 효자5동   | 1    | 805 | 15.4    |\n| 3 | 완산구 | 중앙동    | 2    | 567 | 10.8    |\n| 4 | 완산구 | 서신동    | 3    | 560 | 10.7    |\n| 5 | 완산구 | 중화산2동 | 4    | 491 | 9.4     |\n| 6 | 완산구 | 풍남동    | 5    | 488 | 9.3     |\n\n",
            "text/html": [
              "<table class=\"dataframe\">\n",
              "<caption>A data.frame: 6 × 5</caption>\n",
              "<thead>\n",
              "\t<tr><th></th><th scope=col>V1</th><th scope=col>V2</th><th scope=col>V3</th><th scope=col>V4</th><th scope=col>V5</th></tr>\n",
              "\t<tr><th></th><th scope=col>&lt;chr&gt;</th><th scope=col>&lt;chr&gt;</th><th scope=col>&lt;chr&gt;</th><th scope=col>&lt;chr&gt;</th><th scope=col>&lt;chr&gt;</th></tr>\n",
              "</thead>\n",
              "<tbody>\n",
              "\t<tr><th scope=row>1</th><td>구    </td><td>항목     </td><td>순위</td><td>값 </td><td>비율(%)</td></tr>\n",
              "\t<tr><th scope=row>2</th><td>완산구</td><td>효자5동  </td><td>1   </td><td>805</td><td>15.4   </td></tr>\n",
              "\t<tr><th scope=row>3</th><td>완산구</td><td>중앙동   </td><td>2   </td><td>567</td><td>10.8   </td></tr>\n",
              "\t<tr><th scope=row>4</th><td>완산구</td><td>서신동   </td><td>3   </td><td>560</td><td>10.7   </td></tr>\n",
              "\t<tr><th scope=row>5</th><td>완산구</td><td>중화산2동</td><td>4   </td><td>491</td><td>9.4    </td></tr>\n",
              "\t<tr><th scope=row>6</th><td>완산구</td><td>풍남동   </td><td>5   </td><td>488</td><td>9.3    </td></tr>\n",
              "</tbody>\n",
              "</table>\n"
            ]
          },
          "metadata": {
            "tags": []
          }
        }
      ]
    },
    {
      "cell_type": "code",
      "metadata": {
        "colab": {
          "base_uri": "https://localhost:8080/",
          "height": 107
        },
        "id": "CcpBQHX9eDSS",
        "outputId": "0672c340-d44a-4851-aa77-f267d30d4ff5"
      },
      "source": [
        "rest <- rest[,c(2,4)]\n",
        "names(rest) <- c(\"행정동\", \"음식점수\")\n",
        "rest <- arrange(rest, rest$행정동)\n",
        "table(rest$행정동 %in% jjdong)\n",
        "table(jjdong %in% rest$행정동)\n",
        "jjdong[jjdong %in% rest$행정동 == FALSE]"
      ],
      "execution_count": 38,
      "outputs": [
        {
          "output_type": "display_data",
          "data": {
            "text/plain": [
              "\n",
              "FALSE \n",
              "   36 "
            ]
          },
          "metadata": {
            "tags": []
          }
        },
        {
          "output_type": "display_data",
          "data": {
            "text/plain": [
              "< table of extent 0 >"
            ]
          },
          "metadata": {
            "tags": []
          }
        },
        {
          "output_type": "display_data",
          "data": {
            "text/plain": [
              "NULL"
            ]
          },
          "metadata": {
            "tags": []
          }
        }
      ]
    },
    {
      "cell_type": "code",
      "metadata": {
        "colab": {
          "base_uri": "https://localhost:8080/",
          "height": 726
        },
        "id": "A9Pjzp4yeFvm",
        "outputId": "158968d3-6b62-47b6-d808-49e981c7bddc"
      },
      "source": [
        "str(bicycle) ##\n",
        "head(bicycle)"
      ],
      "execution_count": 39,
      "outputs": [
        {
          "output_type": "stream",
          "text": [
            "'data.frame':\t180 obs. of  17 variables:\n",
            " $ V1 : chr  \"번호\" \"1\" \"2\" \"3\" ...\n",
            " $ V2 : chr  \"자전거보관소명\" \"자전거 보관대\" \"자전거 보관대\" \"자전거 보관대\" ...\n",
            " $ V3 : chr  \"소재지도로명주소\" \"전라북도 전주시 덕진구 여암2길 9\" \"전라북도 전주시 덕진구 송천중앙로 116\" \"전라북도 전주시 덕진구 송천중앙로162\" ...\n",
            " $ V4 : chr  \"소재지지번주소\" \"전라북도 전주시 덕진구 반월동 248-32\" \"전라북도 전주시 덕진구 송천동1가 395-28\" \"전라북도 전주시 덕진구 송천동1가 113-12\" ...\n",
            " $ V5 : chr  \"행정동\" \"조촌동\" \"송천1동\" \"송천2동\" ...\n",
            " $ V6 : chr  \"위도\" \"35.8720107\" \"35.8570952\" \"35.860992\" ...\n",
            " $ V7 : chr  \"경도\" \"127.0757434\" \"127.1210231\" \"127.121702\" ...\n",
            " $ V8 : chr  \"보관대수\" \"6\" \"7\" \"7\" ...\n",
            " $ V9 : chr  \"설치연도\" \"\" \"\" \"\" ...\n",
            " $ V10: chr  \"설치형태\" \"거치형\" \"휀스형\" \"거치형\" ...\n",
            " $ V11: chr  \"차양막설치여부\" \"N\" \"Y\" \"N\" ...\n",
            " $ V12: chr  \"공기주입기비치여부\" \"N\" \"N\" \"N\" ...\n",
            " $ V13: chr  \"공기주입기유형\" \"\" \"\" \"\" ...\n",
            " $ V14: chr  \"수리대설치여부\" \"N\" \"N\" \"N\" ...\n",
            " $ V15: chr  \"관리기관전화번호\" \"063-281-2602\" \"063-281-2603\" \"063-281-2604\" ...\n",
            " $ V16: chr  \"관리기관명\" \"전라북도 전주시청 자전거정책과\" \"전라북도 전주시청 자전거정책과\" \"전라북도 전주시청 자전거정책과\" ...\n",
            " $ V17: chr  \"데이터기준일자\" \"2020-08-31\" \"2020-08-31\" \"2020-08-31\" ...\n"
          ],
          "name": "stdout"
        },
        {
          "output_type": "display_data",
          "data": {
            "text/plain": [
              "  V1   V2             V3                                   \n",
              "1 번호 자전거보관소명 소재지도로명주소                     \n",
              "2 1    자전거 보관대  전라북도 전주시 덕진구 여암2길 9     \n",
              "3 2    자전거 보관대  전라북도 전주시 덕진구 송천중앙로 116\n",
              "4 3    자전거 보관대  전라북도 전주시 덕진구 송천중앙로162 \n",
              "5 4    자전거 보관대  전라북도 전주시 덕진구 송천중앙로 153\n",
              "6 5    자전거 보관대  전라북도 전주시 덕진구 천마산로 40   \n",
              "  V4                                       V5      V6         V7         \n",
              "1 소재지지번주소                           행정동  위도       경도       \n",
              "2 전라북도 전주시 덕진구 반월동 248-32     조촌동  35.8720107 127.0757434\n",
              "3 전라북도 전주시 덕진구 송천동1가 395-28  송천1동 35.8570952 127.1210231\n",
              "4 전라북도 전주시 덕진구 송천동1가 113-12  송천2동 35.860992  127.121702 \n",
              "5 전라북도 전주시 덕진구 송천동1가 481-4   송천2동 35.8606277 127.1209487\n",
              "6 전라북도 전주시 덕진구 송천동1가 107-172 송천2동 35.8633502 127.1257097\n",
              "  V8       V9       V10      V11            V12                V13           \n",
              "1 보관대수 설치연도 설치형태 차양막설치여부 공기주입기비치여부 공기주입기유형\n",
              "2 6                 거치형   N              N                                \n",
              "3 7                 휀스형   Y              N                                \n",
              "4 7                 거치형   N              N                                \n",
              "5 10                휀스형   Y              N                                \n",
              "6 10                휀스형   Y              N                                \n",
              "  V14            V15              V16                            V17           \n",
              "1 수리대설치여부 관리기관전화번호 관리기관명                     데이터기준일자\n",
              "2 N              063-281-2602     전라북도 전주시청 자전거정책과 2020-08-31    \n",
              "3 N              063-281-2603     전라북도 전주시청 자전거정책과 2020-08-31    \n",
              "4 N              063-281-2604     전라북도 전주시청 자전거정책과 2020-08-31    \n",
              "5 N              063-281-2605     전라북도 전주시청 자전거정책과 2020-08-31    \n",
              "6 N              063-281-2606     전라북도 전주시청 자전거정책과 2020-08-31    "
            ],
            "text/latex": "A data.frame: 6 × 17\n\\begin{tabular}{r|lllllllllllllllll}\n  & V1 & V2 & V3 & V4 & V5 & V6 & V7 & V8 & V9 & V10 & V11 & V12 & V13 & V14 & V15 & V16 & V17\\\\\n  & <chr> & <chr> & <chr> & <chr> & <chr> & <chr> & <chr> & <chr> & <chr> & <chr> & <chr> & <chr> & <chr> & <chr> & <chr> & <chr> & <chr>\\\\\n\\hline\n\t1 & 번호 & 자전거보관소명 & 소재지도로명주소                      & 소재지지번주소                           & 행정동  & 위도       & 경도        & 보관대수 & 설치연도 & 설치형태 & 차양막설치여부 & 공기주입기비치여부 & 공기주입기유형 & 수리대설치여부 & 관리기관전화번호 & 관리기관명                     & 데이터기준일자\\\\\n\t2 & 1    & 자전거 보관대  & 전라북도 전주시 덕진구 여암2길 9      & 전라북도 전주시 덕진구 반월동 248-32     & 조촌동  & 35.8720107 & 127.0757434 & 6        &          & 거치형   & N              & N                  &                & N              & 063-281-2602     & 전라북도 전주시청 자전거정책과 & 2020-08-31    \\\\\n\t3 & 2    & 자전거 보관대  & 전라북도 전주시 덕진구 송천중앙로 116 & 전라북도 전주시 덕진구 송천동1가 395-28  & 송천1동 & 35.8570952 & 127.1210231 & 7        &          & 휀스형   & Y              & N                  &                & N              & 063-281-2603     & 전라북도 전주시청 자전거정책과 & 2020-08-31    \\\\\n\t4 & 3    & 자전거 보관대  & 전라북도 전주시 덕진구 송천중앙로162  & 전라북도 전주시 덕진구 송천동1가 113-12  & 송천2동 & 35.860992  & 127.121702  & 7        &          & 거치형   & N              & N                  &                & N              & 063-281-2604     & 전라북도 전주시청 자전거정책과 & 2020-08-31    \\\\\n\t5 & 4    & 자전거 보관대  & 전라북도 전주시 덕진구 송천중앙로 153 & 전라북도 전주시 덕진구 송천동1가 481-4   & 송천2동 & 35.8606277 & 127.1209487 & 10       &          & 휀스형   & Y              & N                  &                & N              & 063-281-2605     & 전라북도 전주시청 자전거정책과 & 2020-08-31    \\\\\n\t6 & 5    & 자전거 보관대  & 전라북도 전주시 덕진구 천마산로 40    & 전라북도 전주시 덕진구 송천동1가 107-172 & 송천2동 & 35.8633502 & 127.1257097 & 10       &          & 휀스형   & Y              & N                  &                & N              & 063-281-2606     & 전라북도 전주시청 자전거정책과 & 2020-08-31    \\\\\n\\end{tabular}\n",
            "text/markdown": "\nA data.frame: 6 × 17\n\n| <!--/--> | V1 &lt;chr&gt; | V2 &lt;chr&gt; | V3 &lt;chr&gt; | V4 &lt;chr&gt; | V5 &lt;chr&gt; | V6 &lt;chr&gt; | V7 &lt;chr&gt; | V8 &lt;chr&gt; | V9 &lt;chr&gt; | V10 &lt;chr&gt; | V11 &lt;chr&gt; | V12 &lt;chr&gt; | V13 &lt;chr&gt; | V14 &lt;chr&gt; | V15 &lt;chr&gt; | V16 &lt;chr&gt; | V17 &lt;chr&gt; |\n|---|---|---|---|---|---|---|---|---|---|---|---|---|---|---|---|---|---|\n| 1 | 번호 | 자전거보관소명 | 소재지도로명주소                      | 소재지지번주소                           | 행정동  | 위도       | 경도        | 보관대수 | 설치연도 | 설치형태 | 차양막설치여부 | 공기주입기비치여부 | 공기주입기유형 | 수리대설치여부 | 관리기관전화번호 | 관리기관명                     | 데이터기준일자 |\n| 2 | 1    | 자전거 보관대  | 전라북도 전주시 덕진구 여암2길 9      | 전라북도 전주시 덕진구 반월동 248-32     | 조촌동  | 35.8720107 | 127.0757434 | 6        | <!----> | 거치형   | N              | N                  | <!----> | N              | 063-281-2602     | 전라북도 전주시청 자전거정책과 | 2020-08-31     |\n| 3 | 2    | 자전거 보관대  | 전라북도 전주시 덕진구 송천중앙로 116 | 전라북도 전주시 덕진구 송천동1가 395-28  | 송천1동 | 35.8570952 | 127.1210231 | 7        | <!----> | 휀스형   | Y              | N                  | <!----> | N              | 063-281-2603     | 전라북도 전주시청 자전거정책과 | 2020-08-31     |\n| 4 | 3    | 자전거 보관대  | 전라북도 전주시 덕진구 송천중앙로162  | 전라북도 전주시 덕진구 송천동1가 113-12  | 송천2동 | 35.860992  | 127.121702  | 7        | <!----> | 거치형   | N              | N                  | <!----> | N              | 063-281-2604     | 전라북도 전주시청 자전거정책과 | 2020-08-31     |\n| 5 | 4    | 자전거 보관대  | 전라북도 전주시 덕진구 송천중앙로 153 | 전라북도 전주시 덕진구 송천동1가 481-4   | 송천2동 | 35.8606277 | 127.1209487 | 10       | <!----> | 휀스형   | Y              | N                  | <!----> | N              | 063-281-2605     | 전라북도 전주시청 자전거정책과 | 2020-08-31     |\n| 6 | 5    | 자전거 보관대  | 전라북도 전주시 덕진구 천마산로 40    | 전라북도 전주시 덕진구 송천동1가 107-172 | 송천2동 | 35.8633502 | 127.1257097 | 10       | <!----> | 휀스형   | Y              | N                  | <!----> | N              | 063-281-2606     | 전라북도 전주시청 자전거정책과 | 2020-08-31     |\n\n",
            "text/html": [
              "<table class=\"dataframe\">\n",
              "<caption>A data.frame: 6 × 17</caption>\n",
              "<thead>\n",
              "\t<tr><th></th><th scope=col>V1</th><th scope=col>V2</th><th scope=col>V3</th><th scope=col>V4</th><th scope=col>V5</th><th scope=col>V6</th><th scope=col>V7</th><th scope=col>V8</th><th scope=col>V9</th><th scope=col>V10</th><th scope=col>V11</th><th scope=col>V12</th><th scope=col>V13</th><th scope=col>V14</th><th scope=col>V15</th><th scope=col>V16</th><th scope=col>V17</th></tr>\n",
              "\t<tr><th></th><th scope=col>&lt;chr&gt;</th><th scope=col>&lt;chr&gt;</th><th scope=col>&lt;chr&gt;</th><th scope=col>&lt;chr&gt;</th><th scope=col>&lt;chr&gt;</th><th scope=col>&lt;chr&gt;</th><th scope=col>&lt;chr&gt;</th><th scope=col>&lt;chr&gt;</th><th scope=col>&lt;chr&gt;</th><th scope=col>&lt;chr&gt;</th><th scope=col>&lt;chr&gt;</th><th scope=col>&lt;chr&gt;</th><th scope=col>&lt;chr&gt;</th><th scope=col>&lt;chr&gt;</th><th scope=col>&lt;chr&gt;</th><th scope=col>&lt;chr&gt;</th><th scope=col>&lt;chr&gt;</th></tr>\n",
              "</thead>\n",
              "<tbody>\n",
              "\t<tr><th scope=row>1</th><td>번호</td><td>자전거보관소명</td><td>소재지도로명주소                     </td><td>소재지지번주소                          </td><td>행정동 </td><td>위도      </td><td>경도       </td><td>보관대수</td><td>설치연도</td><td>설치형태</td><td>차양막설치여부</td><td>공기주입기비치여부</td><td>공기주입기유형</td><td>수리대설치여부</td><td>관리기관전화번호</td><td>관리기관명                    </td><td>데이터기준일자</td></tr>\n",
              "\t<tr><th scope=row>2</th><td>1   </td><td>자전거 보관대 </td><td>전라북도 전주시 덕진구 여암2길 9     </td><td>전라북도 전주시 덕진구 반월동 248-32    </td><td>조촌동 </td><td>35.8720107</td><td>127.0757434</td><td>6       </td><td>        </td><td>거치형  </td><td>N             </td><td>N                 </td><td>              </td><td>N             </td><td>063-281-2602    </td><td>전라북도 전주시청 자전거정책과</td><td>2020-08-31    </td></tr>\n",
              "\t<tr><th scope=row>3</th><td>2   </td><td>자전거 보관대 </td><td>전라북도 전주시 덕진구 송천중앙로 116</td><td>전라북도 전주시 덕진구 송천동1가 395-28 </td><td>송천1동</td><td>35.8570952</td><td>127.1210231</td><td>7       </td><td>        </td><td>휀스형  </td><td>Y             </td><td>N                 </td><td>              </td><td>N             </td><td>063-281-2603    </td><td>전라북도 전주시청 자전거정책과</td><td>2020-08-31    </td></tr>\n",
              "\t<tr><th scope=row>4</th><td>3   </td><td>자전거 보관대 </td><td>전라북도 전주시 덕진구 송천중앙로162 </td><td>전라북도 전주시 덕진구 송천동1가 113-12 </td><td>송천2동</td><td>35.860992 </td><td>127.121702 </td><td>7       </td><td>        </td><td>거치형  </td><td>N             </td><td>N                 </td><td>              </td><td>N             </td><td>063-281-2604    </td><td>전라북도 전주시청 자전거정책과</td><td>2020-08-31    </td></tr>\n",
              "\t<tr><th scope=row>5</th><td>4   </td><td>자전거 보관대 </td><td>전라북도 전주시 덕진구 송천중앙로 153</td><td>전라북도 전주시 덕진구 송천동1가 481-4  </td><td>송천2동</td><td>35.8606277</td><td>127.1209487</td><td>10      </td><td>        </td><td>휀스형  </td><td>Y             </td><td>N                 </td><td>              </td><td>N             </td><td>063-281-2605    </td><td>전라북도 전주시청 자전거정책과</td><td>2020-08-31    </td></tr>\n",
              "\t<tr><th scope=row>6</th><td>5   </td><td>자전거 보관대 </td><td>전라북도 전주시 덕진구 천마산로 40   </td><td>전라북도 전주시 덕진구 송천동1가 107-172</td><td>송천2동</td><td>35.8633502</td><td>127.1257097</td><td>10      </td><td>        </td><td>휀스형  </td><td>Y             </td><td>N                 </td><td>              </td><td>N             </td><td>063-281-2606    </td><td>전라북도 전주시청 자전거정책과</td><td>2020-08-31    </td></tr>\n",
              "</tbody>\n",
              "</table>\n"
            ]
          },
          "metadata": {
            "tags": []
          }
        }
      ]
    },
    {
      "cell_type": "code",
      "metadata": {
        "colab": {
          "base_uri": "https://localhost:8080/",
          "height": 262
        },
        "id": "fuXvBjkzeJDy",
        "outputId": "05de6a98-3da4-48aa-c5a8-0f4a132456f2"
      },
      "source": [
        "bicycle <- bicycle[, c(1,5,8)]\n",
        "bicycle <- bicycle %>% group_by(행정동) %>% summarise(자전거보관대수 = sum(보관대수))\n",
        "bicycle <- as.data.frame(bicycle)\n",
        "bicycle <- arrange(bicycle, bicycle$행정동)\n",
        "table(bicycle$행정동 %in% jjdong)\n",
        "table(jjdong %in% bicycle$행정동)\n",
        "jjdong[jjdong %in% bicycle$행정동 == FALSE]"
      ],
      "execution_count": 40,
      "outputs": [
        {
          "output_type": "error",
          "ename": "ERROR",
          "evalue": "ignored",
          "traceback": [
            "Error: Must group by variables found in `.data`.\n* Column `행정동` is not found.\nTraceback:\n",
            "1. bicycle %>% group_by(행정동) %>% summarise(자전거보관대수 = sum(보관대수))",
            "2. summarise(., 자전거보관대수 = sum(보관대수))",
            "3. group_by(., 행정동)",
            "4. group_by.data.frame(., 행정동)",
            "5. group_by_prepare(.data, ..., .add = .add)",
            "6. abort(c(\"Must group by variables found in `.data`.\", glue(\"Column `{unknown}` is not found.\")))",
            "7. signal_abort(cnd)"
          ]
        }
      ]
    },
    {
      "cell_type": "code",
      "metadata": {
        "colab": {
          "base_uri": "https://localhost:8080/",
          "height": 391
        },
        "id": "0fTCUDA2eL_0",
        "outputId": "1eaed82a-f334-4da9-f88a-350bac2434e2"
      },
      "source": [
        "str(bigstore) ##\n",
        "head(bigstore)"
      ],
      "execution_count": 41,
      "outputs": [
        {
          "output_type": "stream",
          "text": [
            "'data.frame':\t44 obs. of  5 variables:\n",
            " $ V1: chr  \"분류\" \"대규모점포\" \"대규모점포\" \"대규모점포\" ...\n",
            " $ V2: chr  \"store\" \"롯데백화점 전주점\" \"E-마트\" \"홈플러스 완산점\" ...\n",
            " $ V3: chr  \"address\" \"전주시 완산구 온고을로 2\" \"전주시 완산구 당산로 111\" \"전주시 완산구 기린대로 170\" ...\n",
            " $ V4: chr  \"행정동\" \"서신동\" \"서신동\" \"노송동\" ...\n",
            " $ V5: chr  \"면적\" \"28179\" \"6571\" \"13121\" ...\n"
          ],
          "name": "stdout"
        },
        {
          "output_type": "display_data",
          "data": {
            "text/plain": [
              "  V1         V2                V3                         V4      V5   \n",
              "1 분류       store             address                    행정동  면적 \n",
              "2 대규모점포 롯데백화점 전주점 전주시 완산구 온고을로 2   서신동  28179\n",
              "3 대규모점포 E-마트            전주시 완산구 당산로 111   서신동  6571 \n",
              "4 대규모점포 홈플러스 완산점   전주시 완산구 기린대로 170 노송동  13121\n",
              "5 대규모점포 홈플러스 전주점   전주시 덕진구 백제대로 771 우아1동 8471 \n",
              "6 대규모점포 홈플러스 효자점   전주시 완산구 용머리로 31  효자3동 22657"
            ],
            "text/latex": "A data.frame: 6 × 5\n\\begin{tabular}{r|lllll}\n  & V1 & V2 & V3 & V4 & V5\\\\\n  & <chr> & <chr> & <chr> & <chr> & <chr>\\\\\n\\hline\n\t1 & 분류       & store             & address                    & 행정동  & 면적 \\\\\n\t2 & 대규모점포 & 롯데백화점 전주점 & 전주시 완산구 온고을로 2   & 서신동  & 28179\\\\\n\t3 & 대규모점포 & E-마트            & 전주시 완산구 당산로 111   & 서신동  & 6571 \\\\\n\t4 & 대규모점포 & 홈플러스 완산점   & 전주시 완산구 기린대로 170 & 노송동  & 13121\\\\\n\t5 & 대규모점포 & 홈플러스 전주점   & 전주시 덕진구 백제대로 771 & 우아1동 & 8471 \\\\\n\t6 & 대규모점포 & 홈플러스 효자점   & 전주시 완산구 용머리로 31  & 효자3동 & 22657\\\\\n\\end{tabular}\n",
            "text/markdown": "\nA data.frame: 6 × 5\n\n| <!--/--> | V1 &lt;chr&gt; | V2 &lt;chr&gt; | V3 &lt;chr&gt; | V4 &lt;chr&gt; | V5 &lt;chr&gt; |\n|---|---|---|---|---|---|\n| 1 | 분류       | store             | address                    | 행정동  | 면적  |\n| 2 | 대규모점포 | 롯데백화점 전주점 | 전주시 완산구 온고을로 2   | 서신동  | 28179 |\n| 3 | 대규모점포 | E-마트            | 전주시 완산구 당산로 111   | 서신동  | 6571  |\n| 4 | 대규모점포 | 홈플러스 완산점   | 전주시 완산구 기린대로 170 | 노송동  | 13121 |\n| 5 | 대규모점포 | 홈플러스 전주점   | 전주시 덕진구 백제대로 771 | 우아1동 | 8471  |\n| 6 | 대규모점포 | 홈플러스 효자점   | 전주시 완산구 용머리로 31  | 효자3동 | 22657 |\n\n",
            "text/html": [
              "<table class=\"dataframe\">\n",
              "<caption>A data.frame: 6 × 5</caption>\n",
              "<thead>\n",
              "\t<tr><th></th><th scope=col>V1</th><th scope=col>V2</th><th scope=col>V3</th><th scope=col>V4</th><th scope=col>V5</th></tr>\n",
              "\t<tr><th></th><th scope=col>&lt;chr&gt;</th><th scope=col>&lt;chr&gt;</th><th scope=col>&lt;chr&gt;</th><th scope=col>&lt;chr&gt;</th><th scope=col>&lt;chr&gt;</th></tr>\n",
              "</thead>\n",
              "<tbody>\n",
              "\t<tr><th scope=row>1</th><td>분류      </td><td>store            </td><td>address                   </td><td>행정동 </td><td>면적 </td></tr>\n",
              "\t<tr><th scope=row>2</th><td>대규모점포</td><td>롯데백화점 전주점</td><td>전주시 완산구 온고을로 2  </td><td>서신동 </td><td>28179</td></tr>\n",
              "\t<tr><th scope=row>3</th><td>대규모점포</td><td>E-마트           </td><td>전주시 완산구 당산로 111  </td><td>서신동 </td><td>6571 </td></tr>\n",
              "\t<tr><th scope=row>4</th><td>대규모점포</td><td>홈플러스 완산점  </td><td>전주시 완산구 기린대로 170</td><td>노송동 </td><td>13121</td></tr>\n",
              "\t<tr><th scope=row>5</th><td>대규모점포</td><td>홈플러스 전주점  </td><td>전주시 덕진구 백제대로 771</td><td>우아1동</td><td>8471 </td></tr>\n",
              "\t<tr><th scope=row>6</th><td>대규모점포</td><td>홈플러스 효자점  </td><td>전주시 완산구 용머리로 31 </td><td>효자3동</td><td>22657</td></tr>\n",
              "</tbody>\n",
              "</table>\n"
            ]
          },
          "metadata": {
            "tags": []
          }
        }
      ]
    },
    {
      "cell_type": "code",
      "metadata": {
        "colab": {
          "base_uri": "https://localhost:8080/",
          "height": 262
        },
        "id": "nbTqT9_feNlA",
        "outputId": "ab820a4e-20a2-4e52-d111-d72ed68847c4"
      },
      "source": [
        "bigstore <- bigstore[,c(2,4,5)]\n",
        "bigstore$count <- rep(1,nrow(bigstore))\n",
        "bigstore <- bigstore %>% group_by(행정동) %>% summarise(대규모점포개수 = sum(count))\n",
        "bigstore <- as.data.frame(bigstore)\n",
        "bigstore <- arrange(bigstore, bigstore$행정동)"
      ],
      "execution_count": 42,
      "outputs": [
        {
          "output_type": "error",
          "ename": "ERROR",
          "evalue": "ignored",
          "traceback": [
            "Error: Must group by variables found in `.data`.\n* Column `행정동` is not found.\nTraceback:\n",
            "1. bigstore %>% group_by(행정동) %>% summarise(대규모점포개수 = sum(count))",
            "2. summarise(., 대규모점포개수 = sum(count))",
            "3. group_by(., 행정동)",
            "4. group_by.data.frame(., 행정동)",
            "5. group_by_prepare(.data, ..., .add = .add)",
            "6. abort(c(\"Must group by variables found in `.data`.\", glue(\"Column `{unknown}` is not found.\")))",
            "7. signal_abort(cnd)"
          ]
        }
      ]
    },
    {
      "cell_type": "code",
      "metadata": {
        "colab": {
          "base_uri": "https://localhost:8080/",
          "height": 337
        },
        "id": "iUmtPDTyePcm",
        "outputId": "a363299e-bb23-4dae-d642-a77029412a0f"
      },
      "source": [
        "str(cvstore) ####\n",
        "head(cvstore)"
      ],
      "execution_count": 44,
      "outputs": [
        {
          "output_type": "stream",
          "text": [
            "'data.frame':\t32 obs. of  2 variables:\n",
            " $ 행정동: chr  \"금암1동\" \"금암2동\" \"노송동\" \"덕진동\" ...\n",
            " $ V4    : chr  \"25\" \"8\" \"5\" \"29\" ...\n"
          ],
          "name": "stdout"
        },
        {
          "output_type": "display_data",
          "data": {
            "text/plain": [
              "  행정동   V4      \n",
              "1 금암1동  25      \n",
              "2 금암2동  8       \n",
              "3 노송동   5       \n",
              "4 덕진동   29      \n",
              "5 동       편의점수\n",
              "6 동서학동 6       "
            ],
            "text/latex": "A data.frame: 6 × 2\n\\begin{tabular}{r|ll}\n  & 행정동 & V4\\\\\n  & <chr> & <chr>\\\\\n\\hline\n\t1 & 금암1동  & 25      \\\\\n\t2 & 금암2동  & 8       \\\\\n\t3 & 노송동   & 5       \\\\\n\t4 & 덕진동   & 29      \\\\\n\t5 & 동       & 편의점수\\\\\n\t6 & 동서학동 & 6       \\\\\n\\end{tabular}\n",
            "text/markdown": "\nA data.frame: 6 × 2\n\n| <!--/--> | 행정동 &lt;chr&gt; | V4 &lt;chr&gt; |\n|---|---|---|\n| 1 | 금암1동  | 25       |\n| 2 | 금암2동  | 8        |\n| 3 | 노송동   | 5        |\n| 4 | 덕진동   | 29       |\n| 5 | 동       | 편의점수 |\n| 6 | 동서학동 | 6        |\n\n",
            "text/html": [
              "<table class=\"dataframe\">\n",
              "<caption>A data.frame: 6 × 2</caption>\n",
              "<thead>\n",
              "\t<tr><th></th><th scope=col>행정동</th><th scope=col>V4</th></tr>\n",
              "\t<tr><th></th><th scope=col>&lt;chr&gt;</th><th scope=col>&lt;chr&gt;</th></tr>\n",
              "</thead>\n",
              "<tbody>\n",
              "\t<tr><th scope=row>1</th><td>금암1동 </td><td>25      </td></tr>\n",
              "\t<tr><th scope=row>2</th><td>금암2동 </td><td>8       </td></tr>\n",
              "\t<tr><th scope=row>3</th><td>노송동  </td><td>5       </td></tr>\n",
              "\t<tr><th scope=row>4</th><td>덕진동  </td><td>29      </td></tr>\n",
              "\t<tr><th scope=row>5</th><td>동      </td><td>편의점수</td></tr>\n",
              "\t<tr><th scope=row>6</th><td>동서학동</td><td>6       </td></tr>\n",
              "</tbody>\n",
              "</table>\n"
            ]
          },
          "metadata": {
            "tags": []
          }
        }
      ]
    },
    {
      "cell_type": "code",
      "metadata": {
        "colab": {
          "base_uri": "https://localhost:8080/",
          "height": 172
        },
        "id": "vqNC34tZeSIy",
        "outputId": "b5eb2c5d-8ce8-4406-feb5-b3566b7cc533"
      },
      "source": [
        "cvstore <- cvstore[,c(2,4)]\n",
        "names(cvstore)[1] <- \"행정동\"\n",
        "cvstore <- arrange(cvstore, cvstore$행정동)\n",
        "table(cvstore$행정동 %in% jjdong)\n",
        "table(jjdong %in% cvstore$행정동)\n",
        "cvstore$행정동[cvstore$행정동 %in% jjdong == FALSE] #jjdong에는 없는 cvstore의 행정동\n",
        "jjdong[jjdong %in% cvstore$행정동 == FALSE] #cvstore에는 없는 jjdong의 행정동\n",
        "add <- data.frame(행정동 = jjdong[jjdong %in% cvstore$행정동 == FALSE], 편의점수 = rep(NA, length(jjdong[jjdong %in% cvstore$행정동 == FALSE])))\n",
        "cvstore<- rbind(cvstore, add)\n",
        "cvstore <- arrange(cvstore, cvstore$행정동)"
      ],
      "execution_count": 45,
      "outputs": [
        {
          "output_type": "error",
          "ename": "ERROR",
          "evalue": "ignored",
          "traceback": [
            "Error in `[.data.frame`(cvstore, , c(2, 4)): undefined columns selected\nTraceback:\n",
            "1. cvstore[, c(2, 4)]",
            "2. `[.data.frame`(cvstore, , c(2, 4))",
            "3. stop(\"undefined columns selected\")"
          ]
        }
      ]
    },
    {
      "cell_type": "code",
      "metadata": {
        "colab": {
          "base_uri": "https://localhost:8080/",
          "height": 355
        },
        "id": "KfNo8CM6eWwU",
        "outputId": "97438085-5855-4704-a474-835de2960631"
      },
      "source": [
        "str(univ) ##\n",
        "head(univ)"
      ],
      "execution_count": 46,
      "outputs": [
        {
          "output_type": "stream",
          "text": [
            "'data.frame':\t8 obs. of  3 variables:\n",
            " $ V1: chr  \"대학교\" \"전북대학교 전주캠퍼스\" \"전주교육대학교\" \"예수대학교\" ...\n",
            " $ V2: chr  \"위치\" \"전라북도 전주시 덕진구 백제대로 567\" \"전라북도 전주시 완산구 서학로 50 \" \"전라북도 전주시 완산구 서원로 383 \" ...\n",
            " $ V3: chr  \"행정동\" \"덕진동\" \"동서학동\" \"중화산1동\" ...\n"
          ],
          "name": "stdout"
        },
        {
          "output_type": "display_data",
          "data": {
            "text/plain": [
              "  V1                    V2                                    V3       \n",
              "1 대학교                위치                                  행정동   \n",
              "2 전북대학교 전주캠퍼스 전라북도 전주시 덕진구 백제대로 567   덕진동   \n",
              "3 전주교육대학교        전라북도 전주시 완산구 서학로 50      동서학동 \n",
              "4 예수대학교            전라북도 전주시 완산구 서원로 383     중화산1동\n",
              "5 전주대학교            전라북도 전주시 완산구 천잠로 303     효자4동  \n",
              "6 전주기전대학          전라북도 전주시 완산구 전주천서로 267 중화산1동"
            ],
            "text/latex": "A data.frame: 6 × 3\n\\begin{tabular}{r|lll}\n  & V1 & V2 & V3\\\\\n  & <chr> & <chr> & <chr>\\\\\n\\hline\n\t1 & 대학교                & 위치                                  & 행정동   \\\\\n\t2 & 전북대학교 전주캠퍼스 & 전라북도 전주시 덕진구 백제대로 567   & 덕진동   \\\\\n\t3 & 전주교육대학교        & 전라북도 전주시 완산구 서학로 50      & 동서학동 \\\\\n\t4 & 예수대학교            & 전라북도 전주시 완산구 서원로 383     & 중화산1동\\\\\n\t5 & 전주대학교            & 전라북도 전주시 완산구 천잠로 303     & 효자4동  \\\\\n\t6 & 전주기전대학          & 전라북도 전주시 완산구 전주천서로 267 & 중화산1동\\\\\n\\end{tabular}\n",
            "text/markdown": "\nA data.frame: 6 × 3\n\n| <!--/--> | V1 &lt;chr&gt; | V2 &lt;chr&gt; | V3 &lt;chr&gt; |\n|---|---|---|---|\n| 1 | 대학교                | 위치                                  | 행정동    |\n| 2 | 전북대학교 전주캠퍼스 | 전라북도 전주시 덕진구 백제대로 567   | 덕진동    |\n| 3 | 전주교육대학교        | 전라북도 전주시 완산구 서학로 50      | 동서학동  |\n| 4 | 예수대학교            | 전라북도 전주시 완산구 서원로 383     | 중화산1동 |\n| 5 | 전주대학교            | 전라북도 전주시 완산구 천잠로 303     | 효자4동   |\n| 6 | 전주기전대학          | 전라북도 전주시 완산구 전주천서로 267 | 중화산1동 |\n\n",
            "text/html": [
              "<table class=\"dataframe\">\n",
              "<caption>A data.frame: 6 × 3</caption>\n",
              "<thead>\n",
              "\t<tr><th></th><th scope=col>V1</th><th scope=col>V2</th><th scope=col>V3</th></tr>\n",
              "\t<tr><th></th><th scope=col>&lt;chr&gt;</th><th scope=col>&lt;chr&gt;</th><th scope=col>&lt;chr&gt;</th></tr>\n",
              "</thead>\n",
              "<tbody>\n",
              "\t<tr><th scope=row>1</th><td>대학교               </td><td>위치                                 </td><td>행정동   </td></tr>\n",
              "\t<tr><th scope=row>2</th><td>전북대학교 전주캠퍼스</td><td>전라북도 전주시 덕진구 백제대로 567  </td><td>덕진동   </td></tr>\n",
              "\t<tr><th scope=row>3</th><td>전주교육대학교       </td><td>전라북도 전주시 완산구 서학로 50     </td><td>동서학동 </td></tr>\n",
              "\t<tr><th scope=row>4</th><td>예수대학교           </td><td>전라북도 전주시 완산구 서원로 383    </td><td>중화산1동</td></tr>\n",
              "\t<tr><th scope=row>5</th><td>전주대학교           </td><td>전라북도 전주시 완산구 천잠로 303    </td><td>효자4동  </td></tr>\n",
              "\t<tr><th scope=row>6</th><td>전주기전대학         </td><td>전라북도 전주시 완산구 전주천서로 267</td><td>중화산1동</td></tr>\n",
              "</tbody>\n",
              "</table>\n"
            ]
          },
          "metadata": {
            "tags": []
          }
        }
      ]
    },
    {
      "cell_type": "code",
      "metadata": {
        "colab": {
          "base_uri": "https://localhost:8080/",
          "height": 514
        },
        "id": "SqoisHALeYYs",
        "outputId": "458fec6e-b6c8-4bfa-eeb3-4865f7ca25cf"
      },
      "source": [
        "univ$count <- rep(1,nrow(univ))\n",
        "univ <- univ[,c(3,4)]\n",
        "names(univ)[2] <- \"대학교수\"\n",
        "table(univ$행정동 %in% jjdong)\n",
        "table(jjdong %in% univ$행정동)\n",
        "univ$행정동[univ$행정동 %in% jjdong == FALSE] #jjdong에는 없는 univ의 행정동\n",
        "jjdong[jjdong %in% univ$행정동 == FALSE] #univ에는 없는 jjdong의 행정동\n",
        "add <- data.frame(행정동 = jjdong[jjdong %in% univ$행정동 == FALSE], 대학교수 = rep(0, length(jjdong[jjdong %in% univ$행정동 == FALSE])))\n",
        "univ <- rbind(univ, add)\n",
        "univ <- arrange(univ, univ$행정동)\n",
        "univ <- univ %>% group_by(행정동) %>% summarise(대학 = sum(대학교수))\n",
        "univ <- as.data.frame(univ)"
      ],
      "execution_count": 47,
      "outputs": [
        {
          "output_type": "display_data",
          "data": {
            "text/plain": [
              "< table of extent 0 >"
            ]
          },
          "metadata": {
            "tags": []
          }
        },
        {
          "output_type": "display_data",
          "data": {
            "text/plain": [
              "< table of extent 0 >"
            ]
          },
          "metadata": {
            "tags": []
          }
        },
        {
          "output_type": "display_data",
          "data": {
            "text/plain": [
              "NULL"
            ]
          },
          "metadata": {
            "tags": []
          }
        },
        {
          "output_type": "display_data",
          "data": {
            "text/plain": [
              "NULL"
            ]
          },
          "metadata": {
            "tags": []
          }
        },
        {
          "output_type": "error",
          "ename": "ERROR",
          "evalue": "ignored",
          "traceback": [
            "Error in mapply(.f, .x, .y, MoreArgs = list(...), SIMPLIFY = FALSE): zero-length inputs cannot be mixed with those of non-zero length\nTraceback:\n",
            "1. arrange(univ, univ$행정동)",
            "2. arrange.data.frame(univ, univ$행정동)",
            "3. arrange_rows(.data, dots)",
            "4. map2(data, directions, function(column, direction) {\n .     proxy <- vec_proxy_order(column)\n .     desc <- identical(direction, \"desc\")\n .     if (is.data.frame(proxy)) {\n .         proxy <- order(vec_order(proxy, direction = direction, \n .             na_value = if (desc) \n .                 \"smallest\"\n .             else \"largest\"))\n .     }\n .     else if (desc) {\n .         proxy <- desc(proxy)\n .     }\n .     proxy\n . })",
            "5. mapply(.f, .x, .y, MoreArgs = list(...), SIMPLIFY = FALSE)"
          ]
        }
      ]
    },
    {
      "cell_type": "code",
      "metadata": {
        "colab": {
          "base_uri": "https://localhost:8080/",
          "height": 355
        },
        "id": "XQ-hutvAebbM",
        "outputId": "f3a7732d-40fb-44e5-942b-0e890366d802"
      },
      "source": [
        "str(region) ####\n",
        "head(region)"
      ],
      "execution_count": 48,
      "outputs": [
        {
          "output_type": "stream",
          "text": [
            "'data.frame':\t36 obs. of  3 variables:\n",
            " $ V1: chr  \"구\" \"덕진구\" \"덕진구\" \"덕진구\" ...\n",
            " $ V2: chr  \"동\" \"진북동\" \"인후1동\" \"인후2동\" ...\n",
            " $ V3: chr  \"면적(km²)\" \"1.71\" \"1.29\" \"1.32\" ...\n"
          ],
          "name": "stdout"
        },
        {
          "output_type": "display_data",
          "data": {
            "text/plain": [
              "  V1     V2      V3       \n",
              "1 구     동      면적(km²)\n",
              "2 덕진구 진북동  1.71     \n",
              "3 덕진구 인후1동 1.29     \n",
              "4 덕진구 인후2동 1.32     \n",
              "5 덕진구 인후3동 1.68     \n",
              "6 덕진구 덕진동  4.78     "
            ],
            "text/latex": "A data.frame: 6 × 3\n\\begin{tabular}{r|lll}\n  & V1 & V2 & V3\\\\\n  & <chr> & <chr> & <chr>\\\\\n\\hline\n\t1 & 구     & 동      & 면적(km²)\\\\\n\t2 & 덕진구 & 진북동  & 1.71     \\\\\n\t3 & 덕진구 & 인후1동 & 1.29     \\\\\n\t4 & 덕진구 & 인후2동 & 1.32     \\\\\n\t5 & 덕진구 & 인후3동 & 1.68     \\\\\n\t6 & 덕진구 & 덕진동  & 4.78     \\\\\n\\end{tabular}\n",
            "text/markdown": "\nA data.frame: 6 × 3\n\n| <!--/--> | V1 &lt;chr&gt; | V2 &lt;chr&gt; | V3 &lt;chr&gt; |\n|---|---|---|---|\n| 1 | 구     | 동      | 면적(km²) |\n| 2 | 덕진구 | 진북동  | 1.71      |\n| 3 | 덕진구 | 인후1동 | 1.29      |\n| 4 | 덕진구 | 인후2동 | 1.32      |\n| 5 | 덕진구 | 인후3동 | 1.68      |\n| 6 | 덕진구 | 덕진동  | 4.78      |\n\n",
            "text/html": [
              "<table class=\"dataframe\">\n",
              "<caption>A data.frame: 6 × 3</caption>\n",
              "<thead>\n",
              "\t<tr><th></th><th scope=col>V1</th><th scope=col>V2</th><th scope=col>V3</th></tr>\n",
              "\t<tr><th></th><th scope=col>&lt;chr&gt;</th><th scope=col>&lt;chr&gt;</th><th scope=col>&lt;chr&gt;</th></tr>\n",
              "</thead>\n",
              "<tbody>\n",
              "\t<tr><th scope=row>1</th><td>구    </td><td>동     </td><td>면적(km²)</td></tr>\n",
              "\t<tr><th scope=row>2</th><td>덕진구</td><td>진북동 </td><td>1.71     </td></tr>\n",
              "\t<tr><th scope=row>3</th><td>덕진구</td><td>인후1동</td><td>1.29     </td></tr>\n",
              "\t<tr><th scope=row>4</th><td>덕진구</td><td>인후2동</td><td>1.32     </td></tr>\n",
              "\t<tr><th scope=row>5</th><td>덕진구</td><td>인후3동</td><td>1.68     </td></tr>\n",
              "\t<tr><th scope=row>6</th><td>덕진구</td><td>덕진동 </td><td>4.78     </td></tr>\n",
              "</tbody>\n",
              "</table>\n"
            ]
          },
          "metadata": {
            "tags": []
          }
        }
      ]
    },
    {
      "cell_type": "code",
      "metadata": {
        "colab": {
          "base_uri": "https://localhost:8080/",
          "height": 141
        },
        "id": "g1nTFhZTedGS",
        "outputId": "54cdecd5-017d-4684-c8b3-c33cca77c05c"
      },
      "source": [
        "region <- region[,c(2,3)]\n",
        "names(region) <- c(\"행정동\", \"면적.km\")\n",
        "region <- arrange(region, region$행정동)\n",
        "table(region$행정동 %in% jjdong)\n",
        "table(jjdong %in% region$행정동)\n",
        "region$행정동[region$행정동 %in% jjdong == FALSE] #jjdong에는 없는 region의 행정동 #이름 오류 있는 듯 (송청1동, 품남동)\n",
        "jjdong[jjdong %in% region$행정동 == FALSE] #region에는 없는 jjdong의 행정동"
      ],
      "execution_count": 49,
      "outputs": [
        {
          "output_type": "display_data",
          "data": {
            "text/plain": [
              "\n",
              "FALSE \n",
              "   36 "
            ]
          },
          "metadata": {
            "tags": []
          }
        },
        {
          "output_type": "display_data",
          "data": {
            "text/plain": [
              "< table of extent 0 >"
            ]
          },
          "metadata": {
            "tags": []
          }
        },
        {
          "output_type": "display_data",
          "data": {
            "text/plain": [
              " [1] \"금암1동\"   \"금암2동\"   \"노송동\"    \"덕진동\"    \"동\"        \"동서학동\" \n",
              " [7] \"삼천1동\"   \"삼천2동\"   \"삼천3동\"   \"서서학동\"  \"서신동\"    \"송천1동\"  \n",
              "[13] \"송천2동\"   \"여의동\"    \"완산동\"    \"우아1동\"   \"우아2동\"   \"인후1동\"  \n",
              "[19] \"인후2동\"   \"인후3동\"   \"조촌동\"    \"중앙동\"    \"중화산1동\" \"중화산2동\"\n",
              "[25] \"진북동\"    \"팔복동\"    \"평화1동\"   \"평화2동\"   \"풍남동\"    \"혁신동\"   \n",
              "[31] \"호성동\"    \"효자1동\"   \"효자2동\"   \"효자3동\"   \"효자4동\"   \"효자5동\"  "
            ],
            "text/latex": "\\begin{enumerate*}\n\\item '금암1동'\n\\item '금암2동'\n\\item '노송동'\n\\item '덕진동'\n\\item '동'\n\\item '동서학동'\n\\item '삼천1동'\n\\item '삼천2동'\n\\item '삼천3동'\n\\item '서서학동'\n\\item '서신동'\n\\item '송천1동'\n\\item '송천2동'\n\\item '여의동'\n\\item '완산동'\n\\item '우아1동'\n\\item '우아2동'\n\\item '인후1동'\n\\item '인후2동'\n\\item '인후3동'\n\\item '조촌동'\n\\item '중앙동'\n\\item '중화산1동'\n\\item '중화산2동'\n\\item '진북동'\n\\item '팔복동'\n\\item '평화1동'\n\\item '평화2동'\n\\item '풍남동'\n\\item '혁신동'\n\\item '호성동'\n\\item '효자1동'\n\\item '효자2동'\n\\item '효자3동'\n\\item '효자4동'\n\\item '효자5동'\n\\end{enumerate*}\n",
            "text/markdown": "1. '금암1동'\n2. '금암2동'\n3. '노송동'\n4. '덕진동'\n5. '동'\n6. '동서학동'\n7. '삼천1동'\n8. '삼천2동'\n9. '삼천3동'\n10. '서서학동'\n11. '서신동'\n12. '송천1동'\n13. '송천2동'\n14. '여의동'\n15. '완산동'\n16. '우아1동'\n17. '우아2동'\n18. '인후1동'\n19. '인후2동'\n20. '인후3동'\n21. '조촌동'\n22. '중앙동'\n23. '중화산1동'\n24. '중화산2동'\n25. '진북동'\n26. '팔복동'\n27. '평화1동'\n28. '평화2동'\n29. '풍남동'\n30. '혁신동'\n31. '호성동'\n32. '효자1동'\n33. '효자2동'\n34. '효자3동'\n35. '효자4동'\n36. '효자5동'\n\n\n",
            "text/html": [
              "<style>\n",
              ".list-inline {list-style: none; margin:0; padding: 0}\n",
              ".list-inline>li {display: inline-block}\n",
              ".list-inline>li:not(:last-child)::after {content: \"\\00b7\"; padding: 0 .5ex}\n",
              "</style>\n",
              "<ol class=list-inline><li>'금암1동'</li><li>'금암2동'</li><li>'노송동'</li><li>'덕진동'</li><li>'동'</li><li>'동서학동'</li><li>'삼천1동'</li><li>'삼천2동'</li><li>'삼천3동'</li><li>'서서학동'</li><li>'서신동'</li><li>'송천1동'</li><li>'송천2동'</li><li>'여의동'</li><li>'완산동'</li><li>'우아1동'</li><li>'우아2동'</li><li>'인후1동'</li><li>'인후2동'</li><li>'인후3동'</li><li>'조촌동'</li><li>'중앙동'</li><li>'중화산1동'</li><li>'중화산2동'</li><li>'진북동'</li><li>'팔복동'</li><li>'평화1동'</li><li>'평화2동'</li><li>'풍남동'</li><li>'혁신동'</li><li>'호성동'</li><li>'효자1동'</li><li>'효자2동'</li><li>'효자3동'</li><li>'효자4동'</li><li>'효자5동'</li></ol>\n"
            ]
          },
          "metadata": {
            "tags": []
          }
        },
        {
          "output_type": "display_data",
          "data": {
            "text/plain": [
              "NULL"
            ]
          },
          "metadata": {
            "tags": []
          }
        }
      ]
    },
    {
      "cell_type": "code",
      "metadata": {
        "colab": {
          "base_uri": "https://localhost:8080/",
          "height": 1000
        },
        "id": "eUwyhCqyeeyq",
        "outputId": "69ca1f54-40d0-4327-a424-183cd243a40b"
      },
      "source": [
        "jj <- merge(pop, rest)\n",
        "jj <- merge(jj, cvstore)\n",
        "jj <- merge(jj, region)\n",
        "jj <- jj[,-1]\n",
        "jj"
      ],
      "execution_count": 52,
      "outputs": [
        {
          "output_type": "display_data",
          "data": {
            "text/plain": [
              "   V3    음식점수 V4 면적.km\n",
              "1  8824  323      25 1.25   \n",
              "2  10714 119      8  1.25   \n",
              "3  13189 193      5  2.09   \n",
              "4  21215 468      29 4.78   \n",
              "5  6784  67       6  15.64  \n",
              "6  14447 216      9  0.95   \n",
              "7  23323 219      13 26.6   \n",
              "8  40408 560      31 2.39   \n",
              "9  59376 347      30 4.79   \n",
              "10 26748 288      14 12.14  \n",
              "11 30208 184      22 15.71  \n",
              "12 10096 227      14 1.44   \n",
              "13 15125 389      36 22.91  \n",
              "14 19047 147      8  1.29   \n",
              "15 12094 174      7  1.32   \n",
              "16 32426 335      30 1.68   \n",
              "17 12133 90       7  24.28  \n",
              "18 8073  567      17 1.35   \n",
              "19 15288 227      19 1.22   \n",
              "20 20030 491      20 1.72   \n",
              "21 14924 145      8  1.71   \n",
              "22 8300  120      10 7.38   \n",
              "23 13204 108      8  1.49   \n",
              "24 46295 372      21 15.23  \n",
              "25 4521  488      16 2.05   \n",
              "26 17925 176      11 3.37   \n",
              "27 21154 121      9  7.64   \n",
              "28 10861 144      6  0.84   \n",
              "29 15758 156      9  0.79   \n",
              "30 33756 378      36 7.71   \n",
              "31 37898 805      60 6.27   "
            ],
            "text/latex": "A data.frame: 31 × 4\n\\begin{tabular}{llll}\n V3 & 음식점수 & V4 & 면적.km\\\\\n <chr> & <chr> & <chr> & <chr>\\\\\n\\hline\n\t 8824  & 323 & 25 & 1.25 \\\\\n\t 10714 & 119 & 8  & 1.25 \\\\\n\t 13189 & 193 & 5  & 2.09 \\\\\n\t 21215 & 468 & 29 & 4.78 \\\\\n\t 6784  & 67  & 6  & 15.64\\\\\n\t 14447 & 216 & 9  & 0.95 \\\\\n\t 23323 & 219 & 13 & 26.6 \\\\\n\t 40408 & 560 & 31 & 2.39 \\\\\n\t 59376 & 347 & 30 & 4.79 \\\\\n\t 26748 & 288 & 14 & 12.14\\\\\n\t 30208 & 184 & 22 & 15.71\\\\\n\t 10096 & 227 & 14 & 1.44 \\\\\n\t 15125 & 389 & 36 & 22.91\\\\\n\t 19047 & 147 & 8  & 1.29 \\\\\n\t 12094 & 174 & 7  & 1.32 \\\\\n\t 32426 & 335 & 30 & 1.68 \\\\\n\t 12133 & 90  & 7  & 24.28\\\\\n\t 8073  & 567 & 17 & 1.35 \\\\\n\t 15288 & 227 & 19 & 1.22 \\\\\n\t 20030 & 491 & 20 & 1.72 \\\\\n\t 14924 & 145 & 8  & 1.71 \\\\\n\t 8300  & 120 & 10 & 7.38 \\\\\n\t 13204 & 108 & 8  & 1.49 \\\\\n\t 46295 & 372 & 21 & 15.23\\\\\n\t 4521  & 488 & 16 & 2.05 \\\\\n\t 17925 & 176 & 11 & 3.37 \\\\\n\t 21154 & 121 & 9  & 7.64 \\\\\n\t 10861 & 144 & 6  & 0.84 \\\\\n\t 15758 & 156 & 9  & 0.79 \\\\\n\t 33756 & 378 & 36 & 7.71 \\\\\n\t 37898 & 805 & 60 & 6.27 \\\\\n\\end{tabular}\n",
            "text/markdown": "\nA data.frame: 31 × 4\n\n| V3 &lt;chr&gt; | 음식점수 &lt;chr&gt; | V4 &lt;chr&gt; | 면적.km &lt;chr&gt; |\n|---|---|---|---|\n| 8824  | 323 | 25 | 1.25  |\n| 10714 | 119 | 8  | 1.25  |\n| 13189 | 193 | 5  | 2.09  |\n| 21215 | 468 | 29 | 4.78  |\n| 6784  | 67  | 6  | 15.64 |\n| 14447 | 216 | 9  | 0.95  |\n| 23323 | 219 | 13 | 26.6  |\n| 40408 | 560 | 31 | 2.39  |\n| 59376 | 347 | 30 | 4.79  |\n| 26748 | 288 | 14 | 12.14 |\n| 30208 | 184 | 22 | 15.71 |\n| 10096 | 227 | 14 | 1.44  |\n| 15125 | 389 | 36 | 22.91 |\n| 19047 | 147 | 8  | 1.29  |\n| 12094 | 174 | 7  | 1.32  |\n| 32426 | 335 | 30 | 1.68  |\n| 12133 | 90  | 7  | 24.28 |\n| 8073  | 567 | 17 | 1.35  |\n| 15288 | 227 | 19 | 1.22  |\n| 20030 | 491 | 20 | 1.72  |\n| 14924 | 145 | 8  | 1.71  |\n| 8300  | 120 | 10 | 7.38  |\n| 13204 | 108 | 8  | 1.49  |\n| 46295 | 372 | 21 | 15.23 |\n| 4521  | 488 | 16 | 2.05  |\n| 17925 | 176 | 11 | 3.37  |\n| 21154 | 121 | 9  | 7.64  |\n| 10861 | 144 | 6  | 0.84  |\n| 15758 | 156 | 9  | 0.79  |\n| 33756 | 378 | 36 | 7.71  |\n| 37898 | 805 | 60 | 6.27  |\n\n",
            "text/html": [
              "<table class=\"dataframe\">\n",
              "<caption>A data.frame: 31 × 4</caption>\n",
              "<thead>\n",
              "\t<tr><th scope=col>V3</th><th scope=col>음식점수</th><th scope=col>V4</th><th scope=col>면적.km</th></tr>\n",
              "\t<tr><th scope=col>&lt;chr&gt;</th><th scope=col>&lt;chr&gt;</th><th scope=col>&lt;chr&gt;</th><th scope=col>&lt;chr&gt;</th></tr>\n",
              "</thead>\n",
              "<tbody>\n",
              "\t<tr><td>8824 </td><td>323</td><td>25</td><td>1.25 </td></tr>\n",
              "\t<tr><td>10714</td><td>119</td><td>8 </td><td>1.25 </td></tr>\n",
              "\t<tr><td>13189</td><td>193</td><td>5 </td><td>2.09 </td></tr>\n",
              "\t<tr><td>21215</td><td>468</td><td>29</td><td>4.78 </td></tr>\n",
              "\t<tr><td>6784 </td><td>67 </td><td>6 </td><td>15.64</td></tr>\n",
              "\t<tr><td>14447</td><td>216</td><td>9 </td><td>0.95 </td></tr>\n",
              "\t<tr><td>23323</td><td>219</td><td>13</td><td>26.6 </td></tr>\n",
              "\t<tr><td>40408</td><td>560</td><td>31</td><td>2.39 </td></tr>\n",
              "\t<tr><td>59376</td><td>347</td><td>30</td><td>4.79 </td></tr>\n",
              "\t<tr><td>26748</td><td>288</td><td>14</td><td>12.14</td></tr>\n",
              "\t<tr><td>30208</td><td>184</td><td>22</td><td>15.71</td></tr>\n",
              "\t<tr><td>10096</td><td>227</td><td>14</td><td>1.44 </td></tr>\n",
              "\t<tr><td>15125</td><td>389</td><td>36</td><td>22.91</td></tr>\n",
              "\t<tr><td>19047</td><td>147</td><td>8 </td><td>1.29 </td></tr>\n",
              "\t<tr><td>12094</td><td>174</td><td>7 </td><td>1.32 </td></tr>\n",
              "\t<tr><td>32426</td><td>335</td><td>30</td><td>1.68 </td></tr>\n",
              "\t<tr><td>12133</td><td>90 </td><td>7 </td><td>24.28</td></tr>\n",
              "\t<tr><td>8073 </td><td>567</td><td>17</td><td>1.35 </td></tr>\n",
              "\t<tr><td>15288</td><td>227</td><td>19</td><td>1.22 </td></tr>\n",
              "\t<tr><td>20030</td><td>491</td><td>20</td><td>1.72 </td></tr>\n",
              "\t<tr><td>14924</td><td>145</td><td>8 </td><td>1.71 </td></tr>\n",
              "\t<tr><td>8300 </td><td>120</td><td>10</td><td>7.38 </td></tr>\n",
              "\t<tr><td>13204</td><td>108</td><td>8 </td><td>1.49 </td></tr>\n",
              "\t<tr><td>46295</td><td>372</td><td>21</td><td>15.23</td></tr>\n",
              "\t<tr><td>4521 </td><td>488</td><td>16</td><td>2.05 </td></tr>\n",
              "\t<tr><td>17925</td><td>176</td><td>11</td><td>3.37 </td></tr>\n",
              "\t<tr><td>21154</td><td>121</td><td>9 </td><td>7.64 </td></tr>\n",
              "\t<tr><td>10861</td><td>144</td><td>6 </td><td>0.84 </td></tr>\n",
              "\t<tr><td>15758</td><td>156</td><td>9 </td><td>0.79 </td></tr>\n",
              "\t<tr><td>33756</td><td>378</td><td>36</td><td>7.71 </td></tr>\n",
              "\t<tr><td>37898</td><td>805</td><td>60</td><td>6.27 </td></tr>\n",
              "</tbody>\n",
              "</table>\n"
            ]
          },
          "metadata": {
            "tags": []
          }
        }
      ]
    },
    {
      "cell_type": "code",
      "metadata": {
        "colab": {
          "base_uri": "https://localhost:8080/",
          "height": 154
        },
        "id": "CFB-d3JG4AHg",
        "outputId": "92b444af-9182-4416-e35a-db19d6c5ecc2"
      },
      "source": [
        "cor(jj)"
      ],
      "execution_count": 53,
      "outputs": [
        {
          "output_type": "error",
          "ename": "ERROR",
          "evalue": "ignored",
          "traceback": [
            "Error in cor(jj): 'x' must be numeric\nTraceback:\n",
            "1. cor(jj)",
            "2. stop(\"'x' must be numeric\")"
          ]
        }
      ]
    }
  ]
}