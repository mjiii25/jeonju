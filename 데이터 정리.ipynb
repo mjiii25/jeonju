{
  "nbformat": 4,
  "nbformat_minor": 0,
  "metadata": {
    "colab": {
      "name": "Untitled9.ipynb",
      "provenance": [],
      "toc_visible": true,
      "authorship_tag": "ABX9TyPot/N5DR7KuyDq2+WtClJR",
      "include_colab_link": true
    },
    "kernelspec": {
      "name": "ir",
      "display_name": "R"
    },
    "language_info": {
      "name": "R"
    }
  },
  "cells": [
    {
      "cell_type": "markdown",
      "metadata": {
        "id": "view-in-github",
        "colab_type": "text"
      },
      "source": [
        "<a href=\"https://colab.research.google.com/github/mjiii25/jeonju/blob/main/%EB%8D%B0%EC%9D%B4%ED%84%B0%20%EC%A0%95%EB%A6%AC.ipynb\" target=\"_parent\"><img src=\"https://colab.research.google.com/assets/colab-badge.svg\" alt=\"Open In Colab\"/></a>"
      ]
    },
    {
      "cell_type": "markdown",
      "metadata": {
        "id": "dVi2ZRXabTIG"
      },
      "source": [
        "# R 실행\n",
        "\n",
        "https://gist.github.com/jobdiogenes/235620928c84e604c6e56211ccf681f0"
      ]
    },
    {
      "cell_type": "code",
      "metadata": {
        "colab": {
          "base_uri": "https://localhost:8080/"
        },
        "id": "IoDbJVG7alub",
        "outputId": "afcfb712-bb23-4b45-8e13-effbfe6537dc"
      },
      "source": [
        "# Check if is running in Colab and redefine is_interactive()\n",
        "if (file.exists(\"/usr/local/lib/python3.7/dist-packages/google/colab/_ipython.py\")) {\n",
        "  install.packages(\"R.utils\")\n",
        "  library(\"R.utils\")\n",
        "  library(\"httr\")\n",
        "  my_check <- function() {return(TRUE)}\n",
        "  reassignInPackage(\"is_interactive\", pkgName = \"httr\", my_check) \n",
        "  options(rlang_interactive=TRUE)\n",
        "}"
      ],
      "execution_count": null,
      "outputs": [
        {
          "output_type": "stream",
          "text": [
            "Installing package into ‘/usr/local/lib/R/site-library’\n",
            "(as ‘lib’ is unspecified)\n",
            "\n",
            "also installing the dependencies ‘R.oo’, ‘R.methodsS3’\n",
            "\n",
            "\n",
            "Loading required package: R.oo\n",
            "\n",
            "Loading required package: R.methodsS3\n",
            "\n",
            "R.methodsS3 v1.8.1 (2020-08-26 16:20:06 UTC) successfully loaded. See ?R.methodsS3 for help.\n",
            "\n",
            "R.oo v1.24.0 (2020-08-26 16:11:58 UTC) successfully loaded. See ?R.oo for help.\n",
            "\n",
            "\n",
            "Attaching package: ‘R.oo’\n",
            "\n",
            "\n",
            "The following object is masked from ‘package:R.methodsS3’:\n",
            "\n",
            "    throw\n",
            "\n",
            "\n",
            "The following objects are masked from ‘package:methods’:\n",
            "\n",
            "    getClasses, getMethods\n",
            "\n",
            "\n",
            "The following objects are masked from ‘package:base’:\n",
            "\n",
            "    attach, detach, load, save\n",
            "\n",
            "\n",
            "R.utils v2.10.1 (2020-08-26 22:50:31 UTC) successfully loaded. See ?R.utils for help.\n",
            "\n",
            "\n",
            "Attaching package: ‘R.utils’\n",
            "\n",
            "\n",
            "The following object is masked from ‘package:utils’:\n",
            "\n",
            "    timestamp\n",
            "\n",
            "\n",
            "The following objects are masked from ‘package:base’:\n",
            "\n",
            "    cat, commandArgs, getOption, inherits, isOpen, nullfile, parse,\n",
            "    warnings\n",
            "\n",
            "\n"
          ],
          "name": "stderr"
        }
      ]
    },
    {
      "cell_type": "code",
      "metadata": {
        "id": "va2I2kGQasIw"
      },
      "source": [
        "# If ts not available we need to install . put other packages if you need.\n",
        "packages <- c(\"googledrive\", \"googlesheets4\")\n",
        "if (length(setdiff(packages, rownames(installed.packages()))) > 0) {\n",
        "  install.packages(setdiff(packages, rownames(installed.packages())))  \n",
        "}"
      ],
      "execution_count": null,
      "outputs": []
    },
    {
      "cell_type": "code",
      "metadata": {
        "colab": {
          "base_uri": "https://localhost:8080/"
        },
        "id": "1S362jWsawQ-",
        "outputId": "1c31f803-2363-4db1-9b68-97e73d6df6e6"
      },
      "source": [
        "library(\"googledrive\")\n",
        "library(\"googlesheets4\")"
      ],
      "execution_count": null,
      "outputs": [
        {
          "output_type": "stream",
          "text": [
            "\n",
            "Attaching package: ‘googlesheets4’\n",
            "\n",
            "\n",
            "The following objects are masked from ‘package:googledrive’:\n",
            "\n",
            "    request_generate, request_make\n",
            "\n",
            "\n"
          ],
          "name": "stderr"
        }
      ]
    },
    {
      "cell_type": "code",
      "metadata": {
        "colab": {
          "base_uri": "https://localhost:8080/"
        },
        "id": "IyDQWX6may1K",
        "outputId": "c975e60a-9ebd-4fb8-bbee-462db0295a02"
      },
      "source": [
        "# call authentication forcing interactive login and save in cache. \n",
        "drive_auth(use_oob = TRUE, cache = TRUE)"
      ],
      "execution_count": null,
      "outputs": [
        {
          "output_type": "stream",
          "text": [
            "Please point your browser to the following url: \n",
            "\n",
            "https://accounts.google.com/o/oauth2/auth?client_id=603366585132-dpeg5tt0et3go5of2374d83ifevk5086.apps.googleusercontent.com&scope=https%3A%2F%2Fwww.googleapis.com%2Fauth%2Fdrive%20https%3A%2F%2Fwww.googleapis.com%2Fauth%2Fuserinfo.email&redirect_uri=urn%3Aietf%3Awg%3Aoauth%3A2.0%3Aoob&response_type=code\n",
            "\n"
          ],
          "name": "stderr"
        },
        {
          "output_type": "stream",
          "text": [
            "Enter authorization code: 4/1AY0e-g4J1WemvT9vVcsyEpoqBw5vyhNgbTXLsbaiuJAv7lAzsOA859OLEhg\n"
          ],
          "name": "stdout"
        }
      ]
    },
    {
      "cell_type": "code",
      "metadata": {
        "id": "VHB7jRfca8T6"
      },
      "source": [
        "# Find Google Sheets anf get the id of the first sheet \n",
        "Sheets <- drive_find(type = \"spreadsheet\")\n",
        "first_id <- Sheets$id[1]"
      ],
      "execution_count": null,
      "outputs": []
    },
    {
      "cell_type": "code",
      "metadata": {
        "colab": {
          "base_uri": "https://localhost:8080/"
        },
        "id": "xWH8JGGObArO",
        "outputId": "e90ee4cb-6691-4680-98d9-ae12a59dc50d"
      },
      "source": [
        "# reuse token to Sheet Auth. \n",
        "sheets_auth(token = drive_token())"
      ],
      "execution_count": null,
      "outputs": [
        {
          "output_type": "stream",
          "text": [
            "Warning message:\n",
            "“`sheets_auth()` was deprecated in googlesheets4 0.2.0.\n",
            "Please use `gs4_auth()` instead.\n",
            "\u001b[90mThis warning is displayed once every 8 hours.\u001b[39m\n",
            "\u001b[90mCall `lifecycle::last_warnings()` to see where this warning was generated.\u001b[39m”\n"
          ],
          "name": "stderr"
        }
      ]
    },
    {
      "cell_type": "code",
      "metadata": {
        "colab": {
          "base_uri": "https://localhost:8080/",
          "height": 1000
        },
        "id": "VCko-jGkbDnG",
        "outputId": "d99df270-aef5-43ad-ee84-f9579ca72551"
      },
      "source": [
        "# show data\n",
        "sheets_read(first_id)"
      ],
      "execution_count": null,
      "outputs": [
        {
          "output_type": "stream",
          "text": [
            "Warning message:\n",
            "“`sheets_read()` was deprecated in googlesheets4 0.2.0.\n",
            "Please use `range_read()` instead.\n",
            "\u001b[90mThis warning is displayed once every 8 hours.\u001b[39m\n",
            "\u001b[90mCall `lifecycle::last_warnings()` to see where this warning was generated.\u001b[39m”\n",
            "Reading from \"gu_usage\"\n",
            "\n",
            "Range \"gu_usage\"\n",
            "\n"
          ],
          "name": "stderr"
        },
        {
          "output_type": "display_data",
          "data": {
            "text/plain": [
              "    province gu       gu_eng       date       count \n",
              "1   서울     종로구   Jongno       2020-07-01  85935\n",
              "2   서울     중구     Jung         2020-07-01  52417\n",
              "3   서울     용산구   Yongsan      2020-07-01  58354\n",
              "4   서울     성동구   Seongdong    2020-07-01 106216\n",
              "5   서울     광진구   Kwangjin     2020-07-01 125735\n",
              "6   서울     동대문구 Dongdaemun   2020-07-01  93487\n",
              "7   서울     중랑구   Jungnang     2020-07-01  76841\n",
              "8   서울     성북구   Seongbuk     2020-07-01  81364\n",
              "9   서울     강북구   Gangbuk      2020-07-01  54503\n",
              "10  서울     도봉구   Dobong       2020-07-01  58420\n",
              "11  서울     노원구   Nowon        2020-07-01 157281\n",
              "12  서울     은평구   Eunpyeong    2020-07-01  81923\n",
              "13  서울     서대문구 Seodaemun    2020-07-01  65144\n",
              "14  서울     마포구   Mapo         2020-07-01 155009\n",
              "15  서울     양천구   Yangcheon    2020-07-01 119956\n",
              "16  서울     강서구   Gangseo      2020-07-01 224984\n",
              "17  서울     구로구   Guro         2020-07-01 106619\n",
              "18  서울     금천구   Geumcheon    2020-07-01  43940\n",
              "19  서울     영등포구 Yeongdeungpo 2020-07-01 209515\n",
              "20  서울     동작구   Dongjak      2020-07-01  67929\n",
              "21  서울     관악구   Gwanak       2020-07-01  92451\n",
              "22  서울     서초구   Seocho       2020-07-01 101631\n",
              "23  서울     강남구   Gangnam      2020-07-01  79194\n",
              "24  서울     송파구   Songpa       2020-07-01 185529\n",
              "25  서울     강동구   Gangdong     2020-07-01  97719\n",
              "26  서울     종로구   Jongno       2020-08-01  65729\n",
              "27  서울     중구     Jung         2020-08-01  40401\n",
              "28  서울     용산구   Yongsan      2020-08-01  36762\n",
              "29  서울     성동구   Seongdong    2020-08-01  65323\n",
              "30  서울     광진구   Kwangjin     2020-08-01  75051\n",
              "⋮   ⋮        ⋮        ⋮            ⋮          ⋮     \n",
              "146 서울     관악구   Gwanak       2020-12-01 41420 \n",
              "147 서울     서초구   Seocho       2020-12-01 43259 \n",
              "148 서울     강남구   Gangnam      2020-12-01 38004 \n",
              "149 서울     송파구   Songpa       2020-12-01 85064 \n",
              "150 서울     강동구   Gangdong     2020-12-01 42373 \n",
              "151 서울     종로구   Jongno       2021-01-01 35643 \n",
              "152 서울     중구     Jung         2021-01-01 20396 \n",
              "153 서울     용산구   Yongsan      2021-01-01 18203 \n",
              "154 서울     성동구   Seongdong    2021-01-01 35822 \n",
              "155 서울     광진구   Kwangjin     2021-01-01 38357 \n",
              "156 서울     동대문구 Dongdaemun   2021-01-01 33426 \n",
              "157 서울     중랑구   Jungnang     2021-01-01 22773 \n",
              "158 서울     성북구   Seongbuk     2021-01-01 26138 \n",
              "159 서울     강북구   Gangbuk      2021-01-01 16101 \n",
              "160 서울     도봉구   Dobong       2021-01-01 16620 \n",
              "161 서울     노원구   Nowon        2021-01-01 41994 \n",
              "162 서울     은평구   Eunpyeong    2021-01-01 25442 \n",
              "163 서울     서대문구 Seodaemun    2021-01-01 23065 \n",
              "164 서울     마포구   Mapo         2021-01-01 48660 \n",
              "165 서울     양천구   Yangcheon    2021-01-01 43330 \n",
              "166 서울     강서구   Gangseo      2021-01-01 75019 \n",
              "167 서울     구로구   Guro         2021-01-01 31633 \n",
              "168 서울     금천구   Geumcheon    2021-01-01 13494 \n",
              "169 서울     영등포구 Yeongdeungpo 2021-01-01 64359 \n",
              "170 서울     동작구   Dongjak      2021-01-01 18950 \n",
              "171 서울     관악구   Gwanak       2021-01-01 27457 \n",
              "172 서울     서초구   Seocho       2021-01-01 29483 \n",
              "173 서울     강남구   Gangnam      2021-01-01 24706 \n",
              "174 서울     송파구   Songpa       2021-01-01 54819 \n",
              "175 서울     강동구   Gangdong     2021-01-01 26158 "
            ],
            "text/latex": "A tibble: 175 × 5\n\\begin{tabular}{lllll}\n province & gu & gu\\_eng & date & count\\\\\n <chr> & <chr> & <chr> & <dttm> & <dbl>\\\\\n\\hline\n\t 서울 & 종로구   & Jongno       & 2020-07-01 &  85935\\\\\n\t 서울 & 중구     & Jung         & 2020-07-01 &  52417\\\\\n\t 서울 & 용산구   & Yongsan      & 2020-07-01 &  58354\\\\\n\t 서울 & 성동구   & Seongdong    & 2020-07-01 & 106216\\\\\n\t 서울 & 광진구   & Kwangjin     & 2020-07-01 & 125735\\\\\n\t 서울 & 동대문구 & Dongdaemun   & 2020-07-01 &  93487\\\\\n\t 서울 & 중랑구   & Jungnang     & 2020-07-01 &  76841\\\\\n\t 서울 & 성북구   & Seongbuk     & 2020-07-01 &  81364\\\\\n\t 서울 & 강북구   & Gangbuk      & 2020-07-01 &  54503\\\\\n\t 서울 & 도봉구   & Dobong       & 2020-07-01 &  58420\\\\\n\t 서울 & 노원구   & Nowon        & 2020-07-01 & 157281\\\\\n\t 서울 & 은평구   & Eunpyeong    & 2020-07-01 &  81923\\\\\n\t 서울 & 서대문구 & Seodaemun    & 2020-07-01 &  65144\\\\\n\t 서울 & 마포구   & Mapo         & 2020-07-01 & 155009\\\\\n\t 서울 & 양천구   & Yangcheon    & 2020-07-01 & 119956\\\\\n\t 서울 & 강서구   & Gangseo      & 2020-07-01 & 224984\\\\\n\t 서울 & 구로구   & Guro         & 2020-07-01 & 106619\\\\\n\t 서울 & 금천구   & Geumcheon    & 2020-07-01 &  43940\\\\\n\t 서울 & 영등포구 & Yeongdeungpo & 2020-07-01 & 209515\\\\\n\t 서울 & 동작구   & Dongjak      & 2020-07-01 &  67929\\\\\n\t 서울 & 관악구   & Gwanak       & 2020-07-01 &  92451\\\\\n\t 서울 & 서초구   & Seocho       & 2020-07-01 & 101631\\\\\n\t 서울 & 강남구   & Gangnam      & 2020-07-01 &  79194\\\\\n\t 서울 & 송파구   & Songpa       & 2020-07-01 & 185529\\\\\n\t 서울 & 강동구   & Gangdong     & 2020-07-01 &  97719\\\\\n\t 서울 & 종로구   & Jongno       & 2020-08-01 &  65729\\\\\n\t 서울 & 중구     & Jung         & 2020-08-01 &  40401\\\\\n\t 서울 & 용산구   & Yongsan      & 2020-08-01 &  36762\\\\\n\t 서울 & 성동구   & Seongdong    & 2020-08-01 &  65323\\\\\n\t 서울 & 광진구   & Kwangjin     & 2020-08-01 &  75051\\\\\n\t ⋮ & ⋮ & ⋮ & ⋮ & ⋮\\\\\n\t 서울 & 관악구   & Gwanak       & 2020-12-01 & 41420\\\\\n\t 서울 & 서초구   & Seocho       & 2020-12-01 & 43259\\\\\n\t 서울 & 강남구   & Gangnam      & 2020-12-01 & 38004\\\\\n\t 서울 & 송파구   & Songpa       & 2020-12-01 & 85064\\\\\n\t 서울 & 강동구   & Gangdong     & 2020-12-01 & 42373\\\\\n\t 서울 & 종로구   & Jongno       & 2021-01-01 & 35643\\\\\n\t 서울 & 중구     & Jung         & 2021-01-01 & 20396\\\\\n\t 서울 & 용산구   & Yongsan      & 2021-01-01 & 18203\\\\\n\t 서울 & 성동구   & Seongdong    & 2021-01-01 & 35822\\\\\n\t 서울 & 광진구   & Kwangjin     & 2021-01-01 & 38357\\\\\n\t 서울 & 동대문구 & Dongdaemun   & 2021-01-01 & 33426\\\\\n\t 서울 & 중랑구   & Jungnang     & 2021-01-01 & 22773\\\\\n\t 서울 & 성북구   & Seongbuk     & 2021-01-01 & 26138\\\\\n\t 서울 & 강북구   & Gangbuk      & 2021-01-01 & 16101\\\\\n\t 서울 & 도봉구   & Dobong       & 2021-01-01 & 16620\\\\\n\t 서울 & 노원구   & Nowon        & 2021-01-01 & 41994\\\\\n\t 서울 & 은평구   & Eunpyeong    & 2021-01-01 & 25442\\\\\n\t 서울 & 서대문구 & Seodaemun    & 2021-01-01 & 23065\\\\\n\t 서울 & 마포구   & Mapo         & 2021-01-01 & 48660\\\\\n\t 서울 & 양천구   & Yangcheon    & 2021-01-01 & 43330\\\\\n\t 서울 & 강서구   & Gangseo      & 2021-01-01 & 75019\\\\\n\t 서울 & 구로구   & Guro         & 2021-01-01 & 31633\\\\\n\t 서울 & 금천구   & Geumcheon    & 2021-01-01 & 13494\\\\\n\t 서울 & 영등포구 & Yeongdeungpo & 2021-01-01 & 64359\\\\\n\t 서울 & 동작구   & Dongjak      & 2021-01-01 & 18950\\\\\n\t 서울 & 관악구   & Gwanak       & 2021-01-01 & 27457\\\\\n\t 서울 & 서초구   & Seocho       & 2021-01-01 & 29483\\\\\n\t 서울 & 강남구   & Gangnam      & 2021-01-01 & 24706\\\\\n\t 서울 & 송파구   & Songpa       & 2021-01-01 & 54819\\\\\n\t 서울 & 강동구   & Gangdong     & 2021-01-01 & 26158\\\\\n\\end{tabular}\n",
            "text/markdown": "\nA tibble: 175 × 5\n\n| province &lt;chr&gt; | gu &lt;chr&gt; | gu_eng &lt;chr&gt; | date &lt;dttm&gt; | count &lt;dbl&gt; |\n|---|---|---|---|---|\n| 서울 | 종로구   | Jongno       | 2020-07-01 |  85935 |\n| 서울 | 중구     | Jung         | 2020-07-01 |  52417 |\n| 서울 | 용산구   | Yongsan      | 2020-07-01 |  58354 |\n| 서울 | 성동구   | Seongdong    | 2020-07-01 | 106216 |\n| 서울 | 광진구   | Kwangjin     | 2020-07-01 | 125735 |\n| 서울 | 동대문구 | Dongdaemun   | 2020-07-01 |  93487 |\n| 서울 | 중랑구   | Jungnang     | 2020-07-01 |  76841 |\n| 서울 | 성북구   | Seongbuk     | 2020-07-01 |  81364 |\n| 서울 | 강북구   | Gangbuk      | 2020-07-01 |  54503 |\n| 서울 | 도봉구   | Dobong       | 2020-07-01 |  58420 |\n| 서울 | 노원구   | Nowon        | 2020-07-01 | 157281 |\n| 서울 | 은평구   | Eunpyeong    | 2020-07-01 |  81923 |\n| 서울 | 서대문구 | Seodaemun    | 2020-07-01 |  65144 |\n| 서울 | 마포구   | Mapo         | 2020-07-01 | 155009 |\n| 서울 | 양천구   | Yangcheon    | 2020-07-01 | 119956 |\n| 서울 | 강서구   | Gangseo      | 2020-07-01 | 224984 |\n| 서울 | 구로구   | Guro         | 2020-07-01 | 106619 |\n| 서울 | 금천구   | Geumcheon    | 2020-07-01 |  43940 |\n| 서울 | 영등포구 | Yeongdeungpo | 2020-07-01 | 209515 |\n| 서울 | 동작구   | Dongjak      | 2020-07-01 |  67929 |\n| 서울 | 관악구   | Gwanak       | 2020-07-01 |  92451 |\n| 서울 | 서초구   | Seocho       | 2020-07-01 | 101631 |\n| 서울 | 강남구   | Gangnam      | 2020-07-01 |  79194 |\n| 서울 | 송파구   | Songpa       | 2020-07-01 | 185529 |\n| 서울 | 강동구   | Gangdong     | 2020-07-01 |  97719 |\n| 서울 | 종로구   | Jongno       | 2020-08-01 |  65729 |\n| 서울 | 중구     | Jung         | 2020-08-01 |  40401 |\n| 서울 | 용산구   | Yongsan      | 2020-08-01 |  36762 |\n| 서울 | 성동구   | Seongdong    | 2020-08-01 |  65323 |\n| 서울 | 광진구   | Kwangjin     | 2020-08-01 |  75051 |\n| ⋮ | ⋮ | ⋮ | ⋮ | ⋮ |\n| 서울 | 관악구   | Gwanak       | 2020-12-01 | 41420 |\n| 서울 | 서초구   | Seocho       | 2020-12-01 | 43259 |\n| 서울 | 강남구   | Gangnam      | 2020-12-01 | 38004 |\n| 서울 | 송파구   | Songpa       | 2020-12-01 | 85064 |\n| 서울 | 강동구   | Gangdong     | 2020-12-01 | 42373 |\n| 서울 | 종로구   | Jongno       | 2021-01-01 | 35643 |\n| 서울 | 중구     | Jung         | 2021-01-01 | 20396 |\n| 서울 | 용산구   | Yongsan      | 2021-01-01 | 18203 |\n| 서울 | 성동구   | Seongdong    | 2021-01-01 | 35822 |\n| 서울 | 광진구   | Kwangjin     | 2021-01-01 | 38357 |\n| 서울 | 동대문구 | Dongdaemun   | 2021-01-01 | 33426 |\n| 서울 | 중랑구   | Jungnang     | 2021-01-01 | 22773 |\n| 서울 | 성북구   | Seongbuk     | 2021-01-01 | 26138 |\n| 서울 | 강북구   | Gangbuk      | 2021-01-01 | 16101 |\n| 서울 | 도봉구   | Dobong       | 2021-01-01 | 16620 |\n| 서울 | 노원구   | Nowon        | 2021-01-01 | 41994 |\n| 서울 | 은평구   | Eunpyeong    | 2021-01-01 | 25442 |\n| 서울 | 서대문구 | Seodaemun    | 2021-01-01 | 23065 |\n| 서울 | 마포구   | Mapo         | 2021-01-01 | 48660 |\n| 서울 | 양천구   | Yangcheon    | 2021-01-01 | 43330 |\n| 서울 | 강서구   | Gangseo      | 2021-01-01 | 75019 |\n| 서울 | 구로구   | Guro         | 2021-01-01 | 31633 |\n| 서울 | 금천구   | Geumcheon    | 2021-01-01 | 13494 |\n| 서울 | 영등포구 | Yeongdeungpo | 2021-01-01 | 64359 |\n| 서울 | 동작구   | Dongjak      | 2021-01-01 | 18950 |\n| 서울 | 관악구   | Gwanak       | 2021-01-01 | 27457 |\n| 서울 | 서초구   | Seocho       | 2021-01-01 | 29483 |\n| 서울 | 강남구   | Gangnam      | 2021-01-01 | 24706 |\n| 서울 | 송파구   | Songpa       | 2021-01-01 | 54819 |\n| 서울 | 강동구   | Gangdong     | 2021-01-01 | 26158 |\n\n",
            "text/html": [
              "<table class=\"dataframe\">\n",
              "<caption>A tibble: 175 × 5</caption>\n",
              "<thead>\n",
              "\t<tr><th scope=col>province</th><th scope=col>gu</th><th scope=col>gu_eng</th><th scope=col>date</th><th scope=col>count</th></tr>\n",
              "\t<tr><th scope=col>&lt;chr&gt;</th><th scope=col>&lt;chr&gt;</th><th scope=col>&lt;chr&gt;</th><th scope=col>&lt;dttm&gt;</th><th scope=col>&lt;dbl&gt;</th></tr>\n",
              "</thead>\n",
              "<tbody>\n",
              "\t<tr><td>서울</td><td>종로구  </td><td>Jongno      </td><td>2020-07-01</td><td> 85935</td></tr>\n",
              "\t<tr><td>서울</td><td>중구    </td><td>Jung        </td><td>2020-07-01</td><td> 52417</td></tr>\n",
              "\t<tr><td>서울</td><td>용산구  </td><td>Yongsan     </td><td>2020-07-01</td><td> 58354</td></tr>\n",
              "\t<tr><td>서울</td><td>성동구  </td><td>Seongdong   </td><td>2020-07-01</td><td>106216</td></tr>\n",
              "\t<tr><td>서울</td><td>광진구  </td><td>Kwangjin    </td><td>2020-07-01</td><td>125735</td></tr>\n",
              "\t<tr><td>서울</td><td>동대문구</td><td>Dongdaemun  </td><td>2020-07-01</td><td> 93487</td></tr>\n",
              "\t<tr><td>서울</td><td>중랑구  </td><td>Jungnang    </td><td>2020-07-01</td><td> 76841</td></tr>\n",
              "\t<tr><td>서울</td><td>성북구  </td><td>Seongbuk    </td><td>2020-07-01</td><td> 81364</td></tr>\n",
              "\t<tr><td>서울</td><td>강북구  </td><td>Gangbuk     </td><td>2020-07-01</td><td> 54503</td></tr>\n",
              "\t<tr><td>서울</td><td>도봉구  </td><td>Dobong      </td><td>2020-07-01</td><td> 58420</td></tr>\n",
              "\t<tr><td>서울</td><td>노원구  </td><td>Nowon       </td><td>2020-07-01</td><td>157281</td></tr>\n",
              "\t<tr><td>서울</td><td>은평구  </td><td>Eunpyeong   </td><td>2020-07-01</td><td> 81923</td></tr>\n",
              "\t<tr><td>서울</td><td>서대문구</td><td>Seodaemun   </td><td>2020-07-01</td><td> 65144</td></tr>\n",
              "\t<tr><td>서울</td><td>마포구  </td><td>Mapo        </td><td>2020-07-01</td><td>155009</td></tr>\n",
              "\t<tr><td>서울</td><td>양천구  </td><td>Yangcheon   </td><td>2020-07-01</td><td>119956</td></tr>\n",
              "\t<tr><td>서울</td><td>강서구  </td><td>Gangseo     </td><td>2020-07-01</td><td>224984</td></tr>\n",
              "\t<tr><td>서울</td><td>구로구  </td><td>Guro        </td><td>2020-07-01</td><td>106619</td></tr>\n",
              "\t<tr><td>서울</td><td>금천구  </td><td>Geumcheon   </td><td>2020-07-01</td><td> 43940</td></tr>\n",
              "\t<tr><td>서울</td><td>영등포구</td><td>Yeongdeungpo</td><td>2020-07-01</td><td>209515</td></tr>\n",
              "\t<tr><td>서울</td><td>동작구  </td><td>Dongjak     </td><td>2020-07-01</td><td> 67929</td></tr>\n",
              "\t<tr><td>서울</td><td>관악구  </td><td>Gwanak      </td><td>2020-07-01</td><td> 92451</td></tr>\n",
              "\t<tr><td>서울</td><td>서초구  </td><td>Seocho      </td><td>2020-07-01</td><td>101631</td></tr>\n",
              "\t<tr><td>서울</td><td>강남구  </td><td>Gangnam     </td><td>2020-07-01</td><td> 79194</td></tr>\n",
              "\t<tr><td>서울</td><td>송파구  </td><td>Songpa      </td><td>2020-07-01</td><td>185529</td></tr>\n",
              "\t<tr><td>서울</td><td>강동구  </td><td>Gangdong    </td><td>2020-07-01</td><td> 97719</td></tr>\n",
              "\t<tr><td>서울</td><td>종로구  </td><td>Jongno      </td><td>2020-08-01</td><td> 65729</td></tr>\n",
              "\t<tr><td>서울</td><td>중구    </td><td>Jung        </td><td>2020-08-01</td><td> 40401</td></tr>\n",
              "\t<tr><td>서울</td><td>용산구  </td><td>Yongsan     </td><td>2020-08-01</td><td> 36762</td></tr>\n",
              "\t<tr><td>서울</td><td>성동구  </td><td>Seongdong   </td><td>2020-08-01</td><td> 65323</td></tr>\n",
              "\t<tr><td>서울</td><td>광진구  </td><td>Kwangjin    </td><td>2020-08-01</td><td> 75051</td></tr>\n",
              "\t<tr><td>⋮</td><td>⋮</td><td>⋮</td><td>⋮</td><td>⋮</td></tr>\n",
              "\t<tr><td>서울</td><td>관악구  </td><td>Gwanak      </td><td>2020-12-01</td><td>41420</td></tr>\n",
              "\t<tr><td>서울</td><td>서초구  </td><td>Seocho      </td><td>2020-12-01</td><td>43259</td></tr>\n",
              "\t<tr><td>서울</td><td>강남구  </td><td>Gangnam     </td><td>2020-12-01</td><td>38004</td></tr>\n",
              "\t<tr><td>서울</td><td>송파구  </td><td>Songpa      </td><td>2020-12-01</td><td>85064</td></tr>\n",
              "\t<tr><td>서울</td><td>강동구  </td><td>Gangdong    </td><td>2020-12-01</td><td>42373</td></tr>\n",
              "\t<tr><td>서울</td><td>종로구  </td><td>Jongno      </td><td>2021-01-01</td><td>35643</td></tr>\n",
              "\t<tr><td>서울</td><td>중구    </td><td>Jung        </td><td>2021-01-01</td><td>20396</td></tr>\n",
              "\t<tr><td>서울</td><td>용산구  </td><td>Yongsan     </td><td>2021-01-01</td><td>18203</td></tr>\n",
              "\t<tr><td>서울</td><td>성동구  </td><td>Seongdong   </td><td>2021-01-01</td><td>35822</td></tr>\n",
              "\t<tr><td>서울</td><td>광진구  </td><td>Kwangjin    </td><td>2021-01-01</td><td>38357</td></tr>\n",
              "\t<tr><td>서울</td><td>동대문구</td><td>Dongdaemun  </td><td>2021-01-01</td><td>33426</td></tr>\n",
              "\t<tr><td>서울</td><td>중랑구  </td><td>Jungnang    </td><td>2021-01-01</td><td>22773</td></tr>\n",
              "\t<tr><td>서울</td><td>성북구  </td><td>Seongbuk    </td><td>2021-01-01</td><td>26138</td></tr>\n",
              "\t<tr><td>서울</td><td>강북구  </td><td>Gangbuk     </td><td>2021-01-01</td><td>16101</td></tr>\n",
              "\t<tr><td>서울</td><td>도봉구  </td><td>Dobong      </td><td>2021-01-01</td><td>16620</td></tr>\n",
              "\t<tr><td>서울</td><td>노원구  </td><td>Nowon       </td><td>2021-01-01</td><td>41994</td></tr>\n",
              "\t<tr><td>서울</td><td>은평구  </td><td>Eunpyeong   </td><td>2021-01-01</td><td>25442</td></tr>\n",
              "\t<tr><td>서울</td><td>서대문구</td><td>Seodaemun   </td><td>2021-01-01</td><td>23065</td></tr>\n",
              "\t<tr><td>서울</td><td>마포구  </td><td>Mapo        </td><td>2021-01-01</td><td>48660</td></tr>\n",
              "\t<tr><td>서울</td><td>양천구  </td><td>Yangcheon   </td><td>2021-01-01</td><td>43330</td></tr>\n",
              "\t<tr><td>서울</td><td>강서구  </td><td>Gangseo     </td><td>2021-01-01</td><td>75019</td></tr>\n",
              "\t<tr><td>서울</td><td>구로구  </td><td>Guro        </td><td>2021-01-01</td><td>31633</td></tr>\n",
              "\t<tr><td>서울</td><td>금천구  </td><td>Geumcheon   </td><td>2021-01-01</td><td>13494</td></tr>\n",
              "\t<tr><td>서울</td><td>영등포구</td><td>Yeongdeungpo</td><td>2021-01-01</td><td>64359</td></tr>\n",
              "\t<tr><td>서울</td><td>동작구  </td><td>Dongjak     </td><td>2021-01-01</td><td>18950</td></tr>\n",
              "\t<tr><td>서울</td><td>관악구  </td><td>Gwanak      </td><td>2021-01-01</td><td>27457</td></tr>\n",
              "\t<tr><td>서울</td><td>서초구  </td><td>Seocho      </td><td>2021-01-01</td><td>29483</td></tr>\n",
              "\t<tr><td>서울</td><td>강남구  </td><td>Gangnam     </td><td>2021-01-01</td><td>24706</td></tr>\n",
              "\t<tr><td>서울</td><td>송파구  </td><td>Songpa      </td><td>2021-01-01</td><td>54819</td></tr>\n",
              "\t<tr><td>서울</td><td>강동구  </td><td>Gangdong    </td><td>2021-01-01</td><td>26158</td></tr>\n",
              "</tbody>\n",
              "</table>\n"
            ]
          },
          "metadata": {
            "tags": []
          }
        }
      ]
    },
    {
      "cell_type": "markdown",
      "metadata": {
        "id": "0aNUPF33bKpu"
      },
      "source": [
        "# **데이터 정리** "
      ]
    },
    {
      "cell_type": "markdown",
      "metadata": {
        "id": "NH3gnYgofR62"
      },
      "source": [
        "## 데이터 불러오기 + 패키지 실행"
      ]
    },
    {
      "cell_type": "code",
      "metadata": {
        "id": "DAh-FMwfdkkX",
        "outputId": "8a867a83-42f4-4ddd-c000-5b266e7f92c0",
        "colab": {
          "base_uri": "https://localhost:8080/"
        }
      },
      "source": [
        "pop <- read.csv('(중복)2019_전주시 동별 인구.csv', header=TRUE, stringsAsFactors=FALSE, fileEncoding = \"euc-kr\")\n",
        "rest <- read.csv('(중복)동별 음식점 및 주점업 사업체수(2018).csv', header=TRUE, stringsAsFactors=FALSE, fileEncoding = \"euc-kr\")\n",
        "bicycle <- read.csv('(행정동)12_04_03_E_자전거보관소정보.csv', header=TRUE, stringsAsFactors=FALSE, fileEncoding = \"euc-kr\")\n",
        "bigstore <- read.csv('(행정동)대규모점포현황_2020.csv', header=TRUE, stringsAsFactors=FALSE, fileEncoding = \"euc-kr\")\n",
        "cvstore <- read.csv('(행정동)동별 체인화 편의점 + 사업체수 (2018년).csv', header=TRUE, stringsAsFactors=FALSE, fileEncoding = \"euc-kr\")\n",
        "univ <- read.csv('(행정동)전주시 대학교.csv', header=TRUE, stringsAsFactors=FALSE, fileEncoding = \"euc-kr\")\n",
        "region <- read.csv('(행정동)전주시 행정동 면적.csv', header=TRUE, stringsAsFactors=FALSE, fileEncoding = \"euc-kr\")\n",
        "store <- read.csv('전북 상권정보.csv', header=TRUE, stringsAsFactors=FALSE, fileEncoding = \"euc-kr\")\n",
        "\n",
        "library(dplyr)"
      ],
      "execution_count": 28,
      "outputs": [
        {
          "output_type": "stream",
          "text": [
            "Warning message in scan(file = file, what = what, sep = sep, quote = quote, dec = dec, :\n",
            "“invalid input found on input connection '전북 상권정보.csv'”\n"
          ],
          "name": "stderr"
        }
      ]
    },
    {
      "cell_type": "markdown",
      "metadata": {
        "id": "AQ_aX69pAfxi"
      },
      "source": [
        "▼ jjdong : 전주시에 있는 행정동 데이터셋"
      ]
    },
    {
      "cell_type": "code",
      "metadata": {
        "colab": {
          "base_uri": "https://localhost:8080/",
          "height": 51
        },
        "id": "g1U1SxfLdt7o",
        "outputId": "0a8d4455-a372-4b01-8ba8-54b27118edde"
      },
      "source": [
        "jjdong <- read.csv('전주 행정동_가나다순.csv', header=TRUE, stringsAsFactors=FALSE, fileEncoding = \"euc-kr\")\n",
        "jjdong <- jjdong$행정동\n",
        "str(jjdong)\n",
        "head(jjdong)"
      ],
      "execution_count": 6,
      "outputs": [
        {
          "output_type": "stream",
          "text": [
            " chr [1:35] \"금암1동\" \"금암2동\" \"노송동\" \"덕진동\" \"동서학동\" \"삼천1동\" ...\n"
          ],
          "name": "stdout"
        },
        {
          "output_type": "display_data",
          "data": {
            "text/plain": [
              "[1] \"금암1동\"  \"금암2동\"  \"노송동\"   \"덕진동\"   \"동서학동\" \"삼천1동\" "
            ],
            "text/latex": "\\begin{enumerate*}\n\\item '금암1동'\n\\item '금암2동'\n\\item '노송동'\n\\item '덕진동'\n\\item '동서학동'\n\\item '삼천1동'\n\\end{enumerate*}\n",
            "text/markdown": "1. '금암1동'\n2. '금암2동'\n3. '노송동'\n4. '덕진동'\n5. '동서학동'\n6. '삼천1동'\n\n\n",
            "text/html": [
              "<style>\n",
              ".list-inline {list-style: none; margin:0; padding: 0}\n",
              ".list-inline>li {display: inline-block}\n",
              ".list-inline>li:not(:last-child)::after {content: \"\\00b7\"; padding: 0 .5ex}\n",
              "</style>\n",
              "<ol class=list-inline><li>'금암1동'</li><li>'금암2동'</li><li>'노송동'</li><li>'덕진동'</li><li>'동서학동'</li><li>'삼천1동'</li></ol>\n"
            ]
          },
          "metadata": {
            "tags": []
          }
        }
      ]
    },
    {
      "cell_type": "markdown",
      "metadata": {
        "id": "HFvSwbe8AoFf"
      },
      "source": [
        "## 인구수"
      ]
    },
    {
      "cell_type": "code",
      "metadata": {
        "id": "dwZF_tyL9VNu",
        "outputId": "afb45919-3cc7-48ab-8670-126c738589b7",
        "colab": {
          "base_uri": "https://localhost:8080/",
          "height": 342
        }
      },
      "source": [
        "str(pop)\n",
        "head(pop)"
      ],
      "execution_count": 13,
      "outputs": [
        {
          "output_type": "stream",
          "text": [
            "'data.frame':\t35 obs. of  3 variables:\n",
            " $ 구  : chr  \"완산구\" \"완산구\" \"완산구\" \"완산구\" ...\n",
            " $ 동  : chr  \"중앙동\" \"풍남동\" \"노송동\" \"완산동\" ...\n",
            " $ 인구: int  8073 4521 13189 5148 6784 9223 15288 20030 13204 46295 ...\n"
          ],
          "name": "stdout"
        },
        {
          "output_type": "display_data",
          "data": {
            "text/plain": [
              "  구     동       인구 \n",
              "1 완산구 중앙동    8073\n",
              "2 완산구 풍남동    4521\n",
              "3 완산구 노송동   13189\n",
              "4 완산구 완산동    5148\n",
              "5 완산구 동서학동  6784\n",
              "6 완산구 서서학동  9223"
            ],
            "text/latex": "A data.frame: 6 × 3\n\\begin{tabular}{r|lll}\n  & 구 & 동 & 인구\\\\\n  & <chr> & <chr> & <int>\\\\\n\\hline\n\t1 & 완산구 & 중앙동   &  8073\\\\\n\t2 & 완산구 & 풍남동   &  4521\\\\\n\t3 & 완산구 & 노송동   & 13189\\\\\n\t4 & 완산구 & 완산동   &  5148\\\\\n\t5 & 완산구 & 동서학동 &  6784\\\\\n\t6 & 완산구 & 서서학동 &  9223\\\\\n\\end{tabular}\n",
            "text/markdown": "\nA data.frame: 6 × 3\n\n| <!--/--> | 구 &lt;chr&gt; | 동 &lt;chr&gt; | 인구 &lt;int&gt; |\n|---|---|---|---|\n| 1 | 완산구 | 중앙동   |  8073 |\n| 2 | 완산구 | 풍남동   |  4521 |\n| 3 | 완산구 | 노송동   | 13189 |\n| 4 | 완산구 | 완산동   |  5148 |\n| 5 | 완산구 | 동서학동 |  6784 |\n| 6 | 완산구 | 서서학동 |  9223 |\n\n",
            "text/html": [
              "<table class=\"dataframe\">\n",
              "<caption>A data.frame: 6 × 3</caption>\n",
              "<thead>\n",
              "\t<tr><th></th><th scope=col>구</th><th scope=col>동</th><th scope=col>인구</th></tr>\n",
              "\t<tr><th></th><th scope=col>&lt;chr&gt;</th><th scope=col>&lt;chr&gt;</th><th scope=col>&lt;int&gt;</th></tr>\n",
              "</thead>\n",
              "<tbody>\n",
              "\t<tr><th scope=row>1</th><td>완산구</td><td>중앙동  </td><td> 8073</td></tr>\n",
              "\t<tr><th scope=row>2</th><td>완산구</td><td>풍남동  </td><td> 4521</td></tr>\n",
              "\t<tr><th scope=row>3</th><td>완산구</td><td>노송동  </td><td>13189</td></tr>\n",
              "\t<tr><th scope=row>4</th><td>완산구</td><td>완산동  </td><td> 5148</td></tr>\n",
              "\t<tr><th scope=row>5</th><td>완산구</td><td>동서학동</td><td> 6784</td></tr>\n",
              "\t<tr><th scope=row>6</th><td>완산구</td><td>서서학동</td><td> 9223</td></tr>\n",
              "</tbody>\n",
              "</table>\n"
            ]
          },
          "metadata": {
            "tags": []
          }
        }
      ]
    },
    {
      "cell_type": "markdown",
      "metadata": {
        "id": "RvqunIUCAsUh"
      },
      "source": [
        "1 동이랑 인구 불러오기\n",
        "\n",
        "2 \"동\"을 \"행정동\"으로 바꾸기\n",
        "\n",
        "3 행정동을 기준으로 오름차순 정렬하기\n",
        "\n",
        "▼"
      ]
    },
    {
      "cell_type": "code",
      "metadata": {
        "id": "ph0rxA749mJX",
        "outputId": "43eba7e3-6620-4703-c1d5-1bedb4ee38f5",
        "colab": {
          "base_uri": "https://localhost:8080/",
          "height": 271
        }
      },
      "source": [
        "pop <- pop[,c(2,3)]\n",
        "names(pop)[1] <- \"행정동\"\n",
        "pop <- arrange(pop, pop$행정동)\n",
        "head(pop)"
      ],
      "execution_count": 14,
      "outputs": [
        {
          "output_type": "display_data",
          "data": {
            "text/plain": [
              "  행정동   인구 \n",
              "1 금암1동   8824\n",
              "2 금암2동  10714\n",
              "3 노송동   13189\n",
              "4 덕진동   21215\n",
              "5 동산동   30208\n",
              "6 동서학동  6784"
            ],
            "text/latex": "A data.frame: 6 × 2\n\\begin{tabular}{r|ll}\n  & 행정동 & 인구\\\\\n  & <chr> & <int>\\\\\n\\hline\n\t1 & 금암1동  &  8824\\\\\n\t2 & 금암2동  & 10714\\\\\n\t3 & 노송동   & 13189\\\\\n\t4 & 덕진동   & 21215\\\\\n\t5 & 동산동   & 30208\\\\\n\t6 & 동서학동 &  6784\\\\\n\\end{tabular}\n",
            "text/markdown": "\nA data.frame: 6 × 2\n\n| <!--/--> | 행정동 &lt;chr&gt; | 인구 &lt;int&gt; |\n|---|---|---|\n| 1 | 금암1동  |  8824 |\n| 2 | 금암2동  | 10714 |\n| 3 | 노송동   | 13189 |\n| 4 | 덕진동   | 21215 |\n| 5 | 동산동   | 30208 |\n| 6 | 동서학동 |  6784 |\n\n",
            "text/html": [
              "<table class=\"dataframe\">\n",
              "<caption>A data.frame: 6 × 2</caption>\n",
              "<thead>\n",
              "\t<tr><th></th><th scope=col>행정동</th><th scope=col>인구</th></tr>\n",
              "\t<tr><th></th><th scope=col>&lt;chr&gt;</th><th scope=col>&lt;int&gt;</th></tr>\n",
              "</thead>\n",
              "<tbody>\n",
              "\t<tr><th scope=row>1</th><td>금암1동 </td><td> 8824</td></tr>\n",
              "\t<tr><th scope=row>2</th><td>금암2동 </td><td>10714</td></tr>\n",
              "\t<tr><th scope=row>3</th><td>노송동  </td><td>13189</td></tr>\n",
              "\t<tr><th scope=row>4</th><td>덕진동  </td><td>21215</td></tr>\n",
              "\t<tr><th scope=row>5</th><td>동산동  </td><td>30208</td></tr>\n",
              "\t<tr><th scope=row>6</th><td>동서학동</td><td> 6784</td></tr>\n",
              "</tbody>\n",
              "</table>\n"
            ]
          },
          "metadata": {
            "tags": []
          }
        }
      ]
    },
    {
      "cell_type": "markdown",
      "metadata": {
        "id": "ndFrR5ewBIjr"
      },
      "source": [
        "▼ 인구수 데이터에 누락된 동이 있는지 확인해본 결과, pop에 있지 않은 jjdong과 jjdong에 있지 않은 pop의 요소가 각각 하나씩 있음을 알 수 있다. (FALSE로 나타남)"
      ]
    },
    {
      "cell_type": "code",
      "metadata": {
        "id": "qjreheys9vzD",
        "outputId": "80a252b1-35a6-4881-dcdf-6017bb494c63",
        "colab": {
          "base_uri": "https://localhost:8080/",
          "height": 122
        }
      },
      "source": [
        "table(pop$행정동 %in% jjdong)\n",
        "table(jjdong %in% pop$행정동)"
      ],
      "execution_count": 15,
      "outputs": [
        {
          "output_type": "display_data",
          "data": {
            "text/plain": [
              "\n",
              "FALSE  TRUE \n",
              "    1    34 "
            ]
          },
          "metadata": {
            "tags": []
          }
        },
        {
          "output_type": "display_data",
          "data": {
            "text/plain": [
              "\n",
              "FALSE  TRUE \n",
              "    1    34 "
            ]
          },
          "metadata": {
            "tags": []
          }
        }
      ]
    },
    {
      "cell_type": "markdown",
      "metadata": {
        "id": "Hn_JrUeoBdjv"
      },
      "source": [
        "▼ 실제로 확인해봤을 때, pop에는 jjdong에 없는 '동산동'이 있고 jjdong에는 pop에 없는 '여의동'이 있는 것을 확인할 수 있다."
      ]
    },
    {
      "cell_type": "code",
      "metadata": {
        "id": "7RW0PwD-9yEd",
        "outputId": "9454dc35-5a6a-4144-e4e0-abc5bef8af83",
        "colab": {
          "base_uri": "https://localhost:8080/",
          "height": 151
        }
      },
      "source": [
        "pop$행정동[pop$행정동 %in% jjdong == FALSE] #jjdong에는 없는 pop의 행정동\n",
        "jjdong[jjdong %in% pop$행정동 == FALSE] #pop에는 없는 jjdong의 행정동\n",
        "\n",
        "pop$행정동\n",
        "jjdong"
      ],
      "execution_count": 17,
      "outputs": [
        {
          "output_type": "display_data",
          "data": {
            "text/plain": [
              "[1] \"동산동\""
            ],
            "text/latex": "'동산동'",
            "text/markdown": "'동산동'",
            "text/html": [
              "'동산동'"
            ]
          },
          "metadata": {
            "tags": []
          }
        },
        {
          "output_type": "display_data",
          "data": {
            "text/plain": [
              "[1] \"여의동\""
            ],
            "text/latex": "'여의동'",
            "text/markdown": "'여의동'",
            "text/html": [
              "'여의동'"
            ]
          },
          "metadata": {
            "tags": []
          }
        },
        {
          "output_type": "display_data",
          "data": {
            "text/plain": [
              " [1] \"금암1동\"   \"금암2동\"   \"노송동\"    \"덕진동\"    \"동산동\"    \"동서학동\" \n",
              " [7] \"삼천1동\"   \"삼천2동\"   \"삼천3동\"   \"서서학동\"  \"서신동\"    \"송천1동\"  \n",
              "[13] \"송천2동\"   \"완산동\"    \"우아1동\"   \"우아2동\"   \"인후1동\"   \"인후2동\"  \n",
              "[19] \"인후3동\"   \"조촌동\"    \"중앙동\"    \"중화산1동\" \"중화산2동\" \"진북동\"   \n",
              "[25] \"팔복동\"    \"평화1동\"   \"평화2동\"   \"풍남동\"    \"혁신동\"    \"호성동\"   \n",
              "[31] \"효자1동\"   \"효자2동\"   \"효자3동\"   \"효자4동\"   \"효자5동\"  "
            ],
            "text/latex": "\\begin{enumerate*}\n\\item '금암1동'\n\\item '금암2동'\n\\item '노송동'\n\\item '덕진동'\n\\item '동산동'\n\\item '동서학동'\n\\item '삼천1동'\n\\item '삼천2동'\n\\item '삼천3동'\n\\item '서서학동'\n\\item '서신동'\n\\item '송천1동'\n\\item '송천2동'\n\\item '완산동'\n\\item '우아1동'\n\\item '우아2동'\n\\item '인후1동'\n\\item '인후2동'\n\\item '인후3동'\n\\item '조촌동'\n\\item '중앙동'\n\\item '중화산1동'\n\\item '중화산2동'\n\\item '진북동'\n\\item '팔복동'\n\\item '평화1동'\n\\item '평화2동'\n\\item '풍남동'\n\\item '혁신동'\n\\item '호성동'\n\\item '효자1동'\n\\item '효자2동'\n\\item '효자3동'\n\\item '효자4동'\n\\item '효자5동'\n\\end{enumerate*}\n",
            "text/markdown": "1. '금암1동'\n2. '금암2동'\n3. '노송동'\n4. '덕진동'\n5. '동산동'\n6. '동서학동'\n7. '삼천1동'\n8. '삼천2동'\n9. '삼천3동'\n10. '서서학동'\n11. '서신동'\n12. '송천1동'\n13. '송천2동'\n14. '완산동'\n15. '우아1동'\n16. '우아2동'\n17. '인후1동'\n18. '인후2동'\n19. '인후3동'\n20. '조촌동'\n21. '중앙동'\n22. '중화산1동'\n23. '중화산2동'\n24. '진북동'\n25. '팔복동'\n26. '평화1동'\n27. '평화2동'\n28. '풍남동'\n29. '혁신동'\n30. '호성동'\n31. '효자1동'\n32. '효자2동'\n33. '효자3동'\n34. '효자4동'\n35. '효자5동'\n\n\n",
            "text/html": [
              "<style>\n",
              ".list-inline {list-style: none; margin:0; padding: 0}\n",
              ".list-inline>li {display: inline-block}\n",
              ".list-inline>li:not(:last-child)::after {content: \"\\00b7\"; padding: 0 .5ex}\n",
              "</style>\n",
              "<ol class=list-inline><li>'금암1동'</li><li>'금암2동'</li><li>'노송동'</li><li>'덕진동'</li><li>'동산동'</li><li>'동서학동'</li><li>'삼천1동'</li><li>'삼천2동'</li><li>'삼천3동'</li><li>'서서학동'</li><li>'서신동'</li><li>'송천1동'</li><li>'송천2동'</li><li>'완산동'</li><li>'우아1동'</li><li>'우아2동'</li><li>'인후1동'</li><li>'인후2동'</li><li>'인후3동'</li><li>'조촌동'</li><li>'중앙동'</li><li>'중화산1동'</li><li>'중화산2동'</li><li>'진북동'</li><li>'팔복동'</li><li>'평화1동'</li><li>'평화2동'</li><li>'풍남동'</li><li>'혁신동'</li><li>'호성동'</li><li>'효자1동'</li><li>'효자2동'</li><li>'효자3동'</li><li>'효자4동'</li><li>'효자5동'</li></ol>\n"
            ]
          },
          "metadata": {
            "tags": []
          }
        },
        {
          "output_type": "display_data",
          "data": {
            "text/plain": [
              " [1] \"금암1동\"   \"금암2동\"   \"노송동\"    \"덕진동\"    \"동서학동\"  \"삼천1동\"  \n",
              " [7] \"삼천2동\"   \"삼천3동\"   \"서서학동\"  \"서신동\"    \"송천1동\"   \"송천2동\"  \n",
              "[13] \"여의동\"    \"완산동\"    \"우아1동\"   \"우아2동\"   \"인후1동\"   \"인후2동\"  \n",
              "[19] \"인후3동\"   \"조촌동\"    \"중앙동\"    \"중화산1동\" \"중화산2동\" \"진북동\"   \n",
              "[25] \"팔복동\"    \"평화1동\"   \"평화2동\"   \"풍남동\"    \"혁신동\"    \"호성동\"   \n",
              "[31] \"효자1동\"   \"효자2동\"   \"효자3동\"   \"효자4동\"   \"효자5동\"  "
            ],
            "text/latex": "\\begin{enumerate*}\n\\item '금암1동'\n\\item '금암2동'\n\\item '노송동'\n\\item '덕진동'\n\\item '동서학동'\n\\item '삼천1동'\n\\item '삼천2동'\n\\item '삼천3동'\n\\item '서서학동'\n\\item '서신동'\n\\item '송천1동'\n\\item '송천2동'\n\\item '여의동'\n\\item '완산동'\n\\item '우아1동'\n\\item '우아2동'\n\\item '인후1동'\n\\item '인후2동'\n\\item '인후3동'\n\\item '조촌동'\n\\item '중앙동'\n\\item '중화산1동'\n\\item '중화산2동'\n\\item '진북동'\n\\item '팔복동'\n\\item '평화1동'\n\\item '평화2동'\n\\item '풍남동'\n\\item '혁신동'\n\\item '호성동'\n\\item '효자1동'\n\\item '효자2동'\n\\item '효자3동'\n\\item '효자4동'\n\\item '효자5동'\n\\end{enumerate*}\n",
            "text/markdown": "1. '금암1동'\n2. '금암2동'\n3. '노송동'\n4. '덕진동'\n5. '동서학동'\n6. '삼천1동'\n7. '삼천2동'\n8. '삼천3동'\n9. '서서학동'\n10. '서신동'\n11. '송천1동'\n12. '송천2동'\n13. '여의동'\n14. '완산동'\n15. '우아1동'\n16. '우아2동'\n17. '인후1동'\n18. '인후2동'\n19. '인후3동'\n20. '조촌동'\n21. '중앙동'\n22. '중화산1동'\n23. '중화산2동'\n24. '진북동'\n25. '팔복동'\n26. '평화1동'\n27. '평화2동'\n28. '풍남동'\n29. '혁신동'\n30. '호성동'\n31. '효자1동'\n32. '효자2동'\n33. '효자3동'\n34. '효자4동'\n35. '효자5동'\n\n\n",
            "text/html": [
              "<style>\n",
              ".list-inline {list-style: none; margin:0; padding: 0}\n",
              ".list-inline>li {display: inline-block}\n",
              ".list-inline>li:not(:last-child)::after {content: \"\\00b7\"; padding: 0 .5ex}\n",
              "</style>\n",
              "<ol class=list-inline><li>'금암1동'</li><li>'금암2동'</li><li>'노송동'</li><li>'덕진동'</li><li>'동서학동'</li><li>'삼천1동'</li><li>'삼천2동'</li><li>'삼천3동'</li><li>'서서학동'</li><li>'서신동'</li><li>'송천1동'</li><li>'송천2동'</li><li>'여의동'</li><li>'완산동'</li><li>'우아1동'</li><li>'우아2동'</li><li>'인후1동'</li><li>'인후2동'</li><li>'인후3동'</li><li>'조촌동'</li><li>'중앙동'</li><li>'중화산1동'</li><li>'중화산2동'</li><li>'진북동'</li><li>'팔복동'</li><li>'평화1동'</li><li>'평화2동'</li><li>'풍남동'</li><li>'혁신동'</li><li>'호성동'</li><li>'효자1동'</li><li>'효자2동'</li><li>'효자3동'</li><li>'효자4동'</li><li>'효자5동'</li></ol>\n"
            ]
          },
          "metadata": {
            "tags": []
          }
        }
      ]
    },
    {
      "cell_type": "markdown",
      "metadata": {
        "id": "N8DW1y9VBrom"
      },
      "source": [
        "1 실제로 2019년 8월에 전주시에서 '동산동'을 '여의동'으로 변경했기 때문에 이런 차이가 발생하는 것임. pop의 '동산동'을 '여의동'으로 바꿔준다.\n",
        "\n",
        "2 정리한 자료를 다시 행정동을 기준으로 오름차순 정렬하면\n",
        "\n",
        "3 pop이 잘 정리된 것을 확인할 수 있다.\n",
        "\n",
        "▼ "
      ]
    },
    {
      "cell_type": "code",
      "metadata": {
        "id": "4eW1M0mE986_",
        "outputId": "dca427e1-1808-47a2-abe9-de5629f2b1df",
        "colab": {
          "base_uri": "https://localhost:8080/",
          "height": 1000
        }
      },
      "source": [
        "pop$행정동[which(pop$행정동 == \"동산동\")] <- \"여의동\" ## 19년 8월에 동산동을 여의동으로 변경, https://www.hani.co.kr/arti/area/honam/905848.html?_fr=mt2\n",
        "pop <- arrange(pop, pop$행정동)\n",
        "pop"
      ],
      "execution_count": 18,
      "outputs": [
        {
          "output_type": "display_data",
          "data": {
            "text/plain": [
              "   행정동    인구 \n",
              "1  금암1동    8824\n",
              "2  금암2동   10714\n",
              "3  노송동    13189\n",
              "4  덕진동    21215\n",
              "5  동서학동   6784\n",
              "6  삼천1동   12799\n",
              "7  삼천2동   14447\n",
              "8  삼천3동   23323\n",
              "9  서서학동   9223\n",
              "10 서신동    40408\n",
              "11 송천1동   59376\n",
              "12 송천2동   26748\n",
              "13 여의동    30208\n",
              "14 완산동     5148\n",
              "15 우아1동   10096\n",
              "16 우아2동   15125\n",
              "17 인후1동   19047\n",
              "18 인후2동   12094\n",
              "19 인후3동   32426\n",
              "20 조촌동    12133\n",
              "21 중앙동     8073\n",
              "22 중화산1동 15288\n",
              "23 중화산2동 20030\n",
              "24 진북동    14924\n",
              "25 팔복동     8300\n",
              "26 평화1동   13204\n",
              "27 평화2동   46295\n",
              "28 풍남동     4521\n",
              "29 혁신동    17925\n",
              "30 호성동    21154\n",
              "31 효자1동   11784\n",
              "32 효자2동   10861\n",
              "33 효자3동   15758\n",
              "34 효자4동   33756\n",
              "35 효자5동   37898"
            ],
            "text/latex": "A data.frame: 35 × 2\n\\begin{tabular}{ll}\n 행정동 & 인구\\\\\n <chr> & <int>\\\\\n\\hline\n\t 금암1동   &  8824\\\\\n\t 금암2동   & 10714\\\\\n\t 노송동    & 13189\\\\\n\t 덕진동    & 21215\\\\\n\t 동서학동  &  6784\\\\\n\t 삼천1동   & 12799\\\\\n\t 삼천2동   & 14447\\\\\n\t 삼천3동   & 23323\\\\\n\t 서서학동  &  9223\\\\\n\t 서신동    & 40408\\\\\n\t 송천1동   & 59376\\\\\n\t 송천2동   & 26748\\\\\n\t 여의동    & 30208\\\\\n\t 완산동    &  5148\\\\\n\t 우아1동   & 10096\\\\\n\t 우아2동   & 15125\\\\\n\t 인후1동   & 19047\\\\\n\t 인후2동   & 12094\\\\\n\t 인후3동   & 32426\\\\\n\t 조촌동    & 12133\\\\\n\t 중앙동    &  8073\\\\\n\t 중화산1동 & 15288\\\\\n\t 중화산2동 & 20030\\\\\n\t 진북동    & 14924\\\\\n\t 팔복동    &  8300\\\\\n\t 평화1동   & 13204\\\\\n\t 평화2동   & 46295\\\\\n\t 풍남동    &  4521\\\\\n\t 혁신동    & 17925\\\\\n\t 호성동    & 21154\\\\\n\t 효자1동   & 11784\\\\\n\t 효자2동   & 10861\\\\\n\t 효자3동   & 15758\\\\\n\t 효자4동   & 33756\\\\\n\t 효자5동   & 37898\\\\\n\\end{tabular}\n",
            "text/markdown": "\nA data.frame: 35 × 2\n\n| 행정동 &lt;chr&gt; | 인구 &lt;int&gt; |\n|---|---|\n| 금암1동   |  8824 |\n| 금암2동   | 10714 |\n| 노송동    | 13189 |\n| 덕진동    | 21215 |\n| 동서학동  |  6784 |\n| 삼천1동   | 12799 |\n| 삼천2동   | 14447 |\n| 삼천3동   | 23323 |\n| 서서학동  |  9223 |\n| 서신동    | 40408 |\n| 송천1동   | 59376 |\n| 송천2동   | 26748 |\n| 여의동    | 30208 |\n| 완산동    |  5148 |\n| 우아1동   | 10096 |\n| 우아2동   | 15125 |\n| 인후1동   | 19047 |\n| 인후2동   | 12094 |\n| 인후3동   | 32426 |\n| 조촌동    | 12133 |\n| 중앙동    |  8073 |\n| 중화산1동 | 15288 |\n| 중화산2동 | 20030 |\n| 진북동    | 14924 |\n| 팔복동    |  8300 |\n| 평화1동   | 13204 |\n| 평화2동   | 46295 |\n| 풍남동    |  4521 |\n| 혁신동    | 17925 |\n| 호성동    | 21154 |\n| 효자1동   | 11784 |\n| 효자2동   | 10861 |\n| 효자3동   | 15758 |\n| 효자4동   | 33756 |\n| 효자5동   | 37898 |\n\n",
            "text/html": [
              "<table class=\"dataframe\">\n",
              "<caption>A data.frame: 35 × 2</caption>\n",
              "<thead>\n",
              "\t<tr><th scope=col>행정동</th><th scope=col>인구</th></tr>\n",
              "\t<tr><th scope=col>&lt;chr&gt;</th><th scope=col>&lt;int&gt;</th></tr>\n",
              "</thead>\n",
              "<tbody>\n",
              "\t<tr><td>금암1동  </td><td> 8824</td></tr>\n",
              "\t<tr><td>금암2동  </td><td>10714</td></tr>\n",
              "\t<tr><td>노송동   </td><td>13189</td></tr>\n",
              "\t<tr><td>덕진동   </td><td>21215</td></tr>\n",
              "\t<tr><td>동서학동 </td><td> 6784</td></tr>\n",
              "\t<tr><td>삼천1동  </td><td>12799</td></tr>\n",
              "\t<tr><td>삼천2동  </td><td>14447</td></tr>\n",
              "\t<tr><td>삼천3동  </td><td>23323</td></tr>\n",
              "\t<tr><td>서서학동 </td><td> 9223</td></tr>\n",
              "\t<tr><td>서신동   </td><td>40408</td></tr>\n",
              "\t<tr><td>송천1동  </td><td>59376</td></tr>\n",
              "\t<tr><td>송천2동  </td><td>26748</td></tr>\n",
              "\t<tr><td>여의동   </td><td>30208</td></tr>\n",
              "\t<tr><td>완산동   </td><td> 5148</td></tr>\n",
              "\t<tr><td>우아1동  </td><td>10096</td></tr>\n",
              "\t<tr><td>우아2동  </td><td>15125</td></tr>\n",
              "\t<tr><td>인후1동  </td><td>19047</td></tr>\n",
              "\t<tr><td>인후2동  </td><td>12094</td></tr>\n",
              "\t<tr><td>인후3동  </td><td>32426</td></tr>\n",
              "\t<tr><td>조촌동   </td><td>12133</td></tr>\n",
              "\t<tr><td>중앙동   </td><td> 8073</td></tr>\n",
              "\t<tr><td>중화산1동</td><td>15288</td></tr>\n",
              "\t<tr><td>중화산2동</td><td>20030</td></tr>\n",
              "\t<tr><td>진북동   </td><td>14924</td></tr>\n",
              "\t<tr><td>팔복동   </td><td> 8300</td></tr>\n",
              "\t<tr><td>평화1동  </td><td>13204</td></tr>\n",
              "\t<tr><td>평화2동  </td><td>46295</td></tr>\n",
              "\t<tr><td>풍남동   </td><td> 4521</td></tr>\n",
              "\t<tr><td>혁신동   </td><td>17925</td></tr>\n",
              "\t<tr><td>호성동   </td><td>21154</td></tr>\n",
              "\t<tr><td>효자1동  </td><td>11784</td></tr>\n",
              "\t<tr><td>효자2동  </td><td>10861</td></tr>\n",
              "\t<tr><td>효자3동  </td><td>15758</td></tr>\n",
              "\t<tr><td>효자4동  </td><td>33756</td></tr>\n",
              "\t<tr><td>효자5동  </td><td>37898</td></tr>\n",
              "</tbody>\n",
              "</table>\n"
            ]
          },
          "metadata": {
            "tags": []
          }
        }
      ]
    },
    {
      "cell_type": "markdown",
      "metadata": {
        "id": "Sf15X4rlCHJL"
      },
      "source": [
        "## 음식점수"
      ]
    },
    {
      "cell_type": "code",
      "metadata": {
        "id": "IMCPwrVY-BNm",
        "outputId": "758c7eac-f2b6-4ebf-9553-6661c3bf2dcb",
        "colab": {
          "base_uri": "https://localhost:8080/",
          "height": 377
        }
      },
      "source": [
        "str(rest)\n",
        "head(rest)"
      ],
      "execution_count": 19,
      "outputs": [
        {
          "output_type": "stream",
          "text": [
            "'data.frame':\t35 obs. of  5 variables:\n",
            " $ 구     : chr  \"완산구\" \"완산구\" \"완산구\" \"완산구\" ...\n",
            " $ 항목   : chr  \"효자5동\" \"중앙동\" \"서신동\" \"중화산2동\" ...\n",
            " $ 순위   : int  1 2 3 4 5 6 7 8 9 10 ...\n",
            " $ 값     : int  805 567 560 491 488 378 372 227 219 216 ...\n",
            " $ 비율...: num  15.4 10.8 10.7 9.4 9.3 7.2 7.1 4.3 4.2 4.1 ...\n"
          ],
          "name": "stdout"
        },
        {
          "output_type": "display_data",
          "data": {
            "text/plain": [
              "  구     항목      순위 값  비율...\n",
              "1 완산구 효자5동   1    805 15.4   \n",
              "2 완산구 중앙동    2    567 10.8   \n",
              "3 완산구 서신동    3    560 10.7   \n",
              "4 완산구 중화산2동 4    491  9.4   \n",
              "5 완산구 풍남동    5    488  9.3   \n",
              "6 완산구 효자4동   6    378  7.2   "
            ],
            "text/latex": "A data.frame: 6 × 5\n\\begin{tabular}{r|lllll}\n  & 구 & 항목 & 순위 & 값 & 비율...\\\\\n  & <chr> & <chr> & <int> & <int> & <dbl>\\\\\n\\hline\n\t1 & 완산구 & 효자5동   & 1 & 805 & 15.4\\\\\n\t2 & 완산구 & 중앙동    & 2 & 567 & 10.8\\\\\n\t3 & 완산구 & 서신동    & 3 & 560 & 10.7\\\\\n\t4 & 완산구 & 중화산2동 & 4 & 491 &  9.4\\\\\n\t5 & 완산구 & 풍남동    & 5 & 488 &  9.3\\\\\n\t6 & 완산구 & 효자4동   & 6 & 378 &  7.2\\\\\n\\end{tabular}\n",
            "text/markdown": "\nA data.frame: 6 × 5\n\n| <!--/--> | 구 &lt;chr&gt; | 항목 &lt;chr&gt; | 순위 &lt;int&gt; | 값 &lt;int&gt; | 비율... &lt;dbl&gt; |\n|---|---|---|---|---|---|\n| 1 | 완산구 | 효자5동   | 1 | 805 | 15.4 |\n| 2 | 완산구 | 중앙동    | 2 | 567 | 10.8 |\n| 3 | 완산구 | 서신동    | 3 | 560 | 10.7 |\n| 4 | 완산구 | 중화산2동 | 4 | 491 |  9.4 |\n| 5 | 완산구 | 풍남동    | 5 | 488 |  9.3 |\n| 6 | 완산구 | 효자4동   | 6 | 378 |  7.2 |\n\n",
            "text/html": [
              "<table class=\"dataframe\">\n",
              "<caption>A data.frame: 6 × 5</caption>\n",
              "<thead>\n",
              "\t<tr><th></th><th scope=col>구</th><th scope=col>항목</th><th scope=col>순위</th><th scope=col>값</th><th scope=col>비율...</th></tr>\n",
              "\t<tr><th></th><th scope=col>&lt;chr&gt;</th><th scope=col>&lt;chr&gt;</th><th scope=col>&lt;int&gt;</th><th scope=col>&lt;int&gt;</th><th scope=col>&lt;dbl&gt;</th></tr>\n",
              "</thead>\n",
              "<tbody>\n",
              "\t<tr><th scope=row>1</th><td>완산구</td><td>효자5동  </td><td>1</td><td>805</td><td>15.4</td></tr>\n",
              "\t<tr><th scope=row>2</th><td>완산구</td><td>중앙동   </td><td>2</td><td>567</td><td>10.8</td></tr>\n",
              "\t<tr><th scope=row>3</th><td>완산구</td><td>서신동   </td><td>3</td><td>560</td><td>10.7</td></tr>\n",
              "\t<tr><th scope=row>4</th><td>완산구</td><td>중화산2동</td><td>4</td><td>491</td><td> 9.4</td></tr>\n",
              "\t<tr><th scope=row>5</th><td>완산구</td><td>풍남동   </td><td>5</td><td>488</td><td> 9.3</td></tr>\n",
              "\t<tr><th scope=row>6</th><td>완산구</td><td>효자4동  </td><td>6</td><td>378</td><td> 7.2</td></tr>\n",
              "</tbody>\n",
              "</table>\n"
            ]
          },
          "metadata": {
            "tags": []
          }
        }
      ]
    },
    {
      "cell_type": "markdown",
      "metadata": {
        "id": "xuYA6ZzQCJlC"
      },
      "source": [
        "1 rest 데이터 중 동이 나와있는 '항목'과 음식점수가 나와있는 '값'을 추출\n",
        "\n",
        "2 '항목'과 '값'을 '행정동'과 '음식점수'로 변경\n",
        "\n",
        "3  행정동을 기준으로 오름차순 정렬\n",
        "\n",
        "▼ "
      ]
    },
    {
      "cell_type": "code",
      "metadata": {
        "id": "b2aECSBG-Efd",
        "outputId": "ad8c75de-44cf-44cf-9a4b-18c207e9ad71",
        "colab": {
          "base_uri": "https://localhost:8080/",
          "height": 271
        }
      },
      "source": [
        "rest <- rest[,c(2,4)]\n",
        "names(rest) <- c(\"행정동\", \"음식점수\")\n",
        "rest <- arrange(rest, rest$행정동)\n",
        "head(rest)"
      ],
      "execution_count": 20,
      "outputs": [
        {
          "output_type": "display_data",
          "data": {
            "text/plain": [
              "  행정동   음식점수\n",
              "1 금암1동  323     \n",
              "2 금암2동  119     \n",
              "3 노송동   193     \n",
              "4 덕진동   468     \n",
              "5 동서학동  67     \n",
              "6 삼천1동   97     "
            ],
            "text/latex": "A data.frame: 6 × 2\n\\begin{tabular}{r|ll}\n  & 행정동 & 음식점수\\\\\n  & <chr> & <int>\\\\\n\\hline\n\t1 & 금암1동  & 323\\\\\n\t2 & 금암2동  & 119\\\\\n\t3 & 노송동   & 193\\\\\n\t4 & 덕진동   & 468\\\\\n\t5 & 동서학동 &  67\\\\\n\t6 & 삼천1동  &  97\\\\\n\\end{tabular}\n",
            "text/markdown": "\nA data.frame: 6 × 2\n\n| <!--/--> | 행정동 &lt;chr&gt; | 음식점수 &lt;int&gt; |\n|---|---|---|\n| 1 | 금암1동  | 323 |\n| 2 | 금암2동  | 119 |\n| 3 | 노송동   | 193 |\n| 4 | 덕진동   | 468 |\n| 5 | 동서학동 |  67 |\n| 6 | 삼천1동  |  97 |\n\n",
            "text/html": [
              "<table class=\"dataframe\">\n",
              "<caption>A data.frame: 6 × 2</caption>\n",
              "<thead>\n",
              "\t<tr><th></th><th scope=col>행정동</th><th scope=col>음식점수</th></tr>\n",
              "\t<tr><th></th><th scope=col>&lt;chr&gt;</th><th scope=col>&lt;int&gt;</th></tr>\n",
              "</thead>\n",
              "<tbody>\n",
              "\t<tr><th scope=row>1</th><td>금암1동 </td><td>323</td></tr>\n",
              "\t<tr><th scope=row>2</th><td>금암2동 </td><td>119</td></tr>\n",
              "\t<tr><th scope=row>3</th><td>노송동  </td><td>193</td></tr>\n",
              "\t<tr><th scope=row>4</th><td>덕진동  </td><td>468</td></tr>\n",
              "\t<tr><th scope=row>5</th><td>동서학동</td><td> 67</td></tr>\n",
              "\t<tr><th scope=row>6</th><td>삼천1동 </td><td> 97</td></tr>\n",
              "</tbody>\n",
              "</table>\n"
            ]
          },
          "metadata": {
            "tags": []
          }
        }
      ]
    },
    {
      "cell_type": "markdown",
      "metadata": {
        "id": "TXdDQPPHCZDm"
      },
      "source": [
        "▼  pop에서와 마찬가지로 rest에서도 누락된 행정동이 있는지 확인해봤을 때, rest와 jjdong의 행정동이 모두 일치하는 것으로 보아 누락된 행정동은 없다고 볼 수 있다."
      ]
    },
    {
      "cell_type": "code",
      "metadata": {
        "id": "t4w9dEaf-H3P",
        "outputId": "c843338f-8e5e-4820-8d16-639c58a5d981",
        "colab": {
          "base_uri": "https://localhost:8080/",
          "height": 223
        }
      },
      "source": [
        "table(rest$행정동 %in% jjdong)\n",
        "table(jjdong %in% rest$행정동)\n",
        "\n",
        "jjdong[jjdong %in% rest$행정동 == FALSE]\n",
        "\n",
        "rest$행정동\n",
        "jjdong"
      ],
      "execution_count": 24,
      "outputs": [
        {
          "output_type": "display_data",
          "data": {
            "text/plain": [
              "\n",
              "TRUE \n",
              "  35 "
            ]
          },
          "metadata": {
            "tags": []
          }
        },
        {
          "output_type": "display_data",
          "data": {
            "text/plain": [
              "\n",
              "TRUE \n",
              "  35 "
            ]
          },
          "metadata": {
            "tags": []
          }
        },
        {
          "output_type": "display_data",
          "data": {
            "text/plain": [
              " [1] \"금암1동\"   \"금암2동\"   \"노송동\"    \"덕진동\"    \"동서학동\"  \"삼천1동\"  \n",
              " [7] \"삼천2동\"   \"삼천3동\"   \"서서학동\"  \"서신동\"    \"송천1동\"   \"송천2동\"  \n",
              "[13] \"여의동\"    \"완산동\"    \"우아1동\"   \"우아2동\"   \"인후1동\"   \"인후2동\"  \n",
              "[19] \"인후3동\"   \"조촌동\"    \"중앙동\"    \"중화산1동\" \"중화산2동\" \"진북동\"   \n",
              "[25] \"팔복동\"    \"평화1동\"   \"평화2동\"   \"풍남동\"    \"혁신동\"    \"호성동\"   \n",
              "[31] \"효자1동\"   \"효자2동\"   \"효자3동\"   \"효자4동\"   \"효자5동\"  "
            ],
            "text/latex": "\\begin{enumerate*}\n\\item '금암1동'\n\\item '금암2동'\n\\item '노송동'\n\\item '덕진동'\n\\item '동서학동'\n\\item '삼천1동'\n\\item '삼천2동'\n\\item '삼천3동'\n\\item '서서학동'\n\\item '서신동'\n\\item '송천1동'\n\\item '송천2동'\n\\item '여의동'\n\\item '완산동'\n\\item '우아1동'\n\\item '우아2동'\n\\item '인후1동'\n\\item '인후2동'\n\\item '인후3동'\n\\item '조촌동'\n\\item '중앙동'\n\\item '중화산1동'\n\\item '중화산2동'\n\\item '진북동'\n\\item '팔복동'\n\\item '평화1동'\n\\item '평화2동'\n\\item '풍남동'\n\\item '혁신동'\n\\item '호성동'\n\\item '효자1동'\n\\item '효자2동'\n\\item '효자3동'\n\\item '효자4동'\n\\item '효자5동'\n\\end{enumerate*}\n",
            "text/markdown": "1. '금암1동'\n2. '금암2동'\n3. '노송동'\n4. '덕진동'\n5. '동서학동'\n6. '삼천1동'\n7. '삼천2동'\n8. '삼천3동'\n9. '서서학동'\n10. '서신동'\n11. '송천1동'\n12. '송천2동'\n13. '여의동'\n14. '완산동'\n15. '우아1동'\n16. '우아2동'\n17. '인후1동'\n18. '인후2동'\n19. '인후3동'\n20. '조촌동'\n21. '중앙동'\n22. '중화산1동'\n23. '중화산2동'\n24. '진북동'\n25. '팔복동'\n26. '평화1동'\n27. '평화2동'\n28. '풍남동'\n29. '혁신동'\n30. '호성동'\n31. '효자1동'\n32. '효자2동'\n33. '효자3동'\n34. '효자4동'\n35. '효자5동'\n\n\n",
            "text/html": [
              "<style>\n",
              ".list-inline {list-style: none; margin:0; padding: 0}\n",
              ".list-inline>li {display: inline-block}\n",
              ".list-inline>li:not(:last-child)::after {content: \"\\00b7\"; padding: 0 .5ex}\n",
              "</style>\n",
              "<ol class=list-inline><li>'금암1동'</li><li>'금암2동'</li><li>'노송동'</li><li>'덕진동'</li><li>'동서학동'</li><li>'삼천1동'</li><li>'삼천2동'</li><li>'삼천3동'</li><li>'서서학동'</li><li>'서신동'</li><li>'송천1동'</li><li>'송천2동'</li><li>'여의동'</li><li>'완산동'</li><li>'우아1동'</li><li>'우아2동'</li><li>'인후1동'</li><li>'인후2동'</li><li>'인후3동'</li><li>'조촌동'</li><li>'중앙동'</li><li>'중화산1동'</li><li>'중화산2동'</li><li>'진북동'</li><li>'팔복동'</li><li>'평화1동'</li><li>'평화2동'</li><li>'풍남동'</li><li>'혁신동'</li><li>'호성동'</li><li>'효자1동'</li><li>'효자2동'</li><li>'효자3동'</li><li>'효자4동'</li><li>'효자5동'</li></ol>\n"
            ]
          },
          "metadata": {
            "tags": []
          }
        },
        {
          "output_type": "display_data",
          "data": {
            "text/plain": [
              " [1] \"금암1동\"   \"금암2동\"   \"노송동\"    \"덕진동\"    \"동서학동\"  \"삼천1동\"  \n",
              " [7] \"삼천2동\"   \"삼천3동\"   \"서서학동\"  \"서신동\"    \"송천1동\"   \"송천2동\"  \n",
              "[13] \"여의동\"    \"완산동\"    \"우아1동\"   \"우아2동\"   \"인후1동\"   \"인후2동\"  \n",
              "[19] \"인후3동\"   \"조촌동\"    \"중앙동\"    \"중화산1동\" \"중화산2동\" \"진북동\"   \n",
              "[25] \"팔복동\"    \"평화1동\"   \"평화2동\"   \"풍남동\"    \"혁신동\"    \"호성동\"   \n",
              "[31] \"효자1동\"   \"효자2동\"   \"효자3동\"   \"효자4동\"   \"효자5동\"  "
            ],
            "text/latex": "\\begin{enumerate*}\n\\item '금암1동'\n\\item '금암2동'\n\\item '노송동'\n\\item '덕진동'\n\\item '동서학동'\n\\item '삼천1동'\n\\item '삼천2동'\n\\item '삼천3동'\n\\item '서서학동'\n\\item '서신동'\n\\item '송천1동'\n\\item '송천2동'\n\\item '여의동'\n\\item '완산동'\n\\item '우아1동'\n\\item '우아2동'\n\\item '인후1동'\n\\item '인후2동'\n\\item '인후3동'\n\\item '조촌동'\n\\item '중앙동'\n\\item '중화산1동'\n\\item '중화산2동'\n\\item '진북동'\n\\item '팔복동'\n\\item '평화1동'\n\\item '평화2동'\n\\item '풍남동'\n\\item '혁신동'\n\\item '호성동'\n\\item '효자1동'\n\\item '효자2동'\n\\item '효자3동'\n\\item '효자4동'\n\\item '효자5동'\n\\end{enumerate*}\n",
            "text/markdown": "1. '금암1동'\n2. '금암2동'\n3. '노송동'\n4. '덕진동'\n5. '동서학동'\n6. '삼천1동'\n7. '삼천2동'\n8. '삼천3동'\n9. '서서학동'\n10. '서신동'\n11. '송천1동'\n12. '송천2동'\n13. '여의동'\n14. '완산동'\n15. '우아1동'\n16. '우아2동'\n17. '인후1동'\n18. '인후2동'\n19. '인후3동'\n20. '조촌동'\n21. '중앙동'\n22. '중화산1동'\n23. '중화산2동'\n24. '진북동'\n25. '팔복동'\n26. '평화1동'\n27. '평화2동'\n28. '풍남동'\n29. '혁신동'\n30. '호성동'\n31. '효자1동'\n32. '효자2동'\n33. '효자3동'\n34. '효자4동'\n35. '효자5동'\n\n\n",
            "text/html": [
              "<style>\n",
              ".list-inline {list-style: none; margin:0; padding: 0}\n",
              ".list-inline>li {display: inline-block}\n",
              ".list-inline>li:not(:last-child)::after {content: \"\\00b7\"; padding: 0 .5ex}\n",
              "</style>\n",
              "<ol class=list-inline><li>'금암1동'</li><li>'금암2동'</li><li>'노송동'</li><li>'덕진동'</li><li>'동서학동'</li><li>'삼천1동'</li><li>'삼천2동'</li><li>'삼천3동'</li><li>'서서학동'</li><li>'서신동'</li><li>'송천1동'</li><li>'송천2동'</li><li>'여의동'</li><li>'완산동'</li><li>'우아1동'</li><li>'우아2동'</li><li>'인후1동'</li><li>'인후2동'</li><li>'인후3동'</li><li>'조촌동'</li><li>'중앙동'</li><li>'중화산1동'</li><li>'중화산2동'</li><li>'진북동'</li><li>'팔복동'</li><li>'평화1동'</li><li>'평화2동'</li><li>'풍남동'</li><li>'혁신동'</li><li>'호성동'</li><li>'효자1동'</li><li>'효자2동'</li><li>'효자3동'</li><li>'효자4동'</li><li>'효자5동'</li></ol>\n"
            ]
          },
          "metadata": {
            "tags": []
          }
        }
      ]
    },
    {
      "cell_type": "code",
      "metadata": {
        "id": "FbI5HXEU-SHs",
        "outputId": "48283556-f060-43cc-e42a-6872794503b6",
        "colab": {
          "base_uri": "https://localhost:8080/",
          "height": 1000
        }
      },
      "source": [
        "rest"
      ],
      "execution_count": 25,
      "outputs": [
        {
          "output_type": "display_data",
          "data": {
            "text/plain": [
              "   행정동    음식점수\n",
              "1  금암1동   323     \n",
              "2  금암2동   119     \n",
              "3  노송동    193     \n",
              "4  덕진동    468     \n",
              "5  동서학동   67     \n",
              "6  삼천1동    97     \n",
              "7  삼천2동   216     \n",
              "8  삼천3동   219     \n",
              "9  서서학동   54     \n",
              "10 서신동    560     \n",
              "11 송천1동   347     \n",
              "12 송천2동   288     \n",
              "13 여의동    184     \n",
              "14 완산동     17     \n",
              "15 우아1동   227     \n",
              "16 우아2동   389     \n",
              "17 인후1동   147     \n",
              "18 인후2동   174     \n",
              "19 인후3동   335     \n",
              "20 조촌동     90     \n",
              "21 중앙동    567     \n",
              "22 중화산1동 227     \n",
              "23 중화산2동 491     \n",
              "24 진북동    145     \n",
              "25 팔복동    120     \n",
              "26 평화1동   108     \n",
              "27 평화2동   372     \n",
              "28 풍남동    488     \n",
              "29 혁신동    176     \n",
              "30 호성동    121     \n",
              "31 효자1동    72     \n",
              "32 효자2동   144     \n",
              "33 효자3동   156     \n",
              "34 효자4동   378     \n",
              "35 효자5동   805     "
            ],
            "text/latex": "A data.frame: 35 × 2\n\\begin{tabular}{ll}\n 행정동 & 음식점수\\\\\n <chr> & <int>\\\\\n\\hline\n\t 금암1동   & 323\\\\\n\t 금암2동   & 119\\\\\n\t 노송동    & 193\\\\\n\t 덕진동    & 468\\\\\n\t 동서학동  &  67\\\\\n\t 삼천1동   &  97\\\\\n\t 삼천2동   & 216\\\\\n\t 삼천3동   & 219\\\\\n\t 서서학동  &  54\\\\\n\t 서신동    & 560\\\\\n\t 송천1동   & 347\\\\\n\t 송천2동   & 288\\\\\n\t 여의동    & 184\\\\\n\t 완산동    &  17\\\\\n\t 우아1동   & 227\\\\\n\t 우아2동   & 389\\\\\n\t 인후1동   & 147\\\\\n\t 인후2동   & 174\\\\\n\t 인후3동   & 335\\\\\n\t 조촌동    &  90\\\\\n\t 중앙동    & 567\\\\\n\t 중화산1동 & 227\\\\\n\t 중화산2동 & 491\\\\\n\t 진북동    & 145\\\\\n\t 팔복동    & 120\\\\\n\t 평화1동   & 108\\\\\n\t 평화2동   & 372\\\\\n\t 풍남동    & 488\\\\\n\t 혁신동    & 176\\\\\n\t 호성동    & 121\\\\\n\t 효자1동   &  72\\\\\n\t 효자2동   & 144\\\\\n\t 효자3동   & 156\\\\\n\t 효자4동   & 378\\\\\n\t 효자5동   & 805\\\\\n\\end{tabular}\n",
            "text/markdown": "\nA data.frame: 35 × 2\n\n| 행정동 &lt;chr&gt; | 음식점수 &lt;int&gt; |\n|---|---|\n| 금암1동   | 323 |\n| 금암2동   | 119 |\n| 노송동    | 193 |\n| 덕진동    | 468 |\n| 동서학동  |  67 |\n| 삼천1동   |  97 |\n| 삼천2동   | 216 |\n| 삼천3동   | 219 |\n| 서서학동  |  54 |\n| 서신동    | 560 |\n| 송천1동   | 347 |\n| 송천2동   | 288 |\n| 여의동    | 184 |\n| 완산동    |  17 |\n| 우아1동   | 227 |\n| 우아2동   | 389 |\n| 인후1동   | 147 |\n| 인후2동   | 174 |\n| 인후3동   | 335 |\n| 조촌동    |  90 |\n| 중앙동    | 567 |\n| 중화산1동 | 227 |\n| 중화산2동 | 491 |\n| 진북동    | 145 |\n| 팔복동    | 120 |\n| 평화1동   | 108 |\n| 평화2동   | 372 |\n| 풍남동    | 488 |\n| 혁신동    | 176 |\n| 호성동    | 121 |\n| 효자1동   |  72 |\n| 효자2동   | 144 |\n| 효자3동   | 156 |\n| 효자4동   | 378 |\n| 효자5동   | 805 |\n\n",
            "text/html": [
              "<table class=\"dataframe\">\n",
              "<caption>A data.frame: 35 × 2</caption>\n",
              "<thead>\n",
              "\t<tr><th scope=col>행정동</th><th scope=col>음식점수</th></tr>\n",
              "\t<tr><th scope=col>&lt;chr&gt;</th><th scope=col>&lt;int&gt;</th></tr>\n",
              "</thead>\n",
              "<tbody>\n",
              "\t<tr><td>금암1동  </td><td>323</td></tr>\n",
              "\t<tr><td>금암2동  </td><td>119</td></tr>\n",
              "\t<tr><td>노송동   </td><td>193</td></tr>\n",
              "\t<tr><td>덕진동   </td><td>468</td></tr>\n",
              "\t<tr><td>동서학동 </td><td> 67</td></tr>\n",
              "\t<tr><td>삼천1동  </td><td> 97</td></tr>\n",
              "\t<tr><td>삼천2동  </td><td>216</td></tr>\n",
              "\t<tr><td>삼천3동  </td><td>219</td></tr>\n",
              "\t<tr><td>서서학동 </td><td> 54</td></tr>\n",
              "\t<tr><td>서신동   </td><td>560</td></tr>\n",
              "\t<tr><td>송천1동  </td><td>347</td></tr>\n",
              "\t<tr><td>송천2동  </td><td>288</td></tr>\n",
              "\t<tr><td>여의동   </td><td>184</td></tr>\n",
              "\t<tr><td>완산동   </td><td> 17</td></tr>\n",
              "\t<tr><td>우아1동  </td><td>227</td></tr>\n",
              "\t<tr><td>우아2동  </td><td>389</td></tr>\n",
              "\t<tr><td>인후1동  </td><td>147</td></tr>\n",
              "\t<tr><td>인후2동  </td><td>174</td></tr>\n",
              "\t<tr><td>인후3동  </td><td>335</td></tr>\n",
              "\t<tr><td>조촌동   </td><td> 90</td></tr>\n",
              "\t<tr><td>중앙동   </td><td>567</td></tr>\n",
              "\t<tr><td>중화산1동</td><td>227</td></tr>\n",
              "\t<tr><td>중화산2동</td><td>491</td></tr>\n",
              "\t<tr><td>진북동   </td><td>145</td></tr>\n",
              "\t<tr><td>팔복동   </td><td>120</td></tr>\n",
              "\t<tr><td>평화1동  </td><td>108</td></tr>\n",
              "\t<tr><td>평화2동  </td><td>372</td></tr>\n",
              "\t<tr><td>풍남동   </td><td>488</td></tr>\n",
              "\t<tr><td>혁신동   </td><td>176</td></tr>\n",
              "\t<tr><td>호성동   </td><td>121</td></tr>\n",
              "\t<tr><td>효자1동  </td><td> 72</td></tr>\n",
              "\t<tr><td>효자2동  </td><td>144</td></tr>\n",
              "\t<tr><td>효자3동  </td><td>156</td></tr>\n",
              "\t<tr><td>효자4동  </td><td>378</td></tr>\n",
              "\t<tr><td>효자5동  </td><td>805</td></tr>\n",
              "</tbody>\n",
              "</table>\n"
            ]
          },
          "metadata": {
            "tags": []
          }
        }
      ]
    },
    {
      "cell_type": "markdown",
      "metadata": {
        "id": "v7Bzgs9LCsQr"
      },
      "source": [
        "## 자전거 보관대 수"
      ]
    },
    {
      "cell_type": "code",
      "metadata": {
        "id": "8jAYC13J-Vso",
        "outputId": "09a68ada-d71e-458c-de6e-fd452ce1aeb8",
        "colab": {
          "base_uri": "https://localhost:8080/",
          "height": 1000
        }
      },
      "source": [
        "str(bicycle)\n",
        "head(bicycle)"
      ],
      "execution_count": 29,
      "outputs": [
        {
          "output_type": "stream",
          "text": [
            "'data.frame':\t179 obs. of  17 variables:\n",
            " $ 번호              : int  1 2 3 4 5 6 7 8 9 10 ...\n",
            " $ 자전거보관소명    : chr  \"자전거 보관대\" \"자전거 보관대\" \"자전거 보관대\" \"자전거 보관대\" ...\n",
            " $ 소재지도로명주소  : chr  \"전라북도 전주시 덕진구 여암2길 9\" \"전라북도 전주시 덕진구 송천중앙로 116\" \"전라북도 전주시 덕진구 송천중앙로162\" \"전라북도 전주시 덕진구 송천중앙로 153\" ...\n",
            " $ 소재지지번주소    : chr  \"전라북도 전주시 덕진구 반월동 248-32\" \"전라북도 전주시 덕진구 송천동1가 395-28\" \"전라북도 전주시 덕진구 송천동1가 113-12\" \"전라북도 전주시 덕진구 송천동1가 481-4\" ...\n",
            " $ 행정동            : chr  \"조촌동\" \"송천1동\" \"송천2동\" \"송천2동\" ...\n",
            " $ 위도              : num  35.9 35.9 35.9 35.9 35.9 ...\n",
            " $ 경도              : num  127 127 127 127 127 ...\n",
            " $ 보관대수          : int  6 7 7 10 10 6 7 7 10 30 ...\n",
            " $ 설치연도          : int  NA NA NA NA NA NA NA NA NA NA ...\n",
            " $ 설치형태          : chr  \"거치형\" \"휀스형\" \"거치형\" \"휀스형\" ...\n",
            " $ 차양막설치여부    : chr  \"N\" \"Y\" \"N\" \"Y\" ...\n",
            " $ 공기주입기비치여부: chr  \"N\" \"N\" \"N\" \"N\" ...\n",
            " $ 공기주입기유형    : logi  NA NA NA NA NA NA ...\n",
            " $ 수리대설치여부    : chr  \"N\" \"N\" \"N\" \"N\" ...\n",
            " $ 관리기관전화번호  : chr  \"063-281-2602\" \"063-281-2603\" \"063-281-2604\" \"063-281-2605\" ...\n",
            " $ 관리기관명        : chr  \"전라북도 전주시청 자전거정책과\" \"전라북도 전주시청 자전거정책과\" \"전라북도 전주시청 자전거정책과\" \"전라북도 전주시청 자전거정책과\" ...\n",
            " $ 데이터기준일자    : chr  \"2020-08-31\" \"2020-08-31\" \"2020-08-31\" \"2020-08-31\" ...\n"
          ],
          "name": "stdout"
        },
        {
          "output_type": "display_data",
          "data": {
            "text/plain": [
              "  번호 자전거보관소명 소재지도로명주소                     \n",
              "1 1    자전거 보관대  전라북도 전주시 덕진구 여암2길 9     \n",
              "2 2    자전거 보관대  전라북도 전주시 덕진구 송천중앙로 116\n",
              "3 3    자전거 보관대  전라북도 전주시 덕진구 송천중앙로162 \n",
              "4 4    자전거 보관대  전라북도 전주시 덕진구 송천중앙로 153\n",
              "5 5    자전거 보관대  전라북도 전주시 덕진구 천마산로 40   \n",
              "6 6    자전거 보관대  전라북도 전주시 덕진구 견훤왕궁로 277\n",
              "  소재지지번주소                           행정동  위도     경도     보관대수\n",
              "1 전라북도 전주시 덕진구 반월동 248-32     조촌동  35.87201 127.0757  6      \n",
              "2 전라북도 전주시 덕진구 송천동1가 395-28  송천1동 35.85710 127.1210  7      \n",
              "3 전라북도 전주시 덕진구 송천동1가 113-12  송천2동 35.86099 127.1217  7      \n",
              "4 전라북도 전주시 덕진구 송천동1가 481-4   송천2동 35.86063 127.1209 10      \n",
              "5 전라북도 전주시 덕진구 송천동1가 107-172 송천2동 35.86335 127.1257 10      \n",
              "6 전라북도 전주시 덕진구 금암동 1600-6     금암2동 35.84259 127.1441  6      \n",
              "  설치연도 설치형태 차양막설치여부 공기주입기비치여부 공기주입기유형\n",
              "1 NA       거치형   N              N                  NA            \n",
              "2 NA       휀스형   Y              N                  NA            \n",
              "3 NA       거치형   N              N                  NA            \n",
              "4 NA       휀스형   Y              N                  NA            \n",
              "5 NA       휀스형   Y              N                  NA            \n",
              "6 NA       거치형   N              N                  NA            \n",
              "  수리대설치여부 관리기관전화번호 관리기관명                     데이터기준일자\n",
              "1 N              063-281-2602     전라북도 전주시청 자전거정책과 2020-08-31    \n",
              "2 N              063-281-2603     전라북도 전주시청 자전거정책과 2020-08-31    \n",
              "3 N              063-281-2604     전라북도 전주시청 자전거정책과 2020-08-31    \n",
              "4 N              063-281-2605     전라북도 전주시청 자전거정책과 2020-08-31    \n",
              "5 N              063-281-2606     전라북도 전주시청 자전거정책과 2020-08-31    \n",
              "6 N              063-281-2607     전라북도 전주시청 자전거정책과 2020-08-31    "
            ],
            "text/latex": "A data.frame: 6 × 17\n\\begin{tabular}{r|lllllllllllllllll}\n  & 번호 & 자전거보관소명 & 소재지도로명주소 & 소재지지번주소 & 행정동 & 위도 & 경도 & 보관대수 & 설치연도 & 설치형태 & 차양막설치여부 & 공기주입기비치여부 & 공기주입기유형 & 수리대설치여부 & 관리기관전화번호 & 관리기관명 & 데이터기준일자\\\\\n  & <int> & <chr> & <chr> & <chr> & <chr> & <dbl> & <dbl> & <int> & <int> & <chr> & <chr> & <chr> & <lgl> & <chr> & <chr> & <chr> & <chr>\\\\\n\\hline\n\t1 & 1 & 자전거 보관대 & 전라북도 전주시 덕진구 여암2길 9      & 전라북도 전주시 덕진구 반월동 248-32     & 조촌동  & 35.87201 & 127.0757 &  6 & NA & 거치형 & N & N & NA & N & 063-281-2602 & 전라북도 전주시청 자전거정책과 & 2020-08-31\\\\\n\t2 & 2 & 자전거 보관대 & 전라북도 전주시 덕진구 송천중앙로 116 & 전라북도 전주시 덕진구 송천동1가 395-28  & 송천1동 & 35.85710 & 127.1210 &  7 & NA & 휀스형 & Y & N & NA & N & 063-281-2603 & 전라북도 전주시청 자전거정책과 & 2020-08-31\\\\\n\t3 & 3 & 자전거 보관대 & 전라북도 전주시 덕진구 송천중앙로162  & 전라북도 전주시 덕진구 송천동1가 113-12  & 송천2동 & 35.86099 & 127.1217 &  7 & NA & 거치형 & N & N & NA & N & 063-281-2604 & 전라북도 전주시청 자전거정책과 & 2020-08-31\\\\\n\t4 & 4 & 자전거 보관대 & 전라북도 전주시 덕진구 송천중앙로 153 & 전라북도 전주시 덕진구 송천동1가 481-4   & 송천2동 & 35.86063 & 127.1209 & 10 & NA & 휀스형 & Y & N & NA & N & 063-281-2605 & 전라북도 전주시청 자전거정책과 & 2020-08-31\\\\\n\t5 & 5 & 자전거 보관대 & 전라북도 전주시 덕진구 천마산로 40    & 전라북도 전주시 덕진구 송천동1가 107-172 & 송천2동 & 35.86335 & 127.1257 & 10 & NA & 휀스형 & Y & N & NA & N & 063-281-2606 & 전라북도 전주시청 자전거정책과 & 2020-08-31\\\\\n\t6 & 6 & 자전거 보관대 & 전라북도 전주시 덕진구 견훤왕궁로 277 & 전라북도 전주시 덕진구 금암동 1600-6     & 금암2동 & 35.84259 & 127.1441 &  6 & NA & 거치형 & N & N & NA & N & 063-281-2607 & 전라북도 전주시청 자전거정책과 & 2020-08-31\\\\\n\\end{tabular}\n",
            "text/markdown": "\nA data.frame: 6 × 17\n\n| <!--/--> | 번호 &lt;int&gt; | 자전거보관소명 &lt;chr&gt; | 소재지도로명주소 &lt;chr&gt; | 소재지지번주소 &lt;chr&gt; | 행정동 &lt;chr&gt; | 위도 &lt;dbl&gt; | 경도 &lt;dbl&gt; | 보관대수 &lt;int&gt; | 설치연도 &lt;int&gt; | 설치형태 &lt;chr&gt; | 차양막설치여부 &lt;chr&gt; | 공기주입기비치여부 &lt;chr&gt; | 공기주입기유형 &lt;lgl&gt; | 수리대설치여부 &lt;chr&gt; | 관리기관전화번호 &lt;chr&gt; | 관리기관명 &lt;chr&gt; | 데이터기준일자 &lt;chr&gt; |\n|---|---|---|---|---|---|---|---|---|---|---|---|---|---|---|---|---|---|\n| 1 | 1 | 자전거 보관대 | 전라북도 전주시 덕진구 여암2길 9      | 전라북도 전주시 덕진구 반월동 248-32     | 조촌동  | 35.87201 | 127.0757 |  6 | NA | 거치형 | N | N | NA | N | 063-281-2602 | 전라북도 전주시청 자전거정책과 | 2020-08-31 |\n| 2 | 2 | 자전거 보관대 | 전라북도 전주시 덕진구 송천중앙로 116 | 전라북도 전주시 덕진구 송천동1가 395-28  | 송천1동 | 35.85710 | 127.1210 |  7 | NA | 휀스형 | Y | N | NA | N | 063-281-2603 | 전라북도 전주시청 자전거정책과 | 2020-08-31 |\n| 3 | 3 | 자전거 보관대 | 전라북도 전주시 덕진구 송천중앙로162  | 전라북도 전주시 덕진구 송천동1가 113-12  | 송천2동 | 35.86099 | 127.1217 |  7 | NA | 거치형 | N | N | NA | N | 063-281-2604 | 전라북도 전주시청 자전거정책과 | 2020-08-31 |\n| 4 | 4 | 자전거 보관대 | 전라북도 전주시 덕진구 송천중앙로 153 | 전라북도 전주시 덕진구 송천동1가 481-4   | 송천2동 | 35.86063 | 127.1209 | 10 | NA | 휀스형 | Y | N | NA | N | 063-281-2605 | 전라북도 전주시청 자전거정책과 | 2020-08-31 |\n| 5 | 5 | 자전거 보관대 | 전라북도 전주시 덕진구 천마산로 40    | 전라북도 전주시 덕진구 송천동1가 107-172 | 송천2동 | 35.86335 | 127.1257 | 10 | NA | 휀스형 | Y | N | NA | N | 063-281-2606 | 전라북도 전주시청 자전거정책과 | 2020-08-31 |\n| 6 | 6 | 자전거 보관대 | 전라북도 전주시 덕진구 견훤왕궁로 277 | 전라북도 전주시 덕진구 금암동 1600-6     | 금암2동 | 35.84259 | 127.1441 |  6 | NA | 거치형 | N | N | NA | N | 063-281-2607 | 전라북도 전주시청 자전거정책과 | 2020-08-31 |\n\n",
            "text/html": [
              "<table class=\"dataframe\">\n",
              "<caption>A data.frame: 6 × 17</caption>\n",
              "<thead>\n",
              "\t<tr><th></th><th scope=col>번호</th><th scope=col>자전거보관소명</th><th scope=col>소재지도로명주소</th><th scope=col>소재지지번주소</th><th scope=col>행정동</th><th scope=col>위도</th><th scope=col>경도</th><th scope=col>보관대수</th><th scope=col>설치연도</th><th scope=col>설치형태</th><th scope=col>차양막설치여부</th><th scope=col>공기주입기비치여부</th><th scope=col>공기주입기유형</th><th scope=col>수리대설치여부</th><th scope=col>관리기관전화번호</th><th scope=col>관리기관명</th><th scope=col>데이터기준일자</th></tr>\n",
              "\t<tr><th></th><th scope=col>&lt;int&gt;</th><th scope=col>&lt;chr&gt;</th><th scope=col>&lt;chr&gt;</th><th scope=col>&lt;chr&gt;</th><th scope=col>&lt;chr&gt;</th><th scope=col>&lt;dbl&gt;</th><th scope=col>&lt;dbl&gt;</th><th scope=col>&lt;int&gt;</th><th scope=col>&lt;int&gt;</th><th scope=col>&lt;chr&gt;</th><th scope=col>&lt;chr&gt;</th><th scope=col>&lt;chr&gt;</th><th scope=col>&lt;lgl&gt;</th><th scope=col>&lt;chr&gt;</th><th scope=col>&lt;chr&gt;</th><th scope=col>&lt;chr&gt;</th><th scope=col>&lt;chr&gt;</th></tr>\n",
              "</thead>\n",
              "<tbody>\n",
              "\t<tr><th scope=row>1</th><td>1</td><td>자전거 보관대</td><td>전라북도 전주시 덕진구 여암2길 9     </td><td>전라북도 전주시 덕진구 반월동 248-32    </td><td>조촌동 </td><td>35.87201</td><td>127.0757</td><td> 6</td><td>NA</td><td>거치형</td><td>N</td><td>N</td><td>NA</td><td>N</td><td>063-281-2602</td><td>전라북도 전주시청 자전거정책과</td><td>2020-08-31</td></tr>\n",
              "\t<tr><th scope=row>2</th><td>2</td><td>자전거 보관대</td><td>전라북도 전주시 덕진구 송천중앙로 116</td><td>전라북도 전주시 덕진구 송천동1가 395-28 </td><td>송천1동</td><td>35.85710</td><td>127.1210</td><td> 7</td><td>NA</td><td>휀스형</td><td>Y</td><td>N</td><td>NA</td><td>N</td><td>063-281-2603</td><td>전라북도 전주시청 자전거정책과</td><td>2020-08-31</td></tr>\n",
              "\t<tr><th scope=row>3</th><td>3</td><td>자전거 보관대</td><td>전라북도 전주시 덕진구 송천중앙로162 </td><td>전라북도 전주시 덕진구 송천동1가 113-12 </td><td>송천2동</td><td>35.86099</td><td>127.1217</td><td> 7</td><td>NA</td><td>거치형</td><td>N</td><td>N</td><td>NA</td><td>N</td><td>063-281-2604</td><td>전라북도 전주시청 자전거정책과</td><td>2020-08-31</td></tr>\n",
              "\t<tr><th scope=row>4</th><td>4</td><td>자전거 보관대</td><td>전라북도 전주시 덕진구 송천중앙로 153</td><td>전라북도 전주시 덕진구 송천동1가 481-4  </td><td>송천2동</td><td>35.86063</td><td>127.1209</td><td>10</td><td>NA</td><td>휀스형</td><td>Y</td><td>N</td><td>NA</td><td>N</td><td>063-281-2605</td><td>전라북도 전주시청 자전거정책과</td><td>2020-08-31</td></tr>\n",
              "\t<tr><th scope=row>5</th><td>5</td><td>자전거 보관대</td><td>전라북도 전주시 덕진구 천마산로 40   </td><td>전라북도 전주시 덕진구 송천동1가 107-172</td><td>송천2동</td><td>35.86335</td><td>127.1257</td><td>10</td><td>NA</td><td>휀스형</td><td>Y</td><td>N</td><td>NA</td><td>N</td><td>063-281-2606</td><td>전라북도 전주시청 자전거정책과</td><td>2020-08-31</td></tr>\n",
              "\t<tr><th scope=row>6</th><td>6</td><td>자전거 보관대</td><td>전라북도 전주시 덕진구 견훤왕궁로 277</td><td>전라북도 전주시 덕진구 금암동 1600-6    </td><td>금암2동</td><td>35.84259</td><td>127.1441</td><td> 6</td><td>NA</td><td>거치형</td><td>N</td><td>N</td><td>NA</td><td>N</td><td>063-281-2607</td><td>전라북도 전주시청 자전거정책과</td><td>2020-08-31</td></tr>\n",
              "</tbody>\n",
              "</table>\n"
            ]
          },
          "metadata": {
            "tags": []
          }
        }
      ]
    },
    {
      "cell_type": "markdown",
      "metadata": {
        "id": "e9kbB6Z2CvF7"
      },
      "source": [
        "▼  '번호', '행정동', '보관대수'만 뽑아서 다시 bicycle에 저장"
      ]
    },
    {
      "cell_type": "code",
      "metadata": {
        "id": "tBv5RFp--Z5M",
        "outputId": "1ebb0bce-1767-45ca-c6a5-0c42bdf0e0ac",
        "colab": {
          "base_uri": "https://localhost:8080/",
          "height": 1000
        }
      },
      "source": [
        "bicycle <- bicycle[, c(1,5,8)]\n",
        "head(bicycle)"
      ],
      "execution_count": 30,
      "outputs": [
        {
          "output_type": "display_data",
          "data": {
            "text/plain": [
              "    번호 행정동  보관대수\n",
              "1    1   조촌동   6      \n",
              "2    2   송천1동  7      \n",
              "3    3   송천2동  7      \n",
              "4    4   송천2동 10      \n",
              "5    5   송천2동 10      \n",
              "6    6   금암2동  6      \n",
              "7    7   송천1동  7      \n",
              "8    8   송천1동  7      \n",
              "9    9   송천1동 10      \n",
              "10  10   우아2동 30      \n",
              "11  11   우아2동 50      \n",
              "12  12   우아2동  7      \n",
              "13  13   우아2동  6      \n",
              "14  14   우아2동  7      \n",
              "15  15   우아2동 10      \n",
              "16  16   인후1동 10      \n",
              "17  17   인후1동  6      \n",
              "18  18   인후1동 10      \n",
              "19  19   인후1동  6      \n",
              "20  20   인후1동 10      \n",
              "21  21   인후1동 10      \n",
              "22  22   인후1동  7      \n",
              "23  23   인후2동  7      \n",
              "24  24   인후2동  7      \n",
              "25  25   인후2동 10      \n",
              "26  26   인후2동 14      \n",
              "27  27   인후2동 14      \n",
              "28  28   인후2동  8      \n",
              "29  29   인후3동  6      \n",
              "30  30   인후1동 14      \n",
              "⋮   ⋮    ⋮       ⋮       \n",
              "150 150  금암1동  6      \n",
              "151 151  금암1동  7      \n",
              "152 152  금암1동  7      \n",
              "153 153  금암1동  9      \n",
              "154 154  금암1동 10      \n",
              "155 155  금암1동  6      \n",
              "156 156  금암1동  6      \n",
              "157 157  금암1동 10      \n",
              "158 158  금암1동 14      \n",
              "159 159  금암1동 14      \n",
              "160 160  금암2동 14      \n",
              "161 161  금암1동 10      \n",
              "162 162  금암1동 30      \n",
              "163 163  금암1동  6      \n",
              "164 164  덕진동  20      \n",
              "165 165  덕진동  40      \n",
              "166 166  덕진동   8      \n",
              "167 167  덕진동   8      \n",
              "168 168  덕진동   8      \n",
              "169 169  덕진동   7      \n",
              "170 170  덕진동   7      \n",
              "171 171  덕진동  42      \n",
              "172 172  덕진동  30      \n",
              "173 173  덕진동   7      \n",
              "174 174  덕진동  21      \n",
              "175 175  덕진동   9      \n",
              "176 176  덕진동   6      \n",
              "177 177  덕진동   7      \n",
              "178 178  덕진동   7      \n",
              "179 179  덕진동  10      "
            ],
            "text/latex": "A data.frame: 179 × 3\n\\begin{tabular}{lll}\n 번호 & 행정동 & 보관대수\\\\\n <int> & <chr> & <int>\\\\\n\\hline\n\t  1 & 조촌동  &  6\\\\\n\t  2 & 송천1동 &  7\\\\\n\t  3 & 송천2동 &  7\\\\\n\t  4 & 송천2동 & 10\\\\\n\t  5 & 송천2동 & 10\\\\\n\t  6 & 금암2동 &  6\\\\\n\t  7 & 송천1동 &  7\\\\\n\t  8 & 송천1동 &  7\\\\\n\t  9 & 송천1동 & 10\\\\\n\t 10 & 우아2동 & 30\\\\\n\t 11 & 우아2동 & 50\\\\\n\t 12 & 우아2동 &  7\\\\\n\t 13 & 우아2동 &  6\\\\\n\t 14 & 우아2동 &  7\\\\\n\t 15 & 우아2동 & 10\\\\\n\t 16 & 인후1동 & 10\\\\\n\t 17 & 인후1동 &  6\\\\\n\t 18 & 인후1동 & 10\\\\\n\t 19 & 인후1동 &  6\\\\\n\t 20 & 인후1동 & 10\\\\\n\t 21 & 인후1동 & 10\\\\\n\t 22 & 인후1동 &  7\\\\\n\t 23 & 인후2동 &  7\\\\\n\t 24 & 인후2동 &  7\\\\\n\t 25 & 인후2동 & 10\\\\\n\t 26 & 인후2동 & 14\\\\\n\t 27 & 인후2동 & 14\\\\\n\t 28 & 인후2동 &  8\\\\\n\t 29 & 인후3동 &  6\\\\\n\t 30 & 인후1동 & 14\\\\\n\t ⋮ & ⋮ & ⋮\\\\\n\t 150 & 금암1동 &  6\\\\\n\t 151 & 금암1동 &  7\\\\\n\t 152 & 금암1동 &  7\\\\\n\t 153 & 금암1동 &  9\\\\\n\t 154 & 금암1동 & 10\\\\\n\t 155 & 금암1동 &  6\\\\\n\t 156 & 금암1동 &  6\\\\\n\t 157 & 금암1동 & 10\\\\\n\t 158 & 금암1동 & 14\\\\\n\t 159 & 금암1동 & 14\\\\\n\t 160 & 금암2동 & 14\\\\\n\t 161 & 금암1동 & 10\\\\\n\t 162 & 금암1동 & 30\\\\\n\t 163 & 금암1동 &  6\\\\\n\t 164 & 덕진동  & 20\\\\\n\t 165 & 덕진동  & 40\\\\\n\t 166 & 덕진동  &  8\\\\\n\t 167 & 덕진동  &  8\\\\\n\t 168 & 덕진동  &  8\\\\\n\t 169 & 덕진동  &  7\\\\\n\t 170 & 덕진동  &  7\\\\\n\t 171 & 덕진동  & 42\\\\\n\t 172 & 덕진동  & 30\\\\\n\t 173 & 덕진동  &  7\\\\\n\t 174 & 덕진동  & 21\\\\\n\t 175 & 덕진동  &  9\\\\\n\t 176 & 덕진동  &  6\\\\\n\t 177 & 덕진동  &  7\\\\\n\t 178 & 덕진동  &  7\\\\\n\t 179 & 덕진동  & 10\\\\\n\\end{tabular}\n",
            "text/markdown": "\nA data.frame: 179 × 3\n\n| 번호 &lt;int&gt; | 행정동 &lt;chr&gt; | 보관대수 &lt;int&gt; |\n|---|---|---|\n|  1 | 조촌동  |  6 |\n|  2 | 송천1동 |  7 |\n|  3 | 송천2동 |  7 |\n|  4 | 송천2동 | 10 |\n|  5 | 송천2동 | 10 |\n|  6 | 금암2동 |  6 |\n|  7 | 송천1동 |  7 |\n|  8 | 송천1동 |  7 |\n|  9 | 송천1동 | 10 |\n| 10 | 우아2동 | 30 |\n| 11 | 우아2동 | 50 |\n| 12 | 우아2동 |  7 |\n| 13 | 우아2동 |  6 |\n| 14 | 우아2동 |  7 |\n| 15 | 우아2동 | 10 |\n| 16 | 인후1동 | 10 |\n| 17 | 인후1동 |  6 |\n| 18 | 인후1동 | 10 |\n| 19 | 인후1동 |  6 |\n| 20 | 인후1동 | 10 |\n| 21 | 인후1동 | 10 |\n| 22 | 인후1동 |  7 |\n| 23 | 인후2동 |  7 |\n| 24 | 인후2동 |  7 |\n| 25 | 인후2동 | 10 |\n| 26 | 인후2동 | 14 |\n| 27 | 인후2동 | 14 |\n| 28 | 인후2동 |  8 |\n| 29 | 인후3동 |  6 |\n| 30 | 인후1동 | 14 |\n| ⋮ | ⋮ | ⋮ |\n| 150 | 금암1동 |  6 |\n| 151 | 금암1동 |  7 |\n| 152 | 금암1동 |  7 |\n| 153 | 금암1동 |  9 |\n| 154 | 금암1동 | 10 |\n| 155 | 금암1동 |  6 |\n| 156 | 금암1동 |  6 |\n| 157 | 금암1동 | 10 |\n| 158 | 금암1동 | 14 |\n| 159 | 금암1동 | 14 |\n| 160 | 금암2동 | 14 |\n| 161 | 금암1동 | 10 |\n| 162 | 금암1동 | 30 |\n| 163 | 금암1동 |  6 |\n| 164 | 덕진동  | 20 |\n| 165 | 덕진동  | 40 |\n| 166 | 덕진동  |  8 |\n| 167 | 덕진동  |  8 |\n| 168 | 덕진동  |  8 |\n| 169 | 덕진동  |  7 |\n| 170 | 덕진동  |  7 |\n| 171 | 덕진동  | 42 |\n| 172 | 덕진동  | 30 |\n| 173 | 덕진동  |  7 |\n| 174 | 덕진동  | 21 |\n| 175 | 덕진동  |  9 |\n| 176 | 덕진동  |  6 |\n| 177 | 덕진동  |  7 |\n| 178 | 덕진동  |  7 |\n| 179 | 덕진동  | 10 |\n\n",
            "text/html": [
              "<table class=\"dataframe\">\n",
              "<caption>A data.frame: 179 × 3</caption>\n",
              "<thead>\n",
              "\t<tr><th scope=col>번호</th><th scope=col>행정동</th><th scope=col>보관대수</th></tr>\n",
              "\t<tr><th scope=col>&lt;int&gt;</th><th scope=col>&lt;chr&gt;</th><th scope=col>&lt;int&gt;</th></tr>\n",
              "</thead>\n",
              "<tbody>\n",
              "\t<tr><td> 1</td><td>조촌동 </td><td> 6</td></tr>\n",
              "\t<tr><td> 2</td><td>송천1동</td><td> 7</td></tr>\n",
              "\t<tr><td> 3</td><td>송천2동</td><td> 7</td></tr>\n",
              "\t<tr><td> 4</td><td>송천2동</td><td>10</td></tr>\n",
              "\t<tr><td> 5</td><td>송천2동</td><td>10</td></tr>\n",
              "\t<tr><td> 6</td><td>금암2동</td><td> 6</td></tr>\n",
              "\t<tr><td> 7</td><td>송천1동</td><td> 7</td></tr>\n",
              "\t<tr><td> 8</td><td>송천1동</td><td> 7</td></tr>\n",
              "\t<tr><td> 9</td><td>송천1동</td><td>10</td></tr>\n",
              "\t<tr><td>10</td><td>우아2동</td><td>30</td></tr>\n",
              "\t<tr><td>11</td><td>우아2동</td><td>50</td></tr>\n",
              "\t<tr><td>12</td><td>우아2동</td><td> 7</td></tr>\n",
              "\t<tr><td>13</td><td>우아2동</td><td> 6</td></tr>\n",
              "\t<tr><td>14</td><td>우아2동</td><td> 7</td></tr>\n",
              "\t<tr><td>15</td><td>우아2동</td><td>10</td></tr>\n",
              "\t<tr><td>16</td><td>인후1동</td><td>10</td></tr>\n",
              "\t<tr><td>17</td><td>인후1동</td><td> 6</td></tr>\n",
              "\t<tr><td>18</td><td>인후1동</td><td>10</td></tr>\n",
              "\t<tr><td>19</td><td>인후1동</td><td> 6</td></tr>\n",
              "\t<tr><td>20</td><td>인후1동</td><td>10</td></tr>\n",
              "\t<tr><td>21</td><td>인후1동</td><td>10</td></tr>\n",
              "\t<tr><td>22</td><td>인후1동</td><td> 7</td></tr>\n",
              "\t<tr><td>23</td><td>인후2동</td><td> 7</td></tr>\n",
              "\t<tr><td>24</td><td>인후2동</td><td> 7</td></tr>\n",
              "\t<tr><td>25</td><td>인후2동</td><td>10</td></tr>\n",
              "\t<tr><td>26</td><td>인후2동</td><td>14</td></tr>\n",
              "\t<tr><td>27</td><td>인후2동</td><td>14</td></tr>\n",
              "\t<tr><td>28</td><td>인후2동</td><td> 8</td></tr>\n",
              "\t<tr><td>29</td><td>인후3동</td><td> 6</td></tr>\n",
              "\t<tr><td>30</td><td>인후1동</td><td>14</td></tr>\n",
              "\t<tr><td>⋮</td><td>⋮</td><td>⋮</td></tr>\n",
              "\t<tr><td>150</td><td>금암1동</td><td> 6</td></tr>\n",
              "\t<tr><td>151</td><td>금암1동</td><td> 7</td></tr>\n",
              "\t<tr><td>152</td><td>금암1동</td><td> 7</td></tr>\n",
              "\t<tr><td>153</td><td>금암1동</td><td> 9</td></tr>\n",
              "\t<tr><td>154</td><td>금암1동</td><td>10</td></tr>\n",
              "\t<tr><td>155</td><td>금암1동</td><td> 6</td></tr>\n",
              "\t<tr><td>156</td><td>금암1동</td><td> 6</td></tr>\n",
              "\t<tr><td>157</td><td>금암1동</td><td>10</td></tr>\n",
              "\t<tr><td>158</td><td>금암1동</td><td>14</td></tr>\n",
              "\t<tr><td>159</td><td>금암1동</td><td>14</td></tr>\n",
              "\t<tr><td>160</td><td>금암2동</td><td>14</td></tr>\n",
              "\t<tr><td>161</td><td>금암1동</td><td>10</td></tr>\n",
              "\t<tr><td>162</td><td>금암1동</td><td>30</td></tr>\n",
              "\t<tr><td>163</td><td>금암1동</td><td> 6</td></tr>\n",
              "\t<tr><td>164</td><td>덕진동 </td><td>20</td></tr>\n",
              "\t<tr><td>165</td><td>덕진동 </td><td>40</td></tr>\n",
              "\t<tr><td>166</td><td>덕진동 </td><td> 8</td></tr>\n",
              "\t<tr><td>167</td><td>덕진동 </td><td> 8</td></tr>\n",
              "\t<tr><td>168</td><td>덕진동 </td><td> 8</td></tr>\n",
              "\t<tr><td>169</td><td>덕진동 </td><td> 7</td></tr>\n",
              "\t<tr><td>170</td><td>덕진동 </td><td> 7</td></tr>\n",
              "\t<tr><td>171</td><td>덕진동 </td><td>42</td></tr>\n",
              "\t<tr><td>172</td><td>덕진동 </td><td>30</td></tr>\n",
              "\t<tr><td>173</td><td>덕진동 </td><td> 7</td></tr>\n",
              "\t<tr><td>174</td><td>덕진동 </td><td>21</td></tr>\n",
              "\t<tr><td>175</td><td>덕진동 </td><td> 9</td></tr>\n",
              "\t<tr><td>176</td><td>덕진동 </td><td> 6</td></tr>\n",
              "\t<tr><td>177</td><td>덕진동 </td><td> 7</td></tr>\n",
              "\t<tr><td>178</td><td>덕진동 </td><td> 7</td></tr>\n",
              "\t<tr><td>179</td><td>덕진동 </td><td>10</td></tr>\n",
              "</tbody>\n",
              "</table>\n"
            ]
          },
          "metadata": {
            "tags": []
          }
        }
      ]
    },
    {
      "cell_type": "markdown",
      "metadata": {
        "id": "SBfSGqZ7C7D-"
      },
      "source": [
        "▼ dplyr 패키지 이용해서 행정동을 기준으로 그룹화하고, 그 안에서 행정동별 자전거보관대의 수를 합친 결과를 출력한다."
      ]
    },
    {
      "cell_type": "code",
      "metadata": {
        "id": "70Rk61ss-k3B",
        "outputId": "55627137-2e31-4a8a-8399-5d048a87d61f",
        "colab": {
          "base_uri": "https://localhost:8080/",
          "height": 271
        }
      },
      "source": [
        "bicycle <- bicycle %>% group_by(행정동) %>% summarise(자전거보관대수 = sum(보관대수))\n",
        "head(bicycle)"
      ],
      "execution_count": 31,
      "outputs": [
        {
          "output_type": "display_data",
          "data": {
            "text/plain": [
              "  행정동   자전거보관대수\n",
              "1 금암1동  253           \n",
              "2 금암2동   20           \n",
              "3 노송동   138           \n",
              "4 덕진동   237           \n",
              "5 동서학동   7           \n",
              "6 삼천2동   21           "
            ],
            "text/latex": "A tibble: 6 × 2\n\\begin{tabular}{ll}\n 행정동 & 자전거보관대수\\\\\n <chr> & <int>\\\\\n\\hline\n\t 금암1동  & 253\\\\\n\t 금암2동  &  20\\\\\n\t 노송동   & 138\\\\\n\t 덕진동   & 237\\\\\n\t 동서학동 &   7\\\\\n\t 삼천2동  &  21\\\\\n\\end{tabular}\n",
            "text/markdown": "\nA tibble: 6 × 2\n\n| 행정동 &lt;chr&gt; | 자전거보관대수 &lt;int&gt; |\n|---|---|\n| 금암1동  | 253 |\n| 금암2동  |  20 |\n| 노송동   | 138 |\n| 덕진동   | 237 |\n| 동서학동 |   7 |\n| 삼천2동  |  21 |\n\n",
            "text/html": [
              "<table class=\"dataframe\">\n",
              "<caption>A tibble: 6 × 2</caption>\n",
              "<thead>\n",
              "\t<tr><th scope=col>행정동</th><th scope=col>자전거보관대수</th></tr>\n",
              "\t<tr><th scope=col>&lt;chr&gt;</th><th scope=col>&lt;int&gt;</th></tr>\n",
              "</thead>\n",
              "<tbody>\n",
              "\t<tr><td>금암1동 </td><td>253</td></tr>\n",
              "\t<tr><td>금암2동 </td><td> 20</td></tr>\n",
              "\t<tr><td>노송동  </td><td>138</td></tr>\n",
              "\t<tr><td>덕진동  </td><td>237</td></tr>\n",
              "\t<tr><td>동서학동</td><td>  7</td></tr>\n",
              "\t<tr><td>삼천2동 </td><td> 21</td></tr>\n",
              "</tbody>\n",
              "</table>\n"
            ]
          },
          "metadata": {
            "tags": []
          }
        }
      ]
    },
    {
      "cell_type": "markdown",
      "metadata": {
        "id": "T1S52-yqDEhb"
      },
      "source": [
        "1 bicycle을 데이터프레임으로 바꿔주고\n",
        "\n",
        "2 행정동을 기준으로 오름차순 정렬\n",
        "\n",
        "▼ "
      ]
    },
    {
      "cell_type": "code",
      "metadata": {
        "id": "c3MKchk7-o3M",
        "outputId": "b149053a-811f-4b16-b6fb-46be7874b911",
        "colab": {
          "base_uri": "https://localhost:8080/",
          "height": 952
        }
      },
      "source": [
        "bicycle <- as.data.frame(bicycle)\n",
        "bicycle <- arrange(bicycle, bicycle$행정동)\n",
        "bicycle"
      ],
      "execution_count": 32,
      "outputs": [
        {
          "output_type": "display_data",
          "data": {
            "text/plain": [
              "   행정동    자전거보관대수\n",
              "1  금암1동   253           \n",
              "2  금암2동    20           \n",
              "3  노송동    138           \n",
              "4  덕진동    237           \n",
              "5  동서학동    7           \n",
              "6  삼천2동    21           \n",
              "7  삼천3동    62           \n",
              "8  서서학동    7           \n",
              "9  서신동    126           \n",
              "10 송천1동    31           \n",
              "11 송천2동    27           \n",
              "12 완산동      7           \n",
              "13 우아2동   110           \n",
              "14 인후1동    78           \n",
              "15 인후2동    60           \n",
              "16 인후3동    20           \n",
              "17 조촌동     23           \n",
              "18 중앙동     68           \n",
              "19 중화산2동 119           \n",
              "20 진북동    125           \n",
              "21 팔복동     31           \n",
              "22 평화1동    95           \n",
              "23 평화2동    46           \n",
              "24 풍남동     24           \n",
              "25 효자1동    76           \n",
              "26 효자2동    65           \n",
              "27 효자3동    10           \n",
              "28 효자4동    42           \n",
              "29 효자5동    73           "
            ],
            "text/latex": "A data.frame: 29 × 2\n\\begin{tabular}{ll}\n 행정동 & 자전거보관대수\\\\\n <chr> & <int>\\\\\n\\hline\n\t 금암1동   & 253\\\\\n\t 금암2동   &  20\\\\\n\t 노송동    & 138\\\\\n\t 덕진동    & 237\\\\\n\t 동서학동  &   7\\\\\n\t 삼천2동   &  21\\\\\n\t 삼천3동   &  62\\\\\n\t 서서학동  &   7\\\\\n\t 서신동    & 126\\\\\n\t 송천1동   &  31\\\\\n\t 송천2동   &  27\\\\\n\t 완산동    &   7\\\\\n\t 우아2동   & 110\\\\\n\t 인후1동   &  78\\\\\n\t 인후2동   &  60\\\\\n\t 인후3동   &  20\\\\\n\t 조촌동    &  23\\\\\n\t 중앙동    &  68\\\\\n\t 중화산2동 & 119\\\\\n\t 진북동    & 125\\\\\n\t 팔복동    &  31\\\\\n\t 평화1동   &  95\\\\\n\t 평화2동   &  46\\\\\n\t 풍남동    &  24\\\\\n\t 효자1동   &  76\\\\\n\t 효자2동   &  65\\\\\n\t 효자3동   &  10\\\\\n\t 효자4동   &  42\\\\\n\t 효자5동   &  73\\\\\n\\end{tabular}\n",
            "text/markdown": "\nA data.frame: 29 × 2\n\n| 행정동 &lt;chr&gt; | 자전거보관대수 &lt;int&gt; |\n|---|---|\n| 금암1동   | 253 |\n| 금암2동   |  20 |\n| 노송동    | 138 |\n| 덕진동    | 237 |\n| 동서학동  |   7 |\n| 삼천2동   |  21 |\n| 삼천3동   |  62 |\n| 서서학동  |   7 |\n| 서신동    | 126 |\n| 송천1동   |  31 |\n| 송천2동   |  27 |\n| 완산동    |   7 |\n| 우아2동   | 110 |\n| 인후1동   |  78 |\n| 인후2동   |  60 |\n| 인후3동   |  20 |\n| 조촌동    |  23 |\n| 중앙동    |  68 |\n| 중화산2동 | 119 |\n| 진북동    | 125 |\n| 팔복동    |  31 |\n| 평화1동   |  95 |\n| 평화2동   |  46 |\n| 풍남동    |  24 |\n| 효자1동   |  76 |\n| 효자2동   |  65 |\n| 효자3동   |  10 |\n| 효자4동   |  42 |\n| 효자5동   |  73 |\n\n",
            "text/html": [
              "<table class=\"dataframe\">\n",
              "<caption>A data.frame: 29 × 2</caption>\n",
              "<thead>\n",
              "\t<tr><th scope=col>행정동</th><th scope=col>자전거보관대수</th></tr>\n",
              "\t<tr><th scope=col>&lt;chr&gt;</th><th scope=col>&lt;int&gt;</th></tr>\n",
              "</thead>\n",
              "<tbody>\n",
              "\t<tr><td>금암1동  </td><td>253</td></tr>\n",
              "\t<tr><td>금암2동  </td><td> 20</td></tr>\n",
              "\t<tr><td>노송동   </td><td>138</td></tr>\n",
              "\t<tr><td>덕진동   </td><td>237</td></tr>\n",
              "\t<tr><td>동서학동 </td><td>  7</td></tr>\n",
              "\t<tr><td>삼천2동  </td><td> 21</td></tr>\n",
              "\t<tr><td>삼천3동  </td><td> 62</td></tr>\n",
              "\t<tr><td>서서학동 </td><td>  7</td></tr>\n",
              "\t<tr><td>서신동   </td><td>126</td></tr>\n",
              "\t<tr><td>송천1동  </td><td> 31</td></tr>\n",
              "\t<tr><td>송천2동  </td><td> 27</td></tr>\n",
              "\t<tr><td>완산동   </td><td>  7</td></tr>\n",
              "\t<tr><td>우아2동  </td><td>110</td></tr>\n",
              "\t<tr><td>인후1동  </td><td> 78</td></tr>\n",
              "\t<tr><td>인후2동  </td><td> 60</td></tr>\n",
              "\t<tr><td>인후3동  </td><td> 20</td></tr>\n",
              "\t<tr><td>조촌동   </td><td> 23</td></tr>\n",
              "\t<tr><td>중앙동   </td><td> 68</td></tr>\n",
              "\t<tr><td>중화산2동</td><td>119</td></tr>\n",
              "\t<tr><td>진북동   </td><td>125</td></tr>\n",
              "\t<tr><td>팔복동   </td><td> 31</td></tr>\n",
              "\t<tr><td>평화1동  </td><td> 95</td></tr>\n",
              "\t<tr><td>평화2동  </td><td> 46</td></tr>\n",
              "\t<tr><td>풍남동   </td><td> 24</td></tr>\n",
              "\t<tr><td>효자1동  </td><td> 76</td></tr>\n",
              "\t<tr><td>효자2동  </td><td> 65</td></tr>\n",
              "\t<tr><td>효자3동  </td><td> 10</td></tr>\n",
              "\t<tr><td>효자4동  </td><td> 42</td></tr>\n",
              "\t<tr><td>효자5동  </td><td> 73</td></tr>\n",
              "</tbody>\n",
              "</table>\n"
            ]
          },
          "metadata": {
            "tags": []
          }
        }
      ]
    },
    {
      "cell_type": "markdown",
      "metadata": {
        "id": "nBA8euk1DLtv"
      },
      "source": [
        "▼ bicycle에서 누락된 행정동이 '삼천1동', '여의동', '우아1동', '중화산1동', '혁신동', '호성동' 이렇게 해서 총 6개!"
      ]
    },
    {
      "cell_type": "code",
      "metadata": {
        "id": "c_bglu6E-uTY",
        "outputId": "4b8f0748-8641-48c8-9836-d0ebb39fd377",
        "colab": {
          "base_uri": "https://localhost:8080/",
          "height": 139
        }
      },
      "source": [
        "table(bicycle$행정동 %in% jjdong)\n",
        "table(jjdong %in% bicycle$행정동)\n",
        "\n",
        "\n",
        "jjdong[jjdong %in% bicycle$행정동 == FALSE]"
      ],
      "execution_count": 33,
      "outputs": [
        {
          "output_type": "display_data",
          "data": {
            "text/plain": [
              "\n",
              "TRUE \n",
              "  29 "
            ]
          },
          "metadata": {
            "tags": []
          }
        },
        {
          "output_type": "display_data",
          "data": {
            "text/plain": [
              "\n",
              "FALSE  TRUE \n",
              "    6    29 "
            ]
          },
          "metadata": {
            "tags": []
          }
        },
        {
          "output_type": "display_data",
          "data": {
            "text/plain": [
              "[1] \"삼천1동\"   \"여의동\"    \"우아1동\"   \"중화산1동\" \"혁신동\"    \"호성동\"   "
            ],
            "text/latex": "\\begin{enumerate*}\n\\item '삼천1동'\n\\item '여의동'\n\\item '우아1동'\n\\item '중화산1동'\n\\item '혁신동'\n\\item '호성동'\n\\end{enumerate*}\n",
            "text/markdown": "1. '삼천1동'\n2. '여의동'\n3. '우아1동'\n4. '중화산1동'\n5. '혁신동'\n6. '호성동'\n\n\n",
            "text/html": [
              "<style>\n",
              ".list-inline {list-style: none; margin:0; padding: 0}\n",
              ".list-inline>li {display: inline-block}\n",
              ".list-inline>li:not(:last-child)::after {content: \"\\00b7\"; padding: 0 .5ex}\n",
              "</style>\n",
              "<ol class=list-inline><li>'삼천1동'</li><li>'여의동'</li><li>'우아1동'</li><li>'중화산1동'</li><li>'혁신동'</li><li>'호성동'</li></ol>\n"
            ]
          },
          "metadata": {
            "tags": []
          }
        }
      ]
    },
    {
      "cell_type": "markdown",
      "metadata": {
        "id": "Jhe75DntDcEl"
      },
      "source": [
        "▼ jjdong[jjdong %in% bicycle$행정동 == FALSE] 을 '행정동'으로, 이에 해당하는 NA값을 '자전거보관대수'로 저장하는 데이터프레임 add를 만든다."
      ]
    },
    {
      "cell_type": "code",
      "metadata": {
        "id": "m1kNoXbo-7cG",
        "outputId": "68ce0185-af8a-4c2e-8f1d-f8476208f4f9",
        "colab": {
          "base_uri": "https://localhost:8080/",
          "height": 271
        }
      },
      "source": [
        "add <- data.frame(행정동 = jjdong[jjdong %in% bicycle$행정동 == FALSE], 자전거보관대수 = rep(NA, length(jjdong[jjdong %in% bicycle$행정동 == FALSE])))\n",
        "head(add)"
      ],
      "execution_count": 34,
      "outputs": [
        {
          "output_type": "display_data",
          "data": {
            "text/plain": [
              "  행정동    자전거보관대수\n",
              "1 삼천1동   NA            \n",
              "2 여의동    NA            \n",
              "3 우아1동   NA            \n",
              "4 중화산1동 NA            \n",
              "5 혁신동    NA            \n",
              "6 호성동    NA            "
            ],
            "text/latex": "A data.frame: 6 × 2\n\\begin{tabular}{r|ll}\n  & 행정동 & 자전거보관대수\\\\\n  & <chr> & <lgl>\\\\\n\\hline\n\t1 & 삼천1동   & NA\\\\\n\t2 & 여의동    & NA\\\\\n\t3 & 우아1동   & NA\\\\\n\t4 & 중화산1동 & NA\\\\\n\t5 & 혁신동    & NA\\\\\n\t6 & 호성동    & NA\\\\\n\\end{tabular}\n",
            "text/markdown": "\nA data.frame: 6 × 2\n\n| <!--/--> | 행정동 &lt;chr&gt; | 자전거보관대수 &lt;lgl&gt; |\n|---|---|---|\n| 1 | 삼천1동   | NA |\n| 2 | 여의동    | NA |\n| 3 | 우아1동   | NA |\n| 4 | 중화산1동 | NA |\n| 5 | 혁신동    | NA |\n| 6 | 호성동    | NA |\n\n",
            "text/html": [
              "<table class=\"dataframe\">\n",
              "<caption>A data.frame: 6 × 2</caption>\n",
              "<thead>\n",
              "\t<tr><th></th><th scope=col>행정동</th><th scope=col>자전거보관대수</th></tr>\n",
              "\t<tr><th></th><th scope=col>&lt;chr&gt;</th><th scope=col>&lt;lgl&gt;</th></tr>\n",
              "</thead>\n",
              "<tbody>\n",
              "\t<tr><th scope=row>1</th><td>삼천1동  </td><td>NA</td></tr>\n",
              "\t<tr><th scope=row>2</th><td>여의동   </td><td>NA</td></tr>\n",
              "\t<tr><th scope=row>3</th><td>우아1동  </td><td>NA</td></tr>\n",
              "\t<tr><th scope=row>4</th><td>중화산1동</td><td>NA</td></tr>\n",
              "\t<tr><th scope=row>5</th><td>혁신동   </td><td>NA</td></tr>\n",
              "\t<tr><th scope=row>6</th><td>호성동   </td><td>NA</td></tr>\n",
              "</tbody>\n",
              "</table>\n"
            ]
          },
          "metadata": {
            "tags": []
          }
        }
      ]
    },
    {
      "cell_type": "markdown",
      "metadata": {
        "id": "yzJRdqKeDqrx"
      },
      "source": [
        "1 bicycle과 add를 행을 기준으로 합쳐서 다시 bicycle에 저장\n",
        "\n",
        "2 행정동을 기준으로 오름차순 정렬\n",
        "\n",
        "▼"
      ]
    },
    {
      "cell_type": "code",
      "metadata": {
        "id": "eFHe37hg--73",
        "outputId": "17e72c8a-4bc1-4efe-bf02-da699b3b7df9",
        "colab": {
          "base_uri": "https://localhost:8080/",
          "height": 1000
        }
      },
      "source": [
        "bicycle <- rbind(bicycle, add)\n",
        "bicycle <- arrange(bicycle, bicycle$행정동)\n",
        "bicycle"
      ],
      "execution_count": 35,
      "outputs": [
        {
          "output_type": "display_data",
          "data": {
            "text/plain": [
              "   행정동    자전거보관대수\n",
              "1  금암1동   253           \n",
              "2  금암2동    20           \n",
              "3  노송동    138           \n",
              "4  덕진동    237           \n",
              "5  동서학동    7           \n",
              "6  삼천1동    NA           \n",
              "7  삼천2동    21           \n",
              "8  삼천3동    62           \n",
              "9  서서학동    7           \n",
              "10 서신동    126           \n",
              "11 송천1동    31           \n",
              "12 송천2동    27           \n",
              "13 여의동     NA           \n",
              "14 완산동      7           \n",
              "15 우아1동    NA           \n",
              "16 우아2동   110           \n",
              "17 인후1동    78           \n",
              "18 인후2동    60           \n",
              "19 인후3동    20           \n",
              "20 조촌동     23           \n",
              "21 중앙동     68           \n",
              "22 중화산1동  NA           \n",
              "23 중화산2동 119           \n",
              "24 진북동    125           \n",
              "25 팔복동     31           \n",
              "26 평화1동    95           \n",
              "27 평화2동    46           \n",
              "28 풍남동     24           \n",
              "29 혁신동     NA           \n",
              "30 호성동     NA           \n",
              "31 효자1동    76           \n",
              "32 효자2동    65           \n",
              "33 효자3동    10           \n",
              "34 효자4동    42           \n",
              "35 효자5동    73           "
            ],
            "text/latex": "A data.frame: 35 × 2\n\\begin{tabular}{ll}\n 행정동 & 자전거보관대수\\\\\n <chr> & <int>\\\\\n\\hline\n\t 금암1동   & 253\\\\\n\t 금암2동   &  20\\\\\n\t 노송동    & 138\\\\\n\t 덕진동    & 237\\\\\n\t 동서학동  &   7\\\\\n\t 삼천1동   &  NA\\\\\n\t 삼천2동   &  21\\\\\n\t 삼천3동   &  62\\\\\n\t 서서학동  &   7\\\\\n\t 서신동    & 126\\\\\n\t 송천1동   &  31\\\\\n\t 송천2동   &  27\\\\\n\t 여의동    &  NA\\\\\n\t 완산동    &   7\\\\\n\t 우아1동   &  NA\\\\\n\t 우아2동   & 110\\\\\n\t 인후1동   &  78\\\\\n\t 인후2동   &  60\\\\\n\t 인후3동   &  20\\\\\n\t 조촌동    &  23\\\\\n\t 중앙동    &  68\\\\\n\t 중화산1동 &  NA\\\\\n\t 중화산2동 & 119\\\\\n\t 진북동    & 125\\\\\n\t 팔복동    &  31\\\\\n\t 평화1동   &  95\\\\\n\t 평화2동   &  46\\\\\n\t 풍남동    &  24\\\\\n\t 혁신동    &  NA\\\\\n\t 호성동    &  NA\\\\\n\t 효자1동   &  76\\\\\n\t 효자2동   &  65\\\\\n\t 효자3동   &  10\\\\\n\t 효자4동   &  42\\\\\n\t 효자5동   &  73\\\\\n\\end{tabular}\n",
            "text/markdown": "\nA data.frame: 35 × 2\n\n| 행정동 &lt;chr&gt; | 자전거보관대수 &lt;int&gt; |\n|---|---|\n| 금암1동   | 253 |\n| 금암2동   |  20 |\n| 노송동    | 138 |\n| 덕진동    | 237 |\n| 동서학동  |   7 |\n| 삼천1동   |  NA |\n| 삼천2동   |  21 |\n| 삼천3동   |  62 |\n| 서서학동  |   7 |\n| 서신동    | 126 |\n| 송천1동   |  31 |\n| 송천2동   |  27 |\n| 여의동    |  NA |\n| 완산동    |   7 |\n| 우아1동   |  NA |\n| 우아2동   | 110 |\n| 인후1동   |  78 |\n| 인후2동   |  60 |\n| 인후3동   |  20 |\n| 조촌동    |  23 |\n| 중앙동    |  68 |\n| 중화산1동 |  NA |\n| 중화산2동 | 119 |\n| 진북동    | 125 |\n| 팔복동    |  31 |\n| 평화1동   |  95 |\n| 평화2동   |  46 |\n| 풍남동    |  24 |\n| 혁신동    |  NA |\n| 호성동    |  NA |\n| 효자1동   |  76 |\n| 효자2동   |  65 |\n| 효자3동   |  10 |\n| 효자4동   |  42 |\n| 효자5동   |  73 |\n\n",
            "text/html": [
              "<table class=\"dataframe\">\n",
              "<caption>A data.frame: 35 × 2</caption>\n",
              "<thead>\n",
              "\t<tr><th scope=col>행정동</th><th scope=col>자전거보관대수</th></tr>\n",
              "\t<tr><th scope=col>&lt;chr&gt;</th><th scope=col>&lt;int&gt;</th></tr>\n",
              "</thead>\n",
              "<tbody>\n",
              "\t<tr><td>금암1동  </td><td>253</td></tr>\n",
              "\t<tr><td>금암2동  </td><td> 20</td></tr>\n",
              "\t<tr><td>노송동   </td><td>138</td></tr>\n",
              "\t<tr><td>덕진동   </td><td>237</td></tr>\n",
              "\t<tr><td>동서학동 </td><td>  7</td></tr>\n",
              "\t<tr><td>삼천1동  </td><td> NA</td></tr>\n",
              "\t<tr><td>삼천2동  </td><td> 21</td></tr>\n",
              "\t<tr><td>삼천3동  </td><td> 62</td></tr>\n",
              "\t<tr><td>서서학동 </td><td>  7</td></tr>\n",
              "\t<tr><td>서신동   </td><td>126</td></tr>\n",
              "\t<tr><td>송천1동  </td><td> 31</td></tr>\n",
              "\t<tr><td>송천2동  </td><td> 27</td></tr>\n",
              "\t<tr><td>여의동   </td><td> NA</td></tr>\n",
              "\t<tr><td>완산동   </td><td>  7</td></tr>\n",
              "\t<tr><td>우아1동  </td><td> NA</td></tr>\n",
              "\t<tr><td>우아2동  </td><td>110</td></tr>\n",
              "\t<tr><td>인후1동  </td><td> 78</td></tr>\n",
              "\t<tr><td>인후2동  </td><td> 60</td></tr>\n",
              "\t<tr><td>인후3동  </td><td> 20</td></tr>\n",
              "\t<tr><td>조촌동   </td><td> 23</td></tr>\n",
              "\t<tr><td>중앙동   </td><td> 68</td></tr>\n",
              "\t<tr><td>중화산1동</td><td> NA</td></tr>\n",
              "\t<tr><td>중화산2동</td><td>119</td></tr>\n",
              "\t<tr><td>진북동   </td><td>125</td></tr>\n",
              "\t<tr><td>팔복동   </td><td> 31</td></tr>\n",
              "\t<tr><td>평화1동  </td><td> 95</td></tr>\n",
              "\t<tr><td>평화2동  </td><td> 46</td></tr>\n",
              "\t<tr><td>풍남동   </td><td> 24</td></tr>\n",
              "\t<tr><td>혁신동   </td><td> NA</td></tr>\n",
              "\t<tr><td>호성동   </td><td> NA</td></tr>\n",
              "\t<tr><td>효자1동  </td><td> 76</td></tr>\n",
              "\t<tr><td>효자2동  </td><td> 65</td></tr>\n",
              "\t<tr><td>효자3동  </td><td> 10</td></tr>\n",
              "\t<tr><td>효자4동  </td><td> 42</td></tr>\n",
              "\t<tr><td>효자5동  </td><td> 73</td></tr>\n",
              "</tbody>\n",
              "</table>\n"
            ]
          },
          "metadata": {
            "tags": []
          }
        }
      ]
    },
    {
      "cell_type": "markdown",
      "metadata": {
        "id": "PY76dnQXD7fJ"
      },
      "source": [
        "## 대규모점포 수"
      ]
    },
    {
      "cell_type": "code",
      "metadata": {
        "id": "pNLuyeE4_CCN",
        "outputId": "8d9624a0-3c2e-4015-f6cc-04aaf1b8556a",
        "colab": {
          "base_uri": "https://localhost:8080/",
          "height": 377
        }
      },
      "source": [
        "str(bigstore)\n",
        "head(bigstore)"
      ],
      "execution_count": 36,
      "outputs": [
        {
          "output_type": "stream",
          "text": [
            "'data.frame':\t43 obs. of  5 variables:\n",
            " $ 분류   : chr  \"대규모점포\" \"대규모점포\" \"대규모점포\" \"대규모점포\" ...\n",
            " $ store  : chr  \"롯데백화점 전주점\" \"E-마트\" \"홈플러스 완산점\" \"홈플러스 전주점\" ...\n",
            " $ address: chr  \"전주시 완산구 온고을로 2\" \"전주시 완산구 당산로 111\" \"전주시 완산구 기린대로 170\" \"전주시 덕진구 백제대로 771\" ...\n",
            " $ 행정동 : chr  \"서신동\" \"서신동\" \"노송동\" \"우아1동\" ...\n",
            " $ 면적   : int  28179 6571 13121 8471 22657 10430 10387 6115 7721 21317 ...\n"
          ],
          "name": "stdout"
        },
        {
          "output_type": "display_data",
          "data": {
            "text/plain": [
              "  분류       store             address                    행정동  면적 \n",
              "1 대규모점포 롯데백화점 전주점 전주시 완산구 온고을로 2   서신동  28179\n",
              "2 대규모점포 E-마트            전주시 완산구 당산로 111   서신동   6571\n",
              "3 대규모점포 홈플러스 완산점   전주시 완산구 기린대로 170 노송동  13121\n",
              "4 대규모점포 홈플러스 전주점   전주시 덕진구 백제대로 771 우아1동  8471\n",
              "5 대규모점포 홈플러스 효자점   전주시 완산구 용머리로 31  효자3동 22657\n",
              "6 대규모점포 롯데마트 전주점   전주시 완산구 우전로 240   효자4동 10430"
            ],
            "text/latex": "A data.frame: 6 × 5\n\\begin{tabular}{r|lllll}\n  & 분류 & store & address & 행정동 & 면적\\\\\n  & <chr> & <chr> & <chr> & <chr> & <int>\\\\\n\\hline\n\t1 & 대규모점포 & 롯데백화점 전주점 & 전주시 완산구 온고을로 2   & 서신동  & 28179\\\\\n\t2 & 대규모점포 & E-마트            & 전주시 완산구 당산로 111   & 서신동  &  6571\\\\\n\t3 & 대규모점포 & 홈플러스 완산점   & 전주시 완산구 기린대로 170 & 노송동  & 13121\\\\\n\t4 & 대규모점포 & 홈플러스 전주점   & 전주시 덕진구 백제대로 771 & 우아1동 &  8471\\\\\n\t5 & 대규모점포 & 홈플러스 효자점   & 전주시 완산구 용머리로 31  & 효자3동 & 22657\\\\\n\t6 & 대규모점포 & 롯데마트 전주점   & 전주시 완산구 우전로 240   & 효자4동 & 10430\\\\\n\\end{tabular}\n",
            "text/markdown": "\nA data.frame: 6 × 5\n\n| <!--/--> | 분류 &lt;chr&gt; | store &lt;chr&gt; | address &lt;chr&gt; | 행정동 &lt;chr&gt; | 면적 &lt;int&gt; |\n|---|---|---|---|---|---|\n| 1 | 대규모점포 | 롯데백화점 전주점 | 전주시 완산구 온고을로 2   | 서신동  | 28179 |\n| 2 | 대규모점포 | E-마트            | 전주시 완산구 당산로 111   | 서신동  |  6571 |\n| 3 | 대규모점포 | 홈플러스 완산점   | 전주시 완산구 기린대로 170 | 노송동  | 13121 |\n| 4 | 대규모점포 | 홈플러스 전주점   | 전주시 덕진구 백제대로 771 | 우아1동 |  8471 |\n| 5 | 대규모점포 | 홈플러스 효자점   | 전주시 완산구 용머리로 31  | 효자3동 | 22657 |\n| 6 | 대규모점포 | 롯데마트 전주점   | 전주시 완산구 우전로 240   | 효자4동 | 10430 |\n\n",
            "text/html": [
              "<table class=\"dataframe\">\n",
              "<caption>A data.frame: 6 × 5</caption>\n",
              "<thead>\n",
              "\t<tr><th></th><th scope=col>분류</th><th scope=col>store</th><th scope=col>address</th><th scope=col>행정동</th><th scope=col>면적</th></tr>\n",
              "\t<tr><th></th><th scope=col>&lt;chr&gt;</th><th scope=col>&lt;chr&gt;</th><th scope=col>&lt;chr&gt;</th><th scope=col>&lt;chr&gt;</th><th scope=col>&lt;int&gt;</th></tr>\n",
              "</thead>\n",
              "<tbody>\n",
              "\t<tr><th scope=row>1</th><td>대규모점포</td><td>롯데백화점 전주점</td><td>전주시 완산구 온고을로 2  </td><td>서신동 </td><td>28179</td></tr>\n",
              "\t<tr><th scope=row>2</th><td>대규모점포</td><td>E-마트           </td><td>전주시 완산구 당산로 111  </td><td>서신동 </td><td> 6571</td></tr>\n",
              "\t<tr><th scope=row>3</th><td>대규모점포</td><td>홈플러스 완산점  </td><td>전주시 완산구 기린대로 170</td><td>노송동 </td><td>13121</td></tr>\n",
              "\t<tr><th scope=row>4</th><td>대규모점포</td><td>홈플러스 전주점  </td><td>전주시 덕진구 백제대로 771</td><td>우아1동</td><td> 8471</td></tr>\n",
              "\t<tr><th scope=row>5</th><td>대규모점포</td><td>홈플러스 효자점  </td><td>전주시 완산구 용머리로 31 </td><td>효자3동</td><td>22657</td></tr>\n",
              "\t<tr><th scope=row>6</th><td>대규모점포</td><td>롯데마트 전주점  </td><td>전주시 완산구 우전로 240  </td><td>효자4동</td><td>10430</td></tr>\n",
              "</tbody>\n",
              "</table>\n"
            ]
          },
          "metadata": {
            "tags": []
          }
        }
      ]
    },
    {
      "cell_type": "code",
      "metadata": {
        "id": "U-78S9gu_F65",
        "outputId": "a631c4a2-6fb8-4852-e4e3-b13afb701219",
        "colab": {
          "base_uri": "https://localhost:8080/",
          "height": 271
        }
      },
      "source": [
        "bigstore <- bigstore[,c(2,4,5)]\n",
        "bigstore$count <- rep(1,nrow(bigstore))\n",
        "head(bigstore)"
      ],
      "execution_count": 37,
      "outputs": [
        {
          "output_type": "display_data",
          "data": {
            "text/plain": [
              "  store             행정동  면적  count\n",
              "1 롯데백화점 전주점 서신동  28179 1    \n",
              "2 E-마트            서신동   6571 1    \n",
              "3 홈플러스 완산점   노송동  13121 1    \n",
              "4 홈플러스 전주점   우아1동  8471 1    \n",
              "5 홈플러스 효자점   효자3동 22657 1    \n",
              "6 롯데마트 전주점   효자4동 10430 1    "
            ],
            "text/latex": "A data.frame: 6 × 4\n\\begin{tabular}{r|llll}\n  & store & 행정동 & 면적 & count\\\\\n  & <chr> & <chr> & <int> & <dbl>\\\\\n\\hline\n\t1 & 롯데백화점 전주점 & 서신동  & 28179 & 1\\\\\n\t2 & E-마트            & 서신동  &  6571 & 1\\\\\n\t3 & 홈플러스 완산점   & 노송동  & 13121 & 1\\\\\n\t4 & 홈플러스 전주점   & 우아1동 &  8471 & 1\\\\\n\t5 & 홈플러스 효자점   & 효자3동 & 22657 & 1\\\\\n\t6 & 롯데마트 전주점   & 효자4동 & 10430 & 1\\\\\n\\end{tabular}\n",
            "text/markdown": "\nA data.frame: 6 × 4\n\n| <!--/--> | store &lt;chr&gt; | 행정동 &lt;chr&gt; | 면적 &lt;int&gt; | count &lt;dbl&gt; |\n|---|---|---|---|---|\n| 1 | 롯데백화점 전주점 | 서신동  | 28179 | 1 |\n| 2 | E-마트            | 서신동  |  6571 | 1 |\n| 3 | 홈플러스 완산점   | 노송동  | 13121 | 1 |\n| 4 | 홈플러스 전주점   | 우아1동 |  8471 | 1 |\n| 5 | 홈플러스 효자점   | 효자3동 | 22657 | 1 |\n| 6 | 롯데마트 전주점   | 효자4동 | 10430 | 1 |\n\n",
            "text/html": [
              "<table class=\"dataframe\">\n",
              "<caption>A data.frame: 6 × 4</caption>\n",
              "<thead>\n",
              "\t<tr><th></th><th scope=col>store</th><th scope=col>행정동</th><th scope=col>면적</th><th scope=col>count</th></tr>\n",
              "\t<tr><th></th><th scope=col>&lt;chr&gt;</th><th scope=col>&lt;chr&gt;</th><th scope=col>&lt;int&gt;</th><th scope=col>&lt;dbl&gt;</th></tr>\n",
              "</thead>\n",
              "<tbody>\n",
              "\t<tr><th scope=row>1</th><td>롯데백화점 전주점</td><td>서신동 </td><td>28179</td><td>1</td></tr>\n",
              "\t<tr><th scope=row>2</th><td>E-마트           </td><td>서신동 </td><td> 6571</td><td>1</td></tr>\n",
              "\t<tr><th scope=row>3</th><td>홈플러스 완산점  </td><td>노송동 </td><td>13121</td><td>1</td></tr>\n",
              "\t<tr><th scope=row>4</th><td>홈플러스 전주점  </td><td>우아1동</td><td> 8471</td><td>1</td></tr>\n",
              "\t<tr><th scope=row>5</th><td>홈플러스 효자점  </td><td>효자3동</td><td>22657</td><td>1</td></tr>\n",
              "\t<tr><th scope=row>6</th><td>롯데마트 전주점  </td><td>효자4동</td><td>10430</td><td>1</td></tr>\n",
              "</tbody>\n",
              "</table>\n"
            ]
          },
          "metadata": {
            "tags": []
          }
        }
      ]
    },
    {
      "cell_type": "code",
      "metadata": {
        "id": "-EMLTcPh_KyP",
        "outputId": "8553b4f0-dd10-4ec0-ce17-c9ceaea939a2",
        "colab": {
          "base_uri": "https://localhost:8080/",
          "height": 656
        }
      },
      "source": [
        "bigstore <- bigstore %>% group_by(행정동) %>% summarise(대규모점포수 = sum(count))\n",
        "bigstore <- as.data.frame(bigstore)\n",
        "bigstore <- arrange(bigstore, bigstore$행정동)\n",
        "bigstore"
      ],
      "execution_count": 38,
      "outputs": [
        {
          "output_type": "display_data",
          "data": {
            "text/plain": [
              "   행정동    대규모점포수\n",
              "1  금암1동   1           \n",
              "2  노송동    2           \n",
              "3  덕진동    1           \n",
              "4  삼천3동   2           \n",
              "5  서신동    4           \n",
              "6  송천1동   3           \n",
              "7  여의동    3           \n",
              "8  우아1동   1           \n",
              "9  인후1동   1           \n",
              "10 인후2동   1           \n",
              "11 인후3동   1           \n",
              "12 중앙동    4           \n",
              "13 중화산1동 1           \n",
              "14 평화2동   3           \n",
              "15 풍남동    2           \n",
              "16 호성동    1           \n",
              "17 효자1동   2           \n",
              "18 효자3동   2           \n",
              "19 효자4동   8           "
            ],
            "text/latex": "A data.frame: 19 × 2\n\\begin{tabular}{ll}\n 행정동 & 대규모점포수\\\\\n <chr> & <dbl>\\\\\n\\hline\n\t 금암1동   & 1\\\\\n\t 노송동    & 2\\\\\n\t 덕진동    & 1\\\\\n\t 삼천3동   & 2\\\\\n\t 서신동    & 4\\\\\n\t 송천1동   & 3\\\\\n\t 여의동    & 3\\\\\n\t 우아1동   & 1\\\\\n\t 인후1동   & 1\\\\\n\t 인후2동   & 1\\\\\n\t 인후3동   & 1\\\\\n\t 중앙동    & 4\\\\\n\t 중화산1동 & 1\\\\\n\t 평화2동   & 3\\\\\n\t 풍남동    & 2\\\\\n\t 호성동    & 1\\\\\n\t 효자1동   & 2\\\\\n\t 효자3동   & 2\\\\\n\t 효자4동   & 8\\\\\n\\end{tabular}\n",
            "text/markdown": "\nA data.frame: 19 × 2\n\n| 행정동 &lt;chr&gt; | 대규모점포수 &lt;dbl&gt; |\n|---|---|\n| 금암1동   | 1 |\n| 노송동    | 2 |\n| 덕진동    | 1 |\n| 삼천3동   | 2 |\n| 서신동    | 4 |\n| 송천1동   | 3 |\n| 여의동    | 3 |\n| 우아1동   | 1 |\n| 인후1동   | 1 |\n| 인후2동   | 1 |\n| 인후3동   | 1 |\n| 중앙동    | 4 |\n| 중화산1동 | 1 |\n| 평화2동   | 3 |\n| 풍남동    | 2 |\n| 호성동    | 1 |\n| 효자1동   | 2 |\n| 효자3동   | 2 |\n| 효자4동   | 8 |\n\n",
            "text/html": [
              "<table class=\"dataframe\">\n",
              "<caption>A data.frame: 19 × 2</caption>\n",
              "<thead>\n",
              "\t<tr><th scope=col>행정동</th><th scope=col>대규모점포수</th></tr>\n",
              "\t<tr><th scope=col>&lt;chr&gt;</th><th scope=col>&lt;dbl&gt;</th></tr>\n",
              "</thead>\n",
              "<tbody>\n",
              "\t<tr><td>금암1동  </td><td>1</td></tr>\n",
              "\t<tr><td>노송동   </td><td>2</td></tr>\n",
              "\t<tr><td>덕진동   </td><td>1</td></tr>\n",
              "\t<tr><td>삼천3동  </td><td>2</td></tr>\n",
              "\t<tr><td>서신동   </td><td>4</td></tr>\n",
              "\t<tr><td>송천1동  </td><td>3</td></tr>\n",
              "\t<tr><td>여의동   </td><td>3</td></tr>\n",
              "\t<tr><td>우아1동  </td><td>1</td></tr>\n",
              "\t<tr><td>인후1동  </td><td>1</td></tr>\n",
              "\t<tr><td>인후2동  </td><td>1</td></tr>\n",
              "\t<tr><td>인후3동  </td><td>1</td></tr>\n",
              "\t<tr><td>중앙동   </td><td>4</td></tr>\n",
              "\t<tr><td>중화산1동</td><td>1</td></tr>\n",
              "\t<tr><td>평화2동  </td><td>3</td></tr>\n",
              "\t<tr><td>풍남동   </td><td>2</td></tr>\n",
              "\t<tr><td>호성동   </td><td>1</td></tr>\n",
              "\t<tr><td>효자1동  </td><td>2</td></tr>\n",
              "\t<tr><td>효자3동  </td><td>2</td></tr>\n",
              "\t<tr><td>효자4동  </td><td>8</td></tr>\n",
              "</tbody>\n",
              "</table>\n"
            ]
          },
          "metadata": {
            "tags": []
          }
        }
      ]
    },
    {
      "cell_type": "code",
      "metadata": {
        "id": "5rxUoEBS_Ofj",
        "outputId": "0f08b42b-7006-42cf-b9a6-66e82c6fe3a8",
        "colab": {
          "base_uri": "https://localhost:8080/",
          "height": 139
        }
      },
      "source": [
        "table(bigstore$행정동 %in% jjdong)\n",
        "table(jjdong %in% bigstore$행정동)\n",
        "\n",
        "\n",
        "jjdong[jjdong %in% bigstore$행정동 == FALSE]"
      ],
      "execution_count": 39,
      "outputs": [
        {
          "output_type": "display_data",
          "data": {
            "text/plain": [
              "\n",
              "TRUE \n",
              "  19 "
            ]
          },
          "metadata": {
            "tags": []
          }
        },
        {
          "output_type": "display_data",
          "data": {
            "text/plain": [
              "\n",
              "FALSE  TRUE \n",
              "   16    19 "
            ]
          },
          "metadata": {
            "tags": []
          }
        },
        {
          "output_type": "display_data",
          "data": {
            "text/plain": [
              " [1] \"금암2동\"   \"동서학동\"  \"삼천1동\"   \"삼천2동\"   \"서서학동\"  \"송천2동\"  \n",
              " [7] \"완산동\"    \"우아2동\"   \"조촌동\"    \"중화산2동\" \"진북동\"    \"팔복동\"   \n",
              "[13] \"평화1동\"   \"혁신동\"    \"효자2동\"   \"효자5동\"  "
            ],
            "text/latex": "\\begin{enumerate*}\n\\item '금암2동'\n\\item '동서학동'\n\\item '삼천1동'\n\\item '삼천2동'\n\\item '서서학동'\n\\item '송천2동'\n\\item '완산동'\n\\item '우아2동'\n\\item '조촌동'\n\\item '중화산2동'\n\\item '진북동'\n\\item '팔복동'\n\\item '평화1동'\n\\item '혁신동'\n\\item '효자2동'\n\\item '효자5동'\n\\end{enumerate*}\n",
            "text/markdown": "1. '금암2동'\n2. '동서학동'\n3. '삼천1동'\n4. '삼천2동'\n5. '서서학동'\n6. '송천2동'\n7. '완산동'\n8. '우아2동'\n9. '조촌동'\n10. '중화산2동'\n11. '진북동'\n12. '팔복동'\n13. '평화1동'\n14. '혁신동'\n15. '효자2동'\n16. '효자5동'\n\n\n",
            "text/html": [
              "<style>\n",
              ".list-inline {list-style: none; margin:0; padding: 0}\n",
              ".list-inline>li {display: inline-block}\n",
              ".list-inline>li:not(:last-child)::after {content: \"\\00b7\"; padding: 0 .5ex}\n",
              "</style>\n",
              "<ol class=list-inline><li>'금암2동'</li><li>'동서학동'</li><li>'삼천1동'</li><li>'삼천2동'</li><li>'서서학동'</li><li>'송천2동'</li><li>'완산동'</li><li>'우아2동'</li><li>'조촌동'</li><li>'중화산2동'</li><li>'진북동'</li><li>'팔복동'</li><li>'평화1동'</li><li>'혁신동'</li><li>'효자2동'</li><li>'효자5동'</li></ol>\n"
            ]
          },
          "metadata": {
            "tags": []
          }
        }
      ]
    },
    {
      "cell_type": "code",
      "metadata": {
        "id": "qwX1gyfk_RwO",
        "outputId": "5e57d058-32b4-4b56-aaef-6c1118d16ff0",
        "colab": {
          "base_uri": "https://localhost:8080/",
          "height": 1000
        }
      },
      "source": [
        "add <- data.frame(행정동 = jjdong[jjdong %in% bigstore$행정동 == FALSE], 대규모점포수 = rep(0, length(jjdong[jjdong %in% bigstore$행정동 == FALSE])))\n",
        "bigstore <- rbind(bigstore, add)\n",
        "bigstore <- arrange(bigstore, bigstore$행정동)\n",
        "bigstore"
      ],
      "execution_count": 40,
      "outputs": [
        {
          "output_type": "display_data",
          "data": {
            "text/plain": [
              "   행정동    대규모점포수\n",
              "1  금암1동   1           \n",
              "2  금암2동   0           \n",
              "3  노송동    2           \n",
              "4  덕진동    1           \n",
              "5  동서학동  0           \n",
              "6  삼천1동   0           \n",
              "7  삼천2동   0           \n",
              "8  삼천3동   2           \n",
              "9  서서학동  0           \n",
              "10 서신동    4           \n",
              "11 송천1동   3           \n",
              "12 송천2동   0           \n",
              "13 여의동    3           \n",
              "14 완산동    0           \n",
              "15 우아1동   1           \n",
              "16 우아2동   0           \n",
              "17 인후1동   1           \n",
              "18 인후2동   1           \n",
              "19 인후3동   1           \n",
              "20 조촌동    0           \n",
              "21 중앙동    4           \n",
              "22 중화산1동 1           \n",
              "23 중화산2동 0           \n",
              "24 진북동    0           \n",
              "25 팔복동    0           \n",
              "26 평화1동   0           \n",
              "27 평화2동   3           \n",
              "28 풍남동    2           \n",
              "29 혁신동    0           \n",
              "30 호성동    1           \n",
              "31 효자1동   2           \n",
              "32 효자2동   0           \n",
              "33 효자3동   2           \n",
              "34 효자4동   8           \n",
              "35 효자5동   0           "
            ],
            "text/latex": "A data.frame: 35 × 2\n\\begin{tabular}{ll}\n 행정동 & 대규모점포수\\\\\n <chr> & <dbl>\\\\\n\\hline\n\t 금암1동   & 1\\\\\n\t 금암2동   & 0\\\\\n\t 노송동    & 2\\\\\n\t 덕진동    & 1\\\\\n\t 동서학동  & 0\\\\\n\t 삼천1동   & 0\\\\\n\t 삼천2동   & 0\\\\\n\t 삼천3동   & 2\\\\\n\t 서서학동  & 0\\\\\n\t 서신동    & 4\\\\\n\t 송천1동   & 3\\\\\n\t 송천2동   & 0\\\\\n\t 여의동    & 3\\\\\n\t 완산동    & 0\\\\\n\t 우아1동   & 1\\\\\n\t 우아2동   & 0\\\\\n\t 인후1동   & 1\\\\\n\t 인후2동   & 1\\\\\n\t 인후3동   & 1\\\\\n\t 조촌동    & 0\\\\\n\t 중앙동    & 4\\\\\n\t 중화산1동 & 1\\\\\n\t 중화산2동 & 0\\\\\n\t 진북동    & 0\\\\\n\t 팔복동    & 0\\\\\n\t 평화1동   & 0\\\\\n\t 평화2동   & 3\\\\\n\t 풍남동    & 2\\\\\n\t 혁신동    & 0\\\\\n\t 호성동    & 1\\\\\n\t 효자1동   & 2\\\\\n\t 효자2동   & 0\\\\\n\t 효자3동   & 2\\\\\n\t 효자4동   & 8\\\\\n\t 효자5동   & 0\\\\\n\\end{tabular}\n",
            "text/markdown": "\nA data.frame: 35 × 2\n\n| 행정동 &lt;chr&gt; | 대규모점포수 &lt;dbl&gt; |\n|---|---|\n| 금암1동   | 1 |\n| 금암2동   | 0 |\n| 노송동    | 2 |\n| 덕진동    | 1 |\n| 동서학동  | 0 |\n| 삼천1동   | 0 |\n| 삼천2동   | 0 |\n| 삼천3동   | 2 |\n| 서서학동  | 0 |\n| 서신동    | 4 |\n| 송천1동   | 3 |\n| 송천2동   | 0 |\n| 여의동    | 3 |\n| 완산동    | 0 |\n| 우아1동   | 1 |\n| 우아2동   | 0 |\n| 인후1동   | 1 |\n| 인후2동   | 1 |\n| 인후3동   | 1 |\n| 조촌동    | 0 |\n| 중앙동    | 4 |\n| 중화산1동 | 1 |\n| 중화산2동 | 0 |\n| 진북동    | 0 |\n| 팔복동    | 0 |\n| 평화1동   | 0 |\n| 평화2동   | 3 |\n| 풍남동    | 2 |\n| 혁신동    | 0 |\n| 호성동    | 1 |\n| 효자1동   | 2 |\n| 효자2동   | 0 |\n| 효자3동   | 2 |\n| 효자4동   | 8 |\n| 효자5동   | 0 |\n\n",
            "text/html": [
              "<table class=\"dataframe\">\n",
              "<caption>A data.frame: 35 × 2</caption>\n",
              "<thead>\n",
              "\t<tr><th scope=col>행정동</th><th scope=col>대규모점포수</th></tr>\n",
              "\t<tr><th scope=col>&lt;chr&gt;</th><th scope=col>&lt;dbl&gt;</th></tr>\n",
              "</thead>\n",
              "<tbody>\n",
              "\t<tr><td>금암1동  </td><td>1</td></tr>\n",
              "\t<tr><td>금암2동  </td><td>0</td></tr>\n",
              "\t<tr><td>노송동   </td><td>2</td></tr>\n",
              "\t<tr><td>덕진동   </td><td>1</td></tr>\n",
              "\t<tr><td>동서학동 </td><td>0</td></tr>\n",
              "\t<tr><td>삼천1동  </td><td>0</td></tr>\n",
              "\t<tr><td>삼천2동  </td><td>0</td></tr>\n",
              "\t<tr><td>삼천3동  </td><td>2</td></tr>\n",
              "\t<tr><td>서서학동 </td><td>0</td></tr>\n",
              "\t<tr><td>서신동   </td><td>4</td></tr>\n",
              "\t<tr><td>송천1동  </td><td>3</td></tr>\n",
              "\t<tr><td>송천2동  </td><td>0</td></tr>\n",
              "\t<tr><td>여의동   </td><td>3</td></tr>\n",
              "\t<tr><td>완산동   </td><td>0</td></tr>\n",
              "\t<tr><td>우아1동  </td><td>1</td></tr>\n",
              "\t<tr><td>우아2동  </td><td>0</td></tr>\n",
              "\t<tr><td>인후1동  </td><td>1</td></tr>\n",
              "\t<tr><td>인후2동  </td><td>1</td></tr>\n",
              "\t<tr><td>인후3동  </td><td>1</td></tr>\n",
              "\t<tr><td>조촌동   </td><td>0</td></tr>\n",
              "\t<tr><td>중앙동   </td><td>4</td></tr>\n",
              "\t<tr><td>중화산1동</td><td>1</td></tr>\n",
              "\t<tr><td>중화산2동</td><td>0</td></tr>\n",
              "\t<tr><td>진북동   </td><td>0</td></tr>\n",
              "\t<tr><td>팔복동   </td><td>0</td></tr>\n",
              "\t<tr><td>평화1동  </td><td>0</td></tr>\n",
              "\t<tr><td>평화2동  </td><td>3</td></tr>\n",
              "\t<tr><td>풍남동   </td><td>2</td></tr>\n",
              "\t<tr><td>혁신동   </td><td>0</td></tr>\n",
              "\t<tr><td>호성동   </td><td>1</td></tr>\n",
              "\t<tr><td>효자1동  </td><td>2</td></tr>\n",
              "\t<tr><td>효자2동  </td><td>0</td></tr>\n",
              "\t<tr><td>효자3동  </td><td>2</td></tr>\n",
              "\t<tr><td>효자4동  </td><td>8</td></tr>\n",
              "\t<tr><td>효자5동  </td><td>0</td></tr>\n",
              "</tbody>\n",
              "</table>\n"
            ]
          },
          "metadata": {
            "tags": []
          }
        }
      ]
    },
    {
      "cell_type": "markdown",
      "metadata": {
        "id": "xeTlygNnD_uo"
      },
      "source": [
        "## 편의점 수"
      ]
    },
    {
      "cell_type": "code",
      "metadata": {
        "id": "LBBggsQY_UpD",
        "outputId": "63515c69-959f-4074-92b8-67efcd5751b0",
        "colab": {
          "base_uri": "https://localhost:8080/",
          "height": 377
        }
      },
      "source": [
        "str(cvstore)\n",
        "head(cvstore)"
      ],
      "execution_count": 41,
      "outputs": [
        {
          "output_type": "stream",
          "text": [
            "'data.frame':\t31 obs. of  5 variables:\n",
            " $ 구         : chr  \"완산구\" \"완산구\" \"완산구\" \"완산구\" ...\n",
            " $ 동         : chr  \"효자5동\" \"효자4동\" \"서신동\" \"평화2동\" ...\n",
            " $ 순위.구.내.: int  1 2 3 4 5 6 7 8 9 10 ...\n",
            " $ 편의점수   : int  60 36 31 21 20 19 17 16 13 9 ...\n",
            " $ 비율...    : num  21.7 13 11.2 7.6 7.2 6.9 6.2 5.8 4.7 3.3 ...\n"
          ],
          "name": "stdout"
        },
        {
          "output_type": "display_data",
          "data": {
            "text/plain": [
              "  구     동        순위.구.내. 편의점수 비율...\n",
              "1 완산구 효자5동   1           60       21.7   \n",
              "2 완산구 효자4동   2           36       13.0   \n",
              "3 완산구 서신동    3           31       11.2   \n",
              "4 완산구 평화2동   4           21        7.6   \n",
              "5 완산구 중화산2동 5           20        7.2   \n",
              "6 완산구 중화산1동 6           19        6.9   "
            ],
            "text/latex": "A data.frame: 6 × 5\n\\begin{tabular}{r|lllll}\n  & 구 & 동 & 순위.구.내. & 편의점수 & 비율...\\\\\n  & <chr> & <chr> & <int> & <int> & <dbl>\\\\\n\\hline\n\t1 & 완산구 & 효자5동   & 1 & 60 & 21.7\\\\\n\t2 & 완산구 & 효자4동   & 2 & 36 & 13.0\\\\\n\t3 & 완산구 & 서신동    & 3 & 31 & 11.2\\\\\n\t4 & 완산구 & 평화2동   & 4 & 21 &  7.6\\\\\n\t5 & 완산구 & 중화산2동 & 5 & 20 &  7.2\\\\\n\t6 & 완산구 & 중화산1동 & 6 & 19 &  6.9\\\\\n\\end{tabular}\n",
            "text/markdown": "\nA data.frame: 6 × 5\n\n| <!--/--> | 구 &lt;chr&gt; | 동 &lt;chr&gt; | 순위.구.내. &lt;int&gt; | 편의점수 &lt;int&gt; | 비율... &lt;dbl&gt; |\n|---|---|---|---|---|---|\n| 1 | 완산구 | 효자5동   | 1 | 60 | 21.7 |\n| 2 | 완산구 | 효자4동   | 2 | 36 | 13.0 |\n| 3 | 완산구 | 서신동    | 3 | 31 | 11.2 |\n| 4 | 완산구 | 평화2동   | 4 | 21 |  7.6 |\n| 5 | 완산구 | 중화산2동 | 5 | 20 |  7.2 |\n| 6 | 완산구 | 중화산1동 | 6 | 19 |  6.9 |\n\n",
            "text/html": [
              "<table class=\"dataframe\">\n",
              "<caption>A data.frame: 6 × 5</caption>\n",
              "<thead>\n",
              "\t<tr><th></th><th scope=col>구</th><th scope=col>동</th><th scope=col>순위.구.내.</th><th scope=col>편의점수</th><th scope=col>비율...</th></tr>\n",
              "\t<tr><th></th><th scope=col>&lt;chr&gt;</th><th scope=col>&lt;chr&gt;</th><th scope=col>&lt;int&gt;</th><th scope=col>&lt;int&gt;</th><th scope=col>&lt;dbl&gt;</th></tr>\n",
              "</thead>\n",
              "<tbody>\n",
              "\t<tr><th scope=row>1</th><td>완산구</td><td>효자5동  </td><td>1</td><td>60</td><td>21.7</td></tr>\n",
              "\t<tr><th scope=row>2</th><td>완산구</td><td>효자4동  </td><td>2</td><td>36</td><td>13.0</td></tr>\n",
              "\t<tr><th scope=row>3</th><td>완산구</td><td>서신동   </td><td>3</td><td>31</td><td>11.2</td></tr>\n",
              "\t<tr><th scope=row>4</th><td>완산구</td><td>평화2동  </td><td>4</td><td>21</td><td> 7.6</td></tr>\n",
              "\t<tr><th scope=row>5</th><td>완산구</td><td>중화산2동</td><td>5</td><td>20</td><td> 7.2</td></tr>\n",
              "\t<tr><th scope=row>6</th><td>완산구</td><td>중화산1동</td><td>6</td><td>19</td><td> 6.9</td></tr>\n",
              "</tbody>\n",
              "</table>\n"
            ]
          },
          "metadata": {
            "tags": []
          }
        }
      ]
    },
    {
      "cell_type": "code",
      "metadata": {
        "id": "UnPCRXAR_XrW",
        "outputId": "f5670cc5-c6ba-4803-a530-694f6a1cefda",
        "colab": {
          "base_uri": "https://localhost:8080/",
          "height": 1000
        }
      },
      "source": [
        "cvstore <- cvstore[,c(2,4)]\n",
        "names(cvstore)[1] <- \"행정동\"\n",
        "cvstore <- arrange(cvstore, cvstore$행정동)\n",
        "cvstore"
      ],
      "execution_count": 42,
      "outputs": [
        {
          "output_type": "display_data",
          "data": {
            "text/plain": [
              "   행정동    편의점수\n",
              "1  금암1동   25      \n",
              "2  금암2동    8      \n",
              "3  노송동     5      \n",
              "4  덕진동    29      \n",
              "5  동서학동   6      \n",
              "6  삼천2동    9      \n",
              "7  삼천3동   13      \n",
              "8  서신동    31      \n",
              "9  송천1동   30      \n",
              "10 송천2동   14      \n",
              "11 여의동    22      \n",
              "12 우아1동   14      \n",
              "13 우아2동   36      \n",
              "14 인후1동    8      \n",
              "15 인후2동    7      \n",
              "16 인후3동   30      \n",
              "17 조촌동     7      \n",
              "18 중앙동    17      \n",
              "19 중화산1동 19      \n",
              "20 중화산2동 20      \n",
              "21 진북동     8      \n",
              "22 팔복동    10      \n",
              "23 평화1동    8      \n",
              "24 평화2동   21      \n",
              "25 풍남동    16      \n",
              "26 혁신동    11      \n",
              "27 호성동     9      \n",
              "28 효자2동    6      \n",
              "29 효자3동    9      \n",
              "30 효자4동   36      \n",
              "31 효자5동   60      "
            ],
            "text/latex": "A data.frame: 31 × 2\n\\begin{tabular}{ll}\n 행정동 & 편의점수\\\\\n <chr> & <int>\\\\\n\\hline\n\t 금암1동   & 25\\\\\n\t 금암2동   &  8\\\\\n\t 노송동    &  5\\\\\n\t 덕진동    & 29\\\\\n\t 동서학동  &  6\\\\\n\t 삼천2동   &  9\\\\\n\t 삼천3동   & 13\\\\\n\t 서신동    & 31\\\\\n\t 송천1동   & 30\\\\\n\t 송천2동   & 14\\\\\n\t 여의동    & 22\\\\\n\t 우아1동   & 14\\\\\n\t 우아2동   & 36\\\\\n\t 인후1동   &  8\\\\\n\t 인후2동   &  7\\\\\n\t 인후3동   & 30\\\\\n\t 조촌동    &  7\\\\\n\t 중앙동    & 17\\\\\n\t 중화산1동 & 19\\\\\n\t 중화산2동 & 20\\\\\n\t 진북동    &  8\\\\\n\t 팔복동    & 10\\\\\n\t 평화1동   &  8\\\\\n\t 평화2동   & 21\\\\\n\t 풍남동    & 16\\\\\n\t 혁신동    & 11\\\\\n\t 호성동    &  9\\\\\n\t 효자2동   &  6\\\\\n\t 효자3동   &  9\\\\\n\t 효자4동   & 36\\\\\n\t 효자5동   & 60\\\\\n\\end{tabular}\n",
            "text/markdown": "\nA data.frame: 31 × 2\n\n| 행정동 &lt;chr&gt; | 편의점수 &lt;int&gt; |\n|---|---|\n| 금암1동   | 25 |\n| 금암2동   |  8 |\n| 노송동    |  5 |\n| 덕진동    | 29 |\n| 동서학동  |  6 |\n| 삼천2동   |  9 |\n| 삼천3동   | 13 |\n| 서신동    | 31 |\n| 송천1동   | 30 |\n| 송천2동   | 14 |\n| 여의동    | 22 |\n| 우아1동   | 14 |\n| 우아2동   | 36 |\n| 인후1동   |  8 |\n| 인후2동   |  7 |\n| 인후3동   | 30 |\n| 조촌동    |  7 |\n| 중앙동    | 17 |\n| 중화산1동 | 19 |\n| 중화산2동 | 20 |\n| 진북동    |  8 |\n| 팔복동    | 10 |\n| 평화1동   |  8 |\n| 평화2동   | 21 |\n| 풍남동    | 16 |\n| 혁신동    | 11 |\n| 호성동    |  9 |\n| 효자2동   |  6 |\n| 효자3동   |  9 |\n| 효자4동   | 36 |\n| 효자5동   | 60 |\n\n",
            "text/html": [
              "<table class=\"dataframe\">\n",
              "<caption>A data.frame: 31 × 2</caption>\n",
              "<thead>\n",
              "\t<tr><th scope=col>행정동</th><th scope=col>편의점수</th></tr>\n",
              "\t<tr><th scope=col>&lt;chr&gt;</th><th scope=col>&lt;int&gt;</th></tr>\n",
              "</thead>\n",
              "<tbody>\n",
              "\t<tr><td>금암1동  </td><td>25</td></tr>\n",
              "\t<tr><td>금암2동  </td><td> 8</td></tr>\n",
              "\t<tr><td>노송동   </td><td> 5</td></tr>\n",
              "\t<tr><td>덕진동   </td><td>29</td></tr>\n",
              "\t<tr><td>동서학동 </td><td> 6</td></tr>\n",
              "\t<tr><td>삼천2동  </td><td> 9</td></tr>\n",
              "\t<tr><td>삼천3동  </td><td>13</td></tr>\n",
              "\t<tr><td>서신동   </td><td>31</td></tr>\n",
              "\t<tr><td>송천1동  </td><td>30</td></tr>\n",
              "\t<tr><td>송천2동  </td><td>14</td></tr>\n",
              "\t<tr><td>여의동   </td><td>22</td></tr>\n",
              "\t<tr><td>우아1동  </td><td>14</td></tr>\n",
              "\t<tr><td>우아2동  </td><td>36</td></tr>\n",
              "\t<tr><td>인후1동  </td><td> 8</td></tr>\n",
              "\t<tr><td>인후2동  </td><td> 7</td></tr>\n",
              "\t<tr><td>인후3동  </td><td>30</td></tr>\n",
              "\t<tr><td>조촌동   </td><td> 7</td></tr>\n",
              "\t<tr><td>중앙동   </td><td>17</td></tr>\n",
              "\t<tr><td>중화산1동</td><td>19</td></tr>\n",
              "\t<tr><td>중화산2동</td><td>20</td></tr>\n",
              "\t<tr><td>진북동   </td><td> 8</td></tr>\n",
              "\t<tr><td>팔복동   </td><td>10</td></tr>\n",
              "\t<tr><td>평화1동  </td><td> 8</td></tr>\n",
              "\t<tr><td>평화2동  </td><td>21</td></tr>\n",
              "\t<tr><td>풍남동   </td><td>16</td></tr>\n",
              "\t<tr><td>혁신동   </td><td>11</td></tr>\n",
              "\t<tr><td>호성동   </td><td> 9</td></tr>\n",
              "\t<tr><td>효자2동  </td><td> 6</td></tr>\n",
              "\t<tr><td>효자3동  </td><td> 9</td></tr>\n",
              "\t<tr><td>효자4동  </td><td>36</td></tr>\n",
              "\t<tr><td>효자5동  </td><td>60</td></tr>\n",
              "</tbody>\n",
              "</table>\n"
            ]
          },
          "metadata": {
            "tags": []
          }
        }
      ]
    },
    {
      "cell_type": "code",
      "metadata": {
        "id": "QNQfWG-Y_bug",
        "outputId": "225ac81d-6895-4251-91c9-083bac94cd2a",
        "colab": {
          "base_uri": "https://localhost:8080/",
          "height": 139
        }
      },
      "source": [
        "table(cvstore$행정동 %in% jjdong)\n",
        "table(jjdong %in% cvstore$행정동)\n",
        "\n",
        "jjdong[jjdong %in% cvstore$행정동 == FALSE] #cvstore에는 없는 jjdong의 행정동"
      ],
      "execution_count": 44,
      "outputs": [
        {
          "output_type": "display_data",
          "data": {
            "text/plain": [
              "\n",
              "TRUE \n",
              "  31 "
            ]
          },
          "metadata": {
            "tags": []
          }
        },
        {
          "output_type": "display_data",
          "data": {
            "text/plain": [
              "\n",
              "FALSE  TRUE \n",
              "    4    31 "
            ]
          },
          "metadata": {
            "tags": []
          }
        },
        {
          "output_type": "display_data",
          "data": {
            "text/plain": [
              "character(0)"
            ],
            "text/latex": "",
            "text/markdown": "",
            "text/html": [
              ""
            ]
          },
          "metadata": {
            "tags": []
          }
        },
        {
          "output_type": "display_data",
          "data": {
            "text/plain": [
              "[1] \"삼천1동\"  \"서서학동\" \"완산동\"   \"효자1동\" "
            ],
            "text/latex": "\\begin{enumerate*}\n\\item '삼천1동'\n\\item '서서학동'\n\\item '완산동'\n\\item '효자1동'\n\\end{enumerate*}\n",
            "text/markdown": "1. '삼천1동'\n2. '서서학동'\n3. '완산동'\n4. '효자1동'\n\n\n",
            "text/html": [
              "<style>\n",
              ".list-inline {list-style: none; margin:0; padding: 0}\n",
              ".list-inline>li {display: inline-block}\n",
              ".list-inline>li:not(:last-child)::after {content: \"\\00b7\"; padding: 0 .5ex}\n",
              "</style>\n",
              "<ol class=list-inline><li>'삼천1동'</li><li>'서서학동'</li><li>'완산동'</li><li>'효자1동'</li></ol>\n"
            ]
          },
          "metadata": {
            "tags": []
          }
        }
      ]
    },
    {
      "cell_type": "code",
      "metadata": {
        "id": "3Jn20LEl_ln4",
        "outputId": "3dd9fab2-cd55-4d5c-9a5b-4d3d32a67c57",
        "colab": {
          "base_uri": "https://localhost:8080/",
          "height": 1000
        }
      },
      "source": [
        "add <- data.frame(행정동 = jjdong[jjdong %in% cvstore$행정동 == FALSE], 편의점수 = rep(NA, length(jjdong[jjdong %in% cvstore$행정동 == FALSE])))\n",
        "cvstore<- rbind(cvstore, add)\n",
        "cvstore <- arrange(cvstore, cvstore$행정동)\n",
        "cvstore"
      ],
      "execution_count": 45,
      "outputs": [
        {
          "output_type": "display_data",
          "data": {
            "text/plain": [
              "   행정동    편의점수\n",
              "1  금암1동   25      \n",
              "2  금암2동    8      \n",
              "3  노송동     5      \n",
              "4  덕진동    29      \n",
              "5  동서학동   6      \n",
              "6  삼천1동   NA      \n",
              "7  삼천2동    9      \n",
              "8  삼천3동   13      \n",
              "9  서서학동  NA      \n",
              "10 서신동    31      \n",
              "11 송천1동   30      \n",
              "12 송천2동   14      \n",
              "13 여의동    22      \n",
              "14 완산동    NA      \n",
              "15 우아1동   14      \n",
              "16 우아2동   36      \n",
              "17 인후1동    8      \n",
              "18 인후2동    7      \n",
              "19 인후3동   30      \n",
              "20 조촌동     7      \n",
              "21 중앙동    17      \n",
              "22 중화산1동 19      \n",
              "23 중화산2동 20      \n",
              "24 진북동     8      \n",
              "25 팔복동    10      \n",
              "26 평화1동    8      \n",
              "27 평화2동   21      \n",
              "28 풍남동    16      \n",
              "29 혁신동    11      \n",
              "30 호성동     9      \n",
              "31 효자1동   NA      \n",
              "32 효자2동    6      \n",
              "33 효자3동    9      \n",
              "34 효자4동   36      \n",
              "35 효자5동   60      "
            ],
            "text/latex": "A data.frame: 35 × 2\n\\begin{tabular}{ll}\n 행정동 & 편의점수\\\\\n <chr> & <int>\\\\\n\\hline\n\t 금암1동   & 25\\\\\n\t 금암2동   &  8\\\\\n\t 노송동    &  5\\\\\n\t 덕진동    & 29\\\\\n\t 동서학동  &  6\\\\\n\t 삼천1동   & NA\\\\\n\t 삼천2동   &  9\\\\\n\t 삼천3동   & 13\\\\\n\t 서서학동  & NA\\\\\n\t 서신동    & 31\\\\\n\t 송천1동   & 30\\\\\n\t 송천2동   & 14\\\\\n\t 여의동    & 22\\\\\n\t 완산동    & NA\\\\\n\t 우아1동   & 14\\\\\n\t 우아2동   & 36\\\\\n\t 인후1동   &  8\\\\\n\t 인후2동   &  7\\\\\n\t 인후3동   & 30\\\\\n\t 조촌동    &  7\\\\\n\t 중앙동    & 17\\\\\n\t 중화산1동 & 19\\\\\n\t 중화산2동 & 20\\\\\n\t 진북동    &  8\\\\\n\t 팔복동    & 10\\\\\n\t 평화1동   &  8\\\\\n\t 평화2동   & 21\\\\\n\t 풍남동    & 16\\\\\n\t 혁신동    & 11\\\\\n\t 호성동    &  9\\\\\n\t 효자1동   & NA\\\\\n\t 효자2동   &  6\\\\\n\t 효자3동   &  9\\\\\n\t 효자4동   & 36\\\\\n\t 효자5동   & 60\\\\\n\\end{tabular}\n",
            "text/markdown": "\nA data.frame: 35 × 2\n\n| 행정동 &lt;chr&gt; | 편의점수 &lt;int&gt; |\n|---|---|\n| 금암1동   | 25 |\n| 금암2동   |  8 |\n| 노송동    |  5 |\n| 덕진동    | 29 |\n| 동서학동  |  6 |\n| 삼천1동   | NA |\n| 삼천2동   |  9 |\n| 삼천3동   | 13 |\n| 서서학동  | NA |\n| 서신동    | 31 |\n| 송천1동   | 30 |\n| 송천2동   | 14 |\n| 여의동    | 22 |\n| 완산동    | NA |\n| 우아1동   | 14 |\n| 우아2동   | 36 |\n| 인후1동   |  8 |\n| 인후2동   |  7 |\n| 인후3동   | 30 |\n| 조촌동    |  7 |\n| 중앙동    | 17 |\n| 중화산1동 | 19 |\n| 중화산2동 | 20 |\n| 진북동    |  8 |\n| 팔복동    | 10 |\n| 평화1동   |  8 |\n| 평화2동   | 21 |\n| 풍남동    | 16 |\n| 혁신동    | 11 |\n| 호성동    |  9 |\n| 효자1동   | NA |\n| 효자2동   |  6 |\n| 효자3동   |  9 |\n| 효자4동   | 36 |\n| 효자5동   | 60 |\n\n",
            "text/html": [
              "<table class=\"dataframe\">\n",
              "<caption>A data.frame: 35 × 2</caption>\n",
              "<thead>\n",
              "\t<tr><th scope=col>행정동</th><th scope=col>편의점수</th></tr>\n",
              "\t<tr><th scope=col>&lt;chr&gt;</th><th scope=col>&lt;int&gt;</th></tr>\n",
              "</thead>\n",
              "<tbody>\n",
              "\t<tr><td>금암1동  </td><td>25</td></tr>\n",
              "\t<tr><td>금암2동  </td><td> 8</td></tr>\n",
              "\t<tr><td>노송동   </td><td> 5</td></tr>\n",
              "\t<tr><td>덕진동   </td><td>29</td></tr>\n",
              "\t<tr><td>동서학동 </td><td> 6</td></tr>\n",
              "\t<tr><td>삼천1동  </td><td>NA</td></tr>\n",
              "\t<tr><td>삼천2동  </td><td> 9</td></tr>\n",
              "\t<tr><td>삼천3동  </td><td>13</td></tr>\n",
              "\t<tr><td>서서학동 </td><td>NA</td></tr>\n",
              "\t<tr><td>서신동   </td><td>31</td></tr>\n",
              "\t<tr><td>송천1동  </td><td>30</td></tr>\n",
              "\t<tr><td>송천2동  </td><td>14</td></tr>\n",
              "\t<tr><td>여의동   </td><td>22</td></tr>\n",
              "\t<tr><td>완산동   </td><td>NA</td></tr>\n",
              "\t<tr><td>우아1동  </td><td>14</td></tr>\n",
              "\t<tr><td>우아2동  </td><td>36</td></tr>\n",
              "\t<tr><td>인후1동  </td><td> 8</td></tr>\n",
              "\t<tr><td>인후2동  </td><td> 7</td></tr>\n",
              "\t<tr><td>인후3동  </td><td>30</td></tr>\n",
              "\t<tr><td>조촌동   </td><td> 7</td></tr>\n",
              "\t<tr><td>중앙동   </td><td>17</td></tr>\n",
              "\t<tr><td>중화산1동</td><td>19</td></tr>\n",
              "\t<tr><td>중화산2동</td><td>20</td></tr>\n",
              "\t<tr><td>진북동   </td><td> 8</td></tr>\n",
              "\t<tr><td>팔복동   </td><td>10</td></tr>\n",
              "\t<tr><td>평화1동  </td><td> 8</td></tr>\n",
              "\t<tr><td>평화2동  </td><td>21</td></tr>\n",
              "\t<tr><td>풍남동   </td><td>16</td></tr>\n",
              "\t<tr><td>혁신동   </td><td>11</td></tr>\n",
              "\t<tr><td>호성동   </td><td> 9</td></tr>\n",
              "\t<tr><td>효자1동  </td><td>NA</td></tr>\n",
              "\t<tr><td>효자2동  </td><td> 6</td></tr>\n",
              "\t<tr><td>효자3동  </td><td> 9</td></tr>\n",
              "\t<tr><td>효자4동  </td><td>36</td></tr>\n",
              "\t<tr><td>효자5동  </td><td>60</td></tr>\n",
              "</tbody>\n",
              "</table>\n"
            ]
          },
          "metadata": {
            "tags": []
          }
        }
      ]
    },
    {
      "cell_type": "markdown",
      "metadata": {
        "id": "SYiWzCpuEEDQ"
      },
      "source": [
        "## 대학교 수"
      ]
    },
    {
      "cell_type": "code",
      "metadata": {
        "id": "DzR9HepA_oy9",
        "outputId": "ce102dee-59a5-4e02-dae5-cd6bc04f89a3",
        "colab": {
          "base_uri": "https://localhost:8080/",
          "height": 362
        }
      },
      "source": [
        "str(univ)\n",
        "head(univ)"
      ],
      "execution_count": 46,
      "outputs": [
        {
          "output_type": "stream",
          "text": [
            "'data.frame':\t7 obs. of  3 variables:\n",
            " $ 대학교: chr  \"전북대학교 전주캠퍼스\" \"전주교육대학교\" \"예수대학교\" \"전주대학교\" ...\n",
            " $ 위치  : chr  \"전라북도 전주시 덕진구 백제대로 567\" \"전라북도 전주시 완산구 서학로 50 \" \"전라북도 전주시 완산구 서원로 383 \" \"전라북도 전주시 완산구 천잠로 303\" ...\n",
            " $ 행정동: chr  \"덕진동\" \"동서학동\" \"중화산1동\" \"효자4동\" ...\n"
          ],
          "name": "stdout"
        },
        {
          "output_type": "display_data",
          "data": {
            "text/plain": [
              "  대학교                위치                                  행정동   \n",
              "1 전북대학교 전주캠퍼스 전라북도 전주시 덕진구 백제대로 567   덕진동   \n",
              "2 전주교육대학교        전라북도 전주시 완산구 서학로 50      동서학동 \n",
              "3 예수대학교            전라북도 전주시 완산구 서원로 383     중화산1동\n",
              "4 전주대학교            전라북도 전주시 완산구 천잠로 303     효자4동  \n",
              "5 전주기전대학          전라북도 전주시 완산구 전주천서로 267 중화산1동\n",
              "6 전주비전대학교        전라북도 전주시 완산구 천잠로 235     효자4동  "
            ],
            "text/latex": "A data.frame: 6 × 3\n\\begin{tabular}{r|lll}\n  & 대학교 & 위치 & 행정동\\\\\n  & <chr> & <chr> & <chr>\\\\\n\\hline\n\t1 & 전북대학교 전주캠퍼스 & 전라북도 전주시 덕진구 백제대로 567   & 덕진동   \\\\\n\t2 & 전주교육대학교        & 전라북도 전주시 완산구 서학로 50      & 동서학동 \\\\\n\t3 & 예수대학교            & 전라북도 전주시 완산구 서원로 383     & 중화산1동\\\\\n\t4 & 전주대학교            & 전라북도 전주시 완산구 천잠로 303     & 효자4동  \\\\\n\t5 & 전주기전대학          & 전라북도 전주시 완산구 전주천서로 267 & 중화산1동\\\\\n\t6 & 전주비전대학교        & 전라북도 전주시 완산구 천잠로 235     & 효자4동  \\\\\n\\end{tabular}\n",
            "text/markdown": "\nA data.frame: 6 × 3\n\n| <!--/--> | 대학교 &lt;chr&gt; | 위치 &lt;chr&gt; | 행정동 &lt;chr&gt; |\n|---|---|---|---|\n| 1 | 전북대학교 전주캠퍼스 | 전라북도 전주시 덕진구 백제대로 567   | 덕진동    |\n| 2 | 전주교육대학교        | 전라북도 전주시 완산구 서학로 50      | 동서학동  |\n| 3 | 예수대학교            | 전라북도 전주시 완산구 서원로 383     | 중화산1동 |\n| 4 | 전주대학교            | 전라북도 전주시 완산구 천잠로 303     | 효자4동   |\n| 5 | 전주기전대학          | 전라북도 전주시 완산구 전주천서로 267 | 중화산1동 |\n| 6 | 전주비전대학교        | 전라북도 전주시 완산구 천잠로 235     | 효자4동   |\n\n",
            "text/html": [
              "<table class=\"dataframe\">\n",
              "<caption>A data.frame: 6 × 3</caption>\n",
              "<thead>\n",
              "\t<tr><th></th><th scope=col>대학교</th><th scope=col>위치</th><th scope=col>행정동</th></tr>\n",
              "\t<tr><th></th><th scope=col>&lt;chr&gt;</th><th scope=col>&lt;chr&gt;</th><th scope=col>&lt;chr&gt;</th></tr>\n",
              "</thead>\n",
              "<tbody>\n",
              "\t<tr><th scope=row>1</th><td>전북대학교 전주캠퍼스</td><td>전라북도 전주시 덕진구 백제대로 567  </td><td>덕진동   </td></tr>\n",
              "\t<tr><th scope=row>2</th><td>전주교육대학교       </td><td>전라북도 전주시 완산구 서학로 50     </td><td>동서학동 </td></tr>\n",
              "\t<tr><th scope=row>3</th><td>예수대학교           </td><td>전라북도 전주시 완산구 서원로 383    </td><td>중화산1동</td></tr>\n",
              "\t<tr><th scope=row>4</th><td>전주대학교           </td><td>전라북도 전주시 완산구 천잠로 303    </td><td>효자4동  </td></tr>\n",
              "\t<tr><th scope=row>5</th><td>전주기전대학         </td><td>전라북도 전주시 완산구 전주천서로 267</td><td>중화산1동</td></tr>\n",
              "\t<tr><th scope=row>6</th><td>전주비전대학교       </td><td>전라북도 전주시 완산구 천잠로 235    </td><td>효자4동  </td></tr>\n",
              "</tbody>\n",
              "</table>\n"
            ]
          },
          "metadata": {
            "tags": []
          }
        }
      ]
    },
    {
      "cell_type": "code",
      "metadata": {
        "id": "N9qDQHei_tm1",
        "outputId": "eb639d7c-e861-4f98-a926-8edfdecc23bd",
        "colab": {
          "base_uri": "https://localhost:8080/",
          "height": 301
        }
      },
      "source": [
        "univ <- univ[,c(1,3)]\n",
        "univ$count <- rep(1,nrow(univ))\n",
        "univ"
      ],
      "execution_count": 47,
      "outputs": [
        {
          "output_type": "display_data",
          "data": {
            "text/plain": [
              "  대학교                행정동    count\n",
              "1 전북대학교 전주캠퍼스 덕진동    1    \n",
              "2 전주교육대학교        동서학동  1    \n",
              "3 예수대학교            중화산1동 1    \n",
              "4 전주대학교            효자4동   1    \n",
              "5 전주기전대학          중화산1동 1    \n",
              "6 전주비전대학교        효자4동   1    \n",
              "7 한국농수산대학        효자5동   1    "
            ],
            "text/latex": "A data.frame: 7 × 3\n\\begin{tabular}{lll}\n 대학교 & 행정동 & count\\\\\n <chr> & <chr> & <dbl>\\\\\n\\hline\n\t 전북대학교 전주캠퍼스 & 덕진동    & 1\\\\\n\t 전주교육대학교        & 동서학동  & 1\\\\\n\t 예수대학교            & 중화산1동 & 1\\\\\n\t 전주대학교            & 효자4동   & 1\\\\\n\t 전주기전대학          & 중화산1동 & 1\\\\\n\t 전주비전대학교        & 효자4동   & 1\\\\\n\t 한국농수산대학        & 효자5동   & 1\\\\\n\\end{tabular}\n",
            "text/markdown": "\nA data.frame: 7 × 3\n\n| 대학교 &lt;chr&gt; | 행정동 &lt;chr&gt; | count &lt;dbl&gt; |\n|---|---|---|\n| 전북대학교 전주캠퍼스 | 덕진동    | 1 |\n| 전주교육대학교        | 동서학동  | 1 |\n| 예수대학교            | 중화산1동 | 1 |\n| 전주대학교            | 효자4동   | 1 |\n| 전주기전대학          | 중화산1동 | 1 |\n| 전주비전대학교        | 효자4동   | 1 |\n| 한국농수산대학        | 효자5동   | 1 |\n\n",
            "text/html": [
              "<table class=\"dataframe\">\n",
              "<caption>A data.frame: 7 × 3</caption>\n",
              "<thead>\n",
              "\t<tr><th scope=col>대학교</th><th scope=col>행정동</th><th scope=col>count</th></tr>\n",
              "\t<tr><th scope=col>&lt;chr&gt;</th><th scope=col>&lt;chr&gt;</th><th scope=col>&lt;dbl&gt;</th></tr>\n",
              "</thead>\n",
              "<tbody>\n",
              "\t<tr><td>전북대학교 전주캠퍼스</td><td>덕진동   </td><td>1</td></tr>\n",
              "\t<tr><td>전주교육대학교       </td><td>동서학동 </td><td>1</td></tr>\n",
              "\t<tr><td>예수대학교           </td><td>중화산1동</td><td>1</td></tr>\n",
              "\t<tr><td>전주대학교           </td><td>효자4동  </td><td>1</td></tr>\n",
              "\t<tr><td>전주기전대학         </td><td>중화산1동</td><td>1</td></tr>\n",
              "\t<tr><td>전주비전대학교       </td><td>효자4동  </td><td>1</td></tr>\n",
              "\t<tr><td>한국농수산대학       </td><td>효자5동  </td><td>1</td></tr>\n",
              "</tbody>\n",
              "</table>\n"
            ]
          },
          "metadata": {
            "tags": []
          }
        }
      ]
    },
    {
      "cell_type": "code",
      "metadata": {
        "id": "EnuHjOb6_wCZ",
        "outputId": "360adecb-316e-4c1c-88c1-bd82aa7f84ce",
        "colab": {
          "base_uri": "https://localhost:8080/",
          "height": 242
        }
      },
      "source": [
        "univ <- univ %>% group_by(행정동) %>% summarise(대학교수 = sum(count))\n",
        "univ <- as.data.frame(univ)\n",
        "univ <- arrange(univ, univ$행정동)\n",
        "univ"
      ],
      "execution_count": 48,
      "outputs": [
        {
          "output_type": "display_data",
          "data": {
            "text/plain": [
              "  행정동    대학교수\n",
              "1 덕진동    1       \n",
              "2 동서학동  1       \n",
              "3 중화산1동 2       \n",
              "4 효자4동   2       \n",
              "5 효자5동   1       "
            ],
            "text/latex": "A data.frame: 5 × 2\n\\begin{tabular}{ll}\n 행정동 & 대학교수\\\\\n <chr> & <dbl>\\\\\n\\hline\n\t 덕진동    & 1\\\\\n\t 동서학동  & 1\\\\\n\t 중화산1동 & 2\\\\\n\t 효자4동   & 2\\\\\n\t 효자5동   & 1\\\\\n\\end{tabular}\n",
            "text/markdown": "\nA data.frame: 5 × 2\n\n| 행정동 &lt;chr&gt; | 대학교수 &lt;dbl&gt; |\n|---|---|\n| 덕진동    | 1 |\n| 동서학동  | 1 |\n| 중화산1동 | 2 |\n| 효자4동   | 2 |\n| 효자5동   | 1 |\n\n",
            "text/html": [
              "<table class=\"dataframe\">\n",
              "<caption>A data.frame: 5 × 2</caption>\n",
              "<thead>\n",
              "\t<tr><th scope=col>행정동</th><th scope=col>대학교수</th></tr>\n",
              "\t<tr><th scope=col>&lt;chr&gt;</th><th scope=col>&lt;dbl&gt;</th></tr>\n",
              "</thead>\n",
              "<tbody>\n",
              "\t<tr><td>덕진동   </td><td>1</td></tr>\n",
              "\t<tr><td>동서학동 </td><td>1</td></tr>\n",
              "\t<tr><td>중화산1동</td><td>2</td></tr>\n",
              "\t<tr><td>효자4동  </td><td>2</td></tr>\n",
              "\t<tr><td>효자5동  </td><td>1</td></tr>\n",
              "</tbody>\n",
              "</table>\n"
            ]
          },
          "metadata": {
            "tags": []
          }
        }
      ]
    },
    {
      "cell_type": "code",
      "metadata": {
        "id": "xSwF8sD7_yP5",
        "outputId": "8bec81b6-8327-4a42-da9f-ca32704a15b4",
        "colab": {
          "base_uri": "https://localhost:8080/",
          "height": 156
        }
      },
      "source": [
        "table(univ$행정동 %in% jjdong)\n",
        "table(jjdong %in% univ$행정동)\n",
        "\n",
        "jjdong[jjdong %in% univ$행정동 == FALSE] #univ에는 없는 jjdong의 행정동"
      ],
      "execution_count": 49,
      "outputs": [
        {
          "output_type": "display_data",
          "data": {
            "text/plain": [
              "\n",
              "TRUE \n",
              "   5 "
            ]
          },
          "metadata": {
            "tags": []
          }
        },
        {
          "output_type": "display_data",
          "data": {
            "text/plain": [
              "\n",
              "FALSE  TRUE \n",
              "   30     5 "
            ]
          },
          "metadata": {
            "tags": []
          }
        },
        {
          "output_type": "display_data",
          "data": {
            "text/plain": [
              " [1] \"금암1동\"   \"금암2동\"   \"노송동\"    \"삼천1동\"   \"삼천2동\"   \"삼천3동\"  \n",
              " [7] \"서서학동\"  \"서신동\"    \"송천1동\"   \"송천2동\"   \"여의동\"    \"완산동\"   \n",
              "[13] \"우아1동\"   \"우아2동\"   \"인후1동\"   \"인후2동\"   \"인후3동\"   \"조촌동\"   \n",
              "[19] \"중앙동\"    \"중화산2동\" \"진북동\"    \"팔복동\"    \"평화1동\"   \"평화2동\"  \n",
              "[25] \"풍남동\"    \"혁신동\"    \"호성동\"    \"효자1동\"   \"효자2동\"   \"효자3동\"  "
            ],
            "text/latex": "\\begin{enumerate*}\n\\item '금암1동'\n\\item '금암2동'\n\\item '노송동'\n\\item '삼천1동'\n\\item '삼천2동'\n\\item '삼천3동'\n\\item '서서학동'\n\\item '서신동'\n\\item '송천1동'\n\\item '송천2동'\n\\item '여의동'\n\\item '완산동'\n\\item '우아1동'\n\\item '우아2동'\n\\item '인후1동'\n\\item '인후2동'\n\\item '인후3동'\n\\item '조촌동'\n\\item '중앙동'\n\\item '중화산2동'\n\\item '진북동'\n\\item '팔복동'\n\\item '평화1동'\n\\item '평화2동'\n\\item '풍남동'\n\\item '혁신동'\n\\item '호성동'\n\\item '효자1동'\n\\item '효자2동'\n\\item '효자3동'\n\\end{enumerate*}\n",
            "text/markdown": "1. '금암1동'\n2. '금암2동'\n3. '노송동'\n4. '삼천1동'\n5. '삼천2동'\n6. '삼천3동'\n7. '서서학동'\n8. '서신동'\n9. '송천1동'\n10. '송천2동'\n11. '여의동'\n12. '완산동'\n13. '우아1동'\n14. '우아2동'\n15. '인후1동'\n16. '인후2동'\n17. '인후3동'\n18. '조촌동'\n19. '중앙동'\n20. '중화산2동'\n21. '진북동'\n22. '팔복동'\n23. '평화1동'\n24. '평화2동'\n25. '풍남동'\n26. '혁신동'\n27. '호성동'\n28. '효자1동'\n29. '효자2동'\n30. '효자3동'\n\n\n",
            "text/html": [
              "<style>\n",
              ".list-inline {list-style: none; margin:0; padding: 0}\n",
              ".list-inline>li {display: inline-block}\n",
              ".list-inline>li:not(:last-child)::after {content: \"\\00b7\"; padding: 0 .5ex}\n",
              "</style>\n",
              "<ol class=list-inline><li>'금암1동'</li><li>'금암2동'</li><li>'노송동'</li><li>'삼천1동'</li><li>'삼천2동'</li><li>'삼천3동'</li><li>'서서학동'</li><li>'서신동'</li><li>'송천1동'</li><li>'송천2동'</li><li>'여의동'</li><li>'완산동'</li><li>'우아1동'</li><li>'우아2동'</li><li>'인후1동'</li><li>'인후2동'</li><li>'인후3동'</li><li>'조촌동'</li><li>'중앙동'</li><li>'중화산2동'</li><li>'진북동'</li><li>'팔복동'</li><li>'평화1동'</li><li>'평화2동'</li><li>'풍남동'</li><li>'혁신동'</li><li>'호성동'</li><li>'효자1동'</li><li>'효자2동'</li><li>'효자3동'</li></ol>\n"
            ]
          },
          "metadata": {
            "tags": []
          }
        }
      ]
    },
    {
      "cell_type": "code",
      "metadata": {
        "id": "SmI76TkK_1QQ",
        "outputId": "ea865fae-09c9-4814-acc1-7912eddbad65",
        "colab": {
          "base_uri": "https://localhost:8080/",
          "height": 1000
        }
      },
      "source": [
        "add <- data.frame(행정동 = jjdong[jjdong %in% univ$행정동 == FALSE], 대학교수 = rep(0, length(jjdong[jjdong %in% univ$행정동 == FALSE])))\n",
        "univ <- rbind(univ, add)\n",
        "univ <- arrange(univ, univ$행정동)\n",
        "univ"
      ],
      "execution_count": 50,
      "outputs": [
        {
          "output_type": "display_data",
          "data": {
            "text/plain": [
              "   행정동    대학교수\n",
              "1  금암1동   0       \n",
              "2  금암2동   0       \n",
              "3  노송동    0       \n",
              "4  덕진동    1       \n",
              "5  동서학동  1       \n",
              "6  삼천1동   0       \n",
              "7  삼천2동   0       \n",
              "8  삼천3동   0       \n",
              "9  서서학동  0       \n",
              "10 서신동    0       \n",
              "11 송천1동   0       \n",
              "12 송천2동   0       \n",
              "13 여의동    0       \n",
              "14 완산동    0       \n",
              "15 우아1동   0       \n",
              "16 우아2동   0       \n",
              "17 인후1동   0       \n",
              "18 인후2동   0       \n",
              "19 인후3동   0       \n",
              "20 조촌동    0       \n",
              "21 중앙동    0       \n",
              "22 중화산1동 2       \n",
              "23 중화산2동 0       \n",
              "24 진북동    0       \n",
              "25 팔복동    0       \n",
              "26 평화1동   0       \n",
              "27 평화2동   0       \n",
              "28 풍남동    0       \n",
              "29 혁신동    0       \n",
              "30 호성동    0       \n",
              "31 효자1동   0       \n",
              "32 효자2동   0       \n",
              "33 효자3동   0       \n",
              "34 효자4동   2       \n",
              "35 효자5동   1       "
            ],
            "text/latex": "A data.frame: 35 × 2\n\\begin{tabular}{ll}\n 행정동 & 대학교수\\\\\n <chr> & <dbl>\\\\\n\\hline\n\t 금암1동   & 0\\\\\n\t 금암2동   & 0\\\\\n\t 노송동    & 0\\\\\n\t 덕진동    & 1\\\\\n\t 동서학동  & 1\\\\\n\t 삼천1동   & 0\\\\\n\t 삼천2동   & 0\\\\\n\t 삼천3동   & 0\\\\\n\t 서서학동  & 0\\\\\n\t 서신동    & 0\\\\\n\t 송천1동   & 0\\\\\n\t 송천2동   & 0\\\\\n\t 여의동    & 0\\\\\n\t 완산동    & 0\\\\\n\t 우아1동   & 0\\\\\n\t 우아2동   & 0\\\\\n\t 인후1동   & 0\\\\\n\t 인후2동   & 0\\\\\n\t 인후3동   & 0\\\\\n\t 조촌동    & 0\\\\\n\t 중앙동    & 0\\\\\n\t 중화산1동 & 2\\\\\n\t 중화산2동 & 0\\\\\n\t 진북동    & 0\\\\\n\t 팔복동    & 0\\\\\n\t 평화1동   & 0\\\\\n\t 평화2동   & 0\\\\\n\t 풍남동    & 0\\\\\n\t 혁신동    & 0\\\\\n\t 호성동    & 0\\\\\n\t 효자1동   & 0\\\\\n\t 효자2동   & 0\\\\\n\t 효자3동   & 0\\\\\n\t 효자4동   & 2\\\\\n\t 효자5동   & 1\\\\\n\\end{tabular}\n",
            "text/markdown": "\nA data.frame: 35 × 2\n\n| 행정동 &lt;chr&gt; | 대학교수 &lt;dbl&gt; |\n|---|---|\n| 금암1동   | 0 |\n| 금암2동   | 0 |\n| 노송동    | 0 |\n| 덕진동    | 1 |\n| 동서학동  | 1 |\n| 삼천1동   | 0 |\n| 삼천2동   | 0 |\n| 삼천3동   | 0 |\n| 서서학동  | 0 |\n| 서신동    | 0 |\n| 송천1동   | 0 |\n| 송천2동   | 0 |\n| 여의동    | 0 |\n| 완산동    | 0 |\n| 우아1동   | 0 |\n| 우아2동   | 0 |\n| 인후1동   | 0 |\n| 인후2동   | 0 |\n| 인후3동   | 0 |\n| 조촌동    | 0 |\n| 중앙동    | 0 |\n| 중화산1동 | 2 |\n| 중화산2동 | 0 |\n| 진북동    | 0 |\n| 팔복동    | 0 |\n| 평화1동   | 0 |\n| 평화2동   | 0 |\n| 풍남동    | 0 |\n| 혁신동    | 0 |\n| 호성동    | 0 |\n| 효자1동   | 0 |\n| 효자2동   | 0 |\n| 효자3동   | 0 |\n| 효자4동   | 2 |\n| 효자5동   | 1 |\n\n",
            "text/html": [
              "<table class=\"dataframe\">\n",
              "<caption>A data.frame: 35 × 2</caption>\n",
              "<thead>\n",
              "\t<tr><th scope=col>행정동</th><th scope=col>대학교수</th></tr>\n",
              "\t<tr><th scope=col>&lt;chr&gt;</th><th scope=col>&lt;dbl&gt;</th></tr>\n",
              "</thead>\n",
              "<tbody>\n",
              "\t<tr><td>금암1동  </td><td>0</td></tr>\n",
              "\t<tr><td>금암2동  </td><td>0</td></tr>\n",
              "\t<tr><td>노송동   </td><td>0</td></tr>\n",
              "\t<tr><td>덕진동   </td><td>1</td></tr>\n",
              "\t<tr><td>동서학동 </td><td>1</td></tr>\n",
              "\t<tr><td>삼천1동  </td><td>0</td></tr>\n",
              "\t<tr><td>삼천2동  </td><td>0</td></tr>\n",
              "\t<tr><td>삼천3동  </td><td>0</td></tr>\n",
              "\t<tr><td>서서학동 </td><td>0</td></tr>\n",
              "\t<tr><td>서신동   </td><td>0</td></tr>\n",
              "\t<tr><td>송천1동  </td><td>0</td></tr>\n",
              "\t<tr><td>송천2동  </td><td>0</td></tr>\n",
              "\t<tr><td>여의동   </td><td>0</td></tr>\n",
              "\t<tr><td>완산동   </td><td>0</td></tr>\n",
              "\t<tr><td>우아1동  </td><td>0</td></tr>\n",
              "\t<tr><td>우아2동  </td><td>0</td></tr>\n",
              "\t<tr><td>인후1동  </td><td>0</td></tr>\n",
              "\t<tr><td>인후2동  </td><td>0</td></tr>\n",
              "\t<tr><td>인후3동  </td><td>0</td></tr>\n",
              "\t<tr><td>조촌동   </td><td>0</td></tr>\n",
              "\t<tr><td>중앙동   </td><td>0</td></tr>\n",
              "\t<tr><td>중화산1동</td><td>2</td></tr>\n",
              "\t<tr><td>중화산2동</td><td>0</td></tr>\n",
              "\t<tr><td>진북동   </td><td>0</td></tr>\n",
              "\t<tr><td>팔복동   </td><td>0</td></tr>\n",
              "\t<tr><td>평화1동  </td><td>0</td></tr>\n",
              "\t<tr><td>평화2동  </td><td>0</td></tr>\n",
              "\t<tr><td>풍남동   </td><td>0</td></tr>\n",
              "\t<tr><td>혁신동   </td><td>0</td></tr>\n",
              "\t<tr><td>호성동   </td><td>0</td></tr>\n",
              "\t<tr><td>효자1동  </td><td>0</td></tr>\n",
              "\t<tr><td>효자2동  </td><td>0</td></tr>\n",
              "\t<tr><td>효자3동  </td><td>0</td></tr>\n",
              "\t<tr><td>효자4동  </td><td>2</td></tr>\n",
              "\t<tr><td>효자5동  </td><td>1</td></tr>\n",
              "</tbody>\n",
              "</table>\n"
            ]
          },
          "metadata": {
            "tags": []
          }
        }
      ]
    },
    {
      "cell_type": "markdown",
      "metadata": {
        "id": "vkuB4nU3EHLK"
      },
      "source": [
        "## 면적"
      ]
    },
    {
      "cell_type": "code",
      "metadata": {
        "id": "3ssrlc5m_3oQ",
        "outputId": "b3743776-6fe3-47b4-ea3b-27fd61251f7e",
        "colab": {
          "base_uri": "https://localhost:8080/",
          "height": 342
        }
      },
      "source": [
        "str(region)\n",
        "head(region)"
      ],
      "execution_count": 51,
      "outputs": [
        {
          "output_type": "stream",
          "text": [
            "'data.frame':\t35 obs. of  3 variables:\n",
            " $ 구       : chr  \"덕진구\" \"덕진구\" \"덕진구\" \"덕진구\" ...\n",
            " $ 동       : chr  \"진북동\" \"인후1동\" \"인후2동\" \"인후3동\" ...\n",
            " $ 면적.km..: num  1.71 1.29 1.32 1.68 4.78 ...\n"
          ],
          "name": "stdout"
        },
        {
          "output_type": "display_data",
          "data": {
            "text/plain": [
              "  구     동      면적.km..\n",
              "1 덕진구 진북동  1.71     \n",
              "2 덕진구 인후1동 1.29     \n",
              "3 덕진구 인후2동 1.32     \n",
              "4 덕진구 인후3동 1.68     \n",
              "5 덕진구 덕진동  4.78     \n",
              "6 덕진구 금암1동 1.25     "
            ],
            "text/latex": "A data.frame: 6 × 3\n\\begin{tabular}{r|lll}\n  & 구 & 동 & 면적.km..\\\\\n  & <chr> & <chr> & <dbl>\\\\\n\\hline\n\t1 & 덕진구 & 진북동  & 1.71\\\\\n\t2 & 덕진구 & 인후1동 & 1.29\\\\\n\t3 & 덕진구 & 인후2동 & 1.32\\\\\n\t4 & 덕진구 & 인후3동 & 1.68\\\\\n\t5 & 덕진구 & 덕진동  & 4.78\\\\\n\t6 & 덕진구 & 금암1동 & 1.25\\\\\n\\end{tabular}\n",
            "text/markdown": "\nA data.frame: 6 × 3\n\n| <!--/--> | 구 &lt;chr&gt; | 동 &lt;chr&gt; | 면적.km.. &lt;dbl&gt; |\n|---|---|---|---|\n| 1 | 덕진구 | 진북동  | 1.71 |\n| 2 | 덕진구 | 인후1동 | 1.29 |\n| 3 | 덕진구 | 인후2동 | 1.32 |\n| 4 | 덕진구 | 인후3동 | 1.68 |\n| 5 | 덕진구 | 덕진동  | 4.78 |\n| 6 | 덕진구 | 금암1동 | 1.25 |\n\n",
            "text/html": [
              "<table class=\"dataframe\">\n",
              "<caption>A data.frame: 6 × 3</caption>\n",
              "<thead>\n",
              "\t<tr><th></th><th scope=col>구</th><th scope=col>동</th><th scope=col>면적.km..</th></tr>\n",
              "\t<tr><th></th><th scope=col>&lt;chr&gt;</th><th scope=col>&lt;chr&gt;</th><th scope=col>&lt;dbl&gt;</th></tr>\n",
              "</thead>\n",
              "<tbody>\n",
              "\t<tr><th scope=row>1</th><td>덕진구</td><td>진북동 </td><td>1.71</td></tr>\n",
              "\t<tr><th scope=row>2</th><td>덕진구</td><td>인후1동</td><td>1.29</td></tr>\n",
              "\t<tr><th scope=row>3</th><td>덕진구</td><td>인후2동</td><td>1.32</td></tr>\n",
              "\t<tr><th scope=row>4</th><td>덕진구</td><td>인후3동</td><td>1.68</td></tr>\n",
              "\t<tr><th scope=row>5</th><td>덕진구</td><td>덕진동 </td><td>4.78</td></tr>\n",
              "\t<tr><th scope=row>6</th><td>덕진구</td><td>금암1동</td><td>1.25</td></tr>\n",
              "</tbody>\n",
              "</table>\n"
            ]
          },
          "metadata": {
            "tags": []
          }
        }
      ]
    },
    {
      "cell_type": "code",
      "metadata": {
        "id": "OmsaAD-9_6Km",
        "outputId": "72e41823-0517-4a42-8a16-0c686690f2a6",
        "colab": {
          "base_uri": "https://localhost:8080/",
          "height": 1000
        }
      },
      "source": [
        "region <- region[,c(2,3)]\n",
        "names(region) <- c(\"행정동\", \"면적.km\")\n",
        "region <- arrange(region, region$행정동)\n",
        "region"
      ],
      "execution_count": 52,
      "outputs": [
        {
          "output_type": "display_data",
          "data": {
            "text/plain": [
              "   행정동    면적.km\n",
              "1  금암1동    1.25  \n",
              "2  금암2동    1.25  \n",
              "3  노송동     2.09  \n",
              "4  덕진동     4.78  \n",
              "5  동서학동  15.64  \n",
              "6  삼천1동    1.27  \n",
              "7  삼천2동    0.95  \n",
              "8  삼천3동   26.60  \n",
              "9  서서학동   2.97  \n",
              "10 서신동     2.39  \n",
              "11 송천1동    4.79  \n",
              "12 송천2동   12.14  \n",
              "13 여의동    15.71  \n",
              "14 완산동     0.99  \n",
              "15 우아1동    1.44  \n",
              "16 우아2동   22.91  \n",
              "17 인후1동    1.29  \n",
              "18 인후2동    1.32  \n",
              "19 인후3동    1.68  \n",
              "20 조촌동    24.28  \n",
              "21 중앙동     1.35  \n",
              "22 중화산1동  1.22  \n",
              "23 중화산2동  1.72  \n",
              "24 진북동     1.71  \n",
              "25 팔복동     7.38  \n",
              "26 평화1동    1.49  \n",
              "27 평화2동   15.23  \n",
              "28 풍남동     2.05  \n",
              "29 혁신동     3.37  \n",
              "30 호성동     7.64  \n",
              "31 효자1동    1.02  \n",
              "32 효자2동    0.84  \n",
              "33 효자3동    0.79  \n",
              "34 효자4동    7.71  \n",
              "35 효자5동    6.27  "
            ],
            "text/latex": "A data.frame: 35 × 2\n\\begin{tabular}{ll}\n 행정동 & 면적.km\\\\\n <chr> & <dbl>\\\\\n\\hline\n\t 금암1동   &  1.25\\\\\n\t 금암2동   &  1.25\\\\\n\t 노송동    &  2.09\\\\\n\t 덕진동    &  4.78\\\\\n\t 동서학동  & 15.64\\\\\n\t 삼천1동   &  1.27\\\\\n\t 삼천2동   &  0.95\\\\\n\t 삼천3동   & 26.60\\\\\n\t 서서학동  &  2.97\\\\\n\t 서신동    &  2.39\\\\\n\t 송천1동   &  4.79\\\\\n\t 송천2동   & 12.14\\\\\n\t 여의동    & 15.71\\\\\n\t 완산동    &  0.99\\\\\n\t 우아1동   &  1.44\\\\\n\t 우아2동   & 22.91\\\\\n\t 인후1동   &  1.29\\\\\n\t 인후2동   &  1.32\\\\\n\t 인후3동   &  1.68\\\\\n\t 조촌동    & 24.28\\\\\n\t 중앙동    &  1.35\\\\\n\t 중화산1동 &  1.22\\\\\n\t 중화산2동 &  1.72\\\\\n\t 진북동    &  1.71\\\\\n\t 팔복동    &  7.38\\\\\n\t 평화1동   &  1.49\\\\\n\t 평화2동   & 15.23\\\\\n\t 풍남동    &  2.05\\\\\n\t 혁신동    &  3.37\\\\\n\t 호성동    &  7.64\\\\\n\t 효자1동   &  1.02\\\\\n\t 효자2동   &  0.84\\\\\n\t 효자3동   &  0.79\\\\\n\t 효자4동   &  7.71\\\\\n\t 효자5동   &  6.27\\\\\n\\end{tabular}\n",
            "text/markdown": "\nA data.frame: 35 × 2\n\n| 행정동 &lt;chr&gt; | 면적.km &lt;dbl&gt; |\n|---|---|\n| 금암1동   |  1.25 |\n| 금암2동   |  1.25 |\n| 노송동    |  2.09 |\n| 덕진동    |  4.78 |\n| 동서학동  | 15.64 |\n| 삼천1동   |  1.27 |\n| 삼천2동   |  0.95 |\n| 삼천3동   | 26.60 |\n| 서서학동  |  2.97 |\n| 서신동    |  2.39 |\n| 송천1동   |  4.79 |\n| 송천2동   | 12.14 |\n| 여의동    | 15.71 |\n| 완산동    |  0.99 |\n| 우아1동   |  1.44 |\n| 우아2동   | 22.91 |\n| 인후1동   |  1.29 |\n| 인후2동   |  1.32 |\n| 인후3동   |  1.68 |\n| 조촌동    | 24.28 |\n| 중앙동    |  1.35 |\n| 중화산1동 |  1.22 |\n| 중화산2동 |  1.72 |\n| 진북동    |  1.71 |\n| 팔복동    |  7.38 |\n| 평화1동   |  1.49 |\n| 평화2동   | 15.23 |\n| 풍남동    |  2.05 |\n| 혁신동    |  3.37 |\n| 호성동    |  7.64 |\n| 효자1동   |  1.02 |\n| 효자2동   |  0.84 |\n| 효자3동   |  0.79 |\n| 효자4동   |  7.71 |\n| 효자5동   |  6.27 |\n\n",
            "text/html": [
              "<table class=\"dataframe\">\n",
              "<caption>A data.frame: 35 × 2</caption>\n",
              "<thead>\n",
              "\t<tr><th scope=col>행정동</th><th scope=col>면적.km</th></tr>\n",
              "\t<tr><th scope=col>&lt;chr&gt;</th><th scope=col>&lt;dbl&gt;</th></tr>\n",
              "</thead>\n",
              "<tbody>\n",
              "\t<tr><td>금암1동  </td><td> 1.25</td></tr>\n",
              "\t<tr><td>금암2동  </td><td> 1.25</td></tr>\n",
              "\t<tr><td>노송동   </td><td> 2.09</td></tr>\n",
              "\t<tr><td>덕진동   </td><td> 4.78</td></tr>\n",
              "\t<tr><td>동서학동 </td><td>15.64</td></tr>\n",
              "\t<tr><td>삼천1동  </td><td> 1.27</td></tr>\n",
              "\t<tr><td>삼천2동  </td><td> 0.95</td></tr>\n",
              "\t<tr><td>삼천3동  </td><td>26.60</td></tr>\n",
              "\t<tr><td>서서학동 </td><td> 2.97</td></tr>\n",
              "\t<tr><td>서신동   </td><td> 2.39</td></tr>\n",
              "\t<tr><td>송천1동  </td><td> 4.79</td></tr>\n",
              "\t<tr><td>송천2동  </td><td>12.14</td></tr>\n",
              "\t<tr><td>여의동   </td><td>15.71</td></tr>\n",
              "\t<tr><td>완산동   </td><td> 0.99</td></tr>\n",
              "\t<tr><td>우아1동  </td><td> 1.44</td></tr>\n",
              "\t<tr><td>우아2동  </td><td>22.91</td></tr>\n",
              "\t<tr><td>인후1동  </td><td> 1.29</td></tr>\n",
              "\t<tr><td>인후2동  </td><td> 1.32</td></tr>\n",
              "\t<tr><td>인후3동  </td><td> 1.68</td></tr>\n",
              "\t<tr><td>조촌동   </td><td>24.28</td></tr>\n",
              "\t<tr><td>중앙동   </td><td> 1.35</td></tr>\n",
              "\t<tr><td>중화산1동</td><td> 1.22</td></tr>\n",
              "\t<tr><td>중화산2동</td><td> 1.72</td></tr>\n",
              "\t<tr><td>진북동   </td><td> 1.71</td></tr>\n",
              "\t<tr><td>팔복동   </td><td> 7.38</td></tr>\n",
              "\t<tr><td>평화1동  </td><td> 1.49</td></tr>\n",
              "\t<tr><td>평화2동  </td><td>15.23</td></tr>\n",
              "\t<tr><td>풍남동   </td><td> 2.05</td></tr>\n",
              "\t<tr><td>혁신동   </td><td> 3.37</td></tr>\n",
              "\t<tr><td>호성동   </td><td> 7.64</td></tr>\n",
              "\t<tr><td>효자1동  </td><td> 1.02</td></tr>\n",
              "\t<tr><td>효자2동  </td><td> 0.84</td></tr>\n",
              "\t<tr><td>효자3동  </td><td> 0.79</td></tr>\n",
              "\t<tr><td>효자4동  </td><td> 7.71</td></tr>\n",
              "\t<tr><td>효자5동  </td><td> 6.27</td></tr>\n",
              "</tbody>\n",
              "</table>\n"
            ]
          },
          "metadata": {
            "tags": []
          }
        }
      ]
    },
    {
      "cell_type": "code",
      "metadata": {
        "id": "NoD4h92z_9fj",
        "outputId": "2fbb72e5-8942-4a1a-c2cd-511e00b328aa",
        "colab": {
          "base_uri": "https://localhost:8080/",
          "height": 1000
        }
      },
      "source": [
        "table(region$행정동 %in% jjdong)\n",
        "table(jjdong %in% region$행정동)\n",
        "\n",
        "region$행정동[region$행정동 %in% jjdong == FALSE] #jjdong에는 없는 region의 행정동 #이름 오류 있는 듯 (송청1동, 품남동)\n",
        "\n",
        "jjdong[jjdong %in% region$행정동 == FALSE] #region에는 없는 jjdong의 행정동\n",
        "\n",
        "region"
      ],
      "execution_count": 53,
      "outputs": [
        {
          "output_type": "display_data",
          "data": {
            "text/plain": [
              "\n",
              "TRUE \n",
              "  35 "
            ]
          },
          "metadata": {
            "tags": []
          }
        },
        {
          "output_type": "display_data",
          "data": {
            "text/plain": [
              "\n",
              "TRUE \n",
              "  35 "
            ]
          },
          "metadata": {
            "tags": []
          }
        },
        {
          "output_type": "display_data",
          "data": {
            "text/plain": [
              "character(0)"
            ],
            "text/latex": "",
            "text/markdown": "",
            "text/html": [
              ""
            ]
          },
          "metadata": {
            "tags": []
          }
        },
        {
          "output_type": "display_data",
          "data": {
            "text/plain": [
              "character(0)"
            ],
            "text/latex": "",
            "text/markdown": "",
            "text/html": [
              ""
            ]
          },
          "metadata": {
            "tags": []
          }
        },
        {
          "output_type": "display_data",
          "data": {
            "text/plain": [
              "   행정동    면적.km\n",
              "1  금암1동    1.25  \n",
              "2  금암2동    1.25  \n",
              "3  노송동     2.09  \n",
              "4  덕진동     4.78  \n",
              "5  동서학동  15.64  \n",
              "6  삼천1동    1.27  \n",
              "7  삼천2동    0.95  \n",
              "8  삼천3동   26.60  \n",
              "9  서서학동   2.97  \n",
              "10 서신동     2.39  \n",
              "11 송천1동    4.79  \n",
              "12 송천2동   12.14  \n",
              "13 여의동    15.71  \n",
              "14 완산동     0.99  \n",
              "15 우아1동    1.44  \n",
              "16 우아2동   22.91  \n",
              "17 인후1동    1.29  \n",
              "18 인후2동    1.32  \n",
              "19 인후3동    1.68  \n",
              "20 조촌동    24.28  \n",
              "21 중앙동     1.35  \n",
              "22 중화산1동  1.22  \n",
              "23 중화산2동  1.72  \n",
              "24 진북동     1.71  \n",
              "25 팔복동     7.38  \n",
              "26 평화1동    1.49  \n",
              "27 평화2동   15.23  \n",
              "28 풍남동     2.05  \n",
              "29 혁신동     3.37  \n",
              "30 호성동     7.64  \n",
              "31 효자1동    1.02  \n",
              "32 효자2동    0.84  \n",
              "33 효자3동    0.79  \n",
              "34 효자4동    7.71  \n",
              "35 효자5동    6.27  "
            ],
            "text/latex": "A data.frame: 35 × 2\n\\begin{tabular}{ll}\n 행정동 & 면적.km\\\\\n <chr> & <dbl>\\\\\n\\hline\n\t 금암1동   &  1.25\\\\\n\t 금암2동   &  1.25\\\\\n\t 노송동    &  2.09\\\\\n\t 덕진동    &  4.78\\\\\n\t 동서학동  & 15.64\\\\\n\t 삼천1동   &  1.27\\\\\n\t 삼천2동   &  0.95\\\\\n\t 삼천3동   & 26.60\\\\\n\t 서서학동  &  2.97\\\\\n\t 서신동    &  2.39\\\\\n\t 송천1동   &  4.79\\\\\n\t 송천2동   & 12.14\\\\\n\t 여의동    & 15.71\\\\\n\t 완산동    &  0.99\\\\\n\t 우아1동   &  1.44\\\\\n\t 우아2동   & 22.91\\\\\n\t 인후1동   &  1.29\\\\\n\t 인후2동   &  1.32\\\\\n\t 인후3동   &  1.68\\\\\n\t 조촌동    & 24.28\\\\\n\t 중앙동    &  1.35\\\\\n\t 중화산1동 &  1.22\\\\\n\t 중화산2동 &  1.72\\\\\n\t 진북동    &  1.71\\\\\n\t 팔복동    &  7.38\\\\\n\t 평화1동   &  1.49\\\\\n\t 평화2동   & 15.23\\\\\n\t 풍남동    &  2.05\\\\\n\t 혁신동    &  3.37\\\\\n\t 호성동    &  7.64\\\\\n\t 효자1동   &  1.02\\\\\n\t 효자2동   &  0.84\\\\\n\t 효자3동   &  0.79\\\\\n\t 효자4동   &  7.71\\\\\n\t 효자5동   &  6.27\\\\\n\\end{tabular}\n",
            "text/markdown": "\nA data.frame: 35 × 2\n\n| 행정동 &lt;chr&gt; | 면적.km &lt;dbl&gt; |\n|---|---|\n| 금암1동   |  1.25 |\n| 금암2동   |  1.25 |\n| 노송동    |  2.09 |\n| 덕진동    |  4.78 |\n| 동서학동  | 15.64 |\n| 삼천1동   |  1.27 |\n| 삼천2동   |  0.95 |\n| 삼천3동   | 26.60 |\n| 서서학동  |  2.97 |\n| 서신동    |  2.39 |\n| 송천1동   |  4.79 |\n| 송천2동   | 12.14 |\n| 여의동    | 15.71 |\n| 완산동    |  0.99 |\n| 우아1동   |  1.44 |\n| 우아2동   | 22.91 |\n| 인후1동   |  1.29 |\n| 인후2동   |  1.32 |\n| 인후3동   |  1.68 |\n| 조촌동    | 24.28 |\n| 중앙동    |  1.35 |\n| 중화산1동 |  1.22 |\n| 중화산2동 |  1.72 |\n| 진북동    |  1.71 |\n| 팔복동    |  7.38 |\n| 평화1동   |  1.49 |\n| 평화2동   | 15.23 |\n| 풍남동    |  2.05 |\n| 혁신동    |  3.37 |\n| 호성동    |  7.64 |\n| 효자1동   |  1.02 |\n| 효자2동   |  0.84 |\n| 효자3동   |  0.79 |\n| 효자4동   |  7.71 |\n| 효자5동   |  6.27 |\n\n",
            "text/html": [
              "<table class=\"dataframe\">\n",
              "<caption>A data.frame: 35 × 2</caption>\n",
              "<thead>\n",
              "\t<tr><th scope=col>행정동</th><th scope=col>면적.km</th></tr>\n",
              "\t<tr><th scope=col>&lt;chr&gt;</th><th scope=col>&lt;dbl&gt;</th></tr>\n",
              "</thead>\n",
              "<tbody>\n",
              "\t<tr><td>금암1동  </td><td> 1.25</td></tr>\n",
              "\t<tr><td>금암2동  </td><td> 1.25</td></tr>\n",
              "\t<tr><td>노송동   </td><td> 2.09</td></tr>\n",
              "\t<tr><td>덕진동   </td><td> 4.78</td></tr>\n",
              "\t<tr><td>동서학동 </td><td>15.64</td></tr>\n",
              "\t<tr><td>삼천1동  </td><td> 1.27</td></tr>\n",
              "\t<tr><td>삼천2동  </td><td> 0.95</td></tr>\n",
              "\t<tr><td>삼천3동  </td><td>26.60</td></tr>\n",
              "\t<tr><td>서서학동 </td><td> 2.97</td></tr>\n",
              "\t<tr><td>서신동   </td><td> 2.39</td></tr>\n",
              "\t<tr><td>송천1동  </td><td> 4.79</td></tr>\n",
              "\t<tr><td>송천2동  </td><td>12.14</td></tr>\n",
              "\t<tr><td>여의동   </td><td>15.71</td></tr>\n",
              "\t<tr><td>완산동   </td><td> 0.99</td></tr>\n",
              "\t<tr><td>우아1동  </td><td> 1.44</td></tr>\n",
              "\t<tr><td>우아2동  </td><td>22.91</td></tr>\n",
              "\t<tr><td>인후1동  </td><td> 1.29</td></tr>\n",
              "\t<tr><td>인후2동  </td><td> 1.32</td></tr>\n",
              "\t<tr><td>인후3동  </td><td> 1.68</td></tr>\n",
              "\t<tr><td>조촌동   </td><td>24.28</td></tr>\n",
              "\t<tr><td>중앙동   </td><td> 1.35</td></tr>\n",
              "\t<tr><td>중화산1동</td><td> 1.22</td></tr>\n",
              "\t<tr><td>중화산2동</td><td> 1.72</td></tr>\n",
              "\t<tr><td>진북동   </td><td> 1.71</td></tr>\n",
              "\t<tr><td>팔복동   </td><td> 7.38</td></tr>\n",
              "\t<tr><td>평화1동  </td><td> 1.49</td></tr>\n",
              "\t<tr><td>평화2동  </td><td>15.23</td></tr>\n",
              "\t<tr><td>풍남동   </td><td> 2.05</td></tr>\n",
              "\t<tr><td>혁신동   </td><td> 3.37</td></tr>\n",
              "\t<tr><td>호성동   </td><td> 7.64</td></tr>\n",
              "\t<tr><td>효자1동  </td><td> 1.02</td></tr>\n",
              "\t<tr><td>효자2동  </td><td> 0.84</td></tr>\n",
              "\t<tr><td>효자3동  </td><td> 0.79</td></tr>\n",
              "\t<tr><td>효자4동  </td><td> 7.71</td></tr>\n",
              "\t<tr><td>효자5동  </td><td> 6.27</td></tr>\n",
              "</tbody>\n",
              "</table>\n"
            ]
          },
          "metadata": {
            "tags": []
          }
        }
      ]
    },
    {
      "cell_type": "markdown",
      "metadata": {
        "id": "Hjez8A73EKzY"
      },
      "source": [
        "## 행정동이 잘 정리되었는지 확인\n",
        "\n",
        "모든 행정동이 다 동일하다는 것을 확인할 수 있다.\n",
        "\n"
      ]
    },
    {
      "cell_type": "code",
      "metadata": {
        "id": "WtD3SwTsAC1U",
        "outputId": "b598113f-336c-480e-902f-85c6976703f5",
        "colab": {
          "base_uri": "https://localhost:8080/",
          "height": 204
        }
      },
      "source": [
        "df <- data.frame(pop = pop$행정동, rest = rest$행정동, bicycle = bicycle$행정동,\n",
        "                 bigstore = bigstore$행정동, cvstore = cvstore$행정동, univ = univ$행정동, region = region$행정동)\n",
        "                 \n",
        "df"
      ],
      "execution_count": 54,
      "outputs": [
        {
          "output_type": "error",
          "ename": "ERROR",
          "evalue": "ignored",
          "traceback": [
            "Error in data.frame(pop = pop$행정동, rest = rest$행정동, bicycle = bicycle$행정동, : arguments imply differing number of rows: 0, 35\nTraceback:\n",
            "1. data.frame(pop = pop$행정동, rest = rest$행정동, bicycle = bicycle$행정동, \n .     bigstore = bigstore$행정동, cvstore = cvstore$행정동, \n .     univ = univ$행정동, region = region$행정동)",
            "2. stop(gettextf(\"arguments imply differing number of rows: %s\", \n .     paste(unique(nrows), collapse = \", \")), domain = NA)"
          ]
        }
      ]
    },
    {
      "cell_type": "markdown",
      "metadata": {
        "id": "irzyYTUEEXS5"
      },
      "source": [
        "## 행정동을 기준으로 데이터 정리하기\n",
        "\n"
      ]
    },
    {
      "cell_type": "code",
      "metadata": {
        "id": "qu_ErOPb9LjQ",
        "outputId": "ca93abad-52c8-4ba5-a105-135d49622173",
        "colab": {
          "base_uri": "https://localhost:8080/",
          "height": 1000
        }
      },
      "source": [
        "jj <- merge(pop, rest)\n",
        "jj <- merge(jj, cvstore)\n",
        "jj <- merge(jj, region)\n",
        "jj <- merge(jj, bicycle)\n",
        "jj <- merge(jj, bigstore)\n",
        "jj <- merge(jj, univ)\n",
        "\n",
        "jj"
      ],
      "execution_count": 55,
      "outputs": [
        {
          "output_type": "display_data",
          "data": {
            "text/plain": [
              "      행정동  구     동      인구  항목      순위 값  비율... 편의점수 면적.km\n",
              "1     금암1동 덕진구 진북동  14924 덕진동     1   468 12.8    25       1.25   \n",
              "2     금암1동 덕진구 진북동  14924 우아2동    2   389 10.6    25       1.25   \n",
              "3     금암1동 덕진구 진북동  14924 송천1동    3   347  9.5    25       1.25   \n",
              "4     금암1동 덕진구 진북동  14924 인후3동    4   335  9.2    25       1.25   \n",
              "5     금암1동 덕진구 진북동  14924 금암1동    5   323  8.8    25       1.25   \n",
              "6     금암1동 덕진구 진북동  14924 송천2동    6   288  7.9    25       1.25   \n",
              "7     금암1동 덕진구 진북동  14924 우아1동    7   227  6.2    25       1.25   \n",
              "8     금암1동 덕진구 진북동  14924 여의동     8   184  5.0    25       1.25   \n",
              "9     금암1동 덕진구 진북동  14924 혁신동     9   176  4.8    25       1.25   \n",
              "10    금암1동 덕진구 진북동  14924 인후2동   10   174  4.8    25       1.25   \n",
              "11    금암1동 덕진구 진북동  14924 인후1동   11   147  4.0    25       1.25   \n",
              "12    금암1동 덕진구 진북동  14924 진북동    12   145  4.0    25       1.25   \n",
              "13    금암1동 덕진구 진북동  14924 호성동    13   121  3.3    25       1.25   \n",
              "14    금암1동 덕진구 진북동  14924 팔복동    14   120  3.3    25       1.25   \n",
              "15    금암1동 덕진구 진북동  14924 금암2동   15   119  3.3    25       1.25   \n",
              "16    금암1동 덕진구 진북동  14924 조촌동    16    90  2.5    25       1.25   \n",
              "17    금암1동 덕진구 인후1동 19047 덕진동     1   468 12.8    25       1.25   \n",
              "18    금암1동 덕진구 인후1동 19047 우아2동    2   389 10.6    25       1.25   \n",
              "19    금암1동 덕진구 인후1동 19047 송천1동    3   347  9.5    25       1.25   \n",
              "20    금암1동 덕진구 인후1동 19047 인후3동    4   335  9.2    25       1.25   \n",
              "21    금암1동 덕진구 인후1동 19047 금암1동    5   323  8.8    25       1.25   \n",
              "22    금암1동 덕진구 인후1동 19047 송천2동    6   288  7.9    25       1.25   \n",
              "23    금암1동 덕진구 인후1동 19047 우아1동    7   227  6.2    25       1.25   \n",
              "24    금암1동 덕진구 인후1동 19047 여의동     8   184  5.0    25       1.25   \n",
              "25    금암1동 덕진구 인후1동 19047 혁신동     9   176  4.8    25       1.25   \n",
              "26    금암1동 덕진구 인후1동 19047 인후2동   10   174  4.8    25       1.25   \n",
              "27    금암1동 덕진구 인후1동 19047 인후1동   11   147  4.0    25       1.25   \n",
              "28    금암1동 덕진구 인후1동 19047 진북동    12   145  4.0    25       1.25   \n",
              "29    금암1동 덕진구 인후1동 19047 호성동    13   121  3.3    25       1.25   \n",
              "30    금암1동 덕진구 인후1동 19047 팔복동    14   120  3.3    25       1.25   \n",
              "⋮     ⋮       ⋮      ⋮       ⋮     ⋮         ⋮    ⋮   ⋮       ⋮        ⋮      \n",
              "21566 효자5동 완산구 효자4동 33756 삼천3동    9   219  4.2    60       6.27   \n",
              "21567 효자5동 완산구 효자4동 33756 삼천2동   10   216  4.1    60       6.27   \n",
              "21568 효자5동 완산구 효자4동 33756 노송동    11   193  3.7    60       6.27   \n",
              "21569 효자5동 완산구 효자4동 33756 효자3동   12   156  3.0    60       6.27   \n",
              "21570 효자5동 완산구 효자4동 33756 효자2동   13   144  2.8    60       6.27   \n",
              "21571 효자5동 완산구 효자4동 33756 평화1동   14   108  2.1    60       6.27   \n",
              "21572 효자5동 완산구 효자4동 33756 삼천1동   15    97  1.9    60       6.27   \n",
              "21573 효자5동 완산구 효자4동 33756 효자1동   16    72  1.4    60       6.27   \n",
              "21574 효자5동 완산구 효자4동 33756 동서학동  17    67  1.3    60       6.27   \n",
              "21575 효자5동 완산구 효자4동 33756 서서학동  18    54  1.0    60       6.27   \n",
              "21576 효자5동 완산구 효자4동 33756 완산동    19    17  0.3    60       6.27   \n",
              "21577 효자5동 완산구 효자5동 37898 효자5동    1   805 15.4    60       6.27   \n",
              "21578 효자5동 완산구 효자5동 37898 중앙동     2   567 10.8    60       6.27   \n",
              "21579 효자5동 완산구 효자5동 37898 서신동     3   560 10.7    60       6.27   \n",
              "21580 효자5동 완산구 효자5동 37898 중화산2동  4   491  9.4    60       6.27   \n",
              "21581 효자5동 완산구 효자5동 37898 풍남동     5   488  9.3    60       6.27   \n",
              "21582 효자5동 완산구 효자5동 37898 효자4동    6   378  7.2    60       6.27   \n",
              "21583 효자5동 완산구 효자5동 37898 평화2동    7   372  7.1    60       6.27   \n",
              "21584 효자5동 완산구 효자5동 37898 중화산1동  8   227  4.3    60       6.27   \n",
              "21585 효자5동 완산구 효자5동 37898 삼천3동    9   219  4.2    60       6.27   \n",
              "21586 효자5동 완산구 효자5동 37898 삼천2동   10   216  4.1    60       6.27   \n",
              "21587 효자5동 완산구 효자5동 37898 노송동    11   193  3.7    60       6.27   \n",
              "21588 효자5동 완산구 효자5동 37898 효자3동   12   156  3.0    60       6.27   \n",
              "21589 효자5동 완산구 효자5동 37898 효자2동   13   144  2.8    60       6.27   \n",
              "21590 효자5동 완산구 효자5동 37898 평화1동   14   108  2.1    60       6.27   \n",
              "21591 효자5동 완산구 효자5동 37898 삼천1동   15    97  1.9    60       6.27   \n",
              "21592 효자5동 완산구 효자5동 37898 효자1동   16    72  1.4    60       6.27   \n",
              "21593 효자5동 완산구 효자5동 37898 동서학동  17    67  1.3    60       6.27   \n",
              "21594 효자5동 완산구 효자5동 37898 서서학동  18    54  1.0    60       6.27   \n",
              "21595 효자5동 완산구 효자5동 37898 완산동    19    17  0.3    60       6.27   \n",
              "      자전거보관대수 대규모점포수 대학교수\n",
              "1     253            1            0       \n",
              "2     253            1            0       \n",
              "3     253            1            0       \n",
              "4     253            1            0       \n",
              "5     253            1            0       \n",
              "6     253            1            0       \n",
              "7     253            1            0       \n",
              "8     253            1            0       \n",
              "9     253            1            0       \n",
              "10    253            1            0       \n",
              "11    253            1            0       \n",
              "12    253            1            0       \n",
              "13    253            1            0       \n",
              "14    253            1            0       \n",
              "15    253            1            0       \n",
              "16    253            1            0       \n",
              "17    253            1            0       \n",
              "18    253            1            0       \n",
              "19    253            1            0       \n",
              "20    253            1            0       \n",
              "21    253            1            0       \n",
              "22    253            1            0       \n",
              "23    253            1            0       \n",
              "24    253            1            0       \n",
              "25    253            1            0       \n",
              "26    253            1            0       \n",
              "27    253            1            0       \n",
              "28    253            1            0       \n",
              "29    253            1            0       \n",
              "30    253            1            0       \n",
              "⋮     ⋮              ⋮            ⋮       \n",
              "21566 73             0            1       \n",
              "21567 73             0            1       \n",
              "21568 73             0            1       \n",
              "21569 73             0            1       \n",
              "21570 73             0            1       \n",
              "21571 73             0            1       \n",
              "21572 73             0            1       \n",
              "21573 73             0            1       \n",
              "21574 73             0            1       \n",
              "21575 73             0            1       \n",
              "21576 73             0            1       \n",
              "21577 73             0            1       \n",
              "21578 73             0            1       \n",
              "21579 73             0            1       \n",
              "21580 73             0            1       \n",
              "21581 73             0            1       \n",
              "21582 73             0            1       \n",
              "21583 73             0            1       \n",
              "21584 73             0            1       \n",
              "21585 73             0            1       \n",
              "21586 73             0            1       \n",
              "21587 73             0            1       \n",
              "21588 73             0            1       \n",
              "21589 73             0            1       \n",
              "21590 73             0            1       \n",
              "21591 73             0            1       \n",
              "21592 73             0            1       \n",
              "21593 73             0            1       \n",
              "21594 73             0            1       \n",
              "21595 73             0            1       "
            ],
            "text/latex": "A data.frame: 21595 × 13\n\\begin{tabular}{lllllllllllll}\n 행정동 & 구 & 동 & 인구 & 항목 & 순위 & 값 & 비율... & 편의점수 & 면적.km & 자전거보관대수 & 대규모점포수 & 대학교수\\\\\n <chr> & <chr> & <chr> & <int> & <chr> & <int> & <int> & <dbl> & <int> & <dbl> & <int> & <dbl> & <dbl>\\\\\n\\hline\n\t 금암1동 & 덕진구 & 진북동  & 14924 & 덕진동  &  1 & 468 & 12.8 & 25 & 1.25 & 253 & 1 & 0\\\\\n\t 금암1동 & 덕진구 & 진북동  & 14924 & 우아2동 &  2 & 389 & 10.6 & 25 & 1.25 & 253 & 1 & 0\\\\\n\t 금암1동 & 덕진구 & 진북동  & 14924 & 송천1동 &  3 & 347 &  9.5 & 25 & 1.25 & 253 & 1 & 0\\\\\n\t 금암1동 & 덕진구 & 진북동  & 14924 & 인후3동 &  4 & 335 &  9.2 & 25 & 1.25 & 253 & 1 & 0\\\\\n\t 금암1동 & 덕진구 & 진북동  & 14924 & 금암1동 &  5 & 323 &  8.8 & 25 & 1.25 & 253 & 1 & 0\\\\\n\t 금암1동 & 덕진구 & 진북동  & 14924 & 송천2동 &  6 & 288 &  7.9 & 25 & 1.25 & 253 & 1 & 0\\\\\n\t 금암1동 & 덕진구 & 진북동  & 14924 & 우아1동 &  7 & 227 &  6.2 & 25 & 1.25 & 253 & 1 & 0\\\\\n\t 금암1동 & 덕진구 & 진북동  & 14924 & 여의동  &  8 & 184 &  5.0 & 25 & 1.25 & 253 & 1 & 0\\\\\n\t 금암1동 & 덕진구 & 진북동  & 14924 & 혁신동  &  9 & 176 &  4.8 & 25 & 1.25 & 253 & 1 & 0\\\\\n\t 금암1동 & 덕진구 & 진북동  & 14924 & 인후2동 & 10 & 174 &  4.8 & 25 & 1.25 & 253 & 1 & 0\\\\\n\t 금암1동 & 덕진구 & 진북동  & 14924 & 인후1동 & 11 & 147 &  4.0 & 25 & 1.25 & 253 & 1 & 0\\\\\n\t 금암1동 & 덕진구 & 진북동  & 14924 & 진북동  & 12 & 145 &  4.0 & 25 & 1.25 & 253 & 1 & 0\\\\\n\t 금암1동 & 덕진구 & 진북동  & 14924 & 호성동  & 13 & 121 &  3.3 & 25 & 1.25 & 253 & 1 & 0\\\\\n\t 금암1동 & 덕진구 & 진북동  & 14924 & 팔복동  & 14 & 120 &  3.3 & 25 & 1.25 & 253 & 1 & 0\\\\\n\t 금암1동 & 덕진구 & 진북동  & 14924 & 금암2동 & 15 & 119 &  3.3 & 25 & 1.25 & 253 & 1 & 0\\\\\n\t 금암1동 & 덕진구 & 진북동  & 14924 & 조촌동  & 16 &  90 &  2.5 & 25 & 1.25 & 253 & 1 & 0\\\\\n\t 금암1동 & 덕진구 & 인후1동 & 19047 & 덕진동  &  1 & 468 & 12.8 & 25 & 1.25 & 253 & 1 & 0\\\\\n\t 금암1동 & 덕진구 & 인후1동 & 19047 & 우아2동 &  2 & 389 & 10.6 & 25 & 1.25 & 253 & 1 & 0\\\\\n\t 금암1동 & 덕진구 & 인후1동 & 19047 & 송천1동 &  3 & 347 &  9.5 & 25 & 1.25 & 253 & 1 & 0\\\\\n\t 금암1동 & 덕진구 & 인후1동 & 19047 & 인후3동 &  4 & 335 &  9.2 & 25 & 1.25 & 253 & 1 & 0\\\\\n\t 금암1동 & 덕진구 & 인후1동 & 19047 & 금암1동 &  5 & 323 &  8.8 & 25 & 1.25 & 253 & 1 & 0\\\\\n\t 금암1동 & 덕진구 & 인후1동 & 19047 & 송천2동 &  6 & 288 &  7.9 & 25 & 1.25 & 253 & 1 & 0\\\\\n\t 금암1동 & 덕진구 & 인후1동 & 19047 & 우아1동 &  7 & 227 &  6.2 & 25 & 1.25 & 253 & 1 & 0\\\\\n\t 금암1동 & 덕진구 & 인후1동 & 19047 & 여의동  &  8 & 184 &  5.0 & 25 & 1.25 & 253 & 1 & 0\\\\\n\t 금암1동 & 덕진구 & 인후1동 & 19047 & 혁신동  &  9 & 176 &  4.8 & 25 & 1.25 & 253 & 1 & 0\\\\\n\t 금암1동 & 덕진구 & 인후1동 & 19047 & 인후2동 & 10 & 174 &  4.8 & 25 & 1.25 & 253 & 1 & 0\\\\\n\t 금암1동 & 덕진구 & 인후1동 & 19047 & 인후1동 & 11 & 147 &  4.0 & 25 & 1.25 & 253 & 1 & 0\\\\\n\t 금암1동 & 덕진구 & 인후1동 & 19047 & 진북동  & 12 & 145 &  4.0 & 25 & 1.25 & 253 & 1 & 0\\\\\n\t 금암1동 & 덕진구 & 인후1동 & 19047 & 호성동  & 13 & 121 &  3.3 & 25 & 1.25 & 253 & 1 & 0\\\\\n\t 금암1동 & 덕진구 & 인후1동 & 19047 & 팔복동  & 14 & 120 &  3.3 & 25 & 1.25 & 253 & 1 & 0\\\\\n\t ⋮ & ⋮ & ⋮ & ⋮ & ⋮ & ⋮ & ⋮ & ⋮ & ⋮ & ⋮ & ⋮ & ⋮ & ⋮\\\\\n\t 효자5동 & 완산구 & 효자4동 & 33756 & 삼천3동   &  9 & 219 &  4.2 & 60 & 6.27 & 73 & 0 & 1\\\\\n\t 효자5동 & 완산구 & 효자4동 & 33756 & 삼천2동   & 10 & 216 &  4.1 & 60 & 6.27 & 73 & 0 & 1\\\\\n\t 효자5동 & 완산구 & 효자4동 & 33756 & 노송동    & 11 & 193 &  3.7 & 60 & 6.27 & 73 & 0 & 1\\\\\n\t 효자5동 & 완산구 & 효자4동 & 33756 & 효자3동   & 12 & 156 &  3.0 & 60 & 6.27 & 73 & 0 & 1\\\\\n\t 효자5동 & 완산구 & 효자4동 & 33756 & 효자2동   & 13 & 144 &  2.8 & 60 & 6.27 & 73 & 0 & 1\\\\\n\t 효자5동 & 완산구 & 효자4동 & 33756 & 평화1동   & 14 & 108 &  2.1 & 60 & 6.27 & 73 & 0 & 1\\\\\n\t 효자5동 & 완산구 & 효자4동 & 33756 & 삼천1동   & 15 &  97 &  1.9 & 60 & 6.27 & 73 & 0 & 1\\\\\n\t 효자5동 & 완산구 & 효자4동 & 33756 & 효자1동   & 16 &  72 &  1.4 & 60 & 6.27 & 73 & 0 & 1\\\\\n\t 효자5동 & 완산구 & 효자4동 & 33756 & 동서학동  & 17 &  67 &  1.3 & 60 & 6.27 & 73 & 0 & 1\\\\\n\t 효자5동 & 완산구 & 효자4동 & 33756 & 서서학동  & 18 &  54 &  1.0 & 60 & 6.27 & 73 & 0 & 1\\\\\n\t 효자5동 & 완산구 & 효자4동 & 33756 & 완산동    & 19 &  17 &  0.3 & 60 & 6.27 & 73 & 0 & 1\\\\\n\t 효자5동 & 완산구 & 효자5동 & 37898 & 효자5동   &  1 & 805 & 15.4 & 60 & 6.27 & 73 & 0 & 1\\\\\n\t 효자5동 & 완산구 & 효자5동 & 37898 & 중앙동    &  2 & 567 & 10.8 & 60 & 6.27 & 73 & 0 & 1\\\\\n\t 효자5동 & 완산구 & 효자5동 & 37898 & 서신동    &  3 & 560 & 10.7 & 60 & 6.27 & 73 & 0 & 1\\\\\n\t 효자5동 & 완산구 & 효자5동 & 37898 & 중화산2동 &  4 & 491 &  9.4 & 60 & 6.27 & 73 & 0 & 1\\\\\n\t 효자5동 & 완산구 & 효자5동 & 37898 & 풍남동    &  5 & 488 &  9.3 & 60 & 6.27 & 73 & 0 & 1\\\\\n\t 효자5동 & 완산구 & 효자5동 & 37898 & 효자4동   &  6 & 378 &  7.2 & 60 & 6.27 & 73 & 0 & 1\\\\\n\t 효자5동 & 완산구 & 효자5동 & 37898 & 평화2동   &  7 & 372 &  7.1 & 60 & 6.27 & 73 & 0 & 1\\\\\n\t 효자5동 & 완산구 & 효자5동 & 37898 & 중화산1동 &  8 & 227 &  4.3 & 60 & 6.27 & 73 & 0 & 1\\\\\n\t 효자5동 & 완산구 & 효자5동 & 37898 & 삼천3동   &  9 & 219 &  4.2 & 60 & 6.27 & 73 & 0 & 1\\\\\n\t 효자5동 & 완산구 & 효자5동 & 37898 & 삼천2동   & 10 & 216 &  4.1 & 60 & 6.27 & 73 & 0 & 1\\\\\n\t 효자5동 & 완산구 & 효자5동 & 37898 & 노송동    & 11 & 193 &  3.7 & 60 & 6.27 & 73 & 0 & 1\\\\\n\t 효자5동 & 완산구 & 효자5동 & 37898 & 효자3동   & 12 & 156 &  3.0 & 60 & 6.27 & 73 & 0 & 1\\\\\n\t 효자5동 & 완산구 & 효자5동 & 37898 & 효자2동   & 13 & 144 &  2.8 & 60 & 6.27 & 73 & 0 & 1\\\\\n\t 효자5동 & 완산구 & 효자5동 & 37898 & 평화1동   & 14 & 108 &  2.1 & 60 & 6.27 & 73 & 0 & 1\\\\\n\t 효자5동 & 완산구 & 효자5동 & 37898 & 삼천1동   & 15 &  97 &  1.9 & 60 & 6.27 & 73 & 0 & 1\\\\\n\t 효자5동 & 완산구 & 효자5동 & 37898 & 효자1동   & 16 &  72 &  1.4 & 60 & 6.27 & 73 & 0 & 1\\\\\n\t 효자5동 & 완산구 & 효자5동 & 37898 & 동서학동  & 17 &  67 &  1.3 & 60 & 6.27 & 73 & 0 & 1\\\\\n\t 효자5동 & 완산구 & 효자5동 & 37898 & 서서학동  & 18 &  54 &  1.0 & 60 & 6.27 & 73 & 0 & 1\\\\\n\t 효자5동 & 완산구 & 효자5동 & 37898 & 완산동    & 19 &  17 &  0.3 & 60 & 6.27 & 73 & 0 & 1\\\\\n\\end{tabular}\n",
            "text/markdown": "\nA data.frame: 21595 × 13\n\n| 행정동 &lt;chr&gt; | 구 &lt;chr&gt; | 동 &lt;chr&gt; | 인구 &lt;int&gt; | 항목 &lt;chr&gt; | 순위 &lt;int&gt; | 값 &lt;int&gt; | 비율... &lt;dbl&gt; | 편의점수 &lt;int&gt; | 면적.km &lt;dbl&gt; | 자전거보관대수 &lt;int&gt; | 대규모점포수 &lt;dbl&gt; | 대학교수 &lt;dbl&gt; |\n|---|---|---|---|---|---|---|---|---|---|---|---|---|\n| 금암1동 | 덕진구 | 진북동  | 14924 | 덕진동  |  1 | 468 | 12.8 | 25 | 1.25 | 253 | 1 | 0 |\n| 금암1동 | 덕진구 | 진북동  | 14924 | 우아2동 |  2 | 389 | 10.6 | 25 | 1.25 | 253 | 1 | 0 |\n| 금암1동 | 덕진구 | 진북동  | 14924 | 송천1동 |  3 | 347 |  9.5 | 25 | 1.25 | 253 | 1 | 0 |\n| 금암1동 | 덕진구 | 진북동  | 14924 | 인후3동 |  4 | 335 |  9.2 | 25 | 1.25 | 253 | 1 | 0 |\n| 금암1동 | 덕진구 | 진북동  | 14924 | 금암1동 |  5 | 323 |  8.8 | 25 | 1.25 | 253 | 1 | 0 |\n| 금암1동 | 덕진구 | 진북동  | 14924 | 송천2동 |  6 | 288 |  7.9 | 25 | 1.25 | 253 | 1 | 0 |\n| 금암1동 | 덕진구 | 진북동  | 14924 | 우아1동 |  7 | 227 |  6.2 | 25 | 1.25 | 253 | 1 | 0 |\n| 금암1동 | 덕진구 | 진북동  | 14924 | 여의동  |  8 | 184 |  5.0 | 25 | 1.25 | 253 | 1 | 0 |\n| 금암1동 | 덕진구 | 진북동  | 14924 | 혁신동  |  9 | 176 |  4.8 | 25 | 1.25 | 253 | 1 | 0 |\n| 금암1동 | 덕진구 | 진북동  | 14924 | 인후2동 | 10 | 174 |  4.8 | 25 | 1.25 | 253 | 1 | 0 |\n| 금암1동 | 덕진구 | 진북동  | 14924 | 인후1동 | 11 | 147 |  4.0 | 25 | 1.25 | 253 | 1 | 0 |\n| 금암1동 | 덕진구 | 진북동  | 14924 | 진북동  | 12 | 145 |  4.0 | 25 | 1.25 | 253 | 1 | 0 |\n| 금암1동 | 덕진구 | 진북동  | 14924 | 호성동  | 13 | 121 |  3.3 | 25 | 1.25 | 253 | 1 | 0 |\n| 금암1동 | 덕진구 | 진북동  | 14924 | 팔복동  | 14 | 120 |  3.3 | 25 | 1.25 | 253 | 1 | 0 |\n| 금암1동 | 덕진구 | 진북동  | 14924 | 금암2동 | 15 | 119 |  3.3 | 25 | 1.25 | 253 | 1 | 0 |\n| 금암1동 | 덕진구 | 진북동  | 14924 | 조촌동  | 16 |  90 |  2.5 | 25 | 1.25 | 253 | 1 | 0 |\n| 금암1동 | 덕진구 | 인후1동 | 19047 | 덕진동  |  1 | 468 | 12.8 | 25 | 1.25 | 253 | 1 | 0 |\n| 금암1동 | 덕진구 | 인후1동 | 19047 | 우아2동 |  2 | 389 | 10.6 | 25 | 1.25 | 253 | 1 | 0 |\n| 금암1동 | 덕진구 | 인후1동 | 19047 | 송천1동 |  3 | 347 |  9.5 | 25 | 1.25 | 253 | 1 | 0 |\n| 금암1동 | 덕진구 | 인후1동 | 19047 | 인후3동 |  4 | 335 |  9.2 | 25 | 1.25 | 253 | 1 | 0 |\n| 금암1동 | 덕진구 | 인후1동 | 19047 | 금암1동 |  5 | 323 |  8.8 | 25 | 1.25 | 253 | 1 | 0 |\n| 금암1동 | 덕진구 | 인후1동 | 19047 | 송천2동 |  6 | 288 |  7.9 | 25 | 1.25 | 253 | 1 | 0 |\n| 금암1동 | 덕진구 | 인후1동 | 19047 | 우아1동 |  7 | 227 |  6.2 | 25 | 1.25 | 253 | 1 | 0 |\n| 금암1동 | 덕진구 | 인후1동 | 19047 | 여의동  |  8 | 184 |  5.0 | 25 | 1.25 | 253 | 1 | 0 |\n| 금암1동 | 덕진구 | 인후1동 | 19047 | 혁신동  |  9 | 176 |  4.8 | 25 | 1.25 | 253 | 1 | 0 |\n| 금암1동 | 덕진구 | 인후1동 | 19047 | 인후2동 | 10 | 174 |  4.8 | 25 | 1.25 | 253 | 1 | 0 |\n| 금암1동 | 덕진구 | 인후1동 | 19047 | 인후1동 | 11 | 147 |  4.0 | 25 | 1.25 | 253 | 1 | 0 |\n| 금암1동 | 덕진구 | 인후1동 | 19047 | 진북동  | 12 | 145 |  4.0 | 25 | 1.25 | 253 | 1 | 0 |\n| 금암1동 | 덕진구 | 인후1동 | 19047 | 호성동  | 13 | 121 |  3.3 | 25 | 1.25 | 253 | 1 | 0 |\n| 금암1동 | 덕진구 | 인후1동 | 19047 | 팔복동  | 14 | 120 |  3.3 | 25 | 1.25 | 253 | 1 | 0 |\n| ⋮ | ⋮ | ⋮ | ⋮ | ⋮ | ⋮ | ⋮ | ⋮ | ⋮ | ⋮ | ⋮ | ⋮ | ⋮ |\n| 효자5동 | 완산구 | 효자4동 | 33756 | 삼천3동   |  9 | 219 |  4.2 | 60 | 6.27 | 73 | 0 | 1 |\n| 효자5동 | 완산구 | 효자4동 | 33756 | 삼천2동   | 10 | 216 |  4.1 | 60 | 6.27 | 73 | 0 | 1 |\n| 효자5동 | 완산구 | 효자4동 | 33756 | 노송동    | 11 | 193 |  3.7 | 60 | 6.27 | 73 | 0 | 1 |\n| 효자5동 | 완산구 | 효자4동 | 33756 | 효자3동   | 12 | 156 |  3.0 | 60 | 6.27 | 73 | 0 | 1 |\n| 효자5동 | 완산구 | 효자4동 | 33756 | 효자2동   | 13 | 144 |  2.8 | 60 | 6.27 | 73 | 0 | 1 |\n| 효자5동 | 완산구 | 효자4동 | 33756 | 평화1동   | 14 | 108 |  2.1 | 60 | 6.27 | 73 | 0 | 1 |\n| 효자5동 | 완산구 | 효자4동 | 33756 | 삼천1동   | 15 |  97 |  1.9 | 60 | 6.27 | 73 | 0 | 1 |\n| 효자5동 | 완산구 | 효자4동 | 33756 | 효자1동   | 16 |  72 |  1.4 | 60 | 6.27 | 73 | 0 | 1 |\n| 효자5동 | 완산구 | 효자4동 | 33756 | 동서학동  | 17 |  67 |  1.3 | 60 | 6.27 | 73 | 0 | 1 |\n| 효자5동 | 완산구 | 효자4동 | 33756 | 서서학동  | 18 |  54 |  1.0 | 60 | 6.27 | 73 | 0 | 1 |\n| 효자5동 | 완산구 | 효자4동 | 33756 | 완산동    | 19 |  17 |  0.3 | 60 | 6.27 | 73 | 0 | 1 |\n| 효자5동 | 완산구 | 효자5동 | 37898 | 효자5동   |  1 | 805 | 15.4 | 60 | 6.27 | 73 | 0 | 1 |\n| 효자5동 | 완산구 | 효자5동 | 37898 | 중앙동    |  2 | 567 | 10.8 | 60 | 6.27 | 73 | 0 | 1 |\n| 효자5동 | 완산구 | 효자5동 | 37898 | 서신동    |  3 | 560 | 10.7 | 60 | 6.27 | 73 | 0 | 1 |\n| 효자5동 | 완산구 | 효자5동 | 37898 | 중화산2동 |  4 | 491 |  9.4 | 60 | 6.27 | 73 | 0 | 1 |\n| 효자5동 | 완산구 | 효자5동 | 37898 | 풍남동    |  5 | 488 |  9.3 | 60 | 6.27 | 73 | 0 | 1 |\n| 효자5동 | 완산구 | 효자5동 | 37898 | 효자4동   |  6 | 378 |  7.2 | 60 | 6.27 | 73 | 0 | 1 |\n| 효자5동 | 완산구 | 효자5동 | 37898 | 평화2동   |  7 | 372 |  7.1 | 60 | 6.27 | 73 | 0 | 1 |\n| 효자5동 | 완산구 | 효자5동 | 37898 | 중화산1동 |  8 | 227 |  4.3 | 60 | 6.27 | 73 | 0 | 1 |\n| 효자5동 | 완산구 | 효자5동 | 37898 | 삼천3동   |  9 | 219 |  4.2 | 60 | 6.27 | 73 | 0 | 1 |\n| 효자5동 | 완산구 | 효자5동 | 37898 | 삼천2동   | 10 | 216 |  4.1 | 60 | 6.27 | 73 | 0 | 1 |\n| 효자5동 | 완산구 | 효자5동 | 37898 | 노송동    | 11 | 193 |  3.7 | 60 | 6.27 | 73 | 0 | 1 |\n| 효자5동 | 완산구 | 효자5동 | 37898 | 효자3동   | 12 | 156 |  3.0 | 60 | 6.27 | 73 | 0 | 1 |\n| 효자5동 | 완산구 | 효자5동 | 37898 | 효자2동   | 13 | 144 |  2.8 | 60 | 6.27 | 73 | 0 | 1 |\n| 효자5동 | 완산구 | 효자5동 | 37898 | 평화1동   | 14 | 108 |  2.1 | 60 | 6.27 | 73 | 0 | 1 |\n| 효자5동 | 완산구 | 효자5동 | 37898 | 삼천1동   | 15 |  97 |  1.9 | 60 | 6.27 | 73 | 0 | 1 |\n| 효자5동 | 완산구 | 효자5동 | 37898 | 효자1동   | 16 |  72 |  1.4 | 60 | 6.27 | 73 | 0 | 1 |\n| 효자5동 | 완산구 | 효자5동 | 37898 | 동서학동  | 17 |  67 |  1.3 | 60 | 6.27 | 73 | 0 | 1 |\n| 효자5동 | 완산구 | 효자5동 | 37898 | 서서학동  | 18 |  54 |  1.0 | 60 | 6.27 | 73 | 0 | 1 |\n| 효자5동 | 완산구 | 효자5동 | 37898 | 완산동    | 19 |  17 |  0.3 | 60 | 6.27 | 73 | 0 | 1 |\n\n",
            "text/html": [
              "<table class=\"dataframe\">\n",
              "<caption>A data.frame: 21595 × 13</caption>\n",
              "<thead>\n",
              "\t<tr><th scope=col>행정동</th><th scope=col>구</th><th scope=col>동</th><th scope=col>인구</th><th scope=col>항목</th><th scope=col>순위</th><th scope=col>값</th><th scope=col>비율...</th><th scope=col>편의점수</th><th scope=col>면적.km</th><th scope=col>자전거보관대수</th><th scope=col>대규모점포수</th><th scope=col>대학교수</th></tr>\n",
              "\t<tr><th scope=col>&lt;chr&gt;</th><th scope=col>&lt;chr&gt;</th><th scope=col>&lt;chr&gt;</th><th scope=col>&lt;int&gt;</th><th scope=col>&lt;chr&gt;</th><th scope=col>&lt;int&gt;</th><th scope=col>&lt;int&gt;</th><th scope=col>&lt;dbl&gt;</th><th scope=col>&lt;int&gt;</th><th scope=col>&lt;dbl&gt;</th><th scope=col>&lt;int&gt;</th><th scope=col>&lt;dbl&gt;</th><th scope=col>&lt;dbl&gt;</th></tr>\n",
              "</thead>\n",
              "<tbody>\n",
              "\t<tr><td>금암1동</td><td>덕진구</td><td>진북동 </td><td>14924</td><td>덕진동 </td><td> 1</td><td>468</td><td>12.8</td><td>25</td><td>1.25</td><td>253</td><td>1</td><td>0</td></tr>\n",
              "\t<tr><td>금암1동</td><td>덕진구</td><td>진북동 </td><td>14924</td><td>우아2동</td><td> 2</td><td>389</td><td>10.6</td><td>25</td><td>1.25</td><td>253</td><td>1</td><td>0</td></tr>\n",
              "\t<tr><td>금암1동</td><td>덕진구</td><td>진북동 </td><td>14924</td><td>송천1동</td><td> 3</td><td>347</td><td> 9.5</td><td>25</td><td>1.25</td><td>253</td><td>1</td><td>0</td></tr>\n",
              "\t<tr><td>금암1동</td><td>덕진구</td><td>진북동 </td><td>14924</td><td>인후3동</td><td> 4</td><td>335</td><td> 9.2</td><td>25</td><td>1.25</td><td>253</td><td>1</td><td>0</td></tr>\n",
              "\t<tr><td>금암1동</td><td>덕진구</td><td>진북동 </td><td>14924</td><td>금암1동</td><td> 5</td><td>323</td><td> 8.8</td><td>25</td><td>1.25</td><td>253</td><td>1</td><td>0</td></tr>\n",
              "\t<tr><td>금암1동</td><td>덕진구</td><td>진북동 </td><td>14924</td><td>송천2동</td><td> 6</td><td>288</td><td> 7.9</td><td>25</td><td>1.25</td><td>253</td><td>1</td><td>0</td></tr>\n",
              "\t<tr><td>금암1동</td><td>덕진구</td><td>진북동 </td><td>14924</td><td>우아1동</td><td> 7</td><td>227</td><td> 6.2</td><td>25</td><td>1.25</td><td>253</td><td>1</td><td>0</td></tr>\n",
              "\t<tr><td>금암1동</td><td>덕진구</td><td>진북동 </td><td>14924</td><td>여의동 </td><td> 8</td><td>184</td><td> 5.0</td><td>25</td><td>1.25</td><td>253</td><td>1</td><td>0</td></tr>\n",
              "\t<tr><td>금암1동</td><td>덕진구</td><td>진북동 </td><td>14924</td><td>혁신동 </td><td> 9</td><td>176</td><td> 4.8</td><td>25</td><td>1.25</td><td>253</td><td>1</td><td>0</td></tr>\n",
              "\t<tr><td>금암1동</td><td>덕진구</td><td>진북동 </td><td>14924</td><td>인후2동</td><td>10</td><td>174</td><td> 4.8</td><td>25</td><td>1.25</td><td>253</td><td>1</td><td>0</td></tr>\n",
              "\t<tr><td>금암1동</td><td>덕진구</td><td>진북동 </td><td>14924</td><td>인후1동</td><td>11</td><td>147</td><td> 4.0</td><td>25</td><td>1.25</td><td>253</td><td>1</td><td>0</td></tr>\n",
              "\t<tr><td>금암1동</td><td>덕진구</td><td>진북동 </td><td>14924</td><td>진북동 </td><td>12</td><td>145</td><td> 4.0</td><td>25</td><td>1.25</td><td>253</td><td>1</td><td>0</td></tr>\n",
              "\t<tr><td>금암1동</td><td>덕진구</td><td>진북동 </td><td>14924</td><td>호성동 </td><td>13</td><td>121</td><td> 3.3</td><td>25</td><td>1.25</td><td>253</td><td>1</td><td>0</td></tr>\n",
              "\t<tr><td>금암1동</td><td>덕진구</td><td>진북동 </td><td>14924</td><td>팔복동 </td><td>14</td><td>120</td><td> 3.3</td><td>25</td><td>1.25</td><td>253</td><td>1</td><td>0</td></tr>\n",
              "\t<tr><td>금암1동</td><td>덕진구</td><td>진북동 </td><td>14924</td><td>금암2동</td><td>15</td><td>119</td><td> 3.3</td><td>25</td><td>1.25</td><td>253</td><td>1</td><td>0</td></tr>\n",
              "\t<tr><td>금암1동</td><td>덕진구</td><td>진북동 </td><td>14924</td><td>조촌동 </td><td>16</td><td> 90</td><td> 2.5</td><td>25</td><td>1.25</td><td>253</td><td>1</td><td>0</td></tr>\n",
              "\t<tr><td>금암1동</td><td>덕진구</td><td>인후1동</td><td>19047</td><td>덕진동 </td><td> 1</td><td>468</td><td>12.8</td><td>25</td><td>1.25</td><td>253</td><td>1</td><td>0</td></tr>\n",
              "\t<tr><td>금암1동</td><td>덕진구</td><td>인후1동</td><td>19047</td><td>우아2동</td><td> 2</td><td>389</td><td>10.6</td><td>25</td><td>1.25</td><td>253</td><td>1</td><td>0</td></tr>\n",
              "\t<tr><td>금암1동</td><td>덕진구</td><td>인후1동</td><td>19047</td><td>송천1동</td><td> 3</td><td>347</td><td> 9.5</td><td>25</td><td>1.25</td><td>253</td><td>1</td><td>0</td></tr>\n",
              "\t<tr><td>금암1동</td><td>덕진구</td><td>인후1동</td><td>19047</td><td>인후3동</td><td> 4</td><td>335</td><td> 9.2</td><td>25</td><td>1.25</td><td>253</td><td>1</td><td>0</td></tr>\n",
              "\t<tr><td>금암1동</td><td>덕진구</td><td>인후1동</td><td>19047</td><td>금암1동</td><td> 5</td><td>323</td><td> 8.8</td><td>25</td><td>1.25</td><td>253</td><td>1</td><td>0</td></tr>\n",
              "\t<tr><td>금암1동</td><td>덕진구</td><td>인후1동</td><td>19047</td><td>송천2동</td><td> 6</td><td>288</td><td> 7.9</td><td>25</td><td>1.25</td><td>253</td><td>1</td><td>0</td></tr>\n",
              "\t<tr><td>금암1동</td><td>덕진구</td><td>인후1동</td><td>19047</td><td>우아1동</td><td> 7</td><td>227</td><td> 6.2</td><td>25</td><td>1.25</td><td>253</td><td>1</td><td>0</td></tr>\n",
              "\t<tr><td>금암1동</td><td>덕진구</td><td>인후1동</td><td>19047</td><td>여의동 </td><td> 8</td><td>184</td><td> 5.0</td><td>25</td><td>1.25</td><td>253</td><td>1</td><td>0</td></tr>\n",
              "\t<tr><td>금암1동</td><td>덕진구</td><td>인후1동</td><td>19047</td><td>혁신동 </td><td> 9</td><td>176</td><td> 4.8</td><td>25</td><td>1.25</td><td>253</td><td>1</td><td>0</td></tr>\n",
              "\t<tr><td>금암1동</td><td>덕진구</td><td>인후1동</td><td>19047</td><td>인후2동</td><td>10</td><td>174</td><td> 4.8</td><td>25</td><td>1.25</td><td>253</td><td>1</td><td>0</td></tr>\n",
              "\t<tr><td>금암1동</td><td>덕진구</td><td>인후1동</td><td>19047</td><td>인후1동</td><td>11</td><td>147</td><td> 4.0</td><td>25</td><td>1.25</td><td>253</td><td>1</td><td>0</td></tr>\n",
              "\t<tr><td>금암1동</td><td>덕진구</td><td>인후1동</td><td>19047</td><td>진북동 </td><td>12</td><td>145</td><td> 4.0</td><td>25</td><td>1.25</td><td>253</td><td>1</td><td>0</td></tr>\n",
              "\t<tr><td>금암1동</td><td>덕진구</td><td>인후1동</td><td>19047</td><td>호성동 </td><td>13</td><td>121</td><td> 3.3</td><td>25</td><td>1.25</td><td>253</td><td>1</td><td>0</td></tr>\n",
              "\t<tr><td>금암1동</td><td>덕진구</td><td>인후1동</td><td>19047</td><td>팔복동 </td><td>14</td><td>120</td><td> 3.3</td><td>25</td><td>1.25</td><td>253</td><td>1</td><td>0</td></tr>\n",
              "\t<tr><td>⋮</td><td>⋮</td><td>⋮</td><td>⋮</td><td>⋮</td><td>⋮</td><td>⋮</td><td>⋮</td><td>⋮</td><td>⋮</td><td>⋮</td><td>⋮</td><td>⋮</td></tr>\n",
              "\t<tr><td>효자5동</td><td>완산구</td><td>효자4동</td><td>33756</td><td>삼천3동  </td><td> 9</td><td>219</td><td> 4.2</td><td>60</td><td>6.27</td><td>73</td><td>0</td><td>1</td></tr>\n",
              "\t<tr><td>효자5동</td><td>완산구</td><td>효자4동</td><td>33756</td><td>삼천2동  </td><td>10</td><td>216</td><td> 4.1</td><td>60</td><td>6.27</td><td>73</td><td>0</td><td>1</td></tr>\n",
              "\t<tr><td>효자5동</td><td>완산구</td><td>효자4동</td><td>33756</td><td>노송동   </td><td>11</td><td>193</td><td> 3.7</td><td>60</td><td>6.27</td><td>73</td><td>0</td><td>1</td></tr>\n",
              "\t<tr><td>효자5동</td><td>완산구</td><td>효자4동</td><td>33756</td><td>효자3동  </td><td>12</td><td>156</td><td> 3.0</td><td>60</td><td>6.27</td><td>73</td><td>0</td><td>1</td></tr>\n",
              "\t<tr><td>효자5동</td><td>완산구</td><td>효자4동</td><td>33756</td><td>효자2동  </td><td>13</td><td>144</td><td> 2.8</td><td>60</td><td>6.27</td><td>73</td><td>0</td><td>1</td></tr>\n",
              "\t<tr><td>효자5동</td><td>완산구</td><td>효자4동</td><td>33756</td><td>평화1동  </td><td>14</td><td>108</td><td> 2.1</td><td>60</td><td>6.27</td><td>73</td><td>0</td><td>1</td></tr>\n",
              "\t<tr><td>효자5동</td><td>완산구</td><td>효자4동</td><td>33756</td><td>삼천1동  </td><td>15</td><td> 97</td><td> 1.9</td><td>60</td><td>6.27</td><td>73</td><td>0</td><td>1</td></tr>\n",
              "\t<tr><td>효자5동</td><td>완산구</td><td>효자4동</td><td>33756</td><td>효자1동  </td><td>16</td><td> 72</td><td> 1.4</td><td>60</td><td>6.27</td><td>73</td><td>0</td><td>1</td></tr>\n",
              "\t<tr><td>효자5동</td><td>완산구</td><td>효자4동</td><td>33756</td><td>동서학동 </td><td>17</td><td> 67</td><td> 1.3</td><td>60</td><td>6.27</td><td>73</td><td>0</td><td>1</td></tr>\n",
              "\t<tr><td>효자5동</td><td>완산구</td><td>효자4동</td><td>33756</td><td>서서학동 </td><td>18</td><td> 54</td><td> 1.0</td><td>60</td><td>6.27</td><td>73</td><td>0</td><td>1</td></tr>\n",
              "\t<tr><td>효자5동</td><td>완산구</td><td>효자4동</td><td>33756</td><td>완산동   </td><td>19</td><td> 17</td><td> 0.3</td><td>60</td><td>6.27</td><td>73</td><td>0</td><td>1</td></tr>\n",
              "\t<tr><td>효자5동</td><td>완산구</td><td>효자5동</td><td>37898</td><td>효자5동  </td><td> 1</td><td>805</td><td>15.4</td><td>60</td><td>6.27</td><td>73</td><td>0</td><td>1</td></tr>\n",
              "\t<tr><td>효자5동</td><td>완산구</td><td>효자5동</td><td>37898</td><td>중앙동   </td><td> 2</td><td>567</td><td>10.8</td><td>60</td><td>6.27</td><td>73</td><td>0</td><td>1</td></tr>\n",
              "\t<tr><td>효자5동</td><td>완산구</td><td>효자5동</td><td>37898</td><td>서신동   </td><td> 3</td><td>560</td><td>10.7</td><td>60</td><td>6.27</td><td>73</td><td>0</td><td>1</td></tr>\n",
              "\t<tr><td>효자5동</td><td>완산구</td><td>효자5동</td><td>37898</td><td>중화산2동</td><td> 4</td><td>491</td><td> 9.4</td><td>60</td><td>6.27</td><td>73</td><td>0</td><td>1</td></tr>\n",
              "\t<tr><td>효자5동</td><td>완산구</td><td>효자5동</td><td>37898</td><td>풍남동   </td><td> 5</td><td>488</td><td> 9.3</td><td>60</td><td>6.27</td><td>73</td><td>0</td><td>1</td></tr>\n",
              "\t<tr><td>효자5동</td><td>완산구</td><td>효자5동</td><td>37898</td><td>효자4동  </td><td> 6</td><td>378</td><td> 7.2</td><td>60</td><td>6.27</td><td>73</td><td>0</td><td>1</td></tr>\n",
              "\t<tr><td>효자5동</td><td>완산구</td><td>효자5동</td><td>37898</td><td>평화2동  </td><td> 7</td><td>372</td><td> 7.1</td><td>60</td><td>6.27</td><td>73</td><td>0</td><td>1</td></tr>\n",
              "\t<tr><td>효자5동</td><td>완산구</td><td>효자5동</td><td>37898</td><td>중화산1동</td><td> 8</td><td>227</td><td> 4.3</td><td>60</td><td>6.27</td><td>73</td><td>0</td><td>1</td></tr>\n",
              "\t<tr><td>효자5동</td><td>완산구</td><td>효자5동</td><td>37898</td><td>삼천3동  </td><td> 9</td><td>219</td><td> 4.2</td><td>60</td><td>6.27</td><td>73</td><td>0</td><td>1</td></tr>\n",
              "\t<tr><td>효자5동</td><td>완산구</td><td>효자5동</td><td>37898</td><td>삼천2동  </td><td>10</td><td>216</td><td> 4.1</td><td>60</td><td>6.27</td><td>73</td><td>0</td><td>1</td></tr>\n",
              "\t<tr><td>효자5동</td><td>완산구</td><td>효자5동</td><td>37898</td><td>노송동   </td><td>11</td><td>193</td><td> 3.7</td><td>60</td><td>6.27</td><td>73</td><td>0</td><td>1</td></tr>\n",
              "\t<tr><td>효자5동</td><td>완산구</td><td>효자5동</td><td>37898</td><td>효자3동  </td><td>12</td><td>156</td><td> 3.0</td><td>60</td><td>6.27</td><td>73</td><td>0</td><td>1</td></tr>\n",
              "\t<tr><td>효자5동</td><td>완산구</td><td>효자5동</td><td>37898</td><td>효자2동  </td><td>13</td><td>144</td><td> 2.8</td><td>60</td><td>6.27</td><td>73</td><td>0</td><td>1</td></tr>\n",
              "\t<tr><td>효자5동</td><td>완산구</td><td>효자5동</td><td>37898</td><td>평화1동  </td><td>14</td><td>108</td><td> 2.1</td><td>60</td><td>6.27</td><td>73</td><td>0</td><td>1</td></tr>\n",
              "\t<tr><td>효자5동</td><td>완산구</td><td>효자5동</td><td>37898</td><td>삼천1동  </td><td>15</td><td> 97</td><td> 1.9</td><td>60</td><td>6.27</td><td>73</td><td>0</td><td>1</td></tr>\n",
              "\t<tr><td>효자5동</td><td>완산구</td><td>효자5동</td><td>37898</td><td>효자1동  </td><td>16</td><td> 72</td><td> 1.4</td><td>60</td><td>6.27</td><td>73</td><td>0</td><td>1</td></tr>\n",
              "\t<tr><td>효자5동</td><td>완산구</td><td>효자5동</td><td>37898</td><td>동서학동 </td><td>17</td><td> 67</td><td> 1.3</td><td>60</td><td>6.27</td><td>73</td><td>0</td><td>1</td></tr>\n",
              "\t<tr><td>효자5동</td><td>완산구</td><td>효자5동</td><td>37898</td><td>서서학동 </td><td>18</td><td> 54</td><td> 1.0</td><td>60</td><td>6.27</td><td>73</td><td>0</td><td>1</td></tr>\n",
              "\t<tr><td>효자5동</td><td>완산구</td><td>효자5동</td><td>37898</td><td>완산동   </td><td>19</td><td> 17</td><td> 0.3</td><td>60</td><td>6.27</td><td>73</td><td>0</td><td>1</td></tr>\n",
              "</tbody>\n",
              "</table>\n"
            ]
          },
          "metadata": {
            "tags": []
          }
        }
      ]
    },
    {
      "cell_type": "markdown",
      "metadata": {
        "id": "1zBPcz7mEib5"
      },
      "source": [
        "데이터에 있는 NA 값은 각 변수의 중앙값으로 교체"
      ]
    },
    {
      "cell_type": "code",
      "metadata": {
        "id": "y6Ia-RBMAPKp"
      },
      "source": [
        "jj[is.na(jj$인구) == TRUE ] <- median(jj$인구)\n",
        "jj[is.na(jj$음식점수) == TRUE ] <- median(jj$음식점수)\n",
        "jj[is.na(jj$편의점수) == TRUE ] <- median(jj$편의점수)\n",
        "jj[is.na(jj$면적.km) == TRUE ] <- median(jj$면적.km)\n",
        "jj[is.na(jj$자전거보관대수) == TRUE ] <- median(jj$자전거보관대수)\n",
        "jj[is.na(jj$대규모점포수) == TRUE ] <- median(jj$대규모점포수)\n",
        "jj[is.na(jj$대학교수) == TRUE ] <- median(jj$대학교수)"
      ],
      "execution_count": null,
      "outputs": []
    },
    {
      "cell_type": "code",
      "metadata": {
        "id": "QK_glJhLAUSU"
      },
      "source": [
        "jj <- jj[,-1]\n",
        "jj"
      ],
      "execution_count": null,
      "outputs": []
    },
    {
      "cell_type": "code",
      "metadata": {
        "id": "pGhpOb8fASOF"
      },
      "source": [
        "cor(jj)"
      ],
      "execution_count": null,
      "outputs": []
    }
  ]
}